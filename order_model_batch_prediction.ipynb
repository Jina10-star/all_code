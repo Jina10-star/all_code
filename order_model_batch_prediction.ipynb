{
 "cells": [
  {
   "cell_type": "code",
   "execution_count": null,
   "metadata": {},
   "outputs": [],
   "source": [
    "user='{your_email}@uber.com'\n",
    "drogon_token = '{enter_your_drogon_token_here}'\n",
    "\n",
    "hive_in='next.repeated_eats_order_prediction_features_global'\n",
    "\n",
    "models = {\n",
    "    'tm20210702-155235-DEKXIXRB-DSUGVX': {\n",
    "        'predicted_label': '@prediction|predict',\n",
    "        'predicted_prob_true': '@prediction|true',\n",
    "        'project': 'next_eats_order_prediction'\n",
    "    }\n",
    "}\n",
    "datacenter = 'PHX2' \n",
    "start_date = '2021-06-28'\n",
    "end_date = '2021-06-28'\n",
    "model_output = 'predict'\n",
    "custom_prediction_filter = \"\"\n",
    "\n",
    "\n",
    "\n",
    "spark_queue='/MappingServices/MapDataCalifornia/Basemap'\n",
    "cluster='phx4/prod02'\n",
    "\"\"\"\n",
    "# spark_queue='/MappingServices/MapDataColorado/Mapstore'\n",
    "# cluster='phx4/prod02'\n",
    "\n",
    "spark_queue='/MappingServices/MapDataCalifornia/Basemap'\n",
    "cluster='phx4/prod02'\n",
    "\"\"\""
   ]
  },
  {
   "cell_type": "code",
   "execution_count": null,
   "metadata": {},
   "outputs": [],
   "source": [
    "# MA settings\n",
    "jobs_config = {\n",
    "    \"is_prod\": True\n",
    "}\n",
    "# spark_config = {\n",
    "#     \"spark.yarn.executor.memoryOverhead\" :\"16g\",\n",
    "#     \"spark.ext.michelangelo.num_input_partitions\": '1800'\n",
    "# }"
   ]
  },
  {
   "cell_type": "code",
   "execution_count": null,
   "metadata": {},
   "outputs": [],
   "source": [
    "!echo $VIRTUAL_ENV_DIR"
   ]
  },
  {
   "cell_type": "code",
   "execution_count": null,
   "metadata": {},
   "outputs": [],
   "source": [
    "!python --version"
   ]
  },
  {
   "cell_type": "code",
   "execution_count": null,
   "metadata": {},
   "outputs": [],
   "source": [
    "!python --version"
   ]
  },
  {
   "cell_type": "code",
   "execution_count": null,
   "metadata": {},
   "outputs": [],
   "source": [
    "import michelangelo_python_client\n",
    "print(\"michelangelo_python_client==\" + michelangelo_python_client.__version__)"
   ]
  },
  {
   "cell_type": "code",
   "execution_count": null,
   "metadata": {},
   "outputs": [],
   "source": [
    "!python -m pip install -U michelangelo_python_client"
   ]
  },
  {
   "cell_type": "code",
   "execution_count": null,
   "metadata": {},
   "outputs": [],
   "source": [
    "!pip install queryrunner_client"
   ]
  },
  {
   "cell_type": "code",
   "execution_count": null,
   "metadata": {
    "scrolled": true
   },
   "outputs": [],
   "source": [
    "!install_package_python3.sh michelangelo-python-client==0.6.163"
   ]
  },
  {
   "cell_type": "code",
   "execution_count": null,
   "metadata": {},
   "outputs": [],
   "source": [
    "!install_package_python3.sh queryrunner_client"
   ]
  },
  {
   "cell_type": "code",
   "execution_count": null,
   "metadata": {},
   "outputs": [],
   "source": [
    "!install_package_python3.sh michelangelo_python_client"
   ]
  },
  {
   "cell_type": "code",
   "execution_count": null,
   "metadata": {},
   "outputs": [],
   "source": [
    "import pandas as pd\n",
    "from queryrunner_client import Client\n",
    "import michelangelo.malib\n",
    "from michelangelo.cmdline.lib.security_context import SecurityContext\n",
    "from michelangelo.cmdline.lib.madlj import MadljConnector\n",
    "from datetime import datetime\n",
    "import time\n",
    "# https://engdocs.uberinternal.com/michelangelo-python-client/library.html"
   ]
  },
  {
   "cell_type": "code",
   "execution_count": null,
   "metadata": {},
   "outputs": [],
   "source": [
    "%env UBER_OWNER=$user\n",
    "%env HADOOP_USER_NAME=$user\n",
    "\n",
    "MadljConnector.set_security_context(\n",
    "    SecurityContext(\n",
    "        user_email=user,\n",
    "        hdfs_delegation_token=drogon_token\n",
    "    )\n",
    ")"
   ]
  },
  {
   "cell_type": "code",
   "execution_count": null,
   "metadata": {},
   "outputs": [],
   "source": [
    "jobs = {}\n",
    "tables = {}\n",
    "for model in models.keys():\n",
    "    job = michelangelo.malib.spark_predict_run(\n",
    "        project=models[model]['project'],\n",
    "        model_ids=model,\n",
    "        src_hive=hive_in,\n",
    "        spark_queue=spark_queue,\n",
    "        cluster=cluster,\n",
    "        resource_manager=1,\n",
    "        executors=200,\n",
    "        executor_cores=4,\n",
    "        executor_mem=150,\n",
    "        driver_cores=4,\n",
    "        driver_mem=64,\n",
    "        datacenter=datacenter,\n",
    "        publish_all_fields=False,\n",
    "        owner=user,\n",
    "        date_str=\"{start_date}:{end_date}\".format(start_date=start_date, end_date=end_date),\n",
    "        custom_prediction_filter=custom_prediction_filter,\n",
    "        **jobs_config)\n",
    "    job_id = job['Job ID']\n",
    "    dst_hive = job['dst-hive']\n",
    "    print(\"Model {model} has job id {job} and output of {dst}\".format(\n",
    "        model=model,\n",
    "        job=job_id,\n",
    "        dst=dst_hive\n",
    "    ))\n",
    "    jobs[model] = job_id\n",
    "    tables[model]= dst_hive"
   ]
  },
  {
   "cell_type": "code",
   "execution_count": null,
   "metadata": {},
   "outputs": [],
   "source": [
    "def update_info(jobs, info=None):\n",
    "    out_info = {}\n",
    "    for model in jobs.keys():\n",
    "        if info is not None and info[model]['state'] in {'success', 'dead'}:\n",
    "            out_info[model] = info[model]\n",
    "        else:\n",
    "            out_info[model] = michelangelo.malib.spark_predict_show(\n",
    "                job_id=jobs[model],\n",
    "                datacenter=datacenter,\n",
    "                **jobs_config\n",
    "            )\n",
    "    return out_info\n",
    "\n",
    "def all_finished(info):\n",
    "    for response in info.values():\n",
    "        if response['state'] not in {'success', 'dead'}:\n",
    "            return False\n",
    "    return True"
   ]
  },
  {
   "cell_type": "code",
   "execution_count": null,
   "metadata": {},
   "outputs": [],
   "source": [
    "info = update_info(jobs, info=None)\n",
    "info.keys()"
   ]
  },
  {
   "cell_type": "code",
   "execution_count": null,
   "metadata": {},
   "outputs": [],
   "source": [
    "while not all_finished(info):\n",
    "    for model in info.keys():\n",
    "#     for model in ['tm20201001-025541-JWPRVUGZ']:\n",
    "        print(datetime.now().time(), model, info[model]['state'], info[model]['sparkUiUrl'])\n",
    "    time.sleep(30)\n",
    "    # get one-off prediction job info\n",
    "    info = update_info(jobs, info=info)\n",
    "info"
   ]
  },
  {
   "cell_type": "code",
   "execution_count": null,
   "metadata": {},
   "outputs": [],
   "source": [
    "query = \"\"\"\n",
    "CREATE TABLE next.eats_order_batch_prediction_{project}_{model} \n",
    "AS SELECT * from {table};\n",
    "\n",
    "\"\"\"\n",
    "for model in models.keys():\n",
    "    print(\n",
    "        query.format(\n",
    "            table=tables[model],\n",
    "            project=models[model]['project'].lower(),\n",
    "            model=model.replace(\"-\",\"_\").lower()\n",
    "        )\n",
    "    )"
   ]
  },
  {
   "cell_type": "code",
   "execution_count": null,
   "metadata": {},
   "outputs": [],
   "source": []
  }
 ],
 "metadata": {
  "kernelspec": {
   "display_name": "Python 2 (General DS)",
   "language": "python",
   "name": "python2"
  },
  "language_info": {
   "codemirror_mode": {
    "name": "ipython",
    "version": 2
   },
   "file_extension": ".py",
   "mimetype": "text/x-python",
   "name": "python",
   "nbconvert_exporter": "python",
   "pygments_lexer": "ipython2",
   "version": "2.7.10"
  }
 },
 "nbformat": 4,
 "nbformat_minor": 2
}
