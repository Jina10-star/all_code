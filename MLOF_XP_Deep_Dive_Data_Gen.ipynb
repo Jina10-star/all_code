{
 "cells": [
  {
   "cell_type": "code",
   "execution_count": null,
   "metadata": {},
   "outputs": [],
   "source": [
    "%%bash\n",
    "source $VIRTUAL_ENV_DIR/python3/bin/activate\n",
    "\n",
    "install_package_python3.sh add dsw_qr==0.1.13\n",
    "\n",
    "$VIRTUAL_ENV_DIR/python3/bin/python -m pip install galileo\n",
    "$VIRTUAL_ENV_DIR/python3/bin/python -m pip install galileo-py\n",
    "$VIRTUAL_ENV_DIR/python3/bin/python -m pip install tchannel"
   ]
  },
  {
   "cell_type": "code",
   "execution_count": null,
   "metadata": {},
   "outputs": [],
   "source": [
    "import os\n",
    "\n",
    "import pandas as pd\n",
    "from dsw_qr import dsw_qr\n",
    "from queryrunner_client import Client\n",
    "qr = Client(user_email='thai@uber.com')"
   ]
  },
  {
   "cell_type": "code",
   "execution_count": null,
   "metadata": {},
   "outputs": [],
   "source": [
    "def prepare_query(city_id, date, cal_type):\n",
    "    QUERY = f\"\"\"\n",
    "    SET session hash_partition_count=64;\n",
    "\n",
    "    select DISTINCT\n",
    "        msg.job_upfront_fare as upfront_fare_local,\n",
    "        trip.client_upfront_fare_local,\n",
    "        trip.client_upfront_fare_usd as upfront_fare_usd,\n",
    "        vc.gross_bookings_usd as gb_usd\n",
    "    from   \n",
    "        rawdata.kafka_hp_multileg_mgv_log_nodedup mgv\n",
    "    join\n",
    "        dwh.fact_trip trip\n",
    "    on\n",
    "        mgv.datestr = trip.datestr\n",
    "        and msg.city_id = trip.city_id\n",
    "        and msg.job_uuid = trip.uuid\n",
    "    join\n",
    "        secure_finance.fds_rides_vc vc\n",
    "    on\n",
    "        mgv.datestr = vc.operational_date\n",
    "        and msg.city_id = vc.city_id\n",
    "        and msg.job_uuid = vc.job_uuid\n",
    "    where\n",
    "        mgv.datestr = '{date}'\n",
    "        and msg.city_id = {city_id}\n",
    "        and msg.tenancy = 'uber/production'\n",
    "        and msg.flow_type = 'solo_batch'\n",
    "        and msg.job_uuid <> msg.client_uuid\n",
    "        and msg.calculator_type = '{cal_type}'\n",
    "        and lower(trip.global_product_name) = 'uberx'\n",
    "        and trip.status = 'completed'\n",
    "    \"\"\"\n",
    "\n",
    "    return QUERY"
   ]
  },
  {
   "cell_type": "code",
   "execution_count": null,
   "metadata": {},
   "outputs": [],
   "source": [
    "city_list = [797, 1269, 38, 34, 36]\n",
    "date_list = ['2022-10-01', '2022-10-01', '2022-10-15', '2022-10-15', '2022-10-15']\n",
    "cal_type_list = ['machine_learning_of', 'machine_learning_of', 'machine_learning_emea_of', 'machine_learning_emea_of', 'machine_learning_emea_of']"
   ]
  },
  {
   "cell_type": "code",
   "execution_count": null,
   "metadata": {
    "scrolled": false
   },
   "outputs": [],
   "source": [
    "for i in range(5):\n",
    "    city_id = city_list[i]\n",
    "    date = date_list[i]\n",
    "    cal_type = cal_type_list[i]\n",
    "    QUERY = prepare_query(city_id, date, cal_type)\n",
    "    cursor = qr.execute(\"presto-secure\", QUERY)\n",
    "    result = cursor.fetchall()\n",
    "    pd.DataFrame(result).to_csv(f\"mlof_gb_plot_fare_city_{city_id}.csv\", index=False)"
   ]
  }
 ],
 "metadata": {
  "kernelspec": {
   "display_name": "02. Python 3.6 (General DS)",
   "language": "python",
   "name": "python3"
  },
  "language_info": {
   "codemirror_mode": {
    "name": "ipython",
    "version": 3
   },
   "file_extension": ".py",
   "mimetype": "text/x-python",
   "name": "python",
   "nbconvert_exporter": "python",
   "pygments_lexer": "ipython3",
   "version": "3.6.4"
  }
 },
 "nbformat": 4,
 "nbformat_minor": 2
}
