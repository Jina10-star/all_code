{
 "cells": [
  {
   "cell_type": "code",
   "execution_count": 4,
   "id": "25055d2e",
   "metadata": {},
   "outputs": [],
   "source": [
    "import img2pdf\n",
    "from PIL import Image\n",
    "import os"
   ]
  },
  {
   "cell_type": "code",
   "execution_count": 5,
   "id": "17f88b4c",
   "metadata": {},
   "outputs": [],
   "source": [
    "img_path = \"C:/Users/hsingh151/My_Work/BOL/02_NER_Bol_processing/01_Format_1/02_samples/8532313429-proof_of_delivery_0.jpg\"\n",
    "out_path = \"C:/Users/hsingh151/My_Work/BOL/02_NER_Bol_processing/01_Format_1/02_samples/8532313429-proof_of_delivery_0.pdf\""
   ]
  },
  {
   "cell_type": "code",
   "execution_count": 6,
   "id": "ac2be15c",
   "metadata": {},
   "outputs": [
    {
     "name": "stdout",
     "output_type": "stream",
     "text": [
      "Successfully made pdf file\n"
     ]
    }
   ],
   "source": [
    "image = Image.open(img_path)\n",
    "pdf_bytes = img2pdf.convert(image.filename)\n",
    "file = open(out_path, \"wb\")\n",
    "file.write(pdf_bytes)\n",
    "image.close()\n",
    "file.close()\n",
    "print(\"Successfully made pdf file\")"
   ]
  },
  {
   "cell_type": "code",
   "execution_count": null,
   "id": "920ae229",
   "metadata": {},
   "outputs": [],
   "source": []
  },
  {
   "cell_type": "code",
   "execution_count": null,
   "id": "204a620d",
   "metadata": {},
   "outputs": [],
   "source": []
  }
 ],
 "metadata": {
  "kernelspec": {
   "display_name": "Python 3",
   "language": "python",
   "name": "python3"
  },
  "language_info": {
   "codemirror_mode": {
    "name": "ipython",
    "version": 3
   },
   "file_extension": ".py",
   "mimetype": "text/x-python",
   "name": "python",
   "nbconvert_exporter": "python",
   "pygments_lexer": "ipython3",
   "version": "3.6.8"
  }
 },
 "nbformat": 4,
 "nbformat_minor": 5
}
