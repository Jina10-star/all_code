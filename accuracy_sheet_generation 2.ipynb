{
 "cells": [
  {
   "cell_type": "code",
   "execution_count": 5,
   "id": "a5c9bc49",
   "metadata": {},
   "outputs": [
    {
     "ename": "Error",
     "evalue": "('01000', \"[01000] [unixODBC][Driver Manager]Can't open lib 'ODBC Driver 17 for SQL Server' : file not found (0) (SQLDriverConnect)\")",
     "output_type": "error",
     "traceback": [
      "\u001b[0;31m---------------------------------------------------------------------------\u001b[0m",
      "\u001b[0;31mError\u001b[0m                                     Traceback (most recent call last)",
      "\u001b[0;32m<ipython-input-5-36ac5965b284>\u001b[0m in \u001b[0;36m<module>\u001b[0;34m\u001b[0m\n\u001b[1;32m     17\u001b[0m     )\n\u001b[1;32m     18\u001b[0m \u001b[0;34m\u001b[0m\u001b[0m\n\u001b[0;32m---> 19\u001b[0;31m \u001b[0mcnxn\u001b[0m \u001b[0;34m=\u001b[0m \u001b[0mpyodbc\u001b[0m\u001b[0;34m.\u001b[0m\u001b[0mconnect\u001b[0m\u001b[0;34m(\u001b[0m\u001b[0mconn_str\u001b[0m\u001b[0;34m)\u001b[0m\u001b[0;34m\u001b[0m\u001b[0;34m\u001b[0m\u001b[0m\n\u001b[0m\u001b[1;32m     20\u001b[0m \u001b[0;34m\u001b[0m\u001b[0m\n\u001b[1;32m     21\u001b[0m \u001b[0mcursor\u001b[0m \u001b[0;34m=\u001b[0m \u001b[0mcnxn\u001b[0m\u001b[0;34m.\u001b[0m\u001b[0mcursor\u001b[0m\u001b[0;34m(\u001b[0m\u001b[0;34m)\u001b[0m\u001b[0;34m\u001b[0m\u001b[0;34m\u001b[0m\u001b[0m\n",
      "\u001b[0;31mError\u001b[0m: ('01000', \"[01000] [unixODBC][Driver Manager]Can't open lib 'ODBC Driver 17 for SQL Server' : file not found (0) (SQLDriverConnect)\")"
     ]
    }
   ],
   "source": [
    "import pyodbc\n",
    "import pandas as pd\n",
    "#from boxsdk import JWTAuth, Client\n",
    "from datetime import datetime, timezone\n",
    "import os\n",
    "import logging\n",
    "from logging.handlers import TimedRotatingFileHandler\n",
    "import time\n",
    "#import gspread\n",
    "#from oauth2client.service_account import ServiceAccountCredentials\n",
    "import csv\n",
    "conn_str = (\n",
    "    r'Driver={ODBC Driver 17 for SQL Server};'\n",
    "    r'Server=dca1-up-dls;'\n",
    "    r'Database=IACOE;'\n",
    "    r'Trusted_Connection=yes;'\n",
    "    )\n",
    "\n",
    "cnxn = pyodbc.connect(conn_str)\n",
    "\n",
    "cursor = cnxn.cursor()\n",
    "\n",
    "query = \"\"\"SELECT *\n",
    "FROM (SELECT\n",
    "\n",
    "    [Agent CAT Name],\n",
    "\n",
    "    COUNT(CASE WHEN [Agent CAT Name] IS NOT NULL  THEN [Agent CAT Name] END) AS total_volume,\n",
    "\n",
    "     COUNT(CASE WHEN [Agent CAT Name] IS NOT NULL  AND [Accuracy] = 1 THEN [Agent CAT Name] END) AS predicted_true_count\n",
    "\t \n",
    "FROM TaxML_Validation_Data where [Agent CAT Name] is not null\n",
    "\n",
    "GROUP BY [Agent CAT Name]) AS e\n",
    "\n",
    "ORDER BY e.predicted_true_count DESC\"\"\"\n",
    "\n",
    "data = pd.read_sql(query,cnxn)"
   ]
  },
  {
   "cell_type": "code",
   "execution_count": 2,
   "id": "a4609b4e",
   "metadata": {},
   "outputs": [
    {
     "name": "stdout",
     "output_type": "stream",
     "text": [
      "<class 'pandas.core.frame.DataFrame'>\n",
      "RangeIndex: 193 entries, 0 to 192\n",
      "Data columns (total 3 columns):\n",
      " #   Column                Non-Null Count  Dtype \n",
      "---  ------                --------------  ----- \n",
      " 0   Agent CAT Name        193 non-null    object\n",
      " 1   total_volume          193 non-null    int64 \n",
      " 2   predicted_true_count  193 non-null    int64 \n",
      "dtypes: int64(2), object(1)\n",
      "memory usage: 4.6+ KB\n"
     ]
    }
   ],
   "source": [
    "data.info()"
   ]
  },
  {
   "cell_type": "code",
   "execution_count": 3,
   "id": "3d13fd5e",
   "metadata": {},
   "outputs": [],
   "source": [
    "pd.set_option('display.max_rows', 500)"
   ]
  },
  {
   "cell_type": "code",
   "execution_count": 4,
   "id": "722abba9",
   "metadata": {},
   "outputs": [],
   "source": [
    "data['accuracy']=round((data['predicted_true_count']*100)/data['total_volume'],0)"
   ]
  },
  {
   "cell_type": "code",
   "execution_count": 11,
   "id": "550486cc",
   "metadata": {},
   "outputs": [],
   "source": [
    "data=data.sort_values(by=['accuracy','Agent CAT Name'],ascending = False)"
   ]
  },
  {
   "cell_type": "code",
   "execution_count": 17,
   "id": "44b68241",
   "metadata": {},
   "outputs": [],
   "source": [
    "data.to_csv('./data/accuracy_sheet.csv',index=False)"
   ]
  },
  {
   "cell_type": "code",
   "execution_count": 18,
   "id": "216404de",
   "metadata": {},
   "outputs": [
    {
     "data": {
      "text/plain": [
       "{'spreadsheetId': '1yWKliJsZPtqZc1v4aJ3j2FYwB7CuSBOnyepA-i9Q7Kw',\n",
       " 'updatedRange': 'Accuracy!A1:D194',\n",
       " 'updatedRows': 194,\n",
       " 'updatedColumns': 4,\n",
       " 'updatedCells': 776}"
      ]
     },
     "execution_count": 18,
     "metadata": {},
     "output_type": "execute_result"
    }
   ],
   "source": [
    "scope = [\"https://spreadsheets.google.com/feeds\", 'https://www.googleapis.com/auth/spreadsheets',\n",
    "         \"https://www.googleapis.com/auth/drive.file\", \"https://www.googleapis.com/auth/drive\"]\n",
    "\n",
    "credentials = ServiceAccountCredentials.from_json_keyfile_name('./IACOE-GSuite-ServiceKey.json', scope)\n",
    "client = gspread.authorize(credentials)\n",
    "\n",
    "spreadsheet = client.open('Accuracy_INCA_prod')\n",
    "# I modified below script.\n",
    "sheetName = \"Accuracy\" # Please set the sheet name you want to append the CSV data.\n",
    "#sheet_name = \"Sheet3\"  # Please put the sheet ID of the sheet you want to use.\n",
    "csv_file = './data/accuracy_sheet.csv'  # Please put the file path of the CSV file you want to use.\n",
    "worksheet = spreadsheet.worksheet(sheetName)\n",
    "f = open(csv_file, \"r\")\n",
    "values = [r for r in csv.reader(f)]\n",
    "worksheet.update(values)"
   ]
  },
  {
   "cell_type": "code",
   "execution_count": null,
   "id": "8c3f6846",
   "metadata": {},
   "outputs": [],
   "source": []
  }
 ],
 "metadata": {
  "kernelspec": {
   "display_name": "Python 3",
   "language": "python",
   "name": "python3"
  },
  "language_info": {
   "codemirror_mode": {
    "name": "ipython",
    "version": 3
   },
   "file_extension": ".py",
   "mimetype": "text/x-python",
   "name": "python",
   "nbconvert_exporter": "python",
   "pygments_lexer": "ipython3",
   "version": "3.8.8"
  }
 },
 "nbformat": 4,
 "nbformat_minor": 5
}
