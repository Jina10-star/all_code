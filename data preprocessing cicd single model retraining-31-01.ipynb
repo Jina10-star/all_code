{
 "cells": [
  {
   "cell_type": "code",
   "execution_count": 2,
   "id": "099f3121",
   "metadata": {},
   "outputs": [],
   "source": [
    "import pandas as pd\n",
    "import numpy as np\n",
    "import json\n",
    "import os\n",
    "import re\n",
    "from sklearn.feature_extraction.text import TfidfTransformer, CountVectorizer\n",
    "from sklearn.ensemble import RandomForestClassifier\n",
    "from sklearn.pipeline import Pipeline\n",
    "from sklearn.model_selection import train_test_split\n",
    "from sklearn.metrics import accuracy_score, precision_score, recall_score, f1_score, roc_curve, auc, confusion_matrix\n",
    "from sklearn.pipeline import Pipeline\n",
    "import nltk\n",
    "from nltk.corpus import stopwords\n",
    "from nltk.stem import WordNetLemmatizer \n",
    "from nltk.corpus import wordnet\n",
    "import string"
   ]
  },
  {
   "cell_type": "markdown",
   "id": "95573ca5",
   "metadata": {},
   "source": [
    "a)remove all duplicates from sheet in excel using DATA>remove duplicates\n",
    "b)using excel concatenate function joined \"AgentCorrected_CatName_Primary\" and \"AgentCorrected_Integer_Primary\" column with comma and new target column name is \"primary\".\n"
   ]
  },
  {
   "cell_type": "code",
   "execution_count": 3,
   "id": "cc11c38f",
   "metadata": {},
   "outputs": [],
   "source": [
    "def preprocess_text(message):\n",
    "\n",
    "    #new_stopwords=['grocery']\n",
    "    stpwrd = nltk.corpus.stopwords.words('english')\n",
    "    #stpwrd.extend(new_stopwords)\n",
    "    # 1. Init Lemmatizer\n",
    "    lemmatizer = WordNetLemmatizer()\n",
    "    #lowering and removing punctuation\n",
    "    message = re.sub(r'[^\\w\\s]','', message.lower())\n",
    "    #removing the numerical values and working only with text values\n",
    "    message = re.sub('[^a-zA-Z]', \" \", message )\n",
    "    #removing the stopwords\n",
    "    message = ' '.join([word for word in message.split() if word not in stpwrd and len(word)>1])\n",
    "    #lemmatizing the text\n",
    "    message =  \" \".join([lemmatizer.lemmatize(w) for w in nltk.word_tokenize(message) if w not in string.punctuation])\n",
    "    #print(\"message is : \",message)\n",
    "    \n",
    "    return message"
   ]
  },
  {
   "cell_type": "code",
   "execution_count": 4,
   "id": "767be0e9",
   "metadata": {},
   "outputs": [
    {
     "name": "stdout",
     "output_type": "stream",
     "text": [
      "(50396, 17)\n"
     ]
    }
   ],
   "source": [
    "df2_cicd=pd.read_csv('../data/TaxML-CICD - Prod_Data.csv')\n",
    "df2_cicd.drop_duplicates(inplace=True)\n",
    "df2_cicd.dropna(how='all',inplace=True)\n",
    "df2 = df2_cicd\n",
    "df2['input_str'] = df2[['Item','Description','establishment_type']].apply(lambda x: ' '.join(x[x.notnull()]), axis = 1)\n",
    "df2['cleanText']=df2['input_str'].map(lambda s:preprocess_text(s)) \n",
    "df2 = df2.reset_index(drop=True)\n",
    "print(df2.shape)\n",
    "df2['target']=df2['Agent Corrected CAT Name']+\":\"+df2['Agent Corrected Integer']\n",
    "X_cicd=df2[['Item','Description','establishment_type','cleanText']]\n",
    "Y_cicd=df2['target']\n",
    "X_train_cicd, X_test_cicd,Y_train_cicd, Y_test_cicd=train_test_split(X_cicd,Y_cicd,test_size = .10,random_state = 42)"
   ]
  },
  {
   "cell_type": "code",
   "execution_count": 5,
   "id": "9a549eb6",
   "metadata": {},
   "outputs": [],
   "source": [
    "df = pd.read_csv('/Users/jghosh2/Documents/my-notebook/Tax_ml_poc/data/historical_data_14_01_22.csv', encoding='utf8',engine='python',usecols=['Item','Description','establishment_type','target'])\n",
    "df1=df.sample(frac=1, random_state=42)\n",
    "df1 = df1.fillna('')\n",
    "df1['input_str'] = df1[['Item','Description','establishment_type']].apply(lambda x: ' '.join(x[x.notnull()]), axis = 1)\n",
    "df1['cleanText']=df1['input_str'].map(lambda s:preprocess_text(s)) \n",
    "df1 = df1.reset_index(drop=True)\n",
    "X=df1[['Item','Description','establishment_type','cleanText']]\n",
    "Y=df1['target']\n",
    "X_train, X_test,Y_train, Y_test=train_test_split(X,Y,test_size = .20,random_state = 42)"
   ]
  },
  {
   "cell_type": "code",
   "execution_count": 6,
   "id": "dceeea0e",
   "metadata": {},
   "outputs": [],
   "source": [
    "X_train_final=X_train.append(X_train_cicd)\n",
    "X_test_final=X_test.append(X_test_cicd)\n",
    "Y_train_final=Y_train.append(Y_train_cicd)\n",
    "Y_test_final=Y_test.append(Y_test_cicd)"
   ]
  },
  {
   "cell_type": "code",
   "execution_count": 7,
   "id": "3d043639",
   "metadata": {},
   "outputs": [
    {
     "name": "stderr",
     "output_type": "stream",
     "text": [
      "/opt/anaconda3/envs/py365/lib/python3.6/site-packages/sklearn/ensemble/forest.py:245: FutureWarning: The default value of n_estimators will change from 10 in version 0.20 to 100 in 0.22.\n",
      "  \"10 in version 0.20 to 100 in 0.22.\", FutureWarning)\n",
      "/opt/anaconda3/envs/py365/lib/python3.6/site-packages/sklearn/ensemble/forest.py:460: UserWarning: Some inputs do not have OOB scores. This probably means too few trees were used to compute any reliable oob estimates.\n",
      "  warn(\"Some inputs do not have OOB scores. \"\n",
      "/opt/anaconda3/envs/py365/lib/python3.6/site-packages/sklearn/ensemble/forest.py:465: RuntimeWarning: invalid value encountered in true_divide\n",
      "  predictions[k].sum(axis=1)[:, np.newaxis])\n",
      "/opt/anaconda3/envs/py365/lib/python3.6/site-packages/sklearn/metrics/classification.py:1437: UndefinedMetricWarning: Precision is ill-defined and being set to 0.0 in labels with no predicted samples.\n",
      "  'precision', 'predicted', average, warn_for)\n",
      "/opt/anaconda3/envs/py365/lib/python3.6/site-packages/sklearn/metrics/classification.py:1439: UndefinedMetricWarning: Recall is ill-defined and being set to 0.0 in labels with no true samples.\n",
      "  'recall', 'true', average, warn_for)\n",
      "/opt/anaconda3/envs/py365/lib/python3.6/site-packages/sklearn/metrics/classification.py:1437: UndefinedMetricWarning: F-score is ill-defined and being set to 0.0 in labels with no predicted samples.\n",
      "  'precision', 'predicted', average, warn_for)\n",
      "/opt/anaconda3/envs/py365/lib/python3.6/site-packages/sklearn/metrics/classification.py:1439: UndefinedMetricWarning: F-score is ill-defined and being set to 0.0 in labels with no true samples.\n",
      "  'recall', 'true', average, warn_for)\n"
     ]
    }
   ],
   "source": [
    "result=X_test_final\n",
    "rf = Pipeline([('vect', CountVectorizer(strip_accents='ascii', token_pattern=u'(?ui)\\\\b\\\\w*[a-z]+\\\\w*\\\\b', stop_words='english',max_df=0.85)),\n",
    "       ('tfidf', TfidfTransformer()),\n",
    "       ('clf', RandomForestClassifier(oob_score=True,n_jobs=-1,random_state=42))])\n",
    "rf.fit(X_train_final['cleanText'].values,Y_train_final.values)\n",
    "Y_pred= rf.predict(X_test_final['cleanText'].values)\n",
    "result['original_cat']=Y_test_final\n",
    "result['prediction_cat']=Y_pred\n",
    "result['prediction_cat_confscore']=rf.predict_proba(X_test_final['cleanText'].values).max()\n",
    "output={'accuracy':accuracy_score(Y_pred,Y_test_final),'precision_score':precision_score(Y_pred,Y_test_final,average='macro'),'recall_score':recall_score(Y_pred,Y_test_final,average='macro')\n",
    ",'f1_score':f1_score(Y_pred,Y_test_final,average='macro')}\n",
    "result['confusion_matrix']=str(output)\n"
   ]
  },
  {
   "cell_type": "code",
   "execution_count": 8,
   "id": "54abd6ad",
   "metadata": {},
   "outputs": [
    {
     "name": "stdout",
     "output_type": "stream",
     "text": [
      "0.9663068497499802\n"
     ]
    }
   ],
   "source": [
    "import pickle\n",
    "import datetime\n",
    "# save the model to disk\n",
    "primary_model_path = '/Users/jghosh2/Documents/my-notebook/Tax_ml_poc/output'\n",
    "filename_primary= 'finalized_model_31_01_22.sav'\n",
    "pickle.dump(rf, open(os.path.join(primary_model_path,filename_primary), 'wb'))\n",
    "# load the model from disk\n",
    "primary_loaded_model = pickle.load(open(os.path.join(primary_model_path,filename_primary), 'rb'))\n",
    "# result = loaded_model.score(X_test, Y_test)\n",
    "result_regression_score = primary_loaded_model.score(df2['cleanText'], df2['target'])\n",
    "print(result_regression_score)\n",
    "\n"
   ]
  },
  {
   "cell_type": "code",
   "execution_count": 9,
   "id": "f476bb05",
   "metadata": {},
   "outputs": [],
   "source": [
    "#file_name='df_traintestdata_{}'.format(datetime.datetime.now())\n",
    "train_size = 0.8\n",
    "train_end = int(len(df1)*train_size)\n",
    "df_train = df1[:train_end]\n",
    "df_test = df1[train_end:]\n",
    "train_size_cicd=0.9\n",
    "train_end_cicd = int(len(df2)*train_size_cicd)\n",
    "df2_train = df2[:train_end_cicd]\n",
    "df2_test = df2[train_end_cicd:]\n",
    "df2_train = df2_train[['Item','Description','establishment_type','input_str','cleanText','target']]\n",
    "df2_test = df2_test[['Item','Description','establishment_type','input_str','cleanText','target']]\n",
    "X_train_save = df_train.append(df2_train)\n",
    "X_test_save = df_test.append(df2_test)\n",
    "X_train_save['label'] = 'train'\n",
    "X_test_save['label'] = 'test'\n",
    "X_data = X_train_save.append(X_test_save)\n",
    "X_data.to_csv('/Users/jghosh2/Documents/my-notebook/Tax_ml_poc/output/df_traintestdata.csv')"
   ]
  },
  {
   "cell_type": "code",
   "execution_count": 9,
   "id": "7a34a9f8",
   "metadata": {},
   "outputs": [],
   "source": [
    "\n",
    "misclassifications= result.loc[result['original_cat']!=result['prediction_cat']]"
   ]
  },
  {
   "cell_type": "code",
   "execution_count": 10,
   "id": "3581dc5f",
   "metadata": {},
   "outputs": [
    {
     "data": {
      "text/plain": [
       "(7488, 8)"
      ]
     },
     "execution_count": 10,
     "metadata": {},
     "output_type": "execute_result"
    }
   ],
   "source": [
    "misclassifications.shape"
   ]
  },
  {
   "cell_type": "code",
   "execution_count": 11,
   "id": "85cf535a",
   "metadata": {},
   "outputs": [
    {
     "data": {
      "text/html": [
       "<div>\n",
       "<style scoped>\n",
       "    .dataframe tbody tr th:only-of-type {\n",
       "        vertical-align: middle;\n",
       "    }\n",
       "\n",
       "    .dataframe tbody tr th {\n",
       "        vertical-align: top;\n",
       "    }\n",
       "\n",
       "    .dataframe thead th {\n",
       "        text-align: right;\n",
       "    }\n",
       "</style>\n",
       "<table border=\"1\" class=\"dataframe\">\n",
       "  <thead>\n",
       "    <tr style=\"text-align: right;\">\n",
       "      <th></th>\n",
       "      <th>Item</th>\n",
       "      <th>Description</th>\n",
       "      <th>establishment_type</th>\n",
       "      <th>cleanText</th>\n",
       "      <th>original_cat</th>\n",
       "      <th>prediction_cat</th>\n",
       "      <th>prediction_cat_confscore</th>\n",
       "      <th>confusion_matrix</th>\n",
       "    </tr>\n",
       "  </thead>\n",
       "  <tbody>\n",
       "    <tr>\n",
       "      <th>82041</th>\n",
       "      <td>Sprite (2 lt)</td>\n",
       "      <td></td>\n",
       "      <td>CONVENIENCE</td>\n",
       "      <td>sprite lt convenience</td>\n",
       "      <td>CAT_SOFT_DRINK,CONTAINER_BOTTLED,TEMP_COLD:112...</td>\n",
       "      <td>CAT_SOFT_DRINK,CONTAINER_BOTTLED,TEMP_HEATED:1...</td>\n",
       "      <td>1.0</td>\n",
       "      <td>{'accuracy': 0.7932062966031483, 'precision_sc...</td>\n",
       "    </tr>\n",
       "    <tr>\n",
       "      <th>81953</th>\n",
       "      <td>Gatorade Lemon Lime (710 ml)</td>\n",
       "      <td></td>\n",
       "      <td>GROCERY</td>\n",
       "      <td>gatorade lemon lime ml grocery</td>\n",
       "      <td>CAT_JUICE_NON_CARBONATED:537</td>\n",
       "      <td>CAT_JUICE_NON_CARBONATED:537</td>\n",
       "      <td>1.0</td>\n",
       "      <td>{'accuracy': 0.7932062966031483, 'precision_sc...</td>\n",
       "    </tr>\n",
       "    <tr>\n",
       "      <th>130470</th>\n",
       "      <td>Kettle Chips (2 oz)</td>\n",
       "      <td></td>\n",
       "      <td>GROCERY</td>\n",
       "      <td>kettle chip oz grocery</td>\n",
       "      <td>CAT_PREPACKAGED_FOOD,CAT_SNACK,TEMP_UNHEATED:1...</td>\n",
       "      <td>CAT_PREPACKAGED_FOOD,CAT_SNACK,TEMP_UNHEATED:1...</td>\n",
       "      <td>1.0</td>\n",
       "      <td>{'accuracy': 0.7932062966031483, 'precision_sc...</td>\n",
       "    </tr>\n",
       "    <tr>\n",
       "      <th>89</th>\n",
       "      <td>New Amsterdam Vodka, 750ml (40.0% ABV)</td>\n",
       "      <td>New Amsterdam Vodka was born from an uncomprom...</td>\n",
       "      <td>GROCERY</td>\n",
       "      <td>new amsterdam vodka ml abv new amsterdam vodka...</td>\n",
       "      <td>CAT_LIQUOR:535</td>\n",
       "      <td>CAT_LIQUOR:535</td>\n",
       "      <td>1.0</td>\n",
       "      <td>{'accuracy': 0.7932062966031483, 'precision_sc...</td>\n",
       "    </tr>\n",
       "    <tr>\n",
       "      <th>88982</th>\n",
       "      <td>Bud Light 24pk 12oz Btl 4.2% ABV</td>\n",
       "      <td>\\N</td>\n",
       "      <td>GROCERY</td>\n",
       "      <td>bud light pk oz btl abv grocery</td>\n",
       "      <td>CAT_BEER,TEMP_COLD:533,1</td>\n",
       "      <td>CAT_BEER:533</td>\n",
       "      <td>1.0</td>\n",
       "      <td>{'accuracy': 0.7932062966031483, 'precision_sc...</td>\n",
       "    </tr>\n",
       "    <tr>\n",
       "      <th>...</th>\n",
       "      <td>...</td>\n",
       "      <td>...</td>\n",
       "      <td>...</td>\n",
       "      <td>...</td>\n",
       "      <td>...</td>\n",
       "      <td>...</td>\n",
       "      <td>...</td>\n",
       "      <td>...</td>\n",
       "    </tr>\n",
       "    <tr>\n",
       "      <th>7738</th>\n",
       "      <td>Lagavulin 1ml6 Year - 1ml x 750mLBottle, 750mL...</td>\n",
       "      <td>NaN</td>\n",
       "      <td>GROCERY</td>\n",
       "      <td>lagavulin ml year ml mlbottle ml abv grocery</td>\n",
       "      <td>CAT_LIQUOR:535</td>\n",
       "      <td>CAT_LIQUOR:535</td>\n",
       "      <td>1.0</td>\n",
       "      <td>{'accuracy': 0.7932062966031483, 'precision_sc...</td>\n",
       "    </tr>\n",
       "    <tr>\n",
       "      <th>10963</th>\n",
       "      <td>Coke Zero Mixer (20 oz)</td>\n",
       "      <td>NaN</td>\n",
       "      <td>GROCERY</td>\n",
       "      <td>coke zero mixer oz grocery</td>\n",
       "      <td>CAT_SOFT_DRINK,CONTAINER_BOTTLED,TEMP_HEATED:1...</td>\n",
       "      <td>CAT_SOFT_DRINK,CONTAINER_BOTTLED,TEMP_HEATED:1...</td>\n",
       "      <td>1.0</td>\n",
       "      <td>{'accuracy': 0.7932062966031483, 'precision_sc...</td>\n",
       "    </tr>\n",
       "    <tr>\n",
       "      <th>35945</th>\n",
       "      <td>Remy Martin VSOP, 375mL tequila (40.0% ABV)</td>\n",
       "      <td>Vanilla-nosed with a powerful, elegant ripe fr...</td>\n",
       "      <td>LIQUOR</td>\n",
       "      <td>remy martin vsop ml tequila abv vanillanosed p...</td>\n",
       "      <td>CAT_LIQUOR:535</td>\n",
       "      <td>CAT_LIQUOR:535</td>\n",
       "      <td>1.0</td>\n",
       "      <td>{'accuracy': 0.7932062966031483, 'precision_sc...</td>\n",
       "    </tr>\n",
       "    <tr>\n",
       "      <th>15920</th>\n",
       "      <td>Patron Tequila Silver 750mL, 1 tequila &amp; mezca...</td>\n",
       "      <td>89 pts wine enthusiast. One of the most popula...</td>\n",
       "      <td>LIQUOR</td>\n",
       "      <td>patron tequila silver ml tequila mezcal abv pt...</td>\n",
       "      <td>CAT_LIQUOR:535</td>\n",
       "      <td>CAT_LIQUOR:535</td>\n",
       "      <td>1.0</td>\n",
       "      <td>{'accuracy': 0.7932062966031483, 'precision_sc...</td>\n",
       "    </tr>\n",
       "    <tr>\n",
       "      <th>22953</th>\n",
       "      <td>Buchanan's Deluxe 12 Year, 750mL whiskey (40.0...</td>\n",
       "      <td>NaN</td>\n",
       "      <td>LIQUOR</td>\n",
       "      <td>buchanan deluxe year ml whiskey abv liquor</td>\n",
       "      <td>CAT_LIQUOR:535</td>\n",
       "      <td>CAT_LIQUOR:535</td>\n",
       "      <td>1.0</td>\n",
       "      <td>{'accuracy': 0.7932062966031483, 'precision_sc...</td>\n",
       "    </tr>\n",
       "  </tbody>\n",
       "</table>\n",
       "<p>36210 rows × 8 columns</p>\n",
       "</div>"
      ],
      "text/plain": [
       "                                                     Item  \\\n",
       "82041                                       Sprite (2 lt)   \n",
       "81953                        Gatorade Lemon Lime (710 ml)   \n",
       "130470                                Kettle Chips (2 oz)   \n",
       "89                 New Amsterdam Vodka, 750ml (40.0% ABV)   \n",
       "88982                    Bud Light 24pk 12oz Btl 4.2% ABV   \n",
       "...                                                   ...   \n",
       "7738    Lagavulin 1ml6 Year - 1ml x 750mLBottle, 750mL...   \n",
       "10963                             Coke Zero Mixer (20 oz)   \n",
       "35945         Remy Martin VSOP, 375mL tequila (40.0% ABV)   \n",
       "15920   Patron Tequila Silver 750mL, 1 tequila & mezca...   \n",
       "22953   Buchanan's Deluxe 12 Year, 750mL whiskey (40.0...   \n",
       "\n",
       "                                              Description establishment_type  \\\n",
       "82041                                                            CONVENIENCE   \n",
       "81953                                                                GROCERY   \n",
       "130470                                                               GROCERY   \n",
       "89      New Amsterdam Vodka was born from an uncomprom...            GROCERY   \n",
       "88982                                                  \\N            GROCERY   \n",
       "...                                                   ...                ...   \n",
       "7738                                                  NaN            GROCERY   \n",
       "10963                                                 NaN            GROCERY   \n",
       "35945   Vanilla-nosed with a powerful, elegant ripe fr...             LIQUOR   \n",
       "15920   89 pts wine enthusiast. One of the most popula...             LIQUOR   \n",
       "22953                                                 NaN             LIQUOR   \n",
       "\n",
       "                                                cleanText  \\\n",
       "82041                               sprite lt convenience   \n",
       "81953                      gatorade lemon lime ml grocery   \n",
       "130470                             kettle chip oz grocery   \n",
       "89      new amsterdam vodka ml abv new amsterdam vodka...   \n",
       "88982                     bud light pk oz btl abv grocery   \n",
       "...                                                   ...   \n",
       "7738         lagavulin ml year ml mlbottle ml abv grocery   \n",
       "10963                          coke zero mixer oz grocery   \n",
       "35945   remy martin vsop ml tequila abv vanillanosed p...   \n",
       "15920   patron tequila silver ml tequila mezcal abv pt...   \n",
       "22953          buchanan deluxe year ml whiskey abv liquor   \n",
       "\n",
       "                                             original_cat  \\\n",
       "82041   CAT_SOFT_DRINK,CONTAINER_BOTTLED,TEMP_COLD:112...   \n",
       "81953                        CAT_JUICE_NON_CARBONATED:537   \n",
       "130470  CAT_PREPACKAGED_FOOD,CAT_SNACK,TEMP_UNHEATED:1...   \n",
       "89                                         CAT_LIQUOR:535   \n",
       "88982                            CAT_BEER,TEMP_COLD:533,1   \n",
       "...                                                   ...   \n",
       "7738                                       CAT_LIQUOR:535   \n",
       "10963   CAT_SOFT_DRINK,CONTAINER_BOTTLED,TEMP_HEATED:1...   \n",
       "35945                                      CAT_LIQUOR:535   \n",
       "15920                                      CAT_LIQUOR:535   \n",
       "22953                                      CAT_LIQUOR:535   \n",
       "\n",
       "                                           prediction_cat  \\\n",
       "82041   CAT_SOFT_DRINK,CONTAINER_BOTTLED,TEMP_HEATED:1...   \n",
       "81953                        CAT_JUICE_NON_CARBONATED:537   \n",
       "130470  CAT_PREPACKAGED_FOOD,CAT_SNACK,TEMP_UNHEATED:1...   \n",
       "89                                         CAT_LIQUOR:535   \n",
       "88982                                        CAT_BEER:533   \n",
       "...                                                   ...   \n",
       "7738                                       CAT_LIQUOR:535   \n",
       "10963   CAT_SOFT_DRINK,CONTAINER_BOTTLED,TEMP_HEATED:1...   \n",
       "35945                                      CAT_LIQUOR:535   \n",
       "15920                                      CAT_LIQUOR:535   \n",
       "22953                                      CAT_LIQUOR:535   \n",
       "\n",
       "        prediction_cat_confscore  \\\n",
       "82041                        1.0   \n",
       "81953                        1.0   \n",
       "130470                       1.0   \n",
       "89                           1.0   \n",
       "88982                        1.0   \n",
       "...                          ...   \n",
       "7738                         1.0   \n",
       "10963                        1.0   \n",
       "35945                        1.0   \n",
       "15920                        1.0   \n",
       "22953                        1.0   \n",
       "\n",
       "                                         confusion_matrix  \n",
       "82041   {'accuracy': 0.7932062966031483, 'precision_sc...  \n",
       "81953   {'accuracy': 0.7932062966031483, 'precision_sc...  \n",
       "130470  {'accuracy': 0.7932062966031483, 'precision_sc...  \n",
       "89      {'accuracy': 0.7932062966031483, 'precision_sc...  \n",
       "88982   {'accuracy': 0.7932062966031483, 'precision_sc...  \n",
       "...                                                   ...  \n",
       "7738    {'accuracy': 0.7932062966031483, 'precision_sc...  \n",
       "10963   {'accuracy': 0.7932062966031483, 'precision_sc...  \n",
       "35945   {'accuracy': 0.7932062966031483, 'precision_sc...  \n",
       "15920   {'accuracy': 0.7932062966031483, 'precision_sc...  \n",
       "22953   {'accuracy': 0.7932062966031483, 'precision_sc...  \n",
       "\n",
       "[36210 rows x 8 columns]"
      ]
     },
     "execution_count": 11,
     "metadata": {},
     "output_type": "execute_result"
    }
   ],
   "source": [
    "result"
   ]
  },
  {
   "cell_type": "code",
   "execution_count": null,
   "id": "b682d345",
   "metadata": {},
   "outputs": [],
   "source": [
    "\n",
    "misclassifications_primary= result.loc[result['original_cat_primary']!=result['prediction_cat_primary']]"
   ]
  },
  {
   "cell_type": "code",
   "execution_count": null,
   "id": "bf6ac7fa",
   "metadata": {},
   "outputs": [],
   "source": [
    "misclassifications_primary.sort_values(by=['Item','Description','establishment_type'], ascending=True).head(270)"
   ]
  },
  {
   "cell_type": "code",
   "execution_count": null,
   "id": "26a95a51",
   "metadata": {},
   "outputs": [],
   "source": [
    "misclassifications_primary.to_csv('/Users/jghosh2/Documents/my-notebook/Tax_ml_poc/output/misclassifications_primary.csv')"
   ]
  },
  {
   "cell_type": "markdown",
   "id": "4013975a",
   "metadata": {},
   "source": [
    "saving model to local"
   ]
  },
  {
   "cell_type": "code",
   "execution_count": 12,
   "id": "70f8d5d7",
   "metadata": {
    "scrolled": true
   },
   "outputs": [
    {
     "name": "stdout",
     "output_type": "stream",
     "text": [
      "Time :2022-01-25 11:47:43.094480 result :{'accuracy': 0.7932062966031483, 'precision_score': 0.4509416721387717, 'recall_score': 0.5337515891742645, 'f1_score': 0.4726425407676132}\n"
     ]
    }
   ],
   "source": [
    "import datetime\n",
    "print(\"Time :{} result :{}\".format(datetime.datetime.now(),result['confusion_matrix'][0]))"
   ]
  },
  {
   "cell_type": "code",
   "execution_count": null,
   "id": "82082c7c",
   "metadata": {},
   "outputs": [],
   "source": [
    "\n",
    "Time :2022-01-17 18:36:13.829990 result :{'accuracy': 0.8136429968640357, 'precision_score': 0.4811411574576949, 'recall_score': 0.572963521670215, 'f1_score': 0.5053828429504557}"
   ]
  },
  {
   "cell_type": "code",
   "execution_count": null,
   "id": "2a3ea037",
   "metadata": {},
   "outputs": [],
   "source": []
  },
  {
   "cell_type": "code",
   "execution_count": null,
   "id": "4a01a92c",
   "metadata": {},
   "outputs": [],
   "source": []
  },
  {
   "cell_type": "code",
   "execution_count": null,
   "id": "7f7b8422",
   "metadata": {},
   "outputs": [],
   "source": []
  },
  {
   "cell_type": "code",
   "execution_count": null,
   "id": "77beeb0f",
   "metadata": {},
   "outputs": [],
   "source": []
  },
  {
   "cell_type": "code",
   "execution_count": null,
   "id": "74da0ade",
   "metadata": {},
   "outputs": [],
   "source": []
  },
  {
   "cell_type": "code",
   "execution_count": null,
   "id": "c0d54b4d",
   "metadata": {},
   "outputs": [],
   "source": []
  },
  {
   "cell_type": "code",
   "execution_count": null,
   "id": "5effd030",
   "metadata": {},
   "outputs": [],
   "source": []
  }
 ],
 "metadata": {
  "kernelspec": {
   "display_name": "Python 3",
   "language": "python",
   "name": "python3"
  },
  "language_info": {
   "codemirror_mode": {
    "name": "ipython",
    "version": 3
   },
   "file_extension": ".py",
   "mimetype": "text/x-python",
   "name": "python",
   "nbconvert_exporter": "python",
   "pygments_lexer": "ipython3",
   "version": "3.8.8"
  }
 },
 "nbformat": 4,
 "nbformat_minor": 5
}
