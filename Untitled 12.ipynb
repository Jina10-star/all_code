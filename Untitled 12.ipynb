{
 "cells": [
  {
   "cell_type": "code",
   "execution_count": 2,
   "id": "700857e0",
   "metadata": {},
   "outputs": [],
   "source": [
    "import os\n",
    "import json\n",
    "import re\n",
    "import pandas as pd\n",
    "import numpy as np"
   ]
  },
  {
   "cell_type": "code",
   "execution_count": 3,
   "id": "f92c9409",
   "metadata": {},
   "outputs": [],
   "source": [
    "with open(os.path.join(\"Format1-pepsi.json\"), \"r\") as f:\n",
    "    data = json.loads(f.read())\n",
    "    "
   ]
  },
  {
   "cell_type": "code",
   "execution_count": 6,
   "id": "dd9e87e8",
   "metadata": {},
   "outputs": [
    {
     "data": {
      "text/plain": [
       "str"
      ]
     },
     "execution_count": 6,
     "metadata": {},
     "output_type": "execute_result"
    }
   ],
   "source": [
    "type(data)"
   ]
  },
  {
   "cell_type": "code",
   "execution_count": 7,
   "id": "19841c41",
   "metadata": {},
   "outputs": [
    {
     "data": {
      "text/plain": [
       "\"{'raw_text': b'Pepsi Beverages Company\\\\nBILL OF LADING\\\\nBOL#: 20210678942\\\\nFrom: 202 Fresno, CA Plant\\\\n1150 East North Ave\\\\nFresno\\\\nCA 93725\\\\nShin Date: 08/06/2021 22:48\\\\nOrder ID: CC\\\\nCustomer PO: CC\\\\nTo: 222 Greeley, CO Warehouse\\\\n2323 117th Avenue\\\\nGreeley\\\\nCO 80634\\\\nArrival Date: 08/09/2021 23:59\\\\nItem\\\\nDescription\\\\nUOM\\\\nComment\\\\nShip\\\\nPallets\\\\nQty\\\\n12.0 720\\\\n10.0 600\\\\n87668\\\\n16 OZ PL PK 6/4S MDEW\\\\nCS\\\\nCS\\\\nPallet Extended\\\\nWeight Weight\\\\n1,870\\\\n22,435\\\\n1,860\\\\n18,600\\\\n41,035\\\\n1,518\\\\n*\\\\n87672\\\\n16. OZ PLPK 6/4S PEPSI\\\\n22.0\\\\n1320\\\\n22\\\\npallet-wood-chep ( #90197 ):\\\\nTotal:\\\\n42,553\\\\nGrand Total:\\\\n22.0\\\\n1,342.0\\\\n42,553\\\\nBOL Comment PLCB Trailer# 559\\\\nCarrier Common Carrier\\\\nTrailer #: CARRIER\\\\nSeal #: 239942\\\\nLoaded By: White, Brandon C.\\\\nChecked By:\\\\nDriver Signature:\\\\nDriver Name: CARRIER- DRIVER\\\\nReceived By:\\\\nBryan Arkan\\\\nMF8-6-21\\\\n2005\\\\nThe property described above has been accepted on the date hereof in apparent good order (except as noted)\\\\nlo\\\\xc2\\\\xbb carriage subject to individually determined rates or contracts \\\\nagreed to between the carrier and shipper.\\\\nPrint Date: 08/06/2021 19:50\\\\n* CRITICAL ITEM\\\\n', 'entities': {'BOL#: 20210678942': '20210678942', 'From: 202 Fresno, CA Plant': '202 Fresno, CA Plant', 'CA 93725\\\\nFrom: 202 Fresno, CA Plant\\\\n1150 East North Ave\\\\nFresno': 'From: 202 Fresno, CA Plant\\\\n1150 East North Ave\\\\nFresno', 'CA 93725': '93725', 'Shin Date: 08/06/2021 22:48': '08/06/2021 22:48', 'Order ID: CC': 'CC', 'Customer PO: CC': 'CC', 'To: 222 Greeley, CO Warehouse\\\\n2323 117th Avenue': '222 Greeley, CO Warehouse\\\\n2323 117th Avenue', 'Greeley\\\\nCO 80634': 'CO 80634', 'Arrival Date: 08/09/2021 23:59': '08/09/2021 23:59', 'Total:\\\\n42,553': '42,553', 'Grand Total:\\\\n22.0': '22.0', 'BOL Comment PLCB Trailer# 559\\\\nCarrier Common Carrier\\\\nLoaded By: White, Brandon C.': 'PLCB Trailer# 559\\\\nCarrier Common Carrier\\\\nLoaded By: White, Brandon C.', 'Trailer #: CARRIER': 'CARRIER', 'Seal #: 239942': '239942', 'Loaded By: White, Brandon C.': 'White, Brandon C.', 'Driver Name: CARRIER- DRIVER': 'CARRIER- DRIVER', 'Received By:\\\\nDriver Name: CARRIER- DRIVER\\\\nBryan Arkan': 'Driver Name: CARRIER- DRIVER\\\\nBryan Arkan', 'Print Date: 08/06/2021 19:50': '08/06/2021 19:50'}, 'form_data': {'Greeley\\\\n': 'CO 80634\\\\n', 'Order ID: ': 'CC\\\\n', 'Arrival Date: ': '08/09/2021 23:59\\\\n', 'BOL#: ': '20210678942\\\\n', 'Print Date: ': '08/06/2021 19:50\\\\n', 'Driver Name: ': 'CARRIER- DRIVER\\\\n', 'Seal #: ': '239942\\\\n', 'Loaded By: ': 'White, Brandon C.\\\\n', 'Shin Date: ': '08/06/2021 22:48\\\\n', 'Received By:\\\\n': 'Driver Name: CARRIER- DRIVER\\\\nBryan Arkan\\\\n', 'Customer PO: ': 'CC\\\\n', 'From: ': '202 Fresno, CA Plant\\\\n', 'Trailer #: ': 'CARRIER\\\\n', 'Total:\\\\n': '42,553\\\\n', 'To: ': '222 Greeley, CO Warehouse\\\\n2323 117th Avenue\\\\n', 'Grand Total:\\\\n': '22.0\\\\n', 'CA 93725\\\\n': 'From: 202 Fresno, CA Plant\\\\n1150 East North Ave\\\\nFresno\\\\n', 'CA ': '93725\\\\n', 'BOL Comment ': 'PLCB Trailer# 559\\\\nCarrier Common Carrier\\\\nLoaded By: White, Brandon C.\\\\n'}, 'tables': [[['', '', '', 'Ship\\\\n', '', '', 'Pallet ', 'Extended\\\\n'], ['Item\\\\n', 'Description\\\\n', 'Pallets\\\\n', '', 'Qty\\\\n', 'UOM\\\\n', 'Weight ', 'Weight\\\\n'], ['87668\\\\n', '16 OZ PL PK 6/4S MDEW\\\\n', '12.0 ', '', '720\\\\n', 'CS\\\\n', '1,870\\\\n', '22,435\\\\n'], ['*\\\\n87672\\\\n', '16. OZ PLPK 6/4S PEPSI\\\\n', '10.0 ', '', '600\\\\n', 'CS\\\\n', '1,860\\\\n', '18,600\\\\n'], ['pallet-', 'wood-chep ( #90197 ):\\\\n', '22.0\\\\n', '', '1320\\\\n22\\\\n', '', '', '41,035\\\\n1,518\\\\n'], ['', 'Grand Total', ':\\\\n22.0\\\\n', '', '1,342.0\\\\n', '', 'Total:\\\\n', '42,553\\\\n42,553\\\\n']]], 'pages_dimensions': [{'width': 576, 'height': 756}]}\""
      ]
     },
     "execution_count": 7,
     "metadata": {},
     "output_type": "execute_result"
    }
   ],
   "source": [
    "data"
   ]
  },
  {
   "cell_type": "code",
   "execution_count": 8,
   "id": "74af9f38",
   "metadata": {},
   "outputs": [
    {
     "ename": "JSONDecodeError",
     "evalue": "Expecting property name enclosed in double quotes: line 1 column 2 (char 1)",
     "output_type": "error",
     "traceback": [
      "\u001b[1;31m---------------------------------------------------------------------------\u001b[0m",
      "\u001b[1;31mJSONDecodeError\u001b[0m                           Traceback (most recent call last)",
      "\u001b[1;32m<ipython-input-8-474808c851e3>\u001b[0m in \u001b[0;36m<module>\u001b[1;34m\u001b[0m\n\u001b[1;32m----> 1\u001b[1;33m \u001b[0mdata\u001b[0m \u001b[1;33m=\u001b[0m \u001b[0mjson\u001b[0m\u001b[1;33m.\u001b[0m\u001b[0mloads\u001b[0m\u001b[1;33m(\u001b[0m\u001b[0mdata\u001b[0m\u001b[1;33m)\u001b[0m\u001b[1;33m\u001b[0m\u001b[1;33m\u001b[0m\u001b[0m\n\u001b[0m",
      "\u001b[1;32mc:\\users\\hsingh151\\appdata\\local\\programs\\python\\python36\\lib\\json\\__init__.py\u001b[0m in \u001b[0;36mloads\u001b[1;34m(s, encoding, cls, object_hook, parse_float, parse_int, parse_constant, object_pairs_hook, **kw)\u001b[0m\n\u001b[0;32m    352\u001b[0m             \u001b[0mparse_int\u001b[0m \u001b[1;32mis\u001b[0m \u001b[1;32mNone\u001b[0m \u001b[1;32mand\u001b[0m \u001b[0mparse_float\u001b[0m \u001b[1;32mis\u001b[0m \u001b[1;32mNone\u001b[0m \u001b[1;32mand\u001b[0m\u001b[1;33m\u001b[0m\u001b[1;33m\u001b[0m\u001b[0m\n\u001b[0;32m    353\u001b[0m             parse_constant is None and object_pairs_hook is None and not kw):\n\u001b[1;32m--> 354\u001b[1;33m         \u001b[1;32mreturn\u001b[0m \u001b[0m_default_decoder\u001b[0m\u001b[1;33m.\u001b[0m\u001b[0mdecode\u001b[0m\u001b[1;33m(\u001b[0m\u001b[0ms\u001b[0m\u001b[1;33m)\u001b[0m\u001b[1;33m\u001b[0m\u001b[1;33m\u001b[0m\u001b[0m\n\u001b[0m\u001b[0;32m    355\u001b[0m     \u001b[1;32mif\u001b[0m \u001b[0mcls\u001b[0m \u001b[1;32mis\u001b[0m \u001b[1;32mNone\u001b[0m\u001b[1;33m:\u001b[0m\u001b[1;33m\u001b[0m\u001b[1;33m\u001b[0m\u001b[0m\n\u001b[0;32m    356\u001b[0m         \u001b[0mcls\u001b[0m \u001b[1;33m=\u001b[0m \u001b[0mJSONDecoder\u001b[0m\u001b[1;33m\u001b[0m\u001b[1;33m\u001b[0m\u001b[0m\n",
      "\u001b[1;32mc:\\users\\hsingh151\\appdata\\local\\programs\\python\\python36\\lib\\json\\decoder.py\u001b[0m in \u001b[0;36mdecode\u001b[1;34m(self, s, _w)\u001b[0m\n\u001b[0;32m    337\u001b[0m \u001b[1;33m\u001b[0m\u001b[0m\n\u001b[0;32m    338\u001b[0m         \"\"\"\n\u001b[1;32m--> 339\u001b[1;33m         \u001b[0mobj\u001b[0m\u001b[1;33m,\u001b[0m \u001b[0mend\u001b[0m \u001b[1;33m=\u001b[0m \u001b[0mself\u001b[0m\u001b[1;33m.\u001b[0m\u001b[0mraw_decode\u001b[0m\u001b[1;33m(\u001b[0m\u001b[0ms\u001b[0m\u001b[1;33m,\u001b[0m \u001b[0midx\u001b[0m\u001b[1;33m=\u001b[0m\u001b[0m_w\u001b[0m\u001b[1;33m(\u001b[0m\u001b[0ms\u001b[0m\u001b[1;33m,\u001b[0m \u001b[1;36m0\u001b[0m\u001b[1;33m)\u001b[0m\u001b[1;33m.\u001b[0m\u001b[0mend\u001b[0m\u001b[1;33m(\u001b[0m\u001b[1;33m)\u001b[0m\u001b[1;33m)\u001b[0m\u001b[1;33m\u001b[0m\u001b[1;33m\u001b[0m\u001b[0m\n\u001b[0m\u001b[0;32m    340\u001b[0m         \u001b[0mend\u001b[0m \u001b[1;33m=\u001b[0m \u001b[0m_w\u001b[0m\u001b[1;33m(\u001b[0m\u001b[0ms\u001b[0m\u001b[1;33m,\u001b[0m \u001b[0mend\u001b[0m\u001b[1;33m)\u001b[0m\u001b[1;33m.\u001b[0m\u001b[0mend\u001b[0m\u001b[1;33m(\u001b[0m\u001b[1;33m)\u001b[0m\u001b[1;33m\u001b[0m\u001b[1;33m\u001b[0m\u001b[0m\n\u001b[0;32m    341\u001b[0m         \u001b[1;32mif\u001b[0m \u001b[0mend\u001b[0m \u001b[1;33m!=\u001b[0m \u001b[0mlen\u001b[0m\u001b[1;33m(\u001b[0m\u001b[0ms\u001b[0m\u001b[1;33m)\u001b[0m\u001b[1;33m:\u001b[0m\u001b[1;33m\u001b[0m\u001b[1;33m\u001b[0m\u001b[0m\n",
      "\u001b[1;32mc:\\users\\hsingh151\\appdata\\local\\programs\\python\\python36\\lib\\json\\decoder.py\u001b[0m in \u001b[0;36mraw_decode\u001b[1;34m(self, s, idx)\u001b[0m\n\u001b[0;32m    353\u001b[0m         \"\"\"\n\u001b[0;32m    354\u001b[0m         \u001b[1;32mtry\u001b[0m\u001b[1;33m:\u001b[0m\u001b[1;33m\u001b[0m\u001b[1;33m\u001b[0m\u001b[0m\n\u001b[1;32m--> 355\u001b[1;33m             \u001b[0mobj\u001b[0m\u001b[1;33m,\u001b[0m \u001b[0mend\u001b[0m \u001b[1;33m=\u001b[0m \u001b[0mself\u001b[0m\u001b[1;33m.\u001b[0m\u001b[0mscan_once\u001b[0m\u001b[1;33m(\u001b[0m\u001b[0ms\u001b[0m\u001b[1;33m,\u001b[0m \u001b[0midx\u001b[0m\u001b[1;33m)\u001b[0m\u001b[1;33m\u001b[0m\u001b[1;33m\u001b[0m\u001b[0m\n\u001b[0m\u001b[0;32m    356\u001b[0m         \u001b[1;32mexcept\u001b[0m \u001b[0mStopIteration\u001b[0m \u001b[1;32mas\u001b[0m \u001b[0merr\u001b[0m\u001b[1;33m:\u001b[0m\u001b[1;33m\u001b[0m\u001b[1;33m\u001b[0m\u001b[0m\n\u001b[0;32m    357\u001b[0m             \u001b[1;32mraise\u001b[0m \u001b[0mJSONDecodeError\u001b[0m\u001b[1;33m(\u001b[0m\u001b[1;34m\"Expecting value\"\u001b[0m\u001b[1;33m,\u001b[0m \u001b[0ms\u001b[0m\u001b[1;33m,\u001b[0m \u001b[0merr\u001b[0m\u001b[1;33m.\u001b[0m\u001b[0mvalue\u001b[0m\u001b[1;33m)\u001b[0m \u001b[1;32mfrom\u001b[0m \u001b[1;32mNone\u001b[0m\u001b[1;33m\u001b[0m\u001b[1;33m\u001b[0m\u001b[0m\n",
      "\u001b[1;31mJSONDecodeError\u001b[0m: Expecting property name enclosed in double quotes: line 1 column 2 (char 1)"
     ]
    }
   ],
   "source": [
    "data = json.loads(data)"
   ]
  },
  {
   "cell_type": "code",
   "execution_count": 20,
   "id": "fdff6b85",
   "metadata": {},
   "outputs": [
    {
     "data": {
      "text/plain": [
       "'{'"
      ]
     },
     "execution_count": 20,
     "metadata": {},
     "output_type": "execute_result"
    }
   ],
   "source": []
  },
  {
   "cell_type": "code",
   "execution_count": null,
   "id": "cc195316",
   "metadata": {},
   "outputs": [],
   "source": [
    "def entities(self, data):\n",
    "    raw_text, entities_json, tables_list = data[\"raw_text\"].decode(), data[\"entities\"], data[\"tables\"]\n",
    "    parsed_data = {}\n",
    "    for key,value in entities_json.items():\n",
    "        if key.startswith('BOL#'):\n",
    "            parsed_data['BOL Number'] = value\n",
    "        if key.startswith(\"TO:\"):\n",
    "            parsed_data['Delivery_Address'] = value"
   ]
  },
  {
   "cell_type": "code",
   "execution_count": null,
   "id": "fc3fa1e5",
   "metadata": {},
   "outputs": [],
   "source": [
    "def pepsi_format1_doc_ai_ner_parser(raw_test, entities_json):\n",
    "    parsed_data = {}\n",
    "    \n",
    "    "
   ]
  }
 ],
 "metadata": {
  "kernelspec": {
   "display_name": "Python 3",
   "language": "python",
   "name": "python3"
  },
  "language_info": {
   "codemirror_mode": {
    "name": "ipython",
    "version": 3
   },
   "file_extension": ".py",
   "mimetype": "text/x-python",
   "name": "python",
   "nbconvert_exporter": "python",
   "pygments_lexer": "ipython3",
   "version": "3.6.8"
  }
 },
 "nbformat": 4,
 "nbformat_minor": 5
}
