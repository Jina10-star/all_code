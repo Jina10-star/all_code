
import requests
import re
import nltk
from nltk.corpus import stopwords
from nltk.stem import WordNetLemmatizer 
from nltk.corpus import wordnet
import string




thanking_words = ['thanks', 'kind regards', 'sincerely', 'thank you','best regards','thanks regards', 'regards', 'all the best', 'thank you best regards', 'best']

def get_wordnet_pos(word):
    """Map POS tag to first character lemmatize() accepts"""
    tag = nltk.pos_tag([word])[0][1][0].upper()
    tag_dict = {"J": wordnet.ADJ,
                "N": wordnet.NOUN,
                "V": wordnet.VERB,
                "R": wordnet.ADV}

    return tag_dict.get(tag, wordnet.NOUN)

def get_email_body(x):
    for word in thanking_words:
        if x.find(word+'\n') != -1:
            return x.split(word)[0]

    return x


def preprocess_text(subject, email_body):

    sw = set(stopwords.words('english'))
    # 1. Init Lemmatizer
    lemmatizer = WordNetLemmatizer()

    message = subject + " " + email_body
    if message.find('[ar-freight]')!= -1:
        message = message.replace('[ar-freight]','')
    #lowering and removing punctuation
    message = re.sub(r'[^\w\s]','', message.lower())
    #removing extra email text after thanking salutations
    message = get_email_body(message)
    #removing the numerical values and working only with text values
    message = re.sub('[^a-zA-Z]', " ", message )
    #removing the stopwords
    message = ' '.join([word for word in message.split() if word not in sw ])
    #lemmatizing the text
    message =  " ".join([lemmatizer.lemmatize(w, get_wordnet_pos(w)) for w in nltk.word_tokenize(message) if w not in string.punctuation])
    print("message is : ",message)
    return message

def classify_email_intent(subject, email_body):
    # def get_intent(message):
    message = preprocess_text(subject, email_body)
    headers = {'Content-type': 'application/json'}
    payload = '{"text": "'+message+'","message_id": "a"}'
    raw_response = requests.post(
        "http://localhost:5050/model/parse",
        verify=False,data=payload,headers=headers).json()

    #print(raw_response)

    
    if raw_response['intent']['name'] == 'nlu_fallback':
        return 'Others',raw_response['intent']['confidence']

    elif raw_response['intent']['name'] == 'Account_Information_Intent':
        if raw_response['intent']['confidence'] <= 0.85:
            return 'Others',1-raw_response['intent']['confidence']

        if message.find('credit')!= -1 and message.find('increase')!= -1:
            return 'Others',1 - raw_response['intent']['confidence']
            
        if message.find('block') != -1:
            return 'Others',1 - raw_response['intent']['confidence']
        
        if message.find('suspension') != -1:
            return 'Others',1 - raw_response['intent']['confidence']

    
    elif raw_response['intent']['name'] == None:
        return 'Others',0
    
    
    
    return raw_response['intent']['name'],raw_response['intent']['confidence']

