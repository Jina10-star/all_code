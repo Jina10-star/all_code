{
 "cells": [
  {
   "cell_type": "markdown",
   "metadata": {},
   "source": [
    "# install packages"
   ]
  },
  {
   "cell_type": "code",
   "execution_count": null,
   "metadata": {},
   "outputs": [],
   "source": [
    "%%bash\n",
    "source $VIRTUAL_ENV_DIR/python3/bin/activate\n",
    "\n",
    "install_package_python3.sh add dsw_qr==0.1.13\n",
    "\n",
    "$VIRTUAL_ENV_DIR/python3/bin/python -m pip install galileo\n",
    "$VIRTUAL_ENV_DIR/python3/bin/python -m pip install galileo-py\n",
    "$VIRTUAL_ENV_DIR/python3/bin/python -m pip install tchannel"
   ]
  },
  {
   "cell_type": "markdown",
   "metadata": {},
   "source": [
    "# run query"
   ]
  },
  {
   "cell_type": "code",
   "execution_count": null,
   "metadata": {},
   "outputs": [],
   "source": [
    "import os\n",
    "\n",
    "import pandas as pd\n",
    "from dsw_qr import dsw_qr\n",
    "from queryrunner_client import Client\n",
    "qr = Client(user_email='thai@uber.com')"
   ]
  },
  {
   "cell_type": "code",
   "execution_count": null,
   "metadata": {},
   "outputs": [],
   "source": [
    "def prepare_query(city_list, sample_percentage, start_date, end_date):\n",
    "    QUERY = \"\"\"\n",
    "    SET session hash_partition_count=64;\n",
    "    -- calculate hourly average gb per plan per scan at city-level\n",
    "    select distinct\n",
    "      plans.datestr,\n",
    "      plans.city_id,\n",
    "      hour(from_unixtime(cast(plans.ts as bigint))) as hour_of_day,\n",
    "      count(*) as num_plans,\n",
    "      avg(completed.client_upfront_fare_local) as hour_gb_gamma_100,\n",
    "      avg(completed.client_upfront_fare_local * POWER(0.99, minute(from_unixtime(cast(plans.ts as bigint))))) as hour_gb_gamma_99,\n",
    "      avg(completed.client_upfront_fare_local * POWER(0.95, minute(from_unixtime(cast(plans.ts as bigint))))) as hour_gb_gamma_95,\n",
    "      avg(completed.client_upfront_fare_local * POWER(0.90, minute(from_unixtime(cast(plans.ts as bigint))))) as hour_gb_gamma_90,\n",
    "      avg(completed.base_fare_local) as hour_gub_gamma_100,\n",
    "      avg(completed.base_fare_local * POWER(0.99, minute(from_unixtime(cast(plans.ts as bigint))))) as hour_gub_gamma_99,\n",
    "      avg(completed.base_fare_local * POWER(0.95, minute(from_unixtime(cast(plans.ts as bigint))))) as hour_gub_gamma_95,\n",
    "      avg(completed.base_fare_local * POWER(0.90, minute(from_unixtime(cast(plans.ts as bigint))))) as hour_gub_gamma_90\n",
    "    from\n",
    "      (\n",
    "        select\n",
    "          distinct mgv.datestr,\n",
    "          mgv.city_id,\n",
    "          mgv.supply_plan_uuid,\n",
    "          mgv.job_uuid,\n",
    "          mgv.supply_uuid,\n",
    "          mgv.job_creation_time_ms,\n",
    "          rank() over (\n",
    "            PARTITION BY mgv.supply_uuid,\n",
    "            mgv.job_uuid\n",
    "            ORDER BY\n",
    "              mgv.ts desc\n",
    "          ) as rank,\n",
    "          mgv.ts\n",
    "        from\n",
    "          (\n",
    "            select\n",
    "              distinct datestr,\n",
    "              msg.job_uuid,\n",
    "              msg.supply_uuid,\n",
    "              msg.supply_plan_uuid,\n",
    "              msg.city_id,\n",
    "              msg.ct_request_uuid,\n",
    "              msg.job_creation_time_ms,\n",
    "              msg.job_type,\n",
    "              msg.flow_type,\n",
    "              ts\n",
    "            from\n",
    "              rawdata.kafka_hp_multileg_mgv_log_nodedup\n",
    "            where\n",
    "              msg.tenancy = 'uber/production'\n",
    "              and msg.solo_cancel_model_driver_accept_prob is not NULL\n",
    "              and msg.solo_cancel_model_rider_accept_prob is not NULL\n",
    "              and msg.spinner_survive_prob_before_next_scan is not NULL\n",
    "              and msg.eventual_completion_probability is not NULL\n",
    "              and msg.city_id in ({})\n",
    "              and datestr between '{}' and '{}'\n",
    "          ) mgv\n",
    "        where\n",
    "          mgv.job_type = 'PERSONAL_TRANSPORT'\n",
    "          and mgv.flow_type in ('solo_batch', 'solo')\n",
    "          and abs(\n",
    "            mod(\n",
    "              from_big_endian_64(xxhash64(CAST(mgv.job_uuid AS varbinary))),\n",
    "              100\n",
    "            )\n",
    "          ) <= {}\n",
    "      ) plans\n",
    "      join\n",
    "        dwh.fact_trip completed \n",
    "      on plans.job_uuid = completed.uuid\n",
    "          and plans.supply_uuid = completed.driver_uuid\n",
    "          and plans.datestr = completed.datestr\n",
    "          and plans.rank = 1 -- left join fares for last plan\n",
    "          and completed.datestr between '{}' and '{}'\n",
    "          and completed.status = 'completed'\n",
    "    group by\n",
    "      plans.datestr,\n",
    "      plans.city_id,\n",
    "      hour(from_unixtime(cast(plans.ts as bigint)))\n",
    "    order by\n",
    "      plans.datestr,\n",
    "      plans.city_id,\n",
    "      hour_of_day\n",
    "    \"\"\".format(\",\".join([str(city_id) for city_id in city_list]), start_date, end_date, sample_percentage, start_date, end_date)\n",
    "    return QUERY"
   ]
  },
  {
   "cell_type": "code",
   "execution_count": null,
   "metadata": {},
   "outputs": [],
   "source": [
    "# city_list, sample_percentage, start_date, end_date\n",
    "city_list = [34, 38, 37, 138, 450, 245, 453, 540, 36, 47]\n",
    "sample_percentage = 100\n",
    "dates_list = [('2022-08-23', '2022-08-24'), ('2022-08-25', '2022-08-26'),\n",
    "              ('2022-08-27', '2022-08-28'), ('2022-08-29', '2022-08-30'),\n",
    "              ('2022-08-31', '2022-09-01'), ('2022-09-02', '2022-09-03'),\n",
    "              ('2022-09-04', '2022-09-05'), ('2022-09-06', '2022-09-07'),\n",
    "              ('2022-09-08', '2022-09-09'), ('2022-09-10', '2022-09-11'),\n",
    "              ('2022-09-12', '2022-09-13'), ('2022-09-14', '2022-09-15'),\n",
    "              ('2022-09-16', '2022-09-17'), ('2022-09-18', '2022-09-19')\n",
    "             ]"
   ]
  },
  {
   "cell_type": "code",
   "execution_count": null,
   "metadata": {},
   "outputs": [],
   "source": [
    "for i in range(len(dates_list)):\n",
    "    start_date, end_date = dates_list[i]\n",
    "    QUERY = prepare_query(city_list, \n",
    "                          sample_percentage,\n",
    "                          start_date,\n",
    "                          end_date)\n",
    "    cursor = qr.execute(\"presto-secure\", QUERY)\n",
    "    result = cursor.fetchall()\n",
    "    pd.DataFrame(result).to_csv(f\"emea_hourly_labels_local_currency_{i+1}.csv\", index=False)"
   ]
  }
 ],
 "metadata": {
  "kernelspec": {
   "display_name": "Python 3.6 (General DS)",
   "language": "python",
   "name": "python3"
  },
  "language_info": {
   "codemirror_mode": {
    "name": "ipython",
    "version": 3
   },
   "file_extension": ".py",
   "mimetype": "text/x-python",
   "name": "python",
   "nbconvert_exporter": "python",
   "pygments_lexer": "ipython3",
   "version": "3.6.4"
  }
 },
 "nbformat": 4,
 "nbformat_minor": 2
}
