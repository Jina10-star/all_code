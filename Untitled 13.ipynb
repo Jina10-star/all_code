{
 "cells": [
  {
   "cell_type": "code",
   "execution_count": 1,
   "id": "62415a63",
   "metadata": {},
   "outputs": [],
   "source": [
    "f=[ 1, 3, 2, 2, 3, 1, 5, 7, 8, 9, 16, 18, 22, 3, 2 ]"
   ]
  },
  {
   "cell_type": "code",
   "execution_count": 13,
   "id": "109164d3",
   "metadata": {},
   "outputs": [],
   "source": [
    "a=sorted(list(set(f)))"
   ]
  },
  {
   "cell_type": "code",
   "execution_count": 16,
   "id": "a8ab4513",
   "metadata": {},
   "outputs": [],
   "source": [
    "s=a[::-1]"
   ]
  },
  {
   "cell_type": "code",
   "execution_count": 18,
   "id": "6f049e13",
   "metadata": {},
   "outputs": [
    {
     "data": {
      "text/plain": [
       "[22, 18, 16, 9, 8, 7, 5, 3, 2, 1]"
      ]
     },
     "execution_count": 18,
     "metadata": {},
     "output_type": "execute_result"
    }
   ],
   "source": [
    "s"
   ]
  },
  {
   "cell_type": "code",
   "execution_count": null,
   "id": "74520184",
   "metadata": {},
   "outputs": [],
   "source": [
    "s[2]"
   ]
  },
  {
   "cell_type": "code",
   "execution_count": 17,
   "id": "a3047955",
   "metadata": {},
   "outputs": [
    {
     "name": "stdout",
     "output_type": "stream",
     "text": [
      "1th largest eliment is22\n",
      "2th largest eliment is18\n",
      "3th largest eliment is16\n",
      "4th largest eliment is9\n",
      "5th largest eliment is8\n",
      "6th largest eliment is7\n",
      "7th largest eliment is5\n",
      "8th largest eliment is3\n",
      "9th largest eliment is2\n",
      "10th largest eliment is1\n"
     ]
    }
   ],
   "source": [
    "for i in range(len(s)):\n",
    "   # print({}\"th largest eliment is - \"{}.format((i+1),a[i]))\n",
    "    print(str(i+1) + \"th largest eliment is\"+ str(s[i]))"
   ]
  },
  {
   "cell_type": "code",
   "execution_count": 19,
   "id": "55847abe",
   "metadata": {},
   "outputs": [
    {
     "data": {
      "text/html": [
       "<div>\n",
       "<style scoped>\n",
       "    .dataframe tbody tr th:only-of-type {\n",
       "        vertical-align: middle;\n",
       "    }\n",
       "\n",
       "    .dataframe tbody tr th {\n",
       "        vertical-align: top;\n",
       "    }\n",
       "\n",
       "    .dataframe thead th {\n",
       "        text-align: right;\n",
       "    }\n",
       "</style>\n",
       "<table border=\"1\" class=\"dataframe\">\n",
       "  <thead>\n",
       "    <tr style=\"text-align: right;\">\n",
       "      <th></th>\n",
       "      <th>Department</th>\n",
       "      <th>Employee</th>\n",
       "      <th>Salary</th>\n",
       "    </tr>\n",
       "  </thead>\n",
       "  <tbody>\n",
       "    <tr>\n",
       "      <th>0</th>\n",
       "      <td>Tech</td>\n",
       "      <td>Shay Henry</td>\n",
       "      <td>300</td>\n",
       "    </tr>\n",
       "    <tr>\n",
       "      <th>1</th>\n",
       "      <td>Tech</td>\n",
       "      <td>John Doe</td>\n",
       "      <td>400</td>\n",
       "    </tr>\n",
       "    <tr>\n",
       "      <th>2</th>\n",
       "      <td>Support</td>\n",
       "      <td>Brad Snow</td>\n",
       "      <td>200</td>\n",
       "    </tr>\n",
       "    <tr>\n",
       "      <th>3</th>\n",
       "      <td>Support</td>\n",
       "      <td>Tima Elhaj</td>\n",
       "      <td>100</td>\n",
       "    </tr>\n",
       "    <tr>\n",
       "      <th>4</th>\n",
       "      <td>Support</td>\n",
       "      <td>Henry Shawn</td>\n",
       "      <td>50</td>\n",
       "    </tr>\n",
       "  </tbody>\n",
       "</table>\n",
       "</div>"
      ],
      "text/plain": [
       "  Department     Employee  Salary\n",
       "0       Tech   Shay Henry     300\n",
       "1       Tech     John Doe     400\n",
       "2    Support    Brad Snow     200\n",
       "3    Support   Tima Elhaj     100\n",
       "4    Support  Henry Shawn      50"
      ]
     },
     "execution_count": 19,
     "metadata": {},
     "output_type": "execute_result"
    }
   ],
   "source": [
    "import pandas as pd\n",
    "department_lst = ['Tech', 'Tech', 'Support', 'Support', 'Support']\n",
    "employee_lst = ['Shay Henry', 'John Doe', 'Brad Snow', 'Tima Elhaj', 'Henry Shawn']\n",
    "salary_lst = [300, 400, 200, 100, 50]\n",
    "df = pd.DataFrame()\n",
    "df['Department'] = department_lst\n",
    "df['Employee'] = employee_lst\n",
    "df['Salary'] = salary_lst\n",
    "df"
   ]
  },
  {
   "cell_type": "code",
   "execution_count": 24,
   "id": "788fcde4",
   "metadata": {},
   "outputs": [
    {
     "data": {
      "text/plain": [
       "Department\n",
       "Support    200\n",
       "Tech       400\n",
       "Name: Salary, dtype: int64"
      ]
     },
     "execution_count": 24,
     "metadata": {},
     "output_type": "execute_result"
    }
   ],
   "source": [
    "df.groupby(['Department'])['Salary'].max()"
   ]
  },
  {
   "cell_type": "code",
   "execution_count": null,
   "id": "63be0963",
   "metadata": {},
   "outputs": [],
   "source": [
    "df.sort(by=)"
   ]
  },
  {
   "cell_type": "code",
   "execution_count": 27,
   "id": "ee399072",
   "metadata": {},
   "outputs": [
    {
     "data": {
      "text/html": [
       "<div>\n",
       "<style scoped>\n",
       "    .dataframe tbody tr th:only-of-type {\n",
       "        vertical-align: middle;\n",
       "    }\n",
       "\n",
       "    .dataframe tbody tr th {\n",
       "        vertical-align: top;\n",
       "    }\n",
       "\n",
       "    .dataframe thead th {\n",
       "        text-align: right;\n",
       "    }\n",
       "</style>\n",
       "<table border=\"1\" class=\"dataframe\">\n",
       "  <thead>\n",
       "    <tr style=\"text-align: right;\">\n",
       "      <th></th>\n",
       "      <th>Department</th>\n",
       "      <th>Employee</th>\n",
       "      <th>Salary</th>\n",
       "    </tr>\n",
       "  </thead>\n",
       "  <tbody>\n",
       "    <tr>\n",
       "      <th>0</th>\n",
       "      <td>Tech</td>\n",
       "      <td>Shay Henry</td>\n",
       "      <td>300</td>\n",
       "    </tr>\n",
       "    <tr>\n",
       "      <th>2</th>\n",
       "      <td>Support</td>\n",
       "      <td>Brad Snow</td>\n",
       "      <td>200</td>\n",
       "    </tr>\n",
       "  </tbody>\n",
       "</table>\n",
       "</div>"
      ],
      "text/plain": [
       "  Department    Employee  Salary\n",
       "0       Tech  Shay Henry     300\n",
       "2    Support   Brad Snow     200"
      ]
     },
     "execution_count": 27,
     "metadata": {},
     "output_type": "execute_result"
    }
   ],
   "source": [
    "df.drop_duplicates('Department',keep='first')"
   ]
  },
  {
   "cell_type": "code",
   "execution_count": null,
   "id": "63d3b601",
   "metadata": {},
   "outputs": [],
   "source": [
    "select Department,employee, max(salary) from <table_name> groupby Department;"
   ]
  },
  {
   "cell_type": "code",
   "execution_count": null,
   "id": "bcb0b27a",
   "metadata": {},
   "outputs": [],
   "source": [
    "Table1:\n",
    "Name\n",
    "A\n",
    "A\n",
    "B\n",
    " \n",
    "Table 2:\n",
    "Name\n",
    "A\n",
    "B"
   ]
  },
  {
   "cell_type": "code",
   "execution_count": null,
   "id": "a832da0e",
   "metadata": {},
   "outputs": [],
   "source": []
  }
 ],
 "metadata": {
  "kernelspec": {
   "display_name": "Python 3",
   "language": "python",
   "name": "python3"
  },
  "language_info": {
   "codemirror_mode": {
    "name": "ipython",
    "version": 3
   },
   "file_extension": ".py",
   "mimetype": "text/x-python",
   "name": "python",
   "nbconvert_exporter": "python",
   "pygments_lexer": "ipython3",
   "version": "3.8.8"
  }
 },
 "nbformat": 4,
 "nbformat_minor": 5
}
