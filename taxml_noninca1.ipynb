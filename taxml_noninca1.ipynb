{
 "cells": [
  {
   "cell_type": "code",
   "execution_count": 8,
   "id": "cec569de-7deb-49e1-b4df-ca9cd0962b3c",
   "metadata": {
    "tags": []
   },
   "outputs": [],
   "source": [
    "#import necessary packages\n",
    "import os\n",
    "import re\n",
    "import string\n",
    "import time\n",
    "from datetime import date,datetime, timezone,timedelta\n",
    "import logging\n",
    "from logging.handlers import TimedRotatingFileHandler\n",
    "import io\n",
    "import pandas as pd\n",
    "import joblib\n",
    "import numpy  as np\n",
    "from sklearn.svm import LinearSVC\n",
    "import nltk\n",
    "from nltk.stem.wordnet import WordNetLemmatizer\n",
    "#nltk.download('popular')\n",
    "import ssl\n",
    "try:\n",
    "    _create_unverified_https_context = ssl._create_unverified_context\n",
    "except AttributeError:\n",
    "    pass\n",
    "else:\n",
    "    ssl._create_default_https_context = _create_unverified_https_context\n",
    "\n",
    "\n"
   ]
  },
  {
   "cell_type": "code",
   "execution_count": 3,
   "id": "68cd8dab",
   "metadata": {},
   "outputs": [],
   "source": [
    "def preprocess_text(message):\n",
    "\n",
    "    #stopwords\n",
    "    stpwrd = nltk.corpus.stopwords.words('english')\n",
    "    #initialize lemmatizing \n",
    "    lemmatizer = WordNetLemmatizer()\n",
    "    #lowering input\n",
    "    message=message.lower()\n",
    "    #removing the numerical values and working only with text values\n",
    "    message = re.sub('[^a-zA-Z]', \" \", message)\n",
    "    #removing the stopwords\n",
    "    message = ' '.join([word for word in message.split() if word not in stpwrd])\n",
    "    #lemmatizing the text\n",
    "    message =  \" \".join([lemmatizer.lemmatize(w) for w in nltk.word_tokenize(message) if w not in string.punctuation])\n",
    "    #removing hyperlinks\n",
    "    message = re.sub(r'http\\S+', ' ', message)   \n",
    "    return message"
   ]
  },
  {
   "cell_type": "code",
   "execution_count": 5,
   "id": "77c7eb3e",
   "metadata": {},
   "outputs": [],
   "source": [
    "model = joblib.load('/Users/jghosh2/Documents/my-notebook/Tax_ml_poc/code/finalized_model.sav')\n",
    "\n"
   ]
  },
  {
   "cell_type": "code",
   "execution_count": 15,
   "id": "d0b8e50a",
   "metadata": {},
   "outputs": [],
   "source": [
    "df=pd.read_csv('/Users/jghosh2/Downloads/NONINCA_QB1_29Jun2023_131621-selected/Input_RawData_29Jun2023_132529.csv')"
   ]
  },
  {
   "cell_type": "markdown",
   "id": "c3886daf",
   "metadata": {},
   "source": [
    "# dedup version"
   ]
  },
  {
   "cell_type": "code",
   "execution_count": 16,
   "id": "3d8b51e3",
   "metadata": {},
   "outputs": [
    {
     "name": "stdout",
     "output_type": "stream",
     "text": [
      "(552526, 17)\n",
      "(552526, 19)\n",
      "(552526, 19)\n"
     ]
    }
   ],
   "source": [
    "print(df.shape)\n",
    "#combining input features to a single column\n",
    "df['combined_text'] = df[['item_name','description','establishment_type']].apply(lambda x: ' '.join(x[x.notnull()]), axis = 1)\n",
    "# apply data preprocessing steps on the prepared column\n",
    "df['processed_text']= df['combined_text'].map(lambda s:preprocess_text(s))\n",
    "print(df.shape)\n",
    "\n",
    "df['item_name_lower'] = df['item_name'].str.lower()\n",
    "df['description_lower'] = df['description'].str.lower()\n",
    "df['establishment_type_lower'] = df['establishment_type'].str.lower()\n",
    "print(df.shape)\n",
    "\n",
    "#removing duplicates\n",
    "dedup_df=df.drop_duplicates(subset=['item_name_lower','description_lower','establishment_type_lower'],ignore_index=True)\n"
   ]
  },
  {
   "cell_type": "code",
   "execution_count": 17,
   "id": "e5af857f",
   "metadata": {},
   "outputs": [
    {
     "name": "stdout",
     "output_type": "stream",
     "text": [
      "(89231, 19)\n"
     ]
    },
    {
     "name": "stderr",
     "output_type": "stream",
     "text": [
      "<ipython-input-17-3fe6fcdad380>:3: SettingWithCopyWarning: \n",
      "A value is trying to be set on a copy of a slice from a DataFrame.\n",
      "Try using .loc[row_indexer,col_indexer] = value instead\n",
      "\n",
      "See the caveats in the documentation: https://pandas.pydata.org/pandas-docs/stable/user_guide/indexing.html#returning-a-view-versus-a-copy\n",
      "  dedup_df['ml_prediction'] = model.predict(dedup_df['processed_text'])\n",
      "<ipython-input-17-3fe6fcdad380>:5: SettingWithCopyWarning: \n",
      "A value is trying to be set on a copy of a slice from a DataFrame.\n",
      "Try using .loc[row_indexer,col_indexer] = value instead\n",
      "\n",
      "See the caveats in the documentation: https://pandas.pydata.org/pandas-docs/stable/user_guide/indexing.html#returning-a-view-versus-a-copy\n",
      "  dedup_df[['ml_predicted_cat_name','ml_predicted_integer']] = dedup_df['ml_prediction'].str.split(':', expand=True)\n"
     ]
    }
   ],
   "source": [
    "print(dedup_df.shape)\n",
    "#getting ml predictions\n",
    "dedup_df['ml_prediction'] = model.predict(dedup_df['processed_text'])\n",
    "#combining cat name and integer column to get a single output column\n",
    "dedup_df[['ml_predicted_cat_name','ml_predicted_integer']] = dedup_df['ml_prediction'].str.split(':', expand=True)\n",
    "#getting confidence score\n",
    "#dedup_df['ml_predicted_conf_score'] =np.round_(1/(1+np.exp(-np.round_(np.max(model.decision_function(dedup_df['processed_text'].values), axis=1), decimals=2))),decimals=2)\n",
    "#dropping unnecessary column\n",
    "\n"
   ]
  },
  {
   "cell_type": "code",
   "execution_count": 18,
   "id": "5939ac39",
   "metadata": {},
   "outputs": [
    {
     "name": "stderr",
     "output_type": "stream",
     "text": [
      "<ipython-input-18-dfa1dee45917>:1: SettingWithCopyWarning: \n",
      "A value is trying to be set on a copy of a slice from a DataFrame\n",
      "\n",
      "See the caveats in the documentation: https://pandas.pydata.org/pandas-docs/stable/user_guide/indexing.html#returning-a-view-versus-a-copy\n",
      "  dedup_df.drop(['merchant_uuid','store_name','parent_chain_uuid','parent_chain_name',\n"
     ]
    }
   ],
   "source": [
    "dedup_df.drop(['merchant_uuid','store_name','parent_chain_uuid','parent_chain_name',\n",
    "               'merchant_type_analytics','item_uuid','subsection_name','created_at_epoch_seconds',\n",
    "               'item_name_lower','description_lower','establishment_type_lower',\n",
    "               'processed_text','combined_text','ml_prediction'], inplace=True, axis=1)"
   ]
  },
  {
   "cell_type": "code",
   "execution_count": 19,
   "id": "3a8caec1",
   "metadata": {},
   "outputs": [
    {
     "data": {
      "text/plain": [
       "(89231, 6)"
      ]
     },
     "execution_count": 19,
     "metadata": {},
     "output_type": "execute_result"
    }
   ],
   "source": [
    "dedup_df.shape"
   ]
  },
  {
   "cell_type": "code",
   "execution_count": 20,
   "id": "1ed454c7",
   "metadata": {},
   "outputs": [
    {
     "data": {
      "text/html": [
       "<div>\n",
       "<style scoped>\n",
       "    .dataframe tbody tr th:only-of-type {\n",
       "        vertical-align: middle;\n",
       "    }\n",
       "\n",
       "    .dataframe tbody tr th {\n",
       "        vertical-align: top;\n",
       "    }\n",
       "\n",
       "    .dataframe thead th {\n",
       "        text-align: right;\n",
       "    }\n",
       "</style>\n",
       "<table border=\"1\" class=\"dataframe\">\n",
       "  <thead>\n",
       "    <tr style=\"text-align: right;\">\n",
       "      <th></th>\n",
       "      <th>establishment_type</th>\n",
       "      <th>item_name</th>\n",
       "      <th>description</th>\n",
       "      <th>ml_predicted_cat_name</th>\n",
       "      <th>ml_predicted_integer</th>\n",
       "      <th>ml_predicted_conf_score</th>\n",
       "    </tr>\n",
       "  </thead>\n",
       "  <tbody>\n",
       "  </tbody>\n",
       "</table>\n",
       "</div>"
      ],
      "text/plain": [
       "Empty DataFrame\n",
       "Columns: [establishment_type, item_name, description, ml_predicted_cat_name, ml_predicted_integer, ml_predicted_conf_score]\n",
       "Index: []"
      ]
     },
     "execution_count": 20,
     "metadata": {},
     "output_type": "execute_result"
    }
   ],
   "source": [
    "dedup_df[dedup_df['item_name']=='JALAPE√ëOS']"
   ]
  },
  {
   "cell_type": "code",
   "execution_count": 26,
   "id": "e9d84581",
   "metadata": {},
   "outputs": [],
   "source": [
    "duplicate_df=df[df.duplicated(subset=['item_name_lower','description_lower','establishment_type_lower'])]\n"
   ]
  },
  {
   "cell_type": "code",
   "execution_count": 27,
   "id": "1de896e2",
   "metadata": {},
   "outputs": [
    {
     "data": {
      "text/plain": [
       "(463295, 19)"
      ]
     },
     "execution_count": 27,
     "metadata": {},
     "output_type": "execute_result"
    }
   ],
   "source": [
    "duplicate_df.shape"
   ]
  },
  {
   "cell_type": "code",
   "execution_count": 29,
   "id": "99ef5b14",
   "metadata": {},
   "outputs": [
    {
     "data": {
      "text/html": [
       "<div>\n",
       "<style scoped>\n",
       "    .dataframe tbody tr th:only-of-type {\n",
       "        vertical-align: middle;\n",
       "    }\n",
       "\n",
       "    .dataframe tbody tr th {\n",
       "        vertical-align: top;\n",
       "    }\n",
       "\n",
       "    .dataframe thead th {\n",
       "        text-align: right;\n",
       "    }\n",
       "</style>\n",
       "<table border=\"1\" class=\"dataframe\">\n",
       "  <thead>\n",
       "    <tr style=\"text-align: right;\">\n",
       "      <th></th>\n",
       "      <th>merchant_uuid</th>\n",
       "      <th>store_name</th>\n",
       "      <th>parent_chain_uuid</th>\n",
       "      <th>parent_chain_name</th>\n",
       "      <th>establishment_type</th>\n",
       "      <th>merchant_type_analytics</th>\n",
       "      <th>item_uuid</th>\n",
       "      <th>item_name</th>\n",
       "      <th>subsection_name</th>\n",
       "      <th>description</th>\n",
       "      <th>created_at_epoch_seconds</th>\n",
       "      <th>item_name_lower</th>\n",
       "      <th>description_lower</th>\n",
       "      <th>establishment_type_lower</th>\n",
       "      <th>ml_predicted_cat_name</th>\n",
       "      <th>ml_predicted_integer</th>\n",
       "      <th>ml_predicted_conf_score</th>\n",
       "      <th>combined_text</th>\n",
       "      <th>processed_text</th>\n",
       "    </tr>\n",
       "  </thead>\n",
       "  <tbody>\n",
       "  </tbody>\n",
       "</table>\n",
       "</div>"
      ],
      "text/plain": [
       "Empty DataFrame\n",
       "Columns: [merchant_uuid, store_name, parent_chain_uuid, parent_chain_name, establishment_type, merchant_type_analytics, item_uuid, item_name, subsection_name, description, created_at_epoch_seconds, item_name_lower, description_lower, establishment_type_lower, ml_predicted_cat_name, ml_predicted_integer, ml_predicted_conf_score, combined_text, processed_text]\n",
       "Index: []"
      ]
     },
     "execution_count": 29,
     "metadata": {},
     "output_type": "execute_result"
    }
   ],
   "source": [
    "duplicate_df[duplicate_df['item_name']=='JALAPE√ëOS']"
   ]
  },
  {
   "cell_type": "code",
   "execution_count": 31,
   "id": "cb23074f",
   "metadata": {},
   "outputs": [
    {
     "data": {
      "text/plain": [
       "463295"
      ]
     },
     "execution_count": 31,
     "metadata": {},
     "output_type": "execute_result"
    }
   ],
   "source": [
    "552526-89231"
   ]
  },
  {
   "cell_type": "code",
   "execution_count": 32,
   "id": "370dafbc",
   "metadata": {},
   "outputs": [
    {
     "data": {
      "text/html": [
       "<div>\n",
       "<style scoped>\n",
       "    .dataframe tbody tr th:only-of-type {\n",
       "        vertical-align: middle;\n",
       "    }\n",
       "\n",
       "    .dataframe tbody tr th {\n",
       "        vertical-align: top;\n",
       "    }\n",
       "\n",
       "    .dataframe thead th {\n",
       "        text-align: right;\n",
       "    }\n",
       "</style>\n",
       "<table border=\"1\" class=\"dataframe\">\n",
       "  <thead>\n",
       "    <tr style=\"text-align: right;\">\n",
       "      <th></th>\n",
       "      <th>merchant_uuid</th>\n",
       "      <th>store_name</th>\n",
       "      <th>parent_chain_uuid</th>\n",
       "      <th>parent_chain_name</th>\n",
       "      <th>establishment_type</th>\n",
       "      <th>merchant_type_analytics</th>\n",
       "      <th>item_uuid</th>\n",
       "      <th>item_name</th>\n",
       "      <th>subsection_name</th>\n",
       "      <th>description</th>\n",
       "      <th>created_at_epoch_seconds</th>\n",
       "      <th>item_name_lower</th>\n",
       "      <th>description_lower</th>\n",
       "      <th>establishment_type_lower</th>\n",
       "      <th>ml_predicted_cat_name</th>\n",
       "      <th>ml_predicted_integer</th>\n",
       "      <th>ml_predicted_conf_score</th>\n",
       "      <th>combined_text</th>\n",
       "      <th>processed_text</th>\n",
       "    </tr>\n",
       "  </thead>\n",
       "  <tbody>\n",
       "  </tbody>\n",
       "</table>\n",
       "</div>"
      ],
      "text/plain": [
       "Empty DataFrame\n",
       "Columns: [merchant_uuid, store_name, parent_chain_uuid, parent_chain_name, establishment_type, merchant_type_analytics, item_uuid, item_name, subsection_name, description, created_at_epoch_seconds, item_name_lower, description_lower, establishment_type_lower, ml_predicted_cat_name, ml_predicted_integer, ml_predicted_conf_score, combined_text, processed_text]\n",
       "Index: []"
      ]
     },
     "execution_count": 32,
     "metadata": {},
     "output_type": "execute_result"
    }
   ],
   "source": [
    "df[df['item_name']=='JALAPE√ëOS']\n"
   ]
  },
  {
   "cell_type": "code",
   "execution_count": 34,
   "id": "2756375f",
   "metadata": {},
   "outputs": [
    {
     "data": {
      "text/html": [
       "<div>\n",
       "<style scoped>\n",
       "    .dataframe tbody tr th:only-of-type {\n",
       "        vertical-align: middle;\n",
       "    }\n",
       "\n",
       "    .dataframe tbody tr th {\n",
       "        vertical-align: top;\n",
       "    }\n",
       "\n",
       "    .dataframe thead th {\n",
       "        text-align: right;\n",
       "    }\n",
       "</style>\n",
       "<table border=\"1\" class=\"dataframe\">\n",
       "  <thead>\n",
       "    <tr style=\"text-align: right;\">\n",
       "      <th></th>\n",
       "      <th>merchant_uuid</th>\n",
       "      <th>store_name</th>\n",
       "      <th>parent_chain_uuid</th>\n",
       "      <th>parent_chain_name</th>\n",
       "      <th>establishment_type</th>\n",
       "      <th>merchant_type_analytics</th>\n",
       "      <th>item_uuid</th>\n",
       "      <th>item_name</th>\n",
       "      <th>subsection_name</th>\n",
       "      <th>description</th>\n",
       "      <th>created_at_epoch_seconds</th>\n",
       "      <th>item_name_lower</th>\n",
       "      <th>description_lower</th>\n",
       "      <th>establishment_type_lower</th>\n",
       "      <th>ml_predicted_cat_name</th>\n",
       "      <th>ml_predicted_integer</th>\n",
       "      <th>ml_predicted_conf_score</th>\n",
       "      <th>combined_text</th>\n",
       "      <th>processed_text</th>\n",
       "    </tr>\n",
       "  </thead>\n",
       "  <tbody>\n",
       "    <tr>\n",
       "      <th>8</th>\n",
       "      <td>0001998e-2cfd-475d-9698-da9625849529</td>\n",
       "      <td>Village Inn (1919 North Harrison Street)</td>\n",
       "      <td>bb0f3764-7721-4f14-b24d-cd11b407628e</td>\n",
       "      <td>Village Inn (Parent)</td>\n",
       "      <td>DEFAULT</td>\n",
       "      <td>MERCHANT_TYPE_RESTAURANT</td>\n",
       "      <td>d0d43928-ed03-5630-99c2-d0f25d57b954</td>\n",
       "      <td>2 Pieces of Toast</td>\n",
       "      <td>A la Carte</td>\n",
       "      <td>Your choice of bread</td>\n",
       "      <td>1687877044</td>\n",
       "      <td>2 pieces of toast</td>\n",
       "      <td>your choice of bread</td>\n",
       "      <td>default</td>\n",
       "      <td>CAT_PREPARED_FOOD,TEMP_HEATED</td>\n",
       "      <td>101,1</td>\n",
       "      <td>0.61</td>\n",
       "      <td>2 Pieces of Toast Your choice of bread DEFAULT</td>\n",
       "      <td>piece toast choice bread default</td>\n",
       "    </tr>\n",
       "  </tbody>\n",
       "</table>\n",
       "</div>"
      ],
      "text/plain": [
       "                          merchant_uuid  \\\n",
       "8  0001998e-2cfd-475d-9698-da9625849529   \n",
       "\n",
       "                                 store_name  \\\n",
       "8  Village Inn (1919 North Harrison Street)   \n",
       "\n",
       "                      parent_chain_uuid     parent_chain_name  \\\n",
       "8  bb0f3764-7721-4f14-b24d-cd11b407628e  Village Inn (Parent)   \n",
       "\n",
       "  establishment_type   merchant_type_analytics  \\\n",
       "8            DEFAULT  MERCHANT_TYPE_RESTAURANT   \n",
       "\n",
       "                              item_uuid          item_name subsection_name  \\\n",
       "8  d0d43928-ed03-5630-99c2-d0f25d57b954  2 Pieces of Toast      A la Carte   \n",
       "\n",
       "            description  created_at_epoch_seconds    item_name_lower  \\\n",
       "8  Your choice of bread                1687877044  2 pieces of toast   \n",
       "\n",
       "      description_lower establishment_type_lower  \\\n",
       "8  your choice of bread                  default   \n",
       "\n",
       "           ml_predicted_cat_name ml_predicted_integer  \\\n",
       "8  CAT_PREPARED_FOOD,TEMP_HEATED                101,1   \n",
       "\n",
       "   ml_predicted_conf_score                                   combined_text  \\\n",
       "8                     0.61  2 Pieces of Toast Your choice of bread DEFAULT   \n",
       "\n",
       "                     processed_text  \n",
       "8  piece toast choice bread default  "
      ]
     },
     "execution_count": 34,
     "metadata": {},
     "output_type": "execute_result"
    }
   ],
   "source": [
    "df[df['item_name']=='2 Pieces of Toast']\n"
   ]
  },
  {
   "cell_type": "code",
   "execution_count": 36,
   "id": "ec94632e",
   "metadata": {},
   "outputs": [],
   "source": [
    "dedup_df.to_csv('dedup_df.csv')"
   ]
  },
  {
   "cell_type": "code",
   "execution_count": 37,
   "id": "91f55184",
   "metadata": {},
   "outputs": [],
   "source": [
    "duplicate_df.to_csv('duplicate_df.csv')"
   ]
  },
  {
   "cell_type": "code",
   "execution_count": null,
   "id": "a538034c",
   "metadata": {},
   "outputs": [],
   "source": []
  }
 ],
 "metadata": {
  "kernelspec": {
   "display_name": "Python 3",
   "language": "python",
   "name": "python3"
  },
  "language_info": {
   "codemirror_mode": {
    "name": "ipython",
    "version": 3
   },
   "file_extension": ".py",
   "mimetype": "text/x-python",
   "name": "python",
   "nbconvert_exporter": "python",
   "pygments_lexer": "ipython3",
   "version": "3.8.8"
  }
 },
 "nbformat": 4,
 "nbformat_minor": 5
}
