{
 "cells": [
  {
   "cell_type": "code",
   "execution_count": null,
   "id": "77841304",
   "metadata": {},
   "outputs": [],
   "source": [
    " #install packages\n",
    "#!install_package_python37.sh add nltk==3.7\n",
    "#!install_package_python37.sh add python-dotenv==0.13.0\n",
    "#!install_package_python37.sh add scikit-learn==0.24.2\n",
    "#!install_package_python37.sh add pyjwt\n",
    "#!install_package_python37.sh add boxsdk[jwt]>=2.0.0\n",
    "#!install_package_python37.sh add pandas==1.1.5\n",
    "#!install_package_python37.sh add numpy==1.19.5\n",
    "#!install_package_python37.sh add sendgrid\n",
    "#!install_package_python37.sh add queryrunner_client==4.0.0rc1\n",
    "#!install_package_python37.sh add urllib3==1.26.15 \n",
    "#!install_package_python37.sh add requests-toolbelt==0.10.1\n",
    "\n",
    "#!install_package_python37.sh add gspread\n",
    "#!install_package_python37.sh add oauth2client"
   ]
  },
  {
   "cell_type": "code",
   "execution_count": null,
   "id": "a04914c2",
   "metadata": {},
   "outputs": [],
   "source": [
    "#!install_package_python37.sh remove config==0.5.1"
   ]
  },
  {
   "cell_type": "code",
   "execution_count": 1,
   "id": "3f428776",
   "metadata": {},
   "outputs": [
    {
     "name": "stdout",
     "output_type": "stream",
     "text": [
      "Found existing installation: config 0.5.1\n",
      "Uninstalling config-0.5.1:\n",
      "  Successfully uninstalled config-0.5.1\n",
      "Note: you may need to restart the kernel to use updated packages.\n"
     ]
    }
   ],
   "source": [
    "#pip uninstall -y config==0.5.1"
   ]
  },
  {
   "cell_type": "code",
   "execution_count": 11,
   "id": "1d6e7c26",
   "metadata": {},
   "outputs": [
    {
     "name": "stdout",
     "output_type": "stream",
     "text": [
      "Using version \u001b[1m^5.9.0\u001b[0m for \u001b[36mgspread\u001b[0m\n",
      "\n",
      "\u001b[34mUpdating dependencies\u001b[0m\n",
      "\u001b[2K\u001b[34mResolving dependencies...\u001b[0m \u001b[39;2m(7.6s)\u001b[0m\u001b[34mResolving dependencies...\u001b[0m \u001b[39;2m(4.8s)\u001b[0m\u001b[34mResolving dependencies...\u001b[0m \u001b[39;2m(5.1s)\u001b[0m\n",
      "\n",
      "\u001b[34mWriting lock file\u001b[0m\n",
      "\n",
      "\u001b[1mPackage operations\u001b[0m: \u001b[34m9\u001b[0m installs, \u001b[34m0\u001b[0m updates, \u001b[34m0\u001b[0m removals\n",
      "\n",
      "  \u001b[34;1m•\u001b[0m \u001b[39mInstalling \u001b[0m\u001b[36mpyasn1\u001b[0m\u001b[39m (\u001b[0m\u001b[39;1m0.5.0\u001b[0m\u001b[39m)\u001b[0m: \u001b[34mPending...\u001b[0m\n",
      "\u001b[1A\u001b[0J  \u001b[34;1m•\u001b[0m \u001b[39mInstalling \u001b[0m\u001b[36mpyasn1\u001b[0m\u001b[39m (\u001b[0m\u001b[39;1m0.5.0\u001b[0m\u001b[39m)\u001b[0m: \u001b[34mDownloading...\u001b[0m \u001b[1m0%\u001b[0m\n",
      "\u001b[1A\u001b[0J  \u001b[34;1m•\u001b[0m \u001b[39mInstalling \u001b[0m\u001b[36mpyasn1\u001b[0m\u001b[39m (\u001b[0m\u001b[39;1m0.5.0\u001b[0m\u001b[39m)\u001b[0m: \u001b[34mDownloading...\u001b[0m \u001b[1m100%\u001b[0m\n",
      "\u001b[1A\u001b[0J  \u001b[34;1m•\u001b[0m \u001b[39mInstalling \u001b[0m\u001b[36mpyasn1\u001b[0m\u001b[39m (\u001b[0m\u001b[39;1m0.5.0\u001b[0m\u001b[39m)\u001b[0m: \u001b[34mDownloading...\u001b[0m \u001b[1m100%\u001b[0m\n",
      "\u001b[1A\u001b[0J  \u001b[34;1m•\u001b[0m \u001b[39mInstalling \u001b[0m\u001b[36mpyasn1\u001b[0m\u001b[39m (\u001b[0m\u001b[39;1m0.5.0\u001b[0m\u001b[39m)\u001b[0m: \u001b[34mInstalling...\u001b[0m\n",
      "\u001b[1A\u001b[0J  \u001b[32;1m•\u001b[0m \u001b[39mInstalling \u001b[0m\u001b[36mpyasn1\u001b[0m\u001b[39m (\u001b[0m\u001b[32m0.5.0\u001b[0m\u001b[39m)\u001b[0m\n",
      "  \u001b[34;1m•\u001b[0m \u001b[39mInstalling \u001b[0m\u001b[36mcachetools\u001b[0m\u001b[39m (\u001b[0m\u001b[39;1m5.3.1\u001b[0m\u001b[39m)\u001b[0m: \u001b[34mPending...\u001b[0m\n",
      "  \u001b[34;1m•\u001b[0m \u001b[39mInstalling \u001b[0m\u001b[36moauthlib\u001b[0m\u001b[39m (\u001b[0m\u001b[39;1m3.2.2\u001b[0m\u001b[39m)\u001b[0m: \u001b[34mPending...\u001b[0m\n",
      "  \u001b[34;1m•\u001b[0m \u001b[39mInstalling \u001b[0m\u001b[36mpyasn1-modules\u001b[0m\u001b[39m (\u001b[0m\u001b[39;1m0.3.0\u001b[0m\u001b[39m)\u001b[0m: \u001b[34mPending...\u001b[0m\n",
      "  \u001b[34;1m•\u001b[0m \u001b[39mInstalling \u001b[0m\u001b[36mrsa\u001b[0m\u001b[39m (\u001b[0m\u001b[39;1m4.9\u001b[0m\u001b[39m)\u001b[0m: \u001b[34mPending...\u001b[0m\n",
      "\u001b[2A\u001b[0J  \u001b[34;1m•\u001b[0m \u001b[39mInstalling \u001b[0m\u001b[36mrsa\u001b[0m\u001b[39m (\u001b[0m\u001b[39;1m4.9\u001b[0m\u001b[39m)\u001b[0m: \u001b[34mPending...\u001b[0m\n",
      "\u001b[1A\u001b[0J  \u001b[34;1m•\u001b[0m \u001b[39mInstalling \u001b[0m\u001b[36mpyasn1-modules\u001b[0m\u001b[39m (\u001b[0m\u001b[39;1m0.3.0\u001b[0m\u001b[39m)\u001b[0m: \u001b[34mDownloading...\u001b[0m \u001b[1m0%\u001b[0m\n",
      "  \u001b[34;1m•\u001b[0m \u001b[39mInstalling \u001b[0m\u001b[36mrsa\u001b[0m\u001b[39m (\u001b[0m\u001b[39;1m4.9\u001b[0m\u001b[39m)\u001b[0m: \u001b[34mPending...\u001b[0m\n",
      "\u001b[2A\u001b[0J  \u001b[34;1m•\u001b[0m \u001b[39mInstalling \u001b[0m\u001b[36mrsa\u001b[0m\u001b[39m (\u001b[0m\u001b[39;1m4.9\u001b[0m\u001b[39m)\u001b[0m: \u001b[34mPending...\u001b[0m\n",
      "\u001b[1A\u001b[0J  \u001b[34;1m•\u001b[0m \u001b[39mInstalling \u001b[0m\u001b[36mpyasn1-modules\u001b[0m\u001b[39m (\u001b[0m\u001b[39;1m0.3.0\u001b[0m\u001b[39m)\u001b[0m: \u001b[34mDownloading...\u001b[0m \u001b[1m100%\u001b[0m\n",
      "  \u001b[34;1m•\u001b[0m \u001b[39mInstalling \u001b[0m\u001b[36mrsa\u001b[0m\u001b[39m (\u001b[0m\u001b[39;1m4.9\u001b[0m\u001b[39m)\u001b[0m: \u001b[34mPending...\u001b[0m\n",
      "\u001b[2A\u001b[0J  \u001b[34;1m•\u001b[0m \u001b[39mInstalling \u001b[0m\u001b[36mrsa\u001b[0m\u001b[39m (\u001b[0m\u001b[39;1m4.9\u001b[0m\u001b[39m)\u001b[0m: \u001b[34mPending...\u001b[0m\n",
      "\u001b[1A\u001b[0J  \u001b[34;1m•\u001b[0m \u001b[39mInstalling \u001b[0m\u001b[36mpyasn1-modules\u001b[0m\u001b[39m (\u001b[0m\u001b[39;1m0.3.0\u001b[0m\u001b[39m)\u001b[0m: \u001b[34mDownloading...\u001b[0m \u001b[1m100%\u001b[0m\n",
      "  \u001b[34;1m•\u001b[0m \u001b[39mInstalling \u001b[0m\u001b[36mrsa\u001b[0m\u001b[39m (\u001b[0m\u001b[39;1m4.9\u001b[0m\u001b[39m)\u001b[0m: \u001b[34mPending...\u001b[0m\n",
      "\u001b[2A\u001b[0J  \u001b[34;1m•\u001b[0m \u001b[39mInstalling \u001b[0m\u001b[36mrsa\u001b[0m\u001b[39m (\u001b[0m\u001b[39;1m4.9\u001b[0m\u001b[39m)\u001b[0m: \u001b[34mPending...\u001b[0m\n",
      "\u001b[1A\u001b[0J  \u001b[34;1m•\u001b[0m \u001b[39mInstalling \u001b[0m\u001b[36mpyasn1-modules\u001b[0m\u001b[39m (\u001b[0m\u001b[39;1m0.3.0\u001b[0m\u001b[39m)\u001b[0m: \u001b[34mInstalling...\u001b[0m\n",
      "  \u001b[34;1m•\u001b[0m \u001b[39mInstalling \u001b[0m\u001b[36mrsa\u001b[0m\u001b[39m (\u001b[0m\u001b[39;1m4.9\u001b[0m\u001b[39m)\u001b[0m: \u001b[34mPending...\u001b[0m\n",
      "\u001b[3A\u001b[0J  \u001b[34;1m•\u001b[0m \u001b[39mInstalling \u001b[0m\u001b[36mpyasn1-modules\u001b[0m\u001b[39m (\u001b[0m\u001b[39;1m0.3.0\u001b[0m\u001b[39m)\u001b[0m: \u001b[34mInstalling...\u001b[0m\n",
      "  \u001b[34;1m•\u001b[0m \u001b[39mInstalling \u001b[0m\u001b[36mrsa\u001b[0m\u001b[39m (\u001b[0m\u001b[39;1m4.9\u001b[0m\u001b[39m)\u001b[0m: \u001b[34mPending...\u001b[0m\n",
      "\u001b[2A\u001b[0J  \u001b[34;1m•\u001b[0m \u001b[39mInstalling \u001b[0m\u001b[36moauthlib\u001b[0m\u001b[39m (\u001b[0m\u001b[39;1m3.2.2\u001b[0m\u001b[39m)\u001b[0m: \u001b[34mDownloading...\u001b[0m \u001b[1m0%\u001b[0m\n",
      "  \u001b[34;1m•\u001b[0m \u001b[39mInstalling \u001b[0m\u001b[36mpyasn1-modules\u001b[0m\u001b[39m (\u001b[0m\u001b[39;1m0.3.0\u001b[0m\u001b[39m)\u001b[0m: \u001b[34mInstalling...\u001b[0m\n",
      "  \u001b[34;1m•\u001b[0m \u001b[39mInstalling \u001b[0m\u001b[36mrsa\u001b[0m\u001b[39m (\u001b[0m\u001b[39;1m4.9\u001b[0m\u001b[39m)\u001b[0m: \u001b[34mPending...\u001b[0m\n",
      "\u001b[3A\u001b[0J  \u001b[34;1m•\u001b[0m \u001b[39mInstalling \u001b[0m\u001b[36mpyasn1-modules\u001b[0m\u001b[39m (\u001b[0m\u001b[39;1m0.3.0\u001b[0m\u001b[39m)\u001b[0m: \u001b[34mInstalling...\u001b[0m\n",
      "  \u001b[34;1m•\u001b[0m \u001b[39mInstalling \u001b[0m\u001b[36mrsa\u001b[0m\u001b[39m (\u001b[0m\u001b[39;1m4.9\u001b[0m\u001b[39m)\u001b[0m: \u001b[34mPending...\u001b[0m\n",
      "\u001b[2A\u001b[0J  \u001b[34;1m•\u001b[0m \u001b[39mInstalling \u001b[0m\u001b[36moauthlib\u001b[0m\u001b[39m (\u001b[0m\u001b[39;1m3.2.2\u001b[0m\u001b[39m)\u001b[0m: \u001b[34mDownloading...\u001b[0m \u001b[1m100%\u001b[0m\n",
      "  \u001b[34;1m•\u001b[0m \u001b[39mInstalling \u001b[0m\u001b[36mpyasn1-modules\u001b[0m\u001b[39m (\u001b[0m\u001b[39;1m0.3.0\u001b[0m\u001b[39m)\u001b[0m: \u001b[34mInstalling...\u001b[0m\n",
      "  \u001b[34;1m•\u001b[0m \u001b[39mInstalling \u001b[0m\u001b[36mrsa\u001b[0m\u001b[39m (\u001b[0m\u001b[39;1m4.9\u001b[0m\u001b[39m)\u001b[0m: \u001b[34mPending...\u001b[0m\n",
      "\u001b[3A\u001b[0J  \u001b[34;1m•\u001b[0m \u001b[39mInstalling \u001b[0m\u001b[36mpyasn1-modules\u001b[0m\u001b[39m (\u001b[0m\u001b[39;1m0.3.0\u001b[0m\u001b[39m)\u001b[0m: \u001b[34mInstalling...\u001b[0m\n",
      "  \u001b[34;1m•\u001b[0m \u001b[39mInstalling \u001b[0m\u001b[36mrsa\u001b[0m\u001b[39m (\u001b[0m\u001b[39;1m4.9\u001b[0m\u001b[39m)\u001b[0m: \u001b[34mPending...\u001b[0m\n",
      "\u001b[2A\u001b[0J  \u001b[34;1m•\u001b[0m \u001b[39mInstalling \u001b[0m\u001b[36moauthlib\u001b[0m\u001b[39m (\u001b[0m\u001b[39;1m3.2.2\u001b[0m\u001b[39m)\u001b[0m: \u001b[34mDownloading...\u001b[0m \u001b[1m100%\u001b[0m\n",
      "  \u001b[34;1m•\u001b[0m \u001b[39mInstalling \u001b[0m\u001b[36mpyasn1-modules\u001b[0m\u001b[39m (\u001b[0m\u001b[39;1m0.3.0\u001b[0m\u001b[39m)\u001b[0m: \u001b[34mInstalling...\u001b[0m\n",
      "  \u001b[34;1m•\u001b[0m \u001b[39mInstalling \u001b[0m\u001b[36mrsa\u001b[0m\u001b[39m (\u001b[0m\u001b[39;1m4.9\u001b[0m\u001b[39m)\u001b[0m: \u001b[34mPending...\u001b[0m\n",
      "\u001b[3A\u001b[0J  \u001b[34;1m•\u001b[0m \u001b[39mInstalling \u001b[0m\u001b[36mpyasn1-modules\u001b[0m\u001b[39m (\u001b[0m\u001b[39;1m0.3.0\u001b[0m\u001b[39m)\u001b[0m: \u001b[34mInstalling...\u001b[0m\n",
      "  \u001b[34;1m•\u001b[0m \u001b[39mInstalling \u001b[0m\u001b[36mrsa\u001b[0m\u001b[39m (\u001b[0m\u001b[39;1m4.9\u001b[0m\u001b[39m)\u001b[0m: \u001b[34mPending...\u001b[0m\n",
      "\u001b[2A\u001b[0J  \u001b[34;1m•\u001b[0m \u001b[39mInstalling \u001b[0m\u001b[36moauthlib\u001b[0m\u001b[39m (\u001b[0m\u001b[39;1m3.2.2\u001b[0m\u001b[39m)\u001b[0m: \u001b[34mInstalling...\u001b[0m\n",
      "  \u001b[34;1m•\u001b[0m \u001b[39mInstalling \u001b[0m\u001b[36mpyasn1-modules\u001b[0m\u001b[39m (\u001b[0m\u001b[39;1m0.3.0\u001b[0m\u001b[39m)\u001b[0m: \u001b[34mInstalling...\u001b[0m\n",
      "  \u001b[34;1m•\u001b[0m \u001b[39mInstalling \u001b[0m\u001b[36mrsa\u001b[0m\u001b[39m (\u001b[0m\u001b[39;1m4.9\u001b[0m\u001b[39m)\u001b[0m: \u001b[34mPending...\u001b[0m\n",
      "\u001b[4A\u001b[0J  \u001b[34;1m•\u001b[0m \u001b[39mInstalling \u001b[0m\u001b[36moauthlib\u001b[0m\u001b[39m (\u001b[0m\u001b[39;1m3.2.2\u001b[0m\u001b[39m)\u001b[0m: \u001b[34mInstalling...\u001b[0m\n",
      "  \u001b[34;1m•\u001b[0m \u001b[39mInstalling \u001b[0m\u001b[36mpyasn1-modules\u001b[0m\u001b[39m (\u001b[0m\u001b[39;1m0.3.0\u001b[0m\u001b[39m)\u001b[0m: \u001b[34mInstalling...\u001b[0m\n",
      "  \u001b[34;1m•\u001b[0m \u001b[39mInstalling \u001b[0m\u001b[36mrsa\u001b[0m\u001b[39m (\u001b[0m\u001b[39;1m4.9\u001b[0m\u001b[39m)\u001b[0m: \u001b[34mPending...\u001b[0m\n",
      "\u001b[3A\u001b[0J  \u001b[34;1m•\u001b[0m \u001b[39mInstalling \u001b[0m\u001b[36mcachetools\u001b[0m\u001b[39m (\u001b[0m\u001b[39;1m5.3.1\u001b[0m\u001b[39m)\u001b[0m: \u001b[34mDownloading...\u001b[0m \u001b[1m0%\u001b[0m\n",
      "  \u001b[34;1m•\u001b[0m \u001b[39mInstalling \u001b[0m\u001b[36moauthlib\u001b[0m\u001b[39m (\u001b[0m\u001b[39;1m3.2.2\u001b[0m\u001b[39m)\u001b[0m: \u001b[34mInstalling...\u001b[0m\n",
      "  \u001b[34;1m•\u001b[0m \u001b[39mInstalling \u001b[0m\u001b[36mpyasn1-modules\u001b[0m\u001b[39m (\u001b[0m\u001b[39;1m0.3.0\u001b[0m\u001b[39m)\u001b[0m: \u001b[34mInstalling...\u001b[0m\n",
      "  \u001b[34;1m•\u001b[0m \u001b[39mInstalling \u001b[0m\u001b[36mrsa\u001b[0m\u001b[39m (\u001b[0m\u001b[39;1m4.9\u001b[0m\u001b[39m)\u001b[0m: \u001b[34mPending...\u001b[0m\n",
      "\u001b[4A\u001b[0J  \u001b[34;1m•\u001b[0m \u001b[39mInstalling \u001b[0m\u001b[36moauthlib\u001b[0m\u001b[39m (\u001b[0m\u001b[39;1m3.2.2\u001b[0m\u001b[39m)\u001b[0m: \u001b[34mInstalling...\u001b[0m\n",
      "  \u001b[34;1m•\u001b[0m \u001b[39mInstalling \u001b[0m\u001b[36mpyasn1-modules\u001b[0m\u001b[39m (\u001b[0m\u001b[39;1m0.3.0\u001b[0m\u001b[39m)\u001b[0m: \u001b[34mInstalling...\u001b[0m\n",
      "  \u001b[34;1m•\u001b[0m \u001b[39mInstalling \u001b[0m\u001b[36mrsa\u001b[0m\u001b[39m (\u001b[0m\u001b[39;1m4.9\u001b[0m\u001b[39m)\u001b[0m: \u001b[34mPending...\u001b[0m\n",
      "\u001b[3A\u001b[0J  \u001b[34;1m•\u001b[0m \u001b[39mInstalling \u001b[0m\u001b[36mcachetools\u001b[0m\u001b[39m (\u001b[0m\u001b[39;1m5.3.1\u001b[0m\u001b[39m)\u001b[0m: \u001b[34mDownloading...\u001b[0m \u001b[1m100%\u001b[0m\n",
      "  \u001b[34;1m•\u001b[0m \u001b[39mInstalling \u001b[0m\u001b[36moauthlib\u001b[0m\u001b[39m (\u001b[0m\u001b[39;1m3.2.2\u001b[0m\u001b[39m)\u001b[0m: \u001b[34mInstalling...\u001b[0m\n",
      "  \u001b[34;1m•\u001b[0m \u001b[39mInstalling \u001b[0m\u001b[36mpyasn1-modules\u001b[0m\u001b[39m (\u001b[0m\u001b[39;1m0.3.0\u001b[0m\u001b[39m)\u001b[0m: \u001b[34mInstalling...\u001b[0m\n",
      "  \u001b[34;1m•\u001b[0m \u001b[39mInstalling \u001b[0m\u001b[36mrsa\u001b[0m\u001b[39m (\u001b[0m\u001b[39;1m4.9\u001b[0m\u001b[39m)\u001b[0m: \u001b[34mPending...\u001b[0m\n",
      "\u001b[4A\u001b[0J  \u001b[34;1m•\u001b[0m \u001b[39mInstalling \u001b[0m\u001b[36moauthlib\u001b[0m\u001b[39m (\u001b[0m\u001b[39;1m3.2.2\u001b[0m\u001b[39m)\u001b[0m: \u001b[34mInstalling...\u001b[0m\n",
      "  \u001b[34;1m•\u001b[0m \u001b[39mInstalling \u001b[0m\u001b[36mpyasn1-modules\u001b[0m\u001b[39m (\u001b[0m\u001b[39;1m0.3.0\u001b[0m\u001b[39m)\u001b[0m: \u001b[34mInstalling...\u001b[0m\n",
      "  \u001b[34;1m•\u001b[0m \u001b[39mInstalling \u001b[0m\u001b[36mrsa\u001b[0m\u001b[39m (\u001b[0m\u001b[39;1m4.9\u001b[0m\u001b[39m)\u001b[0m: \u001b[34mPending...\u001b[0m\n",
      "\u001b[3A\u001b[0J  \u001b[34;1m•\u001b[0m \u001b[39mInstalling \u001b[0m\u001b[36mcachetools\u001b[0m\u001b[39m (\u001b[0m\u001b[39;1m5.3.1\u001b[0m\u001b[39m)\u001b[0m: \u001b[34mDownloading...\u001b[0m \u001b[1m100%\u001b[0m\n",
      "  \u001b[34;1m•\u001b[0m \u001b[39mInstalling \u001b[0m\u001b[36moauthlib\u001b[0m\u001b[39m (\u001b[0m\u001b[39;1m3.2.2\u001b[0m\u001b[39m)\u001b[0m: \u001b[34mInstalling...\u001b[0m\n",
      "  \u001b[34;1m•\u001b[0m \u001b[39mInstalling \u001b[0m\u001b[36mpyasn1-modules\u001b[0m\u001b[39m (\u001b[0m\u001b[39;1m0.3.0\u001b[0m\u001b[39m)\u001b[0m: \u001b[34mInstalling...\u001b[0m\n",
      "  \u001b[34;1m•\u001b[0m \u001b[39mInstalling \u001b[0m\u001b[36mrsa\u001b[0m\u001b[39m (\u001b[0m\u001b[39;1m4.9\u001b[0m\u001b[39m)\u001b[0m: \u001b[34mPending...\u001b[0m\n",
      "\u001b[4A\u001b[0J  \u001b[34;1m•\u001b[0m \u001b[39mInstalling \u001b[0m\u001b[36moauthlib\u001b[0m\u001b[39m (\u001b[0m\u001b[39;1m3.2.2\u001b[0m\u001b[39m)\u001b[0m: \u001b[34mInstalling...\u001b[0m\n",
      "  \u001b[34;1m•\u001b[0m \u001b[39mInstalling \u001b[0m\u001b[36mpyasn1-modules\u001b[0m\u001b[39m (\u001b[0m\u001b[39;1m0.3.0\u001b[0m\u001b[39m)\u001b[0m: \u001b[34mInstalling...\u001b[0m\n",
      "  \u001b[34;1m•\u001b[0m \u001b[39mInstalling \u001b[0m\u001b[36mrsa\u001b[0m\u001b[39m (\u001b[0m\u001b[39;1m4.9\u001b[0m\u001b[39m)\u001b[0m: \u001b[34mPending...\u001b[0m\n",
      "\u001b[3A\u001b[0J  \u001b[34;1m•\u001b[0m \u001b[39mInstalling \u001b[0m\u001b[36mcachetools\u001b[0m\u001b[39m (\u001b[0m\u001b[39;1m5.3.1\u001b[0m\u001b[39m)\u001b[0m: \u001b[34mInstalling...\u001b[0m\n",
      "  \u001b[34;1m•\u001b[0m \u001b[39mInstalling \u001b[0m\u001b[36moauthlib\u001b[0m\u001b[39m (\u001b[0m\u001b[39;1m3.2.2\u001b[0m\u001b[39m)\u001b[0m: \u001b[34mInstalling...\u001b[0m\n",
      "  \u001b[34;1m•\u001b[0m \u001b[39mInstalling \u001b[0m\u001b[36mpyasn1-modules\u001b[0m\u001b[39m (\u001b[0m\u001b[39;1m0.3.0\u001b[0m\u001b[39m)\u001b[0m: \u001b[34mInstalling...\u001b[0m\n",
      "  \u001b[34;1m•\u001b[0m \u001b[39mInstalling \u001b[0m\u001b[36mrsa\u001b[0m\u001b[39m (\u001b[0m\u001b[39;1m4.9\u001b[0m\u001b[39m)\u001b[0m: \u001b[34mPending...\u001b[0m\n"
     ]
    },
    {
     "name": "stdout",
     "output_type": "stream",
     "text": [
      "\u001b[1A\u001b[0J  \u001b[34;1m•\u001b[0m \u001b[39mInstalling \u001b[0m\u001b[36mrsa\u001b[0m\u001b[39m (\u001b[0m\u001b[39;1m4.9\u001b[0m\u001b[39m)\u001b[0m: \u001b[34mDownloading...\u001b[0m \u001b[1m0%\u001b[0m\n",
      "\u001b[1A\u001b[0J  \u001b[34;1m•\u001b[0m \u001b[39mInstalling \u001b[0m\u001b[36mrsa\u001b[0m\u001b[39m (\u001b[0m\u001b[39;1m4.9\u001b[0m\u001b[39m)\u001b[0m: \u001b[34mDownloading...\u001b[0m \u001b[1m100%\u001b[0m\n",
      "\u001b[1A\u001b[0J  \u001b[34;1m•\u001b[0m \u001b[39mInstalling \u001b[0m\u001b[36mrsa\u001b[0m\u001b[39m (\u001b[0m\u001b[39;1m4.9\u001b[0m\u001b[39m)\u001b[0m: \u001b[34mDownloading...\u001b[0m \u001b[1m100%\u001b[0m\n",
      "\u001b[1A\u001b[0J  \u001b[34;1m•\u001b[0m \u001b[39mInstalling \u001b[0m\u001b[36mrsa\u001b[0m\u001b[39m (\u001b[0m\u001b[39;1m4.9\u001b[0m\u001b[39m)\u001b[0m: \u001b[34mInstalling...\u001b[0m\n",
      "\u001b[2A\u001b[0J  \u001b[34;1m•\u001b[0m \u001b[39mInstalling \u001b[0m\u001b[36mrsa\u001b[0m\u001b[39m (\u001b[0m\u001b[39;1m4.9\u001b[0m\u001b[39m)\u001b[0m: \u001b[34mInstalling...\u001b[0m\n",
      "\u001b[1A\u001b[0J  \u001b[32;1m•\u001b[0m \u001b[39mInstalling \u001b[0m\u001b[36mpyasn1-modules\u001b[0m\u001b[39m (\u001b[0m\u001b[32m0.3.0\u001b[0m\u001b[39m)\u001b[0m\n",
      "  \u001b[34;1m•\u001b[0m \u001b[39mInstalling \u001b[0m\u001b[36mrsa\u001b[0m\u001b[39m (\u001b[0m\u001b[39;1m4.9\u001b[0m\u001b[39m)\u001b[0m: \u001b[34mInstalling...\u001b[0m\n",
      "\u001b[3A\u001b[0J  \u001b[32;1m•\u001b[0m \u001b[39mInstalling \u001b[0m\u001b[36mpyasn1-modules\u001b[0m\u001b[39m (\u001b[0m\u001b[32m0.3.0\u001b[0m\u001b[39m)\u001b[0m\n",
      "  \u001b[34;1m•\u001b[0m \u001b[39mInstalling \u001b[0m\u001b[36mrsa\u001b[0m\u001b[39m (\u001b[0m\u001b[39;1m4.9\u001b[0m\u001b[39m)\u001b[0m: \u001b[34mInstalling...\u001b[0m\n",
      "\u001b[2A\u001b[0J  \u001b[32;1m•\u001b[0m \u001b[39mInstalling \u001b[0m\u001b[36moauthlib\u001b[0m\u001b[39m (\u001b[0m\u001b[32m3.2.2\u001b[0m\u001b[39m)\u001b[0m\n",
      "  \u001b[32;1m•\u001b[0m \u001b[39mInstalling \u001b[0m\u001b[36mpyasn1-modules\u001b[0m\u001b[39m (\u001b[0m\u001b[32m0.3.0\u001b[0m\u001b[39m)\u001b[0m\n",
      "  \u001b[34;1m•\u001b[0m \u001b[39mInstalling \u001b[0m\u001b[36mrsa\u001b[0m\u001b[39m (\u001b[0m\u001b[39;1m4.9\u001b[0m\u001b[39m)\u001b[0m: \u001b[34mInstalling...\u001b[0m\n",
      "\u001b[4A\u001b[0J  \u001b[32;1m•\u001b[0m \u001b[39mInstalling \u001b[0m\u001b[36moauthlib\u001b[0m\u001b[39m (\u001b[0m\u001b[32m3.2.2\u001b[0m\u001b[39m)\u001b[0m\n",
      "  \u001b[32;1m•\u001b[0m \u001b[39mInstalling \u001b[0m\u001b[36mpyasn1-modules\u001b[0m\u001b[39m (\u001b[0m\u001b[32m0.3.0\u001b[0m\u001b[39m)\u001b[0m\n",
      "  \u001b[34;1m•\u001b[0m \u001b[39mInstalling \u001b[0m\u001b[36mrsa\u001b[0m\u001b[39m (\u001b[0m\u001b[39;1m4.9\u001b[0m\u001b[39m)\u001b[0m: \u001b[34mInstalling...\u001b[0m\n",
      "\u001b[3A\u001b[0J  \u001b[32;1m•\u001b[0m \u001b[39mInstalling \u001b[0m\u001b[36mcachetools\u001b[0m\u001b[39m (\u001b[0m\u001b[32m5.3.1\u001b[0m\u001b[39m)\u001b[0m\n",
      "  \u001b[32;1m•\u001b[0m \u001b[39mInstalling \u001b[0m\u001b[36moauthlib\u001b[0m\u001b[39m (\u001b[0m\u001b[32m3.2.2\u001b[0m\u001b[39m)\u001b[0m\n",
      "  \u001b[32;1m•\u001b[0m \u001b[39mInstalling \u001b[0m\u001b[36mpyasn1-modules\u001b[0m\u001b[39m (\u001b[0m\u001b[32m0.3.0\u001b[0m\u001b[39m)\u001b[0m\n",
      "  \u001b[34;1m•\u001b[0m \u001b[39mInstalling \u001b[0m\u001b[36mrsa\u001b[0m\u001b[39m (\u001b[0m\u001b[39;1m4.9\u001b[0m\u001b[39m)\u001b[0m: \u001b[34mInstalling...\u001b[0m\n",
      "\u001b[1A\u001b[0J  \u001b[32;1m•\u001b[0m \u001b[39mInstalling \u001b[0m\u001b[36mrsa\u001b[0m\u001b[39m (\u001b[0m\u001b[32m4.9\u001b[0m\u001b[39m)\u001b[0m\n",
      "  \u001b[34;1m•\u001b[0m \u001b[39mInstalling \u001b[0m\u001b[36mgoogle-auth\u001b[0m\u001b[39m (\u001b[0m\u001b[39;1m2.19.1\u001b[0m\u001b[39m)\u001b[0m: \u001b[34mPending...\u001b[0m\n",
      "  \u001b[34;1m•\u001b[0m \u001b[39mInstalling \u001b[0m\u001b[36mrequests-oauthlib\u001b[0m\u001b[39m (\u001b[0m\u001b[39;1m1.3.1\u001b[0m\u001b[39m)\u001b[0m: \u001b[34mPending...\u001b[0m\n",
      "\u001b[1A\u001b[0J  \u001b[34;1m•\u001b[0m \u001b[39mInstalling \u001b[0m\u001b[36mrequests-oauthlib\u001b[0m\u001b[39m (\u001b[0m\u001b[39;1m1.3.1\u001b[0m\u001b[39m)\u001b[0m: \u001b[34mDownloading...\u001b[0m \u001b[1m0%\u001b[0m\n",
      "\u001b[1A\u001b[0J  \u001b[34;1m•\u001b[0m \u001b[39mInstalling \u001b[0m\u001b[36mrequests-oauthlib\u001b[0m\u001b[39m (\u001b[0m\u001b[39;1m1.3.1\u001b[0m\u001b[39m)\u001b[0m: \u001b[34mDownloading...\u001b[0m \u001b[1m100%\u001b[0m\n",
      "\u001b[1A\u001b[0J  \u001b[34;1m•\u001b[0m \u001b[39mInstalling \u001b[0m\u001b[36mrequests-oauthlib\u001b[0m\u001b[39m (\u001b[0m\u001b[39;1m1.3.1\u001b[0m\u001b[39m)\u001b[0m: \u001b[34mDownloading...\u001b[0m \u001b[1m100%\u001b[0m\n",
      "\u001b[1A\u001b[0J  \u001b[34;1m•\u001b[0m \u001b[39mInstalling \u001b[0m\u001b[36mrequests-oauthlib\u001b[0m\u001b[39m (\u001b[0m\u001b[39;1m1.3.1\u001b[0m\u001b[39m)\u001b[0m: \u001b[34mInstalling...\u001b[0m\n",
      "\u001b[2A\u001b[0J  \u001b[34;1m•\u001b[0m \u001b[39mInstalling \u001b[0m\u001b[36mrequests-oauthlib\u001b[0m\u001b[39m (\u001b[0m\u001b[39;1m1.3.1\u001b[0m\u001b[39m)\u001b[0m: \u001b[34mInstalling...\u001b[0m\n",
      "\u001b[1A\u001b[0J  \u001b[34;1m•\u001b[0m \u001b[39mInstalling \u001b[0m\u001b[36mgoogle-auth\u001b[0m\u001b[39m (\u001b[0m\u001b[39;1m2.19.1\u001b[0m\u001b[39m)\u001b[0m: \u001b[34mDownloading...\u001b[0m \u001b[1m0%\u001b[0m\n",
      "  \u001b[34;1m•\u001b[0m \u001b[39mInstalling \u001b[0m\u001b[36mrequests-oauthlib\u001b[0m\u001b[39m (\u001b[0m\u001b[39;1m1.3.1\u001b[0m\u001b[39m)\u001b[0m: \u001b[34mInstalling...\u001b[0m\n",
      "\u001b[2A\u001b[0J  \u001b[34;1m•\u001b[0m \u001b[39mInstalling \u001b[0m\u001b[36mrequests-oauthlib\u001b[0m\u001b[39m (\u001b[0m\u001b[39;1m1.3.1\u001b[0m\u001b[39m)\u001b[0m: \u001b[34mInstalling...\u001b[0m\n",
      "\u001b[1A\u001b[0J  \u001b[34;1m•\u001b[0m \u001b[39mInstalling \u001b[0m\u001b[36mgoogle-auth\u001b[0m\u001b[39m (\u001b[0m\u001b[39;1m2.19.1\u001b[0m\u001b[39m)\u001b[0m: \u001b[34mDownloading...\u001b[0m \u001b[1m100%\u001b[0m\n",
      "  \u001b[34;1m•\u001b[0m \u001b[39mInstalling \u001b[0m\u001b[36mrequests-oauthlib\u001b[0m\u001b[39m (\u001b[0m\u001b[39;1m1.3.1\u001b[0m\u001b[39m)\u001b[0m: \u001b[34mInstalling...\u001b[0m\n",
      "\u001b[2A\u001b[0J  \u001b[34;1m•\u001b[0m \u001b[39mInstalling \u001b[0m\u001b[36mrequests-oauthlib\u001b[0m\u001b[39m (\u001b[0m\u001b[39;1m1.3.1\u001b[0m\u001b[39m)\u001b[0m: \u001b[34mInstalling...\u001b[0m\n",
      "\u001b[1A\u001b[0J  \u001b[34;1m•\u001b[0m \u001b[39mInstalling \u001b[0m\u001b[36mgoogle-auth\u001b[0m\u001b[39m (\u001b[0m\u001b[39;1m2.19.1\u001b[0m\u001b[39m)\u001b[0m: \u001b[34mDownloading...\u001b[0m \u001b[1m100%\u001b[0m\n",
      "  \u001b[34;1m•\u001b[0m \u001b[39mInstalling \u001b[0m\u001b[36mrequests-oauthlib\u001b[0m\u001b[39m (\u001b[0m\u001b[39;1m1.3.1\u001b[0m\u001b[39m)\u001b[0m: \u001b[34mInstalling...\u001b[0m\n",
      "\u001b[2A\u001b[0J  \u001b[34;1m•\u001b[0m \u001b[39mInstalling \u001b[0m\u001b[36mrequests-oauthlib\u001b[0m\u001b[39m (\u001b[0m\u001b[39;1m1.3.1\u001b[0m\u001b[39m)\u001b[0m: \u001b[34mInstalling...\u001b[0m\n",
      "\u001b[1A\u001b[0J  \u001b[34;1m•\u001b[0m \u001b[39mInstalling \u001b[0m\u001b[36mgoogle-auth\u001b[0m\u001b[39m (\u001b[0m\u001b[39;1m2.19.1\u001b[0m\u001b[39m)\u001b[0m: \u001b[34mInstalling...\u001b[0m\n",
      "  \u001b[34;1m•\u001b[0m \u001b[39mInstalling \u001b[0m\u001b[36mrequests-oauthlib\u001b[0m\u001b[39m (\u001b[0m\u001b[39;1m1.3.1\u001b[0m\u001b[39m)\u001b[0m: \u001b[34mInstalling...\u001b[0m\n",
      "\u001b[1A\u001b[0J  \u001b[32;1m•\u001b[0m \u001b[39mInstalling \u001b[0m\u001b[36mrequests-oauthlib\u001b[0m\u001b[39m (\u001b[0m\u001b[32m1.3.1\u001b[0m\u001b[39m)\u001b[0m\n",
      "\u001b[2A\u001b[0J  \u001b[32;1m•\u001b[0m \u001b[39mInstalling \u001b[0m\u001b[36mrequests-oauthlib\u001b[0m\u001b[39m (\u001b[0m\u001b[32m1.3.1\u001b[0m\u001b[39m)\u001b[0m\n",
      "\u001b[1A\u001b[0J  \u001b[32;1m•\u001b[0m \u001b[39mInstalling \u001b[0m\u001b[36mgoogle-auth\u001b[0m\u001b[39m (\u001b[0m\u001b[32m2.19.1\u001b[0m\u001b[39m)\u001b[0m\n",
      "  \u001b[32;1m•\u001b[0m \u001b[39mInstalling \u001b[0m\u001b[36mrequests-oauthlib\u001b[0m\u001b[39m (\u001b[0m\u001b[32m1.3.1\u001b[0m\u001b[39m)\u001b[0m\n",
      "  \u001b[34;1m•\u001b[0m \u001b[39mInstalling \u001b[0m\u001b[36mgoogle-auth-oauthlib\u001b[0m\u001b[39m (\u001b[0m\u001b[39;1m1.0.0\u001b[0m\u001b[39m)\u001b[0m: \u001b[34mPending...\u001b[0m\n",
      "\u001b[1A\u001b[0J  \u001b[34;1m•\u001b[0m \u001b[39mInstalling \u001b[0m\u001b[36mgoogle-auth-oauthlib\u001b[0m\u001b[39m (\u001b[0m\u001b[39;1m1.0.0\u001b[0m\u001b[39m)\u001b[0m: \u001b[34mDownloading...\u001b[0m \u001b[1m0%\u001b[0m\n",
      "\u001b[1A\u001b[0J  \u001b[34;1m•\u001b[0m \u001b[39mInstalling \u001b[0m\u001b[36mgoogle-auth-oauthlib\u001b[0m\u001b[39m (\u001b[0m\u001b[39;1m1.0.0\u001b[0m\u001b[39m)\u001b[0m: \u001b[34mDownloading...\u001b[0m \u001b[1m100%\u001b[0m\n",
      "\u001b[1A\u001b[0J  \u001b[34;1m•\u001b[0m \u001b[39mInstalling \u001b[0m\u001b[36mgoogle-auth-oauthlib\u001b[0m\u001b[39m (\u001b[0m\u001b[39;1m1.0.0\u001b[0m\u001b[39m)\u001b[0m: \u001b[34mDownloading...\u001b[0m \u001b[1m100%\u001b[0m\n",
      "\u001b[1A\u001b[0J  \u001b[34;1m•\u001b[0m \u001b[39mInstalling \u001b[0m\u001b[36mgoogle-auth-oauthlib\u001b[0m\u001b[39m (\u001b[0m\u001b[39;1m1.0.0\u001b[0m\u001b[39m)\u001b[0m: \u001b[34mInstalling...\u001b[0m\n",
      "\u001b[1A\u001b[0J  \u001b[32;1m•\u001b[0m \u001b[39mInstalling \u001b[0m\u001b[36mgoogle-auth-oauthlib\u001b[0m\u001b[39m (\u001b[0m\u001b[32m1.0.0\u001b[0m\u001b[39m)\u001b[0m\n",
      "  \u001b[34;1m•\u001b[0m \u001b[39mInstalling \u001b[0m\u001b[36mgspread\u001b[0m\u001b[39m (\u001b[0m\u001b[39;1m5.9.0\u001b[0m\u001b[39m)\u001b[0m: \u001b[34mPending...\u001b[0m\n",
      "\u001b[1A\u001b[0J  \u001b[34;1m•\u001b[0m \u001b[39mInstalling \u001b[0m\u001b[36mgspread\u001b[0m\u001b[39m (\u001b[0m\u001b[39;1m5.9.0\u001b[0m\u001b[39m)\u001b[0m: \u001b[34mDownloading...\u001b[0m \u001b[1m0%\u001b[0m\n",
      "\u001b[1A\u001b[0J  \u001b[34;1m•\u001b[0m \u001b[39mInstalling \u001b[0m\u001b[36mgspread\u001b[0m\u001b[39m (\u001b[0m\u001b[39;1m5.9.0\u001b[0m\u001b[39m)\u001b[0m: \u001b[34mDownloading...\u001b[0m \u001b[1m100%\u001b[0m\n",
      "\u001b[1A\u001b[0J  \u001b[34;1m•\u001b[0m \u001b[39mInstalling \u001b[0m\u001b[36mgspread\u001b[0m\u001b[39m (\u001b[0m\u001b[39;1m5.9.0\u001b[0m\u001b[39m)\u001b[0m: \u001b[34mDownloading...\u001b[0m \u001b[1m100%\u001b[0m\n",
      "\u001b[1A\u001b[0J  \u001b[34;1m•\u001b[0m \u001b[39mInstalling \u001b[0m\u001b[36mgspread\u001b[0m\u001b[39m (\u001b[0m\u001b[39;1m5.9.0\u001b[0m\u001b[39m)\u001b[0m: \u001b[34mInstalling...\u001b[0m\n",
      "\u001b[1A\u001b[0J  \u001b[32;1m•\u001b[0m \u001b[39mInstalling \u001b[0m\u001b[36mgspread\u001b[0m\u001b[39m (\u001b[0m\u001b[32m5.9.0\u001b[0m\u001b[39m)\u001b[0m\n",
      "Using version \u001b[1m^4.1.3\u001b[0m for \u001b[36moauth2client\u001b[0m\n",
      "\n",
      "\u001b[34mUpdating dependencies\u001b[0m\n",
      "\u001b[2K\u001b[34mResolving dependencies...\u001b[0m \u001b[39;2m(3.0s)\u001b[0m\n",
      "\n",
      "\u001b[34mWriting lock file\u001b[0m\n",
      "\n",
      "\u001b[1mPackage operations\u001b[0m: \u001b[34m3\u001b[0m installs, \u001b[34m0\u001b[0m updates, \u001b[34m0\u001b[0m removals\n",
      "\n",
      "  \u001b[34;1m•\u001b[0m \u001b[39mInstalling \u001b[0m\u001b[36mpyparsing\u001b[0m\u001b[39m (\u001b[0m\u001b[39;1m3.0.9\u001b[0m\u001b[39m)\u001b[0m: \u001b[34mPending...\u001b[0m\n",
      "\u001b[1A\u001b[0J  \u001b[34;1m•\u001b[0m \u001b[39mInstalling \u001b[0m\u001b[36mpyparsing\u001b[0m\u001b[39m (\u001b[0m\u001b[39;1m3.0.9\u001b[0m\u001b[39m)\u001b[0m: \u001b[34mDownloading...\u001b[0m \u001b[1m0%\u001b[0m\n",
      "\u001b[1A\u001b[0J  \u001b[34;1m•\u001b[0m \u001b[39mInstalling \u001b[0m\u001b[36mpyparsing\u001b[0m\u001b[39m (\u001b[0m\u001b[39;1m3.0.9\u001b[0m\u001b[39m)\u001b[0m: \u001b[34mDownloading...\u001b[0m \u001b[1m100%\u001b[0m\n",
      "\u001b[1A\u001b[0J  \u001b[34;1m•\u001b[0m \u001b[39mInstalling \u001b[0m\u001b[36mpyparsing\u001b[0m\u001b[39m (\u001b[0m\u001b[39;1m3.0.9\u001b[0m\u001b[39m)\u001b[0m: \u001b[34mDownloading...\u001b[0m \u001b[1m100%\u001b[0m\n",
      "\u001b[1A\u001b[0J  \u001b[34;1m•\u001b[0m \u001b[39mInstalling \u001b[0m\u001b[36mpyparsing\u001b[0m\u001b[39m (\u001b[0m\u001b[39;1m3.0.9\u001b[0m\u001b[39m)\u001b[0m: \u001b[34mInstalling...\u001b[0m\n",
      "\u001b[1A\u001b[0J  \u001b[32;1m•\u001b[0m \u001b[39mInstalling \u001b[0m\u001b[36mpyparsing\u001b[0m\u001b[39m (\u001b[0m\u001b[32m3.0.9\u001b[0m\u001b[39m)\u001b[0m\n",
      "  \u001b[34;1m•\u001b[0m \u001b[39mInstalling \u001b[0m\u001b[36mhttplib2\u001b[0m\u001b[39m (\u001b[0m\u001b[39;1m0.22.0\u001b[0m\u001b[39m)\u001b[0m: \u001b[34mPending...\u001b[0m\n",
      "\u001b[1A\u001b[0J  \u001b[34;1m•\u001b[0m \u001b[39mInstalling \u001b[0m\u001b[36mhttplib2\u001b[0m\u001b[39m (\u001b[0m\u001b[39;1m0.22.0\u001b[0m\u001b[39m)\u001b[0m: \u001b[34mDownloading...\u001b[0m \u001b[1m0%\u001b[0m\n",
      "\u001b[1A\u001b[0J  \u001b[34;1m•\u001b[0m \u001b[39mInstalling \u001b[0m\u001b[36mhttplib2\u001b[0m\u001b[39m (\u001b[0m\u001b[39;1m0.22.0\u001b[0m\u001b[39m)\u001b[0m: \u001b[34mDownloading...\u001b[0m \u001b[1m100%\u001b[0m\n",
      "\u001b[1A\u001b[0J  \u001b[34;1m•\u001b[0m \u001b[39mInstalling \u001b[0m\u001b[36mhttplib2\u001b[0m\u001b[39m (\u001b[0m\u001b[39;1m0.22.0\u001b[0m\u001b[39m)\u001b[0m: \u001b[34mDownloading...\u001b[0m \u001b[1m100%\u001b[0m\n",
      "\u001b[1A\u001b[0J  \u001b[34;1m•\u001b[0m \u001b[39mInstalling \u001b[0m\u001b[36mhttplib2\u001b[0m\u001b[39m (\u001b[0m\u001b[39;1m0.22.0\u001b[0m\u001b[39m)\u001b[0m: \u001b[34mInstalling...\u001b[0m\n",
      "\u001b[1A\u001b[0J  \u001b[32;1m•\u001b[0m \u001b[39mInstalling \u001b[0m\u001b[36mhttplib2\u001b[0m\u001b[39m (\u001b[0m\u001b[32m0.22.0\u001b[0m\u001b[39m)\u001b[0m\n",
      "  \u001b[34;1m•\u001b[0m \u001b[39mInstalling \u001b[0m\u001b[36moauth2client\u001b[0m\u001b[39m (\u001b[0m\u001b[39;1m4.1.3\u001b[0m\u001b[39m)\u001b[0m: \u001b[34mPending...\u001b[0m\n"
     ]
    },
    {
     "name": "stdout",
     "output_type": "stream",
     "text": [
      "\u001b[1A\u001b[0J  \u001b[34;1m•\u001b[0m \u001b[39mInstalling \u001b[0m\u001b[36moauth2client\u001b[0m\u001b[39m (\u001b[0m\u001b[39;1m4.1.3\u001b[0m\u001b[39m)\u001b[0m: \u001b[34mDownloading...\u001b[0m \u001b[1m0%\u001b[0m\n",
      "\u001b[1A\u001b[0J  \u001b[34;1m•\u001b[0m \u001b[39mInstalling \u001b[0m\u001b[36moauth2client\u001b[0m\u001b[39m (\u001b[0m\u001b[39;1m4.1.3\u001b[0m\u001b[39m)\u001b[0m: \u001b[34mDownloading...\u001b[0m \u001b[1m100%\u001b[0m\n",
      "\u001b[1A\u001b[0J  \u001b[34;1m•\u001b[0m \u001b[39mInstalling \u001b[0m\u001b[36moauth2client\u001b[0m\u001b[39m (\u001b[0m\u001b[39;1m4.1.3\u001b[0m\u001b[39m)\u001b[0m: \u001b[34mDownloading...\u001b[0m \u001b[1m100%\u001b[0m\n",
      "\u001b[1A\u001b[0J  \u001b[34;1m•\u001b[0m \u001b[39mInstalling \u001b[0m\u001b[36moauth2client\u001b[0m\u001b[39m (\u001b[0m\u001b[39;1m4.1.3\u001b[0m\u001b[39m)\u001b[0m: \u001b[34mInstalling...\u001b[0m\n",
      "\u001b[1A\u001b[0J  \u001b[32;1m•\u001b[0m \u001b[39mInstalling \u001b[0m\u001b[36moauth2client\u001b[0m\u001b[39m (\u001b[0m\u001b[32m4.1.3\u001b[0m\u001b[39m)\u001b[0m\n"
     ]
    }
   ],
   "source": [
    "!install_package_python37.sh add gspread\n",
    "!install_package_python37.sh add oauth2client"
   ]
  },
  {
   "cell_type": "code",
   "execution_count": 8,
   "id": "2fcce58e",
   "metadata": {},
   "outputs": [
    {
     "name": "stdout",
     "output_type": "stream",
     "text": [
      "\u001b[2K\u001b[34mResolving dependencies...\u001b[0m \u001b[39;2m(0.5s)\u001b[0m\n",
      "\n",
      "\u001b[1mPackage operations\u001b[0m: \u001b[34m0\u001b[0m installs, \u001b[34m1\u001b[0m update, \u001b[34m0\u001b[0m removals\n",
      "\n",
      "  \u001b[34;1m•\u001b[0m \u001b[39mUpdating \u001b[0m\u001b[36msendgrid\u001b[0m\u001b[39m (\u001b[0m\u001b[39;1m6.9.7\u001b[0m\u001b[39m -> \u001b[0m\u001b[39;1m6.10.0\u001b[0m\u001b[39m)\u001b[0m: \u001b[34mPending...\u001b[0m\n",
      "\u001b[1A\u001b[0J  \u001b[34;1m•\u001b[0m \u001b[39mUpdating \u001b[0m\u001b[36msendgrid\u001b[0m\u001b[39m (\u001b[0m\u001b[39;1m6.9.7\u001b[0m\u001b[39m -> \u001b[0m\u001b[39;1m6.10.0\u001b[0m\u001b[39m)\u001b[0m: \u001b[34mInstalling...\u001b[0m\n",
      "\u001b[1A\u001b[0J  \u001b[32;1m•\u001b[0m \u001b[39mUpdating \u001b[0m\u001b[36msendgrid\u001b[0m\u001b[39m (\u001b[0m\u001b[39;1m6.9.7\u001b[0m\u001b[39m -> \u001b[0m\u001b[32m6.10.0\u001b[0m\u001b[39m)\u001b[0m\n",
      "\n",
      "\u001b[34mUpdating dependencies\u001b[0m\n",
      "\u001b[2K\u001b[34mResolving dependencies...\u001b[0m \u001b[39;2m(0.4s)\u001b[0m\n",
      "\n",
      "No dependencies to install or update\n"
     ]
    }
   ],
   "source": [
    "!install_package_python37.sh add urllib3==1.26.15 \n",
    "!install_package_python37.sh add requests-toolbelt==0.10.1"
   ]
  },
  {
   "cell_type": "code",
   "execution_count": 7,
   "id": "5d4b365b",
   "metadata": {},
   "outputs": [
    {
     "name": "stdout",
     "output_type": "stream",
     "text": [
      "Looking in indexes: http://artifactory.uber.internal:4587/artifactory/api/pypi/pypi/simple/, https://pypi.org/simple\n",
      "Collecting sendgrid==6.9.7\n",
      "  Downloading sendgrid-6.9.7-py3-none-any.whl (101 kB)\n",
      "\u001b[2K     \u001b[90m━━━━━━━━━━━━━━━━━━━━━━━━━━━━━━━━━━━━━━━\u001b[0m \u001b[32m101.1/101.1 kB\u001b[0m \u001b[31m2.0 MB/s\u001b[0m eta \u001b[36m0:00:00\u001b[0ma \u001b[36m0:00:01\u001b[0m\n",
      "\u001b[?25hRequirement already satisfied: starkbank-ecdsa>=2.0.1 in /dsw/snapshots/e23922be-439f-4b4e-96ec-f6ffe45a3a7a/python37/lib/python3.7/site-packages (from sendgrid==6.9.7) (2.2.0)\n",
      "Requirement already satisfied: python-http-client>=3.2.1 in /dsw/snapshots/e23922be-439f-4b4e-96ec-f6ffe45a3a7a/python37/lib/python3.7/site-packages (from sendgrid==6.9.7) (3.3.7)\n",
      "Installing collected packages: sendgrid\n",
      "  Attempting uninstall: sendgrid\n",
      "    Found existing installation: sendgrid 6.10.0\n",
      "    Uninstalling sendgrid-6.10.0:\n",
      "      Successfully uninstalled sendgrid-6.10.0\n",
      "Successfully installed sendgrid-6.9.7\n",
      "Note: you may need to restart the kernel to use updated packages.\n"
     ]
    }
   ],
   "source": [
    "pip install sendgrid==6.9.7"
   ]
  },
  {
   "cell_type": "code",
   "execution_count": 9,
   "id": "353979bd",
   "metadata": {},
   "outputs": [],
   "source": [
    "!install_package_python37.sh add boxsdk[jwt]>=2.0.0"
   ]
  },
  {
   "cell_type": "code",
   "execution_count": 10,
   "id": "34d5685a",
   "metadata": {},
   "outputs": [
    {
     "name": "stdout",
     "output_type": "stream",
     "text": [
      "\u001b[31mERROR: /dsw/snapshots/f2925a66-f967-4e5f-b1a0-bd3cbf7b1129/python37/pyenv37 is not a valid editable requirement. It should either be a path to a local project or a VCS URL (beginning with bzr+http, bzr+https, bzr+ssh, bzr+sftp, bzr+ftp, bzr+lp, bzr+file, git+http, git+https, git+ssh, git+git, git+file, hg+file, hg+http, hg+https, hg+ssh, hg+static-http, svn+ssh, svn+http, svn+https, svn+svn, svn+file).\u001b[0m\u001b[31m\n",
      "\u001b[0mNote: you may need to restart the kernel to use updated packages.\n"
     ]
    }
   ],
   "source": [
    "pip install -r 'requirements.txt'\n"
   ]
  },
  {
   "cell_type": "code",
   "execution_count": null,
   "id": "8cfa0e5e",
   "metadata": {},
   "outputs": [],
   "source": []
  }
 ],
 "metadata": {
  "kernelspec": {
   "display_name": "02. Python 3.7 (General DS)",
   "language": "python",
   "name": "python37"
  },
  "language_info": {
   "codemirror_mode": {
    "name": "ipython",
    "version": 3
   },
   "file_extension": ".py",
   "mimetype": "text/x-python",
   "name": "python",
   "nbconvert_exporter": "python",
   "pygments_lexer": "ipython3",
   "version": "3.7.13"
  }
 },
 "nbformat": 4,
 "nbformat_minor": 5
}
