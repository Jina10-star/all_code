{
 "cells": [
  {
   "cell_type": "code",
   "execution_count": 1,
   "metadata": {
    "scrolled": true
   },
   "outputs": [
    {
     "name": "stderr",
     "output_type": "stream",
     "text": [
      "/dsw/snapshots/snapshot_dsw_default_jupyter/python37/lib/python3.7/site-packages/sklearn/utils/validation.py:37: DeprecationWarning: distutils Version classes are deprecated. Use packaging.version instead.\n",
      "  LARGE_SPARSE_SUPPORTED = LooseVersion(scipy_version) >= '0.14.0'\n"
     ]
    }
   ],
   "source": [
    "import matplotlib.pyplot as plt\n",
    "import numpy as np\n",
    "import pandas as pd\n",
    "import statsmodels.api as sm\n",
    "from sklearn.model_selection import train_test_split\n",
    "from sklearn.linear_model import Lasso\n",
    "import seaborn as sns"
   ]
  },
  {
   "cell_type": "code",
   "execution_count": 2,
   "metadata": {},
   "outputs": [],
   "source": [
    "# Label:\n",
    "#     - The hourly average gub per plan per scan at city-level\n",
    "#     - Unit: USD\n",
    "\n",
    "# Feature Set:\n",
    "#     avg(plans.driver_cancel_prob) as market_driver_cancel_prob,\n",
    "#     avg(plans.rider_cancel_prob) as market_rider_cancel_prob,\n",
    "#     avg(plans.spinner_cancel_prob) as market_spinner_cancel_prob,\n",
    "#     avg(plans.eta) as market_eta,\n",
    "#     avg(plans.surge_mul) as market_surge_mul,\n",
    "#     avg(plans.eventual_comp_prob) as market_eventual_comp_prob,\n",
    "#     avg(completed.client_upfront_fare_usd) as market_gb,\n",
    "#     avg(completed.base_fare_usd) as market_gub,\n",
    "\n",
    "#     avg(plans.eta_one) as market_eta_one,  -- (1 - eta/1500)\n",
    "#     avg(plans.eta_one_twenty) as market_eta_one_twenty, -- (1 - eta/1500)^1.2\n",
    "#     avg(plans.eta_one_quarter) as market_eta_one_quarter, -- (1 - eta/1500)^1.25\n",
    "#     avg(plans.eta_square) as market_eta_square,  -- (1 - eta/1500)**2\n",
    "#     avg(plans.eta_cube) as market_eta_cube,  -- (1 - eta/1500)**3\n",
    "#     avg(plans.network_contention_2) as market_network_contention_2,  -- 1 / (1 + surge_mul**2)\n",
    "#     avg(plans.network_contention_3) as market_network_contention_3,  -- 1 / (1 + surge_mul**3)\n",
    "#     avg(plans.network_contention_5) as market_network_contention_5,  -- 1 / (1 + surge_mul**5)\n",
    "\n",
    "#     avg(plans.cr_ratio) as market_cr_ratio,  -- (1.0 - mgv.driver_cancel_prob) * (1.0 - mgv.rider_cancel_prob) * (1.0 - mgv.spinner_cancel_prob) + mgv.eventual_comp_prob * mgv.driver_cancel_prob\n",
    "\n",
    "#     avg(plans.eta_one * plans.cr_ratio) as market_eta_one_cr_ratio,\n",
    "#     avg(plans.eta_one_twenty * plans.cr_ratio) as market_eta_one_twenty_cr_ratio,\n",
    "#     avg(plans.eta_one_quarter * plans.cr_ratio) as market_eta_one_quarter_cr_ratio,\n",
    "#     avg(plans.eta_square * plans.cr_ratio) as market_eta_square_cr_ratio,\n",
    "#     avg(plans.eta_cube * plans.cr_ratio) as market_eta_cube_cr_ratio,\n",
    "#     avg(plans.network_contention_2 * plans.eta_one) as market_network_2_eta_1,\n",
    "#     avg(plans.network_contention_3 * plans.eta_one) as market_network_3_eta_1,\n",
    "#     avg(plans.network_contention_5 * plans.eta_one) as market_network_5_eta_1,\n",
    "#     avg(plans.network_contention_2 * plans.eta_one_twenty) as market_network_2_eta_1_20,\n",
    "#     avg(plans.network_contention_3 * plans.eta_one_twenty) as market_network_3_eta_1_20,\n",
    "#     avg(plans.network_contention_5 * plans.eta_one_twenty) as market_network_5_eta_1_20,\n",
    "#     avg(plans.network_contention_2 * plans.eta_one_quarter) as market_network_2_eta_1_25,\n",
    "#     avg(plans.network_contention_3 * plans.eta_one_quarter) as market_network_3_eta_1_25,\n",
    "#     avg(plans.network_contention_5 * plans.eta_one_quarter) as market_network_5_eta_1_25,\n",
    "#     avg(plans.network_contention_2 * plans.eta_square) as market_network_2_eta_2,\n",
    "#     avg(plans.network_contention_3 * plans.eta_square) as market_network_3_eta_2,\n",
    "#     avg(plans.network_contention_5 * plans.eta_square) as market_network_5_eta_2,\n",
    "#     avg(plans.network_contention_2 * plans.eta_cube) as market_network_2_eta_3,\n",
    "#     avg(plans.network_contention_3 * plans.eta_cube) as market_network_3_eta_3,\n",
    "#     avg(plans.network_contention_5 * plans.eta_cube) as market_network_5_eta_3,\n",
    "#     avg((1 - plans.network_contention_2) * plans.cr_ratio) as market_network_2_cr_ratio,\n",
    "#     avg((1 - plans.network_contention_3) * plans.cr_ratio) as market_network_3_cr_ratio,\n",
    "#     avg((1 - plans.network_contention_5) * plans.cr_ratio) as market_network_5_cr_ratio,\n",
    "#     avg(plans.eta_one * plans.network_contention_2 * plans.cr_ratio) as market_network_2_eta_1_cr_ratio,\n",
    "#     avg(plans.eta_one * plans.network_contention_3 * plans.cr_ratio) as market_network_3_eta_1_cr_ratio,\n",
    "#     avg(plans.eta_one * plans.network_contention_5 * plans.cr_ratio) as market_network_5_eta_1_cr_ratio,\n",
    "#     avg(plans.eta_one_twenty * plans.network_contention_2 * plans.cr_ratio) as market_network_2_eta_1_20_cr_ratio,\n",
    "#     avg(plans.eta_one_twenty * plans.network_contention_3 * plans.cr_ratio) as market_network_3_eta_1_20_cr_ratio,\n",
    "#     avg(plans.eta_one_twenty * plans.network_contention_5 * plans.cr_ratio) as market_network_5_eta_1_20_cr_ratio,\n",
    "#     avg(plans.eta_one_quarter * plans.network_contention_2 * plans.cr_ratio) as market_network_2_eta_1_25_cr_ratio,\n",
    "#     avg(plans.eta_one_quarter * plans.network_contention_3 * plans.cr_ratio) as market_network_3_eta_1_25_cr_ratio,\n",
    "#     avg(plans.eta_one_quarter * plans.network_contention_5 * plans.cr_ratio) as market_network_5_eta_1_25_cr_ratio,\n",
    "#     avg(plans.eta_square * plans.network_contention_2 * plans.cr_ratio) as market_network_2_eta_2_cr_ratio,\n",
    "#     avg(plans.eta_square * plans.network_contention_3 * plans.cr_ratio) as market_network_3_eta_2_cr_ratio,\n",
    "#     avg(plans.eta_square * plans.network_contention_5 * plans.cr_ratio) as market_network_5_eta_2_cr_ratio,\n",
    "#     avg(plans.eta_cube * plans.network_contention_2 * plans.cr_ratio) as market_network_2_eta_3_cr_ratio,\n",
    "#     avg(plans.eta_cube * plans.network_contention_3 * plans.cr_ratio) as market_network_3_eta_3_cr_ratio,\n",
    "#     avg(plans.eta_cube * plans.network_contention_5 * plans.cr_ratio) as market_network_5_eta_3_cr_ratio,\n",
    "#     avg(plans.eta_one * (1 - plans.network_contention_2) * plans.cr_ratio * completed.client_upfront_fare_usd) as market_network_2_eta_1_gb_cr_ratio,\n",
    "#     avg(plans.eta_one * (1 - plans.network_contention_3) * plans.cr_ratio * completed.client_upfront_fare_usd) as market_network_3_eta_1_gb_cr_ratio,\n",
    "#     avg(plans.eta_one * (1 - plans.network_contention_5) * plans.cr_ratio * completed.client_upfront_fare_usd) as market_network_5_eta_1_gb_cr_ratio,\n",
    "#     avg(plans.eta_one_twenty * (1 - plans.network_contention_2) * plans.cr_ratio * completed.client_upfront_fare_usd) as market_network_2_eta_1_20_gb_cr_ratio,\n",
    "#     avg(plans.eta_one_twenty * (1 - plans.network_contention_3) * plans.cr_ratio * completed.client_upfront_fare_usd) as market_network_3_eta_1_20_gb_cr_ratio,\n",
    "#     avg(plans.eta_one_twenty * (1 - plans.network_contention_5) * plans.cr_ratio * completed.client_upfront_fare_usd) as market_network_5_eta_1_20_gb_cr_ratio,\n",
    "#     avg(plans.eta_one_quarter * (1 - plans.network_contention_2) * plans.cr_ratio * completed.client_upfront_fare_usd) as market_network_2_eta_1_25_gb_cr_ratio,\n",
    "#     avg(plans.eta_one_quarter * (1 - plans.network_contention_3) * plans.cr_ratio * completed.client_upfront_fare_usd) as market_network_3_eta_1_25_gb_cr_ratio,\n",
    "#     avg(plans.eta_one_quarter * (1 - plans.network_contention_5) * plans.cr_ratio * completed.client_upfront_fare_usd) as market_network_5_eta_1_25_gb_cr_ratio,\n",
    "#     avg(plans.eta_square * (1 - plans.network_contention_2) * plans.cr_ratio * completed.client_upfront_fare_usd) as market_network_2_eta_2_gb_cr_ratio,\n",
    "#     avg(plans.eta_square * (1 - plans.network_contention_3) * plans.cr_ratio * completed.client_upfront_fare_usd) as market_network_3_eta_2_gb_cr_ratio,\n",
    "#     avg(plans.eta_square * (1 - plans.network_contention_5) * plans.cr_ratio * completed.client_upfront_fare_usd) as market_network_5_eta_2_gb_cr_ratio,\n",
    "#     avg(plans.eta_cube * (1 - plans.network_contention_2) * plans.cr_ratio * completed.client_upfront_fare_usd) as market_network_2_eta_3_gb_cr_ratio,\n",
    "#     avg(plans.eta_cube * (1 - plans.network_contention_3) * plans.cr_ratio * completed.client_upfront_fare_usd) as market_network_3_eta_3_gb_cr_ratio,\n",
    "#     avg(plans.eta_cube * (1 - plans.network_contention_5) * plans.cr_ratio * completed.client_upfront_fare_usd) as market_network_5_eta_3_gb_cr_ratio,\n",
    "#     avg(plans.eta_one * (1 - plans.network_contention_2) * plans.cr_ratio * completed.base_fare_usd) as market_network_2_eta_1_gub_cr_ratio,\n",
    "#     avg(plans.eta_one * (1 - plans.network_contention_3) * plans.cr_ratio * completed.base_fare_usd) as market_network_3_eta_1_gub_cr_ratio,\n",
    "#     avg(plans.eta_one * (1 - plans.network_contention_5) * plans.cr_ratio * completed.base_fare_usd) as market_network_5_eta_1_gub_cr_ratio,\n",
    "#     avg(plans.eta_one_twenty * (1 - plans.network_contention_2) * plans.cr_ratio * completed.base_fare_usd) as market_network_2_eta_1_20_gub_cr_ratio,\n",
    "#     avg(plans.eta_one_twenty * (1 - plans.network_contention_3) * plans.cr_ratio * completed.base_fare_usd) as market_network_3_eta_1_20_gub_cr_ratio,\n",
    "#     avg(plans.eta_one_twenty * (1 - plans.network_contention_5) * plans.cr_ratio * completed.base_fare_usd) as market_network_5_eta_1_20_gub_cr_ratio,\n",
    "#     avg(plans.eta_one_quarter * (1 - plans.network_contention_2) * plans.cr_ratio * completed.base_fare_usd) as market_network_2_eta_1_25_gub_cr_ratio,\n",
    "#     avg(plans.eta_one_quarter * (1 - plans.network_contention_3) * plans.cr_ratio * completed.base_fare_usd) as market_network_3_eta_1_25_gub_cr_ratio,\n",
    "#     avg(plans.eta_one_quarter * (1 - plans.network_contention_5) * plans.cr_ratio * completed.base_fare_usd) as market_network_5_eta_1_25_gub_cr_ratio,\n",
    "#     avg(plans.eta_square * (1 - plans.network_contention_2) * plans.cr_ratio * completed.base_fare_usd) as market_network_2_eta_2_gub_cr_ratio,\n",
    "#     avg(plans.eta_square * (1 - plans.network_contention_3) * plans.cr_ratio * completed.base_fare_usd) as market_network_3_eta_2_gub_cr_ratio,\n",
    "#     avg(plans.eta_square * (1 - plans.network_contention_5) * plans.cr_ratio * completed.base_fare_usd) as market_network_5_eta_2_gub_cr_ratio,\n",
    "#     avg(plans.eta_cube * (1 - plans.network_contention_2) * plans.cr_ratio * completed.base_fare_usd) as market_network_2_eta_3_gub_cr_ratio,\n",
    "#     avg(plans.eta_cube * (1 - plans.network_contention_3) * plans.cr_ratio * completed.base_fare_usd) as market_network_3_eta_3_gub_cr_ratio,\n",
    "#     avg(plans.eta_cube * (1 - plans.network_contention_5) * plans.cr_ratio * completed.base_fare_usd) as market_network_5_eta_3_gub_cr_ratio"
   ]
  },
  {
   "cell_type": "code",
   "execution_count": 3,
   "metadata": {},
   "outputs": [],
   "source": [
    "# Read in data: features & labels\n",
    "df_features_dict = {}\n",
    "df_labels_dict = {}\n",
    "\n",
    "num_feature_files = 15\n",
    "num_label_files = 15\n",
    "\n",
    "for i in range(1, num_feature_files):\n",
    "    df_features_dict[i] = pd.read_csv(f'emea_hourly_features_{i}.csv')\n",
    "\n",
    "for i in range(1, num_label_files):\n",
    "    df_labels_dict[i] = pd.read_csv(f'emea_hourly_labels_{i}.csv')"
   ]
  },
  {
   "cell_type": "code",
   "execution_count": 4,
   "metadata": {},
   "outputs": [],
   "source": [
    "df_features_frames = [df_features_dict[1], df_features_dict[2], df_features_dict[3],\n",
    "                      df_features_dict[4], df_features_dict[5], df_features_dict[6],\n",
    "                      df_features_dict[7], df_features_dict[8], df_features_dict[9],\n",
    "                      df_features_dict[10], df_features_dict[11], df_features_dict[12],\n",
    "                      df_features_dict[13], df_features_dict[14]\n",
    "                     ]\n",
    "\n",
    "df_labels_frames = [df_labels_dict[1], df_labels_dict[2], df_labels_dict[3],\n",
    "                    df_labels_dict[4], df_labels_dict[5], df_labels_dict[6],\n",
    "                    df_labels_dict[7], df_labels_dict[8], df_labels_dict[9],\n",
    "                    df_labels_dict[10], df_labels_dict[11], df_labels_dict[12],\n",
    "                    df_labels_dict[13], df_labels_dict[14]\n",
    "                   ]\n",
    "\n",
    "df_features = pd.concat(df_features_frames, ignore_index=True)\n",
    "df_labels = pd.concat(df_labels_frames, ignore_index=True)\n",
    "\n",
    "df_features.drop('num_plans', axis=1, inplace=True)\n",
    "df_labels.drop('num_plans', axis=1, inplace=True)\n",
    "\n",
    "df = pd.merge(df_features, df_labels,\n",
    "              how='left',\n",
    "              left_on=['datestr', 'city_id', 'hour_of_day'],\n",
    "              right_on=['datestr', 'city_id', 'hour_of_day']\n",
    "             )"
   ]
  },
  {
   "cell_type": "code",
   "execution_count": 5,
   "metadata": {},
   "outputs": [],
   "source": [
    "gb_100 = df['hour_gb_gamma_100']\n",
    "gb_99 = df['hour_gb_gamma_99']\n",
    "gb_95 = df['hour_gb_gamma_95']\n",
    "gb_90 = df['hour_gb_gamma_90']\n",
    "\n",
    "gub_100 = df['hour_gub_gamma_100']\n",
    "gub_99 = df['hour_gub_gamma_99']\n",
    "gub_95 = df['hour_gub_gamma_95']\n",
    "gub_90 = df['hour_gub_gamma_90']\n",
    "\n",
    "X = df.loc[:, ['market_driver_cancel_prob',\n",
    "                'market_rider_cancel_prob',\n",
    "                'market_spinner_cancel_prob',\n",
    "                'market_surge_mul',\n",
    "                'market_eventual_comp_prob',\n",
    "                'market_eta_one',\n",
    "                'market_eta_one_twenty',\n",
    "                'market_eta_one_quarter',\n",
    "                'market_eta_square',\n",
    "                'market_eta_cube',\n",
    "                'market_network_contention_2',\n",
    "                'market_network_contention_3',\n",
    "                'market_network_contention_5',\n",
    "                'market_cr_ratio',\n",
    "                'market_eta_one_cr_ratio',\n",
    "                'market_eta_one_twenty_cr_ratio',\n",
    "                'market_eta_square_cr_ratio',\n",
    "                'market_eta_cube_cr_ratio',\n",
    "                'market_network_2_eta_1',\n",
    "                'market_network_3_eta_1',\n",
    "                'market_network_5_eta_1',\n",
    "                'market_network_2_eta_1_20',\n",
    "                'market_network_3_eta_1_20',\n",
    "                'market_network_5_eta_1_20',\n",
    "                'market_network_2_eta_1_25',\n",
    "                'market_network_3_eta_1_25',\n",
    "                'market_network_5_eta_1_25',\n",
    "                'market_network_2_eta_2',\n",
    "                'market_network_3_eta_2',\n",
    "                'market_network_5_eta_2',\n",
    "                'market_network_2_eta_3',\n",
    "                'market_network_3_eta_3',\n",
    "                'market_network_5_eta_3',\n",
    "                'market_network_2_cr_ratio',\n",
    "                'market_network_3_cr_ratio',\n",
    "                'market_network_5_cr_ratio',\n",
    "                'market_network_2_eta_1_cr_ratio',\n",
    "                'market_network_3_eta_1_cr_ratio',\n",
    "                'market_network_5_eta_1_cr_ratio',\n",
    "                'market_network_2_eta_1_20_cr_ratio',\n",
    "                'market_network_3_eta_1_20_cr_ratio',\n",
    "                'market_network_5_eta_1_20_cr_ratio',\n",
    "                'market_network_2_eta_1_25_cr_ratio',\n",
    "                'market_network_3_eta_1_25_cr_ratio',\n",
    "                'market_network_5_eta_1_25_cr_ratio',\n",
    "                'market_network_2_eta_2_cr_ratio',\n",
    "                'market_network_3_eta_2_cr_ratio',\n",
    "                'market_network_5_eta_2_cr_ratio',\n",
    "                'market_network_2_eta_3_cr_ratio',\n",
    "                'market_network_3_eta_3_cr_ratio',\n",
    "                'market_network_5_eta_3_cr_ratio',\n",
    "                'market_network_2_eta_1_gb_cr_ratio',\n",
    "                'market_network_3_eta_1_gb_cr_ratio',\n",
    "                'market_network_5_eta_1_gb_cr_ratio',\n",
    "                'market_network_2_eta_1_20_gb_cr_ratio',\n",
    "                'market_network_3_eta_1_20_gb_cr_ratio',\n",
    "                'market_network_5_eta_1_20_gb_cr_ratio',\n",
    "                'market_network_2_eta_1_25_gb_cr_ratio',\n",
    "                'market_network_3_eta_1_25_gb_cr_ratio',\n",
    "                'market_network_5_eta_1_25_gb_cr_ratio',\n",
    "                'market_network_2_eta_2_gb_cr_ratio',\n",
    "                'market_network_3_eta_2_gb_cr_ratio',\n",
    "                'market_network_5_eta_2_gb_cr_ratio',\n",
    "                'market_network_2_eta_3_gb_cr_ratio',\n",
    "                'market_network_3_eta_3_gb_cr_ratio',\n",
    "                'market_network_5_eta_3_gb_cr_ratio',\n",
    "                'market_network_2_eta_1_gub_cr_ratio',\n",
    "                'market_network_3_eta_1_gub_cr_ratio',\n",
    "                'market_network_5_eta_1_gub_cr_ratio',\n",
    "                'market_network_2_eta_1_20_gub_cr_ratio',\n",
    "                'market_network_3_eta_1_20_gub_cr_ratio',\n",
    "                'market_network_5_eta_1_20_gub_cr_ratio',\n",
    "                'market_network_2_eta_1_25_gub_cr_ratio',\n",
    "                'market_network_3_eta_1_25_gub_cr_ratio',\n",
    "                'market_network_5_eta_1_25_gub_cr_ratio',\n",
    "                'market_network_2_eta_2_gub_cr_ratio',\n",
    "                'market_network_3_eta_2_gub_cr_ratio',\n",
    "                'market_network_5_eta_2_gub_cr_ratio',\n",
    "                'market_network_2_eta_3_gub_cr_ratio',\n",
    "                'market_network_3_eta_3_gub_cr_ratio',\n",
    "                'market_network_5_eta_3_gub_cr_ratio'\n",
    "              ]\n",
    "          ]"
   ]
  },
  {
   "cell_type": "code",
   "execution_count": 6,
   "metadata": {},
   "outputs": [
    {
     "data": {
      "text/html": [
       "<div>\n",
       "<style scoped>\n",
       "    .dataframe tbody tr th:only-of-type {\n",
       "        vertical-align: middle;\n",
       "    }\n",
       "\n",
       "    .dataframe tbody tr th {\n",
       "        vertical-align: top;\n",
       "    }\n",
       "\n",
       "    .dataframe thead th {\n",
       "        text-align: right;\n",
       "    }\n",
       "</style>\n",
       "<table border=\"1\" class=\"dataframe\">\n",
       "  <thead>\n",
       "    <tr style=\"text-align: right;\">\n",
       "      <th></th>\n",
       "      <th>hour_gb_gamma_100</th>\n",
       "      <th>hour_gb_gamma_99</th>\n",
       "      <th>hour_gb_gamma_95</th>\n",
       "      <th>hour_gb_gamma_90</th>\n",
       "      <th>hour_gub_gamma_100</th>\n",
       "      <th>hour_gub_gamma_99</th>\n",
       "      <th>hour_gub_gamma_95</th>\n",
       "      <th>hour_gub_gamma_90</th>\n",
       "    </tr>\n",
       "  </thead>\n",
       "  <tbody>\n",
       "    <tr>\n",
       "      <th>count</th>\n",
       "      <td>2533.000000</td>\n",
       "      <td>2533.000000</td>\n",
       "      <td>2533.000000</td>\n",
       "      <td>2533.000000</td>\n",
       "      <td>2533.000000</td>\n",
       "      <td>2533.000000</td>\n",
       "      <td>2533.000000</td>\n",
       "      <td>2533.000000</td>\n",
       "    </tr>\n",
       "    <tr>\n",
       "      <th>mean</th>\n",
       "      <td>14.132809</td>\n",
       "      <td>10.688789</td>\n",
       "      <td>4.531095</td>\n",
       "      <td>2.375552</td>\n",
       "      <td>1.907705</td>\n",
       "      <td>1.442350</td>\n",
       "      <td>0.610770</td>\n",
       "      <td>0.320308</td>\n",
       "    </tr>\n",
       "    <tr>\n",
       "      <th>std</th>\n",
       "      <td>5.648413</td>\n",
       "      <td>4.275556</td>\n",
       "      <td>1.855396</td>\n",
       "      <td>1.013063</td>\n",
       "      <td>1.166082</td>\n",
       "      <td>0.882224</td>\n",
       "      <td>0.378140</td>\n",
       "      <td>0.202409</td>\n",
       "    </tr>\n",
       "    <tr>\n",
       "      <th>min</th>\n",
       "      <td>2.874042</td>\n",
       "      <td>2.322737</td>\n",
       "      <td>0.858465</td>\n",
       "      <td>0.341962</td>\n",
       "      <td>0.980104</td>\n",
       "      <td>0.718468</td>\n",
       "      <td>0.204327</td>\n",
       "      <td>0.069688</td>\n",
       "    </tr>\n",
       "    <tr>\n",
       "      <th>25%</th>\n",
       "      <td>12.892159</td>\n",
       "      <td>9.767236</td>\n",
       "      <td>4.116934</td>\n",
       "      <td>2.090582</td>\n",
       "      <td>1.079196</td>\n",
       "      <td>0.799658</td>\n",
       "      <td>0.335151</td>\n",
       "      <td>0.176621</td>\n",
       "    </tr>\n",
       "    <tr>\n",
       "      <th>50%</th>\n",
       "      <td>15.429863</td>\n",
       "      <td>11.679333</td>\n",
       "      <td>4.876019</td>\n",
       "      <td>2.509227</td>\n",
       "      <td>1.490609</td>\n",
       "      <td>1.117990</td>\n",
       "      <td>0.457517</td>\n",
       "      <td>0.235402</td>\n",
       "    </tr>\n",
       "    <tr>\n",
       "      <th>75%</th>\n",
       "      <td>17.683462</td>\n",
       "      <td>13.350323</td>\n",
       "      <td>5.663766</td>\n",
       "      <td>2.990388</td>\n",
       "      <td>3.556727</td>\n",
       "      <td>2.695139</td>\n",
       "      <td>1.044284</td>\n",
       "      <td>0.495778</td>\n",
       "    </tr>\n",
       "    <tr>\n",
       "      <th>max</th>\n",
       "      <td>37.919242</td>\n",
       "      <td>31.437320</td>\n",
       "      <td>18.484542</td>\n",
       "      <td>12.178222</td>\n",
       "      <td>4.013546</td>\n",
       "      <td>3.244126</td>\n",
       "      <td>1.707259</td>\n",
       "      <td>1.010787</td>\n",
       "    </tr>\n",
       "  </tbody>\n",
       "</table>\n",
       "</div>"
      ],
      "text/plain": [
       "       hour_gb_gamma_100  hour_gb_gamma_99  hour_gb_gamma_95  \\\n",
       "count        2533.000000       2533.000000       2533.000000   \n",
       "mean           14.132809         10.688789          4.531095   \n",
       "std             5.648413          4.275556          1.855396   \n",
       "min             2.874042          2.322737          0.858465   \n",
       "25%            12.892159          9.767236          4.116934   \n",
       "50%            15.429863         11.679333          4.876019   \n",
       "75%            17.683462         13.350323          5.663766   \n",
       "max            37.919242         31.437320         18.484542   \n",
       "\n",
       "       hour_gb_gamma_90  hour_gub_gamma_100  hour_gub_gamma_99  \\\n",
       "count       2533.000000         2533.000000        2533.000000   \n",
       "mean           2.375552            1.907705           1.442350   \n",
       "std            1.013063            1.166082           0.882224   \n",
       "min            0.341962            0.980104           0.718468   \n",
       "25%            2.090582            1.079196           0.799658   \n",
       "50%            2.509227            1.490609           1.117990   \n",
       "75%            2.990388            3.556727           2.695139   \n",
       "max           12.178222            4.013546           3.244126   \n",
       "\n",
       "       hour_gub_gamma_95  hour_gub_gamma_90  \n",
       "count        2533.000000        2533.000000  \n",
       "mean            0.610770           0.320308  \n",
       "std             0.378140           0.202409  \n",
       "min             0.204327           0.069688  \n",
       "25%             0.335151           0.176621  \n",
       "50%             0.457517           0.235402  \n",
       "75%             1.044284           0.495778  \n",
       "max             1.707259           1.010787  "
      ]
     },
     "execution_count": 6,
     "metadata": {},
     "output_type": "execute_result"
    }
   ],
   "source": [
    "df[['hour_gb_gamma_100',\n",
    "    'hour_gb_gamma_99',\n",
    "    'hour_gb_gamma_95',\n",
    "    'hour_gb_gamma_90',\n",
    "    'hour_gub_gamma_100',\n",
    "    'hour_gub_gamma_99',\n",
    "    'hour_gub_gamma_95',\n",
    "    'hour_gub_gamma_90']\n",
    "  ].describe()"
   ]
  },
  {
   "cell_type": "code",
   "execution_count": 7,
   "metadata": {},
   "outputs": [
    {
     "data": {
      "text/plain": [
       "Counter({36: 668, 37: 658, 38: 672, 540: 535})"
      ]
     },
     "execution_count": 7,
     "metadata": {},
     "output_type": "execute_result"
    }
   ],
   "source": [
    "from collections import Counter\n",
    "Counter(df['city_id'])\n",
    "\n",
    "# 34, 138, 450, 245, 453, 47"
   ]
  },
  {
   "cell_type": "code",
   "execution_count": 8,
   "metadata": {},
   "outputs": [],
   "source": [
    "y = gub_99\n",
    "X_train, X_test, y_train, y_test = train_test_split(X, y, test_size=0.2, random_state=96)"
   ]
  },
  {
   "cell_type": "code",
   "execution_count": 9,
   "metadata": {},
   "outputs": [
    {
     "data": {
      "text/plain": [
       "Lasso(alpha=0.005, copy_X=True, fit_intercept=True, max_iter=10000,\n",
       "   normalize=False, positive=False, precompute=False, random_state=9,\n",
       "   selection='cyclic', tol=0.0001, warm_start=False)"
      ]
     },
     "execution_count": 9,
     "metadata": {},
     "output_type": "execute_result"
    }
   ],
   "source": [
    "lasso = Lasso(alpha=0.005, max_iter=10000, random_state=9)\n",
    "lasso.fit(X_train, y_train)"
   ]
  },
  {
   "cell_type": "code",
   "execution_count": 10,
   "metadata": {},
   "outputs": [
    {
     "data": {
      "text/plain": [
       "0.7227794817250304"
      ]
     },
     "execution_count": 10,
     "metadata": {},
     "output_type": "execute_result"
    }
   ],
   "source": [
    "lasso.intercept_"
   ]
  },
  {
   "cell_type": "code",
   "execution_count": 11,
   "metadata": {},
   "outputs": [
    {
     "data": {
      "text/plain": [
       "array([ 0.34623736, -0.        , -0.        , -0.        , -0.40045563,\n",
       "       -0.        , -0.        , -0.        , -0.        , -0.        ,\n",
       "        0.        ,  0.        ,  0.        , -0.        , -0.80078925,\n",
       "       -0.        , -0.        , -0.        , -0.        , -0.        ,\n",
       "        0.        , -0.        , -0.        ,  0.        , -0.        ,\n",
       "       -0.        ,  0.        , -0.        , -0.        , -0.        ,\n",
       "       -0.        , -0.        , -0.        , -0.        , -0.        ,\n",
       "       -0.        , -0.        , -0.        , -0.        , -0.        ,\n",
       "       -0.        , -0.        , -0.        , -0.        , -0.        ,\n",
       "       -0.        , -0.        , -0.        , -0.        , -0.        ,\n",
       "       -0.        ,  0.06835951,  0.        , -0.        ,  0.        ,\n",
       "        0.        , -0.        ,  0.        , -0.        , -0.        ,\n",
       "        0.        , -0.        , -0.02626727, -0.        , -0.        ,\n",
       "       -0.08220266,  1.38377687,  0.        ,  0.87172538,  0.        ,\n",
       "        0.        ,  0.        ,  0.        ,  0.        ,  0.        ,\n",
       "        0.        ,  0.        ,  0.        , -0.        , -0.        ,\n",
       "       -0.        ])"
      ]
     },
     "execution_count": 11,
     "metadata": {},
     "output_type": "execute_result"
    }
   ],
   "source": [
    "lasso.coef_"
   ]
  },
  {
   "cell_type": "code",
   "execution_count": 12,
   "metadata": {},
   "outputs": [
    {
     "name": "stdout",
     "output_type": "stream",
     "text": [
      "market_driver_cancel_prob                 0.346237\n",
      "market_rider_cancel_prob                 -0.000000\n",
      "market_spinner_cancel_prob               -0.000000\n",
      "market_surge_mul                         -0.000000\n",
      "market_eventual_comp_prob                -0.400456\n",
      "market_eta_one                           -0.000000\n",
      "market_eta_one_twenty                    -0.000000\n",
      "market_eta_one_quarter                   -0.000000\n",
      "market_eta_square                        -0.000000\n",
      "market_eta_cube                          -0.000000\n",
      "market_network_contention_2               0.000000\n",
      "market_network_contention_3               0.000000\n",
      "market_network_contention_5               0.000000\n",
      "market_cr_ratio                          -0.000000\n",
      "market_eta_one_cr_ratio                  -0.800789\n",
      "market_eta_one_twenty_cr_ratio           -0.000000\n",
      "market_eta_square_cr_ratio               -0.000000\n",
      "market_eta_cube_cr_ratio                 -0.000000\n",
      "market_network_2_eta_1                   -0.000000\n",
      "market_network_3_eta_1                   -0.000000\n",
      "market_network_5_eta_1                    0.000000\n",
      "market_network_2_eta_1_20                -0.000000\n",
      "market_network_3_eta_1_20                -0.000000\n",
      "market_network_5_eta_1_20                 0.000000\n",
      "market_network_2_eta_1_25                -0.000000\n",
      "market_network_3_eta_1_25                -0.000000\n",
      "market_network_5_eta_1_25                 0.000000\n",
      "market_network_2_eta_2                   -0.000000\n",
      "market_network_3_eta_2                   -0.000000\n",
      "market_network_5_eta_2                   -0.000000\n",
      "market_network_2_eta_3                   -0.000000\n",
      "market_network_3_eta_3                   -0.000000\n",
      "market_network_5_eta_3                   -0.000000\n",
      "market_network_2_cr_ratio                -0.000000\n",
      "market_network_3_cr_ratio                -0.000000\n",
      "market_network_5_cr_ratio                -0.000000\n",
      "market_network_2_eta_1_cr_ratio          -0.000000\n",
      "market_network_3_eta_1_cr_ratio          -0.000000\n",
      "market_network_5_eta_1_cr_ratio          -0.000000\n",
      "market_network_2_eta_1_20_cr_ratio       -0.000000\n",
      "market_network_3_eta_1_20_cr_ratio       -0.000000\n",
      "market_network_5_eta_1_20_cr_ratio       -0.000000\n",
      "market_network_2_eta_1_25_cr_ratio       -0.000000\n",
      "market_network_3_eta_1_25_cr_ratio       -0.000000\n",
      "market_network_5_eta_1_25_cr_ratio       -0.000000\n",
      "market_network_2_eta_2_cr_ratio          -0.000000\n",
      "market_network_3_eta_2_cr_ratio          -0.000000\n",
      "market_network_5_eta_2_cr_ratio          -0.000000\n",
      "market_network_2_eta_3_cr_ratio          -0.000000\n",
      "market_network_3_eta_3_cr_ratio          -0.000000\n",
      "market_network_5_eta_3_cr_ratio          -0.000000\n",
      "market_network_2_eta_1_gb_cr_ratio        0.068360\n",
      "market_network_3_eta_1_gb_cr_ratio        0.000000\n",
      "market_network_5_eta_1_gb_cr_ratio       -0.000000\n",
      "market_network_2_eta_1_20_gb_cr_ratio     0.000000\n",
      "market_network_3_eta_1_20_gb_cr_ratio     0.000000\n",
      "market_network_5_eta_1_20_gb_cr_ratio    -0.000000\n",
      "market_network_2_eta_1_25_gb_cr_ratio     0.000000\n",
      "market_network_3_eta_1_25_gb_cr_ratio    -0.000000\n",
      "market_network_5_eta_1_25_gb_cr_ratio    -0.000000\n",
      "market_network_2_eta_2_gb_cr_ratio        0.000000\n",
      "market_network_3_eta_2_gb_cr_ratio       -0.000000\n",
      "market_network_5_eta_2_gb_cr_ratio       -0.026267\n",
      "market_network_2_eta_3_gb_cr_ratio       -0.000000\n",
      "market_network_3_eta_3_gb_cr_ratio       -0.000000\n",
      "market_network_5_eta_3_gb_cr_ratio       -0.082203\n",
      "market_network_2_eta_1_gub_cr_ratio       1.383777\n",
      "market_network_3_eta_1_gub_cr_ratio       0.000000\n",
      "market_network_5_eta_1_gub_cr_ratio       0.871725\n",
      "market_network_2_eta_1_20_gub_cr_ratio    0.000000\n",
      "market_network_3_eta_1_20_gub_cr_ratio    0.000000\n",
      "market_network_5_eta_1_20_gub_cr_ratio    0.000000\n",
      "market_network_2_eta_1_25_gub_cr_ratio    0.000000\n",
      "market_network_3_eta_1_25_gub_cr_ratio    0.000000\n",
      "market_network_5_eta_1_25_gub_cr_ratio    0.000000\n",
      "market_network_2_eta_2_gub_cr_ratio       0.000000\n",
      "market_network_3_eta_2_gub_cr_ratio       0.000000\n",
      "market_network_5_eta_2_gub_cr_ratio       0.000000\n",
      "market_network_2_eta_3_gub_cr_ratio      -0.000000\n",
      "market_network_3_eta_3_gub_cr_ratio      -0.000000\n",
      "market_network_5_eta_3_gub_cr_ratio      -0.000000\n",
      "dtype: float64\n"
     ]
    }
   ],
   "source": [
    "with pd.option_context('display.max_rows', None, 'display.max_columns', None):  # more options can be specified also\n",
    "    print(pd.Series(lasso.coef_, index = X_train.columns))"
   ]
  },
  {
   "cell_type": "code",
   "execution_count": 13,
   "metadata": {},
   "outputs": [],
   "source": [
    "y = gub_99\n",
    "X = df.loc[:, ['market_driver_cancel_prob',\n",
    "               'market_eventual_comp_prob',\n",
    "               'market_eta_one_cr_ratio',\n",
    "               'market_network_2_eta_1_gb_cr_ratio',              \n",
    "               'market_network_5_eta_2_gb_cr_ratio',\n",
    "               'market_network_5_eta_3_gb_cr_ratio',\n",
    "               'market_network_2_eta_1_gub_cr_ratio',\n",
    "               'market_network_5_eta_1_gub_cr_ratio'\n",
    "              ]\n",
    "          ]"
   ]
  },
  {
   "cell_type": "code",
   "execution_count": 14,
   "metadata": {},
   "outputs": [],
   "source": [
    "# Add intercept to X\n",
    "X['intercept'] = [1 for _ in range(len(X.index))]"
   ]
  },
  {
   "cell_type": "code",
   "execution_count": 15,
   "metadata": {},
   "outputs": [],
   "source": [
    "X_train, X_test, y_train, y_test = train_test_split(X, y, test_size=0.2, random_state=96)"
   ]
  },
  {
   "cell_type": "code",
   "execution_count": 16,
   "metadata": {},
   "outputs": [],
   "source": [
    "# Model Training\n",
    "model = sm.OLS(y_train, X_train)"
   ]
  },
  {
   "cell_type": "code",
   "execution_count": 17,
   "metadata": {},
   "outputs": [
    {
     "name": "stdout",
     "output_type": "stream",
     "text": [
      "                            OLS Regression Results                            \n",
      "==============================================================================\n",
      "Dep. Variable:      hour_gub_gamma_99   R-squared:                       0.952\n",
      "Model:                            OLS   Adj. R-squared:                  0.951\n",
      "Method:                 Least Squares   F-statistic:                     4953.\n",
      "Date:                Tue, 04 Oct 2022   Prob (F-statistic):               0.00\n",
      "Time:                        21:07:11   Log-Likelihood:                 464.76\n",
      "No. Observations:                2026   AIC:                            -911.5\n",
      "Df Residuals:                    2017   BIC:                            -861.0\n",
      "Df Model:                           8                                         \n",
      "Covariance Type:            nonrobust                                         \n",
      "=======================================================================================================\n",
      "                                          coef    std err          t      P>|t|      [0.025      0.975]\n",
      "-------------------------------------------------------------------------------------------------------\n",
      "market_driver_cancel_prob               0.4040      0.038     10.656      0.000       0.330       0.478\n",
      "market_eventual_comp_prob              -0.8657      0.063    -13.687      0.000      -0.990      -0.742\n",
      "market_eta_one_cr_ratio                -0.7886      0.073    -10.778      0.000      -0.932      -0.645\n",
      "market_network_2_eta_1_gb_cr_ratio      0.3402      0.025     13.721      0.000       0.292       0.389\n",
      "market_network_5_eta_2_gb_cr_ratio     -0.7267      0.064    -11.378      0.000      -0.852      -0.601\n",
      "market_network_5_eta_3_gb_cr_ratio      0.3765      0.044      8.569      0.000       0.290       0.463\n",
      "market_network_2_eta_1_gub_cr_ratio     0.0431      0.259      0.166      0.868      -0.465       0.551\n",
      "market_network_5_eta_1_gub_cr_ratio     2.2277      0.254      8.753      0.000       1.729       2.727\n",
      "intercept                               0.9439      0.043     21.831      0.000       0.859       1.029\n",
      "==============================================================================\n",
      "Omnibus:                      438.575   Durbin-Watson:                   2.015\n",
      "Prob(Omnibus):                  0.000   Jarque-Bera (JB):             2443.860\n",
      "Skew:                           0.901   Prob(JB):                         0.00\n",
      "Kurtosis:                       8.070   Cond. No.                         643.\n",
      "==============================================================================\n",
      "\n",
      "Notes:\n",
      "[1] Standard Errors assume that the covariance matrix of the errors is correctly specified.\n"
     ]
    }
   ],
   "source": [
    "trained_model = model.fit()\n",
    "print(trained_model.summary())"
   ]
  },
  {
   "cell_type": "code",
   "execution_count": 18,
   "metadata": {
    "scrolled": false
   },
   "outputs": [
    {
     "name": "stdout",
     "output_type": "stream",
     "text": [
      "                            OLS Regression Results                            \n",
      "==============================================================================\n",
      "Dep. Variable:      hour_gub_gamma_99   R-squared:                       0.952\n",
      "Model:                            OLS   Adj. R-squared:                  0.951\n",
      "Method:                 Least Squares   F-statistic:                     5664.\n",
      "Date:                Tue, 04 Oct 2022   Prob (F-statistic):               0.00\n",
      "Time:                        21:07:11   Log-Likelihood:                 464.75\n",
      "No. Observations:                2026   AIC:                            -913.5\n",
      "Df Residuals:                    2018   BIC:                            -868.6\n",
      "Df Model:                           7                                         \n",
      "Covariance Type:            nonrobust                                         \n",
      "=======================================================================================================\n",
      "                                          coef    std err          t      P>|t|      [0.025      0.975]\n",
      "-------------------------------------------------------------------------------------------------------\n",
      "market_driver_cancel_prob               0.4044      0.038     10.687      0.000       0.330       0.479\n",
      "market_eventual_comp_prob              -0.8661      0.063    -13.706      0.000      -0.990      -0.742\n",
      "market_eta_one_cr_ratio                -0.7857      0.071    -11.069      0.000      -0.925      -0.646\n",
      "market_network_2_eta_1_gb_cr_ratio      0.3434      0.016     21.369      0.000       0.312       0.375\n",
      "market_network_5_eta_2_gb_cr_ratio     -0.7348      0.042    -17.685      0.000      -0.816      -0.653\n",
      "market_network_5_eta_3_gb_cr_ratio      0.3817      0.031     12.169      0.000       0.320       0.443\n",
      "market_network_5_eta_1_gub_cr_ratio     2.2700      0.015    154.070      0.000       2.241       2.299\n",
      "intercept                               0.9423      0.042     22.418      0.000       0.860       1.025\n",
      "==============================================================================\n",
      "Omnibus:                      438.405   Durbin-Watson:                   2.015\n",
      "Prob(Omnibus):                  0.000   Jarque-Bera (JB):             2447.702\n",
      "Skew:                           0.900   Prob(JB):                         0.00\n",
      "Kurtosis:                       8.075   Cond. No.                         157.\n",
      "==============================================================================\n",
      "\n",
      "Notes:\n",
      "[1] Standard Errors assume that the covariance matrix of the errors is correctly specified.\n"
     ]
    }
   ],
   "source": [
    "y = gub_99\n",
    "X = df.loc[:, ['market_driver_cancel_prob',\n",
    "               'market_eventual_comp_prob',\n",
    "               'market_eta_one_cr_ratio',\n",
    "               'market_network_2_eta_1_gb_cr_ratio',              \n",
    "               'market_network_5_eta_2_gb_cr_ratio',\n",
    "               'market_network_5_eta_3_gb_cr_ratio',\n",
    "               'market_network_5_eta_1_gub_cr_ratio'\n",
    "              ]\n",
    "          ]\n",
    "\n",
    "# Add intercept to X\n",
    "X['intercept'] = [1 for _ in range(len(X.index))]\n",
    "\n",
    "X_train, X_test, y_train, y_test = train_test_split(X, y, test_size=0.2, random_state=96)\n",
    "\n",
    "# Model Training\n",
    "model = sm.OLS(y_train, X_train)\n",
    "\n",
    "trained_model = model.fit()\n",
    "print(trained_model.summary())"
   ]
  },
  {
   "cell_type": "code",
   "execution_count": 19,
   "metadata": {},
   "outputs": [
    {
     "data": {
      "text/plain": [
       "market_driver_cancel_prob              0.404413\n",
       "market_eventual_comp_prob             -0.866112\n",
       "market_eta_one_cr_ratio               -0.785677\n",
       "market_network_2_eta_1_gb_cr_ratio     0.343359\n",
       "market_network_5_eta_2_gb_cr_ratio    -0.734783\n",
       "market_network_5_eta_3_gb_cr_ratio     0.381650\n",
       "market_network_5_eta_1_gub_cr_ratio    2.270031\n",
       "intercept                              0.942260\n",
       "dtype: float64"
      ]
     },
     "execution_count": 19,
     "metadata": {},
     "output_type": "execute_result"
    }
   ],
   "source": [
    "trained_model.params"
   ]
  },
  {
   "cell_type": "code",
   "execution_count": 20,
   "metadata": {},
   "outputs": [
    {
     "name": "stdout",
     "output_type": "stream",
     "text": [
      "Train RMSE/y_train: 0.1348 and 0.1723\n"
     ]
    }
   ],
   "source": [
    "# Train RMSE\n",
    "y_train_pred = trained_model.predict(X_train)\n",
    "train_rmse = np.sqrt(np.mean((y_train - y_train_pred)**2))\n",
    "print(f\"Train RMSE/y_train: {round(train_rmse / np.mean(y_train), 4)} and {round(train_rmse / np.median(y_train), 4)}\")"
   ]
  },
  {
   "cell_type": "code",
   "execution_count": 21,
   "metadata": {},
   "outputs": [
    {
     "name": "stdout",
     "output_type": "stream",
     "text": [
      "Test RMSE/y_test: 0.1297 and 0.174\n"
     ]
    }
   ],
   "source": [
    "# Test RMSE\n",
    "y_test_pred = trained_model.predict(X_test)\n",
    "test_rmse = np.sqrt(np.mean((y_test - y_test_pred)**2))\n",
    "test_rmse / np.mean(y_test)\n",
    "print(f\"Test RMSE/y_test: {round(test_rmse / np.mean(y_test), 4)} and {round(test_rmse / np.median(y_test), 4)}\")"
   ]
  },
  {
   "cell_type": "code",
   "execution_count": 22,
   "metadata": {},
   "outputs": [
    {
     "data": {
      "image/png": "[encoded data removed]",
      "text/plain": [
       "<Figure size 432x288 with 2 Axes>"
      ]
     },
     "metadata": {
      "needs_background": "light"
     },
     "output_type": "display_data"
    }
   ],
   "source": [
    "# Visualizing a Pandas Correlation Matrix\n",
    "corr_matrix = X.loc[:, X.columns != 'intercept'].corr().round(2)\n",
    "sns.heatmap(corr_matrix, annot=True, vmax=1, vmin=-1, center=0, cmap='vlag')\n",
    "plt.show()"
   ]
  }
 ],
 "metadata": {
  "kernelspec": {
   "display_name": "Python 3.7 (General DS)",
   "language": "python",
   "name": "python37"
  },
  "language_info": {
   "codemirror_mode": {
    "name": "ipython",
    "version": 3
   },
   "file_extension": ".py",
   "mimetype": "text/x-python",
   "name": "python",
   "nbconvert_exporter": "python",
   "pygments_lexer": "ipython3",
   "version": "3.7.12"
  }
 },
 "nbformat": 4,
 "nbformat_minor": 2
}
