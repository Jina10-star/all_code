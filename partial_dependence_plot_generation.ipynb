{
 "cells": [
  {
   "cell_type": "code",
   "execution_count": 49,
   "metadata": {},
   "outputs": [],
   "source": [
    "# Notebook for generating partial dependence plot for driver cancel model\n",
    "# partial dependence is useful understanding model behavior (e.g. feedback loops) and impact on business\n",
    "\n",
    "# results here: https://drive.google.com/drive/folders/1phCdC9nPplEby7ve1I0wdcm2LGj9asiO"
   ]
  },
  {
   "cell_type": "code",
   "execution_count": 43,
   "metadata": {},
   "outputs": [],
   "source": [
    "import os \n",
    "import pandas as pd, numpy as np\n",
    "\n",
    "%matplotlib inline\n",
    "import matplotlib.pyplot as plt"
   ]
  },
  {
   "cell_type": "code",
   "execution_count": 44,
   "metadata": {},
   "outputs": [
    {
     "name": "stderr",
     "output_type": "stream",
     "text": [
      "/dsw/snapshots/snapshot_dsw_default_jupyter/python37/lib/python3.7/site-packages/IPython/core/interactiveshell.py:3072: DtypeWarning: Columns (33,35,36,262,267) have mixed types. Specify dtype option on import or set low_memory=False.\n",
      "  interactivity=interactivity, compiler=compiler, result=result)\n"
     ]
    }
   ],
   "source": [
    "#  model prediction  sample from 10/24 to 10/30 period\n",
    "region = \"apac\"\n",
    "data = pd.read_csv(\"data/driver_cancel_{}_prediction_sample.csv\".format(region)) #https://querybuilder-ea.uberinternal.com/r/meSaQarnf/run/lTpPurG5/edit"
   ]
  },
  {
   "cell_type": "code",
   "execution_count": 45,
   "metadata": {},
   "outputs": [
    {
     "data": {
      "text/plain": [
       "((102717, 268),\n",
       " Index(['datestr', 'job_supply_uuid', 'supply_vvid', 'job_uuid', 'supply_uuid',\n",
       "        'client_uuid', 'client_vvid', 'supply_client_vvid',\n",
       "        '@published:vehicle_view_id', 'city_id',\n",
       "        ...\n",
       "        'auto_transformed_scalar_output_vec', 'probability', 'calibrated_prob',\n",
       "        '__internal_raw_probability_column_name', '@prediction:predict', 'true',\n",
       "        'false', '@prediction:prob', 'vehicle_view_id', 'predict'],\n",
       "       dtype='object', length=268))"
      ]
     },
     "execution_count": 45,
     "metadata": {},
     "output_type": "execute_result"
    }
   ],
   "source": [
    "data.shape, data.columns"
   ]
  },
  {
   "cell_type": "code",
   "execution_count": 46,
   "metadata": {},
   "outputs": [],
   "source": [
    "# create partial dependence plots\n",
    "results_dir = \"driver_cancel/{}_results\".format(region)\n",
    "if not os.path.exists(results_dir):\n",
    "    os.mkdir(results_dir)"
   ]
  },
  {
   "cell_type": "code",
   "execution_count": 47,
   "metadata": {},
   "outputs": [],
   "source": [
    "uniques = [data[col].nunique() for col in data.columns]"
   ]
  },
  {
   "cell_type": "code",
   "execution_count": null,
   "metadata": {},
   "outputs": [],
   "source": [
    "# create bucketized dependence plots\n",
    "for feature, dtype, unique in zip(data.columns, data.dtypes, uniques):\n",
    "    if (dtype == object and unique < 100) or unique < 20: # if categorical\n",
    "        try:\n",
    "            data.groupby(data[feature]).calibrated_prob.mean().plot.bar(rot=10, fontsize=9)\n",
    "            plt.xlabel(feature)\n",
    "            plt.ylabel('cancel probability')\n",
    "            plt.title('Trends in model predicted cancel probability by {}'.format(feature))\n",
    "            plt.savefig(os.path.join(results_dir, \"{}.pdf\".format(feature)))\n",
    "            #plt.show()\n",
    "        except ValueError:\n",
    "            pass        \n",
    "    elif dtype not in (str, object) and feature not in ('job_supply_uuid', '@published:vehicle_view_id', 'city_id', 'country_id', 'timestamp'): # if numeric\n",
    "        a = data[feature].quantile(0.01) #.min()\n",
    "        b = data[feature].quantile(0.99) #max()\n",
    "        fig = plt.figure(figsize=(11,5))\n",
    "        try:\n",
    "            data.groupby(pd.cut(data[feature], np.linspace(a,b,11))).calibrated_prob.mean().plot.bar(rot=10, fontsize=9)\n",
    "            plt.xlabel(feature)\n",
    "            plt.ylabel('cancel probability')\n",
    "            plt.title('Trends in model predicted cancel probability by {}'.format(feature))\n",
    "            plt.savefig(os.path.join(results_dir, \"{}.pdf\".format(feature)))\n",
    "            #plt.show()\n",
    "        except ValueError:\n",
    "            pass"
   ]
  }
 ],
 "metadata": {
  "kernelspec": {
   "display_name": "01. Python 3.7 (General DS)",
   "language": "python",
   "name": "python37"
  },
  "language_info": {
   "codemirror_mode": {
    "name": "ipython",
    "version": 3
   },
   "file_extension": ".py",
   "mimetype": "text/x-python",
   "name": "python",
   "nbconvert_exporter": "python",
   "pygments_lexer": "ipython3",
   "version": "3.7.12"
  }
 },
 "nbformat": 4,
 "nbformat_minor": 2
}
