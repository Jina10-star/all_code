{
 "cells": [
  {
   "cell_type": "code",
   "execution_count": 44,
   "metadata": {},
   "outputs": [],
   "source": [
    "# generate trends in OF value by supply type (open/FD) for different ETAs"
   ]
  },
  {
   "cell_type": "code",
   "execution_count": 45,
   "metadata": {},
   "outputs": [],
   "source": [
    "# Install packages"
   ]
  },
  {
   "cell_type": "code",
   "execution_count": null,
   "metadata": {},
   "outputs": [],
   "source": [
    "%%bash\n",
    "source $VIRTUAL_ENV_DIR/python3/bin/activate\n",
    "\n",
    "install_package_python3.sh add dsw_qr==0.1.13\n",
    "\n",
    "$VIRTUAL_ENV_DIR/python3/bin/python -m pip install galileo\n",
    "$VIRTUAL_ENV_DIR/python3/bin/python -m pip install galileo-py\n",
    "$VIRTUAL_ENV_DIR/python3/bin/python -m pip install tchannel"
   ]
  },
  {
   "cell_type": "code",
   "execution_count": null,
   "metadata": {},
   "outputs": [],
   "source": [
    "# fetch data"
   ]
  },
  {
   "cell_type": "code",
   "execution_count": null,
   "metadata": {},
   "outputs": [],
   "source": [
    "import os\n",
    "\n",
    "import pandas as pd\n",
    "from dsw_qr import dsw_qr"
   ]
  },
  {
   "cell_type": "code",
   "execution_count": null,
   "metadata": {},
   "outputs": [],
   "source": [
    "USER_EMAIL = 'targupt@uber.com'\n",
    "\n",
    "QUERY = \"\"\"select\n",
    "  msg.supply_type,\n",
    "  floor(msg.unadjusted_eta / 240),\n",
    "  count(*) as count,\n",
    "  avg(msg.unadjusted_eta) as average_eta,\n",
    "  avg(msg.objective_value) as average_OF_value\n",
    "from\n",
    "  rawdata.kafka_hp_multileg_mgv_log_nodedup\n",
    "where\n",
    "  datestr between '2022-10-24'\n",
    "  and '2022-10-30'\n",
    "  and msg.calculator_type = 'compound_completion_rate_of'\n",
    "  and abs(\n",
    "    mod(\n",
    "      from_big_endian_64(xxhash64(CAST(msg.job_uuid AS varbinary))),\n",
    "      100\n",
    "    )\n",
    "  ) <= {{sample_percentage}}\n",
    "  and msg.unadjusted_eta < 3000\n",
    "group by\n",
    "  msg.supply_type,\n",
    "  floor(msg.unadjusted_eta / 240)\"\"\""
   ]
  },
  {
   "cell_type": "code",
   "execution_count": null,
   "metadata": {},
   "outputs": [],
   "source": [
    "from queryrunner_client import Client\n",
    "qr = Client(user_email='targupt@uber.com')\n",
    "qr.list_datasources()\n",
    "cursor = qr.execute(\"hive\", QUERY)\n",
    "result = cursor.fetchall()"
   ]
  },
  {
   "cell_type": "code",
   "execution_count": null,
   "metadata": {},
   "outputs": [],
   "source": [
    "pd.DataFrame(result).to_csv(\"of_value_supply_type_eta.csv\", index=False)"
   ]
  },
  {
   "cell_type": "code",
   "execution_count": null,
   "metadata": {},
   "outputs": [],
   "source": [
    "# generate plot"
   ]
  },
  {
   "cell_type": "code",
   "execution_count": null,
   "metadata": {},
   "outputs": [],
   "source": [
    "import pandas as pd\n",
    "\n",
    "%matplotlib inline\n",
    "import matplotlib.pyplot as plt"
   ]
  },
  {
   "cell_type": "code",
   "execution_count": null,
   "metadata": {},
   "outputs": [],
   "source": [
    "data = pd.read_csv(\"of_value_supply_type_eta.csv\") #https://querybuilder.uberinternal.com/r/sJd6k0RiZ"
   ]
  },
  {
   "cell_type": "code",
   "execution_count": null,
   "metadata": {},
   "outputs": [],
   "source": [
    "data.columns"
   ]
  },
  {
   "cell_type": "code",
   "execution_count": null,
   "metadata": {},
   "outputs": [],
   "source": [
    "o = data[data.supply_type == 'open']\n",
    "o = dict(zip(o._col1, o.average_OF_value))\n",
    "\n",
    "f = data[data.supply_type == 'forwardDispatch']\n",
    "f = dict(zip(f._col1, f.average_OF_value))\n"
   ]
  },
  {
   "cell_type": "code",
   "execution_count": null,
   "metadata": {},
   "outputs": [],
   "source": [
    "[f[i] for i in range(10)]"
   ]
  },
  {
   "cell_type": "code",
   "execution_count": 23,
   "metadata": {},
   "outputs": [
    {
     "data": {
      "text/plain": [
       "Text(0.5,1,'Trends in average OF value by supply type for different ETAs')"
      ]
     },
     "execution_count": 23,
     "metadata": {},
     "output_type": "execute_result"
    },
    {
     "data": {
      "image/png": "[encoded data removed]",
      "text/plain": [
       "<Figure size 432x288 with 1 Axes>"
      ]
     },
     "metadata": {
      "needs_background": "light"
     },
     "output_type": "display_data"
    }
   ],
   "source": [
    "plt.plot(range(10), [o[i] for i in range(10)], label='open')\n",
    "plt.plot(range(10), [f[i] for i in range(10)], label='fd')\n",
    "plt.legend()\n",
    "plt.xlabel(\"ETA bucket (0 (0-4m), 1 (4m-8m), 2 (12m-16m), 3 (16m-20m), 4 (20m-24m))...\")\n",
    "plt.ylabel(\"Average OF value (1-CROF)\")\n",
    "plt.title(\"Trends in average OF value by supply type for different ETAs\")"
   ]
  }
 ],
 "metadata": {
  "kernelspec": {
   "display_name": "01. Python 3.7 (General DS)",
   "language": "python",
   "name": "python37"
  },
  "language_info": {
   "codemirror_mode": {
    "name": "ipython",
    "version": 3
   },
   "file_extension": ".py",
   "mimetype": "text/x-python",
   "name": "python",
   "nbconvert_exporter": "python",
   "pygments_lexer": "ipython3",
   "version": "3.7.12"
  }
 },
 "nbformat": 4,
 "nbformat_minor": 2
}
