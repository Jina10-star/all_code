{
 "cells": [
  {
   "cell_type": "code",
   "execution_count": 91,
   "id": "099f3121",
   "metadata": {},
   "outputs": [],
   "source": [
    "import pandas as pd\n",
    "import numpy as np\n",
    "import json\n",
    "import os\n",
    "import re\n",
    "from sklearn.feature_extraction.text import TfidfTransformer, CountVectorizer\n",
    "from sklearn.ensemble import RandomForestClassifier\n",
    "from sklearn.pipeline import Pipeline\n",
    "from sklearn.model_selection import train_test_split\n",
    "from sklearn.metrics import accuracy_score, precision_score, recall_score, f1_score, roc_curve, auc, confusion_matrix\n",
    "from sklearn.pipeline import Pipeline\n",
    "import nltk\n",
    "from nltk.corpus import stopwords\n",
    "from nltk.stem import WordNetLemmatizer \n",
    "from nltk.corpus import wordnet\n",
    "import string"
   ]
  },
  {
   "cell_type": "markdown",
   "id": "95573ca5",
   "metadata": {},
   "source": [
    "a)remove all duplicates from sheet in excel using DATA>remove duplicates\n",
    "b)using excel concatenate function joined \"AgentCorrected_CatName_Primary\" and \"AgentCorrected_Integer_Primary\" column with comma and new target column name is \"primary\".\n"
   ]
  },
  {
   "cell_type": "code",
   "execution_count": 92,
   "id": "cc11c38f",
   "metadata": {},
   "outputs": [],
   "source": [
    "def preprocess_text(message):\n",
    "\n",
    "    new_stopwords=['grocery']\n",
    "    stpwrd = nltk.corpus.stopwords.words('english')\n",
    "    stpwrd.extend(new_stopwords)\n",
    "    # 1. Init Lemmatizer\n",
    "    lemmatizer = WordNetLemmatizer()\n",
    "    #lowering and removing punctuation\n",
    "    message = re.sub(r'[^\\w\\s]','', message.lower())\n",
    "    #removing the numerical values and working only with text values\n",
    "    message = re.sub('[^a-zA-Z]', \" \", message )\n",
    "    #removing the stopwords\n",
    "    message = ' '.join([word for word in message.split() if word not in stpwrd and len(word)>1])\n",
    "    #lemmatizing the text\n",
    "    message =  \" \".join([lemmatizer.lemmatize(w) for w in nltk.word_tokenize(message) if w not in string.punctuation])\n",
    "    #print(\"message is : \",message)\n",
    "    \n",
    "    return message"
   ]
  },
  {
   "cell_type": "code",
   "execution_count": 93,
   "id": "cc7d0634",
   "metadata": {},
   "outputs": [
    {
     "name": "stdout",
     "output_type": "stream",
     "text": [
      "(26912, 19)\n"
     ]
    }
   ],
   "source": [
    "#df2_cicd.target.value_counts().to_frame('counts').reset_index()\n",
    "#df2_cicd['label_count'] = df2_cicd.target.replace(label_dict)\n",
    "#df2_cicd['Counts'] = df2_cicd.groupby(['target']).target.transform('count')\n",
    "#df2_cicd=df2_cicd.sort_values(by=['Counts'], ascending=True)\n",
    "df2_cicd=pd.read_csv('../data/TaxML-CICD - Prod_Data.csv')\n",
    "df2_cicd.drop_duplicates(inplace=True)\n",
    "df2_cicd.dropna(how='all',inplace=True)\n",
    "df2_cicd=df2_cicd[(df2_cicd['Agent Corrected CAT Name']!='#REF!')|(df2_cicd['Agent Corrected Integer']!='#REF!')]\n",
    "df2_cicd['target']=df2_cicd['Agent Corrected CAT Name']+\":\"+df2_cicd['Agent Corrected Integer']\n",
    "df2_cicd['Counts'] = df2_cicd.groupby(['target']).target.transform('count')\n",
    "df2_cicd['input_str'] = df2_cicd[['Item','Description','establishment_type']].apply(lambda x: ' '.join(x[x.notnull()]), axis = 1)\n",
    "df2_cicd['cleanText']=df2_cicd['input_str'].map(lambda s:preprocess_text(s)) \n",
    "#df2_cicd_dup=df2_cicd[df2_cicd.duplicated(subset=['cleanText','target'],keep='last')]\n",
    "df2_cicd_without_dup=df2_cicd.drop_duplicates(subset=['cleanText','target'],keep='last')\n",
    "df2 = df2_cicd_without_dup.reset_index(drop=True)\n",
    "print(df2.shape)"
   ]
  },
  {
   "cell_type": "code",
   "execution_count": 95,
   "id": "a2ccaa3c",
   "metadata": {},
   "outputs": [],
   "source": [
    "X_cicd=df2[['Item','Description','establishment_type','cleanText']]\n",
    "Y_cicd=df2['target']\n",
    "X_train_cicd, X_test_cicd,Y_train_cicd, Y_test_cicd=train_test_split(X_cicd,Y_cicd,test_size = .10,random_state = 42)"
   ]
  },
  {
   "cell_type": "code",
   "execution_count": 96,
   "id": "37eec5b1",
   "metadata": {},
   "outputs": [
    {
     "name": "stdout",
     "output_type": "stream",
     "text": [
      "(136082, 7)\n"
     ]
    },
    {
     "name": "stderr",
     "output_type": "stream",
     "text": [
      "/opt/anaconda3/envs/py365/lib/python3.6/site-packages/ipykernel_launcher.py:7: SettingWithCopyWarning: \n",
      "A value is trying to be set on a copy of a slice from a DataFrame.\n",
      "Try using .loc[row_indexer,col_indexer] = value instead\n",
      "\n",
      "See the caveats in the documentation: https://pandas.pydata.org/pandas-docs/stable/user_guide/indexing.html#returning-a-view-versus-a-copy\n",
      "  import sys\n"
     ]
    }
   ],
   "source": [
    "df = pd.read_csv('/Users/jghosh2/Documents/my-notebook/Tax_ml_poc/data/historical_data_14_01_22.csv', encoding='utf8',engine='python',usecols=['Item','Description','establishment_type','target'])\n",
    "df1=df.sample(frac=1, random_state=42)\n",
    "df1 = df1.fillna('')\n",
    "df1['input_str'] = df1[['Item','Description','establishment_type']].apply(lambda x: ' '.join(x[x.notnull()]), axis = 1)\n",
    "df1['cleanText']=df1['input_str'].map(lambda s:preprocess_text(s)) \n",
    "df1_without_dup=df1.drop_duplicates(subset=['cleanText','target'],keep='last')\n",
    "df1_without_dup['Counts'] = df1_without_dup.groupby(['target']).target.transform('count')\n",
    "df1= df1_without_dup.reset_index(drop=True)\n",
    "print(df1.shape)"
   ]
  },
  {
   "cell_type": "code",
   "execution_count": 97,
   "id": "f85deb5f",
   "metadata": {},
   "outputs": [],
   "source": [
    "df3=df1[df1.Counts<15000]   #must in train set\n",
    "df4=df1[df1.Counts>15000]   #train test split\n",
    "#print(df3,df4)"
   ]
  },
  {
   "cell_type": "code",
   "execution_count": 98,
   "id": "9a549eb6",
   "metadata": {},
   "outputs": [],
   "source": [
    "X_prev=df3[['Item','Description','establishment_type','cleanText']]\n",
    "Y_prev=df3['target']\n",
    "X=df4[['Item','Description','establishment_type','cleanText']]\n",
    "Y=df4['target']\n",
    "X_train, X_test,Y_train, Y_test=train_test_split(X,Y,test_size = .20,random_state = 42)"
   ]
  },
  {
   "cell_type": "code",
   "execution_count": 99,
   "id": "dceeea0e",
   "metadata": {},
   "outputs": [],
   "source": [
    "X_train_final_prev=X_train.append(X_train_cicd)\n",
    "X_train_final=X_train_final_prev.append(X_prev)\n",
    "X_test_final=X_test.append(X_test_cicd)\n",
    "Y_train_final_prev=Y_train.append(Y_train_cicd)\n",
    "Y_train_final=Y_train_final_prev.append(Y_prev)\n",
    "Y_test_final=Y_test.append(Y_test_cicd)"
   ]
  },
  {
   "cell_type": "code",
   "execution_count": 105,
   "id": "3d043639",
   "metadata": {},
   "outputs": [
    {
     "name": "stderr",
     "output_type": "stream",
     "text": [
      "/opt/anaconda3/envs/py365/lib/python3.6/site-packages/sklearn/ensemble/forest.py:245: FutureWarning: The default value of n_estimators will change from 10 in version 0.20 to 100 in 0.22.\n",
      "  \"10 in version 0.20 to 100 in 0.22.\", FutureWarning)\n",
      "/opt/anaconda3/envs/py365/lib/python3.6/site-packages/sklearn/ensemble/forest.py:460: UserWarning: Some inputs do not have OOB scores. This probably means too few trees were used to compute any reliable oob estimates.\n",
      "  warn(\"Some inputs do not have OOB scores. \"\n",
      "/opt/anaconda3/envs/py365/lib/python3.6/site-packages/sklearn/ensemble/forest.py:465: RuntimeWarning: invalid value encountered in true_divide\n",
      "  predictions[k].sum(axis=1)[:, np.newaxis])\n",
      "/opt/anaconda3/envs/py365/lib/python3.6/site-packages/sklearn/metrics/classification.py:1437: UndefinedMetricWarning: Precision is ill-defined and being set to 0.0 in labels with no predicted samples.\n",
      "  'precision', 'predicted', average, warn_for)\n",
      "/opt/anaconda3/envs/py365/lib/python3.6/site-packages/sklearn/metrics/classification.py:1439: UndefinedMetricWarning: Recall is ill-defined and being set to 0.0 in labels with no true samples.\n",
      "  'recall', 'true', average, warn_for)\n",
      "/opt/anaconda3/envs/py365/lib/python3.6/site-packages/sklearn/metrics/classification.py:1437: UndefinedMetricWarning: F-score is ill-defined and being set to 0.0 in labels with no predicted samples.\n",
      "  'precision', 'predicted', average, warn_for)\n",
      "/opt/anaconda3/envs/py365/lib/python3.6/site-packages/sklearn/metrics/classification.py:1439: UndefinedMetricWarning: F-score is ill-defined and being set to 0.0 in labels with no true samples.\n",
      "  'recall', 'true', average, warn_for)\n"
     ]
    }
   ],
   "source": [
    "result=X_test_final\n",
    "rf = Pipeline([('vect', CountVectorizer(strip_accents='ascii', token_pattern=u'(?ui)\\\\b\\\\w*[a-z]+\\\\w*\\\\b', stop_words='english',max_df=0.85)),\n",
    "       ('tfidf', TfidfTransformer()),\n",
    "       ('clf', RandomForestClassifier(oob_score=True,n_jobs=-1,random_state=42))])\n",
    "rf.fit(X_train_final['cleanText'].values,Y_train_final.values)\n",
    "Y_pred= rf.predict(X_test_final['cleanText'].values)\n",
    "result['original_cat']=Y_test_final\n",
    "result['prediction_cat']=Y_pred\n",
    "result['prediction_cat_confscore']=rf.predict_proba(X_test_final['cleanText'].values).max()\n",
    "output={'accuracy':accuracy_score(Y_pred,Y_test_final),'precision_score':precision_score(Y_pred,Y_test_final,average='macro'),'recall_score':recall_score(Y_pred,Y_test_final,average='macro')\n",
    ",'f1_score':f1_score(Y_pred,Y_test_final,average='macro')}\n",
    "result['confusion_matrix']=str(output)"
   ]
  },
  {
   "cell_type": "code",
   "execution_count": 108,
   "id": "3176362d",
   "metadata": {},
   "outputs": [
    {
     "name": "stdout",
     "output_type": "stream",
     "text": [
      "Time :2022-02-01 22:54:29.819929 result :{'accuracy': 0.869745869166103, 'precision_score': 0.3807740220916882, 'recall_score': 0.41358596295568073, 'f1_score': 0.37929912910690683}\n"
     ]
    }
   ],
   "source": [
    "import datetime\n",
    "print(\"Time :{} result :{}\".format(datetime.datetime.now(),result['confusion_matrix'][96757]))"
   ]
  },
  {
   "cell_type": "markdown",
   "id": "8fc4390a",
   "metadata": {},
   "source": [
    "Time :2022-02-01 17:38:41.818731 result :{'accuracy': 0.8698424968595999, 'precision_score': 0.3807985619689888, 'recall_score': 0.4136497529536392, 'f1_score': 0.37934657549569234}---75%"
   ]
  },
  {
   "cell_type": "markdown",
   "id": "9f255d5c",
   "metadata": {},
   "source": [
    "Time :2022-02-01 17:34:14.198992 result :{'accuracy': 0.817818223974032, 'precision_score': 0.35422299931263246, 'recall_score': 0.26847607737853674, 'f1_score': 0.28068141695978}---50%"
   ]
  },
  {
   "cell_type": "markdown",
   "id": "ae078b52",
   "metadata": {},
   "source": [
    "Time :2022-02-01 16:07:21.057705 result :{'accuracy': 0.7071594182533549, 'precision_score': 0.37127229896242614, 'recall_score': 0.44096330410202117, 'f1_score': 0.3902240286718021}"
   ]
  },
  {
   "cell_type": "markdown",
   "id": "33e242da",
   "metadata": {},
   "source": [
    "Time :2022-02-01 16:15:20.626612 result :{'accuracy': 0.7453943629007991, 'precision_score': 0.40391550958656103, 'recall_score': 0.4922277426356951, 'f1_score': 0.42443260357435253}"
   ]
  },
  {
   "cell_type": "markdown",
   "id": "4b172386",
   "metadata": {},
   "source": [
    "Time :2022-02-01 17:22:40.242083 result :{'accuracy': 0.8085435349207051, 'precision_score': 0.35389325636818675, 'recall_score': 0.25924710931465655, 'f1_score': 0.27412973837904125}---25%"
   ]
  },
  {
   "cell_type": "code",
   "execution_count": 107,
   "id": "54abd6ad",
   "metadata": {},
   "outputs": [
    {
     "name": "stdout",
     "output_type": "stream",
     "text": [
      "0.9400639120095124\n"
     ]
    }
   ],
   "source": [
    "import pickle\n",
    "import datetime\n",
    "# save the model to disk\n",
    "primary_model_path = '/Users/jghosh2/Documents/my-notebook/Tax_ml_poc/output'\n",
    "filename_primary= 'finalized_model_01_02_22.sav'\n",
    "pickle.dump(rf, open(os.path.join(primary_model_path,filename_primary), 'wb'))\n",
    "# load the model from disk\n",
    "primary_loaded_model = pickle.load(open(os.path.join(primary_model_path,filename_primary), 'rb'))\n",
    "# result = loaded_model.score(X_test, Y_test)\n",
    "result_regression_score = primary_loaded_model.score(df2['cleanText'], df2['target'])\n",
    "print(result_regression_score)\n",
    "\n"
   ]
  },
  {
   "cell_type": "code",
   "execution_count": 9,
   "id": "f476bb05",
   "metadata": {},
   "outputs": [],
   "source": [
    "#file_name='df_traintestdata_{}'.format(datetime.datetime.now())\n",
    "train_size = 0.8\n",
    "train_end = int(len(df1)*train_size)\n",
    "df_train = df1[:train_end]\n",
    "df_test = df1[train_end:]\n",
    "train_size_cicd=0.9\n",
    "train_end_cicd = int(len(df2)*train_size_cicd)\n",
    "df2_train = df2[:train_end_cicd]\n",
    "df2_test = df2[train_end_cicd:]\n",
    "df2_train = df2_train[['Item','Description','establishment_type','input_str','cleanText','target']]\n",
    "df2_test = df2_test[['Item','Description','establishment_type','input_str','cleanText','target']]\n",
    "X_train_save = df_train.append(df2_train)\n",
    "X_test_save = df_test.append(df2_test)\n",
    "X_train_save['label'] = 'train'\n",
    "X_test_save['label'] = 'test'\n",
    "X_data = X_train_save.append(X_test_save)\n",
    "X_data.to_csv('/Users/jghosh2/Documents/my-notebook/Tax_ml_poc/output/df_traintestdata.csv')"
   ]
  },
  {
   "cell_type": "code",
   "execution_count": 109,
   "id": "7a34a9f8",
   "metadata": {},
   "outputs": [],
   "source": [
    "\n",
    "misclassifications= result.loc[result['original_cat']!=result['prediction_cat']]"
   ]
  },
  {
   "cell_type": "code",
   "execution_count": 110,
   "id": "3581dc5f",
   "metadata": {},
   "outputs": [
    {
     "data": {
      "text/plain": [
       "(1348, 8)"
      ]
     },
     "execution_count": 110,
     "metadata": {},
     "output_type": "execute_result"
    }
   ],
   "source": [
    "misclassifications.shape"
   ]
  },
  {
   "cell_type": "code",
   "execution_count": 111,
   "id": "85cf535a",
   "metadata": {},
   "outputs": [
    {
     "data": {
      "text/html": [
       "<div>\n",
       "<style scoped>\n",
       "    .dataframe tbody tr th:only-of-type {\n",
       "        vertical-align: middle;\n",
       "    }\n",
       "\n",
       "    .dataframe tbody tr th {\n",
       "        vertical-align: top;\n",
       "    }\n",
       "\n",
       "    .dataframe thead th {\n",
       "        text-align: right;\n",
       "    }\n",
       "</style>\n",
       "<table border=\"1\" class=\"dataframe\">\n",
       "  <thead>\n",
       "    <tr style=\"text-align: right;\">\n",
       "      <th></th>\n",
       "      <th>Item</th>\n",
       "      <th>Description</th>\n",
       "      <th>establishment_type</th>\n",
       "      <th>cleanText</th>\n",
       "      <th>original_cat</th>\n",
       "      <th>prediction_cat</th>\n",
       "      <th>prediction_cat_confscore</th>\n",
       "      <th>confusion_matrix</th>\n",
       "    </tr>\n",
       "  </thead>\n",
       "  <tbody>\n",
       "    <tr>\n",
       "      <th>90881</th>\n",
       "      <td>Hiram Walker Peppermint Schnapps 90 proof -1 L...</td>\n",
       "      <td>USA- 90 proof Premium Hiram Walker liqueur inf...</td>\n",
       "      <td>GROCERY</td>\n",
       "      <td>hiram walker peppermint schnapps proof liter u...</td>\n",
       "      <td>CAT_LIQUOR:535</td>\n",
       "      <td>CAT_ALCOHOL,TEMP_HEATED:109,1</td>\n",
       "      <td>1.0</td>\n",
       "      <td>{'accuracy': 0.869745869166103, 'precision_sco...</td>\n",
       "    </tr>\n",
       "    <tr>\n",
       "      <th>57450</th>\n",
       "      <td>ANDRE BRUT WINE</td>\n",
       "      <td>\\N</td>\n",
       "      <td>GROCERY</td>\n",
       "      <td>andre brut wine</td>\n",
       "      <td>CAT_WINE:534</td>\n",
       "      <td>CAT_SPARKLING_WINE:716</td>\n",
       "      <td>1.0</td>\n",
       "      <td>{'accuracy': 0.869745869166103, 'precision_sco...</td>\n",
       "    </tr>\n",
       "    <tr>\n",
       "      <th>64412</th>\n",
       "      <td>Chummy Soju 375ml(16.8%ABV)</td>\n",
       "      <td>\\N</td>\n",
       "      <td>GROCERY</td>\n",
       "      <td>chummy soju ml abv</td>\n",
       "      <td>CAT_WINE:534</td>\n",
       "      <td>CAT_LIQUOR:535</td>\n",
       "      <td>1.0</td>\n",
       "      <td>{'accuracy': 0.869745869166103, 'precision_sco...</td>\n",
       "    </tr>\n",
       "    <tr>\n",
       "      <th>91950</th>\n",
       "      <td>Bombay Sapphire Gin 1.75</td>\n",
       "      <td>\\N</td>\n",
       "      <td>GROCERY</td>\n",
       "      <td>bombay sapphire gin</td>\n",
       "      <td>CAT_LIQUOR:535</td>\n",
       "      <td>CAT_ALCOHOL,TEMP_UNHEATED:109,1</td>\n",
       "      <td>1.0</td>\n",
       "      <td>{'accuracy': 0.869745869166103, 'precision_sco...</td>\n",
       "    </tr>\n",
       "    <tr>\n",
       "      <th>18083</th>\n",
       "      <td>Angry Orchard Hard Cider  Variety Pack 12 pack...</td>\n",
       "      <td>Flavors may be different than shown in picture...</td>\n",
       "      <td>GROCERY</td>\n",
       "      <td>angry orchard hard cider variety pack pack oz ...</td>\n",
       "      <td>CAT_WINE:534</td>\n",
       "      <td>CAT_BEER:533</td>\n",
       "      <td>1.0</td>\n",
       "      <td>{'accuracy': 0.869745869166103, 'precision_sco...</td>\n",
       "    </tr>\n",
       "    <tr>\n",
       "      <th>...</th>\n",
       "      <td>...</td>\n",
       "      <td>...</td>\n",
       "      <td>...</td>\n",
       "      <td>...</td>\n",
       "      <td>...</td>\n",
       "      <td>...</td>\n",
       "      <td>...</td>\n",
       "      <td>...</td>\n",
       "    </tr>\n",
       "    <tr>\n",
       "      <th>25087</th>\n",
       "      <td>Oyster Bay Sauvignon Blanc, 750mL white wine (...</td>\n",
       "      <td>NaN</td>\n",
       "      <td>GROCERY</td>\n",
       "      <td>oyster bay sauvignon blanc ml white wine abv</td>\n",
       "      <td>CAT_WINE:534</td>\n",
       "      <td>CAT_ALCOHOL,TEMP_UNHEATED:109,1</td>\n",
       "      <td>1.0</td>\n",
       "      <td>{'accuracy': 0.869745869166103, 'precision_sco...</td>\n",
       "    </tr>\n",
       "    <tr>\n",
       "      <th>6136</th>\n",
       "      <td>Calypso Strawberry Lemonade, (16oz bottle)</td>\n",
       "      <td>\\N</td>\n",
       "      <td>GROCERY</td>\n",
       "      <td>calypso strawberry lemonade oz bottle</td>\n",
       "      <td>CAT_JUICE,TRAIT_PCT_5TO24,TEMP_COLD:110,57,3</td>\n",
       "      <td>CAT_JUICE,TRAIT_PCT_100,TEMP_HEATED:110,51,1</td>\n",
       "      <td>1.0</td>\n",
       "      <td>{'accuracy': 0.869745869166103, 'precision_sco...</td>\n",
       "    </tr>\n",
       "    <tr>\n",
       "      <th>26485</th>\n",
       "      <td>White Claw Mango, 6pk-12oz can hard seltzer (5...</td>\n",
       "      <td>NaN</td>\n",
       "      <td>LIQUOR</td>\n",
       "      <td>white claw mango pk oz hard seltzer abv liquor</td>\n",
       "      <td>CAT_ALCOHOL,TEMP_COLD:109,1</td>\n",
       "      <td>CAT_LIQUOR:535</td>\n",
       "      <td>1.0</td>\n",
       "      <td>{'accuracy': 0.869745869166103, 'precision_sco...</td>\n",
       "    </tr>\n",
       "    <tr>\n",
       "      <th>2662</th>\n",
       "      <td>Mighty Spark Turkey Patties, Bacon-Bursting (9...</td>\n",
       "      <td>NaN</td>\n",
       "      <td>GROCERY</td>\n",
       "      <td>mighty spark turkey patty baconbursting oz</td>\n",
       "      <td>CAT_PREPACKAGED_FOOD,TEMP_COLD:106,1</td>\n",
       "      <td>CAT_PREPACKAGED_FOOD,TEMP_HEATED:106,1</td>\n",
       "      <td>1.0</td>\n",
       "      <td>{'accuracy': 0.869745869166103, 'precision_sco...</td>\n",
       "    </tr>\n",
       "    <tr>\n",
       "      <th>11535</th>\n",
       "      <td>Anticuchero-Tenderloin Bao</td>\n",
       "      <td>Seasoned with vinegar-cumin-garlic and peruvia...</td>\n",
       "      <td>GROCERY</td>\n",
       "      <td>anticucherotenderloin bao seasoned vinegarcumi...</td>\n",
       "      <td>CAT_PREPARED_FOOD,TEMP_HEATED:101,1</td>\n",
       "      <td>CAT_PREPACKAGED_FOOD,TEMP_HEATED:106,1</td>\n",
       "      <td>1.0</td>\n",
       "      <td>{'accuracy': 0.869745869166103, 'precision_sco...</td>\n",
       "    </tr>\n",
       "  </tbody>\n",
       "</table>\n",
       "<p>1348 rows × 8 columns</p>\n",
       "</div>"
      ],
      "text/plain": [
       "                                                    Item  \\\n",
       "90881  Hiram Walker Peppermint Schnapps 90 proof -1 L...   \n",
       "57450                                    ANDRE BRUT WINE   \n",
       "64412                        Chummy Soju 375ml(16.8%ABV)   \n",
       "91950                           Bombay Sapphire Gin 1.75   \n",
       "18083  Angry Orchard Hard Cider  Variety Pack 12 pack...   \n",
       "...                                                  ...   \n",
       "25087  Oyster Bay Sauvignon Blanc, 750mL white wine (...   \n",
       "6136          Calypso Strawberry Lemonade, (16oz bottle)   \n",
       "26485  White Claw Mango, 6pk-12oz can hard seltzer (5...   \n",
       "2662   Mighty Spark Turkey Patties, Bacon-Bursting (9...   \n",
       "11535                         Anticuchero-Tenderloin Bao   \n",
       "\n",
       "                                             Description establishment_type  \\\n",
       "90881  USA- 90 proof Premium Hiram Walker liqueur inf...            GROCERY   \n",
       "57450                                                 \\N            GROCERY   \n",
       "64412                                                 \\N            GROCERY   \n",
       "91950                                                 \\N            GROCERY   \n",
       "18083  Flavors may be different than shown in picture...            GROCERY   \n",
       "...                                                  ...                ...   \n",
       "25087                                                NaN            GROCERY   \n",
       "6136                                                  \\N            GROCERY   \n",
       "26485                                                NaN             LIQUOR   \n",
       "2662                                                 NaN            GROCERY   \n",
       "11535  Seasoned with vinegar-cumin-garlic and peruvia...            GROCERY   \n",
       "\n",
       "                                               cleanText  \\\n",
       "90881  hiram walker peppermint schnapps proof liter u...   \n",
       "57450                                    andre brut wine   \n",
       "64412                                 chummy soju ml abv   \n",
       "91950                                bombay sapphire gin   \n",
       "18083  angry orchard hard cider variety pack pack oz ...   \n",
       "...                                                  ...   \n",
       "25087       oyster bay sauvignon blanc ml white wine abv   \n",
       "6136               calypso strawberry lemonade oz bottle   \n",
       "26485     white claw mango pk oz hard seltzer abv liquor   \n",
       "2662          mighty spark turkey patty baconbursting oz   \n",
       "11535  anticucherotenderloin bao seasoned vinegarcumi...   \n",
       "\n",
       "                                       original_cat  \\\n",
       "90881                                CAT_LIQUOR:535   \n",
       "57450                                  CAT_WINE:534   \n",
       "64412                                  CAT_WINE:534   \n",
       "91950                                CAT_LIQUOR:535   \n",
       "18083                                  CAT_WINE:534   \n",
       "...                                             ...   \n",
       "25087                                  CAT_WINE:534   \n",
       "6136   CAT_JUICE,TRAIT_PCT_5TO24,TEMP_COLD:110,57,3   \n",
       "26485                   CAT_ALCOHOL,TEMP_COLD:109,1   \n",
       "2662           CAT_PREPACKAGED_FOOD,TEMP_COLD:106,1   \n",
       "11535           CAT_PREPARED_FOOD,TEMP_HEATED:101,1   \n",
       "\n",
       "                                     prediction_cat  prediction_cat_confscore  \\\n",
       "90881                 CAT_ALCOHOL,TEMP_HEATED:109,1                       1.0   \n",
       "57450                        CAT_SPARKLING_WINE:716                       1.0   \n",
       "64412                                CAT_LIQUOR:535                       1.0   \n",
       "91950               CAT_ALCOHOL,TEMP_UNHEATED:109,1                       1.0   \n",
       "18083                                  CAT_BEER:533                       1.0   \n",
       "...                                             ...                       ...   \n",
       "25087               CAT_ALCOHOL,TEMP_UNHEATED:109,1                       1.0   \n",
       "6136   CAT_JUICE,TRAIT_PCT_100,TEMP_HEATED:110,51,1                       1.0   \n",
       "26485                                CAT_LIQUOR:535                       1.0   \n",
       "2662         CAT_PREPACKAGED_FOOD,TEMP_HEATED:106,1                       1.0   \n",
       "11535        CAT_PREPACKAGED_FOOD,TEMP_HEATED:106,1                       1.0   \n",
       "\n",
       "                                        confusion_matrix  \n",
       "90881  {'accuracy': 0.869745869166103, 'precision_sco...  \n",
       "57450  {'accuracy': 0.869745869166103, 'precision_sco...  \n",
       "64412  {'accuracy': 0.869745869166103, 'precision_sco...  \n",
       "91950  {'accuracy': 0.869745869166103, 'precision_sco...  \n",
       "18083  {'accuracy': 0.869745869166103, 'precision_sco...  \n",
       "...                                                  ...  \n",
       "25087  {'accuracy': 0.869745869166103, 'precision_sco...  \n",
       "6136   {'accuracy': 0.869745869166103, 'precision_sco...  \n",
       "26485  {'accuracy': 0.869745869166103, 'precision_sco...  \n",
       "2662   {'accuracy': 0.869745869166103, 'precision_sco...  \n",
       "11535  {'accuracy': 0.869745869166103, 'precision_sco...  \n",
       "\n",
       "[1348 rows x 8 columns]"
      ]
     },
     "execution_count": 111,
     "metadata": {},
     "output_type": "execute_result"
    }
   ],
   "source": [
    "misclassifications"
   ]
  },
  {
   "cell_type": "code",
   "execution_count": null,
   "id": "b682d345",
   "metadata": {},
   "outputs": [],
   "source": [
    "\n",
    "misclassifications_primary= result.loc[result['original_cat_primary']!=result['prediction_cat_primary']]"
   ]
  },
  {
   "cell_type": "code",
   "execution_count": null,
   "id": "bf6ac7fa",
   "metadata": {},
   "outputs": [],
   "source": [
    "misclassifications_primary.sort_values(by=['Item','Description','establishment_type'], ascending=True).head(270)"
   ]
  },
  {
   "cell_type": "code",
   "execution_count": null,
   "id": "26a95a51",
   "metadata": {},
   "outputs": [],
   "source": [
    "misclassifications_primary.to_csv('/Users/jghosh2/Documents/my-notebook/Tax_ml_poc/output/misclassifications_primary.csv')"
   ]
  },
  {
   "cell_type": "markdown",
   "id": "4013975a",
   "metadata": {},
   "source": [
    "saving model to local"
   ]
  },
  {
   "cell_type": "code",
   "execution_count": 12,
   "id": "70f8d5d7",
   "metadata": {
    "scrolled": true
   },
   "outputs": [
    {
     "name": "stdout",
     "output_type": "stream",
     "text": [
      "Time :2022-01-25 11:47:43.094480 result :{'accuracy': 0.7932062966031483, 'precision_score': 0.4509416721387717, 'recall_score': 0.5337515891742645, 'f1_score': 0.4726425407676132}\n"
     ]
    }
   ],
   "source": [
    "import datetime\n",
    "print(\"Time :{} result :{}\".format(datetime.datetime.now(),result['confusion_matrix'][0]))"
   ]
  },
  {
   "cell_type": "code",
   "execution_count": null,
   "id": "82082c7c",
   "metadata": {},
   "outputs": [],
   "source": [
    "\n",
    "Time :2022-01-17 18:36:13.829990 result :{'accuracy': 0.8136429968640357, 'precision_score': 0.4811411574576949, 'recall_score': 0.572963521670215, 'f1_score': 0.5053828429504557}"
   ]
  },
  {
   "cell_type": "code",
   "execution_count": null,
   "id": "2a3ea037",
   "metadata": {},
   "outputs": [],
   "source": []
  },
  {
   "cell_type": "code",
   "execution_count": null,
   "id": "4a01a92c",
   "metadata": {},
   "outputs": [],
   "source": []
  },
  {
   "cell_type": "code",
   "execution_count": null,
   "id": "7f7b8422",
   "metadata": {},
   "outputs": [],
   "source": []
  },
  {
   "cell_type": "code",
   "execution_count": null,
   "id": "77beeb0f",
   "metadata": {},
   "outputs": [],
   "source": []
  },
  {
   "cell_type": "code",
   "execution_count": null,
   "id": "74da0ade",
   "metadata": {},
   "outputs": [],
   "source": []
  },
  {
   "cell_type": "code",
   "execution_count": null,
   "id": "c0d54b4d",
   "metadata": {},
   "outputs": [],
   "source": []
  },
  {
   "cell_type": "code",
   "execution_count": null,
   "id": "5effd030",
   "metadata": {},
   "outputs": [],
   "source": []
  }
 ],
 "metadata": {
  "kernelspec": {
   "display_name": "Python 3",
   "language": "python",
   "name": "python3"
  },
  "language_info": {
   "codemirror_mode": {
    "name": "ipython",
    "version": 3
   },
   "file_extension": ".py",
   "mimetype": "text/x-python",
   "name": "python",
   "nbconvert_exporter": "python",
   "pygments_lexer": "ipython3",
   "version": "3.8.8"
  }
 },
 "nbformat": 4,
 "nbformat_minor": 5
}
