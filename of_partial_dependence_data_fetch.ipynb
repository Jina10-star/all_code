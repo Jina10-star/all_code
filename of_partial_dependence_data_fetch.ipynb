{
 "cells": [
  {
   "cell_type": "code",
   "execution_count": 1,
   "metadata": {},
   "outputs": [],
   "source": [
    "# This notebook performs data fetch for OF partial dependence plot generation"
   ]
  },
  {
   "cell_type": "code",
   "execution_count": 2,
   "metadata": {},
   "outputs": [],
   "source": [
    "# Install packages (one-time)"
   ]
  },
  {
   "cell_type": "code",
   "execution_count": null,
   "metadata": {},
   "outputs": [],
   "source": [
    "%%bash\n",
    "source $VIRTUAL_ENV_DIR/python3/bin/activate\n",
    "\n",
    "install_package_python3.sh add dsw_qr==0.1.13\n",
    "\n",
    "$VIRTUAL_ENV_DIR/python3/bin/python -m pip install galileo\n",
    "$VIRTUAL_ENV_DIR/python3/bin/python -m pip install galileo-py\n",
    "$VIRTUAL_ENV_DIR/python3/bin/python -m pip install tchannel"
   ]
  },
  {
   "cell_type": "code",
   "execution_count": null,
   "metadata": {},
   "outputs": [],
   "source": [
    "# fetch data"
   ]
  },
  {
   "cell_type": "code",
   "execution_count": null,
   "metadata": {},
   "outputs": [],
   "source": [
    "import os\n",
    "\n",
    "import pandas as pd\n",
    "from dsw_qr import dsw_qr"
   ]
  },
  {
   "cell_type": "code",
   "execution_count": 4,
   "metadata": {},
   "outputs": [],
   "source": [
    "USER_EMAIL = 'targupt@uber.com'"
   ]
  },
  {
   "cell_type": "code",
   "execution_count": null,
   "metadata": {},
   "outputs": [],
   "source": [
    "QUERY = \"\"\"select\n",
    "  msg.supply_type,\n",
    "  msg.adjustedeta,\n",
    "  msg.eyeball_eta,\n",
    "  msg.fd_eta,\n",
    "  msg.unadjusted_eta,\n",
    "  msg.trip_distance_meter,\n",
    "  msg.trip_duration_sec,\n",
    "  msg.objective_value\n",
    "from\n",
    "  rawdata.kafka_hp_multileg_mgv_log_nodedup\n",
    "where\n",
    "  datestr between '2022-10-24'\n",
    "  and '2022-10-30'\n",
    "  and msg.flow_type in ('solo_batch', 'solo')\n",
    "  and msg.job_type = 'PERSONAL_TRANSPORT'\n",
    "  and msg.calculator_type = 'compound_completion_rate_of'\n",
    "  and abs(\n",
    "    mod(\n",
    "      from_big_endian_64(xxhash64(CAST(msg.job_uuid AS varbinary))),\n",
    "      100000\n",
    "    )\n",
    "  ) <= 1\"\"\""
   ]
  },
  {
   "cell_type": "code",
   "execution_count": null,
   "metadata": {},
   "outputs": [],
   "source": [
    "from queryrunner_client import Client\n",
    "qr = Client(user_email='targupt@uber.com')\n",
    "qr.list_datasources()\n",
    "cursor = qr.execute(\"hive\", QUERY)\n",
    "result = cursor.fetchall()"
   ]
  },
  {
   "cell_type": "code",
   "execution_count": 10,
   "metadata": {},
   "outputs": [],
   "source": [
    "pd.DataFrame(result).to_csv(\"data/of_prediction_sample.csv\", index=False)"
   ]
  }
 ],
 "metadata": {
  "kernelspec": {
   "display_name": "02. Python 3.6 (General DS)",
   "language": "python",
   "name": "python3"
  },
  "language_info": {
   "codemirror_mode": {
    "name": "ipython",
    "version": 3
   },
   "file_extension": ".py",
   "mimetype": "text/x-python",
   "name": "python",
   "nbconvert_exporter": "python",
   "pygments_lexer": "ipython3",
   "version": "3.6.4"
  }
 },
 "nbformat": 4,
 "nbformat_minor": 2
}
