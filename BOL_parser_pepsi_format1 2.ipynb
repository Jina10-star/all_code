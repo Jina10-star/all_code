{
 "cells": [
  {
   "cell_type": "code",
   "execution_count": 8,
   "id": "b3db42dc",
   "metadata": {},
   "outputs": [],
   "source": [
    "import os\n",
    "import json\n",
    "import re\n",
    "import pandas as pd\n",
    "import numpy as np\n",
    "\n",
    "from google.cloud import storage\n",
    "from google.cloud import documentai_v1beta2 as documentai\n",
    "\n",
    "# os.environ[\"GOOGLE_APPLICATION_CREDENTIALS\"]=r\"C:\\Users\\ksaluj1\\Documents\\work\\dev\\gv\\iacoe_sa.json\"\n",
    "#os.environ[\"GOOGLE_APPLICATION_CREDENTIALS\"]=\"C:/Users/hsingh151/My_Work/Uber_IACOE_OCR_ML_Pipeline_v1.1.0/iacoe_sa.json\"\n",
    "os.environ[\"GOOGLE_APPLICATION_CREDENTIALS\"]='/Users/jghosh2/Documents/my-notebook/BOL_CODE_REF/iacoe_sa.json'\n",
    "pd.set_option('display.max_columns', None)  # or 1000\n",
    "pd.set_option('display.max_columns', None)  # or 1000\n",
    "pd.set_option('display.max_rows', None)  # or 1000\n",
    "\n",
    "def parse_ner_json_to_string(parsed_ner):\n",
    "    ner_string = \"\"\n",
    "    flag = True\n",
    "    for key, value in parsed_ner.items():\n",
    "        if flag:\n",
    "            ner_string = ner_string + value + \"|\" + key\n",
    "            flag = False\n",
    "        else:\n",
    "            ner_string = ner_string + \";\" + value + \"|\" + key\n",
    "    return ner_string\n",
    "\n",
    "def upload_blob(bucket_name, source_file_name, destination_blob_name):\n",
    "    \"\"\"Uploads a file to the bucket.\"\"\"\n",
    "    file_name = source_file_name.split('/')[-1]\n",
    "    destination_blob_name = destination_blob_name + \"/\" + file_name\n",
    "    storage_client = storage.Client()\n",
    "    bucket = storage_client.bucket(bucket_name)\n",
    "    blob = bucket.blob(destination_blob_name)\n",
    "\n",
    "    blob.upload_from_filename(source_file_name)\n",
    "    gs_bucket_url = \"gs://iacoe-cloud-bucket\"\n",
    "    gcs_uri = gs_bucket_url + '/' + destination_blob_name\n",
    "    return gcs_uri\n",
    "\n",
    "def extract_data_doc_ai(input_uri, project_id='concrete-tuner-241417'):\n",
    "         # input_uri='gs://iacoe-cloud-bucket/k'):\n",
    "    \"\"\"Process a single document with the Document AI API, including\n",
    "    text extraction and entity extraction.\"\"\"\n",
    "\n",
    "    client = documentai.DocumentUnderstandingServiceClient()\n",
    "    gcs_source = documentai.types.GcsSource(uri=input_uri)\n",
    "\n",
    "    input_config = documentai.types.InputConfig(\n",
    "        gcs_source=gcs_source, mime_type='application/pdf')\n",
    "\n",
    "    form_extraction_params = documentai.types.FormExtractionParams(\n",
    "        enabled=True)\n",
    "    table_extraction_params = documentai.types.TableExtractionParams(\n",
    "        enabled=True)\n",
    "    entity_extraction_params = documentai.types.EntityExtractionParams(\n",
    "        enabled=True)\n",
    "\n",
    "    parent = 'projects/{}/locations/us'.format(project_id)\n",
    "    request = documentai.types.ProcessDocumentRequest(\n",
    "        parent=parent,\n",
    "        input_config=input_config,\n",
    "        form_extraction_params=form_extraction_params,\n",
    "        table_extraction_params=table_extraction_params,\n",
    "        entity_extraction_params=entity_extraction_params)\n",
    "\n",
    "    document = client.process_document(request=request)\n",
    "    data = {}\n",
    "    data[\"raw_text\"] = (document.text).encode('utf-8')\n",
    "\n",
    "    def _get_text(el):\n",
    "        \"\"\"Convert text offset indexes into text snippets.\n",
    "        \"\"\"\n",
    "        response = ''\n",
    "        for segment in el.text_anchor.text_segments:\n",
    "            start_index = segment.start_index\n",
    "            end_index = segment.end_index\n",
    "            response += document.text[start_index:end_index]\n",
    "        return response\n",
    "    ent_dict = {}\n",
    "    for entity in document.entities:\n",
    "        ent_dict[_get_text(entity)] = (entity.mention_text)\n",
    "\n",
    "    data[\"entities\"] = ent_dict\n",
    "    form_ent = {}\n",
    "    for page in document.pages:\n",
    "        for form_field in page.form_fields:\n",
    "            key = (_get_text(form_field.field_name), form_field.field_name.confidence)\n",
    "            value = (_get_text(form_field.field_value), form_field.field_value.confidence)\n",
    "            form_ent[key] = value\n",
    "    data[\"form_data\"] = form_ent\n",
    "    \n",
    "    out_tables = []\n",
    "    for page in document.pages:\n",
    "        for table_num, table in enumerate(page.tables):\n",
    "            out_table = []\n",
    "            for row_num, row in enumerate(table.header_rows):\n",
    "                out_header_row = [_get_text(cell.layout) for cell in row.cells]\n",
    "                out_table.append(out_header_row)\n",
    "            for row_num, row in enumerate(table.body_rows):\n",
    "                out_body_row = [_get_text(cell.layout) for cell in row.cells]\n",
    "                out_table.append(out_body_row)\n",
    "            out_tables.append(out_table)\n",
    "\n",
    "    data[\"tables\"] = out_tables\n",
    "    \n",
    "    labels = {}\n",
    "    for label in document.labels:\n",
    "        labels[label.name] = label.confidence\n",
    "    data[\"labels\"] = labels\n",
    "\n",
    "    return data"
   ]
  },
  {
   "cell_type": "code",
   "execution_count": 9,
   "id": "28ff32b2",
   "metadata": {},
   "outputs": [
    {
     "data": {
      "text/plain": [
       "'/Users/jghosh2/Documents/my-notebook/BOL_CODE_REF/02_NER_Bol_processing/02_Format_2/04_jupyter_notebook'"
      ]
     },
     "execution_count": 9,
     "metadata": {},
     "output_type": "execute_result"
    }
   ],
   "source": [
    "pwd"
   ]
  },
  {
   "cell_type": "code",
   "execution_count": 10,
   "id": "29a37f4e",
   "metadata": {},
   "outputs": [],
   "source": [
    "import time"
   ]
  },
  {
   "cell_type": "code",
   "execution_count": 11,
   "id": "a6098be1",
   "metadata": {},
   "outputs": [],
   "source": [
    "data_files = {}"
   ]
  },
  {
   "cell_type": "code",
   "execution_count": 16,
   "id": "1ca0b064",
   "metadata": {},
   "outputs": [
    {
     "name": "stdout",
     "output_type": "stream",
     "text": [
      "File 48.pdf : time 8.834411144256592\n"
     ]
    }
   ],
   "source": [
    "GCS_BUCKET = \"iacoe-cloud-bucket\"\n",
    "DESTINATION_BLOB_NAME = \"iacoe_ocr_ml\"\n",
    "file_loc = '/Users/jghosh2/Documents/my-notebook/BOL_CODE_REF/02_NER_Bol_processing/01_Format_1/Format1/pdf_samples/'\n",
    "\n",
    "arr_txt =  [x for x in os.listdir(file_loc) if x.endswith(\".pdf\") or x.endswith(\".PDF\")]\n",
    "t1 = time.time()\n",
    "\n",
    "for i in arr_txt:\n",
    "    file_path = file_loc + i\n",
    "    t3 = time.time()\n",
    "    gcs_uri = upload_blob(GCS_BUCKET, file_path, DESTINATION_BLOB_NAME)\n",
    "    data_files[i] = extract_data_doc_ai(gcs_uri)\n",
    "    print(\"File {} : time {}\".format(i, time.time() - t3))\n",
    "    \n",
    "t2 = time.time()"
   ]
  },
  {
   "cell_type": "code",
   "execution_count": 17,
   "id": "d687a0c0",
   "metadata": {},
   "outputs": [
    {
     "name": "stdout",
     "output_type": "stream",
     "text": [
      "total time to process 1 files is 8.834857940673828\n"
     ]
    }
   ],
   "source": [
    "print(\"total time to process {} files is {}\".format(len(arr_txt), t2 - t1))"
   ]
  },
  {
   "cell_type": "code",
   "execution_count": 27,
   "id": "9e98d21a",
   "metadata": {},
   "outputs": [
    {
     "data": {
      "text/plain": [
       "\"TRUCK#182142\\nLOAD#0528065\\nPepsi Beverages Company\\nBILL OF LADING\\nBOL#: OT4946069264\\nFrom: 494 Mesquite, TX Plant\\n4532 Highway 67 E.\\nMesquite\\nTX 75150-\\nShip Date: 08/16/2021 14:51\\nOrder ID:\\nCustomer PO: 5824766113\\nTo: 999 S8261 SAMS CLUB #18-8261\\n455 31ST. STREET\\nKENNER\\nLA 70065\\nArrival Date: 08/17/2021 04:00\\nItem\\nCS\\n1\\n1.0\\nDescription\\n88973 12OZ CN 36/1CB BRSK SWL\\n19716 12OZ CN 36/1CB PEPSI\\n106551 16.90Z PL PK 24/1 DT LPT GRN BRY\\n95207 16.9OZ PL PK 24/1 DT LPT GT CIT\\n95206 - 16.90Z PL PK 24/1 LIT GRN CTRS\\n125294 16.90Z PL PK 24/1 LIT LMND\\n144297 16.9OZ PL PK 24/1 LIT PCH\\n95903 16.9OZ PLPK32/1 AQUA WTR\\n82697 6.50Z CN 1/12 STRBK DS\\n57933 9.5OZ NR 15/1 FRAP MCH\\n120\\n60\\nCS\\nShip\\nPallet Extended\\nPallets Qty UOMA Weight Weight\\nComment\\n2.0 150\\n2,400\\n4,800\\n3.0 225 CS 2,355 7,065\\n2.0 120\\n1,665 3,330\\n60 CS 1,790 1,790\\n1.0\\n60 CS 1,817 1,817\\n2.0 120 CS 1,710 3,420\\n2.0\\nCS\\n1,890\\n3,780\\n6.0 360 CS 2,278 13,669\\n0.6 180 CS 1,710 1,026\\n1.0 126\\n2,129 2,129\\n20.6 1521\\n42,826\\n21\\n1,449.\\n18-8261\\nTotal: 44,275\\n21.0 1,542.0\\n44,275\\nReceived By\\nDate 8-17-21\\nManer TR #\\nProintment.\\nTrailer #: UNKNOWN Pale\\n3482816\\nChecked By:\\nBad Bad\\nPallet Comment!\\nDriver Signature:\\nES\\npallet-wood-chep (#290197):\\nPO 582476643\\nTotal Rec'd 21413² 1521\\nGrand Total:\\nBOL Comment: TR# 6250\\nDate\\nCarrier: Common Carrier\\nLoaded By: Torres, Jose J.\\nthrich Good\\nDriver Name: UNASSIGNED\\nReceived By:\\ntime in11:30am\\ntimp out 15:10 pm\\nThe property described above has been accepted on the date hereof in apparent good order (except as noted).\\nfor carriage subject to individually determined rates or contracts agreed to between the carrier and shipper.\\n* CRITICAL ITEM\\nPrint Date: 08/16/2021 14:52\\n\""
      ]
     },
     "execution_count": 27,
     "metadata": {},
     "output_type": "execute_result"
    }
   ],
   "source": [
    "data_files[i]['raw_text'].decode()"
   ]
  },
  {
   "cell_type": "code",
   "execution_count": 41,
   "id": "d88f48a4",
   "metadata": {},
   "outputs": [
    {
     "data": {
      "text/plain": [
       "{'BOL#: OT4946069264': 'OT4946069264',\n",
       " 'Ship Date: 08/16/2021 14:51': '08/16/2021 14:51',\n",
       " 'Customer PO: 5824766113': '5824766113',\n",
       " 'To: 999 S8261 SAMS CLUB #18-8261\\n455 31ST. STREET': '999 S8261 SAMS CLUB #18-8261\\n455 31ST. STREET',\n",
       " 'KENNER\\nLA 70065': 'LA 70065',\n",
       " 'Arrival Date: 08/17/2021 04:00': '08/17/2021 04:00',\n",
       " 'Total: 44,275': '44,275',\n",
       " 'Grand Total:\\n21.0 1,542.0': '21.0 1,542.0',\n",
       " 'Received By\\n44,275\\nDate 8-17-21\\nManer TR #': '44,275\\nDate 8-17-21\\nManer TR #',\n",
       " 'Trailer #: Prointment.\\nUNKNOWN Pale\\n3482816\\nDate': 'Prointment.\\nUNKNOWN Pale\\n3482816\\nDate',\n",
       " 'Checked By:\\nBad Bad\\nPallet Comment!\\nthrich Good': 'Bad Bad\\nPallet Comment!\\nthrich Good',\n",
       " 'Driver Signature:\\nES': 'ES',\n",
       " 'PO 582476643': '582476643',\n",
       " \"Total Rec'd 21413² 1521\": '21413² 1521',\n",
       " 'BOL Comment: TR# 6250': 'TR# 6250',\n",
       " 'Carrier: Common Carrier': 'Common Carrier',\n",
       " 'Loaded By: Torres, Jose J.': 'Torres, Jose J.',\n",
       " 'Driver Name: UNASSIGNED': 'UNASSIGNED',\n",
       " 'Print Date: 08/16/2021 14:52': '08/16/2021 14:52'}"
      ]
     },
     "execution_count": 41,
     "metadata": {},
     "output_type": "execute_result"
    }
   ],
   "source": [
    "data_files[i]['entities']"
   ]
  },
  {
   "cell_type": "code",
   "execution_count": 66,
   "id": "fc3cd17c",
   "metadata": {},
   "outputs": [],
   "source": [
    "def parse_ner_json_to_string(parsed_ner):\n",
    "    ner_string = \"\"\n",
    "    flag = True\n",
    "    #print(parsed_ner)\n",
    "    for key, value in parsed_ner.items():\n",
    "        if flag:\n",
    "            ner_string = ner_string + value + \"|\" + key\n",
    "            flag = False\n",
    "        else:\n",
    "            ner_string = ner_string + \";\" + value + \"|\" + key\n",
    "    print(ner_string)        \n",
    "    return ner_string\n",
    "\n",
    "def pepsi_format1_doc_ai_ner_parser(raw_text, entities_json):\n",
    "    parsed_data = {}\n",
    "    \n",
    "    #Look up keys\n",
    "    BOL_KEY = \"BOL#:\"\n",
    "    BOL_KEY2 = \"BOL #:\"\n",
    "    DROPOFF_LOCATION_KEY = \"To:\"\n",
    "    PICK_UP_ADDRESS_KEY = \"From:\"\n",
    "    \n",
    "    # Entities to return\n",
    "    PO_NUMBER = \"PO Number\"\n",
    "    DROPOFF_ADDRESS = \"Dropoff Address\"\n",
    "    PICKUP_ADDRESS = \"Pickup Address\"\n",
    "    \n",
    "    PO_FLAG = True\n",
    "    PICKUP_FLAG = True\n",
    "    DROPOFF_FLAG = True\n",
    "    \n",
    "    for key, value in entities_json.items():\n",
    "        \n",
    "        if key.startswith(BOL_KEY) or key.startswith(BOL_KEY2):\n",
    "            #print(key,value)\n",
    "            if PO_FLAG:\n",
    "                parsed_data[PO_NUMBER] = value\n",
    "                #print(parsed_data)\n",
    "                #print('**********************')\n",
    "                PO_FLAG = False\n",
    "                \n",
    "    def get_zip_from_raw_text(text):\n",
    "        pattern = re.compile(r'([A-Z]{2}\\s\\d{5})')\n",
    "        match = pattern.findall(text.replace('\\n', ' '))\n",
    "        #print(match)\n",
    "        if match:\n",
    "            return match\n",
    "        else:\n",
    "            return \"\"\n",
    "        \n",
    "            \n",
    "    def get_bol_number_from_raw_text(text):\n",
    "        search_key = \"BOL\"\n",
    "        start_idx = text.find(search_key)\n",
    "        end_idx = text.find('From')\n",
    "        bol_str = text[start_idx + len(search_key):end_idx].strip()\n",
    "        try:\n",
    "            bol = bol_str.strip()\n",
    "            #print(bol)\n",
    "            #print('***')\n",
    "        except:\n",
    "            bol = ''\n",
    "            \n",
    "        return bol\n",
    "    \n",
    "    def get_pickup_address_from_raw_text(text):\n",
    "        zip_ = get_zip_from_raw_text(raw_text)\n",
    "        search_key = \"From\"\n",
    "        start_idx = text.find(search_key)\n",
    "        end_idx = text.find('Ship ')\n",
    "        pickup_str = text[start_idx + len(search_key):end_idx].strip()\n",
    "        pickup = pickup_str.strip()\n",
    "        pickup = pickup.replace('\\n', ' ')\n",
    "        pickup = pickup.replace(':', '')\n",
    "        zip_check_pickup = get_zip_from_raw_text(pickup)    \n",
    "        if len(pickup) < 85 and zip_check_pickup:\n",
    "            return pickup\n",
    "        else:\n",
    "            return pickup[0:49] + ' ' +zip_[0]\n",
    "        \n",
    "    def get_dropoff_address_from_raw_text(text):\n",
    "        zip_ = get_zip_from_raw_text(raw_text)\n",
    "        search_key = \"To:\"\n",
    "        start_idx = text.find(search_key)\n",
    "        end_idx = text.find('Arrival')\n",
    "        dropoff_str = text[start_idx + len(search_key):end_idx].strip()\n",
    "        dropoff = dropoff_str.strip()\n",
    "        dropoff = dropoff.replace('\\n', ' ')\n",
    "        zip_check_dropoff = get_zip_from_raw_text(dropoff)\n",
    "        if dropoff and zip_check_dropoff:\n",
    "            return dropoff\n",
    "        else:\n",
    "            return dropoff + ' ' + zip_[1]\n",
    "        \n",
    "        try:\n",
    "            dropoff = dropoff_str.strip()\n",
    "            dropoff = dropoff.replace('\\n', ' ')\n",
    "        except:\n",
    "            dropoff = ''\n",
    "            \n",
    "        return dropoff \n",
    "           \n",
    "    \n",
    "    if PO_FLAG:\n",
    "        bol_num = get_bol_number_from_raw_text(raw_text)\n",
    "        bol_num = bol_num.replace('#: ', '')\n",
    "        parsed_data[PO_NUMBER] = bol_num\n",
    "        \n",
    "    if PICKUP_FLAG:\n",
    "        pickup_add = get_pickup_address_from_raw_text(raw_text)\n",
    "        parsed_data[PICKUP_ADDRESS] = pickup_add\n",
    "        \n",
    "    if DROPOFF_FLAG:\n",
    "        dropadd = get_dropoff_address_from_raw_text(raw_text)\n",
    "        parsed_data[DROPOFF_ADDRESS] = dropadd\n",
    "    \n",
    "    #print(parsed_data)        \n",
    "    ner_string = parse_ner_json_to_string(parsed_data)\n",
    "    return [200, ner_string]\n",
    "    #return parsed_data\n",
    "    "
   ]
  },
  {
   "cell_type": "code",
   "execution_count": 67,
   "id": "fd432d5a",
   "metadata": {},
   "outputs": [
    {
     "name": "stdout",
     "output_type": "stream",
     "text": [
      "OT4946069264|PO Number; 494 Mesquite, TX Plant 4532 Highway 67 E. Mesquite TX 75150-|Pickup Address;999 S8261 SAMS CLUB #18-8261 455 31ST. STREET KENNER LA 70065|Dropoff Address\n"
     ]
    }
   ],
   "source": [
    "a = pepsi_format1_doc_ai_ner_parser(data_files[i]['raw_text'].decode(), data_files[i]['entities'])"
   ]
  },
  {
   "cell_type": "code",
   "execution_count": 68,
   "id": "44d9e29b",
   "metadata": {},
   "outputs": [],
   "source": [
    "extract_data = []"
   ]
  },
  {
   "cell_type": "code",
   "execution_count": 69,
   "id": "eb151c07",
   "metadata": {},
   "outputs": [
    {
     "name": "stdout",
     "output_type": "stream",
     "text": [
      "53709863\n",
      "(402) 32644363889\n",
      "FOB:\n",
      "Dispatch: 10/26/20 2:49 PM\n",
      "SHIP TO\n",
      "Name: AMAZON.COM SORT MORENO ONTS\n",
      "Carrier Name: PEPSI LOGISTICS CO INC\n",
      "MOS: T\n",
      "Address: 24300 NANDINA AVE\n",
      "Trailer Number: LIVER1071PLCB\n",
      "City/State/Zip: MORENO VALLEY, CA 92551-9534\n",
      "Seal number(s): 505732\n",
      "SCAC: PLCB\n",
      "CAR MOVE: 53709863\n",
      "ID: C10817596\n",
      "FOB:\n",
      "Pro Number:\n",
      "LOAD SEQ:\n",
      "THIRD PARTY FREIGHT CHARGES BILL TO:\n",
      "Freight Charge freight charges are prepaid unless marked\n",
      "Name: PEPSICO CIO CASS INFO. SERVICES\n",
      "otherwise)\n",
      "Address: PO BOX 17608\n",
      "Prepaid\n",
      "Collect\n",
      "3rd Party\n",
      "City/State/Zip: ST LOUIS, MO 63178-7608\n",
      "Master Bill of Lading with attached underlying Bils of\n",
      "(check box) Lading\n",
      "SPECIAL INSTRUCTIONS: OTHERS-All deliveries need to be scheduled through Amazon Carrier Central For TL- Enter ETMS load ID in PRO andBOL fiel ds. For LTL- Enter truePRO number \n",
      "in PRO field. For Reverse Logistics call 877-402-2435.\n",
      "CUSTOMER ORDER NUMBER\n",
      "# PKGS\n",
      "CUSTOMER ORDER INFORMATION\n",
      "Pallet/Slip\n",
      "WEIGHT (LB)\n",
      "(Circle One\n",
      "11891 Y N\n",
      "ADDITIONAL SHIPPER INFO\n",
      "RAD-10/23/20 018222237494 S-1188327896\n",
      "BXGSTION\n",
      "Y\n",
      "N\n",
      "Y\n",
      "N\n",
      "Y\n",
      "N\n",
      "Y\n",
      "N\n",
      "GRAND TOTAL\n",
      "HANDLING UNIT\n",
      "PACKAGE\n",
      "14\n",
      "11890\n",
      "CARRIER INFORMATION\n",
      "COMMODITY DESCRIPTION\n",
      "H.M.\n",
      "VERATING Spa and\n",
      "(X)\n",
      "See Seston 2 of NFC Am 350\n",
      "FOOD STUFts\n",
      "LTL ONLY\n",
      "WEIGHT (LB)\n",
      "NMFC#\n",
      "CLASS\n",
      "QTY TYPE\n",
      "14 CHEP Patters\n",
      "QTY TYPE\n",
      "347 GSCase\n",
      "6385\n",
      "73227\n",
      "60\n",
      "5506\n",
      "HEV PREP DAY OR LIQ\n",
      "72160\n",
      "60\n",
      "14\n",
      "1074\n",
      "11890 12828 GROSSWOT GRAND TOTAL\n",
      "Whown the rin is dependent on value chippers are requied to state specifically in wering the agotened not\n",
      "declared value of the property as follows\n",
      "COD Amount: $\n",
      "The agreed or\n",
      "certypically wed by the shipper to be not exceeding\n",
      "Fee Terms: Collect:\n",
      "Prepaid:\n",
      "per\n",
      "Customer check acceptable:\n",
      "NOTE Liability Limitation for loss or damage in this shipment may be applicable. See 49 U.S.C. 14706(c)(1)(A) and (B)\n",
      "The carner shall not make delivery of this shipment without\n",
      "RECEIVED y determined rates ne contracts that have boon agcod upon in ding between the cast and\n",
      "epper, it applicable otherwise to the rates, classifications and rules that shed by the car and are available to\n",
      "payment of freight and all other tawful charges.\n",
      "Shipper\n",
      "the shipper, on request and to all appeate and the\n",
      "Signature\n",
      "SHIPPER SIGNATURE/DATE\n",
      "Trailer Loaded: Freight Counted\n",
      "CARRIER SIGNATURE/PICKUP DATE\n",
      "Thay thay\n",
      "www.ages and topared placaras Camarcante\n",
      "cuted dement paiget reaved and\n",
      "By Shipper\n",
      "By Shipper\n",
      "the 11\n",
      "prepare for person ancording to the ai\n",
      "took the\n",
      "of\n",
      "the\n",
      "By Driver\n",
      "By Driver/palets said to\n",
      "By Driver/Peces\n",
      "Packing List\n",
      "Ship|PO Number; CA 95376|Pickup Address;AMAZON.COM SORT MORENO ONT8 24300 NANDINA AVE MORENO VALLEY, CA 92551-9534 Third Party Freight Charges Bill To: PEPSICO C/O CASS INFO. SERVICES PO BOX 17608 ST LOUIS MO 63178-7608 Notes: HANDLING UNITS: CHEP 14 Lot Number Inv Status 082820WH SHIP Quantity Gross Weight 404.80 22 010620YH SHIP 20 Item Number Description Platform 10048500008383000 TJNAMB 100Z 24CS CB CHEP CKTL 10052000041207000 GAT REC 286 12C5 PWD CHEP SHK POUCH VAN 10052000101727000 GA PROT BARS 1 UN 2.80Z CHIP 6CS CCP 10052000102571000 GA END GEL FOOD 1.3OZ PC 21CT BLACKBERRY 48500757161000 TUNAMB 100Z 24CS RAGF 100920K SHIP 5391.36 702 CHEP 040620PT SHIP 90.00 5 CHEP 081720WH SHIP 828.00 45 48500757161000 TUNAMB 100Z 24CS RAGF CHEP 082320WH SHIP 1840.00 100 48500757161000 TUNAMB 100Z 24CS RAGE CHEP 082420WH SHIP 3312.00 CATAN 180 Total Quantity: Gross Weight: 1,074 11891 Printed: 10/26/2020 14:49:47 Page 1 of|Dropoff Address\n",
      "OT4946069264|PO Number; 494 Mesquite, TX Plant 4532 Highway 67 E. Mesquite TX 75150-|Pickup Address;999 S8261 SAMS CLUB #18-8261 455 31ST. STREET KENNER LA 70065|Dropoff Address\n"
     ]
    }
   ],
   "source": [
    "for file,data in data_files.items():\n",
    "    #print(file,data)\n",
    "    a = pepsi_format1_doc_ai_ner_parser(data['raw_text'].decode(), data['entities'])\n",
    "    extract_data.append(a)"
   ]
  },
  {
   "cell_type": "code",
   "execution_count": 70,
   "id": "81834479",
   "metadata": {},
   "outputs": [],
   "source": [
    "df = pd.DataFrame(extract_data)"
   ]
  },
  {
   "cell_type": "code",
   "execution_count": 71,
   "id": "8a396a3b",
   "metadata": {},
   "outputs": [
    {
     "data": {
      "text/plain": [
       "[[200,\n",
       "  '53709863\\n(402) 32644363889\\nFOB:\\nDispatch: 10/26/20 2:49 PM\\nSHIP TO\\nName: AMAZON.COM SORT MORENO ONTS\\nCarrier Name: PEPSI LOGISTICS CO INC\\nMOS: T\\nAddress: 24300 NANDINA AVE\\nTrailer Number: LIVER1071PLCB\\nCity/State/Zip: MORENO VALLEY, CA 92551-9534\\nSeal number(s): 505732\\nSCAC: PLCB\\nCAR MOVE: 53709863\\nID: C10817596\\nFOB:\\nPro Number:\\nLOAD SEQ:\\nTHIRD PARTY FREIGHT CHARGES BILL TO:\\nFreight Charge freight charges are prepaid unless marked\\nName: PEPSICO CIO CASS INFO. SERVICES\\notherwise)\\nAddress: PO BOX 17608\\nPrepaid\\nCollect\\n3rd Party\\nCity/State/Zip: ST LOUIS, MO 63178-7608\\nMaster Bill of Lading with attached underlying Bils of\\n(check box) Lading\\nSPECIAL INSTRUCTIONS: OTHERS-All deliveries need to be scheduled through Amazon Carrier Central For TL- Enter ETMS load ID in PRO andBOL fiel ds. For LTL- Enter truePRO number \\nin PRO field. For Reverse Logistics call 877-402-2435.\\nCUSTOMER ORDER NUMBER\\n# PKGS\\nCUSTOMER ORDER INFORMATION\\nPallet/Slip\\nWEIGHT (LB)\\n(Circle One\\n11891 Y N\\nADDITIONAL SHIPPER INFO\\nRAD-10/23/20 018222237494 S-1188327896\\nBXGSTION\\nY\\nN\\nY\\nN\\nY\\nN\\nY\\nN\\nGRAND TOTAL\\nHANDLING UNIT\\nPACKAGE\\n14\\n11890\\nCARRIER INFORMATION\\nCOMMODITY DESCRIPTION\\nH.M.\\nVERATING Spa and\\n(X)\\nSee Seston 2 of NFC Am 350\\nFOOD STUFts\\nLTL ONLY\\nWEIGHT (LB)\\nNMFC#\\nCLASS\\nQTY TYPE\\n14 CHEP Patters\\nQTY TYPE\\n347 GSCase\\n6385\\n73227\\n60\\n5506\\nHEV PREP DAY OR LIQ\\n72160\\n60\\n14\\n1074\\n11890 12828 GROSSWOT GRAND TOTAL\\nWhown the rin is dependent on value chippers are requied to state specifically in wering the agotened not\\ndeclared value of the property as follows\\nCOD Amount: $\\nThe agreed or\\ncertypically wed by the shipper to be not exceeding\\nFee Terms: Collect:\\nPrepaid:\\nper\\nCustomer check acceptable:\\nNOTE Liability Limitation for loss or damage in this shipment may be applicable. See 49 U.S.C. 14706(c)(1)(A) and (B)\\nThe carner shall not make delivery of this shipment without\\nRECEIVED y determined rates ne contracts that have boon agcod upon in ding between the cast and\\nepper, it applicable otherwise to the rates, classifications and rules that shed by the car and are available to\\npayment of freight and all other tawful charges.\\nShipper\\nthe shipper, on request and to all appeate and the\\nSignature\\nSHIPPER SIGNATURE/DATE\\nTrailer Loaded: Freight Counted\\nCARRIER SIGNATURE/PICKUP DATE\\nThay thay\\nwww.ages and topared placaras Camarcante\\ncuted dement paiget reaved and\\nBy Shipper\\nBy Shipper\\nthe 11\\nprepare for person ancording to the ai\\ntook the\\nof\\nthe\\nBy Driver\\nBy Driver/palets said to\\nBy Driver/Peces\\nPacking List\\nShip|PO Number; CA 95376|Pickup Address;AMAZON.COM SORT MORENO ONT8 24300 NANDINA AVE MORENO VALLEY, CA 92551-9534 Third Party Freight Charges Bill To: PEPSICO C/O CASS INFO. SERVICES PO BOX 17608 ST LOUIS MO 63178-7608 Notes: HANDLING UNITS: CHEP 14 Lot Number Inv Status 082820WH SHIP Quantity Gross Weight 404.80 22 010620YH SHIP 20 Item Number Description Platform 10048500008383000 TJNAMB 100Z 24CS CB CHEP CKTL 10052000041207000 GAT REC 286 12C5 PWD CHEP SHK POUCH VAN 10052000101727000 GA PROT BARS 1 UN 2.80Z CHIP 6CS CCP 10052000102571000 GA END GEL FOOD 1.3OZ PC 21CT BLACKBERRY 48500757161000 TUNAMB 100Z 24CS RAGF 100920K SHIP 5391.36 702 CHEP 040620PT SHIP 90.00 5 CHEP 081720WH SHIP 828.00 45 48500757161000 TUNAMB 100Z 24CS RAGF CHEP 082320WH SHIP 1840.00 100 48500757161000 TUNAMB 100Z 24CS RAGE CHEP 082420WH SHIP 3312.00 CATAN 180 Total Quantity: Gross Weight: 1,074 11891 Printed: 10/26/2020 14:49:47 Page 1 of|Dropoff Address'],\n",
       " [200,\n",
       "  'OT4946069264|PO Number; 494 Mesquite, TX Plant 4532 Highway 67 E. Mesquite TX 75150-|Pickup Address;999 S8261 SAMS CLUB #18-8261 455 31ST. STREET KENNER LA 70065|Dropoff Address']]"
      ]
     },
     "execution_count": 71,
     "metadata": {},
     "output_type": "execute_result"
    }
   ],
   "source": [
    "extract_data"
   ]
  },
  {
   "cell_type": "code",
   "execution_count": 72,
   "id": "83b8d77e",
   "metadata": {},
   "outputs": [
    {
     "data": {
      "text/html": [
       "<div>\n",
       "<style scoped>\n",
       "    .dataframe tbody tr th:only-of-type {\n",
       "        vertical-align: middle;\n",
       "    }\n",
       "\n",
       "    .dataframe tbody tr th {\n",
       "        vertical-align: top;\n",
       "    }\n",
       "\n",
       "    .dataframe thead th {\n",
       "        text-align: right;\n",
       "    }\n",
       "</style>\n",
       "<table border=\"1\" class=\"dataframe\">\n",
       "  <thead>\n",
       "    <tr style=\"text-align: right;\">\n",
       "      <th></th>\n",
       "      <th>0</th>\n",
       "      <th>1</th>\n",
       "    </tr>\n",
       "  </thead>\n",
       "  <tbody>\n",
       "    <tr>\n",
       "      <th>0</th>\n",
       "      <td>200</td>\n",
       "      <td>53709863\\n(402) 32644363889\\nFOB:\\nDispatch: 1...</td>\n",
       "    </tr>\n",
       "    <tr>\n",
       "      <th>1</th>\n",
       "      <td>200</td>\n",
       "      <td>OT4946069264|PO Number; 494 Mesquite, TX Plant...</td>\n",
       "    </tr>\n",
       "  </tbody>\n",
       "</table>\n",
       "</div>"
      ],
      "text/plain": [
       "     0                                                  1\n",
       "0  200  53709863\\n(402) 32644363889\\nFOB:\\nDispatch: 1...\n",
       "1  200  OT4946069264|PO Number; 494 Mesquite, TX Plant..."
      ]
     },
     "execution_count": 72,
     "metadata": {},
     "output_type": "execute_result"
    }
   ],
   "source": [
    "df"
   ]
  },
  {
   "cell_type": "code",
   "execution_count": 76,
   "id": "8469ea96",
   "metadata": {},
   "outputs": [],
   "source": [
    "def get_zip_all(string):\n",
    "    zip_code = \"\"\n",
    "    pattern1 = re.compile(r' \\d{5} ')\n",
    "    pattern2 = re.compile(r'[A-Za-z\\s]\\d{5}[A-Za-z\\s]')\n",
    "    first_matches = pattern1.findall(string.replace('\\n', ' '))\n",
    "    if first_matches:\n",
    "        print(first_matches)\n",
    "        zip_code = first_matches\n",
    "    else:\n",
    "        second_matches = pattern2.findall(string.replace('\\n', ' '))\n",
    "        print(second_matches)\n",
    "        if second_matches:\n",
    "            zip_code_list = []\n",
    "            for match_str in second_matches:\n",
    "                zip_list = [i for i in match_str if i.isdigit()]\n",
    "                zip = \"\".join(zip_list)\n",
    "                zip_code_list.append(zip)\n",
    "            zip_code = zip_code_list\n",
    "        else:\n",
    "            zip_code = \"\"\n",
    "    return zip_code"
   ]
  },
  {
   "cell_type": "code",
   "execution_count": 78,
   "id": "46a148aa",
   "metadata": {},
   "outputs": [
    {
     "name": "stdout",
     "output_type": "stream",
     "text": [
      "[' 70065 ', ' 88973 ', ' 19716 ', ' 95207 ', ' 95206 ', ' 95903 ', ' 82697 ', ' 57933 ']\n",
      "[' 70065 ', ' 88973 ', ' 19716 ', ' 95207 ', ' 95206 ', ' 95903 ', ' 82697 ', ' 57933 ']\n"
     ]
    }
   ],
   "source": [
    "b = get_zip_all(data['raw_text'].decode())\n",
    "print(b)"
   ]
  },
  {
   "cell_type": "code",
   "execution_count": null,
   "id": "7a1c42cd",
   "metadata": {},
   "outputs": [],
   "source": []
  },
  {
   "cell_type": "code",
   "execution_count": null,
   "id": "af882f55",
   "metadata": {},
   "outputs": [],
   "source": []
  },
  {
   "cell_type": "code",
   "execution_count": null,
   "id": "1bf07c7f",
   "metadata": {},
   "outputs": [],
   "source": []
  },
  {
   "cell_type": "code",
   "execution_count": null,
   "id": "6c49be3a",
   "metadata": {},
   "outputs": [],
   "source": []
  },
  {
   "cell_type": "code",
   "execution_count": null,
   "id": "5d428339",
   "metadata": {},
   "outputs": [],
   "source": [
    "if key.startswith(PICK_UP_ADDRESS_KEY):\n",
    "            if PICKUP_FLAG:\n",
    "                parsed_data[PICKUP_ADDRESS] = value\n",
    "                PICKUP_FLAG = False\n",
    "                \n",
    "        if key.startswith(DROPOFF_LOCATION_KEY):\n",
    "            if DROPOFF_FLAG:\n",
    "                parsed_data[DROPOFF_ADDRESS] = value\n",
    "                DROPOFF_FLAG = False"
   ]
  },
  {
   "cell_type": "code",
   "execution_count": null,
   "id": "76bcd8c7",
   "metadata": {},
   "outputs": [],
   "source": [
    "if PICKUP_FLAG:\n",
    "        pickup_add = get_pickup_address_from_raw_text(raw_text)\n",
    "        parsed_data[PICKUP_ADDRESS] = pickup_add\n",
    "        \n",
    "    if DROPOFF_FLAG:\n",
    "        dropadd = get_dropoff_address_from_raw_text(raw_text)\n",
    "        parsed_data[DROPOFF_ADDRESS] = dropadd"
   ]
  },
  {
   "cell_type": "code",
   "execution_count": null,
   "id": "d9b58e37",
   "metadata": {},
   "outputs": [],
   "source": [
    "def get_pickup_address_from_raw_text(text):\n",
    "        search_key = \"From\"\n",
    "        start_idx = text.find(search_key)\n",
    "        end_idx = text.find('Ship ')\n",
    "        pickup_str = text[start_idx + len(search_key):end_idx].strip()\n",
    "        try:\n",
    "            pickup = pickup_str.strip()\n",
    "            #pickup = pickup.replace('\\n', ' ')\n",
    "            pickup = pickup[:-5]\n",
    "            print(len(pickup))\n",
    "        except:\n",
    "            pickup = ''\n",
    "            \n",
    "        if len(pickup) < 85:\n",
    "            return pickup\n",
    "        else:\n",
    "            return pickup[0:18]\n",
    "        \n",
    "    def get_dropoff_address_from_raw_text(text):\n",
    "        search_key = \"To:\"\n",
    "        start_idx = text.find(search_key)\n",
    "        end_idx = text.find('Arrival')\n",
    "        dropoff_str = text[start_idx + len(search_key):end_idx].strip()\n",
    "        try:\n",
    "            dropoff = dropoff_str.strip()\n",
    "            dropoff = dropoff.replace('\\n', ' ')\n",
    "            #dropoff = dropoff[:-5]\n",
    "            print(len(dropoff))\n",
    "        except:\n",
    "            dropoff = ''\n",
    "            \n",
    "        return dropoff "
   ]
  }
 ],
 "metadata": {
  "kernelspec": {
   "display_name": "Python 3",
   "language": "python",
   "name": "python3"
  },
  "language_info": {
   "codemirror_mode": {
    "name": "ipython",
    "version": 3
   },
   "file_extension": ".py",
   "mimetype": "text/x-python",
   "name": "python",
   "nbconvert_exporter": "python",
   "pygments_lexer": "ipython3",
   "version": "3.8.8"
  }
 },
 "nbformat": 4,
 "nbformat_minor": 5
}
