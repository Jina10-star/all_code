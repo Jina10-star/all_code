{
 "cells": [
  {
   "cell_type": "code",
   "execution_count": 6,
   "id": "8e897d93",
   "metadata": {},
   "outputs": [],
   "source": [
    "#pip install PyPDF2"
   ]
  },
  {
   "cell_type": "code",
   "execution_count": 5,
   "id": "021ee42a",
   "metadata": {},
   "outputs": [],
   "source": [
    "#pip install fpdf"
   ]
  },
  {
   "cell_type": "code",
   "execution_count": 10,
   "id": "9b699433",
   "metadata": {},
   "outputs": [
    {
     "data": {
      "text/plain": [
       "'/Users/jghosh2/Documents/my-notebook/INVOICE-PROCESSING/INVOICES_NEW'"
      ]
     },
     "execution_count": 10,
     "metadata": {},
     "output_type": "execute_result"
    }
   ],
   "source": [
    "pwd"
   ]
  },
  {
   "cell_type": "code",
   "execution_count": 56,
   "id": "06cd9f44",
   "metadata": {},
   "outputs": [],
   "source": [
    "import os\n",
    "from PyPDF2 import PdfReader\n",
    "from fpdf import FPDF\n",
    "def read_pdf_from_directory(directory):\n",
    "    for filename in os.listdir(directory):\n",
    "        if filename.endswith(\".pdf\"):\n",
    "            filepath = os.path.join(directory, filename)\n",
    "            with open(filepath, \"rb\") as file:\n",
    "                pdf = PdfReader(file)\n",
    "                #num_pages = pdf.getNumPages()\n",
    "                print(f\"Reading {filename}...\")  \n",
    "                 \n",
    "                # Read first page\n",
    "                page = pdf.pages[0]\n",
    "                text = page.extract_text()\n",
    "                print(text)\n",
    "                fruits = ['aple', 'banana', 'orange', 'pear', 'grape', 'watermelon', 'pineapple', 'mango', 'strawberry', 'kiwi', 'cherry', 'blueberry', 'peach', 'plum', 'raspberry', 'lemon', 'lime', 'coconut', 'pomegranate', 'avocado', 'melon', 'fig', 'grapefruit', 'papaya', 'apricot', 'blackberry', 'cranberry', 'guava', 'passion fruit', 'mangosteen']\n",
    "\n",
    "                # replace text in pdf\n",
    "                text = text.replace(\"Elite\", random.choice(fruits))\n",
    "                print(text)\n",
    "                # Create PDF object\n",
    "                pdf = FPDF()\n",
    "                # Read text file\n",
    "                text2 = text.encode('utf-8').decode('latin-1')\n",
    "                # Split text into pages\n",
    "                lines_per_page = 4000\n",
    "                text_pages = [text2[i:i+lines_per_page] for i in range(0, len(text2), lines_per_page)]\n",
    "\n",
    "                # Write text pages to PDF\n",
    "                pdf.set_font(\"Arial\", size=12)\n",
    "                for text_page in text_pages:\n",
    "                    pdf.add_page()\n",
    "                    pdf.multi_cell(200, 10, txt=text_page, align=\"L\")\n",
    "                    print(pdf)\n",
    "                # Save PDF\n",
    "                pdf.output(filename, \"F\")\n",
    "                break       "
   ]
  },
  {
   "cell_type": "code",
   "execution_count": 57,
   "id": "710ae7d5",
   "metadata": {},
   "outputs": [
    {
     "name": "stdout",
     "output_type": "stream",
     "text": [
      "Reading Elite.pdf...\n",
      "Elite Corporate Services DATE 7-Mar-23\n",
      "Store # 5, Madhapur        Invoice # ELT452\n",
      "Invoice To\n",
      "Sr No Description of Goods HSN Qty UOM Net Price Net Total %IGST IGST\n",
      "1Hand Dryer Repair 8516 1No's 15386.00 15386.00 18 2769.48\n",
      "2Management Fees 9985 1Nos 769.30 769.30 18 138.47\n",
      "Net Total ₹ 16,155.30 IGST ₹ 2,907.95\n",
      "Grand Total 19063.25\n",
      "For Elite Corporate ServicesPO No:  515773GSTIN/UIN : 29AABCU9192P1ZB4th and 5th Floor, Block 2, RGA Tech Park Sy.No 31/1\n",
      "Chikkannhalli - Village, Sarjapur Main Road,\n",
      "Carmelaram Near DecathlonPandu Complex, Beside Café Nandini\n",
      "Hyderabad - 500081\n",
      "Uber India Research and Development Pvt Ltd.,Phone +91 98491 60638, +91 90005 91855\n",
      "GSTIN/UIN : 36AONPP2320P1ZH\n",
      "Bangalore, Karnataka 560035.ELITE\n",
      "CORPORATE SERVICES\n",
      "           Yogeswar\n",
      "melon Corporate Services DATE 7-Mar-23\n",
      "Store # 5, Madhapur        Invoice # ELT452\n",
      "Invoice To\n",
      "Sr No Description of Goods HSN Qty UOM Net Price Net Total %IGST IGST\n",
      "1Hand Dryer Repair 8516 1No's 15386.00 15386.00 18 2769.48\n",
      "2Management Fees 9985 1Nos 769.30 769.30 18 138.47\n",
      "Net Total ₹ 16,155.30 IGST ₹ 2,907.95\n",
      "Grand Total 19063.25\n",
      "For melon Corporate ServicesPO No:  515773GSTIN/UIN : 29AABCU9192P1ZB4th and 5th Floor, Block 2, RGA Tech Park Sy.No 31/1\n",
      "Chikkannhalli - Village, Sarjapur Main Road,\n",
      "Carmelaram Near DecathlonPandu Complex, Beside Café Nandini\n",
      "Hyderabad - 500081\n",
      "Uber India Research and Development Pvt Ltd.,Phone +91 98491 60638, +91 90005 91855\n",
      "GSTIN/UIN : 36AONPP2320P1ZH\n",
      "Bangalore, Karnataka 560035.ELITE\n",
      "CORPORATE SERVICES\n",
      "           Yogeswar\n",
      "<fpdf.fpdf.FPDF object at 0x7f83e79fadc0>\n"
     ]
    }
   ],
   "source": [
    "directory_path = \"/Users/jghosh2/Documents/my-notebook/INVOICE-PROCESSING/INVOICES_NEW/INDIA\"\n",
    "read_pdf_from_directory(directory_path)"
   ]
  },
  {
   "cell_type": "code",
   "execution_count": 40,
   "id": "88ad6e26",
   "metadata": {},
   "outputs": [],
   "source": [
    "import random\n",
    "from PyPDF2 import PdfReader, PdfWriter\n",
    "\n",
    "def replace_entity_values(input_pdf, output_pdf, entity_map):\n",
    "    pdf_reader = PdfReader(input_pdf)\n",
    "    pdf_writer = PdfWriter()\n",
    "\n",
    "    for page_num in range(len(pdf_reader.pages)):\n",
    "        page = pdf_reader.pages[page_num]\n",
    "        page_text = page.extract_text()\n",
    "\n",
    "        for entity, value_list in entity_map.items():\n",
    "            random_value = random.choice(value_list)\n",
    "            page_text = page_text.replace(entity, random_value)\n",
    "\n",
    "        updated_page = page.extract_text(page_text)\n",
    "        print(updated_page)\n",
    "        pdf_writer.add_page(updated_page)\n",
    "\n",
    "    with open(output_pdf, \"wb\") as output_file:\n",
    "        pdf_writer.write(output_file)\n",
    "\n"
   ]
  },
  {
   "cell_type": "code",
   "execution_count": 41,
   "id": "8318b077",
   "metadata": {},
   "outputs": [
    {
     "name": "stdout",
     "output_type": "stream",
     "text": [
      "Elite Corporate Services DATE 7-Mar-23\n",
      "Store # 5, Madhapur        Invoice # ELT452\n",
      "Invoice To\n",
      "Sr No Description of Goods HSN Qty UOM Net Price Net Total %IGST IGST\n",
      "1Hand Dryer Repair 8516 1No's 15386.00 15386.00 18 2769.48\n",
      "2Management Fees 9985 1Nos 769.30 769.30 18 138.47\n",
      "Net Total ₹ 16,155.30 IGST ₹ 2,907.95\n",
      "Grand Total 19063.25\n",
      "For Elite Corporate ServicesPO No:  515773GSTIN/UIN : 29AABCU9192P1ZB4th and 5th Floor, Block 2, RGA Tech Park Sy.No 31/1\n",
      "Chikkannhalli - Village, Sarjapur Main Road,\n",
      "Carmelaram Near DecathlonPandu Complex, Beside Café Nandini\n",
      "Hyderabad - 500081\n",
      "Uber India Research and Development Pvt Ltd.,Phone +91 98491 60638, +91 90005 91855\n",
      "GSTIN/UIN : 36AONPP2320P1ZH\n",
      "Bangalore, Karnataka 560035.ELITE\n",
      "CORPORATE SERVICES\n",
      "           Yogeswar\n"
     ]
    },
    {
     "ename": "TypeError",
     "evalue": "string indices must be integers",
     "output_type": "error",
     "traceback": [
      "\u001b[0;31m---------------------------------------------------------------------------\u001b[0m",
      "\u001b[0;31mTypeError\u001b[0m                                 Traceback (most recent call last)",
      "\u001b[0;32m<ipython-input-41-c0d3c7397085>\u001b[0m in \u001b[0;36m<module>\u001b[0;34m\u001b[0m\n\u001b[1;32m     10\u001b[0m }\n\u001b[1;32m     11\u001b[0m \u001b[0;34m\u001b[0m\u001b[0m\n\u001b[0;32m---> 12\u001b[0;31m \u001b[0mreplace_entity_values\u001b[0m\u001b[0;34m(\u001b[0m\u001b[0minput_pdf_path\u001b[0m\u001b[0;34m,\u001b[0m \u001b[0moutput_pdf_path\u001b[0m\u001b[0;34m,\u001b[0m \u001b[0mentity_map\u001b[0m\u001b[0;34m)\u001b[0m\u001b[0;34m\u001b[0m\u001b[0;34m\u001b[0m\u001b[0m\n\u001b[0m",
      "\u001b[0;32m<ipython-input-40-e021acf444fc>\u001b[0m in \u001b[0;36mreplace_entity_values\u001b[0;34m(input_pdf, output_pdf, entity_map)\u001b[0m\n\u001b[1;32m     16\u001b[0m         \u001b[0mupdated_page\u001b[0m \u001b[0;34m=\u001b[0m \u001b[0mpage\u001b[0m\u001b[0;34m.\u001b[0m\u001b[0mextract_text\u001b[0m\u001b[0;34m(\u001b[0m\u001b[0mpage_text\u001b[0m\u001b[0;34m)\u001b[0m\u001b[0;34m\u001b[0m\u001b[0;34m\u001b[0m\u001b[0m\n\u001b[1;32m     17\u001b[0m         \u001b[0mprint\u001b[0m\u001b[0;34m(\u001b[0m\u001b[0mupdated_page\u001b[0m\u001b[0;34m)\u001b[0m\u001b[0;34m\u001b[0m\u001b[0;34m\u001b[0m\u001b[0m\n\u001b[0;32m---> 18\u001b[0;31m         \u001b[0mpdf_writer\u001b[0m\u001b[0;34m.\u001b[0m\u001b[0madd_page\u001b[0m\u001b[0;34m(\u001b[0m\u001b[0mupdated_page\u001b[0m\u001b[0;34m)\u001b[0m\u001b[0;34m\u001b[0m\u001b[0;34m\u001b[0m\u001b[0m\n\u001b[0m\u001b[1;32m     19\u001b[0m \u001b[0;34m\u001b[0m\u001b[0m\n\u001b[1;32m     20\u001b[0m     \u001b[0;32mwith\u001b[0m \u001b[0mopen\u001b[0m\u001b[0;34m(\u001b[0m\u001b[0moutput_pdf\u001b[0m\u001b[0;34m,\u001b[0m \u001b[0;34m\"wb\"\u001b[0m\u001b[0;34m)\u001b[0m \u001b[0;32mas\u001b[0m \u001b[0moutput_file\u001b[0m\u001b[0;34m:\u001b[0m\u001b[0;34m\u001b[0m\u001b[0;34m\u001b[0m\u001b[0m\n",
      "\u001b[0;32m~/opt/anaconda3/lib/python3.8/site-packages/PyPDF2/_writer.py\u001b[0m in \u001b[0;36madd_page\u001b[0;34m(self, page, excluded_keys)\u001b[0m\n\u001b[1;32m    319\u001b[0m             \u001b[0man\u001b[0m \u001b[0minstance\u001b[0m \u001b[0mof\u001b[0m \u001b[0;34m:\u001b[0m\u001b[0;32mclass\u001b[0m\u001b[0;34m:\u001b[0m\u001b[0;31m`\u001b[0m\u001b[0mPageObject\u001b[0m\u001b[0;34m<\u001b[0m\u001b[0mPyPDF2\u001b[0m\u001b[0;34m.\u001b[0m\u001b[0m_page\u001b[0m\u001b[0;34m.\u001b[0m\u001b[0mPageObject\u001b[0m\u001b[0;34m>\u001b[0m\u001b[0;31m`\u001b[0m\u001b[0;34m\u001b[0m\u001b[0;34m\u001b[0m\u001b[0m\n\u001b[1;32m    320\u001b[0m         \"\"\"\n\u001b[0;32m--> 321\u001b[0;31m         \u001b[0;32mreturn\u001b[0m \u001b[0mself\u001b[0m\u001b[0;34m.\u001b[0m\u001b[0m_add_page\u001b[0m\u001b[0;34m(\u001b[0m\u001b[0mpage\u001b[0m\u001b[0;34m,\u001b[0m \u001b[0mlist\u001b[0m\u001b[0;34m.\u001b[0m\u001b[0mappend\u001b[0m\u001b[0;34m,\u001b[0m \u001b[0mexcluded_keys\u001b[0m\u001b[0;34m)\u001b[0m\u001b[0;34m\u001b[0m\u001b[0;34m\u001b[0m\u001b[0m\n\u001b[0m\u001b[1;32m    322\u001b[0m \u001b[0;34m\u001b[0m\u001b[0m\n\u001b[1;32m    323\u001b[0m     def addPage(\n",
      "\u001b[0;32m~/opt/anaconda3/lib/python3.8/site-packages/PyPDF2/_writer.py\u001b[0m in \u001b[0;36m_add_page\u001b[0;34m(self, page, action, excluded_keys)\u001b[0m\n\u001b[1;32m    256\u001b[0m         \u001b[0mexcluded_keys\u001b[0m\u001b[0;34m:\u001b[0m \u001b[0mIterable\u001b[0m\u001b[0;34m[\u001b[0m\u001b[0mstr\u001b[0m\u001b[0;34m]\u001b[0m \u001b[0;34m=\u001b[0m \u001b[0;34m(\u001b[0m\u001b[0;34m)\u001b[0m\u001b[0;34m,\u001b[0m\u001b[0;34m\u001b[0m\u001b[0;34m\u001b[0m\u001b[0m\n\u001b[1;32m    257\u001b[0m     ) -> PageObject:\n\u001b[0;32m--> 258\u001b[0;31m         \u001b[0;32massert\u001b[0m \u001b[0mcast\u001b[0m\u001b[0;34m(\u001b[0m\u001b[0mstr\u001b[0m\u001b[0;34m,\u001b[0m \u001b[0mpage\u001b[0m\u001b[0;34m[\u001b[0m\u001b[0mPA\u001b[0m\u001b[0;34m.\u001b[0m\u001b[0mTYPE\u001b[0m\u001b[0;34m]\u001b[0m\u001b[0;34m)\u001b[0m \u001b[0;34m==\u001b[0m \u001b[0mCO\u001b[0m\u001b[0;34m.\u001b[0m\u001b[0mPAGE\u001b[0m\u001b[0;34m\u001b[0m\u001b[0;34m\u001b[0m\u001b[0m\n\u001b[0m\u001b[1;32m    259\u001b[0m         \u001b[0mpage_org\u001b[0m \u001b[0;34m=\u001b[0m \u001b[0mpage\u001b[0m\u001b[0;34m\u001b[0m\u001b[0;34m\u001b[0m\u001b[0m\n\u001b[1;32m    260\u001b[0m         \u001b[0mexcluded_keys\u001b[0m \u001b[0;34m=\u001b[0m \u001b[0mlist\u001b[0m\u001b[0;34m(\u001b[0m\u001b[0mexcluded_keys\u001b[0m\u001b[0;34m)\u001b[0m\u001b[0;34m\u001b[0m\u001b[0;34m\u001b[0m\u001b[0m\n",
      "\u001b[0;31mTypeError\u001b[0m: string indices must be integers"
     ]
    }
   ],
   "source": [
    "# Usage\n",
    "input_pdf_path = \"/Users/jghosh2/Documents/my-notebook/INVOICE-PROCESSING/INVOICES_NEW/INDIA/Elite.pdf\"\n",
    "output_pdf_path = \"/Users/jghosh2/Documents/my-notebook/INVOICE-PROCESSING/INVOICES_NEW/INDIA_OUTPUT/Elite.pdf\"\n",
    "\n",
    "entity_map = {\n",
    "    \"Elite\": [\"mango\", \"Orange\"],\n",
    "    \"+91 98491 60638\": [\"+91 12345 67890\", \"+91 67890 12345\"],\n",
    "    \"+91 90005 91855\" :[\"+91 12345 12345\"]\n",
    "    # Add more entities and their corresponding value lists as needed\n",
    "}\n",
    "\n",
    "replace_entity_values(input_pdf_path, output_pdf_path, entity_map)\n"
   ]
  },
  {
   "cell_type": "code",
   "execution_count": null,
   "id": "22d51ab2",
   "metadata": {},
   "outputs": [],
   "source": []
  }
 ],
 "metadata": {
  "kernelspec": {
   "display_name": "Python 3",
   "language": "python",
   "name": "python3"
  },
  "language_info": {
   "codemirror_mode": {
    "name": "ipython",
    "version": 3
   },
   "file_extension": ".py",
   "mimetype": "text/x-python",
   "name": "python",
   "nbconvert_exporter": "python",
   "pygments_lexer": "ipython3",
   "version": "3.8.8"
  }
 },
 "nbformat": 4,
 "nbformat_minor": 5
}
