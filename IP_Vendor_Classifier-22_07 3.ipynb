{
 "cells": [
  {
   "cell_type": "code",
   "execution_count": 1,
   "metadata": {},
   "outputs": [],
   "source": [
    "import pandas as pd\n",
    "import os"
   ]
  },
  {
   "cell_type": "markdown",
   "metadata": {},
   "source": [
    "## Includes Teleperformance USA class"
   ]
  },
  {
   "cell_type": "code",
   "execution_count": 2,
   "metadata": {},
   "outputs": [],
   "source": [
    "#DATASET_INP_PATH = \"/Users/ssingh355/code/invoice_processing/ip_classifier/imgs_filtered\"\n",
    "MODEL_OUT_PATH = \"/Users/ssingh355/code/invoice_processing/ip_classifier/models\""
   ]
  },
  {
   "cell_type": "code",
   "execution_count": 3,
   "metadata": {},
   "outputs": [],
   "source": [
    "dirs = os.listdir(DATASET_INP_PATH)"
   ]
  },
  {
   "cell_type": "code",
   "execution_count": 4,
   "metadata": {},
   "outputs": [
    {
     "data": {
      "text/plain": [
       "['Dell Financial Services-V1',\n",
       " 'FLEXI PERSONNEL LTD-English-V1',\n",
       " '.DS_Store',\n",
       " '1011656 - FACEBOOK NETHERLANDS BV-English-V1',\n",
       " 'Foodee Media US Inc-V1',\n",
       " 'Taxback International-V2',\n",
       " 'CANON INDIA PVT LTD-V1',\n",
       " 'TORPEDO MARKETING INC-V1',\n",
       " 'CDW Canada Corp-V1',\n",
       " 'The Siegfried Group LLC-V2',\n",
       " 'Facebook Inc-V1',\n",
       " '911 Mobile Mechanic-V2',\n",
       " 'Manning Gottlieb OMD-English-V2',\n",
       " 'PROFESSIONAL COMMERCIALS-V1',\n",
       " 'Randstad RiseSmart-V1',\n",
       " 'WIPRO LIMITED-V1',\n",
       " 'MoreDirect Inc dba Connection-V1',\n",
       " 'Other-Document',\n",
       " 'CONCENTRIX CORPORATION US-V1',\n",
       " 'BHARTI AIRTEL LIMITED-V1',\n",
       " 'TELEPERFORMANCE COLOMBIA S.A.S.-V1',\n",
       " 'FOXBOX RETAIL PRIVATE LIMITED-V1',\n",
       " 'Tata Communications Limited-V1',\n",
       " 'Taxback International-V1',\n",
       " 'ARKPHIRE IRELAND LIMITED-English-V1',\n",
       " 'Teleperformance USA',\n",
       " 'A. G. Adjustments-V1',\n",
       " 'Hewlett Packard Financial Services Company-V1',\n",
       " 'DE LAGE LANDEN FINANCIAL SERVICES-V1',\n",
       " 'Google LLC',\n",
       " '911 Mobile Mechanic-V1',\n",
       " 'CONQUER TECHNOLOGIES-V1',\n",
       " 'WIPRO LIMITED-V2',\n",
       " 'Snappy App Inc-V1']"
      ]
     },
     "execution_count": 4,
     "metadata": {},
     "output_type": "execute_result"
    }
   ],
   "source": [
    "dirs"
   ]
  },
  {
   "cell_type": "code",
   "execution_count": 5,
   "metadata": {},
   "outputs": [],
   "source": [
    "dataset = []\n",
    "for class_folder in dirs:\n",
    "    if class_folder != \".DS_Store\":\n",
    "#         label_list.append(class_folder)\n",
    "        class_folder_path = os.path.join(DATASET_INP_PATH, class_folder, 'train')\n",
    "        class_files = os.listdir(class_folder_path)\n",
    "        for file in class_files:\n",
    "            if file != \".DS_Store\":\n",
    "                fp = os.path.join(class_folder_path, file)\n",
    "                with open(fp, 'r', encoding='utf-8') as f:\n",
    "                    raw_text = f.read()\n",
    "                data = [fp, raw_text, class_folder]\n",
    "                dataset.append(data)"
   ]
  },
  {
   "cell_type": "code",
   "execution_count": 6,
   "metadata": {},
   "outputs": [
    {
     "data": {
      "text/plain": [
       "1717"
      ]
     },
     "execution_count": 6,
     "metadata": {},
     "output_type": "execute_result"
    }
   ],
   "source": [
    "len(dataset)"
   ]
  },
  {
   "cell_type": "code",
   "execution_count": 7,
   "metadata": {},
   "outputs": [
    {
     "data": {
      "text/html": [
       "<div>\n",
       "<style scoped>\n",
       "    .dataframe tbody tr th:only-of-type {\n",
       "        vertical-align: middle;\n",
       "    }\n",
       "\n",
       "    .dataframe tbody tr th {\n",
       "        vertical-align: top;\n",
       "    }\n",
       "\n",
       "    .dataframe thead th {\n",
       "        text-align: right;\n",
       "    }\n",
       "</style>\n",
       "<table border=\"1\" class=\"dataframe\">\n",
       "  <thead>\n",
       "    <tr style=\"text-align: right;\">\n",
       "      <th></th>\n",
       "      <th>0</th>\n",
       "      <th>1</th>\n",
       "      <th>2</th>\n",
       "    </tr>\n",
       "  </thead>\n",
       "  <tbody>\n",
       "    <tr>\n",
       "      <th>0</th>\n",
       "      <td>/Users/ssingh355/code/invoice_processing/ip_cl...</td>\n",
       "      <td>Dell\\nFinancial\\nServices\\nwww.DellFinancialSe...</td>\n",
       "      <td>Dell Financial Services-V1</td>\n",
       "    </tr>\n",
       "    <tr>\n",
       "      <th>1</th>\n",
       "      <td>/Users/ssingh355/code/invoice_processing/ip_cl...</td>\n",
       "      <td>Dell\\nFinancial\\nServices\\nwww.DellFinancialSe...</td>\n",
       "      <td>Dell Financial Services-V1</td>\n",
       "    </tr>\n",
       "    <tr>\n",
       "      <th>2</th>\n",
       "      <td>/Users/ssingh355/code/invoice_processing/ip_cl...</td>\n",
       "      <td>Dell\\nFinancial\\nServices\\nwww.DellFinancialSe...</td>\n",
       "      <td>Dell Financial Services-V1</td>\n",
       "    </tr>\n",
       "    <tr>\n",
       "      <th>3</th>\n",
       "      <td>/Users/ssingh355/code/invoice_processing/ip_cl...</td>\n",
       "      <td>Dell\\nFinancial\\nServices\\nwww.DellFinancialSe...</td>\n",
       "      <td>Dell Financial Services-V1</td>\n",
       "    </tr>\n",
       "    <tr>\n",
       "      <th>4</th>\n",
       "      <td>/Users/ssingh355/code/invoice_processing/ip_cl...</td>\n",
       "      <td>Dell\\nFinancial\\nServices\\nwww.DellFinancialSe...</td>\n",
       "      <td>Dell Financial Services-V1</td>\n",
       "    </tr>\n",
       "    <tr>\n",
       "      <th>...</th>\n",
       "      <td>...</td>\n",
       "      <td>...</td>\n",
       "      <td>...</td>\n",
       "    </tr>\n",
       "    <tr>\n",
       "      <th>1712</th>\n",
       "      <td>/Users/ssingh355/code/invoice_processing/ip_cl...</td>\n",
       "      <td>Snappy App, Inc.\\nInvoice\\n125 5th Ave, Floor ...</td>\n",
       "      <td>Snappy App Inc-V1</td>\n",
       "    </tr>\n",
       "    <tr>\n",
       "      <th>1713</th>\n",
       "      <td>/Users/ssingh355/code/invoice_processing/ip_cl...</td>\n",
       "      <td>Snappy App, Inc.\\nInvoice\\n125 5th Ave, Floor ...</td>\n",
       "      <td>Snappy App Inc-V1</td>\n",
       "    </tr>\n",
       "    <tr>\n",
       "      <th>1714</th>\n",
       "      <td>/Users/ssingh355/code/invoice_processing/ip_cl...</td>\n",
       "      <td>Snappy App, Inc.\\nInvoice\\n125 5th Ave, Floor ...</td>\n",
       "      <td>Snappy App Inc-V1</td>\n",
       "    </tr>\n",
       "    <tr>\n",
       "      <th>1715</th>\n",
       "      <td>/Users/ssingh355/code/invoice_processing/ip_cl...</td>\n",
       "      <td>Snappy App, Inc.\\nInvoice\\n125 5th Ave, Floor ...</td>\n",
       "      <td>Snappy App Inc-V1</td>\n",
       "    </tr>\n",
       "    <tr>\n",
       "      <th>1716</th>\n",
       "      <td>/Users/ssingh355/code/invoice_processing/ip_cl...</td>\n",
       "      <td>Snappy App, Inc.\\nInvoice\\n125 5th Ave, Floor ...</td>\n",
       "      <td>Snappy App Inc-V1</td>\n",
       "    </tr>\n",
       "  </tbody>\n",
       "</table>\n",
       "<p>1717 rows × 3 columns</p>\n",
       "</div>"
      ],
      "text/plain": [
       "                                                      0  \\\n",
       "0     /Users/ssingh355/code/invoice_processing/ip_cl...   \n",
       "1     /Users/ssingh355/code/invoice_processing/ip_cl...   \n",
       "2     /Users/ssingh355/code/invoice_processing/ip_cl...   \n",
       "3     /Users/ssingh355/code/invoice_processing/ip_cl...   \n",
       "4     /Users/ssingh355/code/invoice_processing/ip_cl...   \n",
       "...                                                 ...   \n",
       "1712  /Users/ssingh355/code/invoice_processing/ip_cl...   \n",
       "1713  /Users/ssingh355/code/invoice_processing/ip_cl...   \n",
       "1714  /Users/ssingh355/code/invoice_processing/ip_cl...   \n",
       "1715  /Users/ssingh355/code/invoice_processing/ip_cl...   \n",
       "1716  /Users/ssingh355/code/invoice_processing/ip_cl...   \n",
       "\n",
       "                                                      1  \\\n",
       "0     Dell\\nFinancial\\nServices\\nwww.DellFinancialSe...   \n",
       "1     Dell\\nFinancial\\nServices\\nwww.DellFinancialSe...   \n",
       "2     Dell\\nFinancial\\nServices\\nwww.DellFinancialSe...   \n",
       "3     Dell\\nFinancial\\nServices\\nwww.DellFinancialSe...   \n",
       "4     Dell\\nFinancial\\nServices\\nwww.DellFinancialSe...   \n",
       "...                                                 ...   \n",
       "1712  Snappy App, Inc.\\nInvoice\\n125 5th Ave, Floor ...   \n",
       "1713  Snappy App, Inc.\\nInvoice\\n125 5th Ave, Floor ...   \n",
       "1714  Snappy App, Inc.\\nInvoice\\n125 5th Ave, Floor ...   \n",
       "1715  Snappy App, Inc.\\nInvoice\\n125 5th Ave, Floor ...   \n",
       "1716  Snappy App, Inc.\\nInvoice\\n125 5th Ave, Floor ...   \n",
       "\n",
       "                               2  \n",
       "0     Dell Financial Services-V1  \n",
       "1     Dell Financial Services-V1  \n",
       "2     Dell Financial Services-V1  \n",
       "3     Dell Financial Services-V1  \n",
       "4     Dell Financial Services-V1  \n",
       "...                          ...  \n",
       "1712           Snappy App Inc-V1  \n",
       "1713           Snappy App Inc-V1  \n",
       "1714           Snappy App Inc-V1  \n",
       "1715           Snappy App Inc-V1  \n",
       "1716           Snappy App Inc-V1  \n",
       "\n",
       "[1717 rows x 3 columns]"
      ]
     },
     "execution_count": 7,
     "metadata": {},
     "output_type": "execute_result"
    }
   ],
   "source": [
    "df = pd.DataFrame(dataset)\n",
    "df"
   ]
  },
  {
   "cell_type": "code",
   "execution_count": 8,
   "metadata": {},
   "outputs": [
    {
     "data": {
      "text/plain": [
       "Dell Financial Services-V1                       113\n",
       "The Siegfried Group LLC-V2                       103\n",
       "Google LLC                                       103\n",
       "Other-Document                                    87\n",
       "A. G. Adjustments-V1                              85\n",
       "Hewlett Packard Financial Services Company-V1     79\n",
       "WIPRO LIMITED-V1                                  69\n",
       "911 Mobile Mechanic-V2                            63\n",
       "CONQUER TECHNOLOGIES-V1                           63\n",
       "DE LAGE LANDEN FINANCIAL SERVICES-V1              60\n",
       "CDW Canada Corp-V1                                59\n",
       "Taxback International-V1                          53\n",
       "Taxback International-V2                          51\n",
       "Snappy App Inc-V1                                 50\n",
       "PROFESSIONAL COMMERCIALS-V1                       48\n",
       "FLEXI PERSONNEL LTD-English-V1                    45\n",
       "ARKPHIRE IRELAND LIMITED-English-V1               44\n",
       "Randstad RiseSmart-V1                             43\n",
       "CONCENTRIX CORPORATION US-V1                      42\n",
       "MoreDirect Inc dba Connection-V1                  42\n",
       "TORPEDO MARKETING INC-V1                          40\n",
       "911 Mobile Mechanic-V1                            39\n",
       "Foodee Media US Inc-V1                            39\n",
       "Facebook Inc-V1                                   35\n",
       "BHARTI AIRTEL LIMITED-V1                          35\n",
       "FOXBOX RETAIL PRIVATE LIMITED-V1                  33\n",
       "WIPRO LIMITED-V2                                  31\n",
       "CANON INDIA PVT LTD-V1                            31\n",
       "Teleperformance USA                               30\n",
       "Manning Gottlieb OMD-English-V2                   30\n",
       "Tata Communications Limited-V1                    25\n",
       "TELEPERFORMANCE COLOMBIA S.A.S.-V1                24\n",
       "1011656 - FACEBOOK NETHERLANDS BV-English-V1      23\n",
       "Name: 2, dtype: int64"
      ]
     },
     "execution_count": 8,
     "metadata": {},
     "output_type": "execute_result"
    }
   ],
   "source": [
    "df[2].value_counts()"
   ]
  },
  {
   "cell_type": "code",
   "execution_count": 9,
   "metadata": {},
   "outputs": [],
   "source": [
    "# Import label encoder\n",
    "from sklearn import preprocessing"
   ]
  },
  {
   "cell_type": "code",
   "execution_count": 10,
   "metadata": {},
   "outputs": [
    {
     "data": {
      "text/plain": [
       "array([11, 12,  0, 15, 28,  6, 25,  7, 30, 14,  2, 18, 21, 22, 31, 19, 20,\n",
       "        8,  5, 24, 13, 26, 27,  4, 29,  3, 17, 10, 16,  1,  9, 32, 23])"
      ]
     },
     "execution_count": 10,
     "metadata": {},
     "output_type": "execute_result"
    }
   ],
   "source": [
    "# label_encoder object knows how to understand word labels.\n",
    "label_encoder = preprocessing.LabelEncoder()\n",
    "  \n",
    "# Encode labels in column 'species'.\n",
    "df['labels']= label_encoder.fit_transform(df[2])\n",
    "  \n",
    "df['labels'].unique()"
   ]
  },
  {
   "cell_type": "code",
   "execution_count": 11,
   "metadata": {},
   "outputs": [
    {
     "data": {
      "text/plain": [
       "['1011656 - FACEBOOK NETHERLANDS BV-English-V1',\n",
       " '911 Mobile Mechanic-V1',\n",
       " '911 Mobile Mechanic-V2',\n",
       " 'A. G. Adjustments-V1',\n",
       " 'ARKPHIRE IRELAND LIMITED-English-V1',\n",
       " 'BHARTI AIRTEL LIMITED-V1',\n",
       " 'CANON INDIA PVT LTD-V1',\n",
       " 'CDW Canada Corp-V1',\n",
       " 'CONCENTRIX CORPORATION US-V1',\n",
       " 'CONQUER TECHNOLOGIES-V1',\n",
       " 'DE LAGE LANDEN FINANCIAL SERVICES-V1',\n",
       " 'Dell Financial Services-V1',\n",
       " 'FLEXI PERSONNEL LTD-English-V1',\n",
       " 'FOXBOX RETAIL PRIVATE LIMITED-V1',\n",
       " 'Facebook Inc-V1',\n",
       " 'Foodee Media US Inc-V1',\n",
       " 'Google LLC',\n",
       " 'Hewlett Packard Financial Services Company-V1',\n",
       " 'Manning Gottlieb OMD-English-V2',\n",
       " 'MoreDirect Inc dba Connection-V1',\n",
       " 'Other-Document',\n",
       " 'PROFESSIONAL COMMERCIALS-V1',\n",
       " 'Randstad RiseSmart-V1',\n",
       " 'Snappy App Inc-V1',\n",
       " 'TELEPERFORMANCE COLOMBIA S.A.S.-V1',\n",
       " 'TORPEDO MARKETING INC-V1',\n",
       " 'Tata Communications Limited-V1',\n",
       " 'Taxback International-V1',\n",
       " 'Taxback International-V2',\n",
       " 'Teleperformance USA',\n",
       " 'The Siegfried Group LLC-V2',\n",
       " 'WIPRO LIMITED-V1',\n",
       " 'WIPRO LIMITED-V2']"
      ]
     },
     "execution_count": 11,
     "metadata": {},
     "output_type": "execute_result"
    }
   ],
   "source": [
    "list(label_encoder.classes_)"
   ]
  },
  {
   "cell_type": "code",
   "execution_count": 12,
   "metadata": {},
   "outputs": [],
   "source": [
    "# df['labels'].unique().sort()\n",
    "# df"
   ]
  },
  {
   "cell_type": "code",
   "execution_count": 13,
   "metadata": {},
   "outputs": [],
   "source": [
    "# a = [ 9, 10,  0, 22,  6,  7, 13,  2, 15, 17, 23, 16, 11,  5, 19, 12, 20, 21,  4,  3, 14,  1,  8, 24, 18]\n",
    "# len(a)"
   ]
  },
  {
   "cell_type": "code",
   "execution_count": 14,
   "metadata": {},
   "outputs": [
    {
     "data": {
      "text/html": [
       "<div>\n",
       "<style scoped>\n",
       "    .dataframe tbody tr th:only-of-type {\n",
       "        vertical-align: middle;\n",
       "    }\n",
       "\n",
       "    .dataframe tbody tr th {\n",
       "        vertical-align: top;\n",
       "    }\n",
       "\n",
       "    .dataframe thead th {\n",
       "        text-align: right;\n",
       "    }\n",
       "</style>\n",
       "<table border=\"1\" class=\"dataframe\">\n",
       "  <thead>\n",
       "    <tr style=\"text-align: right;\">\n",
       "      <th></th>\n",
       "      <th>0</th>\n",
       "      <th>1</th>\n",
       "      <th>2</th>\n",
       "      <th>labels</th>\n",
       "    </tr>\n",
       "  </thead>\n",
       "  <tbody>\n",
       "    <tr>\n",
       "      <th>998</th>\n",
       "      <td>/Users/ssingh355/code/invoice_processing/ip_cl...</td>\n",
       "      <td>Electronic Export Invoice:\\nB-16351\\nP Teleper...</td>\n",
       "      <td>TELEPERFORMANCE COLOMBIA S.A.S.-V1</td>\n",
       "      <td>24</td>\n",
       "    </tr>\n",
       "    <tr>\n",
       "      <th>999</th>\n",
       "      <td>/Users/ssingh355/code/invoice_processing/ip_cl...</td>\n",
       "      <td>Electronic Export Invoice:\\nB-16349\\nP Teleper...</td>\n",
       "      <td>TELEPERFORMANCE COLOMBIA S.A.S.-V1</td>\n",
       "      <td>24</td>\n",
       "    </tr>\n",
       "    <tr>\n",
       "      <th>1000</th>\n",
       "      <td>/Users/ssingh355/code/invoice_processing/ip_cl...</td>\n",
       "      <td>Electronic Export Invoice:\\nB-16184\\nP Teleper...</td>\n",
       "      <td>TELEPERFORMANCE COLOMBIA S.A.S.-V1</td>\n",
       "      <td>24</td>\n",
       "    </tr>\n",
       "    <tr>\n",
       "      <th>1001</th>\n",
       "      <td>/Users/ssingh355/code/invoice_processing/ip_cl...</td>\n",
       "      <td>Electronic Export Invoice:\\nM-22776\\nP Teleper...</td>\n",
       "      <td>TELEPERFORMANCE COLOMBIA S.A.S.-V1</td>\n",
       "      <td>24</td>\n",
       "    </tr>\n",
       "    <tr>\n",
       "      <th>1002</th>\n",
       "      <td>/Users/ssingh355/code/invoice_processing/ip_cl...</td>\n",
       "      <td>Electronic Export Invoice:\\nB-15992\\nP Teleper...</td>\n",
       "      <td>TELEPERFORMANCE COLOMBIA S.A.S.-V1</td>\n",
       "      <td>24</td>\n",
       "    </tr>\n",
       "    <tr>\n",
       "      <th>1003</th>\n",
       "      <td>/Users/ssingh355/code/invoice_processing/ip_cl...</td>\n",
       "      <td>Electronic Export Invoice:\\nB-16357\\nP Teleper...</td>\n",
       "      <td>TELEPERFORMANCE COLOMBIA S.A.S.-V1</td>\n",
       "      <td>24</td>\n",
       "    </tr>\n",
       "    <tr>\n",
       "      <th>1004</th>\n",
       "      <td>/Users/ssingh355/code/invoice_processing/ip_cl...</td>\n",
       "      <td>Electronic Export Invoice:\\nB-16182\\nP Teleper...</td>\n",
       "      <td>TELEPERFORMANCE COLOMBIA S.A.S.-V1</td>\n",
       "      <td>24</td>\n",
       "    </tr>\n",
       "    <tr>\n",
       "      <th>1005</th>\n",
       "      <td>/Users/ssingh355/code/invoice_processing/ip_cl...</td>\n",
       "      <td>Electronic Export Invoice:\\nM-22786\\nP Teleper...</td>\n",
       "      <td>TELEPERFORMANCE COLOMBIA S.A.S.-V1</td>\n",
       "      <td>24</td>\n",
       "    </tr>\n",
       "    <tr>\n",
       "      <th>1006</th>\n",
       "      <td>/Users/ssingh355/code/invoice_processing/ip_cl...</td>\n",
       "      <td>Electronic Export Invoice:\\nB-15991\\nP Teleper...</td>\n",
       "      <td>TELEPERFORMANCE COLOMBIA S.A.S.-V1</td>\n",
       "      <td>24</td>\n",
       "    </tr>\n",
       "    <tr>\n",
       "      <th>1007</th>\n",
       "      <td>/Users/ssingh355/code/invoice_processing/ip_cl...</td>\n",
       "      <td>Electronic Export Invoice:\\nB-16183\\nP Teleper...</td>\n",
       "      <td>TELEPERFORMANCE COLOMBIA S.A.S.-V1</td>\n",
       "      <td>24</td>\n",
       "    </tr>\n",
       "    <tr>\n",
       "      <th>1008</th>\n",
       "      <td>/Users/ssingh355/code/invoice_processing/ip_cl...</td>\n",
       "      <td>Electronic Export Invoice:\\nB-15917\\nP Teleper...</td>\n",
       "      <td>TELEPERFORMANCE COLOMBIA S.A.S.-V1</td>\n",
       "      <td>24</td>\n",
       "    </tr>\n",
       "    <tr>\n",
       "      <th>1009</th>\n",
       "      <td>/Users/ssingh355/code/invoice_processing/ip_cl...</td>\n",
       "      <td>Electronic Export Invoice:\\nB-16187\\nP Teleper...</td>\n",
       "      <td>TELEPERFORMANCE COLOMBIA S.A.S.-V1</td>\n",
       "      <td>24</td>\n",
       "    </tr>\n",
       "    <tr>\n",
       "      <th>1010</th>\n",
       "      <td>/Users/ssingh355/code/invoice_processing/ip_cl...</td>\n",
       "      <td>Electronic Export Invoice:\\nB-16387\\nP Teleper...</td>\n",
       "      <td>TELEPERFORMANCE COLOMBIA S.A.S.-V1</td>\n",
       "      <td>24</td>\n",
       "    </tr>\n",
       "    <tr>\n",
       "      <th>1011</th>\n",
       "      <td>/Users/ssingh355/code/invoice_processing/ip_cl...</td>\n",
       "      <td>Electronic Export Invoice:\\nB-15995\\nP Teleper...</td>\n",
       "      <td>TELEPERFORMANCE COLOMBIA S.A.S.-V1</td>\n",
       "      <td>24</td>\n",
       "    </tr>\n",
       "    <tr>\n",
       "      <th>1012</th>\n",
       "      <td>/Users/ssingh355/code/invoice_processing/ip_cl...</td>\n",
       "      <td>Electronic Export Invoice:\\nB-16185\\nP Teleper...</td>\n",
       "      <td>TELEPERFORMANCE COLOMBIA S.A.S.-V1</td>\n",
       "      <td>24</td>\n",
       "    </tr>\n",
       "    <tr>\n",
       "      <th>1013</th>\n",
       "      <td>/Users/ssingh355/code/invoice_processing/ip_cl...</td>\n",
       "      <td>Electronic Export Invoice:\\nB-16188\\nP Teleper...</td>\n",
       "      <td>TELEPERFORMANCE COLOMBIA S.A.S.-V1</td>\n",
       "      <td>24</td>\n",
       "    </tr>\n",
       "    <tr>\n",
       "      <th>1014</th>\n",
       "      <td>/Users/ssingh355/code/invoice_processing/ip_cl...</td>\n",
       "      <td>Electronic Export Invoice:\\nB-15993\\nP Teleper...</td>\n",
       "      <td>TELEPERFORMANCE COLOMBIA S.A.S.-V1</td>\n",
       "      <td>24</td>\n",
       "    </tr>\n",
       "    <tr>\n",
       "      <th>1015</th>\n",
       "      <td>/Users/ssingh355/code/invoice_processing/ip_cl...</td>\n",
       "      <td>Electronic Export Invoice:\\nM-22949\\nP Teleper...</td>\n",
       "      <td>TELEPERFORMANCE COLOMBIA S.A.S.-V1</td>\n",
       "      <td>24</td>\n",
       "    </tr>\n",
       "    <tr>\n",
       "      <th>1016</th>\n",
       "      <td>/Users/ssingh355/code/invoice_processing/ip_cl...</td>\n",
       "      <td>Electronic Export Invoice:\\nB-15996\\nP Teleper...</td>\n",
       "      <td>TELEPERFORMANCE COLOMBIA S.A.S.-V1</td>\n",
       "      <td>24</td>\n",
       "    </tr>\n",
       "    <tr>\n",
       "      <th>1017</th>\n",
       "      <td>/Users/ssingh355/code/invoice_processing/ip_cl...</td>\n",
       "      <td>Electronic Export Invoice:\\nB-15997\\nP Teleper...</td>\n",
       "      <td>TELEPERFORMANCE COLOMBIA S.A.S.-V1</td>\n",
       "      <td>24</td>\n",
       "    </tr>\n",
       "    <tr>\n",
       "      <th>1018</th>\n",
       "      <td>/Users/ssingh355/code/invoice_processing/ip_cl...</td>\n",
       "      <td>Electronic Export Invoice:\\nM-23093\\nP Teleper...</td>\n",
       "      <td>TELEPERFORMANCE COLOMBIA S.A.S.-V1</td>\n",
       "      <td>24</td>\n",
       "    </tr>\n",
       "    <tr>\n",
       "      <th>1019</th>\n",
       "      <td>/Users/ssingh355/code/invoice_processing/ip_cl...</td>\n",
       "      <td>Electronic Export Invoice:\\nM-23077\\nP Teleper...</td>\n",
       "      <td>TELEPERFORMANCE COLOMBIA S.A.S.-V1</td>\n",
       "      <td>24</td>\n",
       "    </tr>\n",
       "    <tr>\n",
       "      <th>1020</th>\n",
       "      <td>/Users/ssingh355/code/invoice_processing/ip_cl...</td>\n",
       "      <td>Electronic Export Invoice:\\nB-15994\\nP Teleper...</td>\n",
       "      <td>TELEPERFORMANCE COLOMBIA S.A.S.-V1</td>\n",
       "      <td>24</td>\n",
       "    </tr>\n",
       "    <tr>\n",
       "      <th>1021</th>\n",
       "      <td>/Users/ssingh355/code/invoice_processing/ip_cl...</td>\n",
       "      <td>Electronic Export Invoice:\\nB-16189\\nP Teleper...</td>\n",
       "      <td>TELEPERFORMANCE COLOMBIA S.A.S.-V1</td>\n",
       "      <td>24</td>\n",
       "    </tr>\n",
       "  </tbody>\n",
       "</table>\n",
       "</div>"
      ],
      "text/plain": [
       "                                                      0  \\\n",
       "998   /Users/ssingh355/code/invoice_processing/ip_cl...   \n",
       "999   /Users/ssingh355/code/invoice_processing/ip_cl...   \n",
       "1000  /Users/ssingh355/code/invoice_processing/ip_cl...   \n",
       "1001  /Users/ssingh355/code/invoice_processing/ip_cl...   \n",
       "1002  /Users/ssingh355/code/invoice_processing/ip_cl...   \n",
       "1003  /Users/ssingh355/code/invoice_processing/ip_cl...   \n",
       "1004  /Users/ssingh355/code/invoice_processing/ip_cl...   \n",
       "1005  /Users/ssingh355/code/invoice_processing/ip_cl...   \n",
       "1006  /Users/ssingh355/code/invoice_processing/ip_cl...   \n",
       "1007  /Users/ssingh355/code/invoice_processing/ip_cl...   \n",
       "1008  /Users/ssingh355/code/invoice_processing/ip_cl...   \n",
       "1009  /Users/ssingh355/code/invoice_processing/ip_cl...   \n",
       "1010  /Users/ssingh355/code/invoice_processing/ip_cl...   \n",
       "1011  /Users/ssingh355/code/invoice_processing/ip_cl...   \n",
       "1012  /Users/ssingh355/code/invoice_processing/ip_cl...   \n",
       "1013  /Users/ssingh355/code/invoice_processing/ip_cl...   \n",
       "1014  /Users/ssingh355/code/invoice_processing/ip_cl...   \n",
       "1015  /Users/ssingh355/code/invoice_processing/ip_cl...   \n",
       "1016  /Users/ssingh355/code/invoice_processing/ip_cl...   \n",
       "1017  /Users/ssingh355/code/invoice_processing/ip_cl...   \n",
       "1018  /Users/ssingh355/code/invoice_processing/ip_cl...   \n",
       "1019  /Users/ssingh355/code/invoice_processing/ip_cl...   \n",
       "1020  /Users/ssingh355/code/invoice_processing/ip_cl...   \n",
       "1021  /Users/ssingh355/code/invoice_processing/ip_cl...   \n",
       "\n",
       "                                                      1  \\\n",
       "998   Electronic Export Invoice:\\nB-16351\\nP Teleper...   \n",
       "999   Electronic Export Invoice:\\nB-16349\\nP Teleper...   \n",
       "1000  Electronic Export Invoice:\\nB-16184\\nP Teleper...   \n",
       "1001  Electronic Export Invoice:\\nM-22776\\nP Teleper...   \n",
       "1002  Electronic Export Invoice:\\nB-15992\\nP Teleper...   \n",
       "1003  Electronic Export Invoice:\\nB-16357\\nP Teleper...   \n",
       "1004  Electronic Export Invoice:\\nB-16182\\nP Teleper...   \n",
       "1005  Electronic Export Invoice:\\nM-22786\\nP Teleper...   \n",
       "1006  Electronic Export Invoice:\\nB-15991\\nP Teleper...   \n",
       "1007  Electronic Export Invoice:\\nB-16183\\nP Teleper...   \n",
       "1008  Electronic Export Invoice:\\nB-15917\\nP Teleper...   \n",
       "1009  Electronic Export Invoice:\\nB-16187\\nP Teleper...   \n",
       "1010  Electronic Export Invoice:\\nB-16387\\nP Teleper...   \n",
       "1011  Electronic Export Invoice:\\nB-15995\\nP Teleper...   \n",
       "1012  Electronic Export Invoice:\\nB-16185\\nP Teleper...   \n",
       "1013  Electronic Export Invoice:\\nB-16188\\nP Teleper...   \n",
       "1014  Electronic Export Invoice:\\nB-15993\\nP Teleper...   \n",
       "1015  Electronic Export Invoice:\\nM-22949\\nP Teleper...   \n",
       "1016  Electronic Export Invoice:\\nB-15996\\nP Teleper...   \n",
       "1017  Electronic Export Invoice:\\nB-15997\\nP Teleper...   \n",
       "1018  Electronic Export Invoice:\\nM-23093\\nP Teleper...   \n",
       "1019  Electronic Export Invoice:\\nM-23077\\nP Teleper...   \n",
       "1020  Electronic Export Invoice:\\nB-15994\\nP Teleper...   \n",
       "1021  Electronic Export Invoice:\\nB-16189\\nP Teleper...   \n",
       "\n",
       "                                       2  labels  \n",
       "998   TELEPERFORMANCE COLOMBIA S.A.S.-V1      24  \n",
       "999   TELEPERFORMANCE COLOMBIA S.A.S.-V1      24  \n",
       "1000  TELEPERFORMANCE COLOMBIA S.A.S.-V1      24  \n",
       "1001  TELEPERFORMANCE COLOMBIA S.A.S.-V1      24  \n",
       "1002  TELEPERFORMANCE COLOMBIA S.A.S.-V1      24  \n",
       "1003  TELEPERFORMANCE COLOMBIA S.A.S.-V1      24  \n",
       "1004  TELEPERFORMANCE COLOMBIA S.A.S.-V1      24  \n",
       "1005  TELEPERFORMANCE COLOMBIA S.A.S.-V1      24  \n",
       "1006  TELEPERFORMANCE COLOMBIA S.A.S.-V1      24  \n",
       "1007  TELEPERFORMANCE COLOMBIA S.A.S.-V1      24  \n",
       "1008  TELEPERFORMANCE COLOMBIA S.A.S.-V1      24  \n",
       "1009  TELEPERFORMANCE COLOMBIA S.A.S.-V1      24  \n",
       "1010  TELEPERFORMANCE COLOMBIA S.A.S.-V1      24  \n",
       "1011  TELEPERFORMANCE COLOMBIA S.A.S.-V1      24  \n",
       "1012  TELEPERFORMANCE COLOMBIA S.A.S.-V1      24  \n",
       "1013  TELEPERFORMANCE COLOMBIA S.A.S.-V1      24  \n",
       "1014  TELEPERFORMANCE COLOMBIA S.A.S.-V1      24  \n",
       "1015  TELEPERFORMANCE COLOMBIA S.A.S.-V1      24  \n",
       "1016  TELEPERFORMANCE COLOMBIA S.A.S.-V1      24  \n",
       "1017  TELEPERFORMANCE COLOMBIA S.A.S.-V1      24  \n",
       "1018  TELEPERFORMANCE COLOMBIA S.A.S.-V1      24  \n",
       "1019  TELEPERFORMANCE COLOMBIA S.A.S.-V1      24  \n",
       "1020  TELEPERFORMANCE COLOMBIA S.A.S.-V1      24  \n",
       "1021  TELEPERFORMANCE COLOMBIA S.A.S.-V1      24  "
      ]
     },
     "execution_count": 14,
     "metadata": {},
     "output_type": "execute_result"
    }
   ],
   "source": [
    "df.loc[df['labels'] == 24]"
   ]
  },
  {
   "cell_type": "code",
   "execution_count": 15,
   "metadata": {},
   "outputs": [],
   "source": [
    "from sklearn.model_selection import train_test_split\n",
    "X_train, X_test, y_train, y_test = train_test_split(df[1], df['labels'], random_state=1)"
   ]
  },
  {
   "cell_type": "code",
   "execution_count": 16,
   "metadata": {},
   "outputs": [
    {
     "data": {
      "text/plain": [
       "(1287,)"
      ]
     },
     "execution_count": 16,
     "metadata": {},
     "output_type": "execute_result"
    }
   ],
   "source": [
    "X_train.shape"
   ]
  },
  {
   "cell_type": "code",
   "execution_count": 17,
   "metadata": {},
   "outputs": [],
   "source": [
    "from sklearn.feature_extraction.text import CountVectorizer\n",
    "from sklearn.feature_extraction.text import TfidfTransformer\n",
    "cv = CountVectorizer(strip_accents='ascii', token_pattern=u'(?ui)\\\\b\\\\w*[a-z]+\\\\w*\\\\b', lowercase=True, stop_words='english')\n",
    "transformer = TfidfTransformer()\n",
    "X_train = cv.fit_transform(X_train)\n",
    "X_train = transformer.fit_transform(X_train)\n",
    "X_test = cv.transform(X_test)\n",
    "X_test = transformer.transform(X_test)"
   ]
  },
  {
   "cell_type": "code",
   "execution_count": 18,
   "metadata": {},
   "outputs": [],
   "source": [
    "word_freq_df = pd.DataFrame(X_train.toarray(), columns=cv.get_feature_names())\n",
    "#top_words_df = pd.DataFrame(word_freq.sum()).sort_values(0, ascending=False)"
   ]
  },
  {
   "cell_type": "code",
   "execution_count": 19,
   "metadata": {},
   "outputs": [],
   "source": [
    "top_words_df = pd.DataFrame(word_freq_df.sum()).sort_values(0, ascending=False)"
   ]
  },
  {
   "cell_type": "code",
   "execution_count": 20,
   "metadata": {},
   "outputs": [
    {
     "data": {
      "text/html": [
       "<div>\n",
       "<style scoped>\n",
       "    .dataframe tbody tr th:only-of-type {\n",
       "        vertical-align: middle;\n",
       "    }\n",
       "\n",
       "    .dataframe tbody tr th {\n",
       "        vertical-align: top;\n",
       "    }\n",
       "\n",
       "    .dataframe thead th {\n",
       "        text-align: right;\n",
       "    }\n",
       "</style>\n",
       "<table border=\"1\" class=\"dataframe\">\n",
       "  <thead>\n",
       "    <tr style=\"text-align: right;\">\n",
       "      <th></th>\n",
       "      <th>0</th>\n",
       "    </tr>\n",
       "  </thead>\n",
       "  <tbody>\n",
       "    <tr>\n",
       "      <th>invoice</th>\n",
       "      <td>92.910977</td>\n",
       "    </tr>\n",
       "    <tr>\n",
       "      <th>number</th>\n",
       "      <td>79.269148</td>\n",
       "    </tr>\n",
       "    <tr>\n",
       "      <th>payment</th>\n",
       "      <td>63.951211</td>\n",
       "    </tr>\n",
       "    <tr>\n",
       "      <th>uber</th>\n",
       "      <td>59.841533</td>\n",
       "    </tr>\n",
       "    <tr>\n",
       "      <th>account</th>\n",
       "      <td>55.321563</td>\n",
       "    </tr>\n",
       "    <tr>\n",
       "      <th>...</th>\n",
       "      <td>...</td>\n",
       "    </tr>\n",
       "    <tr>\n",
       "      <th>cherry</th>\n",
       "      <td>0.030762</td>\n",
       "    </tr>\n",
       "    <tr>\n",
       "      <th>denver</th>\n",
       "      <td>0.030762</td>\n",
       "    </tr>\n",
       "    <tr>\n",
       "      <th>brider</th>\n",
       "      <td>0.030762</td>\n",
       "    </tr>\n",
       "    <tr>\n",
       "      <th>olive</th>\n",
       "      <td>0.030762</td>\n",
       "    </tr>\n",
       "    <tr>\n",
       "      <th>33215o</th>\n",
       "      <td>0.030762</td>\n",
       "    </tr>\n",
       "  </tbody>\n",
       "</table>\n",
       "<p>5846 rows × 1 columns</p>\n",
       "</div>"
      ],
      "text/plain": [
       "                 0\n",
       "invoice  92.910977\n",
       "number   79.269148\n",
       "payment  63.951211\n",
       "uber     59.841533\n",
       "account  55.321563\n",
       "...            ...\n",
       "cherry    0.030762\n",
       "denver    0.030762\n",
       "brider    0.030762\n",
       "olive     0.030762\n",
       "33215o    0.030762\n",
       "\n",
       "[5846 rows x 1 columns]"
      ]
     },
     "execution_count": 20,
     "metadata": {},
     "output_type": "execute_result"
    }
   ],
   "source": [
    "top_words_df"
   ]
  },
  {
   "cell_type": "code",
   "execution_count": 21,
   "metadata": {},
   "outputs": [],
   "source": [
    "# from sklearn.linear_model import SGDClassifier\n",
    "\n",
    "# sgd = SGDClassifier(loss='hinge', penalty='l2',alpha=1e-3, random_state=42, max_iter=5, tol=None)\n",
    "# sgd.fit(X_train, y_train)\n",
    "# predictions = sgd.predict(X_test)\n",
    "# # score = sgd.predict_proba(X_test)"
   ]
  },
  {
   "cell_type": "code",
   "execution_count": 22,
   "metadata": {},
   "outputs": [],
   "source": [
    "# predictions"
   ]
  },
  {
   "cell_type": "code",
   "execution_count": 23,
   "metadata": {},
   "outputs": [],
   "source": [
    "# #sgd\n",
    "# from sklearn.metrics import accuracy_score, precision_score, recall_score, classification_report\n",
    "# print('Accuracy score: ', accuracy_score(y_test, predictions,))\n",
    "# print('Precision score: ', precision_score(y_test, predictions,  average='weighted'))\n",
    "# print('Recall score: ', recall_score(y_test, predictions, average='weighted'))"
   ]
  },
  {
   "cell_type": "code",
   "execution_count": 24,
   "metadata": {},
   "outputs": [],
   "source": [
    "my_tags = label_encoder.classes_"
   ]
  },
  {
   "cell_type": "code",
   "execution_count": null,
   "metadata": {},
   "outputs": [],
   "source": []
  },
  {
   "cell_type": "code",
   "execution_count": 25,
   "metadata": {},
   "outputs": [],
   "source": [
    "from sklearn.naive_bayes import MultinomialNB\n",
    "naive_bayes = MultinomialNB()\n",
    "naive_bayes.fit(X_train, y_train)\n",
    "predictions = naive_bayes.predict(X_test)\n",
    "score = naive_bayes.predict_proba(X_test)"
   ]
  },
  {
   "cell_type": "code",
   "execution_count": 26,
   "metadata": {},
   "outputs": [
    {
     "data": {
      "text/plain": [
       "array([11, 12,  2, 23, 20, 27, 17,  6,  7,  1, 11, 16, 21, 27,  2, 28, 21,\n",
       "       16, 31,  2, 23, 11, 28, 18,  3, 16, 23, 30, 20, 16, 29, 17,  3, 10,\n",
       "       27, 17, 13, 11, 25, 26, 21,  5, 16, 17,  7, 16, 10,  3, 21,  7, 10,\n",
       "       10,  3, 23, 22, 10,  7, 16, 31, 11, 30, 11, 27, 18, 21,  9, 18,  0,\n",
       "        9, 27,  3,  0, 22, 24, 23,  1, 19, 13, 19, 32, 27,  8, 10,  1,  1,\n",
       "       14, 30, 17, 21, 13,  9, 30,  0, 11, 20, 17, 15, 22, 29, 30, 17, 30,\n",
       "       11,  3, 11, 16, 20,  8, 17, 23, 16,  8, 31,  2, 28, 23, 11, 16, 10,\n",
       "        2, 11, 18, 16, 11, 23, 28, 27, 30, 19, 25, 26, 10, 11, 25,  5, 10,\n",
       "       20,  2,  2, 29, 22, 27, 18, 19, 31,  2, 17, 15, 29, 20, 17, 13, 10,\n",
       "       30, 31, 31,  2, 22, 29, 11,  3,  7, 25, 15, 12,  0, 17, 13,  2, 16,\n",
       "        6, 25, 32,  7, 31, 30,  9,  4, 15, 21, 14, 25,  4,  4,  1, 11, 17,\n",
       "       10, 19, 16, 16, 31, 12, 22, 21, 28,  3,  3, 19, 14, 11, 30, 20, 27,\n",
       "       32, 16, 16, 19, 28, 16, 11, 10,  5,  3, 30, 18, 10,  8,  3, 29, 27,\n",
       "       27, 32, 28,  3, 14, 32,  2,  3, 30, 11,  6, 21, 21,  2, 14, 11, 24,\n",
       "       19, 13, 11,  7,  7, 28, 27, 22, 14, 19, 11, 25,  2, 16,  6, 15, 13,\n",
       "        9, 31, 23, 20, 25,  4,  4,  6,  5,  7,  7, 27, 11,  4, 11, 31, 28,\n",
       "       22, 18,  6, 24, 16, 17, 12, 10, 10,  1, 17, 16,  0,  2, 27,  9, 26,\n",
       "       28, 31, 30, 26, 14, 20, 31, 30, 15,  6, 11, 28,  3, 30, 11, 15, 21,\n",
       "       18, 29, 13,  9, 31, 20, 11, 27,  5, 11, 28, 27,  3,  3,  5, 10,  3,\n",
       "       18, 11, 11,  1,  4,  6, 29, 16,  8, 27, 10, 26, 19, 20, 31,  3, 17,\n",
       "       30, 20,  9, 31, 19, 21, 28, 20, 16,  3,  6, 23,  3, 13,  9, 20, 12,\n",
       "       23, 21, 10, 15, 20, 23, 11,  8, 16,  6, 30, 30,  2, 31,  1, 22,  7,\n",
       "       23, 22, 31,  3, 19, 11, 31,  2, 16, 21, 15, 11, 16, 17, 22, 16, 31,\n",
       "       11, 10,  3,  2, 27, 30, 16, 10, 25, 11, 12, 24, 24, 17, 20, 17, 11,\n",
       "       12,  3, 14,  3, 19,  9,  8, 21, 30, 25, 15, 14, 27,  0, 28, 31, 31,\n",
       "        9,  5, 10,  9, 23])"
      ]
     },
     "execution_count": 26,
     "metadata": {},
     "output_type": "execute_result"
    }
   ],
   "source": [
    "predictions"
   ]
  },
  {
   "cell_type": "code",
   "execution_count": 27,
   "metadata": {},
   "outputs": [
    {
     "data": {
      "text/plain": [
       "array([[3.81597892e-07, 6.58207022e-07, 1.77497177e-06, ...,\n",
       "        6.25204444e-06, 2.29944711e-06, 8.21941609e-07],\n",
       "       [4.39584929e-04, 7.11839808e-04, 1.21457581e-03, ...,\n",
       "        3.24010989e-03, 1.57145625e-03, 6.63958325e-04],\n",
       "       [1.56482402e-05, 5.22478266e-04, 9.97307928e-01, ...,\n",
       "        1.76332149e-04, 8.93772346e-05, 4.91508938e-05],\n",
       "       ...,\n",
       "       [8.75506915e-05, 2.05405428e-04, 3.40031645e-04, ...,\n",
       "        4.88932386e-04, 4.34999477e-04, 1.45671949e-04],\n",
       "       [2.70004630e-06, 4.26369717e-06, 9.43768562e-06, ...,\n",
       "        9.72238908e-06, 1.47554619e-05, 6.22610214e-06],\n",
       "       [1.96318872e-04, 4.43097164e-04, 1.77253796e-03, ...,\n",
       "        3.67605013e-03, 9.41335131e-04, 3.46074098e-04]])"
      ]
     },
     "execution_count": 27,
     "metadata": {},
     "output_type": "execute_result"
    }
   ],
   "source": [
    "score"
   ]
  },
  {
   "cell_type": "code",
   "execution_count": 31,
   "metadata": {},
   "outputs": [
    {
     "name": "stdout",
     "output_type": "stream",
     "text": [
      "Accuracy score:  0.9976744186046511\n",
      "Precision score:  0.9977713178294574\n",
      "Recall score:  0.9976744186046511\n"
     ]
    }
   ],
   "source": [
    "#includes new class teleperformance usa\n",
    "from sklearn.metrics import accuracy_score, precision_score, recall_score, classification_report\n",
    "print('Accuracy score: ', accuracy_score(y_test, predictions,))\n",
    "print('Precision score: ', precision_score(y_test, predictions,  average='weighted'))\n",
    "print('Recall score: ', recall_score(y_test, predictions, average='weighted'))"
   ]
  },
  {
   "cell_type": "code",
   "execution_count": 29,
   "metadata": {},
   "outputs": [
    {
     "name": "stdout",
     "output_type": "stream",
     "text": [
      "                                               precision    recall  f1-score   support\n",
      "\n",
      " 1011656 - FACEBOOK NETHERLANDS BV-English-V1       1.00      1.00      1.00         6\n",
      "                       911 Mobile Mechanic-V1       1.00      1.00      1.00         8\n",
      "                       911 Mobile Mechanic-V2       1.00      1.00      1.00        17\n",
      "                         A. G. Adjustments-V1       0.96      1.00      0.98        23\n",
      "          ARKPHIRE IRELAND LIMITED-English-V1       1.00      1.00      1.00         7\n",
      "                     BHARTI AIRTEL LIMITED-V1       1.00      1.00      1.00         7\n",
      "                       CANON INDIA PVT LTD-V1       1.00      1.00      1.00        10\n",
      "                           CDW Canada Corp-V1       1.00      1.00      1.00        11\n",
      "                 CONCENTRIX CORPORATION US-V1       1.00      1.00      1.00         7\n",
      "                      CONQUER TECHNOLOGIES-V1       1.00      1.00      1.00        12\n",
      "         DE LAGE LANDEN FINANCIAL SERVICES-V1       1.00      1.00      1.00        21\n",
      "                   Dell Financial Services-V1       1.00      1.00      1.00        35\n",
      "               FLEXI PERSONNEL LTD-English-V1       1.00      1.00      1.00         7\n",
      "             FOXBOX RETAIL PRIVATE LIMITED-V1       1.00      1.00      1.00         9\n",
      "                              Facebook Inc-V1       1.00      1.00      1.00         9\n",
      "                       Foodee Media US Inc-V1       1.00      1.00      1.00        10\n",
      "                                   Google LLC       1.00      1.00      1.00        27\n",
      "Hewlett Packard Financial Services Company-V1       1.00      1.00      1.00        18\n",
      "              Manning Gottlieb OMD-English-V2       1.00      1.00      1.00         9\n",
      "             MoreDirect Inc dba Connection-V1       1.00      1.00      1.00        13\n",
      "                               Other-Document       1.00      0.94      0.97        17\n",
      "                  PROFESSIONAL COMMERCIALS-V1       1.00      1.00      1.00        15\n",
      "                        Randstad RiseSmart-V1       1.00      1.00      1.00        11\n",
      "                            Snappy App Inc-V1       1.00      1.00      1.00        14\n",
      "           TELEPERFORMANCE COLOMBIA S.A.S.-V1       1.00      1.00      1.00         5\n",
      "                     TORPEDO MARKETING INC-V1       1.00      1.00      1.00        10\n",
      "               Tata Communications Limited-V1       1.00      1.00      1.00         5\n",
      "                     Taxback International-V1       1.00      1.00      1.00        19\n",
      "                     Taxback International-V2       1.00      1.00      1.00        14\n",
      "                          Teleperformance USA       1.00      1.00      1.00         8\n",
      "                   The Siegfried Group LLC-V2       1.00      1.00      1.00        20\n",
      "                             WIPRO LIMITED-V1       1.00      1.00      1.00        21\n",
      "                             WIPRO LIMITED-V2       1.00      1.00      1.00         5\n",
      "\n",
      "                                     accuracy                           1.00       430\n",
      "                                    macro avg       1.00      1.00      1.00       430\n",
      "                                 weighted avg       1.00      1.00      1.00       430\n",
      "\n"
     ]
    }
   ],
   "source": [
    "print(classification_report(y_test, predictions, target_names=my_tags))"
   ]
  },
  {
   "cell_type": "code",
   "execution_count": 75,
   "metadata": {},
   "outputs": [
    {
     "name": "stdout",
     "output_type": "stream",
     "text": [
      "Accuracy score:  0.9834905660377359\n",
      "Precision score:  0.9851207327338919\n",
      "Recall score:  0.9834905660377359\n"
     ]
    }
   ],
   "source": [
    "# #more number of classes\n",
    "# from sklearn.metrics import accuracy_score, precision_score, recall_score\n",
    "# print('Accuracy score: ', accuracy_score(y_test, predictions,))\n",
    "# print('Precision score: ', precision_score(y_test, predictions,  average='weighted'))\n",
    "# print('Recall score: ', recall_score(y_test, predictions, average='weighted'))"
   ]
  },
  {
   "cell_type": "code",
   "execution_count": 49,
   "metadata": {},
   "outputs": [
    {
     "name": "stdout",
     "output_type": "stream",
     "text": [
      "Accuracy score:  0.9504716981132075\n",
      "Precision score:  0.9697107974743332\n",
      "Recall score:  0.9504716981132075\n"
     ]
    }
   ],
   "source": [
    "# from sklearn.metrics import accuracy_score, precision_score, recall_score\n",
    "# print('Accuracy score: ', accuracy_score(y_test, predictions,))\n",
    "# print('Precision score: ', precision_score(y_test, predictions,  average='weighted'))\n",
    "# print('Recall score: ', recall_score(y_test, predictions, average='weighted'))"
   ]
  },
  {
   "cell_type": "code",
   "execution_count": 22,
   "metadata": {},
   "outputs": [
    {
     "name": "stdout",
     "output_type": "stream",
     "text": [
      "Accuracy score:  0.9759036144578314\n",
      "Precision score:  0.9791866381783291\n",
      "Recall score:  0.9759036144578314\n"
     ]
    }
   ],
   "source": [
    "# from sklearn.metrics import accuracy_score, precision_score, recall_score\n",
    "# print('Accuracy score: ', accuracy_score(y_test, predictions,))\n",
    "# print('Precision score: ', precision_score(y_test, predictions,  average='weighted'))\n",
    "# print('Recall score: ', recall_score(y_test, predictions, average='weighted'))"
   ]
  },
  {
   "cell_type": "code",
   "execution_count": 32,
   "metadata": {},
   "outputs": [],
   "source": [
    "#Save model to disk\n",
    "import joblib\n",
    "import datetime\n",
    "# filename = 'Freight_Billing_DOCTYPE_NaiveBayes_Model_06_06_20.sav'\n",
    "# joblib.dump(naive_bayes, filename)\n",
    "current_date_and_time = datetime.datetime.now()\n",
    "current_date_and_time_string = str(current_date_and_time)\n",
    "out_path = MODEL_OUT_PATH + '/' + current_date_and_time_string\n",
    "if not os.path.exists(out_path):\n",
    "    os.makedirs(out_path)\n",
    "joblib.dump(cv, out_path + '/' + 'vectorizer.jbl')\n",
    "joblib.dump(transformer, out_path + '/' + 'transformer.jbl')\n",
    "joblib.dump(naive_bayes, out_path + '/' + 'model.jbl')\n",
    "labels_data = \"\"\n",
    "dirs.sort()\n",
    "for label in dirs:\n",
    "    if label != \".DS_Store\":\n",
    "        labels_data = labels_data + label + \"\\n\"\n",
    "with open(out_path + '/' + 'labels.txt', 'a') as f:\n",
    "    f.write(labels_data)"
   ]
  },
  {
   "cell_type": "code",
   "execution_count": 33,
   "metadata": {},
   "outputs": [
    {
     "data": {
      "text/plain": [
       "['.DS_Store',\n",
       " '1011656 - FACEBOOK NETHERLANDS BV-English-V1',\n",
       " '911 Mobile Mechanic-V1',\n",
       " '911 Mobile Mechanic-V2',\n",
       " 'A. G. Adjustments-V1',\n",
       " 'ARKPHIRE IRELAND LIMITED-English-V1',\n",
       " 'BHARTI AIRTEL LIMITED-V1',\n",
       " 'CANON INDIA PVT LTD-V1',\n",
       " 'CDW Canada Corp-V1',\n",
       " 'CONCENTRIX CORPORATION US-V1',\n",
       " 'CONQUER TECHNOLOGIES-V1',\n",
       " 'DE LAGE LANDEN FINANCIAL SERVICES-V1',\n",
       " 'Dell Financial Services-V1',\n",
       " 'FLEXI PERSONNEL LTD-English-V1',\n",
       " 'FOXBOX RETAIL PRIVATE LIMITED-V1',\n",
       " 'Facebook Inc-V1',\n",
       " 'Foodee Media US Inc-V1',\n",
       " 'Google LLC',\n",
       " 'Hewlett Packard Financial Services Company-V1',\n",
       " 'Manning Gottlieb OMD-English-V2',\n",
       " 'MoreDirect Inc dba Connection-V1',\n",
       " 'Other-Document',\n",
       " 'PROFESSIONAL COMMERCIALS-V1',\n",
       " 'Randstad RiseSmart-V1',\n",
       " 'Snappy App Inc-V1',\n",
       " 'TELEPERFORMANCE COLOMBIA S.A.S.-V1',\n",
       " 'TORPEDO MARKETING INC-V1',\n",
       " 'Tata Communications Limited-V1',\n",
       " 'Taxback International-V1',\n",
       " 'Taxback International-V2',\n",
       " 'Teleperformance USA',\n",
       " 'The Siegfried Group LLC-V2',\n",
       " 'WIPRO LIMITED-V1',\n",
       " 'WIPRO LIMITED-V2']"
      ]
     },
     "execution_count": 33,
     "metadata": {},
     "output_type": "execute_result"
    }
   ],
   "source": [
    "dirs.sort()\n",
    "dirs"
   ]
  },
  {
   "cell_type": "code",
   "execution_count": 34,
   "metadata": {},
   "outputs": [
    {
     "data": {
      "text/plain": [
       "34"
      ]
     },
     "execution_count": 34,
     "metadata": {},
     "output_type": "execute_result"
    }
   ],
   "source": [
    "len(dirs)"
   ]
  },
  {
   "cell_type": "code",
   "execution_count": null,
   "metadata": {},
   "outputs": [],
   "source": []
  }
 ],
 "metadata": {
  "kernelspec": {
   "display_name": "Python 3",
   "language": "python",
   "name": "python3"
  },
  "language_info": {
   "codemirror_mode": {
    "name": "ipython",
    "version": 3
   },
   "file_extension": ".py",
   "mimetype": "text/x-python",
   "name": "python",
   "nbconvert_exporter": "python",
   "pygments_lexer": "ipython3",
   "version": "3.8.8"
  }
 },
 "nbformat": 4,
 "nbformat_minor": 2
}
