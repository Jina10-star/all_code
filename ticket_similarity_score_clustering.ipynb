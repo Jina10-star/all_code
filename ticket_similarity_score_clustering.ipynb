{
 "cells": [
  {
   "cell_type": "code",
   "execution_count": null,
   "metadata": {
    "collapsed": false
   },
   "outputs": [],
   "source": [
    "from __future__ import unicode_literals\n",
    "import requests\n",
    "import json\n",
    "import csv\n",
    "import matplotlib.pyplot as plt\n",
    "from sets import Set\n",
    "import numpy as np\n",
    "import cPickle\n",
    "import utils\n",
    "from difflib import SequenceMatcher\n",
    "import pandas as pd\n",
    "import skimage\n",
    "from sklearn.feature_extraction.text import TfidfVectorizer\n",
    "import re\n",
    "\n",
    "from scipy.spatial.distance import cosine\n",
    "\n",
    "%matplotlib inline\n",
    "import seaborn as sns\n",
    "sns.set_context('poster')\n",
    "sns.set_color_codes()\n",
    "plot_kwds = {'alpha' : 0.75, 's' : 120, 'linewidths':0}\n",
    "\n",
    "%load_ext autoreload\n",
    "%autoreload 2\n",
    "import base64\n",
    "from PIL import Image\n",
    "from itertools import izip\n",
    "import os\n",
    "import random\n",
    "\n",
    "import hashlib\n",
    "from sklearn.metrics.pairwise import cosine_similarity\n",
    "import glob\n",
    "from collections import Counter\n",
    "\n",
    "import sys\n",
    "import time\n",
    "from multiprocessing import Pool\n",
    "#stdout = sys.stdout\n",
    "#reload(sys)\n",
    "#sys.setdefaultencoding('utf-8')\n",
    "#sys.stdout = stdout"
   ]
  },
  {
   "cell_type": "code",
   "execution_count": 1,
   "metadata": {
    "collapsed": false
   },
   "outputs": [
    {
     "data": {
      "text/plain": [
       "u'/mnt/cephfs/hadoop-compute/phoenix/ting/wisdom'"
      ]
     },
     "execution_count": 1,
     "metadata": {},
     "output_type": "execute_result"
    }
   ],
   "source": [
    "pwd"
   ]
  },
  {
   "cell_type": "code",
   "execution_count": 51,
   "metadata": {
    "collapsed": false
   },
   "outputs": [
    {
     "name": "stdout",
     "output_type": "stream",
     "text": [
      "dswa069-dca1\r\n"
     ]
    }
   ],
   "source": [
    "!hostname"
   ]
  },
  {
   "cell_type": "markdown",
   "metadata": {},
   "source": [
    "---"
   ]
  },
  {
   "cell_type": "markdown",
   "metadata": {},
   "source": [
    "# nlp basics"
   ]
  },
  {
   "cell_type": "code",
   "execution_count": 52,
   "metadata": {
    "collapsed": false
   },
   "outputs": [
    {
     "name": "stdout",
     "output_type": "stream",
     "text": [
      "[nltk_data] Downloading package stopwords to\n",
      "[nltk_data]     /home/udocker/nltk_data...\n",
      "[nltk_data]   Package stopwords is already up-to-date!\n",
      "[nltk_data] Downloading package perluniprops to\n",
      "[nltk_data]     /home/udocker/nltk_data...\n",
      "[nltk_data]   Package perluniprops is already up-to-date!\n"
     ]
    }
   ],
   "source": [
    "from nltk.corpus import stopwords\n",
    "from nltk.tokenize import word_tokenize\n",
    "from nltk.tokenize.nist import NISTTokenizer\n",
    "nist = NISTTokenizer()\n",
    "\n",
    "from nltk.tokenize import RegexpTokenizer\n",
    "tokenizer = RegexpTokenizer(r'\\w+')\n",
    "\n",
    "import nltk\n",
    "nltk.download('stopwords')\n",
    "nltk.download('perluniprops')\n",
    "\n",
    "sno = nltk.stem.SnowballStemmer('english')\n",
    "stop_words = set(stopwords.words('english'))"
   ]
  },
  {
   "cell_type": "code",
   "execution_count": 53,
   "metadata": {
    "collapsed": false
   },
   "outputs": [],
   "source": [
    "def jaccard_dist(a,b):\n",
    "    return float(len(a&b))/float(len(a|b))"
   ]
  },
  {
   "cell_type": "code",
   "execution_count": 54,
   "metadata": {
    "collapsed": false
   },
   "outputs": [],
   "source": [
    "def ngrams(string, n=3):\n",
    "    string = re.sub(r'[,-./]|\\sBD',r'', string)\n",
    "    ngrams = zip(*[string[i:] for i in range(n)])\n",
    "    return [''.join(ngram) for ngram in ngrams]"
   ]
  },
  {
   "cell_type": "markdown",
   "metadata": {},
   "source": [
    "## keywords for user_input / description"
   ]
  },
  {
   "cell_type": "code",
   "execution_count": null,
   "metadata": {
    "collapsed": false
   },
   "outputs": [],
   "source": [
    "descr = \"\"\n",
    "filelist = glob.glob(\"./task_content_train/*\")\n",
    "for f in filelist:\n",
    "    with open(f) as json_file:  \n",
    "        data = json.load(json_file)\n",
    "        if 'hits' in data:\n",
    "            if 'hits' in data['hits']:\n",
    "                for d in data['hits']['hits']:\n",
    "                    if 'phabId' in d['_source']:\n",
    "                        if d['_source']['userInput'] is not None:\n",
    "                            descr = descr+ d['_source']['userInput'].encode(\"utf-8\").decode('utf8', 'ignore')"
   ]
  },
  {
   "cell_type": "code",
   "execution_count": null,
   "metadata": {
    "collapsed": false
   },
   "outputs": [],
   "source": [
    "len(descr)"
   ]
  },
  {
   "cell_type": "code",
   "execution_count": 12,
   "metadata": {
    "collapsed": true
   },
   "outputs": [],
   "source": [
    "def pre_processing(descr,stop_words):\n",
    "    lowers = descr.lower()\n",
    "    tokens = tokenizer.tokenize(lowers)\n",
    "    \n",
    "    filtered_words = []\n",
    "    for w in tokens:\n",
    "        if w not in stop_words:\n",
    "            #w = sno.stem(w)\n",
    "            filtered_words.append(w)\n",
    "    return filtered_words"
   ]
  },
  {
   "cell_type": "code",
   "execution_count": null,
   "metadata": {
    "collapsed": false
   },
   "outputs": [],
   "source": [
    "tokens = pre_processing(descr,stop_words)"
   ]
  },
  {
   "cell_type": "code",
   "execution_count": null,
   "metadata": {
    "collapsed": false
   },
   "outputs": [],
   "source": [
    "count = Counter(tokens)"
   ]
  },
  {
   "cell_type": "code",
   "execution_count": null,
   "metadata": {
    "collapsed": false
   },
   "outputs": [],
   "source": [
    "len(count)"
   ]
  },
  {
   "cell_type": "markdown",
   "metadata": {},
   "source": [
    "#### top 500 keywords"
   ]
  },
  {
   "cell_type": "code",
   "execution_count": null,
   "metadata": {
    "collapsed": true
   },
   "outputs": [],
   "source": [
    "keyword = []\n",
    "for l in count.most_common(500):\n",
    "    print l\n",
    "    keyword.append(l[0])"
   ]
  },
  {
   "cell_type": "code",
   "execution_count": null,
   "metadata": {
    "collapsed": true
   },
   "outputs": [],
   "source": [
    "def get_descr_feature(keyword, tokens):\n",
    "    c = {}\n",
    "    for k in keyword:\n",
    "        c[k] = 0\n",
    "    count = Counter(tokens)\n",
    "    interkey = list(set(keyword).intersection(count.keys()))\n",
    "    #print interkey\n",
    "    for ik in interkey:\n",
    "        c[ik] = count[ik]\n",
    "    #print c\n",
    "    feature = []\n",
    "    for key, value in c.iteritems():\n",
    "        feature.append(value)\n",
    "    feature = np.array(feature).reshape(1,-1)\n",
    "    return feature"
   ]
  },
  {
   "cell_type": "markdown",
   "metadata": {},
   "source": [
    "---"
   ]
  },
  {
   "cell_type": "markdown",
   "metadata": {},
   "source": [
    "# word 2 vec"
   ]
  },
  {
   "cell_type": "code",
   "execution_count": 1,
   "metadata": {
    "collapsed": true
   },
   "outputs": [],
   "source": [
    "from gensim.models import Word2Vec\n",
    "from nltk.corpus import brown, movie_reviews, treebank"
   ]
  },
  {
   "cell_type": "code",
   "execution_count": 2,
   "metadata": {
    "collapsed": true
   },
   "outputs": [],
   "source": [
    "gmodel = Word2Vec.load_word2vec_format('../RiskDS2018/u4b/GoogleNews-vectors-negative300.bin', binary=True)  "
   ]
  },
  {
   "cell_type": "code",
   "execution_count": 13,
   "metadata": {
    "collapsed": false
   },
   "outputs": [],
   "source": [
    "descr_sents = []\n",
    "filelist = glob.glob(\"./task_content_train/*\")\n",
    "for f in filelist:\n",
    "    with open(f) as json_file:  \n",
    "        data = json.load(json_file)\n",
    "        if 'hits' in data:\n",
    "            if 'hits' in data['hits']:\n",
    "                for d in data['hits']['hits']:\n",
    "                    if 'phabId' in d['_source']:\n",
    "                        if d['_source']['userInput'] is not None:\n",
    "                            strs = d['_source']['userInput'].encode(\"utf-8\").decode('utf8', 'ignore')\n",
    "                            tokens = pre_processing(strs,stop_words)\n",
    "                            descr_sents.append(tokens)"
   ]
  },
  {
   "cell_type": "code",
   "execution_count": 14,
   "metadata": {
    "collapsed": false
   },
   "outputs": [
    {
     "data": {
      "text/plain": [
       "9122"
      ]
     },
     "execution_count": 14,
     "metadata": {},
     "output_type": "execute_result"
    }
   ],
   "source": [
    "len(descr_sents)"
   ]
  },
  {
   "cell_type": "code",
   "execution_count": 15,
   "metadata": {
    "collapsed": true
   },
   "outputs": [],
   "source": [
    "filelist = glob.glob(\"./task_content_train/*\")\n",
    "for f in filelist:\n",
    "    with open(f) as json_file:  \n",
    "        data = json.load(json_file)\n",
    "        if 'hits' in data:\n",
    "            if 'hits' in data['hits']:\n",
    "                for d in data['hits']['hits']:\n",
    "                    if 'phabId' in d['_source']:\n",
    "                        if d['_source']['userInput'] is not None:\n",
    "                            strs = d['_source']['userSummary'].encode(\"utf-8\").decode('utf8', 'ignore')\n",
    "                            tokens = pre_processing(strs,stop_words)\n",
    "                            descr_sents.append(tokens)"
   ]
  },
  {
   "cell_type": "code",
   "execution_count": 16,
   "metadata": {
    "collapsed": false
   },
   "outputs": [
    {
     "data": {
      "text/plain": [
       "18244"
      ]
     },
     "execution_count": 16,
     "metadata": {},
     "output_type": "execute_result"
    }
   ],
   "source": [
    "len(descr_sents)"
   ]
  },
  {
   "cell_type": "code",
   "execution_count": 33,
   "metadata": {
    "collapsed": false
   },
   "outputs": [],
   "source": [
    "w2v_model = Word2Vec(descr_sents,size=150, window=20, min_count=3)"
   ]
  },
  {
   "cell_type": "code",
   "execution_count": 19,
   "metadata": {
    "collapsed": false
   },
   "outputs": [
    {
     "name": "stdout",
     "output_type": "stream",
     "text": [
      "100\n"
     ]
    }
   ],
   "source": [
    "print len(w2v_model['uber']) "
   ]
  },
  {
   "cell_type": "code",
   "execution_count": 48,
   "metadata": {
    "collapsed": false
   },
   "outputs": [
    {
     "data": {
      "text/plain": [
       "[(u'payments', 0.842191219329834),\n",
       " (u'Payment', 0.6990829706192017),\n",
       " (u'repayment', 0.6493304371833801),\n",
       " (u'Payments', 0.6373319029808044),\n",
       " (u'repayments', 0.5662027597427368),\n",
       " (u'pay', 0.5520696640014648),\n",
       " (u'prepayment', 0.5418148636817932),\n",
       " (u'monthly_installments', 0.5385578870773315),\n",
       " (u'BPay', 0.5364115834236145),\n",
       " (u'borrower_repays', 0.5358425378799438)]"
      ]
     },
     "execution_count": 48,
     "metadata": {},
     "output_type": "execute_result"
    }
   ],
   "source": [
    "gmodel.similar_by_word('payment', 10)"
   ]
  },
  {
   "cell_type": "code",
   "execution_count": 46,
   "metadata": {
    "collapsed": false
   },
   "outputs": [
    {
     "data": {
      "text/plain": [
       "[(u'dispatched', 0.9990038871765137),\n",
       " (u'originally', 0.9983204007148743),\n",
       " (u'driver', 0.9981591105461121),\n",
       " (u'matched', 0.9975348114967346),\n",
       " (u'arrived', 0.9974392056465149),\n",
       " (u'waited', 0.9973636865615845),\n",
       " (u'save', 0.9973622560501099),\n",
       " (u'match', 0.9973022937774658),\n",
       " (u'jumps', 0.9971593618392944),\n",
       " (u'5min', 0.9970822334289551)]"
      ]
     },
     "execution_count": 46,
     "metadata": {},
     "output_type": "execute_result"
    }
   ],
   "source": [
    "w2v_model.similar_by_word('car', 10)"
   ]
  },
  {
   "cell_type": "code",
   "execution_count": null,
   "metadata": {
    "collapsed": false
   },
   "outputs": [],
   "source": [
    "def get_w2v_dist(tokens1, tokens2, w2v_model):\n",
    "    \n",
    "    if (len(tokens1)>0 and len(tokens2)>0):\n",
    "        word_vectors = w2v_model.wv\n",
    "        s1 = np.zeros(100)\n",
    "        for t1 in tokens1:\n",
    "            if t1 in word_vectors.vocab:\n",
    "                s1 = s1 + w2v_model[t1]\n",
    "        s1 = s1/len(tokens1)\n",
    "\n",
    "        s2 = np.zeros(100)\n",
    "        for t2 in tokens2:\n",
    "            if t2 in word_vectors.vocab:\n",
    "                s2 = s2 + w2v_model[t2]\n",
    "        s2 = s2/len(tokens2)\n",
    "\n",
    "\n",
    "        d2 = cosine(s1,s2)\n",
    "\n",
    "        t1_dict = []\n",
    "        for w in tokens1:\n",
    "            if w in word_vectors.vocab:\n",
    "                l = w2v_model.similar_by_word(w, 10)\n",
    "                for i in l:\n",
    "                    t1_dict.append(i[0])\n",
    "        t1_dict = t1_dict + tokens1\n",
    "\n",
    "        ct1 = 0\n",
    "        for w in tokens2:\n",
    "            if w in t1_dict:\n",
    "                ct1 = ct1 +1;\n",
    "\n",
    "        t2_dict = []\n",
    "        for w in tokens2:\n",
    "            if w in word_vectors.vocab:\n",
    "                l = w2v_model.similar_by_word(w, 10)\n",
    "                for i in l:\n",
    "                    t2_dict.append(i[0])\n",
    "        t2_dict = t2_dict + tokens2\n",
    "\n",
    "        ct2 = 0\n",
    "        for w in tokens1:\n",
    "            if w in t2_dict:\n",
    "                ct2 = ct2 +1;\n",
    "            \n",
    "        return [d2, float(ct1)/float(len(tokens2)), float(ct2)/float(len(tokens1))]\n",
    "    else:\n",
    "        return [0,0,0]"
   ]
  },
  {
   "cell_type": "code",
   "execution_count": null,
   "metadata": {
    "collapsed": false
   },
   "outputs": [],
   "source": [
    "def plot_sent(s):\n",
    "    token = descr_preprocess(s,w2v_model)\n",
    "    X = w2v_model[token]\n",
    "    tsne = TSNE(n_components=2)\n",
    "    X_tsne = tsne.fit_transform(X)\n",
    "    df = pd.DataFrame(X_tsne, index=token, columns=['x', 'y'])\n",
    "    fig = plt.figure()\n",
    "    ax = fig.add_subplot(1, 1, 1)\n",
    "    ax.scatter(df['x'], df['y'], c='r')\n",
    "    for word, pos in df.iterrows():\n",
    "        ax.annotate(word, pos)"
   ]
  },
  {
   "cell_type": "markdown",
   "metadata": {},
   "source": [
    "## data preprocessing"
   ]
  },
  {
   "cell_type": "code",
   "execution_count": 55,
   "metadata": {
    "collapsed": false
   },
   "outputs": [],
   "source": [
    "# 1-5 2018 snaptask tickets from ELK\n",
    "\n",
    "data_dict = {}\n",
    "filelist = glob.glob(\"./task_content/*\")\n",
    "for f in filelist:\n",
    "    with open(f) as json_file:  \n",
    "        data = json.load(json_file)\n",
    "        if 'hits' in data:\n",
    "            if 'hits' in data['hits']:\n",
    "                for d in data['hits']['hits']:\n",
    "                    if 'phabId' in d['_source']:\n",
    "                        data_dict[d['_source']['phabId'][1:]] = d['_source']"
   ]
  },
  {
   "cell_type": "code",
   "execution_count": 56,
   "metadata": {
    "collapsed": false
   },
   "outputs": [
    {
     "data": {
      "text/plain": [
       "15996"
      ]
     },
     "execution_count": 56,
     "metadata": {},
     "output_type": "execute_result"
    }
   ],
   "source": [
    "len(data_dict)"
   ]
  },
  {
   "cell_type": "markdown",
   "metadata": {},
   "source": [
    "## create feature"
   ]
  },
  {
   "cell_type": "code",
   "execution_count": 57,
   "metadata": {
    "collapsed": true
   },
   "outputs": [],
   "source": [
    "def string_matcher(str1, str2): \n",
    "    nstr1 = set(ngrams(str1,3)+ngrams(str1,2)+ngrams(str1,1))\n",
    "    nstr2 = set(ngrams(str2,3)+ngrams(str2,2)+ngrams(str2,1))\n",
    "      \n",
    "    if len(nstr1)>0 or len(nstr2)>0:\n",
    "        return jaccard_dist(nstr1,nstr2)\n",
    "    elif len(nstr1)==0 and len(nstr1)==0:\n",
    "        return 1\n",
    "    else:\n",
    "        return 0"
   ]
  },
  {
   "cell_type": "code",
   "execution_count": 58,
   "metadata": {
    "collapsed": true
   },
   "outputs": [],
   "source": [
    "def os_version_preprocess(os):\n",
    "    os = os.replace('(','')\n",
    "    os = os.replace(')','')\n",
    "    os = os.lower()\n",
    "    os = nist.tokenize(os)\n",
    "    return os"
   ]
  },
  {
   "cell_type": "code",
   "execution_count": 59,
   "metadata": {
    "collapsed": true
   },
   "outputs": [],
   "source": [
    "def get_content_snap(data_dict,ids):\n",
    "    result = {}\n",
    "    report_id = ids\n",
    "    content = data_dict[ids]\n",
    "    \n",
    "    create_at = ''\n",
    "    if 'created' in content:\n",
    "        created_at = content['created']\n",
    "    \n",
    "    feature_descr = ''\n",
    "    if 'featureDescr' in content:\n",
    "        feature_descr = content['featureDescr']\n",
    "        \n",
    "    device_model = ''\n",
    "    if 'deviceModel' in content:\n",
    "        device_model = content['deviceModel']\n",
    "        \n",
    "    city_id = ''\n",
    "    if 'city_id' in content:\n",
    "        city_id = content['city_id']\n",
    "        \n",
    "    app_name = '' \n",
    "    if 'app' in content:\n",
    "        app_name = content['app']\n",
    "        \n",
    "    user_uuid = ''\n",
    "    if 'userUuid' in content:\n",
    "        user_uuid = content['userUuid']\n",
    "    \n",
    "    user_input = ''\n",
    "    if 'userInput' in content:\n",
    "        user_input = content['userInput']\n",
    "        if user_input is None:\n",
    "            user_input = ''\n",
    "        \n",
    "    user_summary = ''\n",
    "    if 'userSummary' in content:\n",
    "        user_summary = content['userSummary']\n",
    "        if user_summary is None:\n",
    "            user_summary = ''\n",
    "        \n",
    "        \n",
    "    os_version = ''\n",
    "    if 'os' in content:\n",
    "        os_version = content['os']\n",
    "    \n",
    "    app_version = ''\n",
    "    if 'version' in content:\n",
    "        app_version = content['version']\n",
    "    \n",
    "    descr = ''\n",
    "    if 'systemDescription' in content:\n",
    "        descr = content['systemDescription']\n",
    "        \n",
    "    locale = ''\n",
    "    if 'locale' in content:\n",
    "        locale = content['locale']\n",
    "    \n",
    "    rst = {}\n",
    "    rst['report_id'] = report_id\n",
    "    rst['created_at'] = created_at\n",
    "    rst['feature_descr'] = feature_descr\n",
    "    rst['device_model'] = device_model\n",
    "    rst['city_id'] = city_id\n",
    "    rst['app_name'] = app_name\n",
    "    rst['user_uuid'] = user_uuid\n",
    "    rst['user_input'] = user_input\n",
    "    rst['user_summary'] = user_summary\n",
    "    rst['os_version'] = os_version\n",
    "    rst['app_version'] = app_version\n",
    "    rst['descr'] = descr\n",
    "    rst['locale'] = locale\n",
    "\n",
    "    return rst"
   ]
  },
  {
   "cell_type": "code",
   "execution_count": 60,
   "metadata": {
    "collapsed": true
   },
   "outputs": [],
   "source": [
    "def app_name_preprocess(appname):\n",
    "    appname_list = ['carbon', 'driver', 'helix', 'helix uber', 'uberdriver']\n",
    "    if appname not in appname_list:\n",
    "        appname = 'other'\n",
    "    if appname == 'uberdriver':\n",
    "        appname = 'carbon'\n",
    "    return appname"
   ]
  },
  {
   "cell_type": "code",
   "execution_count": 61,
   "metadata": {
    "collapsed": false
   },
   "outputs": [],
   "source": [
    " def get_match_score(t):\n",
    "    t1 = t[0]\n",
    "    t2 = t[1]\n",
    "    \n",
    "    input_match = string_matcher(t1['user_input'], t2['user_input'])\n",
    "    summary_match = string_matcher(t1['user_summary'], t2['user_summary'])\n",
    "    featureDesc_match = string_matcher(t1['feature_descr'], t2['feature_descr'])\n",
    "    create_diff = abs(int(t1['created_at'])-int(t2['created_at']))\n",
    "    \n",
    "    if t1['device_model'] == t2['device_model']:\n",
    "        same_device_model = 1\n",
    "    else:\n",
    "        same_device_model = 0\n",
    "    \n",
    "    t1_appname = app_name_preprocess(t1['app_name'])\n",
    "    t2_appname = app_name_preprocess(t2['app_name'])\n",
    "    \n",
    "    if t1_appname == t2_appname:\n",
    "        same_app = 1\n",
    "    else:\n",
    "        same_app = 0\n",
    "        \n",
    "    if t1['user_uuid'] == t2['user_uuid']:\n",
    "        same_user = 1\n",
    "    else:\n",
    "        same_user = 0\n",
    "        \n",
    "    appV1 = t1['app_version']\n",
    "    appV2 = t2['app_version']\n",
    "    same_appV1=0\n",
    "    same_appV2=0\n",
    "    same_appV3=0\n",
    "    if len(appV1)==len(appV2):\n",
    "        appV11 = appV1.split('.')\n",
    "        appV22 = appV2.split('.')\n",
    "        if appV11[0] == appV22[0]:\n",
    "            same_appV1 = 1\n",
    "        if (appV11[0] == appV22[0]) and (appV11[1] == appV22[1]) :\n",
    "            same_appV2 = 1    \n",
    "        if (appV11[0] == appV22[0]) and (appV11[1] == appV22[1]) and (appV11[2] == appV22[2])  :\n",
    "            same_appV3 = 1\n",
    "    \n",
    "    same_os1 = 0\n",
    "    same_os2 = 0\n",
    "    os1 = os_version_preprocess(t1['os_version'])\n",
    "    os2 = os_version_preprocess(t2['os_version'])\n",
    "    if (len(os1) == len(os2))and (len(os1)==2):\n",
    "        if os1[0] == os2[0]:\n",
    "            same_os1 = 1\n",
    "        if (os1[0] == os2[0]) and (os1[1] == os2[1]):\n",
    "            same_os2 = 1\n",
    "    \n",
    "    same_city = 0\n",
    "    if t1['city_id'] == t2['city_id']:\n",
    "        same_city = 1 \n",
    "    \n",
    "    same_locale = 0\n",
    "    if t1['locale'] == t2['locale']:\n",
    "        same_locale = 1 \n",
    "        \n",
    " \n",
    "    #token1 = pre_processing(t1['user_input'],stop_words)\n",
    "    #token2 = pre_processing(t2['user_input'],stop_words)\n",
    "    #k1 = get_descr_feature(keyword, token1)\n",
    "    #k2 = get_descr_feature(keyword, token2)\n",
    "    \n",
    "    #system_match = cosine_similarity(k1,k2)[0][0]\n",
    "    #[d1,d2,d3] = get_w2v_dist(token1, token2, w2v_model)\n",
    "    \n",
    "    #token1 = pre_processing(t1['user_summary'],stop_words)\n",
    "    #token2 = pre_processing(t2['user_summary'],stop_words)\n",
    "    #[d4,d5,d6] = get_w2v_dist(token1, token2, w2v_model)\n",
    "        \n",
    "    return t1['report_id'], t2['report_id'], input_match, summary_match, featureDesc_match,create_diff, same_device_model,\\\n",
    "            same_app, same_user, same_appV1, same_appV2, same_appV3, same_os1, same_os2, same_city,same_locale"
   ]
  },
  {
   "cell_type": "markdown",
   "metadata": {},
   "source": [
    "## score duplicated pair"
   ]
  },
  {
   "cell_type": "code",
   "execution_count": 62,
   "metadata": {
    "collapsed": true
   },
   "outputs": [],
   "source": [
    "dup_pairs = cPickle.load(open('1-5_2018_duplicated_pairs.p', 'rb'))"
   ]
  },
  {
   "cell_type": "code",
   "execution_count": 63,
   "metadata": {
    "collapsed": true
   },
   "outputs": [],
   "source": [
    "df = pd.DataFrame.from_records(dup_pairs, columns=['task1','task2'])"
   ]
  },
  {
   "cell_type": "code",
   "execution_count": 64,
   "metadata": {
    "collapsed": false
   },
   "outputs": [
    {
     "data": {
      "text/plain": [
       "4659"
      ]
     },
     "execution_count": 64,
     "metadata": {},
     "output_type": "execute_result"
    }
   ],
   "source": [
    "len(df)"
   ]
  },
  {
   "cell_type": "code",
   "execution_count": 65,
   "metadata": {
    "collapsed": false,
    "scrolled": true
   },
   "outputs": [
    {
     "data": {
      "text/html": [
       "<div>\n",
       "<table border=\"1\" class=\"dataframe\">\n",
       "  <thead>\n",
       "    <tr style=\"text-align: right;\">\n",
       "      <th></th>\n",
       "      <th>task1</th>\n",
       "      <th>task2</th>\n",
       "    </tr>\n",
       "  </thead>\n",
       "  <tbody>\n",
       "    <tr>\n",
       "      <th>0</th>\n",
       "      <td>1759453</td>\n",
       "      <td>1759451</td>\n",
       "    </tr>\n",
       "    <tr>\n",
       "      <th>1</th>\n",
       "      <td>1713183</td>\n",
       "      <td>1713187</td>\n",
       "    </tr>\n",
       "    <tr>\n",
       "      <th>2</th>\n",
       "      <td>1544663</td>\n",
       "      <td>1544665</td>\n",
       "    </tr>\n",
       "  </tbody>\n",
       "</table>\n",
       "</div>"
      ],
      "text/plain": [
       "     task1    task2\n",
       "0  1759453  1759451\n",
       "1  1713183  1713187\n",
       "2  1544663  1544665"
      ]
     },
     "execution_count": 65,
     "metadata": {},
     "output_type": "execute_result"
    }
   ],
   "source": [
    "df.head(3)"
   ]
  },
  {
   "cell_type": "code",
   "execution_count": 66,
   "metadata": {
    "collapsed": false
   },
   "outputs": [
    {
     "name": "stdout",
     "output_type": "stream",
     "text": [
      "total number of tickets that have dups in 1-5 2018:  5583\n"
     ]
    }
   ],
   "source": [
    "df_dups = set(df['task1'].tolist() + df['task2'].tolist())\n",
    "print \"total number of tickets that have dups in 1-5 2018: \", len(df_dups)"
   ]
  },
  {
   "cell_type": "code",
   "execution_count": 67,
   "metadata": {
    "collapsed": false
   },
   "outputs": [
    {
     "name": "stdout",
     "output_type": "stream",
     "text": [
      "total number of tickets from snap task in 1-5 2018:  15996\n"
     ]
    }
   ],
   "source": [
    "df_task = set(data_dict.keys())\n",
    "print \"total number of tickets from snap task in 1-5 2018: \", len(df_task)"
   ]
  },
  {
   "cell_type": "code",
   "execution_count": 68,
   "metadata": {
    "collapsed": false
   },
   "outputs": [
    {
     "name": "stdout",
     "output_type": "stream",
     "text": [
      "total number of tickets that have dups from snap task in 1-5 2018:  4788\n"
     ]
    }
   ],
   "source": [
    "df_all = df_task.intersection(df_dups)\n",
    "print \"total number of tickets that have dups from snap task in 1-5 2018: \", len(df_all)"
   ]
  },
  {
   "cell_type": "code",
   "execution_count": 69,
   "metadata": {
    "collapsed": false
   },
   "outputs": [],
   "source": [
    "df = df[(df['task1'].isin(list(df_all))) & (df['task2'].isin(list(df_all)))]"
   ]
  },
  {
   "cell_type": "code",
   "execution_count": 70,
   "metadata": {
    "collapsed": false
   },
   "outputs": [
    {
     "name": "stdout",
     "output_type": "stream",
     "text": [
      "total number dup pairs in 1-5 2018:  3350\n"
     ]
    }
   ],
   "source": [
    "print \"total number dup pairs in 1-5 2018: \", len(df)"
   ]
  },
  {
   "cell_type": "code",
   "execution_count": 71,
   "metadata": {
    "collapsed": false
   },
   "outputs": [],
   "source": [
    "def compute_feature_for_pair(df,data_dict):\n",
    "    d1 = df['task1'].tolist()\n",
    "    d2 = df['task2'].tolist()\n",
    "    rst = []\n",
    "    ct = 0\n",
    "    for p1,p2 in zip(d1,d2):\n",
    "        if ct%10000 == 0:\n",
    "            print ct, len(d1)\n",
    "        ct = ct +1\n",
    "        t = [get_content_snap(data_dict, p1), get_content_snap(data_dict, p2)]\n",
    "        #print p1,p2\n",
    "        v = get_match_score(t)\n",
    "        rst.append(v)\n",
    "        \n",
    "    df_rst = pd.DataFrame.from_records(rst, columns=['task1','task2','input_match','summary_match','featureDesc_match','create_diff',\\\n",
    "                                           'same_device_model','same_app','same_user','same_appV1','same_appV2','same_appV3',\\\n",
    "                                           'same_os1','same_os2','same_city','same_locale'])    \n",
    "        \n",
    "    return df_rst"
   ]
  },
  {
   "cell_type": "code",
   "execution_count": 72,
   "metadata": {
    "collapsed": false
   },
   "outputs": [
    {
     "name": "stdout",
     "output_type": "stream",
     "text": [
      "0 3350\n"
     ]
    }
   ],
   "source": [
    "df_same = compute_feature_for_pair(df,data_dict)"
   ]
  },
  {
   "cell_type": "markdown",
   "metadata": {},
   "source": [
    "# analysis"
   ]
  },
  {
   "cell_type": "code",
   "execution_count": 73,
   "metadata": {
    "collapsed": false
   },
   "outputs": [
    {
     "data": {
      "text/plain": [
       "2602"
      ]
     },
     "execution_count": 73,
     "metadata": {},
     "output_type": "execute_result"
    }
   ],
   "source": [
    "df_same[(df_same.same_os1==1) & (df_same.same_app==1) ].count().task1"
   ]
  },
  {
   "cell_type": "code",
   "execution_count": 74,
   "metadata": {
    "collapsed": false
   },
   "outputs": [
    {
     "data": {
      "text/plain": [
       "3350"
      ]
     },
     "execution_count": 74,
     "metadata": {},
     "output_type": "execute_result"
    }
   ],
   "source": [
    "df_same.count().task1"
   ]
  },
  {
   "cell_type": "code",
   "execution_count": 75,
   "metadata": {
    "collapsed": false
   },
   "outputs": [
    {
     "data": {
      "text/plain": [
       "0.7767164179104478"
      ]
     },
     "execution_count": 75,
     "metadata": {},
     "output_type": "execute_result"
    }
   ],
   "source": [
    "float(2602)/float(3350)"
   ]
  },
  {
   "cell_type": "code",
   "execution_count": 76,
   "metadata": {
    "collapsed": true
   },
   "outputs": [],
   "source": [
    "d1 = df['task1'].tolist()\n",
    "d2 = df['task2'].tolist()\n",
    "d = list(set(d1+d2))\n",
    "rst = []\n",
    "for p in d:\n",
    "    t = get_content_snap(data_dict, p)\n",
    "    rst.append([p, t['app_name'], t['app_version'], t['city_id'], t['created_at'], t['descr'], t['device_model'], t['feature_descr'], t['locale'], t['os_version'], t['report_id'], t['user_input'], t['user_summary'], t['user_uuid']])\n",
    "df_rst = pd.DataFrame.from_records(rst, columns = ['task_id', 'app_name', 'app_version','city_id', 'created_at', 'descr','device_model', 'feature_descr', 'locale','os_version', 'report_id', 'user_input', 'user_summary', 'user_uuid'])"
   ]
  },
  {
   "cell_type": "code",
   "execution_count": 77,
   "metadata": {
    "collapsed": false
   },
   "outputs": [],
   "source": [
    "df_rst['os_type'] = df_rst.apply(lambda row: os_version_preprocess(row['os_version'])[0], axis=1)"
   ]
  },
  {
   "cell_type": "code",
   "execution_count": 78,
   "metadata": {
    "collapsed": false
   },
   "outputs": [
    {
     "data": {
      "text/html": [
       "<div>\n",
       "<table border=\"1\" class=\"dataframe\">\n",
       "  <thead>\n",
       "    <tr style=\"text-align: right;\">\n",
       "      <th></th>\n",
       "      <th>task_id</th>\n",
       "    </tr>\n",
       "    <tr>\n",
       "      <th>app_name</th>\n",
       "      <th></th>\n",
       "    </tr>\n",
       "  </thead>\n",
       "  <tbody>\n",
       "    <tr>\n",
       "      <th>carbon</th>\n",
       "      <td>214</td>\n",
       "    </tr>\n",
       "    <tr>\n",
       "      <th>driver</th>\n",
       "      <td>89</td>\n",
       "    </tr>\n",
       "    <tr>\n",
       "      <th>fleet</th>\n",
       "      <td>3</td>\n",
       "    </tr>\n",
       "    <tr>\n",
       "      <th>helix</th>\n",
       "      <td>2561</td>\n",
       "    </tr>\n",
       "    <tr>\n",
       "      <th>helix uber</th>\n",
       "      <td>783</td>\n",
       "    </tr>\n",
       "    <tr>\n",
       "      <th>helix uber exo</th>\n",
       "      <td>6</td>\n",
       "    </tr>\n",
       "    <tr>\n",
       "      <th>uberdriver</th>\n",
       "      <td>410</td>\n",
       "    </tr>\n",
       "    <tr>\n",
       "      <th>ubernav</th>\n",
       "      <td>4</td>\n",
       "    </tr>\n",
       "    <tr>\n",
       "      <th>ubernav build date: jan  5 2018</th>\n",
       "      <td>2</td>\n",
       "    </tr>\n",
       "    <tr>\n",
       "      <th>ubernav build date: mar 20 2018</th>\n",
       "      <td>2</td>\n",
       "    </tr>\n",
       "  </tbody>\n",
       "</table>\n",
       "</div>"
      ],
      "text/plain": [
       "                                 task_id\n",
       "app_name                                \n",
       "carbon                               214\n",
       "driver                                89\n",
       "fleet                                  3\n",
       "helix                               2561\n",
       "helix uber                           783\n",
       "helix uber exo                         6\n",
       "uberdriver                           410\n",
       "ubernav                                4\n",
       "ubernav build date: jan  5 2018        2\n",
       "ubernav build date: mar 20 2018        2"
      ]
     },
     "execution_count": 78,
     "metadata": {},
     "output_type": "execute_result"
    }
   ],
   "source": [
    "df_rst[['task_id','app_name']].groupby(['app_name']).count()"
   ]
  },
  {
   "cell_type": "code",
   "execution_count": 79,
   "metadata": {
    "collapsed": false
   },
   "outputs": [
    {
     "data": {
      "text/html": [
       "<div>\n",
       "<table border=\"1\" class=\"dataframe\">\n",
       "  <thead>\n",
       "    <tr style=\"text-align: right;\">\n",
       "      <th></th>\n",
       "      <th>task_id</th>\n",
       "    </tr>\n",
       "    <tr>\n",
       "      <th>os_type</th>\n",
       "      <th></th>\n",
       "    </tr>\n",
       "  </thead>\n",
       "  <tbody>\n",
       "    <tr>\n",
       "      <th>android</th>\n",
       "      <td>885</td>\n",
       "    </tr>\n",
       "    <tr>\n",
       "      <th>ios</th>\n",
       "      <td>3189</td>\n",
       "    </tr>\n",
       "  </tbody>\n",
       "</table>\n",
       "</div>"
      ],
      "text/plain": [
       "         task_id\n",
       "os_type         \n",
       "android      885\n",
       "ios         3189"
      ]
     },
     "execution_count": 79,
     "metadata": {},
     "output_type": "execute_result"
    }
   ],
   "source": [
    "df_rst[['task_id','os_type']].groupby(['os_type']).count()"
   ]
  },
  {
   "cell_type": "code",
   "execution_count": 80,
   "metadata": {
    "collapsed": false,
    "scrolled": true
   },
   "outputs": [
    {
     "data": {
      "text/html": [
       "<div>\n",
       "<table border=\"1\" class=\"dataframe\">\n",
       "  <thead>\n",
       "    <tr style=\"text-align: right;\">\n",
       "      <th></th>\n",
       "      <th></th>\n",
       "      <th>task_id</th>\n",
       "    </tr>\n",
       "    <tr>\n",
       "      <th>app_name</th>\n",
       "      <th>os_type</th>\n",
       "      <th></th>\n",
       "    </tr>\n",
       "  </thead>\n",
       "  <tbody>\n",
       "    <tr>\n",
       "      <th>carbon</th>\n",
       "      <th>ios</th>\n",
       "      <td>214</td>\n",
       "    </tr>\n",
       "    <tr>\n",
       "      <th>driver</th>\n",
       "      <th>android</th>\n",
       "      <td>89</td>\n",
       "    </tr>\n",
       "    <tr>\n",
       "      <th>helix</th>\n",
       "      <th>ios</th>\n",
       "      <td>2561</td>\n",
       "    </tr>\n",
       "    <tr>\n",
       "      <th>helix uber</th>\n",
       "      <th>android</th>\n",
       "      <td>783</td>\n",
       "    </tr>\n",
       "    <tr>\n",
       "      <th>uberdriver</th>\n",
       "      <th>ios</th>\n",
       "      <td>410</td>\n",
       "    </tr>\n",
       "  </tbody>\n",
       "</table>\n",
       "</div>"
      ],
      "text/plain": [
       "                    task_id\n",
       "app_name   os_type         \n",
       "carbon     ios          214\n",
       "driver     android       89\n",
       "helix      ios         2561\n",
       "helix uber android      783\n",
       "uberdriver ios          410"
      ]
     },
     "execution_count": 80,
     "metadata": {},
     "output_type": "execute_result"
    }
   ],
   "source": [
    "df_rst[['task_id','app_name', 'os_type']][df_rst.app_name.isin(['carbon', 'driver', 'helix', 'helix uber', 'uberdriver'])].groupby(['app_name','os_type']).count()"
   ]
  },
  {
   "cell_type": "markdown",
   "metadata": {},
   "source": [
    "## create random pair"
   ]
  },
  {
   "cell_type": "code",
   "execution_count": 81,
   "metadata": {
    "collapsed": true
   },
   "outputs": [],
   "source": [
    "d1 = df['task1'].tolist()\n",
    "d2 = df['task2'].tolist()"
   ]
  },
  {
   "cell_type": "code",
   "execution_count": 82,
   "metadata": {
    "collapsed": false
   },
   "outputs": [],
   "source": [
    "random_list = []\n",
    "for i in range(10000):\n",
    "    p = random.sample(set(d1+d2), 2)\n",
    "    if (df[(df['task1']==p[0]) & (df['task2']==p[1])].empty) \\\n",
    "       and (df[(df['task2']==p[0]) & (df['task1']==p[1])].empty):\n",
    "        random_list.append(p)\n",
    "df_random = pd.DataFrame.from_records(random_list, columns=['task1','task2'])   "
   ]
  },
  {
   "cell_type": "code",
   "execution_count": 83,
   "metadata": {
    "collapsed": false
   },
   "outputs": [
    {
     "data": {
      "text/plain": [
       "(9995, 2)"
      ]
     },
     "execution_count": 83,
     "metadata": {},
     "output_type": "execute_result"
    }
   ],
   "source": [
    "df_random.shape"
   ]
  },
  {
   "cell_type": "code",
   "execution_count": 84,
   "metadata": {
    "collapsed": false
   },
   "outputs": [
    {
     "data": {
      "text/html": [
       "<div>\n",
       "<table border=\"1\" class=\"dataframe\">\n",
       "  <thead>\n",
       "    <tr style=\"text-align: right;\">\n",
       "      <th></th>\n",
       "      <th>task1</th>\n",
       "      <th>task2</th>\n",
       "    </tr>\n",
       "  </thead>\n",
       "  <tbody>\n",
       "    <tr>\n",
       "      <th>0</th>\n",
       "      <td>1698341</td>\n",
       "      <td>1522665</td>\n",
       "    </tr>\n",
       "    <tr>\n",
       "      <th>1</th>\n",
       "      <td>1800825</td>\n",
       "      <td>1646045</td>\n",
       "    </tr>\n",
       "    <tr>\n",
       "      <th>2</th>\n",
       "      <td>1682539</td>\n",
       "      <td>1705731</td>\n",
       "    </tr>\n",
       "  </tbody>\n",
       "</table>\n",
       "</div>"
      ],
      "text/plain": [
       "     task1    task2\n",
       "0  1698341  1522665\n",
       "1  1800825  1646045\n",
       "2  1682539  1705731"
      ]
     },
     "execution_count": 84,
     "metadata": {},
     "output_type": "execute_result"
    }
   ],
   "source": [
    "df_random.head(3)"
   ]
  },
  {
   "cell_type": "code",
   "execution_count": 85,
   "metadata": {
    "collapsed": false
   },
   "outputs": [
    {
     "name": "stdout",
     "output_type": "stream",
     "text": [
      "0 9995\n"
     ]
    }
   ],
   "source": [
    "df_diff = compute_feature_for_pair(df_random,data_dict)"
   ]
  },
  {
   "cell_type": "code",
   "execution_count": 86,
   "metadata": {
    "collapsed": false
   },
   "outputs": [
    {
     "data": {
      "text/plain": [
       "4628"
      ]
     },
     "execution_count": 86,
     "metadata": {},
     "output_type": "execute_result"
    }
   ],
   "source": [
    "df_diff[(df_diff.same_os1==1) & (df_diff.same_app==1)].count().task1"
   ]
  },
  {
   "cell_type": "markdown",
   "metadata": {},
   "source": [
    "---"
   ]
  },
  {
   "cell_type": "code",
   "execution_count": 87,
   "metadata": {
    "collapsed": true
   },
   "outputs": [],
   "source": [
    "df_same = df_same[(df_same.same_os1==1) & (df_same.same_app==1)]\n",
    "df_diff = df_diff[(df_diff.same_os1==1) & (df_diff.same_app==1)]"
   ]
  },
  {
   "cell_type": "markdown",
   "metadata": {
    "collapsed": true
   },
   "source": [
    "## classification"
   ]
  },
  {
   "cell_type": "code",
   "execution_count": 88,
   "metadata": {
    "collapsed": true
   },
   "outputs": [],
   "source": [
    "from sklearn.model_selection import train_test_split,cross_val_score,ShuffleSplit\n",
    "from sklearn import svm\n",
    "from sklearn import preprocessing\n",
    "from sklearn.linear_model import LogisticRegression\n",
    "from sklearn.pipeline import make_pipeline\n",
    "from sklearn.metrics import precision_recall_curve,average_precision_score"
   ]
  },
  {
   "cell_type": "code",
   "execution_count": 89,
   "metadata": {
    "collapsed": false
   },
   "outputs": [
    {
     "data": {
      "text/plain": [
       "4628"
      ]
     },
     "execution_count": 89,
     "metadata": {},
     "output_type": "execute_result"
    }
   ],
   "source": [
    "len(df_diff)"
   ]
  },
  {
   "cell_type": "code",
   "execution_count": 90,
   "metadata": {
    "collapsed": false
   },
   "outputs": [
    {
     "data": {
      "text/plain": [
       "2602"
      ]
     },
     "execution_count": 90,
     "metadata": {},
     "output_type": "execute_result"
    }
   ],
   "source": [
    "len(df_same)"
   ]
  },
  {
   "cell_type": "code",
   "execution_count": 91,
   "metadata": {
    "collapsed": false
   },
   "outputs": [],
   "source": [
    "tasks_same = list(set(df_same.task1.values.tolist() + df_same.task2.values.tolist()))\n",
    "task_same_test = random.sample(tasks_same, 500)\n",
    "df_same_train = df_same[(~df_same.task1.isin(task_same_test))&(~df_same.task2.isin(task_same_test))]\n",
    "df_same_test = df_same[(df_same.task1.isin(task_same_test))|(df_same.task2.isin(task_same_test))]"
   ]
  },
  {
   "cell_type": "code",
   "execution_count": 92,
   "metadata": {
    "collapsed": false
   },
   "outputs": [],
   "source": [
    "tasks_diff = list(set(df_diff.task1.values.tolist() + df_diff.task2.values.tolist()))\n",
    "task_diff_test = random.sample(tasks_diff, 500)\n",
    "df_diff_train = df_diff[(~df_diff.task1.isin(task_diff_test))&(~df_diff.task2.isin(task_diff_test))]\n",
    "df_diff_test = df_diff[(df_diff.task1.isin(task_diff_test))|(df_diff.task2.isin(task_diff_test))]"
   ]
  },
  {
   "cell_type": "code",
   "execution_count": 93,
   "metadata": {
    "collapsed": false
   },
   "outputs": [
    {
     "name": "stdout",
     "output_type": "stream",
     "text": [
      "1936 666 3330 1298\n"
     ]
    }
   ],
   "source": [
    "print len(df_same_train), len(df_same_test), len(df_diff_train), len(df_diff_test)"
   ]
  },
  {
   "cell_type": "code",
   "execution_count": 94,
   "metadata": {
    "collapsed": false
   },
   "outputs": [],
   "source": [
    "data_sim_train = df_same_train[['input_match','summary_match','featureDesc_match','create_diff',\\\n",
    "                    'same_device_model','same_user','same_appV1','same_appV2','same_appV3',\\\n",
    "                    'same_city','same_locale']]\n",
    "data_sim_test = df_same_test[['input_match','summary_match','featureDesc_match','create_diff',\\\n",
    "                    'same_device_model','same_user','same_appV1','same_appV2','same_appV3',\\\n",
    "                    'same_city','same_locale']]"
   ]
  },
  {
   "cell_type": "code",
   "execution_count": 95,
   "metadata": {
    "collapsed": false
   },
   "outputs": [],
   "source": [
    "data_random_train = df_diff_train[['input_match','summary_match','featureDesc_match','create_diff',\\\n",
    "                    'same_device_model','same_user','same_appV1','same_appV2','same_appV3',\\\n",
    "                    'same_city','same_locale']]\n",
    "\n",
    "data_random_test = df_diff_test[['input_match','summary_match','featureDesc_match','create_diff',\\\n",
    "                    'same_device_model','same_user','same_appV1','same_appV2','same_appV3',\\\n",
    "                    'same_city','same_locale']]"
   ]
  },
  {
   "cell_type": "code",
   "execution_count": 96,
   "metadata": {
    "collapsed": true
   },
   "outputs": [],
   "source": [
    "corr_matrix = data_sim_train.corr().abs()"
   ]
  },
  {
   "cell_type": "code",
   "execution_count": 97,
   "metadata": {
    "collapsed": false
   },
   "outputs": [
    {
     "name": "stdout",
     "output_type": "stream",
     "text": [
      "(5266,) (1964,)\n"
     ]
    }
   ],
   "source": [
    "data_sim_train = data_sim_train.fillna(0)\n",
    "data_random_train = data_random_train.fillna(0)\n",
    "data_sim_test = data_sim_test.fillna(0)\n",
    "data_random_test = data_random_test.fillna(0)\n",
    "X_sim_train = data_sim_train.as_matrix()\n",
    "X_random_train = data_random_train.as_matrix()\n",
    "X_sim_test = data_sim_test.as_matrix()\n",
    "X_random_test = data_random_test.as_matrix()\n",
    "\n",
    "X_train = np.vstack((X_sim_train, X_random_train))\n",
    "X_test = np.vstack((X_sim_test, X_random_test))\n",
    "\n",
    "labels_train = np.hstack((np.ones(X_sim_train.shape[0]), np.zeros(X_random_train.shape[0])))\n",
    "y_train = labels_train.astype(int)\n",
    "\n",
    "labels_test = np.hstack((np.ones(X_sim_test.shape[0]), np.zeros(X_random_test.shape[0])))\n",
    "y_test = labels_test.astype(int)\n",
    "print y_train.shape, y_test.shape\n",
    "\n",
    "#X_train, X_test, y_train, y_test = train_test_split(X, labels, test_size=0.2, random_state=0)\n",
    "scaler = preprocessing.StandardScaler().fit(X_train)\n",
    "X_train_transformed = scaler.transform(X_train)\n",
    "X_test_transformed = scaler.transform(X_test)"
   ]
  },
  {
   "cell_type": "code",
   "execution_count": 98,
   "metadata": {
    "collapsed": false
   },
   "outputs": [
    {
     "data": {
      "text/plain": [
       "0.85183299389002032"
      ]
     },
     "execution_count": 98,
     "metadata": {},
     "output_type": "execute_result"
    }
   ],
   "source": [
    "lrcf = LogisticRegression()\n",
    "lrcf.fit(X_train_transformed, y_train)\n",
    "lrcf.score(X_test_transformed, y_test)"
   ]
  },
  {
   "cell_type": "code",
   "execution_count": 99,
   "metadata": {
    "collapsed": false
   },
   "outputs": [
    {
     "name": "stdout",
     "output_type": "stream",
     "text": [
      "Average precision-recall score: 0.84\n"
     ]
    },
    {
     "data": {
      "text/plain": [
       "<matplotlib.text.Text at 0x7f54641f0950>"
      ]
     },
     "execution_count": 99,
     "metadata": {},
     "output_type": "execute_result"
    },
    {
     "data": {
      "image/png": "[encoded data removed]",
      "text/plain": [
       "<matplotlib.figure.Figure at 0x7f52f100e250>"
      ]
     },
     "metadata": {},
     "output_type": "display_data"
    }
   ],
   "source": [
    "y_score = lrcf.decision_function(X_test_transformed)\n",
    "average_precision = average_precision_score(y_test, y_score)\n",
    "\n",
    "print('Average precision-recall score: {0:0.2f}'.format(\n",
    "      average_precision))\n",
    "\n",
    "precision, recall, _ = precision_recall_curve(y_test, y_score)\n",
    "\n",
    "plt.step(recall, precision, color='b', alpha=0.2,\n",
    "         where='post')\n",
    "plt.fill_between(recall, precision, step='post', alpha=0.2,\n",
    "                 color='b')\n",
    "\n",
    "plt.xlabel('Recall')\n",
    "plt.ylabel('Precision')\n",
    "plt.ylim([0.0, 1.05])\n",
    "plt.xlim([0.0, 1.0])\n",
    "plt.title('2-class Precision-Recall curve: AP={0:0.2f}'.format(\n",
    "          average_precision))"
   ]
  },
  {
   "cell_type": "code",
   "execution_count": 100,
   "metadata": {
    "collapsed": false
   },
   "outputs": [
    {
     "data": {
      "text/plain": [
       "([<matplotlib.axis.XTick at 0x7f54643dded0>,\n",
       "  <matplotlib.axis.XTick at 0x7f54643dd6d0>,\n",
       "  <matplotlib.axis.XTick at 0x7f5464254910>,\n",
       "  <matplotlib.axis.XTick at 0x7f546439c290>,\n",
       "  <matplotlib.axis.XTick at 0x7f546439c790>,\n",
       "  <matplotlib.axis.XTick at 0x7f546439cc90>,\n",
       "  <matplotlib.axis.XTick at 0x7f54642ab1d0>,\n",
       "  <matplotlib.axis.XTick at 0x7f54642ab810>,\n",
       "  <matplotlib.axis.XTick at 0x7f54642abf90>,\n",
       "  <matplotlib.axis.XTick at 0x7f54642b4750>,\n",
       "  <matplotlib.axis.XTick at 0x7f54642b4ed0>],\n",
       " <a list of 11 Text xticklabel objects>)"
      ]
     },
     "execution_count": 100,
     "metadata": {},
     "output_type": "execute_result"
    },
    {
     "data": {
      "image/png": "[encoded data removed]",
      "text/plain": [
       "<matplotlib.figure.Figure at 0x7f52f100ebd0>"
      ]
     },
     "metadata": {},
     "output_type": "display_data"
    }
   ],
   "source": [
    "feature_names = ['input_match','summary_match','featureDesc_match','create_diff',\\\n",
    "                    'same_device_model','same_user','same_appV1','same_appV2','same_appV3',\\\n",
    "                    'same_city','same_locale']\n",
    "coef = lrcf.coef_.ravel()\n",
    "plt.figure()\n",
    "plt.bar(np.arange(len(feature_names)), coef)\n",
    "plt.xticks(np.arange(len(feature_names)), feature_names, rotation=70)"
   ]
  },
  {
   "cell_type": "markdown",
   "metadata": {
    "collapsed": true
   },
   "source": [
    "# testing and clustering"
   ]
  },
  {
   "cell_type": "code",
   "execution_count": 107,
   "metadata": {
    "collapsed": true
   },
   "outputs": [],
   "source": [
    "# 6,7,8 2018 snaptask tickets from ELK\n",
    "\n",
    "data_dict_test = {}\n",
    "filelist = glob.glob(\"./task_content_train/task_content_7_*-2018.txt\")\n",
    "for f in filelist:\n",
    "    with open(f) as json_file:  \n",
    "        data = json.load(json_file)\n",
    "        if 'hits' in data:\n",
    "            if 'hits' in data['hits']:\n",
    "                for d in data['hits']['hits']:\n",
    "                    if 'phabId' in d['_source']:\n",
    "                        data_dict_test[d['_source']['phabId'][1:]] = d['_source']"
   ]
  },
  {
   "cell_type": "code",
   "execution_count": 108,
   "metadata": {
    "collapsed": false
   },
   "outputs": [
    {
     "data": {
      "text/plain": [
       "2515"
      ]
     },
     "execution_count": 108,
     "metadata": {},
     "output_type": "execute_result"
    }
   ],
   "source": [
    "len(data_dict_test)"
   ]
  },
  {
   "cell_type": "code",
   "execution_count": 109,
   "metadata": {
    "collapsed": false
   },
   "outputs": [],
   "source": [
    "df_test = []\n",
    "testIdList = data_dict_test.keys()\n",
    "for i in range(len(testIdList)):\n",
    "    for j in range(i+1,len(testIdList)):\n",
    "        df_test.append([str(testIdList[i]),str(testIdList[j])])"
   ]
  },
  {
   "cell_type": "code",
   "execution_count": 110,
   "metadata": {
    "collapsed": false
   },
   "outputs": [
    {
     "data": {
      "text/plain": [
       "3161355"
      ]
     },
     "execution_count": 110,
     "metadata": {},
     "output_type": "execute_result"
    }
   ],
   "source": [
    "df_test = pd.DataFrame.from_records(df_test, columns=['task1','task2'])    \n",
    "len(df_test)"
   ]
  },
  {
   "cell_type": "code",
   "execution_count": 111,
   "metadata": {
    "collapsed": true
   },
   "outputs": [
    {
     "name": "stdout",
     "output_type": "stream",
     "text": [
      "0 3161355\n",
      "10000 3161355\n",
      "20000 3161355\n",
      "30000 3161355\n",
      "40000 3161355\n",
      "50000 3161355\n",
      "60000 3161355\n",
      "70000 3161355\n",
      "80000 3161355\n",
      "90000 3161355\n",
      "100000 3161355\n",
      "110000 3161355\n",
      "120000 3161355\n",
      "130000 3161355\n",
      "140000 3161355\n",
      "150000 3161355\n",
      "160000 3161355\n",
      "170000 3161355\n",
      "180000 3161355\n",
      "190000 3161355\n",
      "200000 3161355\n",
      "210000 3161355\n",
      "220000 3161355\n",
      "230000 3161355\n",
      "240000 3161355\n",
      "250000 3161355\n",
      "260000 3161355\n",
      "270000 3161355\n",
      "280000 3161355\n",
      "290000 3161355\n",
      "300000 3161355\n",
      "310000 3161355\n",
      "320000 3161355\n",
      "330000 3161355\n",
      "340000 3161355\n",
      "350000 3161355\n",
      "360000 3161355\n",
      "370000 3161355\n",
      "380000 3161355\n",
      "390000 3161355\n",
      "400000 3161355\n",
      "410000 3161355\n",
      "420000 3161355\n",
      "430000 3161355\n",
      "440000 3161355\n",
      "450000 3161355\n",
      "460000 3161355\n",
      "470000 3161355\n",
      "480000 3161355\n",
      "490000 3161355\n",
      "500000 3161355\n",
      "510000 3161355\n",
      "520000 3161355\n",
      "530000 3161355\n",
      "540000 3161355\n",
      "550000 3161355\n",
      "560000 3161355\n",
      "570000 3161355\n",
      "580000 3161355\n",
      "590000 3161355\n",
      "600000 3161355\n",
      "610000 3161355\n",
      "620000 3161355\n",
      "630000 3161355\n",
      "640000 3161355\n",
      "650000 3161355\n",
      "660000 3161355\n",
      "670000 3161355\n",
      "680000 3161355\n",
      "690000 3161355\n",
      "700000 3161355\n",
      "710000 3161355\n",
      "720000 3161355\n",
      "730000 3161355\n",
      "740000 3161355\n",
      "750000 3161355\n",
      "760000 3161355\n",
      "770000 3161355\n",
      "780000 3161355\n",
      "790000 3161355\n",
      "800000 3161355\n",
      "810000 3161355\n",
      "820000 3161355\n",
      "830000 3161355\n",
      "840000 3161355\n",
      "850000 3161355\n",
      "860000 3161355\n",
      "870000 3161355\n",
      "880000 3161355\n",
      "890000 3161355\n",
      "900000 3161355\n",
      "910000 3161355\n",
      "920000 3161355\n",
      "930000 3161355\n",
      "940000 3161355\n",
      "950000 3161355\n",
      "960000 3161355\n",
      "970000 3161355\n",
      "980000 3161355\n",
      "990000 3161355\n",
      "1000000 3161355\n",
      "1010000 3161355\n",
      "1020000 3161355\n",
      "1030000 3161355\n",
      "1040000 3161355\n",
      "1050000 3161355\n",
      "1060000 3161355\n",
      "1070000 3161355\n",
      "1080000 3161355\n",
      "1090000 3161355\n",
      "1100000 3161355\n",
      "1110000 3161355\n",
      "1120000 3161355\n",
      "1130000 3161355\n",
      "1140000 3161355\n",
      "1150000 3161355\n",
      "1160000 3161355\n",
      "1170000 3161355\n",
      "1180000 3161355\n",
      "1190000 3161355\n",
      "1200000 3161355\n",
      "1210000 3161355\n",
      "1220000 3161355\n",
      "1230000 3161355\n",
      "1240000 3161355\n",
      "1250000 3161355\n",
      "1260000 3161355\n",
      "1270000 3161355\n",
      "1280000 3161355\n",
      "1290000 3161355\n",
      "1300000 3161355\n",
      "1310000 3161355\n",
      "1320000 3161355\n",
      "1330000 3161355\n",
      "1340000 3161355\n",
      "1350000 3161355\n",
      "1360000 3161355\n",
      "1370000 3161355\n",
      "1380000 3161355\n",
      "1390000 3161355\n",
      "1400000 3161355\n",
      "1410000 3161355\n",
      "1420000 3161355\n",
      "1430000 3161355\n",
      "1440000 3161355\n",
      "1450000 3161355\n",
      "1460000 3161355\n",
      "1470000 3161355\n",
      "1480000 3161355\n",
      "1490000 3161355\n",
      "1500000 3161355\n",
      "1510000 3161355\n",
      "1520000 3161355\n",
      "1530000 3161355\n",
      "1540000 3161355\n",
      "1550000 3161355\n",
      "1560000 3161355\n",
      "1570000 3161355\n",
      "1580000 3161355\n",
      "1590000 3161355\n",
      "1600000 3161355\n",
      "1610000 3161355\n",
      "1620000 3161355\n",
      "1630000 3161355\n",
      "1640000 3161355\n",
      "1650000 3161355\n",
      "1660000 3161355\n",
      "1670000 3161355\n",
      "1680000 3161355\n",
      "1690000 3161355\n",
      "1700000 3161355\n",
      "1710000 3161355\n",
      "1720000 3161355\n",
      "1730000 3161355\n",
      "1740000 3161355\n",
      "1750000 3161355\n",
      "1760000 3161355\n",
      "1770000 3161355\n",
      "1780000 3161355\n",
      "1790000 3161355\n",
      "1800000 3161355\n",
      "1810000 3161355\n",
      "1820000 3161355\n",
      "1830000 3161355\n",
      "1840000 3161355\n",
      "1850000 3161355\n",
      "1860000 3161355\n",
      "1870000 3161355\n",
      "1880000 3161355\n",
      "1890000 3161355\n",
      "1900000 3161355\n",
      "1910000 3161355\n",
      "1920000 3161355\n",
      "1930000 3161355\n",
      "1940000 3161355\n",
      "1950000 3161355\n",
      "1960000 3161355\n",
      "1970000 3161355\n",
      "1980000 3161355\n",
      "1990000 3161355\n",
      "2000000 3161355\n",
      "2010000 3161355\n",
      "2020000 3161355\n",
      "2030000 3161355\n",
      "2040000 3161355\n",
      "2050000 3161355\n",
      "2060000 3161355\n",
      "2070000 3161355\n",
      "2080000 3161355\n",
      "2090000 3161355\n",
      "2100000 3161355\n",
      "2110000 3161355\n",
      "2120000 3161355\n",
      "2130000 3161355\n",
      "2140000 3161355\n",
      "2150000 3161355\n",
      "2160000 3161355\n",
      "2170000 3161355\n",
      "2180000 3161355\n",
      "2190000 3161355\n",
      "2200000 3161355\n",
      "2210000 3161355\n",
      "2220000 3161355\n",
      "2230000 3161355\n",
      "2240000 3161355\n",
      "2250000 3161355\n",
      "2260000 3161355\n",
      "2270000 3161355\n",
      "2280000 3161355\n",
      "2290000 3161355\n",
      "2300000 3161355\n",
      "2310000 3161355\n",
      "2320000 3161355\n",
      "2330000 3161355\n",
      "2340000 3161355\n",
      "2350000 3161355\n",
      "2360000 3161355\n",
      "2370000 3161355\n",
      "2380000 3161355\n",
      "2390000 3161355\n",
      "2400000 3161355\n",
      "2410000 3161355\n",
      "2420000 3161355\n",
      "2430000 3161355\n",
      "2440000 3161355\n",
      "2450000 3161355\n",
      "2460000 3161355\n",
      "2470000 3161355\n",
      "2480000 3161355\n",
      "2490000 3161355\n",
      "2500000 3161355\n",
      "2510000 3161355\n",
      "2520000 3161355\n",
      "2530000 3161355\n",
      "2540000 3161355\n",
      "2550000 3161355\n",
      "2560000 3161355\n",
      "2570000 3161355\n",
      "2580000 3161355\n",
      "2590000 3161355\n",
      "2600000 3161355\n",
      "2610000 3161355\n",
      "2620000 3161355\n",
      "2630000 3161355\n",
      "2640000 3161355\n",
      "2650000 3161355\n",
      "2660000 3161355\n",
      "2670000 3161355\n",
      "2680000 3161355\n",
      "2690000 3161355\n",
      "2700000 3161355\n",
      "2710000 3161355\n",
      "2720000 3161355\n",
      "2730000 3161355\n",
      "2740000 3161355\n",
      "2750000 3161355\n",
      "2760000 3161355\n",
      "2770000 3161355\n",
      "2780000 3161355\n",
      "2790000 3161355\n",
      "2800000 3161355\n",
      "2810000 3161355\n",
      "2820000 3161355\n",
      "2830000 3161355\n",
      "2840000 3161355\n",
      "2850000 3161355\n",
      "2860000 3161355\n",
      "2870000 3161355\n",
      "2880000 3161355\n",
      "2890000 3161355\n",
      "2900000 3161355\n",
      "2910000 3161355\n",
      "2920000 3161355\n",
      "2930000 3161355\n",
      "2940000 3161355\n",
      "2950000 3161355\n",
      "2960000 3161355\n",
      "2970000 3161355\n",
      "2980000 3161355\n",
      "2990000 3161355\n",
      "3000000 3161355\n",
      "3010000 3161355\n",
      "3020000 3161355\n",
      "3030000 3161355\n",
      "3040000 3161355\n",
      "3050000 3161355\n",
      "3060000 3161355\n",
      "3070000 3161355\n",
      "3080000 3161355\n",
      "3090000 3161355\n",
      "3100000 3161355\n",
      "3110000 3161355\n",
      "3120000 3161355\n",
      "3130000 3161355\n",
      "3140000 3161355\n",
      "3150000 3161355\n",
      "3160000 3161355\n"
     ]
    }
   ],
   "source": [
    "df_test_feature = compute_feature_for_pair(df_test,data_dict_test)"
   ]
  },
  {
   "cell_type": "code",
   "execution_count": 113,
   "metadata": {
    "collapsed": false
   },
   "outputs": [
    {
     "data": {
      "text/plain": [
       "3161355"
      ]
     },
     "execution_count": 113,
     "metadata": {},
     "output_type": "execute_result"
    }
   ],
   "source": [
    "len(df_test_feature)"
   ]
  },
  {
   "cell_type": "code",
   "execution_count": 114,
   "metadata": {
    "collapsed": true
   },
   "outputs": [],
   "source": [
    "data_test = df_test_feature[['input_match','summary_match','featureDesc_match','create_diff',\\\n",
    "                    'same_device_model','same_user','same_appV1','same_appV2','same_appV3',\\\n",
    "                    'same_city','same_locale']]"
   ]
  },
  {
   "cell_type": "code",
   "execution_count": 115,
   "metadata": {
    "collapsed": true
   },
   "outputs": [],
   "source": [
    "data_test = data_test.fillna(0)\n",
    "X_test2 = data_test.as_matrix()\n",
    "X_test2_transformed = scaler.transform(X_test2)"
   ]
  },
  {
   "cell_type": "code",
   "execution_count": 116,
   "metadata": {
    "collapsed": false
   },
   "outputs": [],
   "source": [
    "r = lrcf.predict_proba(X_test2_transformed)"
   ]
  },
  {
   "cell_type": "code",
   "execution_count": 117,
   "metadata": {
    "collapsed": false
   },
   "outputs": [],
   "source": [
    "b = [i[1] for i in r]"
   ]
  },
  {
   "cell_type": "code",
   "execution_count": 243,
   "metadata": {
    "collapsed": false
   },
   "outputs": [
    {
     "data": {
      "text/plain": [
       "112980"
      ]
     },
     "execution_count": 243,
     "metadata": {},
     "output_type": "execute_result"
    }
   ],
   "source": [
    "sum(r)"
   ]
  },
  {
   "cell_type": "code",
   "execution_count": 244,
   "metadata": {
    "collapsed": false
   },
   "outputs": [
    {
     "data": {
      "text/plain": [
       "0.03573784026153343"
      ]
     },
     "execution_count": 244,
     "metadata": {},
     "output_type": "execute_result"
    }
   ],
   "source": [
    "float(112980)/float(3161355)"
   ]
  },
  {
   "cell_type": "code",
   "execution_count": 245,
   "metadata": {
    "collapsed": true
   },
   "outputs": [],
   "source": [
    "df_test_feature['predict'] = r"
   ]
  },
  {
   "cell_type": "code",
   "execution_count": 118,
   "metadata": {
    "collapsed": false
   },
   "outputs": [],
   "source": [
    "df_test_feature['predict_prob'] = b"
   ]
  },
  {
   "cell_type": "code",
   "execution_count": 249,
   "metadata": {
    "collapsed": false
   },
   "outputs": [],
   "source": [
    "df_predicted = df_test_feature[df_test_feature.predict==1]"
   ]
  },
  {
   "cell_type": "code",
   "execution_count": 250,
   "metadata": {
    "collapsed": false
   },
   "outputs": [
    {
     "data": {
      "text/plain": [
       "112980"
      ]
     },
     "execution_count": 250,
     "metadata": {},
     "output_type": "execute_result"
    }
   ],
   "source": [
    "len(df_predicted)"
   ]
  },
  {
   "cell_type": "code",
   "execution_count": 251,
   "metadata": {
    "collapsed": false
   },
   "outputs": [
    {
     "data": {
      "text/plain": [
       "7824"
      ]
     },
     "execution_count": 251,
     "metadata": {},
     "output_type": "execute_result"
    }
   ],
   "source": [
    "df_predicted2 = df_test_feature[df_test_feature.predict_prob>0.9]\n",
    "len(df_predicted2)"
   ]
  },
  {
   "cell_type": "code",
   "execution_count": 166,
   "metadata": {
    "collapsed": true
   },
   "outputs": [],
   "source": [
    "dup_pairs_6_7 = cPickle.load(open('6-7_2018_duplicated_pairs.p', 'rb'))"
   ]
  },
  {
   "cell_type": "code",
   "execution_count": 167,
   "metadata": {
    "collapsed": true
   },
   "outputs": [],
   "source": [
    "df_6_7 = pd.DataFrame.from_records(dup_pairs_6_7, columns=['task1','task2'])"
   ]
  },
  {
   "cell_type": "code",
   "execution_count": 173,
   "metadata": {
    "collapsed": false
   },
   "outputs": [
    {
     "data": {
      "text/plain": [
       "594"
      ]
     },
     "execution_count": 173,
     "metadata": {},
     "output_type": "execute_result"
    }
   ],
   "source": [
    "len(df_6_7)"
   ]
  },
  {
   "cell_type": "code",
   "execution_count": 175,
   "metadata": {
    "collapsed": false
   },
   "outputs": [],
   "source": [
    "kl =data_dict_test.keys()"
   ]
  },
  {
   "cell_type": "code",
   "execution_count": 176,
   "metadata": {
    "collapsed": true
   },
   "outputs": [],
   "source": [
    "df_6_7 = df_6_7[(df_6_7['task1'].isin(list(kl))) & (df_6_7['task2'].isin(list(kl)))]"
   ]
  },
  {
   "cell_type": "code",
   "execution_count": 177,
   "metadata": {
    "collapsed": false
   },
   "outputs": [
    {
     "data": {
      "text/plain": [
       "60"
      ]
     },
     "execution_count": 177,
     "metadata": {},
     "output_type": "execute_result"
    }
   ],
   "source": [
    "len(df_6_7)"
   ]
  },
  {
   "cell_type": "code",
   "execution_count": 179,
   "metadata": {
    "collapsed": false
   },
   "outputs": [
    {
     "name": "stdout",
     "output_type": "stream",
     "text": [
      "0 60\n"
     ]
    }
   ],
   "source": [
    "df_6_7_feature = compute_feature_for_pair(df_6_7,data_dict_test)"
   ]
  },
  {
   "cell_type": "code",
   "execution_count": 170,
   "metadata": {
    "collapsed": false
   },
   "outputs": [
    {
     "data": {
      "text/html": [
       "<div>\n",
       "<table border=\"1\" class=\"dataframe\">\n",
       "  <thead>\n",
       "    <tr style=\"text-align: right;\">\n",
       "      <th></th>\n",
       "      <th>task1</th>\n",
       "      <th>task2</th>\n",
       "      <th>input_match</th>\n",
       "      <th>summary_match</th>\n",
       "      <th>featureDesc_match</th>\n",
       "      <th>create_diff</th>\n",
       "      <th>same_device_model</th>\n",
       "      <th>same_app</th>\n",
       "      <th>same_user</th>\n",
       "      <th>same_appV1</th>\n",
       "      <th>same_appV2</th>\n",
       "      <th>same_appV3</th>\n",
       "      <th>same_os1</th>\n",
       "      <th>same_os2</th>\n",
       "      <th>same_city</th>\n",
       "      <th>same_locale</th>\n",
       "      <th>predict</th>\n",
       "      <th>predict_prob</th>\n",
       "    </tr>\n",
       "  </thead>\n",
       "  <tbody>\n",
       "    <tr>\n",
       "      <th>8</th>\n",
       "      <td>1910839</td>\n",
       "      <td>1885643</td>\n",
       "      <td>1.0</td>\n",
       "      <td>0.246575</td>\n",
       "      <td>0.130952</td>\n",
       "      <td>985377</td>\n",
       "      <td>1</td>\n",
       "      <td>1</td>\n",
       "      <td>0</td>\n",
       "      <td>1</td>\n",
       "      <td>0</td>\n",
       "      <td>0</td>\n",
       "      <td>1</td>\n",
       "      <td>0</td>\n",
       "      <td>0</td>\n",
       "      <td>1</td>\n",
       "      <td>1</td>\n",
       "      <td>0.526359</td>\n",
       "    </tr>\n",
       "    <tr>\n",
       "      <th>9</th>\n",
       "      <td>1910839</td>\n",
       "      <td>1885641</td>\n",
       "      <td>1.0</td>\n",
       "      <td>0.246575</td>\n",
       "      <td>0.130952</td>\n",
       "      <td>985390</td>\n",
       "      <td>1</td>\n",
       "      <td>1</td>\n",
       "      <td>0</td>\n",
       "      <td>1</td>\n",
       "      <td>0</td>\n",
       "      <td>0</td>\n",
       "      <td>1</td>\n",
       "      <td>0</td>\n",
       "      <td>0</td>\n",
       "      <td>1</td>\n",
       "      <td>1</td>\n",
       "      <td>0.526358</td>\n",
       "    </tr>\n",
       "    <tr>\n",
       "      <th>118</th>\n",
       "      <td>1910839</td>\n",
       "      <td>1926735</td>\n",
       "      <td>1.0</td>\n",
       "      <td>0.147170</td>\n",
       "      <td>0.000000</td>\n",
       "      <td>595824</td>\n",
       "      <td>1</td>\n",
       "      <td>1</td>\n",
       "      <td>1</td>\n",
       "      <td>1</td>\n",
       "      <td>1</td>\n",
       "      <td>1</td>\n",
       "      <td>1</td>\n",
       "      <td>1</td>\n",
       "      <td>1</td>\n",
       "      <td>1</td>\n",
       "      <td>1</td>\n",
       "      <td>0.622811</td>\n",
       "    </tr>\n",
       "    <tr>\n",
       "      <th>163</th>\n",
       "      <td>1910839</td>\n",
       "      <td>1894577</td>\n",
       "      <td>1.0</td>\n",
       "      <td>0.212687</td>\n",
       "      <td>0.046154</td>\n",
       "      <td>572978</td>\n",
       "      <td>1</td>\n",
       "      <td>1</td>\n",
       "      <td>0</td>\n",
       "      <td>1</td>\n",
       "      <td>1</td>\n",
       "      <td>1</td>\n",
       "      <td>1</td>\n",
       "      <td>0</td>\n",
       "      <td>0</td>\n",
       "      <td>0</td>\n",
       "      <td>1</td>\n",
       "      <td>0.562631</td>\n",
       "    </tr>\n",
       "    <tr>\n",
       "      <th>165</th>\n",
       "      <td>1910839</td>\n",
       "      <td>1903433</td>\n",
       "      <td>0.0</td>\n",
       "      <td>0.090164</td>\n",
       "      <td>0.135135</td>\n",
       "      <td>348210</td>\n",
       "      <td>1</td>\n",
       "      <td>1</td>\n",
       "      <td>1</td>\n",
       "      <td>1</td>\n",
       "      <td>1</td>\n",
       "      <td>1</td>\n",
       "      <td>1</td>\n",
       "      <td>1</td>\n",
       "      <td>1</td>\n",
       "      <td>1</td>\n",
       "      <td>1</td>\n",
       "      <td>0.519435</td>\n",
       "    </tr>\n",
       "  </tbody>\n",
       "</table>\n",
       "</div>"
      ],
      "text/plain": [
       "       task1    task2  input_match  summary_match  featureDesc_match  \\\n",
       "8    1910839  1885643          1.0       0.246575           0.130952   \n",
       "9    1910839  1885641          1.0       0.246575           0.130952   \n",
       "118  1910839  1926735          1.0       0.147170           0.000000   \n",
       "163  1910839  1894577          1.0       0.212687           0.046154   \n",
       "165  1910839  1903433          0.0       0.090164           0.135135   \n",
       "\n",
       "     create_diff  same_device_model  same_app  same_user  same_appV1  \\\n",
       "8         985377                  1         1          0           1   \n",
       "9         985390                  1         1          0           1   \n",
       "118       595824                  1         1          1           1   \n",
       "163       572978                  1         1          0           1   \n",
       "165       348210                  1         1          1           1   \n",
       "\n",
       "     same_appV2  same_appV3  same_os1  same_os2  same_city  same_locale  \\\n",
       "8             0           0         1         0          0            1   \n",
       "9             0           0         1         0          0            1   \n",
       "118           1           1         1         1          1            1   \n",
       "163           1           1         1         0          0            0   \n",
       "165           1           1         1         1          1            1   \n",
       "\n",
       "     predict  predict_prob  \n",
       "8          1      0.526359  \n",
       "9          1      0.526358  \n",
       "118        1      0.622811  \n",
       "163        1      0.562631  \n",
       "165        1      0.519435  "
      ]
     },
     "execution_count": 170,
     "metadata": {},
     "output_type": "execute_result"
    }
   ],
   "source": [
    "df_predicted.head()"
   ]
  },
  {
   "cell_type": "code",
   "execution_count": 171,
   "metadata": {
    "collapsed": true
   },
   "outputs": [],
   "source": [
    "predicted_list = []\n",
    "for i,j in zip(df_predicted.task1.values.tolist(), df_predicted.task2.values.tolist()):\n",
    "    predicted_list.append([i,j])\n",
    "    predicted_list.append([j,i])"
   ]
  },
  {
   "cell_type": "code",
   "execution_count": 185,
   "metadata": {
    "collapsed": false
   },
   "outputs": [],
   "source": [
    "df_6_7_feature = df_6_7_feature[(df_6_7_feature.same_os1==1) & (df_6_7_feature.same_app==1)]"
   ]
  },
  {
   "cell_type": "code",
   "execution_count": 202,
   "metadata": {
    "collapsed": false
   },
   "outputs": [
    {
     "name": "stdout",
     "output_type": "stream",
     "text": [
      " [ 0.74303327] []\n",
      "[] [ 0.50985978]\n",
      "[] [ 0.99992101]\n",
      "[] [ 0.91483145]\n",
      "[ 0.93277642] []\n",
      "[] [ 0.86578875]\n",
      "[ 0.99992059] []\n",
      "[] [ 0.78003219]\n",
      "[ 0.97552296] []\n",
      "[] [ 0.93288925]\n",
      "[] [ 0.91968564]\n",
      "[ 0.99992101] []\n",
      "[] [ 0.54059855]\n",
      "[] [ 0.99992101]\n",
      "[ 0.52615322] []\n",
      "[] [ 0.99756693]\n",
      "[ 0.57038085] []\n",
      "[ 0.99992101] []\n",
      "[ 0.73239636] []\n",
      "[ 0.99992101] []\n",
      "[] [ 0.93879458]\n",
      "[ 0.99992099] []\n",
      "[ 0.52247751] []\n",
      "[] [ 0.99992099]\n",
      "[] [ 0.81992136]\n",
      "[ 0.999921] []\n",
      "[] [ 0.98199713]\n",
      "[] [ 0.87097936]\n",
      "[ 0.99567751] []\n",
      "[] [ 0.93879222]\n",
      "[ 0.96012575] []\n",
      "[] [ 0.90862119]\n",
      "[ 0.96947829] []\n",
      "[] [ 0.74053692]\n",
      "[] [ 0.99992096]\n",
      "[ 0.9999182] []\n",
      "[ 0.79399945] []\n",
      "[ 0.99992101] []\n",
      "[] [ 0.97932819]\n",
      "[ 0.57336035] []\n"
     ]
    }
   ],
   "source": [
    "ct =0 \n",
    "for i,j in zip(df_6_7_feature.task1.values.tolist(), df_6_7_feature.task2.values.tolist()):\n",
    "    if [i,j] in predicted_list:\n",
    "        print df_predicted[(df_predicted.task1==i)&(df_predicted.task2==j)].predict_prob.values, df_predicted[(df_predicted.task1==j)&(df_predicted.task2==i)].predict_prob.values\n",
    "        ct = ct+1"
   ]
  },
  {
   "cell_type": "code",
   "execution_count": 188,
   "metadata": {
    "collapsed": false
   },
   "outputs": [
    {
     "data": {
      "text/plain": [
       "40"
      ]
     },
     "execution_count": 188,
     "metadata": {},
     "output_type": "execute_result"
    }
   ],
   "source": [
    "ct"
   ]
  },
  {
   "cell_type": "markdown",
   "metadata": {},
   "source": [
    "## clustering "
   ]
  },
  {
   "cell_type": "code",
   "execution_count": 122,
   "metadata": {
    "collapsed": false
   },
   "outputs": [
    {
     "data": {
      "text/html": [
       "<div>\n",
       "<table border=\"1\" class=\"dataframe\">\n",
       "  <thead>\n",
       "    <tr style=\"text-align: right;\">\n",
       "      <th></th>\n",
       "      <th>task1</th>\n",
       "      <th>task2</th>\n",
       "      <th>predict_prob</th>\n",
       "    </tr>\n",
       "  </thead>\n",
       "  <tbody>\n",
       "    <tr>\n",
       "      <th>0</th>\n",
       "      <td>1910839</td>\n",
       "      <td>1931299</td>\n",
       "      <td>0.268246</td>\n",
       "    </tr>\n",
       "    <tr>\n",
       "      <th>1</th>\n",
       "      <td>1910839</td>\n",
       "      <td>1897083</td>\n",
       "      <td>0.042536</td>\n",
       "    </tr>\n",
       "    <tr>\n",
       "      <th>2</th>\n",
       "      <td>1910839</td>\n",
       "      <td>1937511</td>\n",
       "      <td>0.123301</td>\n",
       "    </tr>\n",
       "    <tr>\n",
       "      <th>3</th>\n",
       "      <td>1910839</td>\n",
       "      <td>1936845</td>\n",
       "      <td>0.331241</td>\n",
       "    </tr>\n",
       "    <tr>\n",
       "      <th>4</th>\n",
       "      <td>1910839</td>\n",
       "      <td>1916123</td>\n",
       "      <td>0.487075</td>\n",
       "    </tr>\n",
       "  </tbody>\n",
       "</table>\n",
       "</div>"
      ],
      "text/plain": [
       "     task1    task2  predict_prob\n",
       "0  1910839  1931299      0.268246\n",
       "1  1910839  1897083      0.042536\n",
       "2  1910839  1937511      0.123301\n",
       "3  1910839  1936845      0.331241\n",
       "4  1910839  1916123      0.487075"
      ]
     },
     "execution_count": 122,
     "metadata": {},
     "output_type": "execute_result"
    }
   ],
   "source": [
    "df_test_feature[['task1','task2','predict_prob']].head()"
   ]
  },
  {
   "cell_type": "code",
   "execution_count": 147,
   "metadata": {
    "collapsed": false
   },
   "outputs": [],
   "source": [
    "from scipy.spatial.distance import pdist, squareform"
   ]
  },
  {
   "cell_type": "code",
   "execution_count": 148,
   "metadata": {
    "collapsed": false
   },
   "outputs": [],
   "source": [
    "df_pdist = df_test_feature.predict_prob.values"
   ]
  },
  {
   "cell_type": "code",
   "execution_count": 149,
   "metadata": {
    "collapsed": false
   },
   "outputs": [],
   "source": [
    "df_squareform = squareform(df_pdist)"
   ]
  },
  {
   "cell_type": "code",
   "execution_count": 160,
   "metadata": {
    "collapsed": false
   },
   "outputs": [],
   "source": [
    "from sklearn.cluster import AgglomerativeClustering\n",
    "\n",
    "cluster = AgglomerativeClustering(n_clusters=1000, affinity = 'precomputed', linkage='average')  \n",
    "p = cluster.fit_predict(df_squareform)  "
   ]
  },
  {
   "cell_type": "code",
   "execution_count": 167,
   "metadata": {
    "collapsed": false
   },
   "outputs": [],
   "source": [
    "import scipy.cluster.hierarchy as shc\n",
    "Z = shc.linkage(df_squareform, 'single')"
   ]
  },
  {
   "cell_type": "code",
   "execution_count": 172,
   "metadata": {
    "collapsed": false
   },
   "outputs": [
    {
     "data": {
      "image/png": "[encoded data removed]",
      "text/plain": [
       "<matplotlib.figure.Figure at 0x7f52bd827dd0>"
      ]
     },
     "metadata": {},
     "output_type": "display_data"
    }
   ],
   "source": [
    "fig = plt.figure(figsize=(25, 10))\n",
    "dn = shc.dendrogram(Z)\n",
    "plt.show()"
   ]
  },
  {
   "cell_type": "code",
   "execution_count": null,
   "metadata": {
    "collapsed": true
   },
   "outputs": [],
   "source": []
  }
 ],
 "metadata": {
  "kernelspec": {
   "display_name": "Python 2 (General DS)",
   "language": "python",
   "name": "python2"
  },
  "language_info": {
   "codemirror_mode": {
    "name": "ipython",
    "version": 2
   },
   "file_extension": ".py",
   "mimetype": "text/x-python",
   "name": "python",
   "nbconvert_exporter": "python",
   "pygments_lexer": "ipython2",
   "version": "2.7.10"
  }
 },
 "nbformat": 4,
 "nbformat_minor": 2
}
