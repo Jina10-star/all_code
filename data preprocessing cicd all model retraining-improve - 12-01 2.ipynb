{
 "cells": [
  {
   "cell_type": "code",
   "execution_count": 3,
   "id": "099f3121",
   "metadata": {},
   "outputs": [],
   "source": [
    "import pandas as pd\n",
    "import numpy as np\n",
    "import json\n",
    "import os\n",
    "import re\n",
    "from sklearn.feature_extraction.text import TfidfTransformer, CountVectorizer\n",
    "from sklearn.ensemble import RandomForestClassifier\n",
    "from sklearn.pipeline import Pipeline\n",
    "from sklearn.model_selection import train_test_split\n",
    "from sklearn.metrics import accuracy_score, precision_score, recall_score, f1_score, roc_curve, auc, confusion_matrix\n",
    "from sklearn.pipeline import Pipeline\n",
    "import nltk\n",
    "from nltk.corpus import stopwords\n",
    "from nltk.stem import WordNetLemmatizer \n",
    "from nltk.corpus import wordnet\n",
    "import string"
   ]
  },
  {
   "cell_type": "markdown",
   "id": "95573ca5",
   "metadata": {},
   "source": [
    "a)remove all duplicates from sheet in excel using DATA>remove duplicates\n",
    "b)using excel concatenate function joined \"AgentCorrected_CatName_Primary\" and \"AgentCorrected_Integer_Primary\" column with comma and new target column name is \"primary\".\n"
   ]
  },
  {
   "cell_type": "code",
   "execution_count": 4,
   "id": "767be0e9",
   "metadata": {},
   "outputs": [],
   "source": [
    "df2_cicd=pd.read_csv('../data/TaxML-CICD - Prod_Data_0501.csv')\n",
    "df2_cicd.drop_duplicates(inplace=True)\n",
    "df2_cicd.dropna(how='all',inplace=True)\n",
    "df2 = df2_cicd"
   ]
  },
  {
   "cell_type": "code",
   "execution_count": 5,
   "id": "4c0371fd",
   "metadata": {},
   "outputs": [
    {
     "data": {
      "text/plain": [
       "(13918, 31)"
      ]
     },
     "execution_count": 5,
     "metadata": {},
     "output_type": "execute_result"
    }
   ],
   "source": [
    "df2_cicd.shape"
   ]
  },
  {
   "cell_type": "code",
   "execution_count": 6,
   "id": "cc11c38f",
   "metadata": {},
   "outputs": [],
   "source": [
    "def preprocess_text(message):\n",
    "\n",
    "    #new_stopwords=['grocery']\n",
    "    stpwrd = nltk.corpus.stopwords.words('english')\n",
    "    #stpwrd.extend(new_stopwords)\n",
    "    # 1. Init Lemmatizer\n",
    "    lemmatizer = WordNetLemmatizer()\n",
    "    #lowering and removing punctuation\n",
    "    message = re.sub(r'[^\\w\\s]','', message.lower())\n",
    "    #removing the numerical values and working only with text values\n",
    "    message = re.sub('[^a-zA-Z]', \" \", message )\n",
    "    #removing the stopwords\n",
    "    message = ' '.join([word for word in message.split() if word not in stpwrd and len(word)>1])\n",
    "    #lemmatizing the text\n",
    "    message =  \" \".join([lemmatizer.lemmatize(w) for w in nltk.word_tokenize(message) if w not in string.punctuation])\n",
    "    #print(\"message is : \",message)\n",
    "    \n",
    "    return message"
   ]
  },
  {
   "cell_type": "code",
   "execution_count": 7,
   "id": "7faa2fce",
   "metadata": {},
   "outputs": [],
   "source": [
    "def process_secondary_catname(category):\n",
    "    \n",
    "    if category != None:\n",
    "    \n",
    "        if category in ['TEMP_HEATED','TEMP_COLD','TEMP_UNHEATED']:\n",
    "            category= None\n",
    "    \n",
    "    return category\n",
    "    \n",
    "def process_secondary_integer(secondary_integer):\n",
    "    \n",
    "    if secondary_integer != None:\n",
    "#         print(secondary_integer)\n",
    "        try:\n",
    "            secondary_integer = str(int(float(secondary_integer)))\n",
    "            if (len(secondary_integer)==3 and secondary_integer not in ['105','107']) or secondary_integer == '1' or secondary_integer == '2':      \n",
    "                secondary_integer = None\n",
    "        except:\n",
    "            secondary_integer = None\n",
    "\n",
    "    return secondary_integer\n",
    "        "
   ]
  },
  {
   "cell_type": "code",
   "execution_count": 8,
   "id": "e8ea42ae",
   "metadata": {},
   "outputs": [],
   "source": [
    "def process_tertiary_catname(category):\n",
    "    \n",
    "    if category != None:\n",
    "    \n",
    "        if category not in ['TEMP_HEATED','TEMP_COLD','TEMP_UNHEATED']:\n",
    "            category= None\n",
    "    \n",
    "    return category\n",
    "    \n",
    "def process_tertiary_integer(secondary_integer):\n",
    "    \n",
    "    if secondary_integer != None:\n",
    "        try:\n",
    "            secondary_integer = str(int(float(secondary_integer)))\n",
    "            if (len(secondary_integer))!=1:      \n",
    "                secondary_integer = None\n",
    "        except:\n",
    "            secondary_integer = None\n",
    "\n",
    "    return secondary_integer\n",
    "        "
   ]
  },
  {
   "cell_type": "markdown",
   "id": "e2815e4c",
   "metadata": {},
   "source": [
    "preprocessing dataframe to get primary, secondary and tertiary columns"
   ]
  },
  {
   "cell_type": "code",
   "execution_count": 9,
   "id": "dad620fa",
   "metadata": {},
   "outputs": [],
   "source": [
    "df2['AgentCorrected_Integer_Primary'] = df2['AgentCorrected_Integer_Primary'].astype('int').astype('str')\n",
    "\n",
    "df2['primary'] = df2['AgentCorrected_CatName_Primary'] + ',' + df2['AgentCorrected_Integer_Primary']\n",
    "\n",
    "df2['cleaned_secondary_integer'] = df2['AgentCorrected_Integer_Secondary'].apply(lambda x : process_secondary_integer(x))\n",
    "\n",
    "df2['cleaned_secondary_catname'] = df2['AgentCorrected_CatName_Secondary'].apply(lambda x : process_secondary_catname(x))\n",
    "\n",
    "df2.loc[df2['cleaned_secondary_integer'].isnull(),'cleaned_secondary_catname' ] = None\n",
    "\n",
    "df2['new_secondary_catname'] = df2['cleaned_secondary_catname'].fillna(df2['AgentCorrected_CatName_Primary'])\n",
    "\n",
    "df2['new_secondary_integer'] = df2['cleaned_secondary_integer'].fillna(df2['AgentCorrected_Integer_Primary'])\n",
    "\n",
    "df2['new_secondary_integer'] = df2['new_secondary_integer'].astype(int).astype(str)\n",
    "\n",
    "df2['secondary'] = df2['new_secondary_catname'] + ','+ df2['new_secondary_integer']\n",
    "\n",
    "df2['cleaned_tertiary_integer'] = df2['AgentCorrected_Integer_Secondary'].apply(lambda x : process_tertiary_integer(x))\n",
    "\n",
    "df2['cleaned_tertiary_integer_col2'] = df2['AgentCorrected_CatName_Secondary2.1'].apply(lambda x : process_tertiary_integer(x))\n",
    "\n",
    "df2['cleaned_tertiary_integer'] = df2['cleaned_tertiary_integer'].fillna(df2['cleaned_tertiary_integer_col2'])\n",
    "\n",
    "df2['cleaned_tertiary_integer'] = df2['cleaned_tertiary_integer'].fillna(df2['AgentCorrected_Integer_Primary'])\n",
    "\n",
    "df2['cleaned_tertiary_catname'] = df2['AgentCorrected_CatName_Secondary'].apply(lambda x : process_tertiary_catname(x))\n",
    "\n",
    "df2['cleaned_tertiary_catname_col2'] = df2['AgentCorrected_CatName_Secondary2'].apply(lambda x : process_tertiary_catname(x))\n",
    "\n",
    "df2['cleaned_tertiary_catname'] = df2['cleaned_tertiary_catname'].fillna(df2['cleaned_tertiary_catname_col2'])\n",
    "\n",
    "df2['cleaned_tertiary_catname'] = df2['cleaned_tertiary_catname'].fillna(df2['AgentCorrected_CatName_Primary'])\n",
    "\n",
    "df2['tertiary'] = df2['cleaned_tertiary_catname'] + ','+ df2['cleaned_tertiary_integer']"
   ]
  },
  {
   "cell_type": "code",
   "execution_count": 10,
   "id": "9a549eb6",
   "metadata": {},
   "outputs": [
    {
     "ename": "ValueError",
     "evalue": "Usecols do not match columns, columns expected but not found: ['tertiary']",
     "output_type": "error",
     "traceback": [
      "\u001b[0;31m---------------------------------------------------------------------------\u001b[0m",
      "\u001b[0;31mValueError\u001b[0m                                Traceback (most recent call last)",
      "\u001b[0;32m~/miniconda3/envs/myenv/lib/python3.6/site-packages/pandas/io/parsers.py\u001b[0m in \u001b[0;36m_handle_usecols\u001b[0;34m(self, columns, usecols_key)\u001b[0m\n\u001b[1;32m   2838\u001b[0m                         \u001b[0;32mtry\u001b[0m\u001b[0;34m:\u001b[0m\u001b[0;34m\u001b[0m\u001b[0;34m\u001b[0m\u001b[0m\n\u001b[0;32m-> 2839\u001b[0;31m                             \u001b[0mcol_indices\u001b[0m\u001b[0;34m.\u001b[0m\u001b[0mappend\u001b[0m\u001b[0;34m(\u001b[0m\u001b[0musecols_key\u001b[0m\u001b[0;34m.\u001b[0m\u001b[0mindex\u001b[0m\u001b[0;34m(\u001b[0m\u001b[0mcol\u001b[0m\u001b[0;34m)\u001b[0m\u001b[0;34m)\u001b[0m\u001b[0;34m\u001b[0m\u001b[0;34m\u001b[0m\u001b[0m\n\u001b[0m\u001b[1;32m   2840\u001b[0m                         \u001b[0;32mexcept\u001b[0m \u001b[0mValueError\u001b[0m\u001b[0;34m:\u001b[0m\u001b[0;34m\u001b[0m\u001b[0;34m\u001b[0m\u001b[0m\n",
      "\u001b[0;31mValueError\u001b[0m: 'tertiary' is not in list",
      "\nDuring handling of the above exception, another exception occurred:\n",
      "\u001b[0;31mValueError\u001b[0m                                Traceback (most recent call last)",
      "\u001b[0;32m<ipython-input-10-1cc804d8e14e>\u001b[0m in \u001b[0;36m<module>\u001b[0;34m\u001b[0m\n\u001b[0;32m----> 1\u001b[0;31m \u001b[0mdf\u001b[0m \u001b[0;34m=\u001b[0m \u001b[0mpd\u001b[0m\u001b[0;34m.\u001b[0m\u001b[0mread_csv\u001b[0m\u001b[0;34m(\u001b[0m\u001b[0;34m'../data/jina_final.csv'\u001b[0m\u001b[0;34m,\u001b[0m \u001b[0mencoding\u001b[0m\u001b[0;34m=\u001b[0m\u001b[0;34m'utf8'\u001b[0m\u001b[0;34m,\u001b[0m\u001b[0mengine\u001b[0m\u001b[0;34m=\u001b[0m\u001b[0;34m'python'\u001b[0m\u001b[0;34m,\u001b[0m\u001b[0musecols\u001b[0m\u001b[0;34m=\u001b[0m\u001b[0;34m[\u001b[0m\u001b[0;34m'Item'\u001b[0m\u001b[0;34m,\u001b[0m\u001b[0;34m'Description'\u001b[0m\u001b[0;34m,\u001b[0m\u001b[0;34m'establishment_type'\u001b[0m\u001b[0;34m,\u001b[0m\u001b[0;34m'primary'\u001b[0m\u001b[0;34m,\u001b[0m\u001b[0;34m'secondary'\u001b[0m\u001b[0;34m,\u001b[0m\u001b[0;34m'tertiary'\u001b[0m\u001b[0;34m]\u001b[0m\u001b[0;34m)\u001b[0m\u001b[0;34m\u001b[0m\u001b[0;34m\u001b[0m\u001b[0m\n\u001b[0m\u001b[1;32m      2\u001b[0m \u001b[0mdf1\u001b[0m\u001b[0;34m=\u001b[0m\u001b[0mdf\u001b[0m\u001b[0;34m.\u001b[0m\u001b[0msample\u001b[0m\u001b[0;34m(\u001b[0m\u001b[0mfrac\u001b[0m\u001b[0;34m=\u001b[0m\u001b[0;36m1\u001b[0m\u001b[0;34m,\u001b[0m \u001b[0mrandom_state\u001b[0m\u001b[0;34m=\u001b[0m\u001b[0;36m42\u001b[0m\u001b[0;34m)\u001b[0m\u001b[0;34m\u001b[0m\u001b[0;34m\u001b[0m\u001b[0m\n\u001b[1;32m      3\u001b[0m \u001b[0mdf1\u001b[0m \u001b[0;34m=\u001b[0m \u001b[0mdf1\u001b[0m\u001b[0;34m.\u001b[0m\u001b[0mfillna\u001b[0m\u001b[0;34m(\u001b[0m\u001b[0;34m''\u001b[0m\u001b[0;34m)\u001b[0m\u001b[0;34m\u001b[0m\u001b[0;34m\u001b[0m\u001b[0m\n\u001b[1;32m      4\u001b[0m \u001b[0mdf1\u001b[0m\u001b[0;34m[\u001b[0m\u001b[0;34m'input_str'\u001b[0m\u001b[0;34m]\u001b[0m \u001b[0;34m=\u001b[0m \u001b[0mdf1\u001b[0m\u001b[0;34m[\u001b[0m\u001b[0;34m[\u001b[0m\u001b[0;34m'Item'\u001b[0m\u001b[0;34m,\u001b[0m\u001b[0;34m'Description'\u001b[0m\u001b[0;34m,\u001b[0m\u001b[0;34m'establishment_type'\u001b[0m\u001b[0;34m]\u001b[0m\u001b[0;34m]\u001b[0m\u001b[0;34m.\u001b[0m\u001b[0mapply\u001b[0m\u001b[0;34m(\u001b[0m\u001b[0;32mlambda\u001b[0m \u001b[0mx\u001b[0m\u001b[0;34m:\u001b[0m \u001b[0;34m' '\u001b[0m\u001b[0;34m.\u001b[0m\u001b[0mjoin\u001b[0m\u001b[0;34m(\u001b[0m\u001b[0mx\u001b[0m\u001b[0;34m[\u001b[0m\u001b[0mx\u001b[0m\u001b[0;34m.\u001b[0m\u001b[0mnotnull\u001b[0m\u001b[0;34m(\u001b[0m\u001b[0;34m)\u001b[0m\u001b[0;34m]\u001b[0m\u001b[0;34m)\u001b[0m\u001b[0;34m,\u001b[0m \u001b[0maxis\u001b[0m \u001b[0;34m=\u001b[0m \u001b[0;36m1\u001b[0m\u001b[0;34m)\u001b[0m\u001b[0;34m\u001b[0m\u001b[0;34m\u001b[0m\u001b[0m\n\u001b[1;32m      5\u001b[0m \u001b[0mdf1\u001b[0m\u001b[0;34m[\u001b[0m\u001b[0;34m'cleanText'\u001b[0m\u001b[0;34m]\u001b[0m\u001b[0;34m=\u001b[0m\u001b[0mdf1\u001b[0m\u001b[0;34m[\u001b[0m\u001b[0;34m'input_str'\u001b[0m\u001b[0;34m]\u001b[0m\u001b[0;34m.\u001b[0m\u001b[0mmap\u001b[0m\u001b[0;34m(\u001b[0m\u001b[0;32mlambda\u001b[0m \u001b[0ms\u001b[0m\u001b[0;34m:\u001b[0m\u001b[0mpreprocess_text\u001b[0m\u001b[0;34m(\u001b[0m\u001b[0ms\u001b[0m\u001b[0;34m)\u001b[0m\u001b[0;34m)\u001b[0m\u001b[0;34m\u001b[0m\u001b[0;34m\u001b[0m\u001b[0m\n",
      "\u001b[0;32m~/miniconda3/envs/myenv/lib/python3.6/site-packages/pandas/io/parsers.py\u001b[0m in \u001b[0;36mread_csv\u001b[0;34m(filepath_or_buffer, sep, delimiter, header, names, index_col, usecols, squeeze, prefix, mangle_dupe_cols, dtype, engine, converters, true_values, false_values, skipinitialspace, skiprows, skipfooter, nrows, na_values, keep_default_na, na_filter, verbose, skip_blank_lines, parse_dates, infer_datetime_format, keep_date_col, date_parser, dayfirst, cache_dates, iterator, chunksize, compression, thousands, decimal, lineterminator, quotechar, quoting, doublequote, escapechar, comment, encoding, dialect, error_bad_lines, warn_bad_lines, delim_whitespace, low_memory, memory_map, float_precision)\u001b[0m\n\u001b[1;32m    686\u001b[0m     )\n\u001b[1;32m    687\u001b[0m \u001b[0;34m\u001b[0m\u001b[0m\n\u001b[0;32m--> 688\u001b[0;31m     \u001b[0;32mreturn\u001b[0m \u001b[0m_read\u001b[0m\u001b[0;34m(\u001b[0m\u001b[0mfilepath_or_buffer\u001b[0m\u001b[0;34m,\u001b[0m \u001b[0mkwds\u001b[0m\u001b[0;34m)\u001b[0m\u001b[0;34m\u001b[0m\u001b[0;34m\u001b[0m\u001b[0m\n\u001b[0m\u001b[1;32m    689\u001b[0m \u001b[0;34m\u001b[0m\u001b[0m\n\u001b[1;32m    690\u001b[0m \u001b[0;34m\u001b[0m\u001b[0m\n",
      "\u001b[0;32m~/miniconda3/envs/myenv/lib/python3.6/site-packages/pandas/io/parsers.py\u001b[0m in \u001b[0;36m_read\u001b[0;34m(filepath_or_buffer, kwds)\u001b[0m\n\u001b[1;32m    452\u001b[0m \u001b[0;34m\u001b[0m\u001b[0m\n\u001b[1;32m    453\u001b[0m     \u001b[0;31m# Create the parser.\u001b[0m\u001b[0;34m\u001b[0m\u001b[0;34m\u001b[0m\u001b[0;34m\u001b[0m\u001b[0m\n\u001b[0;32m--> 454\u001b[0;31m     \u001b[0mparser\u001b[0m \u001b[0;34m=\u001b[0m \u001b[0mTextFileReader\u001b[0m\u001b[0;34m(\u001b[0m\u001b[0mfp_or_buf\u001b[0m\u001b[0;34m,\u001b[0m \u001b[0;34m**\u001b[0m\u001b[0mkwds\u001b[0m\u001b[0;34m)\u001b[0m\u001b[0;34m\u001b[0m\u001b[0;34m\u001b[0m\u001b[0m\n\u001b[0m\u001b[1;32m    455\u001b[0m \u001b[0;34m\u001b[0m\u001b[0m\n\u001b[1;32m    456\u001b[0m     \u001b[0;32mif\u001b[0m \u001b[0mchunksize\u001b[0m \u001b[0;32mor\u001b[0m \u001b[0miterator\u001b[0m\u001b[0;34m:\u001b[0m\u001b[0;34m\u001b[0m\u001b[0;34m\u001b[0m\u001b[0m\n",
      "\u001b[0;32m~/miniconda3/envs/myenv/lib/python3.6/site-packages/pandas/io/parsers.py\u001b[0m in \u001b[0;36m__init__\u001b[0;34m(self, f, engine, **kwds)\u001b[0m\n\u001b[1;32m    946\u001b[0m             \u001b[0mself\u001b[0m\u001b[0;34m.\u001b[0m\u001b[0moptions\u001b[0m\u001b[0;34m[\u001b[0m\u001b[0;34m\"has_index_names\"\u001b[0m\u001b[0;34m]\u001b[0m \u001b[0;34m=\u001b[0m \u001b[0mkwds\u001b[0m\u001b[0;34m[\u001b[0m\u001b[0;34m\"has_index_names\"\u001b[0m\u001b[0;34m]\u001b[0m\u001b[0;34m\u001b[0m\u001b[0;34m\u001b[0m\u001b[0m\n\u001b[1;32m    947\u001b[0m \u001b[0;34m\u001b[0m\u001b[0m\n\u001b[0;32m--> 948\u001b[0;31m         \u001b[0mself\u001b[0m\u001b[0;34m.\u001b[0m\u001b[0m_make_engine\u001b[0m\u001b[0;34m(\u001b[0m\u001b[0mself\u001b[0m\u001b[0;34m.\u001b[0m\u001b[0mengine\u001b[0m\u001b[0;34m)\u001b[0m\u001b[0;34m\u001b[0m\u001b[0;34m\u001b[0m\u001b[0m\n\u001b[0m\u001b[1;32m    949\u001b[0m \u001b[0;34m\u001b[0m\u001b[0m\n\u001b[1;32m    950\u001b[0m     \u001b[0;32mdef\u001b[0m \u001b[0mclose\u001b[0m\u001b[0;34m(\u001b[0m\u001b[0mself\u001b[0m\u001b[0;34m)\u001b[0m\u001b[0;34m:\u001b[0m\u001b[0;34m\u001b[0m\u001b[0;34m\u001b[0m\u001b[0m\n",
      "\u001b[0;32m~/miniconda3/envs/myenv/lib/python3.6/site-packages/pandas/io/parsers.py\u001b[0m in \u001b[0;36m_make_engine\u001b[0;34m(self, engine)\u001b[0m\n\u001b[1;32m   1189\u001b[0m                     \u001b[0;34m'are \"c\", \"python\", or \"python-fwf\")'\u001b[0m\u001b[0;34m\u001b[0m\u001b[0;34m\u001b[0m\u001b[0m\n\u001b[1;32m   1190\u001b[0m                 )\n\u001b[0;32m-> 1191\u001b[0;31m             \u001b[0mself\u001b[0m\u001b[0;34m.\u001b[0m\u001b[0m_engine\u001b[0m \u001b[0;34m=\u001b[0m \u001b[0mklass\u001b[0m\u001b[0;34m(\u001b[0m\u001b[0mself\u001b[0m\u001b[0;34m.\u001b[0m\u001b[0mf\u001b[0m\u001b[0;34m,\u001b[0m \u001b[0;34m**\u001b[0m\u001b[0mself\u001b[0m\u001b[0;34m.\u001b[0m\u001b[0moptions\u001b[0m\u001b[0;34m)\u001b[0m\u001b[0;34m\u001b[0m\u001b[0;34m\u001b[0m\u001b[0m\n\u001b[0m\u001b[1;32m   1192\u001b[0m \u001b[0;34m\u001b[0m\u001b[0m\n\u001b[1;32m   1193\u001b[0m     \u001b[0;32mdef\u001b[0m \u001b[0m_failover_to_python\u001b[0m\u001b[0;34m(\u001b[0m\u001b[0mself\u001b[0m\u001b[0;34m)\u001b[0m\u001b[0;34m:\u001b[0m\u001b[0;34m\u001b[0m\u001b[0;34m\u001b[0m\u001b[0m\n",
      "\u001b[0;32m~/miniconda3/envs/myenv/lib/python3.6/site-packages/pandas/io/parsers.py\u001b[0m in \u001b[0;36m__init__\u001b[0;34m(self, f, **kwds)\u001b[0m\n\u001b[1;32m   2405\u001b[0m                 \u001b[0mself\u001b[0m\u001b[0;34m.\u001b[0m\u001b[0mnum_original_columns\u001b[0m\u001b[0;34m,\u001b[0m\u001b[0;34m\u001b[0m\u001b[0;34m\u001b[0m\u001b[0m\n\u001b[1;32m   2406\u001b[0m                 \u001b[0mself\u001b[0m\u001b[0;34m.\u001b[0m\u001b[0munnamed_cols\u001b[0m\u001b[0;34m,\u001b[0m\u001b[0;34m\u001b[0m\u001b[0;34m\u001b[0m\u001b[0m\n\u001b[0;32m-> 2407\u001b[0;31m             ) = self._infer_columns()\n\u001b[0m\u001b[1;32m   2408\u001b[0m         \u001b[0;32mexcept\u001b[0m \u001b[0;34m(\u001b[0m\u001b[0mTypeError\u001b[0m\u001b[0;34m,\u001b[0m \u001b[0mValueError\u001b[0m\u001b[0;34m)\u001b[0m\u001b[0;34m:\u001b[0m\u001b[0;34m\u001b[0m\u001b[0;34m\u001b[0m\u001b[0m\n\u001b[1;32m   2409\u001b[0m             \u001b[0mself\u001b[0m\u001b[0;34m.\u001b[0m\u001b[0mclose\u001b[0m\u001b[0;34m(\u001b[0m\u001b[0;34m)\u001b[0m\u001b[0;34m\u001b[0m\u001b[0;34m\u001b[0m\u001b[0m\n",
      "\u001b[0;32m~/miniconda3/envs/myenv/lib/python3.6/site-packages/pandas/io/parsers.py\u001b[0m in \u001b[0;36m_infer_columns\u001b[0;34m(self)\u001b[0m\n\u001b[1;32m   2781\u001b[0m                 \u001b[0mcolumns\u001b[0m \u001b[0;34m=\u001b[0m \u001b[0;34m[\u001b[0m\u001b[0mnames\u001b[0m\u001b[0;34m]\u001b[0m\u001b[0;34m\u001b[0m\u001b[0;34m\u001b[0m\u001b[0m\n\u001b[1;32m   2782\u001b[0m             \u001b[0;32melse\u001b[0m\u001b[0;34m:\u001b[0m\u001b[0;34m\u001b[0m\u001b[0;34m\u001b[0m\u001b[0m\n\u001b[0;32m-> 2783\u001b[0;31m                 \u001b[0mcolumns\u001b[0m \u001b[0;34m=\u001b[0m \u001b[0mself\u001b[0m\u001b[0;34m.\u001b[0m\u001b[0m_handle_usecols\u001b[0m\u001b[0;34m(\u001b[0m\u001b[0mcolumns\u001b[0m\u001b[0;34m,\u001b[0m \u001b[0mcolumns\u001b[0m\u001b[0;34m[\u001b[0m\u001b[0;36m0\u001b[0m\u001b[0;34m]\u001b[0m\u001b[0;34m)\u001b[0m\u001b[0;34m\u001b[0m\u001b[0;34m\u001b[0m\u001b[0m\n\u001b[0m\u001b[1;32m   2784\u001b[0m         \u001b[0;32melse\u001b[0m\u001b[0;34m:\u001b[0m\u001b[0;34m\u001b[0m\u001b[0;34m\u001b[0m\u001b[0m\n\u001b[1;32m   2785\u001b[0m             \u001b[0;32mtry\u001b[0m\u001b[0;34m:\u001b[0m\u001b[0;34m\u001b[0m\u001b[0;34m\u001b[0m\u001b[0m\n",
      "\u001b[0;32m~/miniconda3/envs/myenv/lib/python3.6/site-packages/pandas/io/parsers.py\u001b[0m in \u001b[0;36m_handle_usecols\u001b[0;34m(self, columns, usecols_key)\u001b[0m\n\u001b[1;32m   2839\u001b[0m                             \u001b[0mcol_indices\u001b[0m\u001b[0;34m.\u001b[0m\u001b[0mappend\u001b[0m\u001b[0;34m(\u001b[0m\u001b[0musecols_key\u001b[0m\u001b[0;34m.\u001b[0m\u001b[0mindex\u001b[0m\u001b[0;34m(\u001b[0m\u001b[0mcol\u001b[0m\u001b[0;34m)\u001b[0m\u001b[0;34m)\u001b[0m\u001b[0;34m\u001b[0m\u001b[0;34m\u001b[0m\u001b[0m\n\u001b[1;32m   2840\u001b[0m                         \u001b[0;32mexcept\u001b[0m \u001b[0mValueError\u001b[0m\u001b[0;34m:\u001b[0m\u001b[0;34m\u001b[0m\u001b[0;34m\u001b[0m\u001b[0m\n\u001b[0;32m-> 2841\u001b[0;31m                             \u001b[0m_validate_usecols_names\u001b[0m\u001b[0;34m(\u001b[0m\u001b[0mself\u001b[0m\u001b[0;34m.\u001b[0m\u001b[0musecols\u001b[0m\u001b[0;34m,\u001b[0m \u001b[0musecols_key\u001b[0m\u001b[0;34m)\u001b[0m\u001b[0;34m\u001b[0m\u001b[0;34m\u001b[0m\u001b[0m\n\u001b[0m\u001b[1;32m   2842\u001b[0m                     \u001b[0;32melse\u001b[0m\u001b[0;34m:\u001b[0m\u001b[0;34m\u001b[0m\u001b[0;34m\u001b[0m\u001b[0m\n\u001b[1;32m   2843\u001b[0m                         \u001b[0mcol_indices\u001b[0m\u001b[0;34m.\u001b[0m\u001b[0mappend\u001b[0m\u001b[0;34m(\u001b[0m\u001b[0mcol\u001b[0m\u001b[0;34m)\u001b[0m\u001b[0;34m\u001b[0m\u001b[0;34m\u001b[0m\u001b[0m\n",
      "\u001b[0;32m~/miniconda3/envs/myenv/lib/python3.6/site-packages/pandas/io/parsers.py\u001b[0m in \u001b[0;36m_validate_usecols_names\u001b[0;34m(usecols, names)\u001b[0m\n\u001b[1;32m   1303\u001b[0m     \u001b[0;32mif\u001b[0m \u001b[0mlen\u001b[0m\u001b[0;34m(\u001b[0m\u001b[0mmissing\u001b[0m\u001b[0;34m)\u001b[0m \u001b[0;34m>\u001b[0m \u001b[0;36m0\u001b[0m\u001b[0;34m:\u001b[0m\u001b[0;34m\u001b[0m\u001b[0;34m\u001b[0m\u001b[0m\n\u001b[1;32m   1304\u001b[0m         raise ValueError(\n\u001b[0;32m-> 1305\u001b[0;31m             \u001b[0;34mf\"Usecols do not match columns, columns expected but not found: {missing}\"\u001b[0m\u001b[0;34m\u001b[0m\u001b[0;34m\u001b[0m\u001b[0m\n\u001b[0m\u001b[1;32m   1306\u001b[0m         )\n\u001b[1;32m   1307\u001b[0m \u001b[0;34m\u001b[0m\u001b[0m\n",
      "\u001b[0;31mValueError\u001b[0m: Usecols do not match columns, columns expected but not found: ['tertiary']"
     ]
    }
   ],
   "source": [
    "df = pd.read_csv('../data/jina_final.csv', encoding='utf8',engine='python',usecols=['Item','Description','establishment_type','primary','secondary','tertiary'])\n",
    "df1=df.sample(frac=1, random_state=42)\n",
    "df1 = df1.fillna('')\n",
    "df1['input_str'] = df1[['Item','Description','establishment_type']].apply(lambda x: ' '.join(x[x.notnull()]), axis = 1)\n",
    "df1['cleanText']=df1['input_str'].map(lambda s:preprocess_text(s)) \n",
    "df1 = df1.reset_index(drop=True)\n",
    "X=df1[['Item','Description','establishment_type','cleanText']]\n",
    "Y_primary=df1['primary']\n",
    "Y_secondary=df1['secondary']\n",
    "Y_tertiary=df1['tertiary']\n",
    "X_train, X_test, y_train_primary, y_test_primary,y_train_secondary, y_test_secondary,y_train_tertiary, y_test_tertiary=train_test_split(X,Y_primary,Y_secondary,Y_tertiary,test_size = .20,random_state = 42)"
   ]
  },
  {
   "cell_type": "code",
   "execution_count": 11,
   "id": "ea4c0999",
   "metadata": {},
   "outputs": [],
   "source": [
    "df2['input_str'] = df2[['Item','Description','establishment_type']].apply(lambda x: ' '.join(x[x.notnull()]), axis = 1)\n",
    "df2['cleanText']=df2['input_str'].map(lambda s:preprocess_text(s))"
   ]
  },
  {
   "cell_type": "code",
   "execution_count": null,
   "id": "73ce0603",
   "metadata": {},
   "outputs": [],
   "source": [
    "X_cicd=df2[['Item','Description','establishment_type','cleanText']]\n",
    "Y_primary_cicd=df2['primary']\n",
    "Y_secondary_cicd=df2['secondary']\n",
    "Y_tertiary_cicd=df2['tertiary']\n",
    "\n",
    "X_train_cicd, X_test_cicd, y_train_primary_cicd, y_test_primary_cicd,y_train_secondary_cicd, y_test_secondary_cicd,y_train_tertiary_cicd, y_test_tertiary_cicd = train_test_split(X_cicd,\n",
    "                                                    Y_primary_cicd,Y_secondary_cicd,Y_tertiary_cicd,\n",
    "                                                    test_size = .20, \n",
    "                                                    random_state = 42\n",
    "                                                    )\n",
    "X_train_final_1 = X_train.append(X_train_cicd)\n",
    "X_test_final_1 = X_test.append(X_test_cicd)\n",
    "X_train_final=X_train['cleanText'].append(X_train_cicd['cleanText'])\n",
    "X_test_final=X_test['cleanText'].append(X_test_cicd['cleanText'])\n",
    "######primary model#######\n",
    "y_train_final_primary=y_train_primary.append(y_train_primary_cicd)\n",
    "y_test_final_primary=y_test_primary.append(y_test_primary_cicd)\n",
    "######secondary model#######\n",
    "y_train_final_secondary=y_train_secondary.append(y_train_secondary_cicd)\n",
    "y_test_final_secondary=y_test_secondary.append(y_test_secondary_cicd)\n",
    "######tertiary model#######\n",
    "y_train_final_tertiary=y_train_tertiary.append(y_train_tertiary_cicd)\n",
    "y_test_final_tertiary=y_test_tertiary.append(y_test_tertiary_cicd)"
   ]
  },
  {
   "cell_type": "code",
   "execution_count": null,
   "id": "708d3c04",
   "metadata": {},
   "outputs": [],
   "source": [
    "import datetime\n",
    "file_name='df_traintestdata_{}'.format(datetime.datetime.now())\n",
    "train_size = 0.8\n",
    "train_end = int(len(df1)*train_size)\n",
    "df_train = df1[:train_end]\n",
    "df_test = df1[train_end:]\n",
    "train_end_cicd = int(len(df2)*train_size)\n",
    "df2_train = df2[:train_end_cicd]\n",
    "df2_test = df2[train_end_cicd:]\n",
    "df2_train = df2_train[['Item','Description','establishment_type','primary','secondary','tertiary','input_str','cleanText']]\n",
    "df2_test = df2_test[['Item','Description','establishment_type','primary','secondary','tertiary','input_str','cleanText']]\n",
    "X_train_save = df_train.append(df2_train)\n",
    "X_test_save = df_test.append(df2_test)\n",
    "X_train_save['label'] = 'train'\n",
    "X_test_save['label'] = 'test'\n",
    "X_data = X_train_save.append(X_test_save)\n",
    "X_data.to_csv(file_name)"
   ]
  },
  {
   "cell_type": "markdown",
   "id": "43eb6a14",
   "metadata": {},
   "source": [
    "####primary model retraining#####"
   ]
  },
  {
   "cell_type": "code",
   "execution_count": null,
   "id": "3d043639",
   "metadata": {},
   "outputs": [],
   "source": [
    "result=X_test_final_1\n",
    "rf1 = Pipeline([('vect', CountVectorizer(strip_accents='ascii', token_pattern=u'(?ui)\\\\b\\\\w*[a-z]+\\\\w*\\\\b', stop_words='english',max_df=0.85)),\n",
    "       ('tfidf', TfidfTransformer()),\n",
    "       ('clf', RandomForestClassifier(oob_score=True,n_jobs=-1,random_state=42,n_estimators=500))])\n",
    "rf1.fit(X_train_final, y_train_final_primary)\n",
    "y_pred= rf1.predict(X_test_final)\n",
    "result['original_cat_primary']=y_test_final_primary\n",
    "result['prediction_cat_primary']=y_pred\n",
    "result['prediction_cat_primary_confscore']=rf1.predict_proba(X_test_final).max()\n",
    "output={'accuracy':accuracy_score(y_pred,y_test_final_primary),'precision_score':precision_score(y_pred,y_test_final_primary,average='macro'),'recall_score':recall_score(y_pred,y_test_final_primary,average='macro')\n",
    ",'f1_score':f1_score(y_pred,y_test_final_primary,average='macro')}\n",
    "result['confusion_matrix_primary']=str(output)\n"
   ]
  },
  {
   "cell_type": "code",
   "execution_count": null,
   "id": "3a99c7fe",
   "metadata": {},
   "outputs": [],
   "source": [
    "rf2 = Pipeline([('vect', CountVectorizer(strip_accents='ascii', token_pattern=u'(?ui)\\\\b\\\\w*[a-z]+\\\\w*\\\\b', stop_words='english',max_df=0.85)),\n",
    "       ('tfidf', TfidfTransformer()),\n",
    "       ('clf', RandomForestClassifier(oob_score=True,n_jobs=-1,random_state=42,n_estimators=500))])\n",
    "rf2.fit(X_train_final, y_train_final_secondary)\n",
    "y_pred= rf2.predict(X_test_final)\n",
    "result['original_cat_secondary']=y_test_final_secondary\n",
    "result['prediction_cat_secondary']=y_pred\n",
    "result['prediction_cat_secondary_confscore']=rf2.predict_proba(X_test_final).max()\n",
    "output={'accuracy':accuracy_score(y_pred,y_test_final_secondary),'precision_score':precision_score(y_pred,y_test_final_secondary,average='macro'),'recall_score':recall_score(y_pred,y_test_final_secondary,average='macro')\n",
    ",'f1_score':f1_score(y_pred,y_test_final_secondary,average='macro')}\n",
    "result['confusion_matrix_secondary']=str(output)"
   ]
  },
  {
   "cell_type": "code",
   "execution_count": null,
   "id": "7e88b67f",
   "metadata": {},
   "outputs": [],
   "source": [
    "rf3 = Pipeline([('vect', CountVectorizer(strip_accents='ascii', token_pattern=u'(?ui)\\\\b\\\\w*[a-z]+\\\\w*\\\\b', stop_words='english',max_df=0.85)),\n",
    "       ('tfidf', TfidfTransformer()),\n",
    "       ('clf', RandomForestClassifier(oob_score=True,n_jobs=-1,random_state=42,n_estimators=500))])\n",
    "rf3.fit(X_train_final, y_train_final_tertiary)\n",
    "y_pred= rf3.predict(X_test_final)\n",
    "result['original_cat_tertiary']=y_test_final_tertiary\n",
    "result['prediction_cat_tertiary']=y_pred\n",
    "result['prediction_cat_tertiary_confscore']=rf3.predict_proba(X_test_final).max()\n",
    "output={'accuracy':accuracy_score(y_pred,y_test_final_tertiary),'precision_score':precision_score(y_pred,y_test_final_tertiary,average='macro'),'recall_score':recall_score(y_pred,y_test_final_tertiary,average='macro')\n",
    ",'f1_score':f1_score(y_pred,y_test_final_tertiary,average='macro')}\n",
    "result['confusion_matrix_tertiary']=str(output)"
   ]
  },
  {
   "cell_type": "code",
   "execution_count": 32,
   "id": "b42d748c",
   "metadata": {},
   "outputs": [
    {
     "ename": "NameError",
     "evalue": "name 'rf' is not defined",
     "output_type": "error",
     "traceback": [
      "\u001b[0;31m---------------------------------------------------------------------------\u001b[0m",
      "\u001b[0;31mNameError\u001b[0m                                 Traceback (most recent call last)",
      "\u001b[0;32m<ipython-input-32-278d29b57f95>\u001b[0m in \u001b[0;36m<module>\u001b[0;34m\u001b[0m\n\u001b[1;32m      5\u001b[0m \u001b[0mfilename_secondary\u001b[0m\u001b[0;34m=\u001b[0m \u001b[0;34m'finalized_model_rf_secondary_{}_allprod.sav'\u001b[0m\u001b[0;34m.\u001b[0m\u001b[0mformat\u001b[0m\u001b[0;34m(\u001b[0m\u001b[0mdatetime\u001b[0m\u001b[0;34m.\u001b[0m\u001b[0mdatetime\u001b[0m\u001b[0;34m.\u001b[0m\u001b[0mnow\u001b[0m\u001b[0;34m(\u001b[0m\u001b[0;34m)\u001b[0m\u001b[0;34m)\u001b[0m\u001b[0;34m\u001b[0m\u001b[0;34m\u001b[0m\u001b[0m\n\u001b[1;32m      6\u001b[0m \u001b[0mfilename_tertiary\u001b[0m\u001b[0;34m=\u001b[0m \u001b[0;34m'finalized_model_rf_tertiary_{}_allprod.sav'\u001b[0m\u001b[0;34m.\u001b[0m\u001b[0mformat\u001b[0m\u001b[0;34m(\u001b[0m\u001b[0mdatetime\u001b[0m\u001b[0;34m.\u001b[0m\u001b[0mdatetime\u001b[0m\u001b[0;34m.\u001b[0m\u001b[0mnow\u001b[0m\u001b[0;34m(\u001b[0m\u001b[0;34m)\u001b[0m\u001b[0;34m)\u001b[0m\u001b[0;34m\u001b[0m\u001b[0;34m\u001b[0m\u001b[0m\n\u001b[0;32m----> 7\u001b[0;31m \u001b[0mpickle\u001b[0m\u001b[0;34m.\u001b[0m\u001b[0mdump\u001b[0m\u001b[0;34m(\u001b[0m\u001b[0mrf\u001b[0m\u001b[0;34m,\u001b[0m \u001b[0mopen\u001b[0m\u001b[0;34m(\u001b[0m\u001b[0mfilename_primary\u001b[0m\u001b[0;34m,\u001b[0m \u001b[0;34m'wb'\u001b[0m\u001b[0;34m)\u001b[0m\u001b[0;34m)\u001b[0m\u001b[0;34m\u001b[0m\u001b[0;34m\u001b[0m\u001b[0m\n\u001b[0m\u001b[1;32m      8\u001b[0m \u001b[0mpickle\u001b[0m\u001b[0;34m.\u001b[0m\u001b[0mdump\u001b[0m\u001b[0;34m(\u001b[0m\u001b[0mrf\u001b[0m\u001b[0;34m,\u001b[0m \u001b[0mopen\u001b[0m\u001b[0;34m(\u001b[0m\u001b[0mfilename_secondary\u001b[0m\u001b[0;34m,\u001b[0m \u001b[0;34m'wb'\u001b[0m\u001b[0;34m)\u001b[0m\u001b[0;34m)\u001b[0m\u001b[0;34m\u001b[0m\u001b[0;34m\u001b[0m\u001b[0m\n\u001b[1;32m      9\u001b[0m \u001b[0mpickle\u001b[0m\u001b[0;34m.\u001b[0m\u001b[0mdump\u001b[0m\u001b[0;34m(\u001b[0m\u001b[0mrf\u001b[0m\u001b[0;34m,\u001b[0m \u001b[0mopen\u001b[0m\u001b[0;34m(\u001b[0m\u001b[0mfilename_tertiary\u001b[0m\u001b[0;34m,\u001b[0m \u001b[0;34m'wb'\u001b[0m\u001b[0;34m)\u001b[0m\u001b[0;34m)\u001b[0m\u001b[0;34m\u001b[0m\u001b[0;34m\u001b[0m\u001b[0m\n",
      "\u001b[0;31mNameError\u001b[0m: name 'rf' is not defined"
     ]
    }
   ],
   "source": [
    "import pickle\n",
    "import datetime\n",
    "# save the model to disk\n",
    "filename_primary= 'finalized_model_rf_primary_{}_allprod.sav'.format(datetime.datetime.now())\n",
    "filename_secondary= 'finalized_model_rf_secondary_{}_allprod.sav'.format(datetime.datetime.now())\n",
    "filename_tertiary= 'finalized_model_rf_tertiary_{}_allprod.sav'.format(datetime.datetime.now())\n",
    "pickle.dump(rf1, open(filename_primary, 'wb'))\n",
    "pickle.dump(rf2, open(filename_secondary, 'wb'))\n",
    "pickle.dump(rf3, open(filename_tertiary, 'wb'))\n"
   ]
  },
  {
   "cell_type": "code",
   "execution_count": null,
   "id": "206a5d15",
   "metadata": {},
   "outputs": [],
   "source": [
    "result"
   ]
  },
  {
   "cell_type": "code",
   "execution_count": null,
   "id": "b682d345",
   "metadata": {},
   "outputs": [],
   "source": [
    "\n",
    "misclassifications_primary= result.loc[result['original_cat_primary']!=result['prediction_cat_primary']]"
   ]
  },
  {
   "cell_type": "code",
   "execution_count": null,
   "id": "bf6ac7fa",
   "metadata": {},
   "outputs": [],
   "source": [
    "misclassifications_primary.sort_values(by=['Item','Description','establishment_type'], ascending=True).head(270)"
   ]
  },
  {
   "cell_type": "code",
   "execution_count": null,
   "id": "26a95a51",
   "metadata": {},
   "outputs": [],
   "source": [
    "misclassifications_primary.to_csv('/Users/jghosh2/Documents/my-notebook/Tax_ml_poc/output/misclassifications_primary.csv')"
   ]
  },
  {
   "cell_type": "code",
   "execution_count": null,
   "id": "9c6b0d78",
   "metadata": {},
   "outputs": [],
   "source": [
    "misclassifications_primary[misclassifications_primary['original_cat_primary']=='CAT_TPP_BATH_GELS,776']"
   ]
  },
  {
   "cell_type": "code",
   "execution_count": null,
   "id": "43e7a986",
   "metadata": {},
   "outputs": [],
   "source": []
  },
  {
   "cell_type": "markdown",
   "id": "05aff761",
   "metadata": {},
   "source": [
    "\"{'accuracy': 0.8146149522203485, 'precision_score': 0.6027551606729535, 'recall_score': 0.7097466761674291, 'f1_score': 0.6327463859326979}\""
   ]
  },
  {
   "cell_type": "markdown",
   "id": "4013975a",
   "metadata": {},
   "source": [
    "saving model to local"
   ]
  },
  {
   "cell_type": "code",
   "execution_count": null,
   "id": "70f8d5d7",
   "metadata": {
    "scrolled": true
   },
   "outputs": [],
   "source": [
    "import datetime\n",
    "print(\"Time :{} result :{}\".format(datetime.datetime.now(),result['confusion_matrix_primary'][0]))"
   ]
  },
  {
   "cell_type": "markdown",
   "id": "fad733b6",
   "metadata": {},
   "source": [
    "Time :2022-01-10 13:30:26.356610 result :{'accuracy': 0.8185367800039901, 'precision_score': 0.5848761715254991, 'recall_score': 0.672646577840006, 'f1_score': 0.6100045958278678}"
   ]
  },
  {
   "cell_type": "markdown",
   "id": "9b8b033e",
   "metadata": {},
   "source": [
    "Time :2022-01-10 13:39:45.378508 result :{'accuracy': 0.8167982443640095, 'precision_score': 0.5828179565369508, 'recall_score': 0.694053097419111, 'f1_score': 0.6153519093480956}"
   ]
  },
  {
   "cell_type": "markdown",
   "id": "64140eb1",
   "metadata": {},
   "source": [
    "Time :2022-01-10 14:04:13.438304 result :{'accuracy': 0.8207028244079003, 'precision_score': 0.598134322659592, 'recall_score': 0.7163954355735384, 'f1_score': 0.6336420913159138}"
   ]
  },
  {
   "cell_type": "markdown",
   "id": "31081800",
   "metadata": {},
   "source": [
    "Time :2022-01-10 16:15:05.965823 result :{'accuracy': 0.8192777951948015, 'precision_score': 0.58422004758596, 'recall_score': 0.7013460556124523, 'f1_score': 0.6171140663609939}"
   ]
  },
  {
   "cell_type": "markdown",
   "id": "af584f15",
   "metadata": {},
   "source": [
    "Time :2022-01-10 16:30:28.661864 result :{'accuracy': 0.8203323168124946, 'precision_score': 0.5828415707142136, 'recall_score': 0.6922552428178115, 'f1_score': 0.6158350834301465}"
   ]
  },
  {
   "cell_type": "markdown",
   "id": "7a4a9d33",
   "metadata": {},
   "source": [
    "Time :2022-01-10 17:13:56.042353 result :{'accuracy': 0.8250634137999829, 'precision_score': 0.6017204348512221, 'recall_score': 0.7016768888896173, 'f1_score': 0.6292577552019242}"
   ]
  },
  {
   "cell_type": "markdown",
   "id": "42a6c8ca",
   "metadata": {},
   "source": [
    "Time :2022-01-10 17:45:33.576796 result :{'accuracy': 0.8197338045429932, 'precision_score': 0.6097855795962889, 'recall_score': 0.6989103740558321, 'f1_score': 0.6339990438994022}"
   ]
  },
  {
   "cell_type": "markdown",
   "id": "be69b43a",
   "metadata": {},
   "source": [
    "Time :2022-01-10 18:00:59.932664 result :{'accuracy': 0.8222988571265711, 'precision_score': 0.6040505715950665, 'recall_score': 0.7041889895331753, 'f1_score': 0.630361835607479}"
   ]
  },
  {
   "cell_type": "markdown",
   "id": "a16ab76b",
   "metadata": {},
   "source": [
    "Time :2022-01-10 18:50:01.397963 result :{'accuracy': 0.8222988571265711, 'precision_score': 0.6040505715950665, 'recall_score': 0.7041889895331753, 'f1_score': 0.630361835607479}"
   ]
  },
  {
   "cell_type": "markdown",
   "id": "d766ea20",
   "metadata": {},
   "source": [
    "{'accuracy': 0.8198348463305261, 'precision_score': 0.5943177708372124, 'recall_score': 0.6808857187011089, 'f1_score': 0.6211879572499776}"
   ]
  },
  {
   "cell_type": "markdown",
   "id": "d6fb1c31",
   "metadata": {},
   "source": [
    "{'accuracy': 0.8341265995952917, 'precision_score': 0.6140457607875881, 'recall_score': 0.7160461281960248, 'f1_score': 0.6411403224021243}"
   ]
  },
  {
   "cell_type": "markdown",
   "id": "94e471ae",
   "metadata": {},
   "source": [
    "{'accuracy': 0.8424202696155271, 'precision_score': 0.63494046605141, 'recall_score': 0.750621724728942, 'f1_score': 0.66790481231777}\n",
    "n_estimator-100"
   ]
  },
  {
   "cell_type": "markdown",
   "id": "30e30f44",
   "metadata": {},
   "source": [
    "{'accuracy': 0.8435317924017443, 'precision_score': 0.6366498170102253, 'recall_score': 0.7501320433368587, 'f1_score': 0.6679389982024275}----200"
   ]
  },
  {
   "cell_type": "markdown",
   "id": "87f4570a",
   "metadata": {},
   "source": [
    "{'accuracy': 0.8443013081768176, 'precision_score': 0.6519943872650363, 'recall_score': 0.7635078463184546, 'f1_score': 0.6826975082666656}---300"
   ]
  },
  {
   "cell_type": "markdown",
   "id": "fa6b6ef9",
   "metadata": {},
   "source": [
    "## Regression test"
   ]
  },
  {
   "cell_type": "code",
   "execution_count": 13,
   "id": "b01e342c",
   "metadata": {},
   "outputs": [],
   "source": [
    "import pickle\n",
    "import os"
   ]
  },
  {
   "cell_type": "code",
   "execution_count": 2,
   "id": "c0241872",
   "metadata": {},
   "outputs": [],
   "source": [
    "primary_model_path = '/Users/ssingh355/code/taxml/data/final_model_2/primary'"
   ]
  },
  {
   "cell_type": "code",
   "execution_count": 16,
   "id": "ac61dba0",
   "metadata": {},
   "outputs": [
    {
     "name": "stdout",
     "output_type": "stream",
     "text": [
      "0.9630694065239258\n"
     ]
    }
   ],
   "source": [
    "# load the model from disk\n",
    "primary_loaded_model = pickle.load(open(os.path.join(primary_model_path,'finalized_model.sav'), 'rb'))\n",
    "# result = loaded_model.score(X_test, Y_test)\n",
    "result = primary_loaded_model.score(df2['cleanText'], df2['primary'])\n",
    "print(result)"
   ]
  },
  {
   "cell_type": "code",
   "execution_count": 18,
   "id": "214a82ea",
   "metadata": {},
   "outputs": [],
   "source": [
    "secondary_model_path = '/Users/ssingh355/code/taxml/data/final_model_2/secondary'"
   ]
  },
  {
   "cell_type": "code",
   "execution_count": 19,
   "id": "d5151513",
   "metadata": {},
   "outputs": [
    {
     "name": "stdout",
     "output_type": "stream",
     "text": [
      "0.9425204770800403\n"
     ]
    }
   ],
   "source": [
    "# load the model from disk\n",
    "secondary_loaded_model = pickle.load(open(os.path.join(secondary_model_path,'finalized_model.sav'), 'rb'))\n",
    "# result = loaded_model.score(X_test, Y_test)\n",
    "result = secondary_loaded_model.score(df2['cleanText'], df2['secondary'])\n",
    "print(result)"
   ]
  },
  {
   "cell_type": "markdown",
   "id": "0fb1d3de",
   "metadata": {},
   "source": [
    "## End of code flow - not consider below"
   ]
  },
  {
   "cell_type": "code",
   "execution_count": null,
   "id": "354ba841",
   "metadata": {},
   "outputs": [],
   "source": [
    "def split_cat(category):\n",
    "    category_list=category.split(',')\n",
    "    if len(category_list)==1:      \n",
    "        primary_category=category_list[0]\n",
    "        secondary_category=category_list[0]\n",
    "    if len(category_list)==2:      \n",
    "        primary_category=category_list[0]\n",
    "        if category_list[1] in ['TEMP_HEATED','TEMP_COLD','TEMP_UNHEATED']:\n",
    "              secondary_category=category_list[0]\n",
    "        else:\n",
    "              secondary_category=category_list[1]\n",
    "    if len(category_list)>2:      \n",
    "        primary_category=category_list[0]\n",
    "        secondary_category=category_list[1]\n",
    "    else:\n",
    "        pass\n",
    "        \n",
    "    return primary_category,secondary_category\n",
    "def split_int(integer):\n",
    "    str_int=str(integer)\n",
    "    integer_list=str_int.split(',')\n",
    "    if len(integer_list)==1:      \n",
    "        primary_integer=integer_list[0]\n",
    "        secondary_integer=integer_list[0]\n",
    "    if len(integer_list)==2:      \n",
    "        primary_integer=integer_list[0]\n",
    "        if integer_list[1]=='1':\n",
    "            secondary_integer=integer_list[0]\n",
    "        else:\n",
    "            secondary_integer=integer_list[1]\n",
    "    if len(integer_list)>2:      \n",
    "        primary_integer=integer_list[0]\n",
    "        secondary_integer=integer_list[1]\n",
    "    else:\n",
    "         pass\n",
    "        \n",
    "    return primary_integer,secondary_integer\n",
    "def combine(category,integer):\n",
    "    return category+\",\"+integer"
   ]
  },
  {
   "cell_type": "code",
   "execution_count": null,
   "id": "e55492cf",
   "metadata": {},
   "outputs": [],
   "source": [
    "df['primary_cat']=df['Agent Corrected CAT Name'].map(lambda x:split_cat(x)[0])\n",
    "df['secondary_cat']=df['Agent Corrected CAT Name'].map(lambda x:split_cat(x)[1])\n",
    "df['primary_int']=df['Agent Corrected Integer'].map(lambda x:split_int(x)[0])\n",
    "df['secondary_int']=df['Agent Corrected Integer'].map(lambda x:split_int(x)[1])\n",
    "df['primary_int_prediction']=df['Integer'].map(lambda x:split_int(x)[0])\n",
    "df['primary']=df[['primary_cat','primary_int']].apply(lambda x:combine(*x),axis=1)\n",
    "df['secondary']=df[['secondary_cat','secondary_int']].apply(lambda x:combine(*x),axis=1)"
   ]
  },
  {
   "cell_type": "code",
   "execution_count": null,
   "id": "134fcb69",
   "metadata": {},
   "outputs": [],
   "source": [
    "df.to_csv('TaxML-CICD - Prod_Data_after_preprocess.csv')"
   ]
  },
  {
   "cell_type": "code",
   "execution_count": null,
   "id": "33ce8d6f",
   "metadata": {},
   "outputs": [],
   "source": [
    "df"
   ]
  },
  {
   "cell_type": "code",
   "execution_count": null,
   "id": "d24d6aea",
   "metadata": {},
   "outputs": [],
   "source": [
    "df_test = df.loc[df['Inetger_ValidationScore[0-100]'] == 0]"
   ]
  },
  {
   "cell_type": "code",
   "execution_count": null,
   "id": "8c396c13",
   "metadata": {},
   "outputs": [],
   "source": [
    "len(df_test)"
   ]
  },
  {
   "cell_type": "code",
   "execution_count": null,
   "id": "ff06ce88",
   "metadata": {},
   "outputs": [],
   "source": [
    "df2=df_test[df_test['primary_int_prediction']==df_test['primary_int']]\n",
    "len(df2)#no of correct prediction"
   ]
  },
  {
   "cell_type": "code",
   "execution_count": null,
   "id": "39a63145",
   "metadata": {},
   "outputs": [],
   "source": [
    "from sklearn.model_selection import RandomizedSearchCV\n",
    "from pprint import pprint\n",
    "from time import time\n",
    "import logging\n",
    "rf = Pipeline([('vect', CountVectorizer(strip_accents='ascii', token_pattern=u'(?ui)\\\\b\\\\w*[a-z]+\\\\w*\\\\b', lowercase=True, stop_words='english')),\n",
    "       ('tfidf', TfidfTransformer(use_idf=True)),\n",
    "       ('clf', RandomForestClassifier()),\n",
    "      ])\n",
    "parameters = {\n",
    "    \"vect__max_df\": (0.5, 0.75, 1.0),\n",
    "    # 'vect__max_features': (None, 5000, 10000, 50000),\n",
    "    \"vect__ngram_range\": ((1, 1), (1, 2)),  # unigrams or bigramslf__\n",
    "     \"clf__bootstrap\":[True, False],\n",
    "     \"clf__max_depth\":[10, 50, 100,500, None],\n",
    "     \"clf__max_features\":['auto', 'sqrt'],\n",
    "     \"clf__min_samples_leaf\":[1,2,4],\n",
    "     \"clf__min_samples_split\":[2,5,10],\n",
    "     \"clf__n_estimators\":[400,600,800],\n",
    "     \"clf__random_state\":[3]\n",
    "\n",
    "}\n",
    "\n",
    "RandomizedSearch = RandomizedSearchCV(rf,\n",
    "                          parameters, \n",
    "                          cv=5,\n",
    "                          verbose=1, \n",
    "                          n_jobs=-1)\n",
    "\n",
    "t0 = time()\n",
    "rf_best_model = RandomizedSearch.fit(X_train_final, y_train_final_primary)\n",
    "print(\"done in %0.3fs\" % (time() - t0))\n",
    "#print()\n",
    "print(\"Best score: %0.3f\" % rf_best_model.best_score_)\n",
    "print(\"Best parameters set:\")\n",
    "best_parameters = rf_best_model.best_estimator_.get_params()\n",
    "for param_name in sorted(parameters.keys()):\n",
    "    print(\"\\t%s: %r\" % (param_name, best_parameters[param_name]))"
   ]
  },
  {
   "cell_type": "code",
   "execution_count": null,
   "id": "e934dff9",
   "metadata": {},
   "outputs": [],
   "source": [
    "best_parameters"
   ]
  },
  {
   "cell_type": "code",
   "execution_count": null,
   "id": "9b26998a",
   "metadata": {},
   "outputs": [],
   "source": []
  },
  {
   "cell_type": "code",
   "execution_count": null,
   "id": "4bf39b76",
   "metadata": {},
   "outputs": [],
   "source": []
  },
  {
   "cell_type": "markdown",
   "id": "29af17c1",
   "metadata": {},
   "source": [
    "169000 total data b4 traing + 403 rows\n",
    "exp01:169000+403 rows\n",
    "exp02:169000+727 rows\n"
   ]
  }
 ],
 "metadata": {
  "kernelspec": {
   "display_name": "Python 3 (ipykernel)",
   "language": "python",
   "name": "python3"
  },
  "language_info": {
   "codemirror_mode": {
    "name": "ipython",
    "version": 3
   },
   "file_extension": ".py",
   "mimetype": "text/x-python",
   "name": "python",
   "nbconvert_exporter": "python",
   "pygments_lexer": "ipython3",
   "version": "3.6.13"
  }
 },
 "nbformat": 4,
 "nbformat_minor": 5
}
