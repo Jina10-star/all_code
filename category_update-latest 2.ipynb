{
 "cells": [
  {
   "cell_type": "code",
   "execution_count": 1,
   "id": "e308050b",
   "metadata": {},
   "outputs": [],
   "source": [
    "import pyodbc\n",
    "import pandas as pd\n",
    "from boxsdk import JWTAuth, Client\n",
    "from datetime import datetime, timezone\n",
    "import os\n",
    "import logging\n",
    "from logging.handlers import TimedRotatingFileHandler\n",
    "\n",
    "conn_str = (\n",
    "    r'Driver={ODBC Driver 17 for SQL Server};'\n",
    "    r'Server=dca1-up-dls;'\n",
    "    r'Database=IACOE;'\n",
    "    r'Trusted_Connection=yes;'\n",
    "    )\n",
    "\n",
    "cnxn = pyodbc.connect(conn_str)\n",
    "\n",
    "cursor = cnxn.cursor()\n",
    "\n",
    "query = \"\"\"SELECT * FROM TaxML_Validation_Data\"\"\"\n",
    "\n",
    "data = pd.read_sql(query,cnxn)\n",
    "#cnxn.commit()\n",
    "#cnxn.close()\n"
   ]
  },
  {
   "cell_type": "code",
   "execution_count": 2,
   "id": "a2f425a7",
   "metadata": {},
   "outputs": [
    {
     "name": "stdout",
     "output_type": "stream",
     "text": [
      "<class 'pandas.core.frame.DataFrame'>\n",
      "RangeIndex: 1503934 entries, 0 to 1503933\n",
      "Data columns (total 18 columns):\n",
      " #   Column                               Non-Null Count    Dtype         \n",
      "---  ------                               --------------    -----         \n",
      " 0   CICD Run Date                        1468441 non-null  datetime64[ns]\n",
      " 1   Date (BOT Sent Details to COE Team)  1468441 non-null  datetime64[ns]\n",
      " 2   UniqueUUID                           1503934 non-null  object        \n",
      " 3   store_uuid                           1503934 non-null  object        \n",
      " 4   item_uuid                            1503934 non-null  object        \n",
      " 5   Item                                 1503920 non-null  object        \n",
      " 6   Description                          930243 non-null   object        \n",
      " 7   establishment_type                   1503930 non-null  object        \n",
      " 8   ML CAT Name                          1503472 non-null  object        \n",
      " 9   ML Integer                           1503806 non-null  object        \n",
      " 10  ML Confidence Score                  1467979 non-null  float64       \n",
      " 11  Agent CAT Name                       1460525 non-null  object        \n",
      " 12  Agent Integer                        1460525 non-null  object        \n",
      " 13  Accuracy                             1503934 non-null  bool          \n",
      " 14  New ML Prediction                    334171 non-null   object        \n",
      " 15  New ML Integer                       194 non-null      object        \n",
      " 16  New Accuracy                         194 non-null      object        \n",
      " 17  Module                               1503934 non-null  object        \n",
      "dtypes: bool(1), datetime64[ns](2), float64(1), object(14)\n",
      "memory usage: 196.5+ MB\n"
     ]
    }
   ],
   "source": [
    "data.info()"
   ]
  },
  {
   "cell_type": "code",
   "execution_count": 3,
   "id": "87e3715c",
   "metadata": {},
   "outputs": [
    {
     "data": {
      "text/plain": [
       "21"
      ]
     },
     "execution_count": 3,
     "metadata": {},
     "output_type": "execute_result"
    }
   ],
   "source": [
    "master_mapping_data = pd.read_csv(\"./MASTER_Tax_Category_Mapping.csv\")\n",
    "set_cicd_categories_aftermapping = set(data['Agent CAT Name'].unique())\n",
    "set_master_mapping_data_categories = set(master_mapping_data['CAT_Name'].unique())\n",
    "dif_categories = list(set_cicd_categories_aftermapping.difference(set_master_mapping_data_categories))\n",
    "len(dif_categories)"
   ]
  },
  {
   "cell_type": "code",
   "execution_count": 4,
   "id": "2797e944",
   "metadata": {},
   "outputs": [
    {
     "data": {
      "text/plain": [
       "1"
      ]
     },
     "execution_count": 4,
     "metadata": {},
     "output_type": "execute_result"
    }
   ],
   "source": [
    "master_mapping_data = pd.read_csv(\"./MASTER_Tax_Category_Mapping.csv\")\n",
    "set_cicd_categories_aftermapping = set(data['ML CAT Name'].unique())\n",
    "set_master_mapping_data_categories = set(master_mapping_data['CAT_Name'].unique())\n",
    "dif_categories = list(set_cicd_categories_aftermapping.difference(set_master_mapping_data_categories))\n",
    "len(dif_categories)"
   ]
  },
  {
   "cell_type": "code",
   "execution_count": 5,
   "id": "524686f4",
   "metadata": {},
   "outputs": [
    {
     "data": {
      "text/plain": [
       "[None]"
      ]
     },
     "execution_count": 5,
     "metadata": {},
     "output_type": "execute_result"
    }
   ],
   "source": [
    "dif_categories"
   ]
  },
  {
   "cell_type": "code",
   "execution_count": 6,
   "id": "b48b96c9",
   "metadata": {},
   "outputs": [],
   "source": [
    "mapping_data=pd.read_csv('./mapping_latest.csv')\n",
    "cat_dict = dict(zip(mapping_data['Agent CAT Name'], mapping_data['Updated CAT Name']))\n",
    "int_dict = dict(zip(mapping_data['Agent CAT Name'], mapping_data['Updated Integer']))\n",
    "data[\"ML CAT Name\"] = data[\"ML CAT Name\"].map(cat_dict)\n",
    "data[\"ML Integer\"] = data[\"ML CAT Name\"].map(int_dict)"
   ]
  },
  {
   "cell_type": "code",
   "execution_count": 7,
   "id": "caa288fd",
   "metadata": {},
   "outputs": [
    {
     "data": {
      "text/html": [
       "<div>\n",
       "<style scoped>\n",
       "    .dataframe tbody tr th:only-of-type {\n",
       "        vertical-align: middle;\n",
       "    }\n",
       "\n",
       "    .dataframe tbody tr th {\n",
       "        vertical-align: top;\n",
       "    }\n",
       "\n",
       "    .dataframe thead th {\n",
       "        text-align: right;\n",
       "    }\n",
       "</style>\n",
       "<table border=\"1\" class=\"dataframe\">\n",
       "  <thead>\n",
       "    <tr style=\"text-align: right;\">\n",
       "      <th></th>\n",
       "      <th>Agent CAT Name</th>\n",
       "      <th>Updated CAT Name</th>\n",
       "      <th>Updated Integer</th>\n",
       "    </tr>\n",
       "  </thead>\n",
       "  <tbody>\n",
       "    <tr>\n",
       "      <th>0</th>\n",
       "      <td>CAT_ALCOHOL</td>\n",
       "      <td>CAT_ALCOHOL,TEMP_COLD</td>\n",
       "      <td>109,3</td>\n",
       "    </tr>\n",
       "    <tr>\n",
       "      <th>1</th>\n",
       "      <td>CAT_CANDY</td>\n",
       "      <td>CAT_CANDY,TEMP_COLD</td>\n",
       "      <td>108,3</td>\n",
       "    </tr>\n",
       "    <tr>\n",
       "      <th>2</th>\n",
       "      <td>CAT_CANDY, TRAIT_FLOUR</td>\n",
       "      <td>CAT_CANDY,TRAIT_FLOUR,TEMP_COLD</td>\n",
       "      <td>108,61,3</td>\n",
       "    </tr>\n",
       "    <tr>\n",
       "      <th>3</th>\n",
       "      <td>CAT_ENERGY_DRINK, CONTAINER_BOTTLED</td>\n",
       "      <td>CAT_ENERGY_DRINK,CONTAINER_BOTTLED,TEMP_COLD</td>\n",
       "      <td>113,11,3</td>\n",
       "    </tr>\n",
       "    <tr>\n",
       "      <th>4</th>\n",
       "      <td>CAT_ICE</td>\n",
       "      <td>CAT_ICE,TEMP_COLD</td>\n",
       "      <td>118,3</td>\n",
       "    </tr>\n",
       "    <tr>\n",
       "      <th>...</th>\n",
       "      <td>...</td>\n",
       "      <td>...</td>\n",
       "      <td>...</td>\n",
       "    </tr>\n",
       "    <tr>\n",
       "      <th>115</th>\n",
       "      <td>Toothpaste</td>\n",
       "      <td>CAT_TOOTHBRUSH</td>\n",
       "      <td>549</td>\n",
       "    </tr>\n",
       "    <tr>\n",
       "      <th>116</th>\n",
       "      <td>Toys and Games</td>\n",
       "      <td>CAT_TPP_TOYS</td>\n",
       "      <td>822</td>\n",
       "    </tr>\n",
       "    <tr>\n",
       "      <th>117</th>\n",
       "      <td>Vitamins and Supplements</td>\n",
       "      <td>CAT_SUPPLEMENTS</td>\n",
       "      <td>542</td>\n",
       "    </tr>\n",
       "    <tr>\n",
       "      <th>118</th>\n",
       "      <td>CAT_LIQUOR,TEMP_HEATED</td>\n",
       "      <td>CAT_LIQUOR</td>\n",
       "      <td>535</td>\n",
       "    </tr>\n",
       "    <tr>\n",
       "      <th>119</th>\n",
       "      <td>CAT_SANDWICH,TEMP_HEATED</td>\n",
       "      <td>CAT_SANDWICH,TEMP_UNHEATED</td>\n",
       "      <td>104,2</td>\n",
       "    </tr>\n",
       "  </tbody>\n",
       "</table>\n",
       "<p>120 rows × 3 columns</p>\n",
       "</div>"
      ],
      "text/plain": [
       "                           Agent CAT Name  \\\n",
       "0                             CAT_ALCOHOL   \n",
       "1                               CAT_CANDY   \n",
       "2                  CAT_CANDY, TRAIT_FLOUR   \n",
       "3     CAT_ENERGY_DRINK, CONTAINER_BOTTLED   \n",
       "4                                 CAT_ICE   \n",
       "..                                    ...   \n",
       "115                            Toothpaste   \n",
       "116                        Toys and Games   \n",
       "117              Vitamins and Supplements   \n",
       "118                CAT_LIQUOR,TEMP_HEATED   \n",
       "119              CAT_SANDWICH,TEMP_HEATED   \n",
       "\n",
       "                                 Updated CAT Name Updated Integer  \n",
       "0                           CAT_ALCOHOL,TEMP_COLD           109,3  \n",
       "1                             CAT_CANDY,TEMP_COLD           108,3  \n",
       "2                 CAT_CANDY,TRAIT_FLOUR,TEMP_COLD        108,61,3  \n",
       "3    CAT_ENERGY_DRINK,CONTAINER_BOTTLED,TEMP_COLD        113,11,3  \n",
       "4                               CAT_ICE,TEMP_COLD           118,3  \n",
       "..                                            ...             ...  \n",
       "115                                CAT_TOOTHBRUSH             549  \n",
       "116                                  CAT_TPP_TOYS             822  \n",
       "117                               CAT_SUPPLEMENTS             542  \n",
       "118                                    CAT_LIQUOR             535  \n",
       "119                    CAT_SANDWICH,TEMP_UNHEATED           104,2  \n",
       "\n",
       "[120 rows x 3 columns]"
      ]
     },
     "execution_count": 7,
     "metadata": {},
     "output_type": "execute_result"
    }
   ],
   "source": [
    "mapping_data"
   ]
  },
  {
   "cell_type": "code",
   "execution_count": 8,
   "id": "990d98b6",
   "metadata": {},
   "outputs": [],
   "source": [
    "cnxn = pyodbc.connect(conn_str)\n",
    "\n",
    "cursor = cnxn.cursor()"
   ]
  },
  {
   "cell_type": "code",
   "execution_count": 88,
   "id": "5ca2b8cd",
   "metadata": {},
   "outputs": [],
   "source": [
    "for index, row in mapping_data.iterrows():\n",
    "    #uuid = row[\"UniqueUUID\"]\n",
    "    updatedcatname = row[\"Updated CAT Name\"]\n",
    "    updatedinteger = row[\"Updated Integer\"]\n",
    "    agentcatname = row[\"Agent CAT Name\"]\n",
    "    query1 = f\"\"\" UPDATE TaxML_Validation_Data SET [ML CAT Name] = '{updatedcatname}', [ML Integer] = '{updatedinteger}'\n",
    "                Where [ML CAT Name] = '{agentcatname}' \"\"\"\n",
    "    cursor.execute(query1)\n",
    "   # print('1')\n",
    "    cnxn.commit()\n",
    "#cnxn.close()"
   ]
  },
  {
   "cell_type": "code",
   "execution_count": 9,
   "id": "dfb4169b",
   "metadata": {},
   "outputs": [],
   "source": [
    "for index, row in mapping_data.iterrows():\n",
    "    #uuid = row[\"UniqueUUID\"]\n",
    "    updatedcatname = row[\"Updated CAT Name\"]\n",
    "    updatedinteger = row[\"Updated Integer\"]\n",
    "    agentcatname = row[\"Agent CAT Name\"]\n",
    "    #print(updatedcatname,updatedinteger,agentcatname)\n",
    "    query2 = f\"\"\" UPDATE TaxML_Validation_Data SET [Agent CAT Name] = '{updatedcatname}', [Agent Integer] = '{updatedinteger}'\n",
    "                Where [Agent CAT Name] = '{agentcatname}' \"\"\"\n",
    "    cursor.execute(query2)\n",
    "    cnxn.commit()\n",
    "#cnxn.close()"
   ]
  },
  {
   "cell_type": "code",
   "execution_count": null,
   "id": "ae445bae",
   "metadata": {},
   "outputs": [],
   "source": []
  },
  {
   "cell_type": "code",
   "execution_count": null,
   "id": "64669494",
   "metadata": {},
   "outputs": [],
   "source": []
  },
  {
   "cell_type": "code",
   "execution_count": null,
   "id": "bc6fe868",
   "metadata": {},
   "outputs": [],
   "source": []
  },
  {
   "cell_type": "code",
   "execution_count": null,
   "id": "5950b07e",
   "metadata": {},
   "outputs": [],
   "source": []
  },
  {
   "cell_type": "code",
   "execution_count": null,
   "id": "61dd42fd",
   "metadata": {},
   "outputs": [],
   "source": []
  },
  {
   "cell_type": "code",
   "execution_count": null,
   "id": "76dc2ae0",
   "metadata": {},
   "outputs": [],
   "source": []
  },
  {
   "cell_type": "code",
   "execution_count": null,
   "id": "a9bf48f3",
   "metadata": {},
   "outputs": [],
   "source": []
  },
  {
   "cell_type": "code",
   "execution_count": null,
   "id": "381b67c1",
   "metadata": {},
   "outputs": [],
   "source": []
  },
  {
   "cell_type": "code",
   "execution_count": 38,
   "id": "75ec9e80",
   "metadata": {},
   "outputs": [],
   "source": [
    "for index, row in mapping_data.iterrows():\n",
    "    uuid = row[\"UniqueUUID\"]\n",
    "    updatedcatname = row[\"ML CAT Name\"]\n",
    "    updatedinetger = row[\"ML Integer\"]\n",
    "    updatedconf = row[\"ML Confidence Score\"]\n",
    "    query1 = f\"\"\" UPDATE TaxML_Validation_Data SET [ML CAT Name] = '{updatedcatname}', [ML Integer] = '{updatedinetger}', [ML Confidence Score] = '{updatedconf}'\n",
    "                Where [Agent CAT Name] = '{uuid}' \"\"\"\n",
    "    cursor.execute(query1)\n",
    "    cnxn.commit()"
   ]
  },
  {
   "cell_type": "code",
   "execution_count": 2,
   "id": "8030227e",
   "metadata": {},
   "outputs": [],
   "source": [
    "agentcatname = '-2146826265'\n",
    "updatedcatname = ' '\n",
    "updatedinetger = ' '\n",
    "query1 = f\"\"\" UPDATE TaxML_Validation_Data SET [Agent CAT Name] = NULL, [Agent Integer] =  NULL\n",
    "            Where [Agent CAT Name] = '{updatedinetger}' \"\"\"\n",
    "cursor.execute(query1)\n",
    "cnxn.commit()"
   ]
  },
  {
   "cell_type": "code",
   "execution_count": 66,
   "id": "16930d8d",
   "metadata": {},
   "outputs": [],
   "source": [
    "#agentcatname = ' '\n",
    "updatedinetger = ' '\n",
    "query1 = f\"\"\" UPDATE TaxML_Validation_Data SET  [Agent Integer] = NULL\n",
    "            Where [Agent CAT Name] is null \"\"\"\n",
    "cursor.execute(query1)\n",
    "cnxn.commit()"
   ]
  },
  {
   "cell_type": "code",
   "execution_count": 43,
   "id": "2bf2b9c2",
   "metadata": {},
   "outputs": [],
   "source": [
    "#agentcatname = '746'\n",
    "updatedcatname = '-2146826265'\n",
    "#updatedinetger = '746'\n",
    "query1 = f\"\"\" UPDATE TaxML_Validation_Data SET [ML Confidence Score] = '{updatedcatname}'\n",
    "            Where [ML Confidence Score] is null \"\"\"\n",
    "cursor.execute(query1)\n",
    "cnxn.commit()"
   ]
  },
  {
   "cell_type": "code",
   "execution_count": 75,
   "id": "fcd86d66",
   "metadata": {},
   "outputs": [],
   "source": [
    "#for index, row in data.iterrows():\n",
    "query3 = f\"\"\"UPDATE TaxML_Validation_Data \n",
    "            SET [Accuracy] = 0 \"\"\"\n",
    "cursor.execute(query3)\n",
    "cnxn.commit()"
   ]
  },
  {
   "cell_type": "code",
   "execution_count": 79,
   "id": "ff02a5e9",
   "metadata": {},
   "outputs": [],
   "source": [
    "#for index, row in data.iterrows():\n",
    "query3 = f\"\"\"UPDATE TaxML_Validation_Data \n",
    "            SET [Accuracy] = 1 \n",
    "            Where [ML CAT Name] = [Agent CAT Name]\"\"\"\n",
    "cursor.execute(query3)\n",
    "cnxn.commit()"
   ]
  },
  {
   "cell_type": "code",
   "execution_count": 85,
   "id": "9f5cf55f",
   "metadata": {},
   "outputs": [],
   "source": [
    "query4 = f\"\"\"SELECT *, ROUND(CAST(e.predicted_true_count AS DECIMAL(16,2)) / e.total_volume,2) AS accuracy\n",
    "                FROM (SELECT\n",
    "                    [Establishment_type],[ML CAT Name],[Agent CAT Name], [Accuracy],\n",
    "                    COUNT(CASE WHEN [Agent CAT Name] IS NOT NULL THEN [Agent CAT Name] END) AS total_volume,\n",
    "                    COUNT(CASE WHEN [ML CAT Name]=[Agent CAT Name] THEN [Agent CAT Name] END) AS predicted_true_count\n",
    "                FROM TaxML_Validation_Data\n",
    "                GROUP BY [Establishment_type],[ML CAT Name],[Agent CAT Name], [Accuracy]) AS e\n",
    "                WHERE e.predicted_true_count >= 1\n",
    "                ORDER BY e.predicted_true_count DESC \"\"\"\n",
    "data_byET = pd.read_sql(query4,cnxn)\n",
    "#cnxn.commit()"
   ]
  },
  {
   "cell_type": "code",
   "execution_count": 86,
   "id": "732e72f9",
   "metadata": {},
   "outputs": [],
   "source": [
    "data_byET.to_csv(\"data_byET.csv\")"
   ]
  },
  {
   "cell_type": "code",
   "execution_count": 25,
   "id": "d0f36ab1",
   "metadata": {
    "collapsed": true
   },
   "outputs": [
    {
     "data": {
      "text/html": [
       "<div>\n",
       "<style scoped>\n",
       "    .dataframe tbody tr th:only-of-type {\n",
       "        vertical-align: middle;\n",
       "    }\n",
       "\n",
       "    .dataframe tbody tr th {\n",
       "        vertical-align: top;\n",
       "    }\n",
       "\n",
       "    .dataframe thead th {\n",
       "        text-align: right;\n",
       "    }\n",
       "</style>\n",
       "<table border=\"1\" class=\"dataframe\">\n",
       "  <thead>\n",
       "    <tr style=\"text-align: right;\">\n",
       "      <th></th>\n",
       "      <th>CICD Run Date</th>\n",
       "      <th>Date (BOT Sent Details to COE Team)</th>\n",
       "      <th>UniqueUUID</th>\n",
       "      <th>store_uuid</th>\n",
       "      <th>item_uuid</th>\n",
       "      <th>Item</th>\n",
       "      <th>Description</th>\n",
       "      <th>establishment_type</th>\n",
       "      <th>ML CAT Name</th>\n",
       "      <th>ML Integer</th>\n",
       "      <th>ML Confidence Score</th>\n",
       "      <th>Agent CAT Name</th>\n",
       "      <th>Agent Integer</th>\n",
       "      <th>Accuracy</th>\n",
       "      <th>New ML Prediction</th>\n",
       "      <th>New ML Integer</th>\n",
       "      <th>New Accuracy</th>\n",
       "      <th>Module</th>\n",
       "    </tr>\n",
       "  </thead>\n",
       "  <tbody>\n",
       "    <tr>\n",
       "      <th>0</th>\n",
       "      <td>2022-08-09 10:36:00</td>\n",
       "      <td>2022-06-30 11:11:00</td>\n",
       "      <td>000168cb-e79b-4299-af44-4f86e36a8464:c17291c5-...</td>\n",
       "      <td>000168cb-e79b-4299-af44-4f86e36a8464</td>\n",
       "      <td>c17291c5-83d2-5155-85d0-305e41695b95</td>\n",
       "      <td>Egg White &amp; Veggie Omelet Bites</td>\n",
       "      <td>Cage-free eggs mixed with spinach, tomatoes an...</td>\n",
       "      <td>DEFAULT</td>\n",
       "      <td>CAT_PREPARED_FOOD,TEMP_HEATED</td>\n",
       "      <td>101,1</td>\n",
       "      <td>0.9</td>\n",
       "      <td>CAT_PREPARED_FOOD,TEMP_HEATED</td>\n",
       "      <td>101,1</td>\n",
       "      <td>True</td>\n",
       "      <td>None</td>\n",
       "      <td>None</td>\n",
       "      <td>None</td>\n",
       "      <td>Restaurant</td>\n",
       "    </tr>\n",
       "    <tr>\n",
       "      <th>1</th>\n",
       "      <td>2022-05-26 19:54:00</td>\n",
       "      <td>2022-05-19 19:08:00</td>\n",
       "      <td>0001a851-7ca3-484f-b3e6-75899dd18207:1b0bb2ba-...</td>\n",
       "      <td>0001a851-7ca3-484f-b3e6-75899dd18207</td>\n",
       "      <td>1b0bb2ba-99c3-574f-b203-e9b3388d5184</td>\n",
       "      <td>Ensenada Chicken Platter</td>\n",
       "      <td>One or two ancho-grilled chicken breasts house...</td>\n",
       "      <td>DEFAULT</td>\n",
       "      <td>CAT_PREPARED_FOOD,TEMP_HEATED</td>\n",
       "      <td>101,1</td>\n",
       "      <td>1.0</td>\n",
       "      <td>CAT_PREPARED_FOOD,TEMP_HEATED</td>\n",
       "      <td>101,1</td>\n",
       "      <td>True</td>\n",
       "      <td>None</td>\n",
       "      <td>None</td>\n",
       "      <td>None</td>\n",
       "      <td>Restaurants</td>\n",
       "    </tr>\n",
       "    <tr>\n",
       "      <th>2</th>\n",
       "      <td>2022-05-26 19:54:00</td>\n",
       "      <td>2022-05-19 19:08:00</td>\n",
       "      <td>0001a851-7ca3-484f-b3e6-75899dd18207:2f7fc8d6-...</td>\n",
       "      <td>0001a851-7ca3-484f-b3e6-75899dd18207</td>\n",
       "      <td>2f7fc8d6-8167-5521-b3ee-7e19281e6d60</td>\n",
       "      <td>Get Saucy</td>\n",
       "      <td>Our sauce secret is out Creamy Ranch Dressing ...</td>\n",
       "      <td>DEFAULT</td>\n",
       "      <td>CAT_PREPARED_FOOD,TEMP_HEATED</td>\n",
       "      <td>101,1</td>\n",
       "      <td>0.7</td>\n",
       "      <td>CAT_PREPACKAGED_FOOD_CONDIMENTS</td>\n",
       "      <td>740</td>\n",
       "      <td>True</td>\n",
       "      <td>None</td>\n",
       "      <td>None</td>\n",
       "      <td>None</td>\n",
       "      <td>Restaurants</td>\n",
       "    </tr>\n",
       "    <tr>\n",
       "      <th>3</th>\n",
       "      <td>2022-05-26 19:54:00</td>\n",
       "      <td>2022-05-19 19:08:00</td>\n",
       "      <td>0001a851-7ca3-484f-b3e6-75899dd18207:3bc15321-...</td>\n",
       "      <td>0001a851-7ca3-484f-b3e6-75899dd18207</td>\n",
       "      <td>3bc15321-d86f-51a9-a12b-438a8c69a591</td>\n",
       "      <td>Donatos 10 Pizza</td>\n",
       "      <td>10 Donatos famous crispy thin crust loaded Edg...</td>\n",
       "      <td>DEFAULT</td>\n",
       "      <td>CAT_PREPARED_FOOD,TEMP_HEATED</td>\n",
       "      <td>101,1</td>\n",
       "      <td>0.6</td>\n",
       "      <td>CAT_PREPARED_FOOD,TEMP_HEATED</td>\n",
       "      <td>101,1</td>\n",
       "      <td>True</td>\n",
       "      <td>None</td>\n",
       "      <td>None</td>\n",
       "      <td>None</td>\n",
       "      <td>Restaurants</td>\n",
       "    </tr>\n",
       "    <tr>\n",
       "      <th>4</th>\n",
       "      <td>2022-05-26 19:54:00</td>\n",
       "      <td>2022-05-19 19:08:00</td>\n",
       "      <td>0001a851-7ca3-484f-b3e6-75899dd18207:44c840cc-...</td>\n",
       "      <td>0001a851-7ca3-484f-b3e6-75899dd18207</td>\n",
       "      <td>44c840cc-3544-55b6-969c-56902c07899a</td>\n",
       "      <td>Donatos 7 Pizza</td>\n",
       "      <td>Loaded Edge to Edge with our heritage recipe P...</td>\n",
       "      <td>DEFAULT</td>\n",
       "      <td>CAT_PREPARED_FOOD,TEMP_HEATED</td>\n",
       "      <td>101,1</td>\n",
       "      <td>0.6</td>\n",
       "      <td>CAT_PREPARED_FOOD,TEMP_HEATED</td>\n",
       "      <td>101,1</td>\n",
       "      <td>True</td>\n",
       "      <td>None</td>\n",
       "      <td>None</td>\n",
       "      <td>None</td>\n",
       "      <td>Restaurants</td>\n",
       "    </tr>\n",
       "  </tbody>\n",
       "</table>\n",
       "</div>"
      ],
      "text/plain": [
       "        CICD Run Date Date (BOT Sent Details to COE Team)  \\\n",
       "0 2022-08-09 10:36:00                 2022-06-30 11:11:00   \n",
       "1 2022-05-26 19:54:00                 2022-05-19 19:08:00   \n",
       "2 2022-05-26 19:54:00                 2022-05-19 19:08:00   \n",
       "3 2022-05-26 19:54:00                 2022-05-19 19:08:00   \n",
       "4 2022-05-26 19:54:00                 2022-05-19 19:08:00   \n",
       "\n",
       "                                          UniqueUUID  \\\n",
       "0  000168cb-e79b-4299-af44-4f86e36a8464:c17291c5-...   \n",
       "1  0001a851-7ca3-484f-b3e6-75899dd18207:1b0bb2ba-...   \n",
       "2  0001a851-7ca3-484f-b3e6-75899dd18207:2f7fc8d6-...   \n",
       "3  0001a851-7ca3-484f-b3e6-75899dd18207:3bc15321-...   \n",
       "4  0001a851-7ca3-484f-b3e6-75899dd18207:44c840cc-...   \n",
       "\n",
       "                             store_uuid                             item_uuid  \\\n",
       "0  000168cb-e79b-4299-af44-4f86e36a8464  c17291c5-83d2-5155-85d0-305e41695b95   \n",
       "1  0001a851-7ca3-484f-b3e6-75899dd18207  1b0bb2ba-99c3-574f-b203-e9b3388d5184   \n",
       "2  0001a851-7ca3-484f-b3e6-75899dd18207  2f7fc8d6-8167-5521-b3ee-7e19281e6d60   \n",
       "3  0001a851-7ca3-484f-b3e6-75899dd18207  3bc15321-d86f-51a9-a12b-438a8c69a591   \n",
       "4  0001a851-7ca3-484f-b3e6-75899dd18207  44c840cc-3544-55b6-969c-56902c07899a   \n",
       "\n",
       "                              Item  \\\n",
       "0  Egg White & Veggie Omelet Bites   \n",
       "1         Ensenada Chicken Platter   \n",
       "2                       Get Saucy    \n",
       "3                 Donatos 10 Pizza   \n",
       "4                  Donatos 7 Pizza   \n",
       "\n",
       "                                         Description establishment_type  \\\n",
       "0  Cage-free eggs mixed with spinach, tomatoes an...            DEFAULT   \n",
       "1  One or two ancho-grilled chicken breasts house...            DEFAULT   \n",
       "2  Our sauce secret is out Creamy Ranch Dressing ...            DEFAULT   \n",
       "3  10 Donatos famous crispy thin crust loaded Edg...            DEFAULT   \n",
       "4  Loaded Edge to Edge with our heritage recipe P...            DEFAULT   \n",
       "\n",
       "                     ML CAT Name ML Integer  ML Confidence Score  \\\n",
       "0  CAT_PREPARED_FOOD,TEMP_HEATED      101,1                  0.9   \n",
       "1  CAT_PREPARED_FOOD,TEMP_HEATED      101,1                  1.0   \n",
       "2  CAT_PREPARED_FOOD,TEMP_HEATED      101,1                  0.7   \n",
       "3  CAT_PREPARED_FOOD,TEMP_HEATED      101,1                  0.6   \n",
       "4  CAT_PREPARED_FOOD,TEMP_HEATED      101,1                  0.6   \n",
       "\n",
       "                    Agent CAT Name Agent Integer  Accuracy New ML Prediction  \\\n",
       "0    CAT_PREPARED_FOOD,TEMP_HEATED         101,1      True              None   \n",
       "1    CAT_PREPARED_FOOD,TEMP_HEATED         101,1      True              None   \n",
       "2  CAT_PREPACKAGED_FOOD_CONDIMENTS           740      True              None   \n",
       "3    CAT_PREPARED_FOOD,TEMP_HEATED         101,1      True              None   \n",
       "4    CAT_PREPARED_FOOD,TEMP_HEATED         101,1      True              None   \n",
       "\n",
       "  New ML Integer New Accuracy       Module  \n",
       "0           None         None   Restaurant  \n",
       "1           None         None  Restaurants  \n",
       "2           None         None  Restaurants  \n",
       "3           None         None  Restaurants  \n",
       "4           None         None  Restaurants  "
      ]
     },
     "execution_count": 25,
     "metadata": {},
     "output_type": "execute_result"
    }
   ],
   "source": [
    "data_updated = pd.read_sql(query,cnxn)\n",
    "#cnxn.close()\n",
    "data_updated.head()"
   ]
  },
  {
   "cell_type": "code",
   "execution_count": 7,
   "id": "bb709bdc",
   "metadata": {
    "scrolled": true
   },
   "outputs": [
    {
     "data": {
      "text/html": [
       "<div>\n",
       "<style scoped>\n",
       "    .dataframe tbody tr th:only-of-type {\n",
       "        vertical-align: middle;\n",
       "    }\n",
       "\n",
       "    .dataframe tbody tr th {\n",
       "        vertical-align: top;\n",
       "    }\n",
       "\n",
       "    .dataframe thead th {\n",
       "        text-align: right;\n",
       "    }\n",
       "</style>\n",
       "<table border=\"1\" class=\"dataframe\">\n",
       "  <thead>\n",
       "    <tr style=\"text-align: right;\">\n",
       "      <th></th>\n",
       "      <th>CICD Run Date</th>\n",
       "      <th>Date (BOT Sent Details to COE Team)</th>\n",
       "      <th>UniqueUUID</th>\n",
       "      <th>store_uuid</th>\n",
       "      <th>item_uuid</th>\n",
       "      <th>Item</th>\n",
       "      <th>Description</th>\n",
       "      <th>establishment_type</th>\n",
       "      <th>ML CAT Name</th>\n",
       "      <th>ML Integer</th>\n",
       "      <th>ML Confidence Score</th>\n",
       "      <th>Agent CAT Name</th>\n",
       "      <th>Agent Integer</th>\n",
       "      <th>Accuracy</th>\n",
       "      <th>New ML Prediction</th>\n",
       "      <th>New ML Integer</th>\n",
       "      <th>New Accuracy</th>\n",
       "      <th>Module</th>\n",
       "    </tr>\n",
       "  </thead>\n",
       "  <tbody>\n",
       "  </tbody>\n",
       "</table>\n",
       "</div>"
      ],
      "text/plain": [
       "Empty DataFrame\n",
       "Columns: [CICD Run Date, Date (BOT Sent Details to COE Team), UniqueUUID, store_uuid, item_uuid, Item, Description, establishment_type, ML CAT Name, ML Integer, ML Confidence Score, Agent CAT Name, Agent Integer, Accuracy, New ML Prediction, New ML Integer, New Accuracy, Module]\n",
       "Index: []"
      ]
     },
     "execution_count": 7,
     "metadata": {},
     "output_type": "execute_result"
    }
   ],
   "source": [
    "agentcatname_list = list(mapping_data['Agent CAT Name'])\n",
    "#data_updated.loc[data_updated['Agent CAT Name'] == \"Antidiarrheals\"]\n",
    "data_updated.loc[data_updated['Agent CAT Name'].isin(agentcatname_list)]"
   ]
  },
  {
   "cell_type": "code",
   "execution_count": 11,
   "id": "bd4440fc",
   "metadata": {},
   "outputs": [
    {
     "data": {
      "text/html": [
       "<div>\n",
       "<style scoped>\n",
       "    .dataframe tbody tr th:only-of-type {\n",
       "        vertical-align: middle;\n",
       "    }\n",
       "\n",
       "    .dataframe tbody tr th {\n",
       "        vertical-align: top;\n",
       "    }\n",
       "\n",
       "    .dataframe thead th {\n",
       "        text-align: right;\n",
       "    }\n",
       "</style>\n",
       "<table border=\"1\" class=\"dataframe\">\n",
       "  <thead>\n",
       "    <tr style=\"text-align: right;\">\n",
       "      <th></th>\n",
       "      <th>CICD Run Date</th>\n",
       "      <th>Date (BOT Sent Details to COE Team)</th>\n",
       "      <th>UniqueUUID</th>\n",
       "      <th>store_uuid</th>\n",
       "      <th>item_uuid</th>\n",
       "      <th>Item</th>\n",
       "      <th>Description</th>\n",
       "      <th>establishment_type</th>\n",
       "      <th>ML CAT Name</th>\n",
       "      <th>ML Integer</th>\n",
       "      <th>ML Confidence Score</th>\n",
       "      <th>Agent CAT Name</th>\n",
       "      <th>Agent Integer</th>\n",
       "      <th>Accuracy</th>\n",
       "      <th>New ML Prediction</th>\n",
       "      <th>New ML Integer</th>\n",
       "      <th>New Accuracy</th>\n",
       "      <th>Module</th>\n",
       "    </tr>\n",
       "  </thead>\n",
       "  <tbody>\n",
       "  </tbody>\n",
       "</table>\n",
       "</div>"
      ],
      "text/plain": [
       "Empty DataFrame\n",
       "Columns: [CICD Run Date, Date (BOT Sent Details to COE Team), UniqueUUID, store_uuid, item_uuid, Item, Description, establishment_type, ML CAT Name, ML Integer, ML Confidence Score, Agent CAT Name, Agent Integer, Accuracy, New ML Prediction, New ML Integer, New Accuracy, Module]\n",
       "Index: []"
      ]
     },
     "execution_count": 11,
     "metadata": {},
     "output_type": "execute_result"
    }
   ],
   "source": [
    "agentcatname_list = list(mapping_data['Agent CAT Name'])\n",
    "#data_updated.loc[data_updated['Agent CAT Name'] == \"Antidiarrheals\"]\n",
    "data_updated.loc[data_updated['ML CAT Name'].isin(agentcatname_list)]"
   ]
  },
  {
   "cell_type": "code",
   "execution_count": 21,
   "id": "80134b44",
   "metadata": {},
   "outputs": [
    {
     "data": {
      "text/plain": [
       "CICD Run Date                              227\n",
       "Date (BOT Sent Details to COE Team)       2908\n",
       "UniqueUUID                             1134464\n",
       "store_uuid                               31308\n",
       "item_uuid                              1104264\n",
       "Item                                    354568\n",
       "Description                             137909\n",
       "establishment_type                          12\n",
       "ML CAT Name                                260\n",
       "ML Integer                                 277\n",
       "ML Confidence Score                       1197\n",
       "Agent CAT Name                             195\n",
       "Agent Integer                              220\n",
       "Accuracy                                     2\n",
       "New ML Prediction                            1\n",
       "New ML Integer                               1\n",
       "New Accuracy                                 1\n",
       "Module                                       4\n",
       "dtype: int64"
      ]
     },
     "execution_count": 21,
     "metadata": {},
     "output_type": "execute_result"
    }
   ],
   "source": [
    "count = data_updated.nunique()\n",
    "count"
   ]
  },
  {
   "cell_type": "code",
   "execution_count": 23,
   "id": "bbc90240",
   "metadata": {},
   "outputs": [
    {
     "data": {
      "text/plain": [
       "True     929429\n",
       "False    205035\n",
       "Name: Accuracy, dtype: int64"
      ]
     },
     "execution_count": 23,
     "metadata": {},
     "output_type": "execute_result"
    }
   ],
   "source": [
    "data['Accuracy'].value_counts()"
   ]
  },
  {
   "cell_type": "code",
   "execution_count": 26,
   "id": "d1ddd327",
   "metadata": {},
   "outputs": [
    {
     "data": {
      "text/plain": [
       "True     1131558\n",
       "False       2906\n",
       "Name: Accuracy, dtype: int64"
      ]
     },
     "execution_count": 26,
     "metadata": {},
     "output_type": "execute_result"
    }
   ],
   "source": [
    "data_updated['Accuracy'].value_counts()"
   ]
  },
  {
   "cell_type": "code",
   "execution_count": null,
   "id": "616ca173",
   "metadata": {},
   "outputs": [],
   "source": []
  }
 ],
 "metadata": {
  "kernelspec": {
   "display_name": "Python 3",
   "language": "python",
   "name": "python3"
  },
  "language_info": {
   "codemirror_mode": {
    "name": "ipython",
    "version": 3
   },
   "file_extension": ".py",
   "mimetype": "text/x-python",
   "name": "python",
   "nbconvert_exporter": "python",
   "pygments_lexer": "ipython3",
   "version": "3.8.8"
  }
 },
 "nbformat": 4,
 "nbformat_minor": 5
}
