{
 "cells": [
  {
   "cell_type": "code",
   "execution_count": null,
   "metadata": {},
   "outputs": [],
   "source": [
    "# Generate particial dependence plot for each NRT feature to analyze the trend with cancel probability\n",
    "%matplotlib inline\n",
    "import matplotlib.pyplot as plt\n",
    "import pandas as pd\n",
    "import numpy as np\n",
    "\n",
    "\n",
    "# Load San Francisco dataset\n",
    "result = pd.read_csv('Sample-1-1/trip-hexter-NRT-1-1-2022-0701-0715.csv', header=0)\n",
    "\n",
    "\n",
    "# Create bucketized dependence plots\n",
    "\n",
    "print(data.shape)\n",
    "\n",
    "# This is the list of NRT features generated in the dataset\n",
    "original_features = ['average_supply_surge', 'average_surge_diff', 'average_demand_surge',\n",
    "       'average_eta', 'average_rounded_eta', 'average_eyeball_eta',\n",
    "       'average_trip_distance_haversine', 'average_fd_eta', 'average_rating', 'average_forward_dispatched', 'average_cancel_rate']\n",
    "trip_features = ['average_driver_surge_multiplier',\n",
    "       'average_est_rider_fare_distance_miles', 'average_fare_distance_miles',\n",
    "       'average_fare_duration_minutes', 'average_trip_distance_miles', 'average_trip_duration_seconds']\n",
    "\n",
    "NRT_features = trip_features\n",
    "\n",
    "for focus in ['supply_', 'request_']:\n",
    "    for base_feature in NRT_features:\n",
    "        feature = focus + base_feature\n",
    "        a = data[feature].min()\n",
    "        b = data[feature].max()\n",
    "        fig = plt.figure(figsize=(11,5))\n",
    "        try:\n",
    "            data.groupby(pd.cut(data[feature], np.linspace(a,b,11))).canceled.mean().plot.bar(rot=10, fontsize=9)\n",
    "            plt.xlabel(feature)\n",
    "            plt.ylabel('cancel_rate')\n",
    "            plt.show()\n",
    "        except ValueError:\n",
    "            pass"
   ]
  },
  {
   "cell_type": "code",
   "execution_count": null,
   "metadata": {},
   "outputs": [],
   "source": [
    "# Check the distribution of features\n",
    "# import plotly.express as px\n",
    "# import plotly.figure_factory as ff\n",
    "\n",
    "import matplotlib.pyplot as plt\n",
    "import seaborn as sns\n",
    "\n",
    "result = pandas.read_csv('Sample-1-1/trip-hexter-NRT-1-1-2022-0701-0715.csv', header=0)\n",
    "\n",
    "feature = 'eyeball_eta'\n",
    "\n",
    "print(result[feature].describe())\n",
    "\n",
    "\n",
    "df = result.fillna(0)\n",
    "\n",
    "\n",
    "fig = plt.figure(figsize=(11,4))\n",
    "sns.histplot(df[feature])\n",
    "print('Done')"
   ]
  }
 ],
 "metadata": {
  "language_info": {
   "name": "plaintext"
  },
  "orig_nbformat": 4
 },
 "nbformat": 4,
 "nbformat_minor": 2
}
