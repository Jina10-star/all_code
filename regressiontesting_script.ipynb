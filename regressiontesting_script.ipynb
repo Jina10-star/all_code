{
 "cells": [
  {
   "cell_type": "code",
   "execution_count": 1,
   "id": "e308050b",
   "metadata": {},
   "outputs": [],
   "source": [
    "import pyodbc\n",
    "import pandas as pd\n",
    "from boxsdk import JWTAuth, Client\n",
    "from datetime import datetime, timezone\n",
    "import os\n",
    "import logging\n",
    "from logging.handlers import TimedRotatingFileHandler\n",
    "\n",
    "conn_str = (\n",
    "    r'Driver={ODBC Driver 17 for SQL Server};'\n",
    "    r'Server=dca1-up-dls;'\n",
    "    r'Database=IACOE;'\n",
    "    r'Trusted_Connection=yes;'\n",
    "    )\n",
    "\n",
    "cnxn = pyodbc.connect(conn_str)\n",
    "\n",
    "cursor = cnxn.cursor()\n",
    "\n",
    "query = \"\"\"SELECT *, ROUND(CAST(e.predicted_true_count AS DECIMAL(18,2)) / e.total_volume,2) AS accuracy\n",
    "FROM (SELECT\n",
    "\t[Agent CAT Name],\n",
    "\tCOUNT(CASE WHEN [Agent CAT Name] IS NOT NULL THEN [Agent CAT Name] END) AS total_volume,\n",
    " \tCOUNT(CASE WHEN [Accuracy] = 1 AND [Agent CAT Name] IS NOT NULL THEN [Agent CAT Name] END) AS predicted_true_count\n",
    "FROM TaxML_Validation_Data\n",
    "GROUP BY [Agent CAT Name]) AS e\n",
    "WHERE e.predicted_true_count >= 1\n",
    "ORDER BY e.predicted_true_count DESC \"\"\"\n",
    "\n",
    "data = pd.read_sql(query,cnxn)\n",
    "#cnxn.commit()\n",
    "#cnxn.close()"
   ]
  },
  {
   "cell_type": "code",
   "execution_count": 2,
   "id": "51ae4524",
   "metadata": {},
   "outputs": [],
   "source": [
    "data.to_csv('Accuracysheet_8Dec2022.tsv', sep=\"\\t\")"
   ]
  },
  {
   "cell_type": "code",
   "execution_count": 4,
   "id": "b1689ae4",
   "metadata": {},
   "outputs": [],
   "source": [
    "import pyodbc\n",
    "import pandas as pd\n",
    "from boxsdk import JWTAuth, Client\n",
    "from datetime import datetime, timezone\n",
    "import os\n",
    "import logging\n",
    "from logging.handlers import TimedRotatingFileHandler\n",
    "\n",
    "conn_str = (\n",
    "    r'Driver={ODBC Driver 17 for SQL Server};'\n",
    "    r'Server=dca1-up-dls;'\n",
    "    r'Database=IACOE;'\n",
    "    r'Trusted_Connection=yes;'\n",
    "    )\n",
    "\n",
    "cnxn = pyodbc.connect(conn_str)\n",
    "\n",
    "cursor = cnxn.cursor()\n",
    "query1 = \"\"\"SELECT *, ROUND(CAST(e.predicted_true_count AS DECIMAL(18,2)) / e.total_volume,2) AS accuracy\n",
    "FROM (SELECT\n",
    "    [Establishment_type],[ML CAT Name],\n",
    "\tCOUNT(CASE WHEN [Agent CAT Name] IS NOT NULL THEN [Agent CAT Name] END) AS total_volume,\n",
    " \tCOUNT(CASE WHEN [Agent CAT Name] IS NOT NULL AND [Accuracy] = 1 THEN [Agent CAT Name] END) AS predicted_true_count\n",
    "FROM TaxML_Validation_Data\n",
    "GROUP BY [Establishment_type],[ML CAT Name]) AS e\n",
    "WHERE e.predicted_true_count >= 1\n",
    "ORDER BY e.predicted_true_count DESC \"\"\"\n",
    "databyETMLCat = pd.read_sql(query1,cnxn)"
   ]
  },
  {
   "cell_type": "code",
   "execution_count": 6,
   "id": "a0e9ad5f",
   "metadata": {},
   "outputs": [],
   "source": [
    "databyETMLCat.to_csv('databyETMLCat.tsv', sep=\"\\t\")"
   ]
  },
  {
   "cell_type": "code",
   "execution_count": 9,
   "id": "da77e16f",
   "metadata": {},
   "outputs": [],
   "source": [
    "query2 = \"\"\"SELECT [Establishment_type],[ML CAT Name],[Agent CAT Name], COUNT(CASE WHEN [Agent CAT Name] IS NOT NULL THEN [Agent CAT Name] END) AS total_volume FROM TaxML_Validation_Data           \n",
    "            GROUP BY [Establishment_type],[ML CAT Name],[Agent CAT Name] \"\"\"\n",
    "query3 = \"\"\"SELECT [Establishment_type],[ML CAT Name],[Agent CAT Name], COUNT(CASE WHEN [Agent CAT Name] IS NOT NULL AND [Accuracy] = 1 THEN [Agent CAT Name] END) AS predicted_true FROM TaxML_Validation_Data           \n",
    "            GROUP BY [Establishment_type],[ML CAT Name],[Agent CAT Name] \"\"\"\n",
    "databyETMLCatACat1= pd.read_sql(query2,cnxn)\n",
    "databyETMLCatACat2= pd.read_sql(query3,cnxn)\n",
    "databyETMLCatACat1.to_csv('databyETMLCatACat1_8Dec2022.tsv', sep=\"\\t\")\n",
    "databyETMLCatACat2.to_csv('databyETMLCatACat2_8Dec2022.tsv', sep=\"\\t\")"
   ]
  },
  {
   "cell_type": "code",
   "execution_count": 5,
   "id": "6e155ef8",
   "metadata": {
    "collapsed": true
   },
   "outputs": [
    {
     "data": {
      "text/html": [
       "<div>\n",
       "<style scoped>\n",
       "    .dataframe tbody tr th:only-of-type {\n",
       "        vertical-align: middle;\n",
       "    }\n",
       "\n",
       "    .dataframe tbody tr th {\n",
       "        vertical-align: top;\n",
       "    }\n",
       "\n",
       "    .dataframe thead th {\n",
       "        text-align: right;\n",
       "    }\n",
       "</style>\n",
       "<table border=\"1\" class=\"dataframe\">\n",
       "  <thead>\n",
       "    <tr style=\"text-align: right;\">\n",
       "      <th></th>\n",
       "      <th>Agent CAT Name</th>\n",
       "      <th>total_volume</th>\n",
       "      <th>predicted_true_count</th>\n",
       "      <th>accuracy</th>\n",
       "    </tr>\n",
       "  </thead>\n",
       "  <tbody>\n",
       "    <tr>\n",
       "      <th>0</th>\n",
       "      <td>CAT_PREPARED_FOOD,TEMP_HEATED</td>\n",
       "      <td>247402</td>\n",
       "      <td>246071</td>\n",
       "      <td>0.99</td>\n",
       "    </tr>\n",
       "    <tr>\n",
       "      <th>1</th>\n",
       "      <td>CAT_LIQUOR</td>\n",
       "      <td>89583</td>\n",
       "      <td>89566</td>\n",
       "      <td>1.00</td>\n",
       "    </tr>\n",
       "    <tr>\n",
       "      <th>2</th>\n",
       "      <td>CAT_SOFT_DRINK,CONTAINER_BOTTLED,TEMP_COLD</td>\n",
       "      <td>60748</td>\n",
       "      <td>60361</td>\n",
       "      <td>0.99</td>\n",
       "    </tr>\n",
       "    <tr>\n",
       "      <th>3</th>\n",
       "      <td>CAT_PREPARED_DRINK,TEMP_UNHEATED</td>\n",
       "      <td>57593</td>\n",
       "      <td>57425</td>\n",
       "      <td>1.00</td>\n",
       "    </tr>\n",
       "    <tr>\n",
       "      <th>4</th>\n",
       "      <td>CAT_PREPACKAGED_FOOD,TEMP_COLD</td>\n",
       "      <td>54643</td>\n",
       "      <td>54619</td>\n",
       "      <td>1.00</td>\n",
       "    </tr>\n",
       "  </tbody>\n",
       "</table>\n",
       "</div>"
      ],
      "text/plain": [
       "                               Agent CAT Name  total_volume  \\\n",
       "0               CAT_PREPARED_FOOD,TEMP_HEATED        247402   \n",
       "1                                  CAT_LIQUOR         89583   \n",
       "2  CAT_SOFT_DRINK,CONTAINER_BOTTLED,TEMP_COLD         60748   \n",
       "3            CAT_PREPARED_DRINK,TEMP_UNHEATED         57593   \n",
       "4              CAT_PREPACKAGED_FOOD,TEMP_COLD         54643   \n",
       "\n",
       "   predicted_true_count  accuracy  \n",
       "0                246071      0.99  \n",
       "1                 89566      1.00  \n",
       "2                 60361      0.99  \n",
       "3                 57425      1.00  \n",
       "4                 54619      1.00  "
      ]
     },
     "execution_count": 5,
     "metadata": {},
     "output_type": "execute_result"
    }
   ],
   "source": [
    "data.head()"
   ]
  },
  {
   "cell_type": "code",
   "execution_count": 6,
   "id": "03b73697",
   "metadata": {},
   "outputs": [],
   "source": [
    "# Create Filename based on timestamp\n",
    "'''\n",
    "# Create Filename based on timestamp\n",
    "FILENAME = 'taxml_accuracysheet'\n",
    "datetime_str = datetime.now(timezone.utc).strftime(\"%Y%m%d%H%M%S\")\n",
    "# print(datetime_str)\n",
    "\n",
    "FILENAME = FILENAME + \"_\" + datetime_str+\".csv\"\n",
    "\n",
    "print(FILENAME)\n",
    "\n",
    "# create a path\n",
    "#PATH = os.path.join('data', FILENAME)\n",
    "PATH = os.path.join(FILENAME)\n",
    "df.to_csv(PATH, index=False)\n",
    "'''\n",
    "\n",
    "FILENAME = 'taxml_accuracysheet'\n",
    "datetime_str = datetime.now(timezone.utc).strftime(\"%Y%m%d%H%M%S\")\n",
    "# print(datetime_str)\n",
    "\n",
    "FILENAME = FILENAME + \"_\" + datetime_str+\".csv\"\n",
    "data.to_csv(FILENAME, index=False)"
   ]
  },
  {
   "cell_type": "code",
   "execution_count": 5,
   "id": "09db3726",
   "metadata": {},
   "outputs": [],
   "source": [
    "# Folder ID in box to upload the data\n",
    "FOLDER_ID = '181092156148'\n",
    "\n",
    "# establish a connection for BOX\n",
    "config = JWTAuth.from_settings_file('Tax_Auto_Config.json')\n",
    "client = Client(config)"
   ]
  },
  {
   "cell_type": "code",
   "execution_count": 8,
   "id": "ade224e7",
   "metadata": {},
   "outputs": [
    {
     "name": "stdout",
     "output_type": "stream",
     "text": [
      "File \"taxml_accuracysheet_20221129045955.csv\" has been uploaded\n"
     ]
    }
   ],
   "source": [
    "FILENAME = FILENAME\n",
    "# fetch all the items from the folder\n",
    "folder = client.folder(folder_id=FOLDER_ID)\n",
    "items = folder.get_items()\n",
    "\n",
    "flag = False\n",
    "\n",
    "#logger.debug('Uploading accuracy calcualted file in BOX....')\n",
    "\n",
    "for item in items:\n",
    "    # if file name exists, update the content\n",
    "    if item.name == FILENAME:\n",
    "        updated_file = client.file(item.id).update_contents(item.name)\n",
    "        print('File \"{0}\" has been updated'.format(updated_file.name))\n",
    "        flag = True\n",
    "        break\n",
    "PATH = \"taxml_accuracysheet_20221129045955.csv\"\n",
    "# if file doesn not exists upload the file\n",
    "if not flag:\n",
    "    #uploaded_file = folder.upload(PATH)\n",
    "    uploaded_file = folder.upload(PATH, file_name=None, file_description=None,preflight_check=False, preflight_expected_size=0)\n",
    "    print('File \"{0}\" has been uploaded'.format(uploaded_file.name))\n",
    "# replace np.nan by empty string as MYSQL doesn't accept it\n",
    "#df_final = df_final.replace(np.nan, \"\")\n",
    "#logger.debug('Updating MYSQL status....')\n"
   ]
  },
  {
   "cell_type": "code",
   "execution_count": null,
   "id": "a335becd",
   "metadata": {},
   "outputs": [],
   "source": [
    "def upload_file(client):\n",
    "    root_folder = client.folder(folder_id='0')\n",
    "    file_path = os.path.join(os.path.dirname(os.path.realpath(__file__)), 'file.txt')\n",
    "    a_file = root_folder.upload(file_path, file_name='i-am-a-file.txt')\n",
    "    try:\n",
    "        print('{0} uploaded: '.format(a_file.get()['name']))\n",
    "    finally:\n",
    "        print('Delete i-am-a-file.txt succeeded: {0}'.format(a_file.delete()))"
   ]
  },
  {
   "cell_type": "code",
   "execution_count": null,
   "id": "344d86e0",
   "metadata": {},
   "outputs": [],
   "source": [
    "To upload a file from a path on disk, call the folder.upload(file_path, file_name=None, file_description=None,preflight_check=False, preflight_expected_size=0)"
   ]
  }
 ],
 "metadata": {
  "kernelspec": {
   "display_name": "Python 3 (ipykernel)",
   "language": "python",
   "name": "python3"
  },
  "language_info": {
   "codemirror_mode": {
    "name": "ipython",
    "version": 3
   },
   "file_extension": ".py",
   "mimetype": "text/x-python",
   "name": "python",
   "nbconvert_exporter": "python",
   "pygments_lexer": "ipython3",
   "version": "3.7.8"
  }
 },
 "nbformat": 4,
 "nbformat_minor": 5
}
