{
 "cells": [
  {
   "cell_type": "code",
   "execution_count": 1,
   "id": "ca2fb8bd",
   "metadata": {},
   "outputs": [],
   "source": [
    "import os\n",
    "import re\n",
    "import pandas as pd\n",
    "import numpy as np\n"
   ]
  },
  {
   "cell_type": "code",
   "execution_count": 2,
   "id": "ef9dd9be",
   "metadata": {},
   "outputs": [],
   "source": [
    "df1= pd.read_excel('/Users/jghosh2/Documents/my-notebook/Resturent_classification/data/CorelatedData.xlsx', index_col=None, header=0,dtype={'restaurant_UUID':str,'item_uuid':str,'item_name': str, 'description': str,'establishment_type': str, 'CAT_Name':str,'CAT_Integer':str},usecols=['item_name','description','establishment_type','CAT_Name','CAT_Integer'])\n",
    "df2= pd.read_csv('/Users/jghosh2/Documents/my-notebook/Resturent_classification/data/duplicate.csv', index_col=None, header=0,dtype={'restaurant_UUID':str,'item_uuid':str,'item_name': str, 'description': str,'establishment_type': str, 'CAT_Name':str,'CAT_Integer':str},usecols=['item_name','description','establishment_type','CAT_Name','CAT_Integer'])\n",
    "df3= pd.read_excel('/Users/jghosh2/Documents/my-notebook/Resturent_classification/data/Phase2SampleSet.xlsx', index_col=None, header=0,dtype={'restaurant_UUID':str,'item_uuid':str,'item_name': str, 'description': str,'establishment_type': str, 'CAT_Name':str,'CAT_Integer':str},usecols=['item_name','description','establishment_type','CAT_Name','CAT_Integer'])\n",
    "df4= pd.read_csv('/Users/jghosh2/Documents/my-notebook/Resturent_classification/data/phase2retrainset.csv',usecols=['item_name','description','establishment_type','CAT_Name','CAT_Integer'])\n",
    "df5= pd.read_csv('/Users/jghosh2/Documents/my-notebook/Resturent_classification/data/Backup UUIDS of TaxML Restaurant-CICD.csv',usecols=['item_name','description','establishment_type','CAT_Name','CAT_Integer'])"
   ]
  },
  {
   "cell_type": "code",
   "execution_count": 3,
   "id": "6d4193de",
   "metadata": {},
   "outputs": [
    {
     "data": {
      "text/plain": [
       "((22730, 6), (793, 6))"
      ]
     },
     "execution_count": 3,
     "metadata": {},
     "output_type": "execute_result"
    }
   ],
   "source": [
    "df1['target']=df1['CAT_Name']+\":\"+df1['CAT_Integer']\n",
    "df1=df1.drop_duplicates(subset=['item_name','description','establishment_type','target'],ignore_index=True)\n",
    "df1_final=df1.drop_duplicates(subset=['item_name','description','establishment_type'],keep=False)#usuable data\n",
    "df1_duplicate=df1[df1.duplicated(subset=['item_name','description','establishment_type'],keep=False)]\n",
    "df1_final.shape,df1_duplicate.shape"
   ]
  },
  {
   "cell_type": "code",
   "execution_count": 4,
   "id": "0871fd15",
   "metadata": {},
   "outputs": [
    {
     "data": {
      "text/plain": [
       "((370, 6), (2, 6))"
      ]
     },
     "execution_count": 4,
     "metadata": {},
     "output_type": "execute_result"
    }
   ],
   "source": [
    "df2['target']=df2['CAT_Name']+\":\"+df2['CAT_Integer']\n",
    "df2=df2.drop_duplicates(subset=['item_name','description','establishment_type','target'],ignore_index=True)\n",
    "df2_final=df2.drop_duplicates(subset=['item_name','description','establishment_type'],keep=False)\n",
    "df2_duplicate=df2[df2.duplicated(subset=['item_name','description','establishment_type'],keep=False)]\n",
    "df2_final.shape,df2_duplicate.shape"
   ]
  },
  {
   "cell_type": "code",
   "execution_count": 5,
   "id": "add52994",
   "metadata": {},
   "outputs": [
    {
     "data": {
      "text/plain": [
       "((23781, 6), (569, 6))"
      ]
     },
     "execution_count": 5,
     "metadata": {},
     "output_type": "execute_result"
    }
   ],
   "source": [
    "df3['target']=df3['CAT_Name']+\":\"+df3['CAT_Integer']\n",
    "df3=df3.drop_duplicates(subset=['item_name','description','establishment_type','target'],ignore_index=True)\n",
    "df3_final=df3.drop_duplicates(subset=['item_name','description','establishment_type'],keep=False)\n",
    "df3_duplicate=df3[df3.duplicated(subset=['item_name','description','establishment_type'],keep=False)]#need to merge after getting correct file\n",
    "df3_final.shape,df3_duplicate.shape"
   ]
  },
  {
   "cell_type": "code",
   "execution_count": 6,
   "id": "af71fea0",
   "metadata": {},
   "outputs": [
    {
     "data": {
      "text/plain": [
       "((5530, 6), (401, 6))"
      ]
     },
     "execution_count": 6,
     "metadata": {},
     "output_type": "execute_result"
    }
   ],
   "source": [
    "df4['target']=df4['CAT_Name']+\":\"+df4['CAT_Integer']\n",
    "df4=df4.drop_duplicates(subset=['item_name','description','establishment_type','target'],ignore_index=True)\n",
    "df4_final=df4.drop_duplicates(subset=['item_name','description','establishment_type'],keep=False)\n",
    "df4_duplicate=df4[df4.duplicated(subset=['item_name','description','establishment_type'],keep=False)]#need to merge after getting correct file\n",
    "df4_final.shape,df4_duplicate.shape"
   ]
  },
  {
   "cell_type": "code",
   "execution_count": 7,
   "id": "beb4997d",
   "metadata": {},
   "outputs": [
    {
     "data": {
      "text/plain": [
       "((62991, 6), (1622, 6))"
      ]
     },
     "execution_count": 7,
     "metadata": {},
     "output_type": "execute_result"
    }
   ],
   "source": [
    "df5['target']=df5['CAT_Name']+\":\"+df5['CAT_Integer']\n",
    "df5=df5.drop_duplicates(subset=['item_name','description','establishment_type','target'],ignore_index=True)\n",
    "df5_final=df5.drop_duplicates(subset=['item_name','description','establishment_type'],keep=False)\n",
    "df5_duplicate=df5[df5.duplicated(subset=['item_name','description','establishment_type'],keep=False)]#need to merge after getting correct file\n",
    "df5_final.shape,df5_duplicate.shape"
   ]
  },
  {
   "cell_type": "code",
   "execution_count": 8,
   "id": "de6785a4",
   "metadata": {},
   "outputs": [],
   "source": [
    "df1_df2=df1_final.append(df2_final)"
   ]
  },
  {
   "cell_type": "code",
   "execution_count": 10,
   "id": "e7569c47",
   "metadata": {},
   "outputs": [],
   "source": [
    "df3_df4=df3_final.append(df4_final)"
   ]
  },
  {
   "cell_type": "code",
   "execution_count": 11,
   "id": "bc57f627",
   "metadata": {},
   "outputs": [],
   "source": [
    "df_1234=df1_df2.append(df3_df4)"
   ]
  },
  {
   "cell_type": "code",
   "execution_count": 12,
   "id": "7b6ec415",
   "metadata": {},
   "outputs": [],
   "source": [
    "final_df=df_1234.append(df5)"
   ]
  },
  {
   "cell_type": "code",
   "execution_count": 13,
   "id": "01dea179",
   "metadata": {},
   "outputs": [
    {
     "data": {
      "text/plain": [
       "(117024, 6)"
      ]
     },
     "execution_count": 13,
     "metadata": {},
     "output_type": "execute_result"
    }
   ],
   "source": [
    "final_df.shape"
   ]
  },
  {
   "cell_type": "code",
   "execution_count": 14,
   "id": "2517df90",
   "metadata": {},
   "outputs": [],
   "source": [
    "final_df_train=final_df.drop_duplicates(subset=['item_name','description','establishment_type'],keep=False)\n"
   ]
  },
  {
   "cell_type": "code",
   "execution_count": 15,
   "id": "5428d1b4",
   "metadata": {},
   "outputs": [],
   "source": [
    "final_df_duplicate=final_df[final_df.duplicated(subset=['item_name','description','establishment_type'],keep=False)]"
   ]
  },
  {
   "cell_type": "code",
   "execution_count": 16,
   "id": "f341133c",
   "metadata": {},
   "outputs": [
    {
     "data": {
      "text/plain": [
       "((100820, 6), (16204, 6))"
      ]
     },
     "execution_count": 16,
     "metadata": {},
     "output_type": "execute_result"
    }
   ],
   "source": [
    "final_df_train.shape,final_df_duplicate.shape"
   ]
  },
  {
   "cell_type": "code",
   "execution_count": 17,
   "id": "01217251",
   "metadata": {},
   "outputs": [],
   "source": [
    "final_df_train.to_csv('../data/final_historical_data.csv')"
   ]
  },
  {
   "cell_type": "code",
   "execution_count": 18,
   "id": "3d2ff527",
   "metadata": {},
   "outputs": [],
   "source": [
    "duplicate_phase2=final_df_duplicate.append(df3_duplicate)#need to merge once i get correct data"
   ]
  },
  {
   "cell_type": "code",
   "execution_count": 19,
   "id": "7215e251",
   "metadata": {},
   "outputs": [],
   "source": [
    "sorted_df5= duplicate_phase2.sort_values(by=['item_name','description','establishment_type'], ascending=True)#need to merge"
   ]
  },
  {
   "cell_type": "code",
   "execution_count": 20,
   "id": "95384a97",
   "metadata": {},
   "outputs": [
    {
     "data": {
      "text/plain": [
       "(16773, 6)"
      ]
     },
     "execution_count": 20,
     "metadata": {},
     "output_type": "execute_result"
    }
   ],
   "source": [
    "sorted_df5.shape"
   ]
  },
  {
   "cell_type": "code",
   "execution_count": 32,
   "id": "f034c73c",
   "metadata": {},
   "outputs": [],
   "source": [
    "sorted_df5.to_csv('phase2_duplicate.csv')"
   ]
  },
  {
   "cell_type": "code",
   "execution_count": 20,
   "id": "8458b8a6",
   "metadata": {},
   "outputs": [],
   "source": []
  },
  {
   "cell_type": "code",
   "execution_count": null,
   "id": "afde4c6a",
   "metadata": {},
   "outputs": [],
   "source": []
  },
  {
   "cell_type": "code",
   "execution_count": null,
   "id": "f91ea835",
   "metadata": {},
   "outputs": [],
   "source": []
  },
  {
   "cell_type": "code",
   "execution_count": null,
   "id": "f34275b4",
   "metadata": {},
   "outputs": [],
   "source": []
  },
  {
   "cell_type": "code",
   "execution_count": null,
   "id": "0e37d179",
   "metadata": {},
   "outputs": [],
   "source": []
  },
  {
   "cell_type": "code",
   "execution_count": null,
   "id": "a77f4155",
   "metadata": {},
   "outputs": [],
   "source": []
  }
 ],
 "metadata": {
  "kernelspec": {
   "display_name": "Python 3 (ipykernel)",
   "language": "python",
   "name": "python3"
  },
  "language_info": {
   "codemirror_mode": {
    "name": "ipython",
    "version": 3
   },
   "file_extension": ".py",
   "mimetype": "text/x-python",
   "name": "python",
   "nbconvert_exporter": "python",
   "pygments_lexer": "ipython3",
   "version": "3.7.8"
  }
 },
 "nbformat": 4,
 "nbformat_minor": 5
}
