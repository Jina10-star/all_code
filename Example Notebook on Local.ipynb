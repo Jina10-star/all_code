{
 "cells": [
  {
   "cell_type": "markdown",
   "metadata": {},
   "source": [
    "## Create Spark Session"
   ]
  },
  {
   "cell_type": "code",
   "execution_count": null,
   "metadata": {
    "scrolled": true
   },
   "outputs": [],
   "source": [
    "from pyspark.sql import SparkSession\n",
    "spark = SparkSession.builder.master('local[*]').getOrCreate()"
   ]
  },
  {
   "cell_type": "markdown",
   "metadata": {},
   "source": [
    "## Some Setup (not needed in DSW)"
   ]
  },
  {
   "cell_type": "code",
   "execution_count": null,
   "metadata": {
    "scrolled": true
   },
   "outputs": [],
   "source": [
    "# Append system path\n",
    "import sys\n",
    "sys.path.append('../')\n",
    "\n",
    "import os\n",
    "# Tunnel Muttley for production WFO GRPC\n",
    "# os.system('ssh -MfN -L 5435:localhost:5435 adhoc20-dca1')\n",
    "# Or start WFO service locally."
   ]
  },
  {
   "cell_type": "markdown",
   "metadata": {},
   "source": [
    "## Initialize MaLearn in lazy mode\n",
    "We need to find out a way to package operators fat jar before running eager mode on local."
   ]
  },
  {
   "cell_type": "code",
   "execution_count": null,
   "metadata": {
    "scrolled": true
   },
   "outputs": [],
   "source": [
    "import malearn\n",
    "from malearn import MaLearnConfig\n",
    "\n",
    "config = MaLearnConfig()\n",
    "config.eager_mode_enabled = False\n",
    "config.workflow_service_port = 9877\n",
    "malearn.init(config)"
   ]
  },
  {
   "cell_type": "markdown",
   "metadata": {},
   "source": [
    "## Use project API"
   ]
  },
  {
   "cell_type": "code",
   "execution_count": null,
   "metadata": {
    "scrolled": true
   },
   "outputs": [],
   "source": [
    "from malearn.project import MichelangeloProject\n",
    "project = MichelangeloProject(project_id='Jin_test_non_secure')\n",
    "df = project.read_data_source('integration_test_datasource')\n",
    "sink_op = df.to_hive_table('tmp.michelangelo_test', drop_existing_table=True, ttl=1, _return_op=True)"
   ]
  },
  {
   "cell_type": "markdown",
   "metadata": {},
   "source": [
    "## Submit workflow to WFO"
   ]
  },
  {
   "cell_type": "code",
   "execution_count": null,
   "metadata": {},
   "outputs": [],
   "source": [
    "from malearn import Session\n",
    "with Session(project_id='Jin_test_non_secure') as sess:\n",
    "    sess._config.workflow_service_config.port = 5435\n",
    "    sess.queue = 'michelangelo-dev'\n",
    "    sess.run(sink_op)\n",
    "    print(sess.workflow.format_logical())"
   ]
  }
 ],
 "metadata": {
  "kernelspec": {
   "display_name": "Python 3",
   "language": "python",
   "name": "python3"
  },
  "language_info": {
   "codemirror_mode": {
    "name": "ipython",
    "version": 3
   },
   "file_extension": ".py",
   "mimetype": "text/x-python",
   "name": "python",
   "nbconvert_exporter": "python",
   "pygments_lexer": "ipython3",
   "version": "3.5.9"
  }
 },
 "nbformat": 4,
 "nbformat_minor": 2
}
