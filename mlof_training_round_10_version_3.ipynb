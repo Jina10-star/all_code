{
 "cells": [
  {
   "cell_type": "code",
   "execution_count": 1,
   "metadata": {
    "scrolled": true
   },
   "outputs": [
    {
     "name": "stderr",
     "output_type": "stream",
     "text": [
      "/dsw/snapshots/snapshot_dsw_default_jupyter/python37/lib/python3.7/site-packages/sklearn/utils/validation.py:37: DeprecationWarning: distutils Version classes are deprecated. Use packaging.version instead.\n",
      "  LARGE_SPARSE_SUPPORTED = LooseVersion(scipy_version) >= '0.14.0'\n"
     ]
    }
   ],
   "source": [
    "import matplotlib.pyplot as plt\n",
    "import numpy as np\n",
    "import pandas as pd\n",
    "import statsmodels.api as sm\n",
    "from sklearn.model_selection import train_test_split\n",
    "from sklearn.linear_model import Lasso\n",
    "import seaborn as sns"
   ]
  },
  {
   "cell_type": "code",
   "execution_count": 2,
   "metadata": {},
   "outputs": [],
   "source": [
    "# Label:\n",
    "#     - The hourly average gub per plan per scan at city-level\n",
    "#     - Unit: USD\n",
    "\n",
    "# Feature Set:\n",
    "#     avg(plans.driver_cancel_prob) as market_driver_cancel_prob,\n",
    "#     avg(plans.rider_cancel_prob) as market_rider_cancel_prob,\n",
    "#     avg(plans.spinner_cancel_prob) as market_spinner_cancel_prob,\n",
    "#     avg(plans.eta) as market_eta,\n",
    "#     avg(plans.surge_mul) as market_surge_mul,\n",
    "#     avg(plans.eventual_comp_prob) as market_eventual_comp_prob,\n",
    "#     avg(completed.client_upfront_fare_usd) as market_gb,\n",
    "#     avg(completed.base_fare_usd) as market_gub,\n",
    "\n",
    "#     avg(plans.eta_one) as market_eta_one,  -- (1 - eta/1500)\n",
    "#     avg(plans.eta_one_twenty) as market_eta_one_twenty, -- (1 - eta/1500)^1.2\n",
    "#     avg(plans.eta_one_quarter) as market_eta_one_quarter, -- (1 - eta/1500)^1.25\n",
    "#     avg(plans.eta_square) as market_eta_square,  -- (1 - eta/1500)**2\n",
    "#     avg(plans.eta_cube) as market_eta_cube,  -- (1 - eta/1500)**3\n",
    "#     avg(plans.network_contention_2) as market_network_contention_2,  -- 1 / (1 + surge_mul**2)\n",
    "#     avg(plans.network_contention_3) as market_network_contention_3,  -- 1 / (1 + surge_mul**3)\n",
    "#     avg(plans.network_contention_5) as market_network_contention_5,  -- 1 / (1 + surge_mul**5)\n",
    "\n",
    "#     avg(plans.cr_ratio) as market_cr_ratio,  -- (1.0 - mgv.driver_cancel_prob) * (1.0 - mgv.rider_cancel_prob) * (1.0 - mgv.spinner_cancel_prob) + mgv.eventual_comp_prob * mgv.driver_cancel_prob\n",
    "\n",
    "#     avg(plans.eta_one * plans.cr_ratio) as market_eta_one_cr_ratio,\n",
    "#     avg(plans.eta_one_twenty * plans.cr_ratio) as market_eta_one_twenty_cr_ratio,\n",
    "#     avg(plans.eta_one_quarter * plans.cr_ratio) as market_eta_one_quarter_cr_ratio,\n",
    "#     avg(plans.eta_square * plans.cr_ratio) as market_eta_square_cr_ratio,\n",
    "#     avg(plans.eta_cube * plans.cr_ratio) as market_eta_cube_cr_ratio,\n",
    "#     avg(plans.network_contention_2 * plans.eta_one) as market_network_2_eta_1,\n",
    "#     avg(plans.network_contention_3 * plans.eta_one) as market_network_3_eta_1,\n",
    "#     avg(plans.network_contention_5 * plans.eta_one) as market_network_5_eta_1,\n",
    "#     avg(plans.network_contention_2 * plans.eta_one_twenty) as market_network_2_eta_1_20,\n",
    "#     avg(plans.network_contention_3 * plans.eta_one_twenty) as market_network_3_eta_1_20,\n",
    "#     avg(plans.network_contention_5 * plans.eta_one_twenty) as market_network_5_eta_1_20,\n",
    "#     avg(plans.network_contention_2 * plans.eta_one_quarter) as market_network_2_eta_1_25,\n",
    "#     avg(plans.network_contention_3 * plans.eta_one_quarter) as market_network_3_eta_1_25,\n",
    "#     avg(plans.network_contention_5 * plans.eta_one_quarter) as market_network_5_eta_1_25,\n",
    "#     avg(plans.network_contention_2 * plans.eta_square) as market_network_2_eta_2,\n",
    "#     avg(plans.network_contention_3 * plans.eta_square) as market_network_3_eta_2,\n",
    "#     avg(plans.network_contention_5 * plans.eta_square) as market_network_5_eta_2,\n",
    "#     avg(plans.network_contention_2 * plans.eta_cube) as market_network_2_eta_3,\n",
    "#     avg(plans.network_contention_3 * plans.eta_cube) as market_network_3_eta_3,\n",
    "#     avg(plans.network_contention_5 * plans.eta_cube) as market_network_5_eta_3,\n",
    "#     avg((1 - plans.network_contention_2) * plans.cr_ratio) as market_network_2_cr_ratio,\n",
    "#     avg((1 - plans.network_contention_3) * plans.cr_ratio) as market_network_3_cr_ratio,\n",
    "#     avg((1 - plans.network_contention_5) * plans.cr_ratio) as market_network_5_cr_ratio,\n",
    "#     avg(plans.eta_one * plans.network_contention_2 * plans.cr_ratio) as market_network_2_eta_1_cr_ratio,\n",
    "#     avg(plans.eta_one * plans.network_contention_3 * plans.cr_ratio) as market_network_3_eta_1_cr_ratio,\n",
    "#     avg(plans.eta_one * plans.network_contention_5 * plans.cr_ratio) as market_network_5_eta_1_cr_ratio,\n",
    "#     avg(plans.eta_one_twenty * plans.network_contention_2 * plans.cr_ratio) as market_network_2_eta_1_20_cr_ratio,\n",
    "#     avg(plans.eta_one_twenty * plans.network_contention_3 * plans.cr_ratio) as market_network_3_eta_1_20_cr_ratio,\n",
    "#     avg(plans.eta_one_twenty * plans.network_contention_5 * plans.cr_ratio) as market_network_5_eta_1_20_cr_ratio,\n",
    "#     avg(plans.eta_one_quarter * plans.network_contention_2 * plans.cr_ratio) as market_network_2_eta_1_25_cr_ratio,\n",
    "#     avg(plans.eta_one_quarter * plans.network_contention_3 * plans.cr_ratio) as market_network_3_eta_1_25_cr_ratio,\n",
    "#     avg(plans.eta_one_quarter * plans.network_contention_5 * plans.cr_ratio) as market_network_5_eta_1_25_cr_ratio,\n",
    "#     avg(plans.eta_square * plans.network_contention_2 * plans.cr_ratio) as market_network_2_eta_2_cr_ratio,\n",
    "#     avg(plans.eta_square * plans.network_contention_3 * plans.cr_ratio) as market_network_3_eta_2_cr_ratio,\n",
    "#     avg(plans.eta_square * plans.network_contention_5 * plans.cr_ratio) as market_network_5_eta_2_cr_ratio,\n",
    "#     avg(plans.eta_cube * plans.network_contention_2 * plans.cr_ratio) as market_network_2_eta_3_cr_ratio,\n",
    "#     avg(plans.eta_cube * plans.network_contention_3 * plans.cr_ratio) as market_network_3_eta_3_cr_ratio,\n",
    "#     avg(plans.eta_cube * plans.network_contention_5 * plans.cr_ratio) as market_network_5_eta_3_cr_ratio,\n",
    "#     avg(plans.eta_one * (1 - plans.network_contention_2) * plans.cr_ratio * completed.client_upfront_fare_usd) as market_network_2_eta_1_gb_cr_ratio,\n",
    "#     avg(plans.eta_one * (1 - plans.network_contention_3) * plans.cr_ratio * completed.client_upfront_fare_usd) as market_network_3_eta_1_gb_cr_ratio,\n",
    "#     avg(plans.eta_one * (1 - plans.network_contention_5) * plans.cr_ratio * completed.client_upfront_fare_usd) as market_network_5_eta_1_gb_cr_ratio,\n",
    "#     avg(plans.eta_one_twenty * (1 - plans.network_contention_2) * plans.cr_ratio * completed.client_upfront_fare_usd) as market_network_2_eta_1_20_gb_cr_ratio,\n",
    "#     avg(plans.eta_one_twenty * (1 - plans.network_contention_3) * plans.cr_ratio * completed.client_upfront_fare_usd) as market_network_3_eta_1_20_gb_cr_ratio,\n",
    "#     avg(plans.eta_one_twenty * (1 - plans.network_contention_5) * plans.cr_ratio * completed.client_upfront_fare_usd) as market_network_5_eta_1_20_gb_cr_ratio,\n",
    "#     avg(plans.eta_one_quarter * (1 - plans.network_contention_2) * plans.cr_ratio * completed.client_upfront_fare_usd) as market_network_2_eta_1_25_gb_cr_ratio,\n",
    "#     avg(plans.eta_one_quarter * (1 - plans.network_contention_3) * plans.cr_ratio * completed.client_upfront_fare_usd) as market_network_3_eta_1_25_gb_cr_ratio,\n",
    "#     avg(plans.eta_one_quarter * (1 - plans.network_contention_5) * plans.cr_ratio * completed.client_upfront_fare_usd) as market_network_5_eta_1_25_gb_cr_ratio,\n",
    "#     avg(plans.eta_square * (1 - plans.network_contention_2) * plans.cr_ratio * completed.client_upfront_fare_usd) as market_network_2_eta_2_gb_cr_ratio,\n",
    "#     avg(plans.eta_square * (1 - plans.network_contention_3) * plans.cr_ratio * completed.client_upfront_fare_usd) as market_network_3_eta_2_gb_cr_ratio,\n",
    "#     avg(plans.eta_square * (1 - plans.network_contention_5) * plans.cr_ratio * completed.client_upfront_fare_usd) as market_network_5_eta_2_gb_cr_ratio,\n",
    "#     avg(plans.eta_cube * (1 - plans.network_contention_2) * plans.cr_ratio * completed.client_upfront_fare_usd) as market_network_2_eta_3_gb_cr_ratio,\n",
    "#     avg(plans.eta_cube * (1 - plans.network_contention_3) * plans.cr_ratio * completed.client_upfront_fare_usd) as market_network_3_eta_3_gb_cr_ratio,\n",
    "#     avg(plans.eta_cube * (1 - plans.network_contention_5) * plans.cr_ratio * completed.client_upfront_fare_usd) as market_network_5_eta_3_gb_cr_ratio,\n",
    "#     avg(plans.eta_one * (1 - plans.network_contention_2) * plans.cr_ratio * completed.base_fare_usd) as market_network_2_eta_1_gub_cr_ratio,\n",
    "#     avg(plans.eta_one * (1 - plans.network_contention_3) * plans.cr_ratio * completed.base_fare_usd) as market_network_3_eta_1_gub_cr_ratio,\n",
    "#     avg(plans.eta_one * (1 - plans.network_contention_5) * plans.cr_ratio * completed.base_fare_usd) as market_network_5_eta_1_gub_cr_ratio,\n",
    "#     avg(plans.eta_one_twenty * (1 - plans.network_contention_2) * plans.cr_ratio * completed.base_fare_usd) as market_network_2_eta_1_20_gub_cr_ratio,\n",
    "#     avg(plans.eta_one_twenty * (1 - plans.network_contention_3) * plans.cr_ratio * completed.base_fare_usd) as market_network_3_eta_1_20_gub_cr_ratio,\n",
    "#     avg(plans.eta_one_twenty * (1 - plans.network_contention_5) * plans.cr_ratio * completed.base_fare_usd) as market_network_5_eta_1_20_gub_cr_ratio,\n",
    "#     avg(plans.eta_one_quarter * (1 - plans.network_contention_2) * plans.cr_ratio * completed.base_fare_usd) as market_network_2_eta_1_25_gub_cr_ratio,\n",
    "#     avg(plans.eta_one_quarter * (1 - plans.network_contention_3) * plans.cr_ratio * completed.base_fare_usd) as market_network_3_eta_1_25_gub_cr_ratio,\n",
    "#     avg(plans.eta_one_quarter * (1 - plans.network_contention_5) * plans.cr_ratio * completed.base_fare_usd) as market_network_5_eta_1_25_gub_cr_ratio,\n",
    "#     avg(plans.eta_square * (1 - plans.network_contention_2) * plans.cr_ratio * completed.base_fare_usd) as market_network_2_eta_2_gub_cr_ratio,\n",
    "#     avg(plans.eta_square * (1 - plans.network_contention_3) * plans.cr_ratio * completed.base_fare_usd) as market_network_3_eta_2_gub_cr_ratio,\n",
    "#     avg(plans.eta_square * (1 - plans.network_contention_5) * plans.cr_ratio * completed.base_fare_usd) as market_network_5_eta_2_gub_cr_ratio,\n",
    "#     avg(plans.eta_cube * (1 - plans.network_contention_2) * plans.cr_ratio * completed.base_fare_usd) as market_network_2_eta_3_gub_cr_ratio,\n",
    "#     avg(plans.eta_cube * (1 - plans.network_contention_3) * plans.cr_ratio * completed.base_fare_usd) as market_network_3_eta_3_gub_cr_ratio,\n",
    "#     avg(plans.eta_cube * (1 - plans.network_contention_5) * plans.cr_ratio * completed.base_fare_usd) as market_network_5_eta_3_gub_cr_ratio"
   ]
  },
  {
   "cell_type": "code",
   "execution_count": 3,
   "metadata": {},
   "outputs": [],
   "source": [
    "# Read in data: features & labels\n",
    "df_features_dict = {}\n",
    "df_labels_dict = {}\n",
    "\n",
    "num_feature_files = 15\n",
    "num_label_files = 15\n",
    "\n",
    "for i in range(1, num_feature_files):\n",
    "    df_features_dict[i] = pd.read_csv(f'latam_hourly_more_features_{i}.csv')\n",
    "\n",
    "for i in range(1, num_label_files):\n",
    "    df_labels_dict[i] = pd.read_csv(f'latam_hourly_more_labels_{i}.csv')"
   ]
  },
  {
   "cell_type": "code",
   "execution_count": 4,
   "metadata": {},
   "outputs": [],
   "source": [
    "df_features_frames = [df_features_dict[1], df_features_dict[2], df_features_dict[3],\n",
    "                      df_features_dict[4], df_features_dict[5], df_features_dict[6],\n",
    "                      df_features_dict[7], df_features_dict[8], df_features_dict[9],\n",
    "                      df_features_dict[10], df_features_dict[11], df_features_dict[12],\n",
    "                      df_features_dict[13], df_features_dict[14]\n",
    "                     ]\n",
    "\n",
    "df_labels_frames = [df_labels_dict[1], df_labels_dict[2], df_labels_dict[3],\n",
    "                    df_labels_dict[4], df_labels_dict[5], df_labels_dict[6],\n",
    "                    df_labels_dict[7], df_labels_dict[8], df_labels_dict[9],\n",
    "                    df_labels_dict[10], df_labels_dict[11], df_labels_dict[12],\n",
    "                    df_labels_dict[13], df_labels_dict[14]\n",
    "                   ]\n",
    "\n",
    "df_features = pd.concat(df_features_frames, ignore_index=True)\n",
    "df_labels = pd.concat(df_labels_frames, ignore_index=True)\n",
    "\n",
    "df_features.drop('num_plans', axis=1, inplace=True)\n",
    "df_labels.drop('num_plans', axis=1, inplace=True)\n",
    "\n",
    "df = pd.merge(df_features, df_labels,\n",
    "              how='left',\n",
    "              left_on=['datestr', 'city_id', 'hour_of_day'],\n",
    "              right_on=['datestr', 'city_id', 'hour_of_day']\n",
    "             )"
   ]
  },
  {
   "cell_type": "code",
   "execution_count": 5,
   "metadata": {},
   "outputs": [],
   "source": [
    "gb_100 = df['hour_gb_gamma_100']\n",
    "gb_99 = df['hour_gb_gamma_99']\n",
    "gb_95 = df['hour_gb_gamma_95']\n",
    "gb_90 = df['hour_gb_gamma_90']\n",
    "\n",
    "gub_100 = df['hour_gub_gamma_100']\n",
    "gub_99 = df['hour_gub_gamma_99']\n",
    "gub_95 = df['hour_gub_gamma_95']\n",
    "gub_90 = df['hour_gub_gamma_90']\n",
    "\n",
    "X = df.loc[:, ['market_driver_cancel_prob',\n",
    "                'market_rider_cancel_prob',\n",
    "                'market_spinner_cancel_prob',\n",
    "                'market_surge_mul',\n",
    "                'market_eventual_comp_prob',\n",
    "                'market_eta_one',\n",
    "                'market_eta_one_twenty',\n",
    "                'market_eta_one_quarter',\n",
    "                'market_eta_square',\n",
    "                'market_eta_cube',\n",
    "                'market_network_contention_2',\n",
    "                'market_network_contention_3',\n",
    "                'market_network_contention_5',\n",
    "                'market_cr_ratio',\n",
    "                'market_eta_one_cr_ratio',\n",
    "                'market_eta_one_twenty_cr_ratio',\n",
    "                'market_eta_square_cr_ratio',\n",
    "                'market_eta_cube_cr_ratio',\n",
    "                'market_network_2_eta_1',\n",
    "                'market_network_3_eta_1',\n",
    "                'market_network_5_eta_1',\n",
    "                'market_network_2_eta_1_20',\n",
    "                'market_network_3_eta_1_20',\n",
    "                'market_network_5_eta_1_20',\n",
    "                'market_network_2_eta_1_25',\n",
    "                'market_network_3_eta_1_25',\n",
    "                'market_network_5_eta_1_25',\n",
    "                'market_network_2_eta_2',\n",
    "                'market_network_3_eta_2',\n",
    "                'market_network_5_eta_2',\n",
    "                'market_network_2_eta_3',\n",
    "                'market_network_3_eta_3',\n",
    "                'market_network_5_eta_3',\n",
    "                'market_network_2_cr_ratio',\n",
    "                'market_network_3_cr_ratio',\n",
    "                'market_network_5_cr_ratio',\n",
    "                'market_network_2_eta_1_cr_ratio',\n",
    "                'market_network_3_eta_1_cr_ratio',\n",
    "                'market_network_5_eta_1_cr_ratio',\n",
    "                'market_network_2_eta_1_20_cr_ratio',\n",
    "                'market_network_3_eta_1_20_cr_ratio',\n",
    "                'market_network_5_eta_1_20_cr_ratio',\n",
    "                'market_network_2_eta_1_25_cr_ratio',\n",
    "                'market_network_3_eta_1_25_cr_ratio',\n",
    "                'market_network_5_eta_1_25_cr_ratio',\n",
    "                'market_network_2_eta_2_cr_ratio',\n",
    "                'market_network_3_eta_2_cr_ratio',\n",
    "                'market_network_5_eta_2_cr_ratio',\n",
    "                'market_network_2_eta_3_cr_ratio',\n",
    "                'market_network_3_eta_3_cr_ratio',\n",
    "                'market_network_5_eta_3_cr_ratio',\n",
    "                'market_network_2_eta_1_gb_cr_ratio',\n",
    "                'market_network_3_eta_1_gb_cr_ratio',\n",
    "                'market_network_5_eta_1_gb_cr_ratio',\n",
    "                'market_network_2_eta_1_20_gb_cr_ratio',\n",
    "                'market_network_3_eta_1_20_gb_cr_ratio',\n",
    "                'market_network_5_eta_1_20_gb_cr_ratio',\n",
    "                'market_network_2_eta_1_25_gb_cr_ratio',\n",
    "                'market_network_3_eta_1_25_gb_cr_ratio',\n",
    "                'market_network_5_eta_1_25_gb_cr_ratio',\n",
    "                'market_network_2_eta_2_gb_cr_ratio',\n",
    "                'market_network_3_eta_2_gb_cr_ratio',\n",
    "                'market_network_5_eta_2_gb_cr_ratio',\n",
    "                'market_network_2_eta_3_gb_cr_ratio',\n",
    "                'market_network_3_eta_3_gb_cr_ratio',\n",
    "                'market_network_5_eta_3_gb_cr_ratio',\n",
    "                'market_network_2_eta_1_gub_cr_ratio',\n",
    "                'market_network_3_eta_1_gub_cr_ratio',\n",
    "                'market_network_5_eta_1_gub_cr_ratio',\n",
    "                'market_network_2_eta_1_20_gub_cr_ratio',\n",
    "                'market_network_3_eta_1_20_gub_cr_ratio',\n",
    "                'market_network_5_eta_1_20_gub_cr_ratio',\n",
    "                'market_network_2_eta_1_25_gub_cr_ratio',\n",
    "                'market_network_3_eta_1_25_gub_cr_ratio',\n",
    "                'market_network_5_eta_1_25_gub_cr_ratio',\n",
    "                'market_network_2_eta_2_gub_cr_ratio',\n",
    "                'market_network_3_eta_2_gub_cr_ratio',\n",
    "                'market_network_5_eta_2_gub_cr_ratio',\n",
    "                'market_network_2_eta_3_gub_cr_ratio',\n",
    "                'market_network_3_eta_3_gub_cr_ratio',\n",
    "                'market_network_5_eta_3_gub_cr_ratio'\n",
    "              ]\n",
    "          ]"
   ]
  },
  {
   "cell_type": "code",
   "execution_count": 6,
   "metadata": {},
   "outputs": [],
   "source": [
    "y = gub_95 * 5\n",
    "X_train, X_test, y_train, y_test = train_test_split(X, y, test_size=0.2, random_state=96)"
   ]
  },
  {
   "cell_type": "code",
   "execution_count": 7,
   "metadata": {},
   "outputs": [
    {
     "data": {
      "text/plain": [
       "Lasso(alpha=0.001, copy_X=True, fit_intercept=True, max_iter=10000,\n",
       "   normalize=False, positive=False, precompute=False, random_state=9,\n",
       "   selection='cyclic', tol=0.0001, warm_start=False)"
      ]
     },
     "execution_count": 7,
     "metadata": {},
     "output_type": "execute_result"
    }
   ],
   "source": [
    "lasso = Lasso(alpha=0.001, max_iter=10000, random_state=9)\n",
    "lasso.fit(X_train, y_train)"
   ]
  },
  {
   "cell_type": "code",
   "execution_count": 8,
   "metadata": {},
   "outputs": [
    {
     "data": {
      "text/plain": [
       "1.1245940282339992"
      ]
     },
     "execution_count": 8,
     "metadata": {},
     "output_type": "execute_result"
    }
   ],
   "source": [
    "lasso.intercept_"
   ]
  },
  {
   "cell_type": "code",
   "execution_count": 9,
   "metadata": {},
   "outputs": [
    {
     "data": {
      "text/plain": [
       "array([ 0.        ,  0.        ,  0.        , -0.16745022, -0.        ,\n",
       "       -0.        , -0.        , -0.        , -0.        , -0.        ,\n",
       "        0.        ,  0.        ,  0.        , -0.59818976, -0.66518271,\n",
       "       -0.        , -0.        , -0.        ,  0.        ,  0.        ,\n",
       "        0.        ,  0.        ,  0.        ,  0.        ,  0.        ,\n",
       "        0.        ,  0.        ,  0.        ,  0.        ,  0.        ,\n",
       "        0.        ,  0.        ,  0.        , -0.        , -0.        ,\n",
       "       -0.        , -0.        , -0.        , -0.        , -0.        ,\n",
       "       -0.        , -0.        , -0.        , -0.        , -0.        ,\n",
       "       -0.        , -0.        , -0.        , -0.        , -0.        ,\n",
       "       -0.        , -0.        , -0.        , -0.        , -0.        ,\n",
       "       -0.        , -0.        , -0.        , -0.        , -0.        ,\n",
       "       -0.        , -0.        , -0.02391745, -0.        , -0.        ,\n",
       "       -0.        ,  4.54047157,  0.        ,  0.03343242,  0.        ,\n",
       "        0.        ,  0.        ,  0.        ,  0.        ,  0.        ,\n",
       "        0.        ,  0.        ,  0.        ,  0.        ,  0.        ,\n",
       "        0.        ])"
      ]
     },
     "execution_count": 9,
     "metadata": {},
     "output_type": "execute_result"
    }
   ],
   "source": [
    "lasso.coef_"
   ]
  },
  {
   "cell_type": "code",
   "execution_count": 10,
   "metadata": {},
   "outputs": [
    {
     "name": "stdout",
     "output_type": "stream",
     "text": [
      "market_driver_cancel_prob                 0.000000\n",
      "market_rider_cancel_prob                  0.000000\n",
      "market_spinner_cancel_prob                0.000000\n",
      "market_surge_mul                         -0.167450\n",
      "market_eventual_comp_prob                -0.000000\n",
      "market_eta_one                           -0.000000\n",
      "market_eta_one_twenty                    -0.000000\n",
      "market_eta_one_quarter                   -0.000000\n",
      "market_eta_square                        -0.000000\n",
      "market_eta_cube                          -0.000000\n",
      "market_network_contention_2               0.000000\n",
      "market_network_contention_3               0.000000\n",
      "market_network_contention_5               0.000000\n",
      "market_cr_ratio                          -0.598190\n",
      "market_eta_one_cr_ratio                  -0.665183\n",
      "market_eta_one_twenty_cr_ratio           -0.000000\n",
      "market_eta_square_cr_ratio               -0.000000\n",
      "market_eta_cube_cr_ratio                 -0.000000\n",
      "market_network_2_eta_1                    0.000000\n",
      "market_network_3_eta_1                    0.000000\n",
      "market_network_5_eta_1                    0.000000\n",
      "market_network_2_eta_1_20                 0.000000\n",
      "market_network_3_eta_1_20                 0.000000\n",
      "market_network_5_eta_1_20                 0.000000\n",
      "market_network_2_eta_1_25                 0.000000\n",
      "market_network_3_eta_1_25                 0.000000\n",
      "market_network_5_eta_1_25                 0.000000\n",
      "market_network_2_eta_2                    0.000000\n",
      "market_network_3_eta_2                    0.000000\n",
      "market_network_5_eta_2                    0.000000\n",
      "market_network_2_eta_3                    0.000000\n",
      "market_network_3_eta_3                    0.000000\n",
      "market_network_5_eta_3                    0.000000\n",
      "market_network_2_cr_ratio                -0.000000\n",
      "market_network_3_cr_ratio                -0.000000\n",
      "market_network_5_cr_ratio                -0.000000\n",
      "market_network_2_eta_1_cr_ratio          -0.000000\n",
      "market_network_3_eta_1_cr_ratio          -0.000000\n",
      "market_network_5_eta_1_cr_ratio          -0.000000\n",
      "market_network_2_eta_1_20_cr_ratio       -0.000000\n",
      "market_network_3_eta_1_20_cr_ratio       -0.000000\n",
      "market_network_5_eta_1_20_cr_ratio       -0.000000\n",
      "market_network_2_eta_1_25_cr_ratio       -0.000000\n",
      "market_network_3_eta_1_25_cr_ratio       -0.000000\n",
      "market_network_5_eta_1_25_cr_ratio       -0.000000\n",
      "market_network_2_eta_2_cr_ratio          -0.000000\n",
      "market_network_3_eta_2_cr_ratio          -0.000000\n",
      "market_network_5_eta_2_cr_ratio          -0.000000\n",
      "market_network_2_eta_3_cr_ratio          -0.000000\n",
      "market_network_3_eta_3_cr_ratio          -0.000000\n",
      "market_network_5_eta_3_cr_ratio          -0.000000\n",
      "market_network_2_eta_1_gb_cr_ratio       -0.000000\n",
      "market_network_3_eta_1_gb_cr_ratio       -0.000000\n",
      "market_network_5_eta_1_gb_cr_ratio       -0.000000\n",
      "market_network_2_eta_1_20_gb_cr_ratio    -0.000000\n",
      "market_network_3_eta_1_20_gb_cr_ratio    -0.000000\n",
      "market_network_5_eta_1_20_gb_cr_ratio    -0.000000\n",
      "market_network_2_eta_1_25_gb_cr_ratio    -0.000000\n",
      "market_network_3_eta_1_25_gb_cr_ratio    -0.000000\n",
      "market_network_5_eta_1_25_gb_cr_ratio    -0.000000\n",
      "market_network_2_eta_2_gb_cr_ratio       -0.000000\n",
      "market_network_3_eta_2_gb_cr_ratio       -0.000000\n",
      "market_network_5_eta_2_gb_cr_ratio       -0.023917\n",
      "market_network_2_eta_3_gb_cr_ratio       -0.000000\n",
      "market_network_3_eta_3_gb_cr_ratio       -0.000000\n",
      "market_network_5_eta_3_gb_cr_ratio       -0.000000\n",
      "market_network_2_eta_1_gub_cr_ratio       4.540472\n",
      "market_network_3_eta_1_gub_cr_ratio       0.000000\n",
      "market_network_5_eta_1_gub_cr_ratio       0.033432\n",
      "market_network_2_eta_1_20_gub_cr_ratio    0.000000\n",
      "market_network_3_eta_1_20_gub_cr_ratio    0.000000\n",
      "market_network_5_eta_1_20_gub_cr_ratio    0.000000\n",
      "market_network_2_eta_1_25_gub_cr_ratio    0.000000\n",
      "market_network_3_eta_1_25_gub_cr_ratio    0.000000\n",
      "market_network_5_eta_1_25_gub_cr_ratio    0.000000\n",
      "market_network_2_eta_2_gub_cr_ratio       0.000000\n",
      "market_network_3_eta_2_gub_cr_ratio       0.000000\n",
      "market_network_5_eta_2_gub_cr_ratio       0.000000\n",
      "market_network_2_eta_3_gub_cr_ratio       0.000000\n",
      "market_network_3_eta_3_gub_cr_ratio       0.000000\n",
      "market_network_5_eta_3_gub_cr_ratio       0.000000\n",
      "dtype: float64\n"
     ]
    }
   ],
   "source": [
    "with pd.option_context('display.max_rows', None, 'display.max_columns', None):  # more options can be specified also\n",
    "    print(pd.Series(lasso.coef_, index = X_train.columns))"
   ]
  },
  {
   "cell_type": "code",
   "execution_count": 11,
   "metadata": {},
   "outputs": [],
   "source": [
    "y = gub_95 * 5\n",
    "X = df.loc[:, ['market_surge_mul',\n",
    "               'market_cr_ratio',\n",
    "               'market_eta_one_cr_ratio',\n",
    "               'market_network_5_eta_2_gb_cr_ratio',\n",
    "               'market_network_2_eta_1_gub_cr_ratio',\n",
    "               'market_network_5_eta_1_gub_cr_ratio'\n",
    "              ]\n",
    "          ]"
   ]
  },
  {
   "cell_type": "code",
   "execution_count": 12,
   "metadata": {},
   "outputs": [],
   "source": [
    "# Add intercept to X\n",
    "X['intercept'] = [1 for _ in range(len(X.index))]"
   ]
  },
  {
   "cell_type": "code",
   "execution_count": 13,
   "metadata": {},
   "outputs": [],
   "source": [
    "X_train, X_test, y_train, y_test = train_test_split(X, y, test_size=0.2, random_state=96)"
   ]
  },
  {
   "cell_type": "code",
   "execution_count": 14,
   "metadata": {},
   "outputs": [],
   "source": [
    "# Model Training\n",
    "model = sm.OLS(y_train, X_train)"
   ]
  },
  {
   "cell_type": "code",
   "execution_count": 15,
   "metadata": {
    "scrolled": true
   },
   "outputs": [
    {
     "name": "stdout",
     "output_type": "stream",
     "text": [
      "                            OLS Regression Results                            \n",
      "==============================================================================\n",
      "Dep. Variable:      hour_gub_gamma_95   R-squared:                       0.881\n",
      "Model:                            OLS   Adj. R-squared:                  0.880\n",
      "Method:                 Least Squares   F-statistic:                     6588.\n",
      "Date:                Tue, 13 Sep 2022   Prob (F-statistic):               0.00\n",
      "Time:                        23:35:30   Log-Likelihood:                 5370.9\n",
      "No. Observations:                5366   AIC:                        -1.073e+04\n",
      "Df Residuals:                    5359   BIC:                        -1.068e+04\n",
      "Df Model:                           6                                         \n",
      "Covariance Type:            nonrobust                                         \n",
      "=======================================================================================================\n",
      "                                          coef    std err          t      P>|t|      [0.025      0.975]\n",
      "-------------------------------------------------------------------------------------------------------\n",
      "market_surge_mul                       -0.2169      0.014    -15.448      0.000      -0.244      -0.189\n",
      "market_cr_ratio                        -0.4506      0.033    -13.735      0.000      -0.515      -0.386\n",
      "market_eta_one_cr_ratio                -1.0707      0.033    -32.361      0.000      -1.136      -1.006\n",
      "market_network_5_eta_2_gb_cr_ratio     -0.0379      0.005     -7.220      0.000      -0.048      -0.028\n",
      "market_network_2_eta_1_gub_cr_ratio     6.6658      0.227     29.347      0.000       6.221       7.111\n",
      "market_network_5_eta_1_gub_cr_ratio    -1.3487      0.211     -6.393      0.000      -1.762      -0.935\n",
      "intercept                               1.2104      0.018     68.136      0.000       1.176       1.245\n",
      "==============================================================================\n",
      "Omnibus:                      576.130   Durbin-Watson:                   1.989\n",
      "Prob(Omnibus):                  0.000   Jarque-Bera (JB):             2165.353\n",
      "Skew:                          -0.498   Prob(JB):                         0.00\n",
      "Kurtosis:                       5.948   Cond. No.                         533.\n",
      "==============================================================================\n",
      "\n",
      "Notes:\n",
      "[1] Standard Errors assume that the covariance matrix of the errors is correctly specified.\n"
     ]
    }
   ],
   "source": [
    "trained_model = model.fit()\n",
    "print(trained_model.summary())"
   ]
  },
  {
   "cell_type": "code",
   "execution_count": 16,
   "metadata": {},
   "outputs": [
    {
     "data": {
      "text/plain": [
       "market_surge_mul                      -0.216865\n",
       "market_cr_ratio                       -0.450562\n",
       "market_eta_one_cr_ratio               -1.070659\n",
       "market_network_5_eta_2_gb_cr_ratio    -0.037930\n",
       "market_network_2_eta_1_gub_cr_ratio    6.665809\n",
       "market_network_5_eta_1_gub_cr_ratio   -1.348697\n",
       "intercept                              1.210372\n",
       "dtype: float64"
      ]
     },
     "execution_count": 16,
     "metadata": {},
     "output_type": "execute_result"
    }
   ],
   "source": [
    "trained_model.params"
   ]
  },
  {
   "cell_type": "code",
   "execution_count": 17,
   "metadata": {},
   "outputs": [
    {
     "name": "stdout",
     "output_type": "stream",
     "text": [
      "Train RMSE/y_train: 0.0998 and 0.1078\n"
     ]
    }
   ],
   "source": [
    "# Train RMSE\n",
    "y_train_pred = trained_model.predict(X_train)\n",
    "train_rmse = np.sqrt(np.mean((y_train - y_train_pred)**2))\n",
    "print(f\"Train RMSE/y_train: {round(train_rmse / np.mean(y_train), 4)} and {round(train_rmse / np.median(y_train), 4)}\")"
   ]
  },
  {
   "cell_type": "code",
   "execution_count": 18,
   "metadata": {},
   "outputs": [
    {
     "name": "stdout",
     "output_type": "stream",
     "text": [
      "Test RMSE/y_test: 0.1019 and 0.1101\n"
     ]
    }
   ],
   "source": [
    "# Test RMSE\n",
    "y_test_pred = trained_model.predict(X_test)\n",
    "test_rmse = np.sqrt(np.mean((y_test - y_test_pred)**2))\n",
    "test_rmse / np.mean(y_test)\n",
    "print(f\"Test RMSE/y_test: {round(test_rmse / np.mean(y_test), 4)} and {round(test_rmse / np.median(y_test), 4)}\")"
   ]
  },
  {
   "cell_type": "code",
   "execution_count": 19,
   "metadata": {},
   "outputs": [
    {
     "data": {
      "image/png": "[encoded data removed]",
      "text/plain": [
       "<Figure size 432x288 with 2 Axes>"
      ]
     },
     "metadata": {
      "needs_background": "light"
     },
     "output_type": "display_data"
    }
   ],
   "source": [
    "# Visualizing a Pandas Correlation Matrix\n",
    "corr_matrix = X.loc[:, X.columns != 'intercept'].corr().round(2)\n",
    "sns.heatmap(corr_matrix, annot=True, vmax=1, vmin=-1, center=0, cmap='vlag')\n",
    "plt.show()"
   ]
  }
 ],
 "metadata": {
  "kernelspec": {
   "display_name": "Python 3.7 (General DS)",
   "language": "python",
   "name": "python37"
  },
  "language_info": {
   "codemirror_mode": {
    "name": "ipython",
    "version": 3
   },
   "file_extension": ".py",
   "mimetype": "text/x-python",
   "name": "python",
   "nbconvert_exporter": "python",
   "pygments_lexer": "ipython3",
   "version": "3.7.12"
  }
 },
 "nbformat": 4,
 "nbformat_minor": 2
}
