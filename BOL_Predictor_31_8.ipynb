{
 "cells": [
  {
   "cell_type": "code",
   "execution_count": 3,
   "id": "0c50d7bf",
   "metadata": {},
   "outputs": [],
   "source": [
    "import joblib\n",
    "import traceback\n",
    "import os\n",
    "import pandas as pd"
   ]
  },
  {
   "cell_type": "code",
   "execution_count": 4,
   "id": "10f51918",
   "metadata": {},
   "outputs": [],
   "source": [
    "model_path = \"/Users/jghosh2/Documents/my-notebook/BOL_CODE_REF/01_Pepsi_bol/01_Classifier/06_models/2021_09_03_11_14_19\""
   ]
  },
  {
   "cell_type": "code",
   "execution_count": 7,
   "id": "ec9b7f26",
   "metadata": {},
   "outputs": [],
   "source": [
    "def return_categoy(predictions, labels):\n",
    "    testing_predictions = []\n",
    "    for i in range(len(predictions)):\n",
    "        labelidx = predictions[i]\n",
    "        predicted_label = labels[labelidx]\n",
    "        testing_predictions.append(predicted_label)\n",
    "    return testing_predictions"
   ]
  },
  {
   "cell_type": "code",
   "execution_count": 13,
   "id": "0b44e0af",
   "metadata": {},
   "outputs": [],
   "source": [
    "def load_model(model_path):\n",
    "    model_file_path = model_path + '/' + 'model.jbl'\n",
    "    vectorizer_path = model_path + '/' + 'vectorizer.jbl'\n",
    "    transformer_path = model_path + '/' + 'transformer.jbl'\n",
    "    label_file = model_path + '/' + 'labels.txt'\n",
    "    ## Load model here\n",
    "    model = joblib.load(model_file_path)\n",
    "    print(model)\n",
    "    vectorizer = joblib.load(vectorizer_path)\n",
    "    transformer = joblib.load(transformer_path)\n",
    "    print(\"Models loaded\")\n",
    "    with open(label_file, 'r') as labelfile:\n",
    "        labels = labelfile.read().splitlines()\n",
    "    text_model = {\n",
    "        \"model\": model,\n",
    "        \"vectorizer\": vectorizer,\n",
    "        \"transformer\": transformer,\n",
    "        \"labels\": labels\n",
    "    }\n",
    "    print(text_model)\n",
    "#         loaded_models[model_name] = text_model\n",
    "    return text_model"
   ]
  },
  {
   "cell_type": "code",
   "execution_count": 9,
   "id": "085efc79",
   "metadata": {},
   "outputs": [],
   "source": [
    "def classify_text(text, model_dict):\n",
    "    \"\"\"\n",
    "\n",
    "    :param text:\n",
    "    :return:\n",
    "    \"\"\"\n",
    "\n",
    "#     text_bytes = base64.b64decode(text_base64)\n",
    "#     text = text_bytes.decode('ascii')\n",
    "    text = [text]\n",
    "\n",
    "    try:\n",
    "        vectorizer = model_dict[\"vectorizer\"]\n",
    "        transformer = model_dict[\"transformer\"]\n",
    "        model = model_dict[\"model\"]\n",
    "        labels = model_dict[\"labels\"]\n",
    "    except:\n",
    "        tb = traceback.format_exc()\n",
    "        return [\"MODEL_FETCH_EXCEPTION\" + \"\\n\" + tb]\n",
    "\n",
    "    try:\n",
    "        # Convert to bag of words\n",
    "        X = vectorizer.transform(text)\n",
    "        # Convert from occurrences to frequencies\n",
    "        X = transformer.transform(X)\n",
    "    except:\n",
    "        tb = traceback.format_exc()\n",
    "        return [\"VECTORIZING_EXCEPTION\" + \"\\n\" + tb]\n",
    "\n",
    "    try:\n",
    "        predictions = model.predict(X)\n",
    "        conf_score = model.predict_proba(X).max()\n",
    "    except:\n",
    "        tb = traceback.format_exc()\n",
    "        return [\"PREDICTION_EXCEPTION\" + \"\\n\" + tb]\n",
    "\n",
    "    try:\n",
    "        result = return_categoy(predictions, labels)\n",
    "    except:\n",
    "        tb = traceback.format_exc()\n",
    "        return [\"LABEL_EXTRACTION_EXCEPTION\" + \"\\n\" + tb]\n",
    "\n",
    "    success_msg = {\"predicted_doctype\": str(result[0]), \"conf_score\": conf_score}\n",
    "\n",
    "    return [200, success_msg]"
   ]
  },
  {
   "cell_type": "code",
   "execution_count": 14,
   "id": "2bb62c3b",
   "metadata": {},
   "outputs": [
    {
     "name": "stdout",
     "output_type": "stream",
     "text": [
      "MultinomialNB()\n",
      "Models loaded\n",
      "{'model': MultinomialNB(), 'vectorizer': CountVectorizer(stop_words='english', strip_accents='ascii',\n",
      "                token_pattern='(?ui)\\\\b\\\\w*[a-z]+\\\\w*\\\\b'), 'transformer': TfidfTransformer(), 'labels': ['Format1', 'Format2', 'Others', 'Packing List']}\n"
     ]
    }
   ],
   "source": [
    "model_dict = load_model(model_path)"
   ]
  },
  {
   "cell_type": "code",
   "execution_count": 7,
   "id": "669da7a1",
   "metadata": {},
   "outputs": [],
   "source": [
    "DATASET_INP_PATH = \"/Users/hsingh151/My_Work/BOL/01_Pepsi_bol/01_Classifier/04_Data\""
   ]
  },
  {
   "cell_type": "code",
   "execution_count": 8,
   "id": "3257239a",
   "metadata": {},
   "outputs": [
    {
     "data": {
      "text/plain": [
       "['Format1', 'Format2', 'Others', 'Packing List']"
      ]
     },
     "execution_count": 8,
     "metadata": {},
     "output_type": "execute_result"
    }
   ],
   "source": [
    "dirs = os.listdir(DATASET_INP_PATH)\n",
    "dirs"
   ]
  },
  {
   "cell_type": "code",
   "execution_count": 15,
   "id": "5ff7ef9a",
   "metadata": {},
   "outputs": [
    {
     "ename": "NameError",
     "evalue": "name 'dirs' is not defined",
     "output_type": "error",
     "traceback": [
      "\u001b[0;31m---------------------------------------------------------------------------\u001b[0m",
      "\u001b[0;31mNameError\u001b[0m                                 Traceback (most recent call last)",
      "\u001b[0;32m<ipython-input-15-05f9b66e5623>\u001b[0m in \u001b[0;36m<module>\u001b[0;34m\u001b[0m\n\u001b[1;32m      1\u001b[0m \u001b[0mdataset\u001b[0m \u001b[0;34m=\u001b[0m \u001b[0;34m[\u001b[0m\u001b[0;34m]\u001b[0m\u001b[0;34m\u001b[0m\u001b[0;34m\u001b[0m\u001b[0m\n\u001b[0;32m----> 2\u001b[0;31m \u001b[0;32mfor\u001b[0m \u001b[0mclass_folder\u001b[0m \u001b[0;32min\u001b[0m \u001b[0mdirs\u001b[0m\u001b[0;34m:\u001b[0m\u001b[0;34m\u001b[0m\u001b[0;34m\u001b[0m\u001b[0m\n\u001b[0m\u001b[1;32m      3\u001b[0m     \u001b[0;32mif\u001b[0m \u001b[0mclass_folder\u001b[0m \u001b[0;34m!=\u001b[0m \u001b[0;34m\".DS_Store\"\u001b[0m\u001b[0;34m:\u001b[0m\u001b[0;34m\u001b[0m\u001b[0;34m\u001b[0m\u001b[0m\n\u001b[1;32m      4\u001b[0m \u001b[0;31m#         label_list.append(class_folder)\u001b[0m\u001b[0;34m\u001b[0m\u001b[0;34m\u001b[0m\u001b[0;34m\u001b[0m\u001b[0m\n\u001b[1;32m      5\u001b[0m         \u001b[0mclass_folder_path\u001b[0m \u001b[0;34m=\u001b[0m \u001b[0mos\u001b[0m\u001b[0;34m.\u001b[0m\u001b[0mpath\u001b[0m\u001b[0;34m.\u001b[0m\u001b[0mjoin\u001b[0m\u001b[0;34m(\u001b[0m\u001b[0mDATASET_INP_PATH\u001b[0m\u001b[0;34m,\u001b[0m \u001b[0mclass_folder\u001b[0m\u001b[0;34m,\u001b[0m \u001b[0;34m'test'\u001b[0m\u001b[0;34m)\u001b[0m\u001b[0;34m\u001b[0m\u001b[0;34m\u001b[0m\u001b[0m\n",
      "\u001b[0;31mNameError\u001b[0m: name 'dirs' is not defined"
     ]
    }
   ],
   "source": [
    "dataset = []\n",
    "for class_folder in dirs:\n",
    "    if class_folder != \".DS_Store\":\n",
    "#         label_list.append(class_folder)\n",
    "        class_folder_path = os.path.join(DATASET_INP_PATH, class_folder, 'test')\n",
    "        class_files = os.listdir(class_folder_path)\n",
    "        for file in class_files:\n",
    "            if file != \".DS_Store\":\n",
    "                fp = os.path.join(class_folder_path, file)\n",
    "                with open(fp, 'r', encoding='utf-8') as f:\n",
    "                    raw_text = f.read()\n",
    "                data = [fp, raw_text, class_folder]\n",
    "                dataset.append(data)"
   ]
  },
  {
   "cell_type": "code",
   "execution_count": 10,
   "id": "a3e9d01c",
   "metadata": {},
   "outputs": [
    {
     "data": {
      "text/plain": [
       "67"
      ]
     },
     "execution_count": 10,
     "metadata": {},
     "output_type": "execute_result"
    }
   ],
   "source": [
    "len(dataset)"
   ]
  },
  {
   "cell_type": "code",
   "execution_count": 11,
   "id": "eefa83da",
   "metadata": {},
   "outputs": [
    {
     "data": {
      "text/html": [
       "<div>\n",
       "<style scoped>\n",
       "    .dataframe tbody tr th:only-of-type {\n",
       "        vertical-align: middle;\n",
       "    }\n",
       "\n",
       "    .dataframe tbody tr th {\n",
       "        vertical-align: top;\n",
       "    }\n",
       "\n",
       "    .dataframe thead th {\n",
       "        text-align: right;\n",
       "    }\n",
       "</style>\n",
       "<table border=\"1\" class=\"dataframe\">\n",
       "  <thead>\n",
       "    <tr style=\"text-align: right;\">\n",
       "      <th></th>\n",
       "      <th>0</th>\n",
       "      <th>1</th>\n",
       "      <th>2</th>\n",
       "    </tr>\n",
       "  </thead>\n",
       "  <tbody>\n",
       "    <tr>\n",
       "      <th>0</th>\n",
       "      <td>/Users/hsingh151/My_Work/BOL/01_Pepsi_bol/01_C...</td>\n",
       "      <td>Pepsi Beverages Company\\nBILL OF LADING\\nOrder...</td>\n",
       "      <td>Format1</td>\n",
       "    </tr>\n",
       "    <tr>\n",
       "      <th>1</th>\n",
       "      <td>/Users/hsingh151/My_Work/BOL/01_Pepsi_bol/01_C...</td>\n",
       "      <td>Pepsi Beveragee dompany\\nBILL OF LADING\\nBOL #...</td>\n",
       "      <td>Format1</td>\n",
       "    </tr>\n",
       "    <tr>\n",
       "      <th>2</th>\n",
       "      <td>/Users/hsingh151/My_Work/BOL/01_Pepsi_bol/01_C...</td>\n",
       "      <td>BILL OF LADING\\nPepsi Beverages Company\\nOrder...</td>\n",
       "      <td>Format1</td>\n",
       "    </tr>\n",
       "    <tr>\n",
       "      <th>3</th>\n",
       "      <td>/Users/hsingh151/My_Work/BOL/01_Pepsi_bol/01_C...</td>\n",
       "      <td>Pepsi Beverages Company\\nBILL OF LADING\\nÊD000...</td>\n",
       "      <td>Format1</td>\n",
       "    </tr>\n",
       "    <tr>\n",
       "      <th>4</th>\n",
       "      <td>/Users/hsingh151/My_Work/BOL/01_Pepsi_bol/01_C...</td>\n",
       "      <td>Pepsi Beverages Company\\nBILL OF LADING\\nBOL #...</td>\n",
       "      <td>Format1</td>\n",
       "    </tr>\n",
       "  </tbody>\n",
       "</table>\n",
       "</div>"
      ],
      "text/plain": [
       "                                                   0  \\\n",
       "0  /Users/hsingh151/My_Work/BOL/01_Pepsi_bol/01_C...   \n",
       "1  /Users/hsingh151/My_Work/BOL/01_Pepsi_bol/01_C...   \n",
       "2  /Users/hsingh151/My_Work/BOL/01_Pepsi_bol/01_C...   \n",
       "3  /Users/hsingh151/My_Work/BOL/01_Pepsi_bol/01_C...   \n",
       "4  /Users/hsingh151/My_Work/BOL/01_Pepsi_bol/01_C...   \n",
       "\n",
       "                                                   1        2  \n",
       "0  Pepsi Beverages Company\\nBILL OF LADING\\nOrder...  Format1  \n",
       "1  Pepsi Beveragee dompany\\nBILL OF LADING\\nBOL #...  Format1  \n",
       "2  BILL OF LADING\\nPepsi Beverages Company\\nOrder...  Format1  \n",
       "3  Pepsi Beverages Company\\nBILL OF LADING\\nÊD000...  Format1  \n",
       "4  Pepsi Beverages Company\\nBILL OF LADING\\nBOL #...  Format1  "
      ]
     },
     "execution_count": 11,
     "metadata": {},
     "output_type": "execute_result"
    }
   ],
   "source": [
    "df = pd.DataFrame(dataset)\n",
    "df.head()"
   ]
  },
  {
   "cell_type": "code",
   "execution_count": 12,
   "id": "7071a605",
   "metadata": {},
   "outputs": [],
   "source": [
    "from sklearn.preprocessing import LabelEncoder\n",
    "label_encoder = LabelEncoder()\n",
    "df['labels']= label_encoder.fit_transform(df[2])"
   ]
  },
  {
   "cell_type": "code",
   "execution_count": 13,
   "id": "e3c889ac",
   "metadata": {},
   "outputs": [
    {
     "data": {
      "text/plain": [
       "array([0, 1, 2, 3])"
      ]
     },
     "execution_count": 13,
     "metadata": {},
     "output_type": "execute_result"
    }
   ],
   "source": [
    "df['labels'].unique()"
   ]
  },
  {
   "cell_type": "code",
   "execution_count": 14,
   "id": "92f5c923",
   "metadata": {},
   "outputs": [
    {
     "data": {
      "text/html": [
       "<div>\n",
       "<style scoped>\n",
       "    .dataframe tbody tr th:only-of-type {\n",
       "        vertical-align: middle;\n",
       "    }\n",
       "\n",
       "    .dataframe tbody tr th {\n",
       "        vertical-align: top;\n",
       "    }\n",
       "\n",
       "    .dataframe thead th {\n",
       "        text-align: right;\n",
       "    }\n",
       "</style>\n",
       "<table border=\"1\" class=\"dataframe\">\n",
       "  <thead>\n",
       "    <tr style=\"text-align: right;\">\n",
       "      <th></th>\n",
       "      <th>0</th>\n",
       "      <th>1</th>\n",
       "      <th>2</th>\n",
       "      <th>labels</th>\n",
       "    </tr>\n",
       "  </thead>\n",
       "  <tbody>\n",
       "    <tr>\n",
       "      <th>0</th>\n",
       "      <td>/Users/hsingh151/My_Work/BOL/01_Pepsi_bol/01_C...</td>\n",
       "      <td>Pepsi Beverages Company\\nBILL OF LADING\\nOrder...</td>\n",
       "      <td>Format1</td>\n",
       "      <td>0</td>\n",
       "    </tr>\n",
       "    <tr>\n",
       "      <th>1</th>\n",
       "      <td>/Users/hsingh151/My_Work/BOL/01_Pepsi_bol/01_C...</td>\n",
       "      <td>Pepsi Beveragee dompany\\nBILL OF LADING\\nBOL #...</td>\n",
       "      <td>Format1</td>\n",
       "      <td>0</td>\n",
       "    </tr>\n",
       "    <tr>\n",
       "      <th>2</th>\n",
       "      <td>/Users/hsingh151/My_Work/BOL/01_Pepsi_bol/01_C...</td>\n",
       "      <td>BILL OF LADING\\nPepsi Beverages Company\\nOrder...</td>\n",
       "      <td>Format1</td>\n",
       "      <td>0</td>\n",
       "    </tr>\n",
       "    <tr>\n",
       "      <th>3</th>\n",
       "      <td>/Users/hsingh151/My_Work/BOL/01_Pepsi_bol/01_C...</td>\n",
       "      <td>Pepsi Beverages Company\\nBILL OF LADING\\nÊD000...</td>\n",
       "      <td>Format1</td>\n",
       "      <td>0</td>\n",
       "    </tr>\n",
       "    <tr>\n",
       "      <th>4</th>\n",
       "      <td>/Users/hsingh151/My_Work/BOL/01_Pepsi_bol/01_C...</td>\n",
       "      <td>Pepsi Beverages Company\\nBILL OF LADING\\nBOL #...</td>\n",
       "      <td>Format1</td>\n",
       "      <td>0</td>\n",
       "    </tr>\n",
       "  </tbody>\n",
       "</table>\n",
       "</div>"
      ],
      "text/plain": [
       "                                                   0  \\\n",
       "0  /Users/hsingh151/My_Work/BOL/01_Pepsi_bol/01_C...   \n",
       "1  /Users/hsingh151/My_Work/BOL/01_Pepsi_bol/01_C...   \n",
       "2  /Users/hsingh151/My_Work/BOL/01_Pepsi_bol/01_C...   \n",
       "3  /Users/hsingh151/My_Work/BOL/01_Pepsi_bol/01_C...   \n",
       "4  /Users/hsingh151/My_Work/BOL/01_Pepsi_bol/01_C...   \n",
       "\n",
       "                                                   1        2  labels  \n",
       "0  Pepsi Beverages Company\\nBILL OF LADING\\nOrder...  Format1       0  \n",
       "1  Pepsi Beveragee dompany\\nBILL OF LADING\\nBOL #...  Format1       0  \n",
       "2  BILL OF LADING\\nPepsi Beverages Company\\nOrder...  Format1       0  \n",
       "3  Pepsi Beverages Company\\nBILL OF LADING\\nÊD000...  Format1       0  \n",
       "4  Pepsi Beverages Company\\nBILL OF LADING\\nBOL #...  Format1       0  "
      ]
     },
     "execution_count": 14,
     "metadata": {},
     "output_type": "execute_result"
    }
   ],
   "source": [
    "df.head()"
   ]
  },
  {
   "cell_type": "code",
   "execution_count": 15,
   "id": "94aaad6f",
   "metadata": {},
   "outputs": [],
   "source": [
    "predicted_results = []\n",
    "for index, row in df.iterrows():\n",
    "    raw_text = row[1]\n",
    "    result = classify_text(raw_text, model_dict)\n",
    "    if result[0] != 200:\n",
    "        predicted_result = result\n",
    "    else:\n",
    "        predicted_result = result[1]\n",
    "    predicted_results.append(predicted_result)"
   ]
  },
  {
   "cell_type": "code",
   "execution_count": 16,
   "id": "8495c572",
   "metadata": {},
   "outputs": [
    {
     "data": {
      "text/plain": [
       "[{'predicted_doctype': 'Format1', 'conf_score': 0.9879960553600494},\n",
       " {'predicted_doctype': 'Format1', 'conf_score': 0.9936402433149718},\n",
       " {'predicted_doctype': 'Format1', 'conf_score': 0.97075364045218},\n",
       " {'predicted_doctype': 'Format1', 'conf_score': 0.9447205047770952},\n",
       " {'predicted_doctype': 'Format1', 'conf_score': 0.986972387225729},\n",
       " {'predicted_doctype': 'Format1', 'conf_score': 0.9913250462117423},\n",
       " {'predicted_doctype': 'Format1', 'conf_score': 0.9831001381993777},\n",
       " {'predicted_doctype': 'Format1', 'conf_score': 0.9925883848126469},\n",
       " {'predicted_doctype': 'Format1', 'conf_score': 0.9925145895013731},\n",
       " {'predicted_doctype': 'Format1', 'conf_score': 0.9301867771733758},\n",
       " {'predicted_doctype': 'Format1', 'conf_score': 0.897946906744762},\n",
       " {'predicted_doctype': 'Format1', 'conf_score': 0.9926502673644031},\n",
       " {'predicted_doctype': 'Format1', 'conf_score': 0.9560432155420077},\n",
       " {'predicted_doctype': 'Format1', 'conf_score': 0.9982109556113351},\n",
       " {'predicted_doctype': 'Format1', 'conf_score': 0.9910903957105658},\n",
       " {'predicted_doctype': 'Format1', 'conf_score': 0.9884889986731178},\n",
       " {'predicted_doctype': 'Format1', 'conf_score': 0.9622107828498824},\n",
       " {'predicted_doctype': 'Format1', 'conf_score': 0.9669434996337162},\n",
       " {'predicted_doctype': 'Format1', 'conf_score': 0.9932068763255498},\n",
       " {'predicted_doctype': 'Format2', 'conf_score': 0.9974836260253016},\n",
       " {'predicted_doctype': 'Format2', 'conf_score': 0.9941387314543665},\n",
       " {'predicted_doctype': 'Format2', 'conf_score': 0.9947014218813668},\n",
       " {'predicted_doctype': 'Format2', 'conf_score': 0.9811688176572818},\n",
       " {'predicted_doctype': 'Format2', 'conf_score': 0.8418988746201823},\n",
       " {'predicted_doctype': 'Format2', 'conf_score': 0.9887945976363355},\n",
       " {'predicted_doctype': 'Format2', 'conf_score': 0.9932009999916965},\n",
       " {'predicted_doctype': 'Format2', 'conf_score': 0.9946082064754816},\n",
       " {'predicted_doctype': 'Format2', 'conf_score': 0.9991718489510376},\n",
       " {'predicted_doctype': 'Format2', 'conf_score': 0.996053489083218},\n",
       " {'predicted_doctype': 'Format2', 'conf_score': 0.994754605582004},\n",
       " {'predicted_doctype': 'Format2', 'conf_score': 0.9988946560573876},\n",
       " {'predicted_doctype': 'Format2', 'conf_score': 0.9992713209059305},\n",
       " {'predicted_doctype': 'Format2', 'conf_score': 0.9994968616627731},\n",
       " {'predicted_doctype': 'Format2', 'conf_score': 0.9993209337023895},\n",
       " {'predicted_doctype': 'Format2', 'conf_score': 0.9983793058969418},\n",
       " {'predicted_doctype': 'Format2', 'conf_score': 0.9990977420262478},\n",
       " {'predicted_doctype': 'Format2', 'conf_score': 0.9829235284841262},\n",
       " {'predicted_doctype': 'Format2', 'conf_score': 0.9633049121717719},\n",
       " {'predicted_doctype': 'Format2', 'conf_score': 0.9986312507250504},\n",
       " {'predicted_doctype': 'Others', 'conf_score': 0.5590473412601368},\n",
       " {'predicted_doctype': 'Others', 'conf_score': 0.6919328644855455},\n",
       " {'predicted_doctype': 'Others', 'conf_score': 0.6144761938237027},\n",
       " {'predicted_doctype': 'Others', 'conf_score': 0.33729698230369687},\n",
       " {'predicted_doctype': 'Format2', 'conf_score': 0.4841713947361479},\n",
       " {'predicted_doctype': 'Others', 'conf_score': 0.9535158800010146},\n",
       " {'predicted_doctype': 'Others', 'conf_score': 0.5229547915659318},\n",
       " {'predicted_doctype': 'Others', 'conf_score': 0.696435281470796},\n",
       " {'predicted_doctype': 'Others', 'conf_score': 0.699898515443138},\n",
       " {'predicted_doctype': 'Others', 'conf_score': 0.7783216106918052},\n",
       " {'predicted_doctype': 'Others', 'conf_score': 0.6520657914460065},\n",
       " {'predicted_doctype': 'Others', 'conf_score': 0.6418059734627822},\n",
       " {'predicted_doctype': 'Others', 'conf_score': 0.5509978726228572},\n",
       " {'predicted_doctype': 'Others', 'conf_score': 0.963203797585394},\n",
       " {'predicted_doctype': 'Others', 'conf_score': 0.8815295206551403},\n",
       " {'predicted_doctype': 'Format1', 'conf_score': 0.2916666666666667},\n",
       " {'predicted_doctype': 'Others', 'conf_score': 0.639733817417345},\n",
       " {'predicted_doctype': 'Others', 'conf_score': 0.5470143723856867},\n",
       " {'predicted_doctype': 'Packing List', 'conf_score': 0.6452539462745849},\n",
       " {'predicted_doctype': 'Format2', 'conf_score': 0.32598908454822034},\n",
       " {'predicted_doctype': 'Packing List', 'conf_score': 0.6755308424831488},\n",
       " {'predicted_doctype': 'Format1', 'conf_score': 0.4043761213525272},\n",
       " {'predicted_doctype': 'Packing List', 'conf_score': 0.7863519541025524},\n",
       " {'predicted_doctype': 'Packing List', 'conf_score': 0.8906550510380828},\n",
       " {'predicted_doctype': 'Packing List', 'conf_score': 0.8142647456168077},\n",
       " {'predicted_doctype': 'Packing List', 'conf_score': 0.7190863128133732},\n",
       " {'predicted_doctype': 'Packing List', 'conf_score': 0.7938827351922836},\n",
       " {'predicted_doctype': 'Packing List', 'conf_score': 0.4317032269631689}]"
      ]
     },
     "execution_count": 16,
     "metadata": {},
     "output_type": "execute_result"
    }
   ],
   "source": [
    "predicted_results"
   ]
  },
  {
   "cell_type": "code",
   "execution_count": 17,
   "id": "e9e5954f",
   "metadata": {},
   "outputs": [],
   "source": [
    "df[\"predicted_results\"] = predicted_results"
   ]
  },
  {
   "cell_type": "code",
   "execution_count": 18,
   "id": "82a04358",
   "metadata": {},
   "outputs": [],
   "source": [
    "df[\"predicted_label\"] = [i['predicted_doctype'] for i in predicted_results]"
   ]
  },
  {
   "cell_type": "code",
   "execution_count": 19,
   "id": "0b40529f",
   "metadata": {},
   "outputs": [
    {
     "data": {
      "text/html": [
       "<div>\n",
       "<style scoped>\n",
       "    .dataframe tbody tr th:only-of-type {\n",
       "        vertical-align: middle;\n",
       "    }\n",
       "\n",
       "    .dataframe tbody tr th {\n",
       "        vertical-align: top;\n",
       "    }\n",
       "\n",
       "    .dataframe thead th {\n",
       "        text-align: right;\n",
       "    }\n",
       "</style>\n",
       "<table border=\"1\" class=\"dataframe\">\n",
       "  <thead>\n",
       "    <tr style=\"text-align: right;\">\n",
       "      <th></th>\n",
       "      <th>0</th>\n",
       "      <th>1</th>\n",
       "      <th>2</th>\n",
       "      <th>labels</th>\n",
       "      <th>predicted_results</th>\n",
       "      <th>predicted_label</th>\n",
       "    </tr>\n",
       "  </thead>\n",
       "  <tbody>\n",
       "    <tr>\n",
       "      <th>0</th>\n",
       "      <td>/Users/hsingh151/My_Work/BOL/01_Pepsi_bol/01_C...</td>\n",
       "      <td>Pepsi Beverages Company\\nBILL OF LADING\\nOrder...</td>\n",
       "      <td>Format1</td>\n",
       "      <td>0</td>\n",
       "      <td>{'predicted_doctype': 'Format1', 'conf_score':...</td>\n",
       "      <td>Format1</td>\n",
       "    </tr>\n",
       "    <tr>\n",
       "      <th>1</th>\n",
       "      <td>/Users/hsingh151/My_Work/BOL/01_Pepsi_bol/01_C...</td>\n",
       "      <td>Pepsi Beveragee dompany\\nBILL OF LADING\\nBOL #...</td>\n",
       "      <td>Format1</td>\n",
       "      <td>0</td>\n",
       "      <td>{'predicted_doctype': 'Format1', 'conf_score':...</td>\n",
       "      <td>Format1</td>\n",
       "    </tr>\n",
       "    <tr>\n",
       "      <th>2</th>\n",
       "      <td>/Users/hsingh151/My_Work/BOL/01_Pepsi_bol/01_C...</td>\n",
       "      <td>BILL OF LADING\\nPepsi Beverages Company\\nOrder...</td>\n",
       "      <td>Format1</td>\n",
       "      <td>0</td>\n",
       "      <td>{'predicted_doctype': 'Format1', 'conf_score':...</td>\n",
       "      <td>Format1</td>\n",
       "    </tr>\n",
       "    <tr>\n",
       "      <th>3</th>\n",
       "      <td>/Users/hsingh151/My_Work/BOL/01_Pepsi_bol/01_C...</td>\n",
       "      <td>Pepsi Beverages Company\\nBILL OF LADING\\nÊD000...</td>\n",
       "      <td>Format1</td>\n",
       "      <td>0</td>\n",
       "      <td>{'predicted_doctype': 'Format1', 'conf_score':...</td>\n",
       "      <td>Format1</td>\n",
       "    </tr>\n",
       "    <tr>\n",
       "      <th>4</th>\n",
       "      <td>/Users/hsingh151/My_Work/BOL/01_Pepsi_bol/01_C...</td>\n",
       "      <td>Pepsi Beverages Company\\nBILL OF LADING\\nBOL #...</td>\n",
       "      <td>Format1</td>\n",
       "      <td>0</td>\n",
       "      <td>{'predicted_doctype': 'Format1', 'conf_score':...</td>\n",
       "      <td>Format1</td>\n",
       "    </tr>\n",
       "    <tr>\n",
       "      <th>...</th>\n",
       "      <td>...</td>\n",
       "      <td>...</td>\n",
       "      <td>...</td>\n",
       "      <td>...</td>\n",
       "      <td>...</td>\n",
       "      <td>...</td>\n",
       "    </tr>\n",
       "    <tr>\n",
       "      <th>62</th>\n",
       "      <td>/Users/hsingh151/My_Work/BOL/01_Pepsi_bol/01_C...</td>\n",
       "      <td>Packing List\\nWarehouse ID\\nOrder Number: 8253...</td>\n",
       "      <td>Packing List</td>\n",
       "      <td>3</td>\n",
       "      <td>{'predicted_doctype': 'Packing List', 'conf_sc...</td>\n",
       "      <td>Packing List</td>\n",
       "    </tr>\n",
       "    <tr>\n",
       "      <th>63</th>\n",
       "      <td>/Users/hsingh151/My_Work/BOL/01_Pepsi_bol/01_C...</td>\n",
       "      <td>2.\\nPacking List\\nItem Number\\nGross Weight\\nQ...</td>\n",
       "      <td>Packing List</td>\n",
       "      <td>3</td>\n",
       "      <td>{'predicted_doctype': 'Packing List', 'conf_sc...</td>\n",
       "      <td>Packing List</td>\n",
       "    </tr>\n",
       "    <tr>\n",
       "      <th>64</th>\n",
       "      <td>/Users/hsingh151/My_Work/BOL/01_Pepsi_bol/01_C...</td>\n",
       "      <td>Packing List\\nShip From:\\nOrder Number: 825425...</td>\n",
       "      <td>Packing List</td>\n",
       "      <td>3</td>\n",
       "      <td>{'predicted_doctype': 'Packing List', 'conf_sc...</td>\n",
       "      <td>Packing List</td>\n",
       "    </tr>\n",
       "    <tr>\n",
       "      <th>65</th>\n",
       "      <td>/Users/hsingh151/My_Work/BOL/01_Pepsi_bol/01_C...</td>\n",
       "      <td>Packing List\\nShip From:\\nOrder Number: 825189...</td>\n",
       "      <td>Packing List</td>\n",
       "      <td>3</td>\n",
       "      <td>{'predicted_doctype': 'Packing List', 'conf_sc...</td>\n",
       "      <td>Packing List</td>\n",
       "    </tr>\n",
       "    <tr>\n",
       "      <th>66</th>\n",
       "      <td>/Users/hsingh151/My_Work/BOL/01_Pepsi_bol/01_C...</td>\n",
       "      <td>4.\\nPacking List\\nDescription\\number\\nPlatform...</td>\n",
       "      <td>Packing List</td>\n",
       "      <td>3</td>\n",
       "      <td>{'predicted_doctype': 'Packing List', 'conf_sc...</td>\n",
       "      <td>Packing List</td>\n",
       "    </tr>\n",
       "  </tbody>\n",
       "</table>\n",
       "<p>67 rows × 6 columns</p>\n",
       "</div>"
      ],
      "text/plain": [
       "                                                    0  \\\n",
       "0   /Users/hsingh151/My_Work/BOL/01_Pepsi_bol/01_C...   \n",
       "1   /Users/hsingh151/My_Work/BOL/01_Pepsi_bol/01_C...   \n",
       "2   /Users/hsingh151/My_Work/BOL/01_Pepsi_bol/01_C...   \n",
       "3   /Users/hsingh151/My_Work/BOL/01_Pepsi_bol/01_C...   \n",
       "4   /Users/hsingh151/My_Work/BOL/01_Pepsi_bol/01_C...   \n",
       "..                                                ...   \n",
       "62  /Users/hsingh151/My_Work/BOL/01_Pepsi_bol/01_C...   \n",
       "63  /Users/hsingh151/My_Work/BOL/01_Pepsi_bol/01_C...   \n",
       "64  /Users/hsingh151/My_Work/BOL/01_Pepsi_bol/01_C...   \n",
       "65  /Users/hsingh151/My_Work/BOL/01_Pepsi_bol/01_C...   \n",
       "66  /Users/hsingh151/My_Work/BOL/01_Pepsi_bol/01_C...   \n",
       "\n",
       "                                                    1             2  labels  \\\n",
       "0   Pepsi Beverages Company\\nBILL OF LADING\\nOrder...       Format1       0   \n",
       "1   Pepsi Beveragee dompany\\nBILL OF LADING\\nBOL #...       Format1       0   \n",
       "2   BILL OF LADING\\nPepsi Beverages Company\\nOrder...       Format1       0   \n",
       "3   Pepsi Beverages Company\\nBILL OF LADING\\nÊD000...       Format1       0   \n",
       "4   Pepsi Beverages Company\\nBILL OF LADING\\nBOL #...       Format1       0   \n",
       "..                                                ...           ...     ...   \n",
       "62  Packing List\\nWarehouse ID\\nOrder Number: 8253...  Packing List       3   \n",
       "63  2.\\nPacking List\\nItem Number\\nGross Weight\\nQ...  Packing List       3   \n",
       "64  Packing List\\nShip From:\\nOrder Number: 825425...  Packing List       3   \n",
       "65  Packing List\\nShip From:\\nOrder Number: 825189...  Packing List       3   \n",
       "66  4.\\nPacking List\\nDescription\\number\\nPlatform...  Packing List       3   \n",
       "\n",
       "                                    predicted_results predicted_label  \n",
       "0   {'predicted_doctype': 'Format1', 'conf_score':...         Format1  \n",
       "1   {'predicted_doctype': 'Format1', 'conf_score':...         Format1  \n",
       "2   {'predicted_doctype': 'Format1', 'conf_score':...         Format1  \n",
       "3   {'predicted_doctype': 'Format1', 'conf_score':...         Format1  \n",
       "4   {'predicted_doctype': 'Format1', 'conf_score':...         Format1  \n",
       "..                                                ...             ...  \n",
       "62  {'predicted_doctype': 'Packing List', 'conf_sc...    Packing List  \n",
       "63  {'predicted_doctype': 'Packing List', 'conf_sc...    Packing List  \n",
       "64  {'predicted_doctype': 'Packing List', 'conf_sc...    Packing List  \n",
       "65  {'predicted_doctype': 'Packing List', 'conf_sc...    Packing List  \n",
       "66  {'predicted_doctype': 'Packing List', 'conf_sc...    Packing List  \n",
       "\n",
       "[67 rows x 6 columns]"
      ]
     },
     "execution_count": 19,
     "metadata": {},
     "output_type": "execute_result"
    }
   ],
   "source": [
    "df"
   ]
  },
  {
   "cell_type": "code",
   "execution_count": 20,
   "id": "907dae0d",
   "metadata": {},
   "outputs": [],
   "source": [
    "df[\"predicted_confidence\"] = [i['conf_score'] for i in predicted_results]"
   ]
  },
  {
   "cell_type": "code",
   "execution_count": 21,
   "id": "37a409fc",
   "metadata": {
    "scrolled": true
   },
   "outputs": [
    {
     "name": "stdout",
     "output_type": "stream",
     "text": [
      "Others Format2 0.4841713947361479\n",
      "Others Format1 0.2916666666666667\n",
      "Packing List Format2 0.32598908454822034\n",
      "Packing List Format1 0.4043761213525272\n"
     ]
    }
   ],
   "source": [
    "wrong_predictions = 0\n",
    "for index, row in df.iterrows():\n",
    "    if df.iloc[index,2] != df.loc[index,'predicted_label']:\n",
    "        wrong_predictions+=1\n",
    "#         print(os.path.basename(df.iloc[index,0]))\n",
    "        print(df.iloc[index,2], df.loc[index,'predicted_label'], df.loc[index,'predicted_confidence'])"
   ]
  },
  {
   "cell_type": "code",
   "execution_count": 22,
   "id": "1d916649",
   "metadata": {},
   "outputs": [
    {
     "name": "stdout",
     "output_type": "stream",
     "text": [
      "/Users/hsingh151/My_Work/BOL/01_Pepsi_bol/01_Classifier/04_Data\\Others\\test\\1700184814-PROOF_OF_DELIVERY (1).JPG_raw_text.txt\n",
      "/Users/hsingh151/My_Work/BOL/01_Pepsi_bol/01_Classifier/04_Data\\Others\\test\\desktop.ini\n",
      "/Users/hsingh151/My_Work/BOL/01_Pepsi_bol/01_Classifier/04_Data\\Packing List\\test\\1_PEPSI2_PROOF_OF_DELIVERY.PDF.jpg_raw_text.txt\n",
      "/Users/hsingh151/My_Work/BOL/01_Pepsi_bol/01_Classifier/04_Data\\Packing List\\test\\2_combinepdf (45).pdf.jpg_raw_text.txt\n"
     ]
    }
   ],
   "source": [
    "wrong_predictions = 0\n",
    "for index, row in df.iterrows():\n",
    "    if df.iloc[index,2] != df.loc[index,'predicted_label']:\n",
    "        wrong_predictions+=1\n",
    "#         print(os.path.basename(df.iloc[index,0]))\n",
    "        print(df.iloc[index,0])"
   ]
  },
  {
   "cell_type": "code",
   "execution_count": 23,
   "id": "f23eba4a",
   "metadata": {},
   "outputs": [
    {
     "name": "stdout",
     "output_type": "stream",
     "text": [
      "Accuracy = 0.9402985074626866\n"
     ]
    }
   ],
   "source": [
    "print(\"Accuracy = {}\".format(1 - wrong_predictions/len(df['predicted_label'])))"
   ]
  },
  {
   "cell_type": "code",
   "execution_count": 24,
   "id": "a58ed377",
   "metadata": {},
   "outputs": [
    {
     "name": "stdout",
     "output_type": "stream",
     "text": [
      "AVG_Conf_score = 0.8392395236549749\n"
     ]
    }
   ],
   "source": [
    "print(\"AVG_Conf_score = {}\".format(sum(df['predicted_confidence'])/len(df['predicted_confidence'])))"
   ]
  },
  {
   "cell_type": "code",
   "execution_count": 25,
   "id": "0c305955",
   "metadata": {},
   "outputs": [
    {
     "data": {
      "text/html": [
       "<div>\n",
       "<style scoped>\n",
       "    .dataframe tbody tr th:only-of-type {\n",
       "        vertical-align: middle;\n",
       "    }\n",
       "\n",
       "    .dataframe tbody tr th {\n",
       "        vertical-align: top;\n",
       "    }\n",
       "\n",
       "    .dataframe thead th {\n",
       "        text-align: right;\n",
       "    }\n",
       "</style>\n",
       "<table border=\"1\" class=\"dataframe\">\n",
       "  <thead>\n",
       "    <tr style=\"text-align: right;\">\n",
       "      <th></th>\n",
       "      <th>0</th>\n",
       "      <th>1</th>\n",
       "      <th>2</th>\n",
       "      <th>labels</th>\n",
       "      <th>predicted_results</th>\n",
       "      <th>predicted_label</th>\n",
       "      <th>predicted_confidence</th>\n",
       "    </tr>\n",
       "  </thead>\n",
       "  <tbody>\n",
       "    <tr>\n",
       "      <th>0</th>\n",
       "      <td>/Users/hsingh151/My_Work/BOL/01_Pepsi_bol/01_C...</td>\n",
       "      <td>Pepsi Beverages Company\\nBILL OF LADING\\nOrder...</td>\n",
       "      <td>Format1</td>\n",
       "      <td>0</td>\n",
       "      <td>{'predicted_doctype': 'Format1', 'conf_score':...</td>\n",
       "      <td>Format1</td>\n",
       "      <td>0.987996</td>\n",
       "    </tr>\n",
       "    <tr>\n",
       "      <th>1</th>\n",
       "      <td>/Users/hsingh151/My_Work/BOL/01_Pepsi_bol/01_C...</td>\n",
       "      <td>Pepsi Beveragee dompany\\nBILL OF LADING\\nBOL #...</td>\n",
       "      <td>Format1</td>\n",
       "      <td>0</td>\n",
       "      <td>{'predicted_doctype': 'Format1', 'conf_score':...</td>\n",
       "      <td>Format1</td>\n",
       "      <td>0.993640</td>\n",
       "    </tr>\n",
       "    <tr>\n",
       "      <th>2</th>\n",
       "      <td>/Users/hsingh151/My_Work/BOL/01_Pepsi_bol/01_C...</td>\n",
       "      <td>BILL OF LADING\\nPepsi Beverages Company\\nOrder...</td>\n",
       "      <td>Format1</td>\n",
       "      <td>0</td>\n",
       "      <td>{'predicted_doctype': 'Format1', 'conf_score':...</td>\n",
       "      <td>Format1</td>\n",
       "      <td>0.970754</td>\n",
       "    </tr>\n",
       "    <tr>\n",
       "      <th>3</th>\n",
       "      <td>/Users/hsingh151/My_Work/BOL/01_Pepsi_bol/01_C...</td>\n",
       "      <td>Pepsi Beverages Company\\nBILL OF LADING\\nÊD000...</td>\n",
       "      <td>Format1</td>\n",
       "      <td>0</td>\n",
       "      <td>{'predicted_doctype': 'Format1', 'conf_score':...</td>\n",
       "      <td>Format1</td>\n",
       "      <td>0.944721</td>\n",
       "    </tr>\n",
       "    <tr>\n",
       "      <th>4</th>\n",
       "      <td>/Users/hsingh151/My_Work/BOL/01_Pepsi_bol/01_C...</td>\n",
       "      <td>Pepsi Beverages Company\\nBILL OF LADING\\nBOL #...</td>\n",
       "      <td>Format1</td>\n",
       "      <td>0</td>\n",
       "      <td>{'predicted_doctype': 'Format1', 'conf_score':...</td>\n",
       "      <td>Format1</td>\n",
       "      <td>0.986972</td>\n",
       "    </tr>\n",
       "    <tr>\n",
       "      <th>...</th>\n",
       "      <td>...</td>\n",
       "      <td>...</td>\n",
       "      <td>...</td>\n",
       "      <td>...</td>\n",
       "      <td>...</td>\n",
       "      <td>...</td>\n",
       "      <td>...</td>\n",
       "    </tr>\n",
       "    <tr>\n",
       "      <th>62</th>\n",
       "      <td>/Users/hsingh151/My_Work/BOL/01_Pepsi_bol/01_C...</td>\n",
       "      <td>Packing List\\nWarehouse ID\\nOrder Number: 8253...</td>\n",
       "      <td>Packing List</td>\n",
       "      <td>3</td>\n",
       "      <td>{'predicted_doctype': 'Packing List', 'conf_sc...</td>\n",
       "      <td>Packing List</td>\n",
       "      <td>0.890655</td>\n",
       "    </tr>\n",
       "    <tr>\n",
       "      <th>63</th>\n",
       "      <td>/Users/hsingh151/My_Work/BOL/01_Pepsi_bol/01_C...</td>\n",
       "      <td>2.\\nPacking List\\nItem Number\\nGross Weight\\nQ...</td>\n",
       "      <td>Packing List</td>\n",
       "      <td>3</td>\n",
       "      <td>{'predicted_doctype': 'Packing List', 'conf_sc...</td>\n",
       "      <td>Packing List</td>\n",
       "      <td>0.814265</td>\n",
       "    </tr>\n",
       "    <tr>\n",
       "      <th>64</th>\n",
       "      <td>/Users/hsingh151/My_Work/BOL/01_Pepsi_bol/01_C...</td>\n",
       "      <td>Packing List\\nShip From:\\nOrder Number: 825425...</td>\n",
       "      <td>Packing List</td>\n",
       "      <td>3</td>\n",
       "      <td>{'predicted_doctype': 'Packing List', 'conf_sc...</td>\n",
       "      <td>Packing List</td>\n",
       "      <td>0.719086</td>\n",
       "    </tr>\n",
       "    <tr>\n",
       "      <th>65</th>\n",
       "      <td>/Users/hsingh151/My_Work/BOL/01_Pepsi_bol/01_C...</td>\n",
       "      <td>Packing List\\nShip From:\\nOrder Number: 825189...</td>\n",
       "      <td>Packing List</td>\n",
       "      <td>3</td>\n",
       "      <td>{'predicted_doctype': 'Packing List', 'conf_sc...</td>\n",
       "      <td>Packing List</td>\n",
       "      <td>0.793883</td>\n",
       "    </tr>\n",
       "    <tr>\n",
       "      <th>66</th>\n",
       "      <td>/Users/hsingh151/My_Work/BOL/01_Pepsi_bol/01_C...</td>\n",
       "      <td>4.\\nPacking List\\nDescription\\number\\nPlatform...</td>\n",
       "      <td>Packing List</td>\n",
       "      <td>3</td>\n",
       "      <td>{'predicted_doctype': 'Packing List', 'conf_sc...</td>\n",
       "      <td>Packing List</td>\n",
       "      <td>0.431703</td>\n",
       "    </tr>\n",
       "  </tbody>\n",
       "</table>\n",
       "<p>67 rows × 7 columns</p>\n",
       "</div>"
      ],
      "text/plain": [
       "                                                    0  \\\n",
       "0   /Users/hsingh151/My_Work/BOL/01_Pepsi_bol/01_C...   \n",
       "1   /Users/hsingh151/My_Work/BOL/01_Pepsi_bol/01_C...   \n",
       "2   /Users/hsingh151/My_Work/BOL/01_Pepsi_bol/01_C...   \n",
       "3   /Users/hsingh151/My_Work/BOL/01_Pepsi_bol/01_C...   \n",
       "4   /Users/hsingh151/My_Work/BOL/01_Pepsi_bol/01_C...   \n",
       "..                                                ...   \n",
       "62  /Users/hsingh151/My_Work/BOL/01_Pepsi_bol/01_C...   \n",
       "63  /Users/hsingh151/My_Work/BOL/01_Pepsi_bol/01_C...   \n",
       "64  /Users/hsingh151/My_Work/BOL/01_Pepsi_bol/01_C...   \n",
       "65  /Users/hsingh151/My_Work/BOL/01_Pepsi_bol/01_C...   \n",
       "66  /Users/hsingh151/My_Work/BOL/01_Pepsi_bol/01_C...   \n",
       "\n",
       "                                                    1             2  labels  \\\n",
       "0   Pepsi Beverages Company\\nBILL OF LADING\\nOrder...       Format1       0   \n",
       "1   Pepsi Beveragee dompany\\nBILL OF LADING\\nBOL #...       Format1       0   \n",
       "2   BILL OF LADING\\nPepsi Beverages Company\\nOrder...       Format1       0   \n",
       "3   Pepsi Beverages Company\\nBILL OF LADING\\nÊD000...       Format1       0   \n",
       "4   Pepsi Beverages Company\\nBILL OF LADING\\nBOL #...       Format1       0   \n",
       "..                                                ...           ...     ...   \n",
       "62  Packing List\\nWarehouse ID\\nOrder Number: 8253...  Packing List       3   \n",
       "63  2.\\nPacking List\\nItem Number\\nGross Weight\\nQ...  Packing List       3   \n",
       "64  Packing List\\nShip From:\\nOrder Number: 825425...  Packing List       3   \n",
       "65  Packing List\\nShip From:\\nOrder Number: 825189...  Packing List       3   \n",
       "66  4.\\nPacking List\\nDescription\\number\\nPlatform...  Packing List       3   \n",
       "\n",
       "                                    predicted_results predicted_label  \\\n",
       "0   {'predicted_doctype': 'Format1', 'conf_score':...         Format1   \n",
       "1   {'predicted_doctype': 'Format1', 'conf_score':...         Format1   \n",
       "2   {'predicted_doctype': 'Format1', 'conf_score':...         Format1   \n",
       "3   {'predicted_doctype': 'Format1', 'conf_score':...         Format1   \n",
       "4   {'predicted_doctype': 'Format1', 'conf_score':...         Format1   \n",
       "..                                                ...             ...   \n",
       "62  {'predicted_doctype': 'Packing List', 'conf_sc...    Packing List   \n",
       "63  {'predicted_doctype': 'Packing List', 'conf_sc...    Packing List   \n",
       "64  {'predicted_doctype': 'Packing List', 'conf_sc...    Packing List   \n",
       "65  {'predicted_doctype': 'Packing List', 'conf_sc...    Packing List   \n",
       "66  {'predicted_doctype': 'Packing List', 'conf_sc...    Packing List   \n",
       "\n",
       "    predicted_confidence  \n",
       "0               0.987996  \n",
       "1               0.993640  \n",
       "2               0.970754  \n",
       "3               0.944721  \n",
       "4               0.986972  \n",
       "..                   ...  \n",
       "62              0.890655  \n",
       "63              0.814265  \n",
       "64              0.719086  \n",
       "65              0.793883  \n",
       "66              0.431703  \n",
       "\n",
       "[67 rows x 7 columns]"
      ]
     },
     "execution_count": 25,
     "metadata": {},
     "output_type": "execute_result"
    }
   ],
   "source": [
    "df"
   ]
  },
  {
   "cell_type": "code",
   "execution_count": 26,
   "id": "814716ca",
   "metadata": {},
   "outputs": [],
   "source": [
    "df_low_confidence = df.loc[df['predicted_confidence'] <= 0.65]"
   ]
  },
  {
   "cell_type": "code",
   "execution_count": 27,
   "id": "0cb3e29e",
   "metadata": {},
   "outputs": [
    {
     "data": {
      "text/plain": [
       "14"
      ]
     },
     "execution_count": 27,
     "metadata": {},
     "output_type": "execute_result"
    }
   ],
   "source": [
    "len(df_low_confidence)"
   ]
  },
  {
   "cell_type": "code",
   "execution_count": 28,
   "id": "687b5c14",
   "metadata": {},
   "outputs": [
    {
     "data": {
      "text/html": [
       "<div>\n",
       "<style scoped>\n",
       "    .dataframe tbody tr th:only-of-type {\n",
       "        vertical-align: middle;\n",
       "    }\n",
       "\n",
       "    .dataframe tbody tr th {\n",
       "        vertical-align: top;\n",
       "    }\n",
       "\n",
       "    .dataframe thead th {\n",
       "        text-align: right;\n",
       "    }\n",
       "</style>\n",
       "<table border=\"1\" class=\"dataframe\">\n",
       "  <thead>\n",
       "    <tr style=\"text-align: right;\">\n",
       "      <th></th>\n",
       "      <th>0</th>\n",
       "      <th>1</th>\n",
       "      <th>2</th>\n",
       "      <th>labels</th>\n",
       "      <th>predicted_results</th>\n",
       "      <th>predicted_label</th>\n",
       "      <th>predicted_confidence</th>\n",
       "    </tr>\n",
       "  </thead>\n",
       "  <tbody>\n",
       "    <tr>\n",
       "      <th>39</th>\n",
       "      <td>/Users/hsingh151/My_Work/BOL/01_Pepsi_bol/01_C...</td>\n",
       "      <td>of sald route jo deştinatio. Straight Bijach p...</td>\n",
       "      <td>Others</td>\n",
       "      <td>2</td>\n",
       "      <td>{'predicted_doctype': 'Others', 'conf_score': ...</td>\n",
       "      <td>Others</td>\n",
       "      <td>0.559047</td>\n",
       "    </tr>\n",
       "    <tr>\n",
       "      <th>41</th>\n",
       "      <td>/Users/hsingh151/My_Work/BOL/01_Pepsi_bol/01_C...</td>\n",
       "      <td>Capstone Lqgistics\\n30 TECHNOOLOGY PKWY SOUTH ...</td>\n",
       "      <td>Others</td>\n",
       "      <td>2</td>\n",
       "      <td>{'predicted_doctype': 'Others', 'conf_score': ...</td>\n",
       "      <td>Others</td>\n",
       "      <td>0.614476</td>\n",
       "    </tr>\n",
       "    <tr>\n",
       "      <th>42</th>\n",
       "      <td>/Users/hsingh151/My_Work/BOL/01_Pepsi_bol/01_C...</td>\n",
       "      <td>COLD SPRING BREWING COMPANY TRAILER INSPECTION...</td>\n",
       "      <td>Others</td>\n",
       "      <td>2</td>\n",
       "      <td>{'predicted_doctype': 'Others', 'conf_score': ...</td>\n",
       "      <td>Others</td>\n",
       "      <td>0.337297</td>\n",
       "    </tr>\n",
       "    <tr>\n",
       "      <th>43</th>\n",
       "      <td>/Users/hsingh151/My_Work/BOL/01_Pepsi_bol/01_C...</td>\n",
       "      <td>Arduni alnlgmeN ihai al laadins has een ued an...</td>\n",
       "      <td>Others</td>\n",
       "      <td>2</td>\n",
       "      <td>{'predicted_doctype': 'Format2', 'conf_score':...</td>\n",
       "      <td>Format2</td>\n",
       "      <td>0.484171</td>\n",
       "    </tr>\n",
       "    <tr>\n",
       "      <th>45</th>\n",
       "      <td>/Users/hsingh151/My_Work/BOL/01_Pepsi_bol/01_C...</td>\n",
       "      <td>MASTER BILL OF LADING\\nSHOW THI! BILL OF LADIN...</td>\n",
       "      <td>Others</td>\n",
       "      <td>2</td>\n",
       "      <td>{'predicted_doctype': 'Others', 'conf_score': ...</td>\n",
       "      <td>Others</td>\n",
       "      <td>0.522955</td>\n",
       "    </tr>\n",
       "    <tr>\n",
       "      <th>50</th>\n",
       "      <td>/Users/hsingh151/My_Work/BOL/01_Pepsi_bol/01_C...</td>\n",
       "      <td>MASTER BILL OF LADING\\nSHOW THI! BILL OF LADIN...</td>\n",
       "      <td>Others</td>\n",
       "      <td>2</td>\n",
       "      <td>{'predicted_doctype': 'Others', 'conf_score': ...</td>\n",
       "      <td>Others</td>\n",
       "      <td>0.641806</td>\n",
       "    </tr>\n",
       "    <tr>\n",
       "      <th>51</th>\n",
       "      <td>/Users/hsingh151/My_Work/BOL/01_Pepsi_bol/01_C...</td>\n",
       "      <td>11/3/2020\\nScan2020-11-03_140153 091.jpg\\nubeR...</td>\n",
       "      <td>Others</td>\n",
       "      <td>2</td>\n",
       "      <td>{'predicted_doctype': 'Others', 'conf_score': ...</td>\n",
       "      <td>Others</td>\n",
       "      <td>0.550998</td>\n",
       "    </tr>\n",
       "    <tr>\n",
       "      <th>54</th>\n",
       "      <td>/Users/hsingh151/My_Work/BOL/01_Pepsi_bol/01_C...</td>\n",
       "      <td>\\n</td>\n",
       "      <td>Others</td>\n",
       "      <td>2</td>\n",
       "      <td>{'predicted_doctype': 'Format1', 'conf_score':...</td>\n",
       "      <td>Format1</td>\n",
       "      <td>0.291667</td>\n",
       "    </tr>\n",
       "    <tr>\n",
       "      <th>55</th>\n",
       "      <td>/Users/hsingh151/My_Work/BOL/01_Pepsi_bol/01_C...</td>\n",
       "      <td>S68\\nEACELLENC\\nDELIVERY NOTE - Item\\nPage:\\nc...</td>\n",
       "      <td>Others</td>\n",
       "      <td>2</td>\n",
       "      <td>{'predicted_doctype': 'Others', 'conf_score': ...</td>\n",
       "      <td>Others</td>\n",
       "      <td>0.639734</td>\n",
       "    </tr>\n",
       "    <tr>\n",
       "      <th>56</th>\n",
       "      <td>/Users/hsingh151/My_Work/BOL/01_Pepsi_bol/01_C...</td>\n",
       "      <td>g00 Lot\\n49939\\nTrip Delivery Sheet\\nTrip Info...</td>\n",
       "      <td>Others</td>\n",
       "      <td>2</td>\n",
       "      <td>{'predicted_doctype': 'Others', 'conf_score': ...</td>\n",
       "      <td>Others</td>\n",
       "      <td>0.547014</td>\n",
       "    </tr>\n",
       "    <tr>\n",
       "      <th>57</th>\n",
       "      <td>/Users/hsingh151/My_Work/BOL/01_Pepsi_bol/01_C...</td>\n",
       "      <td>75\\no 25\\n20\\n130\\nm/h\\nMPH\\n85\\n0. RPM X 100 ...</td>\n",
       "      <td>Packing List</td>\n",
       "      <td>3</td>\n",
       "      <td>{'predicted_doctype': 'Packing List', 'conf_sc...</td>\n",
       "      <td>Packing List</td>\n",
       "      <td>0.645254</td>\n",
       "    </tr>\n",
       "    <tr>\n",
       "      <th>58</th>\n",
       "      <td>/Users/hsingh151/My_Work/BOL/01_Pepsi_bol/01_C...</td>\n",
       "      <td>1/1\\nPacking Slip\\nShip Date: 2020-Nov-04\\nShi...</td>\n",
       "      <td>Packing List</td>\n",
       "      <td>3</td>\n",
       "      <td>{'predicted_doctype': 'Format2', 'conf_score':...</td>\n",
       "      <td>Format2</td>\n",
       "      <td>0.325989</td>\n",
       "    </tr>\n",
       "    <tr>\n",
       "      <th>60</th>\n",
       "      <td>/Users/hsingh151/My_Work/BOL/01_Pepsi_bol/01_C...</td>\n",
       "      <td>Packing List\\nPlatform\\nLot Number Inv Status\\...</td>\n",
       "      <td>Packing List</td>\n",
       "      <td>3</td>\n",
       "      <td>{'predicted_doctype': 'Format1', 'conf_score':...</td>\n",
       "      <td>Format1</td>\n",
       "      <td>0.404376</td>\n",
       "    </tr>\n",
       "    <tr>\n",
       "      <th>66</th>\n",
       "      <td>/Users/hsingh151/My_Work/BOL/01_Pepsi_bol/01_C...</td>\n",
       "      <td>4.\\nPacking List\\nDescription\\number\\nPlatform...</td>\n",
       "      <td>Packing List</td>\n",
       "      <td>3</td>\n",
       "      <td>{'predicted_doctype': 'Packing List', 'conf_sc...</td>\n",
       "      <td>Packing List</td>\n",
       "      <td>0.431703</td>\n",
       "    </tr>\n",
       "  </tbody>\n",
       "</table>\n",
       "</div>"
      ],
      "text/plain": [
       "                                                    0  \\\n",
       "39  /Users/hsingh151/My_Work/BOL/01_Pepsi_bol/01_C...   \n",
       "41  /Users/hsingh151/My_Work/BOL/01_Pepsi_bol/01_C...   \n",
       "42  /Users/hsingh151/My_Work/BOL/01_Pepsi_bol/01_C...   \n",
       "43  /Users/hsingh151/My_Work/BOL/01_Pepsi_bol/01_C...   \n",
       "45  /Users/hsingh151/My_Work/BOL/01_Pepsi_bol/01_C...   \n",
       "50  /Users/hsingh151/My_Work/BOL/01_Pepsi_bol/01_C...   \n",
       "51  /Users/hsingh151/My_Work/BOL/01_Pepsi_bol/01_C...   \n",
       "54  /Users/hsingh151/My_Work/BOL/01_Pepsi_bol/01_C...   \n",
       "55  /Users/hsingh151/My_Work/BOL/01_Pepsi_bol/01_C...   \n",
       "56  /Users/hsingh151/My_Work/BOL/01_Pepsi_bol/01_C...   \n",
       "57  /Users/hsingh151/My_Work/BOL/01_Pepsi_bol/01_C...   \n",
       "58  /Users/hsingh151/My_Work/BOL/01_Pepsi_bol/01_C...   \n",
       "60  /Users/hsingh151/My_Work/BOL/01_Pepsi_bol/01_C...   \n",
       "66  /Users/hsingh151/My_Work/BOL/01_Pepsi_bol/01_C...   \n",
       "\n",
       "                                                    1             2  labels  \\\n",
       "39  of sald route jo deştinatio. Straight Bijach p...        Others       2   \n",
       "41  Capstone Lqgistics\\n30 TECHNOOLOGY PKWY SOUTH ...        Others       2   \n",
       "42  COLD SPRING BREWING COMPANY TRAILER INSPECTION...        Others       2   \n",
       "43  Arduni alnlgmeN ihai al laadins has een ued an...        Others       2   \n",
       "45  MASTER BILL OF LADING\\nSHOW THI! BILL OF LADIN...        Others       2   \n",
       "50  MASTER BILL OF LADING\\nSHOW THI! BILL OF LADIN...        Others       2   \n",
       "51  11/3/2020\\nScan2020-11-03_140153 091.jpg\\nubeR...        Others       2   \n",
       "54                                                 \\n        Others       2   \n",
       "55  S68\\nEACELLENC\\nDELIVERY NOTE - Item\\nPage:\\nc...        Others       2   \n",
       "56  g00 Lot\\n49939\\nTrip Delivery Sheet\\nTrip Info...        Others       2   \n",
       "57  75\\no 25\\n20\\n130\\nm/h\\nMPH\\n85\\n0. RPM X 100 ...  Packing List       3   \n",
       "58  1/1\\nPacking Slip\\nShip Date: 2020-Nov-04\\nShi...  Packing List       3   \n",
       "60  Packing List\\nPlatform\\nLot Number Inv Status\\...  Packing List       3   \n",
       "66  4.\\nPacking List\\nDescription\\number\\nPlatform...  Packing List       3   \n",
       "\n",
       "                                    predicted_results predicted_label  \\\n",
       "39  {'predicted_doctype': 'Others', 'conf_score': ...          Others   \n",
       "41  {'predicted_doctype': 'Others', 'conf_score': ...          Others   \n",
       "42  {'predicted_doctype': 'Others', 'conf_score': ...          Others   \n",
       "43  {'predicted_doctype': 'Format2', 'conf_score':...         Format2   \n",
       "45  {'predicted_doctype': 'Others', 'conf_score': ...          Others   \n",
       "50  {'predicted_doctype': 'Others', 'conf_score': ...          Others   \n",
       "51  {'predicted_doctype': 'Others', 'conf_score': ...          Others   \n",
       "54  {'predicted_doctype': 'Format1', 'conf_score':...         Format1   \n",
       "55  {'predicted_doctype': 'Others', 'conf_score': ...          Others   \n",
       "56  {'predicted_doctype': 'Others', 'conf_score': ...          Others   \n",
       "57  {'predicted_doctype': 'Packing List', 'conf_sc...    Packing List   \n",
       "58  {'predicted_doctype': 'Format2', 'conf_score':...         Format2   \n",
       "60  {'predicted_doctype': 'Format1', 'conf_score':...         Format1   \n",
       "66  {'predicted_doctype': 'Packing List', 'conf_sc...    Packing List   \n",
       "\n",
       "    predicted_confidence  \n",
       "39              0.559047  \n",
       "41              0.614476  \n",
       "42              0.337297  \n",
       "43              0.484171  \n",
       "45              0.522955  \n",
       "50              0.641806  \n",
       "51              0.550998  \n",
       "54              0.291667  \n",
       "55              0.639734  \n",
       "56              0.547014  \n",
       "57              0.645254  \n",
       "58              0.325989  \n",
       "60              0.404376  \n",
       "66              0.431703  "
      ]
     },
     "execution_count": 28,
     "metadata": {},
     "output_type": "execute_result"
    }
   ],
   "source": [
    "df_low_confidence"
   ]
  },
  {
   "cell_type": "code",
   "execution_count": 29,
   "id": "90206350",
   "metadata": {},
   "outputs": [
    {
     "data": {
      "text/plain": [
       "Others          10\n",
       "Packing List     4\n",
       "Name: 2, dtype: int64"
      ]
     },
     "execution_count": 29,
     "metadata": {},
     "output_type": "execute_result"
    }
   ],
   "source": [
    "df_low_confidence[2].value_counts()"
   ]
  },
  {
   "cell_type": "code",
   "execution_count": 30,
   "id": "9449d8b1",
   "metadata": {},
   "outputs": [],
   "source": [
    "df_format1 = df.loc[df['labels'] == 0]"
   ]
  },
  {
   "cell_type": "code",
   "execution_count": 31,
   "id": "eb9494b1",
   "metadata": {},
   "outputs": [
    {
     "name": "stdout",
     "output_type": "stream",
     "text": [
      "AVG_Conf_score format1 = 0.9747678771307307\n"
     ]
    }
   ],
   "source": [
    "print(\"AVG_Conf_score format1 = {}\".format(sum(df_format1['predicted_confidence'])/len(df_format1['predicted_confidence'])))"
   ]
  },
  {
   "cell_type": "code",
   "execution_count": 32,
   "id": "2ff57252",
   "metadata": {},
   "outputs": [],
   "source": [
    "df_format2 = df.loc[df['labels'] == 1]"
   ]
  },
  {
   "cell_type": "code",
   "execution_count": 33,
   "id": "a78cb69c",
   "metadata": {},
   "outputs": [
    {
     "name": "stdout",
     "output_type": "stream",
     "text": [
      "AVG_Conf_score format2 = 0.9857647865495446\n"
     ]
    }
   ],
   "source": [
    "print(\"AVG_Conf_score format2 = {}\".format(sum(df_format2['predicted_confidence'])/len(df_format2['predicted_confidence'])))"
   ]
  },
  {
   "cell_type": "code",
   "execution_count": 34,
   "id": "a9b0ad23",
   "metadata": {},
   "outputs": [],
   "source": [
    "df_others = df.loc[df['labels'] == 2]"
   ]
  },
  {
   "cell_type": "code",
   "execution_count": 35,
   "id": "1fb6999d",
   "metadata": {},
   "outputs": [
    {
     "name": "stdout",
     "output_type": "stream",
     "text": [
      "AVG_Conf_score Other = 0.6392260371124331\n"
     ]
    }
   ],
   "source": [
    "print(\"AVG_Conf_score Other = {}\".format(sum(df_others['predicted_confidence'])/len(df_others['predicted_confidence'])))"
   ]
  },
  {
   "cell_type": "code",
   "execution_count": 36,
   "id": "3a4d9da7",
   "metadata": {},
   "outputs": [],
   "source": [
    "df_packinglist = df.loc[df['labels'] == 3]"
   ]
  },
  {
   "cell_type": "code",
   "execution_count": 37,
   "id": "40f3159f",
   "metadata": {},
   "outputs": [
    {
     "name": "stdout",
     "output_type": "stream",
     "text": [
      "AVG_Conf_score Packing List = 0.648709402038475\n"
     ]
    }
   ],
   "source": [
    "print(\"AVG_Conf_score Packing List = {}\".format(sum(df_packinglist['predicted_confidence'])/len(df_packinglist['predicted_confidence'])))"
   ]
  },
  {
   "cell_type": "code",
   "execution_count": 39,
   "id": "9784ac33",
   "metadata": {},
   "outputs": [],
   "source": [
    "#df_packinglist"
   ]
  },
  {
   "cell_type": "code",
   "execution_count": null,
   "id": "17624700",
   "metadata": {},
   "outputs": [],
   "source": []
  }
 ],
 "metadata": {
  "kernelspec": {
   "display_name": "Python 3",
   "language": "python",
   "name": "python3"
  },
  "language_info": {
   "codemirror_mode": {
    "name": "ipython",
    "version": 3
   },
   "file_extension": ".py",
   "mimetype": "text/x-python",
   "name": "python",
   "nbconvert_exporter": "python",
   "pygments_lexer": "ipython3",
   "version": "3.8.8"
  }
 },
 "nbformat": 4,
 "nbformat_minor": 5
}
