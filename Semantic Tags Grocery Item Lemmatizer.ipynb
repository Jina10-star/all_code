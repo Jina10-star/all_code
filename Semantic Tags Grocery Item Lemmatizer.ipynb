{
 "cells": [
  {
   "cell_type": "markdown",
   "metadata": {},
   "source": [
    "<span style=\"color:blue\">Thanks for using Drogon for your interactive Spark application. We update Drogon/SparkMagic as often as possible to make it easier, faster and more reliable for you. Have a question or feedback? Ping us on [uChat](https://uchat.uberinternal.com/uber/channels/spark).</span>\n",
    "\n",
    "What's New\n",
    "- Now you can use `%%configure` and `%%spark` magics to configure and start a Spark session (deprecating hard-to-use `%load_ext sparkmagic.magics` and `manage_spark` magics). Check out [this example](https://workbench.uberinternal.com/explore/knowledge/localfile/cwang/sparkmagic_python2_example.ipynb) for more details.\n",
    "- Improved `%%configure` magic. You now can use it to make all Spark and Drogon configurations from within notebook itself. Check out our [latest documentation & examples](https://docs.google.com/document/d/1mkYtDHquh4FjqTeA0Fxii8lyV-P6qzmoABhmmRwm_00/edit#heading=h.xn14pmoorsn0) for more details.\n",
    "- Bug fixes and performance updates.\n"
   ]
  },
  {
   "cell_type": "markdown",
   "metadata": {},
   "source": [
    "# Semantic Tags Grocery Item Lemmatizer\n"
   ]
  },
  {
   "cell_type": "markdown",
   "metadata": {},
   "source": [
    "### Spark Config"
   ]
  },
  {
   "cell_type": "code",
   "execution_count": 1,
   "metadata": {},
   "outputs": [
    {
     "data": {
      "text/html": [
       "Current session configs:\n",
       "<pre>{\n",
       "  \"pyFiles\": [], \n",
       "  \"kind\": \"spark\", \n",
       "  \"proxyUser\": \"radhesh\", \n",
       "  \"sparkEnv\": \"SPARK_24\", \n",
       "  \"driverMemory\": \"8g\", \n",
       "  \"queue\": \"uber_eats_ml\", \n",
       "  \"conf\": {\n",
       "    \"spark.dynamicAllocation.enabled\": \"true\", \n",
       "    \"spark.driver.memory\": \"12g\", \n",
       "    \"spark.dynamicAllocation.maxExecutors\": 200, \n",
       "    \"spark.driver.memoryOverhead\": \"4g\", \n",
       "    \"spark.executor.memoryOverhead\": \"4g\", \n",
       "    \"spark.hadoop.hadoop.security.authentication\": \"simple\", \n",
       "    \"spark.dynamicAllocation.minExecutors\": 100, \n",
       "    \"spark.executor.memory\": \"12g\", \n",
       "    \"spark.dynamicAllocation.initialExecutors\": 100, \n",
       "    \"spark.shuffle.service.enabled\": true, \n",
       "    \"spark.sql.shuffle.partitions\": 500\n",
       "  }, \n",
       "  \"executorCores\": 2, \n",
       "  \"driverCores\": 2, \n",
       "  \"jars\": [\n",
       "    \"/user/radhesh/spark-corenlp-0.4.0-spark2.4-scala2.11.jar\", \n",
       "    \"/user/radhesh/stanford-corenlp-3.9.1-models.jar\"\n",
       "  ], \n",
       "  \"executorMemory\": \"12g\", \n",
       "  \"drogonHeaders\": {\n",
       "    \"X-DROGON-CLUSTER\": \"phx2/secure\"\n",
       "  }\n",
       "}</pre><br>"
      ],
      "text/plain": [
       "<IPython.core.display.HTML object>"
      ]
     },
     "metadata": {},
     "output_type": "display_data"
    }
   ],
   "source": [
    "%%configure \n",
    "{\n",
    "  \"pyFiles\": [],\n",
    "  \"kind\": \"spark\",\n",
    "  \"proxyUser\": \"radhesh\",\n",
    "  \"sparkEnv\": \"SPARK_24\",\n",
    "  \"driverMemory\": \"8g\",\n",
    "  \"queue\": \"uber_eats_ml\",\n",
    "  \"conf\": { \n",
    "      \"spark.dynamicAllocation.enabled\": \"true\",\n",
    "      \"spark.dynamicAllocation.initialExecutors\":100,\n",
    "      \"spark.dynamicAllocation.minExecutors\":100,\n",
    "      \"spark.dynamicAllocation.maxExecutors\" : 200,\n",
    "      \"spark.executor.memory\": \"12g\",\n",
    "      \"spark.executor.memoryOverhead\": \"4g\",\n",
    "      \"spark.driver.memory\": \"12g\",\n",
    "      \"spark.driver.memoryOverhead\" : \"4g\",\n",
    "      \"spark.hadoop.hadoop.security.authentication\": \"simple\",\n",
    "      \"spark.shuffle.service.enabled\" : true,\n",
    "      \"spark.sql.shuffle.partitions\" : 500\n",
    "},\n",
    "  \"executorCores\": 2,\n",
    "  \"driverCores\": 2,\n",
    "  \"executorMemory\": \"12g\",\n",
    "    \"jars\": [\"/user/radhesh/spark-corenlp-0.4.0-spark2.4-scala2.11.jar\",\n",
    "            \"/user/radhesh/stanford-corenlp-3.9.1-models.jar\"],\n",
    "   \"drogonHeaders\": {\n",
    "    \"X-DROGON-CLUSTER\": \"phx2/secure\"\n",
    "  }\n",
    "}"
   ]
  },
  {
   "cell_type": "code",
   "execution_count": 2,
   "metadata": {},
   "outputs": [
    {
     "name": "stdout",
     "output_type": "stream",
     "text": [
      "Starting Spark application (can take 60s or more)...\n",
      "Starting heartbeat thread...done.\n",
      "Waiting for Drogon session to be ready.......................................................................\n",
      "Drogon session is ready.\n"
     ]
    },
    {
     "data": {
      "text/html": [
       "<table>\n",
       "<tr><th>Drogon Session ID</th><th>Spark Application ID</th><th>Kind</th><th>State</th><th>Spark UI</th><th>Driver log</th></tr><tr><td>543380559</td><td>application_1670874807583_3080506</td><td>spark</td><td>idle</td><td><a target=\"_blank\" href=\"https://shs-phx2.uberinternal.com/proxy/application_1670874807583_3080506\">Link</a></td><td><a target=\"_blank\" href=\"https://hadoop-ui.uberinternal.com/gateway/prodsec_phx2/yarn/nodemanager/node/containerlogs/container_e247_1670874807583_3080506_01_000001/radhesh?scheme=http&host=phx3-aay4.prod.uber.internal&port=8042\">Link</a></td></tr></table>"
      ],
      "text/plain": [
       "<IPython.core.display.HTML object>"
      ]
     },
     "metadata": {},
     "output_type": "display_data"
    },
    {
     "name": "stdout",
     "output_type": "stream",
     "text": [
      "SparkSession available as 'spark'.\n",
      "\n",
      "\n",
      "Cell execution took 148 seconds.\n",
      "res1: org.apache.spark.sql.SparkSession = org.apache.spark.sql.SparkSession@222ceb40"
     ]
    }
   ],
   "source": [
    "spark"
   ]
  },
  {
   "cell_type": "code",
   "execution_count": 5,
   "metadata": {},
   "outputs": [
    {
     "name": "stdout",
     "output_type": "stream",
     "text": [
      "input: org.apache.spark.sql.Dataset[org.apache.spark.sql.Row] = [item_name: string, item_uuid: string]"
     ]
    }
   ],
   "source": [
    "var input = spark.sql(\"SELECT * FROM uber_eats.semantic_tag_distinct_grocery_us_uk_canada_item_data WHERE length(item_name) >= 3\").filter(row => !(row.mkString(\"\").isEmpty && row.length>0))"
   ]
  },
  {
   "cell_type": "code",
   "execution_count": 9,
   "metadata": {},
   "outputs": [
    {
     "name": "stdout",
     "output_type": "stream",
     "text": [
      "+----------------------------------------------------------+------------------------------------+\n",
      "|item_name                                                 |item_uuid                           |\n",
      "+----------------------------------------------------------+------------------------------------+\n",
      "|david original salted   roasted sunflower seeds       oz  |c19ed7cc-2bfc-4ecb-84b6-dd0f1ef0deb4|\n",
      "|paul masson v s    ml brandy        abv                   |42f96070-4a84-478b-a36b-151860012ff0|\n",
      "|listerine fresh burst frontend sleeve       ct            |4f814246-fede-475b-abef-a0cc2cb7b758|\n",
      "|western son    ml                                         |ac097dff-8479-4938-b578-69998dde08f3|\n",
      "|beringer chardonnay    l     abv                          |647d7b96-12dc-47ad-8721-04769a2044c8|\n",
      "|export a ashtray one                                      |2c15fa57-a8ad-4b5c-a2c0-66fcd18a81de|\n",
      "|oud hollandsche koffie wafel coffee wafer     oz          |f84a3f76-2476-56a8-a214-adecfd5b6547|\n",
      "|lagunitas ipa      oz bottle single                       |0d97f9ba-afa6-59fb-a525-0f09c2214806|\n",
      "|pama pomegranate liqueur     ml liqueur     abv           |17febcb0-0167-44ff-8f19-e3d0850c252f|\n",
      "|chicharron pork belly arepas                              |5a9b3c0a-8d80-4d5a-aec5-a2f50a7e3264|\n",
      "|founder's original tequila paloma                         |5d56fdab-e292-491e-8ebe-1f2f0e060e7f|\n",
      "|rolls sourdough breakaway goldminer                       |f9475e5a-cef8-511b-8b70-8800edfe6c94|\n",
      "|jim beam honey bourbon whiskey  l       abv               |88bc5788-ed8c-4008-b420-373db1b8b203|\n",
      "|sugar free fiber cookie gullon   oz                       |fbfcb398-ee4e-55cc-abcb-40ae9b605841|\n",
      "|edward gorey   jan wahl cobweb castle                     |ff2f6af9-1b1a-55e4-bff1-4a2ce0d1a341|\n",
      "|probiotic    billion   un                                 |df4eba40-73d5-5924-a278-61cd63390123|\n",
      "|parle hide   seek black bourbon                           |fa3f89c3-809d-47fb-95fd-4e58f78805d7|\n",
      "|il monticello rupestro rosso      ml bottle               |89ab0b03-3199-5ec4-a248-1fbcd1161aae|\n",
      "|pedialyte electrolyte powder strawberry lemonade   packets|2e9a6d85-ee06-4208-b403-53e23ef990c5|\n",
      "|moet imperial                                             |f80ae287-889d-437a-be0b-95ccd64e78a0|\n",
      "|ht bitter leaves   g                                      |85c47abb-c08f-4eed-b2e9-2ab103641f4f|\n",
      "|greenfields crushed chilli   g                            |e67e5fb8-88a4-407e-8e92-9aa3b7b158fd|\n",
      "|dulce vida anejo tequilla                                 |31ef5e1f-df7a-53a9-b711-9b304fc0b8b6|\n",
      "|peeled plum tomatoes                                      |fec877a8-f1f9-5955-bd97-79642fac43ca|\n",
      "|pepperoni armour                                          |9ec79c6c-6819-5db9-800e-297cf1d7e342|\n",
      "|santa carolina  sauvignon blanc   cl                      |6c684401-c30a-4bbf-9849-753bf847c270|\n",
      "|unisoy jerky smoky chipotle                               |a15cf772-a9db-426f-81fa-b6e2052996f9|\n",
      "|free   clear lemon essence                                |fc3b3305-b490-55f5-a134-36988144278b|\n",
      "|campbell's tomato juice    fl oz                          |4b3b2b84-880e-55a5-9011-649c1d9e743a|\n",
      "|minute maid lemonade   limonade                           |1e1506f2-bd36-40cf-847e-c0517767f56d|\n",
      "|fanta soda orange flavor fridge pack cans    oz x    ct   |23e4c6fc-a188-436c-aab7-73eed58e77cd|\n",
      "|slushy medium    ml     oz                                |26bb105b-1ebc-429b-904b-72eb1098682c|\n",
      "|hanging vine cabernet sauvignon         ml red        abv |1930f608-610b-4459-ac0d-d096de6218d1|\n",
      "|butterkist salted   g                                     |f80110bc-bc96-4336-93f3-33c9af4486f5|\n",
      "|haton classic brut champagne     ml                       |f4a80a47-0b48-53c2-812e-a067ba0f3d67|\n",
      "|snickers snickers duo  x    g                             |f90bc60a-5f1b-5907-a069-22c609261b3f|\n",
      "|hobnobs milk chocolate    g                               |12a8e087-000f-4dfe-8816-17e89cb27893|\n",
      "|     colombian organic instant coffee                     |cbbd7948-6516-56bb-baf3-f7bb816b9e19|\n",
      "|ibco king prawns      x   g                               |f7879853-2272-4f64-9057-8f5693626d88|\n",
      "|szhm rice vermicelli     oz                               |50bd689b-411e-477b-b0d0-d902964c55ce|\n",
      "|pudgie bear with heart milk                               |335a83da-9278-4b27-9eb5-4afbea860f81|\n",
      "|organic balsamic vinegar      fl oz                       |95ada804-a649-524f-bae2-1e1cf593424c|\n",
      "|cars   adhesive bandages band aid    ct                   |cc10d966-78ec-5aa0-b319-3878ca603e06|\n",
      "|alphina avena original oatmeal smoothie      fl oz        |d83097d5-2f99-4223-a3f5-74f63464b34a|\n",
      "|pretzel sour cream chive    g                             |da2fd458-23c5-4431-a99e-a92e170161d3|\n",
      "|mung beans seeds                                          |d1790f77-54f5-5e35-a435-f0624cf98302|\n",
      "|whole kernel sweet corn green giant      oz               |f00a7c8c-0287-5d87-927a-96bfbc5d9385|\n",
      "|oxbow hay timothy small animal    oz                      |f49e1eff-bea5-42b2-9338-694515532b1b|\n",
      "|hana fuji apple sake     ml                               |a718164f-302d-567e-936c-f10596465daf|\n",
      "|gluten free   grain hot cereal    oz                      |68697744-68e1-5c78-98e3-eb525ff06b7a|\n",
      "+----------------------------------------------------------+------------------------------------+\n",
      "only showing top 50 rows"
     ]
    }
   ],
   "source": [
    "input.show(50,false)"
   ]
  },
  {
   "cell_type": "code",
   "execution_count": 10,
   "metadata": {},
   "outputs": [
    {
     "name": "stdout",
     "output_type": "stream",
     "text": [
      "res6: Long = 3275251"
     ]
    }
   ],
   "source": [
    "input.count()"
   ]
  },
  {
   "cell_type": "markdown",
   "metadata": {},
   "source": [
    "### Adding Imports"
   ]
  },
  {
   "cell_type": "code",
   "execution_count": 11,
   "metadata": {},
   "outputs": [
    {
     "name": "stdout",
     "output_type": "stream",
     "text": [
      "import com.databricks.spark.corenlp.functions._"
     ]
    }
   ],
   "source": [
    "import org.apache.spark.sql.functions._\n",
    "import com.databricks.spark.corenlp.functions._"
   ]
  },
  {
   "cell_type": "markdown",
   "metadata": {},
   "source": [
    "### Load Stop Words"
   ]
  },
  {
   "cell_type": "code",
   "execution_count": 12,
   "metadata": {},
   "outputs": [
    {
     "name": "stdout",
     "output_type": "stream",
     "text": [
      "stopWordsDf: org.apache.spark.sql.DataFrame = [stop_word: string]"
     ]
    }
   ],
   "source": [
    "var stopWordsDf = spark.sql(\"SELECT DISTINCT stop_word from kirby_external_data.semantic_tag_stop_words_master\")"
   ]
  },
  {
   "cell_type": "code",
   "execution_count": 13,
   "metadata": {},
   "outputs": [
    {
     "name": "stdout",
     "output_type": "stream",
     "text": [
      "res7: Long = 1556"
     ]
    }
   ],
   "source": [
    "stopWordsDf.count()"
   ]
  },
  {
   "cell_type": "code",
   "execution_count": 17,
   "metadata": {},
   "outputs": [
    {
     "name": "stdout",
     "output_type": "stream",
     "text": [
      "+-----------+\n",
      "|stop_word  |\n",
      "+-----------+\n",
      "|ll         |\n",
      "|anywhere   |\n",
      "|himseÓ     |\n",
      "|latenight  |\n",
      "|for        |\n",
      "|gone       |\n",
      "|build      |\n",
      "|gu         |\n",
      "|name       |\n",
      "|see        |\n",
      "|elsewhere  |\n",
      "|him        |\n",
      "|backward   |\n",
      "|il         |\n",
      "|mustnt     |\n",
      "|men        |\n",
      "|regardless |\n",
      "|somehow    |\n",
      "|ten        |\n",
      "|toward     |\n",
      "|theyd      |\n",
      "|highest    |\n",
      "|presents   |\n",
      "|parts      |\n",
      "|slightly   |\n",
      "|itseÓ      |\n",
      "|parting    |\n",
      "|sv         |\n",
      "|soft       |\n",
      "|act        |\n",
      "|uses       |\n",
      "|lunch      |\n",
      "|al         |\n",
      "|except     |\n",
      "|always     |\n",
      "|becoming   |\n",
      "|thatve     |\n",
      "|there're   |\n",
      "|thereto    |\n",
      "|therefore  |\n",
      "|with       |\n",
      "|world      |\n",
      "|younger    |\n",
      "|group      |\n",
      "|speciality |\n",
      "|appropriate|\n",
      "|call       |\n",
      "|mightn     |\n",
      "|ni         |\n",
      "|pk         |\n",
      "+-----------+\n",
      "only showing top 50 rows"
     ]
    }
   ],
   "source": [
    "stopWordsDf.show(50,false)"
   ]
  },
  {
   "cell_type": "code",
   "execution_count": 18,
   "metadata": {},
   "outputs": [
    {
     "name": "stdout",
     "output_type": "stream",
     "text": [
      "stopWords: Array[String] = Array(doesn, thanx, wholl, everyday, highest, presents, parts, slightly, hundred, indicated, items, 7, en, whats, bo, nl, we'd, ye, dishes, doubtful, forward, ad, hows, parted, quickly, states, thought, sub, l, twice, got, needing, extra, eg, herself, mug, ``, find, appreciate, ll, anywhere, box, regarding, al, except, always, becoming, thatve, there're, thereto, combination, entrante, gu, name, see, downs, tn, whys, april, beforehand, causes, not, twenty, i'd, certain, cv, show, 50g, couldn't, mt, sorry, there'd, jp, mv, sec, Wednesday, ain, oz., sensible, 350, ao, must, needn't, much, opposite, ref, di, hasn, make, namely, new, th, ups, cant, hadn, neither, u, what, widely, further, work, hour, omitted, desayuno, wasn, neednt, whichever, eight, fx, resulted,..."
     ]
    }
   ],
   "source": [
    "var stopWords = stopWordsDf.collect.map(row=>row.getString(0)) "
   ]
  },
  {
   "cell_type": "code",
   "execution_count": 19,
   "metadata": {},
   "outputs": [
    {
     "name": "stdout",
     "output_type": "stream",
     "text": [
      "res11: Int = 1556"
     ]
    }
   ],
   "source": [
    "stopWords.length"
   ]
  },
  {
   "cell_type": "code",
   "execution_count": 20,
   "metadata": {},
   "outputs": [
    {
     "name": "stdout",
     "output_type": "stream",
     "text": [
      "finalInput: org.apache.spark.sql.Dataset[org.apache.spark.sql.Row] = [item_name: string, item_uuid: string]"
     ]
    }
   ],
   "source": [
    "val finalInput = input.select(col(\"item_name\"),col(\"item_uuid\")).where(length(regexp_replace($\"item_name\", \" \",\"\")) > 0)"
   ]
  },
  {
   "cell_type": "code",
   "execution_count": 22,
   "metadata": {},
   "outputs": [
    {
     "name": "stdout",
     "output_type": "stream",
     "text": [
      "+-------------------------------------------------------------------------+------------------------------------+\n",
      "|item_name                                                                |item_uuid                           |\n",
      "+-------------------------------------------------------------------------+------------------------------------+\n",
      "|barr d b  l bottle                                                       |5b80d4a6-eac2-467c-8e6d-f2ec8146869f|\n",
      "|beefeater gin   tonic pink strawberry can    ml                          |123e8d82-10da-44c8-a3ec-ad0c90e2968a|\n",
      "|mark west pinot noir  mlx   ml bottle    ml beer     abv                 |b59ac2c0-443e-46bf-b0e8-59873e4ac68e|\n",
      "|o'keeffe's seal n heal lip repair twin pack                              |fdfb585e-649d-583a-8030-5402d9438f34|\n",
      "|splat pure sapphire color   bleach kit                                   |fe9908a2-1ced-54e3-8f12-d8887a9c318e|\n",
      "|skittles crazy sours     g                                               |9a8d7354-e4f1-401d-8c35-a526dc346a4f|\n",
      "|ruffino prosecco      ml                                                 |fa0f5230-5f05-5323-b4a9-4226f4cb5fbb|\n",
      "|palo santo eau de parfum                                                 |7610a8be-83ab-59ec-911f-aef1cc8f3c30|\n",
      "|cafe bustelo instant sweet   creamy coffee with dulce de leche   x     oz|c0651910-b982-5fba-9e22-8e4933a9cca3|\n",
      "|dangcare blood glucose support    tablets                                |cb46bbbd-ca18-4f99-97e6-e56b8667da7b|\n",
      "|yes way rose  france    ml       abv                                     |29e128ea-871c-4ad9-a8f0-47ea22bf80e1|\n",
      "|daimler tub                                                              |94acd743-33e6-4441-af2e-657a2c836179|\n",
      "|oxi powerful clean fresh scent liquid laundry detergent                  |f839b3c1-cb64-5c13-8b39-94618996d534|\n",
      "|hahn gsm    ml                                                           |d488b8ea-290f-41c4-92b6-9e0338b602f1|\n",
      "|belgian white chocolate waffle                                           |db5a8d70-df74-4d09-8ae0-fd917e9c028a|\n",
      "|jagermaster   cl                                                         |d9db4c79-dabf-4207-a1e3-d38f4a4741f6|\n",
      "|uncle rays salt   pepper    g                                            |f83592b1-f5a8-48f0-b32c-ec65cc5ef63e|\n",
      "|pakmaya instant yeast    gr                                              |47275126-c54a-428b-ac35-d115db91a0c4|\n",
      "|frontera carmenere      l bottle                                         |ff9d4e5f-11bc-5754-b817-5b40ed3c69e9|\n",
      "|petraia toscana                                                          |b108b5bf-e5e3-52f2-a46f-b5187f667f03|\n",
      "+-------------------------------------------------------------------------+------------------------------------+\n",
      "only showing top 20 rows"
     ]
    }
   ],
   "source": [
    "finalInput.show(20,false)"
   ]
  },
  {
   "cell_type": "code",
   "execution_count": 23,
   "metadata": {},
   "outputs": [
    {
     "name": "stdout",
     "output_type": "stream",
     "text": [
      "res14: Long = 3274944"
     ]
    }
   ],
   "source": [
    "finalInput.count()"
   ]
  },
  {
   "cell_type": "code",
   "execution_count": 24,
   "metadata": {},
   "outputs": [
    {
     "name": "stdout",
     "output_type": "stream",
     "text": [
      "lemmas: org.apache.spark.sql.DataFrame = [item_name: string, item_uuid: string ... 1 more field]"
     ]
    }
   ],
   "source": [
    "val lemmas = finalInput.withColumn(\"item_lemma\",lemma('item_name))"
   ]
  },
  {
   "cell_type": "code",
   "execution_count": 25,
   "metadata": {},
   "outputs": [
    {
     "name": "stdout",
     "output_type": "stream",
     "text": [
      "res15: Long = 3274944"
     ]
    }
   ],
   "source": [
    "lemmas.count()"
   ]
  },
  {
   "cell_type": "code",
   "execution_count": 26,
   "metadata": {},
   "outputs": [
    {
     "name": "stdout",
     "output_type": "stream",
     "text": [
      "+--------------------+--------------------+--------------------+\n",
      "|           item_name|           item_uuid|          item_lemma|\n",
      "+--------------------+--------------------+--------------------+\n",
      "|nestle milky bar ...|84a4ff81-a98e-59e...|[nestle, milky, b...|\n",
      "|new amsterdam glu...|3e77b369-98f3-4e1...|[new, amsterdam, ...|\n",
      "|e e ground almond...|c1c26196-1f08-41c...|[e, e, ground, al...|\n",
      "|uncle rays ripple...|27690021-40fe-49d...|[uncle, ray, ripp...|\n",
      "|snapple spiked wa...|a4ee393a-384d-4bc...|[snapple, spike, ...|\n",
      "|missha   all arou...|2be2ff9e-8aeb-4de...|[missha, all, aro...|\n",
      "|saint laurent luc...|865d1df3-b56b-5ec...|[saint, laurent, ...|\n",
      "|marquis de bel ai...|e1984657-88f2-52d...|[marquis, de, bel...|\n",
      "|smoking loon pino...|d7888af5-15de-402...|[smoking, loon, p...|\n",
      "|pesquera reserva ...|74e128e0-0528-562...|[pesquera, reserv...|\n",
      "|cherryade   litre...|1075b4a0-5f5e-4b6...|[cherryade, litre...|\n",
      "|e x tra s mint gu...|dabdf025-a2e8-4a6...|[e, x, tra, be, m...|\n",
      "|golden state cide...|9599bc63-a7e3-424...|[golden, state, c...|\n",
      "|nabisco ritz sand...|6381a86d-5b7a-5b1...|[nabisco, ritz, s...|\n",
      "|lights by tena lo...|ede60239-7db5-51d...|[light, by, tena,...|\n",
      "|nut clusters pean...|d8708458-b244-58c...|[nut, cluster, pe...|\n",
      "|beef cheek sous vide|2a1e061b-88ff-5e7...|[beef, cheek, sou...|\n",
      "|          paxo    gm|1497f1fb-c221-4f0...|          [paxo, gm]|\n",
      "|koma candle stand...|9024c128-e62e-588...|[koma, candle, st...|\n",
      "|hostess twinkies ...|b1b236c6-f1be-44c...|[hostess, twinky,...|\n",
      "+--------------------+--------------------+--------------------+\n",
      "only showing top 20 rows"
     ]
    }
   ],
   "source": [
    "lemmas.show()"
   ]
  },
  {
   "cell_type": "markdown",
   "metadata": {},
   "source": [
    "## Load pattern for regex "
   ]
  },
  {
   "cell_type": "code",
   "execution_count": 27,
   "metadata": {},
   "outputs": [
    {
     "name": "stdout",
     "output_type": "stream",
     "text": [
      "patternString: String = ^\\d+[A-Za-z]{1,2}$|^\\d+pcs$|^\\d+pc$|^\\d+g$|^\\d+gm$|^\\d+ml$|^\\d+kg$|^\\d+oz$|^\\d+oz.$|^\\d+mg$|^\\d+lb$|^d+”$|^\\d+’$|^\\d+cm$|^\\d+gms$|^\\d+pk$|^\\d+mm$|^\\d+lt$|"
     ]
    }
   ],
   "source": [
    "var patternString =\n",
    "        \"^\\\\d+[A-Za-z]{1,2}$|^\\\\d+pcs$|^\\\\d+pc$|^\\\\d+g$|^\\\\d+gm$|^\\\\d+ml$|^\\\\d+kg$|^\\\\d+oz$|^\\\\d+oz.$|^\\\\d+mg$|^\\\\d+lb$|^d+”$|^\\\\d+’$|^\\\\d+cm$|^\\\\d+gms$|^\\\\d+pk$|^\\\\d+mm$|^\\\\d+lt$|\";\n",
    "    \n",
    "   "
   ]
  },
  {
   "cell_type": "code",
   "execution_count": 28,
   "metadata": {},
   "outputs": [],
   "source": [
    "patternString +=\"^\\\\d+g.$|^\\\\d+gm.$|^\\\\d+ml.$|^\\\\d+kg.$|^\\\\d+mg.$|^\\\\d+lb.$|^d+”.$|^\\\\d+’.$|^\\\\d+cm.$|^\\\\d+gms.$|^\\\\d+pk.$|^\\\\d+mm.$|^\\\\d+lt.$|^\\\\d+$|^\\\\d*\\\\.?\\\\d$|\";"
   ]
  },
  {
   "cell_type": "code",
   "execution_count": 29,
   "metadata": {},
   "outputs": [],
   "source": [
    " patternString += \"^\\\\d+cl$|^\\\\d+am|^\\\\d+pm|^[0-2][0-3]:[0-5][0-9]$\";"
   ]
  },
  {
   "cell_type": "code",
   "execution_count": 30,
   "metadata": {},
   "outputs": [
    {
     "name": "stdout",
     "output_type": "stream",
     "text": [
      "res19: String = ^\\d+[A-Za-z]{1,2}$|^\\d+pcs$|^\\d+pc$|^\\d+g$|^\\d+gm$|^\\d+ml$|^\\d+kg$|^\\d+oz$|^\\d+oz.$|^\\d+mg$|^\\d+lb$|^d+”$|^\\d+’$|^\\d+cm$|^\\d+gms$|^\\d+pk$|^\\d+mm$|^\\d+lt$|^\\d+g.$|^\\d+gm.$|^\\d+ml.$|^\\d+kg.$|^\\d+mg.$|^\\d+lb.$|^d+”.$|^\\d+’.$|^\\d+cm.$|^\\d+gms.$|^\\d+pk.$|^\\d+mm.$|^\\d+lt.$|^\\d+$|^\\d*\\.?\\d$|^\\d+cl$|^\\d+am|^\\d+pm|^[0-2][0-3]:[0-5][0-9]$"
     ]
    }
   ],
   "source": [
    "patternString"
   ]
  },
  {
   "cell_type": "code",
   "execution_count": 31,
   "metadata": {},
   "outputs": [
    {
     "name": "stdout",
     "output_type": "stream",
     "text": [
      "import org.apache.spark.ml.feature.StopWordsRemover"
     ]
    }
   ],
   "source": [
    "import org.apache.spark.ml.feature.StopWordsRemover"
   ]
  },
  {
   "cell_type": "markdown",
   "metadata": {},
   "source": [
    "### Remove StopWords"
   ]
  },
  {
   "cell_type": "code",
   "execution_count": 32,
   "metadata": {},
   "outputs": [
    {
     "name": "stdout",
     "output_type": "stream",
     "text": [
      "remover: org.apache.spark.ml.feature.StopWordsRemover = stopWords_f348afd27aa3"
     ]
    }
   ],
   "source": [
    "val remover = new StopWordsRemover().setStopWords(stopWords).setInputCol(\"item_lemma\").setOutputCol(\"test\")"
   ]
  },
  {
   "cell_type": "code",
   "execution_count": 33,
   "metadata": {},
   "outputs": [
    {
     "name": "stdout",
     "output_type": "stream",
     "text": [
      "df: org.apache.spark.sql.DataFrame = [item_name: string, item_uuid: string ... 2 more fields]"
     ]
    }
   ],
   "source": [
    "var df = remover.transform(lemmas)"
   ]
  },
  {
   "cell_type": "code",
   "execution_count": 34,
   "metadata": {},
   "outputs": [
    {
     "name": "stdout",
     "output_type": "stream",
     "text": [
      "res20: Long = 3274944"
     ]
    }
   ],
   "source": [
    "df.count()"
   ]
  },
  {
   "cell_type": "code",
   "execution_count": 35,
   "metadata": {},
   "outputs": [
    {
     "name": "stdout",
     "output_type": "stream",
     "text": [
      "+--------------------+--------------------+--------------------+--------------------+\n",
      "|           item_name|           item_uuid|          item_lemma|                test|\n",
      "+--------------------+--------------------+--------------------+--------------------+\n",
      "|del monte whole k...|ffe2fd56-18fc-5a4...|[del, monte, whol...|[del, monte, kern...|\n",
      "| american salad   oz|aea4c508-af74-552...|[american, salad,...|   [american, salad]|\n",
      "|      frita sandwich|d4924c59-4870-42f...|   [frita, sandwich]|   [frita, sandwich]|\n",
      "|scooby doo  honey...|c47a3569-9aa1-556...|[scooby, doo, hon...|[scooby, doo, hon...|\n",
      "|        white candle|fe8be5ea-8130-568...|     [white, candle]|     [white, candle]|\n",
      "|perla miodowa  x ...|e148d2df-ce1d-49b...|[perla, miodowa, ...|    [perla, miodowa]|\n",
      "|karma water  rasp...|349ea704-011d-4b0...|[karma, water, ra...|[karma, water, ra...|\n",
      "|mr goodbar chocol...|f913223a-cb95-507...|[mr, goodbar, cho...|[goodbar, chocola...|\n",
      "|caribbean style t...|e7c3a794-9d17-577...|[caribbean, style...|[caribbean, tuna,...|\n",
      "|       mr  forrester|cec90a91-e849-497...|     [mr, forrester]|         [forrester]|\n",
      "|carmex cherry lip...|78413bcc-76fa-479...|[carmex, cherry, ...|[carmex, cherry, ...|\n",
      "|buchanan's   yr s...|c9b07095-718d-456...|[buchanan, 's, yr...|[buchanan, 's, yr...|\n",
      "|fish hawk absinth...|9217f8c7-9d76-5ed...|[fish, hawk, absi...|[fish, hawk, absi...|\n",
      "|napolina five bea...|fb84251e-7f01-4b9...|[napolina, five, ...|[napolina, bean, ...|\n",
      "|charritos flaming...|02745b14-6f1a-4af...|[charrito, flame,...|[charrito, flame,...|\n",
      "|organic kale casc...|df1d6aba-4484-579...|[organic, kale, c...|[organic, kale, c...|\n",
      "|original ranch sa...|ff37ecb8-3074-501...|[original, ranch,...|[original, ranch,...|\n",
      "|jolly rancher gum...|ebbe4349-4d09-4b4...|[jolly, rancher, ...|[jolly, rancher, ...|\n",
      "|boto box breeze r...|1b84b7e5-a112-542...|[boto, box, breez...|[boto, breeze, re...|\n",
      "|spis original    ...|87515af3-8c5a-4d1...|[spis, original, ...|[spis, original, ...|\n",
      "+--------------------+--------------------+--------------------+--------------------+\n",
      "only showing top 20 rows"
     ]
    }
   ],
   "source": [
    "df.show()"
   ]
  },
  {
   "cell_type": "markdown",
   "metadata": {},
   "source": [
    "### Remove Lemmas with bad Regex Patterns"
   ]
  },
  {
   "cell_type": "code",
   "execution_count": 36,
   "metadata": {},
   "outputs": [
    {
     "name": "stdout",
     "output_type": "stream",
     "text": [
      "removeRegex: org.apache.spark.sql.expressions.UserDefinedFunction = UserDefinedFunction(<function1>,ArrayType(StringType,true),Some(List(ArrayType(StringType,true))))"
     ]
    }
   ],
   "source": [
    "import org.apache.spark.sql.functions.udf\n",
    "import java.util.regex.Pattern\n",
    "val pattern = Pattern.compile(patternString)\n",
    "val removeRegex = udf {\n",
    "  (array: Seq[String]) =>\n",
    "    \n",
    "    val cleanArray = array.filter((text) => ( text.length >= 3 && !pattern.matcher(text).find()) )\n",
    "    cleanArray\n",
    "};"
   ]
  },
  {
   "cell_type": "code",
   "execution_count": 37,
   "metadata": {},
   "outputs": [
    {
     "name": "stdout",
     "output_type": "stream",
     "text": [
      "regexdf: org.apache.spark.sql.DataFrame = [item_name: string, item_uuid: string ... 3 more fields]"
     ]
    }
   ],
   "source": [
    "var regexdf = df.withColumn(\"removeregex\",removeRegex(df.col(\"test\")))"
   ]
  },
  {
   "cell_type": "code",
   "execution_count": 38,
   "metadata": {},
   "outputs": [
    {
     "name": "stdout",
     "output_type": "stream",
     "text": [
      "+-------------------------------------------------------------------------+------------------------------------+-------------------------------------------------------------------------------+-------------------------------------------------------------------------------+-------------------------------------------------------------------------------+\n",
      "|item_name                                                                |item_uuid                           |item_lemma                                                                     |test                                                                           |removeregex                                                                    |\n",
      "+-------------------------------------------------------------------------+------------------------------------+-------------------------------------------------------------------------------+-------------------------------------------------------------------------------+-------------------------------------------------------------------------------+\n",
      "|flipz stuff'd white fudge peanut butter filled pretzels                  |1d7c7099-369a-5781-a2d0-0d88e360a3ac|[flipz, stuff, would, white, fudge, peanut, butter, fill, pretzel]             |[flipz, stuff, white, fudge, peanut, butter, pretzel]                          |[flipz, stuff, white, fudge, peanut, butter, pretzel]                          |\n",
      "|miller genuine draft   pk   oz can                                       |67290ce2-95e3-4721-8442-245fb1b582a7|[miller, genuine, draft, pk, oz, can]                                          |[miller, genuine, draft]                                                       |[miller, genuine, draft]                                                       |\n",
      "|fromm family gold large breed puppy dry dog food    lb                   |f9fe46d4-1d46-4d76-a67b-56a031cce601|[fromm, family, gold, large, breed, puppy, dry, dog, food, lb]                 |[fromm, gold, breed, puppy, dry, dog]                                          |[fromm, gold, breed, puppy, dry, dog]                                          |\n",
      "|nestle milk chocolate raisinets individually wrapped bulk halloween candy|b5a697e2-4ff2-5925-8f71-243697cac372|[nestle, milk, chocolate, raisinet, individually, wrap, bulk, halloween, candy]|[nestle, milk, chocolate, raisinet, individually, wrap, bulk, halloween, candy]|[nestle, milk, chocolate, raisinet, individually, wrap, bulk, halloween, candy]|\n",
      "|haagen daaz cookie and cream                                             |b6afe8d3-87db-427b-9889-67350bee5fc5|[haagen, daaz, cookie, and, cream]                                             |[haagen, daaz, cookie, cream]                                                  |[haagen, daaz, cookie, cream]                                                  |\n",
      "|goza blanco tequila    ml bottle                                         |97d79f43-808b-4149-928d-ad863dfc4ddf|[goza, blanco, tequila, ml, bottle]                                            |[goza, blanco, tequila, bottle]                                                |[goza, blanco, tequila, bottle]                                                |\n",
      "|potato sandwich buns   ct                                                |e3a29ad4-63e3-565c-86ad-f3ef6e8ff69e|[potato, sandwich, bun, ct]                                                    |[potato, sandwich, bun]                                                        |[potato, sandwich, bun]                                                        |\n",
      "|organic brown eggs   pack of       g                                     |b91e4d05-f98e-4ade-a3cc-c645678b42a0|[organic, brown, egg, pack, of, g]                                             |[organic, brown, egg]                                                          |[organic, brown, egg]                                                          |\n",
      "|vitacore glutacore                                                       |28b25671-6908-50ad-b1a3-503ac73435d0|[vitacore, glutacore]                                                          |[vitacore, glutacore]                                                          |[vitacore, glutacore]                                                          |\n",
      "|friskies pate turkey giblets dinner     gm                               |8a402b14-2ca9-4766-9d51-a7c00f9d992f|[frisky, pate, turkey, giblets, dinner, gm]                                    |[frisky, pate, turkey, giblets]                                                |[frisky, pate, turkey, giblets]                                                |\n",
      "+-------------------------------------------------------------------------+------------------------------------+-------------------------------------------------------------------------------+-------------------------------------------------------------------------------+-------------------------------------------------------------------------------+\n",
      "only showing top 10 rows"
     ]
    }
   ],
   "source": [
    "regexdf.show(10,false)"
   ]
  },
  {
   "cell_type": "code",
   "execution_count": 39,
   "metadata": {},
   "outputs": [
    {
     "name": "stdout",
     "output_type": "stream",
     "text": [
      "res23: Long = 3274944"
     ]
    }
   ],
   "source": [
    "regexdf.count()"
   ]
  },
  {
   "cell_type": "code",
   "execution_count": 40,
   "metadata": {},
   "outputs": [
    {
     "name": "stdout",
     "output_type": "stream",
     "text": [
      "outputDf: org.apache.spark.sql.DataFrame = [item_name: string, item_uuid: string ... 4 more fields]"
     ]
    }
   ],
   "source": [
    "val outputDf = regexdf.withColumn(\"final_item_name\",concat_ws(\" \", $\"removeregex\"))"
   ]
  },
  {
   "cell_type": "code",
   "execution_count": 41,
   "metadata": {},
   "outputs": [
    {
     "name": "stdout",
     "output_type": "stream",
     "text": [
      "res24: Long = 3274944"
     ]
    }
   ],
   "source": [
    "outputDf.count()"
   ]
  },
  {
   "cell_type": "code",
   "execution_count": 42,
   "metadata": {},
   "outputs": [
    {
     "name": "stdout",
     "output_type": "stream",
     "text": [
      "+--------------------+--------------------+--------------------+--------------------+--------------------+--------------------+\n",
      "|           item_name|           item_uuid|          item_lemma|                test|         removeregex|     final_item_name|\n",
      "+--------------------+--------------------+--------------------+--------------------+--------------------+--------------------+\n",
      "|nestle milky bar ...|84a4ff81-a98e-59e...|[nestle, milky, b...|[nestle, milky, c...|[nestle, milky, c...|  nestle milky count|\n",
      "|new amsterdam glu...|3e77b369-98f3-4e1...|[new, amsterdam, ...|[amsterdam, glute...|[amsterdam, glute...|amsterdam gluten ...|\n",
      "|e e ground almond...|c1c26196-1f08-41c...|[e, e, ground, al...|    [ground, almond]|    [ground, almond]|       ground almond|\n",
      "|uncle rays ripple...|27690021-40fe-49d...|[uncle, ray, ripp...|[uncle, ray, ripple]|[uncle, ray, ripple]|    uncle ray ripple|\n",
      "|snapple spiked wa...|a4ee393a-384d-4bc...|[snapple, spike, ...|[snapple, spike, ...|[snapple, spike, ...|snapple spike wat...|\n",
      "|missha   all arou...|2be2ff9e-8aeb-4de...|[missha, all, aro...|[missha, safe, bl...|[missha, safe, bl...|missha safe block...|\n",
      "|saint laurent luc...|865d1df3-b56b-5ec...|[saint, laurent, ...|[saint, laurent, ...|[saint, laurent, ...|saint laurent luc...|\n",
      "|marquis de bel ai...|e1984657-88f2-52d...|[marquis, de, bel...|[marquis, bel, ai...|[marquis, bel, ai...|marquis bel air m...|\n",
      "|smoking loon pino...|d7888af5-15de-402...|[smoking, loon, p...|[smoking, loon, p...|[smoking, loon, p...|smoking loon pino...|\n",
      "|pesquera reserva ...|74e128e0-0528-562...|[pesquera, reserv...|[pesquera, reserv...|[pesquera, reserv...|pesquera reserva ...|\n",
      "|cherryade   litre...|1075b4a0-5f5e-4b6...|[cherryade, litre...|[cherryade, litre...|[cherryade, litre...|cherryade litre d...|\n",
      "|e x tra s mint gu...|dabdf025-a2e8-4a6...|[e, x, tra, be, m...|[tra, mint, gum, ...|[tra, mint, gum, ...|  tra mint gum bttle|\n",
      "|golden state cide...|9599bc63-a7e3-424...|[golden, state, c...|[golden, cider, b...|[golden, cider, b...|golden cider brut...|\n",
      "|nabisco ritz sand...|6381a86d-5b7a-5b1...|[nabisco, ritz, s...|[nabisco, ritz, s...|[nabisco, ritz, s...|nabisco ritz sand...|\n",
      "|lights by tena lo...|ede60239-7db5-51d...|[light, by, tena,...|[light, tena, lin...|[light, tena, lin...|light tena liner duo|\n",
      "|nut clusters pean...|d8708458-b244-58c...|[nut, cluster, pe...|[nut, cluster, pe...|[nut, cluster, pe...|nut cluster peanu...|\n",
      "|beef cheek sous vide|2a1e061b-88ff-5e7...|[beef, cheek, sou...|[beef, cheek, sou...|[beef, cheek, sou...|beef cheek sous vide|\n",
      "|          paxo    gm|1497f1fb-c221-4f0...|          [paxo, gm]|              [paxo]|              [paxo]|                paxo|\n",
      "|koma candle stand...|9024c128-e62e-588...|[koma, candle, st...|[koma, candle, st...|[koma, candle, st...|   koma candle stand|\n",
      "|hostess twinkies ...|b1b236c6-f1be-44c...|[hostess, twinky,...|[hostess, twinky,...|[hostess, twinky,...|hostess twinky mi...|\n",
      "+--------------------+--------------------+--------------------+--------------------+--------------------+--------------------+\n",
      "only showing top 20 rows"
     ]
    }
   ],
   "source": [
    "outputDf.show()"
   ]
  },
  {
   "cell_type": "code",
   "execution_count": 49,
   "metadata": {},
   "outputs": [
    {
     "name": "stdout",
     "output_type": "stream",
     "text": [
      "finalDf: org.apache.spark.sql.Dataset[org.apache.spark.sql.Row] = [item_uuid: string, item_name: string ... 1 more field]"
     ]
    }
   ],
   "source": [
    "val finalDf = outputDf.select(col(\"item_uuid\"),col(\"item_name\"),col(\"final_item_name\")).where(length(regexp_replace($\"final_item_name\", \" \",\"\")) > 0)"
   ]
  },
  {
   "cell_type": "code",
   "execution_count": 51,
   "metadata": {},
   "outputs": [
    {
     "name": "stdout",
     "output_type": "stream",
     "text": [
      "+--------------------+--------------------+--------------------+\n",
      "|           item_uuid|           item_name|     final_item_name|\n",
      "+--------------------+--------------------+--------------------+\n",
      "|fefdfc33-c660-553...|hallmark jingle c...|hallmark jingle c...|\n",
      "|fff2c653-2ccc-59f...|luc belaire luxe ...|luc belaire luxe ...|\n",
      "|6d99aabe-977a-498...|    fruit tella    g|         fruit tella|\n",
      "|ba1c142d-a6ef-486...|       sanmiguel can|           sanmiguel|\n",
      "|d54ac12e-bc57-4f2...|the kurayoshi mal...|kurayoshi malt wh...|\n",
      "|e042d686-dd06-43d...|ka still black gr...|  black grape carton|\n",
      "|fdbe99de-2637-528...|broccoli   fontin...|broccoli fontina ...|\n",
      "|f3aeb4f9-2a3f-401...|r whites lemonade...|     whites lemonade|\n",
      "|8658668e-a8d2-47e...|starburst origina...|starburst origina...|\n",
      "|611c6c16-ac70-4b5...|itoen unsweetened...|itoen unsweetened...|\n",
      "|a32fca77-8f74-4e6...|wellness complete...|wellness complete...|\n",
      "|fb90acaf-57de-5a3...|cuvee numero     ...| cuvee numero bottle|\n",
      "|1579107b-61c2-4b4...|louis jadot beauj...|loui jadot beaujo...|\n",
      "|40b85e8b-988f-4fc...|rennie gsl pepper...|rennie gsl pepper...|\n",
      "|d67b12ef-fa10-5a5...|natural hair cond...|natural hair cond...|\n",
      "|75f48a31-cc0d-5bf...|    camo glove large|          camo glove|\n",
      "|cb66dc29-a632-4b8...|johnnie walker do...|johnnie walker do...|\n",
      "|9818ea21-6514-4f3...|yellow tail pinot...|yellow tail pinot...|\n",
      "|1e9acd75-dd9c-445...|bookers   white b...|booker white bagu...|\n",
      "|1e64ff26-7cab-533...|jakers beef tarta...|jaker beef tartar...|\n",
      "+--------------------+--------------------+--------------------+\n",
      "only showing top 20 rows"
     ]
    }
   ],
   "source": [
    "finalDf.show()"
   ]
  },
  {
   "cell_type": "code",
   "execution_count": 53,
   "metadata": {},
   "outputs": [
    {
     "name": "stdout",
     "output_type": "stream",
     "text": [
      "res32: Long = 3269353"
     ]
    }
   ],
   "source": [
    "finalDf.count()"
   ]
  },
  {
   "cell_type": "code",
   "execution_count": null,
   "metadata": {},
   "outputs": [],
   "source": []
  }
 ],
 "metadata": {
  "kernelspec": {
   "display_name": "07. SparkMagic (Remote Scala)",
   "language": "",
   "name": "sparkkernel"
  },
  "language_info": {
   "codemirror_mode": "text/x-scala",
   "mimetype": "text/x-scala",
   "name": "scala",
   "pygments_lexer": "scala"
  }
 },
 "nbformat": 4,
 "nbformat_minor": 2
}
