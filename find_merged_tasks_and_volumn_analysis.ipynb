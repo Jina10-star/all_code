{
 "cells": [
  {
   "cell_type": "code",
   "execution_count": 1,
   "metadata": {
    "collapsed": false
   },
   "outputs": [
    {
     "name": "stderr",
     "output_type": "stream",
     "text": [
      "/home/udocker/phoenix-worker/environments/python2/lib/python2.7/site-packages/ipykernel/__main__.py:6: DeprecationWarning: the sets module is deprecated\n"
     ]
    }
   ],
   "source": [
    "from __future__ import unicode_literals\n",
    "import requests\n",
    "import json\n",
    "import csv\n",
    "import matplotlib.pyplot as plt\n",
    "from sets import Set\n",
    "import numpy as np\n",
    "import cPickle"
   ]
  },
  {
   "cell_type": "markdown",
   "metadata": {},
   "source": [
    "https://www.lucidchart.com/documents/edit/b0ad9829-64fb-4411-940d-8faa76d63a48/0"
   ]
  },
  {
   "cell_type": "code",
   "execution_count": 2,
   "metadata": {
    "collapsed": false
   },
   "outputs": [],
   "source": [
    "def phid_to_taskid(phid):\n",
    "    data = [\n",
    "          ('api.token', 'cli-XXX'),\n",
    "          ('phids[0]', phid),\n",
    "        ]\n",
    "    response = requests.post('https://code.uberinternal.com/api/phid.query', data=data)\n",
    "    jresponse = json.loads(response.text)\n",
    "    return jresponse['result'][phid]['name']"
   ]
  },
  {
   "cell_type": "code",
   "execution_count": 3,
   "metadata": {
    "collapsed": true
   },
   "outputs": [],
   "source": [
    "def phid_to_duplicate(phid):\n",
    "    data = [\n",
    "          ('sourcePHIDs[0]', phid),\n",
    "          ('types[0]', \"task.merged-in\"),\n",
    "          ('types[1]', \"task.duplicate\"),\n",
    "          ('api.token', 'cli-XXX')\n",
    "        ]\n",
    "    response = requests.post('https://code.uberinternal.com/api/edge.search', data=data)\n",
    "    jresponse = json.loads(response.text)\n",
    "    return jresponse['result']['data']"
   ]
  },
  {
   "cell_type": "code",
   "execution_count": 4,
   "metadata": {
    "collapsed": false
   },
   "outputs": [],
   "source": [
    "def taskid_to_phid(taskid):\n",
    "    data = [\n",
    "          ('api.token', 'cli-XXX'),\n",
    "          ('task_id', taskid),\n",
    "        ]\n",
    "    response = requests.post('https://code.uberinternal.com/api/maniphest.info', data=data)\n",
    "    jresponse = json.loads(response.text)\n",
    "    return jresponse['result']['phid']"
   ]
  },
  {
   "cell_type": "code",
   "execution_count": 5,
   "metadata": {
    "collapsed": true
   },
   "outputs": [],
   "source": [
    "def taskid_to_content(taskid):\n",
    "    data = [\n",
    "          ('api.token', 'cli-XXX'),\n",
    "          ('task_id', taskid),\n",
    "        ]\n",
    "    response = requests.post('https://code.uberinternal.com/api/maniphest.info', data=data)\n",
    "    jresponse = json.loads(response.text)\n",
    "    return jresponse"
   ]
  },
  {
   "cell_type": "code",
   "execution_count": 6,
   "metadata": {
    "collapsed": true
   },
   "outputs": [],
   "source": [
    "def convert_to_taskid_in_duplicate(duplicate):\n",
    "    dup = []\n",
    "    for d in duplicate: \n",
    "        destinationTaskID = phid_to_taskid(d['destinationPHID'])\n",
    "        dup.append(str(destinationTaskID[1:]))\n",
    "    return dup"
   ]
  },
  {
   "cell_type": "code",
   "execution_count": 7,
   "metadata": {
    "collapsed": true
   },
   "outputs": [],
   "source": [
    "def taskid_to_issnap(taskid):\n",
    "    datat = [\n",
    "              ('api.token', 'cli-XXX'),\n",
    "              ('task_id', taskid),\n",
    "            ]\n",
    "    response = requests.post('https://code.uberinternal.com/api/maniphest.info', data=datat)\n",
    "    jresponse = json.loads(response.text)\n",
    "    return 'snaptask' in jresponse['result']['description']"
   ]
  },
  {
   "cell_type": "markdown",
   "metadata": {},
   "source": [
    "---"
   ]
  },
  {
   "cell_type": "markdown",
   "metadata": {},
   "source": [
    "## test util functions"
   ]
  },
  {
   "cell_type": "code",
   "execution_count": 8,
   "metadata": {
    "collapsed": false,
    "scrolled": false
   },
   "outputs": [],
   "source": [
    "content = taskid_to_content('1307739')"
   ]
  },
  {
   "cell_type": "code",
   "execution_count": 8,
   "metadata": {
    "collapsed": false
   },
   "outputs": [],
   "source": [
    "def parse_description(content):\n",
    "    desc = content['result']['description']\n",
    "    d = desc.split('\\n')\n",
    "    app_info = {}\n",
    "    for i in d:\n",
    "        if 'App Name:' in i:\n",
    "            app_info['App Name'] =  i.split(':')[1].strip()\n",
    "        if 'Version:' in i:\n",
    "            app_info['Version'] =  i.split(':')[1].strip()\n",
    "        if 'OS Version:' in i:\n",
    "            app_info['OS Version'] =  i.split(':')[1].strip()\n",
    "        if 'City:' in i:\n",
    "            app_info['City'] =  i.split(':')[1].strip()\n",
    "        if 'Locale:' in i:\n",
    "            app_info['Locale'] =  i.split(':')[1].strip()\n",
    "        if 'Device:' in i:\n",
    "            app_info['Device'] =  i.split(':')[1].strip()\n",
    "        if 'Vehicle:' in i:\n",
    "            app_info['Vehicle'] =  i.split(':')[1].strip()\n",
    "        if 'User Id:' in i:\n",
    "            app_info['User Id'] =  i.split(':')[1].strip()\n",
    "    return app_info"
   ]
  },
  {
   "cell_type": "code",
   "execution_count": null,
   "metadata": {
    "collapsed": true
   },
   "outputs": [],
   "source": [
    "duplicate = phid_to_duplicate(phid)\n",
    "duplicate"
   ]
  },
  {
   "cell_type": "code",
   "execution_count": null,
   "metadata": {
    "collapsed": true
   },
   "outputs": [],
   "source": [
    "dup = convert_to_taskid_in_duplicate(duplicate)\n",
    "dup"
   ]
  },
  {
   "cell_type": "code",
   "execution_count": null,
   "metadata": {
    "collapsed": false
   },
   "outputs": [],
   "source": [
    "phid_to_taskid(phid)"
   ]
  },
  {
   "cell_type": "code",
   "execution_count": null,
   "metadata": {
    "collapsed": false
   },
   "outputs": [],
   "source": [
    "a = Set([Set([u'1496005', u'1496217']),\n",
    " Set([u'1667117', u'1253979'])])"
   ]
  },
  {
   "cell_type": "code",
   "execution_count": null,
   "metadata": {
    "collapsed": false
   },
   "outputs": [],
   "source": [
    "len(a)"
   ]
  },
  {
   "cell_type": "code",
   "execution_count": null,
   "metadata": {
    "collapsed": true
   },
   "outputs": [],
   "source": [
    "b = Set([Set([u'1496005', u'1496217']),\n",
    " Set([u'1496217', u'1496005'])])"
   ]
  },
  {
   "cell_type": "code",
   "execution_count": null,
   "metadata": {
    "collapsed": false
   },
   "outputs": [],
   "source": [
    "len(b)"
   ]
  },
  {
   "cell_type": "markdown",
   "metadata": {},
   "source": [
    "---"
   ]
  },
  {
   "cell_type": "markdown",
   "metadata": {},
   "source": [
    "## find the merged tasks"
   ]
  },
  {
   "cell_type": "code",
   "execution_count": 10,
   "metadata": {
    "collapsed": false
   },
   "outputs": [
    {
     "name": "stdout",
     "output_type": "stream",
     "text": [
      "{'1807737': []}\n",
      "{'1807657': [], '1807737': []}\n",
      "{'1807623': [], '1807657': [], '1807737': []}\n",
      "{'1807623': [], '1807657': [], '1807575': [], '1807737': []}\n",
      "{'1807623': [], '1807657': [], '1807797': [], '1807575': [], '1807737': []}\n",
      "{'1807623': [], '1807657': [], '1807653': [], '1807575': [], '1807797': [], '1807737': []}\n"
     ]
    }
   ],
   "source": [
    "dup_dict ={}\n",
    "ct = 0\n",
    "with open(\"taskid_list_6-7-2018.txt\") as f:\n",
    "    for line in f:\n",
    "        ct = ct + 1\n",
    "        taskid = line[1:-2]\n",
    "        #print taskid\n",
    "        phid = taskid_to_phid(taskid)\n",
    "        #print phid\n",
    "        duplicate = phid_to_duplicate(phid)\n",
    "        duplicate = convert_to_taskid_in_duplicate(duplicate)\n",
    "        dup_dict[taskid] = duplicate\n",
    "        print dup_dict\n",
    "        if ct>5:\n",
    "            break"
   ]
  },
  {
   "cell_type": "code",
   "execution_count": 24,
   "metadata": {
    "collapsed": false
   },
   "outputs": [],
   "source": [
    "phid = taskid_to_phid('1858711')"
   ]
  },
  {
   "cell_type": "code",
   "execution_count": 25,
   "metadata": {
    "collapsed": false
   },
   "outputs": [
    {
     "data": {
      "text/plain": [
       "u'PHID-TASK-6orhcz7hvpctibl2o4ge'"
      ]
     },
     "execution_count": 25,
     "metadata": {},
     "output_type": "execute_result"
    }
   ],
   "source": [
    "phid"
   ]
  },
  {
   "cell_type": "code",
   "execution_count": 26,
   "metadata": {
    "collapsed": false
   },
   "outputs": [],
   "source": [
    "duplicate = phid_to_duplicate(phid)\n",
    "duplicate = convert_to_taskid_in_duplicate(duplicate)"
   ]
  },
  {
   "cell_type": "code",
   "execution_count": 27,
   "metadata": {
    "collapsed": false
   },
   "outputs": [
    {
     "data": {
      "text/plain": [
       "[]"
      ]
     },
     "execution_count": 27,
     "metadata": {},
     "output_type": "execute_result"
    }
   ],
   "source": [
    "duplicate"
   ]
  },
  {
   "cell_type": "code",
   "execution_count": 9,
   "metadata": {
    "collapsed": false
   },
   "outputs": [],
   "source": [
    "jresponse = json.loads(response.text)"
   ]
  },
  {
   "cell_type": "code",
   "execution_count": null,
   "metadata": {
    "collapsed": true
   },
   "outputs": [],
   "source": [
    "with open('pair_list_6-7-2018.json', 'w') as fp:\n",
    "    json.dump(dup_dict, fp)"
   ]
  },
  {
   "cell_type": "markdown",
   "metadata": {
    "collapsed": true
   },
   "source": [
    "---"
   ]
  },
  {
   "cell_type": "markdown",
   "metadata": {},
   "source": [
    "## analyze duplicates"
   ]
  },
  {
   "cell_type": "code",
   "execution_count": 9,
   "metadata": {
    "collapsed": false
   },
   "outputs": [],
   "source": [
    "with open('pair_list_1-5-2018.json') as json_file:  \n",
    "    data = json.load(json_file)"
   ]
  },
  {
   "cell_type": "code",
   "execution_count": 10,
   "metadata": {
    "collapsed": false
   },
   "outputs": [
    {
     "name": "stdout",
     "output_type": "stream",
     "text": [
      "total number of reports from snaptask within 5 months: 17434\n"
     ]
    }
   ],
   "source": [
    "print 'total number of reports from snaptask within 5 months:', len(data)"
   ]
  },
  {
   "cell_type": "code",
   "execution_count": 11,
   "metadata": {
    "collapsed": true
   },
   "outputs": [],
   "source": [
    "# create set_list from duplicate key value pair\n",
    "## remove the pair that contains ticket outside snaptask 1-5 2018\n",
    "set_list = []\n",
    "for k in data.keys():\n",
    "    for i in data[k]:\n",
    "        if i in data.keys():\n",
    "            set_list.append(Set([k,i]))"
   ]
  },
  {
   "cell_type": "code",
   "execution_count": 12,
   "metadata": {
    "collapsed": false
   },
   "outputs": [
    {
     "name": "stdout",
     "output_type": "stream",
     "text": [
      "total nubmer of pairs:  4444\n"
     ]
    }
   ],
   "source": [
    "print 'total nubmer of pairs: ', len(set_list)"
   ]
  },
  {
   "cell_type": "code",
   "execution_count": 13,
   "metadata": {
    "collapsed": false
   },
   "outputs": [
    {
     "name": "stdout",
     "output_type": "stream",
     "text": [
      "total nubmer of unique pairs:  2236\n"
     ]
    }
   ],
   "source": [
    "print 'total nubmer of unique pairs: ', len(Set(set_list))"
   ]
  },
  {
   "cell_type": "code",
   "execution_count": null,
   "metadata": {
    "collapsed": false
   },
   "outputs": [],
   "source": [
    "# find tickets not from snaptask 1-5 2018\n",
    "## manually created master tasks\n",
    "## snaptask tickets created outside this time range \n",
    "m_list = []\n",
    "for k in data.keys():\n",
    "    for i in data[k]:\n",
    "        if i not in data.keys():\n",
    "            m_list.append(i)"
   ]
  },
  {
   "cell_type": "code",
   "execution_count": 30,
   "metadata": {
    "collapsed": false
   },
   "outputs": [
    {
     "name": "stdout",
     "output_type": "stream",
     "text": [
      "tickets outside snaptask:  825\n"
     ]
    }
   ],
   "source": [
    "print 'tickets outside snaptask: ', len(set(m_list))"
   ]
  },
  {
   "cell_type": "markdown",
   "metadata": {},
   "source": [
    "use phab info to find snap ticket"
   ]
  },
  {
   "cell_type": "code",
   "execution_count": null,
   "metadata": {
    "collapsed": false
   },
   "outputs": [],
   "source": [
    "manual_list = []\n",
    "snap_list = []\n",
    "for i in set(m_list):\n",
    "    js = taskid_to_issnap(i)\n",
    "    if js is True:\n",
    "        snap_list.append(i)\n",
    "    else:\n",
    "        manual_list.append(i)"
   ]
  },
  {
   "cell_type": "code",
   "execution_count": null,
   "metadata": {
    "collapsed": false
   },
   "outputs": [],
   "source": [
    "len((snap_list))"
   ]
  },
  {
   "cell_type": "code",
   "execution_count": null,
   "metadata": {
    "collapsed": false
   },
   "outputs": [],
   "source": [
    "len((manual_list))"
   ]
  },
  {
   "cell_type": "code",
   "execution_count": null,
   "metadata": {
    "collapsed": true
   },
   "outputs": [],
   "source": [
    "manual_list"
   ]
  },
  {
   "cell_type": "code",
   "execution_count": 245,
   "metadata": {
    "collapsed": false
   },
   "outputs": [
    {
     "data": {
      "text/plain": [
       "825"
      ]
     },
     "execution_count": 245,
     "metadata": {},
     "output_type": "execute_result"
    }
   ],
   "source": [
    "316+509"
   ]
  },
  {
   "cell_type": "markdown",
   "metadata": {},
   "source": [
    "### adhoc solution to find snap ticket"
   ]
  },
  {
   "cell_type": "code",
   "execution_count": 15,
   "metadata": {
    "collapsed": false
   },
   "outputs": [],
   "source": [
    "manual_list = [ i for i in m_list if i[0]<>'1']"
   ]
  },
  {
   "cell_type": "code",
   "execution_count": 16,
   "metadata": {
    "collapsed": true
   },
   "outputs": [],
   "source": [
    "snap_list = [ i for i in m_list if i[0]=='1']"
   ]
  },
  {
   "cell_type": "markdown",
   "metadata": {},
   "source": [
    " "
   ]
  },
  {
   "cell_type": "code",
   "execution_count": 18,
   "metadata": {
    "collapsed": false
   },
   "outputs": [
    {
     "name": "stdout",
     "output_type": "stream",
     "text": [
      "tickets outside snaptask, manually created masters:  46\n"
     ]
    }
   ],
   "source": [
    "print 'tickets outside snaptask, manually created masters: ', len(set(manual_list))"
   ]
  },
  {
   "cell_type": "code",
   "execution_count": 19,
   "metadata": {
    "collapsed": false
   },
   "outputs": [
    {
     "name": "stdout",
     "output_type": "stream",
     "text": [
      "tickets outside snaptask, outside date range:  737\n"
     ]
    }
   ],
   "source": [
    "print 'tickets outside snaptask, outside date range: ', len(set(snap_list))"
   ]
  },
  {
   "cell_type": "code",
   "execution_count": 39,
   "metadata": {
    "collapsed": false
   },
   "outputs": [
    {
     "name": "stdout",
     "output_type": "stream",
     "text": [
      "698886\n",
      "731515\n"
     ]
    }
   ],
   "source": [
    "# for each m_master, get the snap tickets that linked with them\n",
    "ct_manual = []\n",
    "for m in set(manual_list):\n",
    "    merged = [key for key, value in data.iteritems() if m in value]\n",
    "    if len(merged)>120:\n",
    "        print m\n",
    "    ct_manual.append(len(merged)-1)"
   ]
  },
  {
   "cell_type": "code",
   "execution_count": 21,
   "metadata": {
    "collapsed": false
   },
   "outputs": [],
   "source": [
    "# for each m_master, get the snap tickets that linked with them\n",
    "for m in set(manual_list):\n",
    "    merged = [key for key, value in data.iteritems() if m in value]\n",
    "    merged_key = merged[0]\n",
    "    for i in range(len(merged)-1):\n",
    "        set_list.append(Set([merged_key,merged[i+1]]))"
   ]
  },
  {
   "cell_type": "code",
   "execution_count": 22,
   "metadata": {
    "collapsed": false
   },
   "outputs": [
    {
     "name": "stdout",
     "output_type": "stream",
     "text": [
      "total number of unique pairs after adding the manual merge: 2847\n"
     ]
    }
   ],
   "source": [
    "print 'total number of unique pairs after adding the manual merge:', len(Set(set_list))"
   ]
  },
  {
   "cell_type": "code",
   "execution_count": 251,
   "metadata": {
    "collapsed": false
   },
   "outputs": [
    {
     "data": {
      "text/plain": [
       "1658"
      ]
     },
     "execution_count": 251,
     "metadata": {},
     "output_type": "execute_result"
    }
   ],
   "source": [
    "3894-2236"
   ]
  },
  {
   "cell_type": "code",
   "execution_count": 39,
   "metadata": {
    "collapsed": false
   },
   "outputs": [
    {
     "data": {
      "text/plain": [
       "611"
      ]
     },
     "execution_count": 39,
     "metadata": {},
     "output_type": "execute_result"
    }
   ],
   "source": [
    "sum(ct_manual)"
   ]
  },
  {
   "cell_type": "code",
   "execution_count": 23,
   "metadata": {
    "collapsed": true
   },
   "outputs": [],
   "source": [
    "# for each snap ticket outside date range, get the snap tickets that linked with them\n",
    "ct_snap = []\n",
    "for m in set(snap_list):\n",
    "    merged = [key for key, value in data.iteritems() if m in value]\n",
    "    ct_snap.append(len(merged))"
   ]
  },
  {
   "cell_type": "code",
   "execution_count": 24,
   "metadata": {
    "collapsed": false
   },
   "outputs": [],
   "source": [
    "# for each snap ticket outside date range, get the snap tickets that linked with them\n",
    "for m in set(snap_list):\n",
    "    merged = [key for key, value in data.iteritems() if m in value]\n",
    "    for i in merged:\n",
    "        set_list.append(Set([m , i]))"
   ]
  },
  {
   "cell_type": "code",
   "execution_count": 25,
   "metadata": {
    "collapsed": false
   },
   "outputs": [
    {
     "name": "stdout",
     "output_type": "stream",
     "text": [
      "total number of unique pairs after adding the manual merge: 5079\n"
     ]
    }
   ],
   "source": [
    "print 'total number of unique pairs after adding the manual merge:', len(Set(set_list))"
   ]
  },
  {
   "cell_type": "code",
   "execution_count": 26,
   "metadata": {
    "collapsed": false,
    "scrolled": true
   },
   "outputs": [
    {
     "data": {
      "text/plain": [
       "5079"
      ]
     },
     "execution_count": 26,
     "metadata": {},
     "output_type": "execute_result"
    }
   ],
   "source": [
    "len(list(Set(set_list)))"
   ]
  },
  {
   "cell_type": "code",
   "execution_count": 27,
   "metadata": {
    "collapsed": false
   },
   "outputs": [],
   "source": [
    "L = []\n",
    "for l in list(set_list):\n",
    "    L = L + list(l)"
   ]
  },
  {
   "cell_type": "code",
   "execution_count": 28,
   "metadata": {
    "collapsed": false
   },
   "outputs": [
    {
     "data": {
      "text/plain": [
       "6184"
      ]
     },
     "execution_count": 28,
     "metadata": {},
     "output_type": "execute_result"
    }
   ],
   "source": [
    "len(set(L))"
   ]
  },
  {
   "cell_type": "code",
   "execution_count": 29,
   "metadata": {
    "collapsed": false
   },
   "outputs": [],
   "source": [
    "pair_training = []\n",
    "for l in Set(set_list):\n",
    "    lst = list(l)\n",
    "    pair_training.append(lst)"
   ]
  },
  {
   "cell_type": "code",
   "execution_count": 47,
   "metadata": {
    "collapsed": false
   },
   "outputs": [
    {
     "data": {
      "text/plain": [
       "5122"
      ]
     },
     "execution_count": 47,
     "metadata": {},
     "output_type": "execute_result"
    }
   ],
   "source": [
    "len(pair_training)"
   ]
  },
  {
   "cell_type": "code",
   "execution_count": 55,
   "metadata": {
    "collapsed": false
   },
   "outputs": [],
   "source": [
    "cPickle.dump(pair_training, open('6-7_2018_duplicated_pairs.p', 'wb')) "
   ]
  },
  {
   "cell_type": "code",
   "execution_count": 316,
   "metadata": {
    "collapsed": true
   },
   "outputs": [],
   "source": [
    "obj = cPickle.load(open('1-5_2018_duplicated_pairs.p', 'rb'))"
   ]
  },
  {
   "cell_type": "code",
   "execution_count": 38,
   "metadata": {
    "collapsed": false
   },
   "outputs": [
    {
     "name": "stdout",
     "output_type": "stream",
     "text": [
      "1646167 1646159\n"
     ]
    }
   ],
   "source": [
    "ct = []\n",
    "for k in data.keys():\n",
    "    tmp = 0\n",
    "    for i in data[k]:\n",
    "        if i in data.keys():\n",
    "            tmp = tmp+1\n",
    "            if tmp> 99:\n",
    "                print k, i\n",
    "    ct.append(tmp)"
   ]
  },
  {
   "cell_type": "code",
   "execution_count": 35,
   "metadata": {
    "collapsed": false
   },
   "outputs": [
    {
     "data": {
      "text/plain": [
       "93"
      ]
     },
     "execution_count": 35,
     "metadata": {},
     "output_type": "execute_result"
    }
   ],
   "source": [
    "max(ct_snap)"
   ]
  },
  {
   "cell_type": "code",
   "execution_count": 34,
   "metadata": {
    "collapsed": false
   },
   "outputs": [
    {
     "data": {
      "text/plain": [
       "126"
      ]
     },
     "execution_count": 34,
     "metadata": {},
     "output_type": "execute_result"
    }
   ],
   "source": [
    "max(ct_manual)"
   ]
  },
  {
   "cell_type": "code",
   "execution_count": 36,
   "metadata": {
    "collapsed": false
   },
   "outputs": [
    {
     "data": {
      "text/plain": [
       "100"
      ]
     },
     "execution_count": 36,
     "metadata": {},
     "output_type": "execute_result"
    }
   ],
   "source": [
    "max(ct)"
   ]
  },
  {
   "cell_type": "code",
   "execution_count": 49,
   "metadata": {
    "collapsed": false
   },
   "outputs": [],
   "source": [
    "ct = ct + ct_snap + ct_manual"
   ]
  },
  {
   "cell_type": "code",
   "execution_count": 50,
   "metadata": {
    "collapsed": false
   },
   "outputs": [
    {
     "name": "stdout",
     "output_type": "stream",
     "text": [
      "max duplicate:  126\n",
      "min duplicate:  1\n",
      "total number of reports that have duplicates:  3786\n",
      "total number of reports:  19721\n",
      "%:  0.383956188834\n",
      "average duplicates:  1.93608029583\n",
      "median duplicates:  1.0\n",
      "p95 duplicates:  4.0\n",
      "total number of duplicated pairs:  7330\n",
      "total number of unique duplicated pairs:  5122\n",
      "%:  0.519446275544\n"
     ]
    }
   ],
   "source": [
    "print 'max duplicate: ', max(ct)\n",
    "ct = [i for i in ct if i > 0]\n",
    "print 'min duplicate: ', min(ct)\n",
    "print 'total number of reports that have duplicates: ', len(ct)\n",
    "print 'total number of reports: ', (len(data)+len(snap_list))\n",
    "print '%: ', float(len(ct)*2)/(len(data)+len(snap_list))\n",
    "print 'average duplicates: ', np.average(ct)\n",
    "print 'median duplicates: ', np.median(ct)\n",
    "print 'p95 duplicates: ', np.percentile(ct, 95)\n",
    "print 'total number of duplicated pairs: ', np.sum(ct)\n",
    "\n",
    "print 'total number of unique duplicated pairs: ', len(Set(set_list))\n",
    "print '%: ', float(len(Set(set_list))*2)/(len(data)+len(snap_list))"
   ]
  },
  {
   "cell_type": "code",
   "execution_count": 276,
   "metadata": {
    "collapsed": false
   },
   "outputs": [
    {
     "data": {
      "text/plain": [
       "17750"
      ]
     },
     "execution_count": 276,
     "metadata": {},
     "output_type": "execute_result"
    }
   ],
   "source": [
    "(len(data)+len(snap_list))"
   ]
  },
  {
   "cell_type": "code",
   "execution_count": null,
   "metadata": {
    "collapsed": false
   },
   "outputs": [],
   "source": [
    "plt.figure(figsize=[20,3])\n",
    "n, bins, patches = plt.hist(ct, 100, facecolor='blue', alpha=0.5)\n",
    "plt.show()"
   ]
  },
  {
   "cell_type": "code",
   "execution_count": null,
   "metadata": {
    "collapsed": false
   },
   "outputs": [],
   "source": [
    "ct = [i for i in ct if i > 0]\n",
    "plt.figure(figsize=[20,3])\n",
    "n, bins, patches = plt.hist(ct, 100, facecolor='blue', alpha=0.5)\n",
    "plt.show()"
   ]
  },
  {
   "cell_type": "code",
   "execution_count": null,
   "metadata": {
    "collapsed": true
   },
   "outputs": [],
   "source": [
    "ct = [i for i in ct if i <20]\n",
    "plt.figure(figsize=[20,3])\n",
    "n, bins, patches = plt.hist(ct, 100, facecolor='blue', alpha=0.5)\n",
    "plt.show()"
   ]
  },
  {
   "cell_type": "markdown",
   "metadata": {
    "collapsed": true
   },
   "source": [
    "---"
   ]
  }
 ],
 "metadata": {
  "kernelspec": {
   "display_name": "Python 2 (General DS)",
   "language": "python",
   "name": "python2"
  },
  "language_info": {
   "codemirror_mode": {
    "name": "ipython",
    "version": 2
   },
   "file_extension": ".py",
   "mimetype": "text/x-python",
   "name": "python",
   "nbconvert_exporter": "python",
   "pygments_lexer": "ipython2",
   "version": "2.7.10"
  }
 },
 "nbformat": 4,
 "nbformat_minor": 2
}
