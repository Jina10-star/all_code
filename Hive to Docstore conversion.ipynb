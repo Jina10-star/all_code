{
 "cells": [
  {
   "cell_type": "markdown",
   "metadata": {},
   "source": [
    "<span style=\"color:blue\">Thanks for using Drogon for your interactive Spark application. We update Drogon/SparkMagic as often as possible to make it easier, faster and more reliable for you. Have a question or feedback? Ping us on [uChat](https://uchat.uberinternal.com/uber/channels/spark).</span>\n",
    "\n",
    "What's New\n",
    "- Now you can use `%%configure` and `%%spark` magics to configure and start a Spark session (deprecating hard-to-use `%load_ext sparkmagic.magics` and `manage_spark` magics). Check out [this example](https://workbench.uberinternal.com/explore/knowledge/localfile/cwang/sparkmagic_python2_example.ipynb) for more details.\n",
    "- Improved `%%configure` magic. You now can use it to make all Spark and Drogon configurations from within notebook itself. Check out our [latest documentation & examples](https://docs.google.com/document/d/1mkYtDHquh4FjqTeA0Fxii8lyV-P6qzmoABhmmRwm_00/edit#heading=h.xn14pmoorsn0) for more details.\n",
    "- Bug fixes and performance updates.\n"
   ]
  },
  {
   "cell_type": "markdown",
   "metadata": {},
   "source": [
    "## Query Tag Hive to Docstore Conversion"
   ]
  },
  {
   "cell_type": "code",
   "execution_count": 4,
   "metadata": {},
   "outputs": [
    {
     "name": "stdout",
     "output_type": "stream",
     "text": [
      "Starting Spark application (can take 60s or more)...\n",
      "Starting heartbeat thread...done.\n",
      "Waiting for Drogon session to be ready......................\n",
      "Drogon session is ready.\n"
     ]
    },
    {
     "data": {
      "text/html": [
       "<table>\n",
       "<tr><th>Drogon Session ID</th><th>Spark Application ID</th><th>Kind</th><th>State</th><th>Spark UI</th><th>Driver log</th></tr><tr><td>578493103</td><td>86d937a3-9acd-4930-b07d-7b783cedc4c3</td><td>pyspark3</td><td>idle</td><td><a target=\"_blank\" href=\"https://shs-phx2.uberinternal.com/proxy/86d937a3-9acd-4930-b07d-7b783cedc4c3\">Link</a></td><td><a target=\"_blank\" href=\"http://peloton.uberinternal.com/clusters/phx4-prod02/resource-pools/b1a997d4-85fe-43fa-a465-5da990a10c85/jobs/86d937a3-9acd-4930-b07d-7b783cedc4c3/tasks/0/sandbox\">Link</a></td></tr></table>"
      ],
      "text/plain": [
       "<IPython.core.display.HTML object>"
      ]
     },
     "metadata": {},
     "output_type": "display_data"
    },
    {
     "name": "stdout",
     "output_type": "stream",
     "text": [
      "SparkSession available as 'spark'.\n",
      "\n",
      "\n",
      "Cell execution took 36 seconds.\n"
     ]
    },
    {
     "data": {
      "text/html": [
       "Current session configs:\n",
       "<pre>{\n",
       "  \"kind\": \"pyspark3\", \n",
       "  \"name\": \"du_data_docstore\", \n",
       "  \"proxyUser\": \"radhesh\", \n",
       "  \"sparkEnv\": \"SPARK_24\", \n",
       "  \"driverMemory\": \"12G\", \n",
       "  \"queue\": \"/uber-eats/eater/ml_training_experiments\", \n",
       "  \"numExecutors\": 50, \n",
       "  \"conf\": {\n",
       "    \"spark.default.parallelism\": 200, \n",
       "    \"spark.yarn.executor.memoryOverhead\": 1024\n",
       "  }, \n",
       "  \"executorCores\": 8, \n",
       "  \"driverCores\": 8, \n",
       "  \"jars\": [], \n",
       "  \"executorMemory\": \"12G\", \n",
       "  \"drogonHeaders\": {\n",
       "    \"X-DROGON-CLUSTER\": \"phx4/Peloton02Secure\"\n",
       "  }\n",
       "}</pre><br>"
      ],
      "text/plain": [
       "<IPython.core.display.HTML object>"
      ]
     },
     "metadata": {},
     "output_type": "display_data"
    }
   ],
   "source": [
    "%%configure -f\n",
    "{\n",
    "  \"name\": \"qu_data_docstore_semantic_tags\",\n",
    "  \"proxyUser\": \"radhesh\", \n",
    "  \"sparkEnv\": \"SPARK_24\", \n",
    "  \"driverMemory\": \"12G\",\n",
    "  \"executorMemory\": \"12G\",\n",
    "  \"queue\": \"/uber-eats/eater/ml_training_experiments\",\n",
    "  \"numExecutors\": 50, \n",
    "  \"conf\": {\n",
    "    \"spark.default.parallelism\": 200,\n",
    "    \"spark.yarn.executor.memoryOverhead\": 1024\n",
    "  }, \n",
    "  \"executorCores\": 8, \n",
    "  \"driverCores\": 8, \n",
    "  \"jars\": [], \n",
    "  \"drogonHeaders\": {\n",
    "    \"X-DROGON-CLUSTER\": \"phx4/Peloton02Secure\"\n",
    "  }\n",
    "}"
   ]
  },
  {
   "cell_type": "code",
   "execution_count": 5,
   "metadata": {},
   "outputs": [],
   "source": [
    "%%spark"
   ]
  },
  {
   "cell_type": "code",
   "execution_count": 6,
   "metadata": {},
   "outputs": [],
   "source": [
    "import pyspark.sql.functions as F\n",
    "from pyspark.sql.functions import col\n",
    "from pyspark.sql.types import StringType, ArrayType\n",
    "from pyspark.sql.window import Window\n",
    "import re\n",
    "from collections import defaultdict\n",
    "from datetime import datetime"
   ]
  },
  {
   "cell_type": "code",
   "execution_count": 7,
   "metadata": {},
   "outputs": [],
   "source": [
    "def spark_sql(sql):\n",
    "    return spark.sql(sql)"
   ]
  },
  {
   "cell_type": "code",
   "execution_count": 8,
   "metadata": {},
   "outputs": [],
   "source": [
    "import pyspark.sql.functions as F\n",
    "from pyspark.sql.functions import col\n",
    "from pyspark.sql.types import StringType, ArrayType\n",
    "from pyspark.sql.window import Window\n",
    "import re\n",
    "from collections import defaultdict\n",
    "from datetime import datetime"
   ]
  },
  {
   "cell_type": "code",
   "execution_count": 23,
   "metadata": {},
   "outputs": [],
   "source": [
    "query = \"\"\"\n",
    "SELECT * from tmp.semantic_tags_query_tag_array\n",
    "\"\"\"\n",
    "# Table Creation Query -> https://querybuilder-ea.uberinternal.com/r/q4gloGNUN/run/ERomdzfNv/edit"
   ]
  },
  {
   "cell_type": "code",
   "execution_count": 17,
   "metadata": {},
   "outputs": [],
   "source": [
    "df = spark_sql(query)"
   ]
  },
  {
   "cell_type": "code",
   "execution_count": 18,
   "metadata": {},
   "outputs": [
    {
     "name": "stdout",
     "output_type": "stream",
     "text": [
      "+-------------------+--------------------+\n",
      "|              query|       semantic_tags|\n",
      "+-------------------+--------------------+\n",
      "|         wash water|beverage-0.206896...|\n",
      "|       gin and soda|beverage-0.203125...|\n",
      "|    pringles puzzle|salty snack-0.106...|\n",
      "|           gallon o|drink-0.177489177...|\n",
      "|     orange chicjen|fruit vegetable-0...|\n",
      "|ice cream cheescake|consumable-0.2154...|\n",
      "| liqs wine cocktail|drink-0.122807017...|\n",
      "|          baged ice|ice cream-0.20375...|\n",
      "|               tenn|whiskey-0.1738299...|\n",
      "|  simply watermelon|beverage-0.207407...|\n",
      "| martini rossi asti|wine-0.1578947368...|\n",
      "|     organic walnut|fruit vegetable-0...|\n",
      "|          rapid tes|pregnancy fertili...|\n",
      "|              shank|meat seafood plan...|\n",
      "|              gopuf|alcohol-0.1294623...|\n",
      "|           wal dram|medicine treatmen...|\n",
      "|       choolate bar|candy chocolate-0...|\n",
      "|          casa rosa|tequila-0.1774193...|\n",
      "|    whistle pig rye|spirit-0.1625:liq...|\n",
      "|          sprite le|beverage-0.178217...|\n",
      "+-------------------+--------------------+\n",
      "only showing top 20 rows"
     ]
    }
   ],
   "source": [
    "df.show() #test sample"
   ]
  },
  {
   "cell_type": "code",
   "execution_count": 19,
   "metadata": {},
   "outputs": [
    {
     "name": "stdout",
     "output_type": "stream",
     "text": [
      "(623566, 2)"
     ]
    }
   ],
   "source": [
    "print((df.count(), len(df.columns))) #check number of rows and columns"
   ]
  },
  {
   "cell_type": "code",
   "execution_count": 58,
   "metadata": {},
   "outputs": [],
   "source": [
    "def jsonify(text):\n",
    "    array = [tag_score.split('-') for tag_score in text.split(':')]\n",
    "    data = {\"predicted_semantic_tags\" : [{\"semantic_tag\": array[i][0], \"score\": array[i][1]} for i in range(len(array))]}\n",
    "    return str(data)\n",
    "            "
   ]
  },
  {
   "cell_type": "code",
   "execution_count": 59,
   "metadata": {},
   "outputs": [
    {
     "name": "stdout",
     "output_type": "stream",
     "text": [
      "\"{'predicted_semantic_tags': [{'semantic_tag': 'tequila', 'score': '0.3225806451612903'}, {'semantic_tag': 'liquor', 'score': '0.25806451612903225'}, {'semantic_tag': 'reposado', 'score': '0.22580645161290322'}, {'semantic_tag': 'spirit tequila', 'score': '0.1935483870967742'}]}\""
     ]
    }
   ],
   "source": [
    "#testing jsonify\n",
    "jsonify(\"tequila-0.3225806451612903:liquor-0.25806451612903225:reposado-0.22580645161290322:spirit tequila-0.1935483870967742\")"
   ]
  },
  {
   "cell_type": "code",
   "execution_count": 60,
   "metadata": {},
   "outputs": [],
   "source": [
    "jsonify_UDF = F.udf(jsonify,  F.StringType()) #create UDF to JSONify"
   ]
  },
  {
   "cell_type": "markdown",
   "metadata": {},
   "source": [
    "### Create Table"
   ]
  },
  {
   "cell_type": "code",
   "execution_count": 53,
   "metadata": {},
   "outputs": [],
   "source": [
    "TABLE_NAME = 'uber_eats.query_semantic_tags_grocery'\n"
   ]
  },
  {
   "cell_type": "code",
   "execution_count": 54,
   "metadata": {},
   "outputs": [
    {
     "name": "stdout",
     "output_type": "stream",
     "text": [
      "2023-02-09"
     ]
    }
   ],
   "source": [
    "TTL_FACTOR_TABLES_DAYS = 90\n",
    "datestr = datetime.today().strftime('%Y-%m-%d') \n",
    "print(datestr)"
   ]
  },
  {
   "cell_type": "code",
   "execution_count": 55,
   "metadata": {},
   "outputs": [
    {
     "name": "stdout",
     "output_type": "stream",
     "text": [
      "DataFrame[key: string, value: string]"
     ]
    }
   ],
   "source": [
    "spark.sql(\"\"\" CREATE TABLE IF NOT EXISTS {table_name} (\n",
    "                     query string,\n",
    "                     predicted_semantic_tags string\n",
    "                     )\n",
    "                     PARTITIONED BY(datestr string)\n",
    "                     tblproperties ('dc_replication'='true', 'ttl.partion'='{ttl}d')\n",
    "                     ROW FORMAT SERDE 'org.apache.hadoop.hive.ql.io.parquet.serde.ParquetHiveSerDe'\n",
    "                     STORED AS INPUTFORMAT 'org.apache.hadoop.hive.ql.io.parquet.MapredParquetInputFormat'\n",
    "                     OUTPUTFORMAT 'org.apache.hadoop.hive.ql.io.parquet.MapredParquetOutputFormat'\n",
    "                     \"\"\".format(table_name=TABLE_NAME, ttl=TTL_FACTOR_TABLES_DAYS))\n",
    "\n",
    "spark.sql(\"SET hive.exec.dynamic.partition.mode = nonstrict\")"
   ]
  },
  {
   "cell_type": "code",
   "execution_count": 64,
   "metadata": {},
   "outputs": [],
   "source": [
    "df = df.withColumn(\"predicted_semantic_tags\",jsonify_UDF(F.col(\"semantic_tags\"))).select(\"query\", \"predicted_semantic_tags\")\n"
   ]
  },
  {
   "cell_type": "code",
   "execution_count": 65,
   "metadata": {},
   "outputs": [
    {
     "name": "stdout",
     "output_type": "stream",
     "text": [
      "+-------------------+-------------------------------------------------------------------------------------------------------------------------------------------------------------------------------------------------------------------------------------------------------------------------------------------------------------------------------------------------------------------------------------------------------------------------------------------------------------------------------------------------------------------------------------------------------------------------------------------------------------------------------------------------------------------------------------------------------------------------------------+\n",
      "|query              |predicted_semantic_tags                                                                                                                                                                                                                                                                                                                                                                                                                                                                                                                                                                                                                                                                                                              |\n",
      "+-------------------+-------------------------------------------------------------------------------------------------------------------------------------------------------------------------------------------------------------------------------------------------------------------------------------------------------------------------------------------------------------------------------------------------------------------------------------------------------------------------------------------------------------------------------------------------------------------------------------------------------------------------------------------------------------------------------------------------------------------------------------+\n",
      "|wash water         |{'predicted_semantic_tags': [{'semantic_tag': 'beverage', 'score': '0.20689655172413793'}, {'semantic_tag': 'consumable', 'score': '0.1939655172413793'}, {'semantic_tag': 'beauty', 'score': '0.1206896551724138'}, {'semantic_tag': 'water', 'score': '0.11206896551724138'}, {'semantic_tag': 'drink', 'score': '0.09482758620689655'}, {'semantic_tag': 'bottled water', 'score': '0.07758620689655173'}, {'semantic_tag': 'personal cleanse', 'score': '0.05172413793103448'}, {'semantic_tag': 'water seltzer sparkling water', 'score': '0.05172413793103448'}, {'semantic_tag': 'cosmetic', 'score': '0.04741379310344827'}, {'semantic_tag': 'snack mixer', 'score': '0.04310344827586207'}]}                               |\n",
      "|gin and soda       |{'predicted_semantic_tags': [{'semantic_tag': 'beverage', 'score': '0.203125'}, {'semantic_tag': 'soda', 'score': '0.16666666666666666'}, {'semantic_tag': 'drink', 'score': '0.15104166666666666'}, {'semantic_tag': 'alcohol', 'score': '0.09895833333333333'}, {'semantic_tag': 'snack mixer', 'score': '0.09375'}, {'semantic_tag': 'mixer', 'score': '0.06770833333333333'}, {'semantic_tag': 'grocery', 'score': '0.06770833333333333'}, {'semantic_tag': 'fizzy drink', 'score': '0.052083333333333336'}, {'semantic_tag': 'consumable', 'score': '0.052083333333333336'}, {'semantic_tag': 'essential drink', 'score': '0.046875'}]}                                                                                         |\n",
      "|pringles puzzle    |{'predicted_semantic_tags': [{'semantic_tag': 'salty snack', 'score': '0.10606060606060606'}, {'semantic_tag': 'snack', 'score': '0.10606060606060606'}, {'semantic_tag': 'crisp', 'score': '0.10606060606060606'}, {'semantic_tag': 'chip cracker', 'score': '0.10606060606060606'}, {'semantic_tag': 'chip', 'score': '0.10606060606060606'}, {'semantic_tag': 'pringle chip', 'score': '0.10606060606060606'}, {'semantic_tag': 'chip dip', 'score': '0.09090909090909091'}, {'semantic_tag': 'cookieschipssnack nut', 'score': '0.09090909090909091'}, {'semantic_tag': 'pringle', 'score': '0.09090909090909091'}, {'semantic_tag': 'chip snack', 'score': '0.09090909090909091'}]}                                             |\n",
      "|gallon o           |{'predicted_semantic_tags': [{'semantic_tag': 'drink', 'score': '0.1774891774891775'}, {'semantic_tag': 'dairy egg', 'score': '0.12987012987012986'}, {'semantic_tag': 'healthier drink', 'score': '0.12121212121212122'}, {'semantic_tag': 'milk', 'score': '0.12121212121212122'}, {'semantic_tag': 'beverage', 'score': '0.10822510822510822'}, {'semantic_tag': 'snack mixer', 'score': '0.09956709956709957'}, {'semantic_tag': 'trash bag', 'score': '0.06493506493506493'}, {'semantic_tag': 'cleaning product', 'score': '0.06493506493506493'}, {'semantic_tag': 'snack', 'score': '0.06060606060606061'}, {'semantic_tag': 'convenience', 'score': '0.05194805194805195'}]}                                                |\n",
      "|orange chicjen     |{'predicted_semantic_tags': [{'semantic_tag': 'fruit vegetable', 'score': '0.1388888888888889'}, {'semantic_tag': 'produce', 'score': '0.125'}, {'semantic_tag': 'vegetable fruit', 'score': '0.125'}, {'semantic_tag': 'fresh fruit', 'score': '0.09722222222222222'}, {'semantic_tag': 'grocery', 'score': '0.09722222222222222'}, {'semantic_tag': 'fruit', 'score': '0.08333333333333333'}, {'semantic_tag': 'europa gourmet', 'score': '0.08333333333333333'}, {'semantic_tag': 'soda', 'score': '0.08333333333333333'}, {'semantic_tag': 'beverage', 'score': '0.08333333333333333'}, {'semantic_tag': 'pre package fruit vegetable', 'score': '0.08333333333333333'}]}                                                        |\n",
      "|ice cream cheescake|{'predicted_semantic_tags': [{'semantic_tag': 'consumable', 'score': '0.21544715447154472'}, {'semantic_tag': 'dsd baked frozen', 'score': '0.15447154471544716'}, {'semantic_tag': 'ice cream', 'score': '0.14227642276422764'}, {'semantic_tag': 'frozen', 'score': '0.12195121951219512'}, {'semantic_tag': 'snack', 'score': '0.10569105691056911'}, {'semantic_tag': 'beverage', 'score': '0.056910569105691054'}, {'semantic_tag': 'ice cream frozen dessert', 'score': '0.052845528455284556'}, {'semantic_tag': 'snack mixer', 'score': '0.052845528455284556'}, {'semantic_tag': 'drink', 'score': '0.04878048780487805'}, {'semantic_tag': 'ice cream popsicle', 'score': '0.04878048780487805'}]}                         |\n",
      "|liqs wine cocktail |{'predicted_semantic_tags': [{'semantic_tag': 'drink', 'score': '0.12280701754385964'}, {'semantic_tag': 'liquor', 'score': '0.12280701754385964'}, {'semantic_tag': 'alcoholic drink', 'score': '0.12280701754385964'}, {'semantic_tag': 'beverage', 'score': '0.12280701754385964'}, {'semantic_tag': 'spirit', 'score': '0.12280701754385964'}, {'semantic_tag': 'alcohol', 'score': '0.12280701754385964'}, {'semantic_tag': 'booze', 'score': '0.12280701754385964'}, {'semantic_tag': 'wine', 'score': '0.09649122807017543'}, {'semantic_tag': 'sweet wine', 'score': '0.043859649122807015'}]}                                                                                                                               |\n",
      "|baged ice          |{'predicted_semantic_tags': [{'semantic_tag': 'ice cream', 'score': '0.2037533512064343'}, {'semantic_tag': 'frozen', 'score': '0.1903485254691689'}, {'semantic_tag': 'ice cream popsicle', 'score': '0.10187667560321716'}, {'semantic_tag': 'beverage', 'score': '0.09651474530831099'}, {'semantic_tag': 'snack', 'score': '0.08847184986595175'}, {'semantic_tag': 'pint', 'score': '0.0777479892761394'}, {'semantic_tag': 'consumable', 'score': '0.07506702412868632'}, {'semantic_tag': 'drink', 'score': '0.058981233243967826'}, {'semantic_tag': 'dsd baked frozen', 'score': '0.058981233243967826'}, {'semantic_tag': 'haagen daz ice cream', 'score': '0.04825737265415549'}]}                                        |\n",
      "|tenn               |{'predicted_semantic_tags': [{'semantic_tag': 'whiskey', 'score': '0.17382999044890163'}, {'semantic_tag': 'spirit', 'score': '0.1556829035339064'}, {'semantic_tag': 'alcohol', 'score': '0.14040114613180515'}, {'semantic_tag': 'liquor', 'score': '0.13753581661891118'}, {'semantic_tag': 'whisky', 'score': '0.09742120343839542'}, {'semantic_tag': 'spirit whiskey', 'score': '0.08978032473734479'}, {'semantic_tag': 'alcoholic drink', 'score': '0.05921680993314231'}, {'semantic_tag': 'drink', 'score': '0.05826170009551098'}, {'semantic_tag': 'moonshine', 'score': '0.044890162368672396'}, {'semantic_tag': 'liqueur', 'score': '0.04297994269340974'}]}                                                          |\n",
      "|simply watermelon  |{'predicted_semantic_tags': [{'semantic_tag': 'beverage', 'score': '0.2074074074074074'}, {'semantic_tag': 'juice', 'score': '0.13777777777777778'}, {'semantic_tag': 'fruit vegetable', 'score': '0.11555555555555555'}, {'semantic_tag': 'drink', 'score': '0.09481481481481481'}, {'semantic_tag': 'fresh fruit', 'score': '0.09333333333333334'}, {'semantic_tag': 'pre package fruit vegetable', 'score': '0.0874074074074074'}, {'semantic_tag': 'snack', 'score': '0.07555555555555556'}, {'semantic_tag': 'fruit', 'score': '0.06814814814814815'}, {'semantic_tag': 'fresh juice nectar', 'score': '0.06074074074074074'}, {'semantic_tag': 'candy', 'score': '0.05925925925925926'}]}                                      |\n",
      "|martini rossi asti |{'predicted_semantic_tags': [{'semantic_tag': 'wine', 'score': '0.15789473684210525'}, {'semantic_tag': 'vermouth', 'score': '0.09941520467836257'}, {'semantic_tag': 'vermouth aperitif', 'score': '0.09941520467836257'}, {'semantic_tag': 'pint', 'score': '0.09941520467836257'}, {'semantic_tag': 'cocktail essential', 'score': '0.09941520467836257'}, {'semantic_tag': 'liqueur', 'score': '0.09941520467836257'}, {'semantic_tag': 'wine vermouth', 'score': '0.09941520467836257'}, {'semantic_tag': 'alcohol', 'score': '0.0935672514619883'}, {'semantic_tag': 'bubbly', 'score': '0.08771929824561403'}, {'semantic_tag': 'white wine', 'score': '0.06432748538011696'}]}                                               |\n",
      "|organic walnut     |{'predicted_semantic_tags': [{'semantic_tag': 'fruit vegetable', 'score': '0.2807017543859649'}, {'semantic_tag': 'fresh fruit', 'score': '0.14912280701754385'}, {'semantic_tag': 'fresh vegetable', 'score': '0.14035087719298245'}, {'semantic_tag': 'pre package fruit vegetable', 'score': '0.07894736842105263'}, {'semantic_tag': 'fruit', 'score': '0.06140350877192982'}, {'semantic_tag': 'frozen fruit vegetable', 'score': '0.06140350877192982'}, {'semantic_tag': 'frozen', 'score': '0.06140350877192982'}, {'semantic_tag': 'produce', 'score': '0.06140350877192982'}, {'semantic_tag': 'grocery', 'score': '0.06140350877192982'}, {'semantic_tag': 'vegetable fruit', 'score': '0.043859649122807015'}]}          |\n",
      "|rapid tes          |{'predicted_semantic_tags': [{'semantic_tag': 'pregnancy fertility', 'score': '0.18045112781954886'}, {'semantic_tag': 'feminine', 'score': '0.17669172932330826'}, {'semantic_tag': 'healthcare', 'score': '0.16917293233082706'}, {'semantic_tag': 'sexual wellness', 'score': '0.12406015037593984'}, {'semantic_tag': 'personal', 'score': '0.10526315789473684'}, {'semantic_tag': 'pregnancy', 'score': '0.09398496240601503'}, {'semantic_tag': 'woman health planning', 'score': '0.045112781954887216'}, {'semantic_tag': 'monitor', 'score': '0.041353383458646614'}, {'semantic_tag': 'medicine', 'score': '0.03383458646616541'}, {'semantic_tag': 'sexual wellness planning', 'score': '0.03007518796992481'}]}         |\n",
      "|shank              |{'predicted_semantic_tags': [{'semantic_tag': 'meat seafood plant base', 'score': '0.3304647160068847'}, {'semantic_tag': 'meat', 'score': '0.2874354561101549'}, {'semantic_tag': 'meat poultry seafood', 'score': '0.08433734939759036'}, {'semantic_tag': 'beef pork', 'score': '0.07401032702237521'}, {'semantic_tag': 'meat seafood', 'score': '0.07228915662650602'}, {'semantic_tag': 'beef', 'score': '0.04475043029259897'}, {'semantic_tag': 'butchery', 'score': '0.029259896729776247'}, {'semantic_tag': 'salami pepperoni dry sausage', 'score': '0.029259896729776247'}, {'semantic_tag': 'deli meat', 'score': '0.025817555938037865'}, {'semantic_tag': 'bacon sausage hot dog', 'score': '0.022375215146299483'}]}|\n",
      "|gopuf              |{'predicted_semantic_tags': [{'semantic_tag': 'alcohol', 'score': '0.12946236559139784'}, {'semantic_tag': 'liquor', 'score': '0.12193548387096774'}, {'semantic_tag': 'drink', 'score': '0.10731182795698925'}, {'semantic_tag': 'spirit', 'score': '0.10623655913978494'}, {'semantic_tag': 'beverage', 'score': '0.0978494623655914'}, {'semantic_tag': 'beer', 'score': '0.09526881720430108'}, {'semantic_tag': 'alcoholic drink', 'score': '0.09526881720430108'}, {'semantic_tag': 'booze', 'score': '0.09526881720430108'}, {'semantic_tag': 'bottle shoppe sylmar', 'score': '0.0756989247311828'}, {'semantic_tag': 'beer alcoholic', 'score': '0.0756989247311828'}]}                                                     |\n",
      "|wal dram           |{'predicted_semantic_tags': [{'semantic_tag': 'medicine treatment', 'score': '0.46601941747572817'}, {'semantic_tag': 'digestive health nausea', 'score': '0.30097087378640774'}, {'semantic_tag': 'digestive health', 'score': '0.07766990291262135'}, {'semantic_tag': 'personal', 'score': '0.05825242718446602'}, {'semantic_tag': 'healthcare', 'score': '0.04854368932038835'}, {'semantic_tag': 'digestion', 'score': '0.04854368932038835'}]}                                                                                                                                                                                                                                                                                |\n",
      "|choolate bar       |{'predicted_semantic_tags': [{'semantic_tag': 'candy chocolate', 'score': '0.26548672566371684'}, {'semantic_tag': 'candy', 'score': '0.18584070796460178'}, {'semantic_tag': 'snack', 'score': '0.18141592920353983'}, {'semantic_tag': 'chocolate', 'score': '0.11061946902654868'}, {'semantic_tag': 'snack cookie', 'score': '0.061946902654867256'}, {'semantic_tag': 'consumable', 'score': '0.05752212389380531'}, {'semantic_tag': 'snack candy', 'score': '0.05309734513274336'}, {'semantic_tag': 'snack mixer', 'score': '0.030973451327433628'}, {'semantic_tag': 'candy gum', 'score': '0.030973451327433628'}, {'semantic_tag': 'vitamin mineral supplement', 'score': '0.022123893805309734'}]}                       |\n",
      "|casa rosa          |{'predicted_semantic_tags': [{'semantic_tag': 'tequila', 'score': '0.1774193548387097'}, {'semantic_tag': 'alcohol', 'score': '0.15725806451612903'}, {'semantic_tag': 'wine', 'score': '0.125'}, {'semantic_tag': 'liquor', 'score': '0.11693548387096774'}, {'semantic_tag': 'spirit tequila', 'score': '0.10483870967741936'}, {'semantic_tag': 'reposado', 'score': '0.07661290322580645'}, {'semantic_tag': 'spirit', 'score': '0.07661290322580645'}, {'semantic_tag': 'tequila mezcal', 'score': '0.056451612903225805'}, {'semantic_tag': 'wine stella rosa', 'score': '0.056451612903225805'}, {'semantic_tag': 'tequila liquor', 'score': '0.05241935483870968'}]}                                                         |\n",
      "|whistle pig rye    |{'predicted_semantic_tags': [{'semantic_tag': 'spirit', 'score': '0.1625'}, {'semantic_tag': 'liquor', 'score': '0.1375'}, {'semantic_tag': 'whiskey', 'score': '0.1375'}, {'semantic_tag': 'alcohol', 'score': '0.125'}, {'semantic_tag': 'rye whiskey', 'score': '0.1125'}, {'semantic_tag': 'spirit whiskey', 'score': '0.075'}, {'semantic_tag': 'beverage', 'score': '0.0625'}, {'semantic_tag': 'alcoholic drink', 'score': '0.0625'}, {'semantic_tag': 'drink', 'score': '0.0625'}, {'semantic_tag': 'booze', 'score': '0.0625'}]}                                                                                                                                                                                            |\n",
      "|sprite le          |{'predicted_semantic_tags': [{'semantic_tag': 'beverage', 'score': '0.1782178217821782'}, {'semantic_tag': 'drink', 'score': '0.1485148514851485'}, {'semantic_tag': 'essential drink', 'score': '0.10891089108910891'}, {'semantic_tag': 'soda', 'score': '0.09900990099009901'}, {'semantic_tag': 'consumable', 'score': '0.0891089108910891'}, {'semantic_tag': 'snack mixer', 'score': '0.07920792079207921'}, {'semantic_tag': 'mixer', 'score': '0.07920792079207921'}, {'semantic_tag': 'grocery', 'score': '0.07920792079207921'}, {'semantic_tag': 'energy electrolyte drink', 'score': '0.06930693069306931'}, {'semantic_tag': 'energy drink', 'score': '0.06930693069306931'}]}                                          |\n",
      "+-------------------+-------------------------------------------------------------------------------------------------------------------------------------------------------------------------------------------------------------------------------------------------------------------------------------------------------------------------------------------------------------------------------------------------------------------------------------------------------------------------------------------------------------------------------------------------------------------------------------------------------------------------------------------------------------------------------------------------------------------------------------+\n",
      "only showing top 20 rows"
     ]
    }
   ],
   "source": [
    "df.show(truncate = False)"
   ]
  },
  {
   "cell_type": "code",
   "execution_count": 70,
   "metadata": {},
   "outputs": [],
   "source": [
    "ingest_data = True \n"
   ]
  },
  {
   "cell_type": "code",
   "execution_count": 71,
   "metadata": {},
   "outputs": [],
   "source": [
    "if ingest_data:\n",
    "    df\\\n",
    "    .withColumn(\"datestr\", F.lit(datestr))\\\n",
    "    .write\\\n",
    "    .insertInto(TABLE_NAME, overwrite = True)"
   ]
  },
  {
   "cell_type": "code",
   "execution_count": null,
   "metadata": {},
   "outputs": [],
   "source": []
  }
 ],
 "metadata": {
  "kernelspec": {
   "display_name": "05. SparkMagic (Remote Python3)",
   "language": "",
   "name": "pyspark3kernel"
  },
  "language_info": {
   "codemirror_mode": {
    "name": "python",
    "version": 3
   },
   "mimetype": "text/x-python",
   "name": "pyspark3",
   "pygments_lexer": "python3"
  }
 },
 "nbformat": 4,
 "nbformat_minor": 2
}
