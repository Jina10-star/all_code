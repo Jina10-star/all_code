{
 "cells": [
  {
   "cell_type": "code",
   "execution_count": 33,
   "metadata": {},
   "outputs": [],
   "source": [
    "import re\n",
    "import string\n",
    "import joblib\n",
    "from sklearn.naive_bayes import MultinomialNB\n",
    "\n",
    "import numpy as np\n",
    "import nltk\n",
    "from nltk.stem.wordnet import WordNetLemmatizer\n",
    "import pandas as pd\n",
    "from sklearn.tree import DecisionTreeClassifier\n",
    "from sklearn.feature_extraction.text import TfidfTransformer, CountVectorizer\n",
    "from sklearn.ensemble import RandomForestClassifier\n",
    "from sklearn.pipeline import Pipeline\n",
    "from sklearn.model_selection import train_test_split, KFold, StratifiedKFold, cross_val_score, cross_val_predict\n",
    "from sklearn.metrics import accuracy_score, precision_score, recall_score, f1_score, classification_report, make_scorer\n",
    "from sklearn.pipeline import Pipeline"
   ]
  },
  {
   "cell_type": "code",
   "execution_count": 2,
   "metadata": {},
   "outputs": [],
   "source": [
    "# list of stopwords\n",
    "stpwrd = nltk.corpus.stopwords.words('english')\n",
    "\n",
    "lemmatizer = WordNetLemmatizer()"
   ]
  },
  {
   "cell_type": "code",
   "execution_count": 3,
   "metadata": {},
   "outputs": [],
   "source": [
    "#read input from historical data into dataframe\n",
    "data_df = pd.read_excel('/Users/jghosh2/Documents/my-notebook/L1 triage POC/data/Updated-JIRA_DUMP_Mar_2020_March_2022_Sourabh.xlsx',usecols=['Summary','Description','Component'])\n",
    "data_df['Summary']=data_df['Summary'].astype(str)\n",
    "data_df['Description']=data_df['Description'].astype(str)\n",
    "data_df.dropna()\n",
    "#choose sample data from entire data\n",
    "data_df = data_df.sample(frac=1, random_state=42)"
   ]
  },
  {
   "cell_type": "code",
   "execution_count": 4,
   "metadata": {},
   "outputs": [
    {
     "data": {
      "text/plain": [
       "(44513, 3)"
      ]
     },
     "execution_count": 4,
     "metadata": {},
     "output_type": "execute_result"
    }
   ],
   "source": [
    "data_df.shape"
   ]
  },
  {
   "cell_type": "code",
   "execution_count": 5,
   "metadata": {},
   "outputs": [],
   "source": [
    "def preprocess_text(message):\n",
    "    # To handle np.nan \n",
    "    if isinstance(message, float):\n",
    "        return None\n",
    "    \n",
    "    #lowering and removing punctuation\n",
    "    message = re.sub(r'[^\\w\\s]','', message.lower())\n",
    "    \n",
    "    #removing the numerical values and working only with text values\n",
    "    message = re.sub('[^a-zA-Z]', \" \", message )\n",
    "    \n",
    "    #lemmatizing the text\n",
    "    message =  \" \".join([lemmatizer.lemmatize(w) for w in nltk.word_tokenize(message) if w not in string.punctuation])\n",
    "    \n",
    "    # after preprocessing if message is empty string \n",
    "    if not message:\n",
    "        message = None\n",
    "        \n",
    "    return message"
   ]
  },
  {
   "cell_type": "code",
   "execution_count": 10,
   "metadata": {},
   "outputs": [],
   "source": [
    "\n",
    "\n",
    "# concatenate features into single corpus\n",
    "data_df['text'] = data_df['Summary'].astype('str') + \" \" + data_df['Description'].astype('str')\n",
    "\n",
    "# preprocessing steps for text data\n",
    "data_df['processed_text'] = data_df['text'].apply(preprocess_text)\n",
    "\n",
    "# drop rows which became NULL after preprocessing\n",
    "data_df = data_df.dropna(how='any')\n",
    "data_df=data_df.drop_duplicates(subset=['processed_text','Component'],keep='first')\n",
    "    "
   ]
  },
  {
   "cell_type": "code",
   "execution_count": 11,
   "metadata": {},
   "outputs": [
    {
     "data": {
      "text/plain": [
       "(40255, 5)"
      ]
     },
     "execution_count": 11,
     "metadata": {},
     "output_type": "execute_result"
    }
   ],
   "source": [
    "df = data_df.dropna(how='any', subset=['Component'])\n",
    "df.shape"
   ]
  },
  {
   "cell_type": "code",
   "execution_count": 12,
   "metadata": {},
   "outputs": [
    {
     "data": {
      "text/plain": [
       "Coupa_access_request         4025\n",
       "Oracle_ap                    3065\n",
       "OTM                          2798\n",
       "TrinTech                     2726\n",
       "Coupa                        2454\n",
       "                             ... \n",
       "Coupa_invoice_integration      34\n",
       "Sailpoint                      32\n",
       "Oracle_login                   32\n",
       "FDS                            28\n",
       "Enhancement Request             6\n",
       "Name: Component, Length: 61, dtype: int64"
      ]
     },
     "execution_count": 12,
     "metadata": {},
     "output_type": "execute_result"
    }
   ],
   "source": [
    "# distribution of Merchants\n",
    "df['Component'].value_counts()"
   ]
  },
  {
   "cell_type": "code",
   "execution_count": 56,
   "metadata": {},
   "outputs": [
    {
     "data": {
      "text/html": [
       "<div>\n",
       "<style scoped>\n",
       "    .dataframe tbody tr th:only-of-type {\n",
       "        vertical-align: middle;\n",
       "    }\n",
       "\n",
       "    .dataframe tbody tr th {\n",
       "        vertical-align: top;\n",
       "    }\n",
       "\n",
       "    .dataframe thead th {\n",
       "        text-align: right;\n",
       "    }\n",
       "</style>\n",
       "<table border=\"1\" class=\"dataframe\">\n",
       "  <thead>\n",
       "    <tr style=\"text-align: right;\">\n",
       "      <th></th>\n",
       "      <th>Summary</th>\n",
       "      <th>Description</th>\n",
       "      <th>Component</th>\n",
       "      <th>text</th>\n",
       "      <th>processed_text</th>\n",
       "    </tr>\n",
       "  </thead>\n",
       "  <tbody>\n",
       "    <tr>\n",
       "      <th>15538</th>\n",
       "      <td>ATG PO# 852279 for HYPERTECHNOLOGIE CIARA INC</td>\n",
       "      <td>Hi Team,   Can you please provide a pdf copy o...</td>\n",
       "      <td>Oracle_scm</td>\n",
       "      <td>ATG PO# 852279 for HYPERTECHNOLOGIE CIARA INC ...</td>\n",
       "      <td>atg po for hypertechnologie ciara inc hi team ...</td>\n",
       "    </tr>\n",
       "    <tr>\n",
       "      <th>7267</th>\n",
       "      <td>IC Relationship Setup - (Share Capital) Novemb...</td>\n",
       "      <td>Hi FinTech Team,\\n\\n\\n\\n\\n\\nCould you please s...</td>\n",
       "      <td>Oracle_agis</td>\n",
       "      <td>IC Relationship Setup - (Share Capital) Novemb...</td>\n",
       "      <td>ic relationship setup share capital november h...</td>\n",
       "    </tr>\n",
       "    <tr>\n",
       "      <th>14528</th>\n",
       "      <td>JSON 210 ERRORS - TRICOR BRAUN</td>\n",
       "      <td>== Created by JEMH via e-mail from:  &lt;POKLI@KL...</td>\n",
       "      <td>B2B</td>\n",
       "      <td>JSON 210 ERRORS - TRICOR BRAUN == Created by J...</td>\n",
       "      <td>json error tricor braun created by jemh via em...</td>\n",
       "    </tr>\n",
       "    <tr>\n",
       "      <th>34155</th>\n",
       "      <td>Request to Create POs for Another Entity</td>\n",
       "      <td>PO Creator: shauna@uber.com \\n Manager:  \\n De...</td>\n",
       "      <td>Coupa</td>\n",
       "      <td>Request to Create POs for Another Entity PO Cr...</td>\n",
       "      <td>request to create po for another entity po cre...</td>\n",
       "    </tr>\n",
       "    <tr>\n",
       "      <th>31983</th>\n",
       "      <td>UBER B2B Customer Process Status Report</td>\n",
       "      <td>== Created by JEMH via e-mail from:  &lt;oracle-w...</td>\n",
       "      <td>B2B</td>\n",
       "      <td>UBER B2B Customer Process Status Report == Cre...</td>\n",
       "      <td>uber b b customer process status report create...</td>\n",
       "    </tr>\n",
       "    <tr>\n",
       "      <th>...</th>\n",
       "      <td>...</td>\n",
       "      <td>...</td>\n",
       "      <td>...</td>\n",
       "      <td>...</td>\n",
       "      <td>...</td>\n",
       "    </tr>\n",
       "    <tr>\n",
       "      <th>6265</th>\n",
       "      <td>Payment terms</td>\n",
       "      <td>Hi Team,\\n\\n\\nPlease revise the payment terms ...</td>\n",
       "      <td>Coupa_po</td>\n",
       "      <td>Payment terms Hi Team,\\n\\n\\nPlease revise the ...</td>\n",
       "      <td>payment term hi team please revise the payment...</td>\n",
       "    </tr>\n",
       "    <tr>\n",
       "      <th>11284</th>\n",
       "      <td>PO #380398 sync issue</td>\n",
       "      <td>Hi Finapps,\\n\\n\\nPO #380398 is not sync to ora...</td>\n",
       "      <td>Coupa_integration</td>\n",
       "      <td>PO #380398 sync issue Hi Finapps,\\n\\n\\nPO #380...</td>\n",
       "      <td>po sync issue hi finapps po is not sync to ora...</td>\n",
       "    </tr>\n",
       "    <tr>\n",
       "      <th>38158</th>\n",
       "      <td>[Oracle OTM] Ship From/Ship To Roles by Region...</td>\n",
       "      <td>Hi Ravi,\\n\\n\\nAs discussed, please provide a r...</td>\n",
       "      <td>OTM</td>\n",
       "      <td>[Oracle OTM] Ship From/Ship To Roles by Region...</td>\n",
       "      <td>oracle otm ship fromship to role by region ame...</td>\n",
       "    </tr>\n",
       "    <tr>\n",
       "      <th>860</th>\n",
       "      <td>Alteryx Application not found</td>\n",
       "      <td>Hi Team,\\n\\n\\nI am unable to find the alteryx ...</td>\n",
       "      <td>Oracle_gl</td>\n",
       "      <td>Alteryx Application not found Hi Team,\\n\\n\\nI ...</td>\n",
       "      <td>alteryx application not found hi team i am una...</td>\n",
       "    </tr>\n",
       "    <tr>\n",
       "      <th>15795</th>\n",
       "      <td>Coupa Access, ZD#2231085</td>\n",
       "      <td>Hi Team,\\n\\n\\n\\n\\nRequest you to help in provi...</td>\n",
       "      <td>Coupa_access_request</td>\n",
       "      <td>Coupa Access, ZD#2231085 Hi Team,\\n\\n\\n\\n\\nReq...</td>\n",
       "      <td>coupa access zd hi team request you to help in...</td>\n",
       "    </tr>\n",
       "  </tbody>\n",
       "</table>\n",
       "<p>40255 rows × 5 columns</p>\n",
       "</div>"
      ],
      "text/plain": [
       "                                                 Summary  \\\n",
       "15538      ATG PO# 852279 for HYPERTECHNOLOGIE CIARA INC   \n",
       "7267   IC Relationship Setup - (Share Capital) Novemb...   \n",
       "14528                     JSON 210 ERRORS - TRICOR BRAUN   \n",
       "34155           Request to Create POs for Another Entity   \n",
       "31983            UBER B2B Customer Process Status Report   \n",
       "...                                                  ...   \n",
       "6265                                       Payment terms   \n",
       "11284                              PO #380398 sync issue   \n",
       "38158  [Oracle OTM] Ship From/Ship To Roles by Region...   \n",
       "860                        Alteryx Application not found   \n",
       "15795                           Coupa Access, ZD#2231085   \n",
       "\n",
       "                                             Description  \\\n",
       "15538  Hi Team,   Can you please provide a pdf copy o...   \n",
       "7267   Hi FinTech Team,\\n\\n\\n\\n\\n\\nCould you please s...   \n",
       "14528  == Created by JEMH via e-mail from:  <POKLI@KL...   \n",
       "34155  PO Creator: shauna@uber.com \\n Manager:  \\n De...   \n",
       "31983  == Created by JEMH via e-mail from:  <oracle-w...   \n",
       "...                                                  ...   \n",
       "6265   Hi Team,\\n\\n\\nPlease revise the payment terms ...   \n",
       "11284  Hi Finapps,\\n\\n\\nPO #380398 is not sync to ora...   \n",
       "38158  Hi Ravi,\\n\\n\\nAs discussed, please provide a r...   \n",
       "860    Hi Team,\\n\\n\\nI am unable to find the alteryx ...   \n",
       "15795  Hi Team,\\n\\n\\n\\n\\nRequest you to help in provi...   \n",
       "\n",
       "                  Component  \\\n",
       "15538            Oracle_scm   \n",
       "7267            Oracle_agis   \n",
       "14528                   B2B   \n",
       "34155                 Coupa   \n",
       "31983                   B2B   \n",
       "...                     ...   \n",
       "6265               Coupa_po   \n",
       "11284     Coupa_integration   \n",
       "38158                   OTM   \n",
       "860               Oracle_gl   \n",
       "15795  Coupa_access_request   \n",
       "\n",
       "                                                    text  \\\n",
       "15538  ATG PO# 852279 for HYPERTECHNOLOGIE CIARA INC ...   \n",
       "7267   IC Relationship Setup - (Share Capital) Novemb...   \n",
       "14528  JSON 210 ERRORS - TRICOR BRAUN == Created by J...   \n",
       "34155  Request to Create POs for Another Entity PO Cr...   \n",
       "31983  UBER B2B Customer Process Status Report == Cre...   \n",
       "...                                                  ...   \n",
       "6265   Payment terms Hi Team,\\n\\n\\nPlease revise the ...   \n",
       "11284  PO #380398 sync issue Hi Finapps,\\n\\n\\nPO #380...   \n",
       "38158  [Oracle OTM] Ship From/Ship To Roles by Region...   \n",
       "860    Alteryx Application not found Hi Team,\\n\\n\\nI ...   \n",
       "15795  Coupa Access, ZD#2231085 Hi Team,\\n\\n\\n\\n\\nReq...   \n",
       "\n",
       "                                          processed_text  \n",
       "15538  atg po for hypertechnologie ciara inc hi team ...  \n",
       "7267   ic relationship setup share capital november h...  \n",
       "14528  json error tricor braun created by jemh via em...  \n",
       "34155  request to create po for another entity po cre...  \n",
       "31983  uber b b customer process status report create...  \n",
       "...                                                  ...  \n",
       "6265   payment term hi team please revise the payment...  \n",
       "11284  po sync issue hi finapps po is not sync to ora...  \n",
       "38158  oracle otm ship fromship to role by region ame...  \n",
       "860    alteryx application not found hi team i am una...  \n",
       "15795  coupa access zd hi team request you to help in...  \n",
       "\n",
       "[40255 rows x 5 columns]"
      ]
     },
     "execution_count": 56,
     "metadata": {},
     "output_type": "execute_result"
    }
   ],
   "source": [
    "df"
   ]
  },
  {
   "cell_type": "markdown",
   "metadata": {},
   "source": [
    "## Text Preprocessing and Data concatenation "
   ]
  },
  {
   "cell_type": "markdown",
   "metadata": {},
   "source": [
    "# Training "
   ]
  },
  {
   "cell_type": "code",
   "execution_count": 59,
   "metadata": {},
   "outputs": [],
   "source": [
    "X = df[['Summary','Description','processed_text']]\n",
    "y = df['Component']\n",
    "X_train, X_test, y_train, y_test = train_test_split(X, y, test_size = .20, random_state = 42)"
   ]
  },
  {
   "cell_type": "code",
   "execution_count": 60,
   "metadata": {},
   "outputs": [],
   "source": [
    "model = Pipeline([('vect', CountVectorizer(strip_accents='ascii', token_pattern=u'(?ui)\\\\b\\\\w*[a-z]+\\\\w*\\\\b', stop_words='english',max_df=0.85)),\n",
    "       ('tfidf', TfidfTransformer()),\n",
    "      # ('clf', RandomForestClassifier())])\n",
    "       ('mnb', MultinomialNB(fit_prior=False,alpha=0.05))])"
   ]
  },
  {
   "cell_type": "code",
   "execution_count": 61,
   "metadata": {},
   "outputs": [],
   "source": [
    "# randomforest_mer['tfidf'].vocabulary_\n",
    "originalclass = []\n",
    "predictedclass = []\n",
    "\n",
    "#Make our customer score\n",
    "def classification_report_with_accuracy_score(y_true, y_pred):\n",
    "    originalclass.extend(y_true)\n",
    "    predictedclass.extend(y_pred)\n",
    "    return accuracy_score(y_true, y_pred) # return accuracy score"
   ]
  },
  {
   "cell_type": "code",
   "execution_count": 62,
   "metadata": {},
   "outputs": [],
   "source": [
    "cv = KFold(n_splits=10, random_state=1, shuffle=True)\n",
    "y_hat = cross_val_predict(model, X_train['processed_text'].values, y_train, cv=cv, n_jobs=-1)"
   ]
  },
  {
   "cell_type": "code",
   "execution_count": 66,
   "metadata": {},
   "outputs": [],
   "source": [
    "# classification_scores = cross_val_score(randomforest_mer, X_merch, y_merch, scoring=make_scorer(classification_report), \n",
    "#                          cv=cv, n_jobs=-1)\n",
    "\n",
    "y_hat = cross_val_predict(model, X_train['processed_text'].values, y_train, cv=cv, n_jobs=-1)"
   ]
  },
  {
   "cell_type": "code",
   "execution_count": 67,
   "metadata": {},
   "outputs": [
    {
     "data": {
      "text/plain": [
       "0.6887964228046205"
      ]
     },
     "execution_count": 67,
     "metadata": {},
     "output_type": "execute_result"
    }
   ],
   "source": [
    "classification_report_with_accuracy_score(y_train, y_hat)"
   ]
  },
  {
   "cell_type": "code",
   "execution_count": 68,
   "metadata": {},
   "outputs": [
    {
     "name": "stderr",
     "output_type": "stream",
     "text": [
      "/opt/anaconda3/lib/python3.8/site-packages/sklearn/metrics/_classification.py:1318: UndefinedMetricWarning: Precision and F-score are ill-defined and being set to 0.0 in labels with no predicted samples. Use `zero_division` parameter to control this behavior.\n",
      "  _warn_prf(average, modifier, msg_start, len(result))\n"
     ]
    },
    {
     "name": "stdout",
     "output_type": "stream",
     "text": [
      "                           precision    recall  f1-score   support\n",
      "\n",
      "                     Apex       0.67      0.09      0.16       174\n",
      "              Apex_report       0.00      0.00      0.00        35\n",
      "                      B2B       0.78      0.92      0.85      1974\n",
      "              B2B_Billing       0.44      0.03      0.05       291\n",
      "             B2B_CashApps       0.00      0.00      0.00        31\n",
      "                   Concur       0.69      0.47      0.56       142\n",
      "           Concur_expense       0.00      0.00      0.00        45\n",
      "                    Coupa       0.36      0.41      0.38      1974\n",
      "     Coupa_access_request       0.76      0.83      0.79      3253\n",
      "          Coupa_approvals       0.56      0.59      0.58       592\n",
      "         Coupa_delegation       0.64      0.84      0.73       443\n",
      "        Coupa_integration       0.00      0.00      0.00        69\n",
      "Coupa_invoice_integration       0.00      0.00      0.00        29\n",
      "                 Coupa_po       0.48      0.61      0.54      1072\n",
      "     Coupa_po_integration       0.82      0.06      0.11       154\n",
      "              Coupa_setup       0.40      0.14      0.21       302\n",
      "           Coupa_training       0.11      0.01      0.01       156\n",
      "                      DBA       0.20      0.02      0.03        63\n",
      "                      DRM       0.85      0.62      0.72       922\n",
      "                      EPM       0.88      0.92      0.90       941\n",
      "      Enhancement Request       0.00      0.00      0.00         5\n",
      "            Entity_launch       0.63      0.87      0.73       220\n",
      "                      FDS       1.00      0.21      0.34        24\n",
      "                      HFM       0.71      0.80      0.76       932\n",
      "             Hyperion_hfm       0.67      0.07      0.12        30\n",
      "                       IT       0.85      0.10      0.18       112\n",
      "                     JIRA       0.00      0.00      0.00        36\n",
      "                    Kofax       0.90      0.44      0.59       148\n",
      "    Kyriba_access_request       0.74      0.63      0.68       239\n",
      "     Kyriba_report_access       0.68      0.26      0.38        57\n",
      "             Kyriba_setup       0.00      0.00      0.00        40\n",
      "                      OTM       0.95      0.95      0.95      2236\n",
      "                   Oracle       0.60      0.44      0.51      1034\n",
      "    Oracle_access_request       0.51      0.62      0.56      1168\n",
      "              Oracle_agis       0.81      0.72      0.76       331\n",
      "                Oracle_ap       0.61      0.76      0.68      2417\n",
      "       Oracle_ap_payments       0.66      0.77      0.71      1174\n",
      "                Oracle_cm       0.70      0.70      0.70       790\n",
      "Oracle_concurrent_manager       0.00      0.00      0.00        58\n",
      "               Oracle_dba       0.83      0.11      0.19        93\n",
      "        Oracle_delegation       0.40      0.04      0.08        46\n",
      "             Oracle_ebtax       0.00      0.00      0.00        57\n",
      "                Oracle_fa       0.78      0.39      0.52       203\n",
      "                Oracle_gl       0.54      0.73      0.62      1573\n",
      "             Oracle_login       0.00      0.00      0.00        28\n",
      "                Oracle_pa       0.75      0.28      0.41       215\n",
      "    Oracle_scheduled_jobs       0.64      0.91      0.75       663\n",
      "               Oracle_scm       0.76      0.70      0.73       650\n",
      "                Sailpoint       0.00      0.00      0.00        22\n",
      "                      T2C       0.76      0.62      0.68       330\n",
      "                 TrinTech       0.88      0.95      0.91      2183\n",
      "        Vendor_Management       0.59      0.41      0.48       443\n",
      "                  Workday       0.00      0.00      0.00        56\n",
      "             coupa_report       0.50      0.01      0.02        86\n",
      "                     iCan       0.94      0.34      0.50       187\n",
      "                oracle_ar       0.71      0.04      0.07       132\n",
      "                  uAccrue       0.89      0.66      0.76       392\n",
      "                uAllocate       0.57      0.06      0.11        65\n",
      "                    uCash       0.86      0.89      0.88       656\n",
      "                    uSurv       0.44      0.07      0.12       235\n",
      "                usupplier       0.74      0.67      0.70       176\n",
      "\n",
      "                 accuracy                           0.69     32204\n",
      "                macro avg       0.53      0.37      0.39     32204\n",
      "             weighted avg       0.68      0.69      0.67     32204\n",
      "\n"
     ]
    },
    {
     "name": "stderr",
     "output_type": "stream",
     "text": [
      "/opt/anaconda3/lib/python3.8/site-packages/sklearn/metrics/_classification.py:1318: UndefinedMetricWarning: Precision and F-score are ill-defined and being set to 0.0 in labels with no predicted samples. Use `zero_division` parameter to control this behavior.\n",
      "  _warn_prf(average, modifier, msg_start, len(result))\n",
      "/opt/anaconda3/lib/python3.8/site-packages/sklearn/metrics/_classification.py:1318: UndefinedMetricWarning: Precision and F-score are ill-defined and being set to 0.0 in labels with no predicted samples. Use `zero_division` parameter to control this behavior.\n",
      "  _warn_prf(average, modifier, msg_start, len(result))\n"
     ]
    }
   ],
   "source": [
    "print(classification_report(y_train, y_hat))"
   ]
  },
  {
   "cell_type": "code",
   "execution_count": 70,
   "metadata": {},
   "outputs": [
    {
     "data": {
      "text/plain": [
       "['mnb_model_synthetic_26042022.joblib']"
      ]
     },
     "execution_count": 70,
     "metadata": {},
     "output_type": "execute_result"
    }
   ],
   "source": [
    "model.fit( X_train['processed_text'].values,y_train)\n",
    "\n",
    "joblib.dump(model, \"mnb_model_synthetic_26042022.joblib\")"
   ]
  },
  {
   "cell_type": "code",
   "execution_count": 71,
   "metadata": {},
   "outputs": [
    {
     "name": "stdout",
     "output_type": "stream",
     "text": [
      "done\n"
     ]
    }
   ],
   "source": [
    "print('done')"
   ]
  },
  {
   "cell_type": "code",
   "execution_count": 72,
   "metadata": {},
   "outputs": [
    {
     "name": "stderr",
     "output_type": "stream",
     "text": [
      "/opt/anaconda3/lib/python3.8/site-packages/sklearn/metrics/_classification.py:1318: UndefinedMetricWarning: Recall is ill-defined and being set to 0.0 in labels with no true samples. Use `zero_division` parameter to control this behavior.\n",
      "  _warn_prf(average, modifier, msg_start, len(result))\n"
     ]
    }
   ],
   "source": [
    "# model prediction\n",
    "result=X_test\n",
    "y_pred = model.predict(X_test['processed_text'].values)\n",
    "\n",
    "result['original_cat']= y_test\n",
    "result['predicted_cat'] = y_pred\n",
    "\n",
    "result['prediction_cat_confscore'] = np.round_(np.max(model.predict_proba(X_test['processed_text']), axis=1), decimals=2)\n",
    "\n",
    "#\n",
    "output = {'accuracy': accuracy_score(y_pred,y_test),'precision_score':precision_score(y_pred,y_test,average='weighted'),'recall_score':recall_score(y_pred,y_test,average='weighted')\n",
    ",'f1_score':f1_score(y_pred,y_test,average='weighted')}\n",
    "\n",
    "result['confusion_matrix'] = str(output)"
   ]
  },
  {
   "cell_type": "code",
   "execution_count": 75,
   "metadata": {},
   "outputs": [
    {
     "name": "stdout",
     "output_type": "stream",
     "text": [
      "Fitting 5 folds for each of 7 candidates, totalling 35 fits\n",
      "Best Score:  0.686219150222613\n",
      "Best Params:  {'mnb__alpha': 0.05}\n"
     ]
    }
   ],
   "source": [
    "import numpy as np\n",
    "from sklearn.model_selection import GridSearchCV\n",
    "grid_params = {\n",
    "  'mnb__alpha': [0.01,0.05,0.1,0.2,0.3,0.4,0.5],\n",
    "}\n",
    "clf = GridSearchCV(model, grid_params,n_jobs=-1,verbose=1)\n",
    "clf.fit(X_train['processed_text'].values, y_train.values)\n",
    "print(\"Best Score: \", clf.best_score_)\n",
    "print(\"Best Params: \", clf.best_params_)"
   ]
  },
  {
   "cell_type": "code",
   "execution_count": 76,
   "metadata": {},
   "outputs": [],
   "source": [
    "misclassifications= result.loc[result['original_cat']!=result['predicted_cat']]"
   ]
  },
  {
   "cell_type": "code",
   "execution_count": 77,
   "metadata": {},
   "outputs": [
    {
     "data": {
      "text/html": [
       "<div>\n",
       "<style scoped>\n",
       "    .dataframe tbody tr th:only-of-type {\n",
       "        vertical-align: middle;\n",
       "    }\n",
       "\n",
       "    .dataframe tbody tr th {\n",
       "        vertical-align: top;\n",
       "    }\n",
       "\n",
       "    .dataframe thead th {\n",
       "        text-align: right;\n",
       "    }\n",
       "</style>\n",
       "<table border=\"1\" class=\"dataframe\">\n",
       "  <thead>\n",
       "    <tr style=\"text-align: right;\">\n",
       "      <th></th>\n",
       "      <th>Summary</th>\n",
       "      <th>Description</th>\n",
       "      <th>processed_text</th>\n",
       "      <th>original_cat</th>\n",
       "      <th>predicted_cat</th>\n",
       "      <th>prediction_cat_confscore</th>\n",
       "      <th>confusion_matrix</th>\n",
       "    </tr>\n",
       "  </thead>\n",
       "  <tbody>\n",
       "    <tr>\n",
       "      <th>12259</th>\n",
       "      <td>PO#450907 Sync issue, ZD#2271233</td>\n",
       "      <td>Hi Team,\\n\\n\\n\\n\\nThe PO#450907 has not synced...</td>\n",
       "      <td>po sync issue zd hi team the po ha not synced ...</td>\n",
       "      <td>Coupa</td>\n",
       "      <td>Coupa_po</td>\n",
       "      <td>0.68</td>\n",
       "      <td>{'accuracy': 0.6864985716060117, 'precision_sc...</td>\n",
       "    </tr>\n",
       "    <tr>\n",
       "      <th>33164</th>\n",
       "      <td>Invoice #260304256 is on hold</td>\n",
       "      <td>Hi.  NO idea what this means, why I'm getting ...</td>\n",
       "      <td>invoice is on hold hi no idea what this mean w...</td>\n",
       "      <td>Oracle_ap</td>\n",
       "      <td>Coupa</td>\n",
       "      <td>0.90</td>\n",
       "      <td>{'accuracy': 0.6864985716060117, 'precision_sc...</td>\n",
       "    </tr>\n",
       "    <tr>\n",
       "      <th>33649</th>\n",
       "      <td>ZD#1999129 (Entity issue)</td>\n",
       "      <td>Hi Team,\\n\\n\\n\\n\\nThis is with reference to PO...</td>\n",
       "      <td>zd entity issue hi team this is with reference...</td>\n",
       "      <td>Coupa</td>\n",
       "      <td>Coupa_access_request</td>\n",
       "      <td>0.51</td>\n",
       "      <td>{'accuracy': 0.6864985716060117, 'precision_sc...</td>\n",
       "    </tr>\n",
       "    <tr>\n",
       "      <th>20257</th>\n",
       "      <td>CLONE - Delegate Request</td>\n",
       "      <td>Approver Email: perlintey@uber.com \\n Delegate...</td>\n",
       "      <td>clone delegate request approver email perlinte...</td>\n",
       "      <td>Oracle_delegation</td>\n",
       "      <td>Coupa_delegation</td>\n",
       "      <td>1.00</td>\n",
       "      <td>{'accuracy': 0.6864985716060117, 'precision_sc...</td>\n",
       "    </tr>\n",
       "    <tr>\n",
       "      <th>30661</th>\n",
       "      <td>Issue in manual Merging the Invoices</td>\n",
       "      <td>Hi Kiran,\\n\\n\\nAs discussed below are the 2 in...</td>\n",
       "      <td>issue in manual merging the invoice hi kiran a...</td>\n",
       "      <td>Oracle_fa</td>\n",
       "      <td>Oracle_ap</td>\n",
       "      <td>0.64</td>\n",
       "      <td>{'accuracy': 0.6864985716060117, 'precision_sc...</td>\n",
       "    </tr>\n",
       "    <tr>\n",
       "      <th>...</th>\n",
       "      <td>...</td>\n",
       "      <td>...</td>\n",
       "      <td>...</td>\n",
       "      <td>...</td>\n",
       "      <td>...</td>\n",
       "      <td>...</td>\n",
       "      <td>...</td>\n",
       "    </tr>\n",
       "    <tr>\n",
       "      <th>11465</th>\n",
       "      <td>Request Linux Server Access for PRJ instance</td>\n",
       "      <td>Hi DBA Team,_x000D_\\nPlease provide Linux Serv...</td>\n",
       "      <td>request linux server access for prj instance h...</td>\n",
       "      <td>DBA</td>\n",
       "      <td>Oracle_access_request</td>\n",
       "      <td>0.29</td>\n",
       "      <td>{'accuracy': 0.6864985716060117, 'precision_sc...</td>\n",
       "    </tr>\n",
       "    <tr>\n",
       "      <th>16484</th>\n",
       "      <td>Uber Lanka (Private) Limited - Write Off Lines</td>\n",
       "      <td>[+FinTech Support|mailto:finapps-support@uber....</td>\n",
       "      <td>uber lanka private limited write off line fint...</td>\n",
       "      <td>Oracle_ap_payments</td>\n",
       "      <td>Oracle_ap</td>\n",
       "      <td>0.98</td>\n",
       "      <td>{'accuracy': 0.6864985716060117, 'precision_sc...</td>\n",
       "    </tr>\n",
       "    <tr>\n",
       "      <th>3483</th>\n",
       "      <td>PO Template Update - Taiwan Entities</td>\n",
       "      <td>Hi FinTech Team, \\n\\n\\nplease update the follo...</td>\n",
       "      <td>po template update taiwan entity hi fintech te...</td>\n",
       "      <td>Coupa_po</td>\n",
       "      <td>Coupa</td>\n",
       "      <td>0.59</td>\n",
       "      <td>{'accuracy': 0.6864985716060117, 'precision_sc...</td>\n",
       "    </tr>\n",
       "    <tr>\n",
       "      <th>3165</th>\n",
       "      <td>Missing FPA Approver - PR 604331</td>\n",
       "      <td>Hi Team, For [PR 604331|https://uber.coupahost...</td>\n",
       "      <td>missing fpa approver pr hi team for pr httpsub...</td>\n",
       "      <td>Coupa</td>\n",
       "      <td>Coupa_approvals</td>\n",
       "      <td>0.88</td>\n",
       "      <td>{'accuracy': 0.6864985716060117, 'precision_sc...</td>\n",
       "    </tr>\n",
       "    <tr>\n",
       "      <th>4923</th>\n",
       "      <td>Invoices going to rejected status.</td>\n",
       "      <td>Hi Team,\\n\\n\\nWe have processed the below invo...</td>\n",
       "      <td>invoice going to rejected status hi team we ha...</td>\n",
       "      <td>Oracle_ap</td>\n",
       "      <td>Oracle_ap_payments</td>\n",
       "      <td>0.39</td>\n",
       "      <td>{'accuracy': 0.6864985716060117, 'precision_sc...</td>\n",
       "    </tr>\n",
       "  </tbody>\n",
       "</table>\n",
       "<p>2524 rows × 7 columns</p>\n",
       "</div>"
      ],
      "text/plain": [
       "                                              Summary  \\\n",
       "12259                PO#450907 Sync issue, ZD#2271233   \n",
       "33164                   Invoice #260304256 is on hold   \n",
       "33649                       ZD#1999129 (Entity issue)   \n",
       "20257                        CLONE - Delegate Request   \n",
       "30661            Issue in manual Merging the Invoices   \n",
       "...                                               ...   \n",
       "11465    Request Linux Server Access for PRJ instance   \n",
       "16484  Uber Lanka (Private) Limited - Write Off Lines   \n",
       "3483             PO Template Update - Taiwan Entities   \n",
       "3165                 Missing FPA Approver - PR 604331   \n",
       "4923               Invoices going to rejected status.   \n",
       "\n",
       "                                             Description  \\\n",
       "12259  Hi Team,\\n\\n\\n\\n\\nThe PO#450907 has not synced...   \n",
       "33164  Hi.  NO idea what this means, why I'm getting ...   \n",
       "33649  Hi Team,\\n\\n\\n\\n\\nThis is with reference to PO...   \n",
       "20257  Approver Email: perlintey@uber.com \\n Delegate...   \n",
       "30661  Hi Kiran,\\n\\n\\nAs discussed below are the 2 in...   \n",
       "...                                                  ...   \n",
       "11465  Hi DBA Team,_x000D_\\nPlease provide Linux Serv...   \n",
       "16484  [+FinTech Support|mailto:finapps-support@uber....   \n",
       "3483   Hi FinTech Team, \\n\\n\\nplease update the follo...   \n",
       "3165   Hi Team, For [PR 604331|https://uber.coupahost...   \n",
       "4923   Hi Team,\\n\\n\\nWe have processed the below invo...   \n",
       "\n",
       "                                          processed_text        original_cat  \\\n",
       "12259  po sync issue zd hi team the po ha not synced ...               Coupa   \n",
       "33164  invoice is on hold hi no idea what this mean w...           Oracle_ap   \n",
       "33649  zd entity issue hi team this is with reference...               Coupa   \n",
       "20257  clone delegate request approver email perlinte...   Oracle_delegation   \n",
       "30661  issue in manual merging the invoice hi kiran a...           Oracle_fa   \n",
       "...                                                  ...                 ...   \n",
       "11465  request linux server access for prj instance h...                 DBA   \n",
       "16484  uber lanka private limited write off line fint...  Oracle_ap_payments   \n",
       "3483   po template update taiwan entity hi fintech te...            Coupa_po   \n",
       "3165   missing fpa approver pr hi team for pr httpsub...               Coupa   \n",
       "4923   invoice going to rejected status hi team we ha...           Oracle_ap   \n",
       "\n",
       "               predicted_cat  prediction_cat_confscore  \\\n",
       "12259               Coupa_po                      0.68   \n",
       "33164                  Coupa                      0.90   \n",
       "33649   Coupa_access_request                      0.51   \n",
       "20257       Coupa_delegation                      1.00   \n",
       "30661              Oracle_ap                      0.64   \n",
       "...                      ...                       ...   \n",
       "11465  Oracle_access_request                      0.29   \n",
       "16484              Oracle_ap                      0.98   \n",
       "3483                   Coupa                      0.59   \n",
       "3165         Coupa_approvals                      0.88   \n",
       "4923      Oracle_ap_payments                      0.39   \n",
       "\n",
       "                                        confusion_matrix  \n",
       "12259  {'accuracy': 0.6864985716060117, 'precision_sc...  \n",
       "33164  {'accuracy': 0.6864985716060117, 'precision_sc...  \n",
       "33649  {'accuracy': 0.6864985716060117, 'precision_sc...  \n",
       "20257  {'accuracy': 0.6864985716060117, 'precision_sc...  \n",
       "30661  {'accuracy': 0.6864985716060117, 'precision_sc...  \n",
       "...                                                  ...  \n",
       "11465  {'accuracy': 0.6864985716060117, 'precision_sc...  \n",
       "16484  {'accuracy': 0.6864985716060117, 'precision_sc...  \n",
       "3483   {'accuracy': 0.6864985716060117, 'precision_sc...  \n",
       "3165   {'accuracy': 0.6864985716060117, 'precision_sc...  \n",
       "4923   {'accuracy': 0.6864985716060117, 'precision_sc...  \n",
       "\n",
       "[2524 rows x 7 columns]"
      ]
     },
     "execution_count": 77,
     "metadata": {},
     "output_type": "execute_result"
    }
   ],
   "source": [
    "misclassifications"
   ]
  },
  {
   "cell_type": "code",
   "execution_count": 6,
   "metadata": {},
   "outputs": [
    {
     "name": "stdout",
     "output_type": "stream",
     "text": [
      "Sorted dictionary using lambda is :  {'e': 12, 'a': 23, 'g': 67, 45: 90}\n"
     ]
    }
   ],
   "source": [
    "# Initialising a dictionary\n",
    "my_dict = {'a': 23, 'g': 67, 'e': 12, 45: 90}\n",
    " \n",
    "# Sorting dictionary using lambda function\n",
    "sorted_dict = dict(sorted(my_dict.items(), key=lambda x: x[1]))\n",
    " \n",
    "# Printing sorted dictionary\n",
    "print(\"Sorted dictionary using lambda is : \", sorted_dict)"
   ]
  },
  {
   "cell_type": "code",
   "execution_count": 9,
   "metadata": {},
   "outputs": [
    {
     "name": "stdout",
     "output_type": "stream",
     "text": [
      "Sorted dictionary using lambda is :  {'a': 23, 'e': 12, 'g': 67, 'j': 90}\n"
     ]
    }
   ],
   "source": [
    "# Initialising a dictionary\n",
    "my_dict = {'a': 23, 'g': 67, 'e': 12, \"j\": 90}\n",
    " \n",
    "# Sorting dictionary using lambda function\n",
    "sorted_dict = dict(sorted(my_dict.items(), key=lambda x: x[0]))\n",
    " \n",
    "# Printing sorted dictionary\n",
    "print(\"Sorted dictionary using lambda is : \", sorted_dict)"
   ]
  },
  {
   "cell_type": "code",
   "execution_count": 7,
   "metadata": {},
   "outputs": [
    {
     "data": {
      "text/plain": [
       "dict_items([('a', 23), ('g', 67), ('e', 12), (45, 90)])"
      ]
     },
     "execution_count": 7,
     "metadata": {},
     "output_type": "execute_result"
    }
   ],
   "source": [
    "my_dict.items()"
   ]
  },
  {
   "cell_type": "code",
   "execution_count": 11,
   "metadata": {},
   "outputs": [],
   "source": [
    "n=max(my_dict,key=lambda x: my_dict[x])"
   ]
  },
  {
   "cell_type": "code",
   "execution_count": 12,
   "metadata": {},
   "outputs": [
    {
     "data": {
      "text/plain": [
       "'j'"
      ]
     },
     "execution_count": 12,
     "metadata": {},
     "output_type": "execute_result"
    }
   ],
   "source": [
    "n"
   ]
  },
  {
   "cell_type": "code",
   "execution_count": 15,
   "metadata": {},
   "outputs": [
    {
     "data": {
      "text/plain": [
       "KMeans(max_iter=500, n_clusters=2, n_init=5, random_state=42)"
      ]
     },
     "execution_count": 15,
     "metadata": {},
     "output_type": "execute_result"
    }
   ],
   "source": [
    "# import the necessary libraries \n",
    "import json \n",
    "import numpy as np \n",
    "import pandas as pd \n",
    "from sklearn.feature_extraction.text import TfidfVectorizer \n",
    "from sklearn.decomposition import PCA \n",
    "from sklearn.cluster import KMeans \n",
    "import matplotlib.pyplot as plt \n",
    "\n",
    "# Dataset link: \n",
    "# https://github.com/PawanKrGunjan/Natural-Language-Processing/blob/main/Sarcasm%20Detection/sarcasm.json \n",
    "df=pd.read_json('/Users/jghosh2/Downloads/sarcasm.json') \n",
    "\n",
    "# Extract the sentence only \n",
    "sentence = df.headline \n",
    "\n",
    "# create vectorizer \n",
    "vectorizer = TfidfVectorizer(stop_words='english') \n",
    "\n",
    "# vectorizer the text documents \n",
    "vectorized_documents = vectorizer.fit_transform(sentence) \n",
    "\n",
    "# reduce the dimensionality of the data using PCA \n",
    "pca = PCA(n_components=2) \n",
    "reduced_data = pca.fit_transform(vectorized_documents.toarray()) \n",
    "\n",
    "\n",
    "# cluster the documents using k-means \n",
    "num_clusters = 2\n",
    "kmeans = KMeans(n_clusters=num_clusters, n_init=5,max_iter=500, random_state=42) \n",
    "kmeans.fit(vectorized_documents) \n",
    "\n",
    "\n",
    "\n"
   ]
  },
  {
   "cell_type": "code",
   "execution_count": 16,
   "metadata": {},
   "outputs": [
    {
     "name": "stdout",
     "output_type": "stream",
     "text": [
      "                                                document  cluster\n",
      "13380  who says all countries should tax sugary drink...        0\n",
      "13923  'spirit' of the iran nuclear deal is a two-way...        0\n",
      "10889               how artists are transforming detroit        0\n",
      "25937  bush calls for end to 'era of political argument'        0\n",
      "25778                 an mtv 'cribs'-style tour of pluto        0\n"
     ]
    }
   ],
   "source": [
    "# create a dataframe to store the results \n",
    "results = pd.DataFrame() \n",
    "results['document'] = sentence \n",
    "results['cluster'] = kmeans.labels_ \n",
    "\n",
    "# print the results \n",
    "print(results.sample(5)) \n",
    "\n"
   ]
  },
  {
   "cell_type": "code",
   "execution_count": 17,
   "metadata": {},
   "outputs": [
    {
     "data": {
      "text/plain": [
       "array([0, 0, 0, ..., 0, 0, 0], dtype=int32)"
      ]
     },
     "execution_count": 17,
     "metadata": {},
     "output_type": "execute_result"
    }
   ],
   "source": [
    " kmeans.labels_ "
   ]
  },
  {
   "cell_type": "code",
   "execution_count": 18,
   "metadata": {},
   "outputs": [
    {
     "data": {
      "image/png": "[encoded data removed]",
      "text/plain": [
       "<Figure size 432x288 with 1 Axes>"
      ]
     },
     "metadata": {
      "needs_background": "light"
     },
     "output_type": "display_data"
    }
   ],
   "source": [
    "# plot the results \n",
    "colors = ['red', 'green'] \n",
    "cluster = ['Not Sarcastic','Sarcastic'] \n",
    "for i in range(num_clusters): \n",
    "\tplt.scatter(reduced_data[kmeans.labels_ == i, 0], \n",
    "\t\t\t\treduced_data[kmeans.labels_ == i, 1], \n",
    "\t\t\t\ts=10, color=colors[i], \n",
    "\t\t\t\tlabel=f' {cluster[i]}') \n",
    "plt.legend() \n",
    "plt.show()"
   ]
  },
  {
   "cell_type": "code",
   "execution_count": null,
   "metadata": {},
   "outputs": [],
   "source": []
  },
  {
   "cell_type": "code",
   "execution_count": null,
   "metadata": {},
   "outputs": [],
   "source": []
  },
  {
   "cell_type": "code",
   "execution_count": null,
   "metadata": {},
   "outputs": [],
   "source": []
  }
 ],
 "metadata": {
  "kernelspec": {
   "display_name": "Python 3",
   "language": "python",
   "name": "python3"
  },
  "language_info": {
   "codemirror_mode": {
    "name": "ipython",
    "version": 3
   },
   "file_extension": ".py",
   "mimetype": "text/x-python",
   "name": "python",
   "nbconvert_exporter": "python",
   "pygments_lexer": "ipython3",
   "version": "3.8.8"
  }
 },
 "nbformat": 4,
 "nbformat_minor": 2
}
