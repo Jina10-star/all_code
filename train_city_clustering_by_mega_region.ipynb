{
 "cells": [
  {
   "cell_type": "code",
   "execution_count": 458,
   "metadata": {},
   "outputs": [],
   "source": [
    "REGION = \"apac\" # apac/emea/latam/usc\n",
    "GB_THRESHOLD = 95 # we limit to top-cities containing GB_THRESHOLD% of GB, remaining cities have neglibible GB"
   ]
  },
  {
   "cell_type": "code",
   "execution_count": 459,
   "metadata": {},
   "outputs": [],
   "source": [
    "import os\n",
    "if not os.path.exists(\"{}_results\".format(REGION)):\n",
    "    os.mkdir(\"{}_results\".format(REGION))"
   ]
  },
  {
   "cell_type": "code",
   "execution_count": 460,
   "metadata": {},
   "outputs": [],
   "source": [
    "# %%bash\n",
    "# source $VIRTUAL_ENV_DIR/python3/bin/activate\n",
    "\n",
    "# pip install \"scikit-learn==0.20.3\"\n"
   ]
  },
  {
   "cell_type": "code",
   "execution_count": 461,
   "metadata": {},
   "outputs": [],
   "source": [
    "import pandas as pd, numpy as np\n",
    "\n",
    "%matplotlib inline\n",
    "import matplotlib.pyplot as plt\n",
    "\n",
    "X = pd.read_csv(\"data/city_level_metrics_1_23_2022_to_1_29_2022_w_metadata_excluding_outliers_add_lat_lng.csv\") #https://michelangelo-studio.uberinternal.com/file/d55c6275-b239-4d8b-81d5-ac2962a70d3f\n",
    "X['city.mega_region'] = X['city.mega_region'].map({'APAC': 'apac', 'EMEA':'emea', 'LatAm': 'latam', 'US & Canada': 'usc'})\n",
    "# to disable geo features, remove _add_lat_lng\n",
    "#X.drop('city.lat', axis=1, inplace=True)\n",
    "#X.drop('city.lng', axis=1, inplace=True)\n",
    "\n",
    "# replace nulls\n",
    "X.replace('\\\\N', np.nan, inplace=True)\n",
    "\n",
    "if REGION != \"global\":\n",
    "    # limit to LATAM\n",
    "    X = X[X['city.mega_region'] == REGION]\n",
    "\n",
    "\n",
    "# add GB column\n",
    "gb = pd.read_csv(\"data/gb_by_city_id_jan_23_jan_29_2022.csv\")\n",
    "city_gb = dict(zip(gb.city_id, gb.gross_bookings_usd))\n",
    "X['GB_in_MM'] = X['data.city_id'].map(city_gb)/1e6\n",
    "X.sort_values('GB_in_MM', inplace=True, ascending=False)\n",
    "X.reset_index(inplace=True, drop=True)\n",
    "# add GB as pct of total\n",
    "X['gb_pct_of_total'] = X.GB_in_MM/X.GB_in_MM.sum()*100\n",
    "X['city_w_gb_pct'] = X.apply(lambda r: r['city.city_name'] + \" - \" + \"%.2f%%\" % r['gb_pct_of_total'], axis=1)\n",
    "# add offers as pct of total\n",
    "X['offers_pct_of_total'] = X.num_offers/X.num_offers.sum()*100\n",
    "X['city_w_offers_pct'] = X.apply(lambda r: r['city.city_name'] + \" - \" + \"%.2f%%\" % r['offers_pct_of_total'], axis=1)\n",
    "# drop supply surge as this column will be removed in future\n",
    "X.drop('average_supply_surge', axis=1, inplace=True)\n"
   ]
  },
  {
   "cell_type": "code",
   "execution_count": 462,
   "metadata": {},
   "outputs": [
    {
     "data": {
      "text/plain": [
       "Index(['data.city_id', 'city.city_name', 'city.region', 'city.sub_region',\n",
       "       'city.mega_region', 'city.country_name', 'city.lat', 'city.lng',\n",
       "       'num_offers', 'average_driver_canceled', 'average_surge_diff',\n",
       "       'average_demand_surge', 'average_eta', 'average_rounded_eta',\n",
       "       'average_fd_eta', 'average_eyeball_eta', 'average_rating',\n",
       "       'average_forward_dispatched', 'average_starpower',\n",
       "       'average_days_since_signup', 'average_days_since_first_trip',\n",
       "       'average_trip_distance_haversine', 'average_is_fifo',\n",
       "       'average_is_commute', 'average_is_rider_canceled_dispatch', 'GB_in_MM',\n",
       "       'gb_pct_of_total', 'city_w_gb_pct', 'offers_pct_of_total',\n",
       "       'city_w_offers_pct'],\n",
       "      dtype='object')"
      ]
     },
     "execution_count": 462,
     "metadata": {},
     "output_type": "execute_result"
    }
   ],
   "source": [
    "X.columns"
   ]
  },
  {
   "cell_type": "code",
   "execution_count": 463,
   "metadata": {},
   "outputs": [
    {
     "data": {
      "text/plain": [
       "(274, 30)"
      ]
     },
     "execution_count": 463,
     "metadata": {},
     "output_type": "execute_result"
    }
   ],
   "source": [
    "X.shape"
   ]
  },
  {
   "cell_type": "code",
   "execution_count": 464,
   "metadata": {},
   "outputs": [
    {
     "name": "stdout",
     "output_type": "stream",
     "text": [
      "26\n"
     ]
    },
    {
     "data": {
      "image/png": "[encoded data removed]",
      "text/plain": [
       "<Figure size 432x288 with 1 Axes>"
      ]
     },
     "metadata": {
      "needs_background": "light"
     },
     "output_type": "display_data"
    }
   ],
   "source": [
    "# find number of cities with top 90% of offers\n",
    "X.sort_values('offers_pct_of_total', inplace=True, ascending=False)\n",
    "plt.plot(np.arange(X.shape[0]), np.cumsum(X[\"offers_pct_of_total\"]))\n",
    "plt.xlabel(\"K\")\n",
    "plt.ylabel(\"Offer count (as % of total)\")\n",
    "plt.title(\"Offer count (as % of total) from top-K cities vs K\")\n",
    "\n",
    "offers_pct_of_total_at_k = np.cumsum(X[\"offers_pct_of_total\"].tolist())\n",
    "K = next(i for i in range(X.shape[0]) if offers_pct_of_total_at_k[i] > 90)\n",
    "print(K)\n",
    "#X[\"offers_pct_of_total\"][:169].sum()"
   ]
  },
  {
   "cell_type": "code",
   "execution_count": 465,
   "metadata": {},
   "outputs": [
    {
     "name": "stdout",
     "output_type": "stream",
     "text": [
      "34\n"
     ]
    },
    {
     "data": {
      "image/png": "[encoded data removed]",
      "text/plain": [
       "<Figure size 432x288 with 1 Axes>"
      ]
     },
     "metadata": {
      "needs_background": "light"
     },
     "output_type": "display_data"
    }
   ],
   "source": [
    "# find number of cities with top 90% of GB\n",
    "\n",
    "X.sort_values('gb_pct_of_total', inplace=True, ascending=False)\n",
    "plt.plot(np.arange(X.shape[0]), np.cumsum(X[\"gb_pct_of_total\"]))\n",
    "plt.xlabel(\"K\")\n",
    "plt.ylabel(\"GB (as % of total)\")\n",
    "plt.title(\"GB (as % of total) from top-K cities vs K\")\n",
    "\n",
    "gb_pct_of_total_at_k = np.cumsum(X[\"gb_pct_of_total\"].tolist())\n",
    "K = next(i for i in range(X.shape[0]) if gb_pct_of_total_at_k[i] > GB_THRESHOLD)\n",
    "print(K)"
   ]
  },
  {
   "cell_type": "code",
   "execution_count": 466,
   "metadata": {},
   "outputs": [
    {
     "data": {
      "text/plain": [
       "(35, 30)"
      ]
     },
     "execution_count": 466,
     "metadata": {},
     "output_type": "execute_result"
    }
   ],
   "source": [
    "# limit to top 90% GB cities or use all cities\n",
    "use_all_cities = False\n",
    "if use_all_cities:\n",
    "    K = X.shape[0]\n",
    "    \n",
    "X = X[:K+1]\n",
    "X.shape"
   ]
  },
  {
   "cell_type": "code",
   "execution_count": 467,
   "metadata": {},
   "outputs": [],
   "source": [
    "city_info = X[['data.city_id', 'city.city_name', 'city.mega_region', 'city.country_name', 'city.region', 'city.sub_region', 'offers_pct_of_total', 'gb_pct_of_total', 'city_w_offers_pct', 'city_w_gb_pct', 'num_offers', 'GB_in_MM', 'average_days_since_signup']] #, 'num_offers', 'GB_in_MM'\n",
    "offers_pct_of_total = X.loc[:, 'offers_pct_of_total']\n",
    "gb_pct_of_total = X.loc[:, 'gb_pct_of_total']\n",
    "\n",
    "cols = [c for c in X.columns if c not in city_info.columns]\n",
    "#X = X[cols]\n",
    "X = pd.concat([X[cols], pd.get_dummies(X['city.mega_region'])], axis=1)\n",
    "cols = X.columns"
   ]
  },
  {
   "cell_type": "code",
   "execution_count": 468,
   "metadata": {},
   "outputs": [
    {
     "name": "stderr",
     "output_type": "stream",
     "text": [
      "/dsw/snapshots/snapshot_dsw_default_jupyter/python3/lib/python3.6/site-packages/sklearn/preprocessing/data.py:645: DataConversionWarning: Data with input dtype uint8, float64, object were all converted to float64 by StandardScaler.\n",
      "  return self.partial_fit(X, y)\n",
      "/dsw/snapshots/snapshot_dsw_default_jupyter/python3/lib/python3.6/site-packages/sklearn/base.py:464: DataConversionWarning: Data with input dtype uint8, float64, object were all converted to float64 by StandardScaler.\n",
      "  return self.fit(X, **fit_params).transform(X)\n"
     ]
    }
   ],
   "source": [
    "# perform feature normalization\n",
    "from sklearn.preprocessing import StandardScaler\n",
    "scaler = StandardScaler()\n",
    "X = scaler.fit_transform(X)\n",
    "X = np.array(X)"
   ]
  },
  {
   "cell_type": "code",
   "execution_count": 469,
   "metadata": {},
   "outputs": [
    {
     "data": {
      "image/png": "[encoded data removed]",
      "text/plain": [
       "<Figure size 432x288 with 1 Axes>"
      ]
     },
     "metadata": {
      "needs_background": "light"
     },
     "output_type": "display_data"
    }
   ],
   "source": [
    "# find optimal number of clusters\n",
    "from sklearn.cluster import KMeans\n",
    "from sklearn.metrics import silhouette_score\n",
    "from sklearn import mixture\n",
    "\n",
    "\n",
    "feats_vec = X\n",
    "# cluster the feature-vectors and obtain cluster memberships\n",
    "# find optimal number of clusters\n",
    "\n",
    "# try sum of within cluster-variance as a measure of goodness\n",
    "def withinSS(feats_vec, labels, centers):\n",
    "    result = 0\n",
    "    for i in range(feats_vec.shape[0]):\n",
    "        result += np.sum((feats_vec[i,] - kmeans.cluster_centers_[labels[i]])**2)\n",
    "    return result\n",
    "\n",
    "lowest_bic = np.infty \n",
    "withinSSList = []\n",
    "silhouetteScoreList = []\n",
    "n_components_range = range(2, min(feats_vec.shape[0], 50))\n",
    "#n_components_range = range(2, 10)\n",
    "cv_types = ['spherical', 'tied', 'diag', 'full']\n",
    "bic = []\n",
    "bic_1 = []\n",
    "bic_2 = []\n",
    "bic_3 = []\n",
    "bic_4 = []\n",
    "for n_components in n_components_range:\n",
    "    # Fit a mixture of Gaussians with EM\n",
    "    kmeans = KMeans(n_clusters=n_components, random_state = 1)\n",
    "    kmeans.fit(feats_vec)\n",
    "    labels = kmeans.labels_\n",
    "    silhouetteScoreList.append(silhouette_score(feats_vec, labels, metric='euclidean'))\n",
    "    withinSSList.append(withinSS(feats_vec, labels, kmeans.cluster_centers_))\n",
    "    #print(bic)\n",
    "    for cv_type in cv_types:\n",
    "        gmm = mixture.GaussianMixture(n_components=n_components, covariance_type=cv_type)\n",
    "        gmm.fit(feats_vec)\n",
    "        score = gmm.bic(feats_vec)\n",
    "        bic.append(score)\n",
    "        if cv_type == 'spherical': bic_1.append(score)\n",
    "        if cv_type == 'tied': bic_2.append(score)\n",
    "        if cv_type == 'diag': bic_3.append(score)\n",
    "        if cv_type == 'full': bic_4.append(score)\n",
    "        if bic[-1] < lowest_bic:\n",
    "            lowest_bic = bic[-1]\n",
    "            best_kmm = gmm\n",
    "        \n",
    "\n",
    "\n",
    "plt.plot(range(2, 2 + len(withinSSList)), withinSSList)\n",
    "plt.title(\"Decay of within cluster variance vs k\")\n",
    "plt.show()\n",
    "plt.savefig(\"{}_results/kmeans_decay_city_count_{}.pdf\".format(REGION, X.shape[0]))\n",
    "plt.clf(); plt.close()\n",
    "\n",
    "plt.plot(range(2, 2+ len(silhouetteScoreList)), silhouetteScoreList)\n",
    "plt.title(\"Variation in silhouette score vs k\")\n",
    "plt.savefig(\"{}_results/silhouette_growth.pdf\".format(REGION))\n",
    "plt.clf(); plt.close()\n",
    "\n",
    "#plt.ylim(ymax = , ymin = -50000)\n",
    "plt.plot(range(2, 2 + len(bic_1)), bic_1, label = \"Spherical\")\n",
    "plt.plot(range(2, 2 + len(bic_1)), bic_2, label = \"Tied\")\n",
    "plt.plot(range(2, 2 + len(bic_1)), bic_3, label = \"Diag\")\n",
    "plt.plot(range(2, 2 + len(bic_1)), bic_4, label = \"Full\")\n",
    "plt.title(\"Variation in BIC vs k for GMM\")\n",
    "plt.legend(loc = \"upper right\", fontsize = 'x-small');\n",
    "plt.savefig(\"{}_results/bic.pdf\".format(REGION))\n",
    "plt.clf(); plt.close()"
   ]
  },
  {
   "cell_type": "code",
   "execution_count": 470,
   "metadata": {},
   "outputs": [],
   "source": [
    "# perform clustering\n",
    "n_components = 10\n",
    "kmeans = KMeans(n_clusters=n_components, random_state = 1)\n",
    "#kmeans.fit(feats_vec) #\n",
    "\n",
    "weighted = False\n",
    "if weighted:\n",
    "    kmeans.fit(feats_vec, sample_weight = gb_pct_of_total)\n",
    "else:\n",
    "    kmeans.fit(feats_vec) #, sample_weight = offers_pct_of_total, , sample_weight = gb_pct_of_total\n",
    "\n",
    "labels = kmeans.labels_\n",
    "cluster_centers = kmeans.cluster_centers_"
   ]
  },
  {
   "cell_type": "code",
   "execution_count": 471,
   "metadata": {},
   "outputs": [
    {
     "name": "stderr",
     "output_type": "stream",
     "text": [
      "/dsw/snapshots/snapshot_dsw_default_jupyter/python3/lib/python3.6/site-packages/sklearn/ensemble/forest.py:246: FutureWarning: The default value of n_estimators will change from 10 in version 0.20 to 100 in 0.22.\n",
      "  \"10 in version 0.20 to 100 in 0.22.\", FutureWarning)\n"
     ]
    },
    {
     "data": {
      "text/plain": [
       "Text(0.5, 1.0, 'RF importances of features')"
      ]
     },
     "execution_count": 471,
     "metadata": {},
     "output_type": "execute_result"
    },
    {
     "data": {
      "image/png": "[encoded data removed]",
      "text/plain": [
       "<Figure size 432x288 with 1 Axes>"
      ]
     },
     "metadata": {
      "needs_background": "light"
     },
     "output_type": "display_data"
    }
   ],
   "source": [
    "# visualize feature importances\n",
    "from sklearn.ensemble import RandomForestClassifier\n",
    "\n",
    "df = pd.DataFrame(feats_vec, columns=cols)\n",
    "y = labels\n",
    "\n",
    "rf = RandomForestClassifier(random_state=123)\n",
    "rf.fit(df, y)\n",
    "\n",
    "\n",
    "imp = pd.DataFrame(sorted([x for x in zip(cols, rf.feature_importances_)], key = lambda x : abs(x[1])), columns = ['Feature', 'coef'])\n",
    "imp.index = imp['Feature']\n",
    "imp.iloc[-20:].plot(kind = \"barh\")\n",
    "plt.title(\"RF importances of features\")"
   ]
  },
  {
   "cell_type": "code",
   "execution_count": 472,
   "metadata": {},
   "outputs": [],
   "source": [
    "# store city clusters\n",
    "from collections import defaultdict\n",
    "labels = np.array(labels)\n",
    "store_clusters = defaultdict(list)\n",
    "for label in np.unique(labels):\n",
    "    # find city dx with max GB\n",
    "    city_idxs = sorted(np.where(labels == label)[0]) \n",
    "    max_idx = city_idxs[0]\n",
    "    key = (label, city_info.loc[max_idx, 'gb_pct_of_total']) # store max GB as key\n",
    "    store_clusters[key] = city_idxs"
   ]
  },
  {
   "cell_type": "code",
   "execution_count": 473,
   "metadata": {},
   "outputs": [
    {
     "name": "stdout",
     "output_type": "stream",
     "text": [
      "\n",
      "Cluster 0 - 18.29% GB\n",
      "-------\n",
      "Melbourne - 16.01%\n",
      "Gold Coast - 2.28%\n",
      "\n",
      "Cluster 1 - 19.69% GB\n",
      "-------\n",
      "Sydney - 15.69%\n",
      "Auckland - 2.56%\n",
      "Canberra - 0.89%\n",
      "Christchurch - 0.56%\n",
      "\n",
      "Cluster 2 - 12.20% GB\n",
      "-------\n",
      "Hong Kong - 8.00%\n",
      "Hyderabad - 2.32%\n",
      "Dhaka - 1.31%\n",
      "Jaipur - 0.57%\n",
      "\n",
      "Cluster 3 - 8.04% GB\n",
      "-------\n",
      "Taipei - 5.82%\n",
      "Taichung - 1.15%\n",
      "Kaohsiung - 0.57%\n",
      "Taoyuan - 0.50%\n",
      "\n",
      "Cluster 4 - 15.01% GB\n",
      "-------\n",
      "Perth - 5.54%\n",
      "Brisbane - 5.07%\n",
      "Adelaide - 2.32%\n",
      "Wellington - 0.86%\n",
      "Hobart - 0.53%\n",
      "Cairns - 0.37%\n",
      "Darwin - 0.33%\n",
      "\n",
      "Cluster 5 - 12.27% GB\n",
      "-------\n",
      "Delhi NCR - 5.29%\n",
      "Mumbai - 4.22%\n",
      "Kolkata - 2.76%\n",
      "\n",
      "Cluster 6 - 4.72% GB\n",
      "-------\n",
      "Bangalore - 2.61%\n",
      "Chennai - 1.06%\n",
      "Pune - 1.05%\n",
      "\n",
      "Cluster 7 - 1.67% GB\n",
      "-------\n",
      "Seoul - 1.11%\n",
      "Tokyo - 0.57%\n",
      "\n",
      "Cluster 8 - 1.55% GB\n",
      "-------\n",
      "Colombo - 0.81%\n",
      "Ahmedabad - 0.42%\n",
      "Chandigarh - 0.32%\n",
      "\n",
      "Cluster 9 - 1.58% GB\n",
      "-------\n",
      "Newcastle - 0.63%\n",
      "Sunshine Coast - 0.51%\n",
      "Geelong - 0.44%\n"
     ]
    }
   ],
   "source": [
    "def distance(x, c):\n",
    "    return np.sqrt(sum((x-c)**2))\n",
    "\n",
    "sorted_result = []\n",
    "clusters_list = []\n",
    "\n",
    "for i, cluster_key in enumerate(sorted(store_clusters.keys(), key = lambda x: x[1], reverse=True)):\n",
    "    cluster_gb = sum([city_info.loc[city_idx, 'gb_pct_of_total'] for city_idx in store_clusters[cluster_key]])\n",
    "    print(\"\\n\" + \"Cluster {} - {:.2f}% GB\".format(i, cluster_gb) + '\\n' + \"-------\")\n",
    "    sorted_result.append([\"\"]*city_info.shape[1] + [\"Cluster {} - {:.2f}% GB\".format(i, cluster_gb),\"\"])\n",
    "    for city_idx in store_clusters[cluster_key]:\n",
    "        print(city_info.loc[city_idx, 'city_w_gb_pct'])\n",
    "        sorted_result.append(list(city_info.loc[city_idx]) + [i, distance(feats_vec[city_idx], cluster_centers[cluster_key[0]])])\n",
    "    sorted_result.append([\"\", \"\", \"\", \"\", \"\", \"\"])\n",
    "    clusters_list.append({'cluster_gb': cluster_gb, 'cities': [city_info.loc[city_idx].to_dict() for city_idx in store_clusters[cluster_key]]})\n"
   ]
  },
  {
   "cell_type": "code",
   "execution_count": 474,
   "metadata": {},
   "outputs": [],
   "source": [
    "# dump to csv\n",
    "sorted_result = pd.DataFrame(sorted_result, columns = list(city_info.columns) + ['cluster', 'distance_from_cluster_center'])"
   ]
  },
  {
   "cell_type": "code",
   "execution_count": 475,
   "metadata": {},
   "outputs": [],
   "source": [
    "sorted_result[[\"cluster\", \"city.city_name\", \"gb_pct_of_total\", \"offers_pct_of_total\", \"city.mega_region\", \"city.country_name\", \"city.region\", \"city.sub_region\", \"data.city_id\", \"distance_from_cluster_center\"]].to_csv(\"{}_results/clustering_result_weighted_{}_city_count_{}.csv\".format(REGION, weighted, X.shape[0]), index=False)"
   ]
  },
  {
   "cell_type": "code",
   "execution_count": 476,
   "metadata": {},
   "outputs": [
    {
     "name": "stdout",
     "output_type": "stream",
     "text": [
      "Index(['city.lat', 'city.lng', 'average_driver_canceled', 'average_surge_diff',\n",
      "       'average_demand_surge', 'average_eta', 'average_rounded_eta',\n",
      "       'average_fd_eta', 'average_eyeball_eta', 'average_rating',\n",
      "       'average_forward_dispatched', 'average_starpower',\n",
      "       'average_days_since_first_trip', 'average_trip_distance_haversine',\n",
      "       'average_is_fifo', 'average_is_commute',\n",
      "       'average_is_rider_canceled_dispatch', 'apac'],\n",
      "      dtype='object')\n"
     ]
    }
   ],
   "source": [
    "print(cols)"
   ]
  },
  {
   "cell_type": "code",
   "execution_count": 477,
   "metadata": {},
   "outputs": [
    {
     "data": {
      "text/plain": [
       "['clusters/apac.pkl']"
      ]
     },
     "execution_count": 477,
     "metadata": {},
     "output_type": "execute_result"
    }
   ],
   "source": [
    "# dump to pkl\n",
    "import joblib\n",
    "joblib.dump(clusters_list, \"clusters/{}.pkl\".format(REGION))"
   ]
  },
  {
   "cell_type": "markdown",
   "metadata": {},
   "source": [
    "# Visualization"
   ]
  },
  {
   "cell_type": "code",
   "execution_count": 478,
   "metadata": {},
   "outputs": [
    {
     "data": {
      "text/plain": [
       "(-5.0, 5.0)"
      ]
     },
     "execution_count": 478,
     "metadata": {},
     "output_type": "execute_result"
    },
    {
     "data": {
      "image/png": "[encoded data removed]",
      "text/plain": [
       "<Figure size 432x288 with 1 Axes>"
      ]
     },
     "metadata": {
      "needs_background": "light"
     },
     "output_type": "display_data"
    }
   ],
   "source": [
    "# PCA visualization\n",
    "from sklearn.decomposition import PCA\n",
    "pca = PCA(n_components=2)\n",
    "X_2 = pca.fit_transform(X)\n",
    "\n",
    "cm = plt.get_cmap('gist_rainbow')\n",
    "colors = [cm(1.*i/n_components) for i in range(n_components)]\n",
    "colors_list = [colors[c] for c in labels]\n",
    "\n",
    "N = 20\n",
    "\n",
    "# zip joins x and y coordinates in pairs\n",
    "for i in range(N):\n",
    "    plt.plot(X_2[i,0], X_2[i, 1], \".\", color = colors_list[i])\n",
    "    label = city_info.iloc[i, 1]\n",
    "    plt.annotate(label, # this is the text\n",
    "                 (X_2[i, 0],X_2[i, 1]), # these are the coordinates to position the label\n",
    "                 textcoords=\"offset points\", # how to position the text\n",
    "                 xytext=(5,2), # distance from text to points (x,y)\n",
    "                 ha='right',\n",
    "                 va='bottom',\n",
    "                 fontsize=10) # horizontal alignment can be left, right or center\n",
    "    \n",
    "plt.xlim(-5, 5)"
   ]
  },
  {
   "cell_type": "code",
   "execution_count": 479,
   "metadata": {},
   "outputs": [],
   "source": [
    "# t SNE visualization\n",
    "from sklearn.manifold import TSNE\n",
    "\n",
    "tsne = TSNE(perplexity=31, n_components=2, init='pca', n_iter=5000, method='exact')\n",
    "vectors = tsne.fit_transform(X)"
   ]
  },
  {
   "cell_type": "code",
   "execution_count": 480,
   "metadata": {},
   "outputs": [
    {
     "data": {
      "image/png": "[encoded data removed]",
      "text/plain": [
       "<Figure size 432x288 with 1 Axes>"
      ]
     },
     "metadata": {
      "needs_background": "light"
     },
     "output_type": "display_data"
    }
   ],
   "source": [
    "N = X.shape[0]\n",
    "\n",
    "city_ids_to_highlight = {805, 148, 204, 781, 144, 146, 533, 1408, 1315, 1359, 1395, 1379, 1388, 1325, 1390, 1423, 1335, 1275}\n",
    "\n",
    "# zip joins x and y coordinates in pairs\n",
    "for i in range(N):\n",
    "    city_id = city_info.iloc[i, 0]\n",
    "    plt.plot(vectors[i,0], vectors[i, 1], \".\", color = colors_list[i], markersize = np.log(100*city_info.loc[i, 'gb_pct_of_total']))\n",
    "        \n",
    "    label = city_info.iloc[i, 1]\n",
    "    plt.annotate(label, # this is the text\n",
    "                 (vectors[i, 0],vectors[i, 1]), # these are the coordinates to position the label\n",
    "                 textcoords=\"offset points\", # how to position the text\n",
    "                 xytext=(5,2), # distance from text to points (x,y)\n",
    "                 color = \"black\" if city_id not in city_ids_to_highlight else \"blue\",\n",
    "                 ha='right',\n",
    "                 va='bottom',\n",
    "                 fontsize=3.5) # horizontal alignment can be left, right or center\n",
    "plt.xlabel(\"T-SNE Dim1\")\n",
    "plt.ylabel(\"T-SNE Dim2\")\n",
    "plt.savefig(\"{}_results/city_embeddings_city_count_{}.pdf\".format(REGION, N))\n",
    "\n"
   ]
  },
  {
   "cell_type": "code",
   "execution_count": 481,
   "metadata": {},
   "outputs": [
    {
     "ename": "NameError",
     "evalue": "name 'city_ids_to_plot' is not defined",
     "output_type": "error",
     "traceback": [
      "\u001b[0;31m---------------------------------------------------------------------------\u001b[0m",
      "\u001b[0;31mNameError\u001b[0m                                 Traceback (most recent call last)",
      "\u001b[0;32m<ipython-input-481-531bebaf1f82>\u001b[0m in \u001b[0;36m<module>\u001b[0;34m\u001b[0m\n\u001b[0;32m----> 1\u001b[0;31m \u001b[0mset\u001b[0m\u001b[0;34m(\u001b[0m\u001b[0msorted_result\u001b[0m\u001b[0;34m[\u001b[0m\u001b[0;34m~\u001b[0m\u001b[0msorted_result\u001b[0m\u001b[0;34m.\u001b[0m\u001b[0mcluster\u001b[0m\u001b[0;34m.\u001b[0m\u001b[0misna\u001b[0m\u001b[0;34m(\u001b[0m\u001b[0;34m)\u001b[0m\u001b[0;34m]\u001b[0m\u001b[0;34m[\u001b[0m\u001b[0;34m'cluster'\u001b[0m\u001b[0;34m]\u001b[0m\u001b[0;34m)\u001b[0m \u001b[0;34m-\u001b[0m \u001b[0mset\u001b[0m\u001b[0;34m(\u001b[0m\u001b[0msorted_result\u001b[0m\u001b[0;34m[\u001b[0m\u001b[0msorted_result\u001b[0m\u001b[0;34m[\u001b[0m\u001b[0;34m'data.city_id'\u001b[0m\u001b[0;34m]\u001b[0m\u001b[0;34m.\u001b[0m\u001b[0misin\u001b[0m\u001b[0;34m(\u001b[0m\u001b[0mcity_ids_to_plot\u001b[0m\u001b[0;34m)\u001b[0m\u001b[0;34m]\u001b[0m\u001b[0;34m[\u001b[0m\u001b[0;34m'cluster'\u001b[0m\u001b[0;34m]\u001b[0m\u001b[0;34m)\u001b[0m\u001b[0;34m\u001b[0m\u001b[0m\n\u001b[0m",
      "\u001b[0;31mNameError\u001b[0m: name 'city_ids_to_plot' is not defined"
     ]
    }
   ],
   "source": [
    "set(sorted_result[~sorted_result.cluster.isna()]['cluster']) - set(sorted_result[sorted_result['data.city_id'].isin(city_ids_to_plot)]['cluster'])"
   ]
  },
  {
   "cell_type": "code",
   "execution_count": null,
   "metadata": {},
   "outputs": [],
   "source": [
    "len(set(city_ids_to_plot) & set(city_info['data.city_id']))"
   ]
  }
 ],
 "metadata": {
  "kernelspec": {
   "display_name": "Python 3 (General DS)",
   "language": "python",
   "name": "python3"
  },
  "language_info": {
   "codemirror_mode": {
    "name": "ipython",
    "version": 3
   },
   "file_extension": ".py",
   "mimetype": "text/x-python",
   "name": "python",
   "nbconvert_exporter": "python",
   "pygments_lexer": "ipython3",
   "version": "3.6.4"
  }
 },
 "nbformat": 4,
 "nbformat_minor": 2
}
