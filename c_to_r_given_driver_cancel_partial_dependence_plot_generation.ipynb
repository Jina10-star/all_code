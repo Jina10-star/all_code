{
 "cells": [
  {
   "cell_type": "code",
   "execution_count": 2,
   "metadata": {},
   "outputs": [],
   "source": [
    "# generate partial dependence plots"
   ]
  },
  {
   "cell_type": "code",
   "execution_count": 3,
   "metadata": {},
   "outputs": [],
   "source": [
    "import os \n",
    "import pandas as pd, numpy as np\n",
    "\n",
    "%matplotlib inline\n",
    "import matplotlib.pyplot as plt"
   ]
  },
  {
   "cell_type": "code",
   "execution_count": 39,
   "metadata": {},
   "outputs": [],
   "source": [
    "# premium model prediction 1% sample \n",
    "region = 'latam'\n",
    "data = pd.read_csv(\"data/{}_cr_given_driver_cancel_prediction_sample.csv\".format(region)) #https://querybuilder-ea.uberinternal.com/r/meSaQarnf/run/edit"
   ]
  },
  {
   "cell_type": "code",
   "execution_count": 40,
   "metadata": {},
   "outputs": [
    {
     "data": {
      "text/plain": [
       "((262643, 84),\n",
       " Index(['derived_accepted_app_rating_avg_4week',\n",
       "        'derived_accepted_surge_multiplier_var_1week', 'derived_supply_surge',\n",
       "        'derived_accepted_trip_distance_haversine_avg_1week',\n",
       "        'derived_accepts_total_4week', 'derived_dropoff_location_longitude',\n",
       "        'derived_accepted_trip_distance_haversine_var_1week',\n",
       "        'derived_cancels_total_1week',\n",
       "        'derived_accepted_dispatched_eta_avg_1week',\n",
       "        'derived_canceled_eta_delta_avg_1week',\n",
       "        'derived_accepted_surge_multiplier_avg_1week', 'derived_eta',\n",
       "        'derived_canceled_trip_distance_haversine_var_1week',\n",
       "        'derived_is_commute', 'derived_days_since_signup',\n",
       "        'derived_canceled_eta_delta_avg_4week', 'derived_rank',\n",
       "        'derived_surge_diff', 'derived_accepted_eta_delta_avg_1week',\n",
       "        'derived_canceled_dispatched_eta_var_1week',\n",
       "        'derived_accepted_eyeball_eta_seconds_var_4week',\n",
       "        'derived_accepted_dispatched_eta_avg_4week',\n",
       "        'derived_canceled_eyeball_eta_seconds_var_1week',\n",
       "        'derived_accepted_trip_distance_haversine_var_4week',\n",
       "        'derived_diff_eta_delta_accepted_eta_delta_avg_4week',\n",
       "        'derived_hour_of_day', 'derived_request_location_longitude',\n",
       "        'derived_canceled_eta_delta_var_1week', 'derived_fd_eta',\n",
       "        'derived_accepted_eta_delta_var_4week',\n",
       "        'derived_accepted_eyeball_eta_seconds_avg_4week',\n",
       "        'derived_accepted_dispatched_eta_var_4week',\n",
       "        'derived_accepted_app_rating_var_4week',\n",
       "        'derived_diff_dispatched_eta_accepted_dispatched_eta_avg_4week',\n",
       "        'derived_canceled_dispatched_eta_avg_1week',\n",
       "        'derived_accepted_surge_multiplier_avg_4week',\n",
       "        'derived_canceled_eyeball_eta_seconds_avg_1week',\n",
       "        'derived_accepted_trip_distance_haversine_avg_4week', 'derived_city_id',\n",
       "        'derived_canceled_eyeball_eta_seconds_avg_4week',\n",
       "        'derived_diff_trip_distance_en_route_distance',\n",
       "        'derived_canceled_dispatched_eta_var_4week',\n",
       "        'derived_canceled_trip_distance_haversine_avg_4week',\n",
       "        'derived_accepted_eyeball_eta_seconds_avg_1week', 'derived_eyeball_eta',\n",
       "        'derived_canceled_app_rating_var_4week',\n",
       "        'derived_accepted_app_rating_var_1week',\n",
       "        'derived_is_forward_dispatched', 'derived_distance_request_to_dropoff',\n",
       "        'derived_accepted_eta_delta_avg_4week',\n",
       "        'derived_accepted_eyeball_eta_seconds_var_1week',\n",
       "        'derived_canceled_eyeball_eta_seconds_var_4week',\n",
       "        'derived_request_location_latitude',\n",
       "        'derived_canceled_app_rating_avg_1week',\n",
       "        'derived_canceled_surge_multiplier_avg_1week',\n",
       "        'derived_canceled_dispatched_eta_avg_4week',\n",
       "        'derived_canceled_trip_distance_haversine_var_4week', 'derived_is_fifo',\n",
       "        'derived_trip_distance_haversine', 'derived_eta_delta',\n",
       "        'derived_cancels_avg_4week',\n",
       "        'derived_accepted_surge_multiplier_var_4week', 'derived_day_of_week',\n",
       "        'derived_canceled_surge_multiplier_var_4week',\n",
       "        'derived_dropoff_location_latitude',\n",
       "        'derived_supply_location_longitude', 'derived_accepts_total_1week',\n",
       "        'derived_canceled_app_rating_avg_4week',\n",
       "        'derived_accepted_app_rating_avg_1week',\n",
       "        'derived_canceled_surge_multiplier_var_1week',\n",
       "        'derived_canceled_trip_distance_haversine_avg_1week',\n",
       "        'derived_supply_location_latitude',\n",
       "        'derived_accepted_dispatched_eta_var_1week',\n",
       "        'derived_canceled_eta_delta_var_4week',\n",
       "        'derived_distance_supply_to_request', 'derived_cancels_avg_1week',\n",
       "        'derived_eta_remaining',\n",
       "        'derived_diff_eyeball_eta_accepted_eyeball_eta_seconds_avg_4week',\n",
       "        'derived_canceled_surge_multiplier_avg_4week',\n",
       "        'derived_canceled_app_rating_var_1week',\n",
       "        'derived_distance_supply_to_dropoff', 'derived_cancels_total_4week',\n",
       "        'derived_accepted_eta_delta_var_1week', 'probability'],\n",
       "       dtype='object'))"
      ]
     },
     "execution_count": 40,
     "metadata": {},
     "output_type": "execute_result"
    }
   ],
   "source": [
    "data.shape, data.columns"
   ]
  },
  {
   "cell_type": "code",
   "execution_count": null,
   "metadata": {},
   "outputs": [],
   "source": [
    "# create partial dependence plots\n",
    "results_dir = \"c_to_r_given_driver_cancel_{}_results\".format(region)\n",
    "if not os.path.exists(results_dir):\n",
    "    os.mkdir(results_dir)\n",
    "    \n",
    "# create raw dependence plots\n",
    "for feature in data.columns:\n",
    "    plt.plot(data[feature], data['probability'], \".\")\n",
    "    plt.xlabel(feature)\n",
    "    plt.ylabel('score')\n",
    "    #plt.show()"
   ]
  },
  {
   "cell_type": "code",
   "execution_count": null,
   "metadata": {},
   "outputs": [],
   "source": [
    "# create bucketized dependence plots\n",
    "for feature in data.columns:\n",
    "    a = data[feature].min()\n",
    "    b = data[feature].max()\n",
    "    fig = plt.figure(figsize=(11,5))\n",
    "    try:\n",
    "        if feature == 'derived_rank':\n",
    "            data.groupby(data[feature]).probability.mean().plot.bar(rot=10, fontsize=9)\n",
    "        else:\n",
    "            data.groupby(pd.cut(data[feature], np.linspace(a,b,11))).probability.mean().plot.bar(rot=10, fontsize=9)\n",
    "            \n",
    "        plt.xlabel(feature)\n",
    "        plt.ylabel('C/R')\n",
    "        plt.title('Trends in model predicted C/R by {}'.format(feature))\n",
    "        plt.savefig(os.path.join(results_dir, \"{}.pdf\".format(feature)))\n",
    "        #plt.show()\n",
    "    except ValueError:\n",
    "        pass"
   ]
  }
 ],
 "metadata": {
  "kernelspec": {
   "display_name": "Python 3.7 (General DS)",
   "language": "python",
   "name": "python37"
  },
  "language_info": {
   "codemirror_mode": {
    "name": "ipython",
    "version": 3
   },
   "file_extension": ".py",
   "mimetype": "text/x-python",
   "name": "python",
   "nbconvert_exporter": "python",
   "pygments_lexer": "ipython3",
   "version": "3.7.12"
  }
 },
 "nbformat": 4,
 "nbformat_minor": 2
}
