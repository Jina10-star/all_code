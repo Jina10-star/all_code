{
 "cells": [
  {
   "cell_type": "code",
   "execution_count": 60,
   "id": "9932fc5f",
   "metadata": {},
   "outputs": [
    {
     "name": "stdout",
     "output_type": "stream",
     "text": [
      "Table Name : [('TRAIN',), ('TEST',)]\n"
     ]
    }
   ],
   "source": [
    "# loading in modules\n",
    "import sqlite3\n",
    "\n",
    "# creating file path\n",
    "dbfile = '/Users/jghosh2/Desktop/dataset 2/data.db'\n",
    "import pandas as pd\n",
    "import sqlite3\n",
    "import sqlalchemy \n",
    "import numpy as np\n",
    "try:\n",
    "    conn = sqlite3.connect(dbfile)    \n",
    "except Exception as e:\n",
    "    print(e)\n",
    "\n",
    "#Now in order to read in pandas dataframe we need to know table name\n",
    "cursor = conn.cursor()\n",
    "cursor.execute(\"SELECT name FROM sqlite_master WHERE type='table';\")\n",
    "print(f\"Table Name : {cursor.fetchall()}\")\n",
    "\n",
    "df_train = pd.read_sql_query('SELECT * FROM TRAIN', conn)\n",
    "df_test = pd.read_sql_query('SELECT * FROM TEST', conn)"
   ]
  },
  {
   "cell_type": "code",
   "execution_count": 61,
   "id": "29f12e6d",
   "metadata": {},
   "outputs": [
    {
     "data": {
      "text/html": [
       "<div>\n",
       "<style scoped>\n",
       "    .dataframe tbody tr th:only-of-type {\n",
       "        vertical-align: middle;\n",
       "    }\n",
       "\n",
       "    .dataframe tbody tr th {\n",
       "        vertical-align: top;\n",
       "    }\n",
       "\n",
       "    .dataframe thead th {\n",
       "        text-align: right;\n",
       "    }\n",
       "</style>\n",
       "<table border=\"1\" class=\"dataframe\">\n",
       "  <thead>\n",
       "    <tr style=\"text-align: right;\">\n",
       "      <th></th>\n",
       "      <th>ID</th>\n",
       "      <th>Customer_Type</th>\n",
       "      <th>Customer_Age</th>\n",
       "      <th>Source_location_type</th>\n",
       "      <th>Destination_location_type</th>\n",
       "      <th>Distance</th>\n",
       "      <th>Peak</th>\n",
       "      <th>Traffic</th>\n",
       "      <th>Time</th>\n",
       "      <th>Weather</th>\n",
       "      <th>Is_weekend</th>\n",
       "      <th>Customer_demand</th>\n",
       "      <th>Price</th>\n",
       "    </tr>\n",
       "  </thead>\n",
       "  <tbody>\n",
       "    <tr>\n",
       "      <th>0</th>\n",
       "      <td>0x2cd1</td>\n",
       "      <td>New</td>\n",
       "      <td>14.0</td>\n",
       "      <td>Inside_City</td>\n",
       "      <td>Outside_City</td>\n",
       "      <td>7.6</td>\n",
       "      <td>No</td>\n",
       "      <td>48.6</td>\n",
       "      <td>Morning</td>\n",
       "      <td>Sunny</td>\n",
       "      <td>No</td>\n",
       "      <td>7.36</td>\n",
       "      <td>6.84</td>\n",
       "    </tr>\n",
       "    <tr>\n",
       "      <th>1</th>\n",
       "      <td>0x10985</td>\n",
       "      <td>New</td>\n",
       "      <td>25.0</td>\n",
       "      <td>Outside_City</td>\n",
       "      <td>Inside_City</td>\n",
       "      <td>8.1</td>\n",
       "      <td>Yes</td>\n",
       "      <td>85.8</td>\n",
       "      <td>Midday</td>\n",
       "      <td>Sunny</td>\n",
       "      <td>No</td>\n",
       "      <td>6.42</td>\n",
       "      <td>8.71</td>\n",
       "    </tr>\n",
       "    <tr>\n",
       "      <th>2</th>\n",
       "      <td>0xae8d</td>\n",
       "      <td>New</td>\n",
       "      <td>19.0</td>\n",
       "      <td>Inside_City</td>\n",
       "      <td>Inside_City</td>\n",
       "      <td>13.1</td>\n",
       "      <td>No</td>\n",
       "      <td>86.0</td>\n",
       "      <td>Morning</td>\n",
       "      <td>Sunny</td>\n",
       "      <td>Yes</td>\n",
       "      <td>NaN</td>\n",
       "      <td>10.16</td>\n",
       "    </tr>\n",
       "    <tr>\n",
       "      <th>3</th>\n",
       "      <td>0x86ab</td>\n",
       "      <td>Regular</td>\n",
       "      <td>46.0</td>\n",
       "      <td>Inside_City</td>\n",
       "      <td>Inside_City</td>\n",
       "      <td>4.7</td>\n",
       "      <td>No</td>\n",
       "      <td>67.1</td>\n",
       "      <td>Midnight</td>\n",
       "      <td>Windy</td>\n",
       "      <td>No</td>\n",
       "      <td>6.19</td>\n",
       "      <td>13.44</td>\n",
       "    </tr>\n",
       "    <tr>\n",
       "      <th>4</th>\n",
       "      <td>0x8c</td>\n",
       "      <td>Inactive</td>\n",
       "      <td>52.0</td>\n",
       "      <td>Inside_City</td>\n",
       "      <td>Outside_City</td>\n",
       "      <td>2.6</td>\n",
       "      <td>No</td>\n",
       "      <td>39.8</td>\n",
       "      <td>Midday</td>\n",
       "      <td>Rainy</td>\n",
       "      <td>No</td>\n",
       "      <td>5.83</td>\n",
       "      <td>11.49</td>\n",
       "    </tr>\n",
       "    <tr>\n",
       "      <th>...</th>\n",
       "      <td>...</td>\n",
       "      <td>...</td>\n",
       "      <td>...</td>\n",
       "      <td>...</td>\n",
       "      <td>...</td>\n",
       "      <td>...</td>\n",
       "      <td>...</td>\n",
       "      <td>...</td>\n",
       "      <td>...</td>\n",
       "      <td>...</td>\n",
       "      <td>...</td>\n",
       "      <td>...</td>\n",
       "      <td>...</td>\n",
       "    </tr>\n",
       "    <tr>\n",
       "      <th>57197</th>\n",
       "      <td>0x3779</td>\n",
       "      <td>New</td>\n",
       "      <td>29.0</td>\n",
       "      <td>Inside_City</td>\n",
       "      <td>Outside_City</td>\n",
       "      <td>7.9</td>\n",
       "      <td>No</td>\n",
       "      <td>####</td>\n",
       "      <td>Evening</td>\n",
       "      <td>Rainy</td>\n",
       "      <td>No</td>\n",
       "      <td>4.06</td>\n",
       "      <td>10.32</td>\n",
       "    </tr>\n",
       "    <tr>\n",
       "      <th>57198</th>\n",
       "      <td>0x666b</td>\n",
       "      <td>Passive</td>\n",
       "      <td>24.0</td>\n",
       "      <td>Outside_City</td>\n",
       "      <td>Outside_City</td>\n",
       "      <td>27.3</td>\n",
       "      <td>Yes</td>\n",
       "      <td>34.1</td>\n",
       "      <td>Night</td>\n",
       "      <td>Sunny</td>\n",
       "      <td>No</td>\n",
       "      <td>NaN</td>\n",
       "      <td>17.77</td>\n",
       "    </tr>\n",
       "    <tr>\n",
       "      <th>57199</th>\n",
       "      <td>0xcce</td>\n",
       "      <td>New</td>\n",
       "      <td>32.0</td>\n",
       "      <td>Inside_City</td>\n",
       "      <td>Outside_City</td>\n",
       "      <td>8.6</td>\n",
       "      <td>Yes</td>\n",
       "      <td>53.0</td>\n",
       "      <td>Midday</td>\n",
       "      <td>Windy</td>\n",
       "      <td>No</td>\n",
       "      <td>6.23</td>\n",
       "      <td>7.85</td>\n",
       "    </tr>\n",
       "    <tr>\n",
       "      <th>57200</th>\n",
       "      <td>0x3d49</td>\n",
       "      <td>Passive</td>\n",
       "      <td>29.0</td>\n",
       "      <td>Inside_City</td>\n",
       "      <td>Outside_City</td>\n",
       "      <td>11.5</td>\n",
       "      <td>Yes</td>\n",
       "      <td>45.7</td>\n",
       "      <td>Night</td>\n",
       "      <td>Rainy</td>\n",
       "      <td>Yes</td>\n",
       "      <td>4.89</td>\n",
       "      <td>13.88</td>\n",
       "    </tr>\n",
       "    <tr>\n",
       "      <th>57201</th>\n",
       "      <td>0xfe95</td>\n",
       "      <td>Passive</td>\n",
       "      <td>38.0</td>\n",
       "      <td>Inside_City</td>\n",
       "      <td>Outside_City</td>\n",
       "      <td>4.8</td>\n",
       "      <td>Yes</td>\n",
       "      <td>73.3</td>\n",
       "      <td>Morning</td>\n",
       "      <td>Windy</td>\n",
       "      <td>No</td>\n",
       "      <td>9.88</td>\n",
       "      <td>14.19</td>\n",
       "    </tr>\n",
       "  </tbody>\n",
       "</table>\n",
       "<p>57202 rows × 13 columns</p>\n",
       "</div>"
      ],
      "text/plain": [
       "            ID Customer_Type  Customer_Age Source_location_type  \\\n",
       "0       0x2cd1           New          14.0          Inside_City   \n",
       "1      0x10985           New          25.0         Outside_City   \n",
       "2       0xae8d           New          19.0          Inside_City   \n",
       "3       0x86ab       Regular          46.0          Inside_City   \n",
       "4         0x8c      Inactive          52.0          Inside_City   \n",
       "...        ...           ...           ...                  ...   \n",
       "57197   0x3779           New          29.0          Inside_City   \n",
       "57198   0x666b       Passive          24.0         Outside_City   \n",
       "57199    0xcce           New          32.0          Inside_City   \n",
       "57200   0x3d49       Passive          29.0          Inside_City   \n",
       "57201   0xfe95       Passive          38.0          Inside_City   \n",
       "\n",
       "      Destination_location_type  Distance Peak Traffic      Time Weather  \\\n",
       "0                  Outside_City       7.6   No    48.6   Morning   Sunny   \n",
       "1                   Inside_City       8.1  Yes    85.8    Midday   Sunny   \n",
       "2                   Inside_City      13.1   No    86.0   Morning   Sunny   \n",
       "3                   Inside_City       4.7   No    67.1  Midnight   Windy   \n",
       "4                  Outside_City       2.6   No    39.8    Midday   Rainy   \n",
       "...                         ...       ...  ...     ...       ...     ...   \n",
       "57197              Outside_City       7.9   No    ####   Evening   Rainy   \n",
       "57198              Outside_City      27.3  Yes    34.1     Night   Sunny   \n",
       "57199              Outside_City       8.6  Yes    53.0    Midday   Windy   \n",
       "57200              Outside_City      11.5  Yes    45.7     Night   Rainy   \n",
       "57201              Outside_City       4.8  Yes    73.3   Morning   Windy   \n",
       "\n",
       "      Is_weekend  Customer_demand  Price  \n",
       "0             No             7.36   6.84  \n",
       "1             No             6.42   8.71  \n",
       "2            Yes              NaN  10.16  \n",
       "3             No             6.19  13.44  \n",
       "4             No             5.83  11.49  \n",
       "...          ...              ...    ...  \n",
       "57197         No             4.06  10.32  \n",
       "57198         No              NaN  17.77  \n",
       "57199         No             6.23   7.85  \n",
       "57200        Yes             4.89  13.88  \n",
       "57201         No             9.88  14.19  \n",
       "\n",
       "[57202 rows x 13 columns]"
      ]
     },
     "execution_count": 61,
     "metadata": {},
     "output_type": "execute_result"
    }
   ],
   "source": [
    "df_train "
   ]
  },
  {
   "cell_type": "code",
   "execution_count": 62,
   "id": "b5b49e11",
   "metadata": {},
   "outputs": [],
   "source": [
    "#df_train['Traffic'].value_counts()"
   ]
  },
  {
   "cell_type": "code",
   "execution_count": 63,
   "id": "1f98110f",
   "metadata": {},
   "outputs": [],
   "source": [
    "df_train['Traffic']=df_train['Traffic'].replace('####',np.nan)"
   ]
  },
  {
   "cell_type": "code",
   "execution_count": 64,
   "id": "2dc8510c",
   "metadata": {},
   "outputs": [
    {
     "name": "stderr",
     "output_type": "stream",
     "text": [
      "<ipython-input-64-dc65cd226c4f>:1: FutureWarning: The default value of numeric_only in DataFrame.median is deprecated. In a future version, it will default to False. In addition, specifying 'numeric_only=None' is deprecated. Select only valid columns or specify the value of numeric_only to silence this warning.\n",
      "  df_train=df_train.fillna(df_train.median())\n"
     ]
    }
   ],
   "source": [
    "df_train=df_train.fillna(df_train.median())\n",
    "#df_train['Category_of_customers']=df_train['Category_of_customers'].fillna(df_train['Category_of_customers'].mode()[0])"
   ]
  },
  {
   "cell_type": "code",
   "execution_count": 65,
   "id": "98831616",
   "metadata": {},
   "outputs": [],
   "source": [
    "df_test['Traffic']=df_test['Traffic'].replace('####',np.nan)"
   ]
  },
  {
   "cell_type": "code",
   "execution_count": 66,
   "id": "f2f16808",
   "metadata": {},
   "outputs": [
    {
     "name": "stderr",
     "output_type": "stream",
     "text": [
      "<ipython-input-66-76e91a643acb>:1: FutureWarning: The default value of numeric_only in DataFrame.median is deprecated. In a future version, it will default to False. In addition, specifying 'numeric_only=None' is deprecated. Select only valid columns or specify the value of numeric_only to silence this warning.\n",
      "  df_test=df_test.fillna(df_test.median())\n"
     ]
    }
   ],
   "source": [
    "df_test=df_test.fillna(df_test.median())\n",
    "#df_test['Category_of_customers']=df_test['Category_of_customers'].fillna(df_test['Category_of_customers'].mode()[0])"
   ]
  },
  {
   "cell_type": "code",
   "execution_count": 67,
   "id": "80de9c30",
   "metadata": {},
   "outputs": [],
   "source": [
    "from sklearn import preprocessing\n",
    "\n",
    "le = preprocessing.LabelEncoder()\n",
    "df_train['Customer_Type'] = le.fit_transform(df_train.Customer_Type.values)\n",
    "df_test['Customer_Type'] = le.fit_transform(df_test.Customer_Type.values)\n",
    "df_train['Source_location_type'] = le.fit_transform(df_train.Source_location_type.values)\n",
    "df_test['Source_location_type'] = le.fit_transform(df_test.Source_location_type.values)\n",
    "df_train['Destination_location_type'] = le.fit_transform(df_train.Destination_location_type.values)\n",
    "df_test['Destination_location_type'] = le.fit_transform(df_test.Destination_location_type.values)\n",
    "df_train['Peak'] = le.fit_transform(df_train.Peak.values)\n",
    "df_test['Peak'] = le.fit_transform(df_test.Peak.values)\n",
    "df_train['Time'] = le.fit_transform(df_train.Time.values)\n",
    "df_test['Time'] = le.fit_transform(df_test.Time.values)\n",
    "df_train['Weather'] = le.fit_transform(df_train.Weather.values)\n",
    "df_test['Weather'] = le.fit_transform(df_test.Weather.values)\n",
    "df_train['Is_weekend'] = le.fit_transform(df_train.Is_weekend.values)\n",
    "df_test['Is_weekend'] = le.fit_transform(df_test.Is_weekend.values)"
   ]
  },
  {
   "cell_type": "code",
   "execution_count": 68,
   "id": "c7c29de7",
   "metadata": {},
   "outputs": [
    {
     "data": {
      "text/plain": [
       "Index(['ID', 'Customer_Type', 'Customer_Age', 'Source_location_type',\n",
       "       'Destination_location_type', 'Distance', 'Peak', 'Traffic', 'Time',\n",
       "       'Weather', 'Is_weekend', 'Customer_demand', 'Price'],\n",
       "      dtype='object')"
      ]
     },
     "execution_count": 68,
     "metadata": {},
     "output_type": "execute_result"
    }
   ],
   "source": [
    "df_train.columns"
   ]
  },
  {
   "cell_type": "code",
   "execution_count": 89,
   "id": "5493c3ed",
   "metadata": {},
   "outputs": [],
   "source": [
    "X_train=df_train[['Customer_Type', 'Customer_Age', 'Source_location_type',\n",
    "       'Destination_location_type', 'Distance', 'Peak', 'Traffic', 'Time',\n",
    "       'Weather', 'Is_weekend', 'Customer_demand']]\n",
    "Y_train=df_train[['Price']]\n",
    "X_test=df_test[['Customer_Type', 'Customer_Age', 'Source_location_type',\n",
    "       'Destination_location_type', 'Distance', 'Peak', 'Traffic', 'Time',\n",
    "       'Weather', 'Is_weekend', 'Customer_demand']]"
   ]
  },
  {
   "cell_type": "code",
   "execution_count": 77,
   "id": "0374cdda",
   "metadata": {},
   "outputs": [
    {
     "data": {
      "text/plain": [
       "LinearRegression()"
      ]
     },
     "execution_count": 77,
     "metadata": {},
     "output_type": "execute_result"
    }
   ],
   "source": [
    "#from sklearn.linear_model import LinearRegression\n",
    "#regressor = LinearRegression()\n",
    "#regressor.fit(X_train, Y_train)\n"
   ]
  },
  {
   "cell_type": "code",
   "execution_count": 90,
   "id": "a44970ff",
   "metadata": {},
   "outputs": [],
   "source": [
    "#from sklearn.ensemble import RandomForestRegressor\n",
    "#forest_reg = RandomForestRegressor(random_state=42)\n",
    "#forest_reg.fit(X_train, Y_train)"
   ]
  },
  {
   "cell_type": "code",
   "execution_count": 78,
   "id": "b7be723f",
   "metadata": {},
   "outputs": [],
   "source": [
    "#y_pred = regressor.predict(X_test)"
   ]
  },
  {
   "cell_type": "code",
   "execution_count": 73,
   "id": "f39b9e63",
   "metadata": {},
   "outputs": [],
   "source": [
    "#y_pred_random = forest_reg.predict(X_test)"
   ]
  },
  {
   "cell_type": "code",
   "execution_count": 99,
   "id": "7da03ff3",
   "metadata": {},
   "outputs": [
    {
     "name": "stderr",
     "output_type": "stream",
     "text": [
      "/Users/jghosh2/opt/anaconda3/lib/python3.8/site-packages/sklearn/utils/validation.py:63: DataConversionWarning: A column-vector y was passed when a 1d array was expected. Please change the shape of y to (n_samples, ), for example using ravel().\n",
      "  return f(*args, **kwargs)\n"
     ]
    },
    {
     "data": {
      "text/plain": [
       "GradientBoostingRegressor(random_state=42)"
      ]
     },
     "execution_count": 99,
     "metadata": {},
     "output_type": "execute_result"
    }
   ],
   "source": [
    "from sklearn import ensemble\n",
    "from sklearn.ensemble import GradientBoostingRegressor\n",
    "model = ensemble.GradientBoostingRegressor(random_state=42)\n",
    "model.fit(X_train, Y_train)"
   ]
  },
  {
   "cell_type": "code",
   "execution_count": 100,
   "id": "b29a1ef5",
   "metadata": {},
   "outputs": [],
   "source": [
    "y_pred_grad = model.predict(X_test)"
   ]
  },
  {
   "cell_type": "code",
   "execution_count": 101,
   "id": "3ccce3b6",
   "metadata": {},
   "outputs": [],
   "source": [
    "df_sub=pd.DataFrame()\n",
    "df_sub['ID']=df_test['ID']\n",
    "df_sub['Price']=y_pred_grad"
   ]
  },
  {
   "cell_type": "code",
   "execution_count": 102,
   "id": "13e03953",
   "metadata": {},
   "outputs": [],
   "source": [
    "df_sub.to_csv('sample_submission.csv')"
   ]
  },
  {
   "cell_type": "code",
   "execution_count": null,
   "id": "bd2caa7a",
   "metadata": {},
   "outputs": [],
   "source": []
  }
 ],
 "metadata": {
  "kernelspec": {
   "display_name": "Python 3",
   "language": "python",
   "name": "python3"
  },
  "language_info": {
   "codemirror_mode": {
    "name": "ipython",
    "version": 3
   },
   "file_extension": ".py",
   "mimetype": "text/x-python",
   "name": "python",
   "nbconvert_exporter": "python",
   "pygments_lexer": "ipython3",
   "version": "3.8.8"
  }
 },
 "nbformat": 4,
 "nbformat_minor": 5
}
