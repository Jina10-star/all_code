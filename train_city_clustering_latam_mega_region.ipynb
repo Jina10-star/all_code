{
 "cells": [
  {
   "cell_type": "code",
   "execution_count": 337,
   "metadata": {},
   "outputs": [],
   "source": [
    "import pandas as pd, numpy as np\n",
    "\n",
    "%matplotlib inline\n",
    "import matplotlib.pyplot as plt\n",
    "\n",
    "X = pd.read_csv(\"data/city_level_metrics_1_23_2022_to_1_29_2022_w_metadata_excluding_outliers_add_lat_lng_with_quantiles.csv\") #https://michelangelo-studio.uberinternal.com/file/d55c6275-b239-4d8b-81d5-ac2962a70d3f\n",
    "\n",
    "# to disable geo features, remove _add_lat_lng\n",
    "#X.drop('city.lat', axis=1, inplace=True)\n",
    "#X.drop('city.lng', axis=1, inplace=True)\n",
    "\n",
    "# replace nulls\n",
    "X.replace('\\\\N', np.nan, inplace=True)\n",
    "# limit to LATAM\n",
    "X = X[X['city.mega_region'] == \"LatAm\"]\n",
    "\n",
    "\n",
    "# add GB column\n",
    "gb = pd.read_csv(\"data/gb_by_city_id_jan_23_jan_29_2022.csv\")\n",
    "city_gb = dict(zip(gb.city_id, gb.gross_bookings_usd))\n",
    "X['GB_in_MM'] = X['data.city_id'].map(city_gb)/1e6\n",
    "X.sort_values('GB_in_MM', inplace=True, ascending=False)\n",
    "X.reset_index(inplace=True, drop=True)\n",
    "# add GB as pct of total\n",
    "X['gb_pct_of_total'] = X.GB_in_MM/X.GB_in_MM.sum()*100\n",
    "X['city_w_gb_pct'] = X.apply(lambda r: r['city.city_name'] + \" - \" + \"%.2f%%\" % r['gb_pct_of_total'], axis=1)\n",
    "# add offers as pct of total\n",
    "X['offers_pct_of_total'] = X.num_offers/X.num_offers.sum()*100\n",
    "X['city_w_offers_pct'] = X.apply(lambda r: r['city.city_name'] + \" - \" + \"%.2f%%\" % r['offers_pct_of_total'], axis=1)\n",
    "# drop supply surge as this column will be removed in future\n",
    "X.drop('average_supply_surge', axis=1, inplace=True)\n"
   ]
  },
  {
   "cell_type": "code",
   "execution_count": 338,
   "metadata": {},
   "outputs": [
    {
     "data": {
      "text/plain": [
       "Index(['data.city_id', 'city.city_name', 'city.region', 'city.sub_region',\n",
       "       'city.mega_region', 'city.country_name', 'city.lat', 'city.lng',\n",
       "       'num_offers', 'average_driver_canceled', 'quantile1_supply_surge',\n",
       "       'quantile2_supply_surge', 'average_surge_diff', 'quantile1_surge_diff',\n",
       "       'quantile2_surge_diff', 'average_demand_surge',\n",
       "       'quantile1_demand_surge', 'quantile2_demand_surge', 'average_eta',\n",
       "       'quantile1_eta', 'quantile2_eta', 'average_rounded_eta',\n",
       "       'quantile1_rounded_eta', 'quantile2_rounded_eta', 'average_fd_eta',\n",
       "       'quantile1_fd_eta', 'quantile2_fd_eta', 'average_eyeball_eta',\n",
       "       'quantile1_eyeball_eta', 'quantile2_eyeball_eta', 'average_rating',\n",
       "       'quantile1_rating', 'quantile2_rating', 'average_forward_dispatched',\n",
       "       'average_starpower', 'average_days_since_signup',\n",
       "       'average_days_since_first_trip', 'quantile1_days_since_first_trip',\n",
       "       'quantile2_days_since_first_trip', 'average_trip_distance_haversine',\n",
       "       'quantile1_trip_distance_haversine',\n",
       "       'quantile2_trip_distance_haversine', 'average_is_fifo',\n",
       "       'average_is_commute', 'average_is_rider_canceled_dispatch', 'GB_in_MM',\n",
       "       'gb_pct_of_total', 'city_w_gb_pct', 'offers_pct_of_total',\n",
       "       'city_w_offers_pct'],\n",
       "      dtype='object')"
      ]
     },
     "execution_count": 338,
     "metadata": {},
     "output_type": "execute_result"
    }
   ],
   "source": [
    "X.columns"
   ]
  },
  {
   "cell_type": "code",
   "execution_count": 339,
   "metadata": {},
   "outputs": [
    {
     "data": {
      "text/plain": [
       "(302, 50)"
      ]
     },
     "execution_count": 339,
     "metadata": {},
     "output_type": "execute_result"
    }
   ],
   "source": [
    "X.shape"
   ]
  },
  {
   "cell_type": "code",
   "execution_count": 340,
   "metadata": {},
   "outputs": [
    {
     "name": "stdout",
     "output_type": "stream",
     "text": [
      "66\n"
     ]
    },
    {
     "data": {
      "image/png": "[encoded data removed]",
      "text/plain": [
       "<Figure size 432x288 with 1 Axes>"
      ]
     },
     "metadata": {
      "needs_background": "light"
     },
     "output_type": "display_data"
    }
   ],
   "source": [
    "# find number of cities with top 90% of offers\n",
    "X.sort_values('offers_pct_of_total', inplace=True, ascending=False)\n",
    "plt.plot(np.arange(X.shape[0]), np.cumsum(X[\"offers_pct_of_total\"]))\n",
    "plt.xlabel(\"K\")\n",
    "plt.ylabel(\"Offer count (as % of total)\")\n",
    "plt.title(\"Offer count (as % of total) from top-K cities vs K\")\n",
    "\n",
    "offers_pct_of_total_at_k = np.cumsum(X[\"offers_pct_of_total\"].tolist())\n",
    "K = next(i for i in range(X.shape[0]) if offers_pct_of_total_at_k[i] > 90)\n",
    "print(K)\n",
    "#X[\"offers_pct_of_total\"][:169].sum()"
   ]
  },
  {
   "cell_type": "code",
   "execution_count": 341,
   "metadata": {},
   "outputs": [
    {
     "name": "stdout",
     "output_type": "stream",
     "text": [
      "127\n"
     ]
    },
    {
     "data": {
      "image/png": "[encoded data removed]",
      "text/plain": [
       "<Figure size 432x288 with 1 Axes>"
      ]
     },
     "metadata": {
      "needs_background": "light"
     },
     "output_type": "display_data"
    }
   ],
   "source": [
    "# find number of cities with top 90% of GB\n",
    "\n",
    "X.sort_values('gb_pct_of_total', inplace=True, ascending=False)\n",
    "plt.plot(np.arange(X.shape[0]), np.cumsum(X[\"gb_pct_of_total\"]))\n",
    "plt.xlabel(\"K\")\n",
    "plt.ylabel(\"GB (as % of total)\")\n",
    "plt.title(\"GB (as % of total) from top-K cities vs K\")\n",
    "\n",
    "gb_pct_of_total_at_k = np.cumsum(X[\"gb_pct_of_total\"].tolist())\n",
    "K = next(i for i in range(X.shape[0]) if gb_pct_of_total_at_k[i] > 99)\n",
    "print(K)"
   ]
  },
  {
   "cell_type": "code",
   "execution_count": 342,
   "metadata": {},
   "outputs": [
    {
     "data": {
      "text/plain": [
       "(128, 50)"
      ]
     },
     "execution_count": 342,
     "metadata": {},
     "output_type": "execute_result"
    }
   ],
   "source": [
    "# limit to top 90% GB cities or use all cities\n",
    "use_all_cities = False\n",
    "if use_all_cities:\n",
    "    K = X.shape[0]\n",
    "    \n",
    "X = X[:K+1]\n",
    "X.shape"
   ]
  },
  {
   "cell_type": "code",
   "execution_count": 343,
   "metadata": {},
   "outputs": [],
   "source": [
    "city_info = X[['data.city_id', 'city.city_name', 'city.mega_region', 'city.country_name', 'city.region', 'city.sub_region', 'offers_pct_of_total', 'gb_pct_of_total', 'city_w_offers_pct', 'city_w_gb_pct', 'num_offers', 'GB_in_MM', 'average_days_since_signup']]\n",
    "offers_pct_of_total = X.loc[:, 'offers_pct_of_total']\n",
    "gb_pct_of_total = X.loc[:, 'gb_pct_of_total']\n",
    "\n",
    "cols = [c for c in X.columns if c not in city_info.columns]\n",
    "X = X[cols]"
   ]
  },
  {
   "cell_type": "code",
   "execution_count": 355,
   "metadata": {},
   "outputs": [],
   "source": [
    "# perform feature normalization\n",
    "\n",
    "from sklearn.preprocessing import StandardScaler\n",
    "scaler = StandardScaler()\n",
    "X = scaler.fit_transform(X)\n",
    "X = np.array(X)"
   ]
  },
  {
   "cell_type": "code",
   "execution_count": 356,
   "metadata": {},
   "outputs": [
    {
     "data": {
      "image/png": "[encoded data removed]",
      "text/plain": [
       "<Figure size 432x288 with 1 Axes>"
      ]
     },
     "metadata": {
      "needs_background": "light"
     },
     "output_type": "display_data"
    }
   ],
   "source": [
    "# find optimal number of clusters\n",
    "from sklearn.cluster import KMeans\n",
    "from sklearn.metrics import silhouette_score\n",
    "from sklearn import mixture\n",
    "\n",
    "\n",
    "feats_vec = X\n",
    "# cluster the feature-vectors and obtain cluster memberships\n",
    "# find optimal number of clusters\n",
    "\n",
    "# try sum of within cluster-variance as a measure of goodness\n",
    "def withinSS(feats_vec, labels, centers):\n",
    "    result = 0\n",
    "    for i in range(feats_vec.shape[0]):\n",
    "        result += np.sum((feats_vec[i,] - kmeans.cluster_centers_[labels[i]])**2)\n",
    "    return result\n",
    "\n",
    "lowest_bic = np.infty \n",
    "withinSSList = []\n",
    "silhouetteScoreList = []\n",
    "n_components_range = range(2, min(feats_vec.shape[0], 50))\n",
    "#n_components_range = range(2, 10)\n",
    "cv_types = ['spherical', 'tied', 'diag', 'full']\n",
    "bic = []\n",
    "bic_1 = []\n",
    "bic_2 = []\n",
    "bic_3 = []\n",
    "bic_4 = []\n",
    "for n_components in n_components_range:\n",
    "    # Fit a mixture of Gaussians with EM\n",
    "    kmeans = KMeans(n_clusters=n_components, random_state = 1)\n",
    "    kmeans.fit(feats_vec)\n",
    "    labels = kmeans.labels_\n",
    "    silhouetteScoreList.append(silhouette_score(feats_vec, labels, metric='euclidean'))\n",
    "    withinSSList.append(withinSS(feats_vec, labels, kmeans.cluster_centers_))\n",
    "    #print(bic)\n",
    "    for cv_type in cv_types:\n",
    "        gmm = mixture.GaussianMixture(n_components=n_components, covariance_type=cv_type)\n",
    "        gmm.fit(feats_vec)\n",
    "        score = gmm.bic(feats_vec)\n",
    "        bic.append(score)\n",
    "        if cv_type == 'spherical': bic_1.append(score)\n",
    "        if cv_type == 'tied': bic_2.append(score)\n",
    "        if cv_type == 'diag': bic_3.append(score)\n",
    "        if cv_type == 'full': bic_4.append(score)\n",
    "        if bic[-1] < lowest_bic:\n",
    "            lowest_bic = bic[-1]\n",
    "            best_kmm = gmm\n",
    "        \n",
    "\n",
    "\n",
    "plt.plot(range(2, 2 + len(withinSSList)), withinSSList)\n",
    "plt.title(\"Decay of within cluster variance vs k\")\n",
    "plt.show()\n",
    "plt.savefig(\"latam_results/kmeans_decay_city_count_{}.pdf\".format(X.shape[0]))\n",
    "plt.clf(); plt.close()\n",
    "\n",
    "plt.plot(range(2, 2+ len(silhouetteScoreList)), silhouetteScoreList)\n",
    "plt.title(\"Variation in silhouette score vs k\")\n",
    "plt.savefig(\"latam_results/silhouette_growth.pdf\")\n",
    "plt.clf(); plt.close()\n",
    "\n",
    "#plt.ylim(ymax = , ymin = -50000)\n",
    "plt.plot(range(2, 2 + len(bic_1)), bic_1, label = \"Spherical\")\n",
    "plt.plot(range(2, 2 + len(bic_1)), bic_2, label = \"Tied\")\n",
    "plt.plot(range(2, 2 + len(bic_1)), bic_3, label = \"Diag\")\n",
    "plt.plot(range(2, 2 + len(bic_1)), bic_4, label = \"Full\")\n",
    "plt.title(\"Variation in BIC vs k for GMM\")\n",
    "plt.legend(loc = \"upper right\", fontsize = 'x-small');\n",
    "plt.savefig(\"latam_results/bic.pdf\")\n",
    "plt.clf(); plt.close()"
   ]
  },
  {
   "cell_type": "code",
   "execution_count": 357,
   "metadata": {},
   "outputs": [],
   "source": [
    "# perform clustering\n",
    "n_components = 10\n",
    "kmeans = KMeans(n_clusters=n_components, random_state = 1)\n",
    "#kmeans.fit(feats_vec) #\n",
    "\n",
    "weighted = False\n",
    "if weighted:\n",
    "    kmeans.fit(feats_vec, sample_weight = gb_pct_of_total)\n",
    "else:\n",
    "    kmeans.fit(feats_vec) #, sample_weight = offers_pct_of_total, , sample_weight = gb_pct_of_total\n",
    "\n",
    "labels = kmeans.labels_\n",
    "cluster_centers = kmeans.cluster_centers_"
   ]
  },
  {
   "cell_type": "code",
   "execution_count": 360,
   "metadata": {},
   "outputs": [
    {
     "name": "stderr",
     "output_type": "stream",
     "text": [
      "/dsw/snapshots/snapshot_dsw_default_jupyter/python3/lib/python3.6/site-packages/sklearn/ensemble/forest.py:246: FutureWarning: The default value of n_estimators will change from 10 in version 0.20 to 100 in 0.22.\n",
      "  \"10 in version 0.20 to 100 in 0.22.\", FutureWarning)\n"
     ]
    },
    {
     "data": {
      "text/plain": [
       "Text(0.5,1,'RF importances of features')"
      ]
     },
     "execution_count": 360,
     "metadata": {},
     "output_type": "execute_result"
    },
    {
     "data": {
      "image/png": "[encoded data removed]",
      "text/plain": [
       "<Figure size 432x288 with 1 Axes>"
      ]
     },
     "metadata": {
      "needs_background": "light"
     },
     "output_type": "display_data"
    }
   ],
   "source": [
    "# visualize feature importances\n",
    "from sklearn.ensemble import RandomForestClassifier\n",
    "\n",
    "df = pd.DataFrame(feats_vec, columns=cols)\n",
    "y = labels\n",
    "\n",
    "rf = RandomForestClassifier(random_state=123)\n",
    "rf.fit(df, y)\n",
    "\n",
    "\n",
    "imp = pd.DataFrame(sorted([x for x in zip(cols, rf.feature_importances_)], key = lambda x : abs(x[1])), columns = ['Feature', 'coef'])\n",
    "imp.index = imp['Feature']\n",
    "imp.iloc[-20:].plot(kind = \"barh\")\n",
    "plt.title(\"RF importances of features\")"
   ]
  },
  {
   "cell_type": "code",
   "execution_count": 361,
   "metadata": {},
   "outputs": [],
   "source": [
    "# store city clusters\n",
    "from collections import defaultdict\n",
    "labels = np.array(labels)\n",
    "store_clusters = defaultdict(list)\n",
    "for label in np.unique(labels):\n",
    "    # find city dx with max GB\n",
    "    city_idxs = sorted(np.where(labels == label)[0]) \n",
    "    max_idx = city_idxs[0]\n",
    "    key = (label, city_info.loc[max_idx, 'gb_pct_of_total']) # store max GB as key\n",
    "    store_clusters[key] = city_idxs"
   ]
  },
  {
   "cell_type": "code",
   "execution_count": 368,
   "metadata": {},
   "outputs": [
    {
     "name": "stdout",
     "output_type": "stream",
     "text": [
      "\n",
      "Cluster 0 - 47.07% GB\n",
      "-------\n",
      "Sao Paulo - 15.70%\n",
      "Rio de Janeiro - 11.32%\n",
      "Belo Horizonte - 4.19%\n",
      "Porto Alegre - 3.06%\n",
      "Salvador - 2.44%\n",
      "Recife - 2.37%\n",
      "San Jose, CR - 2.07%\n",
      "Curitiba - 1.86%\n",
      "Brasilia - 1.73%\n",
      "Natal - 0.76%\n",
      "Maceio - 0.71%\n",
      "Montevideo - 0.45%\n",
      "Panama City, PA - 0.39%\n",
      "\n",
      "Cluster 1 - 16.53% GB\n",
      "-------\n",
      "Mexico City - 7.81%\n",
      "Guadalajara - 2.09%\n",
      "Monterrey - 1.59%\n",
      "Lima - 1.27%\n",
      "Bogota - 1.20%\n",
      "Tijuana - 1.18%\n",
      "Leon - 0.62%\n",
      "Puebla - 0.49%\n",
      "San Luis Potosi - 0.26%\n",
      "Barranquilla - 0.04%\n",
      "\n",
      "Cluster 2 - 14.46% GB\n",
      "-------\n",
      "Fortaleza - 2.91%\n",
      "Santiago - 2.65%\n",
      "Goiania - 1.36%\n",
      "Manaus - 1.26%\n",
      "Belem - 1.05%\n",
      "Florianopolis - 1.01%\n",
      "Vitoria - 0.93%\n",
      "Sao Luis - 0.59%\n",
      "Joao Pessoa - 0.57%\n",
      "Campo Grande - 0.45%\n",
      "Aracaju - 0.44%\n",
      "Uberlandia - 0.37%\n",
      "Teresina - 0.32%\n",
      "Feira de Santana - 0.26%\n",
      "Macapa - 0.19%\n",
      "Campina Grande - 0.10%\n",
      "\n",
      "Cluster 3 - 5.27% GB\n",
      "-------\n",
      "Buenos Aires - 2.19%\n",
      "Campinas - 1.12%\n",
      "Sorocaba - 0.43%\n",
      "Medellin - 0.34%\n",
      "Piracicaba - 0.31%\n",
      "Sao Carlos - 0.15%\n",
      "Sao Jose do Rio Preto - 0.14%\n",
      "La Serena - 0.12%\n",
      "Talca - 0.10%\n",
      "Temuco - 0.09%\n",
      "Volta Redonda - 0.07%\n",
      "Boa Vista - 0.06%\n",
      "Ponta Grossa - 0.06%\n",
      "Criciuma - 0.06%\n",
      "Punta del Este - 0.04%\n",
      "\n",
      "Cluster 4 - 4.03% GB\n",
      "-------\n",
      "Santo Domingo - 1.27%\n",
      "Guatemala City - 0.63%\n",
      "San Juan, PR - 0.63%\n",
      "Quito - 0.47%\n",
      "Los Cabos - 0.30%\n",
      "Morelia - 0.30%\n",
      "Culiacan - 0.14%\n",
      "Puerto Montt - 0.08%\n",
      "Rio Branco - 0.07%\n",
      "Juazeiro do Norte - 0.06%\n",
      "Cartagena - 0.04%\n",
      "Bucaramanga - 0.04%\n",
      "\n",
      "Cluster 5 - 7.24% GB\n",
      "-------\n",
      "Santos - 0.75%\n",
      "Sao Jose dos Campos - 0.71%\n",
      "Valparaiso - 0.61%\n",
      "Cuiaba - 0.56%\n",
      "Itajai - 0.46%\n",
      "Ribeirao Preto - 0.45%\n",
      "Concepcion - 0.33%\n",
      "Joinville - 0.31%\n",
      "Londrina - 0.29%\n",
      "Blumenau - 0.28%\n",
      "Caxias do Sul - 0.26%\n",
      "Cabo Frio - 0.21%\n",
      "Macae - 0.20%\n",
      "Juiz de Fora - 0.19%\n",
      "Pelotas - 0.18%\n",
      "Anapolis - 0.16%\n",
      "Maringa - 0.15%\n",
      "Bauru - 0.14%\n",
      "Petropolis - 0.13%\n",
      "Montes Claros - 0.13%\n",
      "Rancagua - 0.10%\n",
      "Uberaba - 0.09%\n",
      "Vitoria da Conquista - 0.08%\n",
      "Petrolina - 0.08%\n",
      "Caruaru - 0.07%\n",
      "Foz do Iguacu - 0.06%\n",
      "Cascavel - 0.06%\n",
      "Campos dos Goytacazes - 0.06%\n",
      "Porto Velho - 0.05%\n",
      "Palmas - 0.05%\n",
      "Ipatinga - 0.04%\n",
      "\n",
      "Cluster 6 - 2.25% GB\n",
      "-------\n",
      "Queretaro - 0.51%\n",
      "Ciudad Juarez - 0.37%\n",
      "Merida - 0.26%\n",
      "Toluca - 0.19%\n",
      "Chihuahua - 0.17%\n",
      "Hermosillo - 0.16%\n",
      "Torreon - 0.16%\n",
      "Puerto Vallarta - 0.16%\n",
      "Aguascalientes - 0.15%\n",
      "Cuernavaca - 0.09%\n",
      "San Juan del Rio - 0.04%\n",
      "\n",
      "Cluster 7 - 0.88% GB\n",
      "-------\n",
      "Guayaquil - 0.28%\n",
      "Celaya - 0.13%\n",
      "Cali - 0.11%\n",
      "Irapuato - 0.09%\n",
      "Villahermosa - 0.09%\n",
      "Ciudad Obregon - 0.07%\n",
      "Zacatecas - 0.06%\n",
      "Mazatlan - 0.04%\n",
      "\n",
      "Cluster 8 - 1.11% GB\n",
      "-------\n",
      "Santiago, DR - 0.28%\n",
      "San Salvador - 0.27%\n",
      "Santa Cruz, BO - 0.18%\n",
      "Antofagasta - 0.11%\n",
      "Asuncion - 0.09%\n",
      "Punta Cana - 0.06%\n",
      "Punta Arenas - 0.04%\n",
      "Iquique - 0.04%\n",
      "Quetzaltenango - 0.04%\n",
      "\n",
      "Cluster 9 - 0.17% GB\n",
      "-------\n",
      "Mendoza - 0.09%\n",
      "Valdivia - 0.04%\n",
      "Cordoba, AR - 0.04%\n"
     ]
    }
   ],
   "source": [
    "def distance(x, c):\n",
    "    return np.sqrt(sum((x-c)**2))\n",
    "\n",
    "sorted_result = []\n",
    "for i, cluster_key in enumerate(sorted(store_clusters.keys(), key = lambda x: x[1], reverse=True)):\n",
    "    cluster_gb = sum([city_info.loc[city_idx, 'gb_pct_of_total'] for city_idx in store_clusters[cluster_key]])\n",
    "    print(\"\\n\" + \"Cluster {} - {:.2f}% GB\".format(i, cluster_gb) + '\\n' + \"-------\")\n",
    "    sorted_result.append([\"\"]*city_info.shape[1] + [\"Cluster {} - {:.2f}% GB\".format(i, cluster_gb),\"\"])\n",
    "    for city_idx in store_clusters[cluster_key]:\n",
    "        print(city_info.loc[city_idx, 'city_w_gb_pct'])\n",
    "        sorted_result.append(list(city_info.loc[city_idx]) + [i, distance(feats_vec[city_idx], cluster_centers[cluster_key[0]])])\n",
    "    sorted_result.append([\"\", \"\", \"\", \"\", \"\", \"\"])"
   ]
  },
  {
   "cell_type": "code",
   "execution_count": 369,
   "metadata": {},
   "outputs": [],
   "source": [
    "# dump to csv\n",
    "sorted_result = pd.DataFrame(sorted_result, columns = list(city_info.columns) + ['cluster', 'distance_from_cluster_center'])"
   ]
  },
  {
   "cell_type": "code",
   "execution_count": 370,
   "metadata": {},
   "outputs": [],
   "source": [
    "sorted_result[[\"cluster\", \"city.city_name\", \"gb_pct_of_total\", \"offers_pct_of_total\", \"city.mega_region\", \"city.country_name\", \"city.region\", \"city.sub_region\", \"data.city_id\", \"distance_from_cluster_center\"]].to_csv(\"latam_results/clustering_result_weighted_{}_city_count_{}.csv\".format(weighted, X.shape[0]), index=False)"
   ]
  },
  {
   "cell_type": "code",
   "execution_count": 254,
   "metadata": {},
   "outputs": [
    {
     "name": "stdout",
     "output_type": "stream",
     "text": [
      "['num_offers', 'average_driver_canceled', 'average_surge_diff', 'average_demand_surge', 'average_eta', 'average_rounded_eta', 'average_fd_eta', 'average_eyeball_eta', 'average_rating', 'average_forward_dispatched', 'average_starpower', 'average_days_since_signup', 'average_days_since_first_trip', 'average_trip_distance_haversine', 'average_is_fifo', 'average_is_commute', 'average_is_rider_canceled_dispatch', 'GB_in_MM']\n"
     ]
    }
   ],
   "source": [
    "print(cols)"
   ]
  },
  {
   "cell_type": "markdown",
   "metadata": {},
   "source": [
    "# Visualization"
   ]
  },
  {
   "cell_type": "code",
   "execution_count": 363,
   "metadata": {},
   "outputs": [
    {
     "data": {
      "text/plain": [
       "(-5, 5)"
      ]
     },
     "execution_count": 363,
     "metadata": {},
     "output_type": "execute_result"
    },
    {
     "data": {
      "image/png": "[encoded data removed]",
      "text/plain": [
       "<Figure size 432x288 with 1 Axes>"
      ]
     },
     "metadata": {
      "needs_background": "light"
     },
     "output_type": "display_data"
    }
   ],
   "source": [
    "# PCA visualization\n",
    "from sklearn.decomposition import PCA\n",
    "pca = PCA(n_components=2)\n",
    "X_2 = pca.fit_transform(X)\n",
    "\n",
    "cm = plt.get_cmap('gist_rainbow')\n",
    "colors = [cm(1.*i/n_components) for i in range(n_components)]\n",
    "colors_list = [colors[c] for c in labels]\n",
    "\n",
    "N = 20\n",
    "\n",
    "# zip joins x and y coordinates in pairs\n",
    "for i in range(N):\n",
    "    plt.plot(X_2[i,0], X_2[i, 1], \".\", color = colors_list[i])\n",
    "    label = city_info.iloc[i, 1]\n",
    "    plt.annotate(label, # this is the text\n",
    "                 (X_2[i, 0],X_2[i, 1]), # these are the coordinates to position the label\n",
    "                 textcoords=\"offset points\", # how to position the text\n",
    "                 xytext=(5,2), # distance from text to points (x,y)\n",
    "                 ha='right',\n",
    "                 va='bottom',\n",
    "                 fontsize=10) # horizontal alignment can be left, right or center\n",
    "    \n",
    "plt.xlim(-5, 5)"
   ]
  },
  {
   "cell_type": "code",
   "execution_count": 364,
   "metadata": {},
   "outputs": [],
   "source": [
    "# t SNE visualization\n",
    "from sklearn.manifold import TSNE\n",
    "\n",
    "tsne = TSNE(perplexity=31, n_components=2, init='pca', n_iter=5000, method='exact')\n",
    "vectors = tsne.fit_transform(X)"
   ]
  },
  {
   "cell_type": "code",
   "execution_count": 365,
   "metadata": {},
   "outputs": [
    {
     "data": {
      "image/png": "[encoded data removed]",
      "text/plain": [
       "<Figure size 432x288 with 1 Axes>"
      ]
     },
     "metadata": {
      "needs_background": "light"
     },
     "output_type": "display_data"
    }
   ],
   "source": [
    "N = X.shape[0]\n",
    "\n",
    "city_ids_to_highlight = {805, 148, 204, 781, 144, 146, 533, 1408, 1315, 1359, 1395, 1379, 1388, 1325, 1390, 1423, 1335, 1275}\n",
    "\n",
    "# zip joins x and y coordinates in pairs\n",
    "for i in range(N):\n",
    "    city_id = city_info.iloc[i, 0]\n",
    "    plt.plot(vectors[i,0], vectors[i, 1], \".\", color = colors_list[i], markersize = np.log(100*city_info.loc[i, 'gb_pct_of_total']))\n",
    "        \n",
    "    label = city_info.iloc[i, 1]\n",
    "    plt.annotate(label, # this is the text\n",
    "                 (vectors[i, 0],vectors[i, 1]), # these are the coordinates to position the label\n",
    "                 textcoords=\"offset points\", # how to position the text\n",
    "                 xytext=(5,2), # distance from text to points (x,y)\n",
    "                 color = \"black\" if city_id not in city_ids_to_highlight else \"blue\",\n",
    "                 ha='right',\n",
    "                 va='bottom',\n",
    "                 fontsize=3.5) # horizontal alignment can be left, right or center\n",
    "plt.xlabel(\"T-SNE Dim1\")\n",
    "plt.ylabel(\"T-SNE Dim2\")\n",
    "plt.savefig(\"latam_results/city_embeddings_city_count_{}.pdf\".format(N))\n",
    "\n"
   ]
  },
  {
   "cell_type": "code",
   "execution_count": 371,
   "metadata": {},
   "outputs": [
    {
     "data": {
      "text/plain": [
       "{4,\n",
       " 7,\n",
       " 9,\n",
       " 'Cluster 0 - 47.07% GB',\n",
       " 'Cluster 1 - 16.53% GB',\n",
       " 'Cluster 2 - 14.46% GB',\n",
       " 'Cluster 3 - 5.27% GB',\n",
       " 'Cluster 4 - 4.03% GB',\n",
       " 'Cluster 5 - 7.24% GB',\n",
       " 'Cluster 6 - 2.25% GB',\n",
       " 'Cluster 7 - 0.88% GB',\n",
       " 'Cluster 8 - 1.11% GB',\n",
       " 'Cluster 9 - 0.17% GB'}"
      ]
     },
     "execution_count": 371,
     "metadata": {},
     "output_type": "execute_result"
    }
   ],
   "source": [
    "set(sorted_result[~sorted_result.cluster.isna()]['cluster']) - set(sorted_result[sorted_result['data.city_id'].isin(city_ids_to_plot)]['cluster'])"
   ]
  },
  {
   "cell_type": "code",
   "execution_count": 259,
   "metadata": {},
   "outputs": [
    {
     "data": {
      "text/plain": [
       "18"
      ]
     },
     "execution_count": 259,
     "metadata": {},
     "output_type": "execute_result"
    }
   ],
   "source": [
    "len(set(city_ids_to_plot) & set(city_info['data.city_id']))"
   ]
  }
 ],
 "metadata": {
  "kernelspec": {
   "display_name": "Python 3 (General DS)",
   "language": "python",
   "name": "python3"
  },
  "language_info": {
   "codemirror_mode": {
    "name": "ipython",
    "version": 3
   },
   "file_extension": ".py",
   "mimetype": "text/x-python",
   "name": "python",
   "nbconvert_exporter": "python",
   "pygments_lexer": "ipython3",
   "version": "3.6.4"
  }
 },
 "nbformat": 4,
 "nbformat_minor": 2
}
