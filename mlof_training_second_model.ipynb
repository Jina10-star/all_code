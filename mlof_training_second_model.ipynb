{
 "cells": [
  {
   "cell_type": "code",
   "execution_count": 1,
   "metadata": {},
   "outputs": [
    {
     "name": "stderr",
     "output_type": "stream",
     "text": [
      "/dsw/snapshots/snapshot_dsw_default_jupyter/python37/lib/python3.7/site-packages/sklearn/utils/validation.py:37: DeprecationWarning: distutils Version classes are deprecated. Use packaging.version instead.\n",
      "  LARGE_SPARSE_SUPPORTED = LooseVersion(scipy_version) >= '0.14.0'\n"
     ]
    }
   ],
   "source": [
    "import matplotlib.pyplot as plt\n",
    "import numpy as np\n",
    "import pandas as pd\n",
    "import statsmodels.api as sm\n",
    "from sklearn.model_selection import train_test_split\n",
    "import seaborn as sns"
   ]
  },
  {
   "cell_type": "code",
   "execution_count": 2,
   "metadata": {},
   "outputs": [],
   "source": [
    "# Label: The hourly average gb per plan per scan at city-level\n",
    "# Feature Set:\n",
    "#     X1: driver_cancel_prob\n",
    "#     X2: rider_cancel_prob\n",
    "#     X3: spinner_cancel_prob\n",
    "#     X4: eta\n",
    "#     X5: surge_mul\n",
    "#     X6: gb\n",
    "\n",
    "#     X7: eta_square = (1 - X4/1500)**2\n",
    "#     X8: eta_cube = (1 - X4/1500)**3\n",
    "#     X9: network_contention = 1 / (1 + X5^5)\n",
    "#     X10: cr_ratio = (1 - X1) * (1 - X2) * (1 - X3)\n",
    "\n",
    "#     X11: eta_square_cr_ratio = X7 * X10\n",
    "#     X12: eta_cube_cr_ratio = X8 * X10\n",
    "#     X13: network_eta_cr_ratio = X7 * X9 * X10\n",
    "#     X14: network_eta_gb_cr_ratio = X7 * (1 - X9) * X10 * X6"
   ]
  },
  {
   "cell_type": "code",
   "execution_count": 3,
   "metadata": {},
   "outputs": [],
   "source": [
    "# Read in data: features & labels\n",
    "df_features_dict = {}\n",
    "df_labels_dict = {}\n",
    "\n",
    "for i in range(1, 11):\n",
    "    df_features_dict[i] = pd.read_csv(f'features_{i}.csv')\n",
    "    df_labels_dict[i] = pd.read_csv(f'labels_{i}.csv')"
   ]
  },
  {
   "cell_type": "code",
   "execution_count": 4,
   "metadata": {},
   "outputs": [],
   "source": [
    "df_features_frames = [df_features_dict[1], df_features_dict[2], df_features_dict[3],\n",
    "                      df_features_dict[4], df_features_dict[5], df_features_dict[6],\n",
    "                      df_features_dict[7], df_features_dict[8], df_features_dict[9],\n",
    "                      df_features_dict[10]]\n",
    "\n",
    "df_labels_frames = [df_labels_dict[1], df_labels_dict[2], df_labels_dict[3],\n",
    "                    df_labels_dict[4], df_labels_dict[5], df_labels_dict[6],\n",
    "                    df_labels_dict[7], df_labels_dict[8], df_labels_dict[9],\n",
    "                    df_labels_dict[10]]"
   ]
  },
  {
   "cell_type": "code",
   "execution_count": 5,
   "metadata": {},
   "outputs": [],
   "source": [
    "df_features = pd.concat(df_features_frames, ignore_index=True)\n",
    "df_labels = pd.concat(df_labels_frames, ignore_index=True)"
   ]
  },
  {
   "cell_type": "code",
   "execution_count": 6,
   "metadata": {},
   "outputs": [],
   "source": [
    "df_features.drop('num_plans', axis=1, inplace=True)\n",
    "df_labels.drop('num_plans', axis=1, inplace=True)"
   ]
  },
  {
   "cell_type": "code",
   "execution_count": 7,
   "metadata": {},
   "outputs": [],
   "source": [
    "df = pd.merge(df_features, df_labels,\n",
    "              how='left',\n",
    "              left_on=['datestr', 'city_id', 'hour_of_day'],\n",
    "              right_on=['datestr', 'city_id', 'hour_of_day']\n",
    "             )"
   ]
  },
  {
   "cell_type": "code",
   "execution_count": 8,
   "metadata": {},
   "outputs": [],
   "source": [
    "y = df['hour_gb']\n",
    "X = df.drop(['hour_gb', 'datestr', 'city_id', \n",
    "             'hour_of_day', \n",
    "             'market_eta',\n",
    "             'market_gb',\n",
    "             'market_eta_square',\n",
    "             'market_eta_square_cr_ratio',\n",
    "             'market_spinner_cancel_prob',\n",
    "             'market_rider_cancel_prob',\n",
    "             'market_cr_ratio',\n",
    "             'market_network_contention',\n",
    "             'market_eta_cube_cr_ratio'], \n",
    "            axis=1)"
   ]
  },
  {
   "cell_type": "code",
   "execution_count": 9,
   "metadata": {},
   "outputs": [],
   "source": [
    "X['intercept'] = pd.Series([1 for _ in range(len(X.index))])"
   ]
  },
  {
   "cell_type": "code",
   "execution_count": 10,
   "metadata": {},
   "outputs": [
    {
     "data": {
      "text/html": [
       "<div>\n",
       "<style scoped>\n",
       "    .dataframe tbody tr th:only-of-type {\n",
       "        vertical-align: middle;\n",
       "    }\n",
       "\n",
       "    .dataframe tbody tr th {\n",
       "        vertical-align: top;\n",
       "    }\n",
       "\n",
       "    .dataframe thead th {\n",
       "        text-align: right;\n",
       "    }\n",
       "</style>\n",
       "<table border=\"1\" class=\"dataframe\">\n",
       "  <thead>\n",
       "    <tr style=\"text-align: right;\">\n",
       "      <th></th>\n",
       "      <th>market_drive_cancel_prob</th>\n",
       "      <th>market_surge_mul</th>\n",
       "      <th>market_eta_cube</th>\n",
       "      <th>market_network_eta_cr_ratio</th>\n",
       "      <th>market_network_eta_gb_cr_ratio</th>\n",
       "      <th>intercept</th>\n",
       "    </tr>\n",
       "  </thead>\n",
       "  <tbody>\n",
       "    <tr>\n",
       "      <th>0</th>\n",
       "      <td>0.739296</td>\n",
       "      <td>1.363636</td>\n",
       "      <td>0.657055</td>\n",
       "      <td>0.035209</td>\n",
       "      <td>2.828381</td>\n",
       "      <td>1</td>\n",
       "    </tr>\n",
       "    <tr>\n",
       "      <th>1</th>\n",
       "      <td>0.652287</td>\n",
       "      <td>1.381818</td>\n",
       "      <td>0.295023</td>\n",
       "      <td>0.011593</td>\n",
       "      <td>3.353401</td>\n",
       "      <td>1</td>\n",
       "    </tr>\n",
       "    <tr>\n",
       "      <th>2</th>\n",
       "      <td>0.682259</td>\n",
       "      <td>1.283333</td>\n",
       "      <td>0.396850</td>\n",
       "      <td>0.031121</td>\n",
       "      <td>3.470962</td>\n",
       "      <td>1</td>\n",
       "    </tr>\n",
       "    <tr>\n",
       "      <th>3</th>\n",
       "      <td>0.723331</td>\n",
       "      <td>1.000000</td>\n",
       "      <td>0.178405</td>\n",
       "      <td>0.045039</td>\n",
       "      <td>0.975321</td>\n",
       "      <td>1</td>\n",
       "    </tr>\n",
       "    <tr>\n",
       "      <th>4</th>\n",
       "      <td>0.618826</td>\n",
       "      <td>1.166667</td>\n",
       "      <td>0.421898</td>\n",
       "      <td>0.079729</td>\n",
       "      <td>3.155870</td>\n",
       "      <td>1</td>\n",
       "    </tr>\n",
       "    <tr>\n",
       "      <th>...</th>\n",
       "      <td>...</td>\n",
       "      <td>...</td>\n",
       "      <td>...</td>\n",
       "      <td>...</td>\n",
       "      <td>...</td>\n",
       "      <td>...</td>\n",
       "    </tr>\n",
       "    <tr>\n",
       "      <th>10609</th>\n",
       "      <td>0.597781</td>\n",
       "      <td>1.004027</td>\n",
       "      <td>0.702350</td>\n",
       "      <td>0.151809</td>\n",
       "      <td>0.397718</td>\n",
       "      <td>1</td>\n",
       "    </tr>\n",
       "    <tr>\n",
       "      <th>10610</th>\n",
       "      <td>0.615688</td>\n",
       "      <td>1.002484</td>\n",
       "      <td>0.682206</td>\n",
       "      <td>0.140471</td>\n",
       "      <td>0.349518</td>\n",
       "      <td>1</td>\n",
       "    </tr>\n",
       "    <tr>\n",
       "      <th>10611</th>\n",
       "      <td>0.687489</td>\n",
       "      <td>1.013497</td>\n",
       "      <td>0.648528</td>\n",
       "      <td>0.106140</td>\n",
       "      <td>0.290362</td>\n",
       "      <td>1</td>\n",
       "    </tr>\n",
       "    <tr>\n",
       "      <th>10612</th>\n",
       "      <td>0.714922</td>\n",
       "      <td>1.014857</td>\n",
       "      <td>0.608461</td>\n",
       "      <td>0.092902</td>\n",
       "      <td>0.240974</td>\n",
       "      <td>1</td>\n",
       "    </tr>\n",
       "    <tr>\n",
       "      <th>10613</th>\n",
       "      <td>0.705918</td>\n",
       "      <td>1.001626</td>\n",
       "      <td>0.662738</td>\n",
       "      <td>0.104101</td>\n",
       "      <td>0.268037</td>\n",
       "      <td>1</td>\n",
       "    </tr>\n",
       "  </tbody>\n",
       "</table>\n",
       "<p>10614 rows × 6 columns</p>\n",
       "</div>"
      ],
      "text/plain": [
       "       market_drive_cancel_prob  market_surge_mul  market_eta_cube  \\\n",
       "0                      0.739296          1.363636         0.657055   \n",
       "1                      0.652287          1.381818         0.295023   \n",
       "2                      0.682259          1.283333         0.396850   \n",
       "3                      0.723331          1.000000         0.178405   \n",
       "4                      0.618826          1.166667         0.421898   \n",
       "...                         ...               ...              ...   \n",
       "10609                  0.597781          1.004027         0.702350   \n",
       "10610                  0.615688          1.002484         0.682206   \n",
       "10611                  0.687489          1.013497         0.648528   \n",
       "10612                  0.714922          1.014857         0.608461   \n",
       "10613                  0.705918          1.001626         0.662738   \n",
       "\n",
       "       market_network_eta_cr_ratio  market_network_eta_gb_cr_ratio  intercept  \n",
       "0                         0.035209                        2.828381          1  \n",
       "1                         0.011593                        3.353401          1  \n",
       "2                         0.031121                        3.470962          1  \n",
       "3                         0.045039                        0.975321          1  \n",
       "4                         0.079729                        3.155870          1  \n",
       "...                            ...                             ...        ...  \n",
       "10609                     0.151809                        0.397718          1  \n",
       "10610                     0.140471                        0.349518          1  \n",
       "10611                     0.106140                        0.290362          1  \n",
       "10612                     0.092902                        0.240974          1  \n",
       "10613                     0.104101                        0.268037          1  \n",
       "\n",
       "[10614 rows x 6 columns]"
      ]
     },
     "execution_count": 10,
     "metadata": {},
     "output_type": "execute_result"
    }
   ],
   "source": [
    "X"
   ]
  },
  {
   "cell_type": "code",
   "execution_count": 11,
   "metadata": {},
   "outputs": [],
   "source": [
    "# Scale y\n",
    "y = y / 10"
   ]
  },
  {
   "cell_type": "code",
   "execution_count": 12,
   "metadata": {},
   "outputs": [],
   "source": [
    "X_train, X_test, y_train, y_test = train_test_split(X, y, test_size=0.2, random_state=96)"
   ]
  },
  {
   "cell_type": "code",
   "execution_count": 13,
   "metadata": {},
   "outputs": [],
   "source": [
    "model = sm.OLS(y_train, X_train)"
   ]
  },
  {
   "cell_type": "code",
   "execution_count": 14,
   "metadata": {},
   "outputs": [
    {
     "name": "stdout",
     "output_type": "stream",
     "text": [
      "                            OLS Regression Results                            \n",
      "==============================================================================\n",
      "Dep. Variable:                hour_gb   R-squared:                       0.720\n",
      "Model:                            OLS   Adj. R-squared:                  0.720\n",
      "Method:                 Least Squares   F-statistic:                     4369.\n",
      "Date:                Tue, 09 Aug 2022   Prob (F-statistic):               0.00\n",
      "Time:                        18:32:32   Log-Likelihood:                -1962.8\n",
      "No. Observations:                8491   AIC:                             3938.\n",
      "Df Residuals:                    8485   BIC:                             3980.\n",
      "Df Model:                           5                                         \n",
      "Covariance Type:            nonrobust                                         \n",
      "==================================================================================================\n",
      "                                     coef    std err          t      P>|t|      [0.025      0.975]\n",
      "--------------------------------------------------------------------------------------------------\n",
      "market_drive_cancel_prob           1.7469      0.065     26.863      0.000       1.619       1.874\n",
      "market_surge_mul                  -0.1084      0.032     -3.355      0.001      -0.172      -0.045\n",
      "market_eta_cube                   -2.5917      0.050    -51.984      0.000      -2.689      -2.494\n",
      "market_network_eta_cr_ratio        4.1866      0.210     19.903      0.000       3.774       4.599\n",
      "market_network_eta_gb_cr_ratio     0.3769      0.004    100.837      0.000       0.370       0.384\n",
      "intercept                          0.3768      0.070      5.409      0.000       0.240       0.513\n",
      "==============================================================================\n",
      "Omnibus:                     2231.274   Durbin-Watson:                   1.990\n",
      "Prob(Omnibus):                  0.000   Jarque-Bera (JB):           195841.947\n",
      "Skew:                          -0.105   Prob(JB):                         0.00\n",
      "Kurtosis:                      26.527   Cond. No.                         141.\n",
      "==============================================================================\n",
      "\n",
      "Notes:\n",
      "[1] Standard Errors assume that the covariance matrix of the errors is correctly specified.\n"
     ]
    }
   ],
   "source": [
    "trained_model = model.fit()\n",
    "print(trained_model.summary())"
   ]
  },
  {
   "cell_type": "code",
   "execution_count": 15,
   "metadata": {},
   "outputs": [
    {
     "data": {
      "text/plain": [
       "0.3049002244374754"
      ]
     },
     "execution_count": 15,
     "metadata": {},
     "output_type": "execute_result"
    }
   ],
   "source": [
    "# Train RMSE\n",
    "y_train_pred = trained_model.predict(X_train)\n",
    "train_rmse = np.sqrt(np.mean((y_train - y_train_pred)**2))\n",
    "train_rmse"
   ]
  },
  {
   "cell_type": "code",
   "execution_count": 16,
   "metadata": {},
   "outputs": [
    {
     "data": {
      "text/plain": [
       "0.28686697012622336"
      ]
     },
     "execution_count": 16,
     "metadata": {},
     "output_type": "execute_result"
    }
   ],
   "source": [
    "# Test RMSE\n",
    "y_test_pred = trained_model.predict(X_test)\n",
    "test_rmse = np.sqrt(np.mean((y_test - y_test_pred)**2))\n",
    "test_rmse"
   ]
  },
  {
   "cell_type": "code",
   "execution_count": 17,
   "metadata": {},
   "outputs": [
    {
     "data": {
      "text/plain": [
       "count    8491.000000\n",
       "mean        0.678712\n",
       "std         0.576472\n",
       "min         0.213940\n",
       "25%         0.313027\n",
       "50%         0.423438\n",
       "75%         0.622321\n",
       "max         3.797802\n",
       "Name: hour_gb, dtype: float64"
      ]
     },
     "execution_count": 17,
     "metadata": {},
     "output_type": "execute_result"
    }
   ],
   "source": [
    "y_train.describe()"
   ]
  },
  {
   "cell_type": "code",
   "execution_count": 18,
   "metadata": {},
   "outputs": [
    {
     "data": {
      "text/plain": [
       "count    2123.000000\n",
       "mean        0.654854\n",
       "std         0.563477\n",
       "min         0.220372\n",
       "25%         0.309151\n",
       "50%         0.407085\n",
       "75%         0.592107\n",
       "max         3.181440\n",
       "Name: hour_gb, dtype: float64"
      ]
     },
     "execution_count": 18,
     "metadata": {},
     "output_type": "execute_result"
    }
   ],
   "source": [
    "y_test.describe()"
   ]
  },
  {
   "cell_type": "code",
   "execution_count": 19,
   "metadata": {},
   "outputs": [
    {
     "data": {
      "image/png": "[encoded data removed]",
      "text/plain": [
       "<Figure size 432x288 with 2 Axes>"
      ]
     },
     "metadata": {
      "needs_background": "light"
     },
     "output_type": "display_data"
    }
   ],
   "source": [
    "# Visualizing a Pandas Correlation Matrix\n",
    "train_corr_matrix = X_train.loc[:, X_train.columns != 'intercept'].corr().round(2)\n",
    "sns.heatmap(train_corr_matrix, annot=True, vmax=1, vmin=-1, center=0, cmap='vlag')\n",
    "plt.show()"
   ]
  },
  {
   "cell_type": "code",
   "execution_count": 20,
   "metadata": {},
   "outputs": [
    {
     "data": {
      "image/png": "[encoded data removed]",
      "text/plain": [
       "<Figure size 432x288 with 2 Axes>"
      ]
     },
     "metadata": {
      "needs_background": "light"
     },
     "output_type": "display_data"
    }
   ],
   "source": [
    "test_corr_matrix = X_test.loc[:, X_train.columns != 'intercept'].corr().round(2)\n",
    "sns.heatmap(test_corr_matrix, annot=True, vmax=1, vmin=-1, center=0, cmap='vlag')\n",
    "plt.show()"
   ]
  }
 ],
 "metadata": {
  "kernelspec": {
   "display_name": "Python 3.7 (General DS)",
   "language": "python",
   "name": "python37"
  },
  "language_info": {
   "codemirror_mode": {
    "name": "ipython",
    "version": 3
   },
   "file_extension": ".py",
   "mimetype": "text/x-python",
   "name": "python",
   "nbconvert_exporter": "python",
   "pygments_lexer": "ipython3",
   "version": "3.7.12"
  }
 },
 "nbformat": 4,
 "nbformat_minor": 2
}
