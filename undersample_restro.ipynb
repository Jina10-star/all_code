{
 "cells": [
  {
   "cell_type": "code",
   "execution_count": 91,
   "metadata": {},
   "outputs": [],
   "source": [
    "import re\n",
    "import string\n",
    "import joblib\n",
    "\n",
    "import numpy as np\n",
    "import nltk\n",
    "from nltk.stem.wordnet import WordNetLemmatizer\n",
    "import pandas as pd\n",
    "from sklearn.tree import DecisionTreeClassifier\n",
    "from sklearn.feature_extraction.text import TfidfTransformer, CountVectorizer\n",
    "from sklearn.ensemble import RandomForestClassifier\n",
    "from sklearn.pipeline import Pipeline\n",
    "from sklearn.model_selection import train_test_split, KFold, StratifiedKFold, cross_val_score, cross_val_predict\n",
    "from sklearn.metrics import accuracy_score, precision_score, recall_score, f1_score, classification_report, make_scorer, confusion_matrix, plot_confusion_matrix\n",
    "from sklearn.pipeline import Pipeline"
   ]
  },
  {
   "cell_type": "code",
   "execution_count": 30,
   "metadata": {},
   "outputs": [],
   "source": [
    "lemmatizer = WordNetLemmatizer()"
   ]
  },
  {
   "cell_type": "code",
   "execution_count": 2,
   "metadata": {},
   "outputs": [
    {
     "data": {
      "text/plain": [
       "(149823, 4)"
      ]
     },
     "execution_count": 2,
     "metadata": {},
     "output_type": "execute_result"
    }
   ],
   "source": [
    "df = pd.read_csv('training_data/training_data_29032022.csv')\n",
    "\n",
    "df.shape"
   ]
  },
  {
   "cell_type": "code",
   "execution_count": 3,
   "metadata": {},
   "outputs": [
    {
     "data": {
      "text/html": [
       "<div>\n",
       "<style scoped>\n",
       "    .dataframe tbody tr th:only-of-type {\n",
       "        vertical-align: middle;\n",
       "    }\n",
       "\n",
       "    .dataframe tbody tr th {\n",
       "        vertical-align: top;\n",
       "    }\n",
       "\n",
       "    .dataframe thead th {\n",
       "        text-align: right;\n",
       "    }\n",
       "</style>\n",
       "<table border=\"1\" class=\"dataframe\">\n",
       "  <thead>\n",
       "    <tr style=\"text-align: right;\">\n",
       "      <th></th>\n",
       "      <th>merchant_category</th>\n",
       "      <th>processed_text</th>\n",
       "      <th>storefront_uuid</th>\n",
       "      <th>text</th>\n",
       "    </tr>\n",
       "  </thead>\n",
       "  <tbody>\n",
       "    <tr>\n",
       "      <th>0</th>\n",
       "      <td>restaurant</td>\n",
       "      <td>menu chicken steak menu menu chicken tikka str...</td>\n",
       "      <td>000030df-b29b-444c-b77a-5f48107a6cf5</td>\n",
       "      <td>Menu chicken steak Menus Menu chicken tikka st...</td>\n",
       "    </tr>\n",
       "    <tr>\n",
       "      <th>1</th>\n",
       "      <td>restaurant</td>\n",
       "      <td>when larry met shrimpy combo popular loner clu...</td>\n",
       "      <td>00008ea3-e75b-4219-80e9-498afb0fef3e</td>\n",
       "      <td>When Larry Met Shrimpy Combos Popular Loner (C...</td>\n",
       "    </tr>\n",
       "    <tr>\n",
       "      <th>2</th>\n",
       "      <td>restaurant</td>\n",
       "      <td>gajar halwa milkshake drink tawa plain roti si...</td>\n",
       "      <td>00014217-285f-4b5f-9781-f62dc921c8ea</td>\n",
       "      <td>Gajar Halwa - Milkshake Drinks Tawa Plain Roti...</td>\n",
       "    </tr>\n",
       "    <tr>\n",
       "      <th>3</th>\n",
       "      <td>restaurant</td>\n",
       "      <td>avocado side order huevos rancheros bountiful ...</td>\n",
       "      <td>0001439d-b61b-49b5-be9d-6004d6178ce1</td>\n",
       "      <td>Avocado Side Order Huevos Rancheros Bountiful ...</td>\n",
       "    </tr>\n",
       "    <tr>\n",
       "      <th>4</th>\n",
       "      <td>restaurant</td>\n",
       "      <td>soy and garlic fried chicken fried chicken bon...</td>\n",
       "      <td>00022afa-395e-41f5-86a7-0a66b6891ea6</td>\n",
       "      <td>Soy and Garlic Fried Chicken Fried Chicken Bon...</td>\n",
       "    </tr>\n",
       "  </tbody>\n",
       "</table>\n",
       "</div>"
      ],
      "text/plain": [
       "  merchant_category                                     processed_text  \\\n",
       "0        restaurant  menu chicken steak menu menu chicken tikka str...   \n",
       "1        restaurant  when larry met shrimpy combo popular loner clu...   \n",
       "2        restaurant  gajar halwa milkshake drink tawa plain roti si...   \n",
       "3        restaurant  avocado side order huevos rancheros bountiful ...   \n",
       "4        restaurant  soy and garlic fried chicken fried chicken bon...   \n",
       "\n",
       "                        storefront_uuid  \\\n",
       "0  000030df-b29b-444c-b77a-5f48107a6cf5   \n",
       "1  00008ea3-e75b-4219-80e9-498afb0fef3e   \n",
       "2  00014217-285f-4b5f-9781-f62dc921c8ea   \n",
       "3  0001439d-b61b-49b5-be9d-6004d6178ce1   \n",
       "4  00022afa-395e-41f5-86a7-0a66b6891ea6   \n",
       "\n",
       "                                                text  \n",
       "0  Menu chicken steak Menus Menu chicken tikka st...  \n",
       "1  When Larry Met Shrimpy Combos Popular Loner (C...  \n",
       "2  Gajar Halwa - Milkshake Drinks Tawa Plain Roti...  \n",
       "3  Avocado Side Order Huevos Rancheros Bountiful ...  \n",
       "4  Soy and Garlic Fried Chicken Fried Chicken Bon...  "
      ]
     },
     "execution_count": 3,
     "metadata": {},
     "output_type": "execute_result"
    }
   ],
   "source": [
    "df.head()"
   ]
  },
  {
   "cell_type": "code",
   "execution_count": 11,
   "metadata": {},
   "outputs": [
    {
     "data": {
      "text/plain": [
       "restaurant      4747\n",
       "gse             3731\n",
       "alcohol         3550\n",
       "flower           208\n",
       "pet supplies      85\n",
       "retail            75\n",
       "pharmacy          74\n",
       "Name: merchant_category, dtype: int64"
      ]
     },
     "execution_count": 11,
     "metadata": {},
     "output_type": "execute_result"
    }
   ],
   "source": [
    "df['merchant_category'].value_counts()"
   ]
  },
  {
   "cell_type": "code",
   "execution_count": 6,
   "metadata": {},
   "outputs": [
    {
     "data": {
      "text/plain": [
       "(12470, 4)"
      ]
     },
     "execution_count": 6,
     "metadata": {},
     "output_type": "execute_result"
    }
   ],
   "source": [
    "df_temp = df[df['merchant_category']!='restaurant']\n",
    "df_temp2 = df.sample(n=5000)\n",
    "\n",
    "df = pd.concat([df_temp, df_temp2])\n",
    "\n",
    "df.shape"
   ]
  },
  {
   "cell_type": "code",
   "execution_count": 42,
   "metadata": {},
   "outputs": [
    {
     "data": {
      "text/plain": [
       "(29965, 6)"
      ]
     },
     "execution_count": 42,
     "metadata": {},
     "output_type": "execute_result"
    }
   ],
   "source": [
    "validation_data = pd.read_csv('training_data/validation_data.csv')\n",
    "\n",
    "validation_data.shape"
   ]
  },
  {
   "cell_type": "code",
   "execution_count": 43,
   "metadata": {},
   "outputs": [
    {
     "data": {
      "text/plain": [
       "(11924, 6)"
      ]
     },
     "execution_count": 43,
     "metadata": {},
     "output_type": "execute_result"
    }
   ],
   "source": [
    "new_df = df.merge(validation_data, how='left', on=['merchant_category','storefront_uuid','processed_text','text']).drop_duplicates(keep=False)\n",
    "\n",
    "new_df.shape"
   ]
  },
  {
   "cell_type": "code",
   "execution_count": 44,
   "metadata": {},
   "outputs": [
    {
     "data": {
      "text/plain": [
       "restaurant      4737\n",
       "gse             3475\n",
       "alcohol         3298\n",
       "flower           194\n",
       "pet supplies      83\n",
       "retail            71\n",
       "pharmacy          66\n",
       "Name: merchant_category, dtype: int64"
      ]
     },
     "execution_count": 44,
     "metadata": {},
     "output_type": "execute_result"
    }
   ],
   "source": [
    "new_df['merchant_category'].value_counts()"
   ]
  },
  {
   "cell_type": "code",
   "execution_count": 76,
   "metadata": {},
   "outputs": [
    {
     "data": {
      "text/plain": [
       "39.72660181147266"
      ]
     },
     "execution_count": 76,
     "metadata": {},
     "output_type": "execute_result"
    }
   ],
   "source": [
    "4737*100/len(new_df)"
   ]
  },
  {
   "cell_type": "code",
   "execution_count": 12,
   "metadata": {},
   "outputs": [],
   "source": [
    "randomforest_mer = Pipeline([('vect', CountVectorizer()),\n",
    "                            ('tfidf', TfidfTransformer()),\n",
    "                            ('clf', RandomForestClassifier(class_weight='balanced', random_state=1))])"
   ]
  },
  {
   "cell_type": "code",
   "execution_count": 16,
   "metadata": {},
   "outputs": [
    {
     "data": {
      "text/plain": [
       "Pipeline(steps=[('vect', CountVectorizer()), ('tfidf', TfidfTransformer()),\n",
       "                ('clf',\n",
       "                 RandomForestClassifier(class_weight='balanced',\n",
       "                                        random_state=1))])"
      ]
     },
     "execution_count": 16,
     "metadata": {},
     "output_type": "execute_result"
    }
   ],
   "source": [
    "randomforest_mer.fit(new_df['processed_text'], new_df['merchant_category'])"
   ]
  },
  {
   "cell_type": "code",
   "execution_count": 45,
   "metadata": {},
   "outputs": [
    {
     "data": {
      "text/html": [
       "<div>\n",
       "<style scoped>\n",
       "    .dataframe tbody tr th:only-of-type {\n",
       "        vertical-align: middle;\n",
       "    }\n",
       "\n",
       "    .dataframe tbody tr th {\n",
       "        vertical-align: top;\n",
       "    }\n",
       "\n",
       "    .dataframe thead th {\n",
       "        text-align: right;\n",
       "    }\n",
       "</style>\n",
       "<table border=\"1\" class=\"dataframe\">\n",
       "  <thead>\n",
       "    <tr style=\"text-align: right;\">\n",
       "      <th></th>\n",
       "      <th>merchant_category</th>\n",
       "      <th>processed_text</th>\n",
       "      <th>storefront_uuid</th>\n",
       "      <th>text</th>\n",
       "      <th>y_hat</th>\n",
       "      <th>confidence_score</th>\n",
       "    </tr>\n",
       "  </thead>\n",
       "  <tbody>\n",
       "    <tr>\n",
       "      <th>0</th>\n",
       "      <td>restaurant</td>\n",
       "      <td>sausage egg potato taco pc breakfast taco oran...</td>\n",
       "      <td>37191f20-b02f-4701-889f-5808385cc338</td>\n",
       "      <td>Sausage Egg Potato Taco (3 pcs) Breakfast Taco...</td>\n",
       "      <td>restaurant</td>\n",
       "      <td>0.99</td>\n",
       "    </tr>\n",
       "    <tr>\n",
       "      <th>1</th>\n",
       "      <td>restaurant</td>\n",
       "      <td>biologische culinaire saus curcu biologische c...</td>\n",
       "      <td>2b37312b-04d9-4dd8-9556-c5e4c054858f</td>\n",
       "      <td>Biologische culinaire saus Curcu Biologische c...</td>\n",
       "      <td>restaurant</td>\n",
       "      <td>0.98</td>\n",
       "    </tr>\n",
       "    <tr>\n",
       "      <th>2</th>\n",
       "      <td>restaurant</td>\n",
       "      <td>hot dog refris ml combo hot dog sugest o da ca...</td>\n",
       "      <td>788a3bb8-df6d-47ed-855f-304d96118a54</td>\n",
       "      <td>4 HOT DOG'S + 2 REFRIS 600ML COMBOS Hot dog su...</td>\n",
       "      <td>restaurant</td>\n",
       "      <td>0.94</td>\n",
       "    </tr>\n",
       "    <tr>\n",
       "      <th>3</th>\n",
       "      <td>restaurant</td>\n",
       "      <td>n n n n n n n n n n n n n n n n n n n n</td>\n",
       "      <td>003ee9f3-908b-4e59-8d40-23783ff50c7d</td>\n",
       "      <td>烏龍麵 單點 麻辣四寶套餐 人氣精選 麻辣雙寶 \\N 空心菜 \\N 鑫鑫腸 單點 麻辣鴨血套...</td>\n",
       "      <td>restaurant</td>\n",
       "      <td>0.74</td>\n",
       "    </tr>\n",
       "    <tr>\n",
       "      <th>4</th>\n",
       "      <td>restaurant</td>\n",
       "      <td>iced lemon spring tea fruit tea a ice slurp ir...</td>\n",
       "      <td>68697f93-78de-476e-b190-23eeca55d978</td>\n",
       "      <td>檸檬青茶 Iced Lemon Spring Tea 水果茶 Fruit Tea （新品上市...</td>\n",
       "      <td>restaurant</td>\n",
       "      <td>0.97</td>\n",
       "    </tr>\n",
       "  </tbody>\n",
       "</table>\n",
       "</div>"
      ],
      "text/plain": [
       "  merchant_category                                     processed_text  \\\n",
       "0        restaurant  sausage egg potato taco pc breakfast taco oran...   \n",
       "1        restaurant  biologische culinaire saus curcu biologische c...   \n",
       "2        restaurant  hot dog refris ml combo hot dog sugest o da ca...   \n",
       "3        restaurant            n n n n n n n n n n n n n n n n n n n n   \n",
       "4        restaurant  iced lemon spring tea fruit tea a ice slurp ir...   \n",
       "\n",
       "                        storefront_uuid  \\\n",
       "0  37191f20-b02f-4701-889f-5808385cc338   \n",
       "1  2b37312b-04d9-4dd8-9556-c5e4c054858f   \n",
       "2  788a3bb8-df6d-47ed-855f-304d96118a54   \n",
       "3  003ee9f3-908b-4e59-8d40-23783ff50c7d   \n",
       "4  68697f93-78de-476e-b190-23eeca55d978   \n",
       "\n",
       "                                                text       y_hat  \\\n",
       "0  Sausage Egg Potato Taco (3 pcs) Breakfast Taco...  restaurant   \n",
       "1  Biologische culinaire saus Curcu Biologische c...  restaurant   \n",
       "2  4 HOT DOG'S + 2 REFRIS 600ML COMBOS Hot dog su...  restaurant   \n",
       "3  烏龍麵 單點 麻辣四寶套餐 人氣精選 麻辣雙寶 \\N 空心菜 \\N 鑫鑫腸 單點 麻辣鴨血套...  restaurant   \n",
       "4  檸檬青茶 Iced Lemon Spring Tea 水果茶 Fruit Tea （新品上市...  restaurant   \n",
       "\n",
       "   confidence_score  \n",
       "0              0.99  \n",
       "1              0.98  \n",
       "2              0.94  \n",
       "3              0.74  \n",
       "4              0.97  "
      ]
     },
     "execution_count": 45,
     "metadata": {},
     "output_type": "execute_result"
    }
   ],
   "source": [
    "validation_data.head()"
   ]
  },
  {
   "cell_type": "code",
   "execution_count": 46,
   "metadata": {},
   "outputs": [],
   "source": [
    "validation_data['y_hat'] = randomforest_mer.predict(validation_data['processed_text'])\n",
    "validation_data['confidence_score'] = np.round_(np.max(randomforest_mer.predict_proba(validation_data['processed_text']), axis=1), decimals=2)"
   ]
  },
  {
   "cell_type": "code",
   "execution_count": 47,
   "metadata": {},
   "outputs": [
    {
     "name": "stdout",
     "output_type": "stream",
     "text": [
      "              precision    recall  f1-score   support\n",
      "\n",
      "     alcohol       0.94      1.00      0.97       698\n",
      "      flower       1.00      1.00      1.00        34\n",
      "         gse       0.26      0.97      0.41       710\n",
      "pet supplies       1.00      0.95      0.97        20\n",
      "    pharmacy       1.00      1.00      1.00        15\n",
      "  restaurant       1.00      0.93      0.96     28472\n",
      "      retail       0.94      1.00      0.97        16\n",
      "\n",
      "    accuracy                           0.93     29965\n",
      "   macro avg       0.88      0.98      0.90     29965\n",
      "weighted avg       0.98      0.93      0.95     29965\n",
      "\n"
     ]
    }
   ],
   "source": [
    "print(classification_report(validation_data['merchant_category'], validation_data['y_hat']))"
   ]
  },
  {
   "cell_type": "code",
   "execution_count": 51,
   "metadata": {},
   "outputs": [],
   "source": [
    "sample = validation_data[(validation_data['merchant_category']!='restaurant') & (validation_data['merchant_category_undersampling']=='restaurant')]"
   ]
  },
  {
   "cell_type": "code",
   "execution_count": 52,
   "metadata": {},
   "outputs": [
    {
     "data": {
      "text/plain": [
       "gse             15\n",
       "pet supplies     1\n",
       "Name: merchant_category, dtype: int64"
      ]
     },
     "execution_count": 52,
     "metadata": {},
     "output_type": "execute_result"
    }
   ],
   "source": [
    "sample['merchant_category'].value_counts()"
   ]
  },
  {
   "cell_type": "code",
   "execution_count": 23,
   "metadata": {},
   "outputs": [
    {
     "data": {
      "text/plain": [
       "0.95"
      ]
     },
     "execution_count": 23,
     "metadata": {},
     "output_type": "execute_result"
    }
   ],
   "source": [
    "1-1/20"
   ]
  },
  {
   "cell_type": "code",
   "execution_count": 40,
   "metadata": {},
   "outputs": [
    {
     "data": {
      "text/html": [
       "<div>\n",
       "<style scoped>\n",
       "    .dataframe tbody tr th:only-of-type {\n",
       "        vertical-align: middle;\n",
       "    }\n",
       "\n",
       "    .dataframe tbody tr th {\n",
       "        vertical-align: top;\n",
       "    }\n",
       "\n",
       "    .dataframe thead th {\n",
       "        text-align: right;\n",
       "    }\n",
       "</style>\n",
       "<table border=\"1\" class=\"dataframe\">\n",
       "  <thead>\n",
       "    <tr style=\"text-align: right;\">\n",
       "      <th></th>\n",
       "      <th>merchant_category</th>\n",
       "      <th>storefront_uuid</th>\n",
       "      <th>merchant_category_undersampling</th>\n",
       "      <th>confidence_score_undersampling</th>\n",
       "    </tr>\n",
       "  </thead>\n",
       "  <tbody>\n",
       "    <tr>\n",
       "      <th>0</th>\n",
       "      <td>restaurant</td>\n",
       "      <td>37191f20-b02f-4701-889f-5808385cc338</td>\n",
       "      <td>restaurant</td>\n",
       "      <td>0.85</td>\n",
       "    </tr>\n",
       "    <tr>\n",
       "      <th>1</th>\n",
       "      <td>restaurant</td>\n",
       "      <td>2b37312b-04d9-4dd8-9556-c5e4c054858f</td>\n",
       "      <td>restaurant</td>\n",
       "      <td>0.78</td>\n",
       "    </tr>\n",
       "    <tr>\n",
       "      <th>2</th>\n",
       "      <td>restaurant</td>\n",
       "      <td>788a3bb8-df6d-47ed-855f-304d96118a54</td>\n",
       "      <td>restaurant</td>\n",
       "      <td>0.77</td>\n",
       "    </tr>\n",
       "    <tr>\n",
       "      <th>3</th>\n",
       "      <td>restaurant</td>\n",
       "      <td>003ee9f3-908b-4e59-8d40-23783ff50c7d</td>\n",
       "      <td>restaurant</td>\n",
       "      <td>0.71</td>\n",
       "    </tr>\n",
       "    <tr>\n",
       "      <th>4</th>\n",
       "      <td>restaurant</td>\n",
       "      <td>68697f93-78de-476e-b190-23eeca55d978</td>\n",
       "      <td>gse</td>\n",
       "      <td>0.56</td>\n",
       "    </tr>\n",
       "  </tbody>\n",
       "</table>\n",
       "</div>"
      ],
      "text/plain": [
       "  merchant_category                       storefront_uuid  \\\n",
       "0        restaurant  37191f20-b02f-4701-889f-5808385cc338   \n",
       "1        restaurant  2b37312b-04d9-4dd8-9556-c5e4c054858f   \n",
       "2        restaurant  788a3bb8-df6d-47ed-855f-304d96118a54   \n",
       "3        restaurant  003ee9f3-908b-4e59-8d40-23783ff50c7d   \n",
       "4        restaurant  68697f93-78de-476e-b190-23eeca55d978   \n",
       "\n",
       "  merchant_category_undersampling  confidence_score_undersampling  \n",
       "0                      restaurant                            0.85  \n",
       "1                      restaurant                            0.78  \n",
       "2                      restaurant                            0.77  \n",
       "3                      restaurant                            0.71  \n",
       "4                             gse                            0.56  "
      ]
     },
     "execution_count": 40,
     "metadata": {},
     "output_type": "execute_result"
    }
   ],
   "source": [
    "validation_data.head()"
   ]
  },
  {
   "cell_type": "code",
   "execution_count": 48,
   "metadata": {},
   "outputs": [],
   "source": [
    "# validation_data.drop(['text', 'processed_text'], axis=1, inplace=True)\n",
    "\n",
    "validation_data = validation_data.rename(columns={'y_hat': 'merchant_category_undersampling', 'confidence_score': 'confidence_score_undersampling'})"
   ]
  },
  {
   "cell_type": "code",
   "execution_count": 49,
   "metadata": {},
   "outputs": [],
   "source": [
    "validation_data.to_csv('output/validation_output_undersampling.csv', index=False)"
   ]
  },
  {
   "cell_type": "markdown",
   "metadata": {},
   "source": [
    "## Production Test Data"
   ]
  },
  {
   "cell_type": "code",
   "execution_count": 24,
   "metadata": {},
   "outputs": [
    {
     "data": {
      "text/plain": [
       "(1000000, 8)"
      ]
     },
     "execution_count": 24,
     "metadata": {},
     "output_type": "execute_result"
    }
   ],
   "source": [
    "test_data = pd.read_csv('test_data/test_data_by_query.csv')\n",
    "\n",
    "test_data.shape"
   ]
  },
  {
   "cell_type": "code",
   "execution_count": 25,
   "metadata": {},
   "outputs": [
    {
     "data": {
      "text/html": [
       "<div>\n",
       "<style scoped>\n",
       "    .dataframe tbody tr th:only-of-type {\n",
       "        vertical-align: middle;\n",
       "    }\n",
       "\n",
       "    .dataframe tbody tr th {\n",
       "        vertical-align: top;\n",
       "    }\n",
       "\n",
       "    .dataframe thead th {\n",
       "        text-align: right;\n",
       "    }\n",
       "</style>\n",
       "<table border=\"1\" class=\"dataframe\">\n",
       "  <thead>\n",
       "    <tr style=\"text-align: right;\">\n",
       "      <th></th>\n",
       "      <th>storefront_uuid</th>\n",
       "      <th>parent_chain_or_store_name</th>\n",
       "      <th>merchant_type_analytics</th>\n",
       "      <th>segment</th>\n",
       "      <th>country_name</th>\n",
       "      <th>location_type</th>\n",
       "      <th>menu_item</th>\n",
       "      <th>menu_items_subsection_name</th>\n",
       "    </tr>\n",
       "  </thead>\n",
       "  <tbody>\n",
       "    <tr>\n",
       "      <th>0</th>\n",
       "      <td>07ec9a4f-b71d-4277-a0a6-239214c2bfa8</td>\n",
       "      <td>derrick snacks &amp; deli [smb parent]</td>\n",
       "      <td>MERCHANT_TYPE_ESSENTIALS</td>\n",
       "      <td>SMB - Outbound</td>\n",
       "      <td>Canada</td>\n",
       "      <td>GROCERY_STORE</td>\n",
       "      <td>Ferrero Rocher</td>\n",
       "      <td>Candies and Chocolate Bars</td>\n",
       "    </tr>\n",
       "    <tr>\n",
       "      <th>1</th>\n",
       "      <td>07ec9a4f-b71d-4277-a0a6-239214c2bfa8</td>\n",
       "      <td>derrick snacks &amp; deli [smb parent]</td>\n",
       "      <td>MERCHANT_TYPE_ESSENTIALS</td>\n",
       "      <td>SMB - Outbound</td>\n",
       "      <td>Canada</td>\n",
       "      <td>GROCERY_STORE</td>\n",
       "      <td>Ham and Cheese Sandwiches</td>\n",
       "      <td>Sandwiches</td>\n",
       "    </tr>\n",
       "    <tr>\n",
       "      <th>2</th>\n",
       "      <td>07ec9a4f-b71d-4277-a0a6-239214c2bfa8</td>\n",
       "      <td>derrick snacks &amp; deli [smb parent]</td>\n",
       "      <td>MERCHANT_TYPE_ESSENTIALS</td>\n",
       "      <td>SMB - Outbound</td>\n",
       "      <td>Canada</td>\n",
       "      <td>GROCERY_STORE</td>\n",
       "      <td>Clubhouse Sandwiches</td>\n",
       "      <td>Sandwiches</td>\n",
       "    </tr>\n",
       "    <tr>\n",
       "      <th>3</th>\n",
       "      <td>07ec9a4f-b71d-4277-a0a6-239214c2bfa8</td>\n",
       "      <td>derrick snacks &amp; deli [smb parent]</td>\n",
       "      <td>MERCHANT_TYPE_ESSENTIALS</td>\n",
       "      <td>SMB - Outbound</td>\n",
       "      <td>Canada</td>\n",
       "      <td>GROCERY_STORE</td>\n",
       "      <td>Canadian Vegetable Samosas</td>\n",
       "      <td>Samosas</td>\n",
       "    </tr>\n",
       "    <tr>\n",
       "      <th>4</th>\n",
       "      <td>07ec9a4f-b71d-4277-a0a6-239214c2bfa8</td>\n",
       "      <td>derrick snacks &amp; deli [smb parent]</td>\n",
       "      <td>MERCHANT_TYPE_ESSENTIALS</td>\n",
       "      <td>SMB - Outbound</td>\n",
       "      <td>Canada</td>\n",
       "      <td>GROCERY_STORE</td>\n",
       "      <td>Big Dutch Crunch</td>\n",
       "      <td>Chips</td>\n",
       "    </tr>\n",
       "  </tbody>\n",
       "</table>\n",
       "</div>"
      ],
      "text/plain": [
       "                        storefront_uuid          parent_chain_or_store_name  \\\n",
       "0  07ec9a4f-b71d-4277-a0a6-239214c2bfa8  derrick snacks & deli [smb parent]   \n",
       "1  07ec9a4f-b71d-4277-a0a6-239214c2bfa8  derrick snacks & deli [smb parent]   \n",
       "2  07ec9a4f-b71d-4277-a0a6-239214c2bfa8  derrick snacks & deli [smb parent]   \n",
       "3  07ec9a4f-b71d-4277-a0a6-239214c2bfa8  derrick snacks & deli [smb parent]   \n",
       "4  07ec9a4f-b71d-4277-a0a6-239214c2bfa8  derrick snacks & deli [smb parent]   \n",
       "\n",
       "    merchant_type_analytics         segment country_name  location_type  \\\n",
       "0  MERCHANT_TYPE_ESSENTIALS  SMB - Outbound       Canada  GROCERY_STORE   \n",
       "1  MERCHANT_TYPE_ESSENTIALS  SMB - Outbound       Canada  GROCERY_STORE   \n",
       "2  MERCHANT_TYPE_ESSENTIALS  SMB - Outbound       Canada  GROCERY_STORE   \n",
       "3  MERCHANT_TYPE_ESSENTIALS  SMB - Outbound       Canada  GROCERY_STORE   \n",
       "4  MERCHANT_TYPE_ESSENTIALS  SMB - Outbound       Canada  GROCERY_STORE   \n",
       "\n",
       "                    menu_item  menu_items_subsection_name  \n",
       "0              Ferrero Rocher  Candies and Chocolate Bars  \n",
       "1   Ham and Cheese Sandwiches                  Sandwiches  \n",
       "2        Clubhouse Sandwiches                  Sandwiches  \n",
       "3  Canadian Vegetable Samosas                     Samosas  \n",
       "4            Big Dutch Crunch                       Chips  "
      ]
     },
     "execution_count": 25,
     "metadata": {},
     "output_type": "execute_result"
    }
   ],
   "source": [
    "test_data.head()"
   ]
  },
  {
   "cell_type": "code",
   "execution_count": 27,
   "metadata": {},
   "outputs": [],
   "source": [
    "def preprocess_text(message):\n",
    "    # To handle np.nan \n",
    "    if isinstance(message, float):\n",
    "        return None\n",
    "    \n",
    "    #lowering and removing punctuation\n",
    "    message = re.sub(r'[^\\w\\s]','', message.lower())\n",
    "    \n",
    "    #removing the numerical values and working only with text values\n",
    "    message = re.sub('[^a-zA-Z]', \" \", message )\n",
    "    \n",
    "    #lemmatizing the text\n",
    "    message =  \" \".join([lemmatizer.lemmatize(w) for w in nltk.word_tokenize(message) if w not in string.punctuation])\n",
    "    \n",
    "    # after preprocessing if message is empty string \n",
    "    if not message:\n",
    "        message = None\n",
    "        \n",
    "    return message"
   ]
  },
  {
   "cell_type": "code",
   "execution_count": 28,
   "metadata": {},
   "outputs": [],
   "source": [
    "def prepare_data(data):\n",
    "    # apply preprocessing steps\n",
    "    # data['mer_name'] = data['parent_chain_or_store_name'].apply(preprocess_text)\n",
    "    unique_mer = data['parent_chain_or_store_name'].unique()\n",
    "    unique_mer = [i for i in unique_mer if preprocess_text(i)]\n",
    "    \n",
    "    data = data[data['parent_chain_or_store_name'].isin(unique_mer)]\n",
    "    \n",
    "    # print(data.shape)\n",
    "\n",
    "    # remove where merchant name is NULL (Asian)\n",
    "    # data = data.dropna(how='any', subset=['mer_name'])\n",
    "    \n",
    "    # remove rows where merchant type is unknown\n",
    "    data = data[data['merchant_type_analytics']!='MERCHANT_TYPE_UNKNOWN']\n",
    "    \n",
    "    # prepare output variable\n",
    "    data['merchant_category'] = data['merchant_type_analytics'].str.replace('MERCHANT_TYPE_LIQUOR', 'alcohol').str.replace('MERCHANT_TYPE_ESSENTIALS', 'gse')\\\n",
    "    .str.replace('MERCHANT_TYPE_SPECIALTY_FOOD', 'gse').str.replace('MERCHANT_TYPE_GROCERY', 'gse')\\\n",
    "    .str.replace('MERCHANT_TYPE_PHARMACY', 'pharmacy').str.replace('MERCHANT_TYPE_PET_SUPPLY', 'pet supplies')\\\n",
    "    .str.replace('MERCHANT_TYPE_RETAIL', 'retail').str.replace('MERCHANT_TYPE_FLOWER', 'flower').str.replace('MERCHANT_TYPE_RESTAURANT', 'restaurant')\n",
    "    \n",
    "    # concatenate features into single corpus\n",
    "    data['text'] = data['menu_item'].astype('str') + \" \" + data['menu_items_subsection_name'].astype('str')\n",
    "    \n",
    "    # groupby on storefront_uuid to prepare training data\n",
    "    data = data.groupby(['storefront_uuid', 'merchant_category'], as_index = False).agg({'text': ' '.join})\n",
    "    \n",
    "    # preprocessing steps for text data\n",
    "    data['processed_text'] = data['text'].apply(preprocess_text)\n",
    "    \n",
    "    # drop rows which became NULL after preprocessing\n",
    "    data = data.dropna(how='any')\n",
    "    \n",
    "    return data"
   ]
  },
  {
   "cell_type": "code",
   "execution_count": 31,
   "metadata": {},
   "outputs": [
    {
     "data": {
      "text/html": [
       "<div>\n",
       "<style scoped>\n",
       "    .dataframe tbody tr th:only-of-type {\n",
       "        vertical-align: middle;\n",
       "    }\n",
       "\n",
       "    .dataframe tbody tr th {\n",
       "        vertical-align: top;\n",
       "    }\n",
       "\n",
       "    .dataframe thead th {\n",
       "        text-align: right;\n",
       "    }\n",
       "</style>\n",
       "<table border=\"1\" class=\"dataframe\">\n",
       "  <thead>\n",
       "    <tr style=\"text-align: right;\">\n",
       "      <th></th>\n",
       "      <th>storefront_uuid</th>\n",
       "      <th>merchant_category</th>\n",
       "      <th>text</th>\n",
       "      <th>processed_text</th>\n",
       "    </tr>\n",
       "  </thead>\n",
       "  <tbody>\n",
       "    <tr>\n",
       "      <th>0</th>\n",
       "      <td>0001439d-b61b-49b5-be9d-6004d6178ce1</td>\n",
       "      <td>restaurant</td>\n",
       "      <td>Cocktail Sauce Condiments and Sauces Egg Side ...</td>\n",
       "      <td>cocktail sauce condiment and sauce egg side or...</td>\n",
       "    </tr>\n",
       "    <tr>\n",
       "      <th>1</th>\n",
       "      <td>0018b366-7921-418f-acc0-8316734901ec</td>\n",
       "      <td>restaurant</td>\n",
       "      <td>Chiles Rellenos Entrees Mole Enchiladas Enchil...</td>\n",
       "      <td>chile rellenos entree mole enchilada enchilada...</td>\n",
       "    </tr>\n",
       "    <tr>\n",
       "      <th>2</th>\n",
       "      <td>001a94d0-5f1b-4404-bb82-fa5e7c2318f5</td>\n",
       "      <td>restaurant</td>\n",
       "      <td>(1 lb) Selva Negra Light Roast Coffee Bulk Cof...</td>\n",
       "      <td>lb selva negra light roast coffee bulk coffee ...</td>\n",
       "    </tr>\n",
       "    <tr>\n",
       "      <th>3</th>\n",
       "      <td>0022c4d7-32a4-4f45-a7e6-38202882640d</td>\n",
       "      <td>restaurant</td>\n",
       "      <td>Toast Sides and Drinks Gatorade Sides and Drin...</td>\n",
       "      <td>toast side and drink gatorade side and drink s...</td>\n",
       "    </tr>\n",
       "    <tr>\n",
       "      <th>4</th>\n",
       "      <td>002474a7-e249-43a6-84cf-f6e987cb09f5</td>\n",
       "      <td>restaurant</td>\n",
       "      <td>Diet Coke® Beverages Spring Roll (Four Pieces)...</td>\n",
       "      <td>diet coke beverage spring roll four piece appe...</td>\n",
       "    </tr>\n",
       "  </tbody>\n",
       "</table>\n",
       "</div>"
      ],
      "text/plain": [
       "                        storefront_uuid merchant_category  \\\n",
       "0  0001439d-b61b-49b5-be9d-6004d6178ce1        restaurant   \n",
       "1  0018b366-7921-418f-acc0-8316734901ec        restaurant   \n",
       "2  001a94d0-5f1b-4404-bb82-fa5e7c2318f5        restaurant   \n",
       "3  0022c4d7-32a4-4f45-a7e6-38202882640d        restaurant   \n",
       "4  002474a7-e249-43a6-84cf-f6e987cb09f5        restaurant   \n",
       "\n",
       "                                                text  \\\n",
       "0  Cocktail Sauce Condiments and Sauces Egg Side ...   \n",
       "1  Chiles Rellenos Entrees Mole Enchiladas Enchil...   \n",
       "2  (1 lb) Selva Negra Light Roast Coffee Bulk Cof...   \n",
       "3  Toast Sides and Drinks Gatorade Sides and Drin...   \n",
       "4  Diet Coke® Beverages Spring Roll (Four Pieces)...   \n",
       "\n",
       "                                      processed_text  \n",
       "0  cocktail sauce condiment and sauce egg side or...  \n",
       "1  chile rellenos entree mole enchilada enchilada...  \n",
       "2  lb selva negra light roast coffee bulk coffee ...  \n",
       "3  toast side and drink gatorade side and drink s...  \n",
       "4  diet coke beverage spring roll four piece appe...  "
      ]
     },
     "execution_count": 31,
     "metadata": {},
     "output_type": "execute_result"
    }
   ],
   "source": [
    "test_data = prepare_data(test_data)\n",
    "test_data.head()"
   ]
  },
  {
   "cell_type": "code",
   "execution_count": 33,
   "metadata": {},
   "outputs": [],
   "source": [
    "test_data['y_hat'] = randomforest_mer.predict(test_data['processed_text'])\n",
    "test_data['confidence_score'] = np.round_(np.max(randomforest_mer.predict_proba(test_data['processed_text']), axis=1), decimals=2)"
   ]
  },
  {
   "cell_type": "code",
   "execution_count": 34,
   "metadata": {},
   "outputs": [
    {
     "data": {
      "text/html": [
       "<div>\n",
       "<style scoped>\n",
       "    .dataframe tbody tr th:only-of-type {\n",
       "        vertical-align: middle;\n",
       "    }\n",
       "\n",
       "    .dataframe tbody tr th {\n",
       "        vertical-align: top;\n",
       "    }\n",
       "\n",
       "    .dataframe thead th {\n",
       "        text-align: right;\n",
       "    }\n",
       "</style>\n",
       "<table border=\"1\" class=\"dataframe\">\n",
       "  <thead>\n",
       "    <tr style=\"text-align: right;\">\n",
       "      <th></th>\n",
       "      <th>storefront_uuid</th>\n",
       "      <th>merchant_category</th>\n",
       "      <th>text</th>\n",
       "      <th>processed_text</th>\n",
       "      <th>y_hat</th>\n",
       "      <th>confidence_score</th>\n",
       "    </tr>\n",
       "  </thead>\n",
       "  <tbody>\n",
       "    <tr>\n",
       "      <th>0</th>\n",
       "      <td>0001439d-b61b-49b5-be9d-6004d6178ce1</td>\n",
       "      <td>restaurant</td>\n",
       "      <td>Cocktail Sauce Condiments and Sauces Egg Side ...</td>\n",
       "      <td>cocktail sauce condiment and sauce egg side or...</td>\n",
       "      <td>restaurant</td>\n",
       "      <td>0.94</td>\n",
       "    </tr>\n",
       "    <tr>\n",
       "      <th>1</th>\n",
       "      <td>0018b366-7921-418f-acc0-8316734901ec</td>\n",
       "      <td>restaurant</td>\n",
       "      <td>Chiles Rellenos Entrees Mole Enchiladas Enchil...</td>\n",
       "      <td>chile rellenos entree mole enchilada enchilada...</td>\n",
       "      <td>restaurant</td>\n",
       "      <td>0.92</td>\n",
       "    </tr>\n",
       "    <tr>\n",
       "      <th>2</th>\n",
       "      <td>001a94d0-5f1b-4404-bb82-fa5e7c2318f5</td>\n",
       "      <td>restaurant</td>\n",
       "      <td>(1 lb) Selva Negra Light Roast Coffee Bulk Cof...</td>\n",
       "      <td>lb selva negra light roast coffee bulk coffee ...</td>\n",
       "      <td>restaurant</td>\n",
       "      <td>0.54</td>\n",
       "    </tr>\n",
       "    <tr>\n",
       "      <th>3</th>\n",
       "      <td>0022c4d7-32a4-4f45-a7e6-38202882640d</td>\n",
       "      <td>restaurant</td>\n",
       "      <td>Toast Sides and Drinks Gatorade Sides and Drin...</td>\n",
       "      <td>toast side and drink gatorade side and drink s...</td>\n",
       "      <td>restaurant</td>\n",
       "      <td>0.77</td>\n",
       "    </tr>\n",
       "    <tr>\n",
       "      <th>4</th>\n",
       "      <td>002474a7-e249-43a6-84cf-f6e987cb09f5</td>\n",
       "      <td>restaurant</td>\n",
       "      <td>Diet Coke® Beverages Spring Roll (Four Pieces)...</td>\n",
       "      <td>diet coke beverage spring roll four piece appe...</td>\n",
       "      <td>restaurant</td>\n",
       "      <td>0.98</td>\n",
       "    </tr>\n",
       "  </tbody>\n",
       "</table>\n",
       "</div>"
      ],
      "text/plain": [
       "                        storefront_uuid merchant_category  \\\n",
       "0  0001439d-b61b-49b5-be9d-6004d6178ce1        restaurant   \n",
       "1  0018b366-7921-418f-acc0-8316734901ec        restaurant   \n",
       "2  001a94d0-5f1b-4404-bb82-fa5e7c2318f5        restaurant   \n",
       "3  0022c4d7-32a4-4f45-a7e6-38202882640d        restaurant   \n",
       "4  002474a7-e249-43a6-84cf-f6e987cb09f5        restaurant   \n",
       "\n",
       "                                                text  \\\n",
       "0  Cocktail Sauce Condiments and Sauces Egg Side ...   \n",
       "1  Chiles Rellenos Entrees Mole Enchiladas Enchil...   \n",
       "2  (1 lb) Selva Negra Light Roast Coffee Bulk Cof...   \n",
       "3  Toast Sides and Drinks Gatorade Sides and Drin...   \n",
       "4  Diet Coke® Beverages Spring Roll (Four Pieces)...   \n",
       "\n",
       "                                      processed_text       y_hat  \\\n",
       "0  cocktail sauce condiment and sauce egg side or...  restaurant   \n",
       "1  chile rellenos entree mole enchilada enchilada...  restaurant   \n",
       "2  lb selva negra light roast coffee bulk coffee ...  restaurant   \n",
       "3  toast side and drink gatorade side and drink s...  restaurant   \n",
       "4  diet coke beverage spring roll four piece appe...  restaurant   \n",
       "\n",
       "   confidence_score  \n",
       "0              0.94  \n",
       "1              0.92  \n",
       "2              0.54  \n",
       "3              0.77  \n",
       "4              0.98  "
      ]
     },
     "execution_count": 34,
     "metadata": {},
     "output_type": "execute_result"
    }
   ],
   "source": [
    "test_data.head()"
   ]
  },
  {
   "cell_type": "code",
   "execution_count": 35,
   "metadata": {},
   "outputs": [
    {
     "name": "stdout",
     "output_type": "stream",
     "text": [
      "              precision    recall  f1-score   support\n",
      "\n",
      "     alcohol       0.96      1.00      0.98       165\n",
      "      flower       1.00      1.00      1.00         8\n",
      "         gse       0.16      0.97      0.27       118\n",
      "pet supplies       1.00      1.00      1.00         5\n",
      "    pharmacy       1.00      1.00      1.00         1\n",
      "  restaurant       1.00      0.94      0.97     10300\n",
      "      retail       1.00      0.80      0.89         5\n",
      "\n",
      "    accuracy                           0.94     10602\n",
      "   macro avg       0.87      0.96      0.87     10602\n",
      "weighted avg       0.99      0.94      0.96     10602\n",
      "\n"
     ]
    }
   ],
   "source": [
    "print(classification_report(test_data['merchant_category'], test_data['y_hat']))"
   ]
  },
  {
   "cell_type": "code",
   "execution_count": 36,
   "metadata": {},
   "outputs": [],
   "source": [
    "test_data.to_csv('output/test_output_undersampling.csv', index=False)"
   ]
  },
  {
   "cell_type": "code",
   "execution_count": null,
   "metadata": {},
   "outputs": [],
   "source": [
    "sample = validation_data[(validation_data['merchant_category']!='restaurant') & (validation_data['y_hat']=='restaurant')]"
   ]
  },
  {
   "cell_type": "markdown",
   "metadata": {},
   "source": [
    "## Production Data"
   ]
  },
  {
   "cell_type": "code",
   "execution_count": 53,
   "metadata": {},
   "outputs": [
    {
     "data": {
      "text/plain": [
       "(396142, 5)"
      ]
     },
     "execution_count": 53,
     "metadata": {},
     "output_type": "execute_result"
    }
   ],
   "source": [
    "prod_data = pd.read_csv('test_data/production_tagged_data.csv')\n",
    "\n",
    "prod_data.shape"
   ]
  },
  {
   "cell_type": "code",
   "execution_count": 54,
   "metadata": {},
   "outputs": [
    {
     "data": {
      "text/html": [
       "<div>\n",
       "<style scoped>\n",
       "    .dataframe tbody tr th:only-of-type {\n",
       "        vertical-align: middle;\n",
       "    }\n",
       "\n",
       "    .dataframe tbody tr th {\n",
       "        vertical-align: top;\n",
       "    }\n",
       "\n",
       "    .dataframe thead th {\n",
       "        text-align: right;\n",
       "    }\n",
       "</style>\n",
       "<table border=\"1\" class=\"dataframe\">\n",
       "  <thead>\n",
       "    <tr style=\"text-align: right;\">\n",
       "      <th></th>\n",
       "      <th>storefront_uuid</th>\n",
       "      <th>merchant_category_by_gss</th>\n",
       "      <th>merchant_type_analytics</th>\n",
       "      <th>text</th>\n",
       "      <th>processed_text</th>\n",
       "    </tr>\n",
       "  </thead>\n",
       "  <tbody>\n",
       "    <tr>\n",
       "      <th>0</th>\n",
       "      <td>000030df-b29b-444c-b77a-5f48107a6cf5</td>\n",
       "      <td>Restaurants</td>\n",
       "      <td>restaurant</td>\n",
       "      <td>Menu fish fillet Menus Mozzarella sticks Tex-M...</td>\n",
       "      <td>menu fish fillet menu mozzarella stick texmex ...</td>\n",
       "    </tr>\n",
       "    <tr>\n",
       "      <th>1</th>\n",
       "      <td>00003271-e3c2-4467-94ab-4f3019845cf4</td>\n",
       "      <td>Restaurants</td>\n",
       "      <td>restaurant</td>\n",
       "      <td>Oasis pomme cassis framboise Boissons Pizza vé...</td>\n",
       "      <td>oasis pomme cassis framboise boissons pizza v ...</td>\n",
       "    </tr>\n",
       "    <tr>\n",
       "      <th>2</th>\n",
       "      <td>00004348-fb7f-480a-84ca-9a1a7247ee60</td>\n",
       "      <td>Restaurants</td>\n",
       "      <td>MERCHANT_TYPE_UNKNOWN</td>\n",
       "      <td>Beef Chop Suey Chop Suey Salmon Nigri Nigiri E...</td>\n",
       "      <td>beef chop suey chop suey salmon nigri nigiri e...</td>\n",
       "    </tr>\n",
       "    <tr>\n",
       "      <th>3</th>\n",
       "      <td>00008ea3-e75b-4219-80e9-498afb0fef3e</td>\n",
       "      <td>Restaurants</td>\n",
       "      <td>restaurant</td>\n",
       "      <td>When Larry Met Crabby Combos Crab tool Sides P...</td>\n",
       "      <td>when larry met crabby combo crab tool side pop...</td>\n",
       "    </tr>\n",
       "    <tr>\n",
       "      <th>4</th>\n",
       "      <td>00008eb9-0abe-4277-bb44-8bbc6c6a576f</td>\n",
       "      <td>Restaurants</td>\n",
       "      <td>restaurant</td>\n",
       "      <td>Refrigerantes 350ml Bebidas Açaí 400ml com adi...</td>\n",
       "      <td>refrigerantes ml bebidas a a ml com adicionais...</td>\n",
       "    </tr>\n",
       "  </tbody>\n",
       "</table>\n",
       "</div>"
      ],
      "text/plain": [
       "                        storefront_uuid merchant_category_by_gss  \\\n",
       "0  000030df-b29b-444c-b77a-5f48107a6cf5              Restaurants   \n",
       "1  00003271-e3c2-4467-94ab-4f3019845cf4              Restaurants   \n",
       "2  00004348-fb7f-480a-84ca-9a1a7247ee60              Restaurants   \n",
       "3  00008ea3-e75b-4219-80e9-498afb0fef3e              Restaurants   \n",
       "4  00008eb9-0abe-4277-bb44-8bbc6c6a576f              Restaurants   \n",
       "\n",
       "  merchant_type_analytics                                               text  \\\n",
       "0              restaurant  Menu fish fillet Menus Mozzarella sticks Tex-M...   \n",
       "1              restaurant  Oasis pomme cassis framboise Boissons Pizza vé...   \n",
       "2   MERCHANT_TYPE_UNKNOWN  Beef Chop Suey Chop Suey Salmon Nigri Nigiri E...   \n",
       "3              restaurant  When Larry Met Crabby Combos Crab tool Sides P...   \n",
       "4              restaurant  Refrigerantes 350ml Bebidas Açaí 400ml com adi...   \n",
       "\n",
       "                                      processed_text  \n",
       "0  menu fish fillet menu mozzarella stick texmex ...  \n",
       "1  oasis pomme cassis framboise boissons pizza v ...  \n",
       "2  beef chop suey chop suey salmon nigri nigiri e...  \n",
       "3  when larry met crabby combo crab tool side pop...  \n",
       "4  refrigerantes ml bebidas a a ml com adicionais...  "
      ]
     },
     "execution_count": 54,
     "metadata": {},
     "output_type": "execute_result"
    }
   ],
   "source": [
    "prod_data.head()"
   ]
  },
  {
   "cell_type": "code",
   "execution_count": 56,
   "metadata": {},
   "outputs": [],
   "source": [
    "prod_data['y_hat'] = randomforest_mer.predict(prod_data['processed_text'])\n",
    "prod_data['confidence_score'] = np.round_(np.max(randomforest_mer.predict_proba(prod_data['processed_text']), axis=1), decimals=2)"
   ]
  },
  {
   "cell_type": "code",
   "execution_count": 62,
   "metadata": {},
   "outputs": [
    {
     "name": "stdout",
     "output_type": "stream",
     "text": [
      "              precision    recall  f1-score   support\n",
      "\n",
      "     alcohol       0.82      0.97      0.89      4036\n",
      "      flower       0.99      0.94      0.96       142\n",
      "         gse       0.14      0.89      0.25      5648\n",
      "pet supplies       1.00      0.89      0.94        63\n",
      "    pharmacy       0.98      0.89      0.93        63\n",
      "  restaurant       1.00      0.92      0.96    386130\n",
      "      retail       0.91      0.72      0.80        60\n",
      "\n",
      "    accuracy                           0.92    396142\n",
      "   macro avg       0.84      0.89      0.82    396142\n",
      "weighted avg       0.98      0.92      0.95    396142\n",
      "\n"
     ]
    }
   ],
   "source": [
    "print(classification_report(prod_data['merchant_category_by_gss'], prod_data['y_hat']))"
   ]
  },
  {
   "cell_type": "code",
   "execution_count": 65,
   "metadata": {},
   "outputs": [
    {
     "data": {
      "text/plain": [
       "restaurant      386130\n",
       "gse               5648\n",
       "alcohol           4036\n",
       "flower             142\n",
       "pharmacy            63\n",
       "pet supplies        63\n",
       "retail              60\n",
       "Name: merchant_category_by_gss, dtype: int64"
      ]
     },
     "execution_count": 65,
     "metadata": {},
     "output_type": "execute_result"
    }
   ],
   "source": [
    "prod_data['merchant_category_by_gss'].value_counts()"
   ]
  },
  {
   "cell_type": "code",
   "execution_count": 66,
   "metadata": {},
   "outputs": [
    {
     "data": {
      "text/plain": [
       "restaurant               367052\n",
       "MERCHANT_TYPE_UNKNOWN     21200\n",
       "alcohol                    3937\n",
       "gse                        3636\n",
       "flower                      137\n",
       "retail                       64\n",
       "pharmacy                     59\n",
       "pet supplies                 57\n",
       "Name: merchant_type_analytics, dtype: int64"
      ]
     },
     "execution_count": 66,
     "metadata": {},
     "output_type": "execute_result"
    }
   ],
   "source": [
    "prod_data['merchant_type_analytics'].value_counts()"
   ]
  },
  {
   "cell_type": "code",
   "execution_count": 61,
   "metadata": {},
   "outputs": [],
   "source": [
    "prod_data['merchant_category_by_gss'] = prod_data['merchant_category_by_gss'].str.replace('Restaurants', 'restaurant')\\\n",
    "                                        .str.replace('Essentials', 'gse').str.replace('Flowers', 'flower')\\\n",
    "                                        .str.replace('Grocery', 'gse').str.replace('Liquor Store', 'alcohol')\\\n",
    "                                        .str.replace('Pet Supplies', 'pet supplies').str.replace('Pharmacy', 'pharmacy')\\\n",
    "                                        .str.replace('Retail', 'retail').str.replace('Speciality foods', 'gse')"
   ]
  },
  {
   "cell_type": "code",
   "execution_count": 64,
   "metadata": {},
   "outputs": [],
   "source": [
    "mask1 = (prod_data['merchant_category_by_gss']=='restaurant') & (prod_data['y_hat']!='restaurant')\n",
    "mask2 = (prod_data['merchant_category_by_gss']!='restaurant') & (prod_data['y_hat']=='restaurant')\n",
    "\n",
    "\n",
    "prod_data['diff_merchant_category_by_gss'] = np.select([mask1, mask2], ['restaurant predicted as non-restaurant', 'non-restaurant predicted as restaurant'], '')\n"
   ]
  },
  {
   "cell_type": "code",
   "execution_count": 67,
   "metadata": {},
   "outputs": [],
   "source": [
    "mask1 = (prod_data['merchant_type_analytics']=='restaurant') & (prod_data['y_hat']!='restaurant')\n",
    "mask2 = (prod_data['merchant_type_analytics']!='restaurant') & (prod_data['y_hat']=='restaurant')\n",
    "\n",
    "\n",
    "prod_data['diff_merchant_type_analytics'] = np.select([mask1, mask2], ['restaurant predicted as non-restaurant', 'non-restaurant predicted as restaurant'], '')\n"
   ]
  },
  {
   "cell_type": "code",
   "execution_count": 71,
   "metadata": {},
   "outputs": [],
   "source": [
    "prod_data.drop(['text','processed_text'], axis=1, inplace=True)"
   ]
  },
  {
   "cell_type": "code",
   "execution_count": 72,
   "metadata": {},
   "outputs": [],
   "source": [
    "prod_data.to_csv('output/prod_data_tagged.csv', index=False)"
   ]
  },
  {
   "cell_type": "code",
   "execution_count": 70,
   "metadata": {},
   "outputs": [
    {
     "data": {
      "text/html": [
       "<div>\n",
       "<style scoped>\n",
       "    .dataframe tbody tr th:only-of-type {\n",
       "        vertical-align: middle;\n",
       "    }\n",
       "\n",
       "    .dataframe tbody tr th {\n",
       "        vertical-align: top;\n",
       "    }\n",
       "\n",
       "    .dataframe thead th {\n",
       "        text-align: right;\n",
       "    }\n",
       "</style>\n",
       "<table border=\"1\" class=\"dataframe\">\n",
       "  <thead>\n",
       "    <tr style=\"text-align: right;\">\n",
       "      <th></th>\n",
       "      <th>storefront_uuid</th>\n",
       "      <th>merchant_category_by_gss</th>\n",
       "      <th>merchant_type_analytics</th>\n",
       "      <th>text</th>\n",
       "      <th>processed_text</th>\n",
       "      <th>y_hat</th>\n",
       "      <th>confidence_score</th>\n",
       "      <th>diff_merchant_category_by_gss</th>\n",
       "      <th>diff_merchant_type_analytics</th>\n",
       "    </tr>\n",
       "  </thead>\n",
       "  <tbody>\n",
       "    <tr>\n",
       "      <th>0</th>\n",
       "      <td>000030df-b29b-444c-b77a-5f48107a6cf5</td>\n",
       "      <td>restaurant</td>\n",
       "      <td>restaurant</td>\n",
       "      <td>Menu fish fillet Menus Mozzarella sticks Tex-M...</td>\n",
       "      <td>menu fish fillet menu mozzarella stick texmex ...</td>\n",
       "      <td>restaurant</td>\n",
       "      <td>0.94</td>\n",
       "      <td></td>\n",
       "      <td></td>\n",
       "    </tr>\n",
       "    <tr>\n",
       "      <th>1</th>\n",
       "      <td>00003271-e3c2-4467-94ab-4f3019845cf4</td>\n",
       "      <td>restaurant</td>\n",
       "      <td>restaurant</td>\n",
       "      <td>Oasis pomme cassis framboise Boissons Pizza vé...</td>\n",
       "      <td>oasis pomme cassis framboise boissons pizza v ...</td>\n",
       "      <td>restaurant</td>\n",
       "      <td>0.81</td>\n",
       "      <td></td>\n",
       "      <td></td>\n",
       "    </tr>\n",
       "    <tr>\n",
       "      <th>2</th>\n",
       "      <td>00004348-fb7f-480a-84ca-9a1a7247ee60</td>\n",
       "      <td>restaurant</td>\n",
       "      <td>MERCHANT_TYPE_UNKNOWN</td>\n",
       "      <td>Beef Chop Suey Chop Suey Salmon Nigri Nigiri E...</td>\n",
       "      <td>beef chop suey chop suey salmon nigri nigiri e...</td>\n",
       "      <td>restaurant</td>\n",
       "      <td>0.92</td>\n",
       "      <td></td>\n",
       "      <td>non-restaurant predicted as restaurant</td>\n",
       "    </tr>\n",
       "    <tr>\n",
       "      <th>3</th>\n",
       "      <td>00008ea3-e75b-4219-80e9-498afb0fef3e</td>\n",
       "      <td>restaurant</td>\n",
       "      <td>restaurant</td>\n",
       "      <td>When Larry Met Crabby Combos Crab tool Sides P...</td>\n",
       "      <td>when larry met crabby combo crab tool side pop...</td>\n",
       "      <td>restaurant</td>\n",
       "      <td>0.63</td>\n",
       "      <td></td>\n",
       "      <td></td>\n",
       "    </tr>\n",
       "    <tr>\n",
       "      <th>4</th>\n",
       "      <td>00008eb9-0abe-4277-bb44-8bbc6c6a576f</td>\n",
       "      <td>restaurant</td>\n",
       "      <td>restaurant</td>\n",
       "      <td>Refrigerantes 350ml Bebidas Açaí 400ml com adi...</td>\n",
       "      <td>refrigerantes ml bebidas a a ml com adicionais...</td>\n",
       "      <td>restaurant</td>\n",
       "      <td>0.71</td>\n",
       "      <td></td>\n",
       "      <td></td>\n",
       "    </tr>\n",
       "  </tbody>\n",
       "</table>\n",
       "</div>"
      ],
      "text/plain": [
       "                        storefront_uuid merchant_category_by_gss  \\\n",
       "0  000030df-b29b-444c-b77a-5f48107a6cf5               restaurant   \n",
       "1  00003271-e3c2-4467-94ab-4f3019845cf4               restaurant   \n",
       "2  00004348-fb7f-480a-84ca-9a1a7247ee60               restaurant   \n",
       "3  00008ea3-e75b-4219-80e9-498afb0fef3e               restaurant   \n",
       "4  00008eb9-0abe-4277-bb44-8bbc6c6a576f               restaurant   \n",
       "\n",
       "  merchant_type_analytics                                               text  \\\n",
       "0              restaurant  Menu fish fillet Menus Mozzarella sticks Tex-M...   \n",
       "1              restaurant  Oasis pomme cassis framboise Boissons Pizza vé...   \n",
       "2   MERCHANT_TYPE_UNKNOWN  Beef Chop Suey Chop Suey Salmon Nigri Nigiri E...   \n",
       "3              restaurant  When Larry Met Crabby Combos Crab tool Sides P...   \n",
       "4              restaurant  Refrigerantes 350ml Bebidas Açaí 400ml com adi...   \n",
       "\n",
       "                                      processed_text       y_hat  \\\n",
       "0  menu fish fillet menu mozzarella stick texmex ...  restaurant   \n",
       "1  oasis pomme cassis framboise boissons pizza v ...  restaurant   \n",
       "2  beef chop suey chop suey salmon nigri nigiri e...  restaurant   \n",
       "3  when larry met crabby combo crab tool side pop...  restaurant   \n",
       "4  refrigerantes ml bebidas a a ml com adicionais...  restaurant   \n",
       "\n",
       "   confidence_score diff_merchant_category_by_gss  \\\n",
       "0              0.94                                 \n",
       "1              0.81                                 \n",
       "2              0.92                                 \n",
       "3              0.63                                 \n",
       "4              0.71                                 \n",
       "\n",
       "             diff_merchant_type_analytics  \n",
       "0                                          \n",
       "1                                          \n",
       "2  non-restaurant predicted as restaurant  \n",
       "3                                          \n",
       "4                                          "
      ]
     },
     "execution_count": 70,
     "metadata": {},
     "output_type": "execute_result"
    }
   ],
   "source": [
    "prod_data.head()"
   ]
  },
  {
   "cell_type": "code",
   "execution_count": 73,
   "metadata": {},
   "outputs": [],
   "source": [
    "samples = prod_data[(prod_data['merchant_category_by_gss']!='restaurant') & (prod_data['y_hat']=='restaurant')]"
   ]
  },
  {
   "cell_type": "code",
   "execution_count": 74,
   "metadata": {},
   "outputs": [
    {
     "data": {
      "text/plain": [
       "gse             393\n",
       "alcohol          20\n",
       "retail            5\n",
       "pet supplies      3\n",
       "flower            3\n",
       "Name: merchant_category_by_gss, dtype: int64"
      ]
     },
     "execution_count": 74,
     "metadata": {},
     "output_type": "execute_result"
    }
   ],
   "source": [
    "samples['merchant_category_by_gss'].value_counts()"
   ]
  },
  {
   "cell_type": "code",
   "execution_count": 98,
   "metadata": {},
   "outputs": [
    {
     "data": {
      "text/plain": [
       "['model_folder/merchants_model_undersampling_04142022.joblib']"
      ]
     },
     "execution_count": 98,
     "metadata": {},
     "output_type": "execute_result"
    }
   ],
   "source": [
    "joblib.dump(randomforest_mer, \"model_folder/merchants_model_undersampling_04142022.joblib\")"
   ]
  },
  {
   "cell_type": "markdown",
   "metadata": {},
   "source": [
    "## Restraurants vs New Vertical"
   ]
  },
  {
   "cell_type": "code",
   "execution_count": 77,
   "metadata": {},
   "outputs": [],
   "source": [
    "dfy = pd.read_csv('output/prod_data_tagged.csv')"
   ]
  },
  {
   "cell_type": "code",
   "execution_count": 78,
   "metadata": {},
   "outputs": [
    {
     "data": {
      "text/html": [
       "<div>\n",
       "<style scoped>\n",
       "    .dataframe tbody tr th:only-of-type {\n",
       "        vertical-align: middle;\n",
       "    }\n",
       "\n",
       "    .dataframe tbody tr th {\n",
       "        vertical-align: top;\n",
       "    }\n",
       "\n",
       "    .dataframe thead th {\n",
       "        text-align: right;\n",
       "    }\n",
       "</style>\n",
       "<table border=\"1\" class=\"dataframe\">\n",
       "  <thead>\n",
       "    <tr style=\"text-align: right;\">\n",
       "      <th></th>\n",
       "      <th>storefront_uuid</th>\n",
       "      <th>merchant_category_by_gss</th>\n",
       "      <th>merchant_type_analytics</th>\n",
       "      <th>y_hat</th>\n",
       "      <th>confidence_score</th>\n",
       "      <th>diff_merchant_category_by_gss</th>\n",
       "      <th>diff_merchant_type_analytics</th>\n",
       "    </tr>\n",
       "  </thead>\n",
       "  <tbody>\n",
       "    <tr>\n",
       "      <th>0</th>\n",
       "      <td>000030df-b29b-444c-b77a-5f48107a6cf5</td>\n",
       "      <td>restaurant</td>\n",
       "      <td>restaurant</td>\n",
       "      <td>restaurant</td>\n",
       "      <td>0.94</td>\n",
       "      <td>NaN</td>\n",
       "      <td>NaN</td>\n",
       "    </tr>\n",
       "    <tr>\n",
       "      <th>1</th>\n",
       "      <td>00003271-e3c2-4467-94ab-4f3019845cf4</td>\n",
       "      <td>restaurant</td>\n",
       "      <td>restaurant</td>\n",
       "      <td>restaurant</td>\n",
       "      <td>0.81</td>\n",
       "      <td>NaN</td>\n",
       "      <td>NaN</td>\n",
       "    </tr>\n",
       "    <tr>\n",
       "      <th>2</th>\n",
       "      <td>00004348-fb7f-480a-84ca-9a1a7247ee60</td>\n",
       "      <td>restaurant</td>\n",
       "      <td>MERCHANT_TYPE_UNKNOWN</td>\n",
       "      <td>restaurant</td>\n",
       "      <td>0.92</td>\n",
       "      <td>NaN</td>\n",
       "      <td>non-restaurant predicted as restaurant</td>\n",
       "    </tr>\n",
       "    <tr>\n",
       "      <th>3</th>\n",
       "      <td>00008ea3-e75b-4219-80e9-498afb0fef3e</td>\n",
       "      <td>restaurant</td>\n",
       "      <td>restaurant</td>\n",
       "      <td>restaurant</td>\n",
       "      <td>0.63</td>\n",
       "      <td>NaN</td>\n",
       "      <td>NaN</td>\n",
       "    </tr>\n",
       "    <tr>\n",
       "      <th>4</th>\n",
       "      <td>00008eb9-0abe-4277-bb44-8bbc6c6a576f</td>\n",
       "      <td>restaurant</td>\n",
       "      <td>restaurant</td>\n",
       "      <td>restaurant</td>\n",
       "      <td>0.71</td>\n",
       "      <td>NaN</td>\n",
       "      <td>NaN</td>\n",
       "    </tr>\n",
       "  </tbody>\n",
       "</table>\n",
       "</div>"
      ],
      "text/plain": [
       "                        storefront_uuid merchant_category_by_gss  \\\n",
       "0  000030df-b29b-444c-b77a-5f48107a6cf5               restaurant   \n",
       "1  00003271-e3c2-4467-94ab-4f3019845cf4               restaurant   \n",
       "2  00004348-fb7f-480a-84ca-9a1a7247ee60               restaurant   \n",
       "3  00008ea3-e75b-4219-80e9-498afb0fef3e               restaurant   \n",
       "4  00008eb9-0abe-4277-bb44-8bbc6c6a576f               restaurant   \n",
       "\n",
       "  merchant_type_analytics       y_hat  confidence_score  \\\n",
       "0              restaurant  restaurant              0.94   \n",
       "1              restaurant  restaurant              0.81   \n",
       "2   MERCHANT_TYPE_UNKNOWN  restaurant              0.92   \n",
       "3              restaurant  restaurant              0.63   \n",
       "4              restaurant  restaurant              0.71   \n",
       "\n",
       "  diff_merchant_category_by_gss            diff_merchant_type_analytics  \n",
       "0                           NaN                                     NaN  \n",
       "1                           NaN                                     NaN  \n",
       "2                           NaN  non-restaurant predicted as restaurant  \n",
       "3                           NaN                                     NaN  \n",
       "4                           NaN                                     NaN  "
      ]
     },
     "execution_count": 78,
     "metadata": {},
     "output_type": "execute_result"
    }
   ],
   "source": [
    "dfy.head()"
   ]
  },
  {
   "cell_type": "code",
   "execution_count": 79,
   "metadata": {},
   "outputs": [],
   "source": [
    "dfy['merchant_category_new'] = np.where(dfy['merchant_category_by_gss']=='restaurant', 'restaurant', 'new_vertical')\n",
    "\n",
    "dfy['y_hat_new'] = np.where(dfy['y_hat']=='restaurant', 'restaurant', 'new_vertical')"
   ]
  },
  {
   "cell_type": "code",
   "execution_count": 94,
   "metadata": {},
   "outputs": [
    {
     "name": "stdout",
     "output_type": "stream",
     "text": [
      "[[  9588    424]\n",
      " [ 30021 356109]]\n"
     ]
    }
   ],
   "source": [
    "cm = confusion_matrix(dfy['merchant_category_new'] , dfy['y_hat_new'])\n",
    "print(cm)"
   ]
  },
  {
   "cell_type": "code",
   "execution_count": 97,
   "metadata": {},
   "outputs": [
    {
     "data": {
      "image/png": "[encoded data removed]",
      "text/plain": [
       "<Figure size 432x288 with 2 Axes>"
      ]
     },
     "metadata": {
      "needs_background": "light"
     },
     "output_type": "display_data"
    }
   ],
   "source": [
    "import seaborn as sns\n",
    "import matplotlib.pyplot as plt     \n",
    "\n",
    "ax= plt.subplot()\n",
    "sns.heatmap(cm, annot=True, fmt='g', ax=ax);  #annot=True to annotate cells, ftm='g' to disable scientific notation\n",
    "\n",
    "# labels, title and ticks\n",
    "ax.set_xlabel('Predicted labels')\n",
    "ax.set_ylabel('True labels')\n",
    "ax.set_title('Confusion Matrix') \n",
    "ax.xaxis.set_ticklabels(['new_vertical', 'restaurant'])\n",
    "ax.yaxis.set_ticklabels(['new_vertical', 'restaurant'])\n",
    "plt.show()"
   ]
  },
  {
   "cell_type": "code",
   "execution_count": 3,
   "metadata": {},
   "outputs": [
    {
     "data": {
      "text/plain": [
       "['model_folder/merchants.pkl']"
      ]
     },
     "execution_count": 3,
     "metadata": {},
     "output_type": "execute_result"
    }
   ],
   "source": [
    "import joblib\n",
    "randomforest_mer = joblib.load('model_folder/merchants_model_undersampling_04142022.joblib')\n",
    "\n",
    "joblib.dump(randomforest_mer, 'model_folder/merchants.pkl')"
   ]
  },
  {
   "cell_type": "code",
   "execution_count": null,
   "metadata": {},
   "outputs": [],
   "source": []
  }
 ],
 "metadata": {
  "kernelspec": {
   "display_name": "Python 3",
   "language": "python",
   "name": "python3"
  },
  "language_info": {
   "codemirror_mode": {
    "name": "ipython",
    "version": 3
   },
   "file_extension": ".py",
   "mimetype": "text/x-python",
   "name": "python",
   "nbconvert_exporter": "python",
   "pygments_lexer": "ipython3",
   "version": "3.8.8"
  }
 },
 "nbformat": 4,
 "nbformat_minor": 2
}
