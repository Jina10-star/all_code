{
 "cells": [
  {
   "cell_type": "markdown",
   "metadata": {},
   "source": [
    "# Install and Import packages"
   ]
  },
  {
   "cell_type": "code",
   "execution_count": 2,
   "metadata": {},
   "outputs": [],
   "source": [
    "#!install_package_python37.sh add xlrd\n",
    "#!install_package_python37.sh add nltk==3.7\n",
    "#!install_package_python37.sh add python-dotenv\n",
    "#!install_package_python37.sh add scikit-learn==0.21.1\n",
    "#!install_package_python37.sh add pyjwt\n",
    "#!install_package_python37.sh add boxsdk\n",
    "#!install_package_python37.sh add openpyxl\n",
    "#!install_package_python37.sh add sendgrid\n",
    "\n",
    "#!install_package_python37.sh add gspread\n",
    "#!install_package_python37.sh add oauth2client"
   ]
  },
  {
   "cell_type": "code",
   "execution_count": 2,
   "metadata": {},
   "outputs": [],
   "source": [
    "# import necessary packages\n",
    "import joblib\n",
    "import os\n",
    "import re\n",
    "import string\n",
    "from datetime import datetime, timezone,timedelta\n",
    "import logging\n",
    "from logging.handlers import TimedRotatingFileHandler\n",
    "#from boxsdk import Client, JWTAuth\n",
    "#import chardet\n",
    "#from dotenv import load_dotenv\n",
    "import io\n",
    "import numpy as np\n",
    "import pandas as pd\n",
    "import json\n",
    "import warnings\n",
    "warnings.filterwarnings('ignore')\n",
    "import nltk\n",
    "import time\n",
    "#nltk.download('popular')\n",
    "#load_dotenv(\".env\")\n",
    "#sg = sendgrid.SendGridAPIClient(os.environ.get('api_key'))\n"
   ]
  },
  {
   "cell_type": "code",
   "execution_count": null,
   "metadata": {},
   "outputs": [],
   "source": []
  },
  {
   "cell_type": "code",
   "execution_count": 4,
   "metadata": {},
   "outputs": [],
   "source": [
    "# Set up logger\n",
    "\n",
    "LOGFILE = \"logs/job3.log\"\n",
    "\n",
    "logger = logging.getLogger(\"dailylogs\")\n",
    "\n",
    "# set logging level : INFO, DEBUG, WARNING or ERROR\n",
    "logger.setLevel(logging.DEBUG)\n",
    "\n",
    "\n",
    "# Create TimedRotatingFileHandler with log file name\n",
    "# It will create a new log file each day at midnight\n",
    "handler = TimedRotatingFileHandler(LOGFILE, when=\"midnight\", interval=1)\n",
    "\n",
    "# This is the format in which logs will be displayed in log file\n",
    "formatter = logging.Formatter('%(asctime)s - %(levelname)s - %(message)s')\n",
    "\n",
    "# assign the formatter and suffix to file_handler object\n",
    "# suffix will be added to each file\n",
    "handler.setFormatter(formatter)\n",
    "handler.suffix = \"%Y%m%d\"\n",
    "\n",
    "\n",
    "# add the handler to logger\n",
    "logger.addHandler(handler)"
   ]
  },
  {
   "cell_type": "code",
   "execution_count": 5,
   "metadata": {},
   "outputs": [],
   "source": [
    "start_time = time.time()\n",
    "logger.debug('New Job has started ....')"
   ]
  },
  {
   "cell_type": "markdown",
   "metadata": {},
   "source": [
    "# Automated email notification"
   ]
  },
  {
   "cell_type": "markdown",
   "metadata": {},
   "source": [
    "# cicd data import from box"
   ]
  },
  {
   "cell_type": "code",
   "execution_count": 8,
   "metadata": {},
   "outputs": [],
   "source": [
    "data_cicd=pd.read_csv('/Users/jghosh2/Documents/my-notebook/Tax_ml_poc/data/retrain_data/TaxML-CICD - Prod_Data_latest.csv',index_col=0)\n",
    "#data_cicd=data_cicd.append(data_cicd_latest)\n",
    "#logger.debug('Incremental CICD data has been added with shape {}'.format(data_cicd.shape))\n",
    "#data_cicd=data_cicd.drop_duplicates()\n",
    "#data_cicd.to_csv('./data/data_cicd_latest.csv',index=False)"
   ]
  },
  {
   "cell_type": "code",
   "execution_count": 9,
   "metadata": {},
   "outputs": [
    {
     "data": {
      "text/plain": [
       "(583371, 15)"
      ]
     },
     "execution_count": 9,
     "metadata": {},
     "output_type": "execute_result"
    }
   ],
   "source": [
    "data_cicd.shape"
   ]
  },
  {
   "cell_type": "code",
   "execution_count": 10,
   "metadata": {},
   "outputs": [
    {
     "data": {
      "text/html": [
       "<div>\n",
       "<style scoped>\n",
       "    .dataframe tbody tr th:only-of-type {\n",
       "        vertical-align: middle;\n",
       "    }\n",
       "\n",
       "    .dataframe tbody tr th {\n",
       "        vertical-align: top;\n",
       "    }\n",
       "\n",
       "    .dataframe thead th {\n",
       "        text-align: right;\n",
       "    }\n",
       "</style>\n",
       "<table border=\"1\" class=\"dataframe\">\n",
       "  <thead>\n",
       "    <tr style=\"text-align: right;\">\n",
       "      <th></th>\n",
       "      <th>CICD Run Date</th>\n",
       "      <th>Date (BOT Sent Details to COE Team)</th>\n",
       "      <th>UniqueUUID</th>\n",
       "      <th>store_uuid</th>\n",
       "      <th>item_uuid</th>\n",
       "      <th>Item</th>\n",
       "      <th>Description</th>\n",
       "      <th>establishment_type</th>\n",
       "      <th>CAT Name</th>\n",
       "      <th>Integer</th>\n",
       "      <th>Confidence Score</th>\n",
       "      <th>Agent Corrected CAT Name</th>\n",
       "      <th>Agent Corrected Integer</th>\n",
       "      <th>CAT NAME_ ValidationScore [0-100]</th>\n",
       "      <th>Integer_ValidationScore[0-100]</th>\n",
       "    </tr>\n",
       "  </thead>\n",
       "  <tbody>\n",
       "    <tr>\n",
       "      <th>11635</th>\n",
       "      <td>12/08/22 03:53</td>\n",
       "      <td>11/08/22 05:05</td>\n",
       "      <td>99c518e1-b510-5d2a-9ced-9bc7be9ab994:d7c97826-...</td>\n",
       "      <td>99c518e1-b510-5d2a-9ced-9bc7be9ab994</td>\n",
       "      <td>d7c97826-4684-4d85-beb0-18bcd9502c74</td>\n",
       "      <td>Gypsophila Peace Box</td>\n",
       "      <td>NaN</td>\n",
       "      <td>FLOWERS</td>\n",
       "      <td>CAT_TPP</td>\n",
       "      <td>531</td>\n",
       "      <td>0.27</td>\n",
       "      <td>CAT_TPP</td>\n",
       "      <td>531</td>\n",
       "      <td>100</td>\n",
       "      <td>100</td>\n",
       "    </tr>\n",
       "    <tr>\n",
       "      <th>11636</th>\n",
       "      <td>12/08/22 03:53</td>\n",
       "      <td>11/08/22 05:05</td>\n",
       "      <td>99c518e1-b510-5d2a-9ced-9bc7be9ab994:91c1d494-...</td>\n",
       "      <td>99c518e1-b510-5d2a-9ced-9bc7be9ab994</td>\n",
       "      <td>91c1d494-7690-4ccd-8dd7-334e499ff171</td>\n",
       "      <td>Chocolate Mousse</td>\n",
       "      <td>NaN</td>\n",
       "      <td>FLOWERS</td>\n",
       "      <td>CAT_PREPACKAGED_FOOD_CAKES</td>\n",
       "      <td>718</td>\n",
       "      <td>0.31</td>\n",
       "      <td>CAT_PREPACKAGED_FOOD_CAKES</td>\n",
       "      <td>718</td>\n",
       "      <td>100</td>\n",
       "      <td>100</td>\n",
       "    </tr>\n",
       "    <tr>\n",
       "      <th>11637</th>\n",
       "      <td>12/08/22 03:53</td>\n",
       "      <td>11/08/22 05:05</td>\n",
       "      <td>99c518e1-b510-5d2a-9ced-9bc7be9ab994:719b1381-...</td>\n",
       "      <td>99c518e1-b510-5d2a-9ced-9bc7be9ab994</td>\n",
       "      <td>719b1381-6b83-477a-bca4-0a3af84aaf8a</td>\n",
       "      <td>Chocolate Dream Box</td>\n",
       "      <td>NaN</td>\n",
       "      <td>FLOWERS</td>\n",
       "      <td>CAT_CONFECTIONARY</td>\n",
       "      <td>707</td>\n",
       "      <td>0.24</td>\n",
       "      <td>CAT_CONFECTIONARY</td>\n",
       "      <td>707</td>\n",
       "      <td>100</td>\n",
       "      <td>100</td>\n",
       "    </tr>\n",
       "    <tr>\n",
       "      <th>11638</th>\n",
       "      <td>12/08/22 03:53</td>\n",
       "      <td>11/08/22 05:05</td>\n",
       "      <td>99c518e1-b510-5d2a-9ced-9bc7be9ab994:22ef052d-...</td>\n",
       "      <td>99c518e1-b510-5d2a-9ced-9bc7be9ab994</td>\n",
       "      <td>22ef052d-6efd-47aa-b380-3e2af13fb9cd</td>\n",
       "      <td>Sweet Candy Basket</td>\n",
       "      <td>NaN</td>\n",
       "      <td>FLOWERS</td>\n",
       "      <td>CAT_CONFECTIONARY</td>\n",
       "      <td>707</td>\n",
       "      <td>0.56</td>\n",
       "      <td>CAT_CONFECTIONARY</td>\n",
       "      <td>707</td>\n",
       "      <td>100</td>\n",
       "      <td>100</td>\n",
       "    </tr>\n",
       "    <tr>\n",
       "      <th>11639</th>\n",
       "      <td>12/08/22 03:53</td>\n",
       "      <td>11/08/22 05:05</td>\n",
       "      <td>99c518e1-b510-5d2a-9ced-9bc7be9ab994:776f8287-...</td>\n",
       "      <td>99c518e1-b510-5d2a-9ced-9bc7be9ab994</td>\n",
       "      <td>776f8287-d635-4452-b6dd-4908e620a4f6</td>\n",
       "      <td>Hot Pink Gypsophila</td>\n",
       "      <td>NaN</td>\n",
       "      <td>FLOWERS</td>\n",
       "      <td>CAT_TPP</td>\n",
       "      <td>531</td>\n",
       "      <td>0.29</td>\n",
       "      <td>CAT_TPP</td>\n",
       "      <td>531</td>\n",
       "      <td>100</td>\n",
       "      <td>100</td>\n",
       "    </tr>\n",
       "  </tbody>\n",
       "</table>\n",
       "</div>"
      ],
      "text/plain": [
       "        CICD Run Date Date (BOT Sent Details to COE Team)  \\\n",
       "11635  12/08/22 03:53                      11/08/22 05:05   \n",
       "11636  12/08/22 03:53                      11/08/22 05:05   \n",
       "11637  12/08/22 03:53                      11/08/22 05:05   \n",
       "11638  12/08/22 03:53                      11/08/22 05:05   \n",
       "11639  12/08/22 03:53                      11/08/22 05:05   \n",
       "\n",
       "                                              UniqueUUID  \\\n",
       "11635  99c518e1-b510-5d2a-9ced-9bc7be9ab994:d7c97826-...   \n",
       "11636  99c518e1-b510-5d2a-9ced-9bc7be9ab994:91c1d494-...   \n",
       "11637  99c518e1-b510-5d2a-9ced-9bc7be9ab994:719b1381-...   \n",
       "11638  99c518e1-b510-5d2a-9ced-9bc7be9ab994:22ef052d-...   \n",
       "11639  99c518e1-b510-5d2a-9ced-9bc7be9ab994:776f8287-...   \n",
       "\n",
       "                                 store_uuid  \\\n",
       "11635  99c518e1-b510-5d2a-9ced-9bc7be9ab994   \n",
       "11636  99c518e1-b510-5d2a-9ced-9bc7be9ab994   \n",
       "11637  99c518e1-b510-5d2a-9ced-9bc7be9ab994   \n",
       "11638  99c518e1-b510-5d2a-9ced-9bc7be9ab994   \n",
       "11639  99c518e1-b510-5d2a-9ced-9bc7be9ab994   \n",
       "\n",
       "                                  item_uuid                  Item Description  \\\n",
       "11635  d7c97826-4684-4d85-beb0-18bcd9502c74  Gypsophila Peace Box         NaN   \n",
       "11636  91c1d494-7690-4ccd-8dd7-334e499ff171      Chocolate Mousse         NaN   \n",
       "11637  719b1381-6b83-477a-bca4-0a3af84aaf8a   Chocolate Dream Box         NaN   \n",
       "11638  22ef052d-6efd-47aa-b380-3e2af13fb9cd    Sweet Candy Basket         NaN   \n",
       "11639  776f8287-d635-4452-b6dd-4908e620a4f6   Hot Pink Gypsophila         NaN   \n",
       "\n",
       "      establishment_type                    CAT Name Integer Confidence Score  \\\n",
       "11635            FLOWERS                     CAT_TPP     531             0.27   \n",
       "11636            FLOWERS  CAT_PREPACKAGED_FOOD_CAKES     718             0.31   \n",
       "11637            FLOWERS           CAT_CONFECTIONARY     707             0.24   \n",
       "11638            FLOWERS           CAT_CONFECTIONARY     707             0.56   \n",
       "11639            FLOWERS                     CAT_TPP     531             0.29   \n",
       "\n",
       "         Agent Corrected CAT Name Agent Corrected Integer  \\\n",
       "11635                     CAT_TPP                     531   \n",
       "11636  CAT_PREPACKAGED_FOOD_CAKES                     718   \n",
       "11637           CAT_CONFECTIONARY                     707   \n",
       "11638           CAT_CONFECTIONARY                     707   \n",
       "11639                     CAT_TPP                     531   \n",
       "\n",
       "       CAT NAME_ ValidationScore [0-100]  Integer_ValidationScore[0-100]  \n",
       "11635                                100                             100  \n",
       "11636                                100                             100  \n",
       "11637                                100                             100  \n",
       "11638                                100                             100  \n",
       "11639                                100                             100  "
      ]
     },
     "execution_count": 10,
     "metadata": {},
     "output_type": "execute_result"
    }
   ],
   "source": [
    "data_cicd.head()"
   ]
  },
  {
   "cell_type": "code",
   "execution_count": 16,
   "metadata": {},
   "outputs": [
    {
     "ename": "APIError",
     "evalue": "{'errors': [{'domain': 'global', 'reason': 'badRequest', 'message': 'Bad Request'}], 'code': 400, 'message': 'Bad Request'}",
     "output_type": "error",
     "traceback": [
      "\u001b[0;31m---------------------------------------------------------------------------\u001b[0m",
      "\u001b[0;31mAPIError\u001b[0m                                  Traceback (most recent call last)",
      "\u001b[0;32m/var/folders/dk/dcz1bsq51ydb6f7j_7n8pxpr0000gn/T/ipykernel_50782/3324398793.py\u001b[0m in \u001b[0;36m<module>\u001b[0;34m\u001b[0m\n\u001b[1;32m     12\u001b[0m \u001b[0;32mwith\u001b[0m \u001b[0mopen\u001b[0m\u001b[0;34m(\u001b[0m\u001b[0;34m'/Users/jghosh2/Documents/my-notebook/Tax_ml_poc/data/retrain_data/TaxML-CICD - Prod_Data_latest.csv'\u001b[0m\u001b[0;34m,\u001b[0m \u001b[0;34m'r'\u001b[0m\u001b[0;34m)\u001b[0m \u001b[0;32mas\u001b[0m \u001b[0mfile_obj\u001b[0m\u001b[0;34m:\u001b[0m\u001b[0;34m\u001b[0m\u001b[0;34m\u001b[0m\u001b[0m\n\u001b[1;32m     13\u001b[0m     \u001b[0mcontent\u001b[0m \u001b[0;34m=\u001b[0m \u001b[0mfile_obj\u001b[0m\u001b[0;34m.\u001b[0m\u001b[0mread\u001b[0m\u001b[0;34m(\u001b[0m\u001b[0;34m)\u001b[0m\u001b[0;34m\u001b[0m\u001b[0;34m\u001b[0m\u001b[0m\n\u001b[0;32m---> 14\u001b[0;31m     \u001b[0mclient\u001b[0m\u001b[0;34m.\u001b[0m\u001b[0mimport_csv\u001b[0m\u001b[0;34m(\u001b[0m\u001b[0mspreadsheet\u001b[0m\u001b[0;34m.\u001b[0m\u001b[0mid\u001b[0m\u001b[0;34m,\u001b[0m \u001b[0mdata\u001b[0m\u001b[0;34m=\u001b[0m\u001b[0mcontent\u001b[0m\u001b[0;34m)\u001b[0m\u001b[0;34m\u001b[0m\u001b[0;34m\u001b[0m\u001b[0m\n\u001b[0m",
      "\u001b[0;32m~/opt/anaconda3/envs/py365/lib/python3.7/site-packages/gspread/client.py\u001b[0m in \u001b[0;36mimport_csv\u001b[0;34m(self, file_id, data)\u001b[0m\n\u001b[1;32m    412\u001b[0m                 \u001b[0;34m\"supportsAllDrives\"\u001b[0m\u001b[0;34m:\u001b[0m \u001b[0;32mTrue\u001b[0m\u001b[0;34m,\u001b[0m\u001b[0;34m\u001b[0m\u001b[0;34m\u001b[0m\u001b[0m\n\u001b[1;32m    413\u001b[0m             },\n\u001b[0;32m--> 414\u001b[0;31m             \u001b[0mheaders\u001b[0m\u001b[0;34m=\u001b[0m\u001b[0mheaders\u001b[0m\u001b[0;34m,\u001b[0m\u001b[0;34m\u001b[0m\u001b[0;34m\u001b[0m\u001b[0m\n\u001b[0m\u001b[1;32m    415\u001b[0m         )\n\u001b[1;32m    416\u001b[0m \u001b[0;34m\u001b[0m\u001b[0m\n",
      "\u001b[0;32m~/opt/anaconda3/envs/py365/lib/python3.7/site-packages/gspread/client.py\u001b[0m in \u001b[0;36mrequest\u001b[0;34m(self, method, endpoint, params, data, json, files, headers)\u001b[0m\n\u001b[1;32m     90\u001b[0m             \u001b[0;32mreturn\u001b[0m \u001b[0mresponse\u001b[0m\u001b[0;34m\u001b[0m\u001b[0;34m\u001b[0m\u001b[0m\n\u001b[1;32m     91\u001b[0m         \u001b[0;32melse\u001b[0m\u001b[0;34m:\u001b[0m\u001b[0;34m\u001b[0m\u001b[0;34m\u001b[0m\u001b[0m\n\u001b[0;32m---> 92\u001b[0;31m             \u001b[0;32mraise\u001b[0m \u001b[0mAPIError\u001b[0m\u001b[0;34m(\u001b[0m\u001b[0mresponse\u001b[0m\u001b[0;34m)\u001b[0m\u001b[0;34m\u001b[0m\u001b[0;34m\u001b[0m\u001b[0m\n\u001b[0m\u001b[1;32m     93\u001b[0m \u001b[0;34m\u001b[0m\u001b[0m\n\u001b[1;32m     94\u001b[0m     \u001b[0;32mdef\u001b[0m \u001b[0mlist_spreadsheet_files\u001b[0m\u001b[0;34m(\u001b[0m\u001b[0mself\u001b[0m\u001b[0;34m,\u001b[0m \u001b[0mtitle\u001b[0m\u001b[0;34m=\u001b[0m\u001b[0;32mNone\u001b[0m\u001b[0;34m,\u001b[0m \u001b[0mfolder_id\u001b[0m\u001b[0;34m=\u001b[0m\u001b[0;32mNone\u001b[0m\u001b[0;34m)\u001b[0m\u001b[0;34m:\u001b[0m\u001b[0;34m\u001b[0m\u001b[0;34m\u001b[0m\u001b[0m\n",
      "\u001b[0;31mAPIError\u001b[0m: {'errors': [{'domain': 'global', 'reason': 'badRequest', 'message': 'Bad Request'}], 'code': 400, 'message': 'Bad Request'}"
     ]
    }
   ],
   "source": [
    "import gspread\n",
    "from oauth2client.service_account import ServiceAccountCredentials\n",
    "\n",
    "scope = [\"https://spreadsheets.google.com/feeds\", 'https://www.googleapis.com/auth/spreadsheets',\n",
    "         \"https://www.googleapis.com/auth/drive.file\", \"https://www.googleapis.com/auth/drive\"]\n",
    "\n",
    "credentials = ServiceAccountCredentials.from_json_keyfile_name('./iacoe_sa.json', scope)\n",
    "client = gspread.authorize(credentials)\n",
    "\n",
    "spreadsheet = client.open('taxml-cicd-new')\n",
    "\n",
    "with open('/Users/jghosh2/Documents/my-notebook/Tax_ml_poc/data/retrain_data/TaxML-CICD - Prod_Data_latest.csv', 'r') as file_obj:\n",
    "    content = file_obj.read()\n",
    "    client.import_csv(spreadsheet.id, data=content)"
   ]
  },
  {
   "cell_type": "code",
   "execution_count": 19,
   "metadata": {},
   "outputs": [],
   "source": [
    "spreadsheet = client.open('taxml-cicd-new')\n",
    "with open('/Users/jghosh2/Documents/my-notebook/Tax_ml_poc/data/retrain_data/mapping_latest.csv', 'r') as file_obj:\n",
    "    content = file_obj.read()\n",
    "    client.import_csv(spreadsheet.id, data=content)"
   ]
  },
  {
   "cell_type": "code",
   "execution_count": 22,
   "metadata": {},
   "outputs": [
    {
     "data": {
      "text/plain": [
       "'1S6sZ0aOvyFUnoT6czyMO8E2MaI_3y0mn1ejfXCM-9yE'"
      ]
     },
     "execution_count": 22,
     "metadata": {},
     "output_type": "execute_result"
    }
   ],
   "source": [
    "spreadsheet.id"
   ]
  },
  {
   "cell_type": "code",
   "execution_count": 23,
   "metadata": {},
   "outputs": [
    {
     "data": {
      "text/plain": [
       "<_io.TextIOWrapper name='/Users/jghosh2/Documents/my-notebook/Tax_ml_poc/data/retrain_data/mapping_latest.csv' mode='r' encoding='UTF-8'>"
      ]
     },
     "execution_count": 23,
     "metadata": {},
     "output_type": "execute_result"
    }
   ],
   "source": [
    "file_obj"
   ]
  },
  {
   "cell_type": "code",
   "execution_count": null,
   "metadata": {},
   "outputs": [],
   "source": []
  }
 ],
 "metadata": {
  "kernelspec": {
   "display_name": "Python 3 (ipykernel)",
   "language": "python",
   "name": "python3"
  },
  "language_info": {
   "codemirror_mode": {
    "name": "ipython",
    "version": 3
   },
   "file_extension": ".py",
   "mimetype": "text/x-python",
   "name": "python",
   "nbconvert_exporter": "python",
   "pygments_lexer": "ipython3",
   "version": "3.7.8"
  }
 },
 "nbformat": 4,
 "nbformat_minor": 2
}
