{
 "cells": [
  {
   "cell_type": "markdown",
   "metadata": {},
   "source": [
    "### data set\n",
    "training: 1-5,2018\n",
    "testing: 6-7,2018\n",
    "\n",
    "### feature\n",
    "- nlp: tf-rdf, word2vec, distance\n",
    "- image: mutual information \n",
    "- log: cosine of aggregated values\n",
    "- app: cosine of categorical data\n",
    "\n",
    "### similarity model\n",
    "- exact match\n",
    "- same tech issue: logistic regression, metric learning"
   ]
  },
  {
   "cell_type": "code",
   "execution_count": 1,
   "metadata": {
    "collapsed": false
   },
   "outputs": [
    {
     "name": "stderr",
     "output_type": "stream",
     "text": [
      "/home/udocker/phoenix-worker/environments/python2/lib/python2.7/site-packages/ipykernel/__main__.py:6: DeprecationWarning: the sets module is deprecated\n"
     ]
    }
   ],
   "source": [
    "from __future__ import unicode_literals\n",
    "import requests\n",
    "import json\n",
    "import csv\n",
    "import matplotlib.pyplot as plt\n",
    "from sets import Set\n",
    "import numpy as np\n",
    "import cPickle\n",
    "import utils\n",
    "from difflib import SequenceMatcher\n",
    "import pandas as pd\n",
    "from sklearn.feature_extraction.text import TfidfVectorizer\n",
    "import re\n",
    "\n",
    "from scipy.spatial.distance import cosine\n",
    "\n",
    "%matplotlib inline\n",
    "import seaborn as sns\n",
    "sns.set_context('poster')\n",
    "sns.set_color_codes()\n",
    "plot_kwds = {'alpha' : 0.75, 's' : 120, 'linewidths':0}\n",
    "\n",
    "%load_ext autoreload\n",
    "%autoreload 2\n",
    "import base64\n",
    "from itertools import izip\n",
    "import os\n",
    "import random\n",
    "\n",
    "import hashlib\n",
    "from sklearn.metrics.pairwise import cosine_similarity\n",
    "import glob\n",
    "from collections import Counter\n",
    "\n",
    "import sys\n",
    "import time\n",
    "from multiprocessing import Pool\n",
    "#stdout = sys.stdout\n",
    "#reload(sys)\n",
    "#sys.setdefaultencoding('utf-8')\n",
    "#sys.stdout = stdout"
   ]
  },
  {
   "cell_type": "code",
   "execution_count": 2,
   "metadata": {
    "collapsed": false
   },
   "outputs": [
    {
     "data": {
      "text/plain": [
       "u'/mnt/cephfs/hadoop-compute/phoenix/ting/wisdom'"
      ]
     },
     "execution_count": 2,
     "metadata": {},
     "output_type": "execute_result"
    }
   ],
   "source": [
    "pwd"
   ]
  },
  {
   "cell_type": "code",
   "execution_count": 3,
   "metadata": {
    "collapsed": false
   },
   "outputs": [
    {
     "name": "stdout",
     "output_type": "stream",
     "text": [
      "mv: cannot stat ‘./df_similarity_scores_*.p’: No such file or directory\r\n"
     ]
    }
   ],
   "source": [
    "!mv ./df_similarity_scores_*.p ./backup/"
   ]
  },
  {
   "cell_type": "markdown",
   "metadata": {},
   "source": [
    "---"
   ]
  },
  {
   "cell_type": "markdown",
   "metadata": {},
   "source": [
    "# experimenting, not used "
   ]
  },
  {
   "cell_type": "markdown",
   "metadata": {},
   "source": [
    "#### problem with md5 hashing: small changes make large difference"
   ]
  },
  {
   "cell_type": "code",
   "execution_count": null,
   "metadata": {
    "collapsed": false
   },
   "outputs": [],
   "source": [
    "hashlib.md5('i like to ride uber').hexdigest()"
   ]
  },
  {
   "cell_type": "code",
   "execution_count": null,
   "metadata": {
    "collapsed": false
   },
   "outputs": [],
   "source": [
    "hashlib.md5('i like to ride uber').hexdigest()"
   ]
  },
  {
   "cell_type": "markdown",
   "metadata": {},
   "source": [
    "#### feature hasher"
   ]
  },
  {
   "cell_type": "code",
   "execution_count": null,
   "metadata": {
    "collapsed": false
   },
   "outputs": [],
   "source": [
    "from sklearn.feature_extraction import FeatureHasher\n",
    "h = FeatureHasher(n_features=10)\n",
    "D = [{'dog': 1, 'cat':2, 'elephant':4},{'dog': 2, 'run': 5}]\n",
    "f = h.transform(D)\n",
    "f.toarray()"
   ]
  },
  {
   "cell_type": "markdown",
   "metadata": {},
   "source": [
    "#### tf-idf"
   ]
  },
  {
   "cell_type": "code",
   "execution_count": null,
   "metadata": {
    "collapsed": false
   },
   "outputs": [],
   "source": [
    "file_list = glob.glob(\"./response/*.txt\")"
   ]
  },
  {
   "cell_type": "code",
   "execution_count": null,
   "metadata": {
    "collapsed": false
   },
   "outputs": [],
   "source": [
    "filtered_response_list = []\n",
    "for f in file_list:\n",
    "    text_file = open(f)\n",
    "    lines = text_file.read()\n",
    "    response_list = lines.decode('utf-8', 'ignore').split('\\r\\n')\n",
    "    for r in response_list:\n",
    "        filtered_response_list.append(pre_processing(r,stop_words))"
   ]
  },
  {
   "cell_type": "code",
   "execution_count": null,
   "metadata": {
    "collapsed": false
   },
   "outputs": [],
   "source": [
    "vectorizer = TfidfVectorizer(\n",
    "    stop_words='english',\n",
    "    sublinear_tf=True,\n",
    "    strip_accents='unicode',\n",
    "    analyzer='word',\n",
    "    token_pattern=r'\\w{2,}',  #vectorize 2-character words or more\n",
    "    ngram_range=(1, 1),\n",
    "    max_features=30000)\n",
    "\n",
    "vectorizer = TfidfVectorizer(min_df=1, analyzer=ngrams)\n",
    "vectorizer.fit(filtered_response_list)\n",
    "tf_idf_matrix = vectorizer.transform(filtered_response_list)"
   ]
  },
  {
   "cell_type": "code",
   "execution_count": null,
   "metadata": {
    "collapsed": false
   },
   "outputs": [],
   "source": [
    "tf_idf_matrix.shape"
   ]
  },
  {
   "cell_type": "code",
   "execution_count": null,
   "metadata": {
    "collapsed": false
   },
   "outputs": [],
   "source": [
    "arr = vectorizer.transform(filtered_response_list[0:5]).toarray()"
   ]
  },
  {
   "cell_type": "code",
   "execution_count": null,
   "metadata": {
    "collapsed": false
   },
   "outputs": [],
   "source": [
    "arr"
   ]
  },
  {
   "cell_type": "code",
   "execution_count": null,
   "metadata": {
    "collapsed": false
   },
   "outputs": [],
   "source": [
    "cosine_similarity(arr[:2])"
   ]
  },
  {
   "cell_type": "markdown",
   "metadata": {},
   "source": [
    "---"
   ]
  },
  {
   "cell_type": "markdown",
   "metadata": {},
   "source": [
    "## data preprocessing"
   ]
  },
  {
   "cell_type": "code",
   "execution_count": 49,
   "metadata": {
    "collapsed": false
   },
   "outputs": [],
   "source": [
    "data_dict = {}\n",
    "filelist = glob.glob(\"./task_content/*\")\n",
    "for f in filelist:\n",
    "    with open(f) as json_file:  \n",
    "        data = json.load(json_file)\n",
    "        if 'hits' in data:\n",
    "            if 'hits' in data['hits']:\n",
    "                for d in data['hits']['hits']:\n",
    "                    if 'phabId' in d['_source']:\n",
    "                        data_dict[d['_source']['phabId'][1:]] = d['_source']"
   ]
  },
  {
   "cell_type": "code",
   "execution_count": 50,
   "metadata": {
    "collapsed": false,
    "scrolled": true
   },
   "outputs": [
    {
     "data": {
      "text/plain": [
       "23144"
      ]
     },
     "execution_count": 50,
     "metadata": {},
     "output_type": "execute_result"
    }
   ],
   "source": [
    "len(data_dict)"
   ]
  },
  {
   "cell_type": "markdown",
   "metadata": {},
   "source": [
    "# nlp basics"
   ]
  },
  {
   "cell_type": "code",
   "execution_count": 61,
   "metadata": {
    "collapsed": false
   },
   "outputs": [
    {
     "name": "stdout",
     "output_type": "stream",
     "text": [
      "[nltk_data] Downloading package perluniprops to\n",
      "[nltk_data]     /home/udocker/nltk_data...\n",
      "[nltk_data]   Package perluniprops is already up-to-date!\n",
      "[nltk_data] Downloading package stopwords to\n",
      "[nltk_data]     /home/udocker/nltk_data...\n",
      "[nltk_data]   Package stopwords is already up-to-date!\n",
      "[nltk_data] Downloading package perluniprops to\n",
      "[nltk_data]     /home/udocker/nltk_data...\n",
      "[nltk_data]   Package perluniprops is already up-to-date!\n",
      "[nltk_data] Downloading package punkt to /home/udocker/nltk_data...\n",
      "[nltk_data]   Package punkt is already up-to-date!\n"
     ]
    }
   ],
   "source": [
    "import nltk\n",
    "import nltk\n",
    "nltk.download('perluniprops')\n",
    "nltk.download('stopwords')\n",
    "nltk.download('perluniprops')\n",
    "nltk.download('punkt')\n",
    "\n",
    "from nltk.corpus import stopwords\n",
    "from nltk.tokenize import word_tokenize\n",
    "from nltk.tokenize import nist\n",
    "from nltk.tokenize.nist import NISTTokenizer\n",
    "sno = nltk.stem.SnowballStemmer('english')\n",
    "stop_words = set(stopwords.words('english'))"
   ]
  },
  {
   "cell_type": "code",
   "execution_count": 27,
   "metadata": {
    "collapsed": false
   },
   "outputs": [],
   "source": [
    "def jaccard_dist(a,b):\n",
    "    return float(len(a&b))/float(len(a|b))"
   ]
  },
  {
   "cell_type": "code",
   "execution_count": 28,
   "metadata": {
    "collapsed": false
   },
   "outputs": [],
   "source": [
    "def ngrams(string, n=3):\n",
    "    string = re.sub(r'[,-./]|\\sBD',r'', string)\n",
    "    ngrams = zip(*[string[i:] for i in range(n)])\n",
    "    return [''.join(ngram) for ngram in ngrams]"
   ]
  },
  {
   "cell_type": "code",
   "execution_count": 29,
   "metadata": {
    "collapsed": true
   },
   "outputs": [],
   "source": [
    "def pre_processing(response,stop_words):\n",
    "    words = response.split()\n",
    "    filtered_words = ''\n",
    "    for w in words:\n",
    "        if w not in stop_words:\n",
    "            w = sno.stem(w)\n",
    "            filtered_words = filtered_words + w + ' '\n",
    "    filtered_response = filtered_words\n",
    "    return filtered_response"
   ]
  },
  {
   "cell_type": "markdown",
   "metadata": {},
   "source": [
    "## string similarity: jaccard distance of 3-gram"
   ]
  },
  {
   "cell_type": "code",
   "execution_count": 8,
   "metadata": {
    "collapsed": false
   },
   "outputs": [],
   "source": [
    "rlist = ['eta is very super bad', 'eta was bad', 'eta is really bad', 'eta is bad','the eta is super bad']\n",
    "filter_rlist = [pre_processing(r, stop_words) for r in rlist]"
   ]
  },
  {
   "cell_type": "code",
   "execution_count": 9,
   "metadata": {
    "collapsed": false
   },
   "outputs": [
    {
     "data": {
      "text/plain": [
       "[u'eta super bad ',\n",
       " u'eta bad ',\n",
       " u'eta realli bad ',\n",
       " u'eta bad ',\n",
       " u'eta super bad ']"
      ]
     },
     "execution_count": 9,
     "metadata": {},
     "output_type": "execute_result"
    }
   ],
   "source": [
    "filter_rlist"
   ]
  },
  {
   "cell_type": "code",
   "execution_count": 10,
   "metadata": {
    "collapsed": false
   },
   "outputs": [
    {
     "data": {
      "text/plain": [
       "0.5"
      ]
     },
     "execution_count": 10,
     "metadata": {},
     "output_type": "execute_result"
    }
   ],
   "source": [
    "a = set(ngrams(filter_rlist[0],1)+ ngrams(filter_rlist[0],2)+ ngrams(filter_rlist[0],3))\n",
    "b = set(ngrams(filter_rlist[1],1)+ ngrams(filter_rlist[1],2)+ ngrams(filter_rlist[1],3))\n",
    "jaccard_dist(a,b)"
   ]
  },
  {
   "cell_type": "code",
   "execution_count": 11,
   "metadata": {
    "collapsed": false
   },
   "outputs": [
    {
     "data": {
      "text/plain": [
       "36"
      ]
     },
     "execution_count": 11,
     "metadata": {},
     "output_type": "execute_result"
    }
   ],
   "source": [
    "len(a|b)"
   ]
  },
  {
   "cell_type": "markdown",
   "metadata": {},
   "source": [
    "## keyword counts"
   ]
  },
  {
   "cell_type": "code",
   "execution_count": 30,
   "metadata": {
    "collapsed": false
   },
   "outputs": [],
   "source": [
    "data = cPickle.load(open('./backup/snaptask1000.p', 'rb'))"
   ]
  },
  {
   "cell_type": "code",
   "execution_count": 31,
   "metadata": {
    "collapsed": true
   },
   "outputs": [],
   "source": [
    "descr = \"\"\n",
    "for i in range(1000):\n",
    "    if 'systemDescription' in data['hits']['hits'][i]['_source']:\n",
    "        descr = descr + data['hits']['hits'][i]['_source']['systemDescription'].encode(\"utf-8\").decode('utf8', 'ignore')"
   ]
  },
  {
   "cell_type": "code",
   "execution_count": 32,
   "metadata": {
    "collapsed": false
   },
   "outputs": [
    {
     "data": {
      "text/plain": [
       "7637560"
      ]
     },
     "execution_count": 32,
     "metadata": {},
     "output_type": "execute_result"
    }
   ],
   "source": [
    "len(descr)"
   ]
  },
  {
   "cell_type": "code",
   "execution_count": 33,
   "metadata": {
    "collapsed": true
   },
   "outputs": [],
   "source": [
    "def descr_preprocess(descr):\n",
    "    ignore_str = [\"=\", \"\\n\", \"\\\"\",\"\\\\\",\"//\",\":\",\"{\",\"]\",\"}\",\"[\",\",\",\"`\"]\n",
    "    for s in ignore_str:\n",
    "        descr = descr.replace(s,' ')\n",
    "    lowers = descr.lower()\n",
    "    tokens = nltk.word_tokenize(lowers)\n",
    "    return tokens"
   ]
  },
  {
   "cell_type": "code",
   "execution_count": 36,
   "metadata": {
    "collapsed": false
   },
   "outputs": [],
   "source": [
    "tokens = descr_preprocess(descr)"
   ]
  },
  {
   "cell_type": "code",
   "execution_count": 37,
   "metadata": {
    "collapsed": false
   },
   "outputs": [],
   "source": [
    "count = Counter(tokens)"
   ]
  },
  {
   "cell_type": "code",
   "execution_count": 38,
   "metadata": {
    "collapsed": false
   },
   "outputs": [
    {
     "data": {
      "text/plain": [
       "11119"
      ]
     },
     "execution_count": 38,
     "metadata": {},
     "output_type": "execute_result"
    }
   ],
   "source": [
    "len(count)"
   ]
  },
  {
   "cell_type": "code",
   "execution_count": 39,
   "metadata": {
    "collapsed": false
   },
   "outputs": [],
   "source": [
    "strkey = \"\"\n",
    "for i in count.most_common(500):\n",
    "    strkey = strkey + i[0] + \"\\n\""
   ]
  },
  {
   "cell_type": "markdown",
   "metadata": {},
   "source": [
    "#### top 500 keywords"
   ]
  },
  {
   "cell_type": "code",
   "execution_count": 40,
   "metadata": {
    "collapsed": false
   },
   "outputs": [],
   "source": [
    "keyword = []\n",
    "for l in count.most_common(500):\n",
    "    keyword.append(l[0])"
   ]
  },
  {
   "cell_type": "code",
   "execution_count": 41,
   "metadata": {
    "collapsed": true
   },
   "outputs": [],
   "source": [
    "def get_descr_feature(keyword, tokens):\n",
    "    c = {}\n",
    "    for k in keyword:\n",
    "        c[k] = 0\n",
    "    count = Counter(tokens)\n",
    "    interkey = list(set(keyword).intersection(count.keys()))\n",
    "    #print interkey\n",
    "    for ik in interkey:\n",
    "        c[ik] = count[ik]\n",
    "    #print c\n",
    "    feature = []\n",
    "    for key, value in c.iteritems():\n",
    "        feature.append(value)\n",
    "    feature = np.array(feature).reshape(1,-1)\n",
    "    return feature"
   ]
  },
  {
   "cell_type": "code",
   "execution_count": 51,
   "metadata": {
    "collapsed": false
   },
   "outputs": [],
   "source": [
    "dsct = data_dict['1457543']['systemDescription']\n",
    "dtokens = descr_preprocess(dsct)\n",
    "a = get_descr_feature(keyword, dtokens)"
   ]
  },
  {
   "cell_type": "code",
   "execution_count": 52,
   "metadata": {
    "collapsed": false
   },
   "outputs": [
    {
     "data": {
      "text/plain": [
       "array([[ 1.]])"
      ]
     },
     "execution_count": 52,
     "metadata": {},
     "output_type": "execute_result"
    }
   ],
   "source": [
    "cosine_similarity(a,a)"
   ]
  },
  {
   "cell_type": "code",
   "execution_count": 53,
   "metadata": {
    "collapsed": false
   },
   "outputs": [
    {
     "name": "stdout",
     "output_type": "stream",
     "text": [
      "\u001b[31mno color\u001b[0m \u001b[31min_red\u001b[0m black\n"
     ]
    }
   ],
   "source": [
    "def color_in_tokens(tokens, color_token):\n",
    "  \"\"\"\n",
    "  Highlights the tokens which contain 'color_token_contains'\n",
    "\n",
    "  :param tokens: list of strings\n",
    "  :param color_token_contains: str (the string for marking a token red)\n",
    "  :return: str\n",
    "  \"\"\"\n",
    "  return \" \".join([\"\\x1b[31m%s\\x1b[0m\" % i if i in color_token else i for i in tokens])\n",
    "print color_in_tokens([\"no color\", \"in_red\",\"black\"],[\"no color\",\"in_red\"])"
   ]
  },
  {
   "cell_type": "code",
   "execution_count": null,
   "metadata": {
    "collapsed": false
   },
   "outputs": [],
   "source": [
    "dtokens = descr_preprocess(data_dict['1525053']['systemDescription'])\n",
    "color_token = keyword\n",
    "print color_in_tokens(dtokens,color_token)"
   ]
  },
  {
   "cell_type": "markdown",
   "metadata": {},
   "source": [
    "---"
   ]
  },
  {
   "cell_type": "markdown",
   "metadata": {},
   "source": [
    "## create feature"
   ]
  },
  {
   "cell_type": "code",
   "execution_count": 55,
   "metadata": {
    "collapsed": true
   },
   "outputs": [],
   "source": [
    "def string_matcher(str1, str2): \n",
    "    nstr1 = set(ngrams(str1,3)+ngrams(str1,2)+ngrams(str1,1))\n",
    "    nstr2 = set(ngrams(str2,3)+ngrams(str2,2)+ngrams(str2,1))\n",
    "      \n",
    "    if len(nstr1)>0 or len(nstr2)>0:\n",
    "        return jaccard_dist(nstr1,nstr2)\n",
    "    elif len(nstr1)==0 and len(nstr1)==0:\n",
    "        return 1\n",
    "    else:\n",
    "        return 0"
   ]
  },
  {
   "cell_type": "code",
   "execution_count": 68,
   "metadata": {
    "collapsed": true
   },
   "outputs": [],
   "source": [
    "def os_version_preprocess(os):\n",
    "    nist = NISTTokenizer()\n",
    "    os = os.replace('(','')\n",
    "    os = os.replace(')','')\n",
    "    os = os.lower()\n",
    "    os = nist.tokenize(os)\n",
    "    return os"
   ]
  },
  {
   "cell_type": "code",
   "execution_count": 69,
   "metadata": {
    "collapsed": false
   },
   "outputs": [
    {
     "data": {
      "text/plain": [
       "[u'ios', u'11.2.1']"
      ]
     },
     "execution_count": 69,
     "metadata": {},
     "output_type": "execute_result"
    }
   ],
   "source": [
    "os_version_preprocess('iOS 11.2.1')"
   ]
  },
  {
   "cell_type": "code",
   "execution_count": 70,
   "metadata": {
    "collapsed": true
   },
   "outputs": [],
   "source": [
    "def get_content_snap(data_dict,ids):\n",
    "    result = {}\n",
    "    report_id = ids\n",
    "    content = data_dict[ids]\n",
    "    \n",
    "    create_at = ''\n",
    "    if 'created' in content:\n",
    "        created_at = content['created']\n",
    "    \n",
    "    feature_descr = ''\n",
    "    if 'featureDescr' in content:\n",
    "        feature_descr = content['featureDescr']\n",
    "        \n",
    "    device_model = ''\n",
    "    if 'deviceModel' in content:\n",
    "        device_model = content['deviceModel']\n",
    "        \n",
    "    city_id = ''\n",
    "    if 'city_id' in content:\n",
    "        city_id = content['city_id']\n",
    "        \n",
    "    app_name = '' \n",
    "    if 'app' in content:\n",
    "        app_name = content['app']\n",
    "        \n",
    "    user_uuid = ''\n",
    "    if 'userUuid' in content:\n",
    "        user_uuid = content['userUuid']\n",
    "    \n",
    "    user_input = ''\n",
    "    if 'userInput' in content:\n",
    "        user_input = content['userInput']\n",
    "        if user_input is None:\n",
    "            user_input = ''\n",
    "        \n",
    "    user_summary = ''\n",
    "    if 'userSummary' in content:\n",
    "        user_summary = content['userSummary']\n",
    "        if user_summary is None:\n",
    "            user_summary = ''\n",
    "        \n",
    "        \n",
    "    os_version = ''\n",
    "    if 'os' in content:\n",
    "        os_version = content['os']\n",
    "    \n",
    "    app_version = ''\n",
    "    if 'version' in content:\n",
    "        app_version = content['version']\n",
    "    \n",
    "    descr = ''\n",
    "    if 'systemDescription' in content:\n",
    "        descr = content['systemDescription']\n",
    "        \n",
    "    locale = ''\n",
    "    if 'locale' in content:\n",
    "        locale = content['locale']\n",
    "    \n",
    "    rst = {}\n",
    "    rst['report_id'] = report_id\n",
    "    rst['created_at'] = created_at\n",
    "    rst['feature_descr'] = feature_descr\n",
    "    rst['device_model'] = device_model\n",
    "    rst['city_id'] = city_id\n",
    "    rst['app_name'] = app_name\n",
    "    rst['user_uuid'] = user_uuid\n",
    "    rst['user_input'] = user_input\n",
    "    rst['user_summary'] = user_summary\n",
    "    rst['os_version'] = os_version\n",
    "    rst['app_version'] = app_version\n",
    "    rst['descr'] = descr\n",
    "    rst['locale'] = locale\n",
    "\n",
    "    return rst"
   ]
  },
  {
   "cell_type": "code",
   "execution_count": 71,
   "metadata": {
    "collapsed": false
   },
   "outputs": [],
   "source": [
    " def get_match_score(t,keyword):\n",
    "    t1 = t[0]\n",
    "    t2 = t[1]\n",
    "    \n",
    "    input_match = string_matcher(t1['user_input'], t2['user_input'])\n",
    "    summary_match = string_matcher(t1['user_summary'], t2['user_summary'])\n",
    "    featureDesc_match = string_matcher(t1['feature_descr'], t2['feature_descr'])\n",
    "    create_diff = abs(int(t1['created_at'])-int(t2['created_at']))\n",
    "    \n",
    "    if t1['device_model'] == t2['device_model']:\n",
    "        same_device_model = 1\n",
    "    else:\n",
    "        same_device_model = 0\n",
    "    \n",
    "    if t1['app_name'] == t2['app_name']:\n",
    "        same_app = 1\n",
    "    else:\n",
    "        same_app = 0\n",
    "        \n",
    "    if t1['user_uuid'] == t2['user_uuid']:\n",
    "        same_user = 1\n",
    "    else:\n",
    "        same_user = 0\n",
    "        \n",
    "    appV1 = t1['app_version']\n",
    "    appV2 = t2['app_version']\n",
    "    same_appV1=0\n",
    "    same_appV2=0\n",
    "    same_appV3=0\n",
    "    if len(appV1)==len(appV2):\n",
    "        appV11 = appV1.split('.')\n",
    "        appV22 = appV2.split('.')\n",
    "        if appV11[0] == appV22[0]:\n",
    "            same_appV1 = 1\n",
    "        if (appV11[0] == appV22[0]) and (appV11[1] == appV22[1]) :\n",
    "            same_appV2 = 1    \n",
    "        if (appV11[0] == appV22[0]) and (appV11[1] == appV22[1]) and (appV11[2] == appV22[2])  :\n",
    "            same_appV3 = 1\n",
    "    \n",
    "    same_os1 = 0\n",
    "    same_os2 = 0\n",
    "    os1 = os_version_preprocess(t1['os_version'])\n",
    "    os2 = os_version_preprocess(t2['os_version'])\n",
    "    if (len(os1) == len(os2))and (len(os1)==2):\n",
    "        if os1[0] == os2[0]:\n",
    "            same_os1 = 1\n",
    "        if (os1[0] == os2[0]) and (os1[1] == os2[1]):\n",
    "            same_os2 = 1\n",
    "    \n",
    "    same_city = 0\n",
    "    if t1['city_id'] == t2['city_id']:\n",
    "        same_city = 1 \n",
    "    \n",
    "    same_locale = 0\n",
    "    if t1['locale'] == t2['locale']:\n",
    "        same_locale = 1 \n",
    "        \n",
    "        \n",
    "    token1 = descr_preprocess(t1['descr'])\n",
    "    token2 = descr_preprocess(t2['descr'])\n",
    "    k1 = get_descr_feature(keyword, token1)\n",
    "    k2 = get_descr_feature(keyword, token2)\n",
    "    system_match = cosine_similarity(k1,k2)[0][0]\n",
    "        \n",
    "    return t1['report_id'], t2['report_id'], input_match, summary_match, featureDesc_match,create_diff, same_device_model,\\\n",
    "            same_app, same_user, same_appV1, same_appV2, same_appV3, same_os1, same_os2, same_city,same_locale, system_match"
   ]
  },
  {
   "cell_type": "code",
   "execution_count": 74,
   "metadata": {
    "collapsed": false
   },
   "outputs": [],
   "source": [
    "t = [get_content_snap(data_dict, '1457543'), get_content_snap(data_dict, '1457545')]"
   ]
  },
  {
   "cell_type": "markdown",
   "metadata": {},
   "source": [
    "## score duplicated pair"
   ]
  },
  {
   "cell_type": "code",
   "execution_count": 80,
   "metadata": {
    "collapsed": false
   },
   "outputs": [],
   "source": [
    "dup_pairs = cPickle.load(open('./backup/1-5_2018_duplicated_pairs.p', 'rb'))"
   ]
  },
  {
   "cell_type": "code",
   "execution_count": 81,
   "metadata": {
    "collapsed": true
   },
   "outputs": [],
   "source": [
    "df_dup_pairs = pd.DataFrame.from_records(dup_pairs, columns=['task1','task2'])"
   ]
  },
  {
   "cell_type": "code",
   "execution_count": 82,
   "metadata": {
    "collapsed": false
   },
   "outputs": [
    {
     "data": {
      "text/plain": [
       "task1    4659\n",
       "task2    4659\n",
       "dtype: int64"
      ]
     },
     "execution_count": 82,
     "metadata": {},
     "output_type": "execute_result"
    }
   ],
   "source": [
    "df_dup_pairs.count()"
   ]
  },
  {
   "cell_type": "code",
   "execution_count": 84,
   "metadata": {
    "collapsed": false
   },
   "outputs": [],
   "source": [
    "df_snaptask_ids = pd.read_csv('./backup/taskid_list_1-5-2018.txt', sep=\" \", header=None)\n",
    "df_snaptask_ids.columns = [\"taskid\"]"
   ]
  },
  {
   "cell_type": "code",
   "execution_count": 85,
   "metadata": {
    "collapsed": false
   },
   "outputs": [],
   "source": [
    "list_snaptaskids = [i[1:] for i in df_snaptask_ids.taskid.values.tolist()]"
   ]
  },
  {
   "cell_type": "code",
   "execution_count": 86,
   "metadata": {
    "collapsed": false
   },
   "outputs": [],
   "source": [
    "df_dup_pairs = df_dup_pairs[(df_dup_pairs.task1.isin(list_snaptaskids) & df_dup_pairs.task2.isin(list_snaptaskids) )]"
   ]
  },
  {
   "cell_type": "code",
   "execution_count": 87,
   "metadata": {
    "collapsed": false,
    "scrolled": true
   },
   "outputs": [
    {
     "data": {
      "text/plain": [
       "task1    3834\n",
       "task2    3834\n",
       "dtype: int64"
      ]
     },
     "execution_count": 87,
     "metadata": {},
     "output_type": "execute_result"
    }
   ],
   "source": [
    "df_dup_pairs.count()"
   ]
  },
  {
   "cell_type": "code",
   "execution_count": 88,
   "metadata": {
    "collapsed": false
   },
   "outputs": [
    {
     "data": {
      "text/html": [
       "<div>\n",
       "<table border=\"1\" class=\"dataframe\">\n",
       "  <thead>\n",
       "    <tr style=\"text-align: right;\">\n",
       "      <th></th>\n",
       "      <th>task1</th>\n",
       "      <th>task2</th>\n",
       "    </tr>\n",
       "  </thead>\n",
       "  <tbody>\n",
       "    <tr>\n",
       "      <th>0</th>\n",
       "      <td>1759453</td>\n",
       "      <td>1759451</td>\n",
       "    </tr>\n",
       "    <tr>\n",
       "      <th>1</th>\n",
       "      <td>1713183</td>\n",
       "      <td>1713187</td>\n",
       "    </tr>\n",
       "    <tr>\n",
       "      <th>2</th>\n",
       "      <td>1544663</td>\n",
       "      <td>1544665</td>\n",
       "    </tr>\n",
       "    <tr>\n",
       "      <th>3</th>\n",
       "      <td>1528561</td>\n",
       "      <td>1528569</td>\n",
       "    </tr>\n",
       "    <tr>\n",
       "      <th>4</th>\n",
       "      <td>1590589</td>\n",
       "      <td>1590583</td>\n",
       "    </tr>\n",
       "  </tbody>\n",
       "</table>\n",
       "</div>"
      ],
      "text/plain": [
       "     task1    task2\n",
       "0  1759453  1759451\n",
       "1  1713183  1713187\n",
       "2  1544663  1544665\n",
       "3  1528561  1528569\n",
       "4  1590589  1590583"
      ]
     },
     "execution_count": 88,
     "metadata": {},
     "output_type": "execute_result"
    }
   ],
   "source": [
    "df_dup_pairs.head()"
   ]
  },
  {
   "cell_type": "code",
   "execution_count": 103,
   "metadata": {
    "collapsed": true
   },
   "outputs": [],
   "source": [
    "df_dup_pairs = df_dup_pairs[(df_dup_pairs.task1.isin(data_dict.keys())) & (df_dup_pairs.task2.isin(data_dict.keys()))]"
   ]
  },
  {
   "cell_type": "code",
   "execution_count": 104,
   "metadata": {
    "collapsed": false
   },
   "outputs": [
    {
     "data": {
      "text/plain": [
       "4074"
      ]
     },
     "execution_count": 104,
     "metadata": {},
     "output_type": "execute_result"
    }
   ],
   "source": [
    "df_dups = set(df_dup_pairs['task1'].tolist() + df_dup_pairs['task2'].tolist())\n",
    "len(df_dups)"
   ]
  },
  {
   "cell_type": "code",
   "execution_count": 106,
   "metadata": {
    "collapsed": true
   },
   "outputs": [],
   "source": [
    "def compute_feature_for_pair(df,data_dict,keyword):\n",
    "    d1 = df['task1'].tolist()\n",
    "    d2 = df['task2'].tolist()\n",
    "    rst = []\n",
    "    for p1,p2 in zip(d1,d2):\n",
    "        t = [get_content_snap(data_dict, p1), get_content_snap(data_dict, p2)]\n",
    "        #print p1,p2\n",
    "        v = get_match_score(t,keyword)\n",
    "        rst.append(v)\n",
    "        \n",
    "    df_rst = pd.DataFrame.from_records(rst, columns=['task1','task2','input_match','summary_match','featureDesc_match','create_diff',\\\n",
    "                                           'same_device_model','same_app','same_user','same_appV1','same_appV2','same_appV3',\\\n",
    "                                           'same_os1','same_os2','same_city','same_locale','system_match'])    \n",
    "        \n",
    "    return df_rst"
   ]
  },
  {
   "cell_type": "code",
   "execution_count": 107,
   "metadata": {
    "collapsed": false
   },
   "outputs": [],
   "source": [
    "df_same = compute_feature_for_pair(df_dup_pairs,data_dict,keyword)"
   ]
  },
  {
   "cell_type": "markdown",
   "metadata": {},
   "source": [
    "## create random pair"
   ]
  },
  {
   "cell_type": "code",
   "execution_count": 108,
   "metadata": {
    "collapsed": true
   },
   "outputs": [],
   "source": [
    "df = df_dup_pairs\n",
    "d1 = df['task1'].tolist()\n",
    "d2 = df['task2'].tolist()"
   ]
  },
  {
   "cell_type": "code",
   "execution_count": 109,
   "metadata": {
    "collapsed": false
   },
   "outputs": [],
   "source": [
    "random_list = []\n",
    "for i in range(5000):\n",
    "    p = random.sample(set(d1+d2), 2)\n",
    "    if (df[(df['task1']==p[0]) & (df['task2']==p[1])].empty) \\\n",
    "       and (df[(df['task2']==p[0]) & (df['task1']==p[1])].empty):\n",
    "        random_list.append(p)\n",
    "df_random = pd.DataFrame.from_records(random_list, columns=['task1','task2'])   "
   ]
  },
  {
   "cell_type": "code",
   "execution_count": 110,
   "metadata": {
    "collapsed": false
   },
   "outputs": [
    {
     "data": {
      "text/plain": [
       "(4999, 2)"
      ]
     },
     "execution_count": 110,
     "metadata": {},
     "output_type": "execute_result"
    }
   ],
   "source": [
    "df_random.shape"
   ]
  },
  {
   "cell_type": "code",
   "execution_count": 111,
   "metadata": {
    "collapsed": false
   },
   "outputs": [
    {
     "data": {
      "text/html": [
       "<div>\n",
       "<table border=\"1\" class=\"dataframe\">\n",
       "  <thead>\n",
       "    <tr style=\"text-align: right;\">\n",
       "      <th></th>\n",
       "      <th>task1</th>\n",
       "      <th>task2</th>\n",
       "    </tr>\n",
       "  </thead>\n",
       "  <tbody>\n",
       "    <tr>\n",
       "      <th>0</th>\n",
       "      <td>1468847</td>\n",
       "      <td>1699781</td>\n",
       "    </tr>\n",
       "    <tr>\n",
       "      <th>1</th>\n",
       "      <td>1694015</td>\n",
       "      <td>1763297</td>\n",
       "    </tr>\n",
       "    <tr>\n",
       "      <th>2</th>\n",
       "      <td>1686851</td>\n",
       "      <td>1752437</td>\n",
       "    </tr>\n",
       "  </tbody>\n",
       "</table>\n",
       "</div>"
      ],
      "text/plain": [
       "     task1    task2\n",
       "0  1468847  1699781\n",
       "1  1694015  1763297\n",
       "2  1686851  1752437"
      ]
     },
     "execution_count": 111,
     "metadata": {},
     "output_type": "execute_result"
    }
   ],
   "source": [
    "df_random.head(3)"
   ]
  },
  {
   "cell_type": "code",
   "execution_count": 112,
   "metadata": {
    "collapsed": false
   },
   "outputs": [],
   "source": [
    "df_diff = compute_feature_for_pair(df_random,data_dict,keyword)"
   ]
  },
  {
   "cell_type": "markdown",
   "metadata": {},
   "source": [
    "---"
   ]
  },
  {
   "cell_type": "markdown",
   "metadata": {
    "collapsed": true
   },
   "source": [
    "## classification - training  (1-5 2018)"
   ]
  },
  {
   "cell_type": "code",
   "execution_count": 114,
   "metadata": {
    "collapsed": true
   },
   "outputs": [],
   "source": [
    "from sklearn.model_selection import train_test_split,cross_val_score,ShuffleSplit\n",
    "from sklearn import svm\n",
    "from sklearn import preprocessing\n",
    "from sklearn.linear_model import LogisticRegression\n",
    "from sklearn.pipeline import make_pipeline\n",
    "from sklearn.metrics import precision_recall_curve,average_precision_score"
   ]
  },
  {
   "cell_type": "code",
   "execution_count": 208,
   "metadata": {
    "collapsed": false
   },
   "outputs": [
    {
     "data": {
      "text/plain": [
       "4999"
      ]
     },
     "execution_count": 208,
     "metadata": {},
     "output_type": "execute_result"
    }
   ],
   "source": [
    "len(df_diff)"
   ]
  },
  {
   "cell_type": "code",
   "execution_count": 209,
   "metadata": {
    "collapsed": false
   },
   "outputs": [
    {
     "data": {
      "text/plain": [
       "3350"
      ]
     },
     "execution_count": 209,
     "metadata": {},
     "output_type": "execute_result"
    }
   ],
   "source": [
    "len(df_same)"
   ]
  },
  {
   "cell_type": "code",
   "execution_count": 210,
   "metadata": {
    "collapsed": false
   },
   "outputs": [],
   "source": [
    "tasks_same = list(set(df_same.task1.values.tolist() + df_same.task2.values.tolist()))\n",
    "task_same_test = random.sample(tasks_same, 500)\n",
    "df_same_train = df_same[(~df_same.task1.isin(task_same_test))&(~df_same.task2.isin(task_same_test))]\n",
    "df_same_test = df_same[(df_same.task1.isin(task_same_test))|(df_same.task2.isin(task_same_test))]"
   ]
  },
  {
   "cell_type": "code",
   "execution_count": 211,
   "metadata": {
    "collapsed": false
   },
   "outputs": [],
   "source": [
    "tasks_diff = list(set(df_diff.task1.values.tolist() + df_diff.task2.values.tolist()))\n",
    "task_diff_test = random.sample(tasks_diff, 500)\n",
    "df_diff_train = df_diff[(~df_diff.task1.isin(task_diff_test))&(~df_diff.task2.isin(task_diff_test))]\n",
    "df_diff_test = df_diff[(df_diff.task1.isin(task_diff_test))|(df_diff.task2.isin(task_diff_test))]"
   ]
  },
  {
   "cell_type": "code",
   "execution_count": 212,
   "metadata": {
    "collapsed": false
   },
   "outputs": [
    {
     "name": "stdout",
     "output_type": "stream",
     "text": [
      "2589 761 3741 1258\n"
     ]
    }
   ],
   "source": [
    "print len(df_same_train), len(df_same_test), len(df_diff_train), len(df_diff_test)"
   ]
  },
  {
   "cell_type": "code",
   "execution_count": 213,
   "metadata": {
    "collapsed": false
   },
   "outputs": [],
   "source": [
    "data_sim_train = df_same_train[['input_match','summary_match','featureDesc_match','create_diff',\\\n",
    "                    'same_device_model','same_user','same_appV1','same_appV2','same_appV3',\\\n",
    "                    'same_os2','same_city','same_locale','system_match']]\n",
    "data_sim_test = df_same_test[['input_match','summary_match','featureDesc_match','create_diff',\\\n",
    "                    'same_device_model','same_user','same_appV1','same_appV2','same_appV3',\\\n",
    "                    'same_os2','same_city','same_locale','system_match']]"
   ]
  },
  {
   "cell_type": "code",
   "execution_count": 214,
   "metadata": {
    "collapsed": false
   },
   "outputs": [],
   "source": [
    "data_random_train = df_diff_train[['input_match','summary_match','featureDesc_match','create_diff',\\\n",
    "                    'same_device_model','same_user','same_appV1','same_appV2','same_appV3',\\\n",
    "                    'same_os2','same_city','same_locale','system_match']]\n",
    "\n",
    "data_random_test = df_diff_test[['input_match','summary_match','featureDesc_match','create_diff',\\\n",
    "                    'same_device_model','same_user','same_appV1','same_appV2','same_appV3',\\\n",
    "                    'same_os2','same_city','same_locale','system_match']]"
   ]
  },
  {
   "cell_type": "code",
   "execution_count": 215,
   "metadata": {
    "collapsed": false
   },
   "outputs": [
    {
     "data": {
      "text/html": [
       "<div>\n",
       "<table border=\"1\" class=\"dataframe\">\n",
       "  <thead>\n",
       "    <tr style=\"text-align: right;\">\n",
       "      <th></th>\n",
       "      <th>input_match</th>\n",
       "      <th>summary_match</th>\n",
       "      <th>featureDesc_match</th>\n",
       "      <th>create_diff</th>\n",
       "      <th>same_device_model</th>\n",
       "      <th>same_user</th>\n",
       "      <th>same_appV1</th>\n",
       "      <th>same_appV2</th>\n",
       "      <th>same_appV3</th>\n",
       "      <th>same_os2</th>\n",
       "      <th>same_city</th>\n",
       "      <th>same_locale</th>\n",
       "      <th>system_match</th>\n",
       "    </tr>\n",
       "  </thead>\n",
       "  <tbody>\n",
       "    <tr>\n",
       "      <th>0</th>\n",
       "      <td>1.0</td>\n",
       "      <td>1.000000</td>\n",
       "      <td>1.0</td>\n",
       "      <td>0</td>\n",
       "      <td>1</td>\n",
       "      <td>1</td>\n",
       "      <td>1</td>\n",
       "      <td>1</td>\n",
       "      <td>1</td>\n",
       "      <td>1</td>\n",
       "      <td>1</td>\n",
       "      <td>1</td>\n",
       "      <td>1.0</td>\n",
       "    </tr>\n",
       "    <tr>\n",
       "      <th>1</th>\n",
       "      <td>1.0</td>\n",
       "      <td>1.000000</td>\n",
       "      <td>1.0</td>\n",
       "      <td>6</td>\n",
       "      <td>1</td>\n",
       "      <td>1</td>\n",
       "      <td>1</td>\n",
       "      <td>1</td>\n",
       "      <td>1</td>\n",
       "      <td>1</td>\n",
       "      <td>1</td>\n",
       "      <td>1</td>\n",
       "      <td>1.0</td>\n",
       "    </tr>\n",
       "    <tr>\n",
       "      <th>2</th>\n",
       "      <td>1.0</td>\n",
       "      <td>1.000000</td>\n",
       "      <td>1.0</td>\n",
       "      <td>66</td>\n",
       "      <td>1</td>\n",
       "      <td>1</td>\n",
       "      <td>1</td>\n",
       "      <td>1</td>\n",
       "      <td>1</td>\n",
       "      <td>1</td>\n",
       "      <td>1</td>\n",
       "      <td>1</td>\n",
       "      <td>1.0</td>\n",
       "    </tr>\n",
       "    <tr>\n",
       "      <th>3</th>\n",
       "      <td>0.0</td>\n",
       "      <td>0.160920</td>\n",
       "      <td>1.0</td>\n",
       "      <td>836</td>\n",
       "      <td>1</td>\n",
       "      <td>1</td>\n",
       "      <td>1</td>\n",
       "      <td>1</td>\n",
       "      <td>1</td>\n",
       "      <td>1</td>\n",
       "      <td>1</td>\n",
       "      <td>1</td>\n",
       "      <td>1.0</td>\n",
       "    </tr>\n",
       "    <tr>\n",
       "      <th>4</th>\n",
       "      <td>1.0</td>\n",
       "      <td>0.419118</td>\n",
       "      <td>1.0</td>\n",
       "      <td>61</td>\n",
       "      <td>1</td>\n",
       "      <td>1</td>\n",
       "      <td>1</td>\n",
       "      <td>1</td>\n",
       "      <td>1</td>\n",
       "      <td>1</td>\n",
       "      <td>1</td>\n",
       "      <td>1</td>\n",
       "      <td>1.0</td>\n",
       "    </tr>\n",
       "  </tbody>\n",
       "</table>\n",
       "</div>"
      ],
      "text/plain": [
       "   input_match  summary_match  featureDesc_match  create_diff  \\\n",
       "0          1.0       1.000000                1.0            0   \n",
       "1          1.0       1.000000                1.0            6   \n",
       "2          1.0       1.000000                1.0           66   \n",
       "3          0.0       0.160920                1.0          836   \n",
       "4          1.0       0.419118                1.0           61   \n",
       "\n",
       "   same_device_model  same_user  same_appV1  same_appV2  same_appV3  same_os2  \\\n",
       "0                  1          1           1           1           1         1   \n",
       "1                  1          1           1           1           1         1   \n",
       "2                  1          1           1           1           1         1   \n",
       "3                  1          1           1           1           1         1   \n",
       "4                  1          1           1           1           1         1   \n",
       "\n",
       "   same_city  same_locale  system_match  \n",
       "0          1            1           1.0  \n",
       "1          1            1           1.0  \n",
       "2          1            1           1.0  \n",
       "3          1            1           1.0  \n",
       "4          1            1           1.0  "
      ]
     },
     "execution_count": 215,
     "metadata": {},
     "output_type": "execute_result"
    }
   ],
   "source": [
    "data_sim_train.head()"
   ]
  },
  {
   "cell_type": "code",
   "execution_count": 216,
   "metadata": {
    "collapsed": true
   },
   "outputs": [],
   "source": [
    "corr_matrix = data_sim_train.corr().abs()"
   ]
  },
  {
   "cell_type": "code",
   "execution_count": 217,
   "metadata": {
    "collapsed": false
   },
   "outputs": [
    {
     "data": {
      "text/html": [
       "<div>\n",
       "<table border=\"1\" class=\"dataframe\">\n",
       "  <thead>\n",
       "    <tr style=\"text-align: right;\">\n",
       "      <th></th>\n",
       "      <th>input_match</th>\n",
       "      <th>summary_match</th>\n",
       "      <th>featureDesc_match</th>\n",
       "      <th>create_diff</th>\n",
       "      <th>same_device_model</th>\n",
       "      <th>same_user</th>\n",
       "      <th>same_appV1</th>\n",
       "      <th>same_appV2</th>\n",
       "      <th>same_appV3</th>\n",
       "      <th>same_os2</th>\n",
       "      <th>same_city</th>\n",
       "      <th>same_locale</th>\n",
       "      <th>system_match</th>\n",
       "    </tr>\n",
       "  </thead>\n",
       "  <tbody>\n",
       "    <tr>\n",
       "      <th>input_match</th>\n",
       "      <td>1.000000</td>\n",
       "      <td>0.532178</td>\n",
       "      <td>0.324878</td>\n",
       "      <td>0.201187</td>\n",
       "      <td>0.250660</td>\n",
       "      <td>0.552087</td>\n",
       "      <td>0.133622</td>\n",
       "      <td>0.348376</td>\n",
       "      <td>0.429584</td>\n",
       "      <td>0.393144</td>\n",
       "      <td>0.364400</td>\n",
       "      <td>0.248558</td>\n",
       "      <td>0.271895</td>\n",
       "    </tr>\n",
       "    <tr>\n",
       "      <th>summary_match</th>\n",
       "      <td>0.532178</td>\n",
       "      <td>1.000000</td>\n",
       "      <td>0.444325</td>\n",
       "      <td>0.341555</td>\n",
       "      <td>0.262256</td>\n",
       "      <td>0.744234</td>\n",
       "      <td>0.197440</td>\n",
       "      <td>0.536824</td>\n",
       "      <td>0.618527</td>\n",
       "      <td>0.527095</td>\n",
       "      <td>0.505057</td>\n",
       "      <td>0.302664</td>\n",
       "      <td>0.221149</td>\n",
       "    </tr>\n",
       "    <tr>\n",
       "      <th>featureDesc_match</th>\n",
       "      <td>0.324878</td>\n",
       "      <td>0.444325</td>\n",
       "      <td>1.000000</td>\n",
       "      <td>0.370779</td>\n",
       "      <td>0.156081</td>\n",
       "      <td>0.462993</td>\n",
       "      <td>0.239305</td>\n",
       "      <td>0.517906</td>\n",
       "      <td>0.453305</td>\n",
       "      <td>0.421732</td>\n",
       "      <td>0.413338</td>\n",
       "      <td>0.217372</td>\n",
       "      <td>0.110954</td>\n",
       "    </tr>\n",
       "    <tr>\n",
       "      <th>create_diff</th>\n",
       "      <td>0.201187</td>\n",
       "      <td>0.341555</td>\n",
       "      <td>0.370779</td>\n",
       "      <td>1.000000</td>\n",
       "      <td>0.094265</td>\n",
       "      <td>0.350837</td>\n",
       "      <td>0.143807</td>\n",
       "      <td>0.444712</td>\n",
       "      <td>0.439448</td>\n",
       "      <td>0.439842</td>\n",
       "      <td>0.326781</td>\n",
       "      <td>0.207542</td>\n",
       "      <td>0.130061</td>\n",
       "    </tr>\n",
       "    <tr>\n",
       "      <th>same_device_model</th>\n",
       "      <td>0.250660</td>\n",
       "      <td>0.262256</td>\n",
       "      <td>0.156081</td>\n",
       "      <td>0.094265</td>\n",
       "      <td>1.000000</td>\n",
       "      <td>0.342675</td>\n",
       "      <td>0.531533</td>\n",
       "      <td>0.129495</td>\n",
       "      <td>0.210414</td>\n",
       "      <td>0.322977</td>\n",
       "      <td>0.204665</td>\n",
       "      <td>0.481060</td>\n",
       "      <td>0.670384</td>\n",
       "    </tr>\n",
       "    <tr>\n",
       "      <th>same_user</th>\n",
       "      <td>0.552087</td>\n",
       "      <td>0.744234</td>\n",
       "      <td>0.462993</td>\n",
       "      <td>0.350837</td>\n",
       "      <td>0.342675</td>\n",
       "      <td>1.000000</td>\n",
       "      <td>0.239429</td>\n",
       "      <td>0.616628</td>\n",
       "      <td>0.668228</td>\n",
       "      <td>0.655804</td>\n",
       "      <td>0.680189</td>\n",
       "      <td>0.379805</td>\n",
       "      <td>0.249505</td>\n",
       "    </tr>\n",
       "    <tr>\n",
       "      <th>same_appV1</th>\n",
       "      <td>0.133622</td>\n",
       "      <td>0.197440</td>\n",
       "      <td>0.239305</td>\n",
       "      <td>0.143807</td>\n",
       "      <td>0.531533</td>\n",
       "      <td>0.239429</td>\n",
       "      <td>1.000000</td>\n",
       "      <td>0.357786</td>\n",
       "      <td>0.305639</td>\n",
       "      <td>0.317879</td>\n",
       "      <td>0.209018</td>\n",
       "      <td>0.475001</td>\n",
       "      <td>0.476383</td>\n",
       "    </tr>\n",
       "    <tr>\n",
       "      <th>same_appV2</th>\n",
       "      <td>0.348376</td>\n",
       "      <td>0.536824</td>\n",
       "      <td>0.517906</td>\n",
       "      <td>0.444712</td>\n",
       "      <td>0.129495</td>\n",
       "      <td>0.616628</td>\n",
       "      <td>0.357786</td>\n",
       "      <td>1.000000</td>\n",
       "      <td>0.854250</td>\n",
       "      <td>0.556475</td>\n",
       "      <td>0.523066</td>\n",
       "      <td>0.287057</td>\n",
       "      <td>0.061272</td>\n",
       "    </tr>\n",
       "    <tr>\n",
       "      <th>same_appV3</th>\n",
       "      <td>0.429584</td>\n",
       "      <td>0.618527</td>\n",
       "      <td>0.453305</td>\n",
       "      <td>0.439448</td>\n",
       "      <td>0.210414</td>\n",
       "      <td>0.668228</td>\n",
       "      <td>0.305639</td>\n",
       "      <td>0.854250</td>\n",
       "      <td>1.000000</td>\n",
       "      <td>0.603411</td>\n",
       "      <td>0.525602</td>\n",
       "      <td>0.320861</td>\n",
       "      <td>0.170124</td>\n",
       "    </tr>\n",
       "    <tr>\n",
       "      <th>same_os2</th>\n",
       "      <td>0.393144</td>\n",
       "      <td>0.527095</td>\n",
       "      <td>0.421732</td>\n",
       "      <td>0.439842</td>\n",
       "      <td>0.322977</td>\n",
       "      <td>0.655804</td>\n",
       "      <td>0.317879</td>\n",
       "      <td>0.556475</td>\n",
       "      <td>0.603411</td>\n",
       "      <td>1.000000</td>\n",
       "      <td>0.467801</td>\n",
       "      <td>0.406722</td>\n",
       "      <td>0.315440</td>\n",
       "    </tr>\n",
       "    <tr>\n",
       "      <th>same_city</th>\n",
       "      <td>0.364400</td>\n",
       "      <td>0.505057</td>\n",
       "      <td>0.413338</td>\n",
       "      <td>0.326781</td>\n",
       "      <td>0.204665</td>\n",
       "      <td>0.680189</td>\n",
       "      <td>0.209018</td>\n",
       "      <td>0.523066</td>\n",
       "      <td>0.525602</td>\n",
       "      <td>0.467801</td>\n",
       "      <td>1.000000</td>\n",
       "      <td>0.287366</td>\n",
       "      <td>0.073030</td>\n",
       "    </tr>\n",
       "    <tr>\n",
       "      <th>same_locale</th>\n",
       "      <td>0.248558</td>\n",
       "      <td>0.302664</td>\n",
       "      <td>0.217372</td>\n",
       "      <td>0.207542</td>\n",
       "      <td>0.481060</td>\n",
       "      <td>0.379805</td>\n",
       "      <td>0.475001</td>\n",
       "      <td>0.287057</td>\n",
       "      <td>0.320861</td>\n",
       "      <td>0.406722</td>\n",
       "      <td>0.287366</td>\n",
       "      <td>1.000000</td>\n",
       "      <td>0.529676</td>\n",
       "    </tr>\n",
       "    <tr>\n",
       "      <th>system_match</th>\n",
       "      <td>0.271895</td>\n",
       "      <td>0.221149</td>\n",
       "      <td>0.110954</td>\n",
       "      <td>0.130061</td>\n",
       "      <td>0.670384</td>\n",
       "      <td>0.249505</td>\n",
       "      <td>0.476383</td>\n",
       "      <td>0.061272</td>\n",
       "      <td>0.170124</td>\n",
       "      <td>0.315440</td>\n",
       "      <td>0.073030</td>\n",
       "      <td>0.529676</td>\n",
       "      <td>1.000000</td>\n",
       "    </tr>\n",
       "  </tbody>\n",
       "</table>\n",
       "</div>"
      ],
      "text/plain": [
       "                   input_match  summary_match  featureDesc_match  create_diff  \\\n",
       "input_match           1.000000       0.532178           0.324878     0.201187   \n",
       "summary_match         0.532178       1.000000           0.444325     0.341555   \n",
       "featureDesc_match     0.324878       0.444325           1.000000     0.370779   \n",
       "create_diff           0.201187       0.341555           0.370779     1.000000   \n",
       "same_device_model     0.250660       0.262256           0.156081     0.094265   \n",
       "same_user             0.552087       0.744234           0.462993     0.350837   \n",
       "same_appV1            0.133622       0.197440           0.239305     0.143807   \n",
       "same_appV2            0.348376       0.536824           0.517906     0.444712   \n",
       "same_appV3            0.429584       0.618527           0.453305     0.439448   \n",
       "same_os2              0.393144       0.527095           0.421732     0.439842   \n",
       "same_city             0.364400       0.505057           0.413338     0.326781   \n",
       "same_locale           0.248558       0.302664           0.217372     0.207542   \n",
       "system_match          0.271895       0.221149           0.110954     0.130061   \n",
       "\n",
       "                   same_device_model  same_user  same_appV1  same_appV2  \\\n",
       "input_match                 0.250660   0.552087    0.133622    0.348376   \n",
       "summary_match               0.262256   0.744234    0.197440    0.536824   \n",
       "featureDesc_match           0.156081   0.462993    0.239305    0.517906   \n",
       "create_diff                 0.094265   0.350837    0.143807    0.444712   \n",
       "same_device_model           1.000000   0.342675    0.531533    0.129495   \n",
       "same_user                   0.342675   1.000000    0.239429    0.616628   \n",
       "same_appV1                  0.531533   0.239429    1.000000    0.357786   \n",
       "same_appV2                  0.129495   0.616628    0.357786    1.000000   \n",
       "same_appV3                  0.210414   0.668228    0.305639    0.854250   \n",
       "same_os2                    0.322977   0.655804    0.317879    0.556475   \n",
       "same_city                   0.204665   0.680189    0.209018    0.523066   \n",
       "same_locale                 0.481060   0.379805    0.475001    0.287057   \n",
       "system_match                0.670384   0.249505    0.476383    0.061272   \n",
       "\n",
       "                   same_appV3  same_os2  same_city  same_locale  system_match  \n",
       "input_match          0.429584  0.393144   0.364400     0.248558      0.271895  \n",
       "summary_match        0.618527  0.527095   0.505057     0.302664      0.221149  \n",
       "featureDesc_match    0.453305  0.421732   0.413338     0.217372      0.110954  \n",
       "create_diff          0.439448  0.439842   0.326781     0.207542      0.130061  \n",
       "same_device_model    0.210414  0.322977   0.204665     0.481060      0.670384  \n",
       "same_user            0.668228  0.655804   0.680189     0.379805      0.249505  \n",
       "same_appV1           0.305639  0.317879   0.209018     0.475001      0.476383  \n",
       "same_appV2           0.854250  0.556475   0.523066     0.287057      0.061272  \n",
       "same_appV3           1.000000  0.603411   0.525602     0.320861      0.170124  \n",
       "same_os2             0.603411  1.000000   0.467801     0.406722      0.315440  \n",
       "same_city            0.525602  0.467801   1.000000     0.287366      0.073030  \n",
       "same_locale          0.320861  0.406722   0.287366     1.000000      0.529676  \n",
       "system_match         0.170124  0.315440   0.073030     0.529676      1.000000  "
      ]
     },
     "execution_count": 217,
     "metadata": {},
     "output_type": "execute_result"
    }
   ],
   "source": [
    "corr_matrix"
   ]
  },
  {
   "cell_type": "code",
   "execution_count": 218,
   "metadata": {
    "collapsed": false
   },
   "outputs": [],
   "source": [
    "data_sim_train = data_sim_train.fillna(1)\n",
    "data_random_train = data_random_train.fillna(1)\n",
    "data_sim_test = data_sim_test.fillna(1)\n",
    "data_random_test = data_random_test.fillna(1)"
   ]
  },
  {
   "cell_type": "code",
   "execution_count": 219,
   "metadata": {
    "collapsed": false
   },
   "outputs": [],
   "source": [
    "X_sim_train = data_sim_train.as_matrix()\n",
    "X_random_train = data_random_train.as_matrix()\n",
    "X_sim_test = data_sim_test.as_matrix()\n",
    "X_random_test = data_random_test.as_matrix()"
   ]
  },
  {
   "cell_type": "code",
   "execution_count": 220,
   "metadata": {
    "collapsed": false
   },
   "outputs": [],
   "source": [
    "X_train = np.vstack((X_sim_train, X_random_train))"
   ]
  },
  {
   "cell_type": "code",
   "execution_count": 221,
   "metadata": {
    "collapsed": false
   },
   "outputs": [
    {
     "data": {
      "text/plain": [
       "(6330, 13)"
      ]
     },
     "execution_count": 221,
     "metadata": {},
     "output_type": "execute_result"
    }
   ],
   "source": [
    "X_train.shape"
   ]
  },
  {
   "cell_type": "code",
   "execution_count": 222,
   "metadata": {
    "collapsed": true
   },
   "outputs": [],
   "source": [
    "X_test = np.vstack((X_sim_test, X_random_test))"
   ]
  },
  {
   "cell_type": "code",
   "execution_count": 223,
   "metadata": {
    "collapsed": false
   },
   "outputs": [
    {
     "data": {
      "text/plain": [
       "2019"
      ]
     },
     "execution_count": 223,
     "metadata": {},
     "output_type": "execute_result"
    }
   ],
   "source": [
    "X_test.shape[0]"
   ]
  },
  {
   "cell_type": "code",
   "execution_count": 224,
   "metadata": {
    "collapsed": false
   },
   "outputs": [
    {
     "name": "stdout",
     "output_type": "stream",
     "text": [
      "(6330,) (2019,)\n"
     ]
    }
   ],
   "source": [
    "labels_train = np.hstack((np.ones(X_sim_train.shape[0]), np.zeros(X_random_train.shape[0])))\n",
    "y_train = labels_train.astype(int)\n",
    "\n",
    "labels_test = np.hstack((np.ones(X_sim_test.shape[0]), np.zeros(X_random_test.shape[0])))\n",
    "y_test = labels_test.astype(int)\n",
    "print y_train.shape, y_test.shape"
   ]
  },
  {
   "cell_type": "code",
   "execution_count": 225,
   "metadata": {
    "collapsed": false
   },
   "outputs": [],
   "source": [
    "#X_train, X_test, y_train, y_test = train_test_split(X, labels, test_size=0.2, random_state=0)\n",
    "scaler = preprocessing.StandardScaler().fit(X_train)\n",
    "X_train_transformed = scaler.transform(X_train)\n",
    "X_test_transformed = scaler.transform(X_test)"
   ]
  },
  {
   "cell_type": "code",
   "execution_count": 226,
   "metadata": {
    "collapsed": false
   },
   "outputs": [
    {
     "data": {
      "text/plain": [
       "array([ 1.74583208,  3.80148245,  1.8662782 , -1.09889063,  0.90959728,\n",
       "        3.20052172,  0.75005143,  2.32527043,  2.73176991,  1.91974431,\n",
       "        1.92791093,  1.04558786,  1.1227981 ])"
      ]
     },
     "execution_count": 226,
     "metadata": {},
     "output_type": "execute_result"
    }
   ],
   "source": [
    "X_train_transformed[0]"
   ]
  },
  {
   "cell_type": "code",
   "execution_count": 227,
   "metadata": {
    "collapsed": false
   },
   "outputs": [
    {
     "data": {
      "text/plain": [
       "array([[  4.79604913e-06,   9.99995204e-01],\n",
       "       [  1.78733044e-01,   8.21266956e-01],\n",
       "       [  5.36818529e-01,   4.63181471e-01],\n",
       "       ..., \n",
       "       [  7.96936383e-01,   2.03063617e-01],\n",
       "       [  7.10185739e-01,   2.89814261e-01],\n",
       "       [  7.90469193e-01,   2.09530807e-01]])"
      ]
     },
     "execution_count": 227,
     "metadata": {},
     "output_type": "execute_result"
    }
   ],
   "source": [
    "lrcf = LogisticRegression()\n",
    "lrcf.fit(X_train_transformed, y_train)\n",
    "lrcf.score(X_test_transformed, y_test)\n",
    "lrcf.predict_proba(X_test_transformed)"
   ]
  },
  {
   "cell_type": "code",
   "execution_count": 161,
   "metadata": {
    "collapsed": false
   },
   "outputs": [
    {
     "data": {
      "text/plain": [
       "array([ 0.17790397])"
      ]
     },
     "execution_count": 161,
     "metadata": {},
     "output_type": "execute_result"
    }
   ],
   "source": [
    "lrcf.intercept_"
   ]
  },
  {
   "cell_type": "code",
   "execution_count": 162,
   "metadata": {
    "collapsed": false
   },
   "outputs": [
    {
     "data": {
      "text/plain": [
       "array([-0.02270788,  1.9131518 ,  0.83500918, -0.37331369, -0.09458099,\n",
       "        0.29763006,  0.07672596, -0.02262884,  0.23811795, -0.13005554,\n",
       "        0.20507261,  0.19634638,  0.30770829])"
      ]
     },
     "execution_count": 162,
     "metadata": {},
     "output_type": "execute_result"
    }
   ],
   "source": [
    "lrcf.coef_.ravel()"
   ]
  },
  {
   "cell_type": "code",
   "execution_count": 163,
   "metadata": {
    "collapsed": false
   },
   "outputs": [
    {
     "data": {
      "text/plain": [
       "array([-0.69824892,  0.55704343,  0.63284198, ..., -0.80523661,\n",
       "       -1.92338419, -1.2880162 ])"
      ]
     },
     "execution_count": 163,
     "metadata": {},
     "output_type": "execute_result"
    }
   ],
   "source": [
    "y_score = lrcf.decision_function(X_test_transformed)\n",
    "y_score"
   ]
  },
  {
   "cell_type": "code",
   "execution_count": 164,
   "metadata": {
    "collapsed": false
   },
   "outputs": [
    {
     "data": {
      "text/plain": [
       "array([-0.69824892,  0.55704343,  0.63284198, ..., -0.80523661,\n",
       "       -1.92338419, -1.2880162 ])"
      ]
     },
     "execution_count": 164,
     "metadata": {},
     "output_type": "execute_result"
    }
   ],
   "source": [
    "# decision_function\n",
    "prob = np.transpose(np.matmul(np.array(X_test_transformed),np.transpose(lrcf.coef_)))[0] + np.ones(1918)*lrcf.intercept_\n",
    "prob"
   ]
  },
  {
   "cell_type": "code",
   "execution_count": 165,
   "metadata": {
    "collapsed": false
   },
   "outputs": [
    {
     "data": {
      "text/plain": [
       "array([  4.12851436e-08,   1.44863954e-07,   1.56271301e-07, ...,\n",
       "         3.70962178e-08,   1.21261884e-08,   2.28908079e-08])"
      ]
     },
     "execution_count": 165,
     "metadata": {},
     "output_type": "execute_result"
    }
   ],
   "source": [
    "# softmax\n",
    "np.exp(prob) / np.sum(np.exp(prob), axis=0)"
   ]
  },
  {
   "cell_type": "code",
   "execution_count": 166,
   "metadata": {
    "collapsed": false
   },
   "outputs": [
    {
     "data": {
      "text/plain": [
       "array([ 0.33220058,  0.63576817,  0.65313359, ...,  0.30890647,\n",
       "        0.12748466,  0.21618878])"
      ]
     },
     "execution_count": 166,
     "metadata": {},
     "output_type": "execute_result"
    }
   ],
   "source": [
    "# prob\n",
    "1/(1+np.exp(-prob))"
   ]
  },
  {
   "cell_type": "code",
   "execution_count": 167,
   "metadata": {
    "collapsed": false
   },
   "outputs": [],
   "source": [
    "#clf = make_pipeline(preprocessing.StandardScaler(), LogisticRegression())\n",
    "#cv = ShuffleSplit(n_splits=5, test_size=0.2, random_state=0)\n",
    "#lr_scores = cross_val_score(clf, X,labels, cv=cv)\n",
    "#lr_scores"
   ]
  },
  {
   "cell_type": "code",
   "execution_count": 168,
   "metadata": {
    "collapsed": false
   },
   "outputs": [
    {
     "name": "stdout",
     "output_type": "stream",
     "text": [
      "Average precision-recall score: 0.83\n"
     ]
    },
    {
     "data": {
      "text/plain": [
       "<matplotlib.text.Text at 0x7f7eb02b9410>"
      ]
     },
     "execution_count": 168,
     "metadata": {},
     "output_type": "execute_result"
    },
    {
     "data": {
      "image/png": "[encoded data removed]",
      "text/plain": [
       "<matplotlib.figure.Figure at 0x7f7eb0337710>"
      ]
     },
     "metadata": {},
     "output_type": "display_data"
    }
   ],
   "source": [
    "y_score = lrcf.decision_function(X_test_transformed)\n",
    "average_precision = average_precision_score(y_test, y_score)\n",
    "\n",
    "print('Average precision-recall score: {0:0.2f}'.format(\n",
    "      average_precision))\n",
    "\n",
    "precision, recall, _ = precision_recall_curve(y_test, y_score)\n",
    "\n",
    "plt.step(recall, precision, color='b', alpha=0.2,\n",
    "         where='post')\n",
    "plt.fill_between(recall, precision, step='post', alpha=0.2,\n",
    "                 color='b')\n",
    "\n",
    "plt.xlabel('Recall')\n",
    "plt.ylabel('Precision')\n",
    "plt.ylim([0.0, 1.05])\n",
    "plt.xlim([0.0, 1.0])\n",
    "plt.title('2-class Precision-Recall curve: AP={0:0.2f}'.format(\n",
    "          average_precision))"
   ]
  },
  {
   "cell_type": "code",
   "execution_count": 169,
   "metadata": {
    "collapsed": false
   },
   "outputs": [
    {
     "data": {
      "text/plain": [
       "([<matplotlib.axis.XTick at 0x7f7eb0337c50>,\n",
       "  <matplotlib.axis.XTick at 0x7f7eb02919d0>,\n",
       "  <matplotlib.axis.XTick at 0x7f7eb021e650>,\n",
       "  <matplotlib.axis.XTick at 0x7f7eb0170350>,\n",
       "  <matplotlib.axis.XTick at 0x7f7eb0170ad0>,\n",
       "  <matplotlib.axis.XTick at 0x7f7eb017a290>,\n",
       "  <matplotlib.axis.XTick at 0x7f7eb017aa10>,\n",
       "  <matplotlib.axis.XTick at 0x7f7eb01841d0>,\n",
       "  <matplotlib.axis.XTick at 0x7f7eb0184950>,\n",
       "  <matplotlib.axis.XTick at 0x7f7eb018e110>,\n",
       "  <matplotlib.axis.XTick at 0x7f7eb018e890>,\n",
       "  <matplotlib.axis.XTick at 0x7f7eb0198050>,\n",
       "  <matplotlib.axis.XTick at 0x7f7eb01987d0>],\n",
       " <a list of 13 Text xticklabel objects>)"
      ]
     },
     "execution_count": 169,
     "metadata": {},
     "output_type": "execute_result"
    },
    {
     "data": {
      "image/png": "[encoded data removed]",
      "text/plain": [
       "<matplotlib.figure.Figure at 0x7f7eb038c3d0>"
      ]
     },
     "metadata": {},
     "output_type": "display_data"
    }
   ],
   "source": [
    "feature_names = ['input_match','summary_match','featureDesc_match','create_diff',\\\n",
    "                    'same_device_model','same_user','same_appV1','same_appV2','same_appV3',\\\n",
    "                    'same_os2','same_city','same_locale','system_match']\n",
    "coef = abs(lrcf.coef_.ravel())\n",
    "plt.figure()\n",
    "plt.bar(np.arange(len(feature_names)), coef)\n",
    "plt.xticks(np.arange(len(feature_names)), feature_names, rotation=70)"
   ]
  },
  {
   "cell_type": "markdown",
   "metadata": {
    "collapsed": true
   },
   "source": [
    "## classification - evaluation  (6-7 2018)"
   ]
  },
  {
   "cell_type": "code",
   "execution_count": 179,
   "metadata": {
    "collapsed": false
   },
   "outputs": [],
   "source": [
    "dup_pairs_eval = cPickle.load(open('./backup/6-7_2018_duplicated_pairs.p', 'rb'))"
   ]
  },
  {
   "cell_type": "code",
   "execution_count": 180,
   "metadata": {
    "collapsed": true
   },
   "outputs": [],
   "source": [
    "df_dup_pairs_eval = pd.DataFrame.from_records(dup_pairs_eval, columns=['task1','task2'])"
   ]
  },
  {
   "cell_type": "code",
   "execution_count": 193,
   "metadata": {
    "collapsed": false
   },
   "outputs": [
    {
     "data": {
      "text/plain": [
       "task1    297\n",
       "task2    297\n",
       "dtype: int64"
      ]
     },
     "execution_count": 193,
     "metadata": {},
     "output_type": "execute_result"
    }
   ],
   "source": [
    "df_dup_pairs_eval.count()"
   ]
  },
  {
   "cell_type": "code",
   "execution_count": 182,
   "metadata": {
    "collapsed": false
   },
   "outputs": [],
   "source": [
    "#df_snaptask_ids = pd.read_csv('./backup/taskid_list_6-7-2018.txt', sep=\" \", header=None)\n",
    "#df_snaptask_ids.columns = [\"taskid\"]"
   ]
  },
  {
   "cell_type": "code",
   "execution_count": 174,
   "metadata": {
    "collapsed": false
   },
   "outputs": [],
   "source": [
    "#list_snaptaskids = [i[1:] for i in df_snaptask_ids.taskid.values.tolist()]"
   ]
  },
  {
   "cell_type": "code",
   "execution_count": 175,
   "metadata": {
    "collapsed": false
   },
   "outputs": [],
   "source": [
    "#df_dup_pairs_eval = df_dup_pairs_eval[(df_dup_pairs_eval.task1.isin(list_snaptaskids) & df_dup_pairs_eval.task2.isin(list_snaptaskids) )]"
   ]
  },
  {
   "cell_type": "code",
   "execution_count": 184,
   "metadata": {
    "collapsed": false
   },
   "outputs": [
    {
     "data": {
      "text/html": [
       "<div>\n",
       "<table border=\"1\" class=\"dataframe\">\n",
       "  <thead>\n",
       "    <tr style=\"text-align: right;\">\n",
       "      <th></th>\n",
       "      <th>task1</th>\n",
       "      <th>task2</th>\n",
       "    </tr>\n",
       "  </thead>\n",
       "  <tbody>\n",
       "    <tr>\n",
       "      <th>0</th>\n",
       "      <td>1841427</td>\n",
       "      <td>1841425</td>\n",
       "    </tr>\n",
       "    <tr>\n",
       "      <th>1</th>\n",
       "      <td>1820471</td>\n",
       "      <td>1820475</td>\n",
       "    </tr>\n",
       "    <tr>\n",
       "      <th>2</th>\n",
       "      <td>1820473</td>\n",
       "      <td>1820475</td>\n",
       "    </tr>\n",
       "    <tr>\n",
       "      <th>3</th>\n",
       "      <td>1833717</td>\n",
       "      <td>1721077</td>\n",
       "    </tr>\n",
       "    <tr>\n",
       "      <th>4</th>\n",
       "      <td>1833729</td>\n",
       "      <td>1833721</td>\n",
       "    </tr>\n",
       "  </tbody>\n",
       "</table>\n",
       "</div>"
      ],
      "text/plain": [
       "     task1    task2\n",
       "0  1841427  1841425\n",
       "1  1820471  1820475\n",
       "2  1820473  1820475\n",
       "3  1833717  1721077\n",
       "4  1833729  1833721"
      ]
     },
     "execution_count": 184,
     "metadata": {},
     "output_type": "execute_result"
    }
   ],
   "source": [
    "df_dup_pairs_eval.head()"
   ]
  },
  {
   "cell_type": "code",
   "execution_count": 185,
   "metadata": {
    "collapsed": true
   },
   "outputs": [],
   "source": [
    "df_dup_pairs_eval = df_dup_pairs_eval[(df_dup_pairs_eval.task1.isin(data_dict.keys())) & (df_dup_pairs_eval.task2.isin(data_dict.keys()))]"
   ]
  },
  {
   "cell_type": "code",
   "execution_count": 186,
   "metadata": {
    "collapsed": false
   },
   "outputs": [
    {
     "data": {
      "text/plain": [
       "431"
      ]
     },
     "execution_count": 186,
     "metadata": {},
     "output_type": "execute_result"
    }
   ],
   "source": [
    "df_dups_eval = set(df_dup_pairs_eval['task1'].tolist() + df_dup_pairs_eval['task2'].tolist())\n",
    "len(df_dups_eval)"
   ]
  },
  {
   "cell_type": "code",
   "execution_count": 187,
   "metadata": {
    "collapsed": false
   },
   "outputs": [],
   "source": [
    "df_same_eval = compute_feature_for_pair(df_dup_pairs_eval,data_dict,keyword)"
   ]
  },
  {
   "cell_type": "code",
   "execution_count": 188,
   "metadata": {
    "collapsed": false
   },
   "outputs": [],
   "source": [
    "tasks_same = list(set(df_same_eval.task1.values.tolist() + df_same_eval.task2.values.tolist()))"
   ]
  },
  {
   "cell_type": "code",
   "execution_count": 189,
   "metadata": {
    "collapsed": false
   },
   "outputs": [],
   "source": [
    "data_sim_eval = df_same_eval[['input_match','summary_match','featureDesc_match','create_diff',\\\n",
    "                    'same_device_model','same_user','same_appV1','same_appV2','same_appV3',\\\n",
    "                    'same_os2','same_city','same_locale','system_match']]"
   ]
  },
  {
   "cell_type": "code",
   "execution_count": 190,
   "metadata": {
    "collapsed": false
   },
   "outputs": [],
   "source": [
    "data_sim_eval = data_sim_eval.fillna(1)"
   ]
  },
  {
   "cell_type": "code",
   "execution_count": 191,
   "metadata": {
    "collapsed": false
   },
   "outputs": [],
   "source": [
    "X_sim_eval = data_sim_eval.as_matrix()"
   ]
  },
  {
   "cell_type": "code",
   "execution_count": 192,
   "metadata": {
    "collapsed": false
   },
   "outputs": [
    {
     "data": {
      "text/plain": [
       "(297, 13)"
      ]
     },
     "execution_count": 192,
     "metadata": {},
     "output_type": "execute_result"
    }
   ],
   "source": [
    "X_sim_eval.shape"
   ]
  },
  {
   "cell_type": "code",
   "execution_count": 196,
   "metadata": {
    "collapsed": false
   },
   "outputs": [],
   "source": [
    "labels_eval = np.ones(X_sim_eval.shape[0])"
   ]
  },
  {
   "cell_type": "code",
   "execution_count": 195,
   "metadata": {
    "collapsed": false
   },
   "outputs": [],
   "source": [
    "X_sim_eval_transformed = scaler.transform(X_sim_eval)"
   ]
  },
  {
   "cell_type": "code",
   "execution_count": 204,
   "metadata": {
    "collapsed": false
   },
   "outputs": [
    {
     "data": {
      "text/plain": [
       "array([[ 1.74206222,  3.82887525,  1.89070502, ...,  1.91668773,\n",
       "         1.03723449,  1.13895032],\n",
       "       [ 1.74206222,  3.82887525,  1.89070502, ...,  1.91668773,\n",
       "         1.03723449,  1.13895032],\n",
       "       [ 1.74206222,  3.82887525,  1.89070502, ...,  1.91668773,\n",
       "         1.03723449,  1.13895032],\n",
       "       ..., \n",
       "       [ 1.74206222, -0.53131739, -0.10944071, ..., -0.5217334 ,\n",
       "         1.03723449,  1.0613924 ],\n",
       "       [-0.73346058,  0.71970835, -0.53838112, ..., -0.5217334 ,\n",
       "         1.03723449,  0.85430853],\n",
       "       [ 1.74206222, -0.2991775 ,  1.89070502, ..., -0.5217334 ,\n",
       "         1.03723449,  0.79320515]])"
      ]
     },
     "execution_count": 204,
     "metadata": {},
     "output_type": "execute_result"
    }
   ],
   "source": [
    "X_sim_eval_transformed"
   ]
  },
  {
   "cell_type": "code",
   "execution_count": 228,
   "metadata": {
    "collapsed": false
   },
   "outputs": [
    {
     "data": {
      "text/plain": [
       "0.68013468013468015"
      ]
     },
     "execution_count": 228,
     "metadata": {},
     "output_type": "execute_result"
    }
   ],
   "source": [
    "lrcf.score(X_sim_eval_transformed,labels_eval)"
   ]
  },
  {
   "cell_type": "code",
   "execution_count": null,
   "metadata": {
    "collapsed": true
   },
   "outputs": [],
   "source": []
  }
 ],
 "metadata": {
  "kernelspec": {
   "display_name": "Python 2 (General DS)",
   "language": "python",
   "name": "python2"
  },
  "language_info": {
   "codemirror_mode": {
    "name": "ipython",
    "version": 2
   },
   "file_extension": ".py",
   "mimetype": "text/x-python",
   "name": "python",
   "nbconvert_exporter": "python",
   "pygments_lexer": "ipython2",
   "version": "2.7.10"
  }
 },
 "nbformat": 4,
 "nbformat_minor": 2
}
