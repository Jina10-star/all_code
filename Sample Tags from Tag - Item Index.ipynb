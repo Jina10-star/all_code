{
 "cells": [
  {
   "cell_type": "markdown",
   "metadata": {},
   "source": [
    "<span style=\"color:blue\">Thanks for using Drogon for your interactive Spark application. We update Drogon/SparkMagic as often as possible to make it easier, faster and more reliable for you. Have a question or feedback? Ping us on [uChat](https://uchat.uberinternal.com/uber/channels/spark).</span>\n",
    "\n",
    "What's New\n",
    "- Now you can use `%%configure` and `%%spark` magics to configure and start a Spark session (deprecating hard-to-use `%load_ext sparkmagic.magics` and `manage_spark` magics). Check out [this example](https://workbench.uberinternal.com/explore/knowledge/localfile/cwang/sparkmagic_python2_example.ipynb) for more details.\n",
    "- Improved `%%configure` magic. You now can use it to make all Spark and Drogon configurations from within notebook itself. Check out our [latest documentation & examples](https://docs.google.com/document/d/1mkYtDHquh4FjqTeA0Fxii8lyV-P6qzmoABhmmRwm_00/edit#heading=h.xn14pmoorsn0) for more details.\n",
    "- Bug fixes and performance updates.\n"
   ]
  },
  {
   "cell_type": "markdown",
   "metadata": {},
   "source": [
    "### Spark Config"
   ]
  },
  {
   "cell_type": "code",
   "execution_count": 28,
   "metadata": {},
   "outputs": [
    {
     "name": "stdout",
     "output_type": "stream",
     "text": [
      "Starting Spark application (can take 60s or more)...\n",
      "Starting heartbeat thread...done.\n",
      "Waiting for Drogon session to be ready............................................\n",
      "Drogon session is ready.\n"
     ]
    },
    {
     "data": {
      "text/html": [
       "<table>\n",
       "<tr><th>Drogon Session ID</th><th>Spark Application ID</th><th>Kind</th><th>State</th><th>Spark UI</th><th>Driver log</th></tr><tr><td>514676579</td><td>application_1667252295751_3433208</td><td>spark</td><td>idle</td><td></td><td></td></tr></table>"
      ],
      "text/plain": [
       "<IPython.core.display.HTML object>"
      ]
     },
     "metadata": {},
     "output_type": "display_data"
    },
    {
     "name": "stdout",
     "output_type": "stream",
     "text": [
      "SparkSession available as 'spark'.\n",
      "\n",
      "\n",
      "Cell execution took 75 seconds.\n"
     ]
    },
    {
     "data": {
      "text/html": [
       "Current session configs:\n",
       "<pre>{\n",
       "  \"pyFiles\": [], \n",
       "  \"kind\": \"spark\", \n",
       "  \"proxyUser\": \"radhesh\", \n",
       "  \"sparkEnv\": \"SPARK_24\", \n",
       "  \"driverMemory\": \"8g\", \n",
       "  \"queue\": \"uber_eats_ml\", \n",
       "  \"conf\": {\n",
       "    \"spark.dynamicAllocation.enabled\": \"true\", \n",
       "    \"spark.driver.memory\": \"12g\", \n",
       "    \"spark.dynamicAllocation.maxExecutors\": 200, \n",
       "    \"spark.driver.memoryOverhead\": \"4g\", \n",
       "    \"spark.executor.memoryOverhead\": \"4g\", \n",
       "    \"spark.hadoop.hadoop.security.authentication\": \"simple\", \n",
       "    \"spark.dynamicAllocation.minExecutors\": 100, \n",
       "    \"spark.executor.memory\": \"12g\", \n",
       "    \"spark.dynamicAllocation.initialExecutors\": 100, \n",
       "    \"spark.shuffle.service.enabled\": true, \n",
       "    \"spark.sql.shuffle.partitions\": 500\n",
       "  }, \n",
       "  \"executorCores\": 2, \n",
       "  \"driverCores\": 2, \n",
       "  \"jars\": [\n",
       "    \"/user/radhesh/spark-corenlp-0.4.0-spark2.4-scala2.11.jar\", \n",
       "    \"/user/radhesh/stanford-corenlp-3.9.1-models.jar\"\n",
       "  ], \n",
       "  \"executorMemory\": \"12g\", \n",
       "  \"drogonHeaders\": {\n",
       "    \"X-DROGON-CLUSTER\": \"phx2/secure\"\n",
       "  }\n",
       "}</pre><br>"
      ],
      "text/plain": [
       "<IPython.core.display.HTML object>"
      ]
     },
     "metadata": {},
     "output_type": "display_data"
    }
   ],
   "source": [
    "%%configure -f\n",
    "{\n",
    "  \"pyFiles\": [],\n",
    "  \"kind\": \"spark\",\n",
    "  \"proxyUser\": \"radhesh\",\n",
    "  \"sparkEnv\": \"SPARK_24\",\n",
    "  \"driverMemory\": \"8g\",\n",
    "  \"queue\": \"uber_eats_ml\",\n",
    "  \"conf\": { \n",
    "      \"spark.dynamicAllocation.enabled\": \"true\",\n",
    "      \"spark.dynamicAllocation.initialExecutors\":100,\n",
    "      \"spark.dynamicAllocation.minExecutors\":100,\n",
    "      \"spark.dynamicAllocation.maxExecutors\" : 200,\n",
    "      \"spark.executor.memory\": \"12g\",\n",
    "      \"spark.executor.memoryOverhead\": \"4g\",\n",
    "      \"spark.driver.memory\": \"12g\",\n",
    "      \"spark.driver.memoryOverhead\" : \"4g\",\n",
    "      \"spark.hadoop.hadoop.security.authentication\": \"simple\",\n",
    "      \"spark.shuffle.service.enabled\" : true,\n",
    "      \"spark.sql.shuffle.partitions\" : 500\n",
    "},\n",
    "  \"executorCores\": 2,\n",
    "  \"driverCores\": 2,\n",
    "  \"executorMemory\": \"12g\",\n",
    "    \"jars\": [\"/user/radhesh/spark-corenlp-0.4.0-spark2.4-scala2.11.jar\",\n",
    "            \"/user/radhesh/stanford-corenlp-3.9.1-models.jar\"],\n",
    "   \"drogonHeaders\": {\n",
    "    \"X-DROGON-CLUSTER\": \"phx2/secure\"\n",
    "  }\n",
    "}"
   ]
  },
  {
   "cell_type": "code",
   "execution_count": 2,
   "metadata": {},
   "outputs": [
    {
     "name": "stdout",
     "output_type": "stream",
     "text": [
      "Starting Spark application (can take 60s or more)...\n",
      "Starting heartbeat thread...done.\n",
      "Waiting for Drogon session to be ready............................................\n",
      "Drogon session is ready.\n"
     ]
    },
    {
     "data": {
      "text/html": [
       "<table>\n",
       "<tr><th>Drogon Session ID</th><th>Spark Application ID</th><th>Kind</th><th>State</th><th>Spark UI</th><th>Driver log</th></tr><tr><td>514020879</td><td>application_1667252295751_3207085</td><td>spark</td><td>idle</td><td></td><td></td></tr></table>"
      ],
      "text/plain": [
       "<IPython.core.display.HTML object>"
      ]
     },
     "metadata": {},
     "output_type": "display_data"
    },
    {
     "name": "stdout",
     "output_type": "stream",
     "text": [
      "SparkSession available as 'spark'.\n",
      "\n",
      "\n",
      "Cell execution took 75 seconds.\n",
      "res1: org.apache.spark.sql.SparkSession = org.apache.spark.sql.SparkSession@6ca8fe1"
     ]
    }
   ],
   "source": [
    "spark"
   ]
  },
  {
   "cell_type": "code",
   "execution_count": 29,
   "metadata": {},
   "outputs": [
    {
     "name": "stdout",
     "output_type": "stream",
     "text": [
      "input: org.apache.spark.sql.DataFrame = [tag: string, item_list: string]"
     ]
    }
   ],
   "source": [
    "var input = spark.sql(\"SELECT * FROM tmp.grocery_items_tag_index\")"
   ]
  },
  {
   "cell_type": "code",
   "execution_count": 30,
   "metadata": {},
   "outputs": [
    {
     "name": "stdout",
     "output_type": "stream",
     "text": [
      "+------------------+--------------------+\n",
      "|               tag|           item_list|\n",
      "+------------------+--------------------+\n",
      "|       chill drink|fanta fruit twist...|\n",
      "|    latin american|ferrero duplo pie...|\n",
      "|     cereal muesli|dorset cereal sim...|\n",
      "|          homecare|anti bacterial de...|\n",
      "|   craft brew beer|cabin brewing sup...|\n",
      "|        rum import|blue chair bay ke...|\n",
      "|goodee craving hou|haribo watermelon...|\n",
      "|dairy product milk|darigold butter u...|\n",
      "|  clean toiletries|durex extre safe ...|\n",
      "|        sauce oils|lee kum kee soy s...|\n",
      "|    aguas gaseosas|perrier lime , pe...|\n",
      "| pastry individual|holiday cupcake l...|\n",
      "|wash clean product|easy antibacteria...|\n",
      "|     malter whisky|glenmorangie coll...|\n",
      "|korean liquor wine|green grape korea...|\n",
      "|  spirit wine beer|doom amber ale bo...|\n",
      "|  snack parliament|mojito , arizona ...|\n",
      "| alcohol multipack|heineken piece , ...|\n",
      "|   traditional ale|guinness original...|\n",
      "|     pasta lasagne|banetti fusillus ...|\n",
      "+------------------+--------------------+\n",
      "only showing top 20 rows"
     ]
    }
   ],
   "source": [
    "input.show()"
   ]
  },
  {
   "cell_type": "code",
   "execution_count": 31,
   "metadata": {},
   "outputs": [
    {
     "name": "stdout",
     "output_type": "stream",
     "text": [
      "res2: Long = 29091"
     ]
    }
   ],
   "source": [
    "input.count()"
   ]
  },
  {
   "cell_type": "code",
   "execution_count": 40,
   "metadata": {},
   "outputs": [
    {
     "name": "stdout",
     "output_type": "stream",
     "text": [
      "input: org.apache.spark.sql.DataFrame = [tag: string, item_list: string ... 2 more fields]"
     ]
    }
   ],
   "source": [
    "input = input.withColumn(\"list\",split(col(\"item_list\"),\",\"))"
   ]
  },
  {
   "cell_type": "code",
   "execution_count": 41,
   "metadata": {},
   "outputs": [
    {
     "name": "stdout",
     "output_type": "stream",
     "text": [
      "+--------------------+--------------------+--------------------+--------------------+\n",
      "|                 tag|           item_list|              number|                list|\n",
      "+--------------------+--------------------+--------------------+--------------------+\n",
      "|     wine white wine|harken california...|[harken californi...|[harken californi...|\n",
      "|      frozen product|shime saba macker...|[shime saba macke...|[shime saba macke...|\n",
      "|noodle instant pa...|noodle chicken po...|[noodle chicken p...|[noodle chicken p...|\n",
      "|       france liquor|bol genever liquo...|[bol genever liqu...|[bol genever liqu...|\n",
      "|     chocolate snack|rit bit cheese , ...|[rit bit cheese ,...|[rit bit cheese ,...|\n",
      "| frozen meat seafood|catfish filet , n...|[catfish filet , ...|[catfish filet , ...|\n",
      "|             ramadan|laziza biryanus y...|[laziza biryanus ...|[laziza biryanus ...|\n",
      "|         logo burger|cheese burger wra...|[cheese burger wr...|[cheese burger wr...|\n",
      "|produits exotique...|japanese kitkat b...|[japanese kitkat ...|[japanese kitkat ...|\n",
      "|       marinate meat|tandoori masala f...|[tandoori masala ...|[tandoori masala ...|\n",
      "|light speed marke...|oep mild taco sea...|[oep mild taco se...|[oep mild taco se...|\n",
      "|scotch single mal...|balvenie caribbea...|[balvenie caribbe...|[balvenie caribbe...|\n",
      "|hard seltzer pre ...|cutwater whiskey ...|[cutwater whiskey...|[cutwater whiskey...|\n",
      "|      tea bag coffee|twinning pure gre...|[twinning pure gr...|[twinning pure gr...|\n",
      "|            sake soj|chamisul soju , h...|[chamisul soju , ...|[chamisul soju , ...|\n",
      "|fizzy drink cola ...|barr bubblegum dr...|[barr bubblegum d...|[barr bubblegum d...|\n",
      "|    coffee tea cocoa|soc black tea bag...|[soc black tea ba...|[soc black tea ba...|\n",
      "|         rum liqueur|captain morgan ru...|[captain morgan r...|[captain morgan r...|\n",
      "|         protein nut|nakd blueberry mu...|[nakd blueberry m...|[nakd blueberry m...|\n",
      "|        pocket money|candy spray straw...|[candy spray stra...|[candy spray stra...|\n",
      "+--------------------+--------------------+--------------------+--------------------+\n",
      "only showing top 20 rows"
     ]
    }
   ],
   "source": [
    "input.show()"
   ]
  },
  {
   "cell_type": "code",
   "execution_count": 45,
   "metadata": {},
   "outputs": [
    {
     "name": "stdout",
     "output_type": "stream",
     "text": [
      "input: org.apache.spark.sql.DataFrame = [tag: string, item_list: string ... 3 more fields]"
     ]
    }
   ],
   "source": [
    "input = input.withColumn(\"size\",size(col(\"list\")))"
   ]
  },
  {
   "cell_type": "markdown",
   "metadata": {},
   "source": [
    "### List of Tag - Item Index Where Items are >= 500"
   ]
  },
  {
   "cell_type": "code",
   "execution_count": 52,
   "metadata": {},
   "outputs": [
    {
     "name": "stdout",
     "output_type": "stream",
     "text": [
      "largeItemList: org.apache.spark.sql.Dataset[org.apache.spark.sql.Row] = [tag: string, item_list: string]"
     ]
    }
   ],
   "source": [
    "var largeItemList = input.select(col(\"tag\"),col(\"item_list\")).where($\"size\" >= 500)"
   ]
  },
  {
   "cell_type": "code",
   "execution_count": 53,
   "metadata": {},
   "outputs": [
    {
     "name": "stdout",
     "output_type": "stream",
     "text": [
      "res16: Long = 913"
     ]
    }
   ],
   "source": [
    "largeItemList.count()"
   ]
  },
  {
   "cell_type": "code",
   "execution_count": 54,
   "metadata": {},
   "outputs": [
    {
     "name": "stdout",
     "output_type": "stream",
     "text": [
      "+--------------------+--------------------+\n",
      "|                 tag|           item_list|\n",
      "+--------------------+--------------------+\n",
      "|                beer|boulevard rye rye...|\n",
      "|champagne sparkli...|montelvinus asolo...|\n",
      "|           crisp dip|kettle mature che...|\n",
      "|             licence|dark horse chardo...|\n",
      "|     hot dog sausage|polish kielbasa s...|\n",
      "|             popcorn|newman touch butt...|\n",
      "|           accessory|duramax suede lea...|\n",
      "| sweet confectionery|haribo fizzy rain...|\n",
      "|  confectionery mint|wrigley hubba bub...|\n",
      "|      cough cold flu|ryukakusan herbal...|\n",
      "|       cold sandwich|bologna cheese co...|\n",
      "|     canadian whisky|canadian club pre...|\n",
      "|         chill drink|fanta fruit twist...|\n",
      "|      latin american|ferrero duplo pie...|\n",
      "|            homecare|anti bacterial de...|\n",
      "|   personal grooming|dive antiperspira...|\n",
      "|            cleaning|cil bang black mo...|\n",
      "|             produce|tomato red grape ...|\n",
      "|               italy|caparzo brunello ...|\n",
      "|           soda shop|sprecher cream so...|\n",
      "+--------------------+--------------------+\n",
      "only showing top 20 rows"
     ]
    }
   ],
   "source": [
    "largeItemList.show()"
   ]
  },
  {
   "cell_type": "markdown",
   "metadata": {},
   "source": [
    "### List of Tags which map to <= 4 items"
   ]
  },
  {
   "cell_type": "code",
   "execution_count": 55,
   "metadata": {},
   "outputs": [
    {
     "name": "stdout",
     "output_type": "stream",
     "text": [
      "smallItemList: org.apache.spark.sql.Dataset[org.apache.spark.sql.Row] = [tag: string, item_list: string]"
     ]
    }
   ],
   "source": [
    "var smallItemList = input.select(col(\"tag\"),col(\"item_list\")).where($\"size\" <= 4)"
   ]
  },
  {
   "cell_type": "code",
   "execution_count": 56,
   "metadata": {},
   "outputs": [
    {
     "name": "stdout",
     "output_type": "stream",
     "text": [
      "res18: Long = 7124"
     ]
    }
   ],
   "source": [
    "smallItemList.count()"
   ]
  },
  {
   "cell_type": "code",
   "execution_count": 57,
   "metadata": {},
   "outputs": [
    {
     "name": "stdout",
     "output_type": "stream",
     "text": [
      "+--------------------+--------------------+\n",
      "|                 tag|           item_list|\n",
      "+--------------------+--------------------+\n",
      "|     aquarium heater|halagen heater , ...|\n",
      "|     complete cookie|peanut butter , p...|\n",
      "|entree captain fried|wild gulf shrimp ...|\n",
      "|         stick solid|mitchum advance c...|\n",
      "|         escape game|exit dead oreint ...|\n",
      "|    flavor ice cream|ice cream dip , d...|\n",
      "|        bean haricot|selection haricot...|\n",
      "|crisp snack scrat...|wild west origina...|\n",
      "|bubble tea organi...|dirty chocolate b...|\n",
      "|     barbotine slush|bubble slush slus...|\n",
      "|noodle rice noodl...|ready yaki soba n...|\n",
      "|        beer sleeman|sleeman honey bro...|\n",
      "|fruit flavour pencil|blackcurrant penc...|\n",
      "|tea coffee sugar ...|nescafe vanilla l...|\n",
      "| yeastie boy brewery|digital ipa india...|\n",
      "|         tinned meat|egeturk pinar sau...|\n",
      "|           fruit pie|    apple lidded pie|\n",
      "|        hey birthday|chocolate belgian...|\n",
      "|  original milkshake|fudgsicle origina...|\n",
      "|  sympathy sentiment|metal cross , pea...|\n",
      "+--------------------+--------------------+\n",
      "only showing top 20 rows"
     ]
    }
   ],
   "source": [
    "smallItemList.show()"
   ]
  },
  {
   "cell_type": "code",
   "execution_count": null,
   "metadata": {},
   "outputs": [],
   "source": []
  }
 ],
 "metadata": {
  "kernelspec": {
   "display_name": "07. SparkMagic (Remote Scala)",
   "language": "",
   "name": "sparkkernel"
  },
  "language_info": {
   "codemirror_mode": "text/x-scala",
   "mimetype": "text/x-scala",
   "name": "scala",
   "pygments_lexer": "scala"
  }
 },
 "nbformat": 4,
 "nbformat_minor": 2
}
