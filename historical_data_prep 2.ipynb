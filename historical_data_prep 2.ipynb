{
 "cells": [
  {
   "cell_type": "code",
   "execution_count": 66,
   "id": "f5955705",
   "metadata": {},
   "outputs": [
    {
     "name": "stderr",
     "output_type": "stream",
     "text": [
      "[nltk_data] Downloading collection 'popular'\n",
      "[nltk_data]    | \n",
      "[nltk_data]    | Downloading package cmudict to\n",
      "[nltk_data]    |     /Users/jghosh2/nltk_data...\n",
      "[nltk_data]    |   Package cmudict is already up-to-date!\n",
      "[nltk_data]    | Downloading package gazetteers to\n",
      "[nltk_data]    |     /Users/jghosh2/nltk_data...\n",
      "[nltk_data]    |   Package gazetteers is already up-to-date!\n",
      "[nltk_data]    | Downloading package genesis to\n",
      "[nltk_data]    |     /Users/jghosh2/nltk_data...\n",
      "[nltk_data]    |   Package genesis is already up-to-date!\n",
      "[nltk_data]    | Downloading package gutenberg to\n",
      "[nltk_data]    |     /Users/jghosh2/nltk_data...\n",
      "[nltk_data]    |   Package gutenberg is already up-to-date!\n",
      "[nltk_data]    | Downloading package inaugural to\n",
      "[nltk_data]    |     /Users/jghosh2/nltk_data...\n",
      "[nltk_data]    |   Package inaugural is already up-to-date!\n",
      "[nltk_data]    | Downloading package movie_reviews to\n",
      "[nltk_data]    |     /Users/jghosh2/nltk_data...\n",
      "[nltk_data]    |   Package movie_reviews is already up-to-date!\n",
      "[nltk_data]    | Downloading package names to\n",
      "[nltk_data]    |     /Users/jghosh2/nltk_data...\n",
      "[nltk_data]    |   Package names is already up-to-date!\n",
      "[nltk_data]    | Downloading package shakespeare to\n",
      "[nltk_data]    |     /Users/jghosh2/nltk_data...\n",
      "[nltk_data]    |   Package shakespeare is already up-to-date!\n",
      "[nltk_data]    | Downloading package stopwords to\n",
      "[nltk_data]    |     /Users/jghosh2/nltk_data...\n",
      "[nltk_data]    |   Package stopwords is already up-to-date!\n",
      "[nltk_data]    | Downloading package treebank to\n",
      "[nltk_data]    |     /Users/jghosh2/nltk_data...\n",
      "[nltk_data]    |   Package treebank is already up-to-date!\n",
      "[nltk_data]    | Downloading package twitter_samples to\n",
      "[nltk_data]    |     /Users/jghosh2/nltk_data...\n",
      "[nltk_data]    |   Package twitter_samples is already up-to-date!\n",
      "[nltk_data]    | Downloading package omw to\n",
      "[nltk_data]    |     /Users/jghosh2/nltk_data...\n",
      "[nltk_data]    |   Package omw is already up-to-date!\n",
      "[nltk_data]    | Downloading package omw-1.4 to\n",
      "[nltk_data]    |     /Users/jghosh2/nltk_data...\n",
      "[nltk_data]    |   Package omw-1.4 is already up-to-date!\n",
      "[nltk_data]    | Downloading package wordnet to\n",
      "[nltk_data]    |     /Users/jghosh2/nltk_data...\n",
      "[nltk_data]    |   Package wordnet is already up-to-date!\n",
      "[nltk_data]    | Downloading package wordnet2021 to\n",
      "[nltk_data]    |     /Users/jghosh2/nltk_data...\n",
      "[nltk_data]    |   Package wordnet2021 is already up-to-date!\n",
      "[nltk_data]    | Downloading package wordnet31 to\n",
      "[nltk_data]    |     /Users/jghosh2/nltk_data...\n",
      "[nltk_data]    |   Package wordnet31 is already up-to-date!\n",
      "[nltk_data]    | Downloading package wordnet_ic to\n",
      "[nltk_data]    |     /Users/jghosh2/nltk_data...\n",
      "[nltk_data]    |   Package wordnet_ic is already up-to-date!\n",
      "[nltk_data]    | Downloading package words to\n",
      "[nltk_data]    |     /Users/jghosh2/nltk_data...\n",
      "[nltk_data]    |   Package words is already up-to-date!\n",
      "[nltk_data]    | Downloading package maxent_ne_chunker to\n",
      "[nltk_data]    |     /Users/jghosh2/nltk_data...\n",
      "[nltk_data]    |   Package maxent_ne_chunker is already up-to-date!\n",
      "[nltk_data]    | Downloading package punkt to\n",
      "[nltk_data]    |     /Users/jghosh2/nltk_data...\n",
      "[nltk_data]    |   Package punkt is already up-to-date!\n",
      "[nltk_data]    | Downloading package snowball_data to\n",
      "[nltk_data]    |     /Users/jghosh2/nltk_data...\n",
      "[nltk_data]    |   Package snowball_data is already up-to-date!\n",
      "[nltk_data]    | Downloading package averaged_perceptron_tagger to\n",
      "[nltk_data]    |     /Users/jghosh2/nltk_data...\n",
      "[nltk_data]    |   Package averaged_perceptron_tagger is already up-\n",
      "[nltk_data]    |       to-date!\n",
      "[nltk_data]    | \n",
      "[nltk_data]  Done downloading collection popular\n",
      "[nltk_data] Downloading package stopwords to\n",
      "[nltk_data]     /Users/jghosh2/nltk_data...\n",
      "[nltk_data]   Package stopwords is already up-to-date!\n"
     ]
    },
    {
     "data": {
      "text/plain": [
       "True"
      ]
     },
     "execution_count": 66,
     "metadata": {},
     "output_type": "execute_result"
    }
   ],
   "source": [
    "import os\n",
    "import re\n",
    "import pandas as pd\n",
    "import numpy as np\n",
    "import ssl\n",
    "try:\n",
    "    _create_unverified_https_context = ssl._create_unverified_context\n",
    "except AttributeError:\n",
    "    pass\n",
    "else:\n",
    "    ssl._create_default_https_context = _create_unverified_https_context\n",
    "import json\n",
    "\n",
    "import re\n",
    "from sklearn.feature_extraction.text import TfidfTransformer, CountVectorizer\n",
    "from sklearn.naive_bayes import MultinomialNB\n",
    "from sklearn.pipeline import Pipeline\n",
    "from scipy.special import comb \n",
    "from sklearn.model_selection import train_test_split\n",
    "from sklearn.metrics import accuracy_score, precision_score, recall_score, f1_score, roc_curve, auc, confusion_matrix\n",
    "from sklearn.pipeline import Pipeline\n",
    "import nltk\n",
    "from nltk.corpus import stopwords\n",
    "from nltk.stem import WordNetLemmatizer \n",
    "from nltk.corpus import wordnet\n",
    "import string\n",
    "from sklearn.svm import LinearSVC\n",
    "nltk.download('popular')\n",
    "nltk.download('stopwords')"
   ]
  },
  {
   "cell_type": "code",
   "execution_count": 67,
   "id": "c0832d30",
   "metadata": {},
   "outputs": [],
   "source": [
    "df1 = pd.read_csv('/Users/jghosh2/Documents/my-notebook/Tax_ml_poc/data/historical_data/Taxml_Integers_Verified_12-11.csv', index_col=None, header=0,dtype={'item_name': str,'merchant_type_analytics':str},usecols=['item_name','merchant_type_analytics'])\n",
    "df2 = pd.read_csv('/Users/jghosh2/Documents/my-notebook/Tax_ml_poc/data/historical_data/historical_data_v1.csv', index_col=None, header=0,dtype={'item_name': str, 'description': str,'establishment_type': str, 'target_new':str},usecols=['UniqueUUID','item_name','description','establishment_type','target_new'])\n"
   ]
  },
  {
   "cell_type": "code",
   "execution_count": 89,
   "id": "41d00176",
   "metadata": {},
   "outputs": [
    {
     "data": {
      "text/plain": [
       "CAT_LIQUOR:535                           50774\n",
       "CAT_TPP:531                              34822\n",
       "CAT_PREPARED_FOOD,TEMP_HEATED:101,1      34764\n",
       "CAT_WINE:534                             24863\n",
       "CAT_BEER:533                             22057\n",
       "                                         ...  \n",
       "CAT_PREPACKAGED_FOOD_TOMATO_PUREE:745        3\n",
       "CAT_PRESCRIPTION_DRUGS:520                   2\n",
       "CAT_POSTAGE:527                              2\n",
       "CAT_NEWSPAPERS:538                           1\n",
       "CAT_OIL:778                                  1\n",
       "Name: target_new, Length: 178, dtype: int64"
      ]
     },
     "execution_count": 89,
     "metadata": {},
     "output_type": "execute_result"
    }
   ],
   "source": [
    "df2['target_new'].value_counts()"
   ]
  },
  {
   "cell_type": "code",
   "execution_count": 17,
   "id": "be8e2a49",
   "metadata": {},
   "outputs": [],
   "source": [
    "df3=df2.merge(df1, on='item_name', how='left')"
   ]
  },
  {
   "cell_type": "code",
   "execution_count": 18,
   "id": "8179a29d",
   "metadata": {},
   "outputs": [
    {
     "data": {
      "text/plain": [
       "MERCHANT_TYPE_LIQUOR            135061\n",
       "MERCHANT_TYPE_ESSENTIALS         45314\n",
       "MERCHANT_TYPE_RETAIL             14395\n",
       "MERCHANT_TYPE_GROCERY            11756\n",
       "MERCHANT_TYPE_SPECIALTY_FOOD      6032\n",
       "MERCHANT_TYPE_PHARMACY            4949\n",
       "MERCHANT_TYPE_PET_SUPPLY          3447\n",
       "MERCHANT_TYPE_FLOWER              2400\n",
       "MERCHANT_TYPE_RESTAURANT          1865\n",
       "Name: merchant_type_analytics, dtype: int64"
      ]
     },
     "execution_count": 18,
     "metadata": {},
     "output_type": "execute_result"
    }
   ],
   "source": [
    "df3['merchant_type_analytics'].value_counts()"
   ]
  },
  {
   "cell_type": "code",
   "execution_count": 19,
   "id": "ba006e25",
   "metadata": {},
   "outputs": [
    {
     "data": {
      "text/plain": [
       "(178075, 2)"
      ]
     },
     "execution_count": 19,
     "metadata": {},
     "output_type": "execute_result"
    }
   ],
   "source": [
    "df1.shape"
   ]
  },
  {
   "cell_type": "code",
   "execution_count": 20,
   "id": "c0a01ad5",
   "metadata": {},
   "outputs": [
    {
     "data": {
      "text/plain": [
       "(381051, 5)"
      ]
     },
     "execution_count": 20,
     "metadata": {},
     "output_type": "execute_result"
    }
   ],
   "source": [
    "df2.shape"
   ]
  },
  {
   "cell_type": "code",
   "execution_count": 21,
   "id": "57ced62a",
   "metadata": {},
   "outputs": [
    {
     "data": {
      "text/plain": [
       "(443592, 6)"
      ]
     },
     "execution_count": 21,
     "metadata": {},
     "output_type": "execute_result"
    }
   ],
   "source": [
    "df3.shape"
   ]
  },
  {
   "cell_type": "code",
   "execution_count": 23,
   "id": "cbc5645a",
   "metadata": {},
   "outputs": [
    {
     "name": "stdout",
     "output_type": "stream",
     "text": [
      "<class 'pandas.core.frame.DataFrame'>\n",
      "Int64Index: 443592 entries, 0 to 443591\n",
      "Data columns (total 6 columns):\n",
      " #   Column                   Non-Null Count   Dtype \n",
      "---  ------                   --------------   ----- \n",
      " 0   UniqueUUID               443592 non-null  object\n",
      " 1   item_name                443589 non-null  object\n",
      " 2   description              317632 non-null  object\n",
      " 3   establishment_type       443592 non-null  object\n",
      " 4   target_new               443592 non-null  object\n",
      " 5   merchant_type_analytics  225219 non-null  object\n",
      "dtypes: object(6)\n",
      "memory usage: 23.7+ MB\n"
     ]
    }
   ],
   "source": [
    "df3.info()"
   ]
  },
  {
   "cell_type": "code",
   "execution_count": 25,
   "id": "fbe3d832",
   "metadata": {},
   "outputs": [
    {
     "data": {
      "text/plain": [
       "218373"
      ]
     },
     "execution_count": 25,
     "metadata": {},
     "output_type": "execute_result"
    }
   ],
   "source": [
    "df3['merchant_type_analytics'].isnull().sum()"
   ]
  },
  {
   "cell_type": "code",
   "execution_count": 26,
   "id": "1590767a",
   "metadata": {},
   "outputs": [
    {
     "data": {
      "text/html": [
       "<div>\n",
       "<style scoped>\n",
       "    .dataframe tbody tr th:only-of-type {\n",
       "        vertical-align: middle;\n",
       "    }\n",
       "\n",
       "    .dataframe tbody tr th {\n",
       "        vertical-align: top;\n",
       "    }\n",
       "\n",
       "    .dataframe thead th {\n",
       "        text-align: right;\n",
       "    }\n",
       "</style>\n",
       "<table border=\"1\" class=\"dataframe\">\n",
       "  <thead>\n",
       "    <tr style=\"text-align: right;\">\n",
       "      <th></th>\n",
       "      <th>UniqueUUID</th>\n",
       "      <th>item_name</th>\n",
       "      <th>description</th>\n",
       "      <th>establishment_type</th>\n",
       "      <th>target_new</th>\n",
       "      <th>merchant_type_analytics</th>\n",
       "    </tr>\n",
       "  </thead>\n",
       "  <tbody>\n",
       "    <tr>\n",
       "      <th>0</th>\n",
       "      <td>\\n</td>\n",
       "      <td>#1 Mix: 6 Classic/6 Deluxe Donuts</td>\n",
       "      <td>6 Classics and 6 Deluxe Donuts. Please only re...</td>\n",
       "      <td>BAKERY</td>\n",
       "      <td>CAT_PREPARED_FOOD,TEMP_HEATED:101,1</td>\n",
       "      <td>MERCHANT_TYPE_SPECIALTY_FOOD</td>\n",
       "    </tr>\n",
       "    <tr>\n",
       "      <th>1</th>\n",
       "      <td>\\n</td>\n",
       "      <td>#2 Mix: 6 Classic/4 Deluxe/2 Fancy Donuts</td>\n",
       "      <td>6 Classics, 4 Deluxe and 2 Fancy Donuts. Pleas...</td>\n",
       "      <td>BAKERY</td>\n",
       "      <td>CAT_PREPARED_FOOD,TEMP_HEATED:101,1</td>\n",
       "      <td>MERCHANT_TYPE_SPECIALTY_FOOD</td>\n",
       "    </tr>\n",
       "    <tr>\n",
       "      <th>2</th>\n",
       "      <td>\\n</td>\n",
       "      <td>#3 Mix: 6 Classic/4 Deluxe/2 Premium Donuts</td>\n",
       "      <td>6 Classics, 4 Deluxe and 2 Premium donuts. Ple...</td>\n",
       "      <td>BAKERY</td>\n",
       "      <td>CAT_PREPARED_FOOD,TEMP_HEATED:101,1</td>\n",
       "      <td>MERCHANT_TYPE_SPECIALTY_FOOD</td>\n",
       "    </tr>\n",
       "    <tr>\n",
       "      <th>3</th>\n",
       "      <td>\\n</td>\n",
       "      <td>#4 Mix: 3 Classic/3 Deluxe/3 Fancy/3 Premium D...</td>\n",
       "      <td>3 Classics, 3 Deluxe, 3 Fancy and 3 Premium do...</td>\n",
       "      <td>BAKERY</td>\n",
       "      <td>CAT_PREPARED_FOOD,TEMP_HEATED:101,1</td>\n",
       "      <td>MERCHANT_TYPE_SPECIALTY_FOOD</td>\n",
       "    </tr>\n",
       "    <tr>\n",
       "      <th>4</th>\n",
       "      <td>\\n</td>\n",
       "      <td>1. Chicken Chow Mein Lunch Special</td>\n",
       "      <td>Served with pork fried rice, and either egg dr...</td>\n",
       "      <td>RESTAURANT</td>\n",
       "      <td>CAT_PREPARED_FOOD,TEMP_HEATED:101,1</td>\n",
       "      <td>MERCHANT_TYPE_LIQUOR</td>\n",
       "    </tr>\n",
       "    <tr>\n",
       "      <th>...</th>\n",
       "      <td>...</td>\n",
       "      <td>...</td>\n",
       "      <td>...</td>\n",
       "      <td>...</td>\n",
       "      <td>...</td>\n",
       "      <td>...</td>\n",
       "    </tr>\n",
       "    <tr>\n",
       "      <th>443587</th>\n",
       "      <td>\\n</td>\n",
       "      <td>Joy · Ice Cream Cups (48 cups)</td>\n",
       "      <td>48 cups</td>\n",
       "      <td>GROCERY</td>\n",
       "      <td>CAT_CANDY,TRAIT_FLOUR,TEMP_COLD:108,61,3</td>\n",
       "      <td>NaN</td>\n",
       "    </tr>\n",
       "    <tr>\n",
       "      <th>443588</th>\n",
       "      <td>\\n</td>\n",
       "      <td>Fresh Michellada Mix (16 oz)</td>\n",
       "      <td>Fresh michellada mix in 4 choices of flavor. U...</td>\n",
       "      <td>CONVENIENCE</td>\n",
       "      <td>CAT_PREPARED_DRINK,TEMP_UNHEATED:114,2</td>\n",
       "      <td>NaN</td>\n",
       "    </tr>\n",
       "    <tr>\n",
       "      <th>443589</th>\n",
       "      <td>\\n</td>\n",
       "      <td>Clamato</td>\n",
       "      <td>Clam and tomato juice beverage used to make cl...</td>\n",
       "      <td>CONVENIENCE</td>\n",
       "      <td>CAT_JUICE,TRAIT_PCT_100,TEMP_COLD:110,51,3</td>\n",
       "      <td>MERCHANT_TYPE_LIQUOR</td>\n",
       "    </tr>\n",
       "    <tr>\n",
       "      <th>443590</th>\n",
       "      <td>\\n</td>\n",
       "      <td>Clamato</td>\n",
       "      <td>Clam and tomato juice beverage used to make cl...</td>\n",
       "      <td>CONVENIENCE</td>\n",
       "      <td>CAT_JUICE,TRAIT_PCT_100,TEMP_COLD:110,51,3</td>\n",
       "      <td>MERCHANT_TYPE_LIQUOR</td>\n",
       "    </tr>\n",
       "    <tr>\n",
       "      <th>443591</th>\n",
       "      <td>\\n</td>\n",
       "      <td>Rumple Minze Peppermint Schnapps (750 mL)</td>\n",
       "      <td>If you like it strong you've come to the right...</td>\n",
       "      <td>LIQUOR</td>\n",
       "      <td>CAT_SOFT_DRINK,CONTAINER_BOTTLED,TEMP_COLD:112...</td>\n",
       "      <td>NaN</td>\n",
       "    </tr>\n",
       "  </tbody>\n",
       "</table>\n",
       "<p>443592 rows × 6 columns</p>\n",
       "</div>"
      ],
      "text/plain": [
       "       UniqueUUID                                          item_name  \\\n",
       "0              \\n                  #1 Mix: 6 Classic/6 Deluxe Donuts   \n",
       "1              \\n          #2 Mix: 6 Classic/4 Deluxe/2 Fancy Donuts   \n",
       "2              \\n       #3 Mix: 6 Classic/4 Deluxe/2 Premium Donuts    \n",
       "3              \\n  #4 Mix: 3 Classic/3 Deluxe/3 Fancy/3 Premium D...   \n",
       "4              \\n                 1. Chicken Chow Mein Lunch Special   \n",
       "...           ...                                                ...   \n",
       "443587         \\n                     Joy · Ice Cream Cups (48 cups)   \n",
       "443588         \\n                       Fresh Michellada Mix (16 oz)   \n",
       "443589         \\n                                            Clamato   \n",
       "443590         \\n                                            Clamato   \n",
       "443591         \\n          Rumple Minze Peppermint Schnapps (750 mL)   \n",
       "\n",
       "                                              description establishment_type  \\\n",
       "0       6 Classics and 6 Deluxe Donuts. Please only re...             BAKERY   \n",
       "1       6 Classics, 4 Deluxe and 2 Fancy Donuts. Pleas...             BAKERY   \n",
       "2       6 Classics, 4 Deluxe and 2 Premium donuts. Ple...             BAKERY   \n",
       "3       3 Classics, 3 Deluxe, 3 Fancy and 3 Premium do...             BAKERY   \n",
       "4       Served with pork fried rice, and either egg dr...         RESTAURANT   \n",
       "...                                                   ...                ...   \n",
       "443587                                            48 cups            GROCERY   \n",
       "443588  Fresh michellada mix in 4 choices of flavor. U...        CONVENIENCE   \n",
       "443589  Clam and tomato juice beverage used to make cl...        CONVENIENCE   \n",
       "443590  Clam and tomato juice beverage used to make cl...        CONVENIENCE   \n",
       "443591  If you like it strong you've come to the right...             LIQUOR   \n",
       "\n",
       "                                               target_new  \\\n",
       "0                     CAT_PREPARED_FOOD,TEMP_HEATED:101,1   \n",
       "1                     CAT_PREPARED_FOOD,TEMP_HEATED:101,1   \n",
       "2                     CAT_PREPARED_FOOD,TEMP_HEATED:101,1   \n",
       "3                     CAT_PREPARED_FOOD,TEMP_HEATED:101,1   \n",
       "4                     CAT_PREPARED_FOOD,TEMP_HEATED:101,1   \n",
       "...                                                   ...   \n",
       "443587           CAT_CANDY,TRAIT_FLOUR,TEMP_COLD:108,61,3   \n",
       "443588             CAT_PREPARED_DRINK,TEMP_UNHEATED:114,2   \n",
       "443589         CAT_JUICE,TRAIT_PCT_100,TEMP_COLD:110,51,3   \n",
       "443590         CAT_JUICE,TRAIT_PCT_100,TEMP_COLD:110,51,3   \n",
       "443591  CAT_SOFT_DRINK,CONTAINER_BOTTLED,TEMP_COLD:112...   \n",
       "\n",
       "             merchant_type_analytics  \n",
       "0       MERCHANT_TYPE_SPECIALTY_FOOD  \n",
       "1       MERCHANT_TYPE_SPECIALTY_FOOD  \n",
       "2       MERCHANT_TYPE_SPECIALTY_FOOD  \n",
       "3       MERCHANT_TYPE_SPECIALTY_FOOD  \n",
       "4               MERCHANT_TYPE_LIQUOR  \n",
       "...                              ...  \n",
       "443587                           NaN  \n",
       "443588                           NaN  \n",
       "443589          MERCHANT_TYPE_LIQUOR  \n",
       "443590          MERCHANT_TYPE_LIQUOR  \n",
       "443591                           NaN  \n",
       "\n",
       "[443592 rows x 6 columns]"
      ]
     },
     "execution_count": 26,
     "metadata": {},
     "output_type": "execute_result"
    }
   ],
   "source": [
    "df3"
   ]
  },
  {
   "cell_type": "code",
   "execution_count": 80,
   "id": "2ac5839d",
   "metadata": {},
   "outputs": [],
   "source": [
    "production_data=pd.read_csv('/Users/jghosh2/Documents/my-notebook/Tax_ml_poc/data/production_data/production_data.csv')"
   ]
  },
  {
   "cell_type": "code",
   "execution_count": 81,
   "id": "833dce25",
   "metadata": {},
   "outputs": [
    {
     "data": {
      "text/plain": [
       "(1048575, 5)"
      ]
     },
     "execution_count": 81,
     "metadata": {},
     "output_type": "execute_result"
    }
   ],
   "source": [
    "production_data.shape"
   ]
  },
  {
   "cell_type": "code",
   "execution_count": 82,
   "id": "d73edd30",
   "metadata": {},
   "outputs": [],
   "source": [
    "def preprocess_text(message):\n",
    "\n",
    "    #stopwords\n",
    "    stpwrd = nltk.corpus.stopwords.words('english')\n",
    "    lemmatizer = WordNetLemmatizer()\n",
    "    message=message.lower()\n",
    "    message = re.sub(r'-',' ', message)\n",
    "    #removing the numerical values and working only with text values\n",
    "    message = re.sub('[^a-zA-Z]', \" \", message)\n",
    "    #lowering and removing punctuation\n",
    "    message = re.sub(r'[^\\w\\s]',' ',message)\n",
    "    #removing the stopwords\n",
    "    message = ' '.join([word for word in message.split() if word not in stpwrd])\n",
    "    #lemmatizing the text\n",
    "    message =  \" \".join([lemmatizer.lemmatize(w) for w in nltk.word_tokenize(message) if w not in string.punctuation])\n",
    "    return message"
   ]
  },
  {
   "cell_type": "code",
   "execution_count": 90,
   "id": "9f9073fc",
   "metadata": {},
   "outputs": [],
   "source": [
    "# combine the columns Item, Description and establishment_type into one column 'combined_text'\n",
    "df2['combined_text'] = df2[['item_name','description','establishment_type']].apply(lambda x: ' '.join(x[x.notnull()]), axis = 1)\n",
    "# apply data preprocessing steps on the prepared column\n",
    "df2['processed_text']= df2['combined_text'].map(lambda s:preprocess_text(s)) \n",
    "\n",
    "df2 = df2.reset_index(drop=True)\n",
    "# prepare the target column by combining 'Agent Corrected CAT Name' and 'Agent Corrected Integer'\n",
    "\n",
    "df7=df2.drop_duplicates(subset=['processed_text','target_new'],keep='first')"
   ]
  },
  {
   "cell_type": "code",
   "execution_count": 91,
   "id": "b25144e0",
   "metadata": {},
   "outputs": [
    {
     "data": {
      "text/plain": [
       "(337168, 7)"
      ]
     },
     "execution_count": 91,
     "metadata": {},
     "output_type": "execute_result"
    }
   ],
   "source": [
    "df7.shape"
   ]
  },
  {
   "cell_type": "code",
   "execution_count": 94,
   "id": "881cd0f2",
   "metadata": {},
   "outputs": [],
   "source": [
    "d=df7.drop(columns='combined_text')"
   ]
  },
  {
   "cell_type": "code",
   "execution_count": 95,
   "id": "96fb8e0f",
   "metadata": {},
   "outputs": [],
   "source": [
    "d.to_csv('historical_data_v1.csv')"
   ]
  },
  {
   "cell_type": "code",
   "execution_count": 96,
   "id": "dad9e609",
   "metadata": {},
   "outputs": [
    {
     "data": {
      "text/plain": [
       "(337168, 6)"
      ]
     },
     "execution_count": 96,
     "metadata": {},
     "output_type": "execute_result"
    }
   ],
   "source": [
    "d.shape"
   ]
  },
  {
   "cell_type": "code",
   "execution_count": 59,
   "id": "88efb7d3",
   "metadata": {},
   "outputs": [
    {
     "name": "stdout",
     "output_type": "stream",
     "text": [
      "<class 'pandas.core.frame.DataFrame'>\n",
      "RangeIndex: 924117 entries, 0 to 924116\n",
      "Data columns (total 2 columns):\n",
      " #   Column       Non-Null Count   Dtype \n",
      "---  ------       --------------   ----- \n",
      " 0   item_name    924117 non-null  object\n",
      " 1   description  924117 non-null  object\n",
      "dtypes: object(2)\n",
      "memory usage: 14.1+ MB\n"
     ]
    }
   ],
   "source": [
    "df5.info()"
   ]
  },
  {
   "cell_type": "code",
   "execution_count": 38,
   "id": "e852b53f",
   "metadata": {},
   "outputs": [],
   "source": [
    "df5=pd.read_csv('/Users/jghosh2/Documents/my-notebook/Tax_ml_poc/data/production_data/combinedlatestdata.csv',usecols=['item_name','description'])"
   ]
  },
  {
   "cell_type": "code",
   "execution_count": 46,
   "id": "b60b04a5",
   "metadata": {},
   "outputs": [],
   "source": [
    "df6=df4.merge(df5, on='item_name', how='left')"
   ]
  },
  {
   "cell_type": "code",
   "execution_count": 47,
   "id": "60de12f6",
   "metadata": {},
   "outputs": [
    {
     "data": {
      "text/html": [
       "<div>\n",
       "<style scoped>\n",
       "    .dataframe tbody tr th:only-of-type {\n",
       "        vertical-align: middle;\n",
       "    }\n",
       "\n",
       "    .dataframe tbody tr th {\n",
       "        vertical-align: top;\n",
       "    }\n",
       "\n",
       "    .dataframe thead th {\n",
       "        text-align: right;\n",
       "    }\n",
       "</style>\n",
       "<table border=\"1\" class=\"dataframe\">\n",
       "  <thead>\n",
       "    <tr style=\"text-align: right;\">\n",
       "      <th></th>\n",
       "      <th>UniqueUUID</th>\n",
       "      <th>item_name</th>\n",
       "      <th>description_x</th>\n",
       "      <th>establishment_type</th>\n",
       "      <th>target_new</th>\n",
       "      <th>description_y</th>\n",
       "    </tr>\n",
       "  </thead>\n",
       "  <tbody>\n",
       "    <tr>\n",
       "      <th>0</th>\n",
       "      <td>0c1c07dd-71c4-547e-b3c7-7c8e818daff9:3b5ff8bf-...</td>\n",
       "      <td>Thin Crust Pizza (Unbaked)</td>\n",
       "      <td>Choose from a variety of unbaked thin crust pi...</td>\n",
       "      <td>CONVENIENCE</td>\n",
       "      <td>CAT_PREPACKAGED_FOOD,TEMP_COLD:106,3</td>\n",
       "      <td>NaN</td>\n",
       "    </tr>\n",
       "    <tr>\n",
       "      <th>1</th>\n",
       "      <td>0c1c07dd-71c4-547e-b3c7-7c8e818daff9:b1372e57-...</td>\n",
       "      <td>Kemp's Heavy Wipping Cream</td>\n",
       "      <td>NaN</td>\n",
       "      <td>CONVENIENCE</td>\n",
       "      <td>CAT_PREPACKAGED_FOOD,TEMP_COLD:106,3</td>\n",
       "      <td>NaN</td>\n",
       "    </tr>\n",
       "    <tr>\n",
       "      <th>2</th>\n",
       "      <td>0c1c07dd-71c4-547e-b3c7-7c8e818daff9:c8e68a97-...</td>\n",
       "      <td>Betty Crocker Yellow Cake Mix</td>\n",
       "      <td>NaN</td>\n",
       "      <td>CONVENIENCE</td>\n",
       "      <td>CAT_PREPACKAGED_FOOD,TEMP_COLD:106,3</td>\n",
       "      <td>NaN</td>\n",
       "    </tr>\n",
       "    <tr>\n",
       "      <th>3</th>\n",
       "      <td>0c1c07dd-71c4-547e-b3c7-7c8e818daff9:96a84d13-...</td>\n",
       "      <td>Oh Snap Pickles</td>\n",
       "      <td>Choose between Hottie Bites and Dilly Bites</td>\n",
       "      <td>CONVENIENCE</td>\n",
       "      <td>CAT_PREPARED_FOOD,TEMP_HEATED:101,1</td>\n",
       "      <td>NaN</td>\n",
       "    </tr>\n",
       "    <tr>\n",
       "      <th>4</th>\n",
       "      <td>0c1c07dd-71c4-547e-b3c7-7c8e818daff9:7b8ffb92-...</td>\n",
       "      <td>Garlic Cloves</td>\n",
       "      <td>NaN</td>\n",
       "      <td>CONVENIENCE</td>\n",
       "      <td>CAT_PREPACKAGED_FOOD,TEMP_COLD:106,3</td>\n",
       "      <td>NaN</td>\n",
       "    </tr>\n",
       "    <tr>\n",
       "      <th>...</th>\n",
       "      <td>...</td>\n",
       "      <td>...</td>\n",
       "      <td>...</td>\n",
       "      <td>...</td>\n",
       "      <td>...</td>\n",
       "      <td>...</td>\n",
       "    </tr>\n",
       "    <tr>\n",
       "      <th>1060872</th>\n",
       "      <td>0b0f67f3-de4b-53a4-8bfe-2d2f3b292c3d</td>\n",
       "      <td>Skin republic Â· Hyaluronic acid + collagen fa...</td>\n",
       "      <td>25 mL</td>\n",
       "      <td>GROCERY</td>\n",
       "      <td>CAT_TPP_SKIN_CARE_PRODUCTS:818</td>\n",
       "      <td>NaN</td>\n",
       "    </tr>\n",
       "    <tr>\n",
       "      <th>1060873</th>\n",
       "      <td>de6ebc94-88a1-5a74-8743-31d2c057ae14</td>\n",
       "      <td>Garnier Â· Skinactive charcoal peel-off mask (...</td>\n",
       "      <td>This l i q u i d - t o - p e e l mask,formulat...</td>\n",
       "      <td>GROCERY</td>\n",
       "      <td>CAT_TPP_SKIN_CARE_PRODUCTS:818</td>\n",
       "      <td>NaN</td>\n",
       "    </tr>\n",
       "    <tr>\n",
       "      <th>1060874</th>\n",
       "      <td>449994ce-2db8-596a-b6b4-5328d597c63a</td>\n",
       "      <td>Skin republic Â· Foot peel mask (1 unit)</td>\n",
       "      <td>1 unit</td>\n",
       "      <td>GROCERY</td>\n",
       "      <td>CAT_TPP_SKIN_CARE_PRODUCTS:818</td>\n",
       "      <td>NaN</td>\n",
       "    </tr>\n",
       "    <tr>\n",
       "      <th>1060875</th>\n",
       "      <td>8fa5fab2-6cdc-57c9-a6dd-71472e00c0aa</td>\n",
       "      <td>SkinRepublic Â· Spots &amp; blemish face mask (1 u...</td>\n",
       "      <td>1 u nit</td>\n",
       "      <td>GROCERY</td>\n",
       "      <td>CAT_TPP_SKIN_CARE_PRODUCTS:818</td>\n",
       "      <td>NaN</td>\n",
       "    </tr>\n",
       "    <tr>\n",
       "      <th>1060876</th>\n",
       "      <td>73c82974-f49d-5d47-ad75-99bb87a42696</td>\n",
       "      <td>Freeman Feeling Beautiful Â· Dead sea minerals...</td>\n",
       "      <td>Unwind from the grid by treating skin to a muc...</td>\n",
       "      <td>GROCERY</td>\n",
       "      <td>CAT_TPP_SKIN_CARE_PRODUCTS:818</td>\n",
       "      <td>NaN</td>\n",
       "    </tr>\n",
       "  </tbody>\n",
       "</table>\n",
       "<p>1060877 rows × 6 columns</p>\n",
       "</div>"
      ],
      "text/plain": [
       "                                                UniqueUUID  \\\n",
       "0        0c1c07dd-71c4-547e-b3c7-7c8e818daff9:3b5ff8bf-...   \n",
       "1        0c1c07dd-71c4-547e-b3c7-7c8e818daff9:b1372e57-...   \n",
       "2        0c1c07dd-71c4-547e-b3c7-7c8e818daff9:c8e68a97-...   \n",
       "3        0c1c07dd-71c4-547e-b3c7-7c8e818daff9:96a84d13-...   \n",
       "4        0c1c07dd-71c4-547e-b3c7-7c8e818daff9:7b8ffb92-...   \n",
       "...                                                    ...   \n",
       "1060872               0b0f67f3-de4b-53a4-8bfe-2d2f3b292c3d   \n",
       "1060873               de6ebc94-88a1-5a74-8743-31d2c057ae14   \n",
       "1060874               449994ce-2db8-596a-b6b4-5328d597c63a   \n",
       "1060875               8fa5fab2-6cdc-57c9-a6dd-71472e00c0aa   \n",
       "1060876               73c82974-f49d-5d47-ad75-99bb87a42696   \n",
       "\n",
       "                                                 item_name  \\\n",
       "0                               Thin Crust Pizza (Unbaked)   \n",
       "1                               Kemp's Heavy Wipping Cream   \n",
       "2                            Betty Crocker Yellow Cake Mix   \n",
       "3                                          Oh Snap Pickles   \n",
       "4                                            Garlic Cloves   \n",
       "...                                                    ...   \n",
       "1060872  Skin republic Â· Hyaluronic acid + collagen fa...   \n",
       "1060873  Garnier Â· Skinactive charcoal peel-off mask (...   \n",
       "1060874           Skin republic Â· Foot peel mask (1 unit)   \n",
       "1060875  SkinRepublic Â· Spots & blemish face mask (1 u...   \n",
       "1060876  Freeman Feeling Beautiful Â· Dead sea minerals...   \n",
       "\n",
       "                                             description_x establishment_type  \\\n",
       "0        Choose from a variety of unbaked thin crust pi...        CONVENIENCE   \n",
       "1                                                      NaN        CONVENIENCE   \n",
       "2                                                      NaN        CONVENIENCE   \n",
       "3              Choose between Hottie Bites and Dilly Bites        CONVENIENCE   \n",
       "4                                                      NaN        CONVENIENCE   \n",
       "...                                                    ...                ...   \n",
       "1060872                                              25 mL            GROCERY   \n",
       "1060873  This l i q u i d - t o - p e e l mask,formulat...            GROCERY   \n",
       "1060874                                             1 unit            GROCERY   \n",
       "1060875                                            1 u nit            GROCERY   \n",
       "1060876  Unwind from the grid by treating skin to a muc...            GROCERY   \n",
       "\n",
       "                                   target_new description_y  \n",
       "0        CAT_PREPACKAGED_FOOD,TEMP_COLD:106,3           NaN  \n",
       "1        CAT_PREPACKAGED_FOOD,TEMP_COLD:106,3           NaN  \n",
       "2        CAT_PREPACKAGED_FOOD,TEMP_COLD:106,3           NaN  \n",
       "3         CAT_PREPARED_FOOD,TEMP_HEATED:101,1           NaN  \n",
       "4        CAT_PREPACKAGED_FOOD,TEMP_COLD:106,3           NaN  \n",
       "...                                       ...           ...  \n",
       "1060872        CAT_TPP_SKIN_CARE_PRODUCTS:818           NaN  \n",
       "1060873        CAT_TPP_SKIN_CARE_PRODUCTS:818           NaN  \n",
       "1060874        CAT_TPP_SKIN_CARE_PRODUCTS:818           NaN  \n",
       "1060875        CAT_TPP_SKIN_CARE_PRODUCTS:818           NaN  \n",
       "1060876        CAT_TPP_SKIN_CARE_PRODUCTS:818           NaN  \n",
       "\n",
       "[1060877 rows x 6 columns]"
      ]
     },
     "execution_count": 47,
     "metadata": {},
     "output_type": "execute_result"
    }
   ],
   "source": [
    "df6"
   ]
  },
  {
   "cell_type": "code",
   "execution_count": 53,
   "id": "179f92d6",
   "metadata": {},
   "outputs": [],
   "source": [
    "df7 = df6.loc[df6['description_y'].notnull()]"
   ]
  },
  {
   "cell_type": "code",
   "execution_count": 54,
   "id": "03d7bff3",
   "metadata": {},
   "outputs": [
    {
     "data": {
      "text/html": [
       "<div>\n",
       "<style scoped>\n",
       "    .dataframe tbody tr th:only-of-type {\n",
       "        vertical-align: middle;\n",
       "    }\n",
       "\n",
       "    .dataframe tbody tr th {\n",
       "        vertical-align: top;\n",
       "    }\n",
       "\n",
       "    .dataframe thead th {\n",
       "        text-align: right;\n",
       "    }\n",
       "</style>\n",
       "<table border=\"1\" class=\"dataframe\">\n",
       "  <thead>\n",
       "    <tr style=\"text-align: right;\">\n",
       "      <th></th>\n",
       "      <th>UniqueUUID</th>\n",
       "      <th>item_name</th>\n",
       "      <th>description_x</th>\n",
       "      <th>establishment_type</th>\n",
       "      <th>target_new</th>\n",
       "      <th>description_y</th>\n",
       "    </tr>\n",
       "  </thead>\n",
       "  <tbody>\n",
       "    <tr>\n",
       "      <th>11</th>\n",
       "      <td>0c1c07dd-71c4-547e-b3c7-7c8e818daff9:7c71bf50-...</td>\n",
       "      <td>Lettuce Head</td>\n",
       "      <td>NaN</td>\n",
       "      <td>CONVENIENCE</td>\n",
       "      <td>CAT_PREPACKAGED_FOOD,TEMP_COLD:106,3</td>\n",
       "      <td>Fresh Produce Fresh head of lettuce</td>\n",
       "    </tr>\n",
       "    <tr>\n",
       "      <th>12</th>\n",
       "      <td>0c1c07dd-71c4-547e-b3c7-7c8e818daff9:7c71bf50-...</td>\n",
       "      <td>Lettuce Head</td>\n",
       "      <td>NaN</td>\n",
       "      <td>CONVENIENCE</td>\n",
       "      <td>CAT_PREPACKAGED_FOOD,TEMP_COLD:106,3</td>\n",
       "      <td>Fresh Produce Fresh head of lettuce</td>\n",
       "    </tr>\n",
       "    <tr>\n",
       "      <th>15</th>\n",
       "      <td>0c1c07dd-71c4-547e-b3c7-7c8e818daff9:9f0c1df6-...</td>\n",
       "      <td>Skittles</td>\n",
       "      <td>Choose between Regular and King Size</td>\n",
       "      <td>CONVENIENCE</td>\n",
       "      <td>CAT_CANDY,TEMP_COLD:108,3</td>\n",
       "      <td>Candy</td>\n",
       "    </tr>\n",
       "    <tr>\n",
       "      <th>16</th>\n",
       "      <td>0c1c07dd-71c4-547e-b3c7-7c8e818daff9:9f0c1df6-...</td>\n",
       "      <td>Skittles</td>\n",
       "      <td>Choose between Regular and King Size</td>\n",
       "      <td>CONVENIENCE</td>\n",
       "      <td>CAT_CANDY,TEMP_COLD:108,3</td>\n",
       "      <td>Chocolates Candies \\N</td>\n",
       "    </tr>\n",
       "    <tr>\n",
       "      <th>17</th>\n",
       "      <td>0c1c07dd-71c4-547e-b3c7-7c8e818daff9:9f0c1df6-...</td>\n",
       "      <td>Skittles</td>\n",
       "      <td>Choose between Regular and King Size</td>\n",
       "      <td>CONVENIENCE</td>\n",
       "      <td>CAT_CANDY,TEMP_COLD:108,3</td>\n",
       "      <td>Beverages</td>\n",
       "    </tr>\n",
       "    <tr>\n",
       "      <th>...</th>\n",
       "      <td>...</td>\n",
       "      <td>...</td>\n",
       "      <td>...</td>\n",
       "      <td>...</td>\n",
       "      <td>...</td>\n",
       "      <td>...</td>\n",
       "    </tr>\n",
       "    <tr>\n",
       "      <th>988552</th>\n",
       "      <td>b7719a0e-1d65-5251-ad99-bfc4f6447b94</td>\n",
       "      <td>Pumpkin</td>\n",
       "      <td>1 unit (approx. 2 kg)</td>\n",
       "      <td>GROCERY</td>\n",
       "      <td>CAT_PREPACKAGED_FOOD_FRESH_FRUITS:752</td>\n",
       "      <td>Freshly Brewed Iced Coffee Contains: Pumpkin s...</td>\n",
       "    </tr>\n",
       "    <tr>\n",
       "      <th>988553</th>\n",
       "      <td>b7719a0e-1d65-5251-ad99-bfc4f6447b94</td>\n",
       "      <td>Pumpkin</td>\n",
       "      <td>1 unit (approx. 2 kg)</td>\n",
       "      <td>GROCERY</td>\n",
       "      <td>CAT_PREPACKAGED_FOOD_FRESH_FRUITS:752</td>\n",
       "      <td>Chai Teas Contains: Chai Base, Pumpkin sauce (...</td>\n",
       "    </tr>\n",
       "    <tr>\n",
       "      <th>988562</th>\n",
       "      <td>39fb9298-8040-5631-8a26-b0cf42c6d59d</td>\n",
       "      <td>Pumpkin</td>\n",
       "      <td>1 tray (approx. 200 g)</td>\n",
       "      <td>GROCERY</td>\n",
       "      <td>CAT_PREPACKAGED_FOOD_FRESH_FRUITS:752</td>\n",
       "      <td>Milkshakes Contains: Pumpkin sauce (1|2)</td>\n",
       "    </tr>\n",
       "    <tr>\n",
       "      <th>988563</th>\n",
       "      <td>39fb9298-8040-5631-8a26-b0cf42c6d59d</td>\n",
       "      <td>Pumpkin</td>\n",
       "      <td>1 tray (approx. 200 g)</td>\n",
       "      <td>GROCERY</td>\n",
       "      <td>CAT_PREPACKAGED_FOOD_FRESH_FRUITS:752</td>\n",
       "      <td>Freshly Brewed Iced Coffee Contains: Pumpkin s...</td>\n",
       "    </tr>\n",
       "    <tr>\n",
       "      <th>988564</th>\n",
       "      <td>39fb9298-8040-5631-8a26-b0cf42c6d59d</td>\n",
       "      <td>Pumpkin</td>\n",
       "      <td>1 tray (approx. 200 g)</td>\n",
       "      <td>GROCERY</td>\n",
       "      <td>CAT_PREPACKAGED_FOOD_FRESH_FRUITS:752</td>\n",
       "      <td>Chai Teas Contains: Chai Base, Pumpkin sauce (...</td>\n",
       "    </tr>\n",
       "  </tbody>\n",
       "</table>\n",
       "<p>14058 rows × 6 columns</p>\n",
       "</div>"
      ],
      "text/plain": [
       "                                               UniqueUUID     item_name  \\\n",
       "11      0c1c07dd-71c4-547e-b3c7-7c8e818daff9:7c71bf50-...  Lettuce Head   \n",
       "12      0c1c07dd-71c4-547e-b3c7-7c8e818daff9:7c71bf50-...  Lettuce Head   \n",
       "15      0c1c07dd-71c4-547e-b3c7-7c8e818daff9:9f0c1df6-...      Skittles   \n",
       "16      0c1c07dd-71c4-547e-b3c7-7c8e818daff9:9f0c1df6-...      Skittles   \n",
       "17      0c1c07dd-71c4-547e-b3c7-7c8e818daff9:9f0c1df6-...      Skittles   \n",
       "...                                                   ...           ...   \n",
       "988552               b7719a0e-1d65-5251-ad99-bfc4f6447b94       Pumpkin   \n",
       "988553               b7719a0e-1d65-5251-ad99-bfc4f6447b94       Pumpkin   \n",
       "988562               39fb9298-8040-5631-8a26-b0cf42c6d59d       Pumpkin   \n",
       "988563               39fb9298-8040-5631-8a26-b0cf42c6d59d       Pumpkin   \n",
       "988564               39fb9298-8040-5631-8a26-b0cf42c6d59d       Pumpkin   \n",
       "\n",
       "                               description_x establishment_type  \\\n",
       "11                                       NaN        CONVENIENCE   \n",
       "12                                       NaN        CONVENIENCE   \n",
       "15      Choose between Regular and King Size        CONVENIENCE   \n",
       "16      Choose between Regular and King Size        CONVENIENCE   \n",
       "17      Choose between Regular and King Size        CONVENIENCE   \n",
       "...                                      ...                ...   \n",
       "988552                 1 unit (approx. 2 kg)            GROCERY   \n",
       "988553                 1 unit (approx. 2 kg)            GROCERY   \n",
       "988562                1 tray (approx. 200 g)            GROCERY   \n",
       "988563                1 tray (approx. 200 g)            GROCERY   \n",
       "988564                1 tray (approx. 200 g)            GROCERY   \n",
       "\n",
       "                                   target_new  \\\n",
       "11       CAT_PREPACKAGED_FOOD,TEMP_COLD:106,3   \n",
       "12       CAT_PREPACKAGED_FOOD,TEMP_COLD:106,3   \n",
       "15                  CAT_CANDY,TEMP_COLD:108,3   \n",
       "16                  CAT_CANDY,TEMP_COLD:108,3   \n",
       "17                  CAT_CANDY,TEMP_COLD:108,3   \n",
       "...                                       ...   \n",
       "988552  CAT_PREPACKAGED_FOOD_FRESH_FRUITS:752   \n",
       "988553  CAT_PREPACKAGED_FOOD_FRESH_FRUITS:752   \n",
       "988562  CAT_PREPACKAGED_FOOD_FRESH_FRUITS:752   \n",
       "988563  CAT_PREPACKAGED_FOOD_FRESH_FRUITS:752   \n",
       "988564  CAT_PREPACKAGED_FOOD_FRESH_FRUITS:752   \n",
       "\n",
       "                                            description_y  \n",
       "11                    Fresh Produce Fresh head of lettuce  \n",
       "12                    Fresh Produce Fresh head of lettuce  \n",
       "15                                                 Candy   \n",
       "16                                  Chocolates Candies \\N  \n",
       "17                                             Beverages   \n",
       "...                                                   ...  \n",
       "988552  Freshly Brewed Iced Coffee Contains: Pumpkin s...  \n",
       "988553  Chai Teas Contains: Chai Base, Pumpkin sauce (...  \n",
       "988562           Milkshakes Contains: Pumpkin sauce (1|2)  \n",
       "988563  Freshly Brewed Iced Coffee Contains: Pumpkin s...  \n",
       "988564  Chai Teas Contains: Chai Base, Pumpkin sauce (...  \n",
       "\n",
       "[14058 rows x 6 columns]"
      ]
     },
     "execution_count": 54,
     "metadata": {},
     "output_type": "execute_result"
    }
   ],
   "source": [
    "df7"
   ]
  },
  {
   "cell_type": "code",
   "execution_count": null,
   "id": "be92348f",
   "metadata": {},
   "outputs": [],
   "source": []
  }
 ],
 "metadata": {
  "kernelspec": {
   "display_name": "Python 3",
   "language": "python",
   "name": "python3"
  },
  "language_info": {
   "codemirror_mode": {
    "name": "ipython",
    "version": 3
   },
   "file_extension": ".py",
   "mimetype": "text/x-python",
   "name": "python",
   "nbconvert_exporter": "python",
   "pygments_lexer": "ipython3",
   "version": "3.8.8"
  }
 },
 "nbformat": 4,
 "nbformat_minor": 5
}
