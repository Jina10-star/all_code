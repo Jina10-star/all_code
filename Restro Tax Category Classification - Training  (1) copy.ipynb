{
 "cells": [
  {
   "cell_type": "markdown",
   "id": "6aa18879",
   "metadata": {},
   "source": [
    "# <h1>Table of Contents<span class=\"tocSkip\"></span></h1>\n",
    "<div class=\"toc\"><ul class=\"toc-item\"><li><span><a href=\"#Import Requirements\" data-toc-modified-id=\"Import-Requirements-1\"><span class=\"toc-item-num\">1&nbsp;&nbsp;</span>Import Requirements</a></span></li><li><span><a href=\"#Prepare Training Data\" data-toc-modified-id=\"Prepare-Training-Data-2\"><span class=\"toc-item-num\">2&nbsp;&nbsp;</span>Prepare Training Data</a></span><ul class=\"toc-item\"></ul></li><li><span><a href=\"#Model Training\" data-toc-modified-id=\"Model Training-3\"><span class=\"toc-item-num\">3&nbsp;&nbsp;</span>Model Training</a></span></li><li><span><a href=\"#Model Saving\" data-toc-modified-id=\"Model Saving-4\"><span class=\"toc-item-num\">4&nbsp;&nbsp;</span>Model Saving</a></span><ul class=\"toc-item\"></ul></li><li><span><a href=\"#Validation and Results\" data-toc-modified-id=\"Validation and Results-6\"><span class=\"toc-item-num\">6&nbsp;&nbsp;</span>Validation and Results</a></span><ul class=\"toc-item\"></ul></div>"
   ]
  },
  {
   "cell_type": "markdown",
   "id": "eabe6d0d",
   "metadata": {},
   "source": [
    "<a id='Import Requirements'></a>"
   ]
  },
  {
   "cell_type": "markdown",
   "id": "b971b37a",
   "metadata": {},
   "source": [
    "# Import Requirements"
   ]
  },
  {
   "cell_type": "code",
   "execution_count": 1,
   "id": "ca994c06",
   "metadata": {},
   "outputs": [],
   "source": [
    "import pandas as pd\n",
    "import numpy as np\n",
    "import json\n",
    "import os\n",
    "import re\n",
    "from sklearn.feature_extraction.text import TfidfTransformer, CountVectorizer\n",
    "from sklearn.ensemble import RandomForestClassifier\n",
    "from sklearn.pipeline import Pipeline\n",
    "from sklearn.model_selection import train_test_split\n",
    "from sklearn.metrics import accuracy_score, precision_score, recall_score, f1_score, roc_curve, auc, confusion_matrix\n",
    "from sklearn.pipeline import Pipeline\n",
    "import nltk\n",
    "from nltk.corpus import stopwords\n",
    "from nltk.stem import WordNetLemmatizer \n",
    "from nltk.corpus import wordnet\n",
    "import string\n",
    "from sklearn.naive_bayes import MultinomialNB\n",
    "from collections import Counter\n",
    "from nltk.corpus import wordnet\n",
    "from nltk.stem import WordNetLemmatizer\n",
    "from nltk.tokenize import TweetTokenizer, RegexpTokenizer"
   ]
  },
  {
   "cell_type": "code",
   "execution_count": 2,
   "id": "d7577ef3",
   "metadata": {},
   "outputs": [
    {
     "data": {
      "text/plain": [
       "'1.3.5'"
      ]
     },
     "execution_count": 2,
     "metadata": {},
     "output_type": "execute_result"
    }
   ],
   "source": [
    "pd.__version__"
   ]
  },
  {
   "cell_type": "code",
   "execution_count": 150,
   "id": "ecb98b65",
   "metadata": {},
   "outputs": [],
   "source": [
    "#pd.set_option('max_rows',None)"
   ]
  },
  {
   "cell_type": "markdown",
   "id": "4342ccbd",
   "metadata": {},
   "source": [
    "<a id='Prepare Training Data'></a>"
   ]
  },
  {
   "cell_type": "markdown",
   "id": "03f4230c",
   "metadata": {},
   "source": [
    "# Prepare Training Data"
   ]
  },
  {
   "cell_type": "markdown",
   "id": "07b0d0ec",
   "metadata": {},
   "source": [
    "Input data for training consists of both historical data and CICD data( Production run data for which manual agent validation has been done for the ML prediction)"
   ]
  },
  {
   "cell_type": "code",
   "execution_count": 151,
   "id": "3244119d",
   "metadata": {},
   "outputs": [],
   "source": [
    "def preprocess_text(message):\n",
    "\n",
    "    #stopwords\n",
    "    stpwrd = nltk.corpus.stopwords.words('english')\n",
    "    #stpwrd.extend(new_stopwords)\n",
    "    # 1. Init Lemmatizer\n",
    "    lemmatizer = WordNetLemmatizer()\n",
    "    #lowering and removing punctuation\n",
    "    message = re.sub(r'[^\\w\\s]',' ', message.lower())\n",
    "    #removing the numerical values and working only with text values\n",
    "    message = re.sub('[^a-zA-Z]', \" \", message )\n",
    "    #removing the stopwords\n",
    "    message = ' '.join([word for word in message.split() if word not in stpwrd and len(word)>1])\n",
    "    #lemmatizing the text\n",
    "    message =  \" \".join([lemmatizer.lemmatize(w) for w in nltk.word_tokenize(message) if w not in string.punctuation])\n",
    "    return message"
   ]
  },
  {
   "cell_type": "code",
   "execution_count": 203,
   "id": "b77ea379",
   "metadata": {},
   "outputs": [],
   "source": [
    "del data_cicd_old"
   ]
  },
  {
   "cell_type": "code",
   "execution_count": 204,
   "id": "44ece9dd",
   "metadata": {},
   "outputs": [
    {
     "name": "stdout",
     "output_type": "stream",
     "text": [
      "(553860, 8)\n"
     ]
    },
    {
     "name": "stderr",
     "output_type": "stream",
     "text": [
      "/Users/mdevar2/opt/anaconda3/envs/py365/lib/python3.7/site-packages/IPython/core/interactiveshell.py:3553: DtypeWarning: Columns (10) have mixed types.Specify dtype option on import or set low_memory=False.\n",
      "  exec(code_obj, self.user_global_ns, self.user_ns)\n"
     ]
    }
   ],
   "source": [
    "#read input from cicd data into dataframe\n",
    "data_cicd_old=pd.read_csv('../data/Old Records Prod TaxML Restaurant-CICD - Prod_Data.csv', usecols = ['Item','Description','establishment_type','Confidence Score','Agent Corrected CAT Name', 'Agent Corrected Integer','CAT NAME_ ValidationScore [0-100]','Integer_ValidationScore[0-100]'])\n",
    "print(data_cicd_old.shape)"
   ]
  },
  {
   "cell_type": "code",
   "execution_count": 205,
   "id": "01fa98f9",
   "metadata": {},
   "outputs": [
    {
     "name": "stdout",
     "output_type": "stream",
     "text": [
      "<class 'pandas.core.frame.DataFrame'>\n",
      "RangeIndex: 553860 entries, 0 to 553859\n",
      "Data columns (total 8 columns):\n",
      " #   Column                             Non-Null Count   Dtype \n",
      "---  ------                             --------------   ----- \n",
      " 0   Item                               553856 non-null  object\n",
      " 1   Description                        399402 non-null  object\n",
      " 2   establishment_type                 553860 non-null  object\n",
      " 3   Confidence Score                   551349 non-null  object\n",
      " 4   Agent Corrected CAT Name           553675 non-null  object\n",
      " 5   Agent Corrected Integer            553675 non-null  object\n",
      " 6   CAT NAME_ ValidationScore [0-100]  553860 non-null  int64 \n",
      " 7   Integer_ValidationScore[0-100]     553860 non-null  int64 \n",
      "dtypes: int64(2), object(6)\n",
      "memory usage: 33.8+ MB\n"
     ]
    }
   ],
   "source": [
    "data_cicd_old.info()"
   ]
  },
  {
   "cell_type": "code",
   "execution_count": 206,
   "id": "1e886482",
   "metadata": {},
   "outputs": [
    {
     "name": "stdout",
     "output_type": "stream",
     "text": [
      "(410135, 8)\n"
     ]
    }
   ],
   "source": [
    "data_cicd_new=pd.read_csv('../data/TaxML Restaurant-CICD - Prod_Data (2).csv', usecols = ['Item','Description','establishment_type','Confidence Score','Agent Corrected CAT Name', 'Agent Corrected Integer','CAT NAME_ ValidationScore [0-100]','Integer_ValidationScore[0-100]'])\n",
    "print(data_cicd_new.shape)"
   ]
  },
  {
   "cell_type": "code",
   "execution_count": 207,
   "id": "2c68cdaa",
   "metadata": {},
   "outputs": [],
   "source": [
    "del data_cicd_combined"
   ]
  },
  {
   "cell_type": "code",
   "execution_count": 208,
   "id": "669a069d",
   "metadata": {},
   "outputs": [],
   "source": [
    "data_cicd_combined = pd.concat([data_cicd_old, data_cicd_new], join=\"outer\")"
   ]
  },
  {
   "cell_type": "code",
   "execution_count": 209,
   "id": "3fd8df9c",
   "metadata": {},
   "outputs": [
    {
     "name": "stdout",
     "output_type": "stream",
     "text": [
      "(963995, 8)\n"
     ]
    }
   ],
   "source": [
    "print(data_cicd_combined.shape)"
   ]
  },
  {
   "cell_type": "code",
   "execution_count": 210,
   "id": "051b410c",
   "metadata": {},
   "outputs": [
    {
     "name": "stdout",
     "output_type": "stream",
     "text": [
      "<class 'pandas.core.frame.DataFrame'>\n",
      "Int64Index: 963995 entries, 0 to 410134\n",
      "Data columns (total 8 columns):\n",
      " #   Column                             Non-Null Count   Dtype \n",
      "---  ------                             --------------   ----- \n",
      " 0   Item                               963987 non-null  object\n",
      " 1   Description                        711004 non-null  object\n",
      " 2   establishment_type                 963995 non-null  object\n",
      " 3   Confidence Score                   959435 non-null  object\n",
      " 4   Agent Corrected CAT Name           755779 non-null  object\n",
      " 5   Agent Corrected Integer            755017 non-null  object\n",
      " 6   CAT NAME_ ValidationScore [0-100]  963995 non-null  int64 \n",
      " 7   Integer_ValidationScore[0-100]     963995 non-null  int64 \n",
      "dtypes: int64(2), object(6)\n",
      "memory usage: 66.2+ MB\n"
     ]
    }
   ],
   "source": [
    "data_cicd_combined.info()"
   ]
  },
  {
   "cell_type": "code",
   "execution_count": 211,
   "id": "64eec8c5",
   "metadata": {},
   "outputs": [
    {
     "data": {
      "text/plain": [
       "Index(['Item', 'Description', 'establishment_type', 'Confidence Score',\n",
       "       'Agent Corrected CAT Name', 'Agent Corrected Integer',\n",
       "       'CAT NAME_ ValidationScore [0-100]', 'Integer_ValidationScore[0-100]'],\n",
       "      dtype='object')"
      ]
     },
     "execution_count": 211,
     "metadata": {},
     "output_type": "execute_result"
    }
   ],
   "source": [
    "data_cicd_combined.columns"
   ]
  },
  {
   "cell_type": "code",
   "execution_count": 212,
   "id": "6a65597c",
   "metadata": {},
   "outputs": [
    {
     "data": {
      "text/plain": [
       "122"
      ]
     },
     "execution_count": 212,
     "metadata": {},
     "output_type": "execute_result"
    }
   ],
   "source": [
    "data_cicd_combined['Agent Corrected CAT Name'].nunique()"
   ]
  },
  {
   "cell_type": "code",
   "execution_count": 213,
   "id": "4cac1a17",
   "metadata": {},
   "outputs": [
    {
     "name": "stdout",
     "output_type": "stream",
     "text": [
      "(601245, 8)\n"
     ]
    }
   ],
   "source": [
    "data_cicd_combined = data_cicd_combined.dropna(axis=0, subset=['Agent Corrected CAT Name'])\n",
    "data_cicd_combined = data_cicd_combined.drop(data_cicd_combined[data_cicd_combined['Agent Corrected CAT Name']=='#REF!'].index)\n",
    "data_cicd_combined = data_cicd_combined.drop(data_cicd_combined[data_cicd_combined['Agent Corrected CAT Name']=='TEMP_COLD'].index)\n",
    "print(data_cicd_combined.shape)"
   ]
  },
  {
   "cell_type": "code",
   "execution_count": 214,
   "id": "49e2be90",
   "metadata": {},
   "outputs": [
    {
     "data": {
      "text/plain": [
       "120"
      ]
     },
     "execution_count": 214,
     "metadata": {},
     "output_type": "execute_result"
    }
   ],
   "source": [
    "data_cicd_combined['Agent Corrected CAT Name'].nunique()"
   ]
  },
  {
   "cell_type": "code",
   "execution_count": 215,
   "id": "4dff2dc4",
   "metadata": {},
   "outputs": [
    {
     "name": "stdout",
     "output_type": "stream",
     "text": [
      "<class 'pandas.core.frame.DataFrame'>\n",
      "Int64Index: 601245 entries, 0 to 410133\n",
      "Data columns (total 8 columns):\n",
      " #   Column                             Non-Null Count   Dtype \n",
      "---  ------                             --------------   ----- \n",
      " 0   Item                               601242 non-null  object\n",
      " 1   Description                        439391 non-null  object\n",
      " 2   establishment_type                 601245 non-null  object\n",
      " 3   Confidence Score                   598459 non-null  object\n",
      " 4   Agent Corrected CAT Name           601245 non-null  object\n",
      " 5   Agent Corrected Integer            600520 non-null  object\n",
      " 6   CAT NAME_ ValidationScore [0-100]  601245 non-null  int64 \n",
      " 7   Integer_ValidationScore[0-100]     601245 non-null  int64 \n",
      "dtypes: int64(2), object(6)\n",
      "memory usage: 41.3+ MB\n"
     ]
    }
   ],
   "source": [
    "data_cicd_combined.info()"
   ]
  },
  {
   "cell_type": "code",
   "execution_count": 25,
   "id": "c9d8e887",
   "metadata": {
    "collapsed": true
   },
   "outputs": [
    {
     "ename": "ImportError",
     "evalue": "cannot import name 'ABCIndexClass' from 'pandas.core.dtypes.generic' (/Users/mdevar2/opt/anaconda3/envs/py365/lib/python3.7/site-packages/pandas/core/dtypes/generic.py)",
     "output_type": "error",
     "traceback": [
      "\u001b[0;31m---------------------------------------------------------------------------\u001b[0m",
      "\u001b[0;31mImportError\u001b[0m                               Traceback (most recent call last)",
      "\u001b[0;32m/var/folders/4m/9l0d0h395d16r79l8786hpc80000gn/T/ipykernel_85744/571264431.py\u001b[0m in \u001b[0;36m<module>\u001b[0;34m\u001b[0m\n\u001b[1;32m      1\u001b[0m \u001b[0mcicd_categories_beforemapping\u001b[0m\u001b[0;34m=\u001b[0m\u001b[0mdata_cicd_combined\u001b[0m\u001b[0;34m[\u001b[0m\u001b[0;34m'Agent Corrected CAT Name'\u001b[0m\u001b[0;34m]\u001b[0m\u001b[0;34m.\u001b[0m\u001b[0munique\u001b[0m\u001b[0;34m(\u001b[0m\u001b[0;34m)\u001b[0m\u001b[0;34m\u001b[0m\u001b[0;34m\u001b[0m\u001b[0m\n\u001b[1;32m      2\u001b[0m \u001b[0mcicd_categories_beforemapping\u001b[0m\u001b[0;34m=\u001b[0m\u001b[0mpd\u001b[0m\u001b[0;34m.\u001b[0m\u001b[0mSeries\u001b[0m\u001b[0;34m(\u001b[0m\u001b[0mcicd_categories_beforemapping\u001b[0m\u001b[0;34m)\u001b[0m\u001b[0;34m\u001b[0m\u001b[0;34m\u001b[0m\u001b[0m\n\u001b[0;32m----> 3\u001b[0;31m \u001b[0mcicd_categories_beforemapping\u001b[0m\u001b[0;34m.\u001b[0m\u001b[0mto_csv\u001b[0m\u001b[0;34m(\u001b[0m\u001b[0;34m'cicd_categories_beforemapping.csv'\u001b[0m\u001b[0;34m)\u001b[0m\u001b[0;34m\u001b[0m\u001b[0;34m\u001b[0m\u001b[0m\n\u001b[0m",
      "\u001b[0;32m~/opt/anaconda3/envs/py365/lib/python3.7/site-packages/pandas/core/generic.py\u001b[0m in \u001b[0;36mto_csv\u001b[0;34m(self, path_or_buf, sep, na_rep, float_format, columns, header, index, index_label, mode, encoding, compression, quoting, quotechar, line_terminator, chunksize, date_format, doublequote, escapechar, decimal, errors, storage_options)\u001b[0m\n\u001b[1;32m   3480\u001b[0m             \u001b[0mresult\u001b[0m \u001b[0;34m=\u001b[0m \u001b[0mself\u001b[0m\u001b[0;34m.\u001b[0m\u001b[0miloc\u001b[0m\u001b[0;34m[\u001b[0m\u001b[0mindexer\u001b[0m\u001b[0;34m]\u001b[0m\u001b[0;34m\u001b[0m\u001b[0;34m\u001b[0m\u001b[0m\n\u001b[1;32m   3481\u001b[0m             \u001b[0msetattr\u001b[0m\u001b[0;34m(\u001b[0m\u001b[0mresult\u001b[0m\u001b[0;34m,\u001b[0m \u001b[0mresult\u001b[0m\u001b[0;34m.\u001b[0m\u001b[0m_get_axis_name\u001b[0m\u001b[0;34m(\u001b[0m\u001b[0maxis\u001b[0m\u001b[0;34m)\u001b[0m\u001b[0;34m,\u001b[0m \u001b[0mnew_ax\u001b[0m\u001b[0;34m)\u001b[0m\u001b[0;34m\u001b[0m\u001b[0;34m\u001b[0m\u001b[0m\n\u001b[0;32m-> 3482\u001b[0;31m             \u001b[0;32mreturn\u001b[0m \u001b[0mresult\u001b[0m\u001b[0;34m\u001b[0m\u001b[0;34m\u001b[0m\u001b[0m\n\u001b[0m\u001b[1;32m   3483\u001b[0m \u001b[0;34m\u001b[0m\u001b[0m\n\u001b[1;32m   3484\u001b[0m         \u001b[0;32mif\u001b[0m \u001b[0maxis\u001b[0m \u001b[0;34m==\u001b[0m \u001b[0;36m1\u001b[0m\u001b[0;34m:\u001b[0m\u001b[0;34m\u001b[0m\u001b[0;34m\u001b[0m\u001b[0m\n",
      "\u001b[0;32m~/opt/anaconda3/envs/py365/lib/python3.7/site-packages/pandas/io/formats/format.py\u001b[0m in \u001b[0;36mto_csv\u001b[0;34m(self, path_or_buf, encoding, sep, columns, index_label, mode, compression, quoting, quotechar, line_terminator, chunksize, date_format, doublequote, escapechar, errors, storage_options)\u001b[0m\n\u001b[1;32m   1076\u001b[0m         \u001b[0madjoined\u001b[0m \u001b[0;34m=\u001b[0m \u001b[0mself\u001b[0m\u001b[0;34m.\u001b[0m\u001b[0madj\u001b[0m\u001b[0;34m.\u001b[0m\u001b[0madjoin\u001b[0m\u001b[0;34m(\u001b[0m\u001b[0;36m1\u001b[0m\u001b[0;34m,\u001b[0m \u001b[0;34m*\u001b[0m\u001b[0mfmt_index\u001b[0m\u001b[0;34m)\u001b[0m\u001b[0;34m.\u001b[0m\u001b[0msplit\u001b[0m\u001b[0;34m(\u001b[0m\u001b[0;34m\"\\n\"\u001b[0m\u001b[0;34m)\u001b[0m\u001b[0;34m\u001b[0m\u001b[0;34m\u001b[0m\u001b[0m\n\u001b[1;32m   1077\u001b[0m \u001b[0;34m\u001b[0m\u001b[0m\n\u001b[0;32m-> 1078\u001b[0;31m         \u001b[0;31m# empty space for columns\u001b[0m\u001b[0;34m\u001b[0m\u001b[0;34m\u001b[0m\u001b[0;34m\u001b[0m\u001b[0m\n\u001b[0m\u001b[1;32m   1079\u001b[0m         \u001b[0;32mif\u001b[0m \u001b[0mself\u001b[0m\u001b[0;34m.\u001b[0m\u001b[0mshow_col_idx_names\u001b[0m\u001b[0;34m:\u001b[0m\u001b[0;34m\u001b[0m\u001b[0;34m\u001b[0m\u001b[0m\n\u001b[1;32m   1080\u001b[0m             \u001b[0mcol_header\u001b[0m \u001b[0;34m=\u001b[0m \u001b[0;34m[\u001b[0m\u001b[0mstr\u001b[0m\u001b[0;34m(\u001b[0m\u001b[0mx\u001b[0m\u001b[0;34m)\u001b[0m \u001b[0;32mfor\u001b[0m \u001b[0mx\u001b[0m \u001b[0;32min\u001b[0m \u001b[0mself\u001b[0m\u001b[0;34m.\u001b[0m\u001b[0m_get_column_name_list\u001b[0m\u001b[0;34m(\u001b[0m\u001b[0;34m)\u001b[0m\u001b[0;34m]\u001b[0m\u001b[0;34m\u001b[0m\u001b[0;34m\u001b[0m\u001b[0m\n",
      "\u001b[0;32m~/opt/anaconda3/envs/py365/lib/python3.7/site-packages/pandas/io/formats/csvs.py\u001b[0m in \u001b[0;36m<module>\u001b[0;34m\u001b[0m\n\u001b[1;32m     15\u001b[0m \u001b[0;32mfrom\u001b[0m \u001b[0mpandas\u001b[0m\u001b[0;34m.\u001b[0m\u001b[0m_typing\u001b[0m \u001b[0;32mimport\u001b[0m \u001b[0mFilePathOrBuffer\u001b[0m\u001b[0;34m\u001b[0m\u001b[0;34m\u001b[0m\u001b[0m\n\u001b[1;32m     16\u001b[0m \u001b[0;34m\u001b[0m\u001b[0m\n\u001b[0;32m---> 17\u001b[0;31m from pandas.core.dtypes.generic import (\n\u001b[0m\u001b[1;32m     18\u001b[0m     \u001b[0mABCDatetimeIndex\u001b[0m\u001b[0;34m,\u001b[0m\u001b[0;34m\u001b[0m\u001b[0;34m\u001b[0m\u001b[0m\n\u001b[1;32m     19\u001b[0m     \u001b[0mABCIndexClass\u001b[0m\u001b[0;34m,\u001b[0m\u001b[0;34m\u001b[0m\u001b[0;34m\u001b[0m\u001b[0m\n",
      "\u001b[0;31mImportError\u001b[0m: cannot import name 'ABCIndexClass' from 'pandas.core.dtypes.generic' (/Users/mdevar2/opt/anaconda3/envs/py365/lib/python3.7/site-packages/pandas/core/dtypes/generic.py)"
     ]
    }
   ],
   "source": [
    "#cicd_categories_beforemapping=data_cicd_combined['Agent Corrected CAT Name'].unique()\n",
    "#cicd_categories_beforemapping=pd.Series(cicd_categories_beforemapping)\n",
    "#cicd_categories_beforemapping.to_csv('cicd_categories_beforemapping.csv')"
   ]
  },
  {
   "cell_type": "code",
   "execution_count": 216,
   "id": "977bf344",
   "metadata": {},
   "outputs": [
    {
     "ename": "NameError",
     "evalue": "name 'int_dict' is not defined",
     "output_type": "error",
     "traceback": [
      "\u001b[0;31m---------------------------------------------------------------------------\u001b[0m",
      "\u001b[0;31mNameError\u001b[0m                                 Traceback (most recent call last)",
      "\u001b[0;32m/var/folders/4m/9l0d0h395d16r79l8786hpc80000gn/T/ipykernel_85744/3624603508.py\u001b[0m in \u001b[0;36m<module>\u001b[0;34m\u001b[0m\n\u001b[0;32m----> 1\u001b[0;31m \u001b[0;32mdel\u001b[0m \u001b[0mcat_dict\u001b[0m\u001b[0;34m,\u001b[0m \u001b[0mint_dict\u001b[0m\u001b[0;34m\u001b[0m\u001b[0;34m\u001b[0m\u001b[0m\n\u001b[0m",
      "\u001b[0;31mNameError\u001b[0m: name 'int_dict' is not defined"
     ]
    }
   ],
   "source": [
    "del cat_dict, int_dict"
   ]
  },
  {
   "cell_type": "code",
   "execution_count": 5,
   "id": "74c66246",
   "metadata": {},
   "outputs": [],
   "source": [
    "mapping_data=pd.read_csv('/Users/mdevar2/Downloads/data discripency/mapping_latest.csv')\n",
    "cat_dict = dict(zip(mapping_data['Agent CAT Name'], mapping_data['Updated CAT Name']))\n",
    "#data_cicd_combined[\"Agent Corrected CAT Name standarized\"] = data_cicd_combined[\"Agent Corrected CAT Name\"].replace(cat_dict)"
   ]
  },
  {
   "cell_type": "code",
   "execution_count": 6,
   "id": "bf5d5c19",
   "metadata": {},
   "outputs": [],
   "source": [
    "mapping_data_1=pd.read_csv('')\n",
    "mapping1 = dict(mapping_data_1[['Updated CAT Name', 'Updated Integer']].values)\n",
    "#data_cicd_combined['Agent Corrected Integer standardized'] = data_cicd_combined['Agent Corrected CAT Name standarized'].map(mapping1)"
   ]
  },
  {
   "cell_type": "code",
   "execution_count": 219,
   "id": "2cd72864",
   "metadata": {},
   "outputs": [
    {
     "data": {
      "text/plain": [
       "101"
      ]
     },
     "execution_count": 219,
     "metadata": {},
     "output_type": "execute_result"
    }
   ],
   "source": [
    "data_cicd_combined['Agent Corrected CAT Name standarized'].nunique()"
   ]
  },
  {
   "cell_type": "code",
   "execution_count": 20,
   "id": "76992d0b",
   "metadata": {},
   "outputs": [],
   "source": [
    "master_mapping_data = pd.read_csv(\"/Users/jghosh2/Documents/my-notebook/restro folder/MASTER_Tax_Category_Mapping_latest1.csv\")"
   ]
  },
  {
   "cell_type": "code",
   "execution_count": 21,
   "id": "499c1fd9",
   "metadata": {},
   "outputs": [],
   "source": [
    "#master_mapping_data = pd.read_csv(\"/Users/jghosh2/Documents/my-notebook/restro folder//Users/jghosh2/Documents/my-notebook/restro folder/MASTER_Tax_Category_Mapping_latest1.csv\")"
   ]
  },
  {
   "cell_type": "code",
   "execution_count": 22,
   "id": "be527c76",
   "metadata": {},
   "outputs": [
    {
     "data": {
      "text/plain": [
       "Index(['Agent CAT Name', 'Updated CAT Name', 'Updated Integer'], dtype='object')"
      ]
     },
     "execution_count": 22,
     "metadata": {},
     "output_type": "execute_result"
    }
   ],
   "source": [
    "master_mapping_data.columns"
   ]
  },
  {
   "cell_type": "code",
   "execution_count": 23,
   "id": "b90fd8a5",
   "metadata": {},
   "outputs": [],
   "source": [
    "#set_cicd_categories_aftermapping = set(data_cicd_combined['Agent Corrected CAT Name standarized'].unique())\n",
    "set_master_mapping_data_categories = set(master_mapping_data['Updated CAT Name'].unique())"
   ]
  },
  {
   "cell_type": "code",
   "execution_count": 222,
   "id": "de0435d5",
   "metadata": {},
   "outputs": [
    {
     "data": {
      "text/plain": [
       "0"
      ]
     },
     "execution_count": 222,
     "metadata": {},
     "output_type": "execute_result"
    }
   ],
   "source": [
    "dif_categories = list(set_cicd_categories_aftermapping.difference(set_master_mapping_data_categories))\n",
    "len(dif_categories)"
   ]
  },
  {
   "cell_type": "code",
   "execution_count": 223,
   "id": "21c62b67",
   "metadata": {},
   "outputs": [
    {
     "data": {
      "text/plain": [
       "[]"
      ]
     },
     "execution_count": 223,
     "metadata": {},
     "output_type": "execute_result"
    }
   ],
   "source": [
    "dif_categories"
   ]
  },
  {
   "cell_type": "code",
   "execution_count": 224,
   "id": "da94a4da",
   "metadata": {},
   "outputs": [
    {
     "name": "stdout",
     "output_type": "stream",
     "text": [
      "(601245, 4)\n"
     ]
    },
    {
     "name": "stderr",
     "output_type": "stream",
     "text": [
      "/Users/mdevar2/opt/anaconda3/envs/py365/lib/python3.7/site-packages/ipykernel_launcher.py:2: SettingWithCopyWarning: \n",
      "A value is trying to be set on a copy of a slice from a DataFrame.\n",
      "Try using .loc[row_indexer,col_indexer] = value instead\n",
      "\n",
      "See the caveats in the documentation: https://pandas.pydata.org/pandas-docs/stable/user_guide/indexing.html#returning-a-view-versus-a-copy\n",
      "  \n",
      "/Users/mdevar2/opt/anaconda3/envs/py365/lib/python3.7/site-packages/pandas/core/frame.py:4913: SettingWithCopyWarning: \n",
      "A value is trying to be set on a copy of a slice from a DataFrame\n",
      "\n",
      "See the caveats in the documentation: https://pandas.pydata.org/pandas-docs/stable/user_guide/indexing.html#returning-a-view-versus-a-copy\n",
      "  * 'all' : If all values are NA, drop that row or column.\n"
     ]
    }
   ],
   "source": [
    "data_cicd_latest=data_cicd_combined[['Item','Description','establishment_type','Agent Corrected CAT Name standarized', 'Agent Corrected Integer standardized']]\n",
    "data_cicd_latest['target']=data_cicd_latest['Agent Corrected CAT Name standarized'] + \":\" + data_cicd_latest['Agent Corrected Integer standardized']\n",
    "data_cicd_latest.drop(['Agent Corrected CAT Name standarized', 'Agent Corrected Integer standardized'],inplace=True,axis=1)\n",
    "print(data_cicd_latest.shape)"
   ]
  },
  {
   "cell_type": "code",
   "execution_count": 225,
   "id": "7939135d",
   "metadata": {},
   "outputs": [
    {
     "name": "stdout",
     "output_type": "stream",
     "text": [
      "<class 'pandas.core.frame.DataFrame'>\n",
      "Int64Index: 601245 entries, 0 to 410133\n",
      "Data columns (total 4 columns):\n",
      " #   Column              Non-Null Count   Dtype \n",
      "---  ------              --------------   ----- \n",
      " 0   Item                601242 non-null  object\n",
      " 1   Description         439391 non-null  object\n",
      " 2   establishment_type  601245 non-null  object\n",
      " 3   target              601245 non-null  object\n",
      "dtypes: object(4)\n",
      "memory usage: 22.9+ MB\n"
     ]
    }
   ],
   "source": [
    "data_cicd_latest.info()"
   ]
  },
  {
   "cell_type": "code",
   "execution_count": 226,
   "id": "f0bc3968",
   "metadata": {},
   "outputs": [
    {
     "name": "stdout",
     "output_type": "stream",
     "text": [
      "(100820, 4)\n"
     ]
    }
   ],
   "source": [
    "data_historical = pd.read_csv('../data/final_historical_data.csv', encoding='utf8',engine='python',usecols=['Item','Description','establishment_type','target'])\n",
    "print(data_historical.shape)"
   ]
  },
  {
   "cell_type": "code",
   "execution_count": 227,
   "id": "1e3474fe",
   "metadata": {},
   "outputs": [
    {
     "name": "stdout",
     "output_type": "stream",
     "text": [
      "<class 'pandas.core.frame.DataFrame'>\n",
      "RangeIndex: 100820 entries, 0 to 100819\n",
      "Data columns (total 4 columns):\n",
      " #   Column              Non-Null Count   Dtype \n",
      "---  ------              --------------   ----- \n",
      " 0   Item                100818 non-null  object\n",
      " 1   Description         74981 non-null   object\n",
      " 2   establishment_type  100820 non-null  object\n",
      " 3   target              100820 non-null  object\n",
      "dtypes: object(4)\n",
      "memory usage: 3.1+ MB\n"
     ]
    }
   ],
   "source": [
    "data_historical.info()"
   ]
  },
  {
   "cell_type": "code",
   "execution_count": 228,
   "id": "e80a5077",
   "metadata": {},
   "outputs": [
    {
     "name": "stdout",
     "output_type": "stream",
     "text": [
      "(100820, 4)\n",
      "(100820, 4)\n"
     ]
    }
   ],
   "source": [
    "#read input from historical data into dataframe\n",
    "#data_df = pd.read_csv('../data/final_historical_data.csv', encoding='utf8',engine='python',usecols=['Item','Description','establishment_type','target'])\n",
    "#choose sample data from entire data\n",
    "data_historical = data_historical.sample(frac=1, random_state=42)\n",
    "print(data_historical.shape)\n",
    "#fill blanks with ''\n",
    "data_historical = data_historical.fillna('')\n",
    "print(data_historical.shape)\n",
    "# combine the columns Item, Description and establishment_type into one column 'combined_text'"
   ]
  },
  {
   "cell_type": "code",
   "execution_count": 229,
   "id": "acb4d2fc",
   "metadata": {},
   "outputs": [
    {
     "name": "stdout",
     "output_type": "stream",
     "text": [
      "<class 'pandas.core.frame.DataFrame'>\n",
      "Int64Index: 601245 entries, 0 to 410133\n",
      "Data columns (total 4 columns):\n",
      " #   Column              Non-Null Count   Dtype \n",
      "---  ------              --------------   ----- \n",
      " 0   Item                601242 non-null  object\n",
      " 1   Description         439391 non-null  object\n",
      " 2   establishment_type  601245 non-null  object\n",
      " 3   target              601245 non-null  object\n",
      "dtypes: object(4)\n",
      "memory usage: 22.9+ MB\n"
     ]
    }
   ],
   "source": [
    "data_cicd_latest.info()"
   ]
  },
  {
   "cell_type": "code",
   "execution_count": 231,
   "id": "e25be92f",
   "metadata": {},
   "outputs": [],
   "source": [
    "data_historical[['Agent Corrected CAT Name','Agent Corrected int']]= data_historical.target.str.split(\":\",expand=True)"
   ]
  },
  {
   "cell_type": "code",
   "execution_count": 287,
   "id": "45e9f73e",
   "metadata": {},
   "outputs": [
    {
     "data": {
      "text/plain": [
       "29"
      ]
     },
     "execution_count": 287,
     "metadata": {},
     "output_type": "execute_result"
    }
   ],
   "source": [
    "set_historical_categories_aftermapping = set(data_historical['Agent Corrected CAT Name'].unique())\n",
    "#set_master_mapping_data_categories = set(master_mapping_data['CAT NAME,CAT_TEMP'].unique())\n",
    "dif_categories = list(set_historical_categories_aftermapping.difference(set_master_mapping_data_categories))\n",
    "len(dif_categories)"
   ]
  },
  {
   "cell_type": "code",
   "execution_count": 288,
   "id": "c997615c",
   "metadata": {},
   "outputs": [],
   "source": [
    "data_historical[\"Agent Corrected CAT Name standarized\"] = data_historical[\"Agent Corrected CAT Name\"].replace(cat_dict)"
   ]
  },
  {
   "cell_type": "code",
   "execution_count": 289,
   "id": "331e5a7f",
   "metadata": {},
   "outputs": [],
   "source": [
    "data_historical['Agent Corrected Integer standardized'] = data_historical['Agent Corrected CAT Name standarized'].map(mapping1)\n"
   ]
  },
  {
   "cell_type": "code",
   "execution_count": 290,
   "id": "c63603f5",
   "metadata": {},
   "outputs": [
    {
     "data": {
      "text/plain": [
       "7"
      ]
     },
     "execution_count": 290,
     "metadata": {},
     "output_type": "execute_result"
    }
   ],
   "source": [
    "set_historical_categories_aftermapping = set(data_historical['Agent Corrected CAT Name standarized'].unique())\n",
    "#set_master_mapping_data_categories = set(master_mapping_data['CAT NAME,CAT_TEMP'].unique())\n",
    "dif_categories = list(set_historical_categories_aftermapping.difference(set_master_mapping_data_categories))\n",
    "len(dif_categories)"
   ]
  },
  {
   "cell_type": "code",
   "execution_count": 291,
   "id": "64f60b10",
   "metadata": {},
   "outputs": [],
   "source": [
    "data_historical1 = data_historical[~data_historical['Agent Corrected CAT Name standarized'].isin(dif_categories)]"
   ]
  },
  {
   "cell_type": "code",
   "execution_count": 293,
   "id": "33969d07",
   "metadata": {},
   "outputs": [
    {
     "data": {
      "text/plain": [
       "0"
      ]
     },
     "execution_count": 293,
     "metadata": {},
     "output_type": "execute_result"
    }
   ],
   "source": [
    "set_historical_categories_aftermapping1 = set(data_historical1['Agent Corrected CAT Name standarized'].unique())\n",
    "#set_master_mapping_data_categories = set(master_mapping_data['CAT NAME,CAT_TEMP'].unique())\n",
    "dif_categories = list(set_historical_categories_aftermapping1.difference(set_master_mapping_data_categories))\n",
    "len(dif_categories)"
   ]
  },
  {
   "cell_type": "code",
   "execution_count": 241,
   "id": "ef7907d3",
   "metadata": {},
   "outputs": [
    {
     "data": {
      "text/plain": [
       "(100774, 8)"
      ]
     },
     "execution_count": 241,
     "metadata": {},
     "output_type": "execute_result"
    }
   ],
   "source": [
    "data_historical1.shape"
   ]
  },
  {
   "cell_type": "code",
   "execution_count": 243,
   "id": "079cc27a",
   "metadata": {
    "scrolled": true
   },
   "outputs": [
    {
     "data": {
      "text/plain": [
       "[]"
      ]
     },
     "execution_count": 243,
     "metadata": {},
     "output_type": "execute_result"
    }
   ],
   "source": [
    "dif_categories"
   ]
  },
  {
   "cell_type": "code",
   "execution_count": 294,
   "id": "222c1039",
   "metadata": {},
   "outputs": [],
   "source": [
    "del data_combined_final"
   ]
  },
  {
   "cell_type": "code",
   "execution_count": 295,
   "id": "da921600",
   "metadata": {},
   "outputs": [],
   "source": [
    "data_combined_final = pd.concat([data_cicd_latest, data_historical1], ignore_index=True)"
   ]
  },
  {
   "cell_type": "code",
   "execution_count": 319,
   "id": "67fb2eda",
   "metadata": {},
   "outputs": [
    {
     "data": {
      "text/plain": [
       "0"
      ]
     },
     "execution_count": 319,
     "metadata": {},
     "output_type": "execute_result"
    }
   ],
   "source": [
    "set_combined_categories_aftermapping1 = set(data_combined_final['Agent Corrected CAT Name standarized'].unique())\n",
    "#set_master_mapping_data_categories = set(master_mapping_data['CAT NAME,CAT_TEMP'].unique())\n",
    "dif_combined_categories = list(set_combined_categories_aftermapping1.difference(set_master_mapping_data_categories))\n",
    "len(dif_combined_categories)"
   ]
  },
  {
   "cell_type": "code",
   "execution_count": 300,
   "id": "d234525a",
   "metadata": {},
   "outputs": [
    {
     "data": {
      "text/plain": [
       "[]"
      ]
     },
     "execution_count": 300,
     "metadata": {},
     "output_type": "execute_result"
    }
   ],
   "source": [
    "dif_combined_categories"
   ]
  },
  {
   "cell_type": "code",
   "execution_count": 298,
   "id": "ba7b63b3",
   "metadata": {},
   "outputs": [],
   "source": [
    "data_combined_final = data_combined_final.dropna(axis=0, subset=['Agent Corrected CAT Name standarized'])\n",
    "#data_cicd = data_cicd.dropna(axis=0, subset=['Agent Corrected CAT Name'])"
   ]
  },
  {
   "cell_type": "code",
   "execution_count": 256,
   "id": "fbc31220",
   "metadata": {},
   "outputs": [
    {
     "name": "stdout",
     "output_type": "stream",
     "text": [
      "<class 'pandas.core.frame.DataFrame'>\n",
      "RangeIndex: 702019 entries, 0 to 702018\n",
      "Data columns (total 8 columns):\n",
      " #   Column                                Non-Null Count   Dtype \n",
      "---  ------                                --------------   ----- \n",
      " 0   Item                                  702016 non-null  object\n",
      " 1   Description                           540165 non-null  object\n",
      " 2   establishment_type                    702019 non-null  object\n",
      " 3   target                                702019 non-null  object\n",
      " 4   Agent Corrected CAT Name              100774 non-null  object\n",
      " 5   Agent Corrected int                   100774 non-null  object\n",
      " 6   Agent Corrected CAT Name standarized  100774 non-null  object\n",
      " 7   Agent Corrected Integer standardized  100774 non-null  object\n",
      "dtypes: object(8)\n",
      "memory usage: 42.8+ MB\n"
     ]
    }
   ],
   "source": [
    "data_combined_final.info()"
   ]
  },
  {
   "cell_type": "code",
   "execution_count": 301,
   "id": "715abd11",
   "metadata": {},
   "outputs": [
    {
     "data": {
      "text/plain": [
       "(100774, 8)"
      ]
     },
     "execution_count": 301,
     "metadata": {},
     "output_type": "execute_result"
    }
   ],
   "source": [
    "data_combined_final.shape"
   ]
  },
  {
   "cell_type": "code",
   "execution_count": 302,
   "id": "a2e9974d",
   "metadata": {},
   "outputs": [],
   "source": [
    "data_combined_final = data_combined_final.astype(str)"
   ]
  },
  {
   "cell_type": "code",
   "execution_count": 303,
   "id": "97f66929",
   "metadata": {},
   "outputs": [],
   "source": [
    "data_combined_final['combined_text'] = data_combined_final[['Item','Description','establishment_type']].apply(lambda x: ' '.join(x[x.notnull()]), axis = 1)"
   ]
  },
  {
   "cell_type": "code",
   "execution_count": 304,
   "id": "c5956aad",
   "metadata": {},
   "outputs": [
    {
     "name": "stdout",
     "output_type": "stream",
     "text": [
      "<class 'pandas.core.frame.DataFrame'>\n",
      "Int64Index: 100774 entries, 601245 to 702018\n",
      "Data columns (total 9 columns):\n",
      " #   Column                                Non-Null Count   Dtype \n",
      "---  ------                                --------------   ----- \n",
      " 0   Item                                  100774 non-null  object\n",
      " 1   Description                           100774 non-null  object\n",
      " 2   establishment_type                    100774 non-null  object\n",
      " 3   target                                100774 non-null  object\n",
      " 4   Agent Corrected CAT Name              100774 non-null  object\n",
      " 5   Agent Corrected int                   100774 non-null  object\n",
      " 6   Agent Corrected CAT Name standarized  100774 non-null  object\n",
      " 7   Agent Corrected Integer standardized  100774 non-null  object\n",
      " 8   combined_text                         100774 non-null  object\n",
      "dtypes: object(9)\n",
      "memory usage: 7.7+ MB\n"
     ]
    }
   ],
   "source": [
    "data_combined_final.info()"
   ]
  },
  {
   "cell_type": "code",
   "execution_count": 305,
   "id": "cffab5ea",
   "metadata": {},
   "outputs": [
    {
     "name": "stdout",
     "output_type": "stream",
     "text": [
      "(100774, 10)\n"
     ]
    }
   ],
   "source": [
    "data_combined_final['processed_text']= data_combined_final['combined_text'].map(lambda s:preprocess_text(s)) \n",
    "print(data_combined_final.shape)"
   ]
  },
  {
   "cell_type": "code",
   "execution_count": 306,
   "id": "9a549eb6",
   "metadata": {},
   "outputs": [
    {
     "name": "stdout",
     "output_type": "stream",
     "text": [
      "(92066, 10)\n",
      "(92066, 10)\n"
     ]
    }
   ],
   "source": [
    "\n",
    "#data_combined_final['combined_text'] = data_combined_final[['Item','Description','establishment_type']].apply(lambda x: ' '.join(x[x.notnull()]), axis = 1)\n",
    "\n",
    "data_combined_final.drop_duplicates(subset=['processed_text','target'],inplace=True)\n",
    "print(data_combined_final.shape)\n",
    "data_combined_final.dropna(subset=['target'],inplace=True)\n",
    "data_combined_final = data_combined_final.reset_index(drop=True)\n",
    "data_combined_final = data_combined_final[data_combined_final['target']!= '#REF!:#REF!']\n",
    "print(data_combined_final.shape)\n"
   ]
  },
  {
   "cell_type": "code",
   "execution_count": 307,
   "id": "95b8e8c7",
   "metadata": {},
   "outputs": [
    {
     "name": "stdout",
     "output_type": "stream",
     "text": [
      "<class 'pandas.core.frame.DataFrame'>\n",
      "Int64Index: 92066 entries, 0 to 92065\n",
      "Data columns (total 10 columns):\n",
      " #   Column                                Non-Null Count  Dtype \n",
      "---  ------                                --------------  ----- \n",
      " 0   Item                                  92066 non-null  object\n",
      " 1   Description                           92066 non-null  object\n",
      " 2   establishment_type                    92066 non-null  object\n",
      " 3   target                                92066 non-null  object\n",
      " 4   Agent Corrected CAT Name              92066 non-null  object\n",
      " 5   Agent Corrected int                   92066 non-null  object\n",
      " 6   Agent Corrected CAT Name standarized  92066 non-null  object\n",
      " 7   Agent Corrected Integer standardized  92066 non-null  object\n",
      " 8   combined_text                         92066 non-null  object\n",
      " 9   processed_text                        92066 non-null  object\n",
      "dtypes: object(10)\n",
      "memory usage: 7.7+ MB\n"
     ]
    }
   ],
   "source": [
    "data_combined_final.info()"
   ]
  },
  {
   "cell_type": "code",
   "execution_count": 335,
   "id": "549b5cc9",
   "metadata": {},
   "outputs": [
    {
     "data": {
      "text/plain": [
       "'1.3.5'"
      ]
     },
     "execution_count": 335,
     "metadata": {},
     "output_type": "execute_result"
    }
   ],
   "source": [
    "import pandas as pd\n",
    "pd.__version__"
   ]
  },
  {
   "cell_type": "code",
   "execution_count": 3,
   "id": "c3321344",
   "metadata": {},
   "outputs": [
    {
     "ename": "NameError",
     "evalue": "name 'data_combined_final' is not defined",
     "output_type": "error",
     "traceback": [
      "\u001b[0;31m---------------------------------------------------------------------------\u001b[0m",
      "\u001b[0;31mNameError\u001b[0m                                 Traceback (most recent call last)",
      "\u001b[0;32m/var/folders/dk/dcz1bsq51ydb6f7j_7n8pxpr0000gn/T/ipykernel_23060/2097110166.py\u001b[0m in \u001b[0;36m<module>\u001b[0;34m\u001b[0m\n\u001b[0;32m----> 1\u001b[0;31m \u001b[0mdata_combined_final\u001b[0m\u001b[0;34m.\u001b[0m\u001b[0mto_csv\u001b[0m\u001b[0;34m(\u001b[0m\u001b[0;34m\"data_combined_final.csv\"\u001b[0m\u001b[0;34m)\u001b[0m\u001b[0;34m\u001b[0m\u001b[0;34m\u001b[0m\u001b[0m\n\u001b[0m",
      "\u001b[0;31mNameError\u001b[0m: name 'data_combined_final' is not defined"
     ]
    }
   ],
   "source": [
    "data_combined_final.to_csv(\"data_combined_final.csv\")"
   ]
  },
  {
   "cell_type": "code",
   "execution_count": 5,
   "id": "83a348ac",
   "metadata": {},
   "outputs": [],
   "source": [
    "data_combined_final = pd.read_csv(\"/Users/jghosh2/Documents/my-notebook/restro folder/data_combined_final.csv\")"
   ]
  },
  {
   "cell_type": "code",
   "execution_count": 6,
   "id": "6cccd21f",
   "metadata": {},
   "outputs": [],
   "source": [
    "#combine historical with combined cicd"
   ]
  },
  {
   "cell_type": "code",
   "execution_count": 7,
   "id": "df52db85",
   "metadata": {},
   "outputs": [],
   "source": [
    "X = data_combined_final[['processed_text']]\n",
    "y = data_combined_final['target']\n",
    "# split the cicd data into train and test \n",
    "X_train, X_test, y_train, y_test = train_test_split(X, y, test_size = .20, random_state = 42)"
   ]
  },
  {
   "cell_type": "code",
   "execution_count": null,
   "id": "08c48761",
   "metadata": {},
   "outputs": [],
   "source": []
  },
  {
   "cell_type": "markdown",
   "id": "6123f453",
   "metadata": {},
   "source": [
    "<a id='Model Training'></a>"
   ]
  },
  {
   "cell_type": "code",
   "execution_count": 8,
   "id": "dd540e03",
   "metadata": {},
   "outputs": [
    {
     "name": "stdout",
     "output_type": "stream",
     "text": [
      "Training data size: 73652\n",
      "Test data size: 18414\n"
     ]
    }
   ],
   "source": [
    "print('Training data size: {}'.format(len(X_train)))\n",
    "print('Test data size: {}'.format(len(X_test)))"
   ]
  },
  {
   "cell_type": "code",
   "execution_count": 9,
   "id": "e2e6c833",
   "metadata": {},
   "outputs": [
    {
     "name": "stdout",
     "output_type": "stream",
     "text": [
      "Number of unique labels : 96\n"
     ]
    }
   ],
   "source": [
    "print('Number of unique labels : {}'.format(len(y_train.unique().tolist())))"
   ]
  },
  {
   "cell_type": "markdown",
   "id": "77f6d97a",
   "metadata": {},
   "source": [
    "# Model Training"
   ]
  },
  {
   "cell_type": "markdown",
   "id": "b75af4ab",
   "metadata": {},
   "source": [
    "The Model Pipeline consists of 1. CountVectorizer, 2. Tfidf-Transformer 3. RandomForestClassifier "
   ]
  },
  {
   "cell_type": "code",
   "execution_count": 14,
   "id": "0e8b5e6e",
   "metadata": {},
   "outputs": [
    {
     "ename": "NameError",
     "evalue": "name 'rf' is not defined",
     "output_type": "error",
     "traceback": [
      "\u001b[0;31m---------------------------------------------------------------------------\u001b[0m",
      "\u001b[0;31mNameError\u001b[0m                                 Traceback (most recent call last)",
      "\u001b[0;32m/var/folders/4m/9l0d0h395d16r79l8786hpc80000gn/T/ipykernel_91550/4275552645.py\u001b[0m in \u001b[0;36m<module>\u001b[0;34m\u001b[0m\n\u001b[0;32m----> 1\u001b[0;31m \u001b[0;32mdel\u001b[0m \u001b[0mrf\u001b[0m\u001b[0;34m,\u001b[0m \u001b[0mresult\u001b[0m\u001b[0;34m\u001b[0m\u001b[0;34m\u001b[0m\u001b[0m\n\u001b[0m",
      "\u001b[0;31mNameError\u001b[0m: name 'rf' is not defined"
     ]
    }
   ],
   "source": [
    "#del rf, result"
   ]
  },
  {
   "cell_type": "code",
   "execution_count": 10,
   "id": "3d043639",
   "metadata": {},
   "outputs": [],
   "source": [
    "#create the model pipeline\n",
    "rf1 = Pipeline([('vect', CountVectorizer(token_pattern=u'(?ui)\\\\b\\\\w*[a-z]+\\\\w*\\\\b',stop_words='english',max_df=0.85)),\n",
    "            ('tfidf', TfidfTransformer()),\n",
    "            #('mnb', MultinomialNB(alpha= 0.05,fit_prior= False))])\n",
    "            ('clf', RandomForestClassifier(n_jobs=-1, random_state=42,class_weight='balanced',max_depth=400))])\n",
    "\n",
    "\n"
   ]
  },
  {
   "cell_type": "code",
   "execution_count": 11,
   "id": "c304e42c",
   "metadata": {},
   "outputs": [
    {
     "name": "stderr",
     "output_type": "stream",
     "text": [
      "/Users/jghosh2/opt/anaconda3/envs/py365/lib/python3.7/site-packages/sklearn/utils/validation.py:179: DeprecationWarning: distutils Version classes are deprecated. Use packaging.version instead.\n",
      "  if LooseVersion(joblib_version) < '0.12':\n",
      "/Users/jghosh2/opt/anaconda3/envs/py365/lib/python3.7/site-packages/sklearn/ensemble/forest.py:245: FutureWarning: The default value of n_estimators will change from 10 in version 0.20 to 100 in 0.22.\n",
      "  \"10 in version 0.20 to 100 in 0.22.\", FutureWarning)\n",
      "/Users/jghosh2/opt/anaconda3/envs/py365/lib/python3.7/site-packages/sklearn/utils/fixes.py:223: DeprecationWarning: distutils Version classes are deprecated. Use packaging.version instead.\n",
      "  if _joblib.__version__ >= LooseVersion('0.12'):\n"
     ]
    },
    {
     "data": {
      "text/plain": [
       "Pipeline(memory=None,\n",
       "         steps=[('vect',\n",
       "                 CountVectorizer(analyzer='word', binary=False,\n",
       "                                 decode_error='strict',\n",
       "                                 dtype=<class 'numpy.int64'>, encoding='utf-8',\n",
       "                                 input='content', lowercase=True, max_df=0.85,\n",
       "                                 max_features=None, min_df=1,\n",
       "                                 ngram_range=(1, 1), preprocessor=None,\n",
       "                                 stop_words='english', strip_accents=None,\n",
       "                                 token_pattern='(?ui)\\\\b\\\\w*[a-z]+\\\\w*\\\\b',\n",
       "                                 tokenizer=None,...\n",
       "                 RandomForestClassifier(bootstrap=True, class_weight='balanced',\n",
       "                                        criterion='gini', max_depth=400,\n",
       "                                        max_features='auto',\n",
       "                                        max_leaf_nodes=None,\n",
       "                                        min_impurity_decrease=0.0,\n",
       "                                        min_impurity_split=None,\n",
       "                                        min_samples_leaf=1, min_samples_split=2,\n",
       "                                        min_weight_fraction_leaf=0.0,\n",
       "                                        n_estimators=10, n_jobs=-1,\n",
       "                                        oob_score=False, random_state=42,\n",
       "                                        verbose=0, warm_start=False))],\n",
       "         verbose=False)"
      ]
     },
     "execution_count": 11,
     "metadata": {},
     "output_type": "execute_result"
    }
   ],
   "source": [
    "# perform model training\n",
    "rf1.fit(X_train['processed_text'].values, y_train.values)"
   ]
  },
  {
   "cell_type": "code",
   "execution_count": 12,
   "id": "75505ee5",
   "metadata": {},
   "outputs": [
    {
     "name": "stderr",
     "output_type": "stream",
     "text": [
      "/Users/jghosh2/opt/anaconda3/envs/py365/lib/python3.7/site-packages/sklearn/utils/fixes.py:223: DeprecationWarning: distutils Version classes are deprecated. Use packaging.version instead.\n",
      "  if _joblib.__version__ >= LooseVersion('0.12'):\n",
      "/Users/jghosh2/opt/anaconda3/envs/py365/lib/python3.7/site-packages/ipykernel_launcher.py:6: SettingWithCopyWarning: \n",
      "A value is trying to be set on a copy of a slice from a DataFrame.\n",
      "Try using .loc[row_indexer,col_indexer] = value instead\n",
      "\n",
      "See the caveats in the documentation: https://pandas.pydata.org/pandas-docs/stable/user_guide/indexing.html#returning-a-view-versus-a-copy\n",
      "  \n",
      "/Users/jghosh2/opt/anaconda3/envs/py365/lib/python3.7/site-packages/ipykernel_launcher.py:7: SettingWithCopyWarning: \n",
      "A value is trying to be set on a copy of a slice from a DataFrame.\n",
      "Try using .loc[row_indexer,col_indexer] = value instead\n",
      "\n",
      "See the caveats in the documentation: https://pandas.pydata.org/pandas-docs/stable/user_guide/indexing.html#returning-a-view-versus-a-copy\n",
      "  import sys\n",
      "/Users/jghosh2/opt/anaconda3/envs/py365/lib/python3.7/site-packages/sklearn/utils/fixes.py:223: DeprecationWarning: distutils Version classes are deprecated. Use packaging.version instead.\n",
      "  if _joblib.__version__ >= LooseVersion('0.12'):\n",
      "/Users/jghosh2/opt/anaconda3/envs/py365/lib/python3.7/site-packages/ipykernel_launcher.py:8: SettingWithCopyWarning: \n",
      "A value is trying to be set on a copy of a slice from a DataFrame.\n",
      "Try using .loc[row_indexer,col_indexer] = value instead\n",
      "\n",
      "See the caveats in the documentation: https://pandas.pydata.org/pandas-docs/stable/user_guide/indexing.html#returning-a-view-versus-a-copy\n",
      "  \n",
      "/Users/jghosh2/opt/anaconda3/envs/py365/lib/python3.7/site-packages/sklearn/metrics/classification.py:1437: UndefinedMetricWarning: Precision is ill-defined and being set to 0.0 in labels with no predicted samples.\n",
      "  'precision', 'predicted', average, warn_for)\n",
      "/Users/jghosh2/opt/anaconda3/envs/py365/lib/python3.7/site-packages/sklearn/metrics/classification.py:1439: UndefinedMetricWarning: Recall is ill-defined and being set to 0.0 in labels with no true samples.\n",
      "  'recall', 'true', average, warn_for)\n",
      "/Users/jghosh2/opt/anaconda3/envs/py365/lib/python3.7/site-packages/sklearn/metrics/classification.py:1437: UndefinedMetricWarning: F-score is ill-defined and being set to 0.0 in labels with no predicted samples.\n",
      "  'precision', 'predicted', average, warn_for)\n",
      "/Users/jghosh2/opt/anaconda3/envs/py365/lib/python3.7/site-packages/sklearn/metrics/classification.py:1439: UndefinedMetricWarning: F-score is ill-defined and being set to 0.0 in labels with no true samples.\n",
      "  'recall', 'true', average, warn_for)\n",
      "/Users/jghosh2/opt/anaconda3/envs/py365/lib/python3.7/site-packages/ipykernel_launcher.py:14: SettingWithCopyWarning: \n",
      "A value is trying to be set on a copy of a slice from a DataFrame.\n",
      "Try using .loc[row_indexer,col_indexer] = value instead\n",
      "\n",
      "See the caveats in the documentation: https://pandas.pydata.org/pandas-docs/stable/user_guide/indexing.html#returning-a-view-versus-a-copy\n",
      "  \n"
     ]
    }
   ],
   "source": [
    "# create a result dataframe to store final results\n",
    "result1=X_test\n",
    "# model prediction\n",
    "y_pred = rf1.predict(X_test['processed_text'].values)\n",
    "\n",
    "result1['original_cat']= y_test.values\n",
    "result1['predicted_cat'] = y_pred\n",
    "result1['prediction_cat_confscore'] = np.round_(np.max(rf1.predict_proba(X_test['processed_text']), axis=1), decimals=2)\n",
    "\n",
    "#\n",
    "output = {'accuracy': accuracy_score(y_pred,y_test),'precision_score':precision_score(y_pred,y_test,average='weighted'),'recall_score':recall_score(y_pred,y_test,average='weighted')\n",
    ",'f1_score':f1_score(y_pred,y_test,average='weighted')}\n",
    "\n",
    "result1['confusion_matrix'] = str(output)"
   ]
  },
  {
   "cell_type": "code",
   "execution_count": 17,
   "id": "3bfdd20c",
   "metadata": {},
   "outputs": [
    {
     "data": {
      "text/plain": [
       "19078"
      ]
     },
     "execution_count": 17,
     "metadata": {},
     "output_type": "execute_result"
    }
   ],
   "source": [
    "len(rf1.named_steps['vect'].get_feature_names())"
   ]
  },
  {
   "cell_type": "code",
   "execution_count": 18,
   "id": "245c1c8d",
   "metadata": {},
   "outputs": [
    {
     "name": "stdout",
     "output_type": "stream",
     "text": [
      "400\n"
     ]
    }
   ],
   "source": [
    "print(rf1.named_steps['clf'].estimators_[0].tree_.max_depth)"
   ]
  },
  {
   "cell_type": "code",
   "execution_count": 19,
   "id": "cbebbc73",
   "metadata": {},
   "outputs": [
    {
     "name": "stdout",
     "output_type": "stream",
     "text": [
      "Mean tree depth in the Random Forest: 400.0\n"
     ]
    }
   ],
   "source": [
    "depths = [tree.tree_.max_depth for tree in rf1.named_steps['clf'].estimators_]\n",
    "print(f\"Mean tree depth in the Random Forest: {np.round(np.mean(depths))}\")"
   ]
  },
  {
   "cell_type": "code",
   "execution_count": 13,
   "id": "0a8ee63c",
   "metadata": {},
   "outputs": [
    {
     "data": {
      "text/plain": [
       "array([\"{'accuracy': 0.7975453459324428, 'precision_score': 0.8138793467109812, 'recall_score': 0.7975453459324428, 'f1_score': 0.7848983695716372}\"],\n",
       "      dtype=object)"
      ]
     },
     "execution_count": 13,
     "metadata": {},
     "output_type": "execute_result"
    }
   ],
   "source": [
    "result1['confusion_matrix'][5:6].values"
   ]
  },
  {
   "cell_type": "code",
   "execution_count": 197,
   "id": "58499be5",
   "metadata": {},
   "outputs": [
    {
     "data": {
      "text/plain": [
       "array([\"{'accuracy': 0.7541733509109103, 'precision_score': 0.7564808336603325, 'recall_score': 0.7541733509109103, 'f1_score': 0.74356504529723}\"],\n",
       "      dtype=object)"
      ]
     },
     "execution_count": 197,
     "metadata": {},
     "output_type": "execute_result"
    }
   ],
   "source": [
    "result['confusion_matrix'][5:6].values"
   ]
  },
  {
   "cell_type": "code",
   "execution_count": 147,
   "id": "fd2e856e",
   "metadata": {},
   "outputs": [
    {
     "data": {
      "text/plain": [
       "array([\"{'accuracy': 0.7541733509109103, 'precision_score': 0.7564808336603325, 'recall_score': 0.7541733509109103, 'f1_score': 0.74356504529723}\"],\n",
       "      dtype=object)"
      ]
     },
     "execution_count": 147,
     "metadata": {},
     "output_type": "execute_result"
    }
   ],
   "source": [
    "result['confusion_matrix'][5:6].values"
   ]
  },
  {
   "cell_type": "markdown",
   "id": "94863ce4",
   "metadata": {},
   "source": [
    "<a id='Model Saving'></a>"
   ]
  },
  {
   "cell_type": "code",
   "execution_count": 17,
   "id": "cf544aec",
   "metadata": {},
   "outputs": [
    {
     "data": {
      "text/plain": [
       "array([\"{'accuracy': 0.8072686733556299, 'precision_score': 0.8029800433559108, 'recall_score': 0.8072686733556299, 'f1_score': 0.7904798356764975}\"],\n",
       "      dtype=object)"
      ]
     },
     "execution_count": 17,
     "metadata": {},
     "output_type": "execute_result"
    }
   ],
   "source": [
    "result['confusion_matrix'][5:6].values"
   ]
  },
  {
   "cell_type": "code",
   "execution_count": 16,
   "id": "94462f5d",
   "metadata": {
    "collapsed": true
   },
   "outputs": [
    {
     "ename": "NameError",
     "evalue": "name 'array' is not defined",
     "output_type": "error",
     "traceback": [
      "\u001b[0;31m---------------------------------------------------------------------------\u001b[0m",
      "\u001b[0;31mNameError\u001b[0m                                 Traceback (most recent call last)",
      "\u001b[0;32m/var/folders/dk/dcz1bsq51ydb6f7j_7n8pxpr0000gn/T/ipykernel_1764/2835444874.py\u001b[0m in \u001b[0;36m<module>\u001b[0;34m\u001b[0m\n\u001b[0;32m----> 1\u001b[0;31m array([\"{'accuracy': 0.8214672148885522, 'precision_score': 0.8704898295343778, 'recall_score': 0.8214672148885522, 'f1_score': 0.8401291751124788}\"],\n\u001b[0m\u001b[1;32m      2\u001b[0m       dtype=object)\n",
      "\u001b[0;31mNameError\u001b[0m: name 'array' is not defined"
     ]
    }
   ],
   "source": [
    "array([\"{'accuracy': 0.8214672148885522, 'precision_score': 0.8704898295343778, 'recall_score': 0.8214672148885522, 'f1_score': 0.8401291751124788}\"],\n",
    "      dtype=object)"
   ]
  },
  {
   "cell_type": "code",
   "execution_count": 27,
   "id": "0817ce72",
   "metadata": {},
   "outputs": [],
   "source": [
    "result1.to_csv(\"result1.csv\")"
   ]
  },
  {
   "cell_type": "code",
   "execution_count": 24,
   "id": "22a41300",
   "metadata": {},
   "outputs": [
    {
     "data": {
      "text/plain": [
       "18"
      ]
     },
     "execution_count": 24,
     "metadata": {},
     "output_type": "execute_result"
    }
   ],
   "source": [
    "result1[['predicted_cat_name','predicted_int']]= result1.predicted_cat.str.split(\":\",expand=True)\n",
    "result_categories1 = set(result1['predicted_cat_name'].unique())\n",
    "dif_result_categories1 = list(result_categories1.difference(set_master_mapping_data_categories))\n",
    "len(dif_result_categories1)"
   ]
  },
  {
   "cell_type": "code",
   "execution_count": 25,
   "id": "d9fd3df1",
   "metadata": {},
   "outputs": [
    {
     "data": {
      "text/plain": [
       "['CAT_WATER,TRAIT_NONCARB,TRAIT_UNFLV_UNSWT,CONTAINER_BOTTLED,TEMP_HEATED',\n",
       " 'CAT_COFFEE,CONTAINER_BOTTLED,TEMP_HEATED',\n",
       " 'CAT_PREPARED_DRINK,TEMP_HEATED',\n",
       " 'CAT_WATER,TRAIT_NONCARB,TRAIT_FLV_SWT,CONTAINER_BOTTLED,TEMP_HEATED',\n",
       " 'CAT_CANDY,TRAIT_FLOUR,TEMP_HEATED',\n",
       " 'CAT_WATER,TRAIT_CARB,TRAIT_FLV_SWT,CONTAINER_BOTTLED,TEMP_HEATED',\n",
       " 'CAT_JUICE,TRAIT_PCT_100,TEMP_HEATED',\n",
       " 'CAT_ICECREAM,TEMP_HEATED',\n",
       " 'CAT_PREPACKAGED_FOOD,CAT_ICECREAM,TEMP_HEATED',\n",
       " 'CAT_WATER,TRAIT_CARB,TRAIT_UNFLV_UNSWT,CONTAINER_BOTTLED,TEMP_HEATED',\n",
       " 'CAT_SOFT_DRINK,CONTAINER_BOTTLED,TEMP_HEATED',\n",
       " 'CAT_TEA,CONTAINER_BOTTLED,TEMP_HEATED',\n",
       " 'CAT_MILK_COCOA,CONTAINER_BOTTLED,TEMP_HEATED',\n",
       " 'CAT_ALCOHOL,TEMP_HEATED',\n",
       " 'CAT_PREPACKAGED_FOOD,TEMP_HEATED',\n",
       " 'CAT_ENERGY_DRINK,CONTAINER_BOTTLED,TEMP_HEATED',\n",
       " 'CAT_PREPACKAGED_FOOD,CAT_SNACK,TEMP_HEATED',\n",
       " 'CAT_DELI_PLATTER,TEMP_COLD']"
      ]
     },
     "execution_count": 25,
     "metadata": {},
     "output_type": "execute_result"
    }
   ],
   "source": [
    "dif_result_categories1"
   ]
  },
  {
   "cell_type": "code",
   "execution_count": 332,
   "id": "6968b069",
   "metadata": {},
   "outputs": [
    {
     "ename": "AttributeError",
     "evalue": "'set' object has no attribute 'to_csv'",
     "output_type": "error",
     "traceback": [
      "\u001b[0;31m---------------------------------------------------------------------------\u001b[0m",
      "\u001b[0;31mAttributeError\u001b[0m                            Traceback (most recent call last)",
      "\u001b[0;32m/var/folders/4m/9l0d0h395d16r79l8786hpc80000gn/T/ipykernel_85744/3242768120.py\u001b[0m in \u001b[0;36m<module>\u001b[0;34m\u001b[0m\n\u001b[0;32m----> 1\u001b[0;31m \u001b[0mset_master_mapping_data_categories\u001b[0m\u001b[0;34m.\u001b[0m\u001b[0mto_csv\u001b[0m\u001b[0;34m(\u001b[0m\u001b[0;34m\"set_master_mapping_data_categories.csv\"\u001b[0m\u001b[0;34m)\u001b[0m\u001b[0;34m\u001b[0m\u001b[0;34m\u001b[0m\u001b[0m\n\u001b[0m",
      "\u001b[0;31mAttributeError\u001b[0m: 'set' object has no attribute 'to_csv'"
     ]
    }
   ],
   "source": [
    "set_master_mapping_data_categories.to_csv(\"set_master_mapping_data_categories.csv\")"
   ]
  },
  {
   "cell_type": "code",
   "execution_count": 333,
   "id": "9ae5a6d4",
   "metadata": {
    "collapsed": true
   },
   "outputs": [
    {
     "data": {
      "text/plain": [
       "{'CAT_ALCOHOL,TEMP_COLD',\n",
       " 'CAT_ANTI_FREEZE',\n",
       " 'CAT_BABY_FORMULA',\n",
       " 'CAT_BABY_WIPES',\n",
       " 'CAT_BAKERY_ITEM',\n",
       " 'CAT_BAKERY_ITEM_GROCERY_STORE',\n",
       " 'CAT_BANDAGES',\n",
       " 'CAT_BATHING_SUITS',\n",
       " 'CAT_BATTERIES',\n",
       " 'CAT_BEER',\n",
       " 'CAT_BREATH_MINTS',\n",
       " 'CAT_CANDY,TEMP_COLD',\n",
       " 'CAT_CANDY,TRAIT_FLOUR,TEMP_COLD',\n",
       " 'CAT_CANDY_COATED_NUTS',\n",
       " 'CAT_CANNABIS',\n",
       " 'CAT_CHARCOAL_BRIQUETTES',\n",
       " 'CAT_CHOCOLATE',\n",
       " 'CAT_CIDER',\n",
       " 'CAT_CLOTHING',\n",
       " 'CAT_COFFEE,CONTAINER_BOTTLED,TEMP_COLD',\n",
       " 'CAT_COMBOS_BUNDLES',\n",
       " 'CAT_COMP_HARDWARE',\n",
       " 'CAT_COMP_SOFTWARE',\n",
       " 'CAT_CONDOMS',\n",
       " 'CAT_CONFECTIONARY',\n",
       " 'CAT_CONTACT_LENS_SOLUTION',\n",
       " 'CAT_COSTUMES',\n",
       " 'CAT_DELI_PLATTER,TEMP_UNHEATED',\n",
       " 'CAT_DIAPERS',\n",
       " 'CAT_DISPOSABLE_GLOVES',\n",
       " 'CAT_ENERGY_DRINK,CONTAINER_BOTTLED,TEMP_COLD',\n",
       " 'CAT_ENGINE_OIL',\n",
       " 'CAT_FEMININE_HYGIENE_PRODUCTS',\n",
       " 'CAT_FERTILIZER',\n",
       " 'CAT_FIREWOOD',\n",
       " 'CAT_FIRST_AID_KITS',\n",
       " 'CAT_FLASHLIGHT',\n",
       " 'CAT_FOOD_BY_WT_VOL,TEMP_UNHEATED',\n",
       " 'CAT_FOOTWEAR',\n",
       " 'CAT_FORTIFIED_WINE',\n",
       " 'CAT_FRUIT_VEG_PLANTS',\n",
       " 'CAT_GIFT_CARDS',\n",
       " 'CAT_GLOVES',\n",
       " 'CAT_GUM',\n",
       " 'CAT_HAND_SANITIZER',\n",
       " 'CAT_ICE,TEMP_COLD',\n",
       " 'CAT_ICECREAM,TEMP_COLD',\n",
       " 'CAT_ICE_CREAM_PINTS',\n",
       " 'CAT_ICE_MORE_THAN_10LBS',\n",
       " 'CAT_INSECTICIDES',\n",
       " 'CAT_JUICE,TRAIT_PCT_100,TEMP_COLD',\n",
       " 'CAT_JUICE,TRAIT_PCT_1TO4,TEMP_COLD',\n",
       " 'CAT_JUICE,TRAIT_PCT_25TO49,TEMP_COLD',\n",
       " 'CAT_JUICE,TRAIT_PCT_50TO69,TEMP_COLD',\n",
       " 'CAT_JUICE,TRAIT_PCT_5TO24,TEMP_COLD',\n",
       " 'CAT_JUICE,TRAIT_PCT_70TO99,TEMP_COLD',\n",
       " 'CAT_JUICE_NON_CARBONATED',\n",
       " 'CAT_JUICE_NON_CARBONATED_50TO25',\n",
       " 'CAT_JUICE_NON_CARBONATED_99TO51',\n",
       " 'CAT_LIGHTER_FLUID',\n",
       " 'CAT_LIP_BALM',\n",
       " 'CAT_LIQUOR',\n",
       " 'CAT_MAGAZINES',\n",
       " 'CAT_MARSHMALLOWS',\n",
       " 'CAT_MEAL_REPLACEMENT',\n",
       " 'CAT_MEDICATED_ITEMS',\n",
       " 'CAT_MILK_COCOA,CONTAINER_BOTTLED,TEMP_UNHEATED',\n",
       " 'CAT_MILK_SUBS',\n",
       " 'CAT_NEWSPAPERS',\n",
       " 'CAT_NON_ALCOHOLIC_BEER',\n",
       " 'CAT_NON_FOOD,TEMP_COLD',\n",
       " 'CAT_NON_TAXABLE',\n",
       " 'CAT_NUTRITIONAL_SHAKES',\n",
       " 'CAT_NUTRITION_SUPPLEMENT',\n",
       " 'CAT_OIL',\n",
       " 'CAT_OTC_MEDICATION',\n",
       " 'CAT_OTC_MEDICATION_ANTACIDS',\n",
       " 'CAT_OTC_MEDICATION_ANTIDIARRHEALS',\n",
       " 'CAT_OTC_MEDICATION_ANTIHISTAMINES',\n",
       " 'CAT_OTC_MEDICATION_ASTRINGENTS',\n",
       " 'CAT_OTC_MEDICATION_COLD_REMEDIES',\n",
       " 'CAT_OTC_MEDICATION_DECONGESTANTS',\n",
       " 'CAT_OTC_MEDICATION_ESTROGENS',\n",
       " 'CAT_OTC_MEDICATION_IBUPROFEN',\n",
       " 'CAT_OTC_MEDICATION_LAXATIVES',\n",
       " 'CAT_OTC_MEDICATION_NASAL_DECONGESTANTS',\n",
       " 'CAT_OTC_MEDICATION_STIMULANTS',\n",
       " 'CAT_PACIFIERS',\n",
       " 'CAT_PAPER_PRODUCTS',\n",
       " 'CAT_PAPER_PRODUCTS_DISPOSABLE_KITCHENWARE',\n",
       " 'CAT_PAPER_PRODUCTS_DISPOSABLE_STRAWS',\n",
       " 'CAT_PAPER_PRODUCTS_FACIAL_TISSUES',\n",
       " 'CAT_PAPER_PRODUCTS_PAPER_NAPKINS',\n",
       " 'CAT_PAPER_PRODUCTS_PAPER_TOWELS',\n",
       " 'CAT_PAPER_PRODUCTS_PERSONAL_WIPES',\n",
       " 'CAT_PERSONAL_LUBRICANTS',\n",
       " 'CAT_PETROLEUM_JELLY',\n",
       " 'CAT_PET_FOOD',\n",
       " 'CAT_PORTIONED_SNACKS',\n",
       " 'CAT_POSTAGE',\n",
       " 'CAT_POWDERED_DRINK,CONTAINER_BOTTLED,TEMP_COLD',\n",
       " 'CAT_PREGNANCY_TEST',\n",
       " 'CAT_PREPACKAGED_FOOD,CAT_ICECREAM,TEMP_COLD',\n",
       " 'CAT_PREPACKAGED_FOOD,CAT_SNACK,TEMP_COLD',\n",
       " 'CAT_PREPACKAGED_FOOD,TEMP_COLD',\n",
       " 'CAT_PREPACKAGED_FOOD_BUTTER',\n",
       " 'CAT_PREPACKAGED_FOOD_CAKES',\n",
       " 'CAT_PREPACKAGED_FOOD_CANNED_BEANS',\n",
       " 'CAT_PREPACKAGED_FOOD_CANNED_FRUIT',\n",
       " 'CAT_PREPACKAGED_FOOD_CANNED_VEGETABLES',\n",
       " 'CAT_PREPACKAGED_FOOD_CEREALS',\n",
       " 'CAT_PREPACKAGED_FOOD_CHEESE',\n",
       " 'CAT_PREPACKAGED_FOOD_CONDIMENTS',\n",
       " 'CAT_PREPACKAGED_FOOD_CRACKERS',\n",
       " 'CAT_PREPACKAGED_FOOD_DESSERTS',\n",
       " 'CAT_PREPACKAGED_FOOD_EDIBLE_OILS',\n",
       " 'CAT_PREPACKAGED_FOOD_EGGS',\n",
       " 'CAT_PREPACKAGED_FOOD_FRESH_BREAD',\n",
       " 'CAT_PREPACKAGED_FOOD_FRESH_FRUITS',\n",
       " 'CAT_PREPACKAGED_FOOD_HONEY',\n",
       " 'CAT_PREPACKAGED_FOOD_ICE_CREAM_CONE',\n",
       " 'CAT_PREPACKAGED_FOOD_INFANT_FOOD',\n",
       " 'CAT_PREPACKAGED_FOOD_INSTANT_COFFEE',\n",
       " 'CAT_PREPACKAGED_FOOD_JAMS',\n",
       " 'CAT_PREPACKAGED_FOOD_NUT_SPREADS',\n",
       " 'CAT_PREPACKAGED_FOOD_PASTA',\n",
       " 'CAT_PREPACKAGED_FOOD_PICKLES',\n",
       " 'CAT_PREPACKAGED_FOOD_POPCORN',\n",
       " 'CAT_PREPACKAGED_FOOD_SALT_PRESERVED_SEA_FOOD',\n",
       " 'CAT_PREPACKAGED_FOOD_SEASONING',\n",
       " 'CAT_PREPACKAGED_FOOD_SHELF_STABLE_MILK',\n",
       " 'CAT_PREPACKAGED_FOOD_SHELF_STABLE_POTATOES',\n",
       " 'CAT_PREPACKAGED_FOOD_SHELF_STABLE_SOUP',\n",
       " 'CAT_PREPACKAGED_FOOD_SNACK_CHIPS',\n",
       " 'CAT_PREPACKAGED_FOOD_SNACK_COOKIES',\n",
       " 'CAT_PREPACKAGED_FOOD_SNACK_HEALTH_BARS',\n",
       " 'CAT_PREPACKAGED_FOOD_SNACK_NUTS',\n",
       " 'CAT_PREPACKAGED_FOOD_SNACK_SNACK_BARS',\n",
       " 'CAT_PREPACKAGED_FOOD_TOMATO_PUREE',\n",
       " 'CAT_PREPARED_DRINK,TEMP_UNHEATED',\n",
       " 'CAT_PREPARED_FOOD,TEMP_HEATED',\n",
       " 'CAT_PREPARED_FOOD_PREPARED_SALADS',\n",
       " 'CAT_PREPARED_FOOD_PREPARED_SIDE_DISHES',\n",
       " 'CAT_PRESCRIPTION_DEVICES',\n",
       " 'CAT_PRESCRIPTION_DRUGS',\n",
       " 'CAT_PROPANE',\n",
       " 'CAT_PROTECTIVE_CLOTHING',\n",
       " 'CAT_SANDWICH,TEMP_UNHEATED',\n",
       " 'CAT_SCHOOL_SUPPLIES',\n",
       " 'CAT_SCHOOL_SUPPLIES_MARKERS',\n",
       " 'CAT_SCHOOL_SUPPLIES_NOTEBOOKS',\n",
       " 'CAT_SCHOOL_SUPPLIES_PENCILS',\n",
       " 'CAT_SCHOOL_SUPPLIES_PENS',\n",
       " 'CAT_SEEDS',\n",
       " 'CAT_SOFT_DRINK,CONTAINER_BOTTLED,TEMP_COLD',\n",
       " 'CAT_SOFT_DRINK,TRAIT_NONCARB,CONTAINER_BOTTLED,TEMP_COLD',\n",
       " 'CAT_SPARKLING_WINE',\n",
       " 'CAT_SPORTING_CLOTHING',\n",
       " 'CAT_STORM_PREP_ITEMS',\n",
       " 'CAT_SUNSCREEN',\n",
       " 'CAT_SUPPLEMENTS',\n",
       " 'CAT_TEA,CONTAINER_BOTTLED,TEMP_COLD',\n",
       " 'CAT_THERMOMETERS',\n",
       " 'CAT_TOILET_PAPER',\n",
       " 'CAT_TOOTHBRUSH',\n",
       " 'CAT_TOOTHPASTE',\n",
       " 'CAT_TPP',\n",
       " 'CAT_TPP_AIR_FRESHENER',\n",
       " 'CAT_TPP_BATH_GELS',\n",
       " 'CAT_TPP_BLEACHES',\n",
       " 'CAT_TPP_BODY_LOTION',\n",
       " 'CAT_TPP_CAMPING_EQUIPMENT',\n",
       " 'CAT_TPP_CANDLE',\n",
       " 'CAT_TPP_CIGARETTE_LIGHTERS',\n",
       " 'CAT_TPP_CLEANING_EQUIPMENT',\n",
       " 'CAT_TPP_COMBS',\n",
       " 'CAT_TPP_CONTAINERS',\n",
       " 'CAT_TPP_COSMETICS',\n",
       " 'CAT_TPP_DENTAL_FLOSS',\n",
       " 'CAT_TPP_DEODORANTS',\n",
       " 'CAT_TPP_DISH_WASHING_PRODUCTS',\n",
       " 'CAT_TPP_DRAIN_CLEANER',\n",
       " 'CAT_TPP_DRINK_WARE',\n",
       " 'CAT_TPP_ENVELOPES',\n",
       " 'CAT_TPP_HAND_TOOLS',\n",
       " 'CAT_TPP_HEADPHONES',\n",
       " 'CAT_TPP_INSECT_REPELLENT',\n",
       " 'CAT_TPP_LAUNDRY_PRODUCTS',\n",
       " 'CAT_TPP_MASKS',\n",
       " 'CAT_TPP_MOUTH_WASH',\n",
       " 'CAT_TPP_NAIL_CLIPPERS',\n",
       " 'CAT_TPP_NAIL_POLISH_REMOVER',\n",
       " 'CAT_TPP_PERFUMES',\n",
       " 'CAT_TPP_PLAYING_CARDS',\n",
       " 'CAT_TPP_RAZORS',\n",
       " 'CAT_TPP_SCOURING_PADS',\n",
       " 'CAT_TPP_SHAMPOOS',\n",
       " 'CAT_TPP_SHAVING_CREAMS',\n",
       " 'CAT_TPP_SKIN_CARE_PRODUCTS',\n",
       " 'CAT_TPP_SPONGES',\n",
       " 'CAT_TPP_TAPE',\n",
       " 'CAT_TPP_TOYS',\n",
       " 'CAT_TPP_TRASH_BAGS',\n",
       " 'CAT_TPP_UMBRELLAS',\n",
       " 'CAT_TPP_UTENSILS',\n",
       " 'CAT_WATER,TRAIT_CARB,TRAIT_FLV_SWT,CONTAINER_BOTTLED,TEMP_COLD',\n",
       " 'CAT_WATER,TRAIT_CARB,TRAIT_UNFLV_UNSWT,CONTAINER_BOTTLED,TEMP_COLD',\n",
       " 'CAT_WATER,TRAIT_NONCARB,TRAIT_FLV_SWT,CONTAINER_BOTTLED,TEMP_COLD',\n",
       " 'CAT_WATER,TRAIT_NONCARB,TRAIT_UNFLV_UNSWT,CONTAINER_BOTTLED,TEMP_COLD',\n",
       " 'CAT_WINE'}"
      ]
     },
     "execution_count": 333,
     "metadata": {},
     "output_type": "execute_result"
    }
   ],
   "source": [
    "set_master_mapping_data_categories"
   ]
  },
  {
   "cell_type": "code",
   "execution_count": 331,
   "id": "7cf096a2",
   "metadata": {},
   "outputs": [
    {
     "data": {
      "text/plain": [
       "['CAT_ALCOHOL,TEMP_HEATED',\n",
       " 'CAT_PREPACKAGED_FOOD,TEMP_HEATED',\n",
       " 'CAT_JUICE,TRAIT_PCT_100,TEMP_HEATED',\n",
       " 'CAT_COFFEE,CONTAINER_BOTTLED,TEMP_HEATED',\n",
       " 'CAT_PREPARED_DRINK,TEMP_HEATED',\n",
       " 'CAT_PREPACKAGED_FOOD,CAT_SNACK,TEMP_HEATED',\n",
       " 'CAT_CANDY,TRAIT_FLOUR,TEMP_HEATED',\n",
       " 'CAT_MILK_COCOA,CONTAINER_BOTTLED,TEMP_HEATED',\n",
       " 'CAT_PREPACKAGED_FOOD,CAT_ICECREAM,TEMP_HEATED',\n",
       " 'CAT_WATER,TRAIT_CARB,TRAIT_FLV_SWT,CONTAINER_BOTTLED,TEMP_HEATED',\n",
       " 'CAT_ICECREAM,TEMP_HEATED',\n",
       " 'CAT_TEA,CONTAINER_BOTTLED,TEMP_HEATED',\n",
       " 'CAT_WATER,TRAIT_NONCARB,TRAIT_UNFLV_UNSWT,CONTAINER_BOTTLED,TEMP_HEATED',\n",
       " 'CAT_DELI_PLATTER,TEMP_COLD',\n",
       " 'CAT_SOFT_DRINK,CONTAINER_BOTTLED,TEMP_HEATED',\n",
       " 'CAT_WATER,TRAIT_NONCARB,TRAIT_FLV_SWT,CONTAINER_BOTTLED,TEMP_HEATED',\n",
       " 'CAT_WATER,TRAIT_CARB,TRAIT_UNFLV_UNSWT,CONTAINER_BOTTLED,TEMP_HEATED',\n",
       " 'CAT_ENERGY_DRINK,CONTAINER_BOTTLED,TEMP_HEATED']"
      ]
     },
     "execution_count": 331,
     "metadata": {},
     "output_type": "execute_result"
    }
   ],
   "source": [
    "dif_result_categories1"
   ]
  },
  {
   "cell_type": "code",
   "execution_count": 202,
   "id": "2f69ebc9",
   "metadata": {},
   "outputs": [
    {
     "data": {
      "text/plain": [
       "['CAT_ALCOHOL,TEMP_HEATED',\n",
       " 'CAT_PREPACKAGED_FOOD,TEMP_HEATED',\n",
       " 'CAT_JUICE,TRAIT_PCT_100,TEMP_HEATED',\n",
       " 'CAT_PREPARED_DRINK,TEMP_HEATED',\n",
       " 'CAT_PREPACKAGED_FOOD,CAT_SNACK,TEMP_HEATED',\n",
       " 'TEMP_HEATED',\n",
       " 'CAT_MILK_COCOA,CONTAINER_BOTTLED,TEMP_HEATED',\n",
       " 'TEMP_COLD',\n",
       " 'CAT_ICECREAM,TEMP_HEATED',\n",
       " 'CAT_WATER,TRAIT_CARB,TRAIT_FLV_SWT,CONTAINER_BOTTLED,TEMP_HEATED',\n",
       " 'CAT_TEA,CONTAINER_BOTTLED,TEMP_HEATED',\n",
       " 'CAT_WATER,TRAIT_NONCARB,TRAIT_UNFLV_UNSWT,CONTAINER_BOTTLED,TEMP_HEATED',\n",
       " 'CAT_SOFT_DRINK,CONTAINER_BOTTLED,TEMP_HEATED',\n",
       " 'CAT_WATER,TRAIT_NONCARB,TRAIT_FLV_SWT,CONTAINER_BOTTLED,TEMP_HEATED',\n",
       " 'CAT_WATER,TRAIT_CARB,TRAIT_UNFLV_UNSWT,CONTAINER_BOTTLED,TEMP_HEATED',\n",
       " 'CAT_ENERGY_DRINK,CONTAINER_BOTTLED,TEMP_HEATED',\n",
       " 'CAT_PREPACKAGED_FOOD,CAT_ICECREAM,TEMP_HEATED']"
      ]
     },
     "execution_count": 202,
     "metadata": {},
     "output_type": "execute_result"
    }
   ],
   "source": [
    "dif_result_categories"
   ]
  },
  {
   "cell_type": "markdown",
   "id": "f9dab90b",
   "metadata": {},
   "source": [
    "# Model Saving"
   ]
  },
  {
   "cell_type": "code",
   "execution_count": 148,
   "id": "54abd6ad",
   "metadata": {},
   "outputs": [],
   "source": [
    "import joblib\n",
    "import datetime\n",
    "# save the model to disk\n",
    "filename_primary= 'finalized_model.sav'\n",
    "joblib.dump(rf, open(filename_primary, 'wb'))"
   ]
  },
  {
   "cell_type": "markdown",
   "id": "c2f0273b",
   "metadata": {},
   "source": [
    "<a id='Validation and Results'></a>"
   ]
  },
  {
   "cell_type": "markdown",
   "id": "e0b4c028",
   "metadata": {},
   "source": [
    "# Validation and Results"
   ]
  },
  {
   "cell_type": "code",
   "execution_count": null,
   "id": "c98d4f1f",
   "metadata": {},
   "outputs": [],
   "source": [
    "#accuracy score of the model\n",
    "accuracy = rf.score(X_test['processed_text'].values, y_test)\n",
    "print(\"Accuracy = {}\".format(accuracy))"
   ]
  },
  {
   "cell_type": "code",
   "execution_count": null,
   "id": "7e8a0a2d",
   "metadata": {},
   "outputs": [],
   "source": [
    "from sklearn import metrics\n",
    "import matplotlib.pyplot as plt"
   ]
  },
  {
   "cell_type": "code",
   "execution_count": null,
   "id": "a1b64ce8",
   "metadata": {},
   "outputs": [],
   "source": [
    "#classification report \n",
    "classification_report = metrics.classification_report(y_test_final, y_pred, output_dict=True)"
   ]
  },
  {
   "cell_type": "code",
   "execution_count": null,
   "id": "605beb69",
   "metadata": {},
   "outputs": [],
   "source": [
    "display(pd.DataFrame(classification_report).transpose())"
   ]
  },
  {
   "cell_type": "code",
   "execution_count": null,
   "id": "7a34a9f8",
   "metadata": {},
   "outputs": [],
   "source": [
    "# check the misclassifications\n",
    "misclassifications= result.loc[result['original_cat']!=result['predicted_cat']]"
   ]
  },
  {
   "cell_type": "code",
   "execution_count": null,
   "id": "3581dc5f",
   "metadata": {},
   "outputs": [],
   "source": [
    "misclassifications"
   ]
  },
  {
   "cell_type": "code",
   "execution_count": null,
   "id": "067b6314",
   "metadata": {},
   "outputs": [],
   "source": [
    "misclassifications.to_csv('../output/misclassifications.csv')"
   ]
  },
  {
   "cell_type": "code",
   "execution_count": null,
   "id": "6a90f724",
   "metadata": {},
   "outputs": [],
   "source": [
    "misclassifications.groupby(['establishment_type']).size()"
   ]
  },
  {
   "cell_type": "code",
   "execution_count": 19,
   "id": "d0851c93",
   "metadata": {},
   "outputs": [],
   "source": [
    "train_size = 0.8\n",
    "train_end = int(len(data_df)*train_size)\n",
    "df_train = data_df[:train_end]\n",
    "df_test = data_df[train_end:]\n",
    "df_train = df_train[['Item','Description','establishment_type','target']]\n",
    "df_test = df_test[['Item','Description','establishment_type','target']]\n",
    "train_size_cicd=0.02\n",
    "train_end_cicd = int(len(data_cicd_final)*train_size_cicd)\n",
    "df2_train = data_cicd_final[:train_end_cicd]\n",
    "df2_test = data_cicd_final[train_end_cicd:]\n",
    "df2_train = df2_train[['Item','Description','establishment_type','target']]\n",
    "df2_test = df2_test[['Item','Description','establishment_type','target']]\n",
    "X_train_save = df_train.append(df2_train)\n",
    "X_test_save = df_test.append(df2_test)\n",
    "X_train_save['label'] = 'train'\n",
    "X_test_save['label'] = 'test'\n",
    "X_data = X_train_save.append(X_test_save)\n",
    "X_data.to_csv('df_traintestdata.csv')"
   ]
  },
  {
   "cell_type": "code",
   "execution_count": null,
   "id": "827162c1",
   "metadata": {},
   "outputs": [],
   "source": [
    "X_data"
   ]
  },
  {
   "cell_type": "code",
   "execution_count": null,
   "id": "45e6dc68",
   "metadata": {},
   "outputs": [],
   "source": []
  },
  {
   "cell_type": "code",
   "execution_count": null,
   "id": "e387bb50",
   "metadata": {},
   "outputs": [],
   "source": []
  },
  {
   "cell_type": "code",
   "execution_count": null,
   "id": "e50336a0",
   "metadata": {},
   "outputs": [],
   "source": []
  },
  {
   "cell_type": "code",
   "execution_count": null,
   "id": "5669cde9",
   "metadata": {},
   "outputs": [],
   "source": []
  }
 ],
 "metadata": {
  "kernelspec": {
   "display_name": "Python 3 (ipykernel)",
   "language": "python",
   "name": "python3"
  },
  "language_info": {
   "codemirror_mode": {
    "name": "ipython",
    "version": 3
   },
   "file_extension": ".py",
   "mimetype": "text/x-python",
   "name": "python",
   "nbconvert_exporter": "python",
   "pygments_lexer": "ipython3",
   "version": "3.7.8"
  }
 },
 "nbformat": 4,
 "nbformat_minor": 5
}
