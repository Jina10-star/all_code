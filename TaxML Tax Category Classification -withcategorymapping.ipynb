{
 "cells": [
  {
   "cell_type": "markdown",
   "id": "6aa18879",
   "metadata": {},
   "source": [
    "# <h1>Table of Contents<span class=\"tocSkip\"></span></h1>\n",
    "<div class=\"toc\"><ul class=\"toc-item\"><li><span><a href=\"#Import Requirements\" data-toc-modified-id=\"Import-Requirements-1\"><span class=\"toc-item-num\">1&nbsp;&nbsp;</span>Import Requirements</a></span></li><li><span><a href=\"#Prepare Training Data\" data-toc-modified-id=\"Prepare-Training-Data-2\"><span class=\"toc-item-num\">2&nbsp;&nbsp;</span>Prepare Training Data</a></span><ul class=\"toc-item\"></ul></li><li><span><a href=\"#Model Training\" data-toc-modified-id=\"Model Training-3\"><span class=\"toc-item-num\">3&nbsp;&nbsp;</span>Model Training</a></span></li><li><span><a href=\"#Model Saving\" data-toc-modified-id=\"Model Saving-4\"><span class=\"toc-item-num\">4&nbsp;&nbsp;</span>Model Saving</a></span><ul class=\"toc-item\"></ul></li><li><span><a href=\"#Validation and Results\" data-toc-modified-id=\"Validation and Results-6\"><span class=\"toc-item-num\">6&nbsp;&nbsp;</span>Validation and Results</a></span><ul class=\"toc-item\"></ul></div>"
   ]
  },
  {
   "cell_type": "markdown",
   "id": "eabe6d0d",
   "metadata": {},
   "source": [
    "<a id='Import Requirements'></a>"
   ]
  },
  {
   "cell_type": "markdown",
   "id": "b971b37a",
   "metadata": {},
   "source": [
    "# Import Requirements"
   ]
  },
  {
   "cell_type": "code",
   "execution_count": null,
   "id": "bd4a5263",
   "metadata": {},
   "outputs": [],
   "source": [
    "# Make sure to "
   ]
  },
  {
   "cell_type": "code",
   "execution_count": 1,
   "id": "ca994c06",
   "metadata": {},
   "outputs": [],
   "source": [
    "import pandas as pd\n",
    "import numpy as np\n",
    "import json\n",
    "import os\n",
    "import re\n",
    "from sklearn.feature_extraction.text import TfidfTransformer, CountVectorizer\n",
    "from sklearn.naive_bayes import MultinomialNB\n",
    "from sklearn.pipeline import Pipeline\n",
    "from sklearn.model_selection import train_test_split\n",
    "from sklearn.metrics import accuracy_score, precision_score, recall_score, f1_score, roc_curve, auc, confusion_matrix\n",
    "from sklearn.pipeline import Pipeline\n",
    "import nltk\n",
    "from nltk.corpus import stopwords\n",
    "from nltk.stem import WordNetLemmatizer \n",
    "from nltk.corpus import wordnet\n",
    "import string\n",
    "import matplotlib.pyplot as plt"
   ]
  },
  {
   "cell_type": "code",
   "execution_count": 2,
   "id": "1189a18d",
   "metadata": {},
   "outputs": [
    {
     "data": {
      "text/plain": [
       "'0.21.1'"
      ]
     },
     "execution_count": 2,
     "metadata": {},
     "output_type": "execute_result"
    }
   ],
   "source": [
    "import sklearn\n",
    "sklearn.__version__"
   ]
  },
  {
   "cell_type": "markdown",
   "id": "4342ccbd",
   "metadata": {},
   "source": [
    "<a id='Prepare Training Data'></a>"
   ]
  },
  {
   "cell_type": "markdown",
   "id": "03f4230c",
   "metadata": {},
   "source": [
    "# Prepare Training Data"
   ]
  },
  {
   "cell_type": "markdown",
   "id": "07b0d0ec",
   "metadata": {},
   "source": [
    "Input data for training consists of both historical data and CICD data( Production run data for which manual agent validation has been done for the ML prediction)"
   ]
  },
  {
   "cell_type": "code",
   "execution_count": 3,
   "id": "322e3a4c",
   "metadata": {},
   "outputs": [],
   "source": [
    "def preprocess_text(message):\n",
    "\n",
    "    #stopwords\n",
    "    #new_stopwords=['hi','hello','team','thanks','hey','regards','please','jira','com','ext','image','capture','best','customer','uber','png','mailto']\n",
    "    stpwrd = nltk.corpus.stopwords.words('english')\n",
    "    #stpwrd.extend(new_stopwords)\n",
    "    # 1. Init Lemmatizer\n",
    "    lemmatizer = WordNetLemmatizer()\n",
    "    message=message.lower()\n",
    "    #removing the numerical values and working only with text values\n",
    "    message = re.sub('[^a-zA-Z]', \" \", message)\n",
    "    #lowering and removing punctuation\n",
    "    message = re.sub(r'[^\\w\\s]',' ',message)\n",
    "    #removing the stopwords\n",
    "    message = ' '.join([word for word in message.split() if word not in stpwrd and len(word)>1])\n",
    "    #lemmatizing the text\n",
    "    message =  \" \".join([lemmatizer.lemmatize(w) for w in nltk.word_tokenize(message) if w not in string.punctuation])\n",
    "    #removing hyperlinks\n",
    "    message = re.sub(r'http\\S+', ' ', message)\n",
    "    #removing special characters\n",
    "    message=message.replace('<','').replace('>','').replace('*','').replace('[','').replace(']','').replace('|','')\n",
    "    \n",
    "    return message"
   ]
  },
  {
   "cell_type": "code",
   "execution_count": 4,
   "id": "a9a8b0d8",
   "metadata": {},
   "outputs": [],
   "source": [
    "#data_cicd=pd.read_csv('../data/retrain_data/2022-12-13 - INDIRECTTX-1926 - Walgreens_after_tagging.csv' , usecols = ['item_name','subsection_name','description','establishment_type','CAT NAME,CAT_TEMP','Integers'])\n",
    "#data_cicd['target_new']=data_cicd['CAT NAME,CAT_TEMP'] + \":\" + data_cicd['Integers']\n",
    "#data_cicd.drop(['CAT NAME,CAT_TEMP', 'Integers'],inplace=True,axis=1)\n",
    "#data_cicd['combined_text'] = final_data[['Item','Description','establishment_type']].apply(lambda x: ' '.join(x[x.notnull()]), axis = 1)\n"
   ]
  },
  {
   "cell_type": "code",
   "execution_count": 29,
   "id": "37c8c411",
   "metadata": {},
   "outputs": [],
   "source": [
    "#del data_cicd, cicd_categories_beforemapping, cicd_categories_aftermapping, mapping_data, master_mapping_data, set_cicd_categories_aftermapping, set_master_mapping_data_categories, dif_categories, common_categories\n",
    "data_his=pd.read_csv('/Users/jghosh2/Documents/my-notebook/Tax_ml_poc/data/historical_data_24_11_22.csv')"
   ]
  },
  {
   "cell_type": "code",
   "execution_count": 30,
   "id": "787a28df",
   "metadata": {},
   "outputs": [
    {
     "name": "stdout",
     "output_type": "stream",
     "text": [
      "<class 'pandas.core.frame.DataFrame'>\n",
      "RangeIndex: 396190 entries, 0 to 396189\n",
      "Data columns (total 6 columns):\n",
      " #   Column              Non-Null Count   Dtype \n",
      "---  ------              --------------   ----- \n",
      " 0   Unnamed: 0          396190 non-null  int64 \n",
      " 1   UniqueUUID          396190 non-null  object\n",
      " 2   Item                396187 non-null  object\n",
      " 3   Description         271012 non-null  object\n",
      " 4   establishment_type  396190 non-null  object\n",
      " 5   target_new          396190 non-null  object\n",
      "dtypes: int64(1), object(5)\n",
      "memory usage: 18.1+ MB\n"
     ]
    }
   ],
   "source": [
    "data_his.info()"
   ]
  },
  {
   "cell_type": "code",
   "execution_count": 31,
   "id": "9a63848a",
   "metadata": {},
   "outputs": [
    {
     "name": "stderr",
     "output_type": "stream",
     "text": [
      "/Users/jghosh2/opt/anaconda3/envs/py365/lib/python3.7/site-packages/IPython/core/interactiveshell.py:3457: DtypeWarning: Columns (10) have mixed types.Specify dtype option on import or set low_memory=False.\n",
      "  exec(code_obj, self.user_global_ns, self.user_ns)\n"
     ]
    }
   ],
   "source": [
    "data_cicd=pd.read_csv('../data/retrain_data/TaxML-CICD - Prod_Data_latest.csv',index_col=0)\n",
    "#/Users/mdevar2/Downloads/data discripency/TaxML-CICD - Prod_Data (4).csv"
   ]
  },
  {
   "cell_type": "code",
   "execution_count": 32,
   "id": "68341ad8",
   "metadata": {},
   "outputs": [],
   "source": [
    "#data_cicd.shape"
   ]
  },
  {
   "cell_type": "code",
   "execution_count": 33,
   "id": "ecad780e",
   "metadata": {},
   "outputs": [
    {
     "name": "stdout",
     "output_type": "stream",
     "text": [
      "<class 'pandas.core.frame.DataFrame'>\n",
      "Index: 583360 entries, 12/08/22 03:53 to 15/02/23 23:36\n",
      "Data columns (total 14 columns):\n",
      " #   Column                               Non-Null Count   Dtype \n",
      "---  ------                               --------------   ----- \n",
      " 0   Date (BOT Sent Details to COE Team)  580535 non-null  object\n",
      " 1   UniqueUUID                           583360 non-null  object\n",
      " 2   store_uuid                           583360 non-null  object\n",
      " 3   item_uuid                            583360 non-null  object\n",
      " 4   Item                                 583358 non-null  object\n",
      " 5   Description                          341692 non-null  object\n",
      " 6   establishment_type                   583360 non-null  object\n",
      " 7   CAT Name                             583360 non-null  object\n",
      " 8   Integer                              583360 non-null  object\n",
      " 9   Confidence Score                     583360 non-null  object\n",
      " 10  Agent Corrected CAT Name             583360 non-null  object\n",
      " 11  Agent Corrected Integer              583360 non-null  object\n",
      " 12  CAT NAME_ ValidationScore [0-100]    583360 non-null  int64 \n",
      " 13  Integer_ValidationScore[0-100]       583360 non-null  int64 \n",
      "dtypes: int64(2), object(12)\n",
      "memory usage: 66.8+ MB\n"
     ]
    }
   ],
   "source": [
    "data_cicd.info()"
   ]
  },
  {
   "cell_type": "code",
   "execution_count": 34,
   "id": "32511ccd",
   "metadata": {},
   "outputs": [],
   "source": [
    "#data_cicd.drop('Unnamed: 0')"
   ]
  },
  {
   "cell_type": "code",
   "execution_count": 35,
   "id": "fc8286e0",
   "metadata": {},
   "outputs": [],
   "source": [
    "#data_cicd.rename(columns = {'Agent Corrected CAT NAME':'Agent_Corrected_CAT_NAME'}"
   ]
  },
  {
   "cell_type": "code",
   "execution_count": 36,
   "id": "3ac92bd3",
   "metadata": {},
   "outputs": [
    {
     "data": {
      "text/plain": [
       "182"
      ]
     },
     "execution_count": 36,
     "metadata": {},
     "output_type": "execute_result"
    }
   ],
   "source": [
    "data_cicd['Agent Corrected CAT Name'].nunique()"
   ]
  },
  {
   "cell_type": "code",
   "execution_count": 9,
   "id": "18f56017",
   "metadata": {},
   "outputs": [],
   "source": [
    "data_cicd = data_cicd.dropna(axis=0, subset=['Agent Corrected CAT Name'])\n",
    "data_cicd = data_cicd.drop(data_cicd[data_cicd['Agent Corrected CAT Name']=='#REF!'].index)\n",
    "data_cicd = data_cicd.drop(data_cicd[data_cicd['Agent Corrected CAT Name']=='106,107,1'].index)\n",
    "data_cicd = data_cicd.drop(data_cicd[data_cicd['Agent Corrected CAT Name']=='Bottled Tea Drink'].index)\n",
    "data_cicd = data_cicd.drop(data_cicd[data_cicd['Agent Corrected CAT Name']=='Bottled tea drink'].index)\n",
    "data_cicd = data_cicd.drop(data_cicd[data_cicd['Agent Corrected CAT Name']=='Air Freshener'].index)"
   ]
  },
  {
   "cell_type": "code",
   "execution_count": 25,
   "id": "d95ea483",
   "metadata": {},
   "outputs": [
    {
     "data": {
      "text/plain": [
       "182"
      ]
     },
     "execution_count": 25,
     "metadata": {},
     "output_type": "execute_result"
    }
   ],
   "source": [
    "data_cicd['Agent Corrected Integer'].nunique()"
   ]
  },
  {
   "cell_type": "code",
   "execution_count": 38,
   "id": "365de96b",
   "metadata": {},
   "outputs": [
    {
     "data": {
      "text/plain": [
       "0"
      ]
     },
     "execution_count": 38,
     "metadata": {},
     "output_type": "execute_result"
    }
   ],
   "source": [
    "master_mapping_data = pd.read_csv(\"../data/MASTER_Tax_Category_Mapping.csv\")\n",
    "set_cicd_categories_aftermapping = set(data_cicd['Agent Corrected CAT Name'].unique())\n",
    "set_master_mapping_data_categories = set(master_mapping_data['CAT_Name'].unique())\n",
    "dif_categories = list(set_cicd_categories_aftermapping.difference(set_master_mapping_data_categories))\n",
    "len(dif_categories)"
   ]
  },
  {
   "cell_type": "code",
   "execution_count": 39,
   "id": "8352e4ef",
   "metadata": {},
   "outputs": [
    {
     "data": {
      "text/plain": [
       "0"
      ]
     },
     "execution_count": 39,
     "metadata": {},
     "output_type": "execute_result"
    }
   ],
   "source": [
    "master_mapping_data = pd.read_csv(\"../data/MASTER_Tax_Category_Mapping.csv\")\n",
    "set_cicd_categories_aftermapping = set(data_cicd['CAT Name'].unique())\n",
    "set_master_mapping_data_categories = set(master_mapping_data['CAT_Name'].unique())\n",
    "dif_categories = list(set_cicd_categories_aftermapping.difference(set_master_mapping_data_categories))\n",
    "len(dif_categories)"
   ]
  },
  {
   "cell_type": "code",
   "execution_count": 28,
   "id": "242ba6ab",
   "metadata": {},
   "outputs": [
    {
     "data": {
      "text/plain": [
       "[nan,\n",
       " 'CAT_SANDWICH,TEMP_HEATED',\n",
       " 'CAT_LIQUOR,TEMP_HEATED',\n",
       " 'Gancia, 750mL Prosecco (11.5% ABV)',\n",
       " 'August 29,2022']"
      ]
     },
     "execution_count": 28,
     "metadata": {},
     "output_type": "execute_result"
    }
   ],
   "source": [
    "dif_categories"
   ]
  },
  {
   "cell_type": "code",
   "execution_count": 11,
   "id": "dcee4380",
   "metadata": {},
   "outputs": [],
   "source": [
    "#cicd_categories_beforemapping=data_cicd['Agent Corrected CAT Name'].unique()\n",
    "#cicd_categories_beforemapping=pd.Series(cicd_categories_beforemapping)\n",
    "#cicd_categories_beforemapping.to_csv('cicd_categories_beforemapping.csv')"
   ]
  },
  {
   "cell_type": "code",
   "execution_count": 12,
   "id": "8d6e683c",
   "metadata": {},
   "outputs": [],
   "source": [
    "mapping_data=pd.read_csv('/Users/jghosh2/Documents/my-notebook/Tax_ml_poc/data/retrain_data/mapping_latest.csv')\n",
    "cat_dict = dict(zip(mapping_data['Agent CAT Name'], mapping_data['Updated CAT Name']))\n",
    "data_cicd[\"Agent Corrected CAT Name\"] = data_cicd[\"Agent Corrected CAT Name\"].replace(cat_dict)"
   ]
  },
  {
   "cell_type": "code",
   "execution_count": 29,
   "id": "48598899",
   "metadata": {},
   "outputs": [],
   "source": [
    "mapping_data=pd.read_csv('/Users/jghosh2/Documents/my-notebook/Tax_ml_poc/data/retrain_data/mapping_latest.csv')\n",
    "cat_dict = dict(zip(mapping_data['Agent CAT Name'], mapping_data['Updated CAT Name']))\n",
    "data_cicd[\"CAT Name\"] = data_cicd[\"CAT Name\"].replace(cat_dict)"
   ]
  },
  {
   "cell_type": "code",
   "execution_count": 13,
   "id": "bb17ab56",
   "metadata": {},
   "outputs": [],
   "source": [
    "mapping_data_1=pd.read_csv('/Users/jghosh2/Documents/my-notebook/Tax_ml_poc/data/MASTER_Tax_Category_Mapping_latest1.csv')\n",
    "mapping1 = dict(mapping_data_1[['Updated CAT Name', 'Updated Integer']].values)\n",
    "data_cicd['Agent Corrected Integer'] = data_cicd['Agent Corrected CAT Name'].map(mapping1)"
   ]
  },
  {
   "cell_type": "code",
   "execution_count": 34,
   "id": "e49a1f34",
   "metadata": {},
   "outputs": [],
   "source": [
    "mapping_data_1=pd.read_csv('/Users/jghosh2/Documents/my-notebook/Tax_ml_poc/data/MASTER_Tax_Category_Mapping_latest1.csv')\n",
    "mapping1 = dict(mapping_data_1[['Updated CAT Name', 'Updated Integer']].values)\n",
    "data_cicd['Integer'] = data_cicd['CAT Name'].map(mapping1)"
   ]
  },
  {
   "cell_type": "code",
   "execution_count": 79,
   "id": "27db1c8b",
   "metadata": {},
   "outputs": [],
   "source": [
    "data_cicd1=data_cicd[data_cicd['Agent Corrected CAT Name']!=data_cicd['CAT Name']]"
   ]
  },
  {
   "cell_type": "code",
   "execution_count": 80,
   "id": "ec07aa9c",
   "metadata": {},
   "outputs": [],
   "source": [
    "#data_cicd1=data_cicd[data_cicd['Agent Corrected Integer']!=data_cicd['Integer']]"
   ]
  },
  {
   "cell_type": "code",
   "execution_count": 81,
   "id": "211fd5ae",
   "metadata": {},
   "outputs": [
    {
     "data": {
      "text/plain": [
       "0      11477\n",
       "100        3\n",
       "Name: CAT NAME_ ValidationScore [0-100], dtype: int64"
      ]
     },
     "execution_count": 81,
     "metadata": {},
     "output_type": "execute_result"
    }
   ],
   "source": [
    "data_cicd1['CAT NAME_ ValidationScore [0-100]'].value_counts()"
   ]
  },
  {
   "cell_type": "code",
   "execution_count": 82,
   "id": "e34a6271",
   "metadata": {},
   "outputs": [
    {
     "name": "stderr",
     "output_type": "stream",
     "text": [
      "/Users/jghosh2/opt/anaconda3/envs/py365/lib/python3.7/site-packages/ipykernel_launcher.py:1: SettingWithCopyWarning: \n",
      "A value is trying to be set on a copy of a slice from a DataFrame.\n",
      "Try using .loc[row_indexer,col_indexer] = value instead\n",
      "\n",
      "See the caveats in the documentation: https://pandas.pydata.org/pandas-docs/stable/user_guide/indexing.html#returning-a-view-versus-a-copy\n",
      "  \"\"\"Entry point for launching an IPython kernel.\n"
     ]
    }
   ],
   "source": [
    "data_cicd1['CAT NAME_ ValidationScore [0-100]']=0"
   ]
  },
  {
   "cell_type": "code",
   "execution_count": 83,
   "id": "553367ef",
   "metadata": {},
   "outputs": [],
   "source": [
    "data_cicd2=data_cicd[data_cicd['Agent Corrected CAT Name']==data_cicd['CAT Name']]"
   ]
  },
  {
   "cell_type": "code",
   "execution_count": 87,
   "id": "88edfcfc",
   "metadata": {},
   "outputs": [
    {
     "data": {
      "text/plain": [
       "100    571891\n",
       "Name: CAT NAME_ ValidationScore [0-100], dtype: int64"
      ]
     },
     "execution_count": 87,
     "metadata": {},
     "output_type": "execute_result"
    }
   ],
   "source": [
    "data_cicd2['CAT NAME_ ValidationScore [0-100]'].value_counts()"
   ]
  },
  {
   "cell_type": "code",
   "execution_count": 86,
   "id": "8f33a803",
   "metadata": {},
   "outputs": [
    {
     "name": "stderr",
     "output_type": "stream",
     "text": [
      "/Users/jghosh2/opt/anaconda3/envs/py365/lib/python3.7/site-packages/ipykernel_launcher.py:1: SettingWithCopyWarning: \n",
      "A value is trying to be set on a copy of a slice from a DataFrame.\n",
      "Try using .loc[row_indexer,col_indexer] = value instead\n",
      "\n",
      "See the caveats in the documentation: https://pandas.pydata.org/pandas-docs/stable/user_guide/indexing.html#returning-a-view-versus-a-copy\n",
      "  \"\"\"Entry point for launching an IPython kernel.\n"
     ]
    }
   ],
   "source": [
    "data_cicd2['CAT NAME_ ValidationScore [0-100]']=100"
   ]
  },
  {
   "cell_type": "code",
   "execution_count": 88,
   "id": "68f48548",
   "metadata": {},
   "outputs": [],
   "source": [
    "data_cicd_final=pd.concat([data_cicd1,data_cicd2],ignore_index=True)"
   ]
  },
  {
   "cell_type": "code",
   "execution_count": 89,
   "id": "5d290591",
   "metadata": {},
   "outputs": [],
   "source": [
    "data_cicd_final1=data_cicd_final[data_cicd_final['Agent Corrected Integer']!=data_cicd_final['Integer']]"
   ]
  },
  {
   "cell_type": "code",
   "execution_count": 90,
   "id": "34f3d545",
   "metadata": {},
   "outputs": [
    {
     "data": {
      "text/plain": [
       "0      11404\n",
       "100       76\n",
       "Name: Integer_ValidationScore[0-100], dtype: int64"
      ]
     },
     "execution_count": 90,
     "metadata": {},
     "output_type": "execute_result"
    }
   ],
   "source": [
    "data_cicd_final1['Integer_ValidationScore[0-100]'].value_counts()"
   ]
  },
  {
   "cell_type": "code",
   "execution_count": 91,
   "id": "56feac9b",
   "metadata": {},
   "outputs": [
    {
     "name": "stderr",
     "output_type": "stream",
     "text": [
      "/Users/jghosh2/opt/anaconda3/envs/py365/lib/python3.7/site-packages/ipykernel_launcher.py:1: SettingWithCopyWarning: \n",
      "A value is trying to be set on a copy of a slice from a DataFrame.\n",
      "Try using .loc[row_indexer,col_indexer] = value instead\n",
      "\n",
      "See the caveats in the documentation: https://pandas.pydata.org/pandas-docs/stable/user_guide/indexing.html#returning-a-view-versus-a-copy\n",
      "  \"\"\"Entry point for launching an IPython kernel.\n"
     ]
    }
   ],
   "source": [
    "data_cicd_final1['Integer_ValidationScore[0-100]']=0"
   ]
  },
  {
   "cell_type": "code",
   "execution_count": 92,
   "id": "19bec016",
   "metadata": {},
   "outputs": [],
   "source": [
    "data_cicd_final2=data_cicd_final[data_cicd_final['Agent Corrected Integer']==data_cicd_final['Integer']]"
   ]
  },
  {
   "cell_type": "code",
   "execution_count": 93,
   "id": "90086e13",
   "metadata": {},
   "outputs": [
    {
     "data": {
      "text/plain": [
       "100    543443\n",
       "0       28448\n",
       "Name: Integer_ValidationScore[0-100], dtype: int64"
      ]
     },
     "execution_count": 93,
     "metadata": {},
     "output_type": "execute_result"
    }
   ],
   "source": [
    "data_cicd_final2['Integer_ValidationScore[0-100]'].value_counts()"
   ]
  },
  {
   "cell_type": "code",
   "execution_count": 94,
   "id": "8fa2adcb",
   "metadata": {},
   "outputs": [
    {
     "name": "stderr",
     "output_type": "stream",
     "text": [
      "/Users/jghosh2/opt/anaconda3/envs/py365/lib/python3.7/site-packages/ipykernel_launcher.py:1: SettingWithCopyWarning: \n",
      "A value is trying to be set on a copy of a slice from a DataFrame.\n",
      "Try using .loc[row_indexer,col_indexer] = value instead\n",
      "\n",
      "See the caveats in the documentation: https://pandas.pydata.org/pandas-docs/stable/user_guide/indexing.html#returning-a-view-versus-a-copy\n",
      "  \"\"\"Entry point for launching an IPython kernel.\n"
     ]
    }
   ],
   "source": [
    "\n",
    "data_cicd_final2['Integer_ValidationScore[0-100]']=100"
   ]
  },
  {
   "cell_type": "code",
   "execution_count": 95,
   "id": "3a4209eb",
   "metadata": {},
   "outputs": [],
   "source": [
    "data_cicd_final3=pd.concat([data_cicd_final1,data_cicd_final2],ignore_index=True)"
   ]
  },
  {
   "cell_type": "code",
   "execution_count": 96,
   "id": "9b90e0ee",
   "metadata": {},
   "outputs": [],
   "source": [
    "#data_cicd_final.sort_values(by='CICD Run Date',ascending=False)\n",
    "data_cicd_final3=data_cicd_final.sort_values(by=['CICD Run Date', 'Date (BOT Sent Details to COE Team)'],ascending=False)"
   ]
  },
  {
   "cell_type": "code",
   "execution_count": 97,
   "id": "feba7898",
   "metadata": {},
   "outputs": [
    {
     "data": {
      "text/html": [
       "<div>\n",
       "<style scoped>\n",
       "    .dataframe tbody tr th:only-of-type {\n",
       "        vertical-align: middle;\n",
       "    }\n",
       "\n",
       "    .dataframe tbody tr th {\n",
       "        vertical-align: top;\n",
       "    }\n",
       "\n",
       "    .dataframe thead th {\n",
       "        text-align: right;\n",
       "    }\n",
       "</style>\n",
       "<table border=\"1\" class=\"dataframe\">\n",
       "  <thead>\n",
       "    <tr style=\"text-align: right;\">\n",
       "      <th></th>\n",
       "      <th>CICD Run Date</th>\n",
       "      <th>Date (BOT Sent Details to COE Team)</th>\n",
       "      <th>UniqueUUID</th>\n",
       "      <th>store_uuid</th>\n",
       "      <th>item_uuid</th>\n",
       "      <th>Item</th>\n",
       "      <th>Description</th>\n",
       "      <th>establishment_type</th>\n",
       "      <th>CAT Name</th>\n",
       "      <th>Integer</th>\n",
       "      <th>Confidence Score</th>\n",
       "      <th>Agent Corrected CAT Name</th>\n",
       "      <th>Agent Corrected Integer</th>\n",
       "      <th>CAT NAME_ ValidationScore [0-100]</th>\n",
       "      <th>Integer_ValidationScore[0-100]</th>\n",
       "    </tr>\n",
       "  </thead>\n",
       "  <tbody>\n",
       "    <tr>\n",
       "      <th>304883</th>\n",
       "      <td>31-10-2022 11:31 PM</td>\n",
       "      <td>19-10-2022 5:03 AM</td>\n",
       "      <td>d6ca3c6a-f434-5b73-b4bb-a3d9b2c75429:d25071ca-...</td>\n",
       "      <td>d6ca3c6a-f434-5b73-b4bb-a3d9b2c75429</td>\n",
       "      <td>d25071ca-2296-4399-99ba-d9070239ced9</td>\n",
       "      <td>Jumbo Size Cupcake (12 pcs)</td>\n",
       "      <td>Jumbo size by the dozen.</td>\n",
       "      <td>GROCERY</td>\n",
       "      <td>CAT_BAKERY_ITEM_GROCERY_STORE</td>\n",
       "      <td>558</td>\n",
       "      <td>0.22</td>\n",
       "      <td>CAT_BAKERY_ITEM_GROCERY_STORE</td>\n",
       "      <td>558</td>\n",
       "      <td>100</td>\n",
       "      <td>100</td>\n",
       "    </tr>\n",
       "    <tr>\n",
       "      <th>304884</th>\n",
       "      <td>31-10-2022 11:31 PM</td>\n",
       "      <td>19-10-2022 5:03 AM</td>\n",
       "      <td>d6ca3c6a-f434-5b73-b4bb-a3d9b2c75429:f2c13e24-...</td>\n",
       "      <td>d6ca3c6a-f434-5b73-b4bb-a3d9b2c75429</td>\n",
       "      <td>f2c13e24-3aa0-43ae-a23e-7396533745a7</td>\n",
       "      <td>Cinnamon Rolls</td>\n",
       "      <td>NaN</td>\n",
       "      <td>GROCERY</td>\n",
       "      <td>CAT_BAKERY_ITEM</td>\n",
       "      <td>562</td>\n",
       "      <td>0.3</td>\n",
       "      <td>CAT_BAKERY_ITEM</td>\n",
       "      <td>562</td>\n",
       "      <td>100</td>\n",
       "      <td>100</td>\n",
       "    </tr>\n",
       "    <tr>\n",
       "      <th>304885</th>\n",
       "      <td>31-10-2022 11:31 PM</td>\n",
       "      <td>19-10-2022 5:03 AM</td>\n",
       "      <td>d6ca3c6a-f434-5b73-b4bb-a3d9b2c75429:b30738ef-...</td>\n",
       "      <td>d6ca3c6a-f434-5b73-b4bb-a3d9b2c75429</td>\n",
       "      <td>b30738ef-7581-4795-a265-dfe84dae8019</td>\n",
       "      <td>Brownies</td>\n",
       "      <td>NaN</td>\n",
       "      <td>GROCERY</td>\n",
       "      <td>CAT_BAKERY_ITEM</td>\n",
       "      <td>562</td>\n",
       "      <td>0.15</td>\n",
       "      <td>CAT_BAKERY_ITEM</td>\n",
       "      <td>562</td>\n",
       "      <td>100</td>\n",
       "      <td>100</td>\n",
       "    </tr>\n",
       "    <tr>\n",
       "      <th>304886</th>\n",
       "      <td>31-10-2022 11:31 PM</td>\n",
       "      <td>19-10-2022 5:03 AM</td>\n",
       "      <td>d6ca3c6a-f434-5b73-b4bb-a3d9b2c75429:32973f1e-...</td>\n",
       "      <td>d6ca3c6a-f434-5b73-b4bb-a3d9b2c75429</td>\n",
       "      <td>32973f1e-b047-4501-b0a7-6730a641b5a1</td>\n",
       "      <td>Cupcakes (12 pcs) without Toppings</td>\n",
       "      <td>Per dozen.</td>\n",
       "      <td>GROCERY</td>\n",
       "      <td>CAT_BAKERY_ITEM</td>\n",
       "      <td>562</td>\n",
       "      <td>0.35</td>\n",
       "      <td>CAT_BAKERY_ITEM</td>\n",
       "      <td>562</td>\n",
       "      <td>100</td>\n",
       "      <td>100</td>\n",
       "    </tr>\n",
       "    <tr>\n",
       "      <th>304887</th>\n",
       "      <td>31-10-2022 11:31 PM</td>\n",
       "      <td>19-10-2022 5:03 AM</td>\n",
       "      <td>d6ca3c6a-f434-5b73-b4bb-a3d9b2c75429:11558d19-...</td>\n",
       "      <td>d6ca3c6a-f434-5b73-b4bb-a3d9b2c75429</td>\n",
       "      <td>11558d19-3246-4763-a7ee-2b64ba393ad9</td>\n",
       "      <td>Ice Cream (Blue Bell)</td>\n",
       "      <td>Sold by the scoop. Per scoop.</td>\n",
       "      <td>GROCERY</td>\n",
       "      <td>CAT_PREPACKAGED_FOOD,CAT_ICECREAM,TEMP_COLD</td>\n",
       "      <td>106,105,3</td>\n",
       "      <td>0.22</td>\n",
       "      <td>CAT_PREPACKAGED_FOOD,CAT_ICECREAM,TEMP_COLD</td>\n",
       "      <td>106,105,3</td>\n",
       "      <td>100</td>\n",
       "      <td>100</td>\n",
       "    </tr>\n",
       "  </tbody>\n",
       "</table>\n",
       "</div>"
      ],
      "text/plain": [
       "              CICD Run Date Date (BOT Sent Details to COE Team)  \\\n",
       "304883  31-10-2022 11:31 PM                  19-10-2022 5:03 AM   \n",
       "304884  31-10-2022 11:31 PM                  19-10-2022 5:03 AM   \n",
       "304885  31-10-2022 11:31 PM                  19-10-2022 5:03 AM   \n",
       "304886  31-10-2022 11:31 PM                  19-10-2022 5:03 AM   \n",
       "304887  31-10-2022 11:31 PM                  19-10-2022 5:03 AM   \n",
       "\n",
       "                                               UniqueUUID  \\\n",
       "304883  d6ca3c6a-f434-5b73-b4bb-a3d9b2c75429:d25071ca-...   \n",
       "304884  d6ca3c6a-f434-5b73-b4bb-a3d9b2c75429:f2c13e24-...   \n",
       "304885  d6ca3c6a-f434-5b73-b4bb-a3d9b2c75429:b30738ef-...   \n",
       "304886  d6ca3c6a-f434-5b73-b4bb-a3d9b2c75429:32973f1e-...   \n",
       "304887  d6ca3c6a-f434-5b73-b4bb-a3d9b2c75429:11558d19-...   \n",
       "\n",
       "                                  store_uuid  \\\n",
       "304883  d6ca3c6a-f434-5b73-b4bb-a3d9b2c75429   \n",
       "304884  d6ca3c6a-f434-5b73-b4bb-a3d9b2c75429   \n",
       "304885  d6ca3c6a-f434-5b73-b4bb-a3d9b2c75429   \n",
       "304886  d6ca3c6a-f434-5b73-b4bb-a3d9b2c75429   \n",
       "304887  d6ca3c6a-f434-5b73-b4bb-a3d9b2c75429   \n",
       "\n",
       "                                   item_uuid  \\\n",
       "304883  d25071ca-2296-4399-99ba-d9070239ced9   \n",
       "304884  f2c13e24-3aa0-43ae-a23e-7396533745a7   \n",
       "304885  b30738ef-7581-4795-a265-dfe84dae8019   \n",
       "304886  32973f1e-b047-4501-b0a7-6730a641b5a1   \n",
       "304887  11558d19-3246-4763-a7ee-2b64ba393ad9   \n",
       "\n",
       "                                      Item                    Description  \\\n",
       "304883         Jumbo Size Cupcake (12 pcs)       Jumbo size by the dozen.   \n",
       "304884                      Cinnamon Rolls                            NaN   \n",
       "304885                            Brownies                            NaN   \n",
       "304886  Cupcakes (12 pcs) without Toppings                     Per dozen.   \n",
       "304887               Ice Cream (Blue Bell)  Sold by the scoop. Per scoop.   \n",
       "\n",
       "       establishment_type                                     CAT Name  \\\n",
       "304883            GROCERY                CAT_BAKERY_ITEM_GROCERY_STORE   \n",
       "304884            GROCERY                              CAT_BAKERY_ITEM   \n",
       "304885            GROCERY                              CAT_BAKERY_ITEM   \n",
       "304886            GROCERY                              CAT_BAKERY_ITEM   \n",
       "304887            GROCERY  CAT_PREPACKAGED_FOOD,CAT_ICECREAM,TEMP_COLD   \n",
       "\n",
       "          Integer Confidence Score  \\\n",
       "304883        558             0.22   \n",
       "304884        562              0.3   \n",
       "304885        562             0.15   \n",
       "304886        562             0.35   \n",
       "304887  106,105,3             0.22   \n",
       "\n",
       "                           Agent Corrected CAT Name Agent Corrected Integer  \\\n",
       "304883                CAT_BAKERY_ITEM_GROCERY_STORE                     558   \n",
       "304884                              CAT_BAKERY_ITEM                     562   \n",
       "304885                              CAT_BAKERY_ITEM                     562   \n",
       "304886                              CAT_BAKERY_ITEM                     562   \n",
       "304887  CAT_PREPACKAGED_FOOD,CAT_ICECREAM,TEMP_COLD               106,105,3   \n",
       "\n",
       "        CAT NAME_ ValidationScore [0-100]  Integer_ValidationScore[0-100]  \n",
       "304883                                100                             100  \n",
       "304884                                100                             100  \n",
       "304885                                100                             100  \n",
       "304886                                100                             100  \n",
       "304887                                100                             100  "
      ]
     },
     "execution_count": 97,
     "metadata": {},
     "output_type": "execute_result"
    }
   ],
   "source": [
    "data_cicd_final3.head()"
   ]
  },
  {
   "cell_type": "code",
   "execution_count": 98,
   "id": "e71f613f",
   "metadata": {},
   "outputs": [],
   "source": [
    "data_cicd_final3.to_csv('TaxML-CICD - Prod_Data (5).csv')"
   ]
  },
  {
   "cell_type": "code",
   "execution_count": 99,
   "id": "48d144c2",
   "metadata": {},
   "outputs": [
    {
     "data": {
      "text/plain": [
       "0"
      ]
     },
     "execution_count": 99,
     "metadata": {},
     "output_type": "execute_result"
    }
   ],
   "source": [
    "master_mapping_data = pd.read_csv(\"../data/MASTER_Tax_Category_Mapping.csv\")\n",
    "set_cicd_categories_aftermapping = set(data_cicd['Agent Corrected CAT Name'].unique())\n",
    "set_master_mapping_data_categories = set(master_mapping_data['CAT_Name'].unique())\n",
    "dif_categories = list(set_cicd_categories_aftermapping.difference(set_master_mapping_data_categories))\n",
    "len(dif_categories)"
   ]
  },
  {
   "cell_type": "code",
   "execution_count": 14,
   "id": "e9dc93c8",
   "metadata": {},
   "outputs": [
    {
     "name": "stdout",
     "output_type": "stream",
     "text": [
      "(539198, 5)\n"
     ]
    },
    {
     "name": "stderr",
     "output_type": "stream",
     "text": [
      "/Users/jghosh2/opt/anaconda3/envs/py365/lib/python3.7/site-packages/ipykernel_launcher.py:4: SettingWithCopyWarning: \n",
      "A value is trying to be set on a copy of a slice from a DataFrame.\n",
      "Try using .loc[row_indexer,col_indexer] = value instead\n",
      "\n",
      "See the caveats in the documentation: https://pandas.pydata.org/pandas-docs/stable/user_guide/indexing.html#returning-a-view-versus-a-copy\n",
      "  after removing the cwd from sys.path.\n",
      "/Users/jghosh2/opt/anaconda3/envs/py365/lib/python3.7/site-packages/pandas/core/frame.py:4913: SettingWithCopyWarning: \n",
      "A value is trying to be set on a copy of a slice from a DataFrame\n",
      "\n",
      "See the caveats in the documentation: https://pandas.pydata.org/pandas-docs/stable/user_guide/indexing.html#returning-a-view-versus-a-copy\n",
      "  errors=errors,\n"
     ]
    }
   ],
   "source": [
    "\n",
    "#misclassified data                                        \n",
    "#data_cicd_misclassification=data_cicd[(data_cicd['CAT NAME_ ValidationScore [0-100]']==0) &(data_cicd['Integer_ValidationScore[0-100]']==0)]\n",
    "data_cicd_latest=data_cicd[['UniqueUUID','Item','Description','establishment_type','Agent Corrected CAT Name standarized', 'Agent Corrected Integer standardized']]\n",
    "data_cicd_latest['target_new']=data_cicd_latest['Agent Corrected CAT Name standarized'] + \":\" + data_cicd_latest['Agent Corrected Integer standardized']\n",
    "data_cicd_latest.drop(['Agent Corrected CAT Name standarized', 'Agent Corrected Integer standardized'],inplace=True,axis=1)\n",
    "print(data_cicd_latest.shape)"
   ]
  },
  {
   "cell_type": "code",
   "execution_count": 102,
   "id": "967ce9e8",
   "metadata": {},
   "outputs": [],
   "source": [
    "#read input from historical data into dataframe\n",
    "data_historical = pd.read_csv('/Users/jghosh2/Documents/my-notebook/Tax_ml_poc/data/historical_data_24_11_22.csv', encoding='utf8',engine='python',usecols=['UniqueUUID','Item','Description','establishment_type','target_new'])"
   ]
  },
  {
   "cell_type": "markdown",
   "id": "6af01d4c",
   "metadata": {},
   "source": [
    "# data analysis and check"
   ]
  },
  {
   "cell_type": "code",
   "execution_count": 103,
   "id": "a958cdd3",
   "metadata": {},
   "outputs": [
    {
     "data": {
      "text/plain": [
       "(396190, 5)"
      ]
     },
     "execution_count": 103,
     "metadata": {},
     "output_type": "execute_result"
    }
   ],
   "source": [
    "data_historical.shape"
   ]
  },
  {
   "cell_type": "code",
   "execution_count": 104,
   "id": "d302d6ad",
   "metadata": {},
   "outputs": [
    {
     "data": {
      "text/plain": [
       "Index(['UniqueUUID', 'Item', 'Description', 'establishment_type',\n",
       "       'target_new'],\n",
       "      dtype='object')"
      ]
     },
     "execution_count": 104,
     "metadata": {},
     "output_type": "execute_result"
    }
   ],
   "source": [
    "data_historical.columns"
   ]
  },
  {
   "cell_type": "code",
   "execution_count": 105,
   "id": "805374b2",
   "metadata": {},
   "outputs": [
    {
     "data": {
      "text/plain": [
       "204"
      ]
     },
     "execution_count": 105,
     "metadata": {},
     "output_type": "execute_result"
    }
   ],
   "source": [
    "data_historical.target_new.nunique()"
   ]
  },
  {
   "cell_type": "code",
   "execution_count": 106,
   "id": "e10d0590",
   "metadata": {},
   "outputs": [],
   "source": [
    "data_historical1 = data_historical\n",
    "data_historical1[['Agent_cat_name','Agent_int']]= data_historical1.target_new.str.split(\":\",expand=True)"
   ]
  },
  {
   "cell_type": "code",
   "execution_count": 107,
   "id": "e20cf966",
   "metadata": {},
   "outputs": [
    {
     "data": {
      "text/plain": [
       "204"
      ]
     },
     "execution_count": 107,
     "metadata": {},
     "output_type": "execute_result"
    }
   ],
   "source": [
    "data_historical1['Agent_cat_name'].nunique()"
   ]
  },
  {
   "cell_type": "code",
   "execution_count": 108,
   "id": "ac58af62",
   "metadata": {},
   "outputs": [],
   "source": [
    "set_historical_categories = set(data_historical1['Agent_cat_name'].unique())"
   ]
  },
  {
   "cell_type": "code",
   "execution_count": 109,
   "id": "28020611",
   "metadata": {},
   "outputs": [
    {
     "data": {
      "text/plain": [
       "{'CAT_ALCOHOL,TEMP_COLD',\n",
       " 'CAT_ANTI_FREEZE',\n",
       " 'CAT_BABY_FORMULA',\n",
       " 'CAT_BABY_WIPES',\n",
       " 'CAT_BAKERY_ITEM',\n",
       " 'CAT_BAKERY_ITEM_GROCERY_STORE',\n",
       " 'CAT_BANDAGES',\n",
       " 'CAT_BATHING_SUITS',\n",
       " 'CAT_BATTERIES',\n",
       " 'CAT_BEER',\n",
       " 'CAT_BREATH_MINTS',\n",
       " 'CAT_CANDY,TEMP_COLD',\n",
       " 'CAT_CANDY,TRAIT_FLOUR,TEMP_COLD',\n",
       " 'CAT_CANDY_COATED_NUTS',\n",
       " 'CAT_CHARCOAL_BRIQUETTES',\n",
       " 'CAT_CHOCOLATE',\n",
       " 'CAT_CIDER',\n",
       " 'CAT_CLOTHING',\n",
       " 'CAT_COFFEE,CONTAINER_BOTTLED,TEMP_COLD',\n",
       " 'CAT_COMP_HARDWARE',\n",
       " 'CAT_CONDOMS',\n",
       " 'CAT_CONFECTIONARY',\n",
       " 'CAT_CONTACT_LENS_SOLUTION',\n",
       " 'CAT_COSTUMES',\n",
       " 'CAT_DELI_PLATTER,TEMP_UNHEATED',\n",
       " 'CAT_DIAPERS',\n",
       " 'CAT_DISPOSABLE_GLOVES',\n",
       " 'CAT_ENERGY_DRINK,CONTAINER_BOTTLED,TEMP_COLD',\n",
       " 'CAT_ENGINE_OIL',\n",
       " 'CAT_FEMININE_HYGIENE_PRODUCTS',\n",
       " 'CAT_FERTILIZER',\n",
       " 'CAT_FIREWOOD',\n",
       " 'CAT_FIRST_AID_KITS',\n",
       " 'CAT_FLASHLIGHT',\n",
       " 'CAT_FOOD_BY_WT_VOL,TEMP_UNHEATED',\n",
       " 'CAT_FOOTWEAR',\n",
       " 'CAT_FORTIFIED_WINE',\n",
       " 'CAT_FRUIT_VEG_PLANTS',\n",
       " 'CAT_GIFT_CARDS',\n",
       " 'CAT_GLOVES',\n",
       " 'CAT_GUM',\n",
       " 'CAT_HAND_SANITIZER',\n",
       " 'CAT_ICE,TEMP_COLD',\n",
       " 'CAT_ICECREAM,TEMP_COLD',\n",
       " 'CAT_ICE_CREAM_PINTS',\n",
       " 'CAT_ICE_MORE_THAN_10LBS',\n",
       " 'CAT_INSECTICIDES',\n",
       " 'CAT_JUICE,TRAIT_PCT_100,TEMP_COLD',\n",
       " 'CAT_JUICE,TRAIT_PCT_1TO4,TEMP_COLD',\n",
       " 'CAT_JUICE,TRAIT_PCT_25TO49,TEMP_COLD',\n",
       " 'CAT_JUICE,TRAIT_PCT_50TO69,TEMP_COLD',\n",
       " 'CAT_JUICE,TRAIT_PCT_5TO24,TEMP_COLD',\n",
       " 'CAT_JUICE,TRAIT_PCT_70TO99,TEMP_COLD',\n",
       " 'CAT_JUICE_NON_CARBONATED',\n",
       " 'CAT_JUICE_NON_CARBONATED_50TO25',\n",
       " 'CAT_JUICE_NON_CARBONATED_99TO51',\n",
       " 'CAT_LIGHTER_FLUID',\n",
       " 'CAT_LIP_BALM',\n",
       " 'CAT_LIQUOR',\n",
       " 'CAT_MARSHMALLOWS',\n",
       " 'CAT_MEAL_REPLACEMENT',\n",
       " 'CAT_MEDICATED_ITEMS',\n",
       " 'CAT_MILK_COCOA,CONTAINER_BOTTLED,TEMP_UNHEATED',\n",
       " 'CAT_MILK_SUBS',\n",
       " 'CAT_NEWSPAPERS',\n",
       " 'CAT_NON_ALCOHOLIC_BEER',\n",
       " 'CAT_NON_FOOD,TEMP_COLD',\n",
       " 'CAT_NON_TAXABLE',\n",
       " 'CAT_NUTRITIONAL_SHAKES',\n",
       " 'CAT_NUTRITION_SUPPLEMENT',\n",
       " 'CAT_OIL',\n",
       " 'CAT_OTC_MEDICATION',\n",
       " 'CAT_OTC_MEDICATION_ANTACIDS',\n",
       " 'CAT_OTC_MEDICATION_ANTIDIARRHEALS',\n",
       " 'CAT_OTC_MEDICATION_ANTIHISTAMINES',\n",
       " 'CAT_OTC_MEDICATION_ASTRINGENTS',\n",
       " 'CAT_OTC_MEDICATION_COLD_REMEDIES',\n",
       " 'CAT_OTC_MEDICATION_DECONGESTANTS',\n",
       " 'CAT_OTC_MEDICATION_ESTROGENS',\n",
       " 'CAT_OTC_MEDICATION_IBUPROFEN',\n",
       " 'CAT_OTC_MEDICATION_LAXATIVES',\n",
       " 'CAT_OTC_MEDICATION_NASAL_DECONGESTANTS',\n",
       " 'CAT_PACIFIERS',\n",
       " 'CAT_PAPER_PRODUCTS',\n",
       " 'CAT_PAPER_PRODUCTS_DISPOSABLE_KITCHENWARE',\n",
       " 'CAT_PAPER_PRODUCTS_DISPOSABLE_STRAWS',\n",
       " 'CAT_PAPER_PRODUCTS_FACIAL_TISSUES',\n",
       " 'CAT_PAPER_PRODUCTS_PAPER_NAPKINS',\n",
       " 'CAT_PAPER_PRODUCTS_PAPER_TOWELS',\n",
       " 'CAT_PAPER_PRODUCTS_PERSONAL_WIPES',\n",
       " 'CAT_PERSONAL_LUBRICANTS',\n",
       " 'CAT_PETROLEUM_JELLY',\n",
       " 'CAT_PET_FOOD',\n",
       " 'CAT_PORTIONED_SNACKS',\n",
       " 'CAT_POSTAGE',\n",
       " 'CAT_POWDERED_DRINK,CONTAINER_BOTTLED,TEMP_COLD',\n",
       " 'CAT_PREGNANCY_TEST',\n",
       " 'CAT_PREPACKAGED_FOOD,CAT_ICECREAM,TEMP_COLD',\n",
       " 'CAT_PREPACKAGED_FOOD,CAT_SNACK,TEMP_COLD',\n",
       " 'CAT_PREPACKAGED_FOOD,TEMP_COLD',\n",
       " 'CAT_PREPACKAGED_FOOD_BUTTER',\n",
       " 'CAT_PREPACKAGED_FOOD_CAKES',\n",
       " 'CAT_PREPACKAGED_FOOD_CANNED_BEANS',\n",
       " 'CAT_PREPACKAGED_FOOD_CANNED_FRUIT',\n",
       " 'CAT_PREPACKAGED_FOOD_CANNED_VEGETABLES',\n",
       " 'CAT_PREPACKAGED_FOOD_CEREALS',\n",
       " 'CAT_PREPACKAGED_FOOD_CHEESE',\n",
       " 'CAT_PREPACKAGED_FOOD_CONDIMENTS',\n",
       " 'CAT_PREPACKAGED_FOOD_CRACKERS',\n",
       " 'CAT_PREPACKAGED_FOOD_DESSERTS',\n",
       " 'CAT_PREPACKAGED_FOOD_EDIBLE_OILS',\n",
       " 'CAT_PREPACKAGED_FOOD_EGGS',\n",
       " 'CAT_PREPACKAGED_FOOD_FRESH_BREAD',\n",
       " 'CAT_PREPACKAGED_FOOD_FRESH_FRUITS',\n",
       " 'CAT_PREPACKAGED_FOOD_HONEY',\n",
       " 'CAT_PREPACKAGED_FOOD_ICE_CREAM_CONE',\n",
       " 'CAT_PREPACKAGED_FOOD_INFANT_FOOD',\n",
       " 'CAT_PREPACKAGED_FOOD_INSTANT_COFFEE',\n",
       " 'CAT_PREPACKAGED_FOOD_JAMS',\n",
       " 'CAT_PREPACKAGED_FOOD_NUT_SPREADS',\n",
       " 'CAT_PREPACKAGED_FOOD_PASTA',\n",
       " 'CAT_PREPACKAGED_FOOD_PICKLES',\n",
       " 'CAT_PREPACKAGED_FOOD_POPCORN',\n",
       " 'CAT_PREPACKAGED_FOOD_SALT_PRESERVED_SEA_FOOD',\n",
       " 'CAT_PREPACKAGED_FOOD_SEASONING',\n",
       " 'CAT_PREPACKAGED_FOOD_SHELF_STABLE_MILK',\n",
       " 'CAT_PREPACKAGED_FOOD_SHELF_STABLE_POTATOES',\n",
       " 'CAT_PREPACKAGED_FOOD_SHELF_STABLE_SOUP',\n",
       " 'CAT_PREPACKAGED_FOOD_SNACK_CHIPS',\n",
       " 'CAT_PREPACKAGED_FOOD_SNACK_COOKIES',\n",
       " 'CAT_PREPACKAGED_FOOD_SNACK_HEALTH_BARS',\n",
       " 'CAT_PREPACKAGED_FOOD_SNACK_NUTS',\n",
       " 'CAT_PREPACKAGED_FOOD_SNACK_SNACK_BARS',\n",
       " 'CAT_PREPACKAGED_FOOD_TOMATO_PUREE',\n",
       " 'CAT_PREPARED_DRINK,TEMP_UNHEATED',\n",
       " 'CAT_PREPARED_FOOD,TEMP_HEATED',\n",
       " 'CAT_PREPARED_FOOD_PREPARED_SALADS',\n",
       " 'CAT_PREPARED_FOOD_PREPARED_SIDE_DISHES',\n",
       " 'CAT_PRESCRIPTION_DEVICES',\n",
       " 'CAT_PRESCRIPTION_DRUGS',\n",
       " 'CAT_PROPANE',\n",
       " 'CAT_PROTECTIVE_CLOTHING',\n",
       " 'CAT_SANDWICH,TEMP_UNHEATED',\n",
       " 'CAT_SCHOOL_SUPPLIES',\n",
       " 'CAT_SCHOOL_SUPPLIES_MARKERS',\n",
       " 'CAT_SCHOOL_SUPPLIES_NOTEBOOKS',\n",
       " 'CAT_SCHOOL_SUPPLIES_PENCILS',\n",
       " 'CAT_SCHOOL_SUPPLIES_PENS',\n",
       " 'CAT_SEEDS',\n",
       " 'CAT_SOFT_DRINK,CONTAINER_BOTTLED,TEMP_COLD',\n",
       " 'CAT_SOFT_DRINK,TRAIT_NONCARB,CONTAINER_BOTTLED,TEMP_COLD',\n",
       " 'CAT_SPARKLING_WINE',\n",
       " 'CAT_SPORTING_CLOTHING',\n",
       " 'CAT_SUNSCREEN',\n",
       " 'CAT_SUPPLEMENTS',\n",
       " 'CAT_TEA,CONTAINER_BOTTLED,TEMP_COLD',\n",
       " 'CAT_THERMOMETERS',\n",
       " 'CAT_TOILET_PAPER',\n",
       " 'CAT_TOOTHBRUSH',\n",
       " 'CAT_TOOTHPASTE',\n",
       " 'CAT_TPP',\n",
       " 'CAT_TPP_AIR_FRESHENER',\n",
       " 'CAT_TPP_BATH_GELS',\n",
       " 'CAT_TPP_BLEACHES',\n",
       " 'CAT_TPP_BODY_LOTION',\n",
       " 'CAT_TPP_CAMPING_EQUIPMENT',\n",
       " 'CAT_TPP_CANDLE',\n",
       " 'CAT_TPP_CIGARETTE_LIGHTERS',\n",
       " 'CAT_TPP_CLEANING_EQUIPMENT',\n",
       " 'CAT_TPP_COMBS',\n",
       " 'CAT_TPP_CONTAINERS',\n",
       " 'CAT_TPP_COSMETICS',\n",
       " 'CAT_TPP_DENTAL_FLOSS',\n",
       " 'CAT_TPP_DEODORANTS',\n",
       " 'CAT_TPP_DISH_WASHING_PRODUCTS',\n",
       " 'CAT_TPP_DRAIN_CLEANER',\n",
       " 'CAT_TPP_DRINK_WARE',\n",
       " 'CAT_TPP_ENVELOPES',\n",
       " 'CAT_TPP_HAND_TOOLS',\n",
       " 'CAT_TPP_HEADPHONES',\n",
       " 'CAT_TPP_INSECT_REPELLENT',\n",
       " 'CAT_TPP_LAUNDRY_PRODUCTS',\n",
       " 'CAT_TPP_MASKS',\n",
       " 'CAT_TPP_MOUTH_WASH',\n",
       " 'CAT_TPP_NAIL_CLIPPERS',\n",
       " 'CAT_TPP_NAIL_POLISH_REMOVER',\n",
       " 'CAT_TPP_PERFUMES',\n",
       " 'CAT_TPP_PLAYING_CARDS',\n",
       " 'CAT_TPP_RAZORS',\n",
       " 'CAT_TPP_SCOURING_PADS',\n",
       " 'CAT_TPP_SHAMPOOS',\n",
       " 'CAT_TPP_SHAVING_CREAMS',\n",
       " 'CAT_TPP_SKIN_CARE_PRODUCTS',\n",
       " 'CAT_TPP_SPONGES',\n",
       " 'CAT_TPP_TAPE',\n",
       " 'CAT_TPP_TOYS',\n",
       " 'CAT_TPP_TRASH_BAGS',\n",
       " 'CAT_TPP_UMBRELLAS',\n",
       " 'CAT_TPP_UTENSILS',\n",
       " 'CAT_WATER,TRAIT_CARB,TRAIT_FLV_SWT,CONTAINER_BOTTLED,TEMP_COLD',\n",
       " 'CAT_WATER,TRAIT_CARB,TRAIT_UNFLV_UNSWT,CONTAINER_BOTTLED,TEMP_COLD',\n",
       " 'CAT_WATER,TRAIT_NONCARB,TRAIT_FLV_SWT,CONTAINER_BOTTLED,TEMP_COLD',\n",
       " 'CAT_WATER,TRAIT_NONCARB,TRAIT_UNFLV_UNSWT,CONTAINER_BOTTLED,TEMP_COLD',\n",
       " 'CAT_WINE'}"
      ]
     },
     "execution_count": 109,
     "metadata": {},
     "output_type": "execute_result"
    }
   ],
   "source": [
    "set_historical_categories"
   ]
  },
  {
   "cell_type": "code",
   "execution_count": 110,
   "id": "3163b81e",
   "metadata": {},
   "outputs": [
    {
     "data": {
      "text/plain": [
       "0"
      ]
     },
     "execution_count": 110,
     "metadata": {},
     "output_type": "execute_result"
    }
   ],
   "source": [
    "#set_master_mapping_data_categories\n",
    "dif_categories = list(set_historical_categories.difference(set_master_mapping_data_categories))\n",
    "len(dif_categories)"
   ]
  },
  {
   "cell_type": "code",
   "execution_count": 106,
   "id": "50cd3aec",
   "metadata": {},
   "outputs": [
    {
     "data": {
      "text/plain": [
       "[]"
      ]
     },
     "execution_count": 106,
     "metadata": {},
     "output_type": "execute_result"
    }
   ],
   "source": [
    "#dif_categories,data_historical.shape,data_historical.columns"
   ]
  },
  {
   "cell_type": "code",
   "execution_count": 25,
   "id": "5d260e25",
   "metadata": {},
   "outputs": [
    {
     "data": {
      "text/plain": [
       "Index(['UniqueUUID', 'Item', 'Description', 'establishment_type',\n",
       "       'target_new'],\n",
       "      dtype='object')"
      ]
     },
     "execution_count": 25,
     "metadata": {},
     "output_type": "execute_result"
    }
   ],
   "source": [
    "data_cicd_latest.columns"
   ]
  },
  {
   "cell_type": "code",
   "execution_count": 26,
   "id": "7ef3d24a",
   "metadata": {},
   "outputs": [],
   "source": [
    "data_historical = data_historical.drop(['Agent_cat_name','Agent_int'], axis=1)"
   ]
  },
  {
   "cell_type": "code",
   "execution_count": 27,
   "id": "3d34575a",
   "metadata": {},
   "outputs": [
    {
     "name": "stdout",
     "output_type": "stream",
     "text": [
      "<class 'pandas.core.frame.DataFrame'>\n",
      "RangeIndex: 396190 entries, 0 to 396189\n",
      "Data columns (total 5 columns):\n",
      " #   Column              Non-Null Count   Dtype \n",
      "---  ------              --------------   ----- \n",
      " 0   UniqueUUID          396190 non-null  object\n",
      " 1   Item                396187 non-null  object\n",
      " 2   Description         271012 non-null  object\n",
      " 3   establishment_type  396190 non-null  object\n",
      " 4   target_new          396190 non-null  object\n",
      "dtypes: object(5)\n",
      "memory usage: 15.1+ MB\n"
     ]
    }
   ],
   "source": [
    "data_historical.info()"
   ]
  },
  {
   "cell_type": "code",
   "execution_count": 28,
   "id": "9beca757",
   "metadata": {},
   "outputs": [
    {
     "name": "stdout",
     "output_type": "stream",
     "text": [
      "<class 'pandas.core.frame.DataFrame'>\n",
      "Int64Index: 539198 entries, 0 to 539846\n",
      "Data columns (total 5 columns):\n",
      " #   Column              Non-Null Count   Dtype \n",
      "---  ------              --------------   ----- \n",
      " 0   UniqueUUID          539198 non-null  object\n",
      " 1   Item                539196 non-null  object\n",
      " 2   Description         316081 non-null  object\n",
      " 3   establishment_type  539198 non-null  object\n",
      " 4   target_new          539198 non-null  object\n",
      "dtypes: object(5)\n",
      "memory usage: 24.7+ MB\n"
     ]
    }
   ],
   "source": [
    "data_cicd_latest.info()"
   ]
  },
  {
   "cell_type": "markdown",
   "id": "f53d7ca8",
   "metadata": {},
   "source": [
    "# Merging data_cicd and historical"
   ]
  },
  {
   "cell_type": "code",
   "execution_count": 29,
   "id": "0739b7ce",
   "metadata": {},
   "outputs": [],
   "source": [
    "#mergedStuff_cicd= data_df.set_index('UniqueUUID').join(data_cicd_latest.set_index('UniqueUUID'))\n",
    "final_data_previous=pd.concat([data_historical, data_cicd_latest], join=\"outer\")"
   ]
  },
  {
   "cell_type": "code",
   "execution_count": 30,
   "id": "fdeb119b",
   "metadata": {},
   "outputs": [
    {
     "data": {
      "text/plain": [
       "(935388, 5)"
      ]
     },
     "execution_count": 30,
     "metadata": {},
     "output_type": "execute_result"
    }
   ],
   "source": [
    "final_data_previous.shape"
   ]
  },
  {
   "cell_type": "code",
   "execution_count": 31,
   "id": "0810ea79",
   "metadata": {},
   "outputs": [
    {
     "data": {
      "text/plain": [
       "Index(['UniqueUUID', 'Item', 'Description', 'establishment_type',\n",
       "       'target_new'],\n",
       "      dtype='object')"
      ]
     },
     "execution_count": 31,
     "metadata": {},
     "output_type": "execute_result"
    }
   ],
   "source": [
    "final_data_previous.columns"
   ]
  },
  {
   "cell_type": "markdown",
   "id": "d86af08e",
   "metadata": {},
   "source": [
    "# Check for any unmapped categories"
   ]
  },
  {
   "cell_type": "code",
   "execution_count": 29,
   "id": "d8b8c73a",
   "metadata": {},
   "outputs": [],
   "source": [
    "finaldata1 = final_data_previous\n",
    "finaldata1[['Agent_cat_name','Agent_int']]= finaldata1.target_new.str.split(\":\",expand=True)"
   ]
  },
  {
   "cell_type": "code",
   "execution_count": 30,
   "id": "e42d96d4",
   "metadata": {},
   "outputs": [
    {
     "data": {
      "text/plain": [
       "0"
      ]
     },
     "execution_count": 30,
     "metadata": {},
     "output_type": "execute_result"
    }
   ],
   "source": [
    "final_data_categories = set(finaldata1['Agent_cat_name'].unique())\n",
    "dif_categories_final = list(final_data_categories.difference(set_master_mapping_data_categories))\n",
    "len(dif_categories_final)"
   ]
  },
  {
   "cell_type": "code",
   "execution_count": 32,
   "id": "40c25b52",
   "metadata": {},
   "outputs": [
    {
     "data": {
      "text/plain": [
       "(935388, 5)"
      ]
     },
     "execution_count": 32,
     "metadata": {},
     "output_type": "execute_result"
    }
   ],
   "source": [
    "final_data_previous = final_data_previous.drop(['Agent_cat_name','Agent_int'], axis=1)\n",
    "final_data_previous.shape"
   ]
  },
  {
   "cell_type": "markdown",
   "id": "4b55689a",
   "metadata": {},
   "source": [
    "# Add latest data"
   ]
  },
  {
   "cell_type": "code",
   "execution_count": 33,
   "id": "073850af",
   "metadata": {},
   "outputs": [],
   "source": [
    "import glob\n",
    "path = \"/Users/mdevar2/Documents/TaxML/retrainingdata/\"\n",
    "csv_files = glob.glob(os.path.join(path, \"*.xlsx\"))\n",
    "list_of_dfs = []\n",
    "  \n",
    "# loop over the list of csv files\n",
    "for f in csv_files:\n",
    "    \n",
    "    # read the csv file\n",
    "    df = pd.read_excel(f)\n",
    "    #print('File Name:', f.split(\"\\\\\")[-1])\n",
    "    #df = df[['item_name','description','establishment_type','CAT NAME,CAT_TEMP','Value for Bulk Upload']]\n",
    "    list_of_dfs.append(df)"
   ]
  },
  {
   "cell_type": "code",
   "execution_count": 34,
   "id": "4d448c30",
   "metadata": {},
   "outputs": [
    {
     "data": {
      "text/plain": [
       "Index(['Unnamed: 0', 'merchant_uuid', 'store_name', 'item_uuid', 'item_name',\n",
       "       'subsection_name', 'description', 'establishment_type', 'combined_text',\n",
       "       'processed_text', 'cat_name', 'cat_int', 'prediction_cat_confscore',\n",
       "       'Tax Category', 'CAT NAME,CAT_TEMP', 'Converted', 'Tagged By', 'Date',\n",
       "       'Value for Bulk Upload'],\n",
       "      dtype='object')"
      ]
     },
     "execution_count": 34,
     "metadata": {},
     "output_type": "execute_result"
    }
   ],
   "source": [
    "final_data1 = pd.concat(list_of_dfs, ignore_index=True)\n",
    "final_data1.columns"
   ]
  },
  {
   "cell_type": "code",
   "execution_count": 35,
   "id": "4c84de36",
   "metadata": {},
   "outputs": [],
   "source": [
    "#final_data1.to_csv(\"final_data1.csv\")"
   ]
  },
  {
   "cell_type": "code",
   "execution_count": 36,
   "id": "729bf74e",
   "metadata": {},
   "outputs": [
    {
     "name": "stdout",
     "output_type": "stream",
     "text": [
      "<class 'pandas.core.frame.DataFrame'>\n",
      "RangeIndex: 923460 entries, 0 to 923459\n",
      "Data columns (total 19 columns):\n",
      " #   Column                    Non-Null Count   Dtype         \n",
      "---  ------                    --------------   -----         \n",
      " 0   Unnamed: 0                923460 non-null  int64         \n",
      " 1   merchant_uuid             923460 non-null  object        \n",
      " 2   store_name                923460 non-null  object        \n",
      " 3   item_uuid                 923460 non-null  object        \n",
      " 4   Item                      923460 non-null  object        \n",
      " 5   subsection_name           923460 non-null  object        \n",
      " 6   Description               743800 non-null  object        \n",
      " 7   establishment_type        923460 non-null  object        \n",
      " 8   combined_text             923460 non-null  object        \n",
      " 9   processed_text            923460 non-null  object        \n",
      " 10  cat_name                  923357 non-null  object        \n",
      " 11  cat_int                   923357 non-null  object        \n",
      " 12  prediction_cat_confscore  923460 non-null  float64       \n",
      " 13  Tax Category              923199 non-null  object        \n",
      " 14  Agent Corrected CAT Name  923199 non-null  object        \n",
      " 15  Converted                 923460 non-null  object        \n",
      " 16  Tagged By                 897350 non-null  object        \n",
      " 17  Date                      645156 non-null  datetime64[ns]\n",
      " 18  Agent Corrected Integer   923460 non-null  object        \n",
      "dtypes: datetime64[ns](1), float64(1), int64(1), object(16)\n",
      "memory usage: 133.9+ MB\n"
     ]
    }
   ],
   "source": [
    "final_data1.rename(columns = {'item_name':'Item', 'description': 'Description','CAT NAME,CAT_TEMP':'Agent Corrected CAT Name', 'Value for Bulk Upload': 'Agent Corrected Integer'}, inplace = True)\n",
    "final_data1.info()"
   ]
  },
  {
   "cell_type": "code",
   "execution_count": 37,
   "id": "474c3ba1",
   "metadata": {},
   "outputs": [
    {
     "data": {
      "text/plain": [
       "Index(['Unnamed: 0', 'WIC', 'merchant_uuid', 'merchant_name', 'item_uuid',\n",
       "       'item_name', 'subsection_name', 'description', 'establishment_type',\n",
       "       'cat_name', 'cat_int', 'prediction_cat_confscore', 'Tax Category',\n",
       "       'agent_catname', 'agent_int'],\n",
       "      dtype='object')"
      ]
     },
     "execution_count": 37,
     "metadata": {},
     "output_type": "execute_result"
    }
   ],
   "source": [
    "df5 = pd.read_excel('/Users/mdevar2/Documents/TaxML/retrainingdata_1/INDIRECTTX-2009 - New Products for Tagging - Walgreens - 01.11.2023 - Sheet1_after_tagging.xlsx')\n",
    "df5.columns"
   ]
  },
  {
   "cell_type": "code",
   "execution_count": 39,
   "id": "260281a1",
   "metadata": {},
   "outputs": [
    {
     "data": {
      "text/plain": [
       "Unnamed: 0                    int64\n",
       "WIC                           int64\n",
       "merchant_uuid               float64\n",
       "merchant_name                object\n",
       "item_uuid                   float64\n",
       "Item                         object\n",
       "subsection_name              object\n",
       "Description                  object\n",
       "establishment_type           object\n",
       "cat_name                     object\n",
       "cat_int                      object\n",
       "prediction_cat_confscore    float64\n",
       "Tax Category                 object\n",
       "Agent Corrected CAT Name     object\n",
       "Agent Corrected Integer      object\n",
       "dtype: object"
      ]
     },
     "execution_count": 39,
     "metadata": {},
     "output_type": "execute_result"
    }
   ],
   "source": [
    "df5.rename(columns = {'item_name':'Item', 'description': 'Description','agent_catname':'Agent Corrected CAT Name', 'agent_int': 'Agent Corrected Integer'}, inplace = True)\n",
    "df5.dtypes"
   ]
  },
  {
   "cell_type": "code",
   "execution_count": 43,
   "id": "739703ab",
   "metadata": {
    "collapsed": true
   },
   "outputs": [
    {
     "name": "stdout",
     "output_type": "stream",
     "text": [
      "<class 'pandas.core.frame.DataFrame'>\n",
      "RangeIndex: 657 entries, 0 to 656\n",
      "Data columns (total 15 columns):\n",
      " #   Column                    Non-Null Count  Dtype  \n",
      "---  ------                    --------------  -----  \n",
      " 0   Unnamed: 0                657 non-null    int64  \n",
      " 1   WIC                       657 non-null    int64  \n",
      " 2   merchant_uuid             0 non-null      float64\n",
      " 3   merchant_name             657 non-null    object \n",
      " 4   item_uuid                 0 non-null      float64\n",
      " 5   Item                      657 non-null    object \n",
      " 6   subsection_name           657 non-null    object \n",
      " 7   Description               657 non-null    object \n",
      " 8   establishment_type        657 non-null    object \n",
      " 9   cat_name                  657 non-null    object \n",
      " 10  cat_int                   657 non-null    object \n",
      " 11  prediction_cat_confscore  657 non-null    float64\n",
      " 12  Tax Category              657 non-null    object \n",
      " 13  Agent Corrected CAT Name  581 non-null    object \n",
      " 14  Agent Corrected Integer   657 non-null    object \n",
      "dtypes: float64(3), int64(2), object(10)\n",
      "memory usage: 77.1+ KB\n"
     ]
    }
   ],
   "source": [
    "df5.info()"
   ]
  },
  {
   "cell_type": "code",
   "execution_count": 40,
   "id": "5121aec0",
   "metadata": {},
   "outputs": [
    {
     "data": {
      "text/plain": [
       "Index(['Unnamed: 0', 'merchant_uuid', 'store_name', 'item_uuid', 'Item',\n",
       "       'subsection_name', 'Description', 'establishment_type', 'combined_text',\n",
       "       'processed_text', 'cat_name', 'cat_int', 'prediction_cat_confscore',\n",
       "       'Tax Category', 'Agent Corrected CAT Name', 'Converted', 'Tagged By',\n",
       "       'Date', 'Agent Corrected Integer', 'WIC', 'merchant_name'],\n",
       "      dtype='object')"
      ]
     },
     "execution_count": 40,
     "metadata": {},
     "output_type": "execute_result"
    }
   ],
   "source": [
    "final_data1 = pd.concat([final_data1, df5], ignore_index=True)\n",
    "final_data1.columns"
   ]
  },
  {
   "cell_type": "code",
   "execution_count": 33,
   "id": "60e9c13b",
   "metadata": {},
   "outputs": [
    {
     "name": "stderr",
     "output_type": "stream",
     "text": [
      "/Users/jghosh2/opt/anaconda3/envs/py365/lib/python3.7/site-packages/IPython/core/interactiveshell.py:3457: DtypeWarning: Columns (21) have mixed types.Specify dtype option on import or set low_memory=False.\n",
      "  exec(code_obj, self.user_global_ns, self.user_ns)\n"
     ]
    }
   ],
   "source": [
    "final_data1=pd.read_csv('/Users/jghosh2/Documents/my-notebook/Tax_ml_poc/data/retrain_data/combinedlatestdata.csv')"
   ]
  },
  {
   "cell_type": "code",
   "execution_count": 34,
   "id": "f0ccacfc",
   "metadata": {},
   "outputs": [
    {
     "data": {
      "text/plain": [
       "(924117, 5)"
      ]
     },
     "execution_count": 34,
     "metadata": {},
     "output_type": "execute_result"
    }
   ],
   "source": [
    "final_data_latest = final_data1[['Item','Description','establishment_type','Agent Corrected CAT Name','Agent Corrected Integer']]\n",
    "final_data_latest.shape"
   ]
  },
  {
   "cell_type": "code",
   "execution_count": 35,
   "id": "4699d220",
   "metadata": {},
   "outputs": [
    {
     "name": "stdout",
     "output_type": "stream",
     "text": [
      "<class 'pandas.core.frame.DataFrame'>\n",
      "RangeIndex: 924117 entries, 0 to 924116\n",
      "Data columns (total 5 columns):\n",
      " #   Column                    Non-Null Count   Dtype \n",
      "---  ------                    --------------   ----- \n",
      " 0   Item                      924117 non-null  object\n",
      " 1   Description               744457 non-null  object\n",
      " 2   establishment_type        924117 non-null  object\n",
      " 3   Agent Corrected CAT Name  923780 non-null  object\n",
      " 4   Agent Corrected Integer   924117 non-null  object\n",
      "dtypes: object(5)\n",
      "memory usage: 35.3+ MB\n"
     ]
    }
   ],
   "source": [
    "final_data_latest.info()"
   ]
  },
  {
   "cell_type": "code",
   "execution_count": 36,
   "id": "d432d1c1",
   "metadata": {},
   "outputs": [
    {
     "data": {
      "text/plain": [
       "337"
      ]
     },
     "execution_count": 36,
     "metadata": {},
     "output_type": "execute_result"
    }
   ],
   "source": [
    "4117 - 3780"
   ]
  },
  {
   "cell_type": "code",
   "execution_count": 37,
   "id": "5b6ebced",
   "metadata": {},
   "outputs": [],
   "source": [
    "#final_data_latest.to_csv(\"final_data_latest_raw.csv\")"
   ]
  },
  {
   "cell_type": "markdown",
   "id": "618d06fd",
   "metadata": {},
   "source": [
    "# Data check for unmapped categories for latest data and map with standard categories"
   ]
  },
  {
   "cell_type": "code",
   "execution_count": 38,
   "id": "e4410d5c",
   "metadata": {
    "scrolled": false
   },
   "outputs": [
    {
     "name": "stderr",
     "output_type": "stream",
     "text": [
      "/Users/jghosh2/opt/anaconda3/envs/py365/lib/python3.7/site-packages/pandas/util/_decorators.py:311: SettingWithCopyWarning: \n",
      "A value is trying to be set on a copy of a slice from a DataFrame\n",
      "\n",
      "See the caveats in the documentation: https://pandas.pydata.org/pandas-docs/stable/user_guide/indexing.html#returning-a-view-versus-a-copy\n",
      "  return func(*args, **kwargs)\n"
     ]
    }
   ],
   "source": [
    "#final_data.dropna(subset=['target_new'],inplace=True)\n",
    "final_data_latest.dropna(subset=['Agent Corrected CAT Name'],inplace=True)"
   ]
  },
  {
   "cell_type": "code",
   "execution_count": 39,
   "id": "a2cd22cd",
   "metadata": {},
   "outputs": [
    {
     "name": "stdout",
     "output_type": "stream",
     "text": [
      "<class 'pandas.core.frame.DataFrame'>\n",
      "Int64Index: 923780 entries, 0 to 924116\n",
      "Data columns (total 5 columns):\n",
      " #   Column                    Non-Null Count   Dtype \n",
      "---  ------                    --------------   ----- \n",
      " 0   Item                      923780 non-null  object\n",
      " 1   Description               744162 non-null  object\n",
      " 2   establishment_type        923780 non-null  object\n",
      " 3   Agent Corrected CAT Name  923780 non-null  object\n",
      " 4   Agent Corrected Integer   923780 non-null  object\n",
      "dtypes: object(5)\n",
      "memory usage: 42.3+ MB\n"
     ]
    }
   ],
   "source": [
    "final_data_latest.info()"
   ]
  },
  {
   "cell_type": "code",
   "execution_count": 40,
   "id": "e8c8de79",
   "metadata": {},
   "outputs": [
    {
     "ename": "NameError",
     "evalue": "name 'set_master_mapping_data_categories' is not defined",
     "output_type": "error",
     "traceback": [
      "\u001b[0;31m---------------------------------------------------------------------------\u001b[0m",
      "\u001b[0;31mNameError\u001b[0m                                 Traceback (most recent call last)",
      "\u001b[0;32m/var/folders/dk/dcz1bsq51ydb6f7j_7n8pxpr0000gn/T/ipykernel_34801/3668514241.py\u001b[0m in \u001b[0;36m<module>\u001b[0;34m\u001b[0m\n\u001b[1;32m      1\u001b[0m \u001b[0;31m#check for unmapped categories\u001b[0m\u001b[0;34m\u001b[0m\u001b[0;34m\u001b[0m\u001b[0;34m\u001b[0m\u001b[0m\n\u001b[1;32m      2\u001b[0m \u001b[0mfinal_data_latest_categories\u001b[0m \u001b[0;34m=\u001b[0m \u001b[0mset\u001b[0m\u001b[0;34m(\u001b[0m\u001b[0mfinal_data_latest\u001b[0m\u001b[0;34m[\u001b[0m\u001b[0;34m'Agent Corrected CAT Name'\u001b[0m\u001b[0;34m]\u001b[0m\u001b[0;34m.\u001b[0m\u001b[0munique\u001b[0m\u001b[0;34m(\u001b[0m\u001b[0;34m)\u001b[0m\u001b[0;34m)\u001b[0m\u001b[0;34m\u001b[0m\u001b[0;34m\u001b[0m\u001b[0m\n\u001b[0;32m----> 3\u001b[0;31m \u001b[0mdif_categories_final_data_latest\u001b[0m \u001b[0;34m=\u001b[0m \u001b[0mlist\u001b[0m\u001b[0;34m(\u001b[0m\u001b[0mfinal_data_latest_categories\u001b[0m\u001b[0;34m.\u001b[0m\u001b[0mdifference\u001b[0m\u001b[0;34m(\u001b[0m\u001b[0mset_master_mapping_data_categories\u001b[0m\u001b[0;34m)\u001b[0m\u001b[0;34m)\u001b[0m\u001b[0;34m\u001b[0m\u001b[0;34m\u001b[0m\u001b[0m\n\u001b[0m\u001b[1;32m      4\u001b[0m \u001b[0mlen\u001b[0m\u001b[0;34m(\u001b[0m\u001b[0mdif_categories_final_data_latest\u001b[0m\u001b[0;34m)\u001b[0m\u001b[0;34m\u001b[0m\u001b[0;34m\u001b[0m\u001b[0m\n",
      "\u001b[0;31mNameError\u001b[0m: name 'set_master_mapping_data_categories' is not defined"
     ]
    }
   ],
   "source": [
    "#check for unmapped categories\n",
    "#final_data_latest_categories = set(final_data_latest['Agent Corrected CAT Name'].unique())\n",
    "##len(dif_categories_final_data_latest)"
   ]
  },
  {
   "cell_type": "code",
   "execution_count": null,
   "id": "75a1bb6e",
   "metadata": {},
   "outputs": [],
   "source": []
  },
  {
   "cell_type": "markdown",
   "id": "39058ae2",
   "metadata": {},
   "source": [
    "# Map latest data with standard categories"
   ]
  },
  {
   "cell_type": "code",
   "execution_count": 45,
   "id": "b44c8da4",
   "metadata": {},
   "outputs": [
    {
     "name": "stderr",
     "output_type": "stream",
     "text": [
      "/Users/jghosh2/opt/anaconda3/envs/py365/lib/python3.7/site-packages/ipykernel_launcher.py:2: SettingWithCopyWarning: \n",
      "A value is trying to be set on a copy of a slice from a DataFrame.\n",
      "Try using .loc[row_indexer,col_indexer] = value instead\n",
      "\n",
      "See the caveats in the documentation: https://pandas.pydata.org/pandas-docs/stable/user_guide/indexing.html#returning-a-view-versus-a-copy\n",
      "  \n"
     ]
    }
   ],
   "source": [
    "#mapping to the standard categories and integers\n",
    "final_data_latest[\"Agent Corrected CAT Name standarized\"] = final_data_latest[\"Agent Corrected CAT Name\"].replace(cat_dict)"
   ]
  },
  {
   "cell_type": "code",
   "execution_count": 46,
   "id": "5f80234d",
   "metadata": {},
   "outputs": [
    {
     "name": "stderr",
     "output_type": "stream",
     "text": [
      "/Users/jghosh2/opt/anaconda3/envs/py365/lib/python3.7/site-packages/ipykernel_launcher.py:1: SettingWithCopyWarning: \n",
      "A value is trying to be set on a copy of a slice from a DataFrame.\n",
      "Try using .loc[row_indexer,col_indexer] = value instead\n",
      "\n",
      "See the caveats in the documentation: https://pandas.pydata.org/pandas-docs/stable/user_guide/indexing.html#returning-a-view-versus-a-copy\n",
      "  \"\"\"Entry point for launching an IPython kernel.\n"
     ]
    }
   ],
   "source": [
    "final_data_latest['Agent Corrected Integer standardized'] = final_data_latest['Agent Corrected CAT Name standarized'].map(mapping1)"
   ]
  },
  {
   "cell_type": "code",
   "execution_count": 47,
   "id": "7febf53b",
   "metadata": {},
   "outputs": [
    {
     "name": "stdout",
     "output_type": "stream",
     "text": [
      "<class 'pandas.core.frame.DataFrame'>\n",
      "Int64Index: 923780 entries, 0 to 924116\n",
      "Data columns (total 7 columns):\n",
      " #   Column                                Non-Null Count   Dtype \n",
      "---  ------                                --------------   ----- \n",
      " 0   Item                                  923780 non-null  object\n",
      " 1   Description                           744162 non-null  object\n",
      " 2   establishment_type                    923780 non-null  object\n",
      " 3   Agent Corrected CAT Name              923780 non-null  object\n",
      " 4   Agent Corrected Integer               923780 non-null  object\n",
      " 5   Agent Corrected CAT Name standarized  923780 non-null  object\n",
      " 6   Agent Corrected Integer standardized  923780 non-null  object\n",
      "dtypes: object(7)\n",
      "memory usage: 56.4+ MB\n"
     ]
    }
   ],
   "source": [
    "final_data_latest.info()"
   ]
  },
  {
   "cell_type": "code",
   "execution_count": 48,
   "id": "6529a9ce",
   "metadata": {
    "scrolled": true
   },
   "outputs": [
    {
     "data": {
      "text/html": [
       "<div>\n",
       "<style scoped>\n",
       "    .dataframe tbody tr th:only-of-type {\n",
       "        vertical-align: middle;\n",
       "    }\n",
       "\n",
       "    .dataframe tbody tr th {\n",
       "        vertical-align: top;\n",
       "    }\n",
       "\n",
       "    .dataframe thead th {\n",
       "        text-align: right;\n",
       "    }\n",
       "</style>\n",
       "<table border=\"1\" class=\"dataframe\">\n",
       "  <thead>\n",
       "    <tr style=\"text-align: right;\">\n",
       "      <th></th>\n",
       "      <th>Item</th>\n",
       "      <th>Description</th>\n",
       "      <th>establishment_type</th>\n",
       "      <th>Agent Corrected CAT Name</th>\n",
       "      <th>Agent Corrected Integer</th>\n",
       "      <th>Agent Corrected CAT Name standarized</th>\n",
       "      <th>Agent Corrected Integer standardized</th>\n",
       "    </tr>\n",
       "  </thead>\n",
       "  <tbody>\n",
       "    <tr>\n",
       "      <th>0</th>\n",
       "      <td>Chunky Blue Cheese Dressing 16 fl oz</td>\n",
       "      <td>Kraft Chunky Blue Cheese Dressing</td>\n",
       "      <td>GROCERY</td>\n",
       "      <td>CAT_PREPACKAGED_FOOD_CONDIMENTS</td>\n",
       "      <td>740</td>\n",
       "      <td>CAT_PREPACKAGED_FOOD_CONDIMENTS</td>\n",
       "      <td>740</td>\n",
       "    </tr>\n",
       "    <tr>\n",
       "      <th>1</th>\n",
       "      <td>Wonderful Pistachios No Shells Sea Salt &amp; Vine...</td>\n",
       "      <td>Pistachios, Sea Salt &amp; Vinegar, No Shells, Bag</td>\n",
       "      <td>CONVENIENCE</td>\n",
       "      <td>CAT_PREPACKAGED_FOOD_SNACK_NUTS</td>\n",
       "      <td>747</td>\n",
       "      <td>CAT_PREPACKAGED_FOOD_SNACK_NUTS</td>\n",
       "      <td>747</td>\n",
       "    </tr>\n",
       "    <tr>\n",
       "      <th>2</th>\n",
       "      <td>Tylenol Sinus Congestion &amp; Pain 24 count</td>\n",
       "      <td>Tylenol SinusÂ Severe Daytime Caplets offer te...</td>\n",
       "      <td>CONVENIENCE</td>\n",
       "      <td>CAT_OTC_MEDICATION</td>\n",
       "      <td>521</td>\n",
       "      <td>CAT_OTC_MEDICATION</td>\n",
       "      <td>521</td>\n",
       "    </tr>\n",
       "    <tr>\n",
       "      <th>3</th>\n",
       "      <td>Off Deep Woods Aerosol 6oz</td>\n",
       "      <td>OFF!Â Deep WoodsÂ®Â Insect Repellent V provide...</td>\n",
       "      <td>CONVENIENCE</td>\n",
       "      <td>CAT_TPP_INSECT_REPELLENT</td>\n",
       "      <td>805</td>\n",
       "      <td>CAT_TPP_INSECT_REPELLENT</td>\n",
       "      <td>805</td>\n",
       "    </tr>\n",
       "    <tr>\n",
       "      <th>4</th>\n",
       "      <td>Blood Orange Lime Juice with CBD 14 fl oz</td>\n",
       "      <td>Hemp CBD 25 mg</td>\n",
       "      <td>GROCERY</td>\n",
       "      <td>CAT_SUPPLEMENTS</td>\n",
       "      <td>542</td>\n",
       "      <td>CAT_SUPPLEMENTS</td>\n",
       "      <td>542</td>\n",
       "    </tr>\n",
       "  </tbody>\n",
       "</table>\n",
       "</div>"
      ],
      "text/plain": [
       "                                                Item  \\\n",
       "0               Chunky Blue Cheese Dressing 16 fl oz   \n",
       "1  Wonderful Pistachios No Shells Sea Salt & Vine...   \n",
       "2           Tylenol Sinus Congestion & Pain 24 count   \n",
       "3                         Off Deep Woods Aerosol 6oz   \n",
       "4          Blood Orange Lime Juice with CBD 14 fl oz   \n",
       "\n",
       "                                         Description establishment_type  \\\n",
       "0                  Kraft Chunky Blue Cheese Dressing            GROCERY   \n",
       "1     Pistachios, Sea Salt & Vinegar, No Shells, Bag        CONVENIENCE   \n",
       "2  Tylenol SinusÂ Severe Daytime Caplets offer te...        CONVENIENCE   \n",
       "3  OFF!Â Deep WoodsÂ®Â Insect Repellent V provide...        CONVENIENCE   \n",
       "4                                     Hemp CBD 25 mg            GROCERY   \n",
       "\n",
       "          Agent Corrected CAT Name Agent Corrected Integer  \\\n",
       "0  CAT_PREPACKAGED_FOOD_CONDIMENTS                     740   \n",
       "1  CAT_PREPACKAGED_FOOD_SNACK_NUTS                     747   \n",
       "2               CAT_OTC_MEDICATION                     521   \n",
       "3         CAT_TPP_INSECT_REPELLENT                     805   \n",
       "4                  CAT_SUPPLEMENTS                     542   \n",
       "\n",
       "  Agent Corrected CAT Name standarized Agent Corrected Integer standardized  \n",
       "0      CAT_PREPACKAGED_FOOD_CONDIMENTS                                  740  \n",
       "1      CAT_PREPACKAGED_FOOD_SNACK_NUTS                                  747  \n",
       "2                   CAT_OTC_MEDICATION                                  521  \n",
       "3             CAT_TPP_INSECT_REPELLENT                                  805  \n",
       "4                      CAT_SUPPLEMENTS                                  542  "
      ]
     },
     "execution_count": 48,
     "metadata": {},
     "output_type": "execute_result"
    }
   ],
   "source": [
    "final_data_latest.head()"
   ]
  },
  {
   "cell_type": "code",
   "execution_count": 49,
   "id": "20e98dd6",
   "metadata": {},
   "outputs": [
    {
     "name": "stdout",
     "output_type": "stream",
     "text": [
      "(923780, 4)\n"
     ]
    },
    {
     "name": "stderr",
     "output_type": "stream",
     "text": [
      "/Users/jghosh2/opt/anaconda3/envs/py365/lib/python3.7/site-packages/ipykernel_launcher.py:2: SettingWithCopyWarning: \n",
      "A value is trying to be set on a copy of a slice from a DataFrame.\n",
      "Try using .loc[row_indexer,col_indexer] = value instead\n",
      "\n",
      "See the caveats in the documentation: https://pandas.pydata.org/pandas-docs/stable/user_guide/indexing.html#returning-a-view-versus-a-copy\n",
      "  \n",
      "/Users/jghosh2/opt/anaconda3/envs/py365/lib/python3.7/site-packages/pandas/core/frame.py:4913: SettingWithCopyWarning: \n",
      "A value is trying to be set on a copy of a slice from a DataFrame\n",
      "\n",
      "See the caveats in the documentation: https://pandas.pydata.org/pandas-docs/stable/user_guide/indexing.html#returning-a-view-versus-a-copy\n",
      "  errors=errors,\n"
     ]
    }
   ],
   "source": [
    "#creating target_new variable\n",
    "final_data_latest['target_new']=final_data_latest['Agent Corrected CAT Name standarized'] + \":\" + final_data_latest['Agent Corrected Integer standardized']\n",
    "final_data_latest.drop(['Agent Corrected CAT Name','Agent Corrected Integer','Agent Corrected CAT Name standarized', 'Agent Corrected Integer standardized'],inplace=True,axis=1)\n",
    "print(final_data_latest.shape)"
   ]
  },
  {
   "cell_type": "code",
   "execution_count": 50,
   "id": "33c62d07",
   "metadata": {},
   "outputs": [],
   "source": [
    "#final_data_latest = final_data_latest[['Item','Description','establishment_type','target_new']]\n",
    "#print(final_data_latest.shape)"
   ]
  },
  {
   "cell_type": "code",
   "execution_count": 52,
   "id": "8e770ed6",
   "metadata": {},
   "outputs": [
    {
     "data": {
      "text/plain": [
       "0"
      ]
     },
     "execution_count": 52,
     "metadata": {},
     "output_type": "execute_result"
    }
   ],
   "source": [
    "#cross checking if all categories are mapped\n",
    "final_data_latest_categories1 = set(final_data_latest['Agent Corrected CAT Name standarized'].unique())\n",
    "dif_categories_final_data_latest1 = list(final_data_latest_categories1.difference(set_master_mapping_data_categories))\n",
    "len(dif_categories_final_data_latest1)"
   ]
  },
  {
   "cell_type": "code",
   "execution_count": 224,
   "id": "6441d172",
   "metadata": {
    "scrolled": true
   },
   "outputs": [
    {
     "data": {
      "text/plain": [
       "[]"
      ]
     },
     "execution_count": 224,
     "metadata": {},
     "output_type": "execute_result"
    }
   ],
   "source": [
    "dif_categories_final_data_latest"
   ]
  },
  {
   "cell_type": "code",
   "execution_count": 262,
   "id": "a2ca45d1",
   "metadata": {},
   "outputs": [],
   "source": [
    "#final_data_latest.to_csv(\"final_data_latest_aftermapping.csv\")"
   ]
  },
  {
   "cell_type": "code",
   "execution_count": 226,
   "id": "0f4ea403",
   "metadata": {},
   "outputs": [
    {
     "data": {
      "text/plain": [
       "(923780, 4)"
      ]
     },
     "execution_count": 226,
     "metadata": {},
     "output_type": "execute_result"
    }
   ],
   "source": [
    "final_data_latest.shape"
   ]
  },
  {
   "cell_type": "code",
   "execution_count": 227,
   "id": "1ef7fe26",
   "metadata": {},
   "outputs": [],
   "source": [
    "#final_data_latest.to_csv(\"final_data_latest4.csv\")"
   ]
  },
  {
   "cell_type": "markdown",
   "id": "0ea8efd6",
   "metadata": {},
   "source": [
    "# Combining the previous data with latest data"
   ]
  },
  {
   "cell_type": "code",
   "execution_count": 51,
   "id": "b61d1a4a",
   "metadata": {},
   "outputs": [
    {
     "name": "stdout",
     "output_type": "stream",
     "text": [
      "<class 'pandas.core.frame.DataFrame'>\n",
      "Int64Index: 935388 entries, 0 to 539846\n",
      "Data columns (total 5 columns):\n",
      " #   Column              Non-Null Count   Dtype \n",
      "---  ------              --------------   ----- \n",
      " 0   UniqueUUID          935388 non-null  object\n",
      " 1   Item                935383 non-null  object\n",
      " 2   Description         587093 non-null  object\n",
      " 3   establishment_type  935388 non-null  object\n",
      " 4   target_new          935388 non-null  object\n",
      "dtypes: object(5)\n",
      "memory usage: 42.8+ MB\n"
     ]
    }
   ],
   "source": [
    "final_data_previous.info()"
   ]
  },
  {
   "cell_type": "code",
   "execution_count": 52,
   "id": "af7c1386",
   "metadata": {},
   "outputs": [],
   "source": [
    "final_data_previous1 = final_data_previous[['Item', 'Description', 'establishment_type', 'target_new']]"
   ]
  },
  {
   "cell_type": "code",
   "execution_count": 53,
   "id": "5eb0bab3",
   "metadata": {},
   "outputs": [
    {
     "data": {
      "text/plain": [
       "(1859168, 4)"
      ]
     },
     "execution_count": 53,
     "metadata": {},
     "output_type": "execute_result"
    }
   ],
   "source": [
    "final_data_combined = pd.concat([final_data_previous1, final_data_latest],ignore_index=True)\n",
    "final_data_combined.shape"
   ]
  },
  {
   "cell_type": "code",
   "execution_count": 64,
   "id": "e97f6c35",
   "metadata": {},
   "outputs": [],
   "source": [
    "final_data_combined = final_data_combined.astype(str)"
   ]
  },
  {
   "cell_type": "code",
   "execution_count": 65,
   "id": "8c8afb09",
   "metadata": {},
   "outputs": [
    {
     "data": {
      "text/plain": [
       "Item                  object\n",
       "Description           object\n",
       "establishment_type    object\n",
       "target_new            object\n",
       "dtype: object"
      ]
     },
     "execution_count": 65,
     "metadata": {},
     "output_type": "execute_result"
    }
   ],
   "source": [
    "final_data_combined.dtypes"
   ]
  },
  {
   "cell_type": "markdown",
   "id": "509a1332",
   "metadata": {},
   "source": [
    "# preprocessing"
   ]
  },
  {
   "cell_type": "code",
   "execution_count": 55,
   "id": "5f9dbfca",
   "metadata": {},
   "outputs": [],
   "source": [
    "final_data_combined['combined_text'] = final_data_combined[['Item','Description','establishment_type']].apply(lambda x: ' '.join(x[x.notnull()]), axis = 1)"
   ]
  },
  {
   "cell_type": "code",
   "execution_count": 57,
   "id": "af554b2a",
   "metadata": {},
   "outputs": [
    {
     "name": "stdout",
     "output_type": "stream",
     "text": [
      "(1859168, 6)\n"
     ]
    }
   ],
   "source": [
    "#final_data_combined = pd.concat([final_data_previous[['Item', 'Description', 'establishment_type', 'target_new']], final_data_latest])\n",
    "# combine the columns Item, Description and establishment_type into one column 'combined_text'\n",
    "#final_data_combined['combined_text'] = final_data_combined[['Item','Description','establishment_type']].apply(lambda x: ' '.join(x[x.notnull()]), axis = 1)\n",
    "# apply data preprocessing steps on the prepared column\n",
    "final_data_combined['processed_text']= final_data_combined['combined_text'].map(lambda s:preprocess_text(s)) \n",
    "print(final_data_combined.shape)"
   ]
  },
  {
   "cell_type": "code",
   "execution_count": 58,
   "id": "d0002a42",
   "metadata": {},
   "outputs": [
    {
     "name": "stdout",
     "output_type": "stream",
     "text": [
      "(573196, 6)\n"
     ]
    },
    {
     "name": "stderr",
     "output_type": "stream",
     "text": [
      "/Users/jghosh2/opt/anaconda3/envs/py365/lib/python3.7/site-packages/pandas/util/_decorators.py:311: SettingWithCopyWarning: \n",
      "A value is trying to be set on a copy of a slice from a DataFrame\n",
      "\n",
      "See the caveats in the documentation: https://pandas.pydata.org/pandas-docs/stable/user_guide/indexing.html#returning-a-view-versus-a-copy\n",
      "  return func(*args, **kwargs)\n"
     ]
    }
   ],
   "source": [
    "final_data_combined=final_data_combined.drop_duplicates(subset=['processed_text','target_new'],keep='first')\n",
    "print(final_data_combined.shape)\n",
    "#remove rows having empty target column\n",
    "final_data_combined.dropna(subset=['target_new'],inplace=True)\n",
    "\n",
    "X= final_data_combined[['Item','Description','establishment_type','processed_text']]\n",
    "y= final_data_combined['target_new']\n",
    "\n",
    "# split the cicd data into train and test \n",
    "X_train, X_test, y_train, y_test = train_test_split(X, y,shuffle=True, test_size = .20, random_state = 42)\n"
   ]
  },
  {
   "cell_type": "code",
   "execution_count": 254,
   "id": "2a8f51ba",
   "metadata": {},
   "outputs": [],
   "source": [
    "#final_data_combined.to_csv(\"final_data_combined_afterpreprocessing.csv\")"
   ]
  }
 ],
 "metadata": {
  "kernelspec": {
   "display_name": "Python 3 (ipykernel)",
   "language": "python",
   "name": "python3"
  },
  "language_info": {
   "codemirror_mode": {
    "name": "ipython",
    "version": 3
   },
   "file_extension": ".py",
   "mimetype": "text/x-python",
   "name": "python",
   "nbconvert_exporter": "python",
   "pygments_lexer": "ipython3",
   "version": "3.7.8"
  }
 },
 "nbformat": 4,
 "nbformat_minor": 5
}
