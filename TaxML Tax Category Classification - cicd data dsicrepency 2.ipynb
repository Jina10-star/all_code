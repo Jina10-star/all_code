{
 "cells": [
  {
   "cell_type": "markdown",
   "id": "6aa18879",
   "metadata": {},
   "source": [
    "# <h1>Table of Contents<span class=\"tocSkip\"></span></h1>\n",
    "<div class=\"toc\"><ul class=\"toc-item\"><li><span><a href=\"#Import Requirements\" data-toc-modified-id=\"Import-Requirements-1\"><span class=\"toc-item-num\">1&nbsp;&nbsp;</span>Import Requirements</a></span></li><li><span><a href=\"#Prepare Training Data\" data-toc-modified-id=\"Prepare-Training-Data-2\"><span class=\"toc-item-num\">2&nbsp;&nbsp;</span>Prepare Training Data</a></span><ul class=\"toc-item\"></ul></li><li><span><a href=\"#Model Training\" data-toc-modified-id=\"Model Training-3\"><span class=\"toc-item-num\">3&nbsp;&nbsp;</span>Model Training</a></span></li><li><span><a href=\"#Model Saving\" data-toc-modified-id=\"Model Saving-4\"><span class=\"toc-item-num\">4&nbsp;&nbsp;</span>Model Saving</a></span><ul class=\"toc-item\"></ul></li><li><span><a href=\"#Validation and Results\" data-toc-modified-id=\"Validation and Results-6\"><span class=\"toc-item-num\">6&nbsp;&nbsp;</span>Validation and Results</a></span><ul class=\"toc-item\"></ul></div>"
   ]
  },
  {
   "cell_type": "markdown",
   "id": "eabe6d0d",
   "metadata": {},
   "source": [
    "<a id='Import Requirements'></a>"
   ]
  },
  {
   "cell_type": "markdown",
   "id": "b971b37a",
   "metadata": {},
   "source": [
    "# Import Requirements"
   ]
  },
  {
   "cell_type": "code",
   "execution_count": 1,
   "id": "ca994c06",
   "metadata": {},
   "outputs": [],
   "source": [
    "import pandas as pd\n",
    "import numpy as np\n",
    "import json\n",
    "import os\n",
    "import re\n",
    "from sklearn.feature_extraction.text import TfidfTransformer, CountVectorizer\n",
    "from sklearn.naive_bayes import MultinomialNB\n",
    "from sklearn.pipeline import Pipeline\n",
    "from sklearn.model_selection import train_test_split\n",
    "from sklearn.metrics import accuracy_score, precision_score, recall_score, f1_score, roc_curve, auc, confusion_matrix\n",
    "from sklearn.pipeline import Pipeline\n",
    "import nltk\n",
    "from nltk.corpus import stopwords\n",
    "from nltk.stem import WordNetLemmatizer \n",
    "from nltk.corpus import wordnet\n",
    "import string\n",
    "import matplotlib.pyplot as plt"
   ]
  },
  {
   "cell_type": "markdown",
   "id": "4342ccbd",
   "metadata": {},
   "source": [
    "<a id='Prepare Training Data'></a>"
   ]
  },
  {
   "cell_type": "markdown",
   "id": "03f4230c",
   "metadata": {},
   "source": [
    "# Prepare Training Data"
   ]
  },
  {
   "cell_type": "markdown",
   "id": "07b0d0ec",
   "metadata": {},
   "source": [
    "Input data for training consists of both historical data and CICD data( Production run data for which manual agent validation has been done for the ML prediction)"
   ]
  },
  {
   "cell_type": "code",
   "execution_count": 2,
   "id": "322e3a4c",
   "metadata": {},
   "outputs": [],
   "source": [
    "def preprocess_text(message):\n",
    "\n",
    "    #stopwords\n",
    "    stpwrd = nltk.corpus.stopwords.words('english')\n",
    "    #stpwrd.extend(new_stopwords)\n",
    "    # 1. Init Lemmatizer\n",
    "    lemmatizer = WordNetLemmatizer()\n",
    "    #lowering and removing punctuation\n",
    "    message = re.sub(r'[^\\w\\s]',' ', message.lower())\n",
    "    #removing the numerical values and working only with text values\n",
    "    message = re.sub('[^a-zA-Z]', \" \", message )\n",
    "    #removing the stopwords\n",
    "    message = ' '.join([word for word in message.split() if word not in stpwrd and len(word)>1])\n",
    "    #lemmatizing the text\n",
    "    message =  \" \".join([lemmatizer.lemmatize(w) for w in nltk.word_tokenize(message) if w not in string.punctuation])\n",
    "    return message"
   ]
  },
  {
   "cell_type": "code",
   "execution_count": 3,
   "id": "a9a8b0d8",
   "metadata": {},
   "outputs": [],
   "source": [
    "#data_cicd=pd.read_csv('../data/retrain_data/2022-12-13 - INDIRECTTX-1926 - Walgreens_after_tagging.csv' , usecols = ['item_name','subsection_name','description','establishment_type','CAT NAME,CAT_TEMP','Integers'])\n",
    "#data_cicd['target_new']=data_cicd['CAT NAME,CAT_TEMP'] + \":\" + data_cicd['Integers']\n",
    "#data_cicd.drop(['CAT NAME,CAT_TEMP', 'Integers'],inplace=True,axis=1)\n",
    "#data_cicd['combined_text'] = final_data[['Item','Description','establishment_type']].apply(lambda x: ' '.join(x[x.notnull()]), axis = 1)\n"
   ]
  },
  {
   "cell_type": "code",
   "execution_count": 13,
   "id": "9a63848a",
   "metadata": {},
   "outputs": [
    {
     "name": "stderr",
     "output_type": "stream",
     "text": [
      "/Users/jghosh2/opt/anaconda3/envs/py365/lib/python3.7/site-packages/IPython/core/interactiveshell.py:3457: DtypeWarning: Columns (10) have mixed types.Specify dtype option on import or set low_memory=False.\n",
      "  exec(code_obj, self.user_global_ns, self.user_ns)\n"
     ]
    }
   ],
   "source": [
    "data_cicd=pd.read_csv('../data/retrain_data/TaxML-CICD - Prod_Data (4).csv')"
   ]
  },
  {
   "cell_type": "code",
   "execution_count": 14,
   "id": "44514baf",
   "metadata": {},
   "outputs": [
    {
     "data": {
      "text/plain": [
       "(539847, 15)"
      ]
     },
     "execution_count": 14,
     "metadata": {},
     "output_type": "execute_result"
    }
   ],
   "source": [
    "data_cicd.shape"
   ]
  },
  {
   "cell_type": "code",
   "execution_count": 15,
   "id": "18f56017",
   "metadata": {},
   "outputs": [],
   "source": [
    "data_cicd = data_cicd.dropna(axis=0, subset=['Agent Corrected CAT Name'])\n",
    "data_cicd = data_cicd.drop(data_cicd[data_cicd['Agent Corrected CAT Name']=='#REF!'].index)\n",
    "data_cicd = data_cicd.drop(data_cicd[data_cicd['Agent Corrected CAT Name']=='106,107,1'].index)\n",
    "data_cicd = data_cicd.drop(data_cicd[data_cicd['Agent Corrected CAT Name']=='Bottled Tea Drink'].index)\n",
    "data_cicd = data_cicd.drop(data_cicd[data_cicd['Agent Corrected CAT Name']=='Bottled tea drink'].index)\n",
    "data_cicd = data_cicd.drop(data_cicd[data_cicd['Agent Corrected CAT Name']=='Air Freshener'].index)\n"
   ]
  },
  {
   "cell_type": "code",
   "execution_count": 16,
   "id": "dd9327b4",
   "metadata": {},
   "outputs": [
    {
     "data": {
      "text/plain": [
       "(539198, 15)"
      ]
     },
     "execution_count": 16,
     "metadata": {},
     "output_type": "execute_result"
    }
   ],
   "source": [
    "data_cicd.shape"
   ]
  },
  {
   "cell_type": "code",
   "execution_count": 12,
   "id": "daa83702",
   "metadata": {},
   "outputs": [],
   "source": [
    "#xd=data_cicd['Agent Corrected CAT Name'].unique()\n",
    "#k=pd.Series(xd)\n",
    "#k.to_csv('k.csv')"
   ]
  },
  {
   "cell_type": "code",
   "execution_count": 19,
   "id": "70821205",
   "metadata": {},
   "outputs": [],
   "source": [
    "mapping_data=pd.read_csv('../data/retrain_data/mapping_latest.csv')\n",
    "cat_dict = dict(zip(mapping_data['Agent CAT Name'], mapping_data['Updated CAT Name']))\n",
    "#int_dict = dict(zip(mapping_data['Agent CAT Name'], mapping_data['Updated Integer']))\n",
    "data_cicd[\"Agent Corrected CAT Name standarized\"] = data_cicd[\"Agent Corrected CAT Name\"].replace(cat_dict)\n",
    "#data_cicd[\"Agent Corrected Integers\"] = data_cicd[\"Agent Corrected CAT Name\"].replace(int_dict)"
   ]
  },
  {
   "cell_type": "code",
   "execution_count": 30,
   "id": "968a4281",
   "metadata": {},
   "outputs": [],
   "source": [
    "#int_dict"
   ]
  },
  {
   "cell_type": "code",
   "execution_count": 33,
   "id": "59aa0c36",
   "metadata": {},
   "outputs": [
    {
     "ename": "KeyError",
     "evalue": "'CAT_WATER,TRAIT_NONCARB,TRAIT_FLV_SWT,CONTAINER_BOTTLED,TEMP_COLD'",
     "output_type": "error",
     "traceback": [
      "\u001b[0;31m---------------------------------------------------------------------------\u001b[0m",
      "\u001b[0;31mKeyError\u001b[0m                                  Traceback (most recent call last)",
      "\u001b[0;32m/var/folders/dk/dcz1bsq51ydb6f7j_7n8pxpr0000gn/T/ipykernel_29692/1008497989.py\u001b[0m in \u001b[0;36m<module>\u001b[0;34m\u001b[0m\n\u001b[1;32m      2\u001b[0m \u001b[0mint_dict_1\u001b[0m \u001b[0;34m=\u001b[0m \u001b[0mdict\u001b[0m\u001b[0;34m(\u001b[0m\u001b[0mzip\u001b[0m\u001b[0;34m(\u001b[0m\u001b[0mmapping_data_1\u001b[0m\u001b[0;34m[\u001b[0m\u001b[0;34m'Agent CAT Name'\u001b[0m\u001b[0;34m]\u001b[0m\u001b[0;34m,\u001b[0m \u001b[0mmapping_data_1\u001b[0m\u001b[0;34m[\u001b[0m\u001b[0;34m'Updated Integer'\u001b[0m\u001b[0;34m]\u001b[0m\u001b[0;34m)\u001b[0m\u001b[0;34m)\u001b[0m\u001b[0;34m\u001b[0m\u001b[0;34m\u001b[0m\u001b[0m\n\u001b[1;32m      3\u001b[0m \u001b[0;31m#data_cicd[\"Agent Corrected Integer standarized\"] = data_cicd[\"Agent Corrected CAT Name standarized\"].map(int_dict)\u001b[0m\u001b[0;34m\u001b[0m\u001b[0;34m\u001b[0m\u001b[0;34m\u001b[0m\u001b[0m\n\u001b[0;32m----> 4\u001b[0;31m \u001b[0mdata_cicd\u001b[0m\u001b[0;34m[\u001b[0m\u001b[0;34m\"Agent Corrected Integer standarized_2\"\u001b[0m\u001b[0;34m]\u001b[0m \u001b[0;34m=\u001b[0m \u001b[0mdata_cicd\u001b[0m\u001b[0;34m[\u001b[0m\u001b[0;34m\"Agent Corrected CAT Name\"\u001b[0m\u001b[0;34m]\u001b[0m\u001b[0;34m.\u001b[0m\u001b[0mapply\u001b[0m\u001b[0;34m(\u001b[0m\u001b[0;32mlambda\u001b[0m \u001b[0mx\u001b[0m\u001b[0;34m:\u001b[0m\u001b[0mint_dict_1\u001b[0m\u001b[0;34m[\u001b[0m\u001b[0mx\u001b[0m\u001b[0;34m]\u001b[0m\u001b[0;34m)\u001b[0m\u001b[0;34m\u001b[0m\u001b[0;34m\u001b[0m\u001b[0m\n\u001b[0m",
      "\u001b[0;32m~/opt/anaconda3/envs/py365/lib/python3.7/site-packages/pandas/core/series.py\u001b[0m in \u001b[0;36mapply\u001b[0;34m(self, func, convert_dtype, args, **kwargs)\u001b[0m\n\u001b[1;32m   4355\u001b[0m         \u001b[0mdtype\u001b[0m\u001b[0;34m:\u001b[0m \u001b[0mfloat64\u001b[0m\u001b[0;34m\u001b[0m\u001b[0;34m\u001b[0m\u001b[0m\n\u001b[1;32m   4356\u001b[0m         \"\"\"\n\u001b[0;32m-> 4357\u001b[0;31m         \u001b[0;32mreturn\u001b[0m \u001b[0mSeriesApply\u001b[0m\u001b[0;34m(\u001b[0m\u001b[0mself\u001b[0m\u001b[0;34m,\u001b[0m \u001b[0mfunc\u001b[0m\u001b[0;34m,\u001b[0m \u001b[0mconvert_dtype\u001b[0m\u001b[0;34m,\u001b[0m \u001b[0margs\u001b[0m\u001b[0;34m,\u001b[0m \u001b[0mkwargs\u001b[0m\u001b[0;34m)\u001b[0m\u001b[0;34m.\u001b[0m\u001b[0mapply\u001b[0m\u001b[0;34m(\u001b[0m\u001b[0;34m)\u001b[0m\u001b[0;34m\u001b[0m\u001b[0;34m\u001b[0m\u001b[0m\n\u001b[0m\u001b[1;32m   4358\u001b[0m \u001b[0;34m\u001b[0m\u001b[0m\n\u001b[1;32m   4359\u001b[0m     def _reduce(\n",
      "\u001b[0;32m~/opt/anaconda3/envs/py365/lib/python3.7/site-packages/pandas/core/apply.py\u001b[0m in \u001b[0;36mapply\u001b[0;34m(self)\u001b[0m\n\u001b[1;32m   1041\u001b[0m             \u001b[0;32mreturn\u001b[0m \u001b[0mself\u001b[0m\u001b[0;34m.\u001b[0m\u001b[0mapply_str\u001b[0m\u001b[0;34m(\u001b[0m\u001b[0;34m)\u001b[0m\u001b[0;34m\u001b[0m\u001b[0;34m\u001b[0m\u001b[0m\n\u001b[1;32m   1042\u001b[0m \u001b[0;34m\u001b[0m\u001b[0m\n\u001b[0;32m-> 1043\u001b[0;31m         \u001b[0;32mreturn\u001b[0m \u001b[0mself\u001b[0m\u001b[0;34m.\u001b[0m\u001b[0mapply_standard\u001b[0m\u001b[0;34m(\u001b[0m\u001b[0;34m)\u001b[0m\u001b[0;34m\u001b[0m\u001b[0;34m\u001b[0m\u001b[0m\n\u001b[0m\u001b[1;32m   1044\u001b[0m \u001b[0;34m\u001b[0m\u001b[0m\n\u001b[1;32m   1045\u001b[0m     \u001b[0;32mdef\u001b[0m \u001b[0magg\u001b[0m\u001b[0;34m(\u001b[0m\u001b[0mself\u001b[0m\u001b[0;34m)\u001b[0m\u001b[0;34m:\u001b[0m\u001b[0;34m\u001b[0m\u001b[0;34m\u001b[0m\u001b[0m\n",
      "\u001b[0;32m~/opt/anaconda3/envs/py365/lib/python3.7/site-packages/pandas/core/apply.py\u001b[0m in \u001b[0;36mapply_standard\u001b[0;34m(self)\u001b[0m\n\u001b[1;32m   1099\u001b[0m                     \u001b[0mvalues\u001b[0m\u001b[0;34m,\u001b[0m\u001b[0;34m\u001b[0m\u001b[0;34m\u001b[0m\u001b[0m\n\u001b[1;32m   1100\u001b[0m                     \u001b[0mf\u001b[0m\u001b[0;34m,\u001b[0m  \u001b[0;31m# type: ignore[arg-type]\u001b[0m\u001b[0;34m\u001b[0m\u001b[0;34m\u001b[0m\u001b[0m\n\u001b[0;32m-> 1101\u001b[0;31m                     \u001b[0mconvert\u001b[0m\u001b[0;34m=\u001b[0m\u001b[0mself\u001b[0m\u001b[0;34m.\u001b[0m\u001b[0mconvert_dtype\u001b[0m\u001b[0;34m,\u001b[0m\u001b[0;34m\u001b[0m\u001b[0;34m\u001b[0m\u001b[0m\n\u001b[0m\u001b[1;32m   1102\u001b[0m                 )\n\u001b[1;32m   1103\u001b[0m \u001b[0;34m\u001b[0m\u001b[0m\n",
      "\u001b[0;32m~/opt/anaconda3/envs/py365/lib/python3.7/site-packages/pandas/_libs/lib.pyx\u001b[0m in \u001b[0;36mpandas._libs.lib.map_infer\u001b[0;34m()\u001b[0m\n",
      "\u001b[0;32m/var/folders/dk/dcz1bsq51ydb6f7j_7n8pxpr0000gn/T/ipykernel_29692/1008497989.py\u001b[0m in \u001b[0;36m<lambda>\u001b[0;34m(x)\u001b[0m\n\u001b[1;32m      2\u001b[0m \u001b[0mint_dict_1\u001b[0m \u001b[0;34m=\u001b[0m \u001b[0mdict\u001b[0m\u001b[0;34m(\u001b[0m\u001b[0mzip\u001b[0m\u001b[0;34m(\u001b[0m\u001b[0mmapping_data_1\u001b[0m\u001b[0;34m[\u001b[0m\u001b[0;34m'Agent CAT Name'\u001b[0m\u001b[0;34m]\u001b[0m\u001b[0;34m,\u001b[0m \u001b[0mmapping_data_1\u001b[0m\u001b[0;34m[\u001b[0m\u001b[0;34m'Updated Integer'\u001b[0m\u001b[0;34m]\u001b[0m\u001b[0;34m)\u001b[0m\u001b[0;34m)\u001b[0m\u001b[0;34m\u001b[0m\u001b[0;34m\u001b[0m\u001b[0m\n\u001b[1;32m      3\u001b[0m \u001b[0;31m#data_cicd[\"Agent Corrected Integer standarized\"] = data_cicd[\"Agent Corrected CAT Name standarized\"].map(int_dict)\u001b[0m\u001b[0;34m\u001b[0m\u001b[0;34m\u001b[0m\u001b[0;34m\u001b[0m\u001b[0m\n\u001b[0;32m----> 4\u001b[0;31m \u001b[0mdata_cicd\u001b[0m\u001b[0;34m[\u001b[0m\u001b[0;34m\"Agent Corrected Integer standarized_2\"\u001b[0m\u001b[0;34m]\u001b[0m \u001b[0;34m=\u001b[0m \u001b[0mdata_cicd\u001b[0m\u001b[0;34m[\u001b[0m\u001b[0;34m\"Agent Corrected CAT Name\"\u001b[0m\u001b[0;34m]\u001b[0m\u001b[0;34m.\u001b[0m\u001b[0mapply\u001b[0m\u001b[0;34m(\u001b[0m\u001b[0;32mlambda\u001b[0m \u001b[0mx\u001b[0m\u001b[0;34m:\u001b[0m\u001b[0mint_dict_1\u001b[0m\u001b[0;34m[\u001b[0m\u001b[0mx\u001b[0m\u001b[0;34m]\u001b[0m\u001b[0;34m)\u001b[0m\u001b[0;34m\u001b[0m\u001b[0;34m\u001b[0m\u001b[0m\n\u001b[0m",
      "\u001b[0;31mKeyError\u001b[0m: 'CAT_WATER,TRAIT_NONCARB,TRAIT_FLV_SWT,CONTAINER_BOTTLED,TEMP_COLD'"
     ]
    }
   ],
   "source": [
    "#mapping_data_1=pd.read_csv('../data/MASTER_Tax_Category_Mapping_latest1.csv')\n",
    "#int_dict_1 = dict(zip(mapping_data_1['Agent CAT Name'], mapping_data_1['Updated Integer']))\n",
    "#data_cicd[\"Agent Corrected Integer standarized\"] = data_cicd[\"Agent Corrected CAT Name standarized\"].map(int_dict)\n",
    "#data_cicd[\"Agent Corrected Integer standarized_2\"] = data_cicd[\"Agent Corrected CAT Name\"].apply(lambda x:int_dict_1[x])"
   ]
  },
  {
   "cell_type": "code",
   "execution_count": 28,
   "id": "19a3590d",
   "metadata": {},
   "outputs": [
    {
     "name": "stdout",
     "output_type": "stream",
     "text": [
      "<class 'pandas.core.frame.DataFrame'>\n",
      "Int64Index: 539198 entries, 0 to 539846\n",
      "Data columns (total 17 columns):\n",
      " #   Column                                Non-Null Count   Dtype \n",
      "---  ------                                --------------   ----- \n",
      " 0   CICD Run Date                         539198 non-null  object\n",
      " 1   Date (BOT Sent Details to COE Team)   539198 non-null  object\n",
      " 2   UniqueUUID                            539198 non-null  object\n",
      " 3   store_uuid                            539198 non-null  object\n",
      " 4   item_uuid                             539198 non-null  object\n",
      " 5   Item                                  539196 non-null  object\n",
      " 6   Description                           316081 non-null  object\n",
      " 7   establishment_type                    539198 non-null  object\n",
      " 8   CAT Name                              539192 non-null  object\n",
      " 9   Integer                               539192 non-null  object\n",
      " 10  Confidence Score                      539192 non-null  object\n",
      " 11  Agent Corrected CAT Name              539198 non-null  object\n",
      " 12  Agent Corrected Integer               539198 non-null  object\n",
      " 13  CAT NAME_ ValidationScore [0-100]     539198 non-null  int64 \n",
      " 14  Integer_ValidationScore[0-100]        539198 non-null  int64 \n",
      " 15  Agent Corrected CAT Name standarized  539198 non-null  object\n",
      " 16  Agent Corrected Integer standarized   0 non-null       object\n",
      "dtypes: int64(2), object(15)\n",
      "memory usage: 74.0+ MB\n"
     ]
    }
   ],
   "source": [
    "data_cicd.info()"
   ]
  },
  {
   "cell_type": "code",
   "execution_count": 22,
   "id": "fc30e4b1",
   "metadata": {},
   "outputs": [
    {
     "data": {
      "text/plain": [
       "(539198, 16)"
      ]
     },
     "execution_count": 22,
     "metadata": {},
     "output_type": "execute_result"
    }
   ],
   "source": [
    "data_cicd.shape"
   ]
  },
  {
   "cell_type": "code",
   "execution_count": 23,
   "id": "3a15ce01",
   "metadata": {},
   "outputs": [],
   "source": [
    "data_cicd.to_csv('data_cicd_cat_mapping.csv')"
   ]
  },
  {
   "cell_type": "code",
   "execution_count": null,
   "id": "118b2ad0",
   "metadata": {},
   "outputs": [],
   "source": []
  },
  {
   "cell_type": "code",
   "execution_count": null,
   "id": "be9a988e",
   "metadata": {},
   "outputs": [],
   "source": []
  },
  {
   "cell_type": "code",
   "execution_count": null,
   "id": "13b2aaae",
   "metadata": {},
   "outputs": [],
   "source": []
  },
  {
   "cell_type": "code",
   "execution_count": null,
   "id": "7370b25c",
   "metadata": {},
   "outputs": [],
   "source": []
  },
  {
   "cell_type": "code",
   "execution_count": null,
   "id": "6a403d50",
   "metadata": {},
   "outputs": [],
   "source": []
  },
  {
   "cell_type": "code",
   "execution_count": 8,
   "id": "e9dc93c8",
   "metadata": {},
   "outputs": [
    {
     "name": "stdout",
     "output_type": "stream",
     "text": [
      "(613792, 9)\n"
     ]
    },
    {
     "name": "stderr",
     "output_type": "stream",
     "text": [
      "/Users/jghosh2/opt/anaconda3/envs/py365/lib/python3.7/site-packages/ipykernel_launcher.py:7: SettingWithCopyWarning: \n",
      "A value is trying to be set on a copy of a slice from a DataFrame.\n",
      "Try using .loc[row_indexer,col_indexer] = value instead\n",
      "\n",
      "See the caveats in the documentation: https://pandas.pydata.org/pandas-docs/stable/user_guide/indexing.html#returning-a-view-versus-a-copy\n",
      "  import sys\n",
      "/Users/jghosh2/opt/anaconda3/envs/py365/lib/python3.7/site-packages/pandas/core/frame.py:4913: SettingWithCopyWarning: \n",
      "A value is trying to be set on a copy of a slice from a DataFrame\n",
      "\n",
      "See the caveats in the documentation: https://pandas.pydata.org/pandas-docs/stable/user_guide/indexing.html#returning-a-view-versus-a-copy\n",
      "  errors=errors,\n"
     ]
    }
   ],
   "source": [
    "#read input from cicd data into dataframe\n",
    "#data_cicd=pd.read_csv('../data/retrain_data/TaxML-CICD - Prod_Data (3).csv', usecols = ['UniqueUUID','Item','Description','establishment_type','Confidence Score','Agent Corrected CAT Name', 'Agent Corrected Integer','CAT NAME_ ValidationScore [0-100]','Integer_ValidationScore[0-100]'])\n",
    "print(data_cicd.shape)\n",
    "#misclassified data                                        \n",
    "data_cicd_misclassification=data_cicd[(data_cicd['CAT NAME_ ValidationScore [0-100]']==0) &(data_cicd['Integer_ValidationScore[0-100]']==0)]\n",
    "data_cicd_latest=data_cicd_misclassification[['UniqueUUID','Item','Description','establishment_type','Agent Corrected CAT Name', 'Agent Corrected Integer']]\n",
    "data_cicd_latest['target_new']=data_cicd_latest['Agent Corrected CAT Name'] + \":\" + data_cicd_latest['Agent Corrected Integer']\n",
    "data_cicd_latest.drop(['Agent Corrected CAT Name', 'Agent Corrected Integer'],inplace=True,axis=1)\n",
    "#mergedStuff = pd.concat([data_df, data_cicd_latest], join=\"outer\")\n",
    "# combine the columns Item, Description and establishment_type into one column 'combined_text'\n",
    "#data_cicd_final['combined_text'] = data_cicd_final[['Item','Description','establishment_type']].apply(lambda x: ' '.join(x[x.notnull()]), axis = 1)\n",
    "# apply data preprocessing steps on the prepared column\n",
    "#data_cicd_final['processed_text']= data_cicd_final['combined_text'].map(lambda s:preprocess_text(s)) \n",
    "\n",
    "#data_cicd_final = data_cicd_final.reset_index(drop=True)\n",
    "# prepare the target column by combining 'Agent Corrected CAT Name' and 'Agent Corrected Integer'\n",
    "\n",
    "#data_cicd_final=data_cicd_final.drop_duplicates(subset=['processed_text','target_new'],keep='first')\n",
    "#print(data_cicd_final.shape)\n",
    "\n",
    "#remove rows having empty target column\n",
    "#data_cicd_final.dropna(subset=['target_new'],inplace=True)\n",
    "\n",
    "#data_cicd_final = data_cicd_final[data_cicd_final['target_new']!= '#REF!:#REF!']\n",
    "#data_cicd_final.to_csv('data_cicd_final.csv')\n",
    "#X_cicd= data_cicd_final[['Item','Description','establishment_type','processed_text']]\n",
    "#y_cicd= data_cicd_final['target_new']\n",
    "\n",
    "# split the cicd data into train and test \n",
    "#X_train_cicd, X_test_cicd, y_train_cicd, y_test_cicd = train_test_split(X_cicd, y_cicd,shuffle=True, test_size = .02, random_state = 42)\n",
    "\n"
   ]
  },
  {
   "cell_type": "code",
   "execution_count": 9,
   "id": "967ce9e8",
   "metadata": {},
   "outputs": [],
   "source": [
    "#read input from historical data into dataframe\n",
    "data_df = pd.read_csv('/Users/jghosh2/Documents/my-notebook/Tax_ml_poc/data/historical_data_24_11_22.csv', encoding='utf8',engine='python',usecols=['UniqueUUID','Item','Description','establishment_type','target_new'])"
   ]
  },
  {
   "cell_type": "code",
   "execution_count": 10,
   "id": "0739b7ce",
   "metadata": {},
   "outputs": [],
   "source": [
    "#mergedStuff_cicd= data_df.set_index('UniqueUUID').join(data_cicd_latest.set_index('UniqueUUID'))\n",
    "final_data=pd.concat([data_df, data_cicd_latest], join=\"outer\")"
   ]
  },
  {
   "cell_type": "code",
   "execution_count": 11,
   "id": "af554b2a",
   "metadata": {},
   "outputs": [
    {
     "name": "stdout",
     "output_type": "stream",
     "text": [
      "(411330, 7)\n"
     ]
    }
   ],
   "source": [
    "# combine the columns Item, Description and establishment_type into one column 'combined_text'\n",
    "final_data['combined_text'] = final_data[['Item','Description','establishment_type']].apply(lambda x: ' '.join(x[x.notnull()]), axis = 1)\n",
    "# apply data preprocessing steps on the prepared column\n",
    "final_data['processed_text']= final_data['combined_text'].map(lambda s:preprocess_text(s)) \n",
    "print(final_data.shape)"
   ]
  },
  {
   "cell_type": "code",
   "execution_count": 12,
   "id": "3f44a886",
   "metadata": {},
   "outputs": [
    {
     "data": {
      "text/html": [
       "<div>\n",
       "<style scoped>\n",
       "    .dataframe tbody tr th:only-of-type {\n",
       "        vertical-align: middle;\n",
       "    }\n",
       "\n",
       "    .dataframe tbody tr th {\n",
       "        vertical-align: top;\n",
       "    }\n",
       "\n",
       "    .dataframe thead th {\n",
       "        text-align: right;\n",
       "    }\n",
       "</style>\n",
       "<table border=\"1\" class=\"dataframe\">\n",
       "  <thead>\n",
       "    <tr style=\"text-align: right;\">\n",
       "      <th></th>\n",
       "      <th>UniqueUUID</th>\n",
       "      <th>Item</th>\n",
       "      <th>Description</th>\n",
       "      <th>establishment_type</th>\n",
       "      <th>target_new</th>\n",
       "      <th>combined_text</th>\n",
       "      <th>processed_text</th>\n",
       "    </tr>\n",
       "  </thead>\n",
       "  <tbody>\n",
       "    <tr>\n",
       "      <th>0</th>\n",
       "      <td>\\n</td>\n",
       "      <td>Captain Morgan White Rum.1.75L Bottle</td>\n",
       "      <td>NaN</td>\n",
       "      <td>GROCERY</td>\n",
       "      <td>CAT_LIQUOR:535</td>\n",
       "      <td>Captain Morgan White Rum.1.75L Bottle GRO...</td>\n",
       "      <td>captain morgan white rum bottle grocery</td>\n",
       "    </tr>\n",
       "    <tr>\n",
       "      <th>1</th>\n",
       "      <td>\\n</td>\n",
       "      <td>D’USSÉ® VSOP Cognac.375ml Bottle</td>\n",
       "      <td>NaN</td>\n",
       "      <td>GROCERY</td>\n",
       "      <td>CAT_LIQUOR:535</td>\n",
       "      <td>D’USSÉ® VSOP Cognac.375ml Bottle GROCERY</td>\n",
       "      <td>us vsop cognac ml bottle grocery</td>\n",
       "    </tr>\n",
       "    <tr>\n",
       "      <th>2</th>\n",
       "      <td>\\n</td>\n",
       "      <td>Jim Beam Honey Bourbon Whiskey.750ml Bottle</td>\n",
       "      <td>NaN</td>\n",
       "      <td>GROCERY</td>\n",
       "      <td>CAT_LIQUOR:535</td>\n",
       "      <td>Jim Beam Honey Bourbon Whiskey.750ml Bott...</td>\n",
       "      <td>jim beam honey bourbon whiskey ml bottle grocery</td>\n",
       "    </tr>\n",
       "    <tr>\n",
       "      <th>3</th>\n",
       "      <td>\\n</td>\n",
       "      <td>Ardbeg Scotch Uigeadail. 750ml Bottle</td>\n",
       "      <td>NaN</td>\n",
       "      <td>GROCERY</td>\n",
       "      <td>CAT_LIQUOR:535</td>\n",
       "      <td>Ardbeg Scotch Uigeadail. 750ml Bottle GROCERY</td>\n",
       "      <td>ardbeg scotch uigeadail ml bottle grocery</td>\n",
       "    </tr>\n",
       "    <tr>\n",
       "      <th>4</th>\n",
       "      <td>\\n</td>\n",
       "      <td>Jameson Irish Whiskey.1.75L Bottle Size</td>\n",
       "      <td>NaN</td>\n",
       "      <td>GROCERY</td>\n",
       "      <td>CAT_LIQUOR:535</td>\n",
       "      <td>Jameson Irish Whiskey.1.75L Bottle Size GR...</td>\n",
       "      <td>jameson irish whiskey bottle size grocery</td>\n",
       "    </tr>\n",
       "  </tbody>\n",
       "</table>\n",
       "</div>"
      ],
      "text/plain": [
       "  UniqueUUID                                              Item Description  \\\n",
       "0         \\n             Captain Morgan White Rum.1.75L Bottle         NaN   \n",
       "1         \\n                  D’USSÉ® VSOP Cognac.375ml Bottle         NaN   \n",
       "2         \\n       Jim Beam Honey Bourbon Whiskey.750ml Bottle         NaN   \n",
       "3         \\n             Ardbeg Scotch Uigeadail. 750ml Bottle         NaN   \n",
       "4         \\n           Jameson Irish Whiskey.1.75L Bottle Size         NaN   \n",
       "\n",
       "  establishment_type      target_new  \\\n",
       "0            GROCERY  CAT_LIQUOR:535   \n",
       "1            GROCERY  CAT_LIQUOR:535   \n",
       "2            GROCERY  CAT_LIQUOR:535   \n",
       "3            GROCERY  CAT_LIQUOR:535   \n",
       "4            GROCERY  CAT_LIQUOR:535   \n",
       "\n",
       "                                       combined_text  \\\n",
       "0       Captain Morgan White Rum.1.75L Bottle GRO...   \n",
       "1           D’USSÉ® VSOP Cognac.375ml Bottle GROCERY   \n",
       "2       Jim Beam Honey Bourbon Whiskey.750ml Bott...   \n",
       "3      Ardbeg Scotch Uigeadail. 750ml Bottle GROCERY   \n",
       "4      Jameson Irish Whiskey.1.75L Bottle Size GR...   \n",
       "\n",
       "                                     processed_text  \n",
       "0           captain morgan white rum bottle grocery  \n",
       "1                  us vsop cognac ml bottle grocery  \n",
       "2  jim beam honey bourbon whiskey ml bottle grocery  \n",
       "3         ardbeg scotch uigeadail ml bottle grocery  \n",
       "4         jameson irish whiskey bottle size grocery  "
      ]
     },
     "execution_count": 12,
     "metadata": {},
     "output_type": "execute_result"
    }
   ],
   "source": [
    "final_data.head()"
   ]
  },
  {
   "cell_type": "code",
   "execution_count": 13,
   "id": "d0002a42",
   "metadata": {},
   "outputs": [
    {
     "name": "stdout",
     "output_type": "stream",
     "text": [
      "(343033, 7)\n"
     ]
    }
   ],
   "source": [
    "\n",
    "final_data=final_data.drop_duplicates(subset=['processed_text','target_new'],keep='first')\n",
    "print(final_data.shape)\n",
    "#remove rows having empty target column\n",
    "final_data.dropna(subset=['target_new'],inplace=True)\n",
    "\n",
    "X= final_data[['Item','Description','establishment_type','processed_text']]\n",
    "y= final_data['target_new']\n",
    "\n",
    "# split the cicd data into train and test \n",
    "X_train, X_test, y_train, y_test = train_test_split(X, y,shuffle=True, test_size = .20, random_state = 42)\n"
   ]
  },
  {
   "cell_type": "markdown",
   "id": "333a27ed",
   "metadata": {},
   "source": [
    "We will append the CICD data to the historical data to create the final train and test data.\n",
    "Train set has 80% of all historical data and 90% of all cicd data.\n",
    "Test set consists of 20% of historic data and 10% of all cicd data."
   ]
  },
  {
   "cell_type": "code",
   "execution_count": 14,
   "id": "dceeea0e",
   "metadata": {},
   "outputs": [],
   "source": [
    "#X_train_final = X_train.append(X_train_cicd)\n",
    "#X_test_final = X_test.append(X_test_cicd)\n",
    "#y_train_final = y_train.append(y_train_cicd)\n",
    "#y_test_final = y_test.append(y_test_cicd)\n",
    "\n",
    "X_train_final = X_train\n",
    "X_test_final = X_test\n",
    "y_train_final = y_train\n",
    "y_test_final = y_test"
   ]
  },
  {
   "cell_type": "markdown",
   "id": "6123f453",
   "metadata": {},
   "source": [
    "<a id='Model Training'></a>"
   ]
  },
  {
   "cell_type": "code",
   "execution_count": 15,
   "id": "dd540e03",
   "metadata": {},
   "outputs": [
    {
     "name": "stdout",
     "output_type": "stream",
     "text": [
      "Training data size: 274426\n",
      "Test data size: 68607\n"
     ]
    }
   ],
   "source": [
    "print('Training data size: {}'.format(len(X_train_final)))\n",
    "print('Test data size: {}'.format(len(X_test_final)))"
   ]
  },
  {
   "cell_type": "code",
   "execution_count": 16,
   "id": "e2e6c833",
   "metadata": {},
   "outputs": [
    {
     "name": "stdout",
     "output_type": "stream",
     "text": [
      "Number of unique labels in train data: 326\n",
      "Number of unique labels in test data: 285\n"
     ]
    }
   ],
   "source": [
    "print('Number of unique labels in train data: {}'.format(len(y_train_final.unique().tolist())))\n",
    "print('Number of unique labels in test data: {}'.format(len(y_test_final.unique().tolist())))"
   ]
  },
  {
   "cell_type": "code",
   "execution_count": 17,
   "id": "0f664ac5",
   "metadata": {},
   "outputs": [
    {
     "data": {
      "text/html": [
       "<div>\n",
       "<style scoped>\n",
       "    .dataframe tbody tr th:only-of-type {\n",
       "        vertical-align: middle;\n",
       "    }\n",
       "\n",
       "    .dataframe tbody tr th {\n",
       "        vertical-align: top;\n",
       "    }\n",
       "\n",
       "    .dataframe thead th {\n",
       "        text-align: right;\n",
       "    }\n",
       "</style>\n",
       "<table border=\"1\" class=\"dataframe\">\n",
       "  <thead>\n",
       "    <tr style=\"text-align: right;\">\n",
       "      <th></th>\n",
       "      <th>count</th>\n",
       "    </tr>\n",
       "    <tr>\n",
       "      <th>target_new</th>\n",
       "      <th></th>\n",
       "    </tr>\n",
       "  </thead>\n",
       "  <tbody>\n",
       "    <tr>\n",
       "      <th>CAT_LIQUOR:535</th>\n",
       "      <td>51798</td>\n",
       "    </tr>\n",
       "    <tr>\n",
       "      <th>CAT_TPP:531</th>\n",
       "      <td>35117</td>\n",
       "    </tr>\n",
       "    <tr>\n",
       "      <th>CAT_PREPARED_FOOD,TEMP_HEATED:101,1</th>\n",
       "      <td>33507</td>\n",
       "    </tr>\n",
       "    <tr>\n",
       "      <th>CAT_WINE:534</th>\n",
       "      <td>24877</td>\n",
       "    </tr>\n",
       "    <tr>\n",
       "      <th>CAT_BEER:533</th>\n",
       "      <td>23818</td>\n",
       "    </tr>\n",
       "    <tr>\n",
       "      <th>...</th>\n",
       "      <td>...</td>\n",
       "    </tr>\n",
       "    <tr>\n",
       "      <th>CAT_PREPACKAGED_FOOD_SALT_PRESERVED_SEA_FOOD:739</th>\n",
       "      <td>4</td>\n",
       "    </tr>\n",
       "    <tr>\n",
       "      <th>CAT_POSTAGE:527</th>\n",
       "      <td>2</td>\n",
       "    </tr>\n",
       "    <tr>\n",
       "      <th>CAT_PRESCRIPTION_DRUGS:520</th>\n",
       "      <td>2</td>\n",
       "    </tr>\n",
       "    <tr>\n",
       "      <th>CAT_NEWSPAPERS:538</th>\n",
       "      <td>1</td>\n",
       "    </tr>\n",
       "    <tr>\n",
       "      <th>CAT_OIL:778</th>\n",
       "      <td>1</td>\n",
       "    </tr>\n",
       "  </tbody>\n",
       "</table>\n",
       "<p>204 rows × 1 columns</p>\n",
       "</div>"
      ],
      "text/plain": [
       "                                                  count\n",
       "target_new                                             \n",
       "CAT_LIQUOR:535                                    51798\n",
       "CAT_TPP:531                                       35117\n",
       "CAT_PREPARED_FOOD,TEMP_HEATED:101,1               33507\n",
       "CAT_WINE:534                                      24877\n",
       "CAT_BEER:533                                      23818\n",
       "...                                                 ...\n",
       "CAT_PREPACKAGED_FOOD_SALT_PRESERVED_SEA_FOOD:739      4\n",
       "CAT_POSTAGE:527                                       2\n",
       "CAT_PRESCRIPTION_DRUGS:520                            2\n",
       "CAT_NEWSPAPERS:538                                    1\n",
       "CAT_OIL:778                                           1\n",
       "\n",
       "[204 rows x 1 columns]"
      ]
     },
     "execution_count": 17,
     "metadata": {},
     "output_type": "execute_result"
    }
   ],
   "source": [
    "category_count = data_df.groupby(['target_new'],sort=False).agg({'target_new':'count'})\n",
    "category_count.rename(columns={'target_new':'count'},inplace=True)\n",
    "category_count.sort_values('count',ascending=False)"
   ]
  },
  {
   "cell_type": "code",
   "execution_count": 18,
   "id": "edc1a130",
   "metadata": {},
   "outputs": [],
   "source": [
    "category_count.to_csv('category_count.csv')"
   ]
  },
  {
   "cell_type": "markdown",
   "id": "77f6d97a",
   "metadata": {},
   "source": [
    "# Model Training"
   ]
  },
  {
   "cell_type": "markdown",
   "id": "b75af4ab",
   "metadata": {},
   "source": [
    "The Model Pipeline consists of 1. CountVectorizer, 2. Tfidf-Transformer 3. MultinomialNB "
   ]
  },
  {
   "cell_type": "code",
   "execution_count": 19,
   "id": "d8a6991e",
   "metadata": {},
   "outputs": [
    {
     "data": {
      "text/plain": [
       "83886"
      ]
     },
     "execution_count": 19,
     "metadata": {},
     "output_type": "execute_result"
    }
   ],
   "source": [
    "vectorizer = CountVectorizer(strip_accents='ascii',token_pattern=u'(?ui)\\\\b\\\\w*[a-z]+\\\\w*\\\\b', stop_words='english', max_df=0.85)\n",
    "X = vectorizer.fit_transform(X_train_final['processed_text'].values)\n",
    "features = vectorizer.get_feature_names()\n",
    "len(features)"
   ]
  },
  {
   "cell_type": "code",
   "execution_count": 20,
   "id": "69bdc710",
   "metadata": {},
   "outputs": [],
   "source": [
    "# create a result dataframe to store final results\n",
    "result=X_test_final\n",
    "\n",
    "#create the model pipeline\n",
    "rf = Pipeline([('vect', CountVectorizer(strip_accents='ascii',max_df=0.85)),\n",
    "            ('tfidf', TfidfTransformer()),\n",
    "            ('mnb', MultinomialNB(alpha= 0.05,fit_prior= False))])\n",
    "            #('clf', RandomForestClassifier())])"
   ]
  },
  {
   "cell_type": "code",
   "execution_count": 21,
   "id": "f66314de",
   "metadata": {},
   "outputs": [
    {
     "name": "stderr",
     "output_type": "stream",
     "text": [
      "/Users/jghosh2/opt/anaconda3/envs/py365/lib/python3.7/site-packages/sklearn/utils/validation.py:179: DeprecationWarning: distutils Version classes are deprecated. Use packaging.version instead.\n",
      "  if LooseVersion(joblib_version) < '0.12':\n"
     ]
    },
    {
     "data": {
      "text/plain": [
       "Pipeline(memory=None,\n",
       "         steps=[('vect',\n",
       "                 CountVectorizer(analyzer='word', binary=False,\n",
       "                                 decode_error='strict',\n",
       "                                 dtype=<class 'numpy.int64'>, encoding='utf-8',\n",
       "                                 input='content', lowercase=True, max_df=0.85,\n",
       "                                 max_features=None, min_df=1,\n",
       "                                 ngram_range=(1, 1), preprocessor=None,\n",
       "                                 stop_words=None, strip_accents='ascii',\n",
       "                                 token_pattern='(?u)\\\\b\\\\w\\\\w+\\\\b',\n",
       "                                 tokenizer=None, vocabulary=None)),\n",
       "                ('tfidf',\n",
       "                 TfidfTransformer(norm='l2', smooth_idf=True,\n",
       "                                  sublinear_tf=False, use_idf=True)),\n",
       "                ('mnb',\n",
       "                 MultinomialNB(alpha=0.05, class_prior=None, fit_prior=False))],\n",
       "         verbose=False)"
      ]
     },
     "execution_count": 21,
     "metadata": {},
     "output_type": "execute_result"
    }
   ],
   "source": [
    "# perform model training\n",
    "rf.fit(X_train_final['processed_text'].values, y_train_final.values)"
   ]
  },
  {
   "cell_type": "code",
   "execution_count": 22,
   "id": "f8d3ab8e",
   "metadata": {},
   "outputs": [
    {
     "name": "stderr",
     "output_type": "stream",
     "text": [
      "/Users/jghosh2/opt/anaconda3/envs/py365/lib/python3.7/site-packages/sklearn/metrics/classification.py:1437: UndefinedMetricWarning: Precision is ill-defined and being set to 0.0 in labels with no predicted samples.\n",
      "  'precision', 'predicted', average, warn_for)\n",
      "/Users/jghosh2/opt/anaconda3/envs/py365/lib/python3.7/site-packages/sklearn/metrics/classification.py:1439: UndefinedMetricWarning: Recall is ill-defined and being set to 0.0 in labels with no true samples.\n",
      "  'recall', 'true', average, warn_for)\n",
      "/Users/jghosh2/opt/anaconda3/envs/py365/lib/python3.7/site-packages/sklearn/metrics/classification.py:1437: UndefinedMetricWarning: F-score is ill-defined and being set to 0.0 in labels with no predicted samples.\n",
      "  'precision', 'predicted', average, warn_for)\n",
      "/Users/jghosh2/opt/anaconda3/envs/py365/lib/python3.7/site-packages/sklearn/metrics/classification.py:1439: UndefinedMetricWarning: F-score is ill-defined and being set to 0.0 in labels with no true samples.\n",
      "  'recall', 'true', average, warn_for)\n"
     ]
    }
   ],
   "source": [
    "# model prediction\n",
    "result=X_test_final\n",
    "y_pred = rf.predict(X_test_final['processed_text'].values)\n",
    "\n",
    "result['original_cat']= y_test_final.values\n",
    "result['predicted_cat'] = y_pred\n",
    "result['prediction_cat_confscore'] = np.round_(np.max(rf.predict_proba(X_test_final['processed_text']), axis=1), decimals=2)\n",
    "\n",
    "#\n",
    "output = {'accuracy': accuracy_score(y_pred,y_test_final),'precision_score':precision_score(y_pred,y_test_final,average='weighted'),'recall_score':recall_score(y_pred,y_test_final,average='weighted')\n",
    ",'f1_score':f1_score(y_pred,y_test_final,average='weighted')}\n",
    "\n",
    "result['confusion_matrix'] = str(output)"
   ]
  },
  {
   "cell_type": "code",
   "execution_count": 23,
   "id": "7e34bb09",
   "metadata": {},
   "outputs": [
    {
     "data": {
      "text/plain": [
       "array([\"{'accuracy': 0.7195767195767195, 'precision_score': 0.7483143392711649, 'recall_score': 0.7195767195767195, 'f1_score': 0.7250990520577054}\"],\n",
       "      dtype=object)"
      ]
     },
     "execution_count": 23,
     "metadata": {},
     "output_type": "execute_result"
    }
   ],
   "source": [
    "result['confusion_matrix'] [5:6].values"
   ]
  },
  {
   "cell_type": "code",
   "execution_count": 24,
   "id": "bc5d1cc2",
   "metadata": {},
   "outputs": [
    {
     "data": {
      "text/html": [
       "<div>\n",
       "<style scoped>\n",
       "    .dataframe tbody tr th:only-of-type {\n",
       "        vertical-align: middle;\n",
       "    }\n",
       "\n",
       "    .dataframe tbody tr th {\n",
       "        vertical-align: top;\n",
       "    }\n",
       "\n",
       "    .dataframe thead th {\n",
       "        text-align: right;\n",
       "    }\n",
       "</style>\n",
       "<table border=\"1\" class=\"dataframe\">\n",
       "  <thead>\n",
       "    <tr style=\"text-align: right;\">\n",
       "      <th></th>\n",
       "      <th>Item</th>\n",
       "      <th>Description</th>\n",
       "      <th>establishment_type</th>\n",
       "      <th>processed_text</th>\n",
       "      <th>original_cat</th>\n",
       "      <th>predicted_cat</th>\n",
       "      <th>prediction_cat_confscore</th>\n",
       "      <th>confusion_matrix</th>\n",
       "    </tr>\n",
       "  </thead>\n",
       "  <tbody>\n",
       "    <tr>\n",
       "      <th>174528</th>\n",
       "      <td>Soft Foam Earplugs</td>\n",
       "      <td>\\N</td>\n",
       "      <td>pharmacy</td>\n",
       "      <td>soft foam earplug pharmacy</td>\n",
       "      <td>CAT_TPP:531</td>\n",
       "      <td>CAT_TPP:531</td>\n",
       "      <td>0.33</td>\n",
       "      <td>{'accuracy': 0.7195767195767195, 'precision_sc...</td>\n",
       "    </tr>\n",
       "    <tr>\n",
       "      <th>287305</th>\n",
       "      <td>Perrier Lime Sparkling Water 750 ml</td>\n",
       "      <td>\\N</td>\n",
       "      <td>PHARMACY</td>\n",
       "      <td>perrier lime sparkling water ml pharmacy</td>\n",
       "      <td>CAT_WATER,TRAIT_CARB,TRAIT_UNFLV_UNSWT,CONTAIN...</td>\n",
       "      <td>CAT_WATER,TRAIT_CARB,TRAIT_FLV_SWT,CONTAINER_B...</td>\n",
       "      <td>0.68</td>\n",
       "      <td>{'accuracy': 0.7195767195767195, 'precision_sc...</td>\n",
       "    </tr>\n",
       "    <tr>\n",
       "      <th>205127</th>\n",
       "      <td>Chocolate Fudge Protein Bar</td>\n",
       "      <td>\\N</td>\n",
       "      <td>pharmacy</td>\n",
       "      <td>chocolate fudge protein bar pharmacy</td>\n",
       "      <td>CAT_PREPACKAGED_FOOD_SNACK_HEALTH_BARS:730</td>\n",
       "      <td>CAT_PREPACKAGED_FOOD_SNACK_HEALTH_BARS:730</td>\n",
       "      <td>0.61</td>\n",
       "      <td>{'accuracy': 0.7195767195767195, 'precision_sc...</td>\n",
       "    </tr>\n",
       "    <tr>\n",
       "      <th>106181</th>\n",
       "      <td>SMIRNOFF, 750 mL (40.0% ABV)</td>\n",
       "      <td>CLICK TO SEE MORE FLAVORS</td>\n",
       "      <td>GROCERY</td>\n",
       "      <td>smirnoff ml abv click see flavor grocery</td>\n",
       "      <td>CAT_LIQUOR:535</td>\n",
       "      <td>CAT_BEER:533</td>\n",
       "      <td>0.40</td>\n",
       "      <td>{'accuracy': 0.7195767195767195, 'precision_sc...</td>\n",
       "    </tr>\n",
       "    <tr>\n",
       "      <th>30062</th>\n",
       "      <td>CK Mondavi Sauvignon Blanc 1.5L Bottle</td>\n",
       "      <td>\\N</td>\n",
       "      <td>GROCERY</td>\n",
       "      <td>ck mondavi sauvignon blanc bottle grocery</td>\n",
       "      <td>CAT_WINE:534</td>\n",
       "      <td>CAT_WINE:534</td>\n",
       "      <td>0.98</td>\n",
       "      <td>{'accuracy': 0.7195767195767195, 'precision_sc...</td>\n",
       "    </tr>\n",
       "    <tr>\n",
       "      <th>...</th>\n",
       "      <td>...</td>\n",
       "      <td>...</td>\n",
       "      <td>...</td>\n",
       "      <td>...</td>\n",
       "      <td>...</td>\n",
       "      <td>...</td>\n",
       "      <td>...</td>\n",
       "      <td>...</td>\n",
       "    </tr>\n",
       "    <tr>\n",
       "      <th>315951</th>\n",
       "      <td>Glenfiddich 15 Year Old Solera Reserve Single ...</td>\n",
       "      <td>NaN</td>\n",
       "      <td>LIQUOR</td>\n",
       "      <td>glenfiddich year old solera reserve single mal...</td>\n",
       "      <td>CAT_LIQUOR:535</td>\n",
       "      <td>CAT_LIQUOR:535</td>\n",
       "      <td>1.00</td>\n",
       "      <td>{'accuracy': 0.7195767195767195, 'precision_sc...</td>\n",
       "    </tr>\n",
       "    <tr>\n",
       "      <th>64895</th>\n",
       "      <td>JOHNNIE WALKER RED LABEL SCOTCH WHISKY 375 ML</td>\n",
       "      <td>750 ml 40%\\nScotland- One of the world's best ...</td>\n",
       "      <td>GROCERY</td>\n",
       "      <td>johnnie walker red label scotch whisky ml ml n...</td>\n",
       "      <td>CAT_LIQUOR:535</td>\n",
       "      <td>CAT_LIQUOR:535</td>\n",
       "      <td>1.00</td>\n",
       "      <td>{'accuracy': 0.7195767195767195, 'precision_sc...</td>\n",
       "    </tr>\n",
       "    <tr>\n",
       "      <th>20215</th>\n",
       "      <td>BUDWEISER 6PC BOTTLES 12OZ</td>\n",
       "      <td>Known as “The King of Beers”, Budweiser was fi...</td>\n",
       "      <td>GROCERY</td>\n",
       "      <td>budweiser pc bottle oz known king beer budweis...</td>\n",
       "      <td>CAT_BEER:533</td>\n",
       "      <td>CAT_BEER:533</td>\n",
       "      <td>1.00</td>\n",
       "      <td>{'accuracy': 0.7195767195767195, 'precision_sc...</td>\n",
       "    </tr>\n",
       "    <tr>\n",
       "      <th>162822</th>\n",
       "      <td>CVS Health Vitamin A Softgels 8000IU (2400mcg)...</td>\n",
       "      <td>Vitamin A is an essential vitamin that support...</td>\n",
       "      <td>pharmacy</td>\n",
       "      <td>cv health vitamin softgels iu mcg ct vitamin e...</td>\n",
       "      <td>CAT_SUPPLEMENTS:542</td>\n",
       "      <td>CAT_SUPPLEMENTS:542</td>\n",
       "      <td>0.94</td>\n",
       "      <td>{'accuracy': 0.7195767195767195, 'precision_sc...</td>\n",
       "    </tr>\n",
       "    <tr>\n",
       "      <th>224932</th>\n",
       "      <td>99 Watermelons 45.5% ABV (50ml Mini Bottle)</td>\n",
       "      <td>Mini 50ml Bottles / Shots 99 Watermelons 45.5%...</td>\n",
       "      <td>LIQUOR</td>\n",
       "      <td>watermelon abv ml mini bottle mini ml bottle s...</td>\n",
       "      <td>CAT_LIQUOR:535</td>\n",
       "      <td>CAT_ALCOHOL,TEMP_COLD:109,3</td>\n",
       "      <td>0.35</td>\n",
       "      <td>{'accuracy': 0.7195767195767195, 'precision_sc...</td>\n",
       "    </tr>\n",
       "  </tbody>\n",
       "</table>\n",
       "<p>68607 rows × 8 columns</p>\n",
       "</div>"
      ],
      "text/plain": [
       "                                                     Item  \\\n",
       "174528                                 Soft Foam Earplugs   \n",
       "287305                Perrier Lime Sparkling Water 750 ml   \n",
       "205127                        Chocolate Fudge Protein Bar   \n",
       "106181                       SMIRNOFF, 750 mL (40.0% ABV)   \n",
       "30062              CK Mondavi Sauvignon Blanc 1.5L Bottle   \n",
       "...                                                   ...   \n",
       "315951  Glenfiddich 15 Year Old Solera Reserve Single ...   \n",
       "64895       JOHNNIE WALKER RED LABEL SCOTCH WHISKY 375 ML   \n",
       "20215                          BUDWEISER 6PC BOTTLES 12OZ   \n",
       "162822  CVS Health Vitamin A Softgels 8000IU (2400mcg)...   \n",
       "224932        99 Watermelons 45.5% ABV (50ml Mini Bottle)   \n",
       "\n",
       "                                              Description establishment_type  \\\n",
       "174528                                                 \\N           pharmacy   \n",
       "287305                                                 \\N           PHARMACY   \n",
       "205127                                                 \\N           pharmacy   \n",
       "106181                          CLICK TO SEE MORE FLAVORS            GROCERY   \n",
       "30062                                                  \\N            GROCERY   \n",
       "...                                                   ...                ...   \n",
       "315951                                                NaN             LIQUOR   \n",
       "64895   750 ml 40%\\nScotland- One of the world's best ...            GROCERY   \n",
       "20215   Known as “The King of Beers”, Budweiser was fi...            GROCERY   \n",
       "162822  Vitamin A is an essential vitamin that support...           pharmacy   \n",
       "224932  Mini 50ml Bottles / Shots 99 Watermelons 45.5%...             LIQUOR   \n",
       "\n",
       "                                           processed_text  \\\n",
       "174528                         soft foam earplug pharmacy   \n",
       "287305           perrier lime sparkling water ml pharmacy   \n",
       "205127               chocolate fudge protein bar pharmacy   \n",
       "106181           smirnoff ml abv click see flavor grocery   \n",
       "30062           ck mondavi sauvignon blanc bottle grocery   \n",
       "...                                                   ...   \n",
       "315951  glenfiddich year old solera reserve single mal...   \n",
       "64895   johnnie walker red label scotch whisky ml ml n...   \n",
       "20215   budweiser pc bottle oz known king beer budweis...   \n",
       "162822  cv health vitamin softgels iu mcg ct vitamin e...   \n",
       "224932  watermelon abv ml mini bottle mini ml bottle s...   \n",
       "\n",
       "                                             original_cat  \\\n",
       "174528                                        CAT_TPP:531   \n",
       "287305  CAT_WATER,TRAIT_CARB,TRAIT_UNFLV_UNSWT,CONTAIN...   \n",
       "205127         CAT_PREPACKAGED_FOOD_SNACK_HEALTH_BARS:730   \n",
       "106181                                     CAT_LIQUOR:535   \n",
       "30062                                        CAT_WINE:534   \n",
       "...                                                   ...   \n",
       "315951                                     CAT_LIQUOR:535   \n",
       "64895                                      CAT_LIQUOR:535   \n",
       "20215                                        CAT_BEER:533   \n",
       "162822                                CAT_SUPPLEMENTS:542   \n",
       "224932                                     CAT_LIQUOR:535   \n",
       "\n",
       "                                            predicted_cat  \\\n",
       "174528                                        CAT_TPP:531   \n",
       "287305  CAT_WATER,TRAIT_CARB,TRAIT_FLV_SWT,CONTAINER_B...   \n",
       "205127         CAT_PREPACKAGED_FOOD_SNACK_HEALTH_BARS:730   \n",
       "106181                                       CAT_BEER:533   \n",
       "30062                                        CAT_WINE:534   \n",
       "...                                                   ...   \n",
       "315951                                     CAT_LIQUOR:535   \n",
       "64895                                      CAT_LIQUOR:535   \n",
       "20215                                        CAT_BEER:533   \n",
       "162822                                CAT_SUPPLEMENTS:542   \n",
       "224932                        CAT_ALCOHOL,TEMP_COLD:109,3   \n",
       "\n",
       "        prediction_cat_confscore  \\\n",
       "174528                      0.33   \n",
       "287305                      0.68   \n",
       "205127                      0.61   \n",
       "106181                      0.40   \n",
       "30062                       0.98   \n",
       "...                          ...   \n",
       "315951                      1.00   \n",
       "64895                       1.00   \n",
       "20215                       1.00   \n",
       "162822                      0.94   \n",
       "224932                      0.35   \n",
       "\n",
       "                                         confusion_matrix  \n",
       "174528  {'accuracy': 0.7195767195767195, 'precision_sc...  \n",
       "287305  {'accuracy': 0.7195767195767195, 'precision_sc...  \n",
       "205127  {'accuracy': 0.7195767195767195, 'precision_sc...  \n",
       "106181  {'accuracy': 0.7195767195767195, 'precision_sc...  \n",
       "30062   {'accuracy': 0.7195767195767195, 'precision_sc...  \n",
       "...                                                   ...  \n",
       "315951  {'accuracy': 0.7195767195767195, 'precision_sc...  \n",
       "64895   {'accuracy': 0.7195767195767195, 'precision_sc...  \n",
       "20215   {'accuracy': 0.7195767195767195, 'precision_sc...  \n",
       "162822  {'accuracy': 0.7195767195767195, 'precision_sc...  \n",
       "224932  {'accuracy': 0.7195767195767195, 'precision_sc...  \n",
       "\n",
       "[68607 rows x 8 columns]"
      ]
     },
     "execution_count": 24,
     "metadata": {},
     "output_type": "execute_result"
    }
   ],
   "source": [
    "#array([\"{'accuracy': 0.7481380408209677, 'precision_score': 0.8104281909828657, 'recall_score': 0.7481380408209677, 'f1_score': 0.772676580987015}\"],\n",
    "      #dtype=object)\n",
    "result"
   ]
  },
  {
   "cell_type": "markdown",
   "id": "361f3209",
   "metadata": {},
   "source": [
    "# Hyperparameter tuning"
   ]
  },
  {
   "cell_type": "code",
   "execution_count": 25,
   "id": "d68dbf83",
   "metadata": {},
   "outputs": [
    {
     "name": "stderr",
     "output_type": "stream",
     "text": [
      "/Users/jghosh2/opt/anaconda3/envs/py365/lib/python3.7/site-packages/sklearn/model_selection/_split.py:1978: FutureWarning: The default value of cv will change from 3 to 5 in version 0.22. Specify it explicitly to silence this warning.\n",
      "  warnings.warn(CV_WARNING, FutureWarning)\n"
     ]
    },
    {
     "name": "stdout",
     "output_type": "stream",
     "text": [
      "Fitting 3 folds for each of 5 candidates, totalling 15 fits\n"
     ]
    },
    {
     "name": "stderr",
     "output_type": "stream",
     "text": [
      "/Users/jghosh2/opt/anaconda3/envs/py365/lib/python3.7/site-packages/sklearn/model_selection/_split.py:657: Warning: The least populated class in y has only 1 members, which is too few. The minimum number of members in any class cannot be less than n_splits=3.\n",
      "  % (min_groups, self.n_splits)), Warning)\n",
      "[Parallel(n_jobs=-1)]: Using backend LokyBackend with 8 concurrent workers.\n",
      "[Parallel(n_jobs=-1)]: Done  15 out of  15 | elapsed:   45.5s finished\n",
      "/Users/jghosh2/opt/anaconda3/envs/py365/lib/python3.7/site-packages/sklearn/utils/validation.py:179: DeprecationWarning: distutils Version classes are deprecated. Use packaging.version instead.\n",
      "  if LooseVersion(joblib_version) < '0.12':\n"
     ]
    },
    {
     "name": "stdout",
     "output_type": "stream",
     "text": [
      "Best Score:  0.7174939692303207\n",
      "Best Params:  {'mnb__alpha': 0.05}\n"
     ]
    }
   ],
   "source": [
    "import numpy as np\n",
    "from sklearn.model_selection import GridSearchCV\n",
    "grid_params = {\n",
    "  'mnb__alpha': [0.01,0.05,0.1,0.2,0.3],\n",
    "}\n",
    "clf = GridSearchCV(rf, grid_params,n_jobs=-1,verbose=1)\n",
    "clf.fit(X_train_final['processed_text'].values, y_train_final.values)\n",
    "print(\"Best Score: \", clf.best_score_)\n",
    "print(\"Best Params: \", clf.best_params_)"
   ]
  },
  {
   "cell_type": "code",
   "execution_count": null,
   "id": "033c7fd1",
   "metadata": {},
   "outputs": [],
   "source": [
    "import sklearn.metrics as metrics"
   ]
  },
  {
   "cell_type": "code",
   "execution_count": null,
   "id": "817d94ed",
   "metadata": {},
   "outputs": [],
   "source": [
    "classification_report = metrics.classification_report(y_test_final, y_pred, output_dict=True)"
   ]
  },
  {
   "cell_type": "code",
   "execution_count": null,
   "id": "ef4944c0",
   "metadata": {},
   "outputs": [],
   "source": [
    "display=pd.DataFrame(classification_report).transpose()"
   ]
  },
  {
   "cell_type": "code",
   "execution_count": null,
   "id": "011a9878",
   "metadata": {},
   "outputs": [],
   "source": [
    "display.to_csv('classification_report.csv')"
   ]
  },
  {
   "cell_type": "markdown",
   "id": "eeaa3c79",
   "metadata": {},
   "source": [
    "<a id='Model Saving'></a>"
   ]
  },
  {
   "cell_type": "markdown",
   "id": "f9dab90b",
   "metadata": {},
   "source": [
    "# Model Saving"
   ]
  },
  {
   "cell_type": "code",
   "execution_count": 43,
   "id": "54abd6ad",
   "metadata": {},
   "outputs": [],
   "source": [
    "import pickle\n",
    "import joblib\n",
    "import datetime\n",
    "# save the model to disk\n",
    "filename_primary= 'finalized_model.sav'\n",
    "pickle.dump(rf, open(filename_primary, 'wb'))"
   ]
  },
  {
   "cell_type": "code",
   "execution_count": 19,
   "id": "39fa7d90",
   "metadata": {},
   "outputs": [],
   "source": [
    "import joblib\n",
    "x=joblib.load('finalized_model.sav')"
   ]
  },
  {
   "cell_type": "code",
   "execution_count": 41,
   "id": "8f44b890",
   "metadata": {},
   "outputs": [
    {
     "name": "stderr",
     "output_type": "stream",
     "text": [
      "/Users/jghosh2/opt/anaconda3/envs/py365/lib/python3.7/site-packages/sklearn/metrics/classification.py:1437: UndefinedMetricWarning: Precision is ill-defined and being set to 0.0 in labels with no predicted samples.\n",
      "  'precision', 'predicted', average, warn_for)\n",
      "/Users/jghosh2/opt/anaconda3/envs/py365/lib/python3.7/site-packages/sklearn/metrics/classification.py:1439: UndefinedMetricWarning: Recall is ill-defined and being set to 0.0 in labels with no true samples.\n",
      "  'recall', 'true', average, warn_for)\n",
      "/Users/jghosh2/opt/anaconda3/envs/py365/lib/python3.7/site-packages/sklearn/metrics/classification.py:1437: UndefinedMetricWarning: F-score is ill-defined and being set to 0.0 in labels with no predicted samples.\n",
      "  'precision', 'predicted', average, warn_for)\n",
      "/Users/jghosh2/opt/anaconda3/envs/py365/lib/python3.7/site-packages/sklearn/metrics/classification.py:1439: UndefinedMetricWarning: F-score is ill-defined and being set to 0.0 in labels with no true samples.\n",
      "  'recall', 'true', average, warn_for)\n"
     ]
    }
   ],
   "source": [
    "y_pred = x.predict(X_test_final['processed_text'].values)\n",
    "result['original_cat']= y_test_final\n",
    "result['predicted_cat'] = y_pred\n",
    "result['prediction_cat_confscore'] = np.round_(np.max(rf.predict_proba(X_test_final['processed_text']), axis=1), decimals=2)\n",
    "output = {'accuracy': accuracy_score(y_pred,y_test_final),'precision_score':precision_score(y_pred,y_test_final,average='weighted'),'recall_score':recall_score(y_pred,y_test_final,average='weighted')\n",
    ",'f1_score':f1_score(y_pred,y_test_final,average='weighted')}\n",
    "result['confusion_matrix'] = str(output)"
   ]
  },
  {
   "cell_type": "code",
   "execution_count": 42,
   "id": "54f74d2b",
   "metadata": {},
   "outputs": [
    {
     "data": {
      "text/plain": [
       "array([\"{'accuracy': 0.7481086760732513, 'precision_score': 0.7701958157552038, 'recall_score': 0.7481086760732513, 'f1_score': 0.7520608125693393}\"],\n",
       "      dtype=object)"
      ]
     },
     "execution_count": 42,
     "metadata": {},
     "output_type": "execute_result"
    }
   ],
   "source": [
    "result['confusion_matrix'] [5:6].values"
   ]
  },
  {
   "cell_type": "markdown",
   "id": "c2f0273b",
   "metadata": {},
   "source": [
    "<a id='Validation and Results'></a>"
   ]
  },
  {
   "cell_type": "markdown",
   "id": "e0b4c028",
   "metadata": {},
   "source": [
    "# Validation and Results"
   ]
  },
  {
   "cell_type": "code",
   "execution_count": 22,
   "id": "c98d4f1f",
   "metadata": {},
   "outputs": [
    {
     "name": "stdout",
     "output_type": "stream",
     "text": [
      "Accuracy = 0.8061408567330584\n"
     ]
    }
   ],
   "source": [
    "#accuracy score of the model\n",
    "accuracy = x.score(X_train_final['processed_text'].values, y_train_final)\n",
    "print(\"Accuracy = {}\".format(accuracy))"
   ]
  },
  {
   "cell_type": "markdown",
   "id": "43c11bfb",
   "metadata": {},
   "source": [
    "# Regression test"
   ]
  },
  {
   "cell_type": "code",
   "execution_count": 23,
   "id": "bda72230",
   "metadata": {},
   "outputs": [
    {
     "name": "stdout",
     "output_type": "stream",
     "text": [
      "Accuracy = 0.34068683193086197\n"
     ]
    }
   ],
   "source": [
    "#accuracy score of the model of regression\n",
    "accuracy = x.score(X_train_cicd['processed_text'].values, y_train_cicd)\n",
    "print(\"Accuracy = {}\".format(accuracy))"
   ]
  },
  {
   "cell_type": "markdown",
   "id": "d84e978a",
   "metadata": {},
   "source": [
    "Saving the train and test data for reference "
   ]
  },
  {
   "cell_type": "code",
   "execution_count": 24,
   "id": "8d91cd27",
   "metadata": {},
   "outputs": [],
   "source": [
    "train_size = 0.8\n",
    "train_end = int(len(data_df)*train_size)\n",
    "df_train = data_df[:train_end]\n",
    "df_test = data_df[train_end:]\n",
    "train_size_cicd=0.02\n",
    "train_end_cicd = int(len(data_cicd_final)*train_size_cicd)\n",
    "df2_train = data_cicd_final[:train_end_cicd]\n",
    "df2_test = data_cicd_final[train_end_cicd:]\n",
    "df2_train = df2_train[['Item','Description','establishment_type','combined_text','processed_text','target_new']]\n",
    "df2_test = df2_test[['Item','Description','establishment_type','combined_text','processed_text','target_new']]\n",
    "X_train_save = df_train.append(df2_train)\n",
    "X_test_save = df_test.append(df2_test)\n",
    "X_train_save['label'] = 'train'\n",
    "X_test_save['label'] = 'test'\n",
    "X_data = X_train_save.append(X_test_save)\n",
    "X_data.to_csv('df_traintestdata.csv')"
   ]
  },
  {
   "cell_type": "code",
   "execution_count": 43,
   "id": "461a685b",
   "metadata": {},
   "outputs": [],
   "source": [
    "# check the misclassifications\n",
    "misclassifications= result.loc[result['original_cat']!=result['predicted_cat']]"
   ]
  },
  {
   "cell_type": "code",
   "execution_count": 44,
   "id": "9f7d7d7b",
   "metadata": {},
   "outputs": [
    {
     "data": {
      "text/plain": [
       "16781"
      ]
     },
     "execution_count": 44,
     "metadata": {},
     "output_type": "execute_result"
    }
   ],
   "source": [
    "len(misclassifications)"
   ]
  },
  {
   "cell_type": "code",
   "execution_count": 45,
   "id": "3581dc5f",
   "metadata": {},
   "outputs": [],
   "source": [
    "misclassifications.to_csv('misclassifications.csv')"
   ]
  },
  {
   "cell_type": "markdown",
   "id": "b11c21a4",
   "metadata": {},
   "source": [
    "# model tagging on new dataset"
   ]
  },
  {
   "cell_type": "code",
   "execution_count": 3,
   "id": "5c919063",
   "metadata": {},
   "outputs": [],
   "source": [
    "import joblib\n",
    "x=joblib.load('finalized_model.sav')"
   ]
  },
  {
   "cell_type": "code",
   "execution_count": 4,
   "id": "cf6e09d5",
   "metadata": {},
   "outputs": [
    {
     "name": "stdout",
     "output_type": "stream",
     "text": [
      "(98841, 9)\n"
     ]
    }
   ],
   "source": [
    "#read input from historical data into dataframe\n",
    "df_1= pd.read_csv('/Users/jghosh2/Documents/my-notebook/Tax_ml_poc/data/ml_tagged_data/before/2023-01-16 - Weekly 711 New Items.csv', encoding='utf8',engine='python')\n",
    "#choose sample data from entire data\n",
    "df_1 = df_1.sample(frac=1, random_state=42)\n",
    "#fill blanks with ''\n",
    "df_1 = df_1.fillna('')\n",
    "# combine the columns Item, Description and establishment_type into one column 'combined_text'\n",
    "df_1['combined_text'] = df_1[['item_name','description','establishment_type']].apply(lambda x: ' '.join(x[x.notnull()]), axis = 1)\n",
    "# apply data preprocessing steps on the prepared column\n",
    "df_1['processed_text'] = df_1['combined_text'].map(lambda s:preprocess_text(s)) \n",
    "print(df_1.shape)\n",
    "df_1 = df_1.reset_index(drop=True)\n",
    "y_pred = x.predict(df_1['processed_text'].values)\n",
    "df_1['target'] = y_pred\n",
    "df_1[['cat_name','cat_int']] = df_1['target'].str.split(':', expand=True)\n",
    "df_1.drop('target', inplace=True, axis=1)\n",
    "df_1['prediction_cat_confscore'] =np.round_(np.max(x.predict_proba(df_1['processed_text']), axis=1), decimals=2)\n",
    "df_1.to_csv('/Users/jghosh2/Documents/my-notebook/Tax_ml_poc/data/ml_tagged_data/after/2023-01-16 - Weekly 711 New Items_after_tagging.csv')"
   ]
  },
  {
   "cell_type": "code",
   "execution_count": 5,
   "id": "27d2b9cc",
   "metadata": {},
   "outputs": [
    {
     "name": "stdout",
     "output_type": "stream",
     "text": [
      "(132281, 9)\n",
      "(132281, 12)\n"
     ]
    }
   ],
   "source": [
    "#read input from historical data into dataframe\n",
    "df_2= pd.read_csv('/Users/jghosh2/Documents/my-notebook/Tax_ml_poc/data/ml_tagged_data/before/2023-01-16 - Weekly New GroCo Menu Items.csv', encoding='utf8',engine='python')\n",
    "#choose sample data from entire data\n",
    "df_2 = df_2.sample(frac=1, random_state=42)\n",
    "#fill blanks with ''\n",
    "df_2 = df_2.fillna('')\n",
    "# combine the columns Item, Description and establishment_type into one column 'combined_text'\n",
    "df_2['combined_text'] = df_2[['item_name','description','establishment_type']].apply(lambda x: ' '.join(x[x.notnull()]), axis = 1)\n",
    "# apply data preprocessing steps on the prepared column\n",
    "df_2['processed_text'] = df_2['combined_text'].map(lambda s:preprocess_text(s)) \n",
    "print(df_2.shape)\n",
    "df_2 = df_2.reset_index(drop=True)\n",
    "y_pred = x.predict(df_2['processed_text'].values)\n",
    "df_2['target'] = y_pred\n",
    "df_2[['cat_name','cat_int']] = df_2['target'].str.split(':', expand=True)\n",
    "df_2.drop('target', inplace=True, axis=1)\n",
    "df_2['prediction_cat_confscore'] =np.round_(np.max(x.predict_proba(df_2['processed_text']), axis=1), decimals=2)\n",
    "df_2.to_csv('/Users/jghosh2/Documents/my-notebook/Tax_ml_poc/data/ml_tagged_data/after/2023-01-16 - Weekly New GroCo Menu Items_after_tagging.csv')\n",
    "print(df_2.shape)"
   ]
  },
  {
   "cell_type": "code",
   "execution_count": 8,
   "id": "0b380a04",
   "metadata": {},
   "outputs": [
    {
     "name": "stdout",
     "output_type": "stream",
     "text": [
      "(2317, 10)\n",
      "(2317, 11)\n"
     ]
    }
   ],
   "source": [
    "#read input from historical data into dataframe\n",
    "df_3= pd.read_csv('/Users/jghosh2/Documents/my-notebook/Tax_ml_poc/data/ml_tagged_data/before/2022-12-13 - INDIRECTTX-1926 - Walgreens.csv', encoding='latin-1',engine='python')\n",
    "#choose sample data from entire data\n",
    "df_3 = df_3.sample(frac=1, random_state=42)\n",
    "#fill blanks with ''\n",
    "df_3 = df_3.fillna('')\n",
    "# combine the columns Item, Description and establishment_type into one column 'combined_text'\n",
    "df_3['combined_text'] = df_3[['item_name','description','establishment_type']].apply(lambda x: ' '.join(x[x.notnull()]), axis = 1)\n",
    "# apply data preprocessing steps on the prepared column\n",
    "df_3['processed_text'] = df_3['combined_text'].map(lambda s:preprocess_text(s)) \n",
    "print(df_3.shape)\n",
    "df_3 = df_3.reset_index(drop=True)\n",
    "y_pred = x.predict(df_3['processed_text'].values)\n",
    "df_3['target'] = y_pred\n",
    "df_3[['cat_name','cat_int']] = df_3['target'].str.split(':', expand=True)\n",
    "df_3.drop('target', inplace=True, axis=1)\n",
    "df_3['prediction_cat_confscore'] =np.round_(np.max(x.predict_proba(df_3['processed_text']), axis=1), decimals=2)\n",
    "df_3.drop('processed_text', inplace=True, axis=1)\n",
    "df_3.drop('combined_text', inplace=True, axis=1)\n",
    "df_3.to_csv('/Users/jghosh2/Documents/my-notebook/Tax_ml_poc/data/ml_tagged_data/after/2022-12-13 - INDIRECTTX-1926 - Walgreens_after_tagging.csv')\n",
    "print(df_3.shape)"
   ]
  },
  {
   "cell_type": "code",
   "execution_count": 3,
   "id": "0a2bcd5e",
   "metadata": {},
   "outputs": [],
   "source": [
    "#read input from historical data into dataframe\n",
    "df_3= pd.read_csv('/Users/jghosh2/Documents/my-notebook/Tax_ml_poc/data/bf.csv', encoding='latin-1',engine='python')\n",
    "#choose sample data from entire data\n",
    "df_3 = df_3.sample(frac=1, random_state=42)\n",
    "#fill blanks with ''\n",
    "df_3 = df_3.fillna('')\n",
    "# combine the columns Item, Description and establishment_type into one column 'combined_text'\n",
    "df_3['combined_text'] = df_3[['Item','Description','establishment_type']].apply(lambda x: ' '.join(x[x.notnull()]), axis = 1)\n",
    "# apply data preprocessing steps on the prepared column\n",
    "df_3['processed_text'] = df_3['combined_text'].map(lambda s:preprocess_text(s)) \n"
   ]
  },
  {
   "cell_type": "code",
   "execution_count": 5,
   "id": "97455808",
   "metadata": {},
   "outputs": [
    {
     "name": "stdout",
     "output_type": "stream",
     "text": [
      "<class 'pandas.core.frame.DataFrame'>\n",
      "Int64Index: 2415 entries, 410 to 860\n",
      "Data columns (total 21 columns):\n",
      " #   Column                               Non-Null Count  Dtype \n",
      "---  ------                               --------------  ----- \n",
      " 0   Unnamed: 0                           2415 non-null   int64 \n",
      " 1   CICD Run Date                        2415 non-null   object\n",
      " 2   Date (BOT Sent Details to COE Team)  2415 non-null   object\n",
      " 3   UniqueUUID                           2415 non-null   object\n",
      " 4   store_uuid                           2415 non-null   object\n",
      " 5   item_uuid                            2415 non-null   object\n",
      " 6   Item                                 2415 non-null   object\n",
      " 7   Description                          2415 non-null   object\n",
      " 8   establishment_type                   2415 non-null   object\n",
      " 9   ML CAT Name                          2415 non-null   object\n",
      " 10  ML Integer                           2415 non-null   object\n",
      " 11  ML Confidence Score                  2415 non-null   object\n",
      " 12  Agent CAT Name                       2415 non-null   object\n",
      " 13  Agent Integer                        2415 non-null   object\n",
      " 14  Accuracy                             2415 non-null   bool  \n",
      " 15  New ML Prediction                    2415 non-null   object\n",
      " 16  New ML Integer                       2415 non-null   object\n",
      " 17  New Accuracy                         2415 non-null   object\n",
      " 18  Module                               2415 non-null   object\n",
      " 19  combined_text                        2415 non-null   object\n",
      " 20  processed_text                       2415 non-null   object\n",
      "dtypes: bool(1), int64(1), object(19)\n",
      "memory usage: 398.6+ KB\n"
     ]
    }
   ],
   "source": [
    "df_3.info()"
   ]
  },
  {
   "cell_type": "code",
   "execution_count": 8,
   "id": "b2d629df",
   "metadata": {},
   "outputs": [
    {
     "name": "stdout",
     "output_type": "stream",
     "text": [
      "(2415, 21)\n",
      "(2415, 19)\n"
     ]
    }
   ],
   "source": [
    "print(df_3.shape)\n",
    "df_3 = df_3.reset_index(drop=True)\n",
    "y_pred = x.predict(df_3['processed_text'].values)\n",
    "df_3['target'] = y_pred\n",
    "df_3[['ML CAT Name','ML Integer']] = df_3['target'].str.split(':', expand=True)\n",
    "df_3.drop('target', inplace=True, axis=1)\n",
    "df_3['ML Confidence Score'] =np.round_(np.max(x.predict_proba(df_3['processed_text']), axis=1), decimals=2)\n",
    "df_3.drop('processed_text', inplace=True, axis=1)\n",
    "df_3.drop('combined_text', inplace=True, axis=1)\n",
    "df_3.to_csv('/Users/jghosh2/Documents/my-notebook/Tax_ml_poc/data/bf.csv')\n",
    "print(df_3.shape)"
   ]
  },
  {
   "cell_type": "code",
   "execution_count": null,
   "id": "f2fba8d5",
   "metadata": {},
   "outputs": [],
   "source": []
  }
 ],
 "metadata": {
  "kernelspec": {
   "display_name": "Python 3 (ipykernel)",
   "language": "python",
   "name": "python3"
  },
  "language_info": {
   "codemirror_mode": {
    "name": "ipython",
    "version": 3
   },
   "file_extension": ".py",
   "mimetype": "text/x-python",
   "name": "python",
   "nbconvert_exporter": "python",
   "pygments_lexer": "ipython3",
   "version": "3.7.8"
  }
 },
 "nbformat": 4,
 "nbformat_minor": 5
}
