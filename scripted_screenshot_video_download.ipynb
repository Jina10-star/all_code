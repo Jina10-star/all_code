{
 "cells": [
  {
   "cell_type": "code",
   "execution_count": 1,
   "metadata": {
    "collapsed": false
   },
   "outputs": [],
   "source": [
    "from __future__ import unicode_literals\n",
    "import requests\n",
    "import json\n",
    "import csv\n",
    "from pprint import pprint\n",
    "import base64"
   ]
  },
  {
   "cell_type": "code",
   "execution_count": 2,
   "metadata": {
    "collapsed": false
   },
   "outputs": [],
   "source": [
    "def get_base64_data(phab_id):\n",
    "    data = [\n",
    "      ('api.token', 'cli-XXX'),\n",
    "      ('id', phab_id),\n",
    "    ]\n",
    "    response = requests.post('https://code.uberinternal.com/api/file.info', data=data)\n",
    "    jresponse = json.loads(response.text)\n",
    "    data = [\n",
    "      ('api.token', 'cli-XXX'),\n",
    "      ('phid', str(jresponse[\"result\"][\"phid\"])),\n",
    "    ]\n",
    "    response = requests.post('https://code.uberinternal.com/api/file.download', data=data)\n",
    "    jresponse = json.loads(response.text)\n",
    "    base64_img = str(jresponse[\"result\"])\n",
    "    return base64_img"
   ]
  },
  {
   "cell_type": "code",
   "execution_count": 3,
   "metadata": {
    "collapsed": true
   },
   "outputs": [],
   "source": [
    "with open('test_2018_3.json') as f:\n",
    "    data = json.load(f)"
   ]
  },
  {
   "cell_type": "code",
   "execution_count": null,
   "metadata": {
    "collapsed": false
   },
   "outputs": [],
   "source": [
    "#response = requests.post('http://localhost:16785/appsearch/snaptask-2018-5/_search', json={'from': 0, 'size': 10}, headers={'X-Uber-Source': 'crashprocessor'})\n",
    "#data = json.loads(response.text)"
   ]
  },
  {
   "cell_type": "code",
   "execution_count": 4,
   "metadata": {
    "collapsed": false
   },
   "outputs": [
    {
     "name": "stdout",
     "output_type": "stream",
     "text": [
      "48575489\n"
     ]
    }
   ],
   "source": [
    "for j in xrange(len(data[\"hits\"][\"hits\"])):\n",
    "    attachment = data[\"hits\"][\"hits\"][j][\"_source\"][\"attachments\"]\n",
    "    for i in xrange(len(attachment)):\n",
    "        #if \"screenshot\" in attachment[i][\"name\"].lower():\n",
    "        #    phab_id = attachment[i][\"id\"]\n",
    "            #print phab_id\n",
    "        #    base64_img = get_base64_data(phab_id)\n",
    "        #    with open(\"screenshot_{}.png\".format(phab_id), \"wb\") as fh:\n",
    "        #        fh.write(base64.b64decode(base64_img))\n",
    "        \n",
    "        if \"video\" in attachment[i][\"name\"].lower():\n",
    "            phab_id = attachment[i][\"id\"]\n",
    "            print phab_id     "
   ]
  },
  {
   "cell_type": "code",
   "execution_count": 22,
   "metadata": {
    "collapsed": true
   },
   "outputs": [],
   "source": [
    "base64_img = get_base64_data(phab_id)"
   ]
  },
  {
   "cell_type": "code",
   "execution_count": 23,
   "metadata": {
    "collapsed": false
   },
   "outputs": [],
   "source": [
    "decoded_string = base64.b64decode(base64_img)"
   ]
  },
  {
   "cell_type": "code",
   "execution_count": 24,
   "metadata": {
    "collapsed": false
   },
   "outputs": [],
   "source": [
    "with open('screenshot_{}.mov.gz'.format(phab_id), 'wb') as wfile:\n",
    "    wfile.write(decoded_string)"
   ]
  },
  {
   "cell_type": "code",
   "execution_count": null,
   "metadata": {
    "collapsed": true
   },
   "outputs": [],
   "source": []
  }
 ],
 "metadata": {
  "kernelspec": {
   "display_name": "Python 2 (General DS)",
   "language": "python",
   "name": "python2"
  },
  "language_info": {
   "codemirror_mode": {
    "name": "ipython",
    "version": 2
   },
   "file_extension": ".py",
   "mimetype": "text/x-python",
   "name": "python",
   "nbconvert_exporter": "python",
   "pygments_lexer": "ipython2",
   "version": "2.7.10"
  }
 },
 "nbformat": 4,
 "nbformat_minor": 2
}
