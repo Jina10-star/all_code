{
 "cells": [
  {
   "cell_type": "code",
   "execution_count": 1,
   "metadata": {
    "collapsed": false
   },
   "outputs": [],
   "source": [
    "import os, ujson\n",
    "from datetime import datetime, timedelta\n",
    "from tchannel import thrift\n",
    "from tchannel.sync import TChannel\n",
    "from pyspark.sql.functions import *\n",
    "import StringIO"
   ]
  },
  {
   "cell_type": "markdown",
   "metadata": {},
   "source": [
    "## Postmaster service"
   ]
  },
  {
   "cell_type": "code",
   "execution_count": 2,
   "metadata": {
    "collapsed": false
   },
   "outputs": [],
   "source": [
    "os.chdir('/mnt/cephfs/hadoop-compute/phoenix/wangm/')\n",
    "\n",
    "postmaster_service = thrift.load(path=\"postmaster.thrift\", service=\"postmaster\")\n",
    "\n",
    "tchannel = TChannel(name=\"places\")"
   ]
  },
  {
   "cell_type": "markdown",
   "metadata": {},
   "source": [
    "## Query for response by places last week"
   ]
  },
  {
   "cell_type": "code",
   "execution_count": 3,
   "metadata": {
    "collapsed": false
   },
   "outputs": [
    {
     "name": "stdout",
     "output_type": "stream",
     "text": [
      "\n",
      "    select\n",
      "  d.rating.context as place_uuid,\n",
      "  avg(\n",
      "    CASE\n",
      "      when d.rating.value like '%yes%' then 1\n",
      "      else 0\n",
      "    end\n",
      "  ) as verify,\n",
      "  avg(\n",
      "    CASE\n",
      "      when d.rating.value like '%no%' then 1\n",
      "      else 0\n",
      "    end\n",
      "  ) as disagree,\n",
      "  avg(\n",
      "    CASE\n",
      "      when d.rating.value like '%idk%' then 1\n",
      "      else 0\n",
      "    end\n",
      "  ) as unverify,\n",
      "  sum(\n",
      "    CASE\n",
      "      WHEN (d.rating.value like '%yes%' and r.client_uuid is not null) THEN r.ugc_trust_score\n",
      "      ELSE 0\n",
      "    END\n",
      "  ) / sum(case when r.client_uuid is not null then r.ugc_trust_score else 0 end) as score_verify,\n",
      "  sum(\n",
      "    CASE\n",
      "      WHEN (d.rating.value like '%no%' and r.client_uuid is not null) THEN r.ugc_trust_score\n",
      "      ELSE 0\n",
      "    END\n",
      "  ) / sum(case when r.client_uuid is not null then r.ugc_trust_score else 0 end) as score_disagree,\n",
      "  sum(\n",
      "    CASE\n",
      "      WHEN (d.rating.value like '%idk%'and r.client_uuid is not null) THEN r.ugc_trust_score\n",
      "      ELSE 0\n",
      "    END\n",
      "  ) / sum(case when r.client_uuid is not null then r.ugc_trust_score else 0 end) as score_unverify,\n",
      "  count(d.rating.context) as total_vote,\n",
      "  sum(case when r.client_uuid is not null then r.ugc_trust_score else 0 end) as total_score\n",
      "from\n",
      "  rawdata.schemaless_mezzanine_ratings_rows d\n",
      "  left join MAP_CREATION.UGC_V0_SCORE_DSW_RIDER r on d.rating.reviewer_uuid = r.client_uuid\n",
      "where\n",
      " array_contains(\n",
      "    Array('address_yes', 'address_no', 'address_idk'),\n",
      "    d.rating.value\n",
      "  )\n",
      "  and datestr > '2018-12-05'\n",
      "  and datestr <= '2019-01-17'\n",
      "group by\n",
      "  1\n",
      "\n"
     ]
    }
   ],
   "source": [
    "current = datetime.now()\n",
    "yesterday = current + timedelta(days=-1)\n",
    "last_week = yesterday + timedelta(days=-7)\n",
    "\n",
    "ugc_addr_query = \"\"\"\n",
    "    select\n",
    "  d.rating.context as place_uuid,\n",
    "  avg(\n",
    "    CASE\n",
    "      when d.rating.value like '%yes%' then 1\n",
    "      else 0\n",
    "    end\n",
    "  ) as verify,\n",
    "  avg(\n",
    "    CASE\n",
    "      when d.rating.value like '%no%' then 1\n",
    "      else 0\n",
    "    end\n",
    "  ) as disagree,\n",
    "  avg(\n",
    "    CASE\n",
    "      when d.rating.value like '%idk%' then 1\n",
    "      else 0\n",
    "    end\n",
    "  ) as unverify,\n",
    "  sum(\n",
    "    CASE\n",
    "      WHEN (d.rating.value like '%yes%' and r.client_uuid is not null) THEN r.ugc_trust_score\n",
    "      ELSE 0\n",
    "    END\n",
    "  ) / sum(case when r.client_uuid is not null then r.ugc_trust_score else 0 end) as score_verify,\n",
    "  sum(\n",
    "    CASE\n",
    "      WHEN (d.rating.value like '%no%' and r.client_uuid is not null) THEN r.ugc_trust_score\n",
    "      ELSE 0\n",
    "    END\n",
    "  ) / sum(case when r.client_uuid is not null then r.ugc_trust_score else 0 end) as score_disagree,\n",
    "  sum(\n",
    "    CASE\n",
    "      WHEN (d.rating.value like '%idk%'and r.client_uuid is not null) THEN r.ugc_trust_score\n",
    "      ELSE 0\n",
    "    END\n",
    "  ) / sum(case when r.client_uuid is not null then r.ugc_trust_score else 0 end) as score_unverify,\n",
    "  count(d.rating.context) as total_vote,\n",
    "  sum(case when r.client_uuid is not null then r.ugc_trust_score else 0 end) as total_score\n",
    "from\n",
    "  rawdata.schemaless_mezzanine_ratings_rows d\n",
    "  left join MAP_CREATION.UGC_V0_SCORE_DSW_RIDER r on d.rating.reviewer_uuid = r.client_uuid\n",
    "where\n",
    " array_contains(\n",
    "    Array('address_yes', 'address_no', 'address_idk'),\n",
    "    d.rating.value\n",
    "  )\n",
    "  and datestr > '2018-12-05'\n",
    "  and datestr <= '{end_date}'\n",
    "group by\n",
    "  1\n",
    "\"\"\".format(end_date = yesterday.strftime(\"%Y-%m-%d\"))\n",
    "\n",
    "print ugc_addr_query\n",
    "ugc_addr_df = spark.sql(ugc_addr_query)\n",
    "#refreshed_place_df.show()"
   ]
  },
  {
   "cell_type": "code",
   "execution_count": 4,
   "metadata": {
    "collapsed": false
   },
   "outputs": [
    {
     "name": "stdout",
     "output_type": "stream",
     "text": [
      "\n",
      "    select\n",
      "  d.rating.context as place_uuid,\n",
      "  avg(\n",
      "    CASE\n",
      "      when d.rating.value like '%yes%' then 1\n",
      "      else 0\n",
      "    end\n",
      "  ) as verify,\n",
      "  avg(\n",
      "    CASE\n",
      "      when d.rating.value like '%no%' then 1\n",
      "      else 0\n",
      "    end\n",
      "  ) as disagree,\n",
      "  avg(\n",
      "    CASE\n",
      "      when d.rating.value like '%idk%' then 1\n",
      "      else 0\n",
      "    end\n",
      "  ) as unverify,\n",
      "  sum(\n",
      "    CASE\n",
      "      WHEN (d.rating.value like '%yes%' and r.client_uuid is not null) THEN r.ugc_trust_score\n",
      "      ELSE 0\n",
      "    END\n",
      "  ) / sum(case when r.client_uuid is not null then r.ugc_trust_score else 0 end) as score_verify,\n",
      "  sum(\n",
      "    CASE\n",
      "      WHEN (d.rating.value like '%no%' and r.client_uuid is not null) THEN r.ugc_trust_score\n",
      "      ELSE 0\n",
      "    END\n",
      "  ) / sum(case when r.client_uuid is not null then r.ugc_trust_score else 0 end) as score_disagree,\n",
      "  sum(\n",
      "    CASE\n",
      "      WHEN (d.rating.value like '%idk%'and r.client_uuid is not null) THEN r.ugc_trust_score\n",
      "      ELSE 0\n",
      "    END\n",
      "  ) / sum(case when r.client_uuid is not null then r.ugc_trust_score else 0 end) as score_unverify,\n",
      "  count(d.rating.context) as total_vote,\n",
      "  sum(case when r.client_uuid is not null then r.ugc_trust_score else 0 end) as total_score\n",
      "from\n",
      "  rawdata.schemaless_mezzanine_ratings_rows d\n",
      "  left join MAP_CREATION.UGC_V0_SCORE_DSW_RIDER r on d.rating.reviewer_uuid = r.client_uuid\n",
      "where\n",
      "  array_contains(\n",
      "    Array('name_yes', 'name_no', 'name_idk'),\n",
      "    d.rating.value\n",
      "  )\n",
      "  and datestr > '2018-12-05'\n",
      "  and datestr <= '2019-01-17'\n",
      "group by\n",
      "  1\n",
      "\n"
     ]
    }
   ],
   "source": [
    "ugc_name_query = \"\"\"\n",
    "    select\n",
    "  d.rating.context as place_uuid,\n",
    "  avg(\n",
    "    CASE\n",
    "      when d.rating.value like '%yes%' then 1\n",
    "      else 0\n",
    "    end\n",
    "  ) as verify,\n",
    "  avg(\n",
    "    CASE\n",
    "      when d.rating.value like '%no%' then 1\n",
    "      else 0\n",
    "    end\n",
    "  ) as disagree,\n",
    "  avg(\n",
    "    CASE\n",
    "      when d.rating.value like '%idk%' then 1\n",
    "      else 0\n",
    "    end\n",
    "  ) as unverify,\n",
    "  sum(\n",
    "    CASE\n",
    "      WHEN (d.rating.value like '%yes%' and r.client_uuid is not null) THEN r.ugc_trust_score\n",
    "      ELSE 0\n",
    "    END\n",
    "  ) / sum(case when r.client_uuid is not null then r.ugc_trust_score else 0 end) as score_verify,\n",
    "  sum(\n",
    "    CASE\n",
    "      WHEN (d.rating.value like '%no%' and r.client_uuid is not null) THEN r.ugc_trust_score\n",
    "      ELSE 0\n",
    "    END\n",
    "  ) / sum(case when r.client_uuid is not null then r.ugc_trust_score else 0 end) as score_disagree,\n",
    "  sum(\n",
    "    CASE\n",
    "      WHEN (d.rating.value like '%idk%'and r.client_uuid is not null) THEN r.ugc_trust_score\n",
    "      ELSE 0\n",
    "    END\n",
    "  ) / sum(case when r.client_uuid is not null then r.ugc_trust_score else 0 end) as score_unverify,\n",
    "  count(d.rating.context) as total_vote,\n",
    "  sum(case when r.client_uuid is not null then r.ugc_trust_score else 0 end) as total_score\n",
    "from\n",
    "  rawdata.schemaless_mezzanine_ratings_rows d\n",
    "  left join MAP_CREATION.UGC_V0_SCORE_DSW_RIDER r on d.rating.reviewer_uuid = r.client_uuid\n",
    "where\n",
    "  array_contains(\n",
    "    Array('name_yes', 'name_no', 'name_idk'),\n",
    "    d.rating.value\n",
    "  )\n",
    "  and datestr > '2018-12-05'\n",
    "  and datestr <= '{end_date}'\n",
    "group by\n",
    "  1\n",
    "\"\"\".format(end_date = yesterday.strftime(\"%Y-%m-%d\"))\n",
    "\n",
    "print ugc_name_query\n",
    "ugc_name_df = spark.sql(ugc_name_query)\n",
    "#refreshed_place_df.show()"
   ]
  },
  {
   "cell_type": "markdown",
   "metadata": {},
   "source": [
    "## Total engaged rider"
   ]
  },
  {
   "cell_type": "code",
   "execution_count": 5,
   "metadata": {
    "collapsed": false
   },
   "outputs": [
    {
     "name": "stdout",
     "output_type": "stream",
     "text": [
      "\n",
      " select\n",
      "    DISTINCT\n",
      "    d.rating.reviewer_uuid,\n",
      "    d.rating.job_uuid\n",
      "  from\n",
      "    rawdata.schemaless_mezzanine_ratings_rows d\n",
      "  where\n",
      "    array_contains(\n",
      "    Array('address_yes',\n",
      "      'address_no',\n",
      "      'address_idk',\n",
      "      'name_no',\n",
      "      'name_yes',\n",
      "      'name_idk'),\n",
      "    d.rating.value\n",
      "  )\n",
      "    and datestr > '2019-01-10'\n",
      "    and datestr <= '2019-01-17'\n",
      "\n"
     ]
    }
   ],
   "source": [
    "ugc_vote = \"\"\"\n",
    " select\n",
    "    DISTINCT\n",
    "    d.rating.reviewer_uuid,\n",
    "    d.rating.job_uuid\n",
    "  from\n",
    "    rawdata.schemaless_mezzanine_ratings_rows d\n",
    "  where\n",
    "    array_contains(\n",
    "    Array('address_yes',\n",
    "      'address_no',\n",
    "      'address_idk',\n",
    "      'name_no',\n",
    "      'name_yes',\n",
    "      'name_idk'),\n",
    "    d.rating.value\n",
    "  )\n",
    "    and datestr > '{start_date}'\n",
    "    and datestr <= '{end_date}'\n",
    "\"\"\".format(start_date = last_week.strftime(\"%Y-%m-%d\"), end_date = yesterday.strftime(\"%Y-%m-%d\"))\n",
    "\n",
    "print ugc_vote\n",
    "ugc_vote_df = spark.sql(ugc_vote)"
   ]
  },
  {
   "cell_type": "code",
   "execution_count": 6,
   "metadata": {
    "collapsed": true
   },
   "outputs": [
    {
     "name": "stdout",
     "output_type": "stream",
     "text": [
      "\n",
      " select\n",
      "    DISTINCT\n",
      "    d.rating.reviewer_uuid,\n",
      "    d.rating.job_uuid\n",
      "  from\n",
      "    rawdata.schemaless_mezzanine_ratings_rows d\n",
      "  where\n",
      "    array_contains(\n",
      "    Array('address_yes',\n",
      "      'address_no',\n",
      "      'address_idk',\n",
      "      'name_no',\n",
      "      'name_yes',\n",
      "      'name_idk'),\n",
      "    d.rating.value\n",
      "  )\n",
      "    and datestr > '2018-12-05'\n",
      "    and datestr <= '2019-01-17'\n",
      "\n"
     ]
    }
   ],
   "source": [
    "ugc_total_vote = \"\"\"\n",
    " select\n",
    "    DISTINCT\n",
    "    d.rating.reviewer_uuid,\n",
    "    d.rating.job_uuid\n",
    "  from\n",
    "    rawdata.schemaless_mezzanine_ratings_rows d\n",
    "  where\n",
    "    array_contains(\n",
    "    Array('address_yes',\n",
    "      'address_no',\n",
    "      'address_idk',\n",
    "      'name_no',\n",
    "      'name_yes',\n",
    "      'name_idk'),\n",
    "    d.rating.value\n",
    "  )\n",
    "    and datestr > '2018-12-05'\n",
    "    and datestr <= '{end_date}'\n",
    "\"\"\".format(start_date = last_week.strftime(\"%Y-%m-%d\"), end_date = yesterday.strftime(\"%Y-%m-%d\"))\n",
    "\n",
    "print ugc_total_vote\n",
    "ugc_total_vote_df = spark.sql(ugc_total_vote)"
   ]
  },
  {
   "cell_type": "code",
   "execution_count": 7,
   "metadata": {
    "collapsed": false
   },
   "outputs": [],
   "source": [
    "# spark.version"
   ]
  },
  {
   "cell_type": "markdown",
   "metadata": {},
   "source": [
    "## Total refreshed places"
   ]
  },
  {
   "cell_type": "code",
   "execution_count": 8,
   "metadata": {
    "collapsed": false
   },
   "outputs": [],
   "source": [
    "addr_df = ugc_addr_df.where(col(\"place_uuid\").isNotNull())\n",
    "addr_id = addr_df.select(\"place_uuid\")\n",
    "\n",
    "name_df = ugc_name_df.where(col(\"place_uuid\").isNotNull())\n",
    "name_id = name_df.select(\"place_uuid\")\n",
    "\n",
    "# X place address are voted as of xx-xx-xx\n",
    "# addr_count = addr_id.count()\n",
    "\n",
    "# X place name are voted as of xx-xx-xx\n",
    "# name_count = name_id.count()\n",
    "\n",
    "# X place are voted by rider as of xx-xx-xx\n",
    "poi_count = addr_id.union(name_id).distinct().count()"
   ]
  },
  {
   "cell_type": "code",
   "execution_count": 9,
   "metadata": {
    "collapsed": false
   },
   "outputs": [
    {
     "name": "stdout",
     "output_type": "stream",
     "text": [
      "81373 riders submitted 82980 votes in the past week\n",
      "199557  place are voted by riders as of now\n",
      "40435 good poi addresses are verified\n",
      "52765 good poi names are verified\n",
      "1437 bad poi addresses are identified\n",
      "945 bad poi names are identified\n"
     ]
    }
   ],
   "source": [
    "addr_verified = addr_df.where(((col(\"score_verify\") > 0.6) & (col(\"total_score\") > 1)) | ((col(\"verify\") > 0.6) & (col(\"total_vote\") > 5)))\n",
    "\n",
    "addr_disagree = addr_df.where(((col(\"score_disagree\") > 0.6) & (col(\"total_score\") > 1)) | ((col(\"disagree\") > 0.6) & (col(\"total_vote\") > 5)))\n",
    "\n",
    "name_verified = name_df.where(((col(\"score_verify\") > 0.6) & (col(\"total_score\") > 1)) | ((col(\"verify\") > 0.6) & (col(\"total_vote\") > 5)))\n",
    "\n",
    "name_disagree = name_df.where(((col(\"score_disagree\") > 0.6) & (col(\"total_score\") > 1)) | ((col(\"disagree\") > 0.6) & (col(\"total_vote\") > 5)))\n",
    "\n",
    "# X good place address are verified as of xx-xx-xx\n",
    "addr_verified_count = addr_verified.count()\n",
    "\n",
    "# X bad place address are identified as of xx-xx-xx\n",
    "addr_disagree_count = addr_disagree.count()\n",
    "\n",
    "# X good place name are verified as of xx-xx-xx\n",
    "name_verified_count = name_verified.count()\n",
    "\n",
    "# X bad place name are identified as of xx-xx-xx\n",
    "name_disagree_count = name_disagree.count()\n",
    "\n",
    "# X riders submitted Y votes in the past week\n",
    "ugc_vote_count = ugc_vote_df.count()\n",
    "ugc_rider_count = ugc_vote_df.select(\"reviewer_uuid\").distinct().count()\n",
    "\n",
    "# X riders submitted Y votes as of xx-xx-xx\n",
    "ugc_total_vote_count = ugc_total_vote_df.count()\n",
    "ugc_total_rider_count = ugc_total_vote_df.select(\"reviewer_uuid\").distinct().count()\n",
    "\n",
    "print ugc_rider_count, 'riders submitted', ugc_vote_count, 'votes in the past week'\n",
    "print poi_count, ' place are voted by riders as of now'\n",
    "print addr_verified_count, 'good poi addresses are verified'\n",
    "print name_verified_count, 'good poi names are verified'\n",
    "print addr_disagree_count, 'bad poi addresses are identified'\n",
    "print name_disagree_count, 'bad poi names are identified'"
   ]
  },
  {
   "cell_type": "markdown",
   "metadata": {},
   "source": [
    "# Email notification"
   ]
  },
  {
   "cell_type": "code",
   "execution_count": 10,
   "metadata": {
    "collapsed": false
   },
   "outputs": [],
   "source": [
    "ugc_email_content = StringIO.StringIO()\n",
    "today_text = current.strftime('%Y-%m-%d')\n",
    "\n",
    "top_text = '''\n",
    "    <!DOCTYPE html>\n",
    "    <html>\n",
    "        <head>\n",
    "            <meta charset=\"utf-8\">\n",
    "            <meta name=\"viewport\" content=\"width=device-width, initial-scale=1.0\">\n",
    "            <title>Places UGC of Week from {week_start} to {week_end}</title>\n",
    "            <meta name=\"description\" content=\"Places UGC Weekly Newletter\">\n",
    "        </head>\n",
    "        <body>\n",
    "            <em>This is an autogenerated email on Places UGC for week from {week_start} to {week_end}</em>\n",
    "            \n",
    "            <div>\n",
    "                <h3>Weekly UGC response </h3>\n",
    "                <div>Weekly engaged riders: <b>{ugc_rider_count}</b></div>\n",
    "                <div>Weekly response submitted: <b>{ugc_vote_count}</b></div>\n",
    "            </div>\n",
    "\n",
    "            <div>\n",
    "                <h3>Total UGC response </h3>\n",
    "                <div>Total engaged riders: <b>{ugc_total_rider_count}</b></div>\n",
    "                <div>Total response submitted: <b>{ugc_total_vote_count}</b></div>\n",
    "            </div>\n",
    "\n",
    "            <div>\n",
    "                <h3>Total UGC response breakdown by POI attribute and response type</h3>\n",
    "'''.format(week_start=last_week.strftime(\"%Y-%m-%d\"),\n",
    "           week_end=yesterday.strftime(\"%Y-%m-%d\"), \n",
    "           ugc_rider_count=ugc_rider_count,\n",
    "           ugc_vote_count=ugc_vote_count,\n",
    "           ugc_total_rider_count=ugc_total_rider_count,\n",
    "           ugc_total_vote_count=ugc_total_vote_count\n",
    "           )\n",
    "ugc_email_content.write(top_text)\n",
    "\n",
    "ugc_email_content.write('''\n",
    "                <div>\n",
    "                    <div>Total voted POI: <b>{poi_count}</b></div>\n",
    "                    <div>Rider verified Good POI addresses: <b>{addr_verified}</b></div>\n",
    "                    <div>Rider verified Good POI names: <b>{name_verified}</b></div>\n",
    "                    <div>Rider reported Bad POI address: <b>{addr_disagree}</b></div>\n",
    "                    <div>Rider reported bad POI names: <b>{name_disagree}</b></div>\n",
    "                </div>\n",
    "                '''.format(poi_count=poi_count,\n",
    "                           addr_verified=addr_verified_count,\n",
    "                           name_verified=name_verified_count,\n",
    "                           addr_disagree=addr_disagree_count,\n",
    "                           name_disagree=name_disagree_count\n",
    "                          )\n",
    ")\n",
    "\n",
    "# bottom_text = '''\n",
    "#             <div>\n",
    "#                 <h3>Provider Refresh this week</h3>\n",
    "#                 <div>\n",
    "#                     <div>Provider refresh count: <b>{}</b></div>\n",
    "#                 </div>\n",
    "#                 <div>\n",
    "#                     <div>Name diff count: <b>{}</b></div>\n",
    "#                 </div>\n",
    "#                 <div>\n",
    "#                     <div>Address diff count: <b>{}</b></div>\n",
    "#                 </div>\n",
    "#                 <div>\n",
    "#                     <div>Status diff count: <b>{}</b></div>\n",
    "#                 </div>\n",
    "#             </div>    \n",
    "#         </body>\n",
    "#     </html>    \n",
    "# '''.format(provider_refresh_count, name_diff_count, address_diff_count, status_diff_count)\n",
    "# refresh_email_content.write(bottom_text)"
   ]
  },
  {
   "cell_type": "code",
   "execution_count": 11,
   "metadata": {
    "collapsed": false
   },
   "outputs": [
    {
     "name": "stdout",
     "output_type": "stream",
     "text": [
      "Result({'providerPayload': u'MIME-Version: 1.0\\r\\nContent-Transfer-Encoding: quoted-printable\\r\\nContent-Type: text/html; charset=utf-8\\r\\nFrom: <noreply@uber.com>\\r\\nTo: <maps-places-mce@uber.com>\\r\\nSubject: =?UTF-8?Q?Living_Maps_-_Rider_UGC_for_Places_Week_of_2019-01-17?=\\r\\nX-Uber-Id: 970e758e-d24b-4bee-906a-259838c5e1bb\\r\\nX-Smtpapi: {\"filters\":{\"bypass_list_management\":{\"settings\":{\"enable\":1}},\"clicktrack\":{\"settings\":{\"enable\":1}}},\"unique_args\":{\"from_email\":\"noreply@uber.com\",\"message_uuid\":\"970e758e-d24b-4bee-906a-259838c5e1bb\",\"unique_id\":\"970e758e-d24b-4bee-906a-259838c5e1bb\"}}\\r\\n\\r\\n\\r\\n    <!DOCTYPE html>\\r\\n    <html>\\r\\n        <head>\\r\\n            <meta charset=3D\"utf-8\">\\r\\n            <meta name=3D\"viewport\" content=3D\"width=3Ddevice-width, initia=\\r\\nl-scale=3D1.0\">\\r\\n            <title>Places UGC of Week from 2019-01-10 to 2019-01-17</title>\\r\\n            <meta name=3D\"description\" content=3D\"Places UGC Weekly Newlett=\\r\\ner\">\\r\\n        </head>\\r\\n        <body>\\r\\n            <em>This is an autogenerated email on Places UGC for week from =\\r\\n2019-01-10 to 2019-01-17</em>\\r\\n            \\r\\n            <div>\\r\\n                <h3>Weekly UGC response </h3>\\r\\n                <div>Weekly engaged riders: <b>81373</b></div>\\r\\n                <div>Weekly response submitted: <b>82980</b></div>\\r\\n            </div>\\r\\n\\r\\n            <div>\\r\\n                <h3>Total UGC response </h3>\\r\\n                <div>Total engaged riders: <b>498378</b></div>\\r\\n                <div>Total response submitted: <b>528132</b></div>\\r\\n            </div>\\r\\n\\r\\n            <div>\\r\\n                <h3>Total UGC response breakdown by POI attribute and respo=\\r\\nnse type</h3>\\r\\n\\r\\n                <div>\\r\\n                    <div>Total voted POI: <b>199557</b></div>\\r\\n                    <div>Rider verified Good POI addresses: <b>40435</b></d=\\r\\niv>\\r\\n                    <div>Rider verified Good POI names: <b>52765</b></div>\\r\\n                    <div>Rider reported Bad POI address: <b>1437</b></div>\\r\\n                    <div>Rider reported bad POI names: <b>945</b></div>\\r\\n                </div>\\r\\n                ', 'message': Message({'attachments': [], 'richBody': u'\\n    <!DOCTYPE html>\\n    <html>\\n        <head>\\n            <meta charset=\"utf-8\">\\n            <meta name=\"viewport\" content=\"width=device-width, initial-scale=1.0\">\\n            <title>Places UGC of Week from 2019-01-10 to 2019-01-17</title>\\n            <meta name=\"description\" content=\"Places UGC Weekly Newletter\">\\n        </head>\\n        <body>\\n            <em>This is an autogenerated email on Places UGC for week from 2019-01-10 to 2019-01-17</em>\\n            \\n            <div>\\n                <h3>Weekly UGC response </h3>\\n                <div>Weekly engaged riders: <b>81373</b></div>\\n                <div>Weekly response submitted: <b>82980</b></div>\\n            </div>\\n\\n            <div>\\n                <h3>Total UGC response </h3>\\n                <div>Total engaged riders: <b>498378</b></div>\\n                <div>Total response submitted: <b>528132</b></div>\\n            </div>\\n\\n            <div>\\n                <h3>Total UGC response breakdown by POI attribute and response type</h3>\\n\\n                <div>\\n                    <div>Total voted POI: <b>199557</b></div>\\n                    <div>Rider verified Good POI addresses: <b>40435</b></div>\\n                    <div>Rider verified Good POI names: <b>52765</b></div>\\n                    <div>Rider reported Bad POI address: <b>1437</b></div>\\n                    <div>Rider reported bad POI names: <b>945</b></div>\\n                </div>\\n                ', 'headers': {u'X-Uber-ID': u'970e758e-d24b-4bee-906a-259838c5e1bb', u'X-SMTPAPI': u'{\"filters\":{\"bypass_list_management\":{\"settings\":{\"enable\":1}},\"clicktrack\":{\"settings\":{\"enable\":1}}},\"unique_args\":{\"from_email\":\"noreply@uber.com\",\"message_uuid\":\"970e758e-d24b-4bee-906a-259838c5e1bb\",\"unique_id\":\"970e758e-d24b-4bee-906a-259838c5e1bb\"}}'}, 'cc': [], 'plainBody': u'', 'bcc': [], 'to': [u'<maps-places-mce@uber.com>'], 'returnPath': None, 'fromAddress': u'<noreply@uber.com>', 'subject': u'Living Maps - Rider UGC for Places Week of 2019-01-17'}), 'ID': u'970e758e-d24b-4bee-906a-259838c5e1bb', 'providerName': u'sendgrid_default', 'error': None})\n"
     ]
    }
   ],
   "source": [
    "subject_arg = yesterday.strftime('Living Maps - Rider UGC for Places Week of %Y-%m-%d')\n",
    "\n",
    "rawEmail_struct = postmaster_service.RawEmail(subject = subject_arg, richBody = ugc_email_content.getvalue())\n",
    "content_arg = postmaster_service.Content(rawEmail = rawEmail_struct)\n",
    "\n",
    "# to_arg = postmaster_service.Recipient(emailAddress = 'wangm@uber.com')\n",
    "\n",
    "to_arg = postmaster_service.Recipient(emailAddress = 'maps-places-mce@uber.com')\n",
    "\n",
    "cc_arg = [postmaster_service.Recipient(emailAddress= 'niravm@uber.com')]\n",
    "\n",
    "recipients_struct = postmaster_service.Recipients(to = to_arg, cc = cc_arg)\n",
    "\n",
    "fromEmail_arg = 'noreply@uber.com'\n",
    "messageType_arg = 'internal'\n",
    "request_struct = postmaster_service.Request(fromEmail = fromEmail_arg, recipients = recipients_struct, content = content_arg, messageType=messageType_arg)\n",
    "\n",
    "future = tchannel.thrift(postmaster_service.Postmaster.testEmail(request = request_struct))\n",
    "print future.result(timeout = 30000).body"
   ]
  },
  {
   "cell_type": "code",
   "execution_count": 12,
   "metadata": {
    "collapsed": true
   },
   "outputs": [],
   "source": []
  }
 ],
 "metadata": {
  "kernelspec": {
   "display_name": "PySpark (Yarn Cluster)",
   "language": "python",
   "name": "pyspark"
  },
  "language_info": {
   "codemirror_mode": {
    "name": "ipython",
    "version": 2
   },
   "file_extension": ".py",
   "mimetype": "text/x-python",
   "name": "python",
   "nbconvert_exporter": "python",
   "pygments_lexer": "ipython2",
   "version": "2.7.10"
  }
 },
 "nbformat": 4,
 "nbformat_minor": 2
}
