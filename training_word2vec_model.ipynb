{
 "cells": [
  {
   "cell_type": "code",
   "execution_count": 1,
   "id": "ad8710ce",
   "metadata": {},
   "outputs": [],
   "source": [
    "import numpy as np # linear algebra\n",
    "import pandas as pd # data processing, CSV file I/O (e.g. pd.read_csv)\n",
    "\n",
    "# from gensim.models import Word2Vec, KeyedVectors\n",
    "\n",
    "from nltk.tokenize import word_tokenize\n",
    "from nltk.corpus import stopwords\n",
    "from string import punctuation\n",
    "from tqdm.notebook import tqdm\n",
    "\n",
    "from sklearn.multioutput import MultiOutputClassifier\n",
    "from sklearn.linear_model import LogisticRegression\n",
    "from sklearn.model_selection import train_test_split\n",
    "from sklearn.metrics import roc_auc_score\n",
    "from sklearn.ensemble import RandomForestClassifier\n",
    "from sklearn.pipeline import Pipeline\n",
    "\n",
    "from statistics import mean"
   ]
  },
  {
   "cell_type": "code",
   "execution_count": 2,
   "id": "ee82a5e1",
   "metadata": {},
   "outputs": [],
   "source": [
    "def preprocess_corpus(text):\n",
    "    #importing stop words like in, the, of so that these can be removed from texts\n",
    "    #as these words dont help in determining the classes(Whether a sentence is toxic or not)\n",
    "    #removing the numerical values and working only with text values\n",
    "    text = re.sub('[^a-zA-Z]', \" \", text)\n",
    "    \n",
    "    def remove_stops_digits(tokens):\n",
    "        #Nested function that lowercases, removes stopwords and digits from a list of tokens\n",
    "        return [token.lower() for token in tokens if token not in mystopwords and not token.isdigit()\n",
    "               and token not in punctuation and len(token)>1]\n",
    "    #This return statement below uses the above function and tokenizes output further. \n",
    "    return remove_stops_digits(word_tokenize(text))\n",
    "\n",
    "#Preprocess both for training and test data\n",
    "# train_texts_processed = preprocess_corpus(train_texts)\n",
    "# test_texts_processed = preprocess_corpus(test_texts)"
   ]
  },
  {
   "cell_type": "code",
   "execution_count": 3,
   "id": "2314fa39",
   "metadata": {},
   "outputs": [
    {
     "name": "stdout",
     "output_type": "stream",
     "text": [
      "\u001b[33mWARNING: Skipping transformers as it is not installed.\u001b[0m\n",
      "Note: you may need to restart the kernel to use updated packages.\n"
     ]
    }
   ],
   "source": [
    "pip uninstall transformers"
   ]
  },
  {
   "cell_type": "code",
   "execution_count": 4,
   "id": "0b062dbf",
   "metadata": {},
   "outputs": [],
   "source": [
    "mystopwords = set(stopwords.words(\"english\"))"
   ]
  },
  {
   "cell_type": "code",
   "execution_count": 5,
   "id": "f48e4abc",
   "metadata": {},
   "outputs": [],
   "source": [
    "df_item = pd.read_csv('/Users/jghosh2/Documents/my-notebook/Tax_ml_poc/data/historical_data_14_01_22.csv')"
   ]
  },
  {
   "cell_type": "code",
   "execution_count": 6,
   "id": "321d717e",
   "metadata": {},
   "outputs": [
    {
     "data": {
      "text/plain": [
       "(204725, 7)"
      ]
     },
     "execution_count": 6,
     "metadata": {},
     "output_type": "execute_result"
    }
   ],
   "source": [
    "df_item.shape"
   ]
  },
  {
   "cell_type": "code",
   "execution_count": 7,
   "id": "3eacb0a2",
   "metadata": {},
   "outputs": [],
   "source": [
    "df_item = df_item[~df_item['target'].isnull()]"
   ]
  },
  {
   "cell_type": "code",
   "execution_count": 8,
   "id": "e43c33bc",
   "metadata": {},
   "outputs": [],
   "source": [
    "item_columns = ['Item', 'Description', 'establishment_type']"
   ]
  },
  {
   "cell_type": "code",
   "execution_count": 9,
   "id": "65d3d0c2",
   "metadata": {},
   "outputs": [],
   "source": [
    "import re"
   ]
  },
  {
   "cell_type": "code",
   "execution_count": 10,
   "id": "7c508066",
   "metadata": {},
   "outputs": [],
   "source": [
    "df_item['text'] = df_item[item_columns[0]].astype('str') + \" \" + df_item[item_columns[1]].astype('str') + \" \" + df_item[item_columns[2]].astype('str')"
   ]
  },
  {
   "cell_type": "code",
   "execution_count": 11,
   "id": "e80581ae",
   "metadata": {},
   "outputs": [],
   "source": [
    "df_item['processed_text'] = df_item['text'].apply(preprocess_corpus)"
   ]
  },
  {
   "cell_type": "code",
   "execution_count": 12,
   "id": "a7735d2c",
   "metadata": {},
   "outputs": [
    {
     "data": {
      "text/html": [
       "<div>\n",
       "<style scoped>\n",
       "    .dataframe tbody tr th:only-of-type {\n",
       "        vertical-align: middle;\n",
       "    }\n",
       "\n",
       "    .dataframe tbody tr th {\n",
       "        vertical-align: top;\n",
       "    }\n",
       "\n",
       "    .dataframe thead th {\n",
       "        text-align: right;\n",
       "    }\n",
       "</style>\n",
       "<table border=\"1\" class=\"dataframe\">\n",
       "  <thead>\n",
       "    <tr style=\"text-align: right;\">\n",
       "      <th></th>\n",
       "      <th>Unnamed: 0</th>\n",
       "      <th>Item</th>\n",
       "      <th>Description</th>\n",
       "      <th>establishment_type</th>\n",
       "      <th>CAT_Name</th>\n",
       "      <th>Integer</th>\n",
       "      <th>target</th>\n",
       "      <th>text</th>\n",
       "      <th>processed_text</th>\n",
       "    </tr>\n",
       "  </thead>\n",
       "  <tbody>\n",
       "    <tr>\n",
       "      <th>0</th>\n",
       "      <td>2406</td>\n",
       "      <td>1800 Lime Margarita, 1.75mL margarita (9.95% ABV)</td>\n",
       "      <td>NaN</td>\n",
       "      <td>GROCERY</td>\n",
       "      <td>CAT_ALCOHOL,TEMP_COLD</td>\n",
       "      <td>109,1</td>\n",
       "      <td>CAT_ALCOHOL,TEMP_COLD:109,1</td>\n",
       "      <td>1800 Lime Margarita, 1.75mL margarita (9.95% A...</td>\n",
       "      <td>[lime, margarita, ml, margarita, abv, nan, gro...</td>\n",
       "    </tr>\n",
       "    <tr>\n",
       "      <th>1</th>\n",
       "      <td>2434</td>\n",
       "      <td>1800 peach Margarita, 1.75mL margarita ( 9.95%...</td>\n",
       "      <td>NaN</td>\n",
       "      <td>GROCERY</td>\n",
       "      <td>CAT_ALCOHOL,TEMP_COLD</td>\n",
       "      <td>109,1</td>\n",
       "      <td>CAT_ALCOHOL,TEMP_COLD:109,1</td>\n",
       "      <td>1800 peach Margarita, 1.75mL margarita ( 9.95%...</td>\n",
       "      <td>[peach, margarita, ml, margarita, abv, nan, gr...</td>\n",
       "    </tr>\n",
       "    <tr>\n",
       "      <th>2</th>\n",
       "      <td>2437</td>\n",
       "      <td>1800 pineapple margarita, 1.75mL margarita ( 9...</td>\n",
       "      <td>NaN</td>\n",
       "      <td>GROCERY</td>\n",
       "      <td>CAT_ALCOHOL,TEMP_COLD</td>\n",
       "      <td>109,1</td>\n",
       "      <td>CAT_ALCOHOL,TEMP_COLD:109,1</td>\n",
       "      <td>1800 pineapple margarita, 1.75mL margarita ( 9...</td>\n",
       "      <td>[pineapple, margarita, ml, margarita, abv, nan...</td>\n",
       "    </tr>\n",
       "    <tr>\n",
       "      <th>3</th>\n",
       "      <td>2566</td>\n",
       "      <td>1800 Reserva Reposado, 1.75lt tequila (40.0% ABV)</td>\n",
       "      <td>NaN</td>\n",
       "      <td>GROCERY</td>\n",
       "      <td>CAT_ALCOHOL,TEMP_COLD</td>\n",
       "      <td>109,1</td>\n",
       "      <td>CAT_ALCOHOL,TEMP_COLD:109,1</td>\n",
       "      <td>1800 Reserva Reposado, 1.75lt tequila (40.0% A...</td>\n",
       "      <td>[reserva, reposado, lt, tequila, abv, nan, gro...</td>\n",
       "    </tr>\n",
       "    <tr>\n",
       "      <th>4</th>\n",
       "      <td>2579</td>\n",
       "      <td>1800 Reserva Silver, 1.75lt tequila (40.0% ABV)</td>\n",
       "      <td>NaN</td>\n",
       "      <td>GROCERY</td>\n",
       "      <td>CAT_ALCOHOL,TEMP_COLD</td>\n",
       "      <td>109,1</td>\n",
       "      <td>CAT_ALCOHOL,TEMP_COLD:109,1</td>\n",
       "      <td>1800 Reserva Silver, 1.75lt tequila (40.0% ABV...</td>\n",
       "      <td>[reserva, silver, lt, tequila, abv, nan, grocery]</td>\n",
       "    </tr>\n",
       "  </tbody>\n",
       "</table>\n",
       "</div>"
      ],
      "text/plain": [
       "   Unnamed: 0                                               Item Description  \\\n",
       "0        2406  1800 Lime Margarita, 1.75mL margarita (9.95% ABV)         NaN   \n",
       "1        2434  1800 peach Margarita, 1.75mL margarita ( 9.95%...         NaN   \n",
       "2        2437  1800 pineapple margarita, 1.75mL margarita ( 9...         NaN   \n",
       "3        2566  1800 Reserva Reposado, 1.75lt tequila (40.0% ABV)         NaN   \n",
       "4        2579    1800 Reserva Silver, 1.75lt tequila (40.0% ABV)         NaN   \n",
       "\n",
       "  establishment_type               CAT_Name Integer  \\\n",
       "0            GROCERY  CAT_ALCOHOL,TEMP_COLD   109,1   \n",
       "1            GROCERY  CAT_ALCOHOL,TEMP_COLD   109,1   \n",
       "2            GROCERY  CAT_ALCOHOL,TEMP_COLD   109,1   \n",
       "3            GROCERY  CAT_ALCOHOL,TEMP_COLD   109,1   \n",
       "4            GROCERY  CAT_ALCOHOL,TEMP_COLD   109,1   \n",
       "\n",
       "                        target  \\\n",
       "0  CAT_ALCOHOL,TEMP_COLD:109,1   \n",
       "1  CAT_ALCOHOL,TEMP_COLD:109,1   \n",
       "2  CAT_ALCOHOL,TEMP_COLD:109,1   \n",
       "3  CAT_ALCOHOL,TEMP_COLD:109,1   \n",
       "4  CAT_ALCOHOL,TEMP_COLD:109,1   \n",
       "\n",
       "                                                text  \\\n",
       "0  1800 Lime Margarita, 1.75mL margarita (9.95% A...   \n",
       "1  1800 peach Margarita, 1.75mL margarita ( 9.95%...   \n",
       "2  1800 pineapple margarita, 1.75mL margarita ( 9...   \n",
       "3  1800 Reserva Reposado, 1.75lt tequila (40.0% A...   \n",
       "4  1800 Reserva Silver, 1.75lt tequila (40.0% ABV...   \n",
       "\n",
       "                                      processed_text  \n",
       "0  [lime, margarita, ml, margarita, abv, nan, gro...  \n",
       "1  [peach, margarita, ml, margarita, abv, nan, gr...  \n",
       "2  [pineapple, margarita, ml, margarita, abv, nan...  \n",
       "3  [reserva, reposado, lt, tequila, abv, nan, gro...  \n",
       "4  [reserva, silver, lt, tequila, abv, nan, grocery]  "
      ]
     },
     "execution_count": 12,
     "metadata": {},
     "output_type": "execute_result"
    }
   ],
   "source": [
    "df_item.head()"
   ]
  },
  {
   "cell_type": "code",
   "execution_count": 13,
   "id": "b0dcae7c",
   "metadata": {},
   "outputs": [],
   "source": [
    "X_train, X_test = train_test_split(df_item, train_size = 0.8, random_state = 42 )"
   ]
  },
  {
   "cell_type": "code",
   "execution_count": 14,
   "id": "16406647",
   "metadata": {},
   "outputs": [],
   "source": [
    "#pip install keras==2.3.1"
   ]
  },
  {
   "cell_type": "code",
   "execution_count": 15,
   "id": "ea814981",
   "metadata": {},
   "outputs": [],
   "source": [
    "import sklearn"
   ]
  },
  {
   "cell_type": "code",
   "execution_count": 16,
   "id": "403e255d",
   "metadata": {},
   "outputs": [
    {
     "name": "stdout",
     "output_type": "stream",
     "text": [
      "0.21.1\n"
     ]
    }
   ],
   "source": [
    "print(sklearn.__version__)"
   ]
  },
  {
   "cell_type": "code",
   "execution_count": 17,
   "id": "2a45a5ff",
   "metadata": {},
   "outputs": [],
   "source": [
    "sentences = X_train['processed_text'].tolist()"
   ]
  },
  {
   "cell_type": "code",
   "execution_count": 18,
   "id": "0e96593a",
   "metadata": {},
   "outputs": [],
   "source": [
    "flat_list = [item for sublist in sentences for item in sublist]"
   ]
  },
  {
   "cell_type": "code",
   "execution_count": 19,
   "id": "5faaae33",
   "metadata": {},
   "outputs": [],
   "source": [
    "tokens = flat_list"
   ]
  },
  {
   "cell_type": "code",
   "execution_count": 20,
   "id": "d47447af",
   "metadata": {},
   "outputs": [],
   "source": [
    "vocab, index = {}, 1  # start indexing from 1\n",
    "vocab['<pad>'] = 0  # add a padding token\n",
    "for token in tokens:\n",
    "  if token not in vocab:\n",
    "    vocab[token] = index\n",
    "    index += 1\n",
    "vocab_size = len(vocab)\n",
    "# print(vocab)"
   ]
  },
  {
   "cell_type": "code",
   "execution_count": 21,
   "id": "16685c53",
   "metadata": {},
   "outputs": [
    {
     "data": {
      "text/plain": [
       "58288"
      ]
     },
     "execution_count": 21,
     "metadata": {},
     "output_type": "execute_result"
    }
   ],
   "source": [
    "vocab_size"
   ]
  },
  {
   "cell_type": "code",
   "execution_count": 22,
   "id": "9ba658e5",
   "metadata": {},
   "outputs": [
    {
     "name": "stdout",
     "output_type": "stream",
     "text": [
      "Model: \"model\"\n",
      "__________________________________________________________________________________________________\n",
      "Layer (type)                    Output Shape         Param #     Connected to                     \n",
      "==================================================================================================\n",
      "input_1 (InputLayer)            [(None, 1)]          0                                            \n",
      "__________________________________________________________________________________________________\n",
      "input_2 (InputLayer)            [(None, 1)]          0                                            \n",
      "__________________________________________________________________________________________________\n",
      "embed_in (Embedding)            (None, 1, 100)       5828800     input_1[0][0]                    \n",
      "                                                                 input_2[0][0]                    \n",
      "__________________________________________________________________________________________________\n",
      "reshape (Reshape)               (None, 100)          0           embed_in[0][0]                   \n",
      "__________________________________________________________________________________________________\n",
      "reshape_1 (Reshape)             (None, 100)          0           embed_in[1][0]                   \n",
      "__________________________________________________________________________________________________\n",
      "dot (Dot)                       (None, 1)            0           reshape[0][0]                    \n",
      "                                                                 reshape_1[0][0]                  \n",
      "__________________________________________________________________________________________________\n",
      "dense (Dense)                   (None, 1)            2           dot[0][0]                        \n",
      "==================================================================================================\n",
      "Total params: 5,828,802\n",
      "Trainable params: 5,828,802\n",
      "Non-trainable params: 0\n",
      "__________________________________________________________________________________________________\n"
     ]
    },
    {
     "name": "stderr",
     "output_type": "stream",
     "text": [
      "/opt/anaconda3/envs/py365/lib/python3.6/site-packages/tensorflow/python/keras/optimizer_v2/optimizer_v2.py:375: UserWarning: The `lr` argument is deprecated, use `learning_rate` instead.\n",
      "  \"The `lr` argument is deprecated, use `learning_rate` instead.\")\n"
     ]
    }
   ],
   "source": [
    "# the keras model/graph would look something like this:\n",
    "#from keras import layers, optimizers, Model\n",
    "from tensorflow.keras import optimizers,Model,layers\n",
    "#from tensorflow.keras import models\n",
    "# adjustable parameter that control the dimension of the word vectors\n",
    "embed_size = 100\n",
    "\n",
    "input_center = layers.Input((1,))\n",
    "input_context = layers.Input((1,))\n",
    "\n",
    "embedding = layers.Embedding(vocab_size, embed_size, input_length=1, name='embed_in')\n",
    "center = embedding(input_center)  # shape [seq_len, # features (1), embed_size]\n",
    "context = embedding(input_context)\n",
    "\n",
    "center = layers.Reshape((embed_size,))(center)\n",
    "context = layers.Reshape((embed_size,))(context)\n",
    "\n",
    "dot_product = layers.dot([center, context], axes=1)\n",
    "output = layers.Dense(1, activation='sigmoid')(dot_product)\n",
    "model = Model(inputs=[input_center, input_context], outputs=output)\n",
    "model.compile(loss='categorical_crossentropy', optimizer=optimizers.RMSprop(lr=0.01))\n",
    "model.summary()\n"
   ]
  },
  {
   "cell_type": "code",
   "execution_count": 23,
   "id": "a58443f1",
   "metadata": {},
   "outputs": [
    {
     "ename": "AttributeError",
     "evalue": "'int' object has no attribute 'shape'",
     "output_type": "error",
     "traceback": [
      "\u001b[0;31m---------------------------------------------------------------------------\u001b[0m",
      "\u001b[0;31mAttributeError\u001b[0m                            Traceback (most recent call last)",
      "\u001b[0;32m<ipython-input-23-2c516d122a7b>\u001b[0m in \u001b[0;36m<module>\u001b[0;34m\u001b[0m\n\u001b[1;32m      4\u001b[0m \u001b[0mbatch_context\u001b[0m \u001b[0;34m=\u001b[0m \u001b[0;34m[\u001b[0m\u001b[0;36m4288\u001b[0m\u001b[0;34m,\u001b[0m \u001b[0;36m203\u001b[0m\u001b[0;34m,\u001b[0m \u001b[0;36m69\u001b[0m\u001b[0;34m,\u001b[0m \u001b[0;36m2535\u001b[0m\u001b[0;34m,\u001b[0m \u001b[0;36m815\u001b[0m\u001b[0;34m]\u001b[0m\u001b[0;34m\u001b[0m\u001b[0;34m\u001b[0m\u001b[0m\n\u001b[1;32m      5\u001b[0m \u001b[0mbatch_label\u001b[0m \u001b[0;34m=\u001b[0m \u001b[0;34m[\u001b[0m\u001b[0;36m0\u001b[0m\u001b[0;34m,\u001b[0m \u001b[0;36m1\u001b[0m\u001b[0;34m,\u001b[0m \u001b[0;36m1\u001b[0m\u001b[0;34m,\u001b[0m \u001b[0;36m0\u001b[0m\u001b[0;34m,\u001b[0m \u001b[0;36m1\u001b[0m\u001b[0;34m]\u001b[0m\u001b[0;34m\u001b[0m\u001b[0;34m\u001b[0m\u001b[0m\n\u001b[0;32m----> 6\u001b[0;31m \u001b[0mmodel\u001b[0m\u001b[0;34m.\u001b[0m\u001b[0mtrain_on_batch\u001b[0m\u001b[0;34m(\u001b[0m\u001b[0;34m[\u001b[0m\u001b[0mbatch_center\u001b[0m\u001b[0;34m,\u001b[0m \u001b[0mbatch_context\u001b[0m\u001b[0;34m]\u001b[0m\u001b[0;34m,\u001b[0m \u001b[0mbatch_label\u001b[0m\u001b[0;34m)\u001b[0m\u001b[0;34m\u001b[0m\u001b[0;34m\u001b[0m\u001b[0m\n\u001b[0m",
      "\u001b[0;32m/opt/anaconda3/envs/py365/lib/python3.6/site-packages/tensorflow/python/keras/engine/training.py\u001b[0m in \u001b[0;36mtrain_on_batch\u001b[0;34m(self, x, y, sample_weight, class_weight, reset_metrics, return_dict)\u001b[0m\n\u001b[1;32m   1816\u001b[0m       iterator = data_adapter.single_batch_iterator(self.distribute_strategy, x,\n\u001b[1;32m   1817\u001b[0m                                                     \u001b[0my\u001b[0m\u001b[0;34m,\u001b[0m \u001b[0msample_weight\u001b[0m\u001b[0;34m,\u001b[0m\u001b[0;34m\u001b[0m\u001b[0;34m\u001b[0m\u001b[0m\n\u001b[0;32m-> 1818\u001b[0;31m                                                     class_weight)\n\u001b[0m\u001b[1;32m   1819\u001b[0m       \u001b[0mself\u001b[0m\u001b[0;34m.\u001b[0m\u001b[0mtrain_function\u001b[0m \u001b[0;34m=\u001b[0m \u001b[0mself\u001b[0m\u001b[0;34m.\u001b[0m\u001b[0mmake_train_function\u001b[0m\u001b[0;34m(\u001b[0m\u001b[0;34m)\u001b[0m\u001b[0;34m\u001b[0m\u001b[0;34m\u001b[0m\u001b[0m\n\u001b[1;32m   1820\u001b[0m       \u001b[0mlogs\u001b[0m \u001b[0;34m=\u001b[0m \u001b[0mself\u001b[0m\u001b[0;34m.\u001b[0m\u001b[0mtrain_function\u001b[0m\u001b[0;34m(\u001b[0m\u001b[0miterator\u001b[0m\u001b[0;34m)\u001b[0m\u001b[0;34m\u001b[0m\u001b[0;34m\u001b[0m\u001b[0m\n",
      "\u001b[0;32m/opt/anaconda3/envs/py365/lib/python3.6/site-packages/tensorflow/python/keras/engine/data_adapter.py\u001b[0m in \u001b[0;36msingle_batch_iterator\u001b[0;34m(strategy, x, y, sample_weight, class_weight)\u001b[0m\n\u001b[1;32m   1612\u001b[0m     \u001b[0mdata\u001b[0m \u001b[0;34m=\u001b[0m \u001b[0;34m(\u001b[0m\u001b[0mx\u001b[0m\u001b[0;34m,\u001b[0m \u001b[0my\u001b[0m\u001b[0;34m,\u001b[0m \u001b[0msample_weight\u001b[0m\u001b[0;34m)\u001b[0m\u001b[0;34m\u001b[0m\u001b[0;34m\u001b[0m\u001b[0m\n\u001b[1;32m   1613\u001b[0m \u001b[0;34m\u001b[0m\u001b[0m\n\u001b[0;32m-> 1614\u001b[0;31m   \u001b[0m_check_data_cardinality\u001b[0m\u001b[0;34m(\u001b[0m\u001b[0mdata\u001b[0m\u001b[0;34m)\u001b[0m\u001b[0;34m\u001b[0m\u001b[0;34m\u001b[0m\u001b[0m\n\u001b[0m\u001b[1;32m   1615\u001b[0m   \u001b[0mdataset\u001b[0m \u001b[0;34m=\u001b[0m \u001b[0mdataset_ops\u001b[0m\u001b[0;34m.\u001b[0m\u001b[0mDatasetV2\u001b[0m\u001b[0;34m.\u001b[0m\u001b[0mfrom_tensors\u001b[0m\u001b[0;34m(\u001b[0m\u001b[0mdata\u001b[0m\u001b[0;34m)\u001b[0m\u001b[0;34m\u001b[0m\u001b[0;34m\u001b[0m\u001b[0m\n\u001b[1;32m   1616\u001b[0m   \u001b[0;32mif\u001b[0m \u001b[0mclass_weight\u001b[0m\u001b[0;34m:\u001b[0m\u001b[0;34m\u001b[0m\u001b[0;34m\u001b[0m\u001b[0m\n",
      "\u001b[0;32m/opt/anaconda3/envs/py365/lib/python3.6/site-packages/tensorflow/python/keras/engine/data_adapter.py\u001b[0m in \u001b[0;36m_check_data_cardinality\u001b[0;34m(data)\u001b[0m\n\u001b[1;32m   1621\u001b[0m \u001b[0;34m\u001b[0m\u001b[0m\n\u001b[1;32m   1622\u001b[0m \u001b[0;32mdef\u001b[0m \u001b[0m_check_data_cardinality\u001b[0m\u001b[0;34m(\u001b[0m\u001b[0mdata\u001b[0m\u001b[0;34m)\u001b[0m\u001b[0;34m:\u001b[0m\u001b[0;34m\u001b[0m\u001b[0;34m\u001b[0m\u001b[0m\n\u001b[0;32m-> 1623\u001b[0;31m   \u001b[0mnum_samples\u001b[0m \u001b[0;34m=\u001b[0m \u001b[0mset\u001b[0m\u001b[0;34m(\u001b[0m\u001b[0mint\u001b[0m\u001b[0;34m(\u001b[0m\u001b[0mi\u001b[0m\u001b[0;34m.\u001b[0m\u001b[0mshape\u001b[0m\u001b[0;34m[\u001b[0m\u001b[0;36m0\u001b[0m\u001b[0;34m]\u001b[0m\u001b[0;34m)\u001b[0m \u001b[0;32mfor\u001b[0m \u001b[0mi\u001b[0m \u001b[0;32min\u001b[0m \u001b[0mnest\u001b[0m\u001b[0;34m.\u001b[0m\u001b[0mflatten\u001b[0m\u001b[0;34m(\u001b[0m\u001b[0mdata\u001b[0m\u001b[0;34m)\u001b[0m\u001b[0;34m)\u001b[0m\u001b[0;34m\u001b[0m\u001b[0;34m\u001b[0m\u001b[0m\n\u001b[0m\u001b[1;32m   1624\u001b[0m   \u001b[0;32mif\u001b[0m \u001b[0mlen\u001b[0m\u001b[0;34m(\u001b[0m\u001b[0mnum_samples\u001b[0m\u001b[0;34m)\u001b[0m \u001b[0;34m>\u001b[0m \u001b[0;36m1\u001b[0m\u001b[0;34m:\u001b[0m\u001b[0;34m\u001b[0m\u001b[0;34m\u001b[0m\u001b[0m\n\u001b[1;32m   1625\u001b[0m     \u001b[0mmsg\u001b[0m \u001b[0;34m=\u001b[0m \u001b[0;34m\"Data cardinality is ambiguous:\\n\"\u001b[0m\u001b[0;34m\u001b[0m\u001b[0;34m\u001b[0m\u001b[0m\n",
      "\u001b[0;32m/opt/anaconda3/envs/py365/lib/python3.6/site-packages/tensorflow/python/keras/engine/data_adapter.py\u001b[0m in \u001b[0;36m<genexpr>\u001b[0;34m(.0)\u001b[0m\n\u001b[1;32m   1621\u001b[0m \u001b[0;34m\u001b[0m\u001b[0m\n\u001b[1;32m   1622\u001b[0m \u001b[0;32mdef\u001b[0m \u001b[0m_check_data_cardinality\u001b[0m\u001b[0;34m(\u001b[0m\u001b[0mdata\u001b[0m\u001b[0;34m)\u001b[0m\u001b[0;34m:\u001b[0m\u001b[0;34m\u001b[0m\u001b[0;34m\u001b[0m\u001b[0m\n\u001b[0;32m-> 1623\u001b[0;31m   \u001b[0mnum_samples\u001b[0m \u001b[0;34m=\u001b[0m \u001b[0mset\u001b[0m\u001b[0;34m(\u001b[0m\u001b[0mint\u001b[0m\u001b[0;34m(\u001b[0m\u001b[0mi\u001b[0m\u001b[0;34m.\u001b[0m\u001b[0mshape\u001b[0m\u001b[0;34m[\u001b[0m\u001b[0;36m0\u001b[0m\u001b[0;34m]\u001b[0m\u001b[0;34m)\u001b[0m \u001b[0;32mfor\u001b[0m \u001b[0mi\u001b[0m \u001b[0;32min\u001b[0m \u001b[0mnest\u001b[0m\u001b[0;34m.\u001b[0m\u001b[0mflatten\u001b[0m\u001b[0;34m(\u001b[0m\u001b[0mdata\u001b[0m\u001b[0;34m)\u001b[0m\u001b[0;34m)\u001b[0m\u001b[0;34m\u001b[0m\u001b[0;34m\u001b[0m\u001b[0m\n\u001b[0m\u001b[1;32m   1624\u001b[0m   \u001b[0;32mif\u001b[0m \u001b[0mlen\u001b[0m\u001b[0;34m(\u001b[0m\u001b[0mnum_samples\u001b[0m\u001b[0;34m)\u001b[0m \u001b[0;34m>\u001b[0m \u001b[0;36m1\u001b[0m\u001b[0;34m:\u001b[0m\u001b[0;34m\u001b[0m\u001b[0;34m\u001b[0m\u001b[0m\n\u001b[1;32m   1625\u001b[0m     \u001b[0mmsg\u001b[0m \u001b[0;34m=\u001b[0m \u001b[0;34m\"Data cardinality is ambiguous:\\n\"\u001b[0m\u001b[0;34m\u001b[0m\u001b[0;34m\u001b[0m\u001b[0m\n",
      "\u001b[0;31mAttributeError\u001b[0m: 'int' object has no attribute 'shape'"
     ]
    }
   ],
   "source": [
    "# then we can feed in the skipgram and its label (whether the word pair is in or outside\n",
    "# the context)\n",
    "batch_center = [2354, 2354, 2354, 69, 69]\n",
    "batch_context = [4288, 203, 69, 2535, 815]\n",
    "batch_label = [0, 1, 1, 0, 1]\n",
    "model.train_on_batch([batch_center, batch_context], batch_label)"
   ]
  },
  {
   "cell_type": "code",
   "execution_count": 24,
   "id": "f8ec2759",
   "metadata": {},
   "outputs": [
    {
     "data": {
      "text/plain": [
       "KerasWord2VecVectorizer(batch_size=64, embed_size=50, epochs=5000,\n",
       "                        learning_rate=0.05, min_count=3, negative_samples=2,\n",
       "                        sort_vocab=True, use_sampling_table=True,\n",
       "                        window_size=5)"
      ]
     },
     "execution_count": 24,
     "metadata": {},
     "output_type": "execute_result"
    }
   ],
   "source": [
    "from transformers import KerasWord2VecVectorizer\n",
    "keras_word2vec_tr = KerasWord2VecVectorizer(embed_size=50, min_count=3, epochs=5000,\n",
    "                                            negative_samples=2)\n",
    "keras_word2vec_tr"
   ]
  },
  {
   "cell_type": "code",
   "execution_count": 25,
   "id": "593324c8",
   "metadata": {},
   "outputs": [],
   "source": [
    "# keras_w2v_xgb = Pipeline([\n",
    "#     ('w2v', keras_word2vec_tr), \n",
    "#     ('xgb', xgb)\n",
    "# ])\n",
    "\n",
    "# keras_w2v_xgb.fit(X_train['processed_text'], X_train['item_category'])"
   ]
  },
  {
   "cell_type": "code",
   "execution_count": 26,
   "id": "2cb4c815",
   "metadata": {},
   "outputs": [],
   "source": [
    "from sklearn.metrics import accuracy_score\n",
    "from sklearn.metrics import classification_report"
   ]
  },
  {
   "cell_type": "code",
   "execution_count": 27,
   "id": "fc74cd54",
   "metadata": {},
   "outputs": [],
   "source": [
    "# y_train_pred = keras_w2v_xgb.predict(X_train['processed_text'])\n",
    "# print('Training set accuracy %s' % accuracy_score(X_train['item_category'], y_train_pred))\n",
    "# confusion_matrix(X_train['item_category'], y_train_pred)"
   ]
  },
  {
   "cell_type": "code",
   "execution_count": 28,
   "id": "61ec4389",
   "metadata": {},
   "outputs": [],
   "source": [
    "# y_test_pred = keras_w2v_xgb.predict(X_test['processed_text'])\n",
    "# print('Test set accuracy %s' % accuracy_score(X_test['item_category'], y_test_pred))\n",
    "# print(classification_report(X_test['item_category'], y_test_pred))\n"
   ]
  },
  {
   "cell_type": "code",
   "execution_count": 29,
   "id": "177a6185",
   "metadata": {},
   "outputs": [],
   "source": [
    "rf_clf = RandomForestClassifier(random_state=1,class_weight= 'balanced' )"
   ]
  },
  {
   "cell_type": "code",
   "execution_count": 30,
   "id": "653a7c0f",
   "metadata": {},
   "outputs": [
    {
     "name": "stderr",
     "output_type": "stream",
     "text": [
      "  0%|          | 0/5000 [00:00<?, ?it/s]/Users/jghosh2/Documents/my-notebook/Tax_ml_poc/code/transformers/keras_word2vec.py:214: VisibleDeprecationWarning: Creating an ndarray from ragged nested sequences (which is a list-or-tuple of lists-or-tuples-or ndarrays with different lengths or shapes) is deprecated. If you meant to do this, you must specify 'dtype=object' when creating the ndarray\n",
      "  rand_indexed_texts = np.random.choice(indexed_texts)\n",
      "100%|██████████| 5000/5000 [36:09<00:00,  2.30it/s] \n",
      "/opt/anaconda3/envs/py365/lib/python3.6/site-packages/sklearn/ensemble/forest.py:245: FutureWarning: The default value of n_estimators will change from 10 in version 0.20 to 100 in 0.22.\n",
      "  \"10 in version 0.20 to 100 in 0.22.\", FutureWarning)\n"
     ]
    },
    {
     "data": {
      "text/plain": [
       "Pipeline(memory=None,\n",
       "         steps=[('w2v',\n",
       "                 KerasWord2VecVectorizer(batch_size=64, embed_size=50,\n",
       "                                         epochs=5000, learning_rate=0.05,\n",
       "                                         min_count=3, negative_samples=2,\n",
       "                                         sort_vocab=True,\n",
       "                                         use_sampling_table=True,\n",
       "                                         window_size=5)),\n",
       "                ('clf',\n",
       "                 RandomForestClassifier(bootstrap=True, class_weight='balanced',\n",
       "                                        criterion='gini', max_depth=None,\n",
       "                                        max_features='auto',\n",
       "                                        max_leaf_nodes=None,\n",
       "                                        min_impurity_decrease=0.0,\n",
       "                                        min_impurity_split=None,\n",
       "                                        min_samples_leaf=1, min_samples_split=2,\n",
       "                                        min_weight_fraction_leaf=0.0,\n",
       "                                        n_estimators=10, n_jobs=None,\n",
       "                                        oob_score=False, random_state=1,\n",
       "                                        verbose=0, warm_start=False))],\n",
       "         verbose=False)"
      ]
     },
     "execution_count": 30,
     "metadata": {},
     "output_type": "execute_result"
    }
   ],
   "source": [
    "keras_w2v_rf_clf = Pipeline([\n",
    "    ('w2v', keras_word2vec_tr), \n",
    "    ('clf', rf_clf)\n",
    "])\n",
    "\n",
    "keras_w2v_rf_clf.fit(X_train['processed_text'], X_train['target'])"
   ]
  },
  {
   "cell_type": "code",
   "execution_count": 31,
   "id": "99bee0b4",
   "metadata": {},
   "outputs": [
    {
     "name": "stdout",
     "output_type": "stream",
     "text": [
      "Training set accuracy 0.9722859934057883\n"
     ]
    }
   ],
   "source": [
    "y_train_pred = keras_w2v_rf_clf.predict(X_train['processed_text'])\n",
    "print('Training set accuracy %s' % accuracy_score(X_train['target'], y_train_pred))\n",
    "# confusion_matrix(X_train['item_category'], y_train_pred)"
   ]
  },
  {
   "cell_type": "code",
   "execution_count": 32,
   "id": "b06efd10",
   "metadata": {},
   "outputs": [
    {
     "name": "stdout",
     "output_type": "stream",
     "text": [
      "Test set accuracy 0.6031017218219563\n"
     ]
    },
    {
     "name": "stderr",
     "output_type": "stream",
     "text": [
      "/opt/anaconda3/envs/py365/lib/python3.6/site-packages/sklearn/metrics/classification.py:1437: UndefinedMetricWarning: Precision and F-score are ill-defined and being set to 0.0 in labels with no predicted samples.\n",
      "  'precision', 'predicted', average, warn_for)\n",
      "/opt/anaconda3/envs/py365/lib/python3.6/site-packages/sklearn/metrics/classification.py:1439: UndefinedMetricWarning: Recall and F-score are ill-defined and being set to 0.0 in labels with no true samples.\n",
      "  'recall', 'true', average, warn_for)\n"
     ]
    },
    {
     "name": "stdout",
     "output_type": "stream",
     "text": [
      "                                                                                        precision    recall  f1-score   support\n",
      "\n",
      "                                                           CAT_ALCOHOL,TEMP_COLD:109,1       0.24      0.21      0.22       124\n",
      "                                                         CAT_ALCOHOL,TEMP_HEATED:109,1       0.41      0.47      0.44      1476\n",
      "                                                       CAT_ALCOHOL,TEMP_UNHEATED:109,1       0.14      0.11      0.12       298\n",
      "                                                                   CAT_ANTI_FREEZE:774       0.00      0.00      0.00         2\n",
      "                                                                  CAT_BABY_FORMULA:515       0.11      1.00      0.20         1\n",
      "                                                                    CAT_BABY_WIPES:513       0.08      0.14      0.11         7\n",
      "                                                       CAT_BAKERY_ITEM,TEMP_COLD:562,1       0.00      0.00      0.00         0\n",
      "                                                   CAT_BAKERY_ITEM,TEMP_UNHEATED:562,1       0.00      0.00      0.00         1\n",
      "                                                                   CAT_BAKERY_ITEM:562       0.12      0.17      0.14       125\n",
      "                                         CAT_BAKERY_ITEM_GROCERY_STORE,TEMP_COLD:558,1       0.00      0.00      0.00         1\n",
      "                                                     CAT_BAKERY_ITEM_GROCERY_STORE:558       0.21      0.27      0.24       230\n",
      "                                                                      CAT_BANDAGES:523       0.30      0.56      0.39        18\n",
      "                                                                 CAT_BATHING_SUITS:502       0.00      0.00      0.00         0\n",
      "                                                                     CAT_BATTERIES:510       0.45      0.72      0.56        40\n",
      "                                                              CAT_BEER,TEMP_COLD:533,1       0.45      0.28      0.35       237\n",
      "                                                          CAT_BEER,TEMP_UNHEATED:533,1       0.00      0.00      0.00        11\n",
      "                                                                          CAT_BEER:533       0.61      0.79      0.69      2727\n",
      "                                                                  CAT_BREATH_MINTS:559       0.37      0.44      0.40       251\n",
      "                                                             CAT_CANDY,TEMP_COLD:108,1       0.00      0.00      0.00         1\n",
      "                                                           CAT_CANDY,TEMP_HEATED:108,1       0.30      0.42      0.35       996\n",
      "                                                         CAT_CANDY,TEMP_UNHEATED:108,1       0.36      0.35      0.36        82\n",
      "                                            CAT_CANDY,TRAIT_FLOUR,TEMP_HEATED:108,61,1       0.31      0.30      0.30       121\n",
      "                                                 CAT_CANDY_COATED_NUTS,TEMP_COLD:704,1       0.00      0.00      0.00         1\n",
      "                                             CAT_CANDY_COATED_NUTS,TEMP_UNHEATED:704,1       0.00      0.00      0.00         6\n",
      "                                                             CAT_CANDY_COATED_NUTS:704       0.30      0.30      0.30       197\n",
      "                                                           CAT_CHARCOAL_BRIQUETTES:555       0.67      0.25      0.36         8\n",
      "                                                         CAT_CHOCOLATE,TEMP_COLD:706,1       0.00      0.00      0.00         1\n",
      "                                                       CAT_CHOCOLATE,TEMP_HEATED:706,1       0.00      0.00      0.00         1\n",
      "                                                     CAT_CHOCOLATE,TEMP_UNHEATED:706,1       0.38      0.57      0.45        30\n",
      "                                                                     CAT_CHOCOLATE:706       0.29      0.34      0.32       200\n",
      "                                                                         CAT_CIDER:710       0.48      0.17      0.25        84\n",
      "                                                                      CAT_CLOTHING:503       0.77      0.75      0.76       330\n",
      "                                       CAT_COFFEE,CONTAINER_BOTTLED,TEMP_COLD:116,11,1       0.17      0.33      0.22         3\n",
      "                                     CAT_COFFEE,CONTAINER_BOTTLED,TEMP_HEATED:116,11,1       0.50      0.53      0.52       103\n",
      "                                                                 CAT_COMP_HARDWARE:508       0.00      0.00      0.00         1\n",
      "                                                       CAT_CONDOMS,TEMP_UNHEATED:516,1       0.00      0.00      0.00         2\n",
      "                                                                       CAT_CONDOMS:516       0.60      0.48      0.53        67\n",
      "                                                 CAT_CONFECTIONARY,TEMP_UNHEATED:707,1       1.00      0.20      0.33        10\n",
      "                                                                 CAT_CONFECTIONARY:707       0.28      0.28      0.28       405\n",
      "                                                         CAT_CONTACT_LENS_SOLUTION:543       0.25      0.33      0.29         3\n",
      "                                                                      CAT_COSTUMES:504       0.87      0.83      0.85        24\n",
      "                                                      CAT_DELI_PLATTER,TEMP_COLD:102,1       0.00      0.00      0.00         1\n",
      "                                                    CAT_DELI_PLATTER,TEMP_HEATED:102,1       0.00      0.00      0.00        10\n",
      "                                                                       CAT_DIAPERS:512       0.72      0.68      0.70        19\n",
      "                                                             CAT_DISPOSABLE_GLOVES:505       0.00      0.00      0.00         2\n",
      "                                 CAT_ENERGY_DRINK,CONTAINER_BOTTLED,TEMP_COLD:113,11,1       0.15      0.26      0.19        23\n",
      "                               CAT_ENERGY_DRINK,CONTAINER_BOTTLED,TEMP_HEATED:113,11,1       0.59      0.60      0.60       572\n",
      "                             CAT_ENERGY_DRINK,CONTAINER_BOTTLED,TEMP_UNHEATED:113,11,1       0.00      0.00      0.00         3\n",
      "                                                                    CAT_ENGINE_OIL:794       0.50      0.50      0.50         4\n",
      "                                     CAT_FEMININE_HYGIENE_PRODUCTS,TEMP_UNHEATED:544,1       0.00      0.00      0.00         1\n",
      "                                                     CAT_FEMININE_HYGIENE_PRODUCTS:544       0.57      0.34      0.42        77\n",
      "                                                                    CAT_FERTILIZER:551       0.83      0.59      0.69        32\n",
      "                                                                      CAT_FIREWOOD:553       0.00      0.00      0.00         5\n",
      "                                                                CAT_FIRST_AID_KITS:522       0.60      0.33      0.43         9\n",
      "                                                                    CAT_FLASHLIGHT:795       0.00      0.00      0.00         1\n",
      "                                                    CAT_FOOD_BY_WT_VOL,TEMP_COLD:103,1       1.00      0.14      0.25         7\n",
      "                                                  CAT_FOOD_BY_WT_VOL,TEMP_HEATED:103,1       0.17      0.25      0.20         4\n",
      "                                                CAT_FOOD_BY_WT_VOL,TEMP_UNHEATED:103,1       0.61      0.73      0.67        15\n",
      "                                                                      CAT_FOOTWEAR:507       0.88      0.88      0.88        16\n",
      "                                                                CAT_FORTIFIED_WINE:711       0.31      0.11      0.17        35\n",
      "                                              CAT_FRUIT_VEG_PLANTS,TEMP_UNHEATED:552,1       0.00      0.00      0.00         1\n",
      "                                                              CAT_FRUIT_VEG_PLANTS:552       0.34      0.25      0.29       100\n",
      "                                                                    CAT_GIFT_CARDS:529       1.00      0.46      0.63        24\n",
      "                                                                        CAT_GLOVES:796       0.00      0.00      0.00         1\n",
      "                                                           CAT_GUM,TEMP_UNHEATED:705,1       0.00      0.00      0.00         3\n",
      "                                                                           CAT_GUM:705       0.39      0.24      0.29       102\n",
      "                                                CAT_HAND_SANITIZER,TEMP_UNHEATED:545,1       0.00      0.00      0.00         1\n",
      "                                                                CAT_HAND_SANITIZER:545       0.60      0.45      0.51        20\n",
      "                                                             CAT_ICE,TEMP_HEATED:118,1       0.68      0.56      0.61        27\n",
      "                                                          CAT_ICECREAM,TEMP_COLD:105,1       0.00      0.00      0.00         7\n",
      "                                                        CAT_ICECREAM,TEMP_HEATED:105,1       0.23      0.20      0.22        35\n",
      "                                                               CAT_ICE_CREAM_PINTS:825       0.00      0.00      0.00         7\n",
      "                                               CAT_ICE_MORE_THAN_10LBS,TEMP_COLD:713,1       0.00      0.00      0.00         0\n",
      "                                                           CAT_ICE_MORE_THAN_10LBS:713       0.43      0.75      0.55         4\n",
      "                                                                  CAT_INSECTICIDES:550       0.00      0.00      0.00         2\n",
      "                                            CAT_JUICE,TRAIT_PCT_100,TEMP_COLD:110,51,1       0.55      0.35      0.43        31\n",
      "                                          CAT_JUICE,TRAIT_PCT_100,TEMP_HEATED:110,51,1       0.48      0.47      0.47       482\n",
      "                                        CAT_JUICE,TRAIT_PCT_100,TEMP_UNHEATED:110,51,1       0.00      0.00      0.00         0\n",
      "                                         CAT_JUICE,TRAIT_PCT_25TO49,TEMP_COLD:110,58,1       0.00      0.00      0.00         1\n",
      "                                         CAT_JUICE,TRAIT_PCT_50TO69,TEMP_COLD:110,59,1       0.00      0.00      0.00         1\n",
      "                                          CAT_JUICE,TRAIT_PCT_5TO24,TEMP_COLD:110,57,1       1.00      0.33      0.50         3\n",
      "                                                          CAT_JUICE_NON_CARBONATED:537       0.47      0.35      0.40       329\n",
      "                                                   CAT_JUICE_NON_CARBONATED_50TO25:708       0.00      0.00      0.00        11\n",
      "                                                   CAT_JUICE_NON_CARBONATED_99TO51:709       0.00      0.00      0.00         2\n",
      "                                                                 CAT_LIGHTER_FLUID:554       0.00      0.00      0.00         3\n",
      "                                                        CAT_LIP_BALM,TEMP_HEATED:546,1       0.00      0.00      0.00         1\n",
      "                                                                      CAT_LIP_BALM:546       0.53      0.25      0.34        36\n",
      "                                                            CAT_LIQUOR,TEMP_COLD:535,1       0.19      0.17      0.18        24\n",
      "                                                          CAT_LIQUOR,TEMP_HEATED:535,1       0.20      0.17      0.18        12\n",
      "                                                        CAT_LIQUOR,TEMP_UNHEATED:535,1       0.44      0.28      0.34       222\n",
      "                                                                        CAT_LIQUOR:535       0.79      0.90      0.84      7126\n",
      "                                                                  CAT_MARSHMALLOWS:560       1.00      0.33      0.50         6\n",
      "                                               CAT_MEDICATED_ITEMS,TEMP_UNHEATED:525,1       0.00      0.00      0.00         1\n",
      "                                                               CAT_MEDICATED_ITEMS:525       0.09      0.03      0.04        35\n",
      "                                   CAT_MILK_COCOA,CONTAINER_BOTTLED,TEMP_COLD:117,11,1       0.50      0.29      0.36         7\n",
      "                                 CAT_MILK_COCOA,CONTAINER_BOTTLED,TEMP_HEATED:117,11,1       0.59      0.47      0.52       204\n",
      "                                                         CAT_MILK_SUBS,TEMP_COLD:532,1       0.00      0.00      0.00         1\n",
      "                                                                     CAT_MILK_SUBS:532       0.42      0.31      0.36        16\n",
      "                                                            CAT_NON_ALCOHOLIC_BEER:536       0.40      0.06      0.11        31\n",
      "                                                        CAT_NON_FOOD,TEMP_HEATED:119,1       0.00      0.00      0.00         2\n",
      "                                                      CAT_NON_FOOD,TEMP_UNHEATED:119,1       0.25      0.11      0.15         9\n",
      "                                                                   CAT_NON_TAXABLE:528       0.71      0.33      0.45        15\n",
      "                                                            CAT_NUTRITIONAL_SHAKES:715       0.24      0.08      0.12        50\n",
      "                                          CAT_NUTRITION_SUPPLEMENT,TEMP_UNHEATED:771,1       0.73      0.58      0.65        19\n",
      "                                                          CAT_NUTRITION_SUPPLEMENT:771       0.46      0.30      0.36        73\n",
      "                                                  CAT_OTC_MEDICATION,TEMP_HEATED:521,1       0.00      0.00      0.00         1\n",
      "                                                CAT_OTC_MEDICATION,TEMP_UNHEATED:521,1       0.00      0.00      0.00         1\n",
      "                                                                CAT_OTC_MEDICATION:521       0.38      0.24      0.30       124\n",
      "                                                       CAT_OTC_MEDICATION_ANTACIDS:761       0.73      0.22      0.34        50\n",
      "                                                 CAT_OTC_MEDICATION_ANTIDIARRHEALS:762       0.67      0.29      0.40         7\n",
      "                                                 CAT_OTC_MEDICATION_ANTIHISTAMINES:763       0.27      0.22      0.24        27\n",
      "                                                    CAT_OTC_MEDICATION_ASTRINGENTS:775       0.00      0.00      0.00         2\n",
      "                                                  CAT_OTC_MEDICATION_COLD_REMEDIES:764       0.33      0.13      0.19        67\n",
      "                                                  CAT_OTC_MEDICATION_DECONGESTANTS:765       0.20      0.10      0.13        31\n",
      "                                      CAT_OTC_MEDICATION_ESTROGENS,TEMP_UNHEATED:767,1       0.00      0.00      0.00         1\n",
      "                                                      CAT_OTC_MEDICATION_ESTROGENS:767       0.00      0.00      0.00         0\n",
      "                                                      CAT_OTC_MEDICATION_IBUPROFEN:768       0.65      0.40      0.49        43\n",
      "                                                      CAT_OTC_MEDICATION_LAXATIVES:769       0.33      0.12      0.18         8\n",
      "                                            CAT_OTC_MEDICATION_NASAL_DECONGESTANTS:770       0.00      0.00      0.00        12\n",
      "                                     CAT_OTC_MEDICATION_STIMULANTS,TEMP_UNHEATED:772,1       0.00      0.00      0.00         1\n",
      "                                                                     CAT_PACIFIERS:514       1.00      0.40      0.57         5\n",
      "                                                                CAT_PAPER_PRODUCTS:541       0.00      0.00      0.00         1\n",
      "                                         CAT_PAPER_PRODUCTS_DISPOSABLE_KITCHENWARE:789       0.35      0.12      0.18        50\n",
      "                                              CAT_PAPER_PRODUCTS_DISPOSABLE_STRAWS:788       0.00      0.00      0.00         1\n",
      "                                                 CAT_PAPER_PRODUCTS_FACIAL_TISSUES:753       1.00      0.40      0.57        10\n",
      "                                                  CAT_PAPER_PRODUCTS_PAPER_NAPKINS:754       1.00      0.14      0.25         7\n",
      "                                                   CAT_PAPER_PRODUCTS_PAPER_TOWELS:755       0.20      0.06      0.09        17\n",
      "                                                 CAT_PAPER_PRODUCTS_PERSONAL_WIPES:787       0.00      0.00      0.00         7\n",
      "                                                           CAT_PERSONAL_LUBRICANTS:517       1.00      0.90      0.95        10\n",
      "                                                               CAT_PETROLEUM_JELLY:524       1.00      0.33      0.50         3\n",
      "                                                          CAT_PET_FOOD,TEMP_COLD:526,1       1.00      0.33      0.50         9\n",
      "                                                                      CAT_PET_FOOD:526       0.77      0.89      0.82       761\n",
      "                                              CAT_PORTIONED_SNACKS,TEMP_UNHEATED:561,1       0.00      0.00      0.00         1\n",
      "                                                              CAT_PORTIONED_SNACKS:561       0.00      0.00      0.00         3\n",
      "                                                                       CAT_POSTAGE:527       0.00      0.00      0.00         0\n",
      "                             CAT_POWDERED_DRINK,CONTAINER_BOTTLED,TEMP_HEATED:120,11,1       0.00      0.00      0.00         7\n",
      "                           CAT_POWDERED_DRINK,CONTAINER_BOTTLED,TEMP_UNHEATED:120,11,1       0.00      0.00      0.00         3\n",
      "                                         CAT_POWDERED_DRINK,CONTAINER_BOTTLED:120,11,1       0.00      0.00      0.00         1\n",
      "                                                CAT_PREGNANCY_TEST,TEMP_UNHEATED:518,1       0.00      0.00      0.00         1\n",
      "                                                                CAT_PREGNANCY_TEST:518       0.00      0.00      0.00         7\n",
      "                                 CAT_PREPACKAGED_FOOD,CAT_ICECREAM,TEMP_COLD:106,105,1       0.00      0.00      0.00         7\n",
      "                               CAT_PREPACKAGED_FOOD,CAT_ICECREAM,TEMP_HEATED:106,105,1       0.64      0.67      0.65       466\n",
      "                                    CAT_PREPACKAGED_FOOD,CAT_SNACK,TEMP_COLD:106,107,1       0.00      0.00      0.00         6\n",
      "                                  CAT_PREPACKAGED_FOOD,CAT_SNACK,TEMP_HEATED:106,107,1       0.37      0.30      0.33       452\n",
      "                                CAT_PREPACKAGED_FOOD,CAT_SNACK,TEMP_UNHEATED:106,107,1       0.33      0.34      0.34        68\n",
      "                                                  CAT_PREPACKAGED_FOOD,TEMP_COLD:106,1       0.75      0.19      0.31        31\n",
      "                                                CAT_PREPACKAGED_FOOD,TEMP_HEATED:106,1       0.33      0.46      0.38      1406\n",
      "                                              CAT_PREPACKAGED_FOOD,TEMP_UNHEATED:106,1       0.36      0.17      0.23        29\n",
      "                                                       CAT_PREPACKAGED_FOOD_BUTTER:717       0.50      0.28      0.36        25\n",
      "                                            CAT_PREPACKAGED_FOOD_CAKES,TEMP_COLD:718,1       0.00      0.00      0.00         7\n",
      "                                        CAT_PREPACKAGED_FOOD_CAKES,TEMP_UNHEATED:718,1       0.00      0.00      0.00         1\n",
      "                                                        CAT_PREPACKAGED_FOOD_CAKES:718       0.26      0.15      0.19        95\n",
      "                                                 CAT_PREPACKAGED_FOOD_CANNED_BEANS:719       0.50      0.18      0.27        22\n",
      "                                 CAT_PREPACKAGED_FOOD_CANNED_FRUIT,TEMP_UNHEATED:720,1       0.75      1.00      0.86         3\n",
      "                                                 CAT_PREPACKAGED_FOOD_CANNED_FRUIT:720       0.00      0.00      0.00         9\n",
      "                                            CAT_PREPACKAGED_FOOD_CANNED_VEGETABLES:721       0.00      0.00      0.00        10\n",
      "                                      CAT_PREPACKAGED_FOOD_CEREALS,TEMP_UNHEATED:722,1       0.00      0.00      0.00         1\n",
      "                                                      CAT_PREPACKAGED_FOOD_CEREALS:722       0.56      0.25      0.34        73\n",
      "                                           CAT_PREPACKAGED_FOOD_CHEESE,TEMP_COLD:723,1       0.00      0.00      0.00         1\n",
      "                                       CAT_PREPACKAGED_FOOD_CHEESE,TEMP_UNHEATED:723,1       0.00      0.00      0.00         0\n",
      "                                                       CAT_PREPACKAGED_FOOD_CHEESE:723       0.53      0.38      0.44       104\n",
      "                                   CAT_PREPACKAGED_FOOD_CONDIMENTS,TEMP_UNHEATED:740,1       0.00      0.00      0.00         2\n",
      "                                                   CAT_PREPACKAGED_FOOD_CONDIMENTS:740       0.30      0.22      0.25       439\n",
      "                                                     CAT_PREPACKAGED_FOOD_CRACKERS:724       0.45      0.21      0.29        94\n",
      "                                         CAT_PREPACKAGED_FOOD_DESSERTS,TEMP_COLD:725,1       0.00      0.00      0.00         3\n",
      "                                                     CAT_PREPACKAGED_FOOD_DESSERTS:725       0.33      0.18      0.23       104\n",
      "                                  CAT_PREPACKAGED_FOOD_EDIBLE_OILS,TEMP_UNHEATED:727,1       0.00      0.00      0.00         0\n",
      "                                                  CAT_PREPACKAGED_FOOD_EDIBLE_OILS:727       0.41      0.28      0.33        47\n",
      "                                                         CAT_PREPACKAGED_FOOD_EGGS:728       0.50      0.18      0.26        17\n",
      "                                                  CAT_PREPACKAGED_FOOD_FRESH_BREAD:729       0.29      0.06      0.10        32\n",
      "                                 CAT_PREPACKAGED_FOOD_FRESH_FRUITS,TEMP_UNHEATED:752,1       0.00      0.00      0.00         1\n",
      "                                                 CAT_PREPACKAGED_FOOD_FRESH_FRUITS:752       0.24      0.13      0.17        67\n",
      "                                                        CAT_PREPACKAGED_FOOD_HONEY:731       0.00      0.00      0.00         5\n",
      "                                               CAT_PREPACKAGED_FOOD_ICE_CREAM_CONE:726       0.00      0.00      0.00         6\n",
      "                                                  CAT_PREPACKAGED_FOOD_INFANT_FOOD:732       0.00      0.00      0.00         2\n",
      "                                               CAT_PREPACKAGED_FOOD_INSTANT_COFFEE:733       0.45      0.21      0.29        48\n",
      "                                                         CAT_PREPACKAGED_FOOD_JAMS:734       0.75      0.19      0.30        32\n",
      "                                  CAT_PREPACKAGED_FOOD_NUT_SPREADS,TEMP_UNHEATED:735,1       0.00      0.00      0.00         1\n",
      "                                                  CAT_PREPACKAGED_FOOD_NUT_SPREADS:735       0.64      0.27      0.38        26\n",
      "                                                        CAT_PREPACKAGED_FOOD_PASTA:737       0.43      0.22      0.29       113\n",
      "                                                      CAT_PREPACKAGED_FOOD_PICKLES:736       0.56      0.10      0.18        48\n",
      "                                      CAT_PREPACKAGED_FOOD_POPCORN,TEMP_UNHEATED:738,1       0.00      0.00      0.00         1\n",
      "                                                      CAT_PREPACKAGED_FOOD_POPCORN:738       0.50      0.15      0.23        20\n",
      "                                      CAT_PREPACKAGED_FOOD_SALT_PRESERVED_SEA_FOOD:739       0.00      0.00      0.00         2\n",
      "                                    CAT_PREPACKAGED_FOOD_SEASONING,TEMP_UNHEATED:741,1       0.00      0.00      0.00         6\n",
      "                                                    CAT_PREPACKAGED_FOOD_SEASONING:741       0.49      0.27      0.35       157\n",
      "                                CAT_PREPACKAGED_FOOD_SHELF_STABLE_MILK,TEMP_COLD:742,1       0.00      0.00      0.00         1\n",
      "                                            CAT_PREPACKAGED_FOOD_SHELF_STABLE_MILK:742       0.00      0.00      0.00         4\n",
      "                                        CAT_PREPACKAGED_FOOD_SHELF_STABLE_POTATOES:743       0.00      0.00      0.00        11\n",
      "                                CAT_PREPACKAGED_FOOD_SHELF_STABLE_SOUP,TEMP_COLD:744,1       0.00      0.00      0.00         2\n",
      "                                            CAT_PREPACKAGED_FOOD_SHELF_STABLE_SOUP:744       0.65      0.58      0.61        45\n",
      "                                  CAT_PREPACKAGED_FOOD_SNACK_CHIPS,TEMP_UNHEATED:746,1       0.28      0.16      0.20        32\n",
      "                                                  CAT_PREPACKAGED_FOOD_SNACK_CHIPS:746       0.53      0.54      0.53       975\n",
      "                                CAT_PREPACKAGED_FOOD_SNACK_COOKIES,TEMP_UNHEATED:749,1       0.00      0.00      0.00         4\n",
      "                                                CAT_PREPACKAGED_FOOD_SNACK_COOKIES:749       0.47      0.28      0.35       327\n",
      "                                            CAT_PREPACKAGED_FOOD_SNACK_HEALTH_BARS:730       0.65      0.54      0.59       124\n",
      "                                                   CAT_PREPACKAGED_FOOD_SNACK_NUTS:747       0.54      0.25      0.34       175\n",
      "                                             CAT_PREPACKAGED_FOOD_SNACK_SNACK_BARS:748       0.57      0.09      0.15        45\n",
      "                                                    CAT_PREPARED_DRINK,TEMP_COLD:114,1       0.12      0.08      0.09        26\n",
      "                                                  CAT_PREPARED_DRINK,TEMP_HEATED:114,1       0.48      0.38      0.42       518\n",
      "                                                CAT_PREPARED_DRINK,TEMP_UNHEATED:114,1       0.00      0.00      0.00         2\n",
      "                                                     CAT_PREPARED_FOOD,TEMP_COLD:101,1       0.48      0.18      0.26        68\n",
      "                                                   CAT_PREPARED_FOOD,TEMP_HEATED:101,1       0.62      0.70      0.66      2363\n",
      "                                                 CAT_PREPARED_FOOD,TEMP_UNHEATED:101,1       0.11      0.04      0.05        57\n",
      "                                     CAT_PREPARED_FOOD_PREPARED_SALADS,TEMP_COLD:750,1       0.56      0.36      0.43        14\n",
      "                                 CAT_PREPARED_FOOD_PREPARED_SALADS,TEMP_UNHEATED:750,1       0.00      0.00      0.00         1\n",
      "                                                 CAT_PREPARED_FOOD_PREPARED_SALADS:750       0.59      0.23      0.33       102\n",
      "                                CAT_PREPARED_FOOD_PREPARED_SIDE_DISHES,TEMP_COLD:751,1       0.00      0.00      0.00         1\n",
      "                                            CAT_PREPARED_FOOD_PREPARED_SIDE_DISHES:751       0.49      0.15      0.23       174\n",
      "                                                                       CAT_PROPANE:556       0.00      0.00      0.00         1\n",
      "                                                           CAT_PROTECTIVE_CLOTHING:506       0.00      0.00      0.00         3\n",
      "                                                          CAT_SANDWICH,TEMP_COLD:104,1       1.00      0.57      0.73         7\n",
      "                                                        CAT_SANDWICH,TEMP_HEATED:104,1       0.17      0.05      0.07        22\n",
      "                                                      CAT_SANDWICH,TEMP_UNHEATED:104,1       0.00      0.00      0.00         2\n",
      "                                                               CAT_SCHOOL_SUPPLIES:511       0.50      0.11      0.18        28\n",
      "                                                       CAT_SCHOOL_SUPPLIES_MARKERS:756       0.00      0.00      0.00         4\n",
      "                                                     CAT_SCHOOL_SUPPLIES_NOTEBOOKS:757       0.00      0.00      0.00         2\n",
      "                                                       CAT_SCHOOL_SUPPLIES_PENCILS:758       0.00      0.00      0.00         0\n",
      "                                                          CAT_SCHOOL_SUPPLIES_PENS:759       0.00      0.00      0.00         1\n",
      "                                                                         CAT_SEEDS:557       0.79      0.49      0.60        84\n",
      "                                   CAT_SOFT_DRINK,CONTAINER_BOTTLED,TEMP_COLD:112,11,1       0.05      0.07      0.06        46\n",
      "                                 CAT_SOFT_DRINK,CONTAINER_BOTTLED,TEMP_HEATED:112,11,1       0.60      0.55      0.57      1195\n",
      "                               CAT_SOFT_DRINK,CONTAINER_BOTTLED,TEMP_UNHEATED:112,11,1       0.00      0.00      0.00         8\n",
      "                  CAT_SOFT_DRINK,TRAIT_NONCARB,CONTAINER_BOTTLED,TEMP_COLD:112,53,11,1       0.00      0.00      0.00         1\n",
      "                                                    CAT_SPARKLING_WINE,TEMP_COLD:716,1       0.00      0.00      0.00         4\n",
      "                                                  CAT_SPARKLING_WINE,TEMP_HEATED:716,1       0.00      0.00      0.00         1\n",
      "                                                CAT_SPARKLING_WINE,TEMP_UNHEATED:716,1       0.00      0.00      0.00         6\n",
      "                                                                CAT_SPARKLING_WINE:716       0.79      0.58      0.67       808\n",
      "                                                             CAT_SPORTING_CLOTHING:501       0.00      0.00      0.00         0\n",
      "                                                                     CAT_SUNSCREEN:547       0.50      0.33      0.40         6\n",
      "                                                       CAT_SUPPLEMENTS,TEMP_COLD:542,1       1.00      1.00      1.00         1\n",
      "                                                   CAT_SUPPLEMENTS,TEMP_UNHEATED:542,1       0.00      0.00      0.00         3\n",
      "                                                                   CAT_SUPPLEMENTS:542       0.69      0.36      0.47       118\n",
      "                                          CAT_TEA,CONTAINER_BOTTLED,TEMP_COLD:115,11,1       0.00      0.00      0.00         4\n",
      "                                        CAT_TEA,CONTAINER_BOTTLED,TEMP_HEATED:115,11,1       0.57      0.39      0.46       259\n",
      "                                                                  CAT_THERMOMETERS:808       0.00      0.00      0.00         4\n",
      "                                                                  CAT_TOILET_PAPER:540       0.50      0.21      0.29        24\n",
      "                                                                    CAT_TOOTHBRUSH:549       0.25      0.05      0.08        20\n",
      "                                                                    CAT_TOOTHPASTE:548       0.79      0.26      0.39        57\n",
      "                                                             CAT_TPP,TEMP_HEATED:531,1       0.00      0.00      0.00         2\n",
      "                                                           CAT_TPP,TEMP_UNHEATED:531,1       0.00      0.00      0.00         4\n",
      "                                                                           CAT_TPP:531       0.63      0.80      0.70      3048\n",
      "                                             CAT_TPP_AIR_FRESHENER,TEMP_UNHEATED:773,1       0.00      0.00      0.00         1\n",
      "                                                             CAT_TPP_AIR_FRESHENER:773       0.60      0.11      0.19        27\n",
      "                                                                 CAT_TPP_BATH_GELS:776       0.56      0.26      0.36        34\n",
      "                                                                  CAT_TPP_BLEACHES:777       0.50      0.20      0.29         5\n",
      "                                               CAT_TPP_BODY_LOTION,TEMP_UNHEATED:801,1       0.00      0.00      0.00         3\n",
      "                                                               CAT_TPP_BODY_LOTION:801       0.67      0.30      0.41       124\n",
      "                                                         CAT_TPP_CAMPING_EQUIPMENT:779       0.00      0.00      0.00         1\n",
      "                                                    CAT_TPP_CANDLE,TEMP_UNHEATED:780,1       0.00      0.00      0.00         2\n",
      "                                                                    CAT_TPP_CANDLE:780       0.82      0.46      0.59       112\n",
      "                                                        CAT_TPP_CIGARETTE_LIGHTERS:781       1.00      0.33      0.50         6\n",
      "                                                        CAT_TPP_CLEANING_EQUIPMENT:782       0.75      0.09      0.15        70\n",
      "                                                                     CAT_TPP_COMBS:800       0.00      0.00      0.00        20\n",
      "                                                                CAT_TPP_CONTAINERS:791       0.00      0.00      0.00         8\n",
      "                                                                 CAT_TPP_COSMETICS:783       0.72      0.40      0.51       178\n",
      "                                                              CAT_TPP_DENTAL_FLOSS:784       0.00      0.00      0.00         9\n",
      "                                                                CAT_TPP_DEODORANTS:785       0.61      0.17      0.27        65\n",
      "                                                     CAT_TPP_DISH_WASHING_PRODUCTS:786       0.71      0.22      0.33        23\n",
      "                                                             CAT_TPP_DRAIN_CLEANER:793       0.00      0.00      0.00         6\n",
      "                                                                CAT_TPP_DRINK_WARE:790       0.00      0.00      0.00         5\n",
      "                                                                CAT_TPP_HEADPHONES:803       0.00      0.00      0.00         5\n",
      "                                                          CAT_TPP_INSECT_REPELLENT:805       0.00      0.00      0.00         1\n",
      "                                          CAT_TPP_LAUNDRY_PRODUCTS,TEMP_UNHEATED:806,1       0.00      0.00      0.00         3\n",
      "                                                          CAT_TPP_LAUNDRY_PRODUCTS:806       0.55      0.12      0.20        49\n",
      "                                                     CAT_TPP_MASKS,TEMP_UNHEATED:807,1       0.00      0.00      0.00         1\n",
      "                                                                     CAT_TPP_MASKS:807       0.86      0.16      0.27        37\n",
      "                                                                CAT_TPP_MOUTH_WASH:809       0.40      0.12      0.19        16\n",
      "                                                             CAT_TPP_NAIL_CLIPPERS:810       0.00      0.00      0.00         3\n",
      "                                                       CAT_TPP_NAIL_POLISH_REMOVER:811       0.00      0.00      0.00         3\n",
      "                                                                  CAT_TPP_PERFUMES:812       0.97      0.84      0.90       140\n",
      "                                                             CAT_TPP_PLAYING_CARDS:813       0.00      0.00      0.00         0\n",
      "                                                                    CAT_TPP_RAZORS:814       0.50      0.10      0.17        20\n",
      "                                                             CAT_TPP_SCOURING_PADS:815       1.00      0.25      0.40         4\n",
      "                                                  CAT_TPP_SHAMPOOS,TEMP_UNHEATED:816,1       0.00      0.00      0.00         3\n",
      "                                                                  CAT_TPP_SHAMPOOS:816       0.70      0.39      0.50       322\n",
      "                                                            CAT_TPP_SHAVING_CREAMS:817       0.50      0.19      0.27        16\n",
      "                                        CAT_TPP_SKIN_CARE_PRODUCTS,TEMP_UNHEATED:818,1       0.60      0.30      0.40        20\n",
      "                                                        CAT_TPP_SKIN_CARE_PRODUCTS:818       0.59      0.32      0.41       263\n",
      "                                                                   CAT_TPP_SPONGES:819       0.00      0.00      0.00         2\n",
      "                                                                      CAT_TPP_TAPE:821       1.00      0.20      0.33         5\n",
      "                                                                      CAT_TPP_TOYS:822       0.64      0.36      0.46       397\n",
      "                                                                CAT_TPP_TRASH_BAGS:823       0.60      0.29      0.39        21\n",
      "                                                                 CAT_TPP_UMBRELLAS:824       0.00      0.00      0.00         1\n",
      "                                                                  CAT_TPP_UTENSILS:792       0.90      0.20      0.33        45\n",
      "       CAT_WATER,TRAIT_CARB,TRAIT_FLV_SWT,CONTAINER_BOTTLED,TEMP_HEATED:111,52,54,11,1       0.74      0.19      0.30        90\n",
      "     CAT_WATER,TRAIT_CARB,TRAIT_UNFLV_UNSWT,CONTAINER_BOTTLED,TEMP_COLD:111,52,55,11,1       0.00      0.00      0.00         2\n",
      "   CAT_WATER,TRAIT_CARB,TRAIT_UNFLV_UNSWT,CONTAINER_BOTTLED,TEMP_HEATED:111,52,55,11,1       0.62      0.33      0.43        60\n",
      "      CAT_WATER,TRAIT_NONCARB,TRAIT_FLV_SWT,CONTAINER_BOTTLED,TEMP_COLD:111,53,54,11,1       1.00      0.11      0.20         9\n",
      "    CAT_WATER,TRAIT_NONCARB,TRAIT_FLV_SWT,CONTAINER_BOTTLED,TEMP_HEATED:111,53,54,11,1       0.44      0.21      0.29        66\n",
      "  CAT_WATER,TRAIT_NONCARB,TRAIT_UNFLV_UNSWT,CONTAINER_BOTTLED,TEMP_COLD:111,53,55,11,1       0.00      0.00      0.00        17\n",
      "CAT_WATER,TRAIT_NONCARB,TRAIT_UNFLV_UNSWT,CONTAINER_BOTTLED,TEMP_HEATED:111,53,55,11,1       0.74      0.59      0.66       272\n",
      "                                                              CAT_WINE,TEMP_COLD:534,1       0.00      0.00      0.00        26\n",
      "                                                            CAT_WINE,TEMP_HEATED:534,1       0.00      0.00      0.00         2\n",
      "                                                          CAT_WINE,TEMP_UNHEATED:534,1       0.22      0.05      0.08       101\n",
      "                                                                          CAT_WINE:534       0.80      0.82      0.81      3864\n",
      "\n",
      "                                                                              accuracy                           0.60     40945\n",
      "                                                                             macro avg       0.31      0.19      0.22     40945\n",
      "                                                                          weighted avg       0.60      0.60      0.59     40945\n",
      "\n"
     ]
    }
   ],
   "source": [
    "y_test_pred = keras_w2v_rf_clf.predict(X_test['processed_text'])\n",
    "print('Test set accuracy %s' % accuracy_score(X_test['target'], y_test_pred))\n",
    "print(classification_report(X_test['target'], y_test_pred))\n"
   ]
  },
  {
   "cell_type": "code",
   "execution_count": 33,
   "id": "81b944cd",
   "metadata": {},
   "outputs": [
    {
     "ename": "TypeError",
     "evalue": "can't pickle weakref objects",
     "output_type": "error",
     "traceback": [
      "\u001b[0;31m---------------------------------------------------------------------------\u001b[0m",
      "\u001b[0;31mTypeError\u001b[0m                                 Traceback (most recent call last)",
      "\u001b[0;32m<ipython-input-33-5f031802f745>\u001b[0m in \u001b[0;36m<module>\u001b[0;34m\u001b[0m\n\u001b[1;32m      1\u001b[0m \u001b[0;32mimport\u001b[0m \u001b[0mjoblib\u001b[0m\u001b[0;34m\u001b[0m\u001b[0;34m\u001b[0m\u001b[0m\n\u001b[0;32m----> 2\u001b[0;31m \u001b[0mjoblib\u001b[0m\u001b[0;34m.\u001b[0m\u001b[0mdump\u001b[0m\u001b[0;34m(\u001b[0m\u001b[0mkeras_w2v_rf_clf\u001b[0m\u001b[0;34m,\u001b[0m \u001b[0;34m\"items_word2vec_model_dsw_2.joblib\"\u001b[0m\u001b[0;34m)\u001b[0m\u001b[0;34m\u001b[0m\u001b[0;34m\u001b[0m\u001b[0m\n\u001b[0m",
      "\u001b[0;32m/opt/anaconda3/envs/py365/lib/python3.6/site-packages/joblib/numpy_pickle.py\u001b[0m in \u001b[0;36mdump\u001b[0;34m(value, filename, compress, protocol, cache_size)\u001b[0m\n\u001b[1;32m    503\u001b[0m     \u001b[0;32melif\u001b[0m \u001b[0mis_filename\u001b[0m\u001b[0;34m:\u001b[0m\u001b[0;34m\u001b[0m\u001b[0;34m\u001b[0m\u001b[0m\n\u001b[1;32m    504\u001b[0m         \u001b[0;32mwith\u001b[0m \u001b[0mopen\u001b[0m\u001b[0;34m(\u001b[0m\u001b[0mfilename\u001b[0m\u001b[0;34m,\u001b[0m \u001b[0;34m'wb'\u001b[0m\u001b[0;34m)\u001b[0m \u001b[0;32mas\u001b[0m \u001b[0mf\u001b[0m\u001b[0;34m:\u001b[0m\u001b[0;34m\u001b[0m\u001b[0;34m\u001b[0m\u001b[0m\n\u001b[0;32m--> 505\u001b[0;31m             \u001b[0mNumpyPickler\u001b[0m\u001b[0;34m(\u001b[0m\u001b[0mf\u001b[0m\u001b[0;34m,\u001b[0m \u001b[0mprotocol\u001b[0m\u001b[0;34m=\u001b[0m\u001b[0mprotocol\u001b[0m\u001b[0;34m)\u001b[0m\u001b[0;34m.\u001b[0m\u001b[0mdump\u001b[0m\u001b[0;34m(\u001b[0m\u001b[0mvalue\u001b[0m\u001b[0;34m)\u001b[0m\u001b[0;34m\u001b[0m\u001b[0;34m\u001b[0m\u001b[0m\n\u001b[0m\u001b[1;32m    506\u001b[0m     \u001b[0;32melse\u001b[0m\u001b[0;34m:\u001b[0m\u001b[0;34m\u001b[0m\u001b[0;34m\u001b[0m\u001b[0m\n\u001b[1;32m    507\u001b[0m         \u001b[0mNumpyPickler\u001b[0m\u001b[0;34m(\u001b[0m\u001b[0mfilename\u001b[0m\u001b[0;34m,\u001b[0m \u001b[0mprotocol\u001b[0m\u001b[0;34m=\u001b[0m\u001b[0mprotocol\u001b[0m\u001b[0;34m)\u001b[0m\u001b[0;34m.\u001b[0m\u001b[0mdump\u001b[0m\u001b[0;34m(\u001b[0m\u001b[0mvalue\u001b[0m\u001b[0;34m)\u001b[0m\u001b[0;34m\u001b[0m\u001b[0;34m\u001b[0m\u001b[0m\n",
      "\u001b[0;32m/opt/anaconda3/envs/py365/lib/python3.6/pickle.py\u001b[0m in \u001b[0;36mdump\u001b[0;34m(self, obj)\u001b[0m\n\u001b[1;32m    407\u001b[0m         \u001b[0;32mif\u001b[0m \u001b[0mself\u001b[0m\u001b[0;34m.\u001b[0m\u001b[0mproto\u001b[0m \u001b[0;34m>=\u001b[0m \u001b[0;36m4\u001b[0m\u001b[0;34m:\u001b[0m\u001b[0;34m\u001b[0m\u001b[0;34m\u001b[0m\u001b[0m\n\u001b[1;32m    408\u001b[0m             \u001b[0mself\u001b[0m\u001b[0;34m.\u001b[0m\u001b[0mframer\u001b[0m\u001b[0;34m.\u001b[0m\u001b[0mstart_framing\u001b[0m\u001b[0;34m(\u001b[0m\u001b[0;34m)\u001b[0m\u001b[0;34m\u001b[0m\u001b[0;34m\u001b[0m\u001b[0m\n\u001b[0;32m--> 409\u001b[0;31m         \u001b[0mself\u001b[0m\u001b[0;34m.\u001b[0m\u001b[0msave\u001b[0m\u001b[0;34m(\u001b[0m\u001b[0mobj\u001b[0m\u001b[0;34m)\u001b[0m\u001b[0;34m\u001b[0m\u001b[0;34m\u001b[0m\u001b[0m\n\u001b[0m\u001b[1;32m    410\u001b[0m         \u001b[0mself\u001b[0m\u001b[0;34m.\u001b[0m\u001b[0mwrite\u001b[0m\u001b[0;34m(\u001b[0m\u001b[0mSTOP\u001b[0m\u001b[0;34m)\u001b[0m\u001b[0;34m\u001b[0m\u001b[0;34m\u001b[0m\u001b[0m\n\u001b[1;32m    411\u001b[0m         \u001b[0mself\u001b[0m\u001b[0;34m.\u001b[0m\u001b[0mframer\u001b[0m\u001b[0;34m.\u001b[0m\u001b[0mend_framing\u001b[0m\u001b[0;34m(\u001b[0m\u001b[0;34m)\u001b[0m\u001b[0;34m\u001b[0m\u001b[0;34m\u001b[0m\u001b[0m\n",
      "\u001b[0;32m/opt/anaconda3/envs/py365/lib/python3.6/site-packages/joblib/numpy_pickle.py\u001b[0m in \u001b[0;36msave\u001b[0;34m(self, obj)\u001b[0m\n\u001b[1;32m    293\u001b[0m             \u001b[0;32mreturn\u001b[0m\u001b[0;34m\u001b[0m\u001b[0;34m\u001b[0m\u001b[0m\n\u001b[1;32m    294\u001b[0m \u001b[0;34m\u001b[0m\u001b[0m\n\u001b[0;32m--> 295\u001b[0;31m         \u001b[0;32mreturn\u001b[0m \u001b[0mPickler\u001b[0m\u001b[0;34m.\u001b[0m\u001b[0msave\u001b[0m\u001b[0;34m(\u001b[0m\u001b[0mself\u001b[0m\u001b[0;34m,\u001b[0m \u001b[0mobj\u001b[0m\u001b[0;34m)\u001b[0m\u001b[0;34m\u001b[0m\u001b[0;34m\u001b[0m\u001b[0m\n\u001b[0m\u001b[1;32m    296\u001b[0m \u001b[0;34m\u001b[0m\u001b[0m\n\u001b[1;32m    297\u001b[0m \u001b[0;34m\u001b[0m\u001b[0m\n",
      "\u001b[0;32m/opt/anaconda3/envs/py365/lib/python3.6/pickle.py\u001b[0m in \u001b[0;36msave\u001b[0;34m(self, obj, save_persistent_id)\u001b[0m\n\u001b[1;32m    519\u001b[0m \u001b[0;34m\u001b[0m\u001b[0m\n\u001b[1;32m    520\u001b[0m         \u001b[0;31m# Save the reduce() output and finally memoize the object\u001b[0m\u001b[0;34m\u001b[0m\u001b[0;34m\u001b[0m\u001b[0;34m\u001b[0m\u001b[0m\n\u001b[0;32m--> 521\u001b[0;31m         \u001b[0mself\u001b[0m\u001b[0;34m.\u001b[0m\u001b[0msave_reduce\u001b[0m\u001b[0;34m(\u001b[0m\u001b[0mobj\u001b[0m\u001b[0;34m=\u001b[0m\u001b[0mobj\u001b[0m\u001b[0;34m,\u001b[0m \u001b[0;34m*\u001b[0m\u001b[0mrv\u001b[0m\u001b[0;34m)\u001b[0m\u001b[0;34m\u001b[0m\u001b[0;34m\u001b[0m\u001b[0m\n\u001b[0m\u001b[1;32m    522\u001b[0m \u001b[0;34m\u001b[0m\u001b[0m\n\u001b[1;32m    523\u001b[0m     \u001b[0;32mdef\u001b[0m \u001b[0mpersistent_id\u001b[0m\u001b[0;34m(\u001b[0m\u001b[0mself\u001b[0m\u001b[0;34m,\u001b[0m \u001b[0mobj\u001b[0m\u001b[0;34m)\u001b[0m\u001b[0;34m:\u001b[0m\u001b[0;34m\u001b[0m\u001b[0;34m\u001b[0m\u001b[0m\n",
      "\u001b[0;32m/opt/anaconda3/envs/py365/lib/python3.6/pickle.py\u001b[0m in \u001b[0;36msave_reduce\u001b[0;34m(self, func, args, state, listitems, dictitems, obj)\u001b[0m\n\u001b[1;32m    632\u001b[0m \u001b[0;34m\u001b[0m\u001b[0m\n\u001b[1;32m    633\u001b[0m         \u001b[0;32mif\u001b[0m \u001b[0mstate\u001b[0m \u001b[0;32mis\u001b[0m \u001b[0;32mnot\u001b[0m \u001b[0;32mNone\u001b[0m\u001b[0;34m:\u001b[0m\u001b[0;34m\u001b[0m\u001b[0;34m\u001b[0m\u001b[0m\n\u001b[0;32m--> 634\u001b[0;31m             \u001b[0msave\u001b[0m\u001b[0;34m(\u001b[0m\u001b[0mstate\u001b[0m\u001b[0;34m)\u001b[0m\u001b[0;34m\u001b[0m\u001b[0;34m\u001b[0m\u001b[0m\n\u001b[0m\u001b[1;32m    635\u001b[0m             \u001b[0mwrite\u001b[0m\u001b[0;34m(\u001b[0m\u001b[0mBUILD\u001b[0m\u001b[0;34m)\u001b[0m\u001b[0;34m\u001b[0m\u001b[0;34m\u001b[0m\u001b[0m\n\u001b[1;32m    636\u001b[0m \u001b[0;34m\u001b[0m\u001b[0m\n",
      "\u001b[0;32m/opt/anaconda3/envs/py365/lib/python3.6/site-packages/joblib/numpy_pickle.py\u001b[0m in \u001b[0;36msave\u001b[0;34m(self, obj)\u001b[0m\n\u001b[1;32m    293\u001b[0m             \u001b[0;32mreturn\u001b[0m\u001b[0;34m\u001b[0m\u001b[0;34m\u001b[0m\u001b[0m\n\u001b[1;32m    294\u001b[0m \u001b[0;34m\u001b[0m\u001b[0m\n\u001b[0;32m--> 295\u001b[0;31m         \u001b[0;32mreturn\u001b[0m \u001b[0mPickler\u001b[0m\u001b[0;34m.\u001b[0m\u001b[0msave\u001b[0m\u001b[0;34m(\u001b[0m\u001b[0mself\u001b[0m\u001b[0;34m,\u001b[0m \u001b[0mobj\u001b[0m\u001b[0;34m)\u001b[0m\u001b[0;34m\u001b[0m\u001b[0;34m\u001b[0m\u001b[0m\n\u001b[0m\u001b[1;32m    296\u001b[0m \u001b[0;34m\u001b[0m\u001b[0m\n\u001b[1;32m    297\u001b[0m \u001b[0;34m\u001b[0m\u001b[0m\n",
      "\u001b[0;32m/opt/anaconda3/envs/py365/lib/python3.6/pickle.py\u001b[0m in \u001b[0;36msave\u001b[0;34m(self, obj, save_persistent_id)\u001b[0m\n\u001b[1;32m    474\u001b[0m         \u001b[0mf\u001b[0m \u001b[0;34m=\u001b[0m \u001b[0mself\u001b[0m\u001b[0;34m.\u001b[0m\u001b[0mdispatch\u001b[0m\u001b[0;34m.\u001b[0m\u001b[0mget\u001b[0m\u001b[0;34m(\u001b[0m\u001b[0mt\u001b[0m\u001b[0;34m)\u001b[0m\u001b[0;34m\u001b[0m\u001b[0;34m\u001b[0m\u001b[0m\n\u001b[1;32m    475\u001b[0m         \u001b[0;32mif\u001b[0m \u001b[0mf\u001b[0m \u001b[0;32mis\u001b[0m \u001b[0;32mnot\u001b[0m \u001b[0;32mNone\u001b[0m\u001b[0;34m:\u001b[0m\u001b[0;34m\u001b[0m\u001b[0;34m\u001b[0m\u001b[0m\n\u001b[0;32m--> 476\u001b[0;31m             \u001b[0mf\u001b[0m\u001b[0;34m(\u001b[0m\u001b[0mself\u001b[0m\u001b[0;34m,\u001b[0m \u001b[0mobj\u001b[0m\u001b[0;34m)\u001b[0m \u001b[0;31m# Call unbound method with explicit self\u001b[0m\u001b[0;34m\u001b[0m\u001b[0;34m\u001b[0m\u001b[0m\n\u001b[0m\u001b[1;32m    477\u001b[0m             \u001b[0;32mreturn\u001b[0m\u001b[0;34m\u001b[0m\u001b[0;34m\u001b[0m\u001b[0m\n\u001b[1;32m    478\u001b[0m \u001b[0;34m\u001b[0m\u001b[0m\n",
      "\u001b[0;32m/opt/anaconda3/envs/py365/lib/python3.6/pickle.py\u001b[0m in \u001b[0;36msave_dict\u001b[0;34m(self, obj)\u001b[0m\n\u001b[1;32m    819\u001b[0m \u001b[0;34m\u001b[0m\u001b[0m\n\u001b[1;32m    820\u001b[0m         \u001b[0mself\u001b[0m\u001b[0;34m.\u001b[0m\u001b[0mmemoize\u001b[0m\u001b[0;34m(\u001b[0m\u001b[0mobj\u001b[0m\u001b[0;34m)\u001b[0m\u001b[0;34m\u001b[0m\u001b[0;34m\u001b[0m\u001b[0m\n\u001b[0;32m--> 821\u001b[0;31m         \u001b[0mself\u001b[0m\u001b[0;34m.\u001b[0m\u001b[0m_batch_setitems\u001b[0m\u001b[0;34m(\u001b[0m\u001b[0mobj\u001b[0m\u001b[0;34m.\u001b[0m\u001b[0mitems\u001b[0m\u001b[0;34m(\u001b[0m\u001b[0;34m)\u001b[0m\u001b[0;34m)\u001b[0m\u001b[0;34m\u001b[0m\u001b[0;34m\u001b[0m\u001b[0m\n\u001b[0m\u001b[1;32m    822\u001b[0m \u001b[0;34m\u001b[0m\u001b[0m\n\u001b[1;32m    823\u001b[0m     \u001b[0mdispatch\u001b[0m\u001b[0;34m[\u001b[0m\u001b[0mdict\u001b[0m\u001b[0;34m]\u001b[0m \u001b[0;34m=\u001b[0m \u001b[0msave_dict\u001b[0m\u001b[0;34m\u001b[0m\u001b[0;34m\u001b[0m\u001b[0m\n",
      "\u001b[0;32m/opt/anaconda3/envs/py365/lib/python3.6/pickle.py\u001b[0m in \u001b[0;36m_batch_setitems\u001b[0;34m(self, items)\u001b[0m\n\u001b[1;32m    845\u001b[0m                 \u001b[0;32mfor\u001b[0m \u001b[0mk\u001b[0m\u001b[0;34m,\u001b[0m \u001b[0mv\u001b[0m \u001b[0;32min\u001b[0m \u001b[0mtmp\u001b[0m\u001b[0;34m:\u001b[0m\u001b[0;34m\u001b[0m\u001b[0;34m\u001b[0m\u001b[0m\n\u001b[1;32m    846\u001b[0m                     \u001b[0msave\u001b[0m\u001b[0;34m(\u001b[0m\u001b[0mk\u001b[0m\u001b[0;34m)\u001b[0m\u001b[0;34m\u001b[0m\u001b[0;34m\u001b[0m\u001b[0m\n\u001b[0;32m--> 847\u001b[0;31m                     \u001b[0msave\u001b[0m\u001b[0;34m(\u001b[0m\u001b[0mv\u001b[0m\u001b[0;34m)\u001b[0m\u001b[0;34m\u001b[0m\u001b[0;34m\u001b[0m\u001b[0m\n\u001b[0m\u001b[1;32m    848\u001b[0m                 \u001b[0mwrite\u001b[0m\u001b[0;34m(\u001b[0m\u001b[0mSETITEMS\u001b[0m\u001b[0;34m)\u001b[0m\u001b[0;34m\u001b[0m\u001b[0;34m\u001b[0m\u001b[0m\n\u001b[1;32m    849\u001b[0m             \u001b[0;32melif\u001b[0m \u001b[0mn\u001b[0m\u001b[0;34m:\u001b[0m\u001b[0;34m\u001b[0m\u001b[0;34m\u001b[0m\u001b[0m\n",
      "\u001b[0;32m/opt/anaconda3/envs/py365/lib/python3.6/site-packages/joblib/numpy_pickle.py\u001b[0m in \u001b[0;36msave\u001b[0;34m(self, obj)\u001b[0m\n\u001b[1;32m    293\u001b[0m             \u001b[0;32mreturn\u001b[0m\u001b[0;34m\u001b[0m\u001b[0;34m\u001b[0m\u001b[0m\n\u001b[1;32m    294\u001b[0m \u001b[0;34m\u001b[0m\u001b[0m\n\u001b[0;32m--> 295\u001b[0;31m         \u001b[0;32mreturn\u001b[0m \u001b[0mPickler\u001b[0m\u001b[0;34m.\u001b[0m\u001b[0msave\u001b[0m\u001b[0;34m(\u001b[0m\u001b[0mself\u001b[0m\u001b[0;34m,\u001b[0m \u001b[0mobj\u001b[0m\u001b[0;34m)\u001b[0m\u001b[0;34m\u001b[0m\u001b[0;34m\u001b[0m\u001b[0m\n\u001b[0m\u001b[1;32m    296\u001b[0m \u001b[0;34m\u001b[0m\u001b[0m\n\u001b[1;32m    297\u001b[0m \u001b[0;34m\u001b[0m\u001b[0m\n",
      "\u001b[0;32m/opt/anaconda3/envs/py365/lib/python3.6/pickle.py\u001b[0m in \u001b[0;36msave\u001b[0;34m(self, obj, save_persistent_id)\u001b[0m\n\u001b[1;32m    474\u001b[0m         \u001b[0mf\u001b[0m \u001b[0;34m=\u001b[0m \u001b[0mself\u001b[0m\u001b[0;34m.\u001b[0m\u001b[0mdispatch\u001b[0m\u001b[0;34m.\u001b[0m\u001b[0mget\u001b[0m\u001b[0;34m(\u001b[0m\u001b[0mt\u001b[0m\u001b[0;34m)\u001b[0m\u001b[0;34m\u001b[0m\u001b[0;34m\u001b[0m\u001b[0m\n\u001b[1;32m    475\u001b[0m         \u001b[0;32mif\u001b[0m \u001b[0mf\u001b[0m \u001b[0;32mis\u001b[0m \u001b[0;32mnot\u001b[0m \u001b[0;32mNone\u001b[0m\u001b[0;34m:\u001b[0m\u001b[0;34m\u001b[0m\u001b[0;34m\u001b[0m\u001b[0m\n\u001b[0;32m--> 476\u001b[0;31m             \u001b[0mf\u001b[0m\u001b[0;34m(\u001b[0m\u001b[0mself\u001b[0m\u001b[0;34m,\u001b[0m \u001b[0mobj\u001b[0m\u001b[0;34m)\u001b[0m \u001b[0;31m# Call unbound method with explicit self\u001b[0m\u001b[0;34m\u001b[0m\u001b[0;34m\u001b[0m\u001b[0m\n\u001b[0m\u001b[1;32m    477\u001b[0m             \u001b[0;32mreturn\u001b[0m\u001b[0;34m\u001b[0m\u001b[0;34m\u001b[0m\u001b[0m\n\u001b[1;32m    478\u001b[0m \u001b[0;34m\u001b[0m\u001b[0m\n",
      "\u001b[0;32m/opt/anaconda3/envs/py365/lib/python3.6/pickle.py\u001b[0m in \u001b[0;36msave_list\u001b[0;34m(self, obj)\u001b[0m\n\u001b[1;32m    779\u001b[0m \u001b[0;34m\u001b[0m\u001b[0m\n\u001b[1;32m    780\u001b[0m         \u001b[0mself\u001b[0m\u001b[0;34m.\u001b[0m\u001b[0mmemoize\u001b[0m\u001b[0;34m(\u001b[0m\u001b[0mobj\u001b[0m\u001b[0;34m)\u001b[0m\u001b[0;34m\u001b[0m\u001b[0;34m\u001b[0m\u001b[0m\n\u001b[0;32m--> 781\u001b[0;31m         \u001b[0mself\u001b[0m\u001b[0;34m.\u001b[0m\u001b[0m_batch_appends\u001b[0m\u001b[0;34m(\u001b[0m\u001b[0mobj\u001b[0m\u001b[0;34m)\u001b[0m\u001b[0;34m\u001b[0m\u001b[0;34m\u001b[0m\u001b[0m\n\u001b[0m\u001b[1;32m    782\u001b[0m \u001b[0;34m\u001b[0m\u001b[0m\n\u001b[1;32m    783\u001b[0m     \u001b[0mdispatch\u001b[0m\u001b[0;34m[\u001b[0m\u001b[0mlist\u001b[0m\u001b[0;34m]\u001b[0m \u001b[0;34m=\u001b[0m \u001b[0msave_list\u001b[0m\u001b[0;34m\u001b[0m\u001b[0;34m\u001b[0m\u001b[0m\n",
      "\u001b[0;32m/opt/anaconda3/envs/py365/lib/python3.6/pickle.py\u001b[0m in \u001b[0;36m_batch_appends\u001b[0;34m(self, items)\u001b[0m\n\u001b[1;32m    803\u001b[0m                 \u001b[0mwrite\u001b[0m\u001b[0;34m(\u001b[0m\u001b[0mMARK\u001b[0m\u001b[0;34m)\u001b[0m\u001b[0;34m\u001b[0m\u001b[0;34m\u001b[0m\u001b[0m\n\u001b[1;32m    804\u001b[0m                 \u001b[0;32mfor\u001b[0m \u001b[0mx\u001b[0m \u001b[0;32min\u001b[0m \u001b[0mtmp\u001b[0m\u001b[0;34m:\u001b[0m\u001b[0;34m\u001b[0m\u001b[0;34m\u001b[0m\u001b[0m\n\u001b[0;32m--> 805\u001b[0;31m                     \u001b[0msave\u001b[0m\u001b[0;34m(\u001b[0m\u001b[0mx\u001b[0m\u001b[0;34m)\u001b[0m\u001b[0;34m\u001b[0m\u001b[0;34m\u001b[0m\u001b[0m\n\u001b[0m\u001b[1;32m    806\u001b[0m                 \u001b[0mwrite\u001b[0m\u001b[0;34m(\u001b[0m\u001b[0mAPPENDS\u001b[0m\u001b[0;34m)\u001b[0m\u001b[0;34m\u001b[0m\u001b[0;34m\u001b[0m\u001b[0m\n\u001b[1;32m    807\u001b[0m             \u001b[0;32melif\u001b[0m \u001b[0mn\u001b[0m\u001b[0;34m:\u001b[0m\u001b[0;34m\u001b[0m\u001b[0;34m\u001b[0m\u001b[0m\n",
      "\u001b[0;32m/opt/anaconda3/envs/py365/lib/python3.6/site-packages/joblib/numpy_pickle.py\u001b[0m in \u001b[0;36msave\u001b[0;34m(self, obj)\u001b[0m\n\u001b[1;32m    293\u001b[0m             \u001b[0;32mreturn\u001b[0m\u001b[0;34m\u001b[0m\u001b[0;34m\u001b[0m\u001b[0m\n\u001b[1;32m    294\u001b[0m \u001b[0;34m\u001b[0m\u001b[0m\n\u001b[0;32m--> 295\u001b[0;31m         \u001b[0;32mreturn\u001b[0m \u001b[0mPickler\u001b[0m\u001b[0;34m.\u001b[0m\u001b[0msave\u001b[0m\u001b[0;34m(\u001b[0m\u001b[0mself\u001b[0m\u001b[0;34m,\u001b[0m \u001b[0mobj\u001b[0m\u001b[0;34m)\u001b[0m\u001b[0;34m\u001b[0m\u001b[0;34m\u001b[0m\u001b[0m\n\u001b[0m\u001b[1;32m    296\u001b[0m \u001b[0;34m\u001b[0m\u001b[0m\n\u001b[1;32m    297\u001b[0m \u001b[0;34m\u001b[0m\u001b[0m\n",
      "\u001b[0;32m/opt/anaconda3/envs/py365/lib/python3.6/pickle.py\u001b[0m in \u001b[0;36msave\u001b[0;34m(self, obj, save_persistent_id)\u001b[0m\n\u001b[1;32m    474\u001b[0m         \u001b[0mf\u001b[0m \u001b[0;34m=\u001b[0m \u001b[0mself\u001b[0m\u001b[0;34m.\u001b[0m\u001b[0mdispatch\u001b[0m\u001b[0;34m.\u001b[0m\u001b[0mget\u001b[0m\u001b[0;34m(\u001b[0m\u001b[0mt\u001b[0m\u001b[0;34m)\u001b[0m\u001b[0;34m\u001b[0m\u001b[0;34m\u001b[0m\u001b[0m\n\u001b[1;32m    475\u001b[0m         \u001b[0;32mif\u001b[0m \u001b[0mf\u001b[0m \u001b[0;32mis\u001b[0m \u001b[0;32mnot\u001b[0m \u001b[0;32mNone\u001b[0m\u001b[0;34m:\u001b[0m\u001b[0;34m\u001b[0m\u001b[0;34m\u001b[0m\u001b[0m\n\u001b[0;32m--> 476\u001b[0;31m             \u001b[0mf\u001b[0m\u001b[0;34m(\u001b[0m\u001b[0mself\u001b[0m\u001b[0;34m,\u001b[0m \u001b[0mobj\u001b[0m\u001b[0;34m)\u001b[0m \u001b[0;31m# Call unbound method with explicit self\u001b[0m\u001b[0;34m\u001b[0m\u001b[0;34m\u001b[0m\u001b[0m\n\u001b[0m\u001b[1;32m    477\u001b[0m             \u001b[0;32mreturn\u001b[0m\u001b[0;34m\u001b[0m\u001b[0;34m\u001b[0m\u001b[0m\n\u001b[1;32m    478\u001b[0m \u001b[0;34m\u001b[0m\u001b[0m\n",
      "\u001b[0;32m/opt/anaconda3/envs/py365/lib/python3.6/pickle.py\u001b[0m in \u001b[0;36msave_tuple\u001b[0;34m(self, obj)\u001b[0m\n\u001b[1;32m    734\u001b[0m         \u001b[0;32mif\u001b[0m \u001b[0mn\u001b[0m \u001b[0;34m<=\u001b[0m \u001b[0;36m3\u001b[0m \u001b[0;32mand\u001b[0m \u001b[0mself\u001b[0m\u001b[0;34m.\u001b[0m\u001b[0mproto\u001b[0m \u001b[0;34m>=\u001b[0m \u001b[0;36m2\u001b[0m\u001b[0;34m:\u001b[0m\u001b[0;34m\u001b[0m\u001b[0;34m\u001b[0m\u001b[0m\n\u001b[1;32m    735\u001b[0m             \u001b[0;32mfor\u001b[0m \u001b[0melement\u001b[0m \u001b[0;32min\u001b[0m \u001b[0mobj\u001b[0m\u001b[0;34m:\u001b[0m\u001b[0;34m\u001b[0m\u001b[0;34m\u001b[0m\u001b[0m\n\u001b[0;32m--> 736\u001b[0;31m                 \u001b[0msave\u001b[0m\u001b[0;34m(\u001b[0m\u001b[0melement\u001b[0m\u001b[0;34m)\u001b[0m\u001b[0;34m\u001b[0m\u001b[0;34m\u001b[0m\u001b[0m\n\u001b[0m\u001b[1;32m    737\u001b[0m             \u001b[0;31m# Subtle.  Same as in the big comment below.\u001b[0m\u001b[0;34m\u001b[0m\u001b[0;34m\u001b[0m\u001b[0;34m\u001b[0m\u001b[0m\n\u001b[1;32m    738\u001b[0m             \u001b[0;32mif\u001b[0m \u001b[0mid\u001b[0m\u001b[0;34m(\u001b[0m\u001b[0mobj\u001b[0m\u001b[0;34m)\u001b[0m \u001b[0;32min\u001b[0m \u001b[0mmemo\u001b[0m\u001b[0;34m:\u001b[0m\u001b[0;34m\u001b[0m\u001b[0;34m\u001b[0m\u001b[0m\n",
      "\u001b[0;32m/opt/anaconda3/envs/py365/lib/python3.6/site-packages/joblib/numpy_pickle.py\u001b[0m in \u001b[0;36msave\u001b[0;34m(self, obj)\u001b[0m\n\u001b[1;32m    293\u001b[0m             \u001b[0;32mreturn\u001b[0m\u001b[0;34m\u001b[0m\u001b[0;34m\u001b[0m\u001b[0m\n\u001b[1;32m    294\u001b[0m \u001b[0;34m\u001b[0m\u001b[0m\n\u001b[0;32m--> 295\u001b[0;31m         \u001b[0;32mreturn\u001b[0m \u001b[0mPickler\u001b[0m\u001b[0;34m.\u001b[0m\u001b[0msave\u001b[0m\u001b[0;34m(\u001b[0m\u001b[0mself\u001b[0m\u001b[0;34m,\u001b[0m \u001b[0mobj\u001b[0m\u001b[0;34m)\u001b[0m\u001b[0;34m\u001b[0m\u001b[0;34m\u001b[0m\u001b[0m\n\u001b[0m\u001b[1;32m    296\u001b[0m \u001b[0;34m\u001b[0m\u001b[0m\n\u001b[1;32m    297\u001b[0m \u001b[0;34m\u001b[0m\u001b[0m\n",
      "\u001b[0;32m/opt/anaconda3/envs/py365/lib/python3.6/pickle.py\u001b[0m in \u001b[0;36msave\u001b[0;34m(self, obj, save_persistent_id)\u001b[0m\n\u001b[1;32m    519\u001b[0m \u001b[0;34m\u001b[0m\u001b[0m\n\u001b[1;32m    520\u001b[0m         \u001b[0;31m# Save the reduce() output and finally memoize the object\u001b[0m\u001b[0;34m\u001b[0m\u001b[0;34m\u001b[0m\u001b[0;34m\u001b[0m\u001b[0m\n\u001b[0;32m--> 521\u001b[0;31m         \u001b[0mself\u001b[0m\u001b[0;34m.\u001b[0m\u001b[0msave_reduce\u001b[0m\u001b[0;34m(\u001b[0m\u001b[0mobj\u001b[0m\u001b[0;34m=\u001b[0m\u001b[0mobj\u001b[0m\u001b[0;34m,\u001b[0m \u001b[0;34m*\u001b[0m\u001b[0mrv\u001b[0m\u001b[0;34m)\u001b[0m\u001b[0;34m\u001b[0m\u001b[0;34m\u001b[0m\u001b[0m\n\u001b[0m\u001b[1;32m    522\u001b[0m \u001b[0;34m\u001b[0m\u001b[0m\n\u001b[1;32m    523\u001b[0m     \u001b[0;32mdef\u001b[0m \u001b[0mpersistent_id\u001b[0m\u001b[0;34m(\u001b[0m\u001b[0mself\u001b[0m\u001b[0;34m,\u001b[0m \u001b[0mobj\u001b[0m\u001b[0;34m)\u001b[0m\u001b[0;34m:\u001b[0m\u001b[0;34m\u001b[0m\u001b[0;34m\u001b[0m\u001b[0m\n",
      "\u001b[0;32m/opt/anaconda3/envs/py365/lib/python3.6/pickle.py\u001b[0m in \u001b[0;36msave_reduce\u001b[0;34m(self, func, args, state, listitems, dictitems, obj)\u001b[0m\n\u001b[1;32m    632\u001b[0m \u001b[0;34m\u001b[0m\u001b[0m\n\u001b[1;32m    633\u001b[0m         \u001b[0;32mif\u001b[0m \u001b[0mstate\u001b[0m \u001b[0;32mis\u001b[0m \u001b[0;32mnot\u001b[0m \u001b[0;32mNone\u001b[0m\u001b[0;34m:\u001b[0m\u001b[0;34m\u001b[0m\u001b[0;34m\u001b[0m\u001b[0m\n\u001b[0;32m--> 634\u001b[0;31m             \u001b[0msave\u001b[0m\u001b[0;34m(\u001b[0m\u001b[0mstate\u001b[0m\u001b[0;34m)\u001b[0m\u001b[0;34m\u001b[0m\u001b[0;34m\u001b[0m\u001b[0m\n\u001b[0m\u001b[1;32m    635\u001b[0m             \u001b[0mwrite\u001b[0m\u001b[0;34m(\u001b[0m\u001b[0mBUILD\u001b[0m\u001b[0;34m)\u001b[0m\u001b[0;34m\u001b[0m\u001b[0;34m\u001b[0m\u001b[0m\n\u001b[1;32m    636\u001b[0m \u001b[0;34m\u001b[0m\u001b[0m\n",
      "\u001b[0;32m/opt/anaconda3/envs/py365/lib/python3.6/site-packages/joblib/numpy_pickle.py\u001b[0m in \u001b[0;36msave\u001b[0;34m(self, obj)\u001b[0m\n\u001b[1;32m    293\u001b[0m             \u001b[0;32mreturn\u001b[0m\u001b[0;34m\u001b[0m\u001b[0;34m\u001b[0m\u001b[0m\n\u001b[1;32m    294\u001b[0m \u001b[0;34m\u001b[0m\u001b[0m\n\u001b[0;32m--> 295\u001b[0;31m         \u001b[0;32mreturn\u001b[0m \u001b[0mPickler\u001b[0m\u001b[0;34m.\u001b[0m\u001b[0msave\u001b[0m\u001b[0;34m(\u001b[0m\u001b[0mself\u001b[0m\u001b[0;34m,\u001b[0m \u001b[0mobj\u001b[0m\u001b[0;34m)\u001b[0m\u001b[0;34m\u001b[0m\u001b[0;34m\u001b[0m\u001b[0m\n\u001b[0m\u001b[1;32m    296\u001b[0m \u001b[0;34m\u001b[0m\u001b[0m\n\u001b[1;32m    297\u001b[0m \u001b[0;34m\u001b[0m\u001b[0m\n",
      "\u001b[0;32m/opt/anaconda3/envs/py365/lib/python3.6/pickle.py\u001b[0m in \u001b[0;36msave\u001b[0;34m(self, obj, save_persistent_id)\u001b[0m\n\u001b[1;32m    474\u001b[0m         \u001b[0mf\u001b[0m \u001b[0;34m=\u001b[0m \u001b[0mself\u001b[0m\u001b[0;34m.\u001b[0m\u001b[0mdispatch\u001b[0m\u001b[0;34m.\u001b[0m\u001b[0mget\u001b[0m\u001b[0;34m(\u001b[0m\u001b[0mt\u001b[0m\u001b[0;34m)\u001b[0m\u001b[0;34m\u001b[0m\u001b[0;34m\u001b[0m\u001b[0m\n\u001b[1;32m    475\u001b[0m         \u001b[0;32mif\u001b[0m \u001b[0mf\u001b[0m \u001b[0;32mis\u001b[0m \u001b[0;32mnot\u001b[0m \u001b[0;32mNone\u001b[0m\u001b[0;34m:\u001b[0m\u001b[0;34m\u001b[0m\u001b[0;34m\u001b[0m\u001b[0m\n\u001b[0;32m--> 476\u001b[0;31m             \u001b[0mf\u001b[0m\u001b[0;34m(\u001b[0m\u001b[0mself\u001b[0m\u001b[0;34m,\u001b[0m \u001b[0mobj\u001b[0m\u001b[0;34m)\u001b[0m \u001b[0;31m# Call unbound method with explicit self\u001b[0m\u001b[0;34m\u001b[0m\u001b[0;34m\u001b[0m\u001b[0m\n\u001b[0m\u001b[1;32m    477\u001b[0m             \u001b[0;32mreturn\u001b[0m\u001b[0;34m\u001b[0m\u001b[0;34m\u001b[0m\u001b[0m\n\u001b[1;32m    478\u001b[0m \u001b[0;34m\u001b[0m\u001b[0m\n",
      "\u001b[0;32m/opt/anaconda3/envs/py365/lib/python3.6/pickle.py\u001b[0m in \u001b[0;36msave_dict\u001b[0;34m(self, obj)\u001b[0m\n\u001b[1;32m    819\u001b[0m \u001b[0;34m\u001b[0m\u001b[0m\n\u001b[1;32m    820\u001b[0m         \u001b[0mself\u001b[0m\u001b[0;34m.\u001b[0m\u001b[0mmemoize\u001b[0m\u001b[0;34m(\u001b[0m\u001b[0mobj\u001b[0m\u001b[0;34m)\u001b[0m\u001b[0;34m\u001b[0m\u001b[0;34m\u001b[0m\u001b[0m\n\u001b[0;32m--> 821\u001b[0;31m         \u001b[0mself\u001b[0m\u001b[0;34m.\u001b[0m\u001b[0m_batch_setitems\u001b[0m\u001b[0;34m(\u001b[0m\u001b[0mobj\u001b[0m\u001b[0;34m.\u001b[0m\u001b[0mitems\u001b[0m\u001b[0;34m(\u001b[0m\u001b[0;34m)\u001b[0m\u001b[0;34m)\u001b[0m\u001b[0;34m\u001b[0m\u001b[0;34m\u001b[0m\u001b[0m\n\u001b[0m\u001b[1;32m    822\u001b[0m \u001b[0;34m\u001b[0m\u001b[0m\n\u001b[1;32m    823\u001b[0m     \u001b[0mdispatch\u001b[0m\u001b[0;34m[\u001b[0m\u001b[0mdict\u001b[0m\u001b[0;34m]\u001b[0m \u001b[0;34m=\u001b[0m \u001b[0msave_dict\u001b[0m\u001b[0;34m\u001b[0m\u001b[0;34m\u001b[0m\u001b[0m\n",
      "\u001b[0;32m/opt/anaconda3/envs/py365/lib/python3.6/pickle.py\u001b[0m in \u001b[0;36m_batch_setitems\u001b[0;34m(self, items)\u001b[0m\n\u001b[1;32m    845\u001b[0m                 \u001b[0;32mfor\u001b[0m \u001b[0mk\u001b[0m\u001b[0;34m,\u001b[0m \u001b[0mv\u001b[0m \u001b[0;32min\u001b[0m \u001b[0mtmp\u001b[0m\u001b[0;34m:\u001b[0m\u001b[0;34m\u001b[0m\u001b[0;34m\u001b[0m\u001b[0m\n\u001b[1;32m    846\u001b[0m                     \u001b[0msave\u001b[0m\u001b[0;34m(\u001b[0m\u001b[0mk\u001b[0m\u001b[0;34m)\u001b[0m\u001b[0;34m\u001b[0m\u001b[0;34m\u001b[0m\u001b[0m\n\u001b[0;32m--> 847\u001b[0;31m                     \u001b[0msave\u001b[0m\u001b[0;34m(\u001b[0m\u001b[0mv\u001b[0m\u001b[0;34m)\u001b[0m\u001b[0;34m\u001b[0m\u001b[0;34m\u001b[0m\u001b[0m\n\u001b[0m\u001b[1;32m    848\u001b[0m                 \u001b[0mwrite\u001b[0m\u001b[0;34m(\u001b[0m\u001b[0mSETITEMS\u001b[0m\u001b[0;34m)\u001b[0m\u001b[0;34m\u001b[0m\u001b[0;34m\u001b[0m\u001b[0m\n\u001b[1;32m    849\u001b[0m             \u001b[0;32melif\u001b[0m \u001b[0mn\u001b[0m\u001b[0;34m:\u001b[0m\u001b[0;34m\u001b[0m\u001b[0;34m\u001b[0m\u001b[0m\n",
      "\u001b[0;32m/opt/anaconda3/envs/py365/lib/python3.6/site-packages/joblib/numpy_pickle.py\u001b[0m in \u001b[0;36msave\u001b[0;34m(self, obj)\u001b[0m\n\u001b[1;32m    293\u001b[0m             \u001b[0;32mreturn\u001b[0m\u001b[0;34m\u001b[0m\u001b[0;34m\u001b[0m\u001b[0m\n\u001b[1;32m    294\u001b[0m \u001b[0;34m\u001b[0m\u001b[0m\n\u001b[0;32m--> 295\u001b[0;31m         \u001b[0;32mreturn\u001b[0m \u001b[0mPickler\u001b[0m\u001b[0;34m.\u001b[0m\u001b[0msave\u001b[0m\u001b[0;34m(\u001b[0m\u001b[0mself\u001b[0m\u001b[0;34m,\u001b[0m \u001b[0mobj\u001b[0m\u001b[0;34m)\u001b[0m\u001b[0;34m\u001b[0m\u001b[0;34m\u001b[0m\u001b[0m\n\u001b[0m\u001b[1;32m    296\u001b[0m \u001b[0;34m\u001b[0m\u001b[0m\n\u001b[1;32m    297\u001b[0m \u001b[0;34m\u001b[0m\u001b[0m\n",
      "\u001b[0;32m/opt/anaconda3/envs/py365/lib/python3.6/pickle.py\u001b[0m in \u001b[0;36msave\u001b[0;34m(self, obj, save_persistent_id)\u001b[0m\n\u001b[1;32m    519\u001b[0m \u001b[0;34m\u001b[0m\u001b[0m\n\u001b[1;32m    520\u001b[0m         \u001b[0;31m# Save the reduce() output and finally memoize the object\u001b[0m\u001b[0;34m\u001b[0m\u001b[0;34m\u001b[0m\u001b[0;34m\u001b[0m\u001b[0m\n\u001b[0;32m--> 521\u001b[0;31m         \u001b[0mself\u001b[0m\u001b[0;34m.\u001b[0m\u001b[0msave_reduce\u001b[0m\u001b[0;34m(\u001b[0m\u001b[0mobj\u001b[0m\u001b[0;34m=\u001b[0m\u001b[0mobj\u001b[0m\u001b[0;34m,\u001b[0m \u001b[0;34m*\u001b[0m\u001b[0mrv\u001b[0m\u001b[0;34m)\u001b[0m\u001b[0;34m\u001b[0m\u001b[0;34m\u001b[0m\u001b[0m\n\u001b[0m\u001b[1;32m    522\u001b[0m \u001b[0;34m\u001b[0m\u001b[0m\n\u001b[1;32m    523\u001b[0m     \u001b[0;32mdef\u001b[0m \u001b[0mpersistent_id\u001b[0m\u001b[0;34m(\u001b[0m\u001b[0mself\u001b[0m\u001b[0;34m,\u001b[0m \u001b[0mobj\u001b[0m\u001b[0;34m)\u001b[0m\u001b[0;34m:\u001b[0m\u001b[0;34m\u001b[0m\u001b[0;34m\u001b[0m\u001b[0m\n",
      "\u001b[0;32m/opt/anaconda3/envs/py365/lib/python3.6/pickle.py\u001b[0m in \u001b[0;36msave_reduce\u001b[0;34m(self, func, args, state, listitems, dictitems, obj)\u001b[0m\n\u001b[1;32m    632\u001b[0m \u001b[0;34m\u001b[0m\u001b[0m\n\u001b[1;32m    633\u001b[0m         \u001b[0;32mif\u001b[0m \u001b[0mstate\u001b[0m \u001b[0;32mis\u001b[0m \u001b[0;32mnot\u001b[0m \u001b[0;32mNone\u001b[0m\u001b[0;34m:\u001b[0m\u001b[0;34m\u001b[0m\u001b[0;34m\u001b[0m\u001b[0m\n\u001b[0;32m--> 634\u001b[0;31m             \u001b[0msave\u001b[0m\u001b[0;34m(\u001b[0m\u001b[0mstate\u001b[0m\u001b[0;34m)\u001b[0m\u001b[0;34m\u001b[0m\u001b[0;34m\u001b[0m\u001b[0m\n\u001b[0m\u001b[1;32m    635\u001b[0m             \u001b[0mwrite\u001b[0m\u001b[0;34m(\u001b[0m\u001b[0mBUILD\u001b[0m\u001b[0;34m)\u001b[0m\u001b[0;34m\u001b[0m\u001b[0;34m\u001b[0m\u001b[0m\n\u001b[1;32m    636\u001b[0m \u001b[0;34m\u001b[0m\u001b[0m\n",
      "\u001b[0;32m/opt/anaconda3/envs/py365/lib/python3.6/site-packages/joblib/numpy_pickle.py\u001b[0m in \u001b[0;36msave\u001b[0;34m(self, obj)\u001b[0m\n\u001b[1;32m    293\u001b[0m             \u001b[0;32mreturn\u001b[0m\u001b[0;34m\u001b[0m\u001b[0;34m\u001b[0m\u001b[0m\n\u001b[1;32m    294\u001b[0m \u001b[0;34m\u001b[0m\u001b[0m\n\u001b[0;32m--> 295\u001b[0;31m         \u001b[0;32mreturn\u001b[0m \u001b[0mPickler\u001b[0m\u001b[0;34m.\u001b[0m\u001b[0msave\u001b[0m\u001b[0;34m(\u001b[0m\u001b[0mself\u001b[0m\u001b[0;34m,\u001b[0m \u001b[0mobj\u001b[0m\u001b[0;34m)\u001b[0m\u001b[0;34m\u001b[0m\u001b[0;34m\u001b[0m\u001b[0m\n\u001b[0m\u001b[1;32m    296\u001b[0m \u001b[0;34m\u001b[0m\u001b[0m\n\u001b[1;32m    297\u001b[0m \u001b[0;34m\u001b[0m\u001b[0m\n",
      "\u001b[0;32m/opt/anaconda3/envs/py365/lib/python3.6/pickle.py\u001b[0m in \u001b[0;36msave\u001b[0;34m(self, obj, save_persistent_id)\u001b[0m\n\u001b[1;32m    474\u001b[0m         \u001b[0mf\u001b[0m \u001b[0;34m=\u001b[0m \u001b[0mself\u001b[0m\u001b[0;34m.\u001b[0m\u001b[0mdispatch\u001b[0m\u001b[0;34m.\u001b[0m\u001b[0mget\u001b[0m\u001b[0;34m(\u001b[0m\u001b[0mt\u001b[0m\u001b[0;34m)\u001b[0m\u001b[0;34m\u001b[0m\u001b[0;34m\u001b[0m\u001b[0m\n\u001b[1;32m    475\u001b[0m         \u001b[0;32mif\u001b[0m \u001b[0mf\u001b[0m \u001b[0;32mis\u001b[0m \u001b[0;32mnot\u001b[0m \u001b[0;32mNone\u001b[0m\u001b[0;34m:\u001b[0m\u001b[0;34m\u001b[0m\u001b[0;34m\u001b[0m\u001b[0m\n\u001b[0;32m--> 476\u001b[0;31m             \u001b[0mf\u001b[0m\u001b[0;34m(\u001b[0m\u001b[0mself\u001b[0m\u001b[0;34m,\u001b[0m \u001b[0mobj\u001b[0m\u001b[0;34m)\u001b[0m \u001b[0;31m# Call unbound method with explicit self\u001b[0m\u001b[0;34m\u001b[0m\u001b[0;34m\u001b[0m\u001b[0m\n\u001b[0m\u001b[1;32m    477\u001b[0m             \u001b[0;32mreturn\u001b[0m\u001b[0;34m\u001b[0m\u001b[0;34m\u001b[0m\u001b[0m\n\u001b[1;32m    478\u001b[0m \u001b[0;34m\u001b[0m\u001b[0m\n",
      "\u001b[0;32m/opt/anaconda3/envs/py365/lib/python3.6/pickle.py\u001b[0m in \u001b[0;36msave_dict\u001b[0;34m(self, obj)\u001b[0m\n\u001b[1;32m    819\u001b[0m \u001b[0;34m\u001b[0m\u001b[0m\n\u001b[1;32m    820\u001b[0m         \u001b[0mself\u001b[0m\u001b[0;34m.\u001b[0m\u001b[0mmemoize\u001b[0m\u001b[0;34m(\u001b[0m\u001b[0mobj\u001b[0m\u001b[0;34m)\u001b[0m\u001b[0;34m\u001b[0m\u001b[0;34m\u001b[0m\u001b[0m\n\u001b[0;32m--> 821\u001b[0;31m         \u001b[0mself\u001b[0m\u001b[0;34m.\u001b[0m\u001b[0m_batch_setitems\u001b[0m\u001b[0;34m(\u001b[0m\u001b[0mobj\u001b[0m\u001b[0;34m.\u001b[0m\u001b[0mitems\u001b[0m\u001b[0;34m(\u001b[0m\u001b[0;34m)\u001b[0m\u001b[0;34m)\u001b[0m\u001b[0;34m\u001b[0m\u001b[0;34m\u001b[0m\u001b[0m\n\u001b[0m\u001b[1;32m    822\u001b[0m \u001b[0;34m\u001b[0m\u001b[0m\n\u001b[1;32m    823\u001b[0m     \u001b[0mdispatch\u001b[0m\u001b[0;34m[\u001b[0m\u001b[0mdict\u001b[0m\u001b[0;34m]\u001b[0m \u001b[0;34m=\u001b[0m \u001b[0msave_dict\u001b[0m\u001b[0;34m\u001b[0m\u001b[0;34m\u001b[0m\u001b[0m\n",
      "\u001b[0;32m/opt/anaconda3/envs/py365/lib/python3.6/pickle.py\u001b[0m in \u001b[0;36m_batch_setitems\u001b[0;34m(self, items)\u001b[0m\n\u001b[1;32m    845\u001b[0m                 \u001b[0;32mfor\u001b[0m \u001b[0mk\u001b[0m\u001b[0;34m,\u001b[0m \u001b[0mv\u001b[0m \u001b[0;32min\u001b[0m \u001b[0mtmp\u001b[0m\u001b[0;34m:\u001b[0m\u001b[0;34m\u001b[0m\u001b[0;34m\u001b[0m\u001b[0m\n\u001b[1;32m    846\u001b[0m                     \u001b[0msave\u001b[0m\u001b[0;34m(\u001b[0m\u001b[0mk\u001b[0m\u001b[0;34m)\u001b[0m\u001b[0;34m\u001b[0m\u001b[0;34m\u001b[0m\u001b[0m\n\u001b[0;32m--> 847\u001b[0;31m                     \u001b[0msave\u001b[0m\u001b[0;34m(\u001b[0m\u001b[0mv\u001b[0m\u001b[0;34m)\u001b[0m\u001b[0;34m\u001b[0m\u001b[0;34m\u001b[0m\u001b[0m\n\u001b[0m\u001b[1;32m    848\u001b[0m                 \u001b[0mwrite\u001b[0m\u001b[0;34m(\u001b[0m\u001b[0mSETITEMS\u001b[0m\u001b[0;34m)\u001b[0m\u001b[0;34m\u001b[0m\u001b[0;34m\u001b[0m\u001b[0m\n\u001b[1;32m    849\u001b[0m             \u001b[0;32melif\u001b[0m \u001b[0mn\u001b[0m\u001b[0;34m:\u001b[0m\u001b[0;34m\u001b[0m\u001b[0;34m\u001b[0m\u001b[0m\n",
      "\u001b[0;32m/opt/anaconda3/envs/py365/lib/python3.6/site-packages/joblib/numpy_pickle.py\u001b[0m in \u001b[0;36msave\u001b[0;34m(self, obj)\u001b[0m\n\u001b[1;32m    293\u001b[0m             \u001b[0;32mreturn\u001b[0m\u001b[0;34m\u001b[0m\u001b[0;34m\u001b[0m\u001b[0m\n\u001b[1;32m    294\u001b[0m \u001b[0;34m\u001b[0m\u001b[0m\n\u001b[0;32m--> 295\u001b[0;31m         \u001b[0;32mreturn\u001b[0m \u001b[0mPickler\u001b[0m\u001b[0;34m.\u001b[0m\u001b[0msave\u001b[0m\u001b[0;34m(\u001b[0m\u001b[0mself\u001b[0m\u001b[0;34m,\u001b[0m \u001b[0mobj\u001b[0m\u001b[0;34m)\u001b[0m\u001b[0;34m\u001b[0m\u001b[0;34m\u001b[0m\u001b[0m\n\u001b[0m\u001b[1;32m    296\u001b[0m \u001b[0;34m\u001b[0m\u001b[0m\n\u001b[1;32m    297\u001b[0m \u001b[0;34m\u001b[0m\u001b[0m\n",
      "\u001b[0;32m/opt/anaconda3/envs/py365/lib/python3.6/pickle.py\u001b[0m in \u001b[0;36msave\u001b[0;34m(self, obj, save_persistent_id)\u001b[0m\n\u001b[1;32m    519\u001b[0m \u001b[0;34m\u001b[0m\u001b[0m\n\u001b[1;32m    520\u001b[0m         \u001b[0;31m# Save the reduce() output and finally memoize the object\u001b[0m\u001b[0;34m\u001b[0m\u001b[0;34m\u001b[0m\u001b[0;34m\u001b[0m\u001b[0m\n\u001b[0;32m--> 521\u001b[0;31m         \u001b[0mself\u001b[0m\u001b[0;34m.\u001b[0m\u001b[0msave_reduce\u001b[0m\u001b[0;34m(\u001b[0m\u001b[0mobj\u001b[0m\u001b[0;34m=\u001b[0m\u001b[0mobj\u001b[0m\u001b[0;34m,\u001b[0m \u001b[0;34m*\u001b[0m\u001b[0mrv\u001b[0m\u001b[0;34m)\u001b[0m\u001b[0;34m\u001b[0m\u001b[0;34m\u001b[0m\u001b[0m\n\u001b[0m\u001b[1;32m    522\u001b[0m \u001b[0;34m\u001b[0m\u001b[0m\n\u001b[1;32m    523\u001b[0m     \u001b[0;32mdef\u001b[0m \u001b[0mpersistent_id\u001b[0m\u001b[0;34m(\u001b[0m\u001b[0mself\u001b[0m\u001b[0;34m,\u001b[0m \u001b[0mobj\u001b[0m\u001b[0;34m)\u001b[0m\u001b[0;34m:\u001b[0m\u001b[0;34m\u001b[0m\u001b[0;34m\u001b[0m\u001b[0m\n",
      "\u001b[0;32m/opt/anaconda3/envs/py365/lib/python3.6/pickle.py\u001b[0m in \u001b[0;36msave_reduce\u001b[0;34m(self, func, args, state, listitems, dictitems, obj)\u001b[0m\n\u001b[1;32m    632\u001b[0m \u001b[0;34m\u001b[0m\u001b[0m\n\u001b[1;32m    633\u001b[0m         \u001b[0;32mif\u001b[0m \u001b[0mstate\u001b[0m \u001b[0;32mis\u001b[0m \u001b[0;32mnot\u001b[0m \u001b[0;32mNone\u001b[0m\u001b[0;34m:\u001b[0m\u001b[0;34m\u001b[0m\u001b[0;34m\u001b[0m\u001b[0m\n\u001b[0;32m--> 634\u001b[0;31m             \u001b[0msave\u001b[0m\u001b[0;34m(\u001b[0m\u001b[0mstate\u001b[0m\u001b[0;34m)\u001b[0m\u001b[0;34m\u001b[0m\u001b[0;34m\u001b[0m\u001b[0m\n\u001b[0m\u001b[1;32m    635\u001b[0m             \u001b[0mwrite\u001b[0m\u001b[0;34m(\u001b[0m\u001b[0mBUILD\u001b[0m\u001b[0;34m)\u001b[0m\u001b[0;34m\u001b[0m\u001b[0;34m\u001b[0m\u001b[0m\n\u001b[1;32m    636\u001b[0m \u001b[0;34m\u001b[0m\u001b[0m\n",
      "\u001b[0;32m/opt/anaconda3/envs/py365/lib/python3.6/site-packages/joblib/numpy_pickle.py\u001b[0m in \u001b[0;36msave\u001b[0;34m(self, obj)\u001b[0m\n\u001b[1;32m    293\u001b[0m             \u001b[0;32mreturn\u001b[0m\u001b[0;34m\u001b[0m\u001b[0;34m\u001b[0m\u001b[0m\n\u001b[1;32m    294\u001b[0m \u001b[0;34m\u001b[0m\u001b[0m\n\u001b[0;32m--> 295\u001b[0;31m         \u001b[0;32mreturn\u001b[0m \u001b[0mPickler\u001b[0m\u001b[0;34m.\u001b[0m\u001b[0msave\u001b[0m\u001b[0;34m(\u001b[0m\u001b[0mself\u001b[0m\u001b[0;34m,\u001b[0m \u001b[0mobj\u001b[0m\u001b[0;34m)\u001b[0m\u001b[0;34m\u001b[0m\u001b[0;34m\u001b[0m\u001b[0m\n\u001b[0m\u001b[1;32m    296\u001b[0m \u001b[0;34m\u001b[0m\u001b[0m\n\u001b[1;32m    297\u001b[0m \u001b[0;34m\u001b[0m\u001b[0m\n",
      "\u001b[0;32m/opt/anaconda3/envs/py365/lib/python3.6/pickle.py\u001b[0m in \u001b[0;36msave\u001b[0;34m(self, obj, save_persistent_id)\u001b[0m\n\u001b[1;32m    474\u001b[0m         \u001b[0mf\u001b[0m \u001b[0;34m=\u001b[0m \u001b[0mself\u001b[0m\u001b[0;34m.\u001b[0m\u001b[0mdispatch\u001b[0m\u001b[0;34m.\u001b[0m\u001b[0mget\u001b[0m\u001b[0;34m(\u001b[0m\u001b[0mt\u001b[0m\u001b[0;34m)\u001b[0m\u001b[0;34m\u001b[0m\u001b[0;34m\u001b[0m\u001b[0m\n\u001b[1;32m    475\u001b[0m         \u001b[0;32mif\u001b[0m \u001b[0mf\u001b[0m \u001b[0;32mis\u001b[0m \u001b[0;32mnot\u001b[0m \u001b[0;32mNone\u001b[0m\u001b[0;34m:\u001b[0m\u001b[0;34m\u001b[0m\u001b[0;34m\u001b[0m\u001b[0m\n\u001b[0;32m--> 476\u001b[0;31m             \u001b[0mf\u001b[0m\u001b[0;34m(\u001b[0m\u001b[0mself\u001b[0m\u001b[0;34m,\u001b[0m \u001b[0mobj\u001b[0m\u001b[0;34m)\u001b[0m \u001b[0;31m# Call unbound method with explicit self\u001b[0m\u001b[0;34m\u001b[0m\u001b[0;34m\u001b[0m\u001b[0m\n\u001b[0m\u001b[1;32m    477\u001b[0m             \u001b[0;32mreturn\u001b[0m\u001b[0;34m\u001b[0m\u001b[0;34m\u001b[0m\u001b[0m\n\u001b[1;32m    478\u001b[0m \u001b[0;34m\u001b[0m\u001b[0m\n",
      "\u001b[0;32m/opt/anaconda3/envs/py365/lib/python3.6/pickle.py\u001b[0m in \u001b[0;36msave_dict\u001b[0;34m(self, obj)\u001b[0m\n\u001b[1;32m    819\u001b[0m \u001b[0;34m\u001b[0m\u001b[0m\n\u001b[1;32m    820\u001b[0m         \u001b[0mself\u001b[0m\u001b[0;34m.\u001b[0m\u001b[0mmemoize\u001b[0m\u001b[0;34m(\u001b[0m\u001b[0mobj\u001b[0m\u001b[0;34m)\u001b[0m\u001b[0;34m\u001b[0m\u001b[0;34m\u001b[0m\u001b[0m\n\u001b[0;32m--> 821\u001b[0;31m         \u001b[0mself\u001b[0m\u001b[0;34m.\u001b[0m\u001b[0m_batch_setitems\u001b[0m\u001b[0;34m(\u001b[0m\u001b[0mobj\u001b[0m\u001b[0;34m.\u001b[0m\u001b[0mitems\u001b[0m\u001b[0;34m(\u001b[0m\u001b[0;34m)\u001b[0m\u001b[0;34m)\u001b[0m\u001b[0;34m\u001b[0m\u001b[0;34m\u001b[0m\u001b[0m\n\u001b[0m\u001b[1;32m    822\u001b[0m \u001b[0;34m\u001b[0m\u001b[0m\n\u001b[1;32m    823\u001b[0m     \u001b[0mdispatch\u001b[0m\u001b[0;34m[\u001b[0m\u001b[0mdict\u001b[0m\u001b[0;34m]\u001b[0m \u001b[0;34m=\u001b[0m \u001b[0msave_dict\u001b[0m\u001b[0;34m\u001b[0m\u001b[0;34m\u001b[0m\u001b[0m\n",
      "\u001b[0;32m/opt/anaconda3/envs/py365/lib/python3.6/pickle.py\u001b[0m in \u001b[0;36m_batch_setitems\u001b[0;34m(self, items)\u001b[0m\n\u001b[1;32m    845\u001b[0m                 \u001b[0;32mfor\u001b[0m \u001b[0mk\u001b[0m\u001b[0;34m,\u001b[0m \u001b[0mv\u001b[0m \u001b[0;32min\u001b[0m \u001b[0mtmp\u001b[0m\u001b[0;34m:\u001b[0m\u001b[0;34m\u001b[0m\u001b[0;34m\u001b[0m\u001b[0m\n\u001b[1;32m    846\u001b[0m                     \u001b[0msave\u001b[0m\u001b[0;34m(\u001b[0m\u001b[0mk\u001b[0m\u001b[0;34m)\u001b[0m\u001b[0;34m\u001b[0m\u001b[0;34m\u001b[0m\u001b[0m\n\u001b[0;32m--> 847\u001b[0;31m                     \u001b[0msave\u001b[0m\u001b[0;34m(\u001b[0m\u001b[0mv\u001b[0m\u001b[0;34m)\u001b[0m\u001b[0;34m\u001b[0m\u001b[0;34m\u001b[0m\u001b[0m\n\u001b[0m\u001b[1;32m    848\u001b[0m                 \u001b[0mwrite\u001b[0m\u001b[0;34m(\u001b[0m\u001b[0mSETITEMS\u001b[0m\u001b[0;34m)\u001b[0m\u001b[0;34m\u001b[0m\u001b[0;34m\u001b[0m\u001b[0m\n\u001b[1;32m    849\u001b[0m             \u001b[0;32melif\u001b[0m \u001b[0mn\u001b[0m\u001b[0;34m:\u001b[0m\u001b[0;34m\u001b[0m\u001b[0;34m\u001b[0m\u001b[0m\n",
      "\u001b[0;32m/opt/anaconda3/envs/py365/lib/python3.6/site-packages/joblib/numpy_pickle.py\u001b[0m in \u001b[0;36msave\u001b[0;34m(self, obj)\u001b[0m\n\u001b[1;32m    293\u001b[0m             \u001b[0;32mreturn\u001b[0m\u001b[0;34m\u001b[0m\u001b[0;34m\u001b[0m\u001b[0m\n\u001b[1;32m    294\u001b[0m \u001b[0;34m\u001b[0m\u001b[0m\n\u001b[0;32m--> 295\u001b[0;31m         \u001b[0;32mreturn\u001b[0m \u001b[0mPickler\u001b[0m\u001b[0;34m.\u001b[0m\u001b[0msave\u001b[0m\u001b[0;34m(\u001b[0m\u001b[0mself\u001b[0m\u001b[0;34m,\u001b[0m \u001b[0mobj\u001b[0m\u001b[0;34m)\u001b[0m\u001b[0;34m\u001b[0m\u001b[0;34m\u001b[0m\u001b[0m\n\u001b[0m\u001b[1;32m    296\u001b[0m \u001b[0;34m\u001b[0m\u001b[0m\n\u001b[1;32m    297\u001b[0m \u001b[0;34m\u001b[0m\u001b[0m\n",
      "\u001b[0;32m/opt/anaconda3/envs/py365/lib/python3.6/pickle.py\u001b[0m in \u001b[0;36msave\u001b[0;34m(self, obj, save_persistent_id)\u001b[0m\n\u001b[1;32m    474\u001b[0m         \u001b[0mf\u001b[0m \u001b[0;34m=\u001b[0m \u001b[0mself\u001b[0m\u001b[0;34m.\u001b[0m\u001b[0mdispatch\u001b[0m\u001b[0;34m.\u001b[0m\u001b[0mget\u001b[0m\u001b[0;34m(\u001b[0m\u001b[0mt\u001b[0m\u001b[0;34m)\u001b[0m\u001b[0;34m\u001b[0m\u001b[0;34m\u001b[0m\u001b[0m\n\u001b[1;32m    475\u001b[0m         \u001b[0;32mif\u001b[0m \u001b[0mf\u001b[0m \u001b[0;32mis\u001b[0m \u001b[0;32mnot\u001b[0m \u001b[0;32mNone\u001b[0m\u001b[0;34m:\u001b[0m\u001b[0;34m\u001b[0m\u001b[0;34m\u001b[0m\u001b[0m\n\u001b[0;32m--> 476\u001b[0;31m             \u001b[0mf\u001b[0m\u001b[0;34m(\u001b[0m\u001b[0mself\u001b[0m\u001b[0;34m,\u001b[0m \u001b[0mobj\u001b[0m\u001b[0;34m)\u001b[0m \u001b[0;31m# Call unbound method with explicit self\u001b[0m\u001b[0;34m\u001b[0m\u001b[0;34m\u001b[0m\u001b[0m\n\u001b[0m\u001b[1;32m    477\u001b[0m             \u001b[0;32mreturn\u001b[0m\u001b[0;34m\u001b[0m\u001b[0;34m\u001b[0m\u001b[0m\n\u001b[1;32m    478\u001b[0m \u001b[0;34m\u001b[0m\u001b[0m\n",
      "\u001b[0;32m/opt/anaconda3/envs/py365/lib/python3.6/pickle.py\u001b[0m in \u001b[0;36msave_dict\u001b[0;34m(self, obj)\u001b[0m\n\u001b[1;32m    819\u001b[0m \u001b[0;34m\u001b[0m\u001b[0m\n\u001b[1;32m    820\u001b[0m         \u001b[0mself\u001b[0m\u001b[0;34m.\u001b[0m\u001b[0mmemoize\u001b[0m\u001b[0;34m(\u001b[0m\u001b[0mobj\u001b[0m\u001b[0;34m)\u001b[0m\u001b[0;34m\u001b[0m\u001b[0;34m\u001b[0m\u001b[0m\n\u001b[0;32m--> 821\u001b[0;31m         \u001b[0mself\u001b[0m\u001b[0;34m.\u001b[0m\u001b[0m_batch_setitems\u001b[0m\u001b[0;34m(\u001b[0m\u001b[0mobj\u001b[0m\u001b[0;34m.\u001b[0m\u001b[0mitems\u001b[0m\u001b[0;34m(\u001b[0m\u001b[0;34m)\u001b[0m\u001b[0;34m)\u001b[0m\u001b[0;34m\u001b[0m\u001b[0;34m\u001b[0m\u001b[0m\n\u001b[0m\u001b[1;32m    822\u001b[0m \u001b[0;34m\u001b[0m\u001b[0m\n\u001b[1;32m    823\u001b[0m     \u001b[0mdispatch\u001b[0m\u001b[0;34m[\u001b[0m\u001b[0mdict\u001b[0m\u001b[0;34m]\u001b[0m \u001b[0;34m=\u001b[0m \u001b[0msave_dict\u001b[0m\u001b[0;34m\u001b[0m\u001b[0;34m\u001b[0m\u001b[0m\n",
      "\u001b[0;32m/opt/anaconda3/envs/py365/lib/python3.6/pickle.py\u001b[0m in \u001b[0;36m_batch_setitems\u001b[0;34m(self, items)\u001b[0m\n\u001b[1;32m    844\u001b[0m                 \u001b[0mwrite\u001b[0m\u001b[0;34m(\u001b[0m\u001b[0mMARK\u001b[0m\u001b[0;34m)\u001b[0m\u001b[0;34m\u001b[0m\u001b[0;34m\u001b[0m\u001b[0m\n\u001b[1;32m    845\u001b[0m                 \u001b[0;32mfor\u001b[0m \u001b[0mk\u001b[0m\u001b[0;34m,\u001b[0m \u001b[0mv\u001b[0m \u001b[0;32min\u001b[0m \u001b[0mtmp\u001b[0m\u001b[0;34m:\u001b[0m\u001b[0;34m\u001b[0m\u001b[0;34m\u001b[0m\u001b[0m\n\u001b[0;32m--> 846\u001b[0;31m                     \u001b[0msave\u001b[0m\u001b[0;34m(\u001b[0m\u001b[0mk\u001b[0m\u001b[0;34m)\u001b[0m\u001b[0;34m\u001b[0m\u001b[0;34m\u001b[0m\u001b[0m\n\u001b[0m\u001b[1;32m    847\u001b[0m                     \u001b[0msave\u001b[0m\u001b[0;34m(\u001b[0m\u001b[0mv\u001b[0m\u001b[0;34m)\u001b[0m\u001b[0;34m\u001b[0m\u001b[0;34m\u001b[0m\u001b[0m\n\u001b[1;32m    848\u001b[0m                 \u001b[0mwrite\u001b[0m\u001b[0;34m(\u001b[0m\u001b[0mSETITEMS\u001b[0m\u001b[0;34m)\u001b[0m\u001b[0;34m\u001b[0m\u001b[0;34m\u001b[0m\u001b[0m\n",
      "\u001b[0;32m/opt/anaconda3/envs/py365/lib/python3.6/site-packages/joblib/numpy_pickle.py\u001b[0m in \u001b[0;36msave\u001b[0;34m(self, obj)\u001b[0m\n\u001b[1;32m    293\u001b[0m             \u001b[0;32mreturn\u001b[0m\u001b[0;34m\u001b[0m\u001b[0;34m\u001b[0m\u001b[0m\n\u001b[1;32m    294\u001b[0m \u001b[0;34m\u001b[0m\u001b[0m\n\u001b[0;32m--> 295\u001b[0;31m         \u001b[0;32mreturn\u001b[0m \u001b[0mPickler\u001b[0m\u001b[0;34m.\u001b[0m\u001b[0msave\u001b[0m\u001b[0;34m(\u001b[0m\u001b[0mself\u001b[0m\u001b[0;34m,\u001b[0m \u001b[0mobj\u001b[0m\u001b[0;34m)\u001b[0m\u001b[0;34m\u001b[0m\u001b[0;34m\u001b[0m\u001b[0m\n\u001b[0m\u001b[1;32m    296\u001b[0m \u001b[0;34m\u001b[0m\u001b[0m\n\u001b[1;32m    297\u001b[0m \u001b[0;34m\u001b[0m\u001b[0m\n",
      "\u001b[0;32m/opt/anaconda3/envs/py365/lib/python3.6/pickle.py\u001b[0m in \u001b[0;36msave\u001b[0;34m(self, obj, save_persistent_id)\u001b[0m\n\u001b[1;32m    494\u001b[0m             \u001b[0mreduce\u001b[0m \u001b[0;34m=\u001b[0m \u001b[0mgetattr\u001b[0m\u001b[0;34m(\u001b[0m\u001b[0mobj\u001b[0m\u001b[0;34m,\u001b[0m \u001b[0;34m\"__reduce_ex__\"\u001b[0m\u001b[0;34m,\u001b[0m \u001b[0;32mNone\u001b[0m\u001b[0;34m)\u001b[0m\u001b[0;34m\u001b[0m\u001b[0;34m\u001b[0m\u001b[0m\n\u001b[1;32m    495\u001b[0m             \u001b[0;32mif\u001b[0m \u001b[0mreduce\u001b[0m \u001b[0;32mis\u001b[0m \u001b[0;32mnot\u001b[0m \u001b[0;32mNone\u001b[0m\u001b[0;34m:\u001b[0m\u001b[0;34m\u001b[0m\u001b[0;34m\u001b[0m\u001b[0m\n\u001b[0;32m--> 496\u001b[0;31m                 \u001b[0mrv\u001b[0m \u001b[0;34m=\u001b[0m \u001b[0mreduce\u001b[0m\u001b[0;34m(\u001b[0m\u001b[0mself\u001b[0m\u001b[0;34m.\u001b[0m\u001b[0mproto\u001b[0m\u001b[0;34m)\u001b[0m\u001b[0;34m\u001b[0m\u001b[0;34m\u001b[0m\u001b[0m\n\u001b[0m\u001b[1;32m    497\u001b[0m             \u001b[0;32melse\u001b[0m\u001b[0;34m:\u001b[0m\u001b[0;34m\u001b[0m\u001b[0;34m\u001b[0m\u001b[0m\n\u001b[1;32m    498\u001b[0m                 \u001b[0mreduce\u001b[0m \u001b[0;34m=\u001b[0m \u001b[0mgetattr\u001b[0m\u001b[0;34m(\u001b[0m\u001b[0mobj\u001b[0m\u001b[0;34m,\u001b[0m \u001b[0;34m\"__reduce__\"\u001b[0m\u001b[0;34m,\u001b[0m \u001b[0;32mNone\u001b[0m\u001b[0;34m)\u001b[0m\u001b[0;34m\u001b[0m\u001b[0;34m\u001b[0m\u001b[0m\n",
      "\u001b[0;31mTypeError\u001b[0m: can't pickle weakref objects"
     ]
    }
   ],
   "source": [
    "import joblib\n",
    "joblib.dump(keras_w2v_rf_clf, \"items_word2vec_model_dsw_2.joblib\")"
   ]
  },
  {
   "cell_type": "code",
   "execution_count": null,
   "id": "25f84a17",
   "metadata": {},
   "outputs": [],
   "source": [
    "test_df = pd.read_csv('test_set200.csv')"
   ]
  },
  {
   "cell_type": "code",
   "execution_count": null,
   "id": "74e33864",
   "metadata": {},
   "outputs": [],
   "source": [
    "test_df.columns"
   ]
  },
  {
   "cell_type": "code",
   "execution_count": null,
   "id": "25d38744",
   "metadata": {},
   "outputs": [],
   "source": [
    "test_df = test_df[['storefront_uuid', 'parent_chain_or_store_name',\n",
    "       'merchant_type_analytics', 'segment', 'country_name', 'location_type',\n",
    "       'menu_item', 'menu_items_subsection_name','y' ]]"
   ]
  },
  {
   "cell_type": "code",
   "execution_count": null,
   "id": "b4a144fb",
   "metadata": {},
   "outputs": [],
   "source": [
    "test_df.head()"
   ]
  },
  {
   "cell_type": "code",
   "execution_count": null,
   "id": "6ff8effc",
   "metadata": {},
   "outputs": [],
   "source": []
  },
  {
   "cell_type": "code",
   "execution_count": null,
   "id": "01ea0f62",
   "metadata": {},
   "outputs": [],
   "source": [
    "test_df['text'] = test_df['menu_item'].astype('str') + \" \" + test_df['menu_items_subsection_name'].astype('str') + \" \" + test_df['parent_chain_or_store_name'].astype('str')"
   ]
  },
  {
   "cell_type": "code",
   "execution_count": null,
   "id": "b1c11ade",
   "metadata": {},
   "outputs": [],
   "source": [
    "test_df['processed_text'] = test_df['text'].apply(preprocess_corpus)"
   ]
  },
  {
   "cell_type": "code",
   "execution_count": null,
   "id": "bb9d8e38",
   "metadata": {},
   "outputs": [],
   "source": [
    "def merchant_categorization_rule(category_count_dict):\n",
    "    \n",
    "    total_count = sum(category_count_dict.values())\n",
    "    # print(category_count_dict)\n",
    "    \n",
    "#     valuedf.loc[valuedf['category'] == 'GSE','counts'].values\n",
    "    if category_count_dict['pharmacy'] >= 20 and category_count_dict['restaurant'] < 0.5 * total_count:\n",
    "        category = 'pharmacy'\n",
    "        \n",
    "    elif category_count_dict['alcohol'] >= 0.51 * total_count:\n",
    "        category = 'alcohol'\n",
    "    \n",
    "    elif category_count_dict['flowers'] >= 0.51 * total_count:\n",
    "        category = 'flowers' \n",
    "        \n",
    "    elif category_count_dict['pet supplies'] >= 0.51 * total_count:\n",
    "        category = 'pet supplies'\n",
    "        \n",
    "    elif category_count_dict['gse'] >= 20:\n",
    "        category = 'gse'\n",
    "        \n",
    "    elif category_count_dict['restaurant'] >= 0.51 * total_count:\n",
    "        category = 'restaurant'\n",
    "        \n",
    "    else:\n",
    "        category = 'retail'\n",
    "    \n",
    "    return category, total_count"
   ]
  },
  {
   "cell_type": "code",
   "execution_count": null,
   "id": "be2cbb0c",
   "metadata": {},
   "outputs": [],
   "source": [
    "def get_default_dict():\n",
    "    dict_categories = {\n",
    "        'pharmacy': 0,\n",
    "        'restaurant': 0,\n",
    "        'alcohol': 0,\n",
    "        'flowers': 0,\n",
    "        'pet supplies': 0,\n",
    "        'gse': 0,\n",
    "        'retail':0\n",
    "        \n",
    "    }\n",
    "    \n",
    "    return dict_categories"
   ]
  },
  {
   "cell_type": "code",
   "execution_count": null,
   "id": "b78d3f74",
   "metadata": {},
   "outputs": [],
   "source": [
    "def predict_csv(df, item_model):\n",
    "    \n",
    "#     df.drop([\"merchant_level_prediction\", \"merchant_prediction_confidence\"], axis=1, inplace=True)\n",
    "#     df_merch = df.drop_duplicates(subset=['storefront_uuid'])\n",
    "#     df_merch['merchant_level_prediction'] = merchant_model.predict(df_merch['mer_preprocessed_text'])\n",
    "#     df_merch['merchant_prediction_confidence'] = np.round_(np.max(merchant_model.predict_proba(df_merch['mer_preprocessed_text']), axis=1), decimals=4)\n",
    "    \n",
    "\n",
    "#     df = pd.concat([df, df_merch[['merchant_level_prediction','merchant_prediction_confidence']]], axis=1)\n",
    "#     df['merchant_level_prediction'].fillna(method='ffill', inplace=True)\n",
    "#     df['merchant_prediction_confidence'].fillna(method='ffill', inplace=True)\n",
    "#     print('merchant_prediction_done')\n",
    "    \n",
    "    df['item_level_prediction'] = item_model.predict(df['processed_text'])\n",
    "    df['item_prediction_confidence'] = np.round_(np.max(item_model.predict_proba(df['processed_text']), axis=1), decimals=4)\n",
    "    print('item_level_prediction done')\n",
    "    \n",
    "    df_grps = df.groupby(['storefront_uuid'])\n",
    "    print(\"no of groups: \", df_grps.ngroups)\n",
    "    groups = []\n",
    "    for name, grouped in df_grps:\n",
    "\n",
    "#         print(grouped['item_level_prediction'].value_counts())\n",
    "        category_count_dict = get_default_dict()\n",
    "        items_pred_counts_df = grouped['item_level_prediction'].value_counts().rename_axis('category').reset_index(name='counts')\n",
    "\n",
    "        for i,row in items_pred_counts_df.iterrows():\n",
    "            category_count_dict[row[0]] = row[1]\n",
    "        \n",
    "\n",
    "        if len(items_pred_counts_df) > 0:\n",
    "            merchant_category_pred, total_count = merchant_categorization_rule(category_count_dict)\n",
    "       \n",
    "            merchant_confidence_pred = round(sum(grouped['item_prediction_confidence'])/total_count,4)  \n",
    "            grouped['merchant_prediction_from_items'] = merchant_category_pred\n",
    "            grouped['merchant_prediction_from_items_confidence'] = merchant_confidence_pred\n",
    "            \n",
    "        groups.append(grouped)\n",
    "        \n",
    "    df_final = pd.concat(grp for grp in groups)\n",
    "    df_final['final_merchant_prediction'] = df_final['merchant_prediction_from_items']\n",
    "    df_final['final_merchant_prediction_confidence'] = df_final['merchant_prediction_from_items_confidence']\n",
    "    df_final.drop(['text', 'processed_text'], axis=1, inplace=True)\n",
    " \n",
    "    # df_final['timestamp'] = '2022-03-04' # need to be string, hive will use this as partition column\n",
    "    return df_final"
   ]
  },
  {
   "cell_type": "code",
   "execution_count": null,
   "id": "71add729",
   "metadata": {},
   "outputs": [],
   "source": [
    "test_df_final = predict_csv(test_df, keras_w2v_rf_clf)"
   ]
  },
  {
   "cell_type": "code",
   "execution_count": null,
   "id": "4ee0e64a",
   "metadata": {},
   "outputs": [],
   "source": [
    "len(test_df_final)"
   ]
  },
  {
   "cell_type": "code",
   "execution_count": null,
   "id": "a444536e",
   "metadata": {},
   "outputs": [],
   "source": [
    "test_df_final.head()"
   ]
  },
  {
   "cell_type": "code",
   "execution_count": null,
   "id": "15debae1",
   "metadata": {},
   "outputs": [],
   "source": [
    "test_df_final['merchant_prediction_from_items'].value_counts()"
   ]
  },
  {
   "cell_type": "code",
   "execution_count": null,
   "id": "2642b217",
   "metadata": {},
   "outputs": [],
   "source": [
    "accuracy_score(test_df_final['y'],test_df_final['merchant_prediction_from_items'])"
   ]
  },
  {
   "cell_type": "code",
   "execution_count": null,
   "id": "d63705ae",
   "metadata": {},
   "outputs": [],
   "source": [
    "import joblib"
   ]
  },
  {
   "cell_type": "code",
   "execution_count": null,
   "id": "26f9615b",
   "metadata": {},
   "outputs": [],
   "source": [
    "import joblib\n",
    "joblib.dump(keras_w2v_rf_clf, \"items_word2vec_model_dsw_2.joblib\")"
   ]
  },
  {
   "cell_type": "code",
   "execution_count": null,
   "id": "83d6ffee",
   "metadata": {},
   "outputs": [],
   "source": [
    "# model = joblib.load(\"items_word2vec_model.joblib\")"
   ]
  },
  {
   "cell_type": "code",
   "execution_count": null,
   "id": "4ef33514",
   "metadata": {},
   "outputs": [],
   "source": []
  },
  {
   "cell_type": "code",
   "execution_count": null,
   "id": "b3930773",
   "metadata": {},
   "outputs": [],
   "source": []
  },
  {
   "cell_type": "code",
   "execution_count": null,
   "id": "ec4b6159",
   "metadata": {},
   "outputs": [],
   "source": []
  },
  {
   "cell_type": "code",
   "execution_count": null,
   "id": "e3fd4706",
   "metadata": {},
   "outputs": [],
   "source": []
  },
  {
   "cell_type": "code",
   "execution_count": null,
   "id": "b4b317f7",
   "metadata": {},
   "outputs": [],
   "source": [
    "item_names = df2_filtered_merch['menu_item'].unique().tolist()"
   ]
  },
  {
   "cell_type": "code",
   "execution_count": null,
   "id": "80374cac",
   "metadata": {},
   "outputs": [],
   "source": [
    "len(item_names)"
   ]
  },
  {
   "cell_type": "code",
   "execution_count": null,
   "id": "8e926342",
   "metadata": {},
   "outputs": [],
   "source": [
    "item_english_names = []\n",
    "for item in item_names:\n",
    "    if preprocess_corpus(str(item)) != []:\n",
    "        item_english_names.append(item)"
   ]
  },
  {
   "cell_type": "code",
   "execution_count": null,
   "id": "0fb8cbbb",
   "metadata": {},
   "outputs": [],
   "source": [
    "len(item_english_names)"
   ]
  },
  {
   "cell_type": "code",
   "execution_count": null,
   "id": "283dd967",
   "metadata": {},
   "outputs": [],
   "source": [
    "df2_filtered_item = df2_filtered_merch[df2_filtered_merch['menu_item'].isin(item_english_names)]"
   ]
  },
  {
   "cell_type": "code",
   "execution_count": null,
   "id": "e7f520ac",
   "metadata": {},
   "outputs": [],
   "source": [
    "df2_filtered_item.shape"
   ]
  },
  {
   "cell_type": "code",
   "execution_count": null,
   "id": "cf3b17a4",
   "metadata": {
    "scrolled": true
   },
   "outputs": [],
   "source": [
    "df2_filtered_item['text'] = df2_filtered_item['menu_item'].astype('str') + \" \" + df2_filtered_item['menu_items_subsection_name'].astype('str') + \" \" + df2_filtered_item['parent_chain_or_store_name'].astype('str')"
   ]
  },
  {
   "cell_type": "code",
   "execution_count": null,
   "id": "74bd2852",
   "metadata": {},
   "outputs": [],
   "source": [
    "df2_filtered_item.head()"
   ]
  },
  {
   "cell_type": "code",
   "execution_count": null,
   "id": "b8da394a",
   "metadata": {},
   "outputs": [],
   "source": [
    "df2_filtered_item['processed_text'] = df2_filtered_item['text'].apply(preprocess_corpus)"
   ]
  },
  {
   "cell_type": "code",
   "execution_count": null,
   "id": "296ce3c6",
   "metadata": {},
   "outputs": [],
   "source": [
    "df2_filtered_item.to_csv('smb_all_data_preprocessed.csv', index= False)"
   ]
  },
  {
   "cell_type": "code",
   "execution_count": null,
   "id": "d0067a4f",
   "metadata": {},
   "outputs": [],
   "source": [
    "df_test_new = pd.read_csv('../data/test/test_samples_for_validation - test_samples_for_validation.csv')"
   ]
  },
  {
   "cell_type": "code",
   "execution_count": null,
   "id": "0cd9d613",
   "metadata": {},
   "outputs": [],
   "source": [
    "df_test_new.columns"
   ]
  },
  {
   "cell_type": "code",
   "execution_count": null,
   "id": "a2bee239",
   "metadata": {},
   "outputs": [],
   "source": [
    "df_test_new = df_test_new[['storefront_uuid', 'parent_chain_or_store_name',\n",
    "       'merchant_type_analytics', 'segment', 'country_name', 'location_type',\n",
    "       'menu_item', 'menu_items_subsection_name','y' ]]"
   ]
  },
  {
   "cell_type": "code",
   "execution_count": null,
   "id": "f6d92d39",
   "metadata": {},
   "outputs": [],
   "source": [
    "df_test_new.shape"
   ]
  },
  {
   "cell_type": "code",
   "execution_count": null,
   "id": "9217c956",
   "metadata": {},
   "outputs": [],
   "source": [
    "df_test_new['text'] = df_test_new['menu_item'].astype('str') + \" \" + df_test_new['menu_items_subsection_name'].astype('str') + \" \" + df_test_new['parent_chain_or_store_name'].astype('str')"
   ]
  },
  {
   "cell_type": "code",
   "execution_count": null,
   "id": "2a4516f3",
   "metadata": {},
   "outputs": [],
   "source": [
    "df_test_new['processed_text'] = df_test_new['text'].apply(preprocess_corpus)"
   ]
  },
  {
   "cell_type": "code",
   "execution_count": null,
   "id": "474cf659",
   "metadata": {},
   "outputs": [],
   "source": [
    "df_test_new_final = predict_csv(df_test_new, model)"
   ]
  },
  {
   "cell_type": "code",
   "execution_count": null,
   "id": "f791e62f",
   "metadata": {},
   "outputs": [],
   "source": [
    "len(df_test_new_final)"
   ]
  },
  {
   "cell_type": "code",
   "execution_count": null,
   "id": "faa497dc",
   "metadata": {},
   "outputs": [],
   "source": [
    "from sklearn.metrics import accuracy_score"
   ]
  },
  {
   "cell_type": "code",
   "execution_count": null,
   "id": "7dc9e438",
   "metadata": {},
   "outputs": [],
   "source": [
    "from sklearn.metrics import f1_score"
   ]
  },
  {
   "cell_type": "code",
   "execution_count": null,
   "id": "5f83364c",
   "metadata": {},
   "outputs": [],
   "source": [
    "from sklearn.metrics import classification_report"
   ]
  },
  {
   "cell_type": "code",
   "execution_count": null,
   "id": "f4fb9611",
   "metadata": {},
   "outputs": [],
   "source": [
    "accuracy_score(df_test_new_final['y'],df_test_new_final['merchant_prediction_from_items'])"
   ]
  },
  {
   "cell_type": "code",
   "execution_count": null,
   "id": "31d375c9",
   "metadata": {},
   "outputs": [],
   "source": [
    "f1_score(df_test_new_final['y'],df_test_new_final['merchant_prediction_from_items'], average='weighted')"
   ]
  },
  {
   "cell_type": "code",
   "execution_count": null,
   "id": "33583caf",
   "metadata": {},
   "outputs": [],
   "source": [
    "class_report = classification_report(df_test_new_final['y'],df_test_new_final['merchant_prediction_from_items'])"
   ]
  },
  {
   "cell_type": "code",
   "execution_count": null,
   "id": "e8811842",
   "metadata": {},
   "outputs": [],
   "source": [
    "print(class_report)"
   ]
  },
  {
   "cell_type": "code",
   "execution_count": null,
   "id": "bb22c2c9",
   "metadata": {},
   "outputs": [],
   "source": [
    "df_test_new_final.head()"
   ]
  },
  {
   "cell_type": "code",
   "execution_count": null,
   "id": "67e245f4",
   "metadata": {},
   "outputs": [],
   "source": []
  },
  {
   "cell_type": "code",
   "execution_count": null,
   "id": "f905959d",
   "metadata": {},
   "outputs": [],
   "source": [
    "# df2_filtered_item"
   ]
  },
  {
   "cell_type": "code",
   "execution_count": null,
   "id": "b5834f66",
   "metadata": {},
   "outputs": [],
   "source": [
    "df_test_new_set = df_test_new[0:200]"
   ]
  },
  {
   "cell_type": "code",
   "execution_count": null,
   "id": "92909a89",
   "metadata": {},
   "outputs": [],
   "source": [
    "df_test_new_set.to_csv('test_set200.csv', index=False)"
   ]
  },
  {
   "cell_type": "code",
   "execution_count": null,
   "id": "3ec804cc",
   "metadata": {},
   "outputs": [],
   "source": []
  },
  {
   "cell_type": "code",
   "execution_count": null,
   "id": "ff9e0f35",
   "metadata": {},
   "outputs": [],
   "source": []
  },
  {
   "cell_type": "code",
   "execution_count": null,
   "id": "017a0ce3",
   "metadata": {},
   "outputs": [],
   "source": []
  },
  {
   "cell_type": "code",
   "execution_count": null,
   "id": "78d41e96",
   "metadata": {},
   "outputs": [],
   "source": []
  },
  {
   "cell_type": "code",
   "execution_count": null,
   "id": "1d6992ac",
   "metadata": {},
   "outputs": [],
   "source": []
  },
  {
   "cell_type": "code",
   "execution_count": null,
   "id": "fc393765",
   "metadata": {},
   "outputs": [],
   "source": []
  },
  {
   "cell_type": "code",
   "execution_count": null,
   "id": "08f0861b",
   "metadata": {},
   "outputs": [],
   "source": []
  },
  {
   "cell_type": "code",
   "execution_count": null,
   "id": "459ca037",
   "metadata": {},
   "outputs": [],
   "source": []
  },
  {
   "cell_type": "code",
   "execution_count": null,
   "id": "565a2193",
   "metadata": {},
   "outputs": [],
   "source": []
  },
  {
   "cell_type": "code",
   "execution_count": null,
   "id": "b25cecd4",
   "metadata": {},
   "outputs": [],
   "source": []
  },
  {
   "cell_type": "code",
   "execution_count": null,
   "id": "cf600e77",
   "metadata": {},
   "outputs": [],
   "source": [
    "df2['merch_processed'] = df2['parent_chain_or_store_name'].apply(preprocess_corpus)"
   ]
  },
  {
   "cell_type": "code",
   "execution_count": null,
   "id": "3c09ad13",
   "metadata": {},
   "outputs": [],
   "source": [
    "df2.columns"
   ]
  },
  {
   "cell_type": "code",
   "execution_count": null,
   "id": "85e3e8f8",
   "metadata": {},
   "outputs": [],
   "source": [
    "df2['text'] = df2['menu_item'].astype('str') + \" \" + df2['menu_items_subsection_name'].astype('str') + \" \" + df2['parent_chain_or_store_name'].astype('str')"
   ]
  },
  {
   "cell_type": "code",
   "execution_count": null,
   "id": "662a9154",
   "metadata": {},
   "outputs": [],
   "source": [
    "df2['processed_text'] = df2['text'].apply(preprocess_corpus)"
   ]
  },
  {
   "cell_type": "code",
   "execution_count": null,
   "id": "a0c84d3d",
   "metadata": {},
   "outputs": [],
   "source": [
    "df2_final = predict_csv(df2, model)"
   ]
  },
  {
   "cell_type": "code",
   "execution_count": null,
   "id": "c940d92a",
   "metadata": {},
   "outputs": [],
   "source": []
  },
  {
   "cell_type": "code",
   "execution_count": null,
   "id": "61f39f06",
   "metadata": {},
   "outputs": [],
   "source": [
    "accuracy_score(test_df_final['y'],test_df_final['merchant_prediction_from_items'])"
   ]
  }
 ],
 "metadata": {
  "kernelspec": {
   "display_name": "Python 3",
   "language": "python",
   "name": "python3"
  },
  "language_info": {
   "codemirror_mode": {
    "name": "ipython",
    "version": 3
   },
   "file_extension": ".py",
   "mimetype": "text/x-python",
   "name": "python",
   "nbconvert_exporter": "python",
   "pygments_lexer": "ipython3",
   "version": "3.6.13"
  }
 },
 "nbformat": 4,
 "nbformat_minor": 5
}
