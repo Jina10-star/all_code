{
 "cells": [
  {
   "cell_type": "code",
   "execution_count": 1,
   "id": "dc940b6d",
   "metadata": {},
   "outputs": [],
   "source": [
    "import requests\n",
    "import http.client\n",
    "import base64\n",
    "import time\n",
    "import json\n",
    "import traceback\n",
    "import re\n",
    "import nltk\n",
    "from nltk.corpus import stopwords\n",
    "from nltk.stem import WordNetLemmatizer \n",
    "from nltk.corpus import wordnet\n",
    "import string\n",
    "#nltk.download('popular')\n",
    "import os\n",
    "import pandas as pd\n",
    "import csv\n",
    "from sklearn.utils import shuffle\n",
    "#from flask import jsonify # <- `jsonify` instead of `json`\n"
   ]
  },
  {
   "cell_type": "code",
   "execution_count": 2,
   "id": "73f6097d",
   "metadata": {},
   "outputs": [],
   "source": [
    "data_df=pd.read_csv('/Users/jghosh2/Documents/my-notebook/L1 triage POC/data/df_test.csv')"
   ]
  },
  {
   "cell_type": "code",
   "execution_count": 3,
   "id": "1978d30c",
   "metadata": {},
   "outputs": [
    {
     "name": "stdout",
     "output_type": "stream",
     "text": [
      "<class 'pandas.core.frame.DataFrame'>\n",
      "RangeIndex: 33989 entries, 0 to 33988\n",
      "Data columns (total 3 columns):\n",
      " #   Column              Non-Null Count  Dtype \n",
      "---  ------              --------------  ----- \n",
      " 0   item                33989 non-null  object\n",
      " 1   description         19153 non-null  object\n",
      " 2   establishment_type  33989 non-null  object\n",
      "dtypes: object(3)\n",
      "memory usage: 796.7+ KB\n"
     ]
    }
   ],
   "source": [
    "data_df.info()"
   ]
  },
  {
   "cell_type": "code",
   "execution_count": 4,
   "id": "4ab24d9d",
   "metadata": {},
   "outputs": [],
   "source": [
    "data_df = data_df.fillna('')\n",
    "data_df_new=data_df[:100]\n",
    "df=data_df_new.to_dict(orient='records')"
   ]
  },
  {
   "cell_type": "code",
   "execution_count": 5,
   "id": "5a40622c",
   "metadata": {},
   "outputs": [
    {
     "data": {
      "text/plain": [
       "100"
      ]
     },
     "execution_count": 5,
     "metadata": {},
     "output_type": "execute_result"
    }
   ],
   "source": [
    "len(df)"
   ]
  },
  {
   "cell_type": "markdown",
   "id": "77cad350",
   "metadata": {},
   "source": [
    "# or"
   ]
  },
  {
   "cell_type": "code",
   "execution_count": 94,
   "id": "6d68ec32",
   "metadata": {},
   "outputs": [],
   "source": [
    "data_df=pd.read_csv('/Users/jghosh2/Documents/my-notebook/L1 triage POC/data/df_test.csv')"
   ]
  },
  {
   "cell_type": "code",
   "execution_count": 95,
   "id": "18ec1f24",
   "metadata": {},
   "outputs": [],
   "source": [
    "data_df = shuffle(data_df)"
   ]
  },
  {
   "cell_type": "code",
   "execution_count": 96,
   "id": "d8532408",
   "metadata": {},
   "outputs": [],
   "source": [
    "data_df['id']=0\n",
    "data_df['label']='prod'\n",
    "data_df['projectid']='taxml_classification'\n",
    "data_df = data_df.fillna('')\n",
    "data_df_new=data_df[0:1]\n",
    "df=data_df_new.to_dict(orient='records')"
   ]
  },
  {
   "cell_type": "code",
   "execution_count": 97,
   "id": "8f635d27",
   "metadata": {},
   "outputs": [
    {
     "data": {
      "text/plain": [
       "1"
      ]
     },
     "execution_count": 97,
     "metadata": {},
     "output_type": "execute_result"
    }
   ],
   "source": [
    "len(df)"
   ]
  },
  {
   "cell_type": "code",
   "execution_count": 98,
   "id": "2331a509",
   "metadata": {},
   "outputs": [
    {
     "name": "stderr",
     "output_type": "stream",
     "text": [
      "/Users/jghosh2/opt/anaconda3/envs/py365/lib/python3.7/site-packages/urllib3/connectionpool.py:1050: InsecureRequestWarning: Unverified HTTPS request is being made to host 'uipathmldev.corp.uber.com'. Adding certificate verification is strongly advised. See: https://urllib3.readthedocs.io/en/1.26.x/advanced-usage.html#ssl-warnings\n",
      "  InsecureRequestWarning,\n"
     ]
    },
    {
     "name": "stdout",
     "output_type": "stream",
     "text": [
      "{\"success\":[{\"cat_name\":\"CAT_PREPACKAGED_FOOD_SEASONING\",\"conf_score\":1.08,\"integer\":\"741\"}]}\n",
      "\n",
      "1.848539113998413\n"
     ]
    }
   ],
   "source": [
    "import requests\n",
    "import base64\n",
    "import time\n",
    "import json\n",
    "\n",
    "\n",
    "\n",
    "#url_address = \"http://127.0.0.1:5000\"\n",
    "#url_address = \"https://uipathmltest.corp.uber.com\"\n",
    "#url_address = \"https://uipathmlprod.corp.uber.com\"\n",
    "url_address=\"https://uipathmldev.corp.uber.com\"\n",
    "#ENDPOINT = '/iacoe_ocr/taxml_classifier_michelangelo_batch_multi'\n",
    "ENDPOINT = '/iacoe_ocr/taxml_classifier_michelangelo_multi'\n",
    "url = url_address + ENDPOINT\n",
    "\n",
    "\n",
    "################L1 traige inputs#############\n",
    "\n",
    "payload_11={'taxml_input_data':df}\n",
    "    \n",
    "try:\n",
    "    t_start=time.time()\n",
    "    response = requests.post(url, json=payload_11, verify=False)\n",
    "    print(response.text)\n",
    "    t_end=time.time()\n",
    "    print(t_end-t_start)\n",
    "except requests.ConnectionError as e:\n",
    "    print(\"OOPS!! Connection Error. Make sure you are connected to Internet. Technical Details given below.\\n\")\n",
    "    print(str(e))            \n",
    "    #renewIPadress()\n",
    "    #continue\n",
    "except requests.Timeout as e:\n",
    "    print(\"OOPS!! Timeout Error\")\n",
    "    print(str(e))\n",
    "    #renewIPadress()\n",
    "    #continue\n",
    "except requests.RequestException as e:\n",
    "    print(\"OOPS!! General Error\")\n",
    "    print(str(e))\n",
    "    #renewIPadress()\n",
    "    #continue\n",
    "except KeyboardInterrupt:\n",
    "    print(\"Someone closed the program\")\n"
   ]
  },
  {
   "cell_type": "code",
   "execution_count": 89,
   "id": "61a99723",
   "metadata": {},
   "outputs": [],
   "source": [
    "b=response.text"
   ]
  },
  {
   "cell_type": "code",
   "execution_count": 90,
   "id": "9bf8b5e8",
   "metadata": {},
   "outputs": [],
   "source": [
    "c=json.loads(b)"
   ]
  },
  {
   "cell_type": "code",
   "execution_count": 91,
   "id": "2dc6030d",
   "metadata": {},
   "outputs": [
    {
     "data": {
      "text/plain": [
       "dict"
      ]
     },
     "execution_count": 91,
     "metadata": {},
     "output_type": "execute_result"
    }
   ],
   "source": [
    "type(c)"
   ]
  },
  {
   "cell_type": "code",
   "execution_count": 92,
   "id": "5b555656",
   "metadata": {},
   "outputs": [
    {
     "data": {
      "text/plain": [
       "{'success': [{'cat_name': 'CAT_TPP', 'conf_score': 0.65, 'integer': '531'},\n",
       "  {'cat_name': 'CAT_PREPACKAGED_FOOD,CAT_SNACK,TEMP_COLD',\n",
       "   'conf_score': 0.69,\n",
       "   'integer': '106,107,3'},\n",
       "  {'cat_name': 'CAT_BEER', 'conf_score': 0.72, 'integer': '533'},\n",
       "  {'cat_name': 'CAT_PREPACKAGED_FOOD,TEMP_COLD',\n",
       "   'conf_score': 0.68,\n",
       "   'integer': '106,3'},\n",
       "  {'cat_name': 'CAT_CANDY,TEMP_COLD', 'conf_score': 0.68, 'integer': '108,3'},\n",
       "  {'cat_name': 'CAT_WINE', 'conf_score': 0.79, 'integer': '534'},\n",
       "  {'cat_name': 'CAT_PREPACKAGED_FOOD_CRACKERS',\n",
       "   'conf_score': 0.65,\n",
       "   'integer': '724'},\n",
       "  {'cat_name': 'CAT_CLOTHING', 'conf_score': 0.69, 'integer': '503'},\n",
       "  {'cat_name': 'CAT_FORTIFIED_WINE', 'conf_score': 0.66, 'integer': '711'},\n",
       "  {'cat_name': 'CAT_PREPACKAGED_FOOD,CAT_ICECREAM,TEMP_COLD',\n",
       "   'conf_score': 0.72,\n",
       "   'integer': '106,105,3'},\n",
       "  {'cat_name': 'CAT_WINE', 'conf_score': 0.85, 'integer': '534'},\n",
       "  {'cat_name': 'CAT_WINE', 'conf_score': 0.69, 'integer': '534'},\n",
       "  {'cat_name': 'CAT_PREPACKAGED_FOOD_SNACK_HEALTH_BARS',\n",
       "   'conf_score': 0.5,\n",
       "   'integer': '730'},\n",
       "  {'cat_name': 'CAT_CANDY,TEMP_COLD', 'conf_score': 0.69, 'integer': '108,3'},\n",
       "  {'cat_name': 'CAT_PREPACKAGED_FOOD_SNACK_COOKIES',\n",
       "   'conf_score': 0.8,\n",
       "   'integer': '749'},\n",
       "  {'cat_name': 'CAT_WINE', 'conf_score': 0.68, 'integer': '534'},\n",
       "  {'cat_name': 'CAT_OTC_MEDICATION', 'conf_score': 0.62, 'integer': '521'},\n",
       "  {'cat_name': 'CAT_PET_FOOD', 'conf_score': 0.75, 'integer': '526'},\n",
       "  {'cat_name': 'CAT_FOOD_BY_WT_VOL,TEMP_UNHEATED',\n",
       "   'conf_score': 0.55,\n",
       "   'integer': '103,2'},\n",
       "  {'cat_name': 'CAT_LIQUOR', 'conf_score': 0.84, 'integer': '535'},\n",
       "  {'cat_name': 'CAT_PREPACKAGED_FOOD,CAT_ICECREAM,TEMP_COLD',\n",
       "   'conf_score': 0.6,\n",
       "   'integer': '106,105,3'},\n",
       "  {'cat_name': 'CAT_TPP_SKIN_CARE_PRODUCTS',\n",
       "   'conf_score': 0.66,\n",
       "   'integer': '818'},\n",
       "  {'cat_name': 'CAT_BEER', 'conf_score': 0.81, 'integer': '533'},\n",
       "  {'cat_name': 'CAT_BEER', 'conf_score': 0.63, 'integer': '533'},\n",
       "  {'cat_name': 'CAT_LIQUOR', 'conf_score': 0.78, 'integer': '535'},\n",
       "  {'cat_name': 'CAT_TPP_SHAMPOOS', 'conf_score': 0.75, 'integer': '816'},\n",
       "  {'cat_name': 'CAT_PET_FOOD', 'conf_score': 0.67, 'integer': '526'},\n",
       "  {'cat_name': 'CAT_LIQUOR', 'conf_score': 0.64, 'integer': '535'},\n",
       "  {'cat_name': 'CAT_TPP', 'conf_score': 0.77, 'integer': '531'},\n",
       "  {'cat_name': 'CAT_BEER', 'conf_score': 0.67, 'integer': '533'},\n",
       "  {'cat_name': 'CAT_SPARKLING_WINE', 'conf_score': 0.61, 'integer': '716'},\n",
       "  {'cat_name': 'CAT_WINE', 'conf_score': 0.89, 'integer': '534'},\n",
       "  {'cat_name': 'CAT_CANDY,TRAIT_FLOUR,TEMP_COLD',\n",
       "   'conf_score': 0.66,\n",
       "   'integer': '108,61,3'},\n",
       "  {'cat_name': 'CAT_CANDY,TRAIT_FLOUR,TEMP_COLD',\n",
       "   'conf_score': 0.51,\n",
       "   'integer': '108,61,3'},\n",
       "  {'cat_name': 'CAT_BAKERY_ITEM', 'conf_score': 0.7, 'integer': '562'},\n",
       "  {'cat_name': 'CAT_BEER', 'conf_score': 0.66, 'integer': '533'},\n",
       "  {'cat_name': 'CAT_PREPACKAGED_FOOD_SNACK_COOKIES',\n",
       "   'conf_score': 0.54,\n",
       "   'integer': '749'},\n",
       "  {'cat_name': 'CAT_BEER', 'conf_score': 0.92, 'integer': '533'},\n",
       "  {'cat_name': 'CAT_LIQUOR', 'conf_score': 0.7, 'integer': '535'},\n",
       "  {'cat_name': 'CAT_OTC_MEDICATION', 'conf_score': 0.55, 'integer': '521'},\n",
       "  {'cat_name': 'CAT_ENERGY_DRINK,CONTAINER_BOTTLED,TEMP_COLD',\n",
       "   'conf_score': 0.71,\n",
       "   'integer': '113,11,3'},\n",
       "  {'cat_name': 'CAT_BEER', 'conf_score': 0.8, 'integer': '533'},\n",
       "  {'cat_name': 'CAT_SOFT_DRINK,CONTAINER_BOTTLED,TEMP_COLD',\n",
       "   'conf_score': 0.47,\n",
       "   'integer': '112,11,3'},\n",
       "  {'cat_name': 'CAT_SPARKLING_WINE', 'conf_score': 0.72, 'integer': '716'},\n",
       "  {'cat_name': 'CAT_LIQUOR', 'conf_score': 0.7, 'integer': '535'},\n",
       "  {'cat_name': 'CAT_MEDICATED_ITEMS', 'conf_score': 0.65, 'integer': '525'},\n",
       "  {'cat_name': 'CAT_CLOTHING', 'conf_score': 0.66, 'integer': '503'},\n",
       "  {'cat_name': 'CAT_LIQUOR', 'conf_score': 0.84, 'integer': '535'},\n",
       "  {'cat_name': 'CAT_OTC_MEDICATION_IBUPROFEN',\n",
       "   'conf_score': 0.56,\n",
       "   'integer': '768'},\n",
       "  {'cat_name': 'CAT_LIQUOR', 'conf_score': 0.72, 'integer': '535'},\n",
       "  {'cat_name': 'CAT_PREPACKAGED_FOOD_SNACK_COOKIES',\n",
       "   'conf_score': 0.6,\n",
       "   'integer': '749'},\n",
       "  {'cat_name': 'CAT_SPARKLING_WINE', 'conf_score': 0.81, 'integer': '716'},\n",
       "  {'cat_name': 'CAT_PET_FOOD', 'conf_score': 0.74, 'integer': '526'},\n",
       "  {'cat_name': 'CAT_TPP', 'conf_score': 0.52, 'integer': '531'},\n",
       "  {'cat_name': 'CAT_WATER,TRAIT_NONCARB,TRAIT_UNFLV_UNSWT,CONTAINER_BOTTLED,TEMP_COLD',\n",
       "   'conf_score': 0.71,\n",
       "   'integer': '111,53,55,11,3'},\n",
       "  {'cat_name': 'CAT_WINE', 'conf_score': 0.92, 'integer': '534'},\n",
       "  {'cat_name': 'CAT_LIQUOR', 'conf_score': 0.58, 'integer': '535'},\n",
       "  {'cat_name': 'CAT_PREPACKAGED_FOOD_SNACK_CHIPS',\n",
       "   'conf_score': 0.81,\n",
       "   'integer': '746'},\n",
       "  {'cat_name': 'CAT_PREPACKAGED_FOOD_SNACK_HEALTH_BARS',\n",
       "   'conf_score': 0.71,\n",
       "   'integer': '730'},\n",
       "  {'cat_name': 'CAT_CANDY,TEMP_COLD', 'conf_score': 0.75, 'integer': '108,3'},\n",
       "  {'cat_name': 'CAT_JUICE_NON_CARBONATED',\n",
       "   'conf_score': 0.65,\n",
       "   'integer': '537'},\n",
       "  {'cat_name': 'CAT_LIQUOR', 'conf_score': 0.85, 'integer': '535'},\n",
       "  {'cat_name': 'CAT_PREPACKAGED_FOOD_CONDIMENTS',\n",
       "   'conf_score': 0.48,\n",
       "   'integer': '740'},\n",
       "  {'cat_name': 'CAT_LIQUOR', 'conf_score': 0.82, 'integer': '535'},\n",
       "  {'cat_name': 'CAT_PAPER_PRODUCTS_PAPER_NAPKINS',\n",
       "   'conf_score': 0.68,\n",
       "   'integer': '754'},\n",
       "  {'cat_name': 'CAT_ALCOHOL,TEMP_COLD',\n",
       "   'conf_score': 0.64,\n",
       "   'integer': '109,3'},\n",
       "  {'cat_name': 'CAT_LIQUOR', 'conf_score': 0.75, 'integer': '535'},\n",
       "  {'cat_name': 'CAT_WINE', 'conf_score': 0.7, 'integer': '534'},\n",
       "  {'cat_name': 'CAT_WINE', 'conf_score': 0.77, 'integer': '534'},\n",
       "  {'cat_name': 'CAT_LIQUOR', 'conf_score': 0.77, 'integer': '535'},\n",
       "  {'cat_name': 'CAT_WINE', 'conf_score': 0.88, 'integer': '534'},\n",
       "  {'cat_name': 'CAT_PET_FOOD', 'conf_score': 0.71, 'integer': '526'},\n",
       "  {'cat_name': 'CAT_NUTRITION_SUPPLEMENT',\n",
       "   'conf_score': 0.61,\n",
       "   'integer': '771'},\n",
       "  {'cat_name': 'CAT_TPP', 'conf_score': 0.74, 'integer': '531'},\n",
       "  {'cat_name': 'CAT_TPP', 'conf_score': 0.72, 'integer': '531'},\n",
       "  {'cat_name': 'CAT_WINE', 'conf_score': 0.66, 'integer': '534'},\n",
       "  {'cat_name': 'CAT_BAKERY_ITEM', 'conf_score': 0.73, 'integer': '562'},\n",
       "  {'cat_name': 'CAT_LIQUOR', 'conf_score': 0.8, 'integer': '535'},\n",
       "  {'cat_name': 'CAT_TPP', 'conf_score': 0.72, 'integer': '531'},\n",
       "  {'cat_name': 'CAT_TPP_AIR_FRESHENER', 'conf_score': 0.74, 'integer': '773'},\n",
       "  {'cat_name': 'CAT_PREPACKAGED_FOOD_EDIBLE_OILS',\n",
       "   'conf_score': 0.65,\n",
       "   'integer': '727'},\n",
       "  {'cat_name': 'CAT_PREPACKAGED_FOOD,CAT_ICECREAM,TEMP_COLD',\n",
       "   'conf_score': 0.47,\n",
       "   'integer': '106,105,3'},\n",
       "  {'cat_name': 'CAT_SOFT_DRINK,CONTAINER_BOTTLED,TEMP_COLD',\n",
       "   'conf_score': 0.71,\n",
       "   'integer': '112,11,3'},\n",
       "  {'cat_name': 'CAT_TPP_COSMETICS', 'conf_score': 0.69, 'integer': '783'},\n",
       "  {'cat_name': 'CAT_ICE_MORE_THAN_10LBS',\n",
       "   'conf_score': 0.55,\n",
       "   'integer': '713'},\n",
       "  {'cat_name': 'CAT_PREPACKAGED_FOOD_SNACK_NUTS',\n",
       "   'conf_score': 0.68,\n",
       "   'integer': '747'},\n",
       "  {'cat_name': 'CAT_LIQUOR', 'conf_score': 0.62, 'integer': '535'},\n",
       "  {'cat_name': 'CAT_CANDY,TRAIT_FLOUR,TEMP_COLD',\n",
       "   'conf_score': 0.61,\n",
       "   'integer': '108,61,3'},\n",
       "  {'cat_name': 'CAT_PREPARED_FOOD,TEMP_HEATED',\n",
       "   'conf_score': 0.47,\n",
       "   'integer': '101,1'},\n",
       "  {'cat_name': 'CAT_TEA,CONTAINER_BOTTLED,TEMP_COLD',\n",
       "   'conf_score': 0.52,\n",
       "   'integer': '115,11,3'},\n",
       "  {'cat_name': 'CAT_TPP', 'conf_score': 0.7, 'integer': '531'},\n",
       "  {'cat_name': 'CAT_ALCOHOL,TEMP_COLD',\n",
       "   'conf_score': 0.76,\n",
       "   'integer': '109,3'},\n",
       "  {'cat_name': 'CAT_LIQUOR', 'conf_score': 0.6, 'integer': '535'},\n",
       "  {'cat_name': 'CAT_ICE,TEMP_COLD', 'conf_score': 0.66, 'integer': '118,3'},\n",
       "  {'cat_name': 'CAT_WINE', 'conf_score': 0.91, 'integer': '534'},\n",
       "  {'cat_name': 'CAT_PREPACKAGED_FOOD_SNACK_CHIPS',\n",
       "   'conf_score': 0.8,\n",
       "   'integer': '746'},\n",
       "  {'cat_name': 'CAT_WATER,TRAIT_NONCARB,TRAIT_UNFLV_UNSWT,CONTAINER_BOTTLED,TEMP_COLD',\n",
       "   'conf_score': 0.56,\n",
       "   'integer': '111,53,55,11,3'},\n",
       "  {'cat_name': 'CAT_TPP_COSMETICS', 'conf_score': 0.77, 'integer': '783'},\n",
       "  {'cat_name': 'CAT_LIQUOR', 'conf_score': 0.91, 'integer': '535'},\n",
       "  {'cat_name': 'CAT_PREPACKAGED_FOOD,TEMP_COLD',\n",
       "   'conf_score': 0.72,\n",
       "   'integer': '106,3'}]}"
      ]
     },
     "execution_count": 92,
     "metadata": {},
     "output_type": "execute_result"
    }
   ],
   "source": [
    "c"
   ]
  },
  {
   "cell_type": "code",
   "execution_count": 93,
   "id": "8751987b",
   "metadata": {},
   "outputs": [
    {
     "data": {
      "text/plain": [
       "100"
      ]
     },
     "execution_count": 93,
     "metadata": {},
     "output_type": "execute_result"
    }
   ],
   "source": [
    "len(c['success'])"
   ]
  },
  {
   "cell_type": "code",
   "execution_count": null,
   "id": "8b16555f",
   "metadata": {},
   "outputs": [],
   "source": []
  }
 ],
 "metadata": {
  "kernelspec": {
   "display_name": "Python 3",
   "language": "python",
   "name": "python3"
  },
  "language_info": {
   "codemirror_mode": {
    "name": "ipython",
    "version": 3
   },
   "file_extension": ".py",
   "mimetype": "text/x-python",
   "name": "python",
   "nbconvert_exporter": "python",
   "pygments_lexer": "ipython3",
   "version": "3.8.8"
  }
 },
 "nbformat": 4,
 "nbformat_minor": 5
}
