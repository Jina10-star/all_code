{
 "cells": [
  {
   "cell_type": "code",
   "execution_count": 1,
   "metadata": {
    "scrolled": true
   },
   "outputs": [
    {
     "name": "stderr",
     "output_type": "stream",
     "text": [
      "/dsw/snapshots/snapshot_dsw_default_jupyter/python37/lib/python3.7/site-packages/sklearn/utils/validation.py:37: DeprecationWarning: distutils Version classes are deprecated. Use packaging.version instead.\n",
      "  LARGE_SPARSE_SUPPORTED = LooseVersion(scipy_version) >= '0.14.0'\n"
     ]
    }
   ],
   "source": [
    "import matplotlib.pyplot as plt\n",
    "import numpy as np\n",
    "import pandas as pd\n",
    "import statsmodels.api as sm\n",
    "from sklearn.model_selection import train_test_split\n",
    "from sklearn.linear_model import Lasso\n",
    "import seaborn as sns"
   ]
  },
  {
   "cell_type": "code",
   "execution_count": 2,
   "metadata": {},
   "outputs": [],
   "source": [
    "# Label: The hourly average gb per plan per scan at city-level\n",
    "# Feature Set:\n",
    "    #   avg(plans.driver_cancel_prob) as market_driver_cancel_prob,\n",
    "    #   avg(plans.rider_cancel_prob) as market_rider_cancel_prob,\n",
    "    #   avg(plans.spinner_cancel_prob) as market_spinner_cancel_prob,\n",
    "    #   avg(plans.eta) as market_eta,\n",
    "    #   avg(plans.surge_mul) as market_surge_mul,\n",
    "    #   avg(completed.client_upfront_fare_usd) as market_gb,\n",
    "\n",
    "    #   avg(plans.eta_one) as market_eta_one,  -- (1 - eta/1500)\n",
    "    #   avg(plans.eta_square) as market_eta_square,  -- (1 - eta/1500)**2\n",
    "    #   avg(plans.eta_cube) as market_eta_cube,  -- (1 - eta/1500)**3\n",
    "    #   avg(plans.network_contention_2) as market_network_contention_2,  -- 1 / (1 + surge_mul**2)\n",
    "    #   avg(plans.network_contention_3) as market_network_contention_3,  -- 1 / (1 + surge_mul**3)\n",
    "    #   avg(plans.network_contention_5) as market_network_contention_5,  -- 1 / (1 + surge_mul**5)\n",
    "\n",
    "    #   avg(plans.cr_ratio) as market_cr_ratio,  -- (1.0 - mgv.driver_cancel_prob) * (1.0 - mgv.rider_cancel_prob) * (1.0 - mgv.spinner_cancel_prob)\n",
    "\n",
    "    #   avg(plans.eta_one * plans.cr_ratio) as market_eta_one_cr_ratio,\n",
    "    #   avg(plans.eta_square * plans.cr_ratio) as market_eta_square_cr_ratio,\n",
    "    #   avg(plans.eta_cube * plans.cr_ratio) as market_eta_cube_cr_ratio,\n",
    "    #   avg(plans.network_contention_2 * plans.eta_one) as market_network_2_eta_1,\n",
    "    #   avg(plans.network_contention_3 * plans.eta_one) as market_network_3_eta_1,\n",
    "    #   avg(plans.network_contention_5 * plans.eta_one) as market_network_5_eta_1,\n",
    "    #   avg(plans.network_contention_2 * plans.eta_square) as market_network_2_eta_2,\n",
    "    #   avg(plans.network_contention_3 * plans.eta_square) as market_network_3_eta_2,\n",
    "    #   avg(plans.network_contention_5 * plans.eta_square) as market_network_5_eta_2,\n",
    "    #   avg(plans.network_contention_2 * plans.eta_cube) as market_network_2_eta_3,\n",
    "    #   avg(plans.network_contention_3 * plans.eta_cube) as market_network_3_eta_3,\n",
    "    #   avg(plans.network_contention_5 * plans.eta_cube) as market_network_5_eta_3,\n",
    "    #   avg((1 - plans.network_contention_2) * plans.cr_ratio) as market_network_2_cr_ratio,\n",
    "    #   avg((1 - plans.network_contention_3) * plans.cr_ratio) as market_network_3_cr_ratio,\n",
    "    #   avg((1 - plans.network_contention_5) * plans.cr_ratio) as market_network_5_cr_ratio,\n",
    "    #   avg(plans.eta_one * plans.network_contention_2 * plans.cr_ratio) as market_network_2_eta_1_cr_ratio,\n",
    "    #   avg(plans.eta_one * plans.network_contention_3 * plans.cr_ratio) as market_network_3_eta_1_cr_ratio,\n",
    "    #   avg(plans.eta_one * plans.network_contention_5 * plans.cr_ratio) as market_network_5_eta_1_cr_ratio,\n",
    "    #   avg(plans.eta_square * plans.network_contention_2 * plans.cr_ratio) as market_network_2_eta_2_cr_ratio,\n",
    "    #   avg(plans.eta_square * plans.network_contention_3 * plans.cr_ratio) as market_network_3_eta_2_cr_ratio,\n",
    "    #   avg(plans.eta_square * plans.network_contention_5 * plans.cr_ratio) as market_network_5_eta_2_cr_ratio,\n",
    "    #   avg(plans.eta_cube * plans.network_contention_2 * plans.cr_ratio) as market_network_2_eta_3_cr_ratio,\n",
    "    #   avg(plans.eta_cube * plans.network_contention_3 * plans.cr_ratio) as market_network_3_eta_3_cr_ratio,\n",
    "    #   avg(plans.eta_cube * plans.network_contention_5 * plans.cr_ratio) as market_network_5_eta_3_cr_ratio,\n",
    "    #   avg(plans.eta_one * (1 - plans.network_contention_2) * plans.cr_ratio * completed.client_upfront_fare_usd) as market_network_2_eta_1_gb_cr_ratio,\n",
    "    #   avg(plans.eta_one * (1 - plans.network_contention_3) * plans.cr_ratio * completed.client_upfront_fare_usd) as market_network_3_eta_1_gb_cr_ratio,\n",
    "    #   avg(plans.eta_one * (1 - plans.network_contention_5) * plans.cr_ratio * completed.client_upfront_fare_usd) as market_network_5_eta_1_gb_cr_ratio,\n",
    "    #   avg(plans.eta_square * (1 - plans.network_contention_2) * plans.cr_ratio * completed.client_upfront_fare_usd) as market_network_2_eta_2_gb_cr_ratio,\n",
    "    #   avg(plans.eta_square * (1 - plans.network_contention_3) * plans.cr_ratio * completed.client_upfront_fare_usd) as market_network_3_eta_2_gb_cr_ratio,\n",
    "    #   avg(plans.eta_square * (1 - plans.network_contention_5) * plans.cr_ratio * completed.client_upfront_fare_usd) as market_network_5_eta_2_gb_cr_ratio,\n",
    "    #   avg(plans.eta_cube * (1 - plans.network_contention_2) * plans.cr_ratio * completed.client_upfront_fare_usd) as market_network_2_eta_3_gb_cr_ratio,\n",
    "    #   avg(plans.eta_cube * (1 - plans.network_contention_3) * plans.cr_ratio * completed.client_upfront_fare_usd) as market_network_3_eta_3_gb_cr_ratio,\n",
    "    #   avg(plans.eta_cube * (1 - plans.network_contention_5) * plans.cr_ratio * completed.client_upfront_fare_usd) as market_network_5_eta_3_gb_cr_ratio"
   ]
  },
  {
   "cell_type": "code",
   "execution_count": 3,
   "metadata": {},
   "outputs": [],
   "source": [
    "# Read in data: features & labels\n",
    "df_features_dict = {}\n",
    "df_labels_dict = {}\n",
    "\n",
    "for i in range(1, 11):\n",
    "    df_features_dict[i] = pd.read_csv(f'version_3_features_{i}.csv')\n",
    "    df_labels_dict[i] = pd.read_csv(f'labels_{i}.csv')"
   ]
  },
  {
   "cell_type": "code",
   "execution_count": 4,
   "metadata": {},
   "outputs": [],
   "source": [
    "df_features_frames = [df_features_dict[1], df_features_dict[2], df_features_dict[3],\n",
    "                      df_features_dict[4], df_features_dict[5], df_features_dict[6],\n",
    "                      df_features_dict[7], df_features_dict[8], df_features_dict[9],\n",
    "                      df_features_dict[10]]\n",
    "\n",
    "df_labels_frames = [df_labels_dict[1], df_labels_dict[2], df_labels_dict[3],\n",
    "                    df_labels_dict[4], df_labels_dict[5], df_labels_dict[6],\n",
    "                    df_labels_dict[7], df_labels_dict[8], df_labels_dict[9],\n",
    "                    df_labels_dict[10]]\n",
    "\n",
    "df_features = pd.concat(df_features_frames, ignore_index=True)\n",
    "df_labels = pd.concat(df_labels_frames, ignore_index=True)\n",
    "\n",
    "df_features.drop('num_plans', axis=1, inplace=True)\n",
    "df_labels.drop('num_plans', axis=1, inplace=True)\n",
    "\n",
    "df = pd.merge(df_features, df_labels,\n",
    "              how='left',\n",
    "              left_on=['datestr', 'city_id', 'hour_of_day'],\n",
    "              right_on=['datestr', 'city_id', 'hour_of_day']\n",
    "             )"
   ]
  },
  {
   "cell_type": "code",
   "execution_count": 5,
   "metadata": {},
   "outputs": [],
   "source": [
    "y = df['hour_gb']\n",
    "X = df.loc[:, ['market_driver_cancel_prob',\n",
    "                'market_surge_mul',\n",
    "                'market_eta_one',\n",
    "                'market_eta_square',\n",
    "                'market_eta_cube',\n",
    "                'market_eta_one_cr_ratio',\n",
    "                'market_eta_square_cr_ratio',\n",
    "                'market_eta_cube_cr_ratio',\n",
    "                'market_network_2_eta_1',\n",
    "                'market_network_3_eta_1',\n",
    "                'market_network_5_eta_1',\n",
    "                'market_network_2_eta_2',\n",
    "                'market_network_3_eta_2',\n",
    "                'market_network_5_eta_2',\n",
    "                'market_network_2_eta_3',\n",
    "                'market_network_3_eta_3',\n",
    "                'market_network_5_eta_3',\n",
    "                'market_network_2_cr_ratio',\n",
    "                'market_network_3_cr_ratio',\n",
    "                'market_network_5_cr_ratio',\n",
    "                'market_network_2_eta_1_cr_ratio',\n",
    "                'market_network_3_eta_1_cr_ratio',\n",
    "                'market_network_5_eta_1_cr_ratio',\n",
    "                'market_network_2_eta_2_cr_ratio',\n",
    "                'market_network_3_eta_2_cr_ratio',\n",
    "                'market_network_5_eta_2_cr_ratio',\n",
    "                'market_network_2_eta_3_cr_ratio',\n",
    "                'market_network_3_eta_3_cr_ratio',\n",
    "                'market_network_5_eta_3_cr_ratio',\n",
    "                'market_network_2_eta_1_gb_cr_ratio',\n",
    "                'market_network_3_eta_1_gb_cr_ratio',\n",
    "                'market_network_5_eta_1_gb_cr_ratio',\n",
    "                'market_network_2_eta_2_gb_cr_ratio',\n",
    "                'market_network_3_eta_2_gb_cr_ratio',\n",
    "                'market_network_5_eta_2_gb_cr_ratio',\n",
    "                'market_network_2_eta_3_gb_cr_ratio',\n",
    "                'market_network_3_eta_3_gb_cr_ratio',\n",
    "                'market_network_5_eta_3_gb_cr_ratio'\n",
    "              ]\n",
    "          ]"
   ]
  },
  {
   "cell_type": "code",
   "execution_count": 6,
   "metadata": {},
   "outputs": [],
   "source": [
    "# Scale y\n",
    "y = y / 10"
   ]
  },
  {
   "cell_type": "code",
   "execution_count": 7,
   "metadata": {},
   "outputs": [],
   "source": [
    "X_train, X_test, y_train, y_test = train_test_split(X, y, test_size=0.2, random_state=96)"
   ]
  },
  {
   "cell_type": "code",
   "execution_count": 8,
   "metadata": {},
   "outputs": [
    {
     "data": {
      "text/plain": [
       "Lasso(alpha=0.001, copy_X=True, fit_intercept=True, max_iter=1000,\n",
       "   normalize=False, positive=False, precompute=False, random_state=9,\n",
       "   selection='cyclic', tol=0.0001, warm_start=False)"
      ]
     },
     "execution_count": 8,
     "metadata": {},
     "output_type": "execute_result"
    }
   ],
   "source": [
    "lasso = Lasso(random_state=9)\n",
    "lasso.set_params(alpha=0.001)\n",
    "lasso.fit(X_train, y_train)"
   ]
  },
  {
   "cell_type": "code",
   "execution_count": 9,
   "metadata": {},
   "outputs": [
    {
     "data": {
      "text/plain": [
       "1.9670904666113906"
      ]
     },
     "execution_count": 9,
     "metadata": {},
     "output_type": "execute_result"
    }
   ],
   "source": [
    "lasso.intercept_"
   ]
  },
  {
   "cell_type": "code",
   "execution_count": 10,
   "metadata": {},
   "outputs": [
    {
     "data": {
      "text/plain": [
       "array([ 0.6609811 , -0.35794727, -2.12874354, -0.        , -0.        ,\n",
       "       -0.        ,  0.        ,  0.07515281, -0.        , -0.        ,\n",
       "        0.        , -0.        ,  0.        ,  0.        ,  0.        ,\n",
       "        0.        ,  0.        , -0.        , -0.        , -0.        ,\n",
       "        0.        ,  0.        ,  0.        ,  0.        ,  0.        ,\n",
       "        0.        ,  0.        ,  0.        ,  0.        ,  0.4102098 ,\n",
       "        0.        , -0.        ,  0.        , -0.        , -0.07212319,\n",
       "        0.        , -0.        , -0.        ])"
      ]
     },
     "execution_count": 10,
     "metadata": {},
     "output_type": "execute_result"
    }
   ],
   "source": [
    "lasso.coef_"
   ]
  },
  {
   "cell_type": "code",
   "execution_count": 11,
   "metadata": {},
   "outputs": [
    {
     "data": {
      "text/plain": [
       "market_driver_cancel_prob             0.660981\n",
       "market_surge_mul                     -0.357947\n",
       "market_eta_one                       -2.128744\n",
       "market_eta_square                    -0.000000\n",
       "market_eta_cube                      -0.000000\n",
       "market_eta_one_cr_ratio              -0.000000\n",
       "market_eta_square_cr_ratio            0.000000\n",
       "market_eta_cube_cr_ratio              0.075153\n",
       "market_network_2_eta_1               -0.000000\n",
       "market_network_3_eta_1               -0.000000\n",
       "market_network_5_eta_1                0.000000\n",
       "market_network_2_eta_2               -0.000000\n",
       "market_network_3_eta_2                0.000000\n",
       "market_network_5_eta_2                0.000000\n",
       "market_network_2_eta_3                0.000000\n",
       "market_network_3_eta_3                0.000000\n",
       "market_network_5_eta_3                0.000000\n",
       "market_network_2_cr_ratio            -0.000000\n",
       "market_network_3_cr_ratio            -0.000000\n",
       "market_network_5_cr_ratio            -0.000000\n",
       "market_network_2_eta_1_cr_ratio       0.000000\n",
       "market_network_3_eta_1_cr_ratio       0.000000\n",
       "market_network_5_eta_1_cr_ratio       0.000000\n",
       "market_network_2_eta_2_cr_ratio       0.000000\n",
       "market_network_3_eta_2_cr_ratio       0.000000\n",
       "market_network_5_eta_2_cr_ratio       0.000000\n",
       "market_network_2_eta_3_cr_ratio       0.000000\n",
       "market_network_3_eta_3_cr_ratio       0.000000\n",
       "market_network_5_eta_3_cr_ratio       0.000000\n",
       "market_network_2_eta_1_gb_cr_ratio    0.410210\n",
       "market_network_3_eta_1_gb_cr_ratio    0.000000\n",
       "market_network_5_eta_1_gb_cr_ratio   -0.000000\n",
       "market_network_2_eta_2_gb_cr_ratio    0.000000\n",
       "market_network_3_eta_2_gb_cr_ratio   -0.000000\n",
       "market_network_5_eta_2_gb_cr_ratio   -0.072123\n",
       "market_network_2_eta_3_gb_cr_ratio    0.000000\n",
       "market_network_3_eta_3_gb_cr_ratio   -0.000000\n",
       "market_network_5_eta_3_gb_cr_ratio   -0.000000\n",
       "dtype: float64"
      ]
     },
     "execution_count": 11,
     "metadata": {},
     "output_type": "execute_result"
    }
   ],
   "source": [
    "pd.Series(lasso.coef_, index = X_train.columns )"
   ]
  },
  {
   "cell_type": "code",
   "execution_count": 12,
   "metadata": {},
   "outputs": [],
   "source": [
    "y = df['hour_gb']\n",
    "X = df.loc[:, ['market_driver_cancel_prob',\n",
    "                'market_surge_mul',\n",
    "                'market_eta_one',\n",
    "                'market_eta_cube_cr_ratio',\n",
    "                'market_network_2_eta_1_gb_cr_ratio',\n",
    "                'market_network_5_eta_2_gb_cr_ratio'\n",
    "              ]\n",
    "          ]"
   ]
  },
  {
   "cell_type": "code",
   "execution_count": 13,
   "metadata": {},
   "outputs": [],
   "source": [
    "# Scale y\n",
    "y = y / 10\n",
    "\n",
    "# Add intercept to X\n",
    "X['intercept'] = [1 for _ in range(len(X.index))]"
   ]
  },
  {
   "cell_type": "code",
   "execution_count": 14,
   "metadata": {},
   "outputs": [],
   "source": [
    "X_train, X_test, y_train, y_test = train_test_split(X, y, test_size=0.2, random_state=96)"
   ]
  },
  {
   "cell_type": "code",
   "execution_count": 15,
   "metadata": {},
   "outputs": [],
   "source": [
    "# Model Training\n",
    "model = sm.OLS(y_train, X_train)"
   ]
  },
  {
   "cell_type": "code",
   "execution_count": 16,
   "metadata": {},
   "outputs": [
    {
     "name": "stdout",
     "output_type": "stream",
     "text": [
      "                            OLS Regression Results                            \n",
      "==============================================================================\n",
      "Dep. Variable:                hour_gb   R-squared:                       0.771\n",
      "Model:                            OLS   Adj. R-squared:                  0.771\n",
      "Method:                 Least Squares   F-statistic:                     5248.\n",
      "Date:                Thu, 11 Aug 2022   Prob (F-statistic):               0.00\n",
      "Time:                        03:43:45   Log-Likelihood:                -1110.0\n",
      "No. Observations:                9343   AIC:                             2234.\n",
      "Df Residuals:                    9336   BIC:                             2284.\n",
      "Df Model:                           6                                         \n",
      "Covariance Type:            nonrobust                                         \n",
      "======================================================================================================\n",
      "                                         coef    std err          t      P>|t|      [0.025      0.975]\n",
      "------------------------------------------------------------------------------------------------------\n",
      "market_driver_cancel_prob              1.9025      0.054     35.401      0.000       1.797       2.008\n",
      "market_surge_mul                      -0.2983      0.022    -13.283      0.000      -0.342      -0.254\n",
      "market_eta_one                        -3.2911      0.059    -55.827      0.000      -3.407      -3.176\n",
      "market_eta_cube_cr_ratio               2.2184      0.089     25.050      0.000       2.045       2.392\n",
      "market_network_2_eta_1_gb_cr_ratio     0.6261      0.023     27.623      0.000       0.582       0.671\n",
      "market_network_5_eta_2_gb_cr_ratio    -0.3300      0.026    -12.471      0.000      -0.382      -0.278\n",
      "intercept                              1.6189      0.053     30.608      0.000       1.515       1.723\n",
      "==============================================================================\n",
      "Omnibus:                     2241.659   Durbin-Watson:                   2.009\n",
      "Prob(Omnibus):                  0.000   Jarque-Bera (JB):            67859.739\n",
      "Skew:                           0.502   Prob(JB):                         0.00\n",
      "Kurtosis:                      16.165   Cond. No.                         104.\n",
      "==============================================================================\n",
      "\n",
      "Notes:\n",
      "[1] Standard Errors assume that the covariance matrix of the errors is correctly specified.\n"
     ]
    }
   ],
   "source": [
    "trained_model = model.fit()\n",
    "print(trained_model.summary())"
   ]
  },
  {
   "cell_type": "code",
   "execution_count": 17,
   "metadata": {},
   "outputs": [
    {
     "data": {
      "text/plain": [
       "0.2724955329364531"
      ]
     },
     "execution_count": 17,
     "metadata": {},
     "output_type": "execute_result"
    }
   ],
   "source": [
    "# Train RMSE\n",
    "y_train_pred = trained_model.predict(X_train)\n",
    "train_rmse = np.sqrt(np.mean((y_train - y_train_pred)**2))\n",
    "train_rmse"
   ]
  },
  {
   "cell_type": "code",
   "execution_count": 18,
   "metadata": {},
   "outputs": [
    {
     "data": {
      "text/plain": [
       "0.2829222869794015"
      ]
     },
     "execution_count": 18,
     "metadata": {},
     "output_type": "execute_result"
    }
   ],
   "source": [
    "# Test RMSE\n",
    "y_test_pred = trained_model.predict(X_test)\n",
    "test_rmse = np.sqrt(np.mean((y_test - y_test_pred)**2))\n",
    "test_rmse"
   ]
  },
  {
   "cell_type": "code",
   "execution_count": 19,
   "metadata": {},
   "outputs": [
    {
     "data": {
      "image/png": "[encoded data removed]",
      "text/plain": [
       "<Figure size 432x288 with 2 Axes>"
      ]
     },
     "metadata": {
      "needs_background": "light"
     },
     "output_type": "display_data"
    }
   ],
   "source": [
    "# Visualizing a Pandas Correlation Matrix\n",
    "corr_matrix = X.loc[:, X.columns != 'intercept'].corr().round(2)\n",
    "sns.heatmap(corr_matrix, annot=True, vmax=1, vmin=-1, center=0, cmap='vlag')\n",
    "plt.show()"
   ]
  }
 ],
 "metadata": {
  "kernelspec": {
   "display_name": "Python 3.7 (General DS)",
   "language": "python",
   "name": "python37"
  },
  "language_info": {
   "codemirror_mode": {
    "name": "ipython",
    "version": 3
   },
   "file_extension": ".py",
   "mimetype": "text/x-python",
   "name": "python",
   "nbconvert_exporter": "python",
   "pygments_lexer": "ipython3",
   "version": "3.7.12"
  }
 },
 "nbformat": 4,
 "nbformat_minor": 2
}
